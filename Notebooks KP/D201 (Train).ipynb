{
 "cells": [
  {
   "cell_type": "markdown",
   "id": "3c1685b5",
   "metadata": {
    "id": "1NF27HFLxZMK",
    "papermill": {
     "duration": 0.013181,
     "end_time": "2021-10-11T05:47:59.993570",
     "exception": false,
     "start_time": "2021-10-11T05:47:59.980389",
     "status": "completed"
    },
    "tags": []
   },
   "source": [
    "## Library Imports"
   ]
  },
  {
   "cell_type": "code",
   "execution_count": 1,
   "id": "8a5a5409",
   "metadata": {
    "execution": {
     "iopub.execute_input": "2021-10-11T05:48:00.022444Z",
     "iopub.status.busy": "2021-10-11T05:48:00.020937Z",
     "iopub.status.idle": "2021-10-11T05:48:00.100750Z",
     "shell.execute_reply": "2021-10-11T05:48:00.100183Z",
     "shell.execute_reply.started": "2021-10-10T00:36:53.882543Z"
    },
    "id": "ZaibE8jTxTRV",
    "papermill": {
     "duration": 0.095421,
     "end_time": "2021-10-11T05:48:00.100888",
     "exception": false,
     "start_time": "2021-10-11T05:48:00.005467",
     "status": "completed"
    },
    "tags": []
   },
   "outputs": [],
   "source": [
    "from time import time\n",
    "notebook_start_time = time()"
   ]
  },
  {
   "cell_type": "code",
   "execution_count": 2,
   "id": "98b2ab54",
   "metadata": {
    "execution": {
     "iopub.execute_input": "2021-10-11T05:48:00.129416Z",
     "iopub.status.busy": "2021-10-11T05:48:00.128725Z",
     "iopub.status.idle": "2021-10-11T05:48:05.405787Z",
     "shell.execute_reply": "2021-10-11T05:48:05.405323Z",
     "shell.execute_reply.started": "2021-10-10T00:36:53.975382Z"
    },
    "id": "tCefPeQFxwtS",
    "papermill": {
     "duration": 5.293501,
     "end_time": "2021-10-11T05:48:05.405910",
     "exception": false,
     "start_time": "2021-10-11T05:48:00.112409",
     "status": "completed"
    },
    "tags": []
   },
   "outputs": [],
   "source": [
    "import os\n",
    "import re\n",
    "import pickle\n",
    "import numpy as np\n",
    "import pandas as pd\n",
    "import matplotlib.pyplot as plt\n",
    "\n",
    "import torch\n",
    "from torch import nn, optim\n",
    "from torch.utils.data import Dataset\n",
    "from torch.utils.data import DataLoader as DL\n",
    "from torch.nn.utils import weight_norm as WN\n",
    "from torchvision import models, transforms\n",
    "\n",
    "from sklearn.model_selection import KFold\n",
    "from sklearn.metrics import mean_squared_error\n",
    "from sklearn.preprocessing import StandardScaler"
   ]
  },
  {
   "cell_type": "markdown",
   "id": "3869bba0",
   "metadata": {
    "id": "iWlt7AdSxxWm",
    "papermill": {
     "duration": 0.012397,
     "end_time": "2021-10-11T05:48:05.430398",
     "exception": false,
     "start_time": "2021-10-11T05:48:05.418001",
     "status": "completed"
    },
    "tags": []
   },
   "source": [
    "## Constants and Utilities"
   ]
  },
  {
   "cell_type": "code",
   "execution_count": 3,
   "id": "da96be75",
   "metadata": {
    "execution": {
     "iopub.execute_input": "2021-10-11T05:48:05.498804Z",
     "iopub.status.busy": "2021-10-11T05:48:05.498209Z",
     "iopub.status.idle": "2021-10-11T05:48:05.501139Z",
     "shell.execute_reply": "2021-10-11T05:48:05.500716Z",
     "shell.execute_reply.started": "2021-10-10T00:36:59.151714Z"
    },
    "id": "ZpMGLKhKx0EX",
    "papermill": {
     "duration": 0.059312,
     "end_time": "2021-10-11T05:48:05.501252",
     "exception": false,
     "start_time": "2021-10-11T05:48:05.441940",
     "status": "completed"
    },
    "tags": []
   },
   "outputs": [],
   "source": [
    "SEED = 49\n",
    "DEVICE = torch.device(\"cuda\" if torch.cuda.is_available() else \"cpu\")\n",
    "DATA_PATH = \"../input/petfinder-pawpularity-score\"\n",
    "FEATURE_PATH = \"../input/petfinder-pf-cc-ua-all-dataset\"\n",
    "MODEL_NAME = \"densenet201\"\n",
    "verbose = False\n",
    "\n",
    "sc_y = StandardScaler()"
   ]
  },
  {
   "cell_type": "code",
   "execution_count": 4,
   "id": "2c09d1a4",
   "metadata": {
    "execution": {
     "iopub.execute_input": "2021-10-11T05:48:05.534166Z",
     "iopub.status.busy": "2021-10-11T05:48:05.532639Z",
     "iopub.status.idle": "2021-10-11T05:48:05.534789Z",
     "shell.execute_reply": "2021-10-11T05:48:05.535194Z",
     "shell.execute_reply.started": "2021-10-10T00:36:59.198655Z"
    },
    "id": "yIR_gIEPyZrc",
    "papermill": {
     "duration": 0.022541,
     "end_time": "2021-10-11T05:48:05.535310",
     "exception": false,
     "start_time": "2021-10-11T05:48:05.512769",
     "status": "completed"
    },
    "tags": []
   },
   "outputs": [],
   "source": [
    "def breaker(num=50, char=\"*\") -> None:\n",
    "    print(\"\\n\" + num*char + \"\\n\")\n",
    "\n",
    "\n",
    "def get_targets(path: str) -> np.ndarray:\n",
    "    df = pd.read_csv(os.path.join(path, \"train.csv\"), engine=\"python\")\n",
    "    targets = df[\"Pawpularity\"].copy().values\n",
    "    return targets.reshape(-1, 1)\n",
    "\n",
    "\n",
    "def show_graphs(L: list, title=None) -> None:\n",
    "    TL, VL = [], []\n",
    "    for i in range(len(L)):\n",
    "        TL.append(L[i][\"train\"])\n",
    "        VL.append(L[i][\"valid\"])\n",
    "    x_Axis = np.arange(1, len(L) + 1)\n",
    "    plt.figure()\n",
    "    plt.plot(x_Axis, TL, \"r\", label=\"train\")\n",
    "    plt.plot(x_Axis, VL, \"b\", label=\"valid\")\n",
    "    plt.grid()\n",
    "    plt.legend()\n",
    "    if title:\n",
    "        plt.title(\"{} Loss\".format(title))\n",
    "    else:\n",
    "        plt.title(\"Loss\")\n",
    "    plt.show()"
   ]
  },
  {
   "cell_type": "markdown",
   "id": "6be88c7c",
   "metadata": {
    "id": "7y0fd6rWy9C7",
    "papermill": {
     "duration": 0.01103,
     "end_time": "2021-10-11T05:48:05.557641",
     "exception": false,
     "start_time": "2021-10-11T05:48:05.546611",
     "status": "completed"
    },
    "tags": []
   },
   "source": [
    "## Dataset Template and Build Dataloader"
   ]
  },
  {
   "cell_type": "code",
   "execution_count": 5,
   "id": "4e6dac5e",
   "metadata": {
    "execution": {
     "iopub.execute_input": "2021-10-11T05:48:05.588295Z",
     "iopub.status.busy": "2021-10-11T05:48:05.587513Z",
     "iopub.status.idle": "2021-10-11T05:48:05.590046Z",
     "shell.execute_reply": "2021-10-11T05:48:05.589579Z",
     "shell.execute_reply.started": "2021-10-10T00:36:59.211621Z"
    },
    "id": "TtCaj5UAy7ar",
    "papermill": {
     "duration": 0.021306,
     "end_time": "2021-10-11T05:48:05.590180",
     "exception": false,
     "start_time": "2021-10-11T05:48:05.568874",
     "status": "completed"
    },
    "tags": []
   },
   "outputs": [],
   "source": [
    "class DS(Dataset):\n",
    "    def __init__(self, features=None, targets=None):\n",
    "        self.features = features\n",
    "        self.targets  = targets\n",
    "        \n",
    "    def __len__(self):\n",
    "        return self.features.shape[0]\n",
    "    \n",
    "    def __getitem__(self, idx):\n",
    "        return torch.FloatTensor(self.features[idx]), torch.FloatTensor(self.targets[idx])\n",
    "    \n",
    "\n",
    "def build_dataloaders(tr_features: np.ndarray, va_features: np.ndarray,\n",
    "                      tr_targets: np.ndarray, va_targets: np.ndarray,\n",
    "                      batch_size: int, seed: int):\n",
    "\n",
    "    if verbose:\n",
    "        breaker()\n",
    "        print(\"Building Train and Validation DataLoaders ...\")\n",
    "    \n",
    "    tr_data_setup = DS(features=tr_features, targets=tr_targets)\n",
    "    va_data_setup = DS(features=va_features, targets=va_targets)\n",
    "    \n",
    "    dataloaders = {\n",
    "        \"train\" : DL(tr_data_setup, batch_size=batch_size, shuffle=True, generator=torch.manual_seed(seed)),\n",
    "        \"valid\" : DL(va_data_setup, batch_size=batch_size, shuffle=False)\n",
    "    }\n",
    "    \n",
    "    return dataloaders"
   ]
  },
  {
   "cell_type": "markdown",
   "id": "695388b5",
   "metadata": {
    "id": "8wmsPRi6zjyn",
    "papermill": {
     "duration": 0.011063,
     "end_time": "2021-10-11T05:48:05.614124",
     "exception": false,
     "start_time": "2021-10-11T05:48:05.603061",
     "status": "completed"
    },
    "tags": []
   },
   "source": [
    "## Build Model"
   ]
  },
  {
   "cell_type": "code",
   "execution_count": 6,
   "id": "69f5734e",
   "metadata": {
    "execution": {
     "iopub.execute_input": "2021-10-11T05:48:05.647229Z",
     "iopub.status.busy": "2021-10-11T05:48:05.646460Z",
     "iopub.status.idle": "2021-10-11T05:48:05.648446Z",
     "shell.execute_reply": "2021-10-11T05:48:05.648823Z",
     "shell.execute_reply.started": "2021-10-10T00:36:59.222289Z"
    },
    "id": "2GYZ4teczjIm",
    "papermill": {
     "duration": 0.022919,
     "end_time": "2021-10-11T05:48:05.648938",
     "exception": false,
     "start_time": "2021-10-11T05:48:05.626019",
     "status": "completed"
    },
    "tags": []
   },
   "outputs": [],
   "source": [
    "def build_model(IL: int, seed: int):\n",
    "    class ANN(nn.Module):\n",
    "        def __init__(self, IL=None):\n",
    "            super(ANN, self).__init__()\n",
    "\n",
    "            self.predictor = nn.Sequential()\n",
    "            self.predictor.add_module(\"BN\", nn.BatchNorm1d(num_features=IL, eps=1e-5))\n",
    "            self.predictor.add_module(\"FC\", WN(nn.Linear(in_features=IL, out_features=1)))\n",
    "\n",
    "        def get_optimizer(self, lr=1e-3, wd=0):\n",
    "            params = [p for p in self.parameters() if p.requires_grad]\n",
    "            return optim.Adam(params, lr=lr, weight_decay=wd)\n",
    "\n",
    "        def get_plateau_scheduler(self, optimizer=None, patience=5, eps=1e-8):\n",
    "            return optim.lr_scheduler.ReduceLROnPlateau(optimizer=optimizer, patience=patience, eps=eps, verbose=True)\n",
    "\n",
    "        def forward(self, x1, x2=None):\n",
    "            if x2 is not None:\n",
    "                return self.predictor(x1), self.predictor(x2)\n",
    "            else:\n",
    "                return self.predictor(x1)\n",
    "    \n",
    "    if verbose:\n",
    "        breaker()\n",
    "        print(\"Building Model ...\")\n",
    "        print(\"\\n{} -> 1\".format(IL))\n",
    "    \n",
    "    torch.manual_seed(seed)\n",
    "    model = ANN(IL=IL)\n",
    "    \n",
    "    return model"
   ]
  },
  {
   "cell_type": "markdown",
   "id": "75700324",
   "metadata": {
    "id": "uuMvELK2zqh0",
    "papermill": {
     "duration": 0.011107,
     "end_time": "2021-10-11T05:48:05.671266",
     "exception": false,
     "start_time": "2021-10-11T05:48:05.660159",
     "status": "completed"
    },
    "tags": []
   },
   "source": [
    "## Fit and Predict Helpers"
   ]
  },
  {
   "cell_type": "code",
   "execution_count": 7,
   "id": "b40b0f46",
   "metadata": {
    "execution": {
     "iopub.execute_input": "2021-10-11T05:48:05.696802Z",
     "iopub.status.busy": "2021-10-11T05:48:05.695957Z",
     "iopub.status.idle": "2021-10-11T05:48:05.716500Z",
     "shell.execute_reply": "2021-10-11T05:48:05.716984Z",
     "shell.execute_reply.started": "2021-10-10T00:39:12.24978Z"
    },
    "id": "8DQ9EUrIzpmn",
    "papermill": {
     "duration": 0.034501,
     "end_time": "2021-10-11T05:48:05.717110",
     "exception": false,
     "start_time": "2021-10-11T05:48:05.682609",
     "status": "completed"
    },
    "tags": []
   },
   "outputs": [],
   "source": [
    "def fit(model=None, optimizer=None, scheduler=None, \n",
    "        epochs=None, early_stopping_patience=None,\n",
    "        dataloaders=None, fold=None, verbose=False) -> tuple:\n",
    "    \n",
    "    name = \"./Fold_{}_state.pt\".format(fold)\n",
    "    \n",
    "    if verbose:\n",
    "        breaker()\n",
    "        print(\"Training Fold {}...\".format(fold))\n",
    "        breaker()\n",
    "    else:\n",
    "        print(\"Training Fold {}...\".format(fold))\n",
    "\n",
    "    Losses = []\n",
    "    bestLoss = {\"train\" : np.inf, \"valid\" : np.inf}\n",
    "\n",
    "    start_time = time()\n",
    "    for e in range(epochs):\n",
    "        e_st = time()\n",
    "        epochLoss = {\"train\" : np.inf, \"valid\" : np.inf}\n",
    "\n",
    "        for phase in [\"train\", \"valid\"]:\n",
    "            if phase == \"train\":\n",
    "                model.train()\n",
    "            else:\n",
    "                model.eval()\n",
    "            \n",
    "            lossPerPass = []\n",
    "\n",
    "            for X, y in dataloaders[phase]:\n",
    "                X, y = X.to(DEVICE), y.to(DEVICE)\n",
    "\n",
    "                optimizer.zero_grad()\n",
    "                with torch.set_grad_enabled(phase == \"train\"):\n",
    "                    output = model(X)\n",
    "                    loss = torch.nn.MSELoss()(output, y)\n",
    "                    if phase == \"train\":\n",
    "                        loss.backward()\n",
    "                        optimizer.step()\n",
    "                lossPerPass.append(loss.item())\n",
    "            epochLoss[phase] = np.mean(np.array(lossPerPass))\n",
    "        Losses.append(epochLoss)\n",
    "\n",
    "        if early_stopping_patience:\n",
    "            if epochLoss[\"valid\"] < bestLoss[\"valid\"]:\n",
    "                bestLoss = epochLoss\n",
    "                BLE = e + 1\n",
    "                torch.save({\"model_state_dict\": model.state_dict(),\n",
    "                            \"optim_state_dict\": optimizer.state_dict()},\n",
    "                           name)\n",
    "                early_stopping_step = 0\n",
    "            else:\n",
    "                early_stopping_step += 1\n",
    "                if early_stopping_step > early_stopping_patience:\n",
    "                    if verbose:\n",
    "                        print(\"\\nEarly Stopping at Epoch {}\".format(e))\n",
    "                    break\n",
    "        \n",
    "        if epochLoss[\"valid\"] < bestLoss[\"valid\"]:\n",
    "            bestLoss = epochLoss\n",
    "            BLE = e + 1\n",
    "            torch.save({\"model_state_dict\": model.state_dict(),\n",
    "                        \"optim_state_dict\": optimizer.state_dict()},\n",
    "                       name)\n",
    "        \n",
    "        if scheduler:\n",
    "            scheduler.step(epochLoss[\"valid\"])\n",
    "        \n",
    "        if verbose:\n",
    "            print(\"Epoch: {} | Train Loss: {:.5f} | Valid Loss: {:.5f} | Time: {:.2f} seconds\".format(e+1, epochLoss[\"train\"], epochLoss[\"valid\"], time()-e_st))\n",
    "    \n",
    "    if verbose:\n",
    "        breaker()\n",
    "        print(\"Best Validation Loss at Epoch {}\".format(BLE))\n",
    "        breaker()\n",
    "        print(\"Time Taken [{} Epochs] : {:.2f} minutes\".format(len(Losses), (time()-start_time)/60))\n",
    "        breaker()\n",
    "        print(\"Training Completed\")\n",
    "        breaker()\n",
    "\n",
    "    return Losses, BLE, name\n",
    "\n",
    "#####################################################################################################\n",
    "\n",
    "def predict_batch(model=None, dataloader=None, mode=\"test\", path=None) -> np.ndarray:    \n",
    "    model.load_state_dict(torch.load(path, map_location=DEVICE)[\"model_state_dict\"])\n",
    "    model.to(DEVICE)\n",
    "    model.eval()\n",
    "\n",
    "    y_pred = torch.zeros(1, 1).to(DEVICE)\n",
    "    if re.match(r\"valid\", mode, re.IGNORECASE):\n",
    "        for X, _ in dataloader:\n",
    "            X = X.to(DEVICE)\n",
    "            with torch.no_grad():\n",
    "                output = model(X)\n",
    "            y_pred = torch.cat((y_pred, output.view(-1, 1)), dim=0)\n",
    "    elif re.match(r\"test\", mode, re.IGNORECASE):\n",
    "        for X in dataloader:\n",
    "            X = X.to(DEVICE)\n",
    "            with torch.no_grad():\n",
    "                output = model(X)\n",
    "            y_pred = torch.cat((y_pred, output.view(-1, 1)), dim=0)\n",
    "    \n",
    "    return y_pred[1:].detach().cpu().numpy()"
   ]
  },
  {
   "cell_type": "markdown",
   "id": "654ab823",
   "metadata": {
    "id": "YQP876MS0OrX",
    "papermill": {
     "duration": 0.011175,
     "end_time": "2021-10-11T05:48:05.739627",
     "exception": false,
     "start_time": "2021-10-11T05:48:05.728452",
     "status": "completed"
    },
    "tags": []
   },
   "source": [
    "## Train"
   ]
  },
  {
   "cell_type": "code",
   "execution_count": 8,
   "id": "dfdd39d1",
   "metadata": {
    "execution": {
     "iopub.execute_input": "2021-10-11T05:48:05.774417Z",
     "iopub.status.busy": "2021-10-11T05:48:05.773631Z",
     "iopub.status.idle": "2021-10-11T05:48:05.775945Z",
     "shell.execute_reply": "2021-10-11T05:48:05.775551Z",
     "shell.execute_reply.started": "2021-10-10T00:39:12.603424Z"
    },
    "id": "OrGICYXg0QEM",
    "papermill": {
     "duration": 0.025104,
     "end_time": "2021-10-11T05:48:05.776045",
     "exception": false,
     "start_time": "2021-10-11T05:48:05.750941",
     "status": "completed"
    },
    "tags": []
   },
   "outputs": [],
   "source": [
    "def train(features: np.ndarray, targets: np.ndarray,\n",
    "          n_splits: int, batch_size: int, lr: float, wd: float, \n",
    "          epochs: int, early_stopping: int, \n",
    "          patience=None, eps=None) -> list:        \n",
    "    \n",
    "    metrics = []\n",
    "        \n",
    "    KFold_start_time = time()\n",
    "    breaker()\n",
    "    print(\"Performing {} Fold CV ...\".format(n_splits))\n",
    "    breaker()\n",
    "    fold = 1\n",
    "    for tr_idx, va_idx in KFold(n_splits=n_splits, shuffle=True, random_state=SEED).split(features):\n",
    "\n",
    "        tr_features, va_features = features[tr_idx], features[va_idx]\n",
    "        tr_targets, va_targets   = targets[tr_idx], targets[va_idx]\n",
    "\n",
    "        tr_targets = sc_y.fit_transform(tr_targets)\n",
    "        va_targets = sc_y.transform(va_targets)\n",
    "\n",
    "        dataloaders = build_dataloaders(tr_features, va_features,\n",
    "                                        tr_targets, va_targets, \n",
    "                                        batch_size, SEED)\n",
    "        model = build_model(IL=tr_features.shape[1], seed=SEED).to(DEVICE)\n",
    "        optimizer = model.get_optimizer(lr=lr, wd=wd)\n",
    "        scheduler = None\n",
    "        if isinstance(patience, int) and isinstance(eps, float):\n",
    "            scheduler = model.get_plateau_scheduler(optimizer, patience, eps)\n",
    "\n",
    "        L, _, name = fit(model=model, optimizer=optimizer, scheduler=scheduler, \n",
    "                         epochs=epochs, early_stopping_patience=early_stopping,\n",
    "                         dataloaders=dataloaders, fold=fold, verbose=verbose)\n",
    "        y_pred = predict_batch(model=model, dataloader=dataloaders[\"valid\"], mode=\"valid\", path=name)\n",
    "        RMSE = np.sqrt(mean_squared_error(sc_y.inverse_transform(y_pred), sc_y.inverse_transform(va_targets)))\n",
    "        if verbose:\n",
    "            print(\"\\nValidation RMSE [Fold {}]: {:.5f}\".format(fold, RMSE))\n",
    "            breaker()\n",
    "            show_graphs(L)\n",
    "        \n",
    "        metrics_dict = {\"Fold\" : fold, \"RMSE\" : RMSE}\n",
    "        metrics.append(metrics_dict)\n",
    "        \n",
    "        fold += 1\n",
    "    \n",
    "    breaker()\n",
    "    print(\"Total Time to {} Fold CV : {:.2f} minutes\".format(n_splits, (time() - KFold_start_time)/60))\n",
    "    \n",
    "    return metrics, (time() - KFold_start_time)/60"
   ]
  },
  {
   "cell_type": "markdown",
   "id": "d117e772",
   "metadata": {
    "id": "UGUqaAzy1C33",
    "papermill": {
     "duration": 0.011648,
     "end_time": "2021-10-11T05:48:05.798946",
     "exception": false,
     "start_time": "2021-10-11T05:48:05.787298",
     "status": "completed"
    },
    "tags": []
   },
   "source": [
    "## Main"
   ]
  },
  {
   "cell_type": "code",
   "execution_count": 9,
   "id": "cb3a275e",
   "metadata": {
    "execution": {
     "iopub.execute_input": "2021-10-11T05:48:05.831383Z",
     "iopub.status.busy": "2021-10-11T05:48:05.828738Z",
     "iopub.status.idle": "2021-10-11T05:48:05.833678Z",
     "shell.execute_reply": "2021-10-11T05:48:05.833269Z",
     "shell.execute_reply.started": "2021-10-10T00:39:37.195926Z"
    },
    "id": "_0yK3IwR1CEs",
    "papermill": {
     "duration": 0.023509,
     "end_time": "2021-10-11T05:48:05.833784",
     "exception": false,
     "start_time": "2021-10-11T05:48:05.810275",
     "status": "completed"
    },
    "tags": []
   },
   "outputs": [],
   "source": [
    "def main():\n",
    "    DEBUG = False\n",
    "    \n",
    "    ########### Params ###########\n",
    "    \n",
    "    if DEBUG:\n",
    "        n_splits = 3\n",
    "        patience, eps = 5, 1e-8\n",
    "        epochs, early_stopping = 5, 5\n",
    "        batch_size = 32\n",
    "        lr = 5e-4\n",
    "        wd = 1e-1\n",
    "    else:\n",
    "        n_splits = 10\n",
    "        patience, eps = 5, 1e-8\n",
    "        epochs, early_stopping = 100, 8\n",
    "        batch_size = 32\n",
    "        lr = 5e-4\n",
    "        wd = 1e-1\n",
    "    \n",
    "    ##############################\n",
    "\n",
    "    if verbose:\n",
    "        breaker()\n",
    "        print(\"Loading Data ...\")\n",
    "    \n",
    "    features = np.load(os.path.join(FEATURE_PATH, \"{}_features.npy\".format(MODEL_NAME)))\n",
    "    targets  = get_targets(DATA_PATH)\n",
    "\n",
    "    # Without Scheduler\n",
    "    metrics, time_taken = train(features, targets, n_splits, batch_size, lr, wd, epochs, early_stopping, patience=None, eps=None)\n",
    "\n",
    "    # # With Plateau Scheduler\n",
    "    # metrics = train(features, targets, n_splits, batch_size, lr, wd, epochs, early_stopping, patience=patience, eps=eps)\n",
    "\n",
    "    if verbose:\n",
    "        breaker()\n",
    "        for i in range(len(metrics)):\n",
    "            print(metrics[i])\n",
    "        breaker()\n",
    "    \n",
    "    rmse = []\n",
    "    for i in range(len(metrics)):\n",
    "        rmse.append(metrics[i][\"RMSE\"])\n",
    "    \n",
    "    best_index = rmse.index(min(rmse))\n",
    "    \n",
    "    breaker()\n",
    "    print(\"Best CV : {:.5f} at Fold {}\".format(metrics[best_index][\"RMSE\"], metrics[best_index][\"Fold\"]))\n",
    "    print(\"Avg CV  : {:.5f}\".format(sum(rmse) / len(rmse)))\n",
    "    breaker()\n",
    "\n",
    "    with open(\"metrics.pkl\", \"wb\") as fp:\n",
    "        pickle.dump(metrics, fp)"
   ]
  },
  {
   "cell_type": "code",
   "execution_count": 10,
   "id": "c5e8b6a0",
   "metadata": {
    "execution": {
     "iopub.execute_input": "2021-10-11T05:48:05.859597Z",
     "iopub.status.busy": "2021-10-11T05:48:05.859111Z",
     "iopub.status.idle": "2021-10-11T05:49:55.549664Z",
     "shell.execute_reply": "2021-10-11T05:49:55.550167Z",
     "shell.execute_reply.started": "2021-10-10T00:39:37.932661Z"
    },
    "id": "9Vf0T4VN2Z1Q",
    "outputId": "d8f15d91-6afc-482a-e8c4-ccba8ab2f221",
    "papermill": {
     "duration": 109.705247,
     "end_time": "2021-10-11T05:49:55.550332",
     "exception": false,
     "start_time": "2021-10-11T05:48:05.845085",
     "status": "completed"
    },
    "tags": []
   },
   "outputs": [
    {
     "name": "stdout",
     "output_type": "stream",
     "text": [
      "\n",
      "**************************************************\n",
      "\n",
      "Performing 10 Fold CV ...\n",
      "\n",
      "**************************************************\n",
      "\n",
      "Training Fold 1...\n",
      "Training Fold 2...\n",
      "Training Fold 3...\n",
      "Training Fold 4...\n",
      "Training Fold 5...\n",
      "Training Fold 6...\n",
      "Training Fold 7...\n",
      "Training Fold 8...\n",
      "Training Fold 9...\n",
      "Training Fold 10...\n",
      "\n",
      "**************************************************\n",
      "\n",
      "Total Time to 10 Fold CV : 1.78 minutes\n",
      "\n",
      "**************************************************\n",
      "\n",
      "Best CV : 16.73394 at Fold 8\n",
      "Avg CV  : 18.32681\n",
      "\n",
      "**************************************************\n",
      "\n"
     ]
    }
   ],
   "source": [
    "main()"
   ]
  },
  {
   "cell_type": "code",
   "execution_count": 11,
   "id": "19ce0c0c",
   "metadata": {
    "execution": {
     "iopub.execute_input": "2021-10-11T05:49:55.584644Z",
     "iopub.status.busy": "2021-10-11T05:49:55.583946Z",
     "iopub.status.idle": "2021-10-11T05:49:55.586720Z",
     "shell.execute_reply": "2021-10-11T05:49:55.587162Z",
     "shell.execute_reply.started": "2021-10-10T00:38:37.68453Z"
    },
    "id": "YmNqGwy98SyF",
    "papermill": {
     "duration": 0.021804,
     "end_time": "2021-10-11T05:49:55.587287",
     "exception": false,
     "start_time": "2021-10-11T05:49:55.565483",
     "status": "completed"
    },
    "tags": []
   },
   "outputs": [
    {
     "name": "stdout",
     "output_type": "stream",
     "text": [
      "\n",
      "**************************************************\n",
      "\n",
      "Notebook Rumtime : 1.92 minutes\n",
      "\n",
      "**************************************************\n",
      "\n"
     ]
    }
   ],
   "source": [
    "breaker()\n",
    "print(\"Notebook Rumtime : {:.2f} minutes\".format((time() - notebook_start_time)/60))\n",
    "breaker()"
   ]
  }
 ],
 "metadata": {
  "kernelspec": {
   "display_name": "Python 3",
   "language": "python",
   "name": "python3"
  },
  "language_info": {
   "codemirror_mode": {
    "name": "ipython",
    "version": 3
   },
   "file_extension": ".py",
   "mimetype": "text/x-python",
   "name": "python",
   "nbconvert_exporter": "python",
   "pygments_lexer": "ipython3",
   "version": "3.7.10"
  },
  "papermill": {
   "default_parameters": {},
   "duration": 123.634309,
   "end_time": "2021-10-11T05:49:57.252921",
   "environment_variables": {},
   "exception": null,
   "input_path": "__notebook__.ipynb",
   "output_path": "__notebook__.ipynb",
   "parameters": {},
   "start_time": "2021-10-11T05:47:53.618612",
   "version": "2.3.3"
  }
 },
 "nbformat": 4,
 "nbformat_minor": 5
}
