{
 "cells": [
  {
   "cell_type": "markdown",
   "id": "54f71504",
   "metadata": {
    "_cell_guid": "b1076dfc-b9ad-4769-8c92-a6c4dae69d19",
    "_uuid": "8f2839f25d086af736a60e9eeb907d3b93b6e0e5",
    "papermill": {
     "duration": 0.012295,
     "end_time": "2021-10-10T01:12:48.244684",
     "exception": false,
     "start_time": "2021-10-10T01:12:48.232389",
     "status": "completed"
    },
    "tags": []
   },
   "source": [
    "## Library Imports"
   ]
  },
  {
   "cell_type": "code",
   "execution_count": null,
   "id": "9e3ce032",
   "metadata": {
    "execution": {
     "iopub.execute_input": "2021-10-10T01:12:48.273093Z",
     "iopub.status.busy": "2021-10-10T01:12:48.271460Z",
     "iopub.status.idle": "2021-10-10T01:12:48.355460Z",
     "shell.execute_reply": "2021-10-10T01:12:48.354896Z",
     "shell.execute_reply.started": "2021-10-10T01:10:35.299759Z"
    },
    "papermill": {
     "duration": 0.098536,
     "end_time": "2021-10-10T01:12:48.355639",
     "exception": false,
     "start_time": "2021-10-10T01:12:48.257103",
     "status": "completed"
    },
    "tags": []
   },
   "outputs": [],
   "source": [
    "from time import time\n",
    "notebook_start_time = time()"
   ]
  },
  {
   "cell_type": "code",
   "execution_count": null,
   "id": "3aed7434",
   "metadata": {
    "execution": {
     "iopub.execute_input": "2021-10-10T01:12:48.382481Z",
     "iopub.status.busy": "2021-10-10T01:12:48.381504Z",
     "iopub.status.idle": "2021-10-10T01:12:54.030308Z",
     "shell.execute_reply": "2021-10-10T01:12:54.029364Z",
     "shell.execute_reply.started": "2021-10-10T01:10:35.310378Z"
    },
    "papermill": {
     "duration": 5.664303,
     "end_time": "2021-10-10T01:12:54.030453",
     "exception": false,
     "start_time": "2021-10-10T01:12:48.366150",
     "status": "completed"
    },
    "tags": []
   },
   "outputs": [],
   "source": [
    "import os\n",
    "import re\n",
    "import cv2\n",
    "import numpy as np\n",
    "import pandas as pd\n",
    "import matplotlib.pyplot as plt\n",
    "\n",
    "import torch\n",
    "from torch import nn, optim\n",
    "from torch.utils.data import Dataset\n",
    "from torch.utils.data import DataLoader as DL\n",
    "from torch.nn.utils import weight_norm as WN\n",
    "from torchvision import models, transforms\n",
    "\n",
    "from sklearn.model_selection import KFold\n",
    "from sklearn.preprocessing import StandardScaler"
   ]
  },
  {
   "cell_type": "markdown",
   "id": "93da74f3",
   "metadata": {
    "papermill": {
     "duration": 0.009609,
     "end_time": "2021-10-10T01:12:54.050243",
     "exception": false,
     "start_time": "2021-10-10T01:12:54.040634",
     "status": "completed"
    },
    "tags": []
   },
   "source": [
    "## Constants and Utilities"
   ]
  },
  {
   "cell_type": "code",
   "execution_count": null,
   "id": "dfe2fe85",
   "metadata": {
    "execution": {
     "iopub.execute_input": "2021-10-10T01:12:54.116378Z",
     "iopub.status.busy": "2021-10-10T01:12:54.115831Z",
     "iopub.status.idle": "2021-10-10T01:12:54.126088Z",
     "shell.execute_reply": "2021-10-10T01:12:54.125674Z",
     "shell.execute_reply.started": "2021-10-10T01:11:38.349987Z"
    },
    "papermill": {
     "duration": 0.066165,
     "end_time": "2021-10-10T01:12:54.126220",
     "exception": false,
     "start_time": "2021-10-10T01:12:54.060055",
     "status": "completed"
    },
    "tags": []
   },
   "outputs": [],
   "source": [
    "SEED = 0\n",
    "DEVICE = torch.device(\"cuda\" if torch.cuda.is_available() else \"cpu\")\n",
    "PATH = \"../input/petfinder-pawpularity-score\"\n",
    "PRETRAINED_WEIGHTS_PATH = \"../input/pretrained-model-weights-all\"\n",
    "\n",
    "# Different Paths to ANN Models\n",
    "TRAINED_ANN_WEIGHTS_PATH = \"../input/petfinder-d169-train\"\n",
    "TRAINED_ANN_WEIGHTS_PATH = \"../input/petfinder-d169-train-bs32\"\n",
    "\n",
    "verbose = False\n",
    "\n",
    "MODEL_NAME = \"densenet169\"\n",
    "FEATURE_LENGTH = 1664\n",
    "NUM_FOLDS = len([name for name in os.listdir(TRAINED_ANN_WEIGHTS_PATH) if name[-2:] == \"pt\"])\n",
    "\n",
    "IMAGE_SIZE = 224\n",
    "TRANSFORM = transforms.Compose([transforms.ToTensor(), \n",
    "                                transforms.Normalize([0.485, 0.456, 0.406],\n",
    "                                                     [0.229, 0.224, 0.225]),\n",
    "                                ])\n",
    "\n",
    "sc_y = StandardScaler()"
   ]
  },
  {
   "cell_type": "code",
   "execution_count": null,
   "id": "34cd06bb",
   "metadata": {
    "execution": {
     "iopub.execute_input": "2021-10-10T01:12:54.157436Z",
     "iopub.status.busy": "2021-10-10T01:12:54.149299Z",
     "iopub.status.idle": "2021-10-10T01:12:54.159578Z",
     "shell.execute_reply": "2021-10-10T01:12:54.159174Z",
     "shell.execute_reply.started": "2021-10-10T01:11:38.475621Z"
    },
    "papermill": {
     "duration": 0.023074,
     "end_time": "2021-10-10T01:12:54.159693",
     "exception": false,
     "start_time": "2021-10-10T01:12:54.136619",
     "status": "completed"
    },
    "tags": []
   },
   "outputs": [],
   "source": [
    "def breaker(num=50, char=\"*\") -> None:\n",
    "    print(\"\\n\" + num*char + \"\\n\")\n",
    "\n",
    "\n",
    "def head(x, no_of_ele=5) -> None:\n",
    "    print(x[:no_of_ele])\n",
    "\n",
    "\n",
    "def get_filenames_and_targets(path: str) -> tuple:\n",
    "    df = pd.read_csv(os.path.join(path, \"train.csv\"), engine=\"python\")\n",
    "    filenames = df.iloc[:, 0].copy().values\n",
    "    targets  = df.iloc[:, -1].copy().values\n",
    "    return filenames, targets\n",
    "\n",
    "\n",
    "def get_filenames(path: str) -> np.ndarray:\n",
    "    df = pd.read_csv(os.path.join(path, \"test.csv\"), engine=\"python\")\n",
    "    filenames  = df[\"Id\"].copy().values\n",
    "    return filenames\n",
    "\n",
    "\n",
    "def get_image(path: str, name: str) -> np.ndarray:\n",
    "    image = cv2.imread(os.path.join(path, name + \".jpg\"), cv2.IMREAD_COLOR)\n",
    "    image = cv2.cvtColor(src=image, code=cv2.COLOR_BGR2RGB)\n",
    "    image = cv2.resize(src=image, dsize=(256, 256), interpolation=cv2.INTER_AREA)\n",
    "    h, w, _ = image.shape\n",
    "    cx, cy = w // 2, h // 2\n",
    "    image = image[cy - 112:cy + 112, cx - 112:cx + 112, :]\n",
    "    return image\n",
    "\n",
    "\n",
    "def make_submission(path: str, y_pred: np.ndarray) -> None:\n",
    "    submission = pd.read_csv(os.path.join(path, \"sample_submission.csv\"), engine=\"python\")\n",
    "    submission[\"Pawpularity\"] = y_pred\n",
    "    submission.to_csv(\"./submission.csv\", index=False)"
   ]
  },
  {
   "cell_type": "markdown",
   "id": "5259e016",
   "metadata": {
    "papermill": {
     "duration": 0.009536,
     "end_time": "2021-10-10T01:12:54.179036",
     "exception": false,
     "start_time": "2021-10-10T01:12:54.169500",
     "status": "completed"
    },
    "tags": []
   },
   "source": [
    "## Dataset Templates"
   ]
  },
  {
   "cell_type": "code",
   "execution_count": null,
   "id": "48e56c43",
   "metadata": {
    "execution": {
     "iopub.execute_input": "2021-10-10T01:12:54.205857Z",
     "iopub.status.busy": "2021-10-10T01:12:54.205066Z",
     "iopub.status.idle": "2021-10-10T01:12:54.207381Z",
     "shell.execute_reply": "2021-10-10T01:12:54.206994Z",
     "shell.execute_reply.started": "2021-10-10T01:11:38.761172Z"
    },
    "papermill": {
     "duration": 0.018594,
     "end_time": "2021-10-10T01:12:54.207480",
     "exception": false,
     "start_time": "2021-10-10T01:12:54.188886",
     "status": "completed"
    },
    "tags": []
   },
   "outputs": [],
   "source": [
    "class ImageDS(Dataset):\n",
    "    def __init__(self, base_path=None, filenames=None, transform=None):\n",
    "        self.base_path = base_path\n",
    "        self.filenames = filenames\n",
    "        self.transform = transform\n",
    "    \n",
    "    def __len__(self):\n",
    "        return self.filenames.shape[0]\n",
    "    \n",
    "    def __getitem__(self, idx):\n",
    "        image = get_image(self.base_path, self.filenames[idx])\n",
    "        return self.transform(image)\n",
    "\n",
    "    \n",
    "class FeatureDS(Dataset):\n",
    "    def __init__(self, features=None):\n",
    "        self.features = features\n",
    "    \n",
    "    def __len__(self):\n",
    "        return self.features.shape[0]\n",
    "    \n",
    "    def __getitem__(self, idx):\n",
    "        return torch.FloatTensor(self.features[idx])"
   ]
  },
  {
   "cell_type": "code",
   "execution_count": null,
   "id": "b484f5c4",
   "metadata": {
    "execution": {
     "iopub.execute_input": "2021-10-10T01:12:54.241467Z",
     "iopub.status.busy": "2021-10-10T01:12:54.240701Z",
     "iopub.status.idle": "2021-10-10T01:12:54.242546Z",
     "shell.execute_reply": "2021-10-10T01:12:54.243237Z",
     "shell.execute_reply.started": "2021-10-10T01:12:09.495561Z"
    },
    "papermill": {
     "duration": 0.025127,
     "end_time": "2021-10-10T01:12:54.243365",
     "exception": false,
     "start_time": "2021-10-10T01:12:54.218238",
     "status": "completed"
    },
    "tags": []
   },
   "outputs": [],
   "source": [
    "def build_models(IL: int, pretrained: bool, seed: int):\n",
    "    class ImageModel(nn.Module):\n",
    "        def __init__(self, pretrained=False):\n",
    "            super(ImageModel, self).__init__()\n",
    "\n",
    "            self.features = models.densenet169(pretrained=pretrained, progress=True)\n",
    "            if pretrained:\n",
    "                self.freeze()\n",
    "            self.features = nn.Sequential(*[*self.features.children()][:-1])\n",
    "            self.features.add_module(\"Adaptive Average Pool\", nn.AdaptiveAvgPool2d(output_size=(1, 1)))\n",
    "            self.features.add_module(\"Flatten\", nn.Flatten())\n",
    "\n",
    "        def freeze(self):\n",
    "            for params in self.parameters():\n",
    "                    params.requires_grad = False\n",
    "\n",
    "        def forward(self, x):\n",
    "            return self.features(x)\n",
    "    \n",
    "    \n",
    "    if verbose:\n",
    "        breaker()\n",
    "        print(\"Building Vision Model ...\")\n",
    "    \n",
    "    torch.manual_seed(seed)\n",
    "    vision_model = ImageModel(pretrained=pretrained)\n",
    "    \n",
    "    \n",
    "    class ANN(nn.Module):\n",
    "        def __init__(self, IL=None):\n",
    "            super(ANN, self).__init__()\n",
    "\n",
    "            self.predictor = nn.Sequential()\n",
    "            self.predictor.add_module(\"BN\", nn.BatchNorm1d(num_features=IL, eps=1e-5))\n",
    "            self.predictor.add_module(\"FC\", WN(nn.Linear(in_features=IL, out_features=1)))\n",
    "\n",
    "        def get_optimizer(self, lr=1e-3, wd=0):\n",
    "            params = [p for p in self.parameters() if p.requires_grad]\n",
    "            return optim.Adam(params, lr=lr, weight_decay=wd)\n",
    "\n",
    "        def get_plateau_scheduler(self, optimizer=None, patience=5, eps=1e-8):\n",
    "            return optim.lr_scheduler.ReduceLROnPlateau(optimizer=optimizer, patience=patience, eps=eps, verbose=True)\n",
    "\n",
    "        def forward(self, x):\n",
    "            return self.predictor(x)\n",
    "    \n",
    "    if verbose:\n",
    "        breaker()\n",
    "        print(\"Building Model ...\")\n",
    "        print(\"\\n{} -> 1\".format(IL))\n",
    "        breaker()\n",
    "    \n",
    "    torch.manual_seed(seed)\n",
    "    ann_model = ANN(IL=IL)\n",
    "    \n",
    "    return vision_model, ann_model"
   ]
  },
  {
   "cell_type": "markdown",
   "id": "d040b8fd",
   "metadata": {
    "papermill": {
     "duration": 0.009747,
     "end_time": "2021-10-10T01:12:54.262840",
     "exception": false,
     "start_time": "2021-10-10T01:12:54.253093",
     "status": "completed"
    },
    "tags": []
   },
   "source": [
    "## Feature Getter and Predict Helper"
   ]
  },
  {
   "cell_type": "code",
   "execution_count": null,
   "id": "a72e3613",
   "metadata": {
    "execution": {
     "iopub.execute_input": "2021-10-10T01:12:54.294080Z",
     "iopub.status.busy": "2021-10-10T01:12:54.289886Z",
     "iopub.status.idle": "2021-10-10T01:12:54.296224Z",
     "shell.execute_reply": "2021-10-10T01:12:54.296627Z",
     "shell.execute_reply.started": "2021-10-10T01:12:09.767992Z"
    },
    "papermill": {
     "duration": 0.024075,
     "end_time": "2021-10-10T01:12:54.296761",
     "exception": false,
     "start_time": "2021-10-10T01:12:54.272686",
     "status": "completed"
    },
    "tags": []
   },
   "outputs": [],
   "source": [
    "def get_features(model=None, dataloader=None, feature_length=None, path=None):\n",
    "    model.load_state_dict(torch.load(path, map_location=DEVICE))\n",
    "    model.to(DEVICE)\n",
    "    model.eval()\n",
    "\n",
    "    features = torch.zeros(1, feature_length).to(DEVICE)\n",
    "    for X in dataloader:\n",
    "        X = X.to(DEVICE)\n",
    "        with torch.no_grad():\n",
    "            output = model(X)\n",
    "        features = torch.cat((features, output.view(-1, feature_length)), dim=0)\n",
    "    \n",
    "    return features[1:].detach().cpu().numpy()\n",
    "\n",
    "\n",
    "def predict_batch(model=None, dataloader=None, mode=\"test\", path=None):\n",
    "    model.load_state_dict(torch.load(path, map_location=DEVICE)[\"model_state_dict\"])\n",
    "    model.to(DEVICE)\n",
    "    model.eval()\n",
    "\n",
    "    y_pred = torch.zeros(1, 1).to(DEVICE)\n",
    "    if re.match(r\"valid\", mode, re.IGNORECASE):\n",
    "        for X, _ in dataloader:\n",
    "            X = X.to(DEVICE)\n",
    "            with torch.no_grad():\n",
    "                output = model(X)\n",
    "            y_pred = torch.cat((y_pred, output.view(-1, 1)), dim=0)\n",
    "    elif re.match(r\"test\", mode, re.IGNORECASE):\n",
    "        for X in dataloader:\n",
    "            X = X.to(DEVICE)\n",
    "            with torch.no_grad():\n",
    "                output = model(X)\n",
    "            y_pred = torch.cat((y_pred, output.view(-1, 1)), dim=0)\n",
    "    \n",
    "    return y_pred[1:].detach().cpu().numpy()"
   ]
  },
  {
   "cell_type": "markdown",
   "id": "397dc7e1",
   "metadata": {
    "papermill": {
     "duration": 0.010044,
     "end_time": "2021-10-10T01:12:54.317179",
     "exception": false,
     "start_time": "2021-10-10T01:12:54.307135",
     "status": "completed"
    },
    "tags": []
   },
   "source": [
    "## Submit"
   ]
  },
  {
   "cell_type": "code",
   "execution_count": null,
   "id": "67b59def",
   "metadata": {
    "execution": {
     "iopub.execute_input": "2021-10-10T01:12:54.349603Z",
     "iopub.status.busy": "2021-10-10T01:12:54.348627Z",
     "iopub.status.idle": "2021-10-10T01:12:54.350904Z",
     "shell.execute_reply": "2021-10-10T01:12:54.351370Z",
     "shell.execute_reply.started": "2021-10-10T01:12:10.085185Z"
    },
    "papermill": {
     "duration": 0.024159,
     "end_time": "2021-10-10T01:12:54.351500",
     "exception": false,
     "start_time": "2021-10-10T01:12:54.327341",
     "status": "completed"
    },
    "tags": []
   },
   "outputs": [],
   "source": [
    "def submit():\n",
    "    if verbose:\n",
    "        breaker()\n",
    "        print(\"Reading Data ...\")\n",
    "    \n",
    "    ts_filenames = get_filenames(PATH)\n",
    "    filenames, targets = get_filenames_and_targets(PATH)\n",
    "    \n",
    "    if verbose:\n",
    "        breaker()\n",
    "        print(\"Obtaining Test Image Features ...\")\n",
    "    \n",
    "    ts_image_data_setup = ImageDS(base_path=os.path.join(PATH, \"test\"), \n",
    "                                  filenames=ts_filenames,\n",
    "                                  transform=TRANSFORM)\n",
    "    ts_image_data = DL(ts_image_data_setup, batch_size=64, shuffle=False)\n",
    "    \n",
    "    VisionModel, ANNModel = build_models(IL=FEATURE_LENGTH, pretrained=False, seed=SEED)\n",
    "    ts_features = get_features(model=VisionModel, dataloader=ts_image_data, \n",
    "                               feature_length=FEATURE_LENGTH, \n",
    "                               path=os.path.join(PRETRAINED_WEIGHTS_PATH, \"{}_state.pt\".format(MODEL_NAME)))\n",
    "    \n",
    "    fold = 1\n",
    "    final_y_pred = np.zeros((len(ts_filenames), 1))\n",
    "    for tr_idx, va_idx in KFold(n_splits=NUM_FOLDS, shuffle=True, random_state=SEED).split(filenames):\n",
    "        if verbose:\n",
    "            print(\"Processing Fold {} ...\".format(fold))\n",
    "        \n",
    "        tr_targets = targets[tr_idx]\n",
    "        tr_targets = tr_targets.reshape(-1, 1)\n",
    "        tr_targets = sc_y.fit_transform(tr_targets)\n",
    "    \n",
    "        ts_feature_data_setup = FeatureDS(features=ts_features)\n",
    "        ts_feature_data = DL(ts_feature_data_setup, batch_size=512, shuffle=False)\n",
    "\n",
    "        y_pred = predict_batch(model=ANNModel, dataloader=ts_feature_data, mode=\"test\",\n",
    "                               path=os.path.join(TRAINED_ANN_WEIGHTS_PATH, \"Fold_{}_state.pt\".format(fold)))\n",
    "        y_pred = sc_y.inverse_transform(y_pred)\n",
    "        \n",
    "        final_y_pred += y_pred\n",
    "        fold += 1\n",
    "    \n",
    "    final_y_pred = final_y_pred / NUM_FOLDS\n",
    "    \n",
    "    if verbose:\n",
    "        breaker()\n",
    "        print(\"Generating Submission File ...\")\n",
    "        breaker()\n",
    "    \n",
    "    make_submission(PATH, final_y_pred)"
   ]
  },
  {
   "cell_type": "code",
   "execution_count": null,
   "id": "ff4e7fd6",
   "metadata": {
    "execution": {
     "iopub.execute_input": "2021-10-10T01:12:54.378925Z",
     "iopub.status.busy": "2021-10-10T01:12:54.378025Z",
     "iopub.status.idle": "2021-10-10T01:13:02.794150Z",
     "shell.execute_reply": "2021-10-10T01:13:02.793150Z",
     "shell.execute_reply.started": "2021-10-10T01:12:10.210243Z"
    },
    "papermill": {
     "duration": 8.431372,
     "end_time": "2021-10-10T01:13:02.794293",
     "exception": false,
     "start_time": "2021-10-10T01:12:54.362921",
     "status": "completed"
    },
    "tags": []
   },
   "outputs": [],
   "source": [
    "submit()"
   ]
  },
  {
   "cell_type": "code",
   "execution_count": null,
   "id": "416e5ee7",
   "metadata": {
    "execution": {
     "iopub.execute_input": "2021-10-10T01:13:02.822002Z",
     "iopub.status.busy": "2021-10-10T01:13:02.820366Z",
     "iopub.status.idle": "2021-10-10T01:13:02.825268Z",
     "shell.execute_reply": "2021-10-10T01:13:02.824441Z",
     "shell.execute_reply.started": "2021-10-10T01:12:11.439576Z"
    },
    "papermill": {
     "duration": 0.020279,
     "end_time": "2021-10-10T01:13:02.825424",
     "exception": false,
     "start_time": "2021-10-10T01:13:02.805145",
     "status": "completed"
    },
    "tags": []
   },
   "outputs": [],
   "source": [
    "breaker()\n",
    "print(\"Notebook Run Time : {:.2f} minutes\".format((time()-notebook_start_time)/60))\n",
    "breaker()"
   ]
  }
 ],
 "metadata": {
  "kernelspec": {
   "display_name": "Python 3",
   "language": "python",
   "name": "python3"
  },
  "language_info": {
   "codemirror_mode": {
    "name": "ipython",
    "version": 3
   },
   "file_extension": ".py",
   "mimetype": "text/x-python",
   "name": "python",
   "nbconvert_exporter": "python",
   "pygments_lexer": "ipython3",
   "version": "3.7.10"
  },
  "papermill": {
   "default_parameters": {},
   "duration": 22.643417,
   "end_time": "2021-10-10T01:13:04.139266",
   "environment_variables": {},
   "exception": null,
   "input_path": "__notebook__.ipynb",
   "output_path": "__notebook__.ipynb",
   "parameters": {},
   "start_time": "2021-10-10T01:12:41.495849",
   "version": "2.3.3"
  }
 },
 "nbformat": 4,
 "nbformat_minor": 5
}
