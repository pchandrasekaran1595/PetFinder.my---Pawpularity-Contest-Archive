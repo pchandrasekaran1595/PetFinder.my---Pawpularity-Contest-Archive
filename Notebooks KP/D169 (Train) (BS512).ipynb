{
 "cells": [
  {
   "cell_type": "markdown",
   "id": "a160faa9",
   "metadata": {
    "id": "1NF27HFLxZMK",
    "papermill": {
     "duration": 0.012906,
     "end_time": "2021-10-10T00:40:19.358872",
     "exception": false,
     "start_time": "2021-10-10T00:40:19.345966",
     "status": "completed"
    },
    "tags": []
   },
   "source": [
    "## Library Imports"
   ]
  },
  {
   "cell_type": "code",
   "execution_count": 1,
   "id": "ed95ef78",
   "metadata": {
    "execution": {
     "iopub.execute_input": "2021-10-10T00:40:19.388940Z",
     "iopub.status.busy": "2021-10-10T00:40:19.387482Z",
     "iopub.status.idle": "2021-10-10T00:40:19.464977Z",
     "shell.execute_reply": "2021-10-10T00:40:19.465413Z",
     "shell.execute_reply.started": "2021-10-10T00:36:53.882543Z"
    },
    "id": "ZaibE8jTxTRV",
    "papermill": {
     "duration": 0.093305,
     "end_time": "2021-10-10T00:40:19.465672",
     "exception": false,
     "start_time": "2021-10-10T00:40:19.372367",
     "status": "completed"
    },
    "tags": []
   },
   "outputs": [],
   "source": [
    "from time import time\n",
    "notebook_start_time = time()"
   ]
  },
  {
   "cell_type": "code",
   "execution_count": 2,
   "id": "6889910f",
   "metadata": {
    "execution": {
     "iopub.execute_input": "2021-10-10T00:40:19.494518Z",
     "iopub.status.busy": "2021-10-10T00:40:19.493910Z",
     "iopub.status.idle": "2021-10-10T00:40:24.789752Z",
     "shell.execute_reply": "2021-10-10T00:40:24.788864Z",
     "shell.execute_reply.started": "2021-10-10T00:36:53.975382Z"
    },
    "id": "tCefPeQFxwtS",
    "papermill": {
     "duration": 5.312718,
     "end_time": "2021-10-10T00:40:24.789894",
     "exception": false,
     "start_time": "2021-10-10T00:40:19.477176",
     "status": "completed"
    },
    "tags": []
   },
   "outputs": [],
   "source": [
    "import os\n",
    "import re\n",
    "import pickle\n",
    "import numpy as np\n",
    "import pandas as pd\n",
    "import matplotlib.pyplot as plt\n",
    "\n",
    "import torch\n",
    "from torch import nn, optim\n",
    "from torch.utils.data import Dataset\n",
    "from torch.utils.data import DataLoader as DL\n",
    "from torch.nn.utils import weight_norm as WN\n",
    "from torchvision import models, transforms\n",
    "\n",
    "from sklearn.model_selection import KFold\n",
    "from sklearn.metrics import mean_squared_error\n",
    "from sklearn.preprocessing import StandardScaler"
   ]
  },
  {
   "cell_type": "markdown",
   "id": "bc21b6d2",
   "metadata": {
    "id": "iWlt7AdSxxWm",
    "papermill": {
     "duration": 0.011201,
     "end_time": "2021-10-10T00:40:24.813071",
     "exception": false,
     "start_time": "2021-10-10T00:40:24.801870",
     "status": "completed"
    },
    "tags": []
   },
   "source": [
    "## Constants and Utilities"
   ]
  },
  {
   "cell_type": "code",
   "execution_count": 3,
   "id": "eed9f0b5",
   "metadata": {
    "execution": {
     "iopub.execute_input": "2021-10-10T00:40:24.887756Z",
     "iopub.status.busy": "2021-10-10T00:40:24.887120Z",
     "iopub.status.idle": "2021-10-10T00:40:24.893111Z",
     "shell.execute_reply": "2021-10-10T00:40:24.892255Z",
     "shell.execute_reply.started": "2021-10-10T00:36:59.151714Z"
    },
    "id": "ZpMGLKhKx0EX",
    "papermill": {
     "duration": 0.068114,
     "end_time": "2021-10-10T00:40:24.893230",
     "exception": false,
     "start_time": "2021-10-10T00:40:24.825116",
     "status": "completed"
    },
    "tags": []
   },
   "outputs": [],
   "source": [
    "SEED = 0\n",
    "DEVICE = torch.device(\"cuda\" if torch.cuda.is_available() else \"cpu\")\n",
    "DATA_PATH = \"../input/petfinder-pawpularity-score\"\n",
    "FEATURE_PATH = \"../input/petfinder-pf-cc-ua-dataset\"\n",
    "MODEL_NAME = \"densenet169\"\n",
    "verbose = False\n",
    "\n",
    "sc_y = StandardScaler()"
   ]
  },
  {
   "cell_type": "code",
   "execution_count": 4,
   "id": "40b1538d",
   "metadata": {
    "execution": {
     "iopub.execute_input": "2021-10-10T00:40:24.924562Z",
     "iopub.status.busy": "2021-10-10T00:40:24.923846Z",
     "iopub.status.idle": "2021-10-10T00:40:24.926533Z",
     "shell.execute_reply": "2021-10-10T00:40:24.926938Z",
     "shell.execute_reply.started": "2021-10-10T00:36:59.198655Z"
    },
    "id": "yIR_gIEPyZrc",
    "papermill": {
     "duration": 0.022293,
     "end_time": "2021-10-10T00:40:24.927063",
     "exception": false,
     "start_time": "2021-10-10T00:40:24.904770",
     "status": "completed"
    },
    "tags": []
   },
   "outputs": [],
   "source": [
    "def breaker(num=50, char=\"*\") -> None:\n",
    "    print(\"\\n\" + num*char + \"\\n\")\n",
    "\n",
    "\n",
    "def get_targets(path: str) -> np.ndarray:\n",
    "    df = pd.read_csv(os.path.join(path, \"train.csv\"), engine=\"python\")\n",
    "    targets = df[\"Pawpularity\"].copy().values\n",
    "    return targets.reshape(-1, 1)\n",
    "\n",
    "\n",
    "def show_graphs(L: list, title=None) -> None:\n",
    "    TL, VL = [], []\n",
    "    for i in range(len(L)):\n",
    "        TL.append(L[i][\"train\"])\n",
    "        VL.append(L[i][\"valid\"])\n",
    "    x_Axis = np.arange(1, len(L) + 1)\n",
    "    plt.figure()\n",
    "    plt.plot(x_Axis, TL, \"r\", label=\"train\")\n",
    "    plt.plot(x_Axis, VL, \"b\", label=\"valid\")\n",
    "    plt.grid()\n",
    "    plt.legend()\n",
    "    if title:\n",
    "        plt.title(\"{} Loss\".format(title))\n",
    "    else:\n",
    "        plt.title(\"Loss\")\n",
    "    plt.show()"
   ]
  },
  {
   "cell_type": "markdown",
   "id": "713e5b32",
   "metadata": {
    "id": "7y0fd6rWy9C7",
    "papermill": {
     "duration": 0.011122,
     "end_time": "2021-10-10T00:40:24.949537",
     "exception": false,
     "start_time": "2021-10-10T00:40:24.938415",
     "status": "completed"
    },
    "tags": []
   },
   "source": [
    "## Dataset Template and Build Dataloader"
   ]
  },
  {
   "cell_type": "code",
   "execution_count": 5,
   "id": "b0f39444",
   "metadata": {
    "execution": {
     "iopub.execute_input": "2021-10-10T00:40:24.974926Z",
     "iopub.status.busy": "2021-10-10T00:40:24.974127Z",
     "iopub.status.idle": "2021-10-10T00:40:24.981827Z",
     "shell.execute_reply": "2021-10-10T00:40:24.982223Z",
     "shell.execute_reply.started": "2021-10-10T00:36:59.211621Z"
    },
    "id": "TtCaj5UAy7ar",
    "papermill": {
     "duration": 0.021554,
     "end_time": "2021-10-10T00:40:24.982337",
     "exception": false,
     "start_time": "2021-10-10T00:40:24.960783",
     "status": "completed"
    },
    "tags": []
   },
   "outputs": [],
   "source": [
    "class DS(Dataset):\n",
    "    def __init__(self, features=None, targets=None):\n",
    "        self.features = features\n",
    "        self.targets  = targets\n",
    "        \n",
    "    def __len__(self):\n",
    "        return self.features.shape[0]\n",
    "    \n",
    "    def __getitem__(self, idx):\n",
    "        return torch.FloatTensor(self.features[idx]), torch.FloatTensor(self.targets[idx])\n",
    "    \n",
    "\n",
    "def build_dataloaders(tr_features: np.ndarray, va_features: np.ndarray,\n",
    "                      tr_targets: np.ndarray, va_targets: np.ndarray,\n",
    "                      batch_size: int, seed: int):\n",
    "\n",
    "    if verbose:\n",
    "        breaker()\n",
    "        print(\"Building Train and Validation DataLoaders ...\")\n",
    "    \n",
    "    tr_data_setup = DS(features=tr_features, targets=tr_targets)\n",
    "    va_data_setup = DS(features=va_features, targets=va_targets)\n",
    "    \n",
    "    dataloaders = {\n",
    "        \"train\" : DL(tr_data_setup, batch_size=batch_size, shuffle=True, generator=torch.manual_seed(seed)),\n",
    "        \"valid\" : DL(va_data_setup, batch_size=batch_size, shuffle=False)\n",
    "    }\n",
    "    \n",
    "    return dataloaders"
   ]
  },
  {
   "cell_type": "markdown",
   "id": "3e2b0e72",
   "metadata": {
    "id": "8wmsPRi6zjyn",
    "papermill": {
     "duration": 0.011609,
     "end_time": "2021-10-10T00:40:25.006464",
     "exception": false,
     "start_time": "2021-10-10T00:40:24.994855",
     "status": "completed"
    },
    "tags": []
   },
   "source": [
    "## Build Model"
   ]
  },
  {
   "cell_type": "code",
   "execution_count": 6,
   "id": "537e2b7f",
   "metadata": {
    "execution": {
     "iopub.execute_input": "2021-10-10T00:40:25.038826Z",
     "iopub.status.busy": "2021-10-10T00:40:25.036306Z",
     "iopub.status.idle": "2021-10-10T00:40:25.040799Z",
     "shell.execute_reply": "2021-10-10T00:40:25.041173Z",
     "shell.execute_reply.started": "2021-10-10T00:36:59.222289Z"
    },
    "id": "2GYZ4teczjIm",
    "papermill": {
     "duration": 0.023566,
     "end_time": "2021-10-10T00:40:25.041290",
     "exception": false,
     "start_time": "2021-10-10T00:40:25.017724",
     "status": "completed"
    },
    "tags": []
   },
   "outputs": [],
   "source": [
    "def build_model(IL: int, seed: int):\n",
    "    class ANN(nn.Module):\n",
    "        def __init__(self, IL=None):\n",
    "            super(ANN, self).__init__()\n",
    "\n",
    "            self.predictor = nn.Sequential()\n",
    "            self.predictor.add_module(\"BN\", nn.BatchNorm1d(num_features=IL, eps=1e-5))\n",
    "            self.predictor.add_module(\"FC\", WN(nn.Linear(in_features=IL, out_features=1)))\n",
    "\n",
    "        def get_optimizer(self, lr=1e-3, wd=0):\n",
    "            params = [p for p in self.parameters() if p.requires_grad]\n",
    "            return optim.Adam(params, lr=lr, weight_decay=wd)\n",
    "\n",
    "        def get_plateau_scheduler(self, optimizer=None, patience=5, eps=1e-8):\n",
    "            return optim.lr_scheduler.ReduceLROnPlateau(optimizer=optimizer, patience=patience, eps=eps, verbose=True)\n",
    "\n",
    "        def forward(self, x1, x2=None):\n",
    "            if x2 is not None:\n",
    "                return self.predictor(x1), self.predictor(x2)\n",
    "            else:\n",
    "                return self.predictor(x1)\n",
    "    \n",
    "    if verbose:\n",
    "        breaker()\n",
    "        print(\"Building Model ...\")\n",
    "        print(\"\\n{} -> 1\".format(IL))\n",
    "    \n",
    "    torch.manual_seed(seed)\n",
    "    model = ANN(IL=IL)\n",
    "    \n",
    "    return model"
   ]
  },
  {
   "cell_type": "markdown",
   "id": "11bc58ca",
   "metadata": {
    "id": "uuMvELK2zqh0",
    "papermill": {
     "duration": 0.011136,
     "end_time": "2021-10-10T00:40:25.063691",
     "exception": false,
     "start_time": "2021-10-10T00:40:25.052555",
     "status": "completed"
    },
    "tags": []
   },
   "source": [
    "## Fit and Predict Helpers"
   ]
  },
  {
   "cell_type": "code",
   "execution_count": 7,
   "id": "262eb5d0",
   "metadata": {
    "execution": {
     "iopub.execute_input": "2021-10-10T00:40:25.107494Z",
     "iopub.status.busy": "2021-10-10T00:40:25.106671Z",
     "iopub.status.idle": "2021-10-10T00:40:25.108616Z",
     "shell.execute_reply": "2021-10-10T00:40:25.109060Z",
     "shell.execute_reply.started": "2021-10-10T00:39:12.249780Z"
    },
    "id": "8DQ9EUrIzpmn",
    "papermill": {
     "duration": 0.0341,
     "end_time": "2021-10-10T00:40:25.109175",
     "exception": false,
     "start_time": "2021-10-10T00:40:25.075075",
     "status": "completed"
    },
    "tags": []
   },
   "outputs": [],
   "source": [
    "def fit(model=None, optimizer=None, scheduler=None, \n",
    "        epochs=None, early_stopping_patience=None,\n",
    "        dataloaders=None, fold=None, lr=None, wd=None, verbose=False) -> tuple:\n",
    "    \n",
    "    name = \"./Fold_{}_state.pt\".format(lr, wd, fold)\n",
    "    \n",
    "    if verbose:\n",
    "        breaker()\n",
    "        print(\"Training Fold {}...\".format(fold))\n",
    "        breaker()\n",
    "    else:\n",
    "        print(\"Training Fold {}...\".format(fold))\n",
    "\n",
    "    Losses = []\n",
    "    bestLoss = {\"train\" : np.inf, \"valid\" : np.inf}\n",
    "\n",
    "    start_time = time()\n",
    "    for e in range(epochs):\n",
    "        e_st = time()\n",
    "        epochLoss = {\"train\" : np.inf, \"valid\" : np.inf}\n",
    "\n",
    "        for phase in [\"train\", \"valid\"]:\n",
    "            if phase == \"train\":\n",
    "                model.train()\n",
    "            else:\n",
    "                model.eval()\n",
    "            \n",
    "            lossPerPass = []\n",
    "\n",
    "            for X, y in dataloaders[phase]:\n",
    "                X, y = X.to(DEVICE), y.to(DEVICE)\n",
    "\n",
    "                optimizer.zero_grad()\n",
    "                with torch.set_grad_enabled(phase == \"train\"):\n",
    "                    output = model(X)\n",
    "                    loss = torch.nn.MSELoss()(output, y)\n",
    "                    if phase == \"train\":\n",
    "                        loss.backward()\n",
    "                        optimizer.step()\n",
    "                lossPerPass.append(loss.item())\n",
    "            epochLoss[phase] = np.mean(np.array(lossPerPass))\n",
    "        Losses.append(epochLoss)\n",
    "\n",
    "        if early_stopping_patience:\n",
    "            if epochLoss[\"valid\"] < bestLoss[\"valid\"]:\n",
    "                bestLoss = epochLoss\n",
    "                BLE = e + 1\n",
    "                torch.save({\"model_state_dict\": model.state_dict(),\n",
    "                            \"optim_state_dict\": optimizer.state_dict()},\n",
    "                           name)\n",
    "                early_stopping_step = 0\n",
    "            else:\n",
    "                early_stopping_step += 1\n",
    "                if early_stopping_step > early_stopping_patience:\n",
    "                    if verbose:\n",
    "                        print(\"\\nEarly Stopping at Epoch {}\".format(e))\n",
    "                    break\n",
    "        \n",
    "        if epochLoss[\"valid\"] < bestLoss[\"valid\"]:\n",
    "            bestLoss = epochLoss\n",
    "            BLE = e + 1\n",
    "            torch.save({\"model_state_dict\": model.state_dict(),\n",
    "                        \"optim_state_dict\": optimizer.state_dict()},\n",
    "                       name)\n",
    "        \n",
    "        if scheduler:\n",
    "            scheduler.step(epochLoss[\"valid\"])\n",
    "        \n",
    "        if verbose:\n",
    "            print(\"Epoch: {} | Train Loss: {:.5f} | Valid Loss: {:.5f} | Time: {:.2f} seconds\".format(e+1, epochLoss[\"train\"], epochLoss[\"valid\"], time()-e_st))\n",
    "    \n",
    "    if verbose:\n",
    "        breaker()\n",
    "        print(\"Best Validation Loss at Epoch {}\".format(BLE))\n",
    "        breaker()\n",
    "        print(\"Time Taken [{} Epochs] : {:.2f} minutes\".format(len(Losses), (time()-start_time)/60))\n",
    "        breaker()\n",
    "        print(\"Training Completed\")\n",
    "        breaker()\n",
    "\n",
    "    return Losses, BLE, name\n",
    "\n",
    "#####################################################################################################\n",
    "\n",
    "def predict_batch(model=None, dataloader=None, mode=\"test\", path=None) -> np.ndarray:    \n",
    "    model.load_state_dict(torch.load(path, map_location=DEVICE)[\"model_state_dict\"])\n",
    "    model.to(DEVICE)\n",
    "    model.eval()\n",
    "\n",
    "    y_pred = torch.zeros(1, 1).to(DEVICE)\n",
    "    if re.match(r\"valid\", mode, re.IGNORECASE):\n",
    "        for X, _ in dataloader:\n",
    "            X = X.to(DEVICE)\n",
    "            with torch.no_grad():\n",
    "                output = model(X)\n",
    "            y_pred = torch.cat((y_pred, output.view(-1, 1)), dim=0)\n",
    "    elif re.match(r\"test\", mode, re.IGNORECASE):\n",
    "        for X in dataloader:\n",
    "            X = X.to(DEVICE)\n",
    "            with torch.no_grad():\n",
    "                output = model(X)\n",
    "            y_pred = torch.cat((y_pred, output.view(-1, 1)), dim=0)\n",
    "    \n",
    "    return y_pred[1:].detach().cpu().numpy()"
   ]
  },
  {
   "cell_type": "markdown",
   "id": "03830010",
   "metadata": {
    "id": "YQP876MS0OrX",
    "papermill": {
     "duration": 0.011547,
     "end_time": "2021-10-10T00:40:25.132191",
     "exception": false,
     "start_time": "2021-10-10T00:40:25.120644",
     "status": "completed"
    },
    "tags": []
   },
   "source": [
    "## Train"
   ]
  },
  {
   "cell_type": "code",
   "execution_count": 8,
   "id": "3d387dd7",
   "metadata": {
    "execution": {
     "iopub.execute_input": "2021-10-10T00:40:25.166950Z",
     "iopub.status.busy": "2021-10-10T00:40:25.162020Z",
     "iopub.status.idle": "2021-10-10T00:40:25.169507Z",
     "shell.execute_reply": "2021-10-10T00:40:25.168788Z",
     "shell.execute_reply.started": "2021-10-10T00:39:12.603424Z"
    },
    "id": "OrGICYXg0QEM",
    "papermill": {
     "duration": 0.026137,
     "end_time": "2021-10-10T00:40:25.169610",
     "exception": false,
     "start_time": "2021-10-10T00:40:25.143473",
     "status": "completed"
    },
    "tags": []
   },
   "outputs": [],
   "source": [
    "def train(features: np.ndarray, targets: np.ndarray,\n",
    "          n_splits: int, batch_size: int, lr: float, wd: float, \n",
    "          epochs: int, early_stopping: int, \n",
    "          patience=None, eps=None) -> list:        \n",
    "    \n",
    "    metrics = []\n",
    "        \n",
    "    KFold_start_time = time()\n",
    "    breaker()\n",
    "    print(\"Performing {} Fold CV ...\".format(n_splits))\n",
    "    breaker()\n",
    "    fold = 1\n",
    "    for tr_idx, va_idx in KFold(n_splits=n_splits, shuffle=True, random_state=SEED).split(features):\n",
    "\n",
    "        tr_features, va_features = features[tr_idx], features[va_idx]\n",
    "        tr_targets, va_targets   = targets[tr_idx], targets[va_idx]\n",
    "\n",
    "        tr_targets = sc_y.fit_transform(tr_targets)\n",
    "        va_targets = sc_y.transform(va_targets)\n",
    "\n",
    "        dataloaders = build_dataloaders(tr_features, va_features,\n",
    "                                        tr_targets, va_targets, \n",
    "                                        batch_size, SEED)\n",
    "        model = build_model(IL=tr_features.shape[1], seed=SEED).to(DEVICE)\n",
    "        optimizer = model.get_optimizer(lr=lr, wd=wd)\n",
    "        scheduler = None\n",
    "        if isinstance(patience, int) and isinstance(eps, float):\n",
    "            scheduler = model.get_plateau_scheduler(optimizer, patience, eps)\n",
    "\n",
    "        L, _, name = fit(model=model, optimizer=optimizer, scheduler=scheduler, \n",
    "                         epochs=epochs, early_stopping_patience=early_stopping,\n",
    "                         dataloaders=dataloaders, fold=fold, verbose=verbose)\n",
    "        y_pred = predict_batch(model=model, dataloader=dataloaders[\"valid\"], mode=\"valid\", path=name)\n",
    "        RMSE = np.sqrt(mean_squared_error(sc_y.inverse_transform(y_pred), sc_y.inverse_transform(va_targets)))\n",
    "        if verbose:\n",
    "            print(\"Validation RMSE [Fold {}]: {:.5f}\".format(fold, RMSE))\n",
    "            breaker()\n",
    "            show_graphs(L)\n",
    "        \n",
    "        metrics_dict = {\"Fold\" : fold, \"RMSE\" : RMSE}\n",
    "        metrics.append(metrics_dict)\n",
    "        \n",
    "        fold += 1\n",
    "    \n",
    "    breaker()\n",
    "    print(\"Total Time to {} Fold CV : {:.2f} minutes\".format(n_splits, (time() - KFold_start_time)/60))\n",
    "    \n",
    "    return metrics, (time() - KFold_start_time)/60"
   ]
  },
  {
   "cell_type": "markdown",
   "id": "72b8399e",
   "metadata": {
    "id": "UGUqaAzy1C33",
    "papermill": {
     "duration": 0.01112,
     "end_time": "2021-10-10T00:40:25.192068",
     "exception": false,
     "start_time": "2021-10-10T00:40:25.180948",
     "status": "completed"
    },
    "tags": []
   },
   "source": [
    "## Main"
   ]
  },
  {
   "cell_type": "code",
   "execution_count": 9,
   "id": "aca391fe",
   "metadata": {
    "execution": {
     "iopub.execute_input": "2021-10-10T00:40:25.224622Z",
     "iopub.status.busy": "2021-10-10T00:40:25.223868Z",
     "iopub.status.idle": "2021-10-10T00:40:25.226210Z",
     "shell.execute_reply": "2021-10-10T00:40:25.225716Z",
     "shell.execute_reply.started": "2021-10-10T00:39:37.195926Z"
    },
    "id": "_0yK3IwR1CEs",
    "papermill": {
     "duration": 0.022806,
     "end_time": "2021-10-10T00:40:25.226308",
     "exception": false,
     "start_time": "2021-10-10T00:40:25.203502",
     "status": "completed"
    },
    "tags": []
   },
   "outputs": [],
   "source": [
    "def main():\n",
    "    DEBUG = False\n",
    "    \n",
    "    ########### Params ###########\n",
    "    \n",
    "    if DEBUG:\n",
    "        n_splits = 3\n",
    "        patience, eps = 5, 1e-8\n",
    "        epochs, early_stopping = 5, 5\n",
    "        batch_size = 512\n",
    "        lr = 1e-3\n",
    "        wd = 1e-1\n",
    "    else:\n",
    "        n_splits = 10\n",
    "        patience, eps = 5, 1e-8\n",
    "        epochs, early_stopping = 100, 8\n",
    "        batch_size = 512\n",
    "        lr = 1e-3\n",
    "        wd = 1e-1\n",
    "    \n",
    "    ##############################\n",
    "\n",
    "    if verbose:\n",
    "        breaker()\n",
    "        print(\"Loading Data ...\")\n",
    "    \n",
    "    features = np.load(os.path.join(FEATURE_PATH, \"{}_features.npy\".format(MODEL_NAME)))\n",
    "    targets  = get_targets(DATA_PATH)\n",
    "\n",
    "    # Without Scheduler\n",
    "    metrics, time_taken = train(features, targets, n_splits, batch_size, lr, wd, epochs, early_stopping, patience=None, eps=None)\n",
    "\n",
    "    # # With Plateau Scheduler\n",
    "    # metrics = train(features, targets, n_splits, batch_size, lr, wd, epochs, early_stopping, patience=patience, eps=eps)\n",
    "\n",
    "    if verbose:\n",
    "        breaker()\n",
    "        for i in range(len(metrics)):\n",
    "            print(metrics[i])\n",
    "        breaker()\n",
    "    \n",
    "    rmse = []\n",
    "    for i in range(len(metrics)):\n",
    "        rmse.append(metrics[i][\"RMSE\"])\n",
    "    \n",
    "    best_index = rmse.index(min(rmse))\n",
    "    \n",
    "    breaker()\n",
    "    print(\"Best CV : {:.5f} at Fold {}\".format(metrics[best_index][\"RMSE\"], metrics[best_index][\"Fold\"]))\n",
    "    print(\"Avg CV  : {:.5f}\".format(sum(rmse) / len(rmse)))\n",
    "    breaker()\n",
    "\n",
    "    with open(\"metrics.pkl\", \"wb\") as fp:\n",
    "        pickle.dump(metrics, fp)"
   ]
  },
  {
   "cell_type": "code",
   "execution_count": 10,
   "id": "811a8bc0",
   "metadata": {
    "execution": {
     "iopub.execute_input": "2021-10-10T00:40:25.252404Z",
     "iopub.status.busy": "2021-10-10T00:40:25.251897Z",
     "iopub.status.idle": "2021-10-10T00:41:59.548752Z",
     "shell.execute_reply": "2021-10-10T00:41:59.549491Z",
     "shell.execute_reply.started": "2021-10-10T00:39:37.932661Z"
    },
    "id": "9Vf0T4VN2Z1Q",
    "outputId": "d8f15d91-6afc-482a-e8c4-ccba8ab2f221",
    "papermill": {
     "duration": 94.312081,
     "end_time": "2021-10-10T00:41:59.549654",
     "exception": false,
     "start_time": "2021-10-10T00:40:25.237573",
     "status": "completed"
    },
    "tags": []
   },
   "outputs": [
    {
     "name": "stdout",
     "output_type": "stream",
     "text": [
      "\n",
      "**************************************************\n",
      "\n",
      "Performing 10 Fold CV ...\n",
      "\n",
      "**************************************************\n",
      "\n",
      "Training Fold 1...\n",
      "Training Fold 2...\n",
      "Training Fold 3...\n",
      "Training Fold 4...\n",
      "Training Fold 5...\n",
      "Training Fold 6...\n",
      "Training Fold 7...\n",
      "Training Fold 8...\n",
      "Training Fold 9...\n",
      "Training Fold 10...\n",
      "\n",
      "**************************************************\n",
      "\n",
      "Total Time to 10 Fold CV : 1.53 minutes\n",
      "\n",
      "**************************************************\n",
      "\n",
      "Best CV : 17.13142 at Fold 3\n",
      "Avg CV  : 18.41612\n",
      "\n",
      "**************************************************\n",
      "\n"
     ]
    }
   ],
   "source": [
    "main()"
   ]
  },
  {
   "cell_type": "code",
   "execution_count": 11,
   "id": "39c859ee",
   "metadata": {
    "execution": {
     "iopub.execute_input": "2021-10-10T00:41:59.585236Z",
     "iopub.status.busy": "2021-10-10T00:41:59.582157Z",
     "iopub.status.idle": "2021-10-10T00:41:59.587834Z",
     "shell.execute_reply": "2021-10-10T00:41:59.588236Z",
     "shell.execute_reply.started": "2021-10-10T00:38:37.684530Z"
    },
    "id": "YmNqGwy98SyF",
    "papermill": {
     "duration": 0.023455,
     "end_time": "2021-10-10T00:41:59.588368",
     "exception": false,
     "start_time": "2021-10-10T00:41:59.564913",
     "status": "completed"
    },
    "tags": []
   },
   "outputs": [
    {
     "name": "stdout",
     "output_type": "stream",
     "text": [
      "\n",
      "**************************************************\n",
      "\n",
      "Notebook Rumtime : 1.67 minutes\n",
      "\n",
      "**************************************************\n",
      "\n"
     ]
    }
   ],
   "source": [
    "breaker()\n",
    "print(\"Notebook Rumtime : {:.2f} minutes\".format((time() - notebook_start_time)/60))\n",
    "breaker()"
   ]
  }
 ],
 "metadata": {
  "kernelspec": {
   "display_name": "Python 3",
   "language": "python",
   "name": "python3"
  },
  "language_info": {
   "codemirror_mode": {
    "name": "ipython",
    "version": 3
   },
   "file_extension": ".py",
   "mimetype": "text/x-python",
   "name": "python",
   "nbconvert_exporter": "python",
   "pygments_lexer": "ipython3",
   "version": "3.7.10"
  },
  "papermill": {
   "default_parameters": {},
   "duration": 108.646709,
   "end_time": "2021-10-10T00:42:01.450248",
   "environment_variables": {},
   "exception": null,
   "input_path": "__notebook__.ipynb",
   "output_path": "__notebook__.ipynb",
   "parameters": {},
   "start_time": "2021-10-10T00:40:12.803539",
   "version": "2.3.3"
  }
 },
 "nbformat": 4,
 "nbformat_minor": 5
}
