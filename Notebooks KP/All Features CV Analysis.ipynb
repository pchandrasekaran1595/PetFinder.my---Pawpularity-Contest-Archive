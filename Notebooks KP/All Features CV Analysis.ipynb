{
 "cells": [
  {
   "cell_type": "markdown",
   "id": "b24f5293",
   "metadata": {
    "id": "38nmyCDEKRch",
    "papermill": {
     "duration": 0.017001,
     "end_time": "2021-10-11T05:56:20.136516",
     "exception": false,
     "start_time": "2021-10-11T05:56:20.119515",
     "status": "completed"
    },
    "tags": []
   },
   "source": [
    "## Library Imports"
   ]
  },
  {
   "cell_type": "code",
   "execution_count": 1,
   "id": "8acf2074",
   "metadata": {
    "execution": {
     "iopub.execute_input": "2021-10-11T05:56:20.176085Z",
     "iopub.status.busy": "2021-10-11T05:56:20.173797Z",
     "iopub.status.idle": "2021-10-11T05:56:20.249102Z",
     "shell.execute_reply": "2021-10-11T05:56:20.248413Z",
     "shell.execute_reply.started": "2021-10-11T01:09:41.711377Z"
    },
    "papermill": {
     "duration": 0.096783,
     "end_time": "2021-10-11T05:56:20.249321",
     "exception": false,
     "start_time": "2021-10-11T05:56:20.152538",
     "status": "completed"
    },
    "tags": []
   },
   "outputs": [],
   "source": [
    "from time import time\n",
    "notebook_start_time = time()"
   ]
  },
  {
   "cell_type": "code",
   "execution_count": 2,
   "id": "e739cbaf",
   "metadata": {
    "execution": {
     "iopub.execute_input": "2021-10-11T05:56:20.290368Z",
     "iopub.status.busy": "2021-10-11T05:56:20.289658Z",
     "iopub.status.idle": "2021-10-11T05:56:25.916945Z",
     "shell.execute_reply": "2021-10-11T05:56:25.916330Z",
     "shell.execute_reply.started": "2021-10-11T01:09:41.807886Z"
    },
    "id": "NNHd2aujKTDg",
    "papermill": {
     "duration": 5.651456,
     "end_time": "2021-10-11T05:56:25.917107",
     "exception": false,
     "start_time": "2021-10-11T05:56:20.265651",
     "status": "completed"
    },
    "tags": []
   },
   "outputs": [],
   "source": [
    "import os\n",
    "import re\n",
    "import pickle\n",
    "import numpy as np\n",
    "import pandas as pd\n",
    "import matplotlib.pyplot as plt\n",
    "\n",
    "import torch\n",
    "from torch import nn, optim\n",
    "from torch.utils.data import Dataset\n",
    "from torch.utils.data import DataLoader as DL\n",
    "from torch.nn.utils import weight_norm as WN\n",
    "from torchvision import models, transforms\n",
    "\n",
    "from time import time\n",
    "from sklearn.model_selection import KFold\n",
    "from sklearn.metrics import mean_squared_error\n",
    "from sklearn.preprocessing import StandardScaler\n",
    "\n",
    "import warnings\n",
    "warnings.filterwarnings(\"ignore\")"
   ]
  },
  {
   "cell_type": "markdown",
   "id": "ce2b6c41",
   "metadata": {
    "id": "zkkFhiO4KXy6",
    "papermill": {
     "duration": 0.016253,
     "end_time": "2021-10-11T05:56:25.950124",
     "exception": false,
     "start_time": "2021-10-11T05:56:25.933871",
     "status": "completed"
    },
    "tags": []
   },
   "source": [
    "## Constants and Utilities"
   ]
  },
  {
   "cell_type": "code",
   "execution_count": 3,
   "id": "1b1c3137",
   "metadata": {
    "execution": {
     "iopub.execute_input": "2021-10-11T05:56:26.036431Z",
     "iopub.status.busy": "2021-10-11T05:56:26.035459Z",
     "iopub.status.idle": "2021-10-11T05:56:26.039375Z",
     "shell.execute_reply": "2021-10-11T05:56:26.038811Z",
     "shell.execute_reply.started": "2021-10-11T01:15:57.007968Z"
    },
    "id": "oOtRJ-GIKYmR",
    "papermill": {
     "duration": 0.072908,
     "end_time": "2021-10-11T05:56:26.039520",
     "exception": false,
     "start_time": "2021-10-11T05:56:25.966612",
     "status": "completed"
    },
    "tags": []
   },
   "outputs": [],
   "source": [
    "SEED = 49\n",
    "DEVICE = torch.device(\"cuda\" if torch.cuda.is_available() else \"cpu\")\n",
    "\n",
    "FEATURES_PATH = \"../input/petfinder-pf-cc-ua-all-dataset\"\n",
    "TARGETS_PATH  = \"../input/petfinder-pawpularity-score\"\n",
    "\n",
    "verbose = False\n",
    "DEBUG = False\n",
    "\n",
    "sc_y = StandardScaler()"
   ]
  },
  {
   "cell_type": "code",
   "execution_count": 4,
   "id": "3e32bc82",
   "metadata": {
    "execution": {
     "iopub.execute_input": "2021-10-11T05:56:26.079948Z",
     "iopub.status.busy": "2021-10-11T05:56:26.075202Z",
     "iopub.status.idle": "2021-10-11T05:56:26.085624Z",
     "shell.execute_reply": "2021-10-11T05:56:26.085014Z",
     "shell.execute_reply.started": "2021-10-11T01:15:57.143993Z"
    },
    "id": "SgEqZ9dUKiQq",
    "papermill": {
     "duration": 0.030173,
     "end_time": "2021-10-11T05:56:26.085762",
     "exception": false,
     "start_time": "2021-10-11T05:56:26.055589",
     "status": "completed"
    },
    "tags": []
   },
   "outputs": [],
   "source": [
    "def breaker(num=50, char=\"*\") -> None:\n",
    "    print(\"\\n\" + num*char + \"\\n\")\n",
    "\n",
    "\n",
    "def head(x, no_of_ele=5) -> None:\n",
    "    print(x[:no_of_ele])\n",
    "\n",
    "\n",
    "def get_targets(path: str) -> np.ndarray:\n",
    "    df = pd.read_csv(os.path.join(path, \"train.csv\"), engine=\"python\")\n",
    "    targets  = df.iloc[:, -1].copy().values\n",
    "    return targets\n",
    "\n",
    "\n",
    "def show_graphs(L: list) -> None:\n",
    "    TL, VL = [], []\n",
    "    for i in range(len(L)):\n",
    "        TL.append(L[i][\"train\"])\n",
    "        VL.append(L[i][\"valid\"])    \n",
    "    \n",
    "    x_Axis = np.arange(1, len(L) + 1)\n",
    "    plt.figure()\n",
    "    plt.plot(x_Axis, TL, \"r\", label=\"train\")\n",
    "    plt.plot(x_Axis, VL, \"b\", label=\"valid\")\n",
    "    plt.grid()\n",
    "    plt.legend()\n",
    "    plt.title(\"MSE Loss\")\n",
    "    plt.show()"
   ]
  },
  {
   "cell_type": "markdown",
   "id": "30cc35fd",
   "metadata": {
    "id": "_V2zll0jKt9R",
    "papermill": {
     "duration": 0.015531,
     "end_time": "2021-10-11T05:56:26.117680",
     "exception": false,
     "start_time": "2021-10-11T05:56:26.102149",
     "status": "completed"
    },
    "tags": []
   },
   "source": [
    "## Dataset Template"
   ]
  },
  {
   "cell_type": "code",
   "execution_count": 5,
   "id": "a4a5802c",
   "metadata": {
    "execution": {
     "iopub.execute_input": "2021-10-11T05:56:26.157409Z",
     "iopub.status.busy": "2021-10-11T05:56:26.156350Z",
     "iopub.status.idle": "2021-10-11T05:56:26.159128Z",
     "shell.execute_reply": "2021-10-11T05:56:26.159699Z",
     "shell.execute_reply.started": "2021-10-11T01:15:57.514085Z"
    },
    "id": "I70_x-3TKtbv",
    "papermill": {
     "duration": 0.024945,
     "end_time": "2021-10-11T05:56:26.159860",
     "exception": false,
     "start_time": "2021-10-11T05:56:26.134915",
     "status": "completed"
    },
    "tags": []
   },
   "outputs": [],
   "source": [
    "class DS(Dataset):\n",
    "    def __init__(self, features=None, targets=None):\n",
    "        self.features = features\n",
    "        self.targets  = targets\n",
    "        \n",
    "    def __len__(self):\n",
    "        return self.features.shape[0]\n",
    "    \n",
    "    def __getitem__(self, idx):\n",
    "        return torch.FloatTensor(self.features[idx]), torch.FloatTensor(self.targets[idx])"
   ]
  },
  {
   "cell_type": "markdown",
   "id": "f2d6cff9",
   "metadata": {
    "id": "aNKpPwDWKxFD",
    "papermill": {
     "duration": 0.015984,
     "end_time": "2021-10-11T05:56:26.191481",
     "exception": false,
     "start_time": "2021-10-11T05:56:26.175497",
     "status": "completed"
    },
    "tags": []
   },
   "source": [
    "## Build Dataloaders"
   ]
  },
  {
   "cell_type": "code",
   "execution_count": 6,
   "id": "074b0c79",
   "metadata": {
    "execution": {
     "iopub.execute_input": "2021-10-11T05:56:26.231349Z",
     "iopub.status.busy": "2021-10-11T05:56:26.230367Z",
     "iopub.status.idle": "2021-10-11T05:56:26.233771Z",
     "shell.execute_reply": "2021-10-11T05:56:26.233222Z",
     "shell.execute_reply.started": "2021-10-11T01:15:57.771644Z"
    },
    "id": "FXxkPSWbKvR4",
    "papermill": {
     "duration": 0.026195,
     "end_time": "2021-10-11T05:56:26.233901",
     "exception": false,
     "start_time": "2021-10-11T05:56:26.207706",
     "status": "completed"
    },
    "tags": []
   },
   "outputs": [],
   "source": [
    "def build_dataloaders(tr_features: np.ndarray, va_features: np.ndarray,\n",
    "                      tr_targets: np.ndarray, va_targets: np.ndarray,\n",
    "                      batch_size: int, seed: int):\n",
    "\n",
    "    if verbose:\n",
    "        breaker()\n",
    "        print(\"Building Train and Validation DataLoaders ...\")\n",
    "    \n",
    "    tr_data_setup = DS(features=tr_features, targets=tr_targets)\n",
    "    va_data_setup = DS(features=va_features, targets=va_targets)\n",
    "    \n",
    "    dataloaders = {\n",
    "        \"train\" : DL(tr_data_setup, batch_size=batch_size, shuffle=True, generator=torch.manual_seed(seed)),\n",
    "        \"valid\" : DL(va_data_setup, batch_size=batch_size, shuffle=False)\n",
    "    }\n",
    "    \n",
    "    return dataloaders"
   ]
  },
  {
   "cell_type": "markdown",
   "id": "778cbe54",
   "metadata": {
    "id": "MqtZJEFoK1Ct",
    "papermill": {
     "duration": 0.01572,
     "end_time": "2021-10-11T05:56:26.265585",
     "exception": false,
     "start_time": "2021-10-11T05:56:26.249865",
     "status": "completed"
    },
    "tags": []
   },
   "source": [
    "# Build Model"
   ]
  },
  {
   "cell_type": "code",
   "execution_count": 7,
   "id": "80f99b41",
   "metadata": {
    "execution": {
     "iopub.execute_input": "2021-10-11T05:56:26.309043Z",
     "iopub.status.busy": "2021-10-11T05:56:26.305472Z",
     "iopub.status.idle": "2021-10-11T05:56:26.311786Z",
     "shell.execute_reply": "2021-10-11T05:56:26.312329Z",
     "shell.execute_reply.started": "2021-10-11T01:15:58.16986Z"
    },
    "id": "cS9DM0KYKyxB",
    "papermill": {
     "duration": 0.030973,
     "end_time": "2021-10-11T05:56:26.312509",
     "exception": false,
     "start_time": "2021-10-11T05:56:26.281536",
     "status": "completed"
    },
    "tags": []
   },
   "outputs": [],
   "source": [
    "def build_model(IL: int, seed: int):\n",
    "    class ANN(nn.Module):\n",
    "        def __init__(self, IL=None):\n",
    "            super(ANN, self).__init__()\n",
    "\n",
    "            self.predictor = nn.Sequential()\n",
    "            self.predictor.add_module(\"BN\", nn.BatchNorm1d(num_features=IL, eps=1e-5))\n",
    "            self.predictor.add_module(\"FC\", WN(nn.Linear(in_features=IL, out_features=1)))\n",
    "\n",
    "        def get_optimizer(self, lr=1e-3, wd=0):\n",
    "            params = [p for p in self.parameters() if p.requires_grad]\n",
    "            return optim.Adam(params, lr=lr, weight_decay=wd)\n",
    "\n",
    "        def get_plateau_scheduler(self, optimizer=None, patience=5, eps=1e-8):\n",
    "            return optim.lr_scheduler.ReduceLROnPlateau(optimizer=optimizer, patience=patience, eps=eps, verbose=True)\n",
    "\n",
    "        def forward(self, x):\n",
    "            return self.predictor(x)\n",
    "    \n",
    "    if verbose:\n",
    "        breaker()\n",
    "        print(\"Building Model ...\")\n",
    "        print(\"\\n{} -> 1\".format(IL))\n",
    "    \n",
    "    torch.manual_seed(seed)\n",
    "    model = ANN(IL=IL)\n",
    "    \n",
    "    return model"
   ]
  },
  {
   "cell_type": "code",
   "execution_count": 8,
   "id": "7763fd15",
   "metadata": {
    "execution": {
     "iopub.execute_input": "2021-10-11T05:56:26.371627Z",
     "iopub.status.busy": "2021-10-11T05:56:26.370469Z",
     "iopub.status.idle": "2021-10-11T05:56:26.372933Z",
     "shell.execute_reply": "2021-10-11T05:56:26.373552Z",
     "shell.execute_reply.started": "2021-10-11T01:15:58.320531Z"
    },
    "id": "BIExRJquK2mV",
    "papermill": {
     "duration": 0.044924,
     "end_time": "2021-10-11T05:56:26.373693",
     "exception": false,
     "start_time": "2021-10-11T05:56:26.328769",
     "status": "completed"
    },
    "tags": []
   },
   "outputs": [],
   "source": [
    "def fit(model=None, optimizer=None, scheduler=None, \n",
    "        epochs=None, early_stopping_patience=None,\n",
    "        dataloaders=None, model_name=None, fold=None, \n",
    "        verbose=False) -> tuple:\n",
    "    \n",
    "    name = \"./{}_Fold_{}_state.pt\".format(model_name, fold)\n",
    "    \n",
    "    if verbose:\n",
    "        breaker()\n",
    "        print(\"Training Fold {}...\".format(fold))\n",
    "        breaker()\n",
    "    # else:\n",
    "        # print(\"Training Fold {}...\".format(fold))\n",
    "\n",
    "\n",
    "    Losses = []\n",
    "    bestLoss = {\"train\" : np.inf, \"valid\" : np.inf}\n",
    "\n",
    "    model.to(DEVICE)\n",
    "    start_time = time()\n",
    "    for e in range(epochs):\n",
    "        e_st = time()\n",
    "        epochLoss = {\"train\" : np.inf, \"valid\" : np.inf}\n",
    "\n",
    "        for phase in [\"train\", \"valid\"]:\n",
    "            if phase == \"train\":\n",
    "                model.train()\n",
    "            else:\n",
    "                model.eval()\n",
    "            \n",
    "            lossPerPass = []\n",
    "\n",
    "            for X, y in dataloaders[phase]:\n",
    "                X, y = X.to(DEVICE), y.to(DEVICE)\n",
    "\n",
    "                optimizer.zero_grad()\n",
    "                with torch.set_grad_enabled(phase == \"train\"):\n",
    "                    output = model(X)\n",
    "                    loss = torch.nn.MSELoss()(output, y)\n",
    "                    if phase == \"train\":\n",
    "                        loss.backward()\n",
    "                        optimizer.step()\n",
    "                lossPerPass.append(loss.item())\n",
    "            epochLoss[phase] = np.mean(np.array(lossPerPass))\n",
    "        Losses.append(epochLoss)\n",
    "\n",
    "        if early_stopping_patience:\n",
    "            if epochLoss[\"valid\"] < bestLoss[\"valid\"]:\n",
    "                bestLoss = epochLoss\n",
    "                BLE = e + 1\n",
    "                torch.save({\"model_state_dict\": model.state_dict(),\n",
    "                            \"optim_state_dict\": optimizer.state_dict()},\n",
    "                           name)\n",
    "                early_stopping_step = 0\n",
    "            else:\n",
    "                early_stopping_step += 1\n",
    "                if early_stopping_step > early_stopping_patience:\n",
    "                    if verbose:\n",
    "                        print(\"\\nEarly Stopping at Epoch {}\".format(e))\n",
    "                    break\n",
    "        \n",
    "        if epochLoss[\"valid\"] < bestLoss[\"valid\"]:\n",
    "            bestLoss = epochLoss\n",
    "            BLE = e + 1\n",
    "            torch.save({\"model_state_dict\": model.state_dict(),\n",
    "                        \"optim_state_dict\": optimizer.state_dict()},\n",
    "                       name)\n",
    "        \n",
    "        if scheduler:\n",
    "            scheduler.step(epochLoss[\"valid\"])\n",
    "\n",
    "        if verbose:\n",
    "            print(\"Epoch: {} | Train Loss: {:.5f} | Valid Loss: {:.5f} | Time: {:.2f} seconds\".format(e+1, epochLoss[\"train\"], epochLoss[\"valid\"], time()-e_st))\n",
    "    \n",
    "    if verbose:\n",
    "        breaker()\n",
    "        print(\"Best Validation Loss at Epoch {}\".format(BLE))\n",
    "        breaker()\n",
    "        print(\"Time Taken [{} Epochs] : {:.2f} minutes\".format(len(Losses), (time()-start_time)/60))\n",
    "        breaker()\n",
    "        print(\"Training Completed\")\n",
    "        breaker()\n",
    "\n",
    "    return Losses, BLE, name\n",
    "\n",
    "#####################################################################################################\n",
    "\n",
    "def predict_batch(model=None, dataloader=None, mode=\"test\", path=None) -> np.ndarray:\n",
    "    model.load_state_dict(torch.load(path, map_location=DEVICE)[\"model_state_dict\"])\n",
    "    model.to(DEVICE)\n",
    "    model.eval()\n",
    "\n",
    "    y_pred = torch.zeros(1, 1).to(DEVICE)\n",
    "    if re.match(r\"valid\", mode, re.IGNORECASE):\n",
    "        for X, _ in dataloader:\n",
    "            X = X.to(DEVICE)\n",
    "            with torch.no_grad():\n",
    "                output = model(X)\n",
    "            y_pred = torch.cat((y_pred, output.view(-1, 1)), dim=0)\n",
    "    elif re.match(r\"test\", mode, re.IGNORECASE):\n",
    "        for X in dataloader:\n",
    "            X = X.to(DEVICE)\n",
    "            with torch.no_grad():\n",
    "                output = model(X)\n",
    "            y_pred = torch.cat((y_pred, output.view(-1, 1)), dim=0)\n",
    "    \n",
    "    return y_pred[1:].detach().cpu().numpy()"
   ]
  },
  {
   "cell_type": "code",
   "execution_count": 9,
   "id": "b13edd83",
   "metadata": {
    "execution": {
     "iopub.execute_input": "2021-10-11T05:56:26.422298Z",
     "iopub.status.busy": "2021-10-11T05:56:26.409247Z",
     "iopub.status.idle": "2021-10-11T05:56:26.425430Z",
     "shell.execute_reply": "2021-10-11T05:56:26.424854Z",
     "shell.execute_reply.started": "2021-10-11T01:15:58.459656Z"
    },
    "id": "JoZsjzfqLRAI",
    "papermill": {
     "duration": 0.035763,
     "end_time": "2021-10-11T05:56:26.425596",
     "exception": false,
     "start_time": "2021-10-11T05:56:26.389833",
     "status": "completed"
    },
    "tags": []
   },
   "outputs": [],
   "source": [
    "def train(features: np.ndarray, targets: np.ndarray,\n",
    "          n_splits: int, batch_size: int, lr: float, wd: float, \n",
    "          epochs: int, early_stopping: int,\n",
    "          model_name: str, \n",
    "          patience=None, eps=None) -> list:        \n",
    "    \n",
    "    metrics = []\n",
    "        \n",
    "    KFold_start_time = time()\n",
    "    if verbose:\n",
    "        breaker()\n",
    "        print(\"\\t\\t{}\".format(model_name))\n",
    "        breaker()\n",
    "        print(\"Performing {} Fold CV ...\".format(n_splits))\n",
    "    fold = 1\n",
    "    for tr_idx, va_idx in KFold(n_splits=n_splits, shuffle=True, random_state=SEED).split(features):\n",
    "\n",
    "        tr_features, va_features = features[tr_idx], features[va_idx]\n",
    "        tr_targets, va_targets   = targets[tr_idx], targets[va_idx]\n",
    "\n",
    "        tr_targets, va_targets   = tr_targets.reshape(-1, 1), va_targets.reshape(-1, 1)\n",
    "\n",
    "        tr_targets = sc_y.fit_transform(tr_targets)\n",
    "        va_targets = sc_y.transform(va_targets)\n",
    "\n",
    "        dataloaders = build_dataloaders(tr_features, va_features, \n",
    "                                         tr_targets, va_targets, \n",
    "                                         batch_size, SEED)\n",
    "        model = build_model(IL=tr_features.shape[1], seed=SEED)\n",
    "        \n",
    "        optimizer = model.get_optimizer(lr=lr, wd=wd)\n",
    "        scheduler = None\n",
    "        if isinstance(patience, int) and isinstance(eps, float):\n",
    "            scheduler = model.get_plateau_scheduler(optimizer, patience, eps)\n",
    "        \n",
    "        L, _, name = fit(model=model, optimizer=optimizer, scheduler=scheduler, \n",
    "                         epochs=epochs, early_stopping_patience=early_stopping,\n",
    "                         dataloaders=dataloaders, model_name=model_name, fold=fold, verbose=False)\n",
    "        y_pred = predict_batch(model=model, dataloader=dataloaders[\"valid\"], mode=\"valid\", path=name)\n",
    "        RMSE = np.sqrt(mean_squared_error(sc_y.inverse_transform(y_pred), sc_y.inverse_transform(va_targets)))\n",
    "        if verbose:\n",
    "            print(\"\\nValidation RMSE [Fold {}]: {:.5f}\".format(fold, RMSE))\n",
    "            breaker()\n",
    "            show_graphs(L)\n",
    "        \n",
    "        metrics_dict = {\"Model\" : model_name, \"Fold\" : fold, \"RMSE\" : RMSE}\n",
    "        metrics.append(metrics_dict)\n",
    "        \n",
    "        fold += 1\n",
    "    \n",
    "    if verbose:\n",
    "        breaker()\n",
    "        print(\"Total Time to {} Fold CV : {:.2f} minutes\".format(n_splits, (time() - KFold_start_time)/60))\n",
    "    \n",
    "    return metrics, (time() - KFold_start_time)/60"
   ]
  },
  {
   "cell_type": "markdown",
   "id": "97480b59",
   "metadata": {
    "id": "8wuCibccLV3M",
    "papermill": {
     "duration": 0.015524,
     "end_time": "2021-10-11T05:56:26.457132",
     "exception": false,
     "start_time": "2021-10-11T05:56:26.441608",
     "status": "completed"
    },
    "tags": []
   },
   "source": [
    "## Main"
   ]
  },
  {
   "cell_type": "code",
   "execution_count": 10,
   "id": "50ba50f1",
   "metadata": {
    "execution": {
     "iopub.execute_input": "2021-10-11T05:56:26.501938Z",
     "iopub.status.busy": "2021-10-11T05:56:26.500965Z",
     "iopub.status.idle": "2021-10-11T05:56:26.504418Z",
     "shell.execute_reply": "2021-10-11T05:56:26.503847Z",
     "shell.execute_reply.started": "2021-10-11T01:15:58.728221Z"
    },
    "id": "tA0v-i-3LWmi",
    "outputId": "7f5cc192-a117-4b50-8f29-bab23087590b",
    "papermill": {
     "duration": 0.031511,
     "end_time": "2021-10-11T05:56:26.504552",
     "exception": false,
     "start_time": "2021-10-11T05:56:26.473041",
     "status": "completed"
    },
    "tags": []
   },
   "outputs": [],
   "source": [
    "def main():\n",
    "    \n",
    "    ########### Params ###########\n",
    "    \n",
    "    if DEBUG:\n",
    "        n_splits = 3\n",
    "        batch_size = 512\n",
    "        lr, wd = 1e-3, 1e-1\n",
    "        patience, eps = 5, 1e-8\n",
    "        epochs, early_stopping = 5, 5\n",
    "        MODEL_NAMES = [\"resnet18\", \"resnet34\"]\n",
    "    else:\n",
    "        n_splits = 10\n",
    "        batch_size = 32\n",
    "        lr, wd = 5e-4, 1e-1\n",
    "        patience, eps = 5, 1e-8\n",
    "        epochs, early_stopping = 100, 8\n",
    "        MODEL_NAMES  = [\"resnet18\", \"resnet34\", \"resnet50\", \"resnet101\", \"resnet152\",\n",
    "                        \"resnext50\", \"resnext101\",\n",
    "                        \"wresnet50\", \"wresnet101\",\n",
    "                        \"vgg11\", \"vgg13\", \"vgg16\", \"vgg19\",\n",
    "                        \"densenet121\", \"densenet161\", \"densenet169\", \"densenet201\",\n",
    "                        \"mobilenet\"]\n",
    "    \n",
    "    ##############################\n",
    "\n",
    "    complete_metrics = []\n",
    "    \n",
    "    if verbose:\n",
    "        breaker()\n",
    "        print(\"Loading Data ...\")\n",
    "    else:\n",
    "        breaker()\n",
    "    \n",
    "    \n",
    "    for model_name in MODEL_NAMES:\n",
    "\n",
    "        features = np.load(os.path.join(FEATURES_PATH, \"{}_features.npy\".format(model_name)))\n",
    "        targets = get_targets(TARGETS_PATH)\n",
    "\n",
    "        # Without Scheduler\n",
    "        metrics, time_taken = train(features, targets, n_splits, batch_size, lr, wd, epochs, early_stopping, model_name=model_name, patience=None, eps=None)\n",
    "        \n",
    "        # # With Plateau Scheduler\n",
    "        # metrics = train(features, targets, n_splits, batch_size, lr, wd, epochs, early_stopping, model_name=model_name, patience=patience, eps=eps)    \n",
    "\n",
    "        complete_metrics.append(metrics)\n",
    "\n",
    "        if not verbose:\n",
    "            print(\"{} Features -> {:.2f} minutes\".format(model_name.capitalize(), time_taken))\n",
    "\n",
    "    if verbose:\n",
    "        breaker()\n",
    "        for i in range(len(complete_metrics)):\n",
    "            for j in range(len(complete_metrics[i])):\n",
    "                print(complete_metrics[i][j])\n",
    "\n",
    "    with open(\"./complete_metrics.pkl\", \"wb\") as fp:\n",
    "        pickle.dump(complete_metrics, fp)\n",
    "    \n",
    "    breaker()"
   ]
  },
  {
   "cell_type": "code",
   "execution_count": 11,
   "id": "8ef37520",
   "metadata": {
    "execution": {
     "iopub.execute_input": "2021-10-11T05:56:26.546053Z",
     "iopub.status.busy": "2021-10-11T05:56:26.543647Z",
     "iopub.status.idle": "2021-10-11T06:43:45.625041Z",
     "shell.execute_reply": "2021-10-11T06:43:45.625762Z",
     "shell.execute_reply.started": "2021-10-11T01:15:58.842234Z"
    },
    "papermill": {
     "duration": 2839.105469,
     "end_time": "2021-10-11T06:43:45.625968",
     "exception": false,
     "start_time": "2021-10-11T05:56:26.520499",
     "status": "completed"
    },
    "tags": []
   },
   "outputs": [
    {
     "name": "stdout",
     "output_type": "stream",
     "text": [
      "\n",
      "**************************************************\n",
      "\n",
      "Resnet18 Features -> 2.56 minutes\n",
      "Resnet34 Features -> 2.46 minutes\n",
      "Resnet50 Features -> 2.62 minutes\n",
      "Resnet101 Features -> 2.56 minutes\n",
      "Resnet152 Features -> 2.55 minutes\n",
      "Resnext50 Features -> 2.71 minutes\n",
      "Resnext101 Features -> 2.61 minutes\n",
      "Wresnet50 Features -> 2.71 minutes\n",
      "Wresnet101 Features -> 2.59 minutes\n",
      "Vgg11 Features -> 2.83 minutes\n",
      "Vgg13 Features -> 2.70 minutes\n",
      "Vgg16 Features -> 2.83 minutes\n",
      "Vgg19 Features -> 2.71 minutes\n",
      "Densenet121 Features -> 2.48 minutes\n",
      "Densenet161 Features -> 2.41 minutes\n",
      "Densenet169 Features -> 2.33 minutes\n",
      "Densenet201 Features -> 2.53 minutes\n",
      "Mobilenet Features -> 2.49 minutes\n",
      "\n",
      "**************************************************\n",
      "\n"
     ]
    }
   ],
   "source": [
    "main()"
   ]
  },
  {
   "cell_type": "code",
   "execution_count": 12,
   "id": "f15f0a1f",
   "metadata": {
    "execution": {
     "iopub.execute_input": "2021-10-11T06:43:45.684557Z",
     "iopub.status.busy": "2021-10-11T06:43:45.683423Z",
     "iopub.status.idle": "2021-10-11T06:43:45.690012Z",
     "shell.execute_reply": "2021-10-11T06:43:45.689289Z",
     "shell.execute_reply.started": "2021-10-11T01:19:18.418037Z"
    },
    "papermill": {
     "duration": 0.039196,
     "end_time": "2021-10-11T06:43:45.690195",
     "exception": false,
     "start_time": "2021-10-11T06:43:45.650999",
     "status": "completed"
    },
    "tags": []
   },
   "outputs": [
    {
     "name": "stdout",
     "output_type": "stream",
     "text": [
      "\n",
      "**************************************************\n",
      "\n",
      "Best --> {'Model': 'densenet201', 'Fold': 8, 'RMSE': 16.733944546854936}\n",
      "\n",
      "**************************************************\n",
      "\n"
     ]
    }
   ],
   "source": [
    "if not verbose:\n",
    "    with open(\"./complete_metrics.pkl\", \"rb\") as fp:\n",
    "            params = pickle.load(fp)\n",
    "\n",
    "    rmse = []\n",
    "    for i in range(len(params)):\n",
    "        for j in range(len(params[i])):\n",
    "            rmse.append(params[i][j][\"RMSE\"])\n",
    "\n",
    "    best_index = rmse.index(min(rmse))\n",
    "    if DEBUG:\n",
    "        best_index_1 = best_index // 3\n",
    "        best_index_2 = best_index % 3\n",
    "    else:\n",
    "        best_index_1 = best_index // 10\n",
    "        best_index_2 = best_index % 10\n",
    "\n",
    "    breaker()\n",
    "    print(\"Best --> {}\".format(params[best_index_1][best_index_2]))\n",
    "    breaker()"
   ]
  },
  {
   "cell_type": "code",
   "execution_count": 13,
   "id": "a09b8d7b",
   "metadata": {
    "execution": {
     "iopub.execute_input": "2021-10-11T06:43:45.747197Z",
     "iopub.status.busy": "2021-10-11T06:43:45.746080Z",
     "iopub.status.idle": "2021-10-11T06:43:45.752059Z",
     "shell.execute_reply": "2021-10-11T06:43:45.751526Z",
     "shell.execute_reply.started": "2021-10-11T01:11:45.02817Z"
    },
    "papermill": {
     "duration": 0.036622,
     "end_time": "2021-10-11T06:43:45.752208",
     "exception": false,
     "start_time": "2021-10-11T06:43:45.715586",
     "status": "completed"
    },
    "tags": []
   },
   "outputs": [
    {
     "name": "stdout",
     "output_type": "stream",
     "text": [
      "\n",
      "**************************************************\n",
      "\n",
      "Notebook Runtime : 47.43 minutes\n",
      "\n",
      "**************************************************\n",
      "\n"
     ]
    }
   ],
   "source": [
    "breaker()\n",
    "print(\"Notebook Runtime : {:.2f} minutes\".format((time()-notebook_start_time)/60))\n",
    "breaker()"
   ]
  }
 ],
 "metadata": {
  "kernelspec": {
   "display_name": "Python 3",
   "language": "python",
   "name": "python3"
  },
  "language_info": {
   "codemirror_mode": {
    "name": "ipython",
    "version": 3
   },
   "file_extension": ".py",
   "mimetype": "text/x-python",
   "name": "python",
   "nbconvert_exporter": "python",
   "pygments_lexer": "ipython3",
   "version": "3.7.10"
  },
  "papermill": {
   "default_parameters": {},
   "duration": 2854.547418,
   "end_time": "2021-10-11T06:43:47.239608",
   "environment_variables": {},
   "exception": null,
   "input_path": "__notebook__.ipynb",
   "output_path": "__notebook__.ipynb",
   "parameters": {},
   "start_time": "2021-10-11T05:56:12.692190",
   "version": "2.3.3"
  }
 },
 "nbformat": 4,
 "nbformat_minor": 5
}
