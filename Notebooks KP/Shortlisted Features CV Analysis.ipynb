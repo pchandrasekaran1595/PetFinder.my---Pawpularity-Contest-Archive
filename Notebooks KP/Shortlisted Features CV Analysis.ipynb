{
 "cells": [
  {
   "cell_type": "markdown",
   "id": "96dc9dd7",
   "metadata": {
    "id": "38nmyCDEKRch",
    "papermill": {
     "duration": 0.013498,
     "end_time": "2021-10-11T05:25:09.763668",
     "exception": false,
     "start_time": "2021-10-11T05:25:09.750170",
     "status": "completed"
    },
    "tags": []
   },
   "source": [
    "## Library Imports"
   ]
  },
  {
   "cell_type": "code",
   "execution_count": 1,
   "id": "fda80e33",
   "metadata": {
    "execution": {
     "iopub.execute_input": "2021-10-11T05:25:09.872834Z",
     "iopub.status.busy": "2021-10-11T05:25:09.872110Z",
     "iopub.status.idle": "2021-10-11T05:25:09.875196Z",
     "shell.execute_reply": "2021-10-11T05:25:09.874665Z",
     "shell.execute_reply.started": "2021-10-11T01:09:41.711377Z"
    },
    "papermill": {
     "duration": 0.097231,
     "end_time": "2021-10-11T05:25:09.875327",
     "exception": false,
     "start_time": "2021-10-11T05:25:09.778096",
     "status": "completed"
    },
    "tags": []
   },
   "outputs": [],
   "source": [
    "from time import time\n",
    "notebook_start_time = time()"
   ]
  },
  {
   "cell_type": "code",
   "execution_count": 2,
   "id": "14dae237",
   "metadata": {
    "execution": {
     "iopub.execute_input": "2021-10-11T05:25:09.906191Z",
     "iopub.status.busy": "2021-10-11T05:25:09.905550Z",
     "iopub.status.idle": "2021-10-11T05:25:15.391071Z",
     "shell.execute_reply": "2021-10-11T05:25:15.390186Z",
     "shell.execute_reply.started": "2021-10-11T01:09:41.807886Z"
    },
    "id": "NNHd2aujKTDg",
    "papermill": {
     "duration": 5.503173,
     "end_time": "2021-10-11T05:25:15.391206",
     "exception": false,
     "start_time": "2021-10-11T05:25:09.888033",
     "status": "completed"
    },
    "tags": []
   },
   "outputs": [],
   "source": [
    "import os\n",
    "import re\n",
    "import pickle\n",
    "import numpy as np\n",
    "import pandas as pd\n",
    "import matplotlib.pyplot as plt\n",
    "\n",
    "import torch\n",
    "from torch import nn, optim\n",
    "from torch.utils.data import Dataset\n",
    "from torch.utils.data import DataLoader as DL\n",
    "from torch.nn.utils import weight_norm as WN\n",
    "from torchvision import models, transforms\n",
    "\n",
    "from time import time\n",
    "from sklearn.model_selection import KFold\n",
    "from sklearn.metrics import mean_squared_error\n",
    "from sklearn.preprocessing import StandardScaler\n",
    "\n",
    "import warnings\n",
    "warnings.filterwarnings(\"ignore\")"
   ]
  },
  {
   "cell_type": "markdown",
   "id": "f83dd5b1",
   "metadata": {
    "id": "zkkFhiO4KXy6",
    "papermill": {
     "duration": 0.012884,
     "end_time": "2021-10-11T05:25:15.417449",
     "exception": false,
     "start_time": "2021-10-11T05:25:15.404565",
     "status": "completed"
    },
    "tags": []
   },
   "source": [
    "## Constants and Utilities"
   ]
  },
  {
   "cell_type": "code",
   "execution_count": 3,
   "id": "621cb4ab",
   "metadata": {
    "execution": {
     "iopub.execute_input": "2021-10-11T05:25:15.487973Z",
     "iopub.status.busy": "2021-10-11T05:25:15.487367Z",
     "iopub.status.idle": "2021-10-11T05:25:15.491232Z",
     "shell.execute_reply": "2021-10-11T05:25:15.490824Z",
     "shell.execute_reply.started": "2021-10-11T01:15:57.007968Z"
    },
    "id": "oOtRJ-GIKYmR",
    "papermill": {
     "duration": 0.060406,
     "end_time": "2021-10-11T05:25:15.491347",
     "exception": false,
     "start_time": "2021-10-11T05:25:15.430941",
     "status": "completed"
    },
    "tags": []
   },
   "outputs": [],
   "source": [
    "SEED = 49\n",
    "DEVICE = torch.device(\"cuda\" if torch.cuda.is_available() else \"cpu\")\n",
    "\n",
    "FEATURES_PATH = \"../input/petfinder-pf-cc-ua-all-dataset\"\n",
    "TARGETS_PATH  = \"../input/petfinder-pawpularity-score\"\n",
    "\n",
    "verbose = False\n",
    "DEBUG = False\n",
    "\n",
    "sc_y = StandardScaler()"
   ]
  },
  {
   "cell_type": "code",
   "execution_count": 4,
   "id": "13e43d36",
   "metadata": {
    "execution": {
     "iopub.execute_input": "2021-10-11T05:25:15.528997Z",
     "iopub.status.busy": "2021-10-11T05:25:15.528351Z",
     "iopub.status.idle": "2021-10-11T05:25:15.531312Z",
     "shell.execute_reply": "2021-10-11T05:25:15.531751Z",
     "shell.execute_reply.started": "2021-10-11T01:15:57.143993Z"
    },
    "id": "SgEqZ9dUKiQq",
    "papermill": {
     "duration": 0.027496,
     "end_time": "2021-10-11T05:25:15.531894",
     "exception": false,
     "start_time": "2021-10-11T05:25:15.504398",
     "status": "completed"
    },
    "tags": []
   },
   "outputs": [],
   "source": [
    "def breaker(num=50, char=\"*\") -> None:\n",
    "    print(\"\\n\" + num*char + \"\\n\")\n",
    "\n",
    "\n",
    "def head(x, no_of_ele=5) -> None:\n",
    "    print(x[:no_of_ele])\n",
    "\n",
    "\n",
    "def get_targets(path: str) -> np.ndarray:\n",
    "    df = pd.read_csv(os.path.join(path, \"train.csv\"), engine=\"python\")\n",
    "    targets  = df.iloc[:, -1].copy().values\n",
    "    return targets\n",
    "\n",
    "\n",
    "def show_graphs(L: list) -> None:\n",
    "    TL, VL = [], []\n",
    "    for i in range(len(L)):\n",
    "        TL.append(L[i][\"train\"])\n",
    "        VL.append(L[i][\"valid\"])    \n",
    "    \n",
    "    x_Axis = np.arange(1, len(L) + 1)\n",
    "    plt.figure()\n",
    "    plt.plot(x_Axis, TL, \"r\", label=\"train\")\n",
    "    plt.plot(x_Axis, VL, \"b\", label=\"valid\")\n",
    "    plt.grid()\n",
    "    plt.legend()\n",
    "    plt.title(\"MSE Loss\")\n",
    "    plt.show()"
   ]
  },
  {
   "cell_type": "markdown",
   "id": "5f542a2e",
   "metadata": {
    "id": "_V2zll0jKt9R",
    "papermill": {
     "duration": 0.014155,
     "end_time": "2021-10-11T05:25:15.560430",
     "exception": false,
     "start_time": "2021-10-11T05:25:15.546275",
     "status": "completed"
    },
    "tags": []
   },
   "source": [
    "## Dataset Template"
   ]
  },
  {
   "cell_type": "code",
   "execution_count": 5,
   "id": "eb08d40f",
   "metadata": {
    "execution": {
     "iopub.execute_input": "2021-10-11T05:25:15.595761Z",
     "iopub.status.busy": "2021-10-11T05:25:15.595125Z",
     "iopub.status.idle": "2021-10-11T05:25:15.598524Z",
     "shell.execute_reply": "2021-10-11T05:25:15.598950Z",
     "shell.execute_reply.started": "2021-10-11T01:15:57.514085Z"
    },
    "id": "I70_x-3TKtbv",
    "papermill": {
     "duration": 0.023406,
     "end_time": "2021-10-11T05:25:15.599090",
     "exception": false,
     "start_time": "2021-10-11T05:25:15.575684",
     "status": "completed"
    },
    "tags": []
   },
   "outputs": [],
   "source": [
    "class DS(Dataset):\n",
    "    def __init__(self, features=None, targets=None):\n",
    "        self.features = features\n",
    "        self.targets  = targets\n",
    "        \n",
    "    def __len__(self):\n",
    "        return self.features.shape[0]\n",
    "    \n",
    "    def __getitem__(self, idx):\n",
    "        return torch.FloatTensor(self.features[idx]), torch.FloatTensor(self.targets[idx])"
   ]
  },
  {
   "cell_type": "markdown",
   "id": "c770aa7a",
   "metadata": {
    "id": "aNKpPwDWKxFD",
    "papermill": {
     "duration": 0.013404,
     "end_time": "2021-10-11T05:25:15.626319",
     "exception": false,
     "start_time": "2021-10-11T05:25:15.612915",
     "status": "completed"
    },
    "tags": []
   },
   "source": [
    "## Build Dataloaders"
   ]
  },
  {
   "cell_type": "code",
   "execution_count": 6,
   "id": "40191788",
   "metadata": {
    "execution": {
     "iopub.execute_input": "2021-10-11T05:25:15.663551Z",
     "iopub.status.busy": "2021-10-11T05:25:15.661855Z",
     "iopub.status.idle": "2021-10-11T05:25:15.664231Z",
     "shell.execute_reply": "2021-10-11T05:25:15.664676Z",
     "shell.execute_reply.started": "2021-10-11T01:15:57.771644Z"
    },
    "id": "FXxkPSWbKvR4",
    "papermill": {
     "duration": 0.023715,
     "end_time": "2021-10-11T05:25:15.664807",
     "exception": false,
     "start_time": "2021-10-11T05:25:15.641092",
     "status": "completed"
    },
    "tags": []
   },
   "outputs": [],
   "source": [
    "def build_dataloaders(tr_features: np.ndarray, va_features: np.ndarray,\n",
    "                      tr_targets: np.ndarray, va_targets: np.ndarray,\n",
    "                      batch_size: int, seed: int):\n",
    "\n",
    "    if verbose:\n",
    "        breaker()\n",
    "        print(\"Building Train and Validation DataLoaders ...\")\n",
    "    \n",
    "    tr_data_setup = DS(features=tr_features, targets=tr_targets)\n",
    "    va_data_setup = DS(features=va_features, targets=va_targets)\n",
    "    \n",
    "    dataloaders = {\n",
    "        \"train\" : DL(tr_data_setup, batch_size=batch_size, shuffle=True, generator=torch.manual_seed(seed)),\n",
    "        \"valid\" : DL(va_data_setup, batch_size=batch_size, shuffle=False)\n",
    "    }\n",
    "    \n",
    "    return dataloaders"
   ]
  },
  {
   "cell_type": "markdown",
   "id": "27854473",
   "metadata": {
    "id": "MqtZJEFoK1Ct",
    "papermill": {
     "duration": 0.013059,
     "end_time": "2021-10-11T05:25:15.691155",
     "exception": false,
     "start_time": "2021-10-11T05:25:15.678096",
     "status": "completed"
    },
    "tags": []
   },
   "source": [
    "# Build Model"
   ]
  },
  {
   "cell_type": "code",
   "execution_count": 7,
   "id": "e8053fa9",
   "metadata": {
    "execution": {
     "iopub.execute_input": "2021-10-11T05:25:15.728767Z",
     "iopub.status.busy": "2021-10-11T05:25:15.727104Z",
     "iopub.status.idle": "2021-10-11T05:25:15.729430Z",
     "shell.execute_reply": "2021-10-11T05:25:15.729872Z",
     "shell.execute_reply.started": "2021-10-11T01:15:58.16986Z"
    },
    "id": "cS9DM0KYKyxB",
    "papermill": {
     "duration": 0.025605,
     "end_time": "2021-10-11T05:25:15.730001",
     "exception": false,
     "start_time": "2021-10-11T05:25:15.704396",
     "status": "completed"
    },
    "tags": []
   },
   "outputs": [],
   "source": [
    "def build_model(IL: int, seed: int):\n",
    "    class ANN(nn.Module):\n",
    "        def __init__(self, IL=None):\n",
    "            super(ANN, self).__init__()\n",
    "\n",
    "            self.predictor = nn.Sequential()\n",
    "            self.predictor.add_module(\"BN\", nn.BatchNorm1d(num_features=IL, eps=1e-5))\n",
    "            self.predictor.add_module(\"FC\", WN(nn.Linear(in_features=IL, out_features=1)))\n",
    "\n",
    "        def get_optimizer(self, lr=1e-3, wd=0):\n",
    "            params = [p for p in self.parameters() if p.requires_grad]\n",
    "            return optim.Adam(params, lr=lr, weight_decay=wd)\n",
    "\n",
    "        def get_plateau_scheduler(self, optimizer=None, patience=5, eps=1e-8):\n",
    "            return optim.lr_scheduler.ReduceLROnPlateau(optimizer=optimizer, patience=patience, eps=eps, verbose=True)\n",
    "\n",
    "        def forward(self, x):\n",
    "            return self.predictor(x)\n",
    "    \n",
    "    if verbose:\n",
    "        breaker()\n",
    "        print(\"Building Model ...\")\n",
    "        print(\"\\n{} -> 1\".format(IL))\n",
    "    \n",
    "    torch.manual_seed(seed)\n",
    "    model = ANN(IL=IL)\n",
    "    \n",
    "    return model"
   ]
  },
  {
   "cell_type": "code",
   "execution_count": 8,
   "id": "3ad16c53",
   "metadata": {
    "execution": {
     "iopub.execute_input": "2021-10-11T05:25:15.778570Z",
     "iopub.status.busy": "2021-10-11T05:25:15.758332Z",
     "iopub.status.idle": "2021-10-11T05:25:15.780960Z",
     "shell.execute_reply": "2021-10-11T05:25:15.780495Z",
     "shell.execute_reply.started": "2021-10-11T01:15:58.320531Z"
    },
    "id": "BIExRJquK2mV",
    "papermill": {
     "duration": 0.038211,
     "end_time": "2021-10-11T05:25:15.781081",
     "exception": false,
     "start_time": "2021-10-11T05:25:15.742870",
     "status": "completed"
    },
    "tags": []
   },
   "outputs": [],
   "source": [
    "def fit(model=None, optimizer=None, scheduler=None, \n",
    "        epochs=None, early_stopping_patience=None,\n",
    "        dataloaders=None, model_name=None, fold=None, \n",
    "        verbose=False) -> tuple:\n",
    "    \n",
    "    name = \"./{}_Fold_{}_state.pt\".format(model_name, fold)\n",
    "    \n",
    "    if verbose:\n",
    "        breaker()\n",
    "        print(\"Training Fold {}...\".format(fold))\n",
    "        breaker()\n",
    "    # else:\n",
    "        # print(\"Training Fold {}...\".format(fold))\n",
    "\n",
    "\n",
    "    Losses = []\n",
    "    bestLoss = {\"train\" : np.inf, \"valid\" : np.inf}\n",
    "\n",
    "    model.to(DEVICE)\n",
    "    start_time = time()\n",
    "    for e in range(epochs):\n",
    "        e_st = time()\n",
    "        epochLoss = {\"train\" : np.inf, \"valid\" : np.inf}\n",
    "\n",
    "        for phase in [\"train\", \"valid\"]:\n",
    "            if phase == \"train\":\n",
    "                model.train()\n",
    "            else:\n",
    "                model.eval()\n",
    "            \n",
    "            lossPerPass = []\n",
    "\n",
    "            for X, y in dataloaders[phase]:\n",
    "                X, y = X.to(DEVICE), y.to(DEVICE)\n",
    "\n",
    "                optimizer.zero_grad()\n",
    "                with torch.set_grad_enabled(phase == \"train\"):\n",
    "                    output = model(X)\n",
    "                    loss = torch.nn.MSELoss()(output, y)\n",
    "                    if phase == \"train\":\n",
    "                        loss.backward()\n",
    "                        optimizer.step()\n",
    "                lossPerPass.append(loss.item())\n",
    "            epochLoss[phase] = np.mean(np.array(lossPerPass))\n",
    "        Losses.append(epochLoss)\n",
    "\n",
    "        if early_stopping_patience:\n",
    "            if epochLoss[\"valid\"] < bestLoss[\"valid\"]:\n",
    "                bestLoss = epochLoss\n",
    "                BLE = e + 1\n",
    "                torch.save({\"model_state_dict\": model.state_dict(),\n",
    "                            \"optim_state_dict\": optimizer.state_dict()},\n",
    "                           name)\n",
    "                early_stopping_step = 0\n",
    "            else:\n",
    "                early_stopping_step += 1\n",
    "                if early_stopping_step > early_stopping_patience:\n",
    "                    if verbose:\n",
    "                        print(\"\\nEarly Stopping at Epoch {}\".format(e))\n",
    "                    break\n",
    "        \n",
    "        if epochLoss[\"valid\"] < bestLoss[\"valid\"]:\n",
    "            bestLoss = epochLoss\n",
    "            BLE = e + 1\n",
    "            torch.save({\"model_state_dict\": model.state_dict(),\n",
    "                        \"optim_state_dict\": optimizer.state_dict()},\n",
    "                       name)\n",
    "        \n",
    "        if scheduler:\n",
    "            scheduler.step(epochLoss[\"valid\"])\n",
    "\n",
    "        if verbose:\n",
    "            print(\"Epoch: {} | Train Loss: {:.5f} | Valid Loss: {:.5f} | Time: {:.2f} seconds\".format(e+1, epochLoss[\"train\"], epochLoss[\"valid\"], time()-e_st))\n",
    "    \n",
    "    if verbose:\n",
    "        breaker()\n",
    "        print(\"Best Validation Loss at Epoch {}\".format(BLE))\n",
    "        breaker()\n",
    "        print(\"Time Taken [{} Epochs] : {:.2f} minutes\".format(len(Losses), (time()-start_time)/60))\n",
    "        breaker()\n",
    "        print(\"Training Completed\")\n",
    "        breaker()\n",
    "\n",
    "    return Losses, BLE, name\n",
    "\n",
    "#####################################################################################################\n",
    "\n",
    "def predict_batch(model=None, dataloader=None, mode=\"test\", path=None) -> np.ndarray:\n",
    "    model.load_state_dict(torch.load(path, map_location=DEVICE)[\"model_state_dict\"])\n",
    "    model.to(DEVICE)\n",
    "    model.eval()\n",
    "\n",
    "    y_pred = torch.zeros(1, 1).to(DEVICE)\n",
    "    if re.match(r\"valid\", mode, re.IGNORECASE):\n",
    "        for X, _ in dataloader:\n",
    "            X = X.to(DEVICE)\n",
    "            with torch.no_grad():\n",
    "                output = model(X)\n",
    "            y_pred = torch.cat((y_pred, output.view(-1, 1)), dim=0)\n",
    "    elif re.match(r\"test\", mode, re.IGNORECASE):\n",
    "        for X in dataloader:\n",
    "            X = X.to(DEVICE)\n",
    "            with torch.no_grad():\n",
    "                output = model(X)\n",
    "            y_pred = torch.cat((y_pred, output.view(-1, 1)), dim=0)\n",
    "    \n",
    "    return y_pred[1:].detach().cpu().numpy()"
   ]
  },
  {
   "cell_type": "code",
   "execution_count": 9,
   "id": "2505ad3a",
   "metadata": {
    "execution": {
     "iopub.execute_input": "2021-10-11T05:25:15.820877Z",
     "iopub.status.busy": "2021-10-11T05:25:15.819711Z",
     "iopub.status.idle": "2021-10-11T05:25:15.823169Z",
     "shell.execute_reply": "2021-10-11T05:25:15.822729Z",
     "shell.execute_reply.started": "2021-10-11T01:15:58.459656Z"
    },
    "id": "JoZsjzfqLRAI",
    "papermill": {
     "duration": 0.029274,
     "end_time": "2021-10-11T05:25:15.823270",
     "exception": false,
     "start_time": "2021-10-11T05:25:15.793996",
     "status": "completed"
    },
    "tags": []
   },
   "outputs": [],
   "source": [
    "def train(features: np.ndarray, targets: np.ndarray,\n",
    "          n_splits: int, batch_size: int, lr: float, wd: float, \n",
    "          epochs: int, early_stopping: int,\n",
    "          model_name: str, \n",
    "          patience=None, eps=None) -> list:        \n",
    "    \n",
    "    metrics = []\n",
    "        \n",
    "    KFold_start_time = time()\n",
    "    if verbose:\n",
    "        breaker()\n",
    "        print(\"\\t\\t{}\".format(model_name))\n",
    "        breaker()\n",
    "        print(\"Performing {} Fold CV ...\".format(n_splits))\n",
    "    fold = 1\n",
    "    for tr_idx, va_idx in KFold(n_splits=n_splits, shuffle=True, random_state=SEED).split(features):\n",
    "\n",
    "        tr_features, va_features = features[tr_idx], features[va_idx]\n",
    "        tr_targets, va_targets   = targets[tr_idx], targets[va_idx]\n",
    "\n",
    "        tr_targets, va_targets   = tr_targets.reshape(-1, 1), va_targets.reshape(-1, 1)\n",
    "\n",
    "        tr_targets = sc_y.fit_transform(tr_targets)\n",
    "        va_targets = sc_y.transform(va_targets)\n",
    "\n",
    "        dataloaders = build_dataloaders(tr_features, va_features, \n",
    "                                         tr_targets, va_targets, \n",
    "                                         batch_size, SEED)\n",
    "        model = build_model(IL=tr_features.shape[1], seed=SEED)\n",
    "        \n",
    "        optimizer = model.get_optimizer(lr=lr, wd=wd)\n",
    "        scheduler = None\n",
    "        if isinstance(patience, int) and isinstance(eps, float):\n",
    "            scheduler = model.get_plateau_scheduler(optimizer, patience, eps)\n",
    "        \n",
    "        L, _, name = fit(model=model, optimizer=optimizer, scheduler=scheduler, \n",
    "                         epochs=epochs, early_stopping_patience=early_stopping,\n",
    "                         dataloaders=dataloaders, model_name=model_name, fold=fold, verbose=False)\n",
    "        y_pred = predict_batch(model=model, dataloader=dataloaders[\"valid\"], mode=\"valid\", path=name)\n",
    "        RMSE = np.sqrt(mean_squared_error(sc_y.inverse_transform(y_pred), sc_y.inverse_transform(va_targets)))\n",
    "        if verbose:\n",
    "            print(\"\\nValidation RMSE [Fold {}]: {:.5f}\".format(fold, RMSE))\n",
    "            breaker()\n",
    "            show_graphs(L)\n",
    "        \n",
    "        metrics_dict = {\"Model\" : model_name, \"Fold\" : fold, \"RMSE\" : RMSE}\n",
    "        metrics.append(metrics_dict)\n",
    "        \n",
    "        fold += 1\n",
    "    \n",
    "    if verbose:\n",
    "        breaker()\n",
    "        print(\"Total Time to {} Fold CV : {:.2f} minutes\".format(n_splits, (time() - KFold_start_time)/60))\n",
    "    \n",
    "    return metrics, (time() - KFold_start_time)/60"
   ]
  },
  {
   "cell_type": "markdown",
   "id": "68ac65d6",
   "metadata": {
    "id": "8wuCibccLV3M",
    "papermill": {
     "duration": 0.012869,
     "end_time": "2021-10-11T05:25:15.849160",
     "exception": false,
     "start_time": "2021-10-11T05:25:15.836291",
     "status": "completed"
    },
    "tags": []
   },
   "source": [
    "## Main"
   ]
  },
  {
   "cell_type": "code",
   "execution_count": 10,
   "id": "9a99f454",
   "metadata": {
    "execution": {
     "iopub.execute_input": "2021-10-11T05:25:15.886280Z",
     "iopub.status.busy": "2021-10-11T05:25:15.885606Z",
     "iopub.status.idle": "2021-10-11T05:25:15.888251Z",
     "shell.execute_reply": "2021-10-11T05:25:15.888737Z",
     "shell.execute_reply.started": "2021-10-11T01:15:58.728221Z"
    },
    "id": "tA0v-i-3LWmi",
    "outputId": "7f5cc192-a117-4b50-8f29-bab23087590b",
    "papermill": {
     "duration": 0.026969,
     "end_time": "2021-10-11T05:25:15.888893",
     "exception": false,
     "start_time": "2021-10-11T05:25:15.861924",
     "status": "completed"
    },
    "tags": []
   },
   "outputs": [],
   "source": [
    "def main():\n",
    "    \n",
    "    ########### Params ###########\n",
    "    \n",
    "    if DEBUG:\n",
    "        n_splits = 3\n",
    "        batch_size = 512\n",
    "        lr, wd = 1e-3, 1e-1\n",
    "        patience, eps = 5, 1e-8\n",
    "        epochs, early_stopping = 5, 5\n",
    "        MODEL_NAMES = [\"resnet18\", \"resnet34\"]\n",
    "    else:\n",
    "        n_splits = 10\n",
    "        batch_size = 32\n",
    "        lr, wd = 5e-4, 1e-1\n",
    "        patience, eps = 5, 1e-8\n",
    "        epochs, early_stopping = 100, 8\n",
    "        MODEL_NAMES  = [\"densenet169\", \"densenet201\", \"resnet101\", \"resnext101\", \"wresnet101\"]\n",
    "    \n",
    "    ##############################\n",
    "\n",
    "    complete_metrics = []\n",
    "    \n",
    "    if verbose:\n",
    "        breaker()\n",
    "        print(\"Loading Data ...\")\n",
    "    else:\n",
    "        breaker()\n",
    "    \n",
    "    \n",
    "    for model_name in MODEL_NAMES:\n",
    "\n",
    "        features = np.load(os.path.join(FEATURES_PATH, \"{}_features.npy\".format(model_name)))\n",
    "        targets = get_targets(TARGETS_PATH)\n",
    "\n",
    "        # Without Scheduler\n",
    "        metrics, time_taken = train(features, targets, n_splits, batch_size, lr, wd, epochs, early_stopping, model_name=model_name, patience=None, eps=None)\n",
    "        \n",
    "        # # With Plateau Scheduler\n",
    "        # metrics = train(features, targets, n_splits, batch_size, lr, wd, epochs, early_stopping, model_name=model_name, patience=patience, eps=eps)    \n",
    "\n",
    "        complete_metrics.append(metrics)\n",
    "\n",
    "        if not verbose:\n",
    "            print(\"{} Features -> {:.2f} minutes\".format(model_name.capitalize(), time_taken))\n",
    "\n",
    "    if verbose:\n",
    "        breaker()\n",
    "        for i in range(len(complete_metrics)):\n",
    "            for j in range(len(complete_metrics[i])):\n",
    "                print(complete_metrics[i][j])\n",
    "\n",
    "    with open(\"./complete_metrics.pkl\", \"wb\") as fp:\n",
    "        pickle.dump(complete_metrics, fp)\n",
    "    \n",
    "    breaker()"
   ]
  },
  {
   "cell_type": "code",
   "execution_count": 11,
   "id": "b098120e",
   "metadata": {
    "execution": {
     "iopub.execute_input": "2021-10-11T05:25:15.918082Z",
     "iopub.status.busy": "2021-10-11T05:25:15.917511Z",
     "iopub.status.idle": "2021-10-11T05:34:04.728550Z",
     "shell.execute_reply": "2021-10-11T05:34:04.729036Z",
     "shell.execute_reply.started": "2021-10-11T01:15:58.842234Z"
    },
    "papermill": {
     "duration": 528.827683,
     "end_time": "2021-10-11T05:34:04.729198",
     "exception": false,
     "start_time": "2021-10-11T05:25:15.901515",
     "status": "completed"
    },
    "tags": []
   },
   "outputs": [
    {
     "name": "stdout",
     "output_type": "stream",
     "text": [
      "\n",
      "**************************************************\n",
      "\n",
      "Densenet169 Features -> 1.66 minutes\n",
      "Densenet201 Features -> 1.69 minutes\n",
      "Resnet101 Features -> 1.73 minutes\n",
      "Resnext101 Features -> 1.77 minutes\n",
      "Wresnet101 Features -> 1.74 minutes\n",
      "\n",
      "**************************************************\n",
      "\n"
     ]
    }
   ],
   "source": [
    "main()"
   ]
  },
  {
   "cell_type": "code",
   "execution_count": 12,
   "id": "d9b0c7ab",
   "metadata": {
    "execution": {
     "iopub.execute_input": "2021-10-11T05:34:04.774380Z",
     "iopub.status.busy": "2021-10-11T05:34:04.766443Z",
     "iopub.status.idle": "2021-10-11T05:34:04.777559Z",
     "shell.execute_reply": "2021-10-11T05:34:04.777994Z",
     "shell.execute_reply.started": "2021-10-11T01:19:18.418037Z"
    },
    "papermill": {
     "duration": 0.033536,
     "end_time": "2021-10-11T05:34:04.778133",
     "exception": false,
     "start_time": "2021-10-11T05:34:04.744597",
     "status": "completed"
    },
    "tags": []
   },
   "outputs": [
    {
     "name": "stdout",
     "output_type": "stream",
     "text": [
      "\n",
      "**************************************************\n",
      "\n",
      "{'Model': 'densenet169', 'Fold': 1, 'RMSE': 18.542779201115934}\n",
      "{'Model': 'densenet169', 'Fold': 2, 'RMSE': 18.510890705397127}\n",
      "{'Model': 'densenet169', 'Fold': 3, 'RMSE': 18.88376436082168}\n",
      "{'Model': 'densenet169', 'Fold': 4, 'RMSE': 17.845946394790072}\n",
      "{'Model': 'densenet169', 'Fold': 5, 'RMSE': 19.23278417121226}\n",
      "{'Model': 'densenet169', 'Fold': 6, 'RMSE': 18.856219676268495}\n",
      "{'Model': 'densenet169', 'Fold': 7, 'RMSE': 18.890014589292207}\n",
      "{'Model': 'densenet169', 'Fold': 8, 'RMSE': 16.883282423014485}\n",
      "{'Model': 'densenet169', 'Fold': 9, 'RMSE': 18.300916825792754}\n",
      "{'Model': 'densenet169', 'Fold': 10, 'RMSE': 18.051026959087515}\n",
      "{'Model': 'densenet201', 'Fold': 1, 'RMSE': 18.29713755322219}\n",
      "{'Model': 'densenet201', 'Fold': 2, 'RMSE': 18.286240525677904}\n",
      "{'Model': 'densenet201', 'Fold': 3, 'RMSE': 18.953573288787567}\n",
      "{'Model': 'densenet201', 'Fold': 4, 'RMSE': 17.627944530579757}\n",
      "{'Model': 'densenet201', 'Fold': 5, 'RMSE': 19.055093239294816}\n",
      "{'Model': 'densenet201', 'Fold': 6, 'RMSE': 18.7503079638285}\n",
      "{'Model': 'densenet201', 'Fold': 7, 'RMSE': 18.87073199904314}\n",
      "{'Model': 'densenet201', 'Fold': 8, 'RMSE': 16.733944546854936}\n",
      "{'Model': 'densenet201', 'Fold': 9, 'RMSE': 18.506632657435134}\n",
      "{'Model': 'densenet201', 'Fold': 10, 'RMSE': 18.186497425951195}\n",
      "{'Model': 'resnet101', 'Fold': 1, 'RMSE': 18.512338686009066}\n",
      "{'Model': 'resnet101', 'Fold': 2, 'RMSE': 18.374368418797776}\n",
      "{'Model': 'resnet101', 'Fold': 3, 'RMSE': 18.95602785889296}\n",
      "{'Model': 'resnet101', 'Fold': 4, 'RMSE': 17.762350556957696}\n",
      "{'Model': 'resnet101', 'Fold': 5, 'RMSE': 19.08705108995745}\n",
      "{'Model': 'resnet101', 'Fold': 6, 'RMSE': 18.839078088436302}\n",
      "{'Model': 'resnet101', 'Fold': 7, 'RMSE': 18.898958352716072}\n",
      "{'Model': 'resnet101', 'Fold': 8, 'RMSE': 16.8515427074997}\n",
      "{'Model': 'resnet101', 'Fold': 9, 'RMSE': 18.48775416637596}\n",
      "{'Model': 'resnet101', 'Fold': 10, 'RMSE': 18.47843265061765}\n",
      "{'Model': 'resnext101', 'Fold': 1, 'RMSE': 18.517282914312133}\n",
      "{'Model': 'resnext101', 'Fold': 2, 'RMSE': 18.508725691084408}\n",
      "{'Model': 'resnext101', 'Fold': 3, 'RMSE': 18.980956275243273}\n",
      "{'Model': 'resnext101', 'Fold': 4, 'RMSE': 17.682409799252188}\n",
      "{'Model': 'resnext101', 'Fold': 5, 'RMSE': 19.20234899117367}\n",
      "{'Model': 'resnext101', 'Fold': 6, 'RMSE': 18.750352272714256}\n",
      "{'Model': 'resnext101', 'Fold': 7, 'RMSE': 18.968612094923206}\n",
      "{'Model': 'resnext101', 'Fold': 8, 'RMSE': 17.025503958832154}\n",
      "{'Model': 'resnext101', 'Fold': 9, 'RMSE': 18.297392463368205}\n",
      "{'Model': 'resnext101', 'Fold': 10, 'RMSE': 18.420083035955454}\n",
      "{'Model': 'wresnet101', 'Fold': 1, 'RMSE': 18.468713322305753}\n",
      "{'Model': 'wresnet101', 'Fold': 2, 'RMSE': 18.42228788230118}\n",
      "{'Model': 'wresnet101', 'Fold': 3, 'RMSE': 18.918406059644308}\n",
      "{'Model': 'wresnet101', 'Fold': 4, 'RMSE': 17.74409423126067}\n",
      "{'Model': 'wresnet101', 'Fold': 5, 'RMSE': 19.372880149113822}\n",
      "{'Model': 'wresnet101', 'Fold': 6, 'RMSE': 18.88295517367877}\n",
      "{'Model': 'wresnet101', 'Fold': 7, 'RMSE': 19.19326098266501}\n",
      "{'Model': 'wresnet101', 'Fold': 8, 'RMSE': 16.97286745870391}\n",
      "{'Model': 'wresnet101', 'Fold': 9, 'RMSE': 18.35435613554022}\n",
      "{'Model': 'wresnet101', 'Fold': 10, 'RMSE': 18.551491413818056}\n",
      "\n",
      "**************************************************\n",
      "\n",
      "Best --> {'Model': 'densenet201', 'Fold': 8, 'RMSE': 16.733944546854936}\n",
      "\n",
      "**************************************************\n",
      "\n"
     ]
    }
   ],
   "source": [
    "if not verbose:\n",
    "    with open(\"./complete_metrics.pkl\", \"rb\") as fp:\n",
    "            params = pickle.load(fp)\n",
    "\n",
    "    breaker()\n",
    "    rmse = []\n",
    "    for i in range(len(params)):\n",
    "        for j in range(len(params[i])):\n",
    "            print(params[i][j])\n",
    "            rmse.append(params[i][j][\"RMSE\"])\n",
    "    breaker()\n",
    "\n",
    "    best_index = rmse.index(min(rmse))\n",
    "    \n",
    "    if DEBUG:\n",
    "        best_index_1 = best_index // 3\n",
    "        best_index_2 = best_index % 3\n",
    "    else:\n",
    "        best_index_1 = best_index // 10\n",
    "        best_index_2 = best_index % 10\n",
    "\n",
    "    print(\"Best --> {}\".format(params[best_index_1][best_index_2]))\n",
    "    breaker()"
   ]
  },
  {
   "cell_type": "code",
   "execution_count": 13,
   "id": "697fd91f",
   "metadata": {
    "execution": {
     "iopub.execute_input": "2021-10-11T05:34:04.812414Z",
     "iopub.status.busy": "2021-10-11T05:34:04.811823Z",
     "iopub.status.idle": "2021-10-11T05:34:04.814558Z",
     "shell.execute_reply": "2021-10-11T05:34:04.815026Z",
     "shell.execute_reply.started": "2021-10-11T01:11:45.02817Z"
    },
    "papermill": {
     "duration": 0.02229,
     "end_time": "2021-10-11T05:34:04.815192",
     "exception": false,
     "start_time": "2021-10-11T05:34:04.792902",
     "status": "completed"
    },
    "tags": []
   },
   "outputs": [
    {
     "name": "stdout",
     "output_type": "stream",
     "text": [
      "\n",
      "**************************************************\n",
      "\n",
      "Notebook Runtime : 8.92 minutes\n",
      "\n",
      "**************************************************\n",
      "\n"
     ]
    }
   ],
   "source": [
    "breaker()\n",
    "print(\"Notebook Runtime : {:.2f} minutes\".format((time()-notebook_start_time)/60))\n",
    "breaker()"
   ]
  }
 ],
 "metadata": {
  "kernelspec": {
   "display_name": "Python 3",
   "language": "python",
   "name": "python3"
  },
  "language_info": {
   "codemirror_mode": {
    "name": "ipython",
    "version": 3
   },
   "file_extension": ".py",
   "mimetype": "text/x-python",
   "name": "python",
   "nbconvert_exporter": "python",
   "pygments_lexer": "ipython3",
   "version": "3.7.10"
  },
  "papermill": {
   "default_parameters": {},
   "duration": 542.700736,
   "end_time": "2021-10-11T05:34:06.150859",
   "environment_variables": {},
   "exception": null,
   "input_path": "__notebook__.ipynb",
   "output_path": "__notebook__.ipynb",
   "parameters": {},
   "start_time": "2021-10-11T05:25:03.450123",
   "version": "2.3.3"
  }
 },
 "nbformat": 4,
 "nbformat_minor": 5
}
