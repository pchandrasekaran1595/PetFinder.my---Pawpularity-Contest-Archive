{
 "cells": [
  {
   "cell_type": "markdown",
   "id": "6a1db64d",
   "metadata": {
    "_cell_guid": "b1076dfc-b9ad-4769-8c92-a6c4dae69d19",
    "_uuid": "8f2839f25d086af736a60e9eeb907d3b93b6e0e5",
    "papermill": {
     "duration": 0.012235,
     "end_time": "2021-10-09T15:42:20.741158",
     "exception": false,
     "start_time": "2021-10-09T15:42:20.728923",
     "status": "completed"
    },
    "tags": []
   },
   "source": [
    "## Library Imports"
   ]
  },
  {
   "cell_type": "code",
   "execution_count": 1,
   "id": "08a028fc",
   "metadata": {
    "execution": {
     "iopub.execute_input": "2021-10-09T15:42:20.849134Z",
     "iopub.status.busy": "2021-10-09T15:42:20.844300Z",
     "iopub.status.idle": "2021-10-09T15:42:20.852816Z",
     "shell.execute_reply": "2021-10-09T15:42:20.852271Z",
     "shell.execute_reply.started": "2021-10-04T21:10:10.29039Z"
    },
    "papermill": {
     "duration": 0.09855,
     "end_time": "2021-10-09T15:42:20.852956",
     "exception": false,
     "start_time": "2021-10-09T15:42:20.754406",
     "status": "completed"
    },
    "tags": []
   },
   "outputs": [],
   "source": [
    "from time import time\n",
    "notebook_start_time = time()"
   ]
  },
  {
   "cell_type": "code",
   "execution_count": 2,
   "id": "b7f68f9a",
   "metadata": {
    "execution": {
     "iopub.execute_input": "2021-10-09T15:42:20.880627Z",
     "iopub.status.busy": "2021-10-09T15:42:20.880134Z",
     "iopub.status.idle": "2021-10-09T15:42:25.427950Z",
     "shell.execute_reply": "2021-10-09T15:42:25.427039Z",
     "shell.execute_reply.started": "2021-10-04T21:24:06.98129Z"
    },
    "papermill": {
     "duration": 4.564013,
     "end_time": "2021-10-09T15:42:25.428109",
     "exception": false,
     "start_time": "2021-10-09T15:42:20.864096",
     "status": "completed"
    },
    "tags": []
   },
   "outputs": [],
   "source": [
    "import os\n",
    "import re\n",
    "import random as r\n",
    "import numpy as np\n",
    "import pandas as pd\n",
    "import matplotlib.pyplot as plt\n",
    "\n",
    "import torch\n",
    "from torch import nn, optim\n",
    "from torch.utils.data import Dataset\n",
    "from torch.utils.data import DataLoader as DL\n",
    "from torch.nn.utils import weight_norm as WN\n",
    "from torchvision import models, transforms\n",
    "\n",
    "import warnings\n",
    "warnings.filterwarnings(\"ignore\")"
   ]
  },
  {
   "cell_type": "markdown",
   "id": "a8d9ea20",
   "metadata": {
    "papermill": {
     "duration": 0.010737,
     "end_time": "2021-10-09T15:42:25.450202",
     "exception": false,
     "start_time": "2021-10-09T15:42:25.439465",
     "status": "completed"
    },
    "tags": []
   },
   "source": [
    "## Constants and Utilities"
   ]
  },
  {
   "cell_type": "code",
   "execution_count": 3,
   "id": "5dd82147",
   "metadata": {
    "execution": {
     "iopub.execute_input": "2021-10-09T15:42:25.478910Z",
     "iopub.status.busy": "2021-10-09T15:42:25.477551Z",
     "iopub.status.idle": "2021-10-09T15:42:25.479615Z",
     "shell.execute_reply": "2021-10-09T15:42:25.480045Z",
     "shell.execute_reply.started": "2021-10-04T21:10:15.81351Z"
    },
    "papermill": {
     "duration": 0.019034,
     "end_time": "2021-10-09T15:42:25.480178",
     "exception": false,
     "start_time": "2021-10-09T15:42:25.461144",
     "status": "completed"
    },
    "tags": []
   },
   "outputs": [],
   "source": [
    "def breaker(num=50, char=\"*\") -> None:\n",
    "    print(\"\\n\" + num*char + \"\\n\")\n",
    "\n",
    "\n",
    "def head(x, no_of_ele=5) -> None:\n",
    "    print(x[:no_of_ele])\n",
    "\n",
    "    \n",
    "def show(image: np.ndarray) -> None:\n",
    "    plt.figure(figsize=(9, 6))\n",
    "    plt.imshow(image)\n",
    "    plt.axis(\"off\")\n",
    "    plt.show()"
   ]
  },
  {
   "cell_type": "code",
   "execution_count": 4,
   "id": "a02ce7bc",
   "metadata": {
    "execution": {
     "iopub.execute_input": "2021-10-09T15:42:25.550484Z",
     "iopub.status.busy": "2021-10-09T15:42:25.504600Z",
     "iopub.status.idle": "2021-10-09T15:42:25.553356Z",
     "shell.execute_reply": "2021-10-09T15:42:25.554102Z",
     "shell.execute_reply.started": "2021-10-04T21:25:14.994963Z"
    },
    "papermill": {
     "duration": 0.06308,
     "end_time": "2021-10-09T15:42:25.554252",
     "exception": false,
     "start_time": "2021-10-09T15:42:25.491172",
     "status": "completed"
    },
    "tags": []
   },
   "outputs": [],
   "source": [
    "TRANSFORM_PRE = transforms.Compose([transforms.ToTensor(), \n",
    "                                    transforms.Normalize([0.485, 0.456, 0.406],\n",
    "                                                         [0.229, 0.224, 0.225]),\n",
    "                                   ])\n",
    "DEVICE = torch.device(\"cuda\" if torch.cuda.is_available() else \"cpu\")"
   ]
  },
  {
   "cell_type": "markdown",
   "id": "a0e0c16f",
   "metadata": {
    "papermill": {
     "duration": 0.010847,
     "end_time": "2021-10-09T15:42:25.576760",
     "exception": false,
     "start_time": "2021-10-09T15:42:25.565913",
     "status": "completed"
    },
    "tags": []
   },
   "source": [
    "## Dataset Template"
   ]
  },
  {
   "cell_type": "code",
   "execution_count": 5,
   "id": "5ff7039f",
   "metadata": {
    "execution": {
     "iopub.execute_input": "2021-10-09T15:42:25.605079Z",
     "iopub.status.busy": "2021-10-09T15:42:25.604453Z",
     "iopub.status.idle": "2021-10-09T15:42:25.606870Z",
     "shell.execute_reply": "2021-10-09T15:42:25.607271Z",
     "shell.execute_reply.started": "2021-10-04T21:25:15.54549Z"
    },
    "papermill": {
     "duration": 0.019538,
     "end_time": "2021-10-09T15:42:25.607392",
     "exception": false,
     "start_time": "2021-10-09T15:42:25.587854",
     "status": "completed"
    },
    "tags": []
   },
   "outputs": [],
   "source": [
    "class DS(Dataset):\n",
    "    def __init__(self, images=None, transform=None):\n",
    "        self.images    = images\n",
    "        self.transform = transform\n",
    "        \n",
    "    def __len__(self):\n",
    "        return self.images.shape[0]\n",
    "    \n",
    "    def __getitem__(self, idx):\n",
    "        return self.transform(self.images[idx])"
   ]
  },
  {
   "cell_type": "markdown",
   "id": "054d997c",
   "metadata": {
    "papermill": {
     "duration": 0.01083,
     "end_time": "2021-10-09T15:42:25.629098",
     "exception": false,
     "start_time": "2021-10-09T15:42:25.618268",
     "status": "completed"
    },
    "tags": []
   },
   "source": [
    "## Build DataLoader"
   ]
  },
  {
   "cell_type": "code",
   "execution_count": 6,
   "id": "7ed3ab09",
   "metadata": {
    "execution": {
     "iopub.execute_input": "2021-10-09T15:42:25.655476Z",
     "iopub.status.busy": "2021-10-09T15:42:25.654719Z",
     "iopub.status.idle": "2021-10-09T15:42:25.657094Z",
     "shell.execute_reply": "2021-10-09T15:42:25.656653Z",
     "shell.execute_reply.started": "2021-10-04T21:25:16.15567Z"
    },
    "papermill": {
     "duration": 0.017254,
     "end_time": "2021-10-09T15:42:25.657196",
     "exception": false,
     "start_time": "2021-10-09T15:42:25.639942",
     "status": "completed"
    },
    "tags": []
   },
   "outputs": [],
   "source": [
    "def build_dataloader(images: np.ndarray, transform=None):    \n",
    "    data_setup = DS(images=images, transform=transform)\n",
    "    data = DL(data_setup, batch_size=64, shuffle=False)\n",
    "    \n",
    "    return data"
   ]
  },
  {
   "cell_type": "markdown",
   "id": "31caaf79",
   "metadata": {
    "papermill": {
     "duration": 0.010631,
     "end_time": "2021-10-09T15:42:25.678531",
     "exception": false,
     "start_time": "2021-10-09T15:42:25.667900",
     "status": "completed"
    },
    "tags": []
   },
   "source": [
    "## Build Model"
   ]
  },
  {
   "cell_type": "code",
   "execution_count": 7,
   "id": "3b6f4c95",
   "metadata": {
    "execution": {
     "iopub.execute_input": "2021-10-09T15:42:25.714990Z",
     "iopub.status.busy": "2021-10-09T15:42:25.714158Z",
     "iopub.status.idle": "2021-10-09T15:42:25.716092Z",
     "shell.execute_reply": "2021-10-09T15:42:25.716524Z",
     "shell.execute_reply.started": "2021-10-04T21:25:16.847997Z"
    },
    "papermill": {
     "duration": 0.027192,
     "end_time": "2021-10-09T15:42:25.716645",
     "exception": false,
     "start_time": "2021-10-09T15:42:25.689453",
     "status": "completed"
    },
    "tags": []
   },
   "outputs": [],
   "source": [
    "def build_model(model_name: str, pretrained=True):\n",
    "    class ImageModel(nn.Module):\n",
    "        def __init__(self, model_name=None, pretrained=False):\n",
    "            super(ImageModel, self).__init__()\n",
    "\n",
    "            if re.match(r\"^resnet50$\", model_name, re.IGNORECASE):\n",
    "                self.features = models.resnet50(pretrained=pretrained, progress=True)\n",
    "                if pretrained:\n",
    "                    self.freeze()\n",
    "                self.features = nn.Sequential(*[*self.features.children()][:-1])\n",
    "                self.features.add_module(\"Flatten\", nn.Flatten())\n",
    "\n",
    "\n",
    "            elif re.match(r\"^vgg16$\", model_name, re.IGNORECASE):\n",
    "                self.features = models.vgg16_bn(pretrained=pretrained, progress=True)\n",
    "                if pretrained:\n",
    "                    self.freeze()\n",
    "                self.features = nn.Sequential(*[*self.features.children()][:-2])\n",
    "                self.features.add_module(\"Adaptive Average Pool\", nn.AdaptiveAvgPool2d(output_size=(2, 2)))\n",
    "                self.features.add_module(\"Flatten\", nn.Flatten())\n",
    "\n",
    "\n",
    "            elif re.match(r\"^mobilenet$\", model_name, re.IGNORECASE):\n",
    "                self.features = models.mobilenet_v2(pretrained=pretrained, progress=True)\n",
    "                if pretrained:\n",
    "                    self.freeze()\n",
    "                self.features = nn.Sequential(*[*self.features.children()][:-1])\n",
    "                self.features.add_module(\"Adaptive Average Pool\", nn.AdaptiveAvgPool2d(output_size=(1, 1)))\n",
    "                self.features.add_module(\"Flatten\", nn.Flatten())\n",
    "\n",
    "\n",
    "            elif re.match(r\"^densenet169$\", model_name, re.IGNORECASE):\n",
    "                self.features = models.densenet169(pretrained=pretrained, progress=True)\n",
    "                if pretrained:\n",
    "                    self.freeze()\n",
    "                self.features = nn.Sequential(*[*self.features.children()][:-1])\n",
    "                self.features.add_module(\"Adaptive Average Pool\", nn.AdaptiveAvgPool2d(output_size=(1, 1)))\n",
    "                self.features.add_module(\"Flatten\", nn.Flatten())\n",
    "        \n",
    "        def freeze(self):\n",
    "            for params in self.parameters():\n",
    "                params.requires_grad = False\n",
    "\n",
    "        def forward(self, x):\n",
    "            return self.features(x)\n",
    "    \n",
    "    model = ImageModel(model_name=model_name, pretrained=pretrained)\n",
    "    \n",
    "    return model"
   ]
  },
  {
   "cell_type": "markdown",
   "id": "3af87bea",
   "metadata": {
    "papermill": {
     "duration": 0.010639,
     "end_time": "2021-10-09T15:42:25.737992",
     "exception": false,
     "start_time": "2021-10-09T15:42:25.727353",
     "status": "completed"
    },
    "tags": []
   },
   "source": [
    "## Acquire Features Helper"
   ]
  },
  {
   "cell_type": "code",
   "execution_count": 8,
   "id": "cf2147eb",
   "metadata": {
    "execution": {
     "iopub.execute_input": "2021-10-09T15:42:25.766386Z",
     "iopub.status.busy": "2021-10-09T15:42:25.765703Z",
     "iopub.status.idle": "2021-10-09T15:42:25.768260Z",
     "shell.execute_reply": "2021-10-09T15:42:25.767870Z",
     "shell.execute_reply.started": "2021-10-04T21:25:17.83654Z"
    },
    "papermill": {
     "duration": 0.019477,
     "end_time": "2021-10-09T15:42:25.768362",
     "exception": false,
     "start_time": "2021-10-09T15:42:25.748885",
     "status": "completed"
    },
    "tags": []
   },
   "outputs": [],
   "source": [
    "def get_features(model=None, dataloader=None, num_features=None):\n",
    "    model.to(DEVICE)\n",
    "    model.eval()\n",
    "\n",
    "    y_pred = torch.zeros(1, num_features).to(DEVICE)\n",
    "    for X in dataloader:\n",
    "        X = X.to(DEVICE)\n",
    "        with torch.no_grad():\n",
    "            output = model(X)\n",
    "        y_pred = torch.cat((y_pred, output.view(-1, num_features)), dim=0)\n",
    "    \n",
    "    return y_pred[1:].detach().cpu().numpy()"
   ]
  },
  {
   "cell_type": "markdown",
   "id": "419b4a6a",
   "metadata": {
    "papermill": {
     "duration": 0.010594,
     "end_time": "2021-10-09T15:42:25.789874",
     "exception": false,
     "start_time": "2021-10-09T15:42:25.779280",
     "status": "completed"
    },
    "tags": []
   },
   "source": [
    "## Obtain and Save Features"
   ]
  },
  {
   "cell_type": "code",
   "execution_count": 9,
   "id": "e94833e4",
   "metadata": {
    "execution": {
     "iopub.execute_input": "2021-10-09T15:42:25.818457Z",
     "iopub.status.busy": "2021-10-09T15:42:25.817656Z",
     "iopub.status.idle": "2021-10-09T15:42:25.820030Z",
     "shell.execute_reply": "2021-10-09T15:42:25.819593Z",
     "shell.execute_reply.started": "2021-10-04T21:27:39.756268Z"
    },
    "papermill": {
     "duration": 0.019448,
     "end_time": "2021-10-09T15:42:25.820131",
     "exception": false,
     "start_time": "2021-10-09T15:42:25.800683",
     "status": "completed"
    },
    "tags": []
   },
   "outputs": [],
   "source": [
    "def save_features():\n",
    "    images = np.load(\"../input/petfinder-pretrained-images-ccropped/Images_224x224.npy\")\n",
    "    dataloader = build_dataloader(images=images, transform=TRANSFORM_PRE)\n",
    "    \n",
    "    model_names  = [\"mobilenet\", \"densenet169\", \"resnet50\", \"vgg16\"]\n",
    "    num_features = [1280, 1664, 2048, 2048]\n",
    "    \n",
    "    for i in range(len(model_names)):\n",
    "        start_time = time()\n",
    "        model = build_model(model_name=model_names[i], pretrained=True)    \n",
    "        features = get_features(model, dataloader, num_features=num_features[i])\n",
    "        np.save(\"./{}_features.npy\".format(model_names[i]), features)\n",
    "        print(\"{}, {:.2f} minutes\".format(model_names[i].capitalize(), (time()-start_time)/60))\n",
    "    breaker()"
   ]
  },
  {
   "cell_type": "code",
   "execution_count": 10,
   "id": "0322b046",
   "metadata": {
    "execution": {
     "iopub.execute_input": "2021-10-09T15:42:25.845238Z",
     "iopub.status.busy": "2021-10-09T15:42:25.844624Z",
     "iopub.status.idle": "2021-10-09T15:44:35.997283Z",
     "shell.execute_reply": "2021-10-09T15:44:35.997702Z",
     "shell.execute_reply.started": "2021-10-04T21:29:02.526361Z"
    },
    "papermill": {
     "duration": 130.167006,
     "end_time": "2021-10-09T15:44:35.997885",
     "exception": false,
     "start_time": "2021-10-09T15:42:25.830879",
     "status": "completed"
    },
    "tags": []
   },
   "outputs": [
    {
     "name": "stderr",
     "output_type": "stream",
     "text": [
      "Downloading: \"https://download.pytorch.org/models/mobilenet_v2-b0353104.pth\" to /root/.cache/torch/hub/checkpoints/mobilenet_v2-b0353104.pth\n"
     ]
    },
    {
     "data": {
      "application/vnd.jupyter.widget-view+json": {
       "model_id": "61e80e1de03c40d0b1e41b371f31f5b1",
       "version_major": 2,
       "version_minor": 0
      },
      "text/plain": [
       "  0%|          | 0.00/13.6M [00:00<?, ?B/s]"
      ]
     },
     "metadata": {},
     "output_type": "display_data"
    },
    {
     "name": "stdout",
     "output_type": "stream",
     "text": [
      "Mobilenet, 0.32 minutes\n"
     ]
    },
    {
     "name": "stderr",
     "output_type": "stream",
     "text": [
      "Downloading: \"https://download.pytorch.org/models/densenet169-b2777c0a.pth\" to /root/.cache/torch/hub/checkpoints/densenet169-b2777c0a.pth\n"
     ]
    },
    {
     "data": {
      "application/vnd.jupyter.widget-view+json": {
       "model_id": "c895437b558e4aeab8f8cfa234f93004",
       "version_major": 2,
       "version_minor": 0
      },
      "text/plain": [
       "  0%|          | 0.00/54.7M [00:00<?, ?B/s]"
      ]
     },
     "metadata": {},
     "output_type": "display_data"
    },
    {
     "name": "stdout",
     "output_type": "stream",
     "text": [
      "Densenet169, 0.41 minutes\n"
     ]
    },
    {
     "name": "stderr",
     "output_type": "stream",
     "text": [
      "Downloading: \"https://download.pytorch.org/models/resnet50-19c8e357.pth\" to /root/.cache/torch/hub/checkpoints/resnet50-19c8e357.pth\n"
     ]
    },
    {
     "data": {
      "application/vnd.jupyter.widget-view+json": {
       "model_id": "1b4b3ec73b964e8195d4cc7f4ca9df02",
       "version_major": 2,
       "version_minor": 0
      },
      "text/plain": [
       "  0%|          | 0.00/97.8M [00:00<?, ?B/s]"
      ]
     },
     "metadata": {},
     "output_type": "display_data"
    },
    {
     "name": "stdout",
     "output_type": "stream",
     "text": [
      "Resnet50, 0.37 minutes\n"
     ]
    },
    {
     "name": "stderr",
     "output_type": "stream",
     "text": [
      "Downloading: \"https://download.pytorch.org/models/vgg16_bn-6c64b313.pth\" to /root/.cache/torch/hub/checkpoints/vgg16_bn-6c64b313.pth\n"
     ]
    },
    {
     "data": {
      "application/vnd.jupyter.widget-view+json": {
       "model_id": "419a3a1c590d433586cb78fc99c41443",
       "version_major": 2,
       "version_minor": 0
      },
      "text/plain": [
       "  0%|          | 0.00/528M [00:00<?, ?B/s]"
      ]
     },
     "metadata": {},
     "output_type": "display_data"
    },
    {
     "name": "stdout",
     "output_type": "stream",
     "text": [
      "Vgg16, 0.90 minutes\n",
      "\n",
      "**************************************************\n",
      "\n"
     ]
    }
   ],
   "source": [
    "save_features()"
   ]
  },
  {
   "cell_type": "code",
   "execution_count": 11,
   "id": "14a14447",
   "metadata": {
    "execution": {
     "iopub.execute_input": "2021-10-09T15:44:36.032539Z",
     "iopub.status.busy": "2021-10-09T15:44:36.031956Z",
     "iopub.status.idle": "2021-10-09T15:44:36.034676Z",
     "shell.execute_reply": "2021-10-09T15:44:36.035271Z"
    },
    "papermill": {
     "duration": 0.022999,
     "end_time": "2021-10-09T15:44:36.035438",
     "exception": false,
     "start_time": "2021-10-09T15:44:36.012439",
     "status": "completed"
    },
    "tags": []
   },
   "outputs": [
    {
     "name": "stdout",
     "output_type": "stream",
     "text": [
      "\n",
      "**************************************************\n",
      "\n",
      "Notebook Run Time : 2.25 minutes\n",
      "\n",
      "**************************************************\n",
      "\n"
     ]
    }
   ],
   "source": [
    "breaker()\n",
    "print(\"Notebook Run Time : {:.2f} minutes\".format((time()-notebook_start_time)/60))\n",
    "breaker()"
   ]
  }
 ],
 "metadata": {
  "kernelspec": {
   "display_name": "Python 3",
   "language": "python",
   "name": "python3"
  },
  "language_info": {
   "codemirror_mode": {
    "name": "ipython",
    "version": 3
   },
   "file_extension": ".py",
   "mimetype": "text/x-python",
   "name": "python",
   "nbconvert_exporter": "python",
   "pygments_lexer": "ipython3",
   "version": "3.7.10"
  },
  "papermill": {
   "default_parameters": {},
   "duration": 143.60765,
   "end_time": "2021-10-09T15:44:37.948663",
   "environment_variables": {},
   "exception": null,
   "input_path": "__notebook__.ipynb",
   "output_path": "__notebook__.ipynb",
   "parameters": {},
   "start_time": "2021-10-09T15:42:14.341013",
   "version": "2.3.3"
  },
  "widgets": {
   "application/vnd.jupyter.widget-state+json": {
    "state": {
     "0ba2691a54a94356b233918abe6a1776": {
      "model_module": "@jupyter-widgets/base",
      "model_module_version": "1.2.0",
      "model_name": "LayoutModel",
      "state": {
       "_model_module": "@jupyter-widgets/base",
       "_model_module_version": "1.2.0",
       "_model_name": "LayoutModel",
       "_view_count": null,
       "_view_module": "@jupyter-widgets/base",
       "_view_module_version": "1.2.0",
       "_view_name": "LayoutView",
       "align_content": null,
       "align_items": null,
       "align_self": null,
       "border": null,
       "bottom": null,
       "display": null,
       "flex": null,
       "flex_flow": null,
       "grid_area": null,
       "grid_auto_columns": null,
       "grid_auto_flow": null,
       "grid_auto_rows": null,
       "grid_column": null,
       "grid_gap": null,
       "grid_row": null,
       "grid_template_areas": null,
       "grid_template_columns": null,
       "grid_template_rows": null,
       "height": null,
       "justify_content": null,
       "justify_items": null,
       "left": null,
       "margin": null,
       "max_height": null,
       "max_width": null,
       "min_height": null,
       "min_width": null,
       "object_fit": null,
       "object_position": null,
       "order": null,
       "overflow": null,
       "overflow_x": null,
       "overflow_y": null,
       "padding": null,
       "right": null,
       "top": null,
       "visibility": null,
       "width": null
      }
     },
     "0e3bcbdf63ed4a4bbd7b7b30cf75ff87": {
      "model_module": "@jupyter-widgets/base",
      "model_module_version": "1.2.0",
      "model_name": "LayoutModel",
      "state": {
       "_model_module": "@jupyter-widgets/base",
       "_model_module_version": "1.2.0",
       "_model_name": "LayoutModel",
       "_view_count": null,
       "_view_module": "@jupyter-widgets/base",
       "_view_module_version": "1.2.0",
       "_view_name": "LayoutView",
       "align_content": null,
       "align_items": null,
       "align_self": null,
       "border": null,
       "bottom": null,
       "display": null,
       "flex": null,
       "flex_flow": null,
       "grid_area": null,
       "grid_auto_columns": null,
       "grid_auto_flow": null,
       "grid_auto_rows": null,
       "grid_column": null,
       "grid_gap": null,
       "grid_row": null,
       "grid_template_areas": null,
       "grid_template_columns": null,
       "grid_template_rows": null,
       "height": null,
       "justify_content": null,
       "justify_items": null,
       "left": null,
       "margin": null,
       "max_height": null,
       "max_width": null,
       "min_height": null,
       "min_width": null,
       "object_fit": null,
       "object_position": null,
       "order": null,
       "overflow": null,
       "overflow_x": null,
       "overflow_y": null,
       "padding": null,
       "right": null,
       "top": null,
       "visibility": null,
       "width": null
      }
     },
     "141de3540429414d9b18eac4302a539f": {
      "model_module": "@jupyter-widgets/base",
      "model_module_version": "1.2.0",
      "model_name": "LayoutModel",
      "state": {
       "_model_module": "@jupyter-widgets/base",
       "_model_module_version": "1.2.0",
       "_model_name": "LayoutModel",
       "_view_count": null,
       "_view_module": "@jupyter-widgets/base",
       "_view_module_version": "1.2.0",
       "_view_name": "LayoutView",
       "align_content": null,
       "align_items": null,
       "align_self": null,
       "border": null,
       "bottom": null,
       "display": null,
       "flex": null,
       "flex_flow": null,
       "grid_area": null,
       "grid_auto_columns": null,
       "grid_auto_flow": null,
       "grid_auto_rows": null,
       "grid_column": null,
       "grid_gap": null,
       "grid_row": null,
       "grid_template_areas": null,
       "grid_template_columns": null,
       "grid_template_rows": null,
       "height": null,
       "justify_content": null,
       "justify_items": null,
       "left": null,
       "margin": null,
       "max_height": null,
       "max_width": null,
       "min_height": null,
       "min_width": null,
       "object_fit": null,
       "object_position": null,
       "order": null,
       "overflow": null,
       "overflow_x": null,
       "overflow_y": null,
       "padding": null,
       "right": null,
       "top": null,
       "visibility": null,
       "width": null
      }
     },
     "1b4b3ec73b964e8195d4cc7f4ca9df02": {
      "model_module": "@jupyter-widgets/controls",
      "model_module_version": "1.5.0",
      "model_name": "HBoxModel",
      "state": {
       "_dom_classes": [],
       "_model_module": "@jupyter-widgets/controls",
       "_model_module_version": "1.5.0",
       "_model_name": "HBoxModel",
       "_view_count": null,
       "_view_module": "@jupyter-widgets/controls",
       "_view_module_version": "1.5.0",
       "_view_name": "HBoxView",
       "box_style": "",
       "children": [
        "IPY_MODEL_908e304c139d42c3bafe86aad462b8be",
        "IPY_MODEL_5a6de56930a1480cb9ab038d9c084ec9",
        "IPY_MODEL_6699da1cbc8748a69d305cef364a3162"
       ],
       "layout": "IPY_MODEL_e335ebe3a6f9483793a3f912a43ba6a8"
      }
     },
     "2149eadc81374e5a8c5a02ef78397258": {
      "model_module": "@jupyter-widgets/base",
      "model_module_version": "1.2.0",
      "model_name": "LayoutModel",
      "state": {
       "_model_module": "@jupyter-widgets/base",
       "_model_module_version": "1.2.0",
       "_model_name": "LayoutModel",
       "_view_count": null,
       "_view_module": "@jupyter-widgets/base",
       "_view_module_version": "1.2.0",
       "_view_name": "LayoutView",
       "align_content": null,
       "align_items": null,
       "align_self": null,
       "border": null,
       "bottom": null,
       "display": null,
       "flex": null,
       "flex_flow": null,
       "grid_area": null,
       "grid_auto_columns": null,
       "grid_auto_flow": null,
       "grid_auto_rows": null,
       "grid_column": null,
       "grid_gap": null,
       "grid_row": null,
       "grid_template_areas": null,
       "grid_template_columns": null,
       "grid_template_rows": null,
       "height": null,
       "justify_content": null,
       "justify_items": null,
       "left": null,
       "margin": null,
       "max_height": null,
       "max_width": null,
       "min_height": null,
       "min_width": null,
       "object_fit": null,
       "object_position": null,
       "order": null,
       "overflow": null,
       "overflow_x": null,
       "overflow_y": null,
       "padding": null,
       "right": null,
       "top": null,
       "visibility": null,
       "width": null
      }
     },
     "23b361bf5e764999ae360b72cfe05821": {
      "model_module": "@jupyter-widgets/controls",
      "model_module_version": "1.5.0",
      "model_name": "DescriptionStyleModel",
      "state": {
       "_model_module": "@jupyter-widgets/controls",
       "_model_module_version": "1.5.0",
       "_model_name": "DescriptionStyleModel",
       "_view_count": null,
       "_view_module": "@jupyter-widgets/base",
       "_view_module_version": "1.2.0",
       "_view_name": "StyleView",
       "description_width": ""
      }
     },
     "26080b56d8844a1cbb600752fec77861": {
      "model_module": "@jupyter-widgets/controls",
      "model_module_version": "1.5.0",
      "model_name": "DescriptionStyleModel",
      "state": {
       "_model_module": "@jupyter-widgets/controls",
       "_model_module_version": "1.5.0",
       "_model_name": "DescriptionStyleModel",
       "_view_count": null,
       "_view_module": "@jupyter-widgets/base",
       "_view_module_version": "1.2.0",
       "_view_name": "StyleView",
       "description_width": ""
      }
     },
     "301564dac48b4143ab7d39f9f5415a64": {
      "model_module": "@jupyter-widgets/base",
      "model_module_version": "1.2.0",
      "model_name": "LayoutModel",
      "state": {
       "_model_module": "@jupyter-widgets/base",
       "_model_module_version": "1.2.0",
       "_model_name": "LayoutModel",
       "_view_count": null,
       "_view_module": "@jupyter-widgets/base",
       "_view_module_version": "1.2.0",
       "_view_name": "LayoutView",
       "align_content": null,
       "align_items": null,
       "align_self": null,
       "border": null,
       "bottom": null,
       "display": null,
       "flex": null,
       "flex_flow": null,
       "grid_area": null,
       "grid_auto_columns": null,
       "grid_auto_flow": null,
       "grid_auto_rows": null,
       "grid_column": null,
       "grid_gap": null,
       "grid_row": null,
       "grid_template_areas": null,
       "grid_template_columns": null,
       "grid_template_rows": null,
       "height": null,
       "justify_content": null,
       "justify_items": null,
       "left": null,
       "margin": null,
       "max_height": null,
       "max_width": null,
       "min_height": null,
       "min_width": null,
       "object_fit": null,
       "object_position": null,
       "order": null,
       "overflow": null,
       "overflow_x": null,
       "overflow_y": null,
       "padding": null,
       "right": null,
       "top": null,
       "visibility": null,
       "width": null
      }
     },
     "35bf221a96c64b92b58d3e1df22bc417": {
      "model_module": "@jupyter-widgets/controls",
      "model_module_version": "1.5.0",
      "model_name": "HTMLModel",
      "state": {
       "_dom_classes": [],
       "_model_module": "@jupyter-widgets/controls",
       "_model_module_version": "1.5.0",
       "_model_name": "HTMLModel",
       "_view_count": null,
       "_view_module": "@jupyter-widgets/controls",
       "_view_module_version": "1.5.0",
       "_view_name": "HTMLView",
       "description": "",
       "description_tooltip": null,
       "layout": "IPY_MODEL_c347690db6294fbab2276dc1e82e7eaa",
       "placeholder": "​",
       "style": "IPY_MODEL_84b5bc86a2f44585a95ad42f53a548c6",
       "value": " 13.6M/13.6M [00:01&lt;00:00, 19.5MB/s]"
      }
     },
     "3778507623f2410aaf386f66e1a61760": {
      "model_module": "@jupyter-widgets/base",
      "model_module_version": "1.2.0",
      "model_name": "LayoutModel",
      "state": {
       "_model_module": "@jupyter-widgets/base",
       "_model_module_version": "1.2.0",
       "_model_name": "LayoutModel",
       "_view_count": null,
       "_view_module": "@jupyter-widgets/base",
       "_view_module_version": "1.2.0",
       "_view_name": "LayoutView",
       "align_content": null,
       "align_items": null,
       "align_self": null,
       "border": null,
       "bottom": null,
       "display": null,
       "flex": null,
       "flex_flow": null,
       "grid_area": null,
       "grid_auto_columns": null,
       "grid_auto_flow": null,
       "grid_auto_rows": null,
       "grid_column": null,
       "grid_gap": null,
       "grid_row": null,
       "grid_template_areas": null,
       "grid_template_columns": null,
       "grid_template_rows": null,
       "height": null,
       "justify_content": null,
       "justify_items": null,
       "left": null,
       "margin": null,
       "max_height": null,
       "max_width": null,
       "min_height": null,
       "min_width": null,
       "object_fit": null,
       "object_position": null,
       "order": null,
       "overflow": null,
       "overflow_x": null,
       "overflow_y": null,
       "padding": null,
       "right": null,
       "top": null,
       "visibility": null,
       "width": null
      }
     },
     "3cdbbbd276204b82ba398bf0e191a0f2": {
      "model_module": "@jupyter-widgets/base",
      "model_module_version": "1.2.0",
      "model_name": "LayoutModel",
      "state": {
       "_model_module": "@jupyter-widgets/base",
       "_model_module_version": "1.2.0",
       "_model_name": "LayoutModel",
       "_view_count": null,
       "_view_module": "@jupyter-widgets/base",
       "_view_module_version": "1.2.0",
       "_view_name": "LayoutView",
       "align_content": null,
       "align_items": null,
       "align_self": null,
       "border": null,
       "bottom": null,
       "display": null,
       "flex": null,
       "flex_flow": null,
       "grid_area": null,
       "grid_auto_columns": null,
       "grid_auto_flow": null,
       "grid_auto_rows": null,
       "grid_column": null,
       "grid_gap": null,
       "grid_row": null,
       "grid_template_areas": null,
       "grid_template_columns": null,
       "grid_template_rows": null,
       "height": null,
       "justify_content": null,
       "justify_items": null,
       "left": null,
       "margin": null,
       "max_height": null,
       "max_width": null,
       "min_height": null,
       "min_width": null,
       "object_fit": null,
       "object_position": null,
       "order": null,
       "overflow": null,
       "overflow_x": null,
       "overflow_y": null,
       "padding": null,
       "right": null,
       "top": null,
       "visibility": null,
       "width": null
      }
     },
     "419a3a1c590d433586cb78fc99c41443": {
      "model_module": "@jupyter-widgets/controls",
      "model_module_version": "1.5.0",
      "model_name": "HBoxModel",
      "state": {
       "_dom_classes": [],
       "_model_module": "@jupyter-widgets/controls",
       "_model_module_version": "1.5.0",
       "_model_name": "HBoxModel",
       "_view_count": null,
       "_view_module": "@jupyter-widgets/controls",
       "_view_module_version": "1.5.0",
       "_view_name": "HBoxView",
       "box_style": "",
       "children": [
        "IPY_MODEL_50efb96356ee4a31830ebad3260701d3",
        "IPY_MODEL_8739cf8ede334715a143df5d076a110c",
        "IPY_MODEL_5559a373ec6940e4a9265172478fd082"
       ],
       "layout": "IPY_MODEL_a1bb9893b7ff47ec9d78015e9b0697db"
      }
     },
     "50efb96356ee4a31830ebad3260701d3": {
      "model_module": "@jupyter-widgets/controls",
      "model_module_version": "1.5.0",
      "model_name": "HTMLModel",
      "state": {
       "_dom_classes": [],
       "_model_module": "@jupyter-widgets/controls",
       "_model_module_version": "1.5.0",
       "_model_name": "HTMLModel",
       "_view_count": null,
       "_view_module": "@jupyter-widgets/controls",
       "_view_module_version": "1.5.0",
       "_view_name": "HTMLView",
       "description": "",
       "description_tooltip": null,
       "layout": "IPY_MODEL_0ba2691a54a94356b233918abe6a1776",
       "placeholder": "​",
       "style": "IPY_MODEL_26080b56d8844a1cbb600752fec77861",
       "value": "100%"
      }
     },
     "5543b932f10742bcae67f99c2f641371": {
      "model_module": "@jupyter-widgets/controls",
      "model_module_version": "1.5.0",
      "model_name": "ProgressStyleModel",
      "state": {
       "_model_module": "@jupyter-widgets/controls",
       "_model_module_version": "1.5.0",
       "_model_name": "ProgressStyleModel",
       "_view_count": null,
       "_view_module": "@jupyter-widgets/base",
       "_view_module_version": "1.2.0",
       "_view_name": "StyleView",
       "bar_color": null,
       "description_width": ""
      }
     },
     "5559a373ec6940e4a9265172478fd082": {
      "model_module": "@jupyter-widgets/controls",
      "model_module_version": "1.5.0",
      "model_name": "HTMLModel",
      "state": {
       "_dom_classes": [],
       "_model_module": "@jupyter-widgets/controls",
       "_model_module_version": "1.5.0",
       "_model_name": "HTMLModel",
       "_view_count": null,
       "_view_module": "@jupyter-widgets/controls",
       "_view_module_version": "1.5.0",
       "_view_name": "HTMLView",
       "description": "",
       "description_tooltip": null,
       "layout": "IPY_MODEL_3cdbbbd276204b82ba398bf0e191a0f2",
       "placeholder": "​",
       "style": "IPY_MODEL_56b4fa085ca14f2b916a1681c28398f3",
       "value": " 528M/528M [00:25&lt;00:00, 22.7MB/s]"
      }
     },
     "56b4fa085ca14f2b916a1681c28398f3": {
      "model_module": "@jupyter-widgets/controls",
      "model_module_version": "1.5.0",
      "model_name": "DescriptionStyleModel",
      "state": {
       "_model_module": "@jupyter-widgets/controls",
       "_model_module_version": "1.5.0",
       "_model_name": "DescriptionStyleModel",
       "_view_count": null,
       "_view_module": "@jupyter-widgets/base",
       "_view_module_version": "1.2.0",
       "_view_name": "StyleView",
       "description_width": ""
      }
     },
     "57ce1945af0b4279afa78341d312efdb": {
      "model_module": "@jupyter-widgets/controls",
      "model_module_version": "1.5.0",
      "model_name": "ProgressStyleModel",
      "state": {
       "_model_module": "@jupyter-widgets/controls",
       "_model_module_version": "1.5.0",
       "_model_name": "ProgressStyleModel",
       "_view_count": null,
       "_view_module": "@jupyter-widgets/base",
       "_view_module_version": "1.2.0",
       "_view_name": "StyleView",
       "bar_color": null,
       "description_width": ""
      }
     },
     "5a6de56930a1480cb9ab038d9c084ec9": {
      "model_module": "@jupyter-widgets/controls",
      "model_module_version": "1.5.0",
      "model_name": "FloatProgressModel",
      "state": {
       "_dom_classes": [],
       "_model_module": "@jupyter-widgets/controls",
       "_model_module_version": "1.5.0",
       "_model_name": "FloatProgressModel",
       "_view_count": null,
       "_view_module": "@jupyter-widgets/controls",
       "_view_module_version": "1.5.0",
       "_view_name": "ProgressView",
       "bar_style": "success",
       "description": "",
       "description_tooltip": null,
       "layout": "IPY_MODEL_95ae2bcf5cc04caa870ffa4ab8759db0",
       "max": 102502400.0,
       "min": 0.0,
       "orientation": "horizontal",
       "style": "IPY_MODEL_b782500198674bc4b36a6c124486b4de",
       "value": 102502400.0
      }
     },
     "61e80e1de03c40d0b1e41b371f31f5b1": {
      "model_module": "@jupyter-widgets/controls",
      "model_module_version": "1.5.0",
      "model_name": "HBoxModel",
      "state": {
       "_dom_classes": [],
       "_model_module": "@jupyter-widgets/controls",
       "_model_module_version": "1.5.0",
       "_model_name": "HBoxModel",
       "_view_count": null,
       "_view_module": "@jupyter-widgets/controls",
       "_view_module_version": "1.5.0",
       "_view_name": "HBoxView",
       "box_style": "",
       "children": [
        "IPY_MODEL_e4e3f78d5466422897b3d21fd0fa9228",
        "IPY_MODEL_8d9cb57dcf904cabb3e7b50bce7e95ab",
        "IPY_MODEL_35bf221a96c64b92b58d3e1df22bc417"
       ],
       "layout": "IPY_MODEL_141de3540429414d9b18eac4302a539f"
      }
     },
     "6699da1cbc8748a69d305cef364a3162": {
      "model_module": "@jupyter-widgets/controls",
      "model_module_version": "1.5.0",
      "model_name": "HTMLModel",
      "state": {
       "_dom_classes": [],
       "_model_module": "@jupyter-widgets/controls",
       "_model_module_version": "1.5.0",
       "_model_name": "HTMLModel",
       "_view_count": null,
       "_view_module": "@jupyter-widgets/controls",
       "_view_module_version": "1.5.0",
       "_view_name": "HTMLView",
       "description": "",
       "description_tooltip": null,
       "layout": "IPY_MODEL_d3809974e8cd4299974c220b3a5f6d22",
       "placeholder": "​",
       "style": "IPY_MODEL_ee9575f5eb724e0d972d0af26f32afaa",
       "value": " 97.8M/97.8M [00:05&lt;00:00, 22.9MB/s]"
      }
     },
     "74c9db4e541a4c5ea26bd96ccde5667f": {
      "model_module": "@jupyter-widgets/controls",
      "model_module_version": "1.5.0",
      "model_name": "ProgressStyleModel",
      "state": {
       "_model_module": "@jupyter-widgets/controls",
       "_model_module_version": "1.5.0",
       "_model_name": "ProgressStyleModel",
       "_view_count": null,
       "_view_module": "@jupyter-widgets/base",
       "_view_module_version": "1.2.0",
       "_view_name": "StyleView",
       "bar_color": null,
       "description_width": ""
      }
     },
     "83d7874e482c4478ac24499768605576": {
      "model_module": "@jupyter-widgets/controls",
      "model_module_version": "1.5.0",
      "model_name": "DescriptionStyleModel",
      "state": {
       "_model_module": "@jupyter-widgets/controls",
       "_model_module_version": "1.5.0",
       "_model_name": "DescriptionStyleModel",
       "_view_count": null,
       "_view_module": "@jupyter-widgets/base",
       "_view_module_version": "1.2.0",
       "_view_name": "StyleView",
       "description_width": ""
      }
     },
     "8469b5946ce743afa0c2eeb0b5fc35cf": {
      "model_module": "@jupyter-widgets/controls",
      "model_module_version": "1.5.0",
      "model_name": "DescriptionStyleModel",
      "state": {
       "_model_module": "@jupyter-widgets/controls",
       "_model_module_version": "1.5.0",
       "_model_name": "DescriptionStyleModel",
       "_view_count": null,
       "_view_module": "@jupyter-widgets/base",
       "_view_module_version": "1.2.0",
       "_view_name": "StyleView",
       "description_width": ""
      }
     },
     "84b5bc86a2f44585a95ad42f53a548c6": {
      "model_module": "@jupyter-widgets/controls",
      "model_module_version": "1.5.0",
      "model_name": "DescriptionStyleModel",
      "state": {
       "_model_module": "@jupyter-widgets/controls",
       "_model_module_version": "1.5.0",
       "_model_name": "DescriptionStyleModel",
       "_view_count": null,
       "_view_module": "@jupyter-widgets/base",
       "_view_module_version": "1.2.0",
       "_view_name": "StyleView",
       "description_width": ""
      }
     },
     "8739cf8ede334715a143df5d076a110c": {
      "model_module": "@jupyter-widgets/controls",
      "model_module_version": "1.5.0",
      "model_name": "FloatProgressModel",
      "state": {
       "_dom_classes": [],
       "_model_module": "@jupyter-widgets/controls",
       "_model_module_version": "1.5.0",
       "_model_name": "FloatProgressModel",
       "_view_count": null,
       "_view_module": "@jupyter-widgets/controls",
       "_view_module_version": "1.5.0",
       "_view_name": "ProgressView",
       "bar_style": "success",
       "description": "",
       "description_tooltip": null,
       "layout": "IPY_MODEL_2149eadc81374e5a8c5a02ef78397258",
       "max": 553507836.0,
       "min": 0.0,
       "orientation": "horizontal",
       "style": "IPY_MODEL_57ce1945af0b4279afa78341d312efdb",
       "value": 553507836.0
      }
     },
     "8d9cb57dcf904cabb3e7b50bce7e95ab": {
      "model_module": "@jupyter-widgets/controls",
      "model_module_version": "1.5.0",
      "model_name": "FloatProgressModel",
      "state": {
       "_dom_classes": [],
       "_model_module": "@jupyter-widgets/controls",
       "_model_module_version": "1.5.0",
       "_model_name": "FloatProgressModel",
       "_view_count": null,
       "_view_module": "@jupyter-widgets/controls",
       "_view_module_version": "1.5.0",
       "_view_name": "ProgressView",
       "bar_style": "success",
       "description": "",
       "description_tooltip": null,
       "layout": "IPY_MODEL_301564dac48b4143ab7d39f9f5415a64",
       "max": 14212972.0,
       "min": 0.0,
       "orientation": "horizontal",
       "style": "IPY_MODEL_5543b932f10742bcae67f99c2f641371",
       "value": 14212972.0
      }
     },
     "908e304c139d42c3bafe86aad462b8be": {
      "model_module": "@jupyter-widgets/controls",
      "model_module_version": "1.5.0",
      "model_name": "HTMLModel",
      "state": {
       "_dom_classes": [],
       "_model_module": "@jupyter-widgets/controls",
       "_model_module_version": "1.5.0",
       "_model_name": "HTMLModel",
       "_view_count": null,
       "_view_module": "@jupyter-widgets/controls",
       "_view_module_version": "1.5.0",
       "_view_name": "HTMLView",
       "description": "",
       "description_tooltip": null,
       "layout": "IPY_MODEL_b5ff3be2cea240dfa0ff346bb721c386",
       "placeholder": "​",
       "style": "IPY_MODEL_bc76f06996de4c58920af57f203ea4d6",
       "value": "100%"
      }
     },
     "90bf8c624a2247a588466d5006e4a984": {
      "model_module": "@jupyter-widgets/controls",
      "model_module_version": "1.5.0",
      "model_name": "HTMLModel",
      "state": {
       "_dom_classes": [],
       "_model_module": "@jupyter-widgets/controls",
       "_model_module_version": "1.5.0",
       "_model_name": "HTMLModel",
       "_view_count": null,
       "_view_module": "@jupyter-widgets/controls",
       "_view_module_version": "1.5.0",
       "_view_name": "HTMLView",
       "description": "",
       "description_tooltip": null,
       "layout": "IPY_MODEL_95f2454409ab4f4ca8f7d4d0abfe978d",
       "placeholder": "​",
       "style": "IPY_MODEL_23b361bf5e764999ae360b72cfe05821",
       "value": "100%"
      }
     },
     "92e592cac3d24f40a71c141d4f0aa91e": {
      "model_module": "@jupyter-widgets/base",
      "model_module_version": "1.2.0",
      "model_name": "LayoutModel",
      "state": {
       "_model_module": "@jupyter-widgets/base",
       "_model_module_version": "1.2.0",
       "_model_name": "LayoutModel",
       "_view_count": null,
       "_view_module": "@jupyter-widgets/base",
       "_view_module_version": "1.2.0",
       "_view_name": "LayoutView",
       "align_content": null,
       "align_items": null,
       "align_self": null,
       "border": null,
       "bottom": null,
       "display": null,
       "flex": null,
       "flex_flow": null,
       "grid_area": null,
       "grid_auto_columns": null,
       "grid_auto_flow": null,
       "grid_auto_rows": null,
       "grid_column": null,
       "grid_gap": null,
       "grid_row": null,
       "grid_template_areas": null,
       "grid_template_columns": null,
       "grid_template_rows": null,
       "height": null,
       "justify_content": null,
       "justify_items": null,
       "left": null,
       "margin": null,
       "max_height": null,
       "max_width": null,
       "min_height": null,
       "min_width": null,
       "object_fit": null,
       "object_position": null,
       "order": null,
       "overflow": null,
       "overflow_x": null,
       "overflow_y": null,
       "padding": null,
       "right": null,
       "top": null,
       "visibility": null,
       "width": null
      }
     },
     "95ae2bcf5cc04caa870ffa4ab8759db0": {
      "model_module": "@jupyter-widgets/base",
      "model_module_version": "1.2.0",
      "model_name": "LayoutModel",
      "state": {
       "_model_module": "@jupyter-widgets/base",
       "_model_module_version": "1.2.0",
       "_model_name": "LayoutModel",
       "_view_count": null,
       "_view_module": "@jupyter-widgets/base",
       "_view_module_version": "1.2.0",
       "_view_name": "LayoutView",
       "align_content": null,
       "align_items": null,
       "align_self": null,
       "border": null,
       "bottom": null,
       "display": null,
       "flex": null,
       "flex_flow": null,
       "grid_area": null,
       "grid_auto_columns": null,
       "grid_auto_flow": null,
       "grid_auto_rows": null,
       "grid_column": null,
       "grid_gap": null,
       "grid_row": null,
       "grid_template_areas": null,
       "grid_template_columns": null,
       "grid_template_rows": null,
       "height": null,
       "justify_content": null,
       "justify_items": null,
       "left": null,
       "margin": null,
       "max_height": null,
       "max_width": null,
       "min_height": null,
       "min_width": null,
       "object_fit": null,
       "object_position": null,
       "order": null,
       "overflow": null,
       "overflow_x": null,
       "overflow_y": null,
       "padding": null,
       "right": null,
       "top": null,
       "visibility": null,
       "width": null
      }
     },
     "95f2454409ab4f4ca8f7d4d0abfe978d": {
      "model_module": "@jupyter-widgets/base",
      "model_module_version": "1.2.0",
      "model_name": "LayoutModel",
      "state": {
       "_model_module": "@jupyter-widgets/base",
       "_model_module_version": "1.2.0",
       "_model_name": "LayoutModel",
       "_view_count": null,
       "_view_module": "@jupyter-widgets/base",
       "_view_module_version": "1.2.0",
       "_view_name": "LayoutView",
       "align_content": null,
       "align_items": null,
       "align_self": null,
       "border": null,
       "bottom": null,
       "display": null,
       "flex": null,
       "flex_flow": null,
       "grid_area": null,
       "grid_auto_columns": null,
       "grid_auto_flow": null,
       "grid_auto_rows": null,
       "grid_column": null,
       "grid_gap": null,
       "grid_row": null,
       "grid_template_areas": null,
       "grid_template_columns": null,
       "grid_template_rows": null,
       "height": null,
       "justify_content": null,
       "justify_items": null,
       "left": null,
       "margin": null,
       "max_height": null,
       "max_width": null,
       "min_height": null,
       "min_width": null,
       "object_fit": null,
       "object_position": null,
       "order": null,
       "overflow": null,
       "overflow_x": null,
       "overflow_y": null,
       "padding": null,
       "right": null,
       "top": null,
       "visibility": null,
       "width": null
      }
     },
     "a1bb9893b7ff47ec9d78015e9b0697db": {
      "model_module": "@jupyter-widgets/base",
      "model_module_version": "1.2.0",
      "model_name": "LayoutModel",
      "state": {
       "_model_module": "@jupyter-widgets/base",
       "_model_module_version": "1.2.0",
       "_model_name": "LayoutModel",
       "_view_count": null,
       "_view_module": "@jupyter-widgets/base",
       "_view_module_version": "1.2.0",
       "_view_name": "LayoutView",
       "align_content": null,
       "align_items": null,
       "align_self": null,
       "border": null,
       "bottom": null,
       "display": null,
       "flex": null,
       "flex_flow": null,
       "grid_area": null,
       "grid_auto_columns": null,
       "grid_auto_flow": null,
       "grid_auto_rows": null,
       "grid_column": null,
       "grid_gap": null,
       "grid_row": null,
       "grid_template_areas": null,
       "grid_template_columns": null,
       "grid_template_rows": null,
       "height": null,
       "justify_content": null,
       "justify_items": null,
       "left": null,
       "margin": null,
       "max_height": null,
       "max_width": null,
       "min_height": null,
       "min_width": null,
       "object_fit": null,
       "object_position": null,
       "order": null,
       "overflow": null,
       "overflow_x": null,
       "overflow_y": null,
       "padding": null,
       "right": null,
       "top": null,
       "visibility": null,
       "width": null
      }
     },
     "a5246b1fdc6445d19687b5cef1de86d5": {
      "model_module": "@jupyter-widgets/base",
      "model_module_version": "1.2.0",
      "model_name": "LayoutModel",
      "state": {
       "_model_module": "@jupyter-widgets/base",
       "_model_module_version": "1.2.0",
       "_model_name": "LayoutModel",
       "_view_count": null,
       "_view_module": "@jupyter-widgets/base",
       "_view_module_version": "1.2.0",
       "_view_name": "LayoutView",
       "align_content": null,
       "align_items": null,
       "align_self": null,
       "border": null,
       "bottom": null,
       "display": null,
       "flex": null,
       "flex_flow": null,
       "grid_area": null,
       "grid_auto_columns": null,
       "grid_auto_flow": null,
       "grid_auto_rows": null,
       "grid_column": null,
       "grid_gap": null,
       "grid_row": null,
       "grid_template_areas": null,
       "grid_template_columns": null,
       "grid_template_rows": null,
       "height": null,
       "justify_content": null,
       "justify_items": null,
       "left": null,
       "margin": null,
       "max_height": null,
       "max_width": null,
       "min_height": null,
       "min_width": null,
       "object_fit": null,
       "object_position": null,
       "order": null,
       "overflow": null,
       "overflow_x": null,
       "overflow_y": null,
       "padding": null,
       "right": null,
       "top": null,
       "visibility": null,
       "width": null
      }
     },
     "b5ff3be2cea240dfa0ff346bb721c386": {
      "model_module": "@jupyter-widgets/base",
      "model_module_version": "1.2.0",
      "model_name": "LayoutModel",
      "state": {
       "_model_module": "@jupyter-widgets/base",
       "_model_module_version": "1.2.0",
       "_model_name": "LayoutModel",
       "_view_count": null,
       "_view_module": "@jupyter-widgets/base",
       "_view_module_version": "1.2.0",
       "_view_name": "LayoutView",
       "align_content": null,
       "align_items": null,
       "align_self": null,
       "border": null,
       "bottom": null,
       "display": null,
       "flex": null,
       "flex_flow": null,
       "grid_area": null,
       "grid_auto_columns": null,
       "grid_auto_flow": null,
       "grid_auto_rows": null,
       "grid_column": null,
       "grid_gap": null,
       "grid_row": null,
       "grid_template_areas": null,
       "grid_template_columns": null,
       "grid_template_rows": null,
       "height": null,
       "justify_content": null,
       "justify_items": null,
       "left": null,
       "margin": null,
       "max_height": null,
       "max_width": null,
       "min_height": null,
       "min_width": null,
       "object_fit": null,
       "object_position": null,
       "order": null,
       "overflow": null,
       "overflow_x": null,
       "overflow_y": null,
       "padding": null,
       "right": null,
       "top": null,
       "visibility": null,
       "width": null
      }
     },
     "b782500198674bc4b36a6c124486b4de": {
      "model_module": "@jupyter-widgets/controls",
      "model_module_version": "1.5.0",
      "model_name": "ProgressStyleModel",
      "state": {
       "_model_module": "@jupyter-widgets/controls",
       "_model_module_version": "1.5.0",
       "_model_name": "ProgressStyleModel",
       "_view_count": null,
       "_view_module": "@jupyter-widgets/base",
       "_view_module_version": "1.2.0",
       "_view_name": "StyleView",
       "bar_color": null,
       "description_width": ""
      }
     },
     "bc76f06996de4c58920af57f203ea4d6": {
      "model_module": "@jupyter-widgets/controls",
      "model_module_version": "1.5.0",
      "model_name": "DescriptionStyleModel",
      "state": {
       "_model_module": "@jupyter-widgets/controls",
       "_model_module_version": "1.5.0",
       "_model_name": "DescriptionStyleModel",
       "_view_count": null,
       "_view_module": "@jupyter-widgets/base",
       "_view_module_version": "1.2.0",
       "_view_name": "StyleView",
       "description_width": ""
      }
     },
     "c347690db6294fbab2276dc1e82e7eaa": {
      "model_module": "@jupyter-widgets/base",
      "model_module_version": "1.2.0",
      "model_name": "LayoutModel",
      "state": {
       "_model_module": "@jupyter-widgets/base",
       "_model_module_version": "1.2.0",
       "_model_name": "LayoutModel",
       "_view_count": null,
       "_view_module": "@jupyter-widgets/base",
       "_view_module_version": "1.2.0",
       "_view_name": "LayoutView",
       "align_content": null,
       "align_items": null,
       "align_self": null,
       "border": null,
       "bottom": null,
       "display": null,
       "flex": null,
       "flex_flow": null,
       "grid_area": null,
       "grid_auto_columns": null,
       "grid_auto_flow": null,
       "grid_auto_rows": null,
       "grid_column": null,
       "grid_gap": null,
       "grid_row": null,
       "grid_template_areas": null,
       "grid_template_columns": null,
       "grid_template_rows": null,
       "height": null,
       "justify_content": null,
       "justify_items": null,
       "left": null,
       "margin": null,
       "max_height": null,
       "max_width": null,
       "min_height": null,
       "min_width": null,
       "object_fit": null,
       "object_position": null,
       "order": null,
       "overflow": null,
       "overflow_x": null,
       "overflow_y": null,
       "padding": null,
       "right": null,
       "top": null,
       "visibility": null,
       "width": null
      }
     },
     "c895437b558e4aeab8f8cfa234f93004": {
      "model_module": "@jupyter-widgets/controls",
      "model_module_version": "1.5.0",
      "model_name": "HBoxModel",
      "state": {
       "_dom_classes": [],
       "_model_module": "@jupyter-widgets/controls",
       "_model_module_version": "1.5.0",
       "_model_name": "HBoxModel",
       "_view_count": null,
       "_view_module": "@jupyter-widgets/controls",
       "_view_module_version": "1.5.0",
       "_view_name": "HBoxView",
       "box_style": "",
       "children": [
        "IPY_MODEL_90bf8c624a2247a588466d5006e4a984",
        "IPY_MODEL_dc8a273074c645349197d89547bc1767",
        "IPY_MODEL_e23cb7735d674498ad00116570579d74"
       ],
       "layout": "IPY_MODEL_a5246b1fdc6445d19687b5cef1de86d5"
      }
     },
     "d3809974e8cd4299974c220b3a5f6d22": {
      "model_module": "@jupyter-widgets/base",
      "model_module_version": "1.2.0",
      "model_name": "LayoutModel",
      "state": {
       "_model_module": "@jupyter-widgets/base",
       "_model_module_version": "1.2.0",
       "_model_name": "LayoutModel",
       "_view_count": null,
       "_view_module": "@jupyter-widgets/base",
       "_view_module_version": "1.2.0",
       "_view_name": "LayoutView",
       "align_content": null,
       "align_items": null,
       "align_self": null,
       "border": null,
       "bottom": null,
       "display": null,
       "flex": null,
       "flex_flow": null,
       "grid_area": null,
       "grid_auto_columns": null,
       "grid_auto_flow": null,
       "grid_auto_rows": null,
       "grid_column": null,
       "grid_gap": null,
       "grid_row": null,
       "grid_template_areas": null,
       "grid_template_columns": null,
       "grid_template_rows": null,
       "height": null,
       "justify_content": null,
       "justify_items": null,
       "left": null,
       "margin": null,
       "max_height": null,
       "max_width": null,
       "min_height": null,
       "min_width": null,
       "object_fit": null,
       "object_position": null,
       "order": null,
       "overflow": null,
       "overflow_x": null,
       "overflow_y": null,
       "padding": null,
       "right": null,
       "top": null,
       "visibility": null,
       "width": null
      }
     },
     "dc8a273074c645349197d89547bc1767": {
      "model_module": "@jupyter-widgets/controls",
      "model_module_version": "1.5.0",
      "model_name": "FloatProgressModel",
      "state": {
       "_dom_classes": [],
       "_model_module": "@jupyter-widgets/controls",
       "_model_module_version": "1.5.0",
       "_model_name": "FloatProgressModel",
       "_view_count": null,
       "_view_module": "@jupyter-widgets/controls",
       "_view_module_version": "1.5.0",
       "_view_name": "ProgressView",
       "bar_style": "success",
       "description": "",
       "description_tooltip": null,
       "layout": "IPY_MODEL_0e3bcbdf63ed4a4bbd7b7b30cf75ff87",
       "max": 57365526.0,
       "min": 0.0,
       "orientation": "horizontal",
       "style": "IPY_MODEL_74c9db4e541a4c5ea26bd96ccde5667f",
       "value": 57365526.0
      }
     },
     "e23cb7735d674498ad00116570579d74": {
      "model_module": "@jupyter-widgets/controls",
      "model_module_version": "1.5.0",
      "model_name": "HTMLModel",
      "state": {
       "_dom_classes": [],
       "_model_module": "@jupyter-widgets/controls",
       "_model_module_version": "1.5.0",
       "_model_name": "HTMLModel",
       "_view_count": null,
       "_view_module": "@jupyter-widgets/controls",
       "_view_module_version": "1.5.0",
       "_view_name": "HTMLView",
       "description": "",
       "description_tooltip": null,
       "layout": "IPY_MODEL_3778507623f2410aaf386f66e1a61760",
       "placeholder": "​",
       "style": "IPY_MODEL_83d7874e482c4478ac24499768605576",
       "value": " 54.7M/54.7M [00:03&lt;00:00, 22.6MB/s]"
      }
     },
     "e335ebe3a6f9483793a3f912a43ba6a8": {
      "model_module": "@jupyter-widgets/base",
      "model_module_version": "1.2.0",
      "model_name": "LayoutModel",
      "state": {
       "_model_module": "@jupyter-widgets/base",
       "_model_module_version": "1.2.0",
       "_model_name": "LayoutModel",
       "_view_count": null,
       "_view_module": "@jupyter-widgets/base",
       "_view_module_version": "1.2.0",
       "_view_name": "LayoutView",
       "align_content": null,
       "align_items": null,
       "align_self": null,
       "border": null,
       "bottom": null,
       "display": null,
       "flex": null,
       "flex_flow": null,
       "grid_area": null,
       "grid_auto_columns": null,
       "grid_auto_flow": null,
       "grid_auto_rows": null,
       "grid_column": null,
       "grid_gap": null,
       "grid_row": null,
       "grid_template_areas": null,
       "grid_template_columns": null,
       "grid_template_rows": null,
       "height": null,
       "justify_content": null,
       "justify_items": null,
       "left": null,
       "margin": null,
       "max_height": null,
       "max_width": null,
       "min_height": null,
       "min_width": null,
       "object_fit": null,
       "object_position": null,
       "order": null,
       "overflow": null,
       "overflow_x": null,
       "overflow_y": null,
       "padding": null,
       "right": null,
       "top": null,
       "visibility": null,
       "width": null
      }
     },
     "e4e3f78d5466422897b3d21fd0fa9228": {
      "model_module": "@jupyter-widgets/controls",
      "model_module_version": "1.5.0",
      "model_name": "HTMLModel",
      "state": {
       "_dom_classes": [],
       "_model_module": "@jupyter-widgets/controls",
       "_model_module_version": "1.5.0",
       "_model_name": "HTMLModel",
       "_view_count": null,
       "_view_module": "@jupyter-widgets/controls",
       "_view_module_version": "1.5.0",
       "_view_name": "HTMLView",
       "description": "",
       "description_tooltip": null,
       "layout": "IPY_MODEL_92e592cac3d24f40a71c141d4f0aa91e",
       "placeholder": "​",
       "style": "IPY_MODEL_8469b5946ce743afa0c2eeb0b5fc35cf",
       "value": "100%"
      }
     },
     "ee9575f5eb724e0d972d0af26f32afaa": {
      "model_module": "@jupyter-widgets/controls",
      "model_module_version": "1.5.0",
      "model_name": "DescriptionStyleModel",
      "state": {
       "_model_module": "@jupyter-widgets/controls",
       "_model_module_version": "1.5.0",
       "_model_name": "DescriptionStyleModel",
       "_view_count": null,
       "_view_module": "@jupyter-widgets/base",
       "_view_module_version": "1.2.0",
       "_view_name": "StyleView",
       "description_width": ""
      }
     }
    },
    "version_major": 2,
    "version_minor": 0
   }
  }
 },
 "nbformat": 4,
 "nbformat_minor": 5
}
