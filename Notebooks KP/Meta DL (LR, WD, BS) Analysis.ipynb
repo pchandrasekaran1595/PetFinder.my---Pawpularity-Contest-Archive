{
  "cells": [
    {
      "cell_type": "code",
      "execution_count": null,
      "metadata": {
        "id": "3vaziFc9k79M"
      },
      "outputs": [],
      "source": [
        "from IPython.display import clear_output\n",
        "\n",
        "from google.colab import drive\n",
        "drive.mount(\"/content/gdrive\")\n",
        "\n",
        "clear_output()"
      ]
    },
    {
      "cell_type": "markdown",
      "metadata": {
        "id": "C5458HV2l16L"
      },
      "source": [
        "## Library Imports"
      ]
    },
    {
      "cell_type": "code",
      "execution_count": null,
      "metadata": {
        "id": "_ZdCVq9elh-W"
      },
      "outputs": [],
      "source": [
        "import os\n",
        "import re\n",
        "import pickle\n",
        "import numpy as np\n",
        "import pandas as pd\n",
        "import matplotlib.pyplot as plt\n",
        "\n",
        "import torch\n",
        "from torch import nn, optim\n",
        "from torch.utils.data import Dataset\n",
        "from torch.utils.data import DataLoader as DL\n",
        "from torch.nn.utils import weight_norm as WN\n",
        "from torchvision import models, transforms\n",
        "\n",
        "from time import time\n",
        "from sklearn.model_selection import KFold\n",
        "from sklearn.metrics import mean_squared_error\n",
        "from sklearn.preprocessing import StandardScaler"
      ]
    },
    {
      "cell_type": "markdown",
      "metadata": {
        "id": "Vu6t1-T7l3mn"
      },
      "source": [
        "## Constants and Utilities"
      ]
    },
    {
      "cell_type": "code",
      "execution_count": null,
      "metadata": {
        "id": "K_C_f_5nljxL"
      },
      "outputs": [],
      "source": [
        "SEED = 0\n",
        "DEVICE = torch.device(\"cuda\" if torch.cuda.is_available() else \"cpu\")\n",
        "PATH = \"/content/gdrive/My Drive/\"\n",
        "verbose = False\n",
        "\n",
        "sc_X = StandardScaler()\n",
        "sc_y = StandardScaler()"
      ]
    },
    {
      "cell_type": "code",
      "execution_count": null,
      "metadata": {
        "id": "mJc13eQZlqCY"
      },
      "outputs": [],
      "source": [
        "def breaker(num=50, char=\"*\") -> None:\n",
        "    print(\"\\n\" + num*char + \"\\n\")\n",
        "\n",
        "\n",
        "def get_features_and_targets(path: str) -> tuple:\n",
        "    df = pd.read_csv(os.path.join(path, \"train.csv\"), engine=\"python\")\n",
        "    features = df.iloc[:, 1:-1].copy().values\n",
        "    targets  = df[\"Pawpularity\"].copy().values\n",
        "    return features, targets.reshape(-1, 1)\n",
        "\n",
        "\n",
        "def show_graphs(L: list, title=None) -> None:\n",
        "    TL, VL = [], []\n",
        "    for i in range(len(L)):\n",
        "        TL.append(L[i][\"train\"])\n",
        "        VL.append(L[i][\"valid\"])\n",
        "    x_Axis = np.arange(1, len(L) + 1)\n",
        "    plt.figure()\n",
        "    plt.plot(x_Axis, TL, \"r\", label=\"train\")\n",
        "    plt.plot(x_Axis, VL, \"b\", label=\"valid\")\n",
        "    plt.grid()\n",
        "    plt.legend()\n",
        "    if title:\n",
        "        plt.title(\"{} Loss\".format(title))\n",
        "    else:\n",
        "        plt.title(\"Loss\")\n",
        "    plt.show()"
      ]
    },
    {
      "cell_type": "markdown",
      "metadata": {
        "id": "yDNPdUZWl6LG"
      },
      "source": [
        "## Dataset Template and Build Dataloader"
      ]
    },
    {
      "cell_type": "code",
      "execution_count": null,
      "metadata": {
        "id": "Mg1Bu3dpl0ID"
      },
      "outputs": [],
      "source": [
        "class DS(Dataset):\n",
        "    def __init__(self, features=None, targets=None):\n",
        "        self.features = features\n",
        "        self.targets  = targets\n",
        "        \n",
        "    def __len__(self):\n",
        "        return self.features.shape[0]\n",
        "    \n",
        "    def __getitem__(self, idx):\n",
        "        return torch.FloatTensor(self.features[idx]), torch.FloatTensor(self.targets[idx])\n",
        "    \n",
        "\n",
        "def build_dataloaders(tr_features: np.ndarray, va_features: np.ndarray,\n",
        "                      tr_targets: np.ndarray, va_targets: np.ndarray,\n",
        "                      batch_size: int, seed: int):\n",
        "\n",
        "    if verbose:\n",
        "        breaker()\n",
        "        print(\"Building Train and Validation DataLoaders ...\")\n",
        "    \n",
        "    tr_data_setup = DS(features=tr_features, targets=tr_targets)\n",
        "    va_data_setup = DS(features=va_features, targets=va_targets)\n",
        "    \n",
        "    dataloaders = {\n",
        "        \"train\" : DL(tr_data_setup, batch_size=batch_size, shuffle=True, generator=torch.manual_seed(seed)),\n",
        "        \"valid\" : DL(va_data_setup, batch_size=batch_size, shuffle=False)\n",
        "    }\n",
        "    \n",
        "    return dataloaders"
      ]
    },
    {
      "cell_type": "markdown",
      "metadata": {
        "id": "TADGt1q0l9IL"
      },
      "source": [
        "## Build Model"
      ]
    },
    {
      "cell_type": "code",
      "execution_count": null,
      "metadata": {
        "id": "O9a1pUbYl-cm"
      },
      "outputs": [],
      "source": [
        "def build_model(IL: int, seed: int):\n",
        "    class ANN(nn.Module):\n",
        "        def __init__(self, IL=None):\n",
        "            super(ANN, self).__init__()\n",
        "\n",
        "            self.predictor = nn.Sequential()\n",
        "            self.predictor.add_module(\"BN\", nn.BatchNorm1d(num_features=IL, eps=1e-5))\n",
        "            self.predictor.add_module(\"FC\", WN(nn.Linear(in_features=IL, out_features=1)))\n",
        "            \n",
        "        def get_optimizer(self, lr=1e-3, wd=0):\n",
        "            params = [p for p in self.parameters() if p.requires_grad]\n",
        "            return optim.Adam(params, lr=lr, weight_decay=wd)\n",
        "\n",
        "        def get_plateau_scheduler(self, optimizer=None, patience=5, eps=1e-8):\n",
        "            return optim.lr_scheduler.ReduceLROnPlateau(optimizer=optimizer, patience=patience, eps=eps, verbose=True)\n",
        "\n",
        "        def forward(self, x1, x2=None):\n",
        "            if x2 is not None:\n",
        "                return self.predictor(x1), self.predictor(x2)\n",
        "            else:\n",
        "                return self.predictor(x1)\n",
        "    \n",
        "    if verbose:\n",
        "        breaker()\n",
        "        print(\"Building Model ...\")\n",
        "        print(\"\\n{} -> 1\".format(IL))\n",
        "    \n",
        "    torch.manual_seed(seed)\n",
        "    model = ANN(IL=IL)\n",
        "    \n",
        "    return model"
      ]
    },
    {
      "cell_type": "markdown",
      "metadata": {
        "id": "9ohp8NkZmAH8"
      },
      "source": [
        "## Fit and Predict Helpers"
      ]
    },
    {
      "cell_type": "code",
      "execution_count": null,
      "metadata": {
        "id": "_AzuQrx4mCG_"
      },
      "outputs": [],
      "source": [
        "def fit(model=None, optimizer=None, scheduler=None, \n",
        "        epochs=None, early_stopping_patience=None,\n",
        "        dataloaders=None, fold=None, lr=None, wd=None, verbose=False) -> tuple:\n",
        "    \n",
        "    name = \"./LR_{}_WD_{}_Fold_{}_state.pt\".format(lr, wd, fold)\n",
        "    \n",
        "    if verbose:\n",
        "        breaker()\n",
        "        print(\"Training Fold {}...\".format(fold))\n",
        "        breaker()\n",
        "    # else:\n",
        "        # print(\"Training Fold {}...\".format(fold))\n",
        "\n",
        "    Losses = []\n",
        "    bestLoss = {\"train\" : np.inf, \"valid\" : np.inf}\n",
        "\n",
        "    start_time = time()\n",
        "    for e in range(epochs):\n",
        "        e_st = time()\n",
        "        epochLoss = {\"train\" : np.inf, \"valid\" : np.inf}\n",
        "\n",
        "        for phase in [\"train\", \"valid\"]:\n",
        "            if phase == \"train\":\n",
        "                model.train()\n",
        "            else:\n",
        "                model.eval()\n",
        "            \n",
        "            lossPerPass = []\n",
        "\n",
        "            for X, y in dataloaders[phase]:\n",
        "                X, y = X.to(DEVICE), y.to(DEVICE)\n",
        "\n",
        "                optimizer.zero_grad()\n",
        "                with torch.set_grad_enabled(phase == \"train\"):\n",
        "                    output = model(X)\n",
        "                    loss = torch.nn.MSELoss()(output, y)\n",
        "                    if phase == \"train\":\n",
        "                        loss.backward()\n",
        "                        optimizer.step()\n",
        "                lossPerPass.append(loss.item())\n",
        "            epochLoss[phase] = np.mean(np.array(lossPerPass))\n",
        "        Losses.append(epochLoss)\n",
        "\n",
        "        if early_stopping_patience:\n",
        "            if epochLoss[\"valid\"] < bestLoss[\"valid\"]:\n",
        "                bestLoss = epochLoss\n",
        "                BLE = e + 1\n",
        "                torch.save({\"model_state_dict\": model.state_dict(),\n",
        "                            \"optim_state_dict\": optimizer.state_dict()},\n",
        "                           name)\n",
        "                early_stopping_step = 0\n",
        "            else:\n",
        "                early_stopping_step += 1\n",
        "                if early_stopping_step > early_stopping_patience:\n",
        "                    if verbose:\n",
        "                        print(\"\\nEarly Stopping at Epoch {}\".format(e))\n",
        "                    break\n",
        "        \n",
        "        if epochLoss[\"valid\"] < bestLoss[\"valid\"]:\n",
        "            bestLoss = epochLoss\n",
        "            BLE = e + 1\n",
        "            torch.save({\"model_state_dict\": model.state_dict(),\n",
        "                        \"optim_state_dict\": optimizer.state_dict()},\n",
        "                       name)\n",
        "        \n",
        "        if scheduler:\n",
        "            scheduler.step(epochLoss[\"valid\"])\n",
        "        \n",
        "        if verbose:\n",
        "            print(\"Epoch: {} | Train Loss: {:.5f} | Valid Loss: {:.5f} | Time: {:.2f} seconds\".format(e+1, epochLoss[\"train\"], epochLoss[\"valid\"], time()-e_st))\n",
        "    \n",
        "    if verbose:\n",
        "        breaker()\n",
        "        print(\"Best Validation Loss at Epoch {}\".format(BLE))\n",
        "        breaker()\n",
        "        print(\"Time Taken [{} Epochs] : {:.2f} minutes\".format(len(Losses), (time()-start_time)/60))\n",
        "        breaker()\n",
        "        print(\"Training Completed\")\n",
        "        breaker()\n",
        "\n",
        "    return Losses, BLE, name\n",
        "\n",
        "#####################################################################################################\n",
        "\n",
        "def predict_batch(model=None, dataloader=None, mode=\"test\", path=None) -> np.ndarray:    \n",
        "    model.load_state_dict(torch.load(path, map_location=DEVICE)[\"model_state_dict\"])\n",
        "    model.to(DEVICE)\n",
        "    model.eval()\n",
        "\n",
        "    y_pred = torch.zeros(1, 1).to(DEVICE)\n",
        "    if re.match(r\"valid\", mode, re.IGNORECASE):\n",
        "        for X, _ in dataloader:\n",
        "            X = X.to(DEVICE)\n",
        "            with torch.no_grad():\n",
        "                output = model(X)\n",
        "            y_pred = torch.cat((y_pred, output.view(-1, 1)), dim=0)\n",
        "    elif re.match(r\"test\", mode, re.IGNORECASE):\n",
        "        for X in dataloader:\n",
        "            X = X.to(DEVICE)\n",
        "            with torch.no_grad():\n",
        "                output = model(X)\n",
        "            y_pred = torch.cat((y_pred, output.view(-1, 1)), dim=0)\n",
        "    \n",
        "    return y_pred[1:].detach().cpu().numpy()"
      ]
    },
    {
      "cell_type": "markdown",
      "metadata": {
        "id": "la0WgNW3mEn5"
      },
      "source": [
        "## Train"
      ]
    },
    {
      "cell_type": "code",
      "execution_count": null,
      "metadata": {
        "id": "bBQByu6ZmDes"
      },
      "outputs": [],
      "source": [
        "def train(features: np.ndarray, targets: np.ndarray,\n",
        "          n_splits: int, batch_size: int, lr: float, wd: float, \n",
        "          epochs: int, early_stopping: int, \n",
        "          patience=None, eps=None) -> list:        \n",
        "    \n",
        "    metrics = []\n",
        "        \n",
        "    KFold_start_time = time()\n",
        "    if verbose:\n",
        "        breaker()\n",
        "        print(\"\\tBS: {}, LR : {}, WD: {}\".format(batch_size, lr, wd))\n",
        "        breaker()\n",
        "        print(\"Performing {} Fold CV ...\".format(n_splits))\n",
        "    fold = 1\n",
        "    for tr_idx, va_idx in KFold(n_splits=n_splits, shuffle=True, random_state=SEED).split(features):\n",
        "\n",
        "        tr_features, va_features = features[tr_idx], features[va_idx]\n",
        "        tr_targets, va_targets   = targets[tr_idx], targets[va_idx]\n",
        "\n",
        "        tr_features, tr_targets = sc_X.fit_transform(tr_features), sc_y.fit_transform(tr_targets)\n",
        "        va_features, va_targets = sc_X.transform(va_features), sc_y.transform(va_targets)\n",
        "\n",
        "        dataloaders = build_dataloaders(tr_features, va_features,\n",
        "                                        tr_targets, va_targets, \n",
        "                                        batch_size, SEED)\n",
        "        model = build_model(IL=tr_features.shape[1], seed=SEED).to(DEVICE)\n",
        "        optimizer = model.get_optimizer(lr=lr, wd=wd)\n",
        "        scheduler = None\n",
        "        if isinstance(patience, int) and isinstance(eps, float):\n",
        "            scheduler = model.get_plateau_scheduler(optimizer, patience, eps)\n",
        "\n",
        "        L, _, name = fit(model=model, optimizer=optimizer, scheduler=scheduler, \n",
        "                         epochs=epochs, early_stopping_patience=early_stopping,\n",
        "                         dataloaders=dataloaders, fold=fold, lr=lr, wd=wd, verbose=verbose)\n",
        "        y_pred = predict_batch(model=model, dataloader=dataloaders[\"valid\"], mode=\"valid\", path=name)\n",
        "        RMSE = np.sqrt(mean_squared_error(sc_y.inverse_transform(y_pred), sc_y.inverse_transform(va_targets)))\n",
        "        if verbose:\n",
        "            print(\"Validation RMSE [Fold {}]: {:.5f}\".format(fold, RMSE))\n",
        "            breaker()\n",
        "            show_graphs(L)\n",
        "        \n",
        "        metrics_dict = {\"LR\" : lr, \"WD\" : wd, \"Fold\" : fold, \"RMSE\" : RMSE}\n",
        "        metrics.append(metrics_dict)\n",
        "        \n",
        "        fold += 1\n",
        "    \n",
        "    if verbose:\n",
        "        breaker()\n",
        "        print(\"Total Time to {} Fold CV : {:.2f} minutes\".format(n_splits, (time() - KFold_start_time)/60))\n",
        "    \n",
        "    return metrics, (time() - KFold_start_time)/60"
      ]
    },
    {
      "cell_type": "markdown",
      "metadata": {
        "id": "6cGdm1PfmHPz"
      },
      "source": [
        "## Main"
      ]
    },
    {
      "cell_type": "code",
      "execution_count": null,
      "metadata": {
        "id": "jNXzjHv4mIQW"
      },
      "outputs": [],
      "source": [
        "def main():\n",
        "    DEBUG = False\n",
        "    \n",
        "    complete_metrics = []\n",
        "\n",
        "    ########### Params ###########\n",
        "    \n",
        "    if DEBUG:\n",
        "        n_splits = 10\n",
        "        patience, eps = 5, 1e-8\n",
        "        epochs, early_stopping = 5, 5\n",
        "\n",
        "        batch_sizes = [256, 512]\n",
        "        lrs = [1e-2, 1e-3]\n",
        "        wds = [0.0, 1e-1]\n",
        "    else:\n",
        "        n_splits = 10\n",
        "        patience, eps = 5, 1e-8\n",
        "        epochs, early_stopping = 100, 5\n",
        "\n",
        "        batch_sizes = [32, 64, 128, 256, 512]\n",
        "        lrs = [1e-2, 1e-3, 5e-4, 1e-4]\n",
        "        wds = [0.0, 1e-1, 1e-2, 1e-3, 1e-4, 1e-5, 1e-6]\n",
        "    \n",
        "    ##############################\n",
        "\n",
        "    if verbose:\n",
        "        breaker()\n",
        "        print(\"Loading Data ...\")\n",
        "    \n",
        "    features, targets = get_features_and_targets(PATH)\n",
        "\n",
        "    breaker()\n",
        "\n",
        "    for lr in lrs:\n",
        "        for wd in wds:\n",
        "\n",
        "            # Without Scheduler\n",
        "            # metrics, time_taken = train(features, targets, n_splits, batch_sizes[0], lr, wd, epochs, early_stopping, patience=None, eps=None)\n",
        "            # metrics, time_taken = train(features, targets, n_splits, batch_sizes[1], lr, wd, epochs, early_stopping, patience=None, eps=None)\n",
        "            # metrics, time_taken = train(features, targets, n_splits, batch_sizes[2], lr, wd, epochs, early_stopping, patience=None, eps=None)\n",
        "            # metrics, time_taken = train(features, targets, n_splits, batch_sizes[3], lr, wd, epochs, early_stopping, patience=None, eps=None)\n",
        "            # metrics, time_taken = train(features, targets, n_splits, batch_sizes[4], lr, wd, epochs, early_stopping, patience=None, eps=None)\n",
        "\n",
        "    \n",
        "            # # With Plateau Scheduler\n",
        "            # metrics = train(features, targets, n_splits, batch_sizes[0], lr, wd, epochs, early_stopping, patience=patience, eps=eps)\n",
        "            # metrics = train(features, targets, n_splits, batch_sizes[1], lr, wd, epochs, early_stopping, patience=patience, eps=eps)\n",
        "            # metrics = train(features, targets, n_splits, batch_sizes[2], lr, wd, epochs, early_stopping, patience=patience, eps=eps)\n",
        "            # metrics = train(features, targets, n_splits, batch_sizes[3], lr, wd, epochs, early_stopping, patience=patience, eps=eps)\n",
        "            # metrics = train(features, targets, n_splits, batch_sizes[4], lr, wd, epochs, early_stopping, patience=patience, eps=eps)\n",
        "\n",
        "\n",
        "            complete_metrics.append(metrics)\n",
        "\n",
        "            if not verbose:\n",
        "                print(\"LR - {}, WD - {} -> {:.2f} minutes\".format(lr, wd, time_taken))\n",
        "\n",
        "    if verbose:\n",
        "        breaker()\n",
        "        for i in range(len(complete_metrics)):\n",
        "            for j in range(len(complete_metrics[i])):\n",
        "                print(complete_metrics[i][j])\n",
        "        breaker()\n",
        "    \n",
        "    rmse = []\n",
        "    for i in range(len(complete_metrics)):\n",
        "        for j in range(len(complete_metrics[i])):\n",
        "            rmse.append(complete_metrics[i][j][\"RMSE\"])\n",
        "\n",
        "    best_index = rmse.index(min(rmse))\n",
        "    best_index_1 = best_index // n_splits\n",
        "    best_index_2 = best_index % n_splits\n",
        "\n",
        "    breaker()\n",
        "    print(\"Best RMSE ({:.5f}) at LR: {} and WD: {}\".format(complete_metrics[best_index_1][best_index_2][\"RMSE\"],    \n",
        "                                                           complete_metrics[best_index_1][best_index_2][\"LR\"], \n",
        "                                                           complete_metrics[best_index_1][best_index_2][\"WD\"]))\n",
        "    breaker()\n",
        "\n",
        "    with open(\"complete_metrics.pkl\", \"wb\") as fp:\n",
        "        pickle.dump(complete_metrics, fp)"
      ]
    },
    {
      "cell_type": "code",
      "execution_count": null,
      "metadata": {
        "colab": {
          "base_uri": "https://localhost:8080/"
        },
        "id": "44Z6xcwkmJA2",
        "outputId": "7efec393-2e5b-4f67-8e45-374f79579cd9"
      },
      "outputs": [],
      "source": [
        "main()"
      ]
    },
    {
      "cell_type": "code",
      "execution_count": null,
      "metadata": {
        "colab": {
          "base_uri": "https://localhost:8080/",
          "height": 235
        },
        "id": "Hu2th5ERqRbb",
        "outputId": "1301667f-b857-452e-ec9a-d4d09f36cc06"
      },
      "outputs": [],
      "source": [
        "if not verbose:\n",
        "    with open(\"complete_metrics.pkl\", \"rb\") as fp:\n",
        "            params = pickle.load(fp)\n",
        "\n",
        "    rmse = []\n",
        "    for i in range(len(params)):\n",
        "        for j in range(len(params[i])):\n",
        "            rmse.append(params[i][j][\"RMSE\"])\n",
        "\n",
        "    best_index = rmse.index(min(rmse))\n",
        "    best_index_1 = best_index // 10\n",
        "    best_index_2 = best_index % 10\n",
        "\n",
        "    breaker()\n",
        "    print(\"Params: {}\".format(params[best_index_1][best_index_2]))\n",
        "    breaker()"
      ]
    }
  ],
  "metadata": {
    "colab": {
      "collapsed_sections": [],
      "name": "PF - Meta DL (LR, WD, BS) Analysis",
      "provenance": []
    },
    "kernelspec": {
      "display_name": "Python 3",
      "name": "python3"
    },
    "language_info": {
      "name": "python"
    }
  },
  "nbformat": 4,
  "nbformat_minor": 0
}
