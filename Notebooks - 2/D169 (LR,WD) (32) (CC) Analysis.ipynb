{
 "cells": [
  {
   "cell_type": "markdown",
   "id": "45dc5445",
   "metadata": {
    "id": "1NF27HFLxZMK",
    "papermill": {
     "duration": 0.012851,
     "end_time": "2021-10-09T23:11:25.387894",
     "exception": false,
     "start_time": "2021-10-09T23:11:25.375043",
     "status": "completed"
    },
    "tags": []
   },
   "source": [
    "## Library Imports"
   ]
  },
  {
   "cell_type": "code",
   "execution_count": 1,
   "id": "7dfaec78",
   "metadata": {
    "execution": {
     "iopub.execute_input": "2021-10-09T23:11:25.494512Z",
     "iopub.status.busy": "2021-10-09T23:11:25.493768Z",
     "iopub.status.idle": "2021-10-09T23:11:25.496851Z",
     "shell.execute_reply": "2021-10-09T23:11:25.496314Z",
     "shell.execute_reply.started": "2021-10-09T18:18:09.835291Z"
    },
    "id": "ZaibE8jTxTRV",
    "papermill": {
     "duration": 0.095452,
     "end_time": "2021-10-09T23:11:25.496984",
     "exception": false,
     "start_time": "2021-10-09T23:11:25.401532",
     "status": "completed"
    },
    "tags": []
   },
   "outputs": [],
   "source": [
    "from time import time\n",
    "notebook_start_time = time()"
   ]
  },
  {
   "cell_type": "code",
   "execution_count": 2,
   "id": "e1ccd46a",
   "metadata": {
    "execution": {
     "iopub.execute_input": "2021-10-09T23:11:25.526464Z",
     "iopub.status.busy": "2021-10-09T23:11:25.525771Z",
     "iopub.status.idle": "2021-10-09T23:11:30.770968Z",
     "shell.execute_reply": "2021-10-09T23:11:30.770503Z",
     "shell.execute_reply.started": "2021-10-09T18:18:09.95105Z"
    },
    "id": "tCefPeQFxwtS",
    "papermill": {
     "duration": 5.26208,
     "end_time": "2021-10-09T23:11:30.771126",
     "exception": false,
     "start_time": "2021-10-09T23:11:25.509046",
     "status": "completed"
    },
    "tags": []
   },
   "outputs": [],
   "source": [
    "import os\n",
    "import re\n",
    "import pickle\n",
    "import numpy as np\n",
    "import pandas as pd\n",
    "import matplotlib.pyplot as plt\n",
    "\n",
    "import torch\n",
    "from torch import nn, optim\n",
    "from torch.utils.data import Dataset\n",
    "from torch.utils.data import DataLoader as DL\n",
    "from torch.nn.utils import weight_norm as WN\n",
    "from torchvision import models, transforms\n",
    "\n",
    "from sklearn.model_selection import KFold\n",
    "from sklearn.metrics import mean_squared_error\n",
    "from sklearn.preprocessing import StandardScaler"
   ]
  },
  {
   "cell_type": "markdown",
   "id": "4b9620f0",
   "metadata": {
    "id": "iWlt7AdSxxWm",
    "papermill": {
     "duration": 0.012622,
     "end_time": "2021-10-09T23:11:30.795527",
     "exception": false,
     "start_time": "2021-10-09T23:11:30.782905",
     "status": "completed"
    },
    "tags": []
   },
   "source": [
    "## Constants and Utilities"
   ]
  },
  {
   "cell_type": "code",
   "execution_count": 3,
   "id": "96979d43",
   "metadata": {
    "execution": {
     "iopub.execute_input": "2021-10-09T23:11:30.862483Z",
     "iopub.status.busy": "2021-10-09T23:11:30.861741Z",
     "iopub.status.idle": "2021-10-09T23:11:30.864365Z",
     "shell.execute_reply": "2021-10-09T23:11:30.863914Z",
     "shell.execute_reply.started": "2021-10-09T18:18:11.594208Z"
    },
    "id": "ZpMGLKhKx0EX",
    "papermill": {
     "duration": 0.057548,
     "end_time": "2021-10-09T23:11:30.864471",
     "exception": false,
     "start_time": "2021-10-09T23:11:30.806923",
     "status": "completed"
    },
    "tags": []
   },
   "outputs": [],
   "source": [
    "SEED = 0\n",
    "DEVICE = torch.device(\"cuda\" if torch.cuda.is_available() else \"cpu\")\n",
    "DATA_PATH = \"../input/petfinder-pawpularity-score\"\n",
    "FEATURE_PATH = \"../input/petfinder-pf-cc-ua-dataset\"\n",
    "MODEL_NAME = \"densenet169\"\n",
    "verbose = False\n",
    "\n",
    "sc_y = StandardScaler()"
   ]
  },
  {
   "cell_type": "code",
   "execution_count": 4,
   "id": "6c4a63f4",
   "metadata": {
    "execution": {
     "iopub.execute_input": "2021-10-09T23:11:30.896818Z",
     "iopub.status.busy": "2021-10-09T23:11:30.895977Z",
     "iopub.status.idle": "2021-10-09T23:11:30.897815Z",
     "shell.execute_reply": "2021-10-09T23:11:30.898464Z",
     "shell.execute_reply.started": "2021-10-09T18:18:11.615048Z"
    },
    "id": "yIR_gIEPyZrc",
    "papermill": {
     "duration": 0.022635,
     "end_time": "2021-10-09T23:11:30.898585",
     "exception": false,
     "start_time": "2021-10-09T23:11:30.875950",
     "status": "completed"
    },
    "tags": []
   },
   "outputs": [],
   "source": [
    "def breaker(num=50, char=\"*\") -> None:\n",
    "    print(\"\\n\" + num*char + \"\\n\")\n",
    "\n",
    "\n",
    "def get_targets(path: str) -> np.ndarray:\n",
    "    df = pd.read_csv(os.path.join(path, \"train.csv\"), engine=\"python\")\n",
    "    targets = df[\"Pawpularity\"].copy().values\n",
    "    return targets.reshape(-1, 1)\n",
    "\n",
    "\n",
    "def show_graphs(L: list, title=None) -> None:\n",
    "    TL, VL = [], []\n",
    "    for i in range(len(L)):\n",
    "        TL.append(L[i][\"train\"])\n",
    "        VL.append(L[i][\"valid\"])\n",
    "    x_Axis = np.arange(1, len(L) + 1)\n",
    "    plt.figure()\n",
    "    plt.plot(x_Axis, TL, \"r\", label=\"train\")\n",
    "    plt.plot(x_Axis, VL, \"b\", label=\"valid\")\n",
    "    plt.grid()\n",
    "    plt.legend()\n",
    "    if title:\n",
    "        plt.title(\"{} Loss\".format(title))\n",
    "    else:\n",
    "        plt.title(\"Loss\")\n",
    "    plt.show()"
   ]
  },
  {
   "cell_type": "markdown",
   "id": "ff7b87d0",
   "metadata": {
    "id": "7y0fd6rWy9C7",
    "papermill": {
     "duration": 0.011329,
     "end_time": "2021-10-09T23:11:30.921365",
     "exception": false,
     "start_time": "2021-10-09T23:11:30.910036",
     "status": "completed"
    },
    "tags": []
   },
   "source": [
    "## Dataset Template and Build Dataloader"
   ]
  },
  {
   "cell_type": "code",
   "execution_count": 5,
   "id": "f379c152",
   "metadata": {
    "execution": {
     "iopub.execute_input": "2021-10-09T23:11:30.953674Z",
     "iopub.status.busy": "2021-10-09T23:11:30.947845Z",
     "iopub.status.idle": "2021-10-09T23:11:30.955972Z",
     "shell.execute_reply": "2021-10-09T23:11:30.955573Z",
     "shell.execute_reply.started": "2021-10-09T18:18:11.638867Z"
    },
    "id": "TtCaj5UAy7ar",
    "papermill": {
     "duration": 0.023519,
     "end_time": "2021-10-09T23:11:30.956090",
     "exception": false,
     "start_time": "2021-10-09T23:11:30.932571",
     "status": "completed"
    },
    "tags": []
   },
   "outputs": [],
   "source": [
    "class DS(Dataset):\n",
    "    def __init__(self, features=None, targets=None):\n",
    "        self.features = features\n",
    "        self.targets  = targets\n",
    "        \n",
    "    def __len__(self):\n",
    "        return self.features.shape[0]\n",
    "    \n",
    "    def __getitem__(self, idx):\n",
    "        return torch.FloatTensor(self.features[idx]), torch.FloatTensor(self.targets[idx])\n",
    "    \n",
    "\n",
    "def build_dataloaders(tr_features: np.ndarray, va_features: np.ndarray,\n",
    "                      tr_targets: np.ndarray, va_targets: np.ndarray,\n",
    "                      batch_size: int, seed: int):\n",
    "\n",
    "    if verbose:\n",
    "        breaker()\n",
    "        print(\"Building Train and Validation DataLoaders ...\")\n",
    "    \n",
    "    tr_data_setup = DS(features=tr_features, targets=tr_targets)\n",
    "    va_data_setup = DS(features=va_features, targets=va_targets)\n",
    "    \n",
    "    dataloaders = {\n",
    "        \"train\" : DL(tr_data_setup, batch_size=batch_size, shuffle=True, generator=torch.manual_seed(seed)),\n",
    "        \"valid\" : DL(va_data_setup, batch_size=batch_size, shuffle=False)\n",
    "    }\n",
    "    \n",
    "    return dataloaders"
   ]
  },
  {
   "cell_type": "markdown",
   "id": "f1be407a",
   "metadata": {
    "id": "8wmsPRi6zjyn",
    "papermill": {
     "duration": 0.011193,
     "end_time": "2021-10-09T23:11:30.978614",
     "exception": false,
     "start_time": "2021-10-09T23:11:30.967421",
     "status": "completed"
    },
    "tags": []
   },
   "source": [
    "## Build Model"
   ]
  },
  {
   "cell_type": "code",
   "execution_count": 6,
   "id": "90cd902c",
   "metadata": {
    "execution": {
     "iopub.execute_input": "2021-10-09T23:11:31.011685Z",
     "iopub.status.busy": "2021-10-09T23:11:31.010925Z",
     "iopub.status.idle": "2021-10-09T23:11:31.013523Z",
     "shell.execute_reply": "2021-10-09T23:11:31.013042Z",
     "shell.execute_reply.started": "2021-10-09T18:18:11.654327Z"
    },
    "id": "2GYZ4teczjIm",
    "papermill": {
     "duration": 0.023647,
     "end_time": "2021-10-09T23:11:31.013649",
     "exception": false,
     "start_time": "2021-10-09T23:11:30.990002",
     "status": "completed"
    },
    "tags": []
   },
   "outputs": [],
   "source": [
    "def build_model(IL: int, seed: int):\n",
    "    class ANN(nn.Module):\n",
    "        def __init__(self, IL=None):\n",
    "            super(ANN, self).__init__()\n",
    "\n",
    "            self.predictor = nn.Sequential()\n",
    "            self.predictor.add_module(\"BN\", nn.BatchNorm1d(num_features=IL, eps=1e-5))\n",
    "            self.predictor.add_module(\"FC\", WN(nn.Linear(in_features=IL, out_features=1)))\n",
    "\n",
    "        def get_optimizer(self, lr=1e-3, wd=0):\n",
    "            params = [p for p in self.parameters() if p.requires_grad]\n",
    "            return optim.Adam(params, lr=lr, weight_decay=wd)\n",
    "\n",
    "        def get_plateau_scheduler(self, optimizer=None, patience=5, eps=1e-8):\n",
    "            return optim.lr_scheduler.ReduceLROnPlateau(optimizer=optimizer, patience=patience, eps=eps, verbose=True)\n",
    "\n",
    "        def forward(self, x1, x2=None):\n",
    "            if x2 is not None:\n",
    "                return self.predictor(x1), self.predictor(x2)\n",
    "            else:\n",
    "                return self.predictor(x1)\n",
    "    \n",
    "    if verbose:\n",
    "        breaker()\n",
    "        print(\"Building Model ...\")\n",
    "        print(\"\\n{} -> 1\".format(IL))\n",
    "    \n",
    "    torch.manual_seed(seed)\n",
    "    model = ANN(IL=IL)\n",
    "    \n",
    "    return model"
   ]
  },
  {
   "cell_type": "markdown",
   "id": "34ef75cd",
   "metadata": {
    "id": "uuMvELK2zqh0",
    "papermill": {
     "duration": 0.011972,
     "end_time": "2021-10-09T23:11:31.037741",
     "exception": false,
     "start_time": "2021-10-09T23:11:31.025769",
     "status": "completed"
    },
    "tags": []
   },
   "source": [
    "## Fit and Predict Helpers"
   ]
  },
  {
   "cell_type": "code",
   "execution_count": 7,
   "id": "c7c75316",
   "metadata": {
    "execution": {
     "iopub.execute_input": "2021-10-09T23:11:31.083408Z",
     "iopub.status.busy": "2021-10-09T23:11:31.082543Z",
     "iopub.status.idle": "2021-10-09T23:11:31.084607Z",
     "shell.execute_reply": "2021-10-09T23:11:31.084978Z",
     "shell.execute_reply.started": "2021-10-09T18:18:11.669126Z"
    },
    "id": "8DQ9EUrIzpmn",
    "papermill": {
     "duration": 0.035198,
     "end_time": "2021-10-09T23:11:31.085111",
     "exception": false,
     "start_time": "2021-10-09T23:11:31.049913",
     "status": "completed"
    },
    "tags": []
   },
   "outputs": [],
   "source": [
    "def fit(model=None, optimizer=None, scheduler=None, \n",
    "        epochs=None, early_stopping_patience=None,\n",
    "        dataloaders=None, fold=None, lr=None, wd=None, verbose=False) -> tuple:\n",
    "    \n",
    "    name = \"./LR_{}_WD_{}_Fold_{}_state.pt\".format(lr, wd, fold)\n",
    "    \n",
    "    if verbose:\n",
    "        breaker()\n",
    "        print(\"Training Fold {}...\".format(fold))\n",
    "        breaker()\n",
    "    # else:\n",
    "        # print(\"Training Fold {}...\".format(fold))\n",
    "\n",
    "    Losses = []\n",
    "    bestLoss = {\"train\" : np.inf, \"valid\" : np.inf}\n",
    "\n",
    "    start_time = time()\n",
    "    for e in range(epochs):\n",
    "        e_st = time()\n",
    "        epochLoss = {\"train\" : np.inf, \"valid\" : np.inf}\n",
    "\n",
    "        for phase in [\"train\", \"valid\"]:\n",
    "            if phase == \"train\":\n",
    "                model.train()\n",
    "            else:\n",
    "                model.eval()\n",
    "            \n",
    "            lossPerPass = []\n",
    "\n",
    "            for X, y in dataloaders[phase]:\n",
    "                X, y = X.to(DEVICE), y.to(DEVICE)\n",
    "\n",
    "                optimizer.zero_grad()\n",
    "                with torch.set_grad_enabled(phase == \"train\"):\n",
    "                    output = model(X)\n",
    "                    loss = torch.nn.MSELoss()(output, y)\n",
    "                    if phase == \"train\":\n",
    "                        loss.backward()\n",
    "                        optimizer.step()\n",
    "                lossPerPass.append(loss.item())\n",
    "            epochLoss[phase] = np.mean(np.array(lossPerPass))\n",
    "        Losses.append(epochLoss)\n",
    "\n",
    "        if early_stopping_patience:\n",
    "            if epochLoss[\"valid\"] < bestLoss[\"valid\"]:\n",
    "                bestLoss = epochLoss\n",
    "                BLE = e + 1\n",
    "                torch.save({\"model_state_dict\": model.state_dict(),\n",
    "                            \"optim_state_dict\": optimizer.state_dict()},\n",
    "                           name)\n",
    "                early_stopping_step = 0\n",
    "            else:\n",
    "                early_stopping_step += 1\n",
    "                if early_stopping_step > early_stopping_patience:\n",
    "                    if verbose:\n",
    "                        print(\"\\nEarly Stopping at Epoch {}\".format(e))\n",
    "                    break\n",
    "        \n",
    "        if epochLoss[\"valid\"] < bestLoss[\"valid\"]:\n",
    "            bestLoss = epochLoss\n",
    "            BLE = e + 1\n",
    "            torch.save({\"model_state_dict\": model.state_dict(),\n",
    "                        \"optim_state_dict\": optimizer.state_dict()},\n",
    "                       name)\n",
    "        \n",
    "        if scheduler:\n",
    "            scheduler.step(epochLoss[\"valid\"])\n",
    "        \n",
    "        if verbose:\n",
    "            print(\"Epoch: {} | Train Loss: {:.5f} | Valid Loss: {:.5f} | Time: {:.2f} seconds\".format(e+1, epochLoss[\"train\"], epochLoss[\"valid\"], time()-e_st))\n",
    "    \n",
    "    if verbose:\n",
    "        breaker()\n",
    "        print(\"Best Validation Loss at Epoch {}\".format(BLE))\n",
    "        breaker()\n",
    "        print(\"Time Taken [{} Epochs] : {:.2f} minutes\".format(len(Losses), (time()-start_time)/60))\n",
    "        breaker()\n",
    "        print(\"Training Completed\")\n",
    "        breaker()\n",
    "\n",
    "    return Losses, BLE, name\n",
    "\n",
    "#####################################################################################################\n",
    "\n",
    "def predict_batch(model=None, dataloader=None, mode=\"test\", path=None) -> np.ndarray:    \n",
    "    model.load_state_dict(torch.load(path, map_location=DEVICE)[\"model_state_dict\"])\n",
    "    model.to(DEVICE)\n",
    "    model.eval()\n",
    "\n",
    "    y_pred = torch.zeros(1, 1).to(DEVICE)\n",
    "    if re.match(r\"valid\", mode, re.IGNORECASE):\n",
    "        for X, _ in dataloader:\n",
    "            X = X.to(DEVICE)\n",
    "            with torch.no_grad():\n",
    "                output = model(X)\n",
    "            y_pred = torch.cat((y_pred, output.view(-1, 1)), dim=0)\n",
    "    elif re.match(r\"test\", mode, re.IGNORECASE):\n",
    "        for X in dataloader:\n",
    "            X = X.to(DEVICE)\n",
    "            with torch.no_grad():\n",
    "                output = model(X)\n",
    "            y_pred = torch.cat((y_pred, output.view(-1, 1)), dim=0)\n",
    "    \n",
    "    return y_pred[1:].detach().cpu().numpy()"
   ]
  },
  {
   "cell_type": "markdown",
   "id": "32885740",
   "metadata": {
    "id": "YQP876MS0OrX",
    "papermill": {
     "duration": 0.011146,
     "end_time": "2021-10-09T23:11:31.107640",
     "exception": false,
     "start_time": "2021-10-09T23:11:31.096494",
     "status": "completed"
    },
    "tags": []
   },
   "source": [
    "## Train"
   ]
  },
  {
   "cell_type": "code",
   "execution_count": 8,
   "id": "58d9d3f6",
   "metadata": {
    "execution": {
     "iopub.execute_input": "2021-10-09T23:11:31.143525Z",
     "iopub.status.busy": "2021-10-09T23:11:31.142704Z",
     "iopub.status.idle": "2021-10-09T23:11:31.144647Z",
     "shell.execute_reply": "2021-10-09T23:11:31.145045Z",
     "shell.execute_reply.started": "2021-10-09T18:18:11.705577Z"
    },
    "id": "OrGICYXg0QEM",
    "papermill": {
     "duration": 0.026179,
     "end_time": "2021-10-09T23:11:31.145175",
     "exception": false,
     "start_time": "2021-10-09T23:11:31.118996",
     "status": "completed"
    },
    "tags": []
   },
   "outputs": [],
   "source": [
    "def train(features: np.ndarray, targets: np.ndarray,\n",
    "          n_splits: int, batch_size: int, lr: float, wd: float, \n",
    "          epochs: int, early_stopping: int, \n",
    "          patience=None, eps=None) -> list:        \n",
    "    \n",
    "    metrics = []\n",
    "        \n",
    "    KFold_start_time = time()\n",
    "    if verbose:\n",
    "        breaker()\n",
    "        print(\"\\tLR : {}, WD: {}\".format(lr, wd))\n",
    "        breaker()\n",
    "        print(\"Performing {} Fold CV ...\".format(n_splits))\n",
    "    fold = 1\n",
    "    for tr_idx, va_idx in KFold(n_splits=n_splits, shuffle=True, random_state=SEED).split(features):\n",
    "\n",
    "        tr_features, va_features = features[tr_idx], features[va_idx]\n",
    "        tr_targets, va_targets   = targets[tr_idx], targets[va_idx]\n",
    "\n",
    "        tr_targets = sc_y.fit_transform(tr_targets)\n",
    "        va_targets = sc_y.transform(va_targets)\n",
    "\n",
    "        dataloaders = build_dataloaders(tr_features, va_features,\n",
    "                                        tr_targets, va_targets, \n",
    "                                        batch_size, SEED)\n",
    "        model = build_model(IL=tr_features.shape[1], seed=SEED).to(DEVICE)\n",
    "        optimizer = model.get_optimizer(lr=lr, wd=wd)\n",
    "        scheduler = None\n",
    "        if isinstance(patience, int) and isinstance(eps, float):\n",
    "            scheduler = model.get_plateau_scheduler(optimizer, patience, eps)\n",
    "\n",
    "        L, _, name = fit(model=model, optimizer=optimizer, scheduler=scheduler, \n",
    "                         epochs=epochs, early_stopping_patience=early_stopping,\n",
    "                         dataloaders=dataloaders, fold=fold, lr=lr, wd=wd, verbose=verbose)\n",
    "        y_pred = predict_batch(model=model, dataloader=dataloaders[\"valid\"], mode=\"valid\", path=name)\n",
    "        RMSE = np.sqrt(mean_squared_error(sc_y.inverse_transform(y_pred), sc_y.inverse_transform(va_targets)))\n",
    "        if verbose:\n",
    "            print(\"Validation RMSE [Fold {}]: {:.5f}\".format(fold, RMSE))\n",
    "            breaker()\n",
    "            show_graphs(L)\n",
    "        \n",
    "        metrics_dict = {\"Fold\" : fold, \"LR\" : lr, \"WD\" : wd, \"RMSE\" : RMSE}\n",
    "        metrics.append(metrics_dict)\n",
    "        \n",
    "        fold += 1\n",
    "    \n",
    "    if verbose:\n",
    "        breaker()\n",
    "        print(\"Total Time to {} Fold CV : {:.2f} minutes\".format(n_splits, (time() - KFold_start_time)/60))\n",
    "    \n",
    "    return metrics, (time() - KFold_start_time)/60"
   ]
  },
  {
   "cell_type": "markdown",
   "id": "a38e9d69",
   "metadata": {
    "id": "UGUqaAzy1C33",
    "papermill": {
     "duration": 0.011075,
     "end_time": "2021-10-09T23:11:31.167481",
     "exception": false,
     "start_time": "2021-10-09T23:11:31.156406",
     "status": "completed"
    },
    "tags": []
   },
   "source": [
    "## Main"
   ]
  },
  {
   "cell_type": "code",
   "execution_count": 9,
   "id": "208859b1",
   "metadata": {
    "execution": {
     "iopub.execute_input": "2021-10-09T23:11:31.202077Z",
     "iopub.status.busy": "2021-10-09T23:11:31.197301Z",
     "iopub.status.idle": "2021-10-09T23:11:31.204380Z",
     "shell.execute_reply": "2021-10-09T23:11:31.203971Z",
     "shell.execute_reply.started": "2021-10-09T18:21:59.180726Z"
    },
    "id": "_0yK3IwR1CEs",
    "papermill": {
     "duration": 0.025813,
     "end_time": "2021-10-09T23:11:31.204481",
     "exception": false,
     "start_time": "2021-10-09T23:11:31.178668",
     "status": "completed"
    },
    "tags": []
   },
   "outputs": [],
   "source": [
    "def main():\n",
    "    DEBUG = False\n",
    "    \n",
    "    ########### Params ###########\n",
    "    \n",
    "    if DEBUG:\n",
    "        n_splits = 10\n",
    "        patience, eps = 5, 1e-8\n",
    "        epochs, early_stopping = 5, 5\n",
    "\n",
    "        batch_size = 32\n",
    "        lrs = [1e-2, 1e-3]\n",
    "        wds = [0.0, 1e-1]\n",
    "    else:\n",
    "        n_splits = 10\n",
    "        patience, eps = 5, 1e-8\n",
    "        epochs, early_stopping = 100, 8\n",
    "\n",
    "        batch_size = 32\n",
    "        lrs = [1e-3, 5e-4, 1e-4]\n",
    "        wds = [0.0, 1e-1, 1e-2, 1e-3, 1e-4, 1e-5, 1e-6]\n",
    "    \n",
    "    ##############################\n",
    "\n",
    "    complete_metrics = []\n",
    "\n",
    "    if verbose:\n",
    "        breaker()\n",
    "        print(\"Loading Data ...\")\n",
    "    \n",
    "    features = np.load(os.path.join(FEATURE_PATH, \"{}_features.npy\".format(MODEL_NAME)))\n",
    "    targets  = get_targets(DATA_PATH)\n",
    "\n",
    "    breaker()\n",
    "    for lr in lrs:\n",
    "        for wd in wds:\n",
    "\n",
    "            # Without Scheduler\n",
    "            metrics, time_taken = train(features, targets, n_splits, batch_size, lr, wd, epochs, early_stopping, patience=None, eps=None)\n",
    "\n",
    "            # # With Plateau Scheduler\n",
    "            # metrics = train(features, targets, n_splits, batch_size, lr, wd, epochs, early_stopping, patience=patience, eps=eps)\n",
    "\n",
    "            complete_metrics.append(metrics)\n",
    "\n",
    "            if not verbose:\n",
    "                print(\"LR : {}, WD: {} -> {:.2f} minutes\".format(lr, wd, time_taken))\n",
    "                breaker()\n",
    "\n",
    "    if verbose:\n",
    "        breaker()\n",
    "        for i in range(len(complete_metrics)):\n",
    "            for j in range(len(complete_metrics[i])):\n",
    "                print(complete_metrics[i][j])\n",
    "        breaker()\n",
    "    \n",
    "    rmse = []\n",
    "    for i in range(len(complete_metrics)):\n",
    "        for j in range(len(complete_metrics[i])):\n",
    "            rmse.append(complete_metrics[i][j][\"RMSE\"])\n",
    "    \n",
    "    best_index = rmse.index(min(rmse))\n",
    "    best_index_1 = best_index // n_splits\n",
    "    best_index_2 = best_index % n_splits\n",
    "    \n",
    "    print(\"Best LR: {} and WD: {}\".format(complete_metrics[best_index_1][best_index_2][\"LR\"], \n",
    "                                          complete_metrics[best_index_1][best_index_2][\"WD\"]))\n",
    "    breaker()\n",
    "\n",
    "    with open(\"complete_metrics.pkl\", \"wb\") as fp:\n",
    "        pickle.dump(complete_metrics, fp)"
   ]
  },
  {
   "cell_type": "code",
   "execution_count": 10,
   "id": "cf3e6c56",
   "metadata": {
    "execution": {
     "iopub.execute_input": "2021-10-09T23:11:31.230382Z",
     "iopub.status.busy": "2021-10-09T23:11:31.229886Z",
     "iopub.status.idle": "2021-10-09T23:55:27.593565Z",
     "shell.execute_reply": "2021-10-09T23:55:27.594038Z",
     "shell.execute_reply.started": "2021-10-09T18:22:01.852789Z"
    },
    "id": "9Vf0T4VN2Z1Q",
    "outputId": "d8f15d91-6afc-482a-e8c4-ccba8ab2f221",
    "papermill": {
     "duration": 2636.378437,
     "end_time": "2021-10-09T23:55:27.594226",
     "exception": false,
     "start_time": "2021-10-09T23:11:31.215789",
     "status": "completed"
    },
    "tags": []
   },
   "outputs": [
    {
     "name": "stdout",
     "output_type": "stream",
     "text": [
      "\n",
      "**************************************************\n",
      "\n",
      "LR : 0.001, WD: 0.0 -> 1.68 minutes\n",
      "\n",
      "**************************************************\n",
      "\n",
      "LR : 0.001, WD: 0.1 -> 1.41 minutes\n",
      "\n",
      "**************************************************\n",
      "\n",
      "LR : 0.001, WD: 0.01 -> 1.47 minutes\n",
      "\n",
      "**************************************************\n",
      "\n",
      "LR : 0.001, WD: 0.001 -> 1.65 minutes\n",
      "\n",
      "**************************************************\n",
      "\n",
      "LR : 0.001, WD: 0.0001 -> 1.51 minutes\n",
      "\n",
      "**************************************************\n",
      "\n",
      "LR : 0.001, WD: 1e-05 -> 1.60 minutes\n",
      "\n",
      "**************************************************\n",
      "\n",
      "LR : 0.001, WD: 1e-06 -> 1.59 minutes\n",
      "\n",
      "**************************************************\n",
      "\n",
      "LR : 0.0005, WD: 0.0 -> 1.59 minutes\n",
      "\n",
      "**************************************************\n",
      "\n",
      "LR : 0.0005, WD: 0.1 -> 1.71 minutes\n",
      "\n",
      "**************************************************\n",
      "\n",
      "LR : 0.0005, WD: 0.01 -> 1.86 minutes\n",
      "\n",
      "**************************************************\n",
      "\n",
      "LR : 0.0005, WD: 0.001 -> 1.73 minutes\n",
      "\n",
      "**************************************************\n",
      "\n",
      "LR : 0.0005, WD: 0.0001 -> 1.62 minutes\n",
      "\n",
      "**************************************************\n",
      "\n",
      "LR : 0.0005, WD: 1e-05 -> 1.63 minutes\n",
      "\n",
      "**************************************************\n",
      "\n",
      "LR : 0.0005, WD: 1e-06 -> 1.64 minutes\n",
      "\n",
      "**************************************************\n",
      "\n",
      "LR : 0.0001, WD: 0.0 -> 2.78 minutes\n",
      "\n",
      "**************************************************\n",
      "\n",
      "LR : 0.0001, WD: 0.1 -> 3.67 minutes\n",
      "\n",
      "**************************************************\n",
      "\n",
      "LR : 0.0001, WD: 0.01 -> 3.46 minutes\n",
      "\n",
      "**************************************************\n",
      "\n",
      "LR : 0.0001, WD: 0.001 -> 2.89 minutes\n",
      "\n",
      "**************************************************\n",
      "\n",
      "LR : 0.0001, WD: 0.0001 -> 2.74 minutes\n",
      "\n",
      "**************************************************\n",
      "\n",
      "LR : 0.0001, WD: 1e-05 -> 2.85 minutes\n",
      "\n",
      "**************************************************\n",
      "\n",
      "LR : 0.0001, WD: 1e-06 -> 2.84 minutes\n",
      "\n",
      "**************************************************\n",
      "\n",
      "Best LR: 0.0005 and WD: 0.1\n",
      "\n",
      "**************************************************\n",
      "\n"
     ]
    }
   ],
   "source": [
    "main()"
   ]
  },
  {
   "cell_type": "code",
   "execution_count": 11,
   "id": "9affe914",
   "metadata": {
    "execution": {
     "iopub.execute_input": "2021-10-09T23:55:27.635705Z",
     "iopub.status.busy": "2021-10-09T23:55:27.635196Z",
     "iopub.status.idle": "2021-10-09T23:55:27.638986Z",
     "shell.execute_reply": "2021-10-09T23:55:27.638574Z",
     "shell.execute_reply.started": "2021-10-09T18:20:52.276263Z"
    },
    "id": "YmNqGwy98SyF",
    "papermill": {
     "duration": 0.025199,
     "end_time": "2021-10-09T23:55:27.639100",
     "exception": false,
     "start_time": "2021-10-09T23:55:27.613901",
     "status": "completed"
    },
    "tags": []
   },
   "outputs": [
    {
     "name": "stdout",
     "output_type": "stream",
     "text": [
      "\n",
      "**************************************************\n",
      "\n",
      "Notebook Rumtime : 44.04 minutes\n",
      "\n",
      "**************************************************\n",
      "\n"
     ]
    }
   ],
   "source": [
    "breaker()\n",
    "print(\"Notebook Rumtime : {:.2f} minutes\".format((time() - notebook_start_time)/60))\n",
    "breaker()"
   ]
  }
 ],
 "metadata": {
  "kernelspec": {
   "display_name": "Python 3",
   "language": "python",
   "name": "python3"
  },
  "language_info": {
   "codemirror_mode": {
    "name": "ipython",
    "version": 3
   },
   "file_extension": ".py",
   "mimetype": "text/x-python",
   "name": "python",
   "nbconvert_exporter": "python",
   "pygments_lexer": "ipython3",
   "version": "3.7.10"
  },
  "papermill": {
   "default_parameters": {},
   "duration": 2650.247733,
   "end_time": "2021-10-09T23:55:29.153791",
   "environment_variables": {},
   "exception": null,
   "input_path": "__notebook__.ipynb",
   "output_path": "__notebook__.ipynb",
   "parameters": {},
   "start_time": "2021-10-09T23:11:18.906058",
   "version": "2.3.3"
  }
 },
 "nbformat": 4,
 "nbformat_minor": 5
}
