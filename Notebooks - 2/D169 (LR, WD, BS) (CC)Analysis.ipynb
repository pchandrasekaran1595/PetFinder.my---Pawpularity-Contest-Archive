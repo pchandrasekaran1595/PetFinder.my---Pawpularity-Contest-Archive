{
  "cells": [
    {
      "cell_type": "markdown",
      "metadata": {
        "id": "1NF27HFLxZMK"
      },
      "source": [
        "## Get Data"
      ]
    },
    {
      "cell_type": "code",
      "execution_count": null,
      "metadata": {
        "id": "ZaibE8jTxTRV"
      },
      "outputs": [],
      "source": [
        "from IPython.display import clear_output\n",
        "from google.colab import files\n",
        "files.upload()\n",
        "\n",
        "!pip install -q kaggle\n",
        "!mkdir -p ~/.kaggle\n",
        "!cp kaggle.json ~/.kaggle/\n",
        "!ls ~/.kaggle\n",
        "!chmod 600 /root/.kaggle/kaggle.json\n",
        "\n",
        "!kaggle datasets download -d jackstapleton/petfinder-pf-cc-ua-dataset\n",
        "\n",
        "!mkdir ~/.data\n",
        "!unzip -q petfinder-pf-cc-ua-dataset.zip -d /.data\n",
        "\n",
        "clear_output()"
      ]
    },
    {
      "cell_type": "code",
      "execution_count": null,
      "metadata": {
        "id": "4LPY_A201pLw"
      },
      "outputs": [],
      "source": [
        "from google.colab import drive\n",
        "drive.mount(\"/content/gdrive\")\n",
        "\n",
        "clear_output()"
      ]
    },
    {
      "cell_type": "markdown",
      "metadata": {
        "id": "nEAAe8H4xkfB"
      },
      "source": [
        "## Library Imports"
      ]
    },
    {
      "cell_type": "code",
      "execution_count": null,
      "metadata": {
        "id": "tCefPeQFxwtS"
      },
      "outputs": [],
      "source": [
        "import os\n",
        "import re\n",
        "import pickle\n",
        "import numpy as np\n",
        "import pandas as pd\n",
        "import matplotlib.pyplot as plt\n",
        "\n",
        "import torch\n",
        "from torch import nn, optim\n",
        "from torch.utils.data import Dataset\n",
        "from torch.utils.data import DataLoader as DL\n",
        "from torch.nn.utils import weight_norm as WN\n",
        "from torchvision import models, transforms\n",
        "\n",
        "from time import time\n",
        "from sklearn.model_selection import KFold\n",
        "from sklearn.metrics import mean_squared_error\n",
        "from sklearn.preprocessing import StandardScaler"
      ]
    },
    {
      "cell_type": "markdown",
      "metadata": {
        "id": "iWlt7AdSxxWm"
      },
      "source": [
        "## Constants and Utilities"
      ]
    },
    {
      "cell_type": "code",
      "execution_count": null,
      "metadata": {
        "id": "ZpMGLKhKx0EX"
      },
      "outputs": [],
      "source": [
        "SEED = 0\n",
        "DEVICE = torch.device(\"cuda\" if torch.cuda.is_available() else \"cpu\")\n",
        "PATH = \"/.data\"\n",
        "verbose = False\n",
        "\n",
        "sc_y = StandardScaler()"
      ]
    },
    {
      "cell_type": "code",
      "execution_count": null,
      "metadata": {
        "id": "yIR_gIEPyZrc"
      },
      "outputs": [],
      "source": [
        "def breaker(num=50, char=\"*\") -> None:\n",
        "    print(\"\\n\" + num*char + \"\\n\")\n",
        "\n",
        "\n",
        "def get_targets() -> np.ndarray:\n",
        "    df = pd.read_csv(\"/content/gdrive/My Drive/train.csv\", engine=\"python\")\n",
        "    targets = df[\"Pawpularity\"].copy().values\n",
        "    return targets.reshape(-1, 1)\n",
        "\n",
        "\n",
        "def show_graphs(L: list, title=None) -> None:\n",
        "    TL, VL = [], []\n",
        "    for i in range(len(L)):\n",
        "        TL.append(L[i][\"train\"])\n",
        "        VL.append(L[i][\"valid\"])\n",
        "    x_Axis = np.arange(1, len(L) + 1)\n",
        "    plt.figure()\n",
        "    plt.plot(x_Axis, TL, \"r\", label=\"train\")\n",
        "    plt.plot(x_Axis, VL, \"b\", label=\"valid\")\n",
        "    plt.grid()\n",
        "    plt.legend()\n",
        "    if title:\n",
        "        plt.title(\"{} Loss\".format(title))\n",
        "    else:\n",
        "        plt.title(\"Loss\")\n",
        "    plt.show()"
      ]
    },
    {
      "cell_type": "markdown",
      "metadata": {
        "id": "7y0fd6rWy9C7"
      },
      "source": [
        "## Dataset Template and Build Dataloader"
      ]
    },
    {
      "cell_type": "code",
      "execution_count": null,
      "metadata": {
        "id": "TtCaj5UAy7ar"
      },
      "outputs": [],
      "source": [
        "class DS(Dataset):\n",
        "    def __init__(self, features=None, targets=None):\n",
        "        self.features = features\n",
        "        self.targets  = targets\n",
        "        \n",
        "    def __len__(self):\n",
        "        return self.features.shape[0]\n",
        "    \n",
        "    def __getitem__(self, idx):\n",
        "        return torch.FloatTensor(self.features[idx]), torch.FloatTensor(self.targets[idx])\n",
        "    \n",
        "\n",
        "def build_dataloaders(tr_features: np.ndarray, va_features: np.ndarray,\n",
        "                      tr_targets: np.ndarray, va_targets: np.ndarray,\n",
        "                      batch_size: int, seed: int):\n",
        "\n",
        "    if verbose:\n",
        "        breaker()\n",
        "        print(\"Building Train and Validation DataLoaders ...\")\n",
        "    \n",
        "    tr_data_setup = DS(features=tr_features, targets=tr_targets)\n",
        "    va_data_setup = DS(features=va_features, targets=va_targets)\n",
        "    \n",
        "    dataloaders = {\n",
        "        \"train\" : DL(tr_data_setup, batch_size=batch_size, shuffle=True, generator=torch.manual_seed(seed)),\n",
        "        \"valid\" : DL(va_data_setup, batch_size=batch_size, shuffle=False)\n",
        "    }\n",
        "    \n",
        "    return dataloaders"
      ]
    },
    {
      "cell_type": "markdown",
      "metadata": {
        "id": "8wmsPRi6zjyn"
      },
      "source": [
        "## Build Model"
      ]
    },
    {
      "cell_type": "code",
      "execution_count": null,
      "metadata": {
        "id": "2GYZ4teczjIm"
      },
      "outputs": [],
      "source": [
        "def build_model(IL: int, seed: int):\n",
        "    class ANN(nn.Module):\n",
        "        def __init__(self, IL=None):\n",
        "            super(ANN, self).__init__()\n",
        "\n",
        "            self.predictor = nn.Sequential()\n",
        "            self.predictor.add_module(\"BN\", nn.BatchNorm1d(num_features=IL, eps=1e-5))\n",
        "            self.predictor.add_module(\"FC\", WN(nn.Linear(in_features=IL, out_features=1)))\n",
        "\n",
        "        def get_optimizer(self, lr=1e-3, wd=0):\n",
        "            params = [p for p in self.parameters() if p.requires_grad]\n",
        "            return optim.Adam(params, lr=lr, weight_decay=wd)\n",
        "\n",
        "        def get_plateau_scheduler(self, optimizer=None, patience=5, eps=1e-8):\n",
        "            return optim.lr_scheduler.ReduceLROnPlateau(optimizer=optimizer, patience=patience, eps=eps, verbose=True)\n",
        "\n",
        "        def forward(self, x1, x2=None):\n",
        "            if x2 is not None:\n",
        "                return self.predictor(x1), self.predictor(x2)\n",
        "            else:\n",
        "                return self.predictor(x1)\n",
        "    \n",
        "    if verbose:\n",
        "        breaker()\n",
        "        print(\"Building Model ...\")\n",
        "        print(\"\\n{} -> 1\".format(IL))\n",
        "    \n",
        "    torch.manual_seed(seed)\n",
        "    model = ANN(IL=IL)\n",
        "    \n",
        "    return model"
      ]
    },
    {
      "cell_type": "markdown",
      "metadata": {
        "id": "uuMvELK2zqh0"
      },
      "source": [
        "## Fit and Predict Helpers"
      ]
    },
    {
      "cell_type": "code",
      "execution_count": null,
      "metadata": {
        "id": "8DQ9EUrIzpmn"
      },
      "outputs": [],
      "source": [
        "def fit(model=None, optimizer=None, scheduler=None, \n",
        "        epochs=None, early_stopping_patience=None,\n",
        "        dataloaders=None, fold=None, lr=None, wd=None, verbose=False) -> tuple:\n",
        "    \n",
        "    name = \"./LR_{}_WD_{}_Fold_{}_state.pt\".format(lr, wd, fold)\n",
        "    \n",
        "    if verbose:\n",
        "        breaker()\n",
        "        print(\"Training Fold {}...\".format(fold))\n",
        "        breaker()\n",
        "    else:\n",
        "        print(\"Training Fold {}...\".format(fold))\n",
        "\n",
        "    Losses = []\n",
        "    bestLoss = {\"train\" : np.inf, \"valid\" : np.inf}\n",
        "\n",
        "    start_time = time()\n",
        "    for e in range(epochs):\n",
        "        e_st = time()\n",
        "        epochLoss = {\"train\" : np.inf, \"valid\" : np.inf}\n",
        "\n",
        "        for phase in [\"train\", \"valid\"]:\n",
        "            if phase == \"train\":\n",
        "                model.train()\n",
        "            else:\n",
        "                model.eval()\n",
        "            \n",
        "            lossPerPass = []\n",
        "\n",
        "            for X, y in dataloaders[phase]:\n",
        "                X, y = X.to(DEVICE), y.to(DEVICE)\n",
        "\n",
        "                optimizer.zero_grad()\n",
        "                with torch.set_grad_enabled(phase == \"train\"):\n",
        "                    output = model(X)\n",
        "                    loss = torch.nn.MSELoss()(output, y)\n",
        "                    if phase == \"train\":\n",
        "                        loss.backward()\n",
        "                        optimizer.step()\n",
        "                lossPerPass.append(loss.item())\n",
        "            epochLoss[phase] = np.mean(np.array(lossPerPass))\n",
        "        Losses.append(epochLoss)\n",
        "\n",
        "        if early_stopping_patience:\n",
        "            if epochLoss[\"valid\"] < bestLoss[\"valid\"]:\n",
        "                bestLoss = epochLoss\n",
        "                BLE = e + 1\n",
        "                torch.save({\"model_state_dict\": model.state_dict(),\n",
        "                            \"optim_state_dict\": optimizer.state_dict()},\n",
        "                           name)\n",
        "                early_stopping_step = 0\n",
        "            else:\n",
        "                early_stopping_step += 1\n",
        "                if early_stopping_step > early_stopping_patience:\n",
        "                    if verbose:\n",
        "                        print(\"\\nEarly Stopping at Epoch {}\".format(e))\n",
        "                    break\n",
        "        \n",
        "        if epochLoss[\"valid\"] < bestLoss[\"valid\"]:\n",
        "            bestLoss = epochLoss\n",
        "            BLE = e + 1\n",
        "            torch.save({\"model_state_dict\": model.state_dict(),\n",
        "                        \"optim_state_dict\": optimizer.state_dict()},\n",
        "                       name)\n",
        "        \n",
        "        if scheduler:\n",
        "            scheduler.step(epochLoss[\"valid\"])\n",
        "        \n",
        "        if verbose:\n",
        "            print(\"Epoch: {} | Train Loss: {:.5f} | Valid Loss: {:.5f} | Time: {:.2f} seconds\".format(e+1, epochLoss[\"train\"], epochLoss[\"valid\"], time()-e_st))\n",
        "    \n",
        "    if verbose:\n",
        "        breaker()\n",
        "        print(\"Best Validation Loss at Epoch {}\".format(BLE))\n",
        "        breaker()\n",
        "        print(\"Time Taken [{} Epochs] : {:.2f} minutes\".format(len(Losses), (time()-start_time)/60))\n",
        "        breaker()\n",
        "        print(\"Training Completed\")\n",
        "        breaker()\n",
        "\n",
        "    return Losses, BLE, name\n",
        "\n",
        "#####################################################################################################\n",
        "\n",
        "def predict_batch(model=None, dataloader=None, mode=\"test\", path=None) -> np.ndarray:    \n",
        "    model.load_state_dict(torch.load(path, map_location=DEVICE)[\"model_state_dict\"])\n",
        "    model.to(DEVICE)\n",
        "    model.eval()\n",
        "\n",
        "    y_pred = torch.zeros(1, 1).to(DEVICE)\n",
        "    if re.match(r\"valid\", mode, re.IGNORECASE):\n",
        "        for X, _ in dataloader:\n",
        "            X = X.to(DEVICE)\n",
        "            with torch.no_grad():\n",
        "                output = model(X)\n",
        "            y_pred = torch.cat((y_pred, output.view(-1, 1)), dim=0)\n",
        "    elif re.match(r\"test\", mode, re.IGNORECASE):\n",
        "        for X in dataloader:\n",
        "            X = X.to(DEVICE)\n",
        "            with torch.no_grad():\n",
        "                output = model(X)\n",
        "            y_pred = torch.cat((y_pred, output.view(-1, 1)), dim=0)\n",
        "    \n",
        "    return y_pred[1:].detach().cpu().numpy()"
      ]
    },
    {
      "cell_type": "markdown",
      "metadata": {
        "id": "YQP876MS0OrX"
      },
      "source": [
        "## Train"
      ]
    },
    {
      "cell_type": "code",
      "execution_count": null,
      "metadata": {
        "id": "OrGICYXg0QEM"
      },
      "outputs": [],
      "source": [
        "def train(features: np.ndarray, targets: np.ndarray,\n",
        "          n_splits: int, batch_size: int, lr: float, wd: float, \n",
        "          epochs: int, early_stopping: int, \n",
        "          patience=None, eps=None) -> list:        \n",
        "    \n",
        "    metrics = []\n",
        "        \n",
        "    KFold_start_time = time()\n",
        "    if verbose:\n",
        "        breaker()\n",
        "        print(\"\\tBS: {}, LR : {}, WD: {}\".format(batch_size, lr, wd))\n",
        "        breaker()\n",
        "        print(\"Performing {} Fold CV ...\".format(n_splits))\n",
        "    fold = 1\n",
        "    for tr_idx, va_idx in KFold(n_splits=n_splits, shuffle=True, random_state=SEED).split(features):\n",
        "\n",
        "        tr_features, va_features = features[tr_idx], features[va_idx]\n",
        "        tr_targets, va_targets   = targets[tr_idx], targets[va_idx]\n",
        "\n",
        "        tr_targets = sc_y.fit_transform(tr_targets)\n",
        "        va_targets = sc_y.transform(va_targets)\n",
        "\n",
        "        dataloaders = build_dataloaders(tr_features, va_features,\n",
        "                                        tr_targets, va_targets, \n",
        "                                        batch_size, SEED)\n",
        "        model = build_model(IL=tr_features.shape[1], seed=SEED).to(DEVICE)\n",
        "        optimizer = model.get_optimizer(lr=lr, wd=wd)\n",
        "        scheduler = None\n",
        "        if isinstance(patience, int) and isinstance(eps, float):\n",
        "            scheduler = model.get_plateau_scheduler(optimizer, patience, eps)\n",
        "\n",
        "        L, _, name = fit(model=model, optimizer=optimizer, scheduler=scheduler, \n",
        "                         epochs=epochs, early_stopping_patience=early_stopping,\n",
        "                         dataloaders=dataloaders, fold=fold, lr=lr, wd=wd, verbose=verbose)\n",
        "        y_pred = predict_batch(model=model, dataloader=dataloaders[\"valid\"], mode=\"valid\", path=name)\n",
        "        RMSE = np.sqrt(mean_squared_error(sc_y.inverse_transform(y_pred), sc_y.inverse_transform(va_targets)))\n",
        "        if verbose:\n",
        "            print(\"Validation RMSE [Fold {}]: {:.5f}\".format(fold, RMSE))\n",
        "            breaker()\n",
        "            show_graphs(L)\n",
        "        \n",
        "        metrics_dict = {\"BS\" : batch_size, \"LR\" : lr, \"WD\" : wd, \"Fold\" : fold, \"RMSE\" : RMSE}\n",
        "        metrics.append(metrics_dict)\n",
        "        \n",
        "        fold += 1\n",
        "    \n",
        "    if verbose:\n",
        "        breaker()\n",
        "        print(\"Total Time to {} Fold CV : {:.2f} minutes\".format(n_splits, (time() - KFold_start_time)/60))\n",
        "    \n",
        "    return metrics, (time() - KFold_start_time)/60"
      ]
    },
    {
      "cell_type": "markdown",
      "metadata": {
        "id": "UGUqaAzy1C33"
      },
      "source": [
        "## Main"
      ]
    },
    {
      "cell_type": "code",
      "execution_count": null,
      "metadata": {
        "id": "_0yK3IwR1CEs"
      },
      "outputs": [],
      "source": [
        "def main():\n",
        "    DEBUG = True\n",
        "    \n",
        "    ########### Params ###########\n",
        "    \n",
        "    if DEBUG:\n",
        "        n_splits = 3\n",
        "        patience, eps = 5, 1e-8\n",
        "        epochs, early_stopping = 5, 5\n",
        "\n",
        "        batch_sizes = [256, 512]\n",
        "        lrs = [1e-3]\n",
        "        wds = [0.0]\n",
        "    else:\n",
        "        n_splits = 10\n",
        "        patience, eps = 5, 1e-8\n",
        "        epochs, early_stopping = 100, 5\n",
        "\n",
        "        batch_sizes = [32, 64, 128, 256, 512]\n",
        "        lrs = [1e-2, 1e-3, 5e-4, 1e-4]\n",
        "        wds = [0.0, 1e-1, 1e-2, 1e-3, 1e-4, 1e-5, 1e-6]\n",
        "    \n",
        "    ##############################\n",
        "\n",
        "    complete_metrics = []\n",
        "\n",
        "    if verbose:\n",
        "        breaker()\n",
        "        print(\"Loading Data ...\")\n",
        "    \n",
        "    features = np.load(os.path.join(PATH, \"densenet169_features.npy\"))\n",
        "    targets  = get_targets()\n",
        "\n",
        "    breaker()\n",
        "    for batch_size in batch_sizes:\n",
        "        for lr in lrs:\n",
        "            for wd in wds:\n",
        "\n",
        "                # Without Scheduler\n",
        "                metrics, time_taken = train(features, targets, n_splits, batch_size, lr, wd, epochs, early_stopping, patience=None, eps=None)\n",
        "                \n",
        "                # # With Plateau Scheduler\n",
        "                # metrics = train(features, targets, n_splits, batch_size, lr, wd, epochs, early_stopping, patience=patience, eps=eps)\n",
        "\n",
        "                complete_metrics.append(metrics)\n",
        "\n",
        "                if not verbose:\n",
        "                    print(\"\\nBS: {}, LR : {}, WD: {} -> {:.2f} minutes\".format(batch_size, lr, wd, time_taken))\n",
        "                    breaker()\n",
        "\n",
        "    if verbose:\n",
        "        breaker()\n",
        "        for i in range(len(complete_metrics)):\n",
        "            for j in range(len(complete_metrics[i])):\n",
        "                print(complete_metrics[i][j])\n",
        "        breaker()\n",
        "    \n",
        "    rmse = []\n",
        "    for i in range(len(complete_metrics)):\n",
        "        for j in range(len(complete_metrics[i])):\n",
        "            rmse.append(complete_metrics[i][j][\"RMSE\"])\n",
        "\n",
        "    best_index = rmse.index(min(rmse))\n",
        "    best_index_1 = best_index // n_splits\n",
        "    best_index_2 = best_index % n_splits\n",
        "\n",
        "    print(\"Best RMSE ({:.5f}) at BS: {}, LR: {} and WD: {}\".format(complete_metrics[best_index_1][best_index_2][\"RMSE\"],    \n",
        "                                                                   complete_metrics[best_index_1][best_index_2][\"BS\"],\n",
        "                                                                   complete_metrics[best_index_1][best_index_2][\"LR\"], \n",
        "                                                                   complete_metrics[best_index_1][best_index_2][\"WD\"]))\n",
        "\n",
        "    with open(\"complete_metrics.pkl\", \"wb\") as fp:\n",
        "        pickle.dump(complete_metrics, fp)"
      ]
    },
    {
      "cell_type": "code",
      "execution_count": null,
      "metadata": {
        "id": "9Vf0T4VN2Z1Q"
      },
      "outputs": [],
      "source": [
        "main()"
      ]
    },
    {
      "cell_type": "code",
      "execution_count": null,
      "metadata": {},
      "outputs": [],
      "source": [
        "if not verbose:\n",
        "    with open(\"complete_metrics.pkl\", \"rb\") as fp:\n",
        "            params = pickle.load(fp)\n",
        "\n",
        "    rmse = []\n",
        "    for i in range(len(params)):\n",
        "        for j in range(len(params[i])):\n",
        "            rmse.append(params[i][j][\"RMSE\"])\n",
        "\n",
        "    best_index = rmse.index(min(rmse))\n",
        "    best_index_1 = best_index // 10\n",
        "    best_index_2 = best_index % 10\n",
        "\n",
        "    breaker()\n",
        "    print(\"Params: {}\".format(params[best_index_1][best_index_2]))\n",
        "    breaker()"
      ]
    }
  ],
  "metadata": {
    "accelerator": "GPU",
    "colab": {
      "name": "PF - D169 (LR, WD, BS) Analysis",
      "provenance": []
    },
    "kernelspec": {
      "display_name": "Python 3",
      "name": "python3"
    },
    "language_info": {
      "name": "python"
    }
  },
  "nbformat": 4,
  "nbformat_minor": 0
}
