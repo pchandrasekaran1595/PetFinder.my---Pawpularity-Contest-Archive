{
 "cells": [
  {
   "cell_type": "markdown",
   "id": "86a085c6",
   "metadata": {
    "_cell_guid": "b1076dfc-b9ad-4769-8c92-a6c4dae69d19",
    "_uuid": "8f2839f25d086af736a60e9eeb907d3b93b6e0e5",
    "papermill": {
     "duration": 0.011336,
     "end_time": "2021-10-10T02:02:33.013082",
     "exception": false,
     "start_time": "2021-10-10T02:02:33.001746",
     "status": "completed"
    },
    "tags": []
   },
   "source": [
    "## Library Imports"
   ]
  },
  {
   "cell_type": "code",
   "execution_count": null,
   "id": "2ee7c806",
   "metadata": {
    "execution": {
     "iopub.execute_input": "2021-10-10T02:02:33.039799Z",
     "iopub.status.busy": "2021-10-10T02:02:33.038277Z",
     "iopub.status.idle": "2021-10-10T02:02:33.119808Z",
     "shell.execute_reply": "2021-10-10T02:02:33.119169Z",
     "shell.execute_reply.started": "2021-10-10T01:10:35.299759Z"
    },
    "papermill": {
     "duration": 0.094968,
     "end_time": "2021-10-10T02:02:33.119965",
     "exception": false,
     "start_time": "2021-10-10T02:02:33.024997",
     "status": "completed"
    },
    "tags": []
   },
   "outputs": [],
   "source": [
    "from time import time\n",
    "notebook_start_time = time()"
   ]
  },
  {
   "cell_type": "code",
   "execution_count": null,
   "id": "01cc8662",
   "metadata": {
    "execution": {
     "iopub.execute_input": "2021-10-10T02:02:33.145055Z",
     "iopub.status.busy": "2021-10-10T02:02:33.144471Z",
     "iopub.status.idle": "2021-10-10T02:02:38.612859Z",
     "shell.execute_reply": "2021-10-10T02:02:38.611959Z",
     "shell.execute_reply.started": "2021-10-10T01:10:35.310378Z"
    },
    "papermill": {
     "duration": 5.482939,
     "end_time": "2021-10-10T02:02:38.612998",
     "exception": false,
     "start_time": "2021-10-10T02:02:33.130059",
     "status": "completed"
    },
    "tags": []
   },
   "outputs": [],
   "source": [
    "import os\n",
    "import re\n",
    "import cv2\n",
    "import numpy as np\n",
    "import pandas as pd\n",
    "import matplotlib.pyplot as plt\n",
    "\n",
    "import torch\n",
    "from torch import nn, optim\n",
    "from torch.utils.data import Dataset\n",
    "from torch.utils.data import DataLoader as DL\n",
    "from torch.nn.utils import weight_norm as WN\n",
    "from torchvision import models, transforms\n",
    "\n",
    "from sklearn.model_selection import KFold\n",
    "from sklearn.preprocessing import StandardScaler"
   ]
  },
  {
   "cell_type": "markdown",
   "id": "3eb1c8f6",
   "metadata": {
    "papermill": {
     "duration": 0.009499,
     "end_time": "2021-10-10T02:02:38.632537",
     "exception": false,
     "start_time": "2021-10-10T02:02:38.623038",
     "status": "completed"
    },
    "tags": []
   },
   "source": [
    "## Constants and Utilities"
   ]
  },
  {
   "cell_type": "code",
   "execution_count": null,
   "id": "0cb1621e",
   "metadata": {
    "execution": {
     "iopub.execute_input": "2021-10-10T02:02:38.697062Z",
     "iopub.status.busy": "2021-10-10T02:02:38.696451Z",
     "iopub.status.idle": "2021-10-10T02:02:38.704904Z",
     "shell.execute_reply": "2021-10-10T02:02:38.703975Z",
     "shell.execute_reply.started": "2021-10-10T01:11:38.349987Z"
    },
    "papermill": {
     "duration": 0.062885,
     "end_time": "2021-10-10T02:02:38.705037",
     "exception": false,
     "start_time": "2021-10-10T02:02:38.642152",
     "status": "completed"
    },
    "tags": []
   },
   "outputs": [],
   "source": [
    "SEED = 0\n",
    "DEVICE = torch.device(\"cuda\" if torch.cuda.is_available() else \"cpu\")\n",
    "PATH = \"../input/petfinder-pawpularity-score\"\n",
    "PRETRAINED_WEIGHTS_PATH = \"../input/pretrained-model-weights-all\"\n",
    "TRAINED_ANN_WEIGHTS_PATH = \"../input/petfinder-d169-train\"\n",
    "verbose = False\n",
    "\n",
    "MODEL_NAME = \"densenet169\"\n",
    "FEATURE_LENGTH = 1664\n",
    "NUM_FOLDS = len([name for name in os.listdir(TRAINED_ANN_WEIGHTS_PATH) if name[-2:] == \"pt\"])\n",
    "\n",
    "IMAGE_SIZE = 224\n",
    "TRANSFORM = transforms.Compose([transforms.ToTensor(), \n",
    "                                transforms.Normalize([0.485, 0.456, 0.406],\n",
    "                                                     [0.229, 0.224, 0.225]),\n",
    "                                ])\n",
    "\n",
    "sc_y = StandardScaler()"
   ]
  },
  {
   "cell_type": "code",
   "execution_count": null,
   "id": "02755f5d",
   "metadata": {
    "execution": {
     "iopub.execute_input": "2021-10-10T02:02:38.736061Z",
     "iopub.status.busy": "2021-10-10T02:02:38.734503Z",
     "iopub.status.idle": "2021-10-10T02:02:38.736698Z",
     "shell.execute_reply": "2021-10-10T02:02:38.737096Z",
     "shell.execute_reply.started": "2021-10-10T01:11:38.475621Z"
    },
    "papermill": {
     "duration": 0.022185,
     "end_time": "2021-10-10T02:02:38.737218",
     "exception": false,
     "start_time": "2021-10-10T02:02:38.715033",
     "status": "completed"
    },
    "tags": []
   },
   "outputs": [],
   "source": [
    "def breaker(num=50, char=\"*\") -> None:\n",
    "    print(\"\\n\" + num*char + \"\\n\")\n",
    "\n",
    "\n",
    "def head(x, no_of_ele=5) -> None:\n",
    "    print(x[:no_of_ele])\n",
    "\n",
    "\n",
    "def get_filenames_and_targets(path: str) -> tuple:\n",
    "    df = pd.read_csv(os.path.join(path, \"train.csv\"), engine=\"python\")\n",
    "    filenames = df.iloc[:, 0].copy().values\n",
    "    targets  = df.iloc[:, -1].copy().values\n",
    "    return filenames, targets\n",
    "\n",
    "\n",
    "def get_filenames(path: str) -> np.ndarray:\n",
    "    df = pd.read_csv(os.path.join(path, \"test.csv\"), engine=\"python\")\n",
    "    filenames  = df[\"Id\"].copy().values\n",
    "    return filenames\n",
    "\n",
    "\n",
    "def get_image(path: str, name: str) -> np.ndarray:\n",
    "    image = cv2.imread(os.path.join(path, name + \".jpg\"), cv2.IMREAD_COLOR)\n",
    "    image = cv2.cvtColor(src=image, code=cv2.COLOR_BGR2RGB)\n",
    "    image = cv2.resize(src=image, dsize=(224, 224), interpolation=cv2.INTER_AREA)\n",
    "    return image\n",
    "\n",
    "\n",
    "def make_submission(path: str, y_pred: np.ndarray) -> None:\n",
    "    submission = pd.read_csv(os.path.join(path, \"sample_submission.csv\"), engine=\"python\")\n",
    "    submission[\"Pawpularity\"] = y_pred\n",
    "    submission.to_csv(\"./submission.csv\", index=False)"
   ]
  },
  {
   "cell_type": "markdown",
   "id": "c05999f9",
   "metadata": {
    "papermill": {
     "duration": 0.009427,
     "end_time": "2021-10-10T02:02:38.756282",
     "exception": false,
     "start_time": "2021-10-10T02:02:38.746855",
     "status": "completed"
    },
    "tags": []
   },
   "source": [
    "## Dataset Templates"
   ]
  },
  {
   "cell_type": "code",
   "execution_count": null,
   "id": "dc7f567c",
   "metadata": {
    "execution": {
     "iopub.execute_input": "2021-10-10T02:02:38.782264Z",
     "iopub.status.busy": "2021-10-10T02:02:38.781759Z",
     "iopub.status.idle": "2021-10-10T02:02:38.784961Z",
     "shell.execute_reply": "2021-10-10T02:02:38.785340Z",
     "shell.execute_reply.started": "2021-10-10T01:11:38.761172Z"
    },
    "papermill": {
     "duration": 0.019253,
     "end_time": "2021-10-10T02:02:38.785460",
     "exception": false,
     "start_time": "2021-10-10T02:02:38.766207",
     "status": "completed"
    },
    "tags": []
   },
   "outputs": [],
   "source": [
    "class ImageDS(Dataset):\n",
    "    def __init__(self, base_path=None, filenames=None, transform=None):\n",
    "        self.base_path = base_path\n",
    "        self.filenames = filenames\n",
    "        self.transform = transform\n",
    "    \n",
    "    def __len__(self):\n",
    "        return self.filenames.shape[0]\n",
    "    \n",
    "    def __getitem__(self, idx):\n",
    "        image = get_image(self.base_path, self.filenames[idx])\n",
    "        return self.transform(image)\n",
    "\n",
    "    \n",
    "class FeatureDS(Dataset):\n",
    "    def __init__(self, features=None):\n",
    "        self.features = features\n",
    "    \n",
    "    def __len__(self):\n",
    "        return self.features.shape[0]\n",
    "    \n",
    "    def __getitem__(self, idx):\n",
    "        return torch.FloatTensor(self.features[idx])"
   ]
  },
  {
   "cell_type": "code",
   "execution_count": null,
   "id": "b4fb801f",
   "metadata": {
    "execution": {
     "iopub.execute_input": "2021-10-10T02:02:38.820727Z",
     "iopub.status.busy": "2021-10-10T02:02:38.819111Z",
     "iopub.status.idle": "2021-10-10T02:02:38.821337Z",
     "shell.execute_reply": "2021-10-10T02:02:38.821901Z",
     "shell.execute_reply.started": "2021-10-10T01:12:09.495561Z"
    },
    "papermill": {
     "duration": 0.026897,
     "end_time": "2021-10-10T02:02:38.822041",
     "exception": false,
     "start_time": "2021-10-10T02:02:38.795144",
     "status": "completed"
    },
    "tags": []
   },
   "outputs": [],
   "source": [
    "def build_models(IL: int, pretrained: bool, seed: int):\n",
    "    class ImageModel(nn.Module):\n",
    "        def __init__(self, pretrained=False):\n",
    "            super(ImageModel, self).__init__()\n",
    "\n",
    "            self.features = models.densenet169(pretrained=pretrained, progress=True)\n",
    "            if pretrained:\n",
    "                self.freeze()\n",
    "            self.features = nn.Sequential(*[*self.features.children()][:-1])\n",
    "            self.features.add_module(\"Adaptive Average Pool\", nn.AdaptiveAvgPool2d(output_size=(1, 1)))\n",
    "            self.features.add_module(\"Flatten\", nn.Flatten())\n",
    "\n",
    "        def freeze(self):\n",
    "            for params in self.parameters():\n",
    "                    params.requires_grad = False\n",
    "\n",
    "        def forward(self, x):\n",
    "            return self.features(x)\n",
    "    \n",
    "    \n",
    "    if verbose:\n",
    "        breaker()\n",
    "        print(\"Building Vision Model ...\")\n",
    "    \n",
    "    torch.manual_seed(seed)\n",
    "    vision_model = ImageModel(pretrained=pretrained)\n",
    "    \n",
    "    \n",
    "    class ANN(nn.Module):\n",
    "        def __init__(self, IL=None):\n",
    "            super(ANN, self).__init__()\n",
    "\n",
    "            self.predictor = nn.Sequential()\n",
    "            self.predictor.add_module(\"BN\", nn.BatchNorm1d(num_features=IL, eps=1e-5))\n",
    "            self.predictor.add_module(\"FC\", WN(nn.Linear(in_features=IL, out_features=1)))\n",
    "\n",
    "        def get_optimizer(self, lr=1e-3, wd=0):\n",
    "            params = [p for p in self.parameters() if p.requires_grad]\n",
    "            return optim.Adam(params, lr=lr, weight_decay=wd)\n",
    "\n",
    "        def get_plateau_scheduler(self, optimizer=None, patience=5, eps=1e-8):\n",
    "            return optim.lr_scheduler.ReduceLROnPlateau(optimizer=optimizer, patience=patience, eps=eps, verbose=True)\n",
    "\n",
    "        def forward(self, x):\n",
    "            return self.predictor(x)\n",
    "    \n",
    "    if verbose:\n",
    "        breaker()\n",
    "        print(\"Building Model ...\")\n",
    "        print(\"\\n{} -> 1\".format(IL))\n",
    "        breaker()\n",
    "    \n",
    "    torch.manual_seed(seed)\n",
    "    ann_model = ANN(IL=IL)\n",
    "    \n",
    "    return vision_model, ann_model"
   ]
  },
  {
   "cell_type": "markdown",
   "id": "bbc2a584",
   "metadata": {
    "papermill": {
     "duration": 0.009493,
     "end_time": "2021-10-10T02:02:38.841669",
     "exception": false,
     "start_time": "2021-10-10T02:02:38.832176",
     "status": "completed"
    },
    "tags": []
   },
   "source": [
    "## Feature Getter and Predict Helper"
   ]
  },
  {
   "cell_type": "code",
   "execution_count": null,
   "id": "d6f9a982",
   "metadata": {
    "execution": {
     "iopub.execute_input": "2021-10-10T02:02:38.871691Z",
     "iopub.status.busy": "2021-10-10T02:02:38.869116Z",
     "iopub.status.idle": "2021-10-10T02:02:38.873536Z",
     "shell.execute_reply": "2021-10-10T02:02:38.873933Z",
     "shell.execute_reply.started": "2021-10-10T01:12:09.767992Z"
    },
    "papermill": {
     "duration": 0.02256,
     "end_time": "2021-10-10T02:02:38.874060",
     "exception": false,
     "start_time": "2021-10-10T02:02:38.851500",
     "status": "completed"
    },
    "tags": []
   },
   "outputs": [],
   "source": [
    "def get_features(model=None, dataloader=None, feature_length=None, path=None):\n",
    "    model.load_state_dict(torch.load(path, map_location=DEVICE))\n",
    "    model.to(DEVICE)\n",
    "    model.eval()\n",
    "\n",
    "    features = torch.zeros(1, feature_length).to(DEVICE)\n",
    "    for X in dataloader:\n",
    "        X = X.to(DEVICE)\n",
    "        with torch.no_grad():\n",
    "            output = model(X)\n",
    "        features = torch.cat((features, output.view(-1, feature_length)), dim=0)\n",
    "    \n",
    "    return features[1:].detach().cpu().numpy()\n",
    "\n",
    "\n",
    "def predict_batch(model=None, dataloader=None, mode=\"test\", path=None):\n",
    "    model.load_state_dict(torch.load(path, map_location=DEVICE)[\"model_state_dict\"])\n",
    "    model.to(DEVICE)\n",
    "    model.eval()\n",
    "\n",
    "    y_pred = torch.zeros(1, 1).to(DEVICE)\n",
    "    if re.match(r\"valid\", mode, re.IGNORECASE):\n",
    "        for X, _ in dataloader:\n",
    "            X = X.to(DEVICE)\n",
    "            with torch.no_grad():\n",
    "                output = model(X)\n",
    "            y_pred = torch.cat((y_pred, output.view(-1, 1)), dim=0)\n",
    "    elif re.match(r\"test\", mode, re.IGNORECASE):\n",
    "        for X in dataloader:\n",
    "            X = X.to(DEVICE)\n",
    "            with torch.no_grad():\n",
    "                output = model(X)\n",
    "            y_pred = torch.cat((y_pred, output.view(-1, 1)), dim=0)\n",
    "    \n",
    "    return y_pred[1:].detach().cpu().numpy()"
   ]
  },
  {
   "cell_type": "markdown",
   "id": "089fa30f",
   "metadata": {
    "papermill": {
     "duration": 0.009541,
     "end_time": "2021-10-10T02:02:38.893200",
     "exception": false,
     "start_time": "2021-10-10T02:02:38.883659",
     "status": "completed"
    },
    "tags": []
   },
   "source": [
    "## Submit"
   ]
  },
  {
   "cell_type": "code",
   "execution_count": null,
   "id": "41a6a2c3",
   "metadata": {
    "execution": {
     "iopub.execute_input": "2021-10-10T02:02:38.924139Z",
     "iopub.status.busy": "2021-10-10T02:02:38.923547Z",
     "iopub.status.idle": "2021-10-10T02:02:38.926045Z",
     "shell.execute_reply": "2021-10-10T02:02:38.926436Z",
     "shell.execute_reply.started": "2021-10-10T01:12:10.085185Z"
    },
    "papermill": {
     "duration": 0.023469,
     "end_time": "2021-10-10T02:02:38.926567",
     "exception": false,
     "start_time": "2021-10-10T02:02:38.903098",
     "status": "completed"
    },
    "tags": []
   },
   "outputs": [],
   "source": [
    "def submit():\n",
    "    if verbose:\n",
    "        breaker()\n",
    "        print(\"Reading Data ...\")\n",
    "    \n",
    "    ts_filenames = get_filenames(PATH)\n",
    "    filenames, targets = get_filenames_and_targets(PATH)\n",
    "    \n",
    "    if verbose:\n",
    "        breaker()\n",
    "        print(\"Obtaining Test Image Features ...\")\n",
    "    \n",
    "    ts_image_data_setup = ImageDS(base_path=os.path.join(PATH, \"test\"), \n",
    "                                  filenames=ts_filenames,\n",
    "                                  transform=TRANSFORM)\n",
    "    ts_image_data = DL(ts_image_data_setup, batch_size=64, shuffle=False)\n",
    "    \n",
    "    VisionModel, ANNModel = build_models(IL=FEATURE_LENGTH, pretrained=False, seed=SEED)\n",
    "    ts_features = get_features(model=VisionModel, dataloader=ts_image_data, \n",
    "                               feature_length=FEATURE_LENGTH, \n",
    "                               path=os.path.join(PRETRAINED_WEIGHTS_PATH, \"{}_state.pt\".format(MODEL_NAME)))\n",
    "    \n",
    "    fold = 1\n",
    "    final_y_pred = np.zeros((len(ts_filenames), 1))\n",
    "    for tr_idx, va_idx in KFold(n_splits=NUM_FOLDS, shuffle=True, random_state=SEED).split(filenames):\n",
    "        if verbose:\n",
    "            print(\"Processing Fold {} ...\".format(fold))\n",
    "        \n",
    "        tr_targets = targets[tr_idx]\n",
    "        tr_targets = tr_targets.reshape(-1, 1)\n",
    "        tr_targets = sc_y.fit_transform(tr_targets)\n",
    "    \n",
    "        ts_feature_data_setup = FeatureDS(features=ts_features)\n",
    "        ts_feature_data = DL(ts_feature_data_setup, batch_size=512, shuffle=False)\n",
    "\n",
    "        y_pred = predict_batch(model=ANNModel, dataloader=ts_feature_data, mode=\"test\",\n",
    "                               path=os.path.join(TRAINED_ANN_WEIGHTS_PATH, \"Fold_{}_state.pt\".format(fold)))\n",
    "        y_pred = sc_y.inverse_transform(y_pred)\n",
    "        \n",
    "        final_y_pred += y_pred\n",
    "        fold += 1\n",
    "    \n",
    "    final_y_pred = final_y_pred / NUM_FOLDS\n",
    "    \n",
    "    if verbose:\n",
    "        breaker()\n",
    "        print(\"Generating Submission File ...\")\n",
    "        breaker()\n",
    "    \n",
    "    make_submission(PATH, final_y_pred)"
   ]
  },
  {
   "cell_type": "code",
   "execution_count": null,
   "id": "7ef2db37",
   "metadata": {
    "execution": {
     "iopub.execute_input": "2021-10-10T02:02:38.949498Z",
     "iopub.status.busy": "2021-10-10T02:02:38.948974Z",
     "iopub.status.idle": "2021-10-10T02:02:46.766414Z",
     "shell.execute_reply": "2021-10-10T02:02:46.765142Z",
     "shell.execute_reply.started": "2021-10-10T01:12:10.210243Z"
    },
    "papermill": {
     "duration": 7.83058,
     "end_time": "2021-10-10T02:02:46.766684",
     "exception": false,
     "start_time": "2021-10-10T02:02:38.936104",
     "status": "completed"
    },
    "tags": []
   },
   "outputs": [],
   "source": [
    "submit()"
   ]
  },
  {
   "cell_type": "code",
   "execution_count": null,
   "id": "2f89c59a",
   "metadata": {
    "execution": {
     "iopub.execute_input": "2021-10-10T02:02:46.806125Z",
     "iopub.status.busy": "2021-10-10T02:02:46.804764Z",
     "iopub.status.idle": "2021-10-10T02:02:46.809981Z",
     "shell.execute_reply": "2021-10-10T02:02:46.810627Z",
     "shell.execute_reply.started": "2021-10-10T01:12:11.439576Z"
    },
    "papermill": {
     "duration": 0.026073,
     "end_time": "2021-10-10T02:02:46.810814",
     "exception": false,
     "start_time": "2021-10-10T02:02:46.784741",
     "status": "completed"
    },
    "tags": []
   },
   "outputs": [],
   "source": [
    "breaker()\n",
    "print(\"Notebook Run Time : {:.2f} minutes\".format((time()-notebook_start_time)/60))\n",
    "breaker()"
   ]
  }
 ],
 "metadata": {
  "kernelspec": {
   "display_name": "Python 3",
   "language": "python",
   "name": "python3"
  },
  "language_info": {
   "codemirror_mode": {
    "name": "ipython",
    "version": 3
   },
   "file_extension": ".py",
   "mimetype": "text/x-python",
   "name": "python",
   "nbconvert_exporter": "python",
   "pygments_lexer": "ipython3",
   "version": "3.7.10"
  },
  "papermill": {
   "default_parameters": {},
   "duration": 21.630463,
   "end_time": "2021-10-10T02:02:48.176076",
   "environment_variables": {},
   "exception": null,
   "input_path": "__notebook__.ipynb",
   "output_path": "__notebook__.ipynb",
   "parameters": {},
   "start_time": "2021-10-10T02:02:26.545613",
   "version": "2.3.3"
  }
 },
 "nbformat": 4,
 "nbformat_minor": 5
}
