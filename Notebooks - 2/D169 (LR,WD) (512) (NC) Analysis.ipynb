{
 "cells": [
  {
   "cell_type": "markdown",
   "id": "f1c3d5bc",
   "metadata": {
    "id": "1NF27HFLxZMK",
    "papermill": {
     "duration": 0.013779,
     "end_time": "2021-10-11T22:06:48.898001",
     "exception": false,
     "start_time": "2021-10-11T22:06:48.884222",
     "status": "completed"
    },
    "tags": []
   },
   "source": [
    "## Library Imports"
   ]
  },
  {
   "cell_type": "code",
   "execution_count": 1,
   "id": "9870240d",
   "metadata": {
    "execution": {
     "iopub.execute_input": "2021-10-11T22:06:49.004390Z",
     "iopub.status.busy": "2021-10-11T22:06:49.003687Z",
     "iopub.status.idle": "2021-10-11T22:06:49.006653Z",
     "shell.execute_reply": "2021-10-11T22:06:49.006131Z",
     "shell.execute_reply.started": "2021-10-09T18:18:09.835291Z"
    },
    "id": "ZaibE8jTxTRV",
    "papermill": {
     "duration": 0.096231,
     "end_time": "2021-10-11T22:06:49.006810",
     "exception": false,
     "start_time": "2021-10-11T22:06:48.910579",
     "status": "completed"
    },
    "tags": []
   },
   "outputs": [],
   "source": [
    "from time import time\n",
    "notebook_start_time = time()"
   ]
  },
  {
   "cell_type": "code",
   "execution_count": 2,
   "id": "b46ea66e",
   "metadata": {
    "execution": {
     "iopub.execute_input": "2021-10-11T22:06:49.036970Z",
     "iopub.status.busy": "2021-10-11T22:06:49.036352Z",
     "iopub.status.idle": "2021-10-11T22:06:54.408369Z",
     "shell.execute_reply": "2021-10-11T22:06:54.407322Z",
     "shell.execute_reply.started": "2021-10-09T18:18:09.95105Z"
    },
    "id": "tCefPeQFxwtS",
    "papermill": {
     "duration": 5.389466,
     "end_time": "2021-10-11T22:06:54.408516",
     "exception": false,
     "start_time": "2021-10-11T22:06:49.019050",
     "status": "completed"
    },
    "tags": []
   },
   "outputs": [],
   "source": [
    "import os\n",
    "import re\n",
    "import pickle\n",
    "import numpy as np\n",
    "import pandas as pd\n",
    "import matplotlib.pyplot as plt\n",
    "\n",
    "import torch\n",
    "from torch import nn, optim\n",
    "from torch.utils.data import Dataset\n",
    "from torch.utils.data import DataLoader as DL\n",
    "from torch.nn.utils import weight_norm as WN\n",
    "from torchvision import models, transforms\n",
    "\n",
    "from sklearn.model_selection import KFold\n",
    "from sklearn.metrics import mean_squared_error\n",
    "from sklearn.preprocessing import StandardScaler"
   ]
  },
  {
   "cell_type": "markdown",
   "id": "45e6c696",
   "metadata": {
    "id": "iWlt7AdSxxWm",
    "papermill": {
     "duration": 0.01202,
     "end_time": "2021-10-11T22:06:54.433069",
     "exception": false,
     "start_time": "2021-10-11T22:06:54.421049",
     "status": "completed"
    },
    "tags": []
   },
   "source": [
    "## Constants and Utilities"
   ]
  },
  {
   "cell_type": "code",
   "execution_count": 3,
   "id": "a1fd68f6",
   "metadata": {
    "execution": {
     "iopub.execute_input": "2021-10-11T22:06:54.500642Z",
     "iopub.status.busy": "2021-10-11T22:06:54.498639Z",
     "iopub.status.idle": "2021-10-11T22:06:54.503691Z",
     "shell.execute_reply": "2021-10-11T22:06:54.503299Z",
     "shell.execute_reply.started": "2021-10-09T18:18:11.594208Z"
    },
    "id": "ZpMGLKhKx0EX",
    "papermill": {
     "duration": 0.058814,
     "end_time": "2021-10-11T22:06:54.503818",
     "exception": false,
     "start_time": "2021-10-11T22:06:54.445004",
     "status": "completed"
    },
    "tags": []
   },
   "outputs": [],
   "source": [
    "SEED = 49\n",
    "DEVICE = torch.device(\"cuda\" if torch.cuda.is_available() else \"cpu\")\n",
    "DATA_PATH = \"../input/petfinder-pawpularity-score\"\n",
    "FEATURE_PATH = \"../input/petfinder-pf-nc-ua-all-dataset\"\n",
    "MODEL_NAME = \"densenet169\"\n",
    "\n",
    "DEBUG = False\n",
    "verbose = False\n",
    "\n",
    "sc_y = StandardScaler()"
   ]
  },
  {
   "cell_type": "code",
   "execution_count": 4,
   "id": "108e6022",
   "metadata": {
    "execution": {
     "iopub.execute_input": "2021-10-11T22:06:54.530715Z",
     "iopub.status.busy": "2021-10-11T22:06:54.529962Z",
     "iopub.status.idle": "2021-10-11T22:06:54.538824Z",
     "shell.execute_reply": "2021-10-11T22:06:54.539255Z",
     "shell.execute_reply.started": "2021-10-09T18:18:11.615048Z"
    },
    "id": "yIR_gIEPyZrc",
    "papermill": {
     "duration": 0.023439,
     "end_time": "2021-10-11T22:06:54.539375",
     "exception": false,
     "start_time": "2021-10-11T22:06:54.515936",
     "status": "completed"
    },
    "tags": []
   },
   "outputs": [],
   "source": [
    "def breaker(num=50, char=\"*\") -> None:\n",
    "    print(\"\\n\" + num*char + \"\\n\")\n",
    "\n",
    "\n",
    "def get_targets(path: str) -> np.ndarray:\n",
    "    df = pd.read_csv(os.path.join(path, \"train.csv\"), engine=\"python\")\n",
    "    targets = df[\"Pawpularity\"].copy().values\n",
    "    return targets.reshape(-1, 1)\n",
    "\n",
    "\n",
    "def show_graphs(L: list, title=None) -> None:\n",
    "    TL, VL = [], []\n",
    "    for i in range(len(L)):\n",
    "        TL.append(L[i][\"train\"])\n",
    "        VL.append(L[i][\"valid\"])\n",
    "    x_Axis = np.arange(1, len(L) + 1)\n",
    "    plt.figure()\n",
    "    plt.plot(x_Axis, TL, \"r\", label=\"train\")\n",
    "    plt.plot(x_Axis, VL, \"b\", label=\"valid\")\n",
    "    plt.grid()\n",
    "    plt.legend()\n",
    "    if title:\n",
    "        plt.title(\"{} Loss\".format(title))\n",
    "    else:\n",
    "        plt.title(\"Loss\")\n",
    "    plt.show()"
   ]
  },
  {
   "cell_type": "markdown",
   "id": "55ffaf5e",
   "metadata": {
    "id": "7y0fd6rWy9C7",
    "papermill": {
     "duration": 0.011783,
     "end_time": "2021-10-11T22:06:54.563353",
     "exception": false,
     "start_time": "2021-10-11T22:06:54.551570",
     "status": "completed"
    },
    "tags": []
   },
   "source": [
    "## Dataset Template and Build Dataloader"
   ]
  },
  {
   "cell_type": "code",
   "execution_count": 5,
   "id": "edd4c38e",
   "metadata": {
    "execution": {
     "iopub.execute_input": "2021-10-11T22:06:54.591435Z",
     "iopub.status.busy": "2021-10-11T22:06:54.590669Z",
     "iopub.status.idle": "2021-10-11T22:06:54.598817Z",
     "shell.execute_reply": "2021-10-11T22:06:54.598397Z",
     "shell.execute_reply.started": "2021-10-09T18:18:11.638867Z"
    },
    "id": "TtCaj5UAy7ar",
    "papermill": {
     "duration": 0.023611,
     "end_time": "2021-10-11T22:06:54.598934",
     "exception": false,
     "start_time": "2021-10-11T22:06:54.575323",
     "status": "completed"
    },
    "tags": []
   },
   "outputs": [],
   "source": [
    "class DS(Dataset):\n",
    "    def __init__(self, features=None, targets=None):\n",
    "        self.features = features\n",
    "        self.targets  = targets\n",
    "        \n",
    "    def __len__(self):\n",
    "        return self.features.shape[0]\n",
    "    \n",
    "    def __getitem__(self, idx):\n",
    "        return torch.FloatTensor(self.features[idx]), torch.FloatTensor(self.targets[idx])\n",
    "    \n",
    "\n",
    "def build_dataloaders(tr_features: np.ndarray, va_features: np.ndarray,\n",
    "                      tr_targets: np.ndarray, va_targets: np.ndarray,\n",
    "                      batch_size: int, seed: int):\n",
    "\n",
    "    if verbose:\n",
    "        breaker()\n",
    "        print(\"Building Train and Validation DataLoaders ...\")\n",
    "    \n",
    "    tr_data_setup = DS(features=tr_features, targets=tr_targets)\n",
    "    va_data_setup = DS(features=va_features, targets=va_targets)\n",
    "    \n",
    "    dataloaders = {\n",
    "        \"train\" : DL(tr_data_setup, batch_size=batch_size, shuffle=True, generator=torch.manual_seed(seed)),\n",
    "        \"valid\" : DL(va_data_setup, batch_size=batch_size, shuffle=False)\n",
    "    }\n",
    "    \n",
    "    return dataloaders"
   ]
  },
  {
   "cell_type": "markdown",
   "id": "08b5a044",
   "metadata": {
    "id": "8wmsPRi6zjyn",
    "papermill": {
     "duration": 0.011619,
     "end_time": "2021-10-11T22:06:54.622282",
     "exception": false,
     "start_time": "2021-10-11T22:06:54.610663",
     "status": "completed"
    },
    "tags": []
   },
   "source": [
    "## Build Model"
   ]
  },
  {
   "cell_type": "code",
   "execution_count": 6,
   "id": "5ef748ac",
   "metadata": {
    "execution": {
     "iopub.execute_input": "2021-10-11T22:06:54.655667Z",
     "iopub.status.busy": "2021-10-11T22:06:54.654830Z",
     "iopub.status.idle": "2021-10-11T22:06:54.656704Z",
     "shell.execute_reply": "2021-10-11T22:06:54.657192Z",
     "shell.execute_reply.started": "2021-10-09T18:18:11.654327Z"
    },
    "id": "2GYZ4teczjIm",
    "papermill": {
     "duration": 0.023221,
     "end_time": "2021-10-11T22:06:54.657307",
     "exception": false,
     "start_time": "2021-10-11T22:06:54.634086",
     "status": "completed"
    },
    "tags": []
   },
   "outputs": [],
   "source": [
    "def build_model(IL: int, seed: int):\n",
    "    class ANN(nn.Module):\n",
    "        def __init__(self, IL=None):\n",
    "            super(ANN, self).__init__()\n",
    "\n",
    "            self.predictor = nn.Sequential()\n",
    "            self.predictor.add_module(\"BN\", nn.BatchNorm1d(num_features=IL, eps=1e-5))\n",
    "            self.predictor.add_module(\"FC\", WN(nn.Linear(in_features=IL, out_features=1)))\n",
    "\n",
    "        def get_optimizer(self, lr=1e-3, wd=0):\n",
    "            params = [p for p in self.parameters() if p.requires_grad]\n",
    "            return optim.Adam(params, lr=lr, weight_decay=wd)\n",
    "\n",
    "        def get_plateau_scheduler(self, optimizer=None, patience=5, eps=1e-8):\n",
    "            return optim.lr_scheduler.ReduceLROnPlateau(optimizer=optimizer, patience=patience, eps=eps, verbose=True)\n",
    "\n",
    "        def forward(self, x1, x2=None):\n",
    "            if x2 is not None:\n",
    "                return self.predictor(x1), self.predictor(x2)\n",
    "            else:\n",
    "                return self.predictor(x1)\n",
    "    \n",
    "    if verbose:\n",
    "        breaker()\n",
    "        print(\"Building Model ...\")\n",
    "        print(\"\\n{} -> 1\".format(IL))\n",
    "    \n",
    "    torch.manual_seed(seed)\n",
    "    model = ANN(IL=IL)\n",
    "    \n",
    "    return model"
   ]
  },
  {
   "cell_type": "markdown",
   "id": "c421ca12",
   "metadata": {
    "id": "uuMvELK2zqh0",
    "papermill": {
     "duration": 0.01181,
     "end_time": "2021-10-11T22:06:54.681041",
     "exception": false,
     "start_time": "2021-10-11T22:06:54.669231",
     "status": "completed"
    },
    "tags": []
   },
   "source": [
    "## Fit and Predict Helpers"
   ]
  },
  {
   "cell_type": "code",
   "execution_count": 7,
   "id": "447825c3",
   "metadata": {
    "execution": {
     "iopub.execute_input": "2021-10-11T22:06:54.726122Z",
     "iopub.status.busy": "2021-10-11T22:06:54.725191Z",
     "iopub.status.idle": "2021-10-11T22:06:54.727073Z",
     "shell.execute_reply": "2021-10-11T22:06:54.727474Z",
     "shell.execute_reply.started": "2021-10-09T18:18:11.669126Z"
    },
    "id": "8DQ9EUrIzpmn",
    "papermill": {
     "duration": 0.034585,
     "end_time": "2021-10-11T22:06:54.727588",
     "exception": false,
     "start_time": "2021-10-11T22:06:54.693003",
     "status": "completed"
    },
    "tags": []
   },
   "outputs": [],
   "source": [
    "def fit(model=None, optimizer=None, scheduler=None, \n",
    "        epochs=None, early_stopping_patience=None,\n",
    "        dataloaders=None, fold=None, lr=None, wd=None, verbose=False) -> tuple:\n",
    "    \n",
    "    name = \"./LR_{}_WD_{}_Fold_{}_state.pt\".format(lr, wd, fold)\n",
    "    \n",
    "    if verbose:\n",
    "        breaker()\n",
    "        print(\"Training Fold {}...\".format(fold))\n",
    "        breaker()\n",
    "    # else:\n",
    "        # print(\"Training Fold {}...\".format(fold))\n",
    "\n",
    "    Losses = []\n",
    "    bestLoss = {\"train\" : np.inf, \"valid\" : np.inf}\n",
    "\n",
    "    start_time = time()\n",
    "    for e in range(epochs):\n",
    "        e_st = time()\n",
    "        epochLoss = {\"train\" : np.inf, \"valid\" : np.inf}\n",
    "\n",
    "        for phase in [\"train\", \"valid\"]:\n",
    "            if phase == \"train\":\n",
    "                model.train()\n",
    "            else:\n",
    "                model.eval()\n",
    "            \n",
    "            lossPerPass = []\n",
    "\n",
    "            for X, y in dataloaders[phase]:\n",
    "                X, y = X.to(DEVICE), y.to(DEVICE)\n",
    "\n",
    "                optimizer.zero_grad()\n",
    "                with torch.set_grad_enabled(phase == \"train\"):\n",
    "                    output = model(X)\n",
    "                    loss = torch.nn.MSELoss()(output, y)\n",
    "                    if phase == \"train\":\n",
    "                        loss.backward()\n",
    "                        optimizer.step()\n",
    "                lossPerPass.append(loss.item())\n",
    "            epochLoss[phase] = np.mean(np.array(lossPerPass))\n",
    "        Losses.append(epochLoss)\n",
    "\n",
    "        if early_stopping_patience:\n",
    "            if epochLoss[\"valid\"] < bestLoss[\"valid\"]:\n",
    "                bestLoss = epochLoss\n",
    "                BLE = e + 1\n",
    "                torch.save({\"model_state_dict\": model.state_dict(),\n",
    "                            \"optim_state_dict\": optimizer.state_dict()},\n",
    "                           name)\n",
    "                early_stopping_step = 0\n",
    "            else:\n",
    "                early_stopping_step += 1\n",
    "                if early_stopping_step > early_stopping_patience:\n",
    "                    if verbose:\n",
    "                        print(\"\\nEarly Stopping at Epoch {}\".format(e))\n",
    "                    break\n",
    "        \n",
    "        if epochLoss[\"valid\"] < bestLoss[\"valid\"]:\n",
    "            bestLoss = epochLoss\n",
    "            BLE = e + 1\n",
    "            torch.save({\"model_state_dict\": model.state_dict(),\n",
    "                        \"optim_state_dict\": optimizer.state_dict()},\n",
    "                       name)\n",
    "        \n",
    "        if scheduler:\n",
    "            scheduler.step(epochLoss[\"valid\"])\n",
    "        \n",
    "        if verbose:\n",
    "            print(\"Epoch: {} | Train Loss: {:.5f} | Valid Loss: {:.5f} | Time: {:.2f} seconds\".format(e+1, epochLoss[\"train\"], epochLoss[\"valid\"], time()-e_st))\n",
    "    \n",
    "    if verbose:\n",
    "        breaker()\n",
    "        print(\"Best Validation Loss at Epoch {}\".format(BLE))\n",
    "        breaker()\n",
    "        print(\"Time Taken [{} Epochs] : {:.2f} minutes\".format(len(Losses), (time()-start_time)/60))\n",
    "        breaker()\n",
    "        print(\"Training Completed\")\n",
    "        breaker()\n",
    "\n",
    "    return Losses, BLE, name\n",
    "\n",
    "#####################################################################################################\n",
    "\n",
    "def predict_batch(model=None, dataloader=None, mode=\"test\", path=None) -> np.ndarray:    \n",
    "    model.load_state_dict(torch.load(path, map_location=DEVICE)[\"model_state_dict\"])\n",
    "    model.to(DEVICE)\n",
    "    model.eval()\n",
    "\n",
    "    y_pred = torch.zeros(1, 1).to(DEVICE)\n",
    "    if re.match(r\"valid\", mode, re.IGNORECASE):\n",
    "        for X, _ in dataloader:\n",
    "            X = X.to(DEVICE)\n",
    "            with torch.no_grad():\n",
    "                output = model(X)\n",
    "            y_pred = torch.cat((y_pred, output.view(-1, 1)), dim=0)\n",
    "    elif re.match(r\"test\", mode, re.IGNORECASE):\n",
    "        for X in dataloader:\n",
    "            X = X.to(DEVICE)\n",
    "            with torch.no_grad():\n",
    "                output = model(X)\n",
    "            y_pred = torch.cat((y_pred, output.view(-1, 1)), dim=0)\n",
    "    \n",
    "    return y_pred[1:].detach().cpu().numpy()"
   ]
  },
  {
   "cell_type": "markdown",
   "id": "b360b88e",
   "metadata": {
    "id": "YQP876MS0OrX",
    "papermill": {
     "duration": 0.011669,
     "end_time": "2021-10-11T22:06:54.751267",
     "exception": false,
     "start_time": "2021-10-11T22:06:54.739598",
     "status": "completed"
    },
    "tags": []
   },
   "source": [
    "## Train"
   ]
  },
  {
   "cell_type": "code",
   "execution_count": 8,
   "id": "55832650",
   "metadata": {
    "execution": {
     "iopub.execute_input": "2021-10-11T22:06:54.788355Z",
     "iopub.status.busy": "2021-10-11T22:06:54.787604Z",
     "iopub.status.idle": "2021-10-11T22:06:54.789566Z",
     "shell.execute_reply": "2021-10-11T22:06:54.789948Z",
     "shell.execute_reply.started": "2021-10-09T18:18:11.705577Z"
    },
    "id": "OrGICYXg0QEM",
    "papermill": {
     "duration": 0.026761,
     "end_time": "2021-10-11T22:06:54.790068",
     "exception": false,
     "start_time": "2021-10-11T22:06:54.763307",
     "status": "completed"
    },
    "tags": []
   },
   "outputs": [],
   "source": [
    "def train(features: np.ndarray, targets: np.ndarray,\n",
    "          n_splits: int, batch_size: int, lr: float, wd: float, \n",
    "          epochs: int, early_stopping: int, \n",
    "          patience=None, eps=None) -> list:        \n",
    "    \n",
    "    metrics = []\n",
    "        \n",
    "    KFold_start_time = time()\n",
    "    if verbose:\n",
    "        breaker()\n",
    "        print(\"\\tLR : {}, WD: {}\".format(lr, wd))\n",
    "        breaker()\n",
    "        print(\"Performing {} Fold CV ...\".format(n_splits))\n",
    "    fold = 1\n",
    "    for tr_idx, va_idx in KFold(n_splits=n_splits, shuffle=True, random_state=SEED).split(features):\n",
    "\n",
    "        tr_features, va_features = features[tr_idx], features[va_idx]\n",
    "        tr_targets, va_targets   = targets[tr_idx], targets[va_idx]\n",
    "\n",
    "        tr_targets = sc_y.fit_transform(tr_targets)\n",
    "        va_targets = sc_y.transform(va_targets)\n",
    "\n",
    "        dataloaders = build_dataloaders(tr_features, va_features,\n",
    "                                        tr_targets, va_targets, \n",
    "                                        batch_size, SEED)\n",
    "        model = build_model(IL=tr_features.shape[1], seed=SEED).to(DEVICE)\n",
    "        optimizer = model.get_optimizer(lr=lr, wd=wd)\n",
    "        scheduler = None\n",
    "        if isinstance(patience, int) and isinstance(eps, float):\n",
    "            scheduler = model.get_plateau_scheduler(optimizer, patience, eps)\n",
    "\n",
    "        L, _, name = fit(model=model, optimizer=optimizer, scheduler=scheduler, \n",
    "                         epochs=epochs, early_stopping_patience=early_stopping,\n",
    "                         dataloaders=dataloaders, fold=fold, lr=lr, wd=wd, verbose=verbose)\n",
    "        y_pred = predict_batch(model=model, dataloader=dataloaders[\"valid\"], mode=\"valid\", path=name)\n",
    "        RMSE = np.sqrt(mean_squared_error(sc_y.inverse_transform(y_pred), sc_y.inverse_transform(va_targets)))\n",
    "        if verbose:\n",
    "            print(\"\\nValidation RMSE [Fold {}]: {:.5f}\".format(fold, RMSE))\n",
    "            breaker()\n",
    "            show_graphs(L)\n",
    "        \n",
    "        metrics_dict = {\"Fold\" : fold, \"LR\" : lr, \"WD\" : wd, \"RMSE\" : RMSE}\n",
    "        metrics.append(metrics_dict)\n",
    "        \n",
    "        fold += 1\n",
    "    \n",
    "    if verbose:\n",
    "        breaker()\n",
    "        print(\"Total Time to {} Fold CV : {:.2f} minutes\".format(n_splits, (time() - KFold_start_time)/60))\n",
    "    \n",
    "    return metrics, (time() - KFold_start_time)/60"
   ]
  },
  {
   "cell_type": "markdown",
   "id": "9361c97c",
   "metadata": {
    "id": "UGUqaAzy1C33",
    "papermill": {
     "duration": 0.011773,
     "end_time": "2021-10-11T22:06:54.813821",
     "exception": false,
     "start_time": "2021-10-11T22:06:54.802048",
     "status": "completed"
    },
    "tags": []
   },
   "source": [
    "## Main"
   ]
  },
  {
   "cell_type": "code",
   "execution_count": 9,
   "id": "7444dde4",
   "metadata": {
    "execution": {
     "iopub.execute_input": "2021-10-11T22:06:54.850496Z",
     "iopub.status.busy": "2021-10-11T22:06:54.849731Z",
     "iopub.status.idle": "2021-10-11T22:06:54.851634Z",
     "shell.execute_reply": "2021-10-11T22:06:54.852119Z",
     "shell.execute_reply.started": "2021-10-09T18:21:59.180726Z"
    },
    "id": "_0yK3IwR1CEs",
    "papermill": {
     "duration": 0.026583,
     "end_time": "2021-10-11T22:06:54.852234",
     "exception": false,
     "start_time": "2021-10-11T22:06:54.825651",
     "status": "completed"
    },
    "tags": []
   },
   "outputs": [],
   "source": [
    "def main():\n",
    "        \n",
    "    ########### Params ###########\n",
    "    \n",
    "    if DEBUG:\n",
    "        n_splits = 10\n",
    "        patience, eps = 5, 1e-8\n",
    "        epochs, early_stopping = 5, 5\n",
    "\n",
    "        batch_size = 512\n",
    "        lrs = [1e-2, 1e-3]\n",
    "        wds = [0.0, 1e-1]\n",
    "    else:\n",
    "        n_splits = 10\n",
    "        patience, eps = 5, 1e-8\n",
    "        epochs, early_stopping = 100, 8\n",
    "\n",
    "        batch_size = 512\n",
    "        lrs = [1e-3, 5e-4, 1e-4]\n",
    "        wds = [0.0, 1e-1, 1e-2, 1e-3, 1e-4, 1e-5, 1e-6]\n",
    "    \n",
    "    ##############################\n",
    "\n",
    "    complete_metrics = []\n",
    "\n",
    "    if verbose:\n",
    "        breaker()\n",
    "        print(\"Loading Data ...\")\n",
    "    else:\n",
    "        breaker()\n",
    "    \n",
    "    features = np.load(os.path.join(FEATURE_PATH, \"{}_features.npy\".format(MODEL_NAME)))\n",
    "    targets  = get_targets(DATA_PATH)\n",
    "\n",
    "    for lr in lrs:\n",
    "        for wd in wds:\n",
    "\n",
    "            # Without Scheduler\n",
    "            metrics, time_taken = train(features, targets, n_splits, batch_size, lr, wd, epochs, early_stopping, patience=None, eps=None)\n",
    "\n",
    "            # # With Plateau Scheduler\n",
    "            # metrics = train(features, targets, n_splits, batch_size, lr, wd, epochs, early_stopping, patience=patience, eps=eps)\n",
    "\n",
    "            complete_metrics.append(metrics)\n",
    "\n",
    "            if not verbose:\n",
    "                print(\"LR : {}, WD: {} -> {:.2f} minutes\".format(lr, wd, time_taken))\n",
    "\n",
    "    if verbose:\n",
    "        breaker()\n",
    "        for i in range(len(complete_metrics)):\n",
    "            for j in range(len(complete_metrics[i])):\n",
    "                print(complete_metrics[i][j])\n",
    "    \n",
    "    rmse = []\n",
    "    for i in range(len(complete_metrics)):\n",
    "        for j in range(len(complete_metrics[i])):\n",
    "            rmse.append(complete_metrics[i][j][\"RMSE\"])\n",
    "    \n",
    "    best_index = rmse.index(min(rmse))\n",
    "    best_index_1 = best_index // n_splits\n",
    "    best_index_2 = best_index % n_splits\n",
    "    \n",
    "    breaker()\n",
    "    print(\"Best RMSE: {:.5f} using LR: {} and WD: {}\".format(complete_metrics[best_index_1][best_index_2][\"RMSE\"],\n",
    "                                                             complete_metrics[best_index_1][best_index_2][\"LR\"], \n",
    "                                                             complete_metrics[best_index_1][best_index_2][\"WD\"]))\n",
    "    breaker()\n",
    "\n",
    "    with open(\"complete_metrics.pkl\", \"wb\") as fp:\n",
    "        pickle.dump(complete_metrics, fp)"
   ]
  },
  {
   "cell_type": "code",
   "execution_count": 10,
   "id": "853629cc",
   "metadata": {
    "execution": {
     "iopub.execute_input": "2021-10-11T22:06:54.880006Z",
     "iopub.status.busy": "2021-10-11T22:06:54.877957Z",
     "iopub.status.idle": "2021-10-11T22:33:54.408125Z",
     "shell.execute_reply": "2021-10-11T22:33:54.408549Z",
     "shell.execute_reply.started": "2021-10-09T18:22:01.852789Z"
    },
    "id": "9Vf0T4VN2Z1Q",
    "outputId": "d8f15d91-6afc-482a-e8c4-ccba8ab2f221",
    "papermill": {
     "duration": 1619.544331,
     "end_time": "2021-10-11T22:33:54.408703",
     "exception": false,
     "start_time": "2021-10-11T22:06:54.864372",
     "status": "completed"
    },
    "tags": []
   },
   "outputs": [
    {
     "name": "stdout",
     "output_type": "stream",
     "text": [
      "\n",
      "**************************************************\n",
      "\n",
      "LR : 0.001, WD: 0.0 -> 0.73 minutes\n",
      "LR : 0.001, WD: 0.1 -> 1.52 minutes\n",
      "LR : 0.001, WD: 0.01 -> 0.90 minutes\n",
      "LR : 0.001, WD: 0.001 -> 0.70 minutes\n",
      "LR : 0.001, WD: 0.0001 -> 0.65 minutes\n",
      "LR : 0.001, WD: 1e-05 -> 0.65 minutes\n",
      "LR : 0.001, WD: 1e-06 -> 0.65 minutes\n",
      "LR : 0.0005, WD: 0.0 -> 0.80 minutes\n",
      "LR : 0.0005, WD: 0.1 -> 1.27 minutes\n",
      "LR : 0.0005, WD: 0.01 -> 0.83 minutes\n",
      "LR : 0.0005, WD: 0.001 -> 0.82 minutes\n",
      "LR : 0.0005, WD: 0.0001 -> 0.77 minutes\n",
      "LR : 0.0005, WD: 1e-05 -> 0.78 minutes\n",
      "LR : 0.0005, WD: 1e-06 -> 0.80 minutes\n",
      "LR : 0.0001, WD: 0.0 -> 2.09 minutes\n",
      "LR : 0.0001, WD: 0.1 -> 2.37 minutes\n",
      "LR : 0.0001, WD: 0.01 -> 2.24 minutes\n",
      "LR : 0.0001, WD: 0.001 -> 2.09 minutes\n",
      "LR : 0.0001, WD: 0.0001 -> 2.10 minutes\n",
      "LR : 0.0001, WD: 1e-05 -> 2.10 minutes\n",
      "LR : 0.0001, WD: 1e-06 -> 2.10 minutes\n",
      "\n",
      "**************************************************\n",
      "\n",
      "Best RMSE: 17.27365 using LR: 0.001 and WD: 0.001\n",
      "\n",
      "**************************************************\n",
      "\n"
     ]
    }
   ],
   "source": [
    "main()"
   ]
  },
  {
   "cell_type": "code",
   "execution_count": 11,
   "id": "06196f4b",
   "metadata": {
    "execution": {
     "iopub.execute_input": "2021-10-11T22:33:54.451226Z",
     "iopub.status.busy": "2021-10-11T22:33:54.449256Z",
     "iopub.status.idle": "2021-10-11T22:33:54.454775Z",
     "shell.execute_reply": "2021-10-11T22:33:54.455224Z"
    },
    "papermill": {
     "duration": 0.029064,
     "end_time": "2021-10-11T22:33:54.455343",
     "exception": false,
     "start_time": "2021-10-11T22:33:54.426279",
     "status": "completed"
    },
    "tags": []
   },
   "outputs": [
    {
     "name": "stdout",
     "output_type": "stream",
     "text": [
      "\n",
      "**************************************************\n",
      "\n",
      "Params: {'Fold': 8, 'LR': 0.001, 'WD': 0.001, 'RMSE': 17.27364925862079}\n",
      "\n",
      "**************************************************\n",
      "\n"
     ]
    }
   ],
   "source": [
    "if not verbose:\n",
    "    with open(\"complete_metrics.pkl\", \"rb\") as fp:\n",
    "            params = pickle.load(fp)\n",
    "\n",
    "    rmse = []\n",
    "    for i in range(len(params)):\n",
    "        for j in range(len(params[i])):\n",
    "            rmse.append(params[i][j][\"RMSE\"])\n",
    "\n",
    "    best_index = rmse.index(min(rmse))\n",
    "    if DEBUG:\n",
    "        best_index_1 = best_index // 3\n",
    "        best_index_2 = best_index % 3\n",
    "    else:\n",
    "        best_index_1 = best_index // 10\n",
    "        best_index_2 = best_index % 10\n",
    "\n",
    "    breaker()\n",
    "    print(\"Params: {}\".format(params[best_index_1][best_index_2]))\n",
    "    breaker()"
   ]
  },
  {
   "cell_type": "code",
   "execution_count": 12,
   "id": "600d1267",
   "metadata": {
    "execution": {
     "iopub.execute_input": "2021-10-11T22:33:54.495939Z",
     "iopub.status.busy": "2021-10-11T22:33:54.495354Z",
     "iopub.status.idle": "2021-10-11T22:33:54.498945Z",
     "shell.execute_reply": "2021-10-11T22:33:54.498538Z",
     "shell.execute_reply.started": "2021-10-09T18:20:52.276263Z"
    },
    "id": "YmNqGwy98SyF",
    "papermill": {
     "duration": 0.025816,
     "end_time": "2021-10-11T22:33:54.499050",
     "exception": false,
     "start_time": "2021-10-11T22:33:54.473234",
     "status": "completed"
    },
    "tags": []
   },
   "outputs": [
    {
     "name": "stdout",
     "output_type": "stream",
     "text": [
      "\n",
      "**************************************************\n",
      "\n",
      "Notebook Rumtime : 27.09 minutes\n",
      "\n",
      "**************************************************\n",
      "\n"
     ]
    }
   ],
   "source": [
    "breaker()\n",
    "print(\"Notebook Rumtime : {:.2f} minutes\".format((time() - notebook_start_time)/60))\n",
    "breaker()"
   ]
  }
 ],
 "metadata": {
  "kernelspec": {
   "display_name": "Python 3",
   "language": "python",
   "name": "python3"
  },
  "language_info": {
   "codemirror_mode": {
    "name": "ipython",
    "version": 3
   },
   "file_extension": ".py",
   "mimetype": "text/x-python",
   "name": "python",
   "nbconvert_exporter": "python",
   "pygments_lexer": "ipython3",
   "version": "3.7.10"
  },
  "papermill": {
   "default_parameters": {},
   "duration": 1633.956324,
   "end_time": "2021-10-11T22:33:56.281608",
   "environment_variables": {},
   "exception": null,
   "input_path": "__notebook__.ipynb",
   "output_path": "__notebook__.ipynb",
   "parameters": {},
   "start_time": "2021-10-11T22:06:42.325284",
   "version": "2.3.3"
  }
 },
 "nbformat": 4,
 "nbformat_minor": 5
}
