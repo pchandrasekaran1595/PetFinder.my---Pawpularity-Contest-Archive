{
 "cells": [
  {
   "cell_type": "markdown",
   "id": "01927d61",
   "metadata": {
    "_cell_guid": "b1076dfc-b9ad-4769-8c92-a6c4dae69d19",
    "_uuid": "8f2839f25d086af736a60e9eeb907d3b93b6e0e5",
    "papermill": {
     "duration": 0.011027,
     "end_time": "2021-10-11T06:57:57.705594",
     "exception": false,
     "start_time": "2021-10-11T06:57:57.694567",
     "status": "completed"
    },
    "tags": []
   },
   "source": [
    "## Library Imports"
   ]
  },
  {
   "cell_type": "code",
   "execution_count": 1,
   "id": "36dabf95",
   "metadata": {
    "execution": {
     "iopub.execute_input": "2021-10-11T06:57:57.804081Z",
     "iopub.status.busy": "2021-10-11T06:57:57.803385Z",
     "iopub.status.idle": "2021-10-11T06:57:57.806630Z",
     "shell.execute_reply": "2021-10-11T06:57:57.806074Z",
     "shell.execute_reply.started": "2021-10-10T01:10:35.299759Z"
    },
    "papermill": {
     "duration": 0.0909,
     "end_time": "2021-10-11T06:57:57.806767",
     "exception": false,
     "start_time": "2021-10-11T06:57:57.715867",
     "status": "completed"
    },
    "tags": []
   },
   "outputs": [],
   "source": [
    "from time import time\n",
    "notebook_start_time = time()"
   ]
  },
  {
   "cell_type": "code",
   "execution_count": 2,
   "id": "dbd510a3",
   "metadata": {
    "execution": {
     "iopub.execute_input": "2021-10-11T06:57:57.831960Z",
     "iopub.status.busy": "2021-10-11T06:57:57.831294Z",
     "iopub.status.idle": "2021-10-11T06:58:03.189512Z",
     "shell.execute_reply": "2021-10-11T06:58:03.188979Z",
     "shell.execute_reply.started": "2021-10-10T01:10:35.310378Z"
    },
    "papermill": {
     "duration": 5.372747,
     "end_time": "2021-10-11T06:58:03.189639",
     "exception": false,
     "start_time": "2021-10-11T06:57:57.816892",
     "status": "completed"
    },
    "tags": []
   },
   "outputs": [],
   "source": [
    "import os\n",
    "import re\n",
    "import cv2\n",
    "import numpy as np\n",
    "import pandas as pd\n",
    "import matplotlib.pyplot as plt\n",
    "\n",
    "import torch\n",
    "from torch import nn, optim\n",
    "from torch.utils.data import Dataset\n",
    "from torch.utils.data import DataLoader as DL\n",
    "from torch.nn.utils import weight_norm as WN\n",
    "from torchvision import models, transforms\n",
    "\n",
    "from sklearn.model_selection import KFold\n",
    "from sklearn.preprocessing import StandardScaler"
   ]
  },
  {
   "cell_type": "markdown",
   "id": "7ec2f9df",
   "metadata": {
    "papermill": {
     "duration": 0.009481,
     "end_time": "2021-10-11T06:58:03.209325",
     "exception": false,
     "start_time": "2021-10-11T06:58:03.199844",
     "status": "completed"
    },
    "tags": []
   },
   "source": [
    "## Constants and Utilities"
   ]
  },
  {
   "cell_type": "code",
   "execution_count": 3,
   "id": "3ac49ce2",
   "metadata": {
    "execution": {
     "iopub.execute_input": "2021-10-11T06:58:03.278915Z",
     "iopub.status.busy": "2021-10-11T06:58:03.276146Z",
     "iopub.status.idle": "2021-10-11T06:58:03.284584Z",
     "shell.execute_reply": "2021-10-11T06:58:03.284157Z",
     "shell.execute_reply.started": "2021-10-10T01:11:38.349987Z"
    },
    "papermill": {
     "duration": 0.065571,
     "end_time": "2021-10-11T06:58:03.284698",
     "exception": false,
     "start_time": "2021-10-11T06:58:03.219127",
     "status": "completed"
    },
    "tags": []
   },
   "outputs": [],
   "source": [
    "SEED = 0\n",
    "DEVICE = torch.device(\"cuda\" if torch.cuda.is_available() else \"cpu\")\n",
    "PATH = \"../input/petfinder-pawpularity-score\"\n",
    "PRETRAINED_WEIGHTS_PATH = \"../input/pretrained-model-weights-all\"\n",
    "TRAINED_ANN_WEIGHTS_PATH = \"../input/petfinder-d201-train\"\n",
    "verbose = False\n",
    "\n",
    "MODEL_NAME = \"densenet201\"\n",
    "FEATURE_LENGTH = 1920\n",
    "NUM_FOLDS = len([name for name in os.listdir(TRAINED_ANN_WEIGHTS_PATH) if name[-2:] == \"pt\"])\n",
    "\n",
    "IMAGE_SIZE = 224\n",
    "TRANSFORM = transforms.Compose([transforms.ToTensor(), \n",
    "                                transforms.Normalize([0.485, 0.456, 0.406],\n",
    "                                                     [0.229, 0.224, 0.225]),\n",
    "                                ])\n",
    "\n",
    "sc_y = StandardScaler()"
   ]
  },
  {
   "cell_type": "code",
   "execution_count": 4,
   "id": "dc5da577",
   "metadata": {
    "execution": {
     "iopub.execute_input": "2021-10-11T06:58:03.315642Z",
     "iopub.status.busy": "2021-10-11T06:58:03.311798Z",
     "iopub.status.idle": "2021-10-11T06:58:03.317672Z",
     "shell.execute_reply": "2021-10-11T06:58:03.318051Z",
     "shell.execute_reply.started": "2021-10-10T01:11:38.475621Z"
    },
    "papermill": {
     "duration": 0.023632,
     "end_time": "2021-10-11T06:58:03.318195",
     "exception": false,
     "start_time": "2021-10-11T06:58:03.294563",
     "status": "completed"
    },
    "tags": []
   },
   "outputs": [],
   "source": [
    "def breaker(num=50, char=\"*\") -> None:\n",
    "    print(\"\\n\" + num*char + \"\\n\")\n",
    "\n",
    "\n",
    "def head(x, no_of_ele=5) -> None:\n",
    "    print(x[:no_of_ele])\n",
    "\n",
    "\n",
    "def get_filenames_and_targets(path: str) -> tuple:\n",
    "    df = pd.read_csv(os.path.join(path, \"train.csv\"), engine=\"python\")\n",
    "    filenames = df.iloc[:, 0].copy().values\n",
    "    targets  = df.iloc[:, -1].copy().values\n",
    "    return filenames, targets\n",
    "\n",
    "\n",
    "def get_filenames(path: str) -> np.ndarray:\n",
    "    df = pd.read_csv(os.path.join(path, \"test.csv\"), engine=\"python\")\n",
    "    filenames  = df[\"Id\"].copy().values\n",
    "    return filenames\n",
    "\n",
    "\n",
    "def get_image(path: str, name: str) -> np.ndarray:\n",
    "    image = cv2.imread(os.path.join(path, name + \".jpg\"), cv2.IMREAD_COLOR)\n",
    "    image = cv2.cvtColor(src=image, code=cv2.COLOR_BGR2RGB)\n",
    "    image = cv2.resize(src=image, dsize=(256, 256), interpolation=cv2.INTER_AREA)\n",
    "    h, w, _ = image.shape\n",
    "    cx, cy = w // 2, h // 2\n",
    "    image = image[cy - 112:cy + 112, cx - 112:cx + 112, :]\n",
    "    return image\n",
    "\n",
    "\n",
    "def make_submission(path: str, y_pred: np.ndarray) -> None:\n",
    "    submission = pd.read_csv(os.path.join(path, \"sample_submission.csv\"), engine=\"python\")\n",
    "    submission[\"Pawpularity\"] = y_pred\n",
    "    submission.to_csv(\"./submission.csv\", index=False)"
   ]
  },
  {
   "cell_type": "markdown",
   "id": "10fe323c",
   "metadata": {
    "papermill": {
     "duration": 0.011429,
     "end_time": "2021-10-11T06:58:03.339308",
     "exception": false,
     "start_time": "2021-10-11T06:58:03.327879",
     "status": "completed"
    },
    "tags": []
   },
   "source": [
    "## Dataset Templates"
   ]
  },
  {
   "cell_type": "code",
   "execution_count": 5,
   "id": "d90ab972",
   "metadata": {
    "execution": {
     "iopub.execute_input": "2021-10-11T06:58:03.384052Z",
     "iopub.status.busy": "2021-10-11T06:58:03.383229Z",
     "iopub.status.idle": "2021-10-11T06:58:03.393057Z",
     "shell.execute_reply": "2021-10-11T06:58:03.393725Z",
     "shell.execute_reply.started": "2021-10-10T01:11:38.761172Z"
    },
    "papermill": {
     "duration": 0.0345,
     "end_time": "2021-10-11T06:58:03.393945",
     "exception": false,
     "start_time": "2021-10-11T06:58:03.359445",
     "status": "completed"
    },
    "tags": []
   },
   "outputs": [],
   "source": [
    "class ImageDS(Dataset):\n",
    "    def __init__(self, base_path=None, filenames=None, transform=None):\n",
    "        self.base_path = base_path\n",
    "        self.filenames = filenames\n",
    "        self.transform = transform\n",
    "    \n",
    "    def __len__(self):\n",
    "        return self.filenames.shape[0]\n",
    "    \n",
    "    def __getitem__(self, idx):\n",
    "        image = get_image(self.base_path, self.filenames[idx])\n",
    "        return self.transform(image)\n",
    "\n",
    "    \n",
    "class FeatureDS(Dataset):\n",
    "    def __init__(self, features=None):\n",
    "        self.features = features\n",
    "    \n",
    "    def __len__(self):\n",
    "        return self.features.shape[0]\n",
    "    \n",
    "    def __getitem__(self, idx):\n",
    "        return torch.FloatTensor(self.features[idx])"
   ]
  },
  {
   "cell_type": "code",
   "execution_count": 6,
   "id": "e487e1e4",
   "metadata": {
    "execution": {
     "iopub.execute_input": "2021-10-11T06:58:03.440780Z",
     "iopub.status.busy": "2021-10-11T06:58:03.439721Z",
     "iopub.status.idle": "2021-10-11T06:58:03.480723Z",
     "shell.execute_reply": "2021-10-11T06:58:03.482888Z",
     "shell.execute_reply.started": "2021-10-10T01:12:09.495561Z"
    },
    "papermill": {
     "duration": 0.071605,
     "end_time": "2021-10-11T06:58:03.483024",
     "exception": false,
     "start_time": "2021-10-11T06:58:03.411419",
     "status": "completed"
    },
    "tags": []
   },
   "outputs": [],
   "source": [
    "def build_models(IL: int, pretrained: bool, seed: int):\n",
    "    class ImageModel(nn.Module):\n",
    "        def __init__(self, pretrained=False):\n",
    "            super(ImageModel, self).__init__()\n",
    "\n",
    "            self.features = models.densenet201(pretrained=pretrained, progress=True)\n",
    "            if pretrained:\n",
    "                self.freeze()\n",
    "            self.features = nn.Sequential(*[*self.features.children()][:-1])\n",
    "            self.features.add_module(\"Adaptive Average Pool\", nn.AdaptiveAvgPool2d(output_size=(1, 1)))\n",
    "            self.features.add_module(\"Flatten\", nn.Flatten())\n",
    "\n",
    "        def freeze(self):\n",
    "            for params in self.parameters():\n",
    "                    params.requires_grad = False\n",
    "\n",
    "        def forward(self, x):\n",
    "            return self.features(x)\n",
    "    \n",
    "    \n",
    "    if verbose:\n",
    "        breaker()\n",
    "        print(\"Building Vision Model ...\")\n",
    "    \n",
    "    torch.manual_seed(seed)\n",
    "    vision_model = ImageModel(pretrained=pretrained)\n",
    "    \n",
    "    \n",
    "    class ANN(nn.Module):\n",
    "        def __init__(self, IL=None):\n",
    "            super(ANN, self).__init__()\n",
    "\n",
    "            self.predictor = nn.Sequential()\n",
    "            self.predictor.add_module(\"BN\", nn.BatchNorm1d(num_features=IL, eps=1e-5))\n",
    "            self.predictor.add_module(\"FC\", WN(nn.Linear(in_features=IL, out_features=1)))\n",
    "\n",
    "        def get_optimizer(self, lr=1e-3, wd=0):\n",
    "            params = [p for p in self.parameters() if p.requires_grad]\n",
    "            return optim.Adam(params, lr=lr, weight_decay=wd)\n",
    "\n",
    "        def get_plateau_scheduler(self, optimizer=None, patience=5, eps=1e-8):\n",
    "            return optim.lr_scheduler.ReduceLROnPlateau(optimizer=optimizer, patience=patience, eps=eps, verbose=True)\n",
    "\n",
    "        def forward(self, x):\n",
    "            return self.predictor(x)\n",
    "    \n",
    "    if verbose:\n",
    "        breaker()\n",
    "        print(\"Building Model ...\")\n",
    "        print(\"\\n{} -> 1\".format(IL))\n",
    "        breaker()\n",
    "    \n",
    "    torch.manual_seed(seed)\n",
    "    ann_model = ANN(IL=IL)\n",
    "    \n",
    "    return vision_model, ann_model"
   ]
  },
  {
   "cell_type": "markdown",
   "id": "959ed3e2",
   "metadata": {
    "papermill": {
     "duration": 0.015681,
     "end_time": "2021-10-11T06:58:03.514677",
     "exception": false,
     "start_time": "2021-10-11T06:58:03.498996",
     "status": "completed"
    },
    "tags": []
   },
   "source": [
    "## Feature Getter and Predict Helper"
   ]
  },
  {
   "cell_type": "code",
   "execution_count": 7,
   "id": "523eec47",
   "metadata": {
    "execution": {
     "iopub.execute_input": "2021-10-11T06:58:03.556628Z",
     "iopub.status.busy": "2021-10-11T06:58:03.555849Z",
     "iopub.status.idle": "2021-10-11T06:58:03.566181Z",
     "shell.execute_reply": "2021-10-11T06:58:03.567275Z",
     "shell.execute_reply.started": "2021-10-10T01:12:09.767992Z"
    },
    "papermill": {
     "duration": 0.036758,
     "end_time": "2021-10-11T06:58:03.567452",
     "exception": false,
     "start_time": "2021-10-11T06:58:03.530694",
     "status": "completed"
    },
    "tags": []
   },
   "outputs": [],
   "source": [
    "def get_features(model=None, dataloader=None, feature_length=None, path=None):\n",
    "    model.load_state_dict(torch.load(path, map_location=DEVICE))\n",
    "    model.to(DEVICE)\n",
    "    model.eval()\n",
    "\n",
    "    features = torch.zeros(1, feature_length).to(DEVICE)\n",
    "    for X in dataloader:\n",
    "        X = X.to(DEVICE)\n",
    "        with torch.no_grad():\n",
    "            output = model(X)\n",
    "        features = torch.cat((features, output.view(-1, feature_length)), dim=0)\n",
    "    \n",
    "    return features[1:].detach().cpu().numpy()\n",
    "\n",
    "\n",
    "def predict_batch(model=None, dataloader=None, mode=\"test\", path=None):\n",
    "    model.load_state_dict(torch.load(path, map_location=DEVICE)[\"model_state_dict\"])\n",
    "    model.to(DEVICE)\n",
    "    model.eval()\n",
    "\n",
    "    y_pred = torch.zeros(1, 1).to(DEVICE)\n",
    "    if re.match(r\"valid\", mode, re.IGNORECASE):\n",
    "        for X, _ in dataloader:\n",
    "            X = X.to(DEVICE)\n",
    "            with torch.no_grad():\n",
    "                output = model(X)\n",
    "            y_pred = torch.cat((y_pred, output.view(-1, 1)), dim=0)\n",
    "    elif re.match(r\"test\", mode, re.IGNORECASE):\n",
    "        for X in dataloader:\n",
    "            X = X.to(DEVICE)\n",
    "            with torch.no_grad():\n",
    "                output = model(X)\n",
    "            y_pred = torch.cat((y_pred, output.view(-1, 1)), dim=0)\n",
    "    \n",
    "    return y_pred[1:].detach().cpu().numpy()"
   ]
  },
  {
   "cell_type": "markdown",
   "id": "4b8885ca",
   "metadata": {
    "papermill": {
     "duration": 0.015885,
     "end_time": "2021-10-11T06:58:03.599612",
     "exception": false,
     "start_time": "2021-10-11T06:58:03.583727",
     "status": "completed"
    },
    "tags": []
   },
   "source": [
    "## Submit"
   ]
  },
  {
   "cell_type": "code",
   "execution_count": 8,
   "id": "fae759f6",
   "metadata": {
    "execution": {
     "iopub.execute_input": "2021-10-11T06:58:03.656178Z",
     "iopub.status.busy": "2021-10-11T06:58:03.655367Z",
     "iopub.status.idle": "2021-10-11T06:58:03.658036Z",
     "shell.execute_reply": "2021-10-11T06:58:03.658975Z",
     "shell.execute_reply.started": "2021-10-10T01:12:10.085185Z"
    },
    "papermill": {
     "duration": 0.036789,
     "end_time": "2021-10-11T06:58:03.659153",
     "exception": false,
     "start_time": "2021-10-11T06:58:03.622364",
     "status": "completed"
    },
    "tags": []
   },
   "outputs": [],
   "source": [
    "def submit():\n",
    "    if verbose:\n",
    "        breaker()\n",
    "        print(\"Reading Data ...\")\n",
    "    \n",
    "    ts_filenames = get_filenames(PATH)\n",
    "    filenames, targets = get_filenames_and_targets(PATH)\n",
    "    \n",
    "    if verbose:\n",
    "        breaker()\n",
    "        print(\"Obtaining Test Image Features ...\")\n",
    "    \n",
    "    ts_image_data_setup = ImageDS(base_path=os.path.join(PATH, \"test\"), \n",
    "                                  filenames=ts_filenames,\n",
    "                                  transform=TRANSFORM)\n",
    "    ts_image_data = DL(ts_image_data_setup, batch_size=64, shuffle=False)\n",
    "    \n",
    "    VisionModel, ANNModel = build_models(IL=FEATURE_LENGTH, pretrained=False, seed=SEED)\n",
    "    ts_features = get_features(model=VisionModel, dataloader=ts_image_data, \n",
    "                               feature_length=FEATURE_LENGTH, \n",
    "                               path=os.path.join(PRETRAINED_WEIGHTS_PATH, \"{}_state.pt\".format(MODEL_NAME)))\n",
    "    \n",
    "    fold = 1\n",
    "    final_y_pred = np.zeros((len(ts_filenames), 1))\n",
    "    for tr_idx, va_idx in KFold(n_splits=NUM_FOLDS, shuffle=True, random_state=SEED).split(filenames):\n",
    "        if verbose:\n",
    "            print(\"Processing Fold {} ...\".format(fold))\n",
    "        \n",
    "        tr_targets = targets[tr_idx]\n",
    "        tr_targets = tr_targets.reshape(-1, 1)\n",
    "        tr_targets = sc_y.fit_transform(tr_targets)\n",
    "    \n",
    "        ts_feature_data_setup = FeatureDS(features=ts_features)\n",
    "        ts_feature_data = DL(ts_feature_data_setup, batch_size=512, shuffle=False)\n",
    "\n",
    "        y_pred = predict_batch(model=ANNModel, dataloader=ts_feature_data, mode=\"test\",\n",
    "                               path=os.path.join(TRAINED_ANN_WEIGHTS_PATH, \"Fold_{}_state.pt\".format(fold)))\n",
    "        y_pred = sc_y.inverse_transform(y_pred)\n",
    "        \n",
    "        final_y_pred += y_pred\n",
    "        fold += 1\n",
    "    \n",
    "    final_y_pred = final_y_pred / NUM_FOLDS\n",
    "    \n",
    "    if verbose:\n",
    "        breaker()\n",
    "        print(\"Generating Submission File ...\")\n",
    "        breaker()\n",
    "    \n",
    "    make_submission(PATH, final_y_pred)"
   ]
  },
  {
   "cell_type": "code",
   "execution_count": 9,
   "id": "fe116ac2",
   "metadata": {
    "execution": {
     "iopub.execute_input": "2021-10-11T06:58:03.694950Z",
     "iopub.status.busy": "2021-10-11T06:58:03.693711Z",
     "iopub.status.idle": "2021-10-11T06:58:11.508455Z",
     "shell.execute_reply": "2021-10-11T06:58:11.507911Z",
     "shell.execute_reply.started": "2021-10-10T01:12:10.210243Z"
    },
    "papermill": {
     "duration": 7.834022,
     "end_time": "2021-10-11T06:58:11.508587",
     "exception": false,
     "start_time": "2021-10-11T06:58:03.674565",
     "status": "completed"
    },
    "tags": []
   },
   "outputs": [],
   "source": [
    "submit()"
   ]
  },
  {
   "cell_type": "code",
   "execution_count": 10,
   "id": "2f262791",
   "metadata": {
    "execution": {
     "iopub.execute_input": "2021-10-11T06:58:11.534652Z",
     "iopub.status.busy": "2021-10-11T06:58:11.533066Z",
     "iopub.status.idle": "2021-10-11T06:58:11.537003Z",
     "shell.execute_reply": "2021-10-11T06:58:11.536577Z",
     "shell.execute_reply.started": "2021-10-10T01:12:11.439576Z"
    },
    "papermill": {
     "duration": 0.018495,
     "end_time": "2021-10-11T06:58:11.537118",
     "exception": false,
     "start_time": "2021-10-11T06:58:11.518623",
     "status": "completed"
    },
    "tags": []
   },
   "outputs": [
    {
     "name": "stdout",
     "output_type": "stream",
     "text": [
      "\n",
      "**************************************************\n",
      "\n",
      "Notebook Run Time : 0.23 minutes\n",
      "\n",
      "**************************************************\n",
      "\n"
     ]
    }
   ],
   "source": [
    "breaker()\n",
    "print(\"Notebook Run Time : {:.2f} minutes\".format((time()-notebook_start_time)/60))\n",
    "breaker()"
   ]
  }
 ],
 "metadata": {
  "kernelspec": {
   "display_name": "Python 3",
   "language": "python",
   "name": "python3"
  },
  "language_info": {
   "codemirror_mode": {
    "name": "ipython",
    "version": 3
   },
   "file_extension": ".py",
   "mimetype": "text/x-python",
   "name": "python",
   "nbconvert_exporter": "python",
   "pygments_lexer": "ipython3",
   "version": "3.7.10"
  },
  "papermill": {
   "default_parameters": {},
   "duration": 21.582737,
   "end_time": "2021-10-11T06:58:13.094904",
   "environment_variables": {},
   "exception": null,
   "input_path": "__notebook__.ipynb",
   "output_path": "__notebook__.ipynb",
   "parameters": {},
   "start_time": "2021-10-11T06:57:51.512167",
   "version": "2.3.3"
  }
 },
 "nbformat": 4,
 "nbformat_minor": 5
}
