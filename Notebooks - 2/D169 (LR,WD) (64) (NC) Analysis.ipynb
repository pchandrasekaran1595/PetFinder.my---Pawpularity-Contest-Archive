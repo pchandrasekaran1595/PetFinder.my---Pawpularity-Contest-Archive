{
 "cells": [
  {
   "cell_type": "markdown",
   "id": "f558ea28",
   "metadata": {
    "id": "1NF27HFLxZMK",
    "papermill": {
     "duration": 0.013356,
     "end_time": "2021-10-11T20:44:26.582770",
     "exception": false,
     "start_time": "2021-10-11T20:44:26.569414",
     "status": "completed"
    },
    "tags": []
   },
   "source": [
    "## Library Imports"
   ]
  },
  {
   "cell_type": "code",
   "execution_count": 1,
   "id": "14d25654",
   "metadata": {
    "execution": {
     "iopub.execute_input": "2021-10-11T20:44:26.612749Z",
     "iopub.status.busy": "2021-10-11T20:44:26.611171Z",
     "iopub.status.idle": "2021-10-11T20:44:26.687480Z",
     "shell.execute_reply": "2021-10-11T20:44:26.686888Z",
     "shell.execute_reply.started": "2021-10-09T18:18:09.835291Z"
    },
    "id": "ZaibE8jTxTRV",
    "papermill": {
     "duration": 0.092342,
     "end_time": "2021-10-11T20:44:26.687624",
     "exception": false,
     "start_time": "2021-10-11T20:44:26.595282",
     "status": "completed"
    },
    "tags": []
   },
   "outputs": [],
   "source": [
    "from time import time\n",
    "notebook_start_time = time()"
   ]
  },
  {
   "cell_type": "code",
   "execution_count": 2,
   "id": "c4ce2786",
   "metadata": {
    "execution": {
     "iopub.execute_input": "2021-10-11T20:44:26.717253Z",
     "iopub.status.busy": "2021-10-11T20:44:26.716749Z",
     "iopub.status.idle": "2021-10-11T20:44:32.225238Z",
     "shell.execute_reply": "2021-10-11T20:44:32.224294Z",
     "shell.execute_reply.started": "2021-10-09T18:18:09.95105Z"
    },
    "id": "tCefPeQFxwtS",
    "papermill": {
     "duration": 5.525684,
     "end_time": "2021-10-11T20:44:32.225375",
     "exception": false,
     "start_time": "2021-10-11T20:44:26.699691",
     "status": "completed"
    },
    "tags": []
   },
   "outputs": [],
   "source": [
    "import os\n",
    "import re\n",
    "import pickle\n",
    "import numpy as np\n",
    "import pandas as pd\n",
    "import matplotlib.pyplot as plt\n",
    "\n",
    "import torch\n",
    "from torch import nn, optim\n",
    "from torch.utils.data import Dataset\n",
    "from torch.utils.data import DataLoader as DL\n",
    "from torch.nn.utils import weight_norm as WN\n",
    "from torchvision import models, transforms\n",
    "\n",
    "from sklearn.model_selection import KFold\n",
    "from sklearn.metrics import mean_squared_error\n",
    "from sklearn.preprocessing import StandardScaler"
   ]
  },
  {
   "cell_type": "markdown",
   "id": "c9104999",
   "metadata": {
    "id": "iWlt7AdSxxWm",
    "papermill": {
     "duration": 0.011783,
     "end_time": "2021-10-11T20:44:32.249688",
     "exception": false,
     "start_time": "2021-10-11T20:44:32.237905",
     "status": "completed"
    },
    "tags": []
   },
   "source": [
    "## Constants and Utilities"
   ]
  },
  {
   "cell_type": "code",
   "execution_count": 3,
   "id": "74ba83e9",
   "metadata": {
    "execution": {
     "iopub.execute_input": "2021-10-11T20:44:32.318542Z",
     "iopub.status.busy": "2021-10-11T20:44:32.317984Z",
     "iopub.status.idle": "2021-10-11T20:44:32.321548Z",
     "shell.execute_reply": "2021-10-11T20:44:32.321059Z",
     "shell.execute_reply.started": "2021-10-09T18:18:11.594208Z"
    },
    "id": "ZpMGLKhKx0EX",
    "papermill": {
     "duration": 0.059912,
     "end_time": "2021-10-11T20:44:32.321725",
     "exception": false,
     "start_time": "2021-10-11T20:44:32.261813",
     "status": "completed"
    },
    "tags": []
   },
   "outputs": [],
   "source": [
    "SEED = 49\n",
    "DEVICE = torch.device(\"cuda\" if torch.cuda.is_available() else \"cpu\")\n",
    "DATA_PATH = \"../input/petfinder-pawpularity-score\"\n",
    "FEATURE_PATH = \"../input/petfinder-pf-nc-ua-all-dataset\"\n",
    "MODEL_NAME = \"densenet169\"\n",
    "\n",
    "DEBUG = False\n",
    "verbose = False\n",
    "\n",
    "sc_y = StandardScaler()"
   ]
  },
  {
   "cell_type": "code",
   "execution_count": 4,
   "id": "4d5b6945",
   "metadata": {
    "execution": {
     "iopub.execute_input": "2021-10-11T20:44:32.353893Z",
     "iopub.status.busy": "2021-10-11T20:44:32.353316Z",
     "iopub.status.idle": "2021-10-11T20:44:32.355702Z",
     "shell.execute_reply": "2021-10-11T20:44:32.356093Z",
     "shell.execute_reply.started": "2021-10-09T18:18:11.615048Z"
    },
    "id": "yIR_gIEPyZrc",
    "papermill": {
     "duration": 0.022582,
     "end_time": "2021-10-11T20:44:32.356204",
     "exception": false,
     "start_time": "2021-10-11T20:44:32.333622",
     "status": "completed"
    },
    "tags": []
   },
   "outputs": [],
   "source": [
    "def breaker(num=50, char=\"*\") -> None:\n",
    "    print(\"\\n\" + num*char + \"\\n\")\n",
    "\n",
    "\n",
    "def get_targets(path: str) -> np.ndarray:\n",
    "    df = pd.read_csv(os.path.join(path, \"train.csv\"), engine=\"python\")\n",
    "    targets = df[\"Pawpularity\"].copy().values\n",
    "    return targets.reshape(-1, 1)\n",
    "\n",
    "\n",
    "def show_graphs(L: list, title=None) -> None:\n",
    "    TL, VL = [], []\n",
    "    for i in range(len(L)):\n",
    "        TL.append(L[i][\"train\"])\n",
    "        VL.append(L[i][\"valid\"])\n",
    "    x_Axis = np.arange(1, len(L) + 1)\n",
    "    plt.figure()\n",
    "    plt.plot(x_Axis, TL, \"r\", label=\"train\")\n",
    "    plt.plot(x_Axis, VL, \"b\", label=\"valid\")\n",
    "    plt.grid()\n",
    "    plt.legend()\n",
    "    if title:\n",
    "        plt.title(\"{} Loss\".format(title))\n",
    "    else:\n",
    "        plt.title(\"Loss\")\n",
    "    plt.show()"
   ]
  },
  {
   "cell_type": "markdown",
   "id": "b9ed217c",
   "metadata": {
    "id": "7y0fd6rWy9C7",
    "papermill": {
     "duration": 0.011647,
     "end_time": "2021-10-11T20:44:32.379760",
     "exception": false,
     "start_time": "2021-10-11T20:44:32.368113",
     "status": "completed"
    },
    "tags": []
   },
   "source": [
    "## Dataset Template and Build Dataloader"
   ]
  },
  {
   "cell_type": "code",
   "execution_count": 5,
   "id": "5d182d28",
   "metadata": {
    "execution": {
     "iopub.execute_input": "2021-10-11T20:44:32.413449Z",
     "iopub.status.busy": "2021-10-11T20:44:32.412022Z",
     "iopub.status.idle": "2021-10-11T20:44:32.414103Z",
     "shell.execute_reply": "2021-10-11T20:44:32.414506Z",
     "shell.execute_reply.started": "2021-10-09T18:18:11.638867Z"
    },
    "id": "TtCaj5UAy7ar",
    "papermill": {
     "duration": 0.023075,
     "end_time": "2021-10-11T20:44:32.414615",
     "exception": false,
     "start_time": "2021-10-11T20:44:32.391540",
     "status": "completed"
    },
    "tags": []
   },
   "outputs": [],
   "source": [
    "class DS(Dataset):\n",
    "    def __init__(self, features=None, targets=None):\n",
    "        self.features = features\n",
    "        self.targets  = targets\n",
    "        \n",
    "    def __len__(self):\n",
    "        return self.features.shape[0]\n",
    "    \n",
    "    def __getitem__(self, idx):\n",
    "        return torch.FloatTensor(self.features[idx]), torch.FloatTensor(self.targets[idx])\n",
    "    \n",
    "\n",
    "def build_dataloaders(tr_features: np.ndarray, va_features: np.ndarray,\n",
    "                      tr_targets: np.ndarray, va_targets: np.ndarray,\n",
    "                      batch_size: int, seed: int):\n",
    "\n",
    "    if verbose:\n",
    "        breaker()\n",
    "        print(\"Building Train and Validation DataLoaders ...\")\n",
    "    \n",
    "    tr_data_setup = DS(features=tr_features, targets=tr_targets)\n",
    "    va_data_setup = DS(features=va_features, targets=va_targets)\n",
    "    \n",
    "    dataloaders = {\n",
    "        \"train\" : DL(tr_data_setup, batch_size=batch_size, shuffle=True, generator=torch.manual_seed(seed)),\n",
    "        \"valid\" : DL(va_data_setup, batch_size=batch_size, shuffle=False)\n",
    "    }\n",
    "    \n",
    "    return dataloaders"
   ]
  },
  {
   "cell_type": "markdown",
   "id": "58eb3c42",
   "metadata": {
    "id": "8wmsPRi6zjyn",
    "papermill": {
     "duration": 0.011627,
     "end_time": "2021-10-11T20:44:32.437918",
     "exception": false,
     "start_time": "2021-10-11T20:44:32.426291",
     "status": "completed"
    },
    "tags": []
   },
   "source": [
    "## Build Model"
   ]
  },
  {
   "cell_type": "code",
   "execution_count": 6,
   "id": "106a89d7",
   "metadata": {
    "execution": {
     "iopub.execute_input": "2021-10-11T20:44:32.470829Z",
     "iopub.status.busy": "2021-10-11T20:44:32.470011Z",
     "iopub.status.idle": "2021-10-11T20:44:32.472569Z",
     "shell.execute_reply": "2021-10-11T20:44:32.472111Z",
     "shell.execute_reply.started": "2021-10-09T18:18:11.654327Z"
    },
    "id": "2GYZ4teczjIm",
    "papermill": {
     "duration": 0.022973,
     "end_time": "2021-10-11T20:44:32.472671",
     "exception": false,
     "start_time": "2021-10-11T20:44:32.449698",
     "status": "completed"
    },
    "tags": []
   },
   "outputs": [],
   "source": [
    "def build_model(IL: int, seed: int):\n",
    "    class ANN(nn.Module):\n",
    "        def __init__(self, IL=None):\n",
    "            super(ANN, self).__init__()\n",
    "\n",
    "            self.predictor = nn.Sequential()\n",
    "            self.predictor.add_module(\"BN\", nn.BatchNorm1d(num_features=IL, eps=1e-5))\n",
    "            self.predictor.add_module(\"FC\", WN(nn.Linear(in_features=IL, out_features=1)))\n",
    "\n",
    "        def get_optimizer(self, lr=1e-3, wd=0):\n",
    "            params = [p for p in self.parameters() if p.requires_grad]\n",
    "            return optim.Adam(params, lr=lr, weight_decay=wd)\n",
    "\n",
    "        def get_plateau_scheduler(self, optimizer=None, patience=5, eps=1e-8):\n",
    "            return optim.lr_scheduler.ReduceLROnPlateau(optimizer=optimizer, patience=patience, eps=eps, verbose=True)\n",
    "\n",
    "        def forward(self, x1, x2=None):\n",
    "            if x2 is not None:\n",
    "                return self.predictor(x1), self.predictor(x2)\n",
    "            else:\n",
    "                return self.predictor(x1)\n",
    "    \n",
    "    if verbose:\n",
    "        breaker()\n",
    "        print(\"Building Model ...\")\n",
    "        print(\"\\n{} -> 1\".format(IL))\n",
    "    \n",
    "    torch.manual_seed(seed)\n",
    "    model = ANN(IL=IL)\n",
    "    \n",
    "    return model"
   ]
  },
  {
   "cell_type": "markdown",
   "id": "3d083b31",
   "metadata": {
    "id": "uuMvELK2zqh0",
    "papermill": {
     "duration": 0.011654,
     "end_time": "2021-10-11T20:44:32.496079",
     "exception": false,
     "start_time": "2021-10-11T20:44:32.484425",
     "status": "completed"
    },
    "tags": []
   },
   "source": [
    "## Fit and Predict Helpers"
   ]
  },
  {
   "cell_type": "code",
   "execution_count": 7,
   "id": "2f19c50a",
   "metadata": {
    "execution": {
     "iopub.execute_input": "2021-10-11T20:44:32.540566Z",
     "iopub.status.busy": "2021-10-11T20:44:32.537610Z",
     "iopub.status.idle": "2021-10-11T20:44:32.542250Z",
     "shell.execute_reply": "2021-10-11T20:44:32.542672Z",
     "shell.execute_reply.started": "2021-10-09T18:18:11.669126Z"
    },
    "id": "8DQ9EUrIzpmn",
    "papermill": {
     "duration": 0.034738,
     "end_time": "2021-10-11T20:44:32.542784",
     "exception": false,
     "start_time": "2021-10-11T20:44:32.508046",
     "status": "completed"
    },
    "tags": []
   },
   "outputs": [],
   "source": [
    "def fit(model=None, optimizer=None, scheduler=None, \n",
    "        epochs=None, early_stopping_patience=None,\n",
    "        dataloaders=None, fold=None, lr=None, wd=None, verbose=False) -> tuple:\n",
    "    \n",
    "    name = \"./LR_{}_WD_{}_Fold_{}_state.pt\".format(lr, wd, fold)\n",
    "    \n",
    "    if verbose:\n",
    "        breaker()\n",
    "        print(\"Training Fold {}...\".format(fold))\n",
    "        breaker()\n",
    "    # else:\n",
    "        # print(\"Training Fold {}...\".format(fold))\n",
    "\n",
    "    Losses = []\n",
    "    bestLoss = {\"train\" : np.inf, \"valid\" : np.inf}\n",
    "\n",
    "    start_time = time()\n",
    "    for e in range(epochs):\n",
    "        e_st = time()\n",
    "        epochLoss = {\"train\" : np.inf, \"valid\" : np.inf}\n",
    "\n",
    "        for phase in [\"train\", \"valid\"]:\n",
    "            if phase == \"train\":\n",
    "                model.train()\n",
    "            else:\n",
    "                model.eval()\n",
    "            \n",
    "            lossPerPass = []\n",
    "\n",
    "            for X, y in dataloaders[phase]:\n",
    "                X, y = X.to(DEVICE), y.to(DEVICE)\n",
    "\n",
    "                optimizer.zero_grad()\n",
    "                with torch.set_grad_enabled(phase == \"train\"):\n",
    "                    output = model(X)\n",
    "                    loss = torch.nn.MSELoss()(output, y)\n",
    "                    if phase == \"train\":\n",
    "                        loss.backward()\n",
    "                        optimizer.step()\n",
    "                lossPerPass.append(loss.item())\n",
    "            epochLoss[phase] = np.mean(np.array(lossPerPass))\n",
    "        Losses.append(epochLoss)\n",
    "\n",
    "        if early_stopping_patience:\n",
    "            if epochLoss[\"valid\"] < bestLoss[\"valid\"]:\n",
    "                bestLoss = epochLoss\n",
    "                BLE = e + 1\n",
    "                torch.save({\"model_state_dict\": model.state_dict(),\n",
    "                            \"optim_state_dict\": optimizer.state_dict()},\n",
    "                           name)\n",
    "                early_stopping_step = 0\n",
    "            else:\n",
    "                early_stopping_step += 1\n",
    "                if early_stopping_step > early_stopping_patience:\n",
    "                    if verbose:\n",
    "                        print(\"\\nEarly Stopping at Epoch {}\".format(e))\n",
    "                    break\n",
    "        \n",
    "        if epochLoss[\"valid\"] < bestLoss[\"valid\"]:\n",
    "            bestLoss = epochLoss\n",
    "            BLE = e + 1\n",
    "            torch.save({\"model_state_dict\": model.state_dict(),\n",
    "                        \"optim_state_dict\": optimizer.state_dict()},\n",
    "                       name)\n",
    "        \n",
    "        if scheduler:\n",
    "            scheduler.step(epochLoss[\"valid\"])\n",
    "        \n",
    "        if verbose:\n",
    "            print(\"Epoch: {} | Train Loss: {:.5f} | Valid Loss: {:.5f} | Time: {:.2f} seconds\".format(e+1, epochLoss[\"train\"], epochLoss[\"valid\"], time()-e_st))\n",
    "    \n",
    "    if verbose:\n",
    "        breaker()\n",
    "        print(\"Best Validation Loss at Epoch {}\".format(BLE))\n",
    "        breaker()\n",
    "        print(\"Time Taken [{} Epochs] : {:.2f} minutes\".format(len(Losses), (time()-start_time)/60))\n",
    "        breaker()\n",
    "        print(\"Training Completed\")\n",
    "        breaker()\n",
    "\n",
    "    return Losses, BLE, name\n",
    "\n",
    "#####################################################################################################\n",
    "\n",
    "def predict_batch(model=None, dataloader=None, mode=\"test\", path=None) -> np.ndarray:    \n",
    "    model.load_state_dict(torch.load(path, map_location=DEVICE)[\"model_state_dict\"])\n",
    "    model.to(DEVICE)\n",
    "    model.eval()\n",
    "\n",
    "    y_pred = torch.zeros(1, 1).to(DEVICE)\n",
    "    if re.match(r\"valid\", mode, re.IGNORECASE):\n",
    "        for X, _ in dataloader:\n",
    "            X = X.to(DEVICE)\n",
    "            with torch.no_grad():\n",
    "                output = model(X)\n",
    "            y_pred = torch.cat((y_pred, output.view(-1, 1)), dim=0)\n",
    "    elif re.match(r\"test\", mode, re.IGNORECASE):\n",
    "        for X in dataloader:\n",
    "            X = X.to(DEVICE)\n",
    "            with torch.no_grad():\n",
    "                output = model(X)\n",
    "            y_pred = torch.cat((y_pred, output.view(-1, 1)), dim=0)\n",
    "    \n",
    "    return y_pred[1:].detach().cpu().numpy()"
   ]
  },
  {
   "cell_type": "markdown",
   "id": "ebe0edc9",
   "metadata": {
    "id": "YQP876MS0OrX",
    "papermill": {
     "duration": 0.011847,
     "end_time": "2021-10-11T20:44:32.566305",
     "exception": false,
     "start_time": "2021-10-11T20:44:32.554458",
     "status": "completed"
    },
    "tags": []
   },
   "source": [
    "## Train"
   ]
  },
  {
   "cell_type": "code",
   "execution_count": 8,
   "id": "cf284e4b",
   "metadata": {
    "execution": {
     "iopub.execute_input": "2021-10-11T20:44:32.603490Z",
     "iopub.status.busy": "2021-10-11T20:44:32.601944Z",
     "iopub.status.idle": "2021-10-11T20:44:32.604123Z",
     "shell.execute_reply": "2021-10-11T20:44:32.604523Z",
     "shell.execute_reply.started": "2021-10-09T18:18:11.705577Z"
    },
    "id": "OrGICYXg0QEM",
    "papermill": {
     "duration": 0.026498,
     "end_time": "2021-10-11T20:44:32.604633",
     "exception": false,
     "start_time": "2021-10-11T20:44:32.578135",
     "status": "completed"
    },
    "tags": []
   },
   "outputs": [],
   "source": [
    "def train(features: np.ndarray, targets: np.ndarray,\n",
    "          n_splits: int, batch_size: int, lr: float, wd: float, \n",
    "          epochs: int, early_stopping: int, \n",
    "          patience=None, eps=None) -> list:        \n",
    "    \n",
    "    metrics = []\n",
    "        \n",
    "    KFold_start_time = time()\n",
    "    if verbose:\n",
    "        breaker()\n",
    "        print(\"\\tLR : {}, WD: {}\".format(lr, wd))\n",
    "        breaker()\n",
    "        print(\"Performing {} Fold CV ...\".format(n_splits))\n",
    "    fold = 1\n",
    "    for tr_idx, va_idx in KFold(n_splits=n_splits, shuffle=True, random_state=SEED).split(features):\n",
    "\n",
    "        tr_features, va_features = features[tr_idx], features[va_idx]\n",
    "        tr_targets, va_targets   = targets[tr_idx], targets[va_idx]\n",
    "\n",
    "        tr_targets = sc_y.fit_transform(tr_targets)\n",
    "        va_targets = sc_y.transform(va_targets)\n",
    "\n",
    "        dataloaders = build_dataloaders(tr_features, va_features,\n",
    "                                        tr_targets, va_targets, \n",
    "                                        batch_size, SEED)\n",
    "        model = build_model(IL=tr_features.shape[1], seed=SEED).to(DEVICE)\n",
    "        optimizer = model.get_optimizer(lr=lr, wd=wd)\n",
    "        scheduler = None\n",
    "        if isinstance(patience, int) and isinstance(eps, float):\n",
    "            scheduler = model.get_plateau_scheduler(optimizer, patience, eps)\n",
    "\n",
    "        L, _, name = fit(model=model, optimizer=optimizer, scheduler=scheduler, \n",
    "                         epochs=epochs, early_stopping_patience=early_stopping,\n",
    "                         dataloaders=dataloaders, fold=fold, lr=lr, wd=wd, verbose=verbose)\n",
    "        y_pred = predict_batch(model=model, dataloader=dataloaders[\"valid\"], mode=\"valid\", path=name)\n",
    "        RMSE = np.sqrt(mean_squared_error(sc_y.inverse_transform(y_pred), sc_y.inverse_transform(va_targets)))\n",
    "        if verbose:\n",
    "            print(\"\\nValidation RMSE [Fold {}]: {:.5f}\".format(fold, RMSE))\n",
    "            breaker()\n",
    "            show_graphs(L)\n",
    "        \n",
    "        metrics_dict = {\"Fold\" : fold, \"LR\" : lr, \"WD\" : wd, \"RMSE\" : RMSE}\n",
    "        metrics.append(metrics_dict)\n",
    "        \n",
    "        fold += 1\n",
    "    \n",
    "    if verbose:\n",
    "        breaker()\n",
    "        print(\"Total Time to {} Fold CV : {:.2f} minutes\".format(n_splits, (time() - KFold_start_time)/60))\n",
    "    \n",
    "    return metrics, (time() - KFold_start_time)/60"
   ]
  },
  {
   "cell_type": "markdown",
   "id": "c0324e55",
   "metadata": {
    "id": "UGUqaAzy1C33",
    "papermill": {
     "duration": 0.011577,
     "end_time": "2021-10-11T20:44:32.628347",
     "exception": false,
     "start_time": "2021-10-11T20:44:32.616770",
     "status": "completed"
    },
    "tags": []
   },
   "source": [
    "## Main"
   ]
  },
  {
   "cell_type": "code",
   "execution_count": 9,
   "id": "78e959d3",
   "metadata": {
    "execution": {
     "iopub.execute_input": "2021-10-11T20:44:32.664322Z",
     "iopub.status.busy": "2021-10-11T20:44:32.663620Z",
     "iopub.status.idle": "2021-10-11T20:44:32.665698Z",
     "shell.execute_reply": "2021-10-11T20:44:32.666059Z",
     "shell.execute_reply.started": "2021-10-09T18:21:59.180726Z"
    },
    "id": "_0yK3IwR1CEs",
    "papermill": {
     "duration": 0.026036,
     "end_time": "2021-10-11T20:44:32.666170",
     "exception": false,
     "start_time": "2021-10-11T20:44:32.640134",
     "status": "completed"
    },
    "tags": []
   },
   "outputs": [],
   "source": [
    "def main():\n",
    "    \n",
    "    ########### Params ###########\n",
    "    \n",
    "    if DEBUG:\n",
    "        n_splits = 10\n",
    "        patience, eps = 5, 1e-8\n",
    "        epochs, early_stopping = 5, 5\n",
    "\n",
    "        batch_size = 64\n",
    "        lrs = [1e-2, 1e-3]\n",
    "        wds = [0.0, 1e-1]\n",
    "    else:\n",
    "        n_splits = 10\n",
    "        patience, eps = 5, 1e-8\n",
    "        epochs, early_stopping = 100, 8\n",
    "\n",
    "        batch_size = 64\n",
    "        lrs = [1e-3, 5e-4, 1e-4]\n",
    "        wds = [0.0, 1e-1, 1e-2, 1e-3, 1e-4, 1e-5, 1e-6]\n",
    "    \n",
    "    ##############################\n",
    "\n",
    "    complete_metrics = []\n",
    "\n",
    "    if verbose:\n",
    "        breaker()\n",
    "        print(\"Loading Data ...\")\n",
    "    else:\n",
    "        breaker()\n",
    "    \n",
    "    features = np.load(os.path.join(FEATURE_PATH, \"{}_features.npy\".format(MODEL_NAME)))\n",
    "    targets  = get_targets(DATA_PATH)\n",
    "\n",
    "    for lr in lrs:\n",
    "        for wd in wds:\n",
    "\n",
    "            # Without Scheduler\n",
    "            metrics, time_taken = train(features, targets, n_splits, batch_size, lr, wd, epochs, early_stopping, patience=None, eps=None)\n",
    "\n",
    "            # # With Plateau Scheduler\n",
    "            # metrics = train(features, targets, n_splits, batch_size, lr, wd, epochs, early_stopping, patience=patience, eps=eps)\n",
    "\n",
    "            complete_metrics.append(metrics)\n",
    "\n",
    "            if not verbose:\n",
    "                print(\"LR : {}, WD: {} -> {:.2f} minutes\".format(lr, wd, time_taken))\n",
    "\n",
    "    if verbose:\n",
    "        breaker()\n",
    "        for i in range(len(complete_metrics)):\n",
    "            for j in range(len(complete_metrics[i])):\n",
    "                print(complete_metrics[i][j])\n",
    "    \n",
    "    rmse = []\n",
    "    for i in range(len(complete_metrics)):\n",
    "        for j in range(len(complete_metrics[i])):\n",
    "            rmse.append(complete_metrics[i][j][\"RMSE\"])\n",
    "    \n",
    "    best_index = rmse.index(min(rmse))\n",
    "    best_index_1 = best_index // n_splits\n",
    "    best_index_2 = best_index % n_splits\n",
    "    \n",
    "    breaker()\n",
    "    print(\"Best RMSE: {:.5f} using LR: {} and WD: {}\".format(complete_metrics[best_index_1][best_index_2][\"RMSE\"],\n",
    "                                                             complete_metrics[best_index_1][best_index_2][\"LR\"], \n",
    "                                                             complete_metrics[best_index_1][best_index_2][\"WD\"]))\n",
    "    breaker()\n",
    "\n",
    "    with open(\"complete_metrics.pkl\", \"wb\") as fp:\n",
    "        pickle.dump(complete_metrics, fp)"
   ]
  },
  {
   "cell_type": "code",
   "execution_count": 10,
   "id": "f630e733",
   "metadata": {
    "execution": {
     "iopub.execute_input": "2021-10-11T20:44:32.693443Z",
     "iopub.status.busy": "2021-10-11T20:44:32.692946Z",
     "iopub.status.idle": "2021-10-11T21:19:24.481334Z",
     "shell.execute_reply": "2021-10-11T21:19:24.481781Z",
     "shell.execute_reply.started": "2021-10-09T18:22:01.852789Z"
    },
    "id": "9Vf0T4VN2Z1Q",
    "outputId": "d8f15d91-6afc-482a-e8c4-ccba8ab2f221",
    "papermill": {
     "duration": 2091.804024,
     "end_time": "2021-10-11T21:19:24.481940",
     "exception": false,
     "start_time": "2021-10-11T20:44:32.677916",
     "status": "completed"
    },
    "tags": []
   },
   "outputs": [
    {
     "name": "stdout",
     "output_type": "stream",
     "text": [
      "\n",
      "**************************************************\n",
      "\n",
      "LR : 0.001, WD: 0.0 -> 1.15 minutes\n",
      "LR : 0.001, WD: 0.1 -> 1.15 minutes\n",
      "LR : 0.001, WD: 0.01 -> 1.29 minutes\n",
      "LR : 0.001, WD: 0.001 -> 1.13 minutes\n",
      "LR : 0.001, WD: 0.0001 -> 1.10 minutes\n",
      "LR : 0.001, WD: 1e-05 -> 1.08 minutes\n",
      "LR : 0.001, WD: 1e-06 -> 1.12 minutes\n",
      "LR : 0.0005, WD: 0.0 -> 1.17 minutes\n",
      "LR : 0.0005, WD: 0.1 -> 1.58 minutes\n",
      "LR : 0.0005, WD: 0.01 -> 1.80 minutes\n",
      "LR : 0.0005, WD: 0.001 -> 1.26 minutes\n",
      "LR : 0.0005, WD: 0.0001 -> 1.19 minutes\n",
      "LR : 0.0005, WD: 1e-05 -> 1.19 minutes\n",
      "LR : 0.0005, WD: 1e-06 -> 1.22 minutes\n",
      "LR : 0.0001, WD: 0.0 -> 1.92 minutes\n",
      "LR : 0.0001, WD: 0.1 -> 3.78 minutes\n",
      "LR : 0.0001, WD: 0.01 -> 3.41 minutes\n",
      "LR : 0.0001, WD: 0.001 -> 2.22 minutes\n",
      "LR : 0.0001, WD: 0.0001 -> 2.02 minutes\n",
      "LR : 0.0001, WD: 1e-05 -> 2.01 minutes\n",
      "LR : 0.0001, WD: 1e-06 -> 2.03 minutes\n",
      "\n",
      "**************************************************\n",
      "\n",
      "Best RMSE: 17.05598 using LR: 0.001 and WD: 0.01\n",
      "\n",
      "**************************************************\n",
      "\n"
     ]
    }
   ],
   "source": [
    "main()"
   ]
  },
  {
   "cell_type": "code",
   "execution_count": 11,
   "id": "64bb8d5e",
   "metadata": {
    "execution": {
     "iopub.execute_input": "2021-10-11T21:19:24.524780Z",
     "iopub.status.busy": "2021-10-11T21:19:24.522670Z",
     "iopub.status.idle": "2021-10-11T21:19:24.527850Z",
     "shell.execute_reply": "2021-10-11T21:19:24.528209Z"
    },
    "papermill": {
     "duration": 0.028696,
     "end_time": "2021-10-11T21:19:24.528324",
     "exception": false,
     "start_time": "2021-10-11T21:19:24.499628",
     "status": "completed"
    },
    "tags": []
   },
   "outputs": [
    {
     "name": "stdout",
     "output_type": "stream",
     "text": [
      "\n",
      "**************************************************\n",
      "\n",
      "Params: {'Fold': 8, 'LR': 0.001, 'WD': 0.01, 'RMSE': 17.055975391521706}\n",
      "\n",
      "**************************************************\n",
      "\n"
     ]
    }
   ],
   "source": [
    "if not verbose:\n",
    "    with open(\"complete_metrics.pkl\", \"rb\") as fp:\n",
    "            params = pickle.load(fp)\n",
    "\n",
    "    rmse = []\n",
    "    for i in range(len(params)):\n",
    "        for j in range(len(params[i])):\n",
    "            rmse.append(params[i][j][\"RMSE\"])\n",
    "\n",
    "    best_index = rmse.index(min(rmse))\n",
    "    if DEBUG:\n",
    "        best_index_1 = best_index // 3\n",
    "        best_index_2 = best_index % 3\n",
    "    else:\n",
    "        best_index_1 = best_index // 10\n",
    "        best_index_2 = best_index % 10\n",
    "\n",
    "    breaker()\n",
    "    print(\"Params: {}\".format(params[best_index_1][best_index_2]))\n",
    "    breaker()"
   ]
  },
  {
   "cell_type": "code",
   "execution_count": 12,
   "id": "43e0aebe",
   "metadata": {
    "execution": {
     "iopub.execute_input": "2021-10-11T21:19:24.568932Z",
     "iopub.status.busy": "2021-10-11T21:19:24.568232Z",
     "iopub.status.idle": "2021-10-11T21:19:24.571763Z",
     "shell.execute_reply": "2021-10-11T21:19:24.571324Z",
     "shell.execute_reply.started": "2021-10-09T18:20:52.276263Z"
    },
    "id": "YmNqGwy98SyF",
    "papermill": {
     "duration": 0.025771,
     "end_time": "2021-10-11T21:19:24.571860",
     "exception": false,
     "start_time": "2021-10-11T21:19:24.546089",
     "status": "completed"
    },
    "tags": []
   },
   "outputs": [
    {
     "name": "stdout",
     "output_type": "stream",
     "text": [
      "\n",
      "**************************************************\n",
      "\n",
      "Notebook Rumtime : 34.96 minutes\n",
      "\n",
      "**************************************************\n",
      "\n"
     ]
    }
   ],
   "source": [
    "breaker()\n",
    "print(\"Notebook Rumtime : {:.2f} minutes\".format((time() - notebook_start_time)/60))\n",
    "breaker()"
   ]
  }
 ],
 "metadata": {
  "kernelspec": {
   "display_name": "Python 3",
   "language": "python",
   "name": "python3"
  },
  "language_info": {
   "codemirror_mode": {
    "name": "ipython",
    "version": 3
   },
   "file_extension": ".py",
   "mimetype": "text/x-python",
   "name": "python",
   "nbconvert_exporter": "python",
   "pygments_lexer": "ipython3",
   "version": "3.7.10"
  },
  "papermill": {
   "default_parameters": {},
   "duration": 2106.118162,
   "end_time": "2021-10-11T21:19:26.264509",
   "environment_variables": {},
   "exception": null,
   "input_path": "__notebook__.ipynb",
   "output_path": "__notebook__.ipynb",
   "parameters": {},
   "start_time": "2021-10-11T20:44:20.146347",
   "version": "2.3.3"
  }
 },
 "nbformat": 4,
 "nbformat_minor": 5
}
