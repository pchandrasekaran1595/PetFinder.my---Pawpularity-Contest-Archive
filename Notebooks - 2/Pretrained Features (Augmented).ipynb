{
 "cells": [
  {
   "cell_type": "markdown",
   "id": "db5d5ccd",
   "metadata": {
    "_cell_guid": "b1076dfc-b9ad-4769-8c92-a6c4dae69d19",
    "_uuid": "8f2839f25d086af736a60e9eeb907d3b93b6e0e5",
    "papermill": {
     "duration": 0.012398,
     "end_time": "2021-10-10T23:23:39.906555",
     "exception": false,
     "start_time": "2021-10-10T23:23:39.894157",
     "status": "completed"
    },
    "tags": []
   },
   "source": [
    "## Library Imports"
   ]
  },
  {
   "cell_type": "code",
   "execution_count": 1,
   "id": "591980a5",
   "metadata": {
    "execution": {
     "iopub.execute_input": "2021-10-10T23:23:39.938587Z",
     "iopub.status.busy": "2021-10-10T23:23:39.932749Z",
     "iopub.status.idle": "2021-10-10T23:23:39.942197Z",
     "shell.execute_reply": "2021-10-10T23:23:39.941663Z",
     "shell.execute_reply.started": "2021-10-10T23:13:56.054283Z"
    },
    "papermill": {
     "duration": 0.024504,
     "end_time": "2021-10-10T23:23:39.942327",
     "exception": false,
     "start_time": "2021-10-10T23:23:39.917823",
     "status": "completed"
    },
    "tags": []
   },
   "outputs": [],
   "source": [
    "from time import time\n",
    "notebook_start_time = time()"
   ]
  },
  {
   "cell_type": "code",
   "execution_count": 2,
   "id": "3e20d7c0",
   "metadata": {
    "execution": {
     "iopub.execute_input": "2021-10-10T23:23:39.969690Z",
     "iopub.status.busy": "2021-10-10T23:23:39.969186Z",
     "iopub.status.idle": "2021-10-10T23:23:46.029488Z",
     "shell.execute_reply": "2021-10-10T23:23:46.028965Z",
     "shell.execute_reply.started": "2021-10-10T23:13:56.175119Z"
    },
    "papermill": {
     "duration": 6.07628,
     "end_time": "2021-10-10T23:23:46.029618",
     "exception": false,
     "start_time": "2021-10-10T23:23:39.953338",
     "status": "completed"
    },
    "tags": []
   },
   "outputs": [],
   "source": [
    "import os\n",
    "import re\n",
    "import random as r\n",
    "import numpy as np\n",
    "import pandas as pd\n",
    "import matplotlib.pyplot as plt\n",
    "\n",
    "import torch\n",
    "from torch import nn, optim\n",
    "from torch.utils.data import Dataset\n",
    "from torch.utils.data import DataLoader as DL\n",
    "from torch.nn.utils import weight_norm as WN\n",
    "from torchvision import models, transforms\n",
    "\n",
    "import imgaug\n",
    "import random as r\n",
    "from imgaug import augmenters\n",
    "\n",
    "import warnings\n",
    "warnings.filterwarnings(\"ignore\")"
   ]
  },
  {
   "cell_type": "markdown",
   "id": "cd1bd01c",
   "metadata": {
    "papermill": {
     "duration": 0.011413,
     "end_time": "2021-10-10T23:23:46.053035",
     "exception": false,
     "start_time": "2021-10-10T23:23:46.041622",
     "status": "completed"
    },
    "tags": []
   },
   "source": [
    "## Constants and Utilities"
   ]
  },
  {
   "cell_type": "code",
   "execution_count": 3,
   "id": "1979ecf9",
   "metadata": {
    "execution": {
     "iopub.execute_input": "2021-10-10T23:23:46.084237Z",
     "iopub.status.busy": "2021-10-10T23:23:46.083300Z",
     "iopub.status.idle": "2021-10-10T23:23:46.085830Z",
     "shell.execute_reply": "2021-10-10T23:23:46.085301Z",
     "shell.execute_reply.started": "2021-10-10T23:14:02.671753Z"
    },
    "papermill": {
     "duration": 0.022041,
     "end_time": "2021-10-10T23:23:46.085946",
     "exception": false,
     "start_time": "2021-10-10T23:23:46.063905",
     "status": "completed"
    },
    "tags": []
   },
   "outputs": [],
   "source": [
    "def breaker(num=50, char=\"*\") -> None:\n",
    "    print(\"\\n\" + num*char + \"\\n\")\n",
    "\n",
    "\n",
    "def head(x, no_of_ele=5) -> None:\n",
    "    print(x[:no_of_ele])\n",
    "\n",
    "    \n",
    "def get_augment(seed: int):\n",
    "    imgaug.seed(seed)\n",
    "    augment = augmenters.SomeOf(None, [\n",
    "        augmenters.HorizontalFlip(p=0.5),\n",
    "        augmenters.VerticalFlip(p=0.5),\n",
    "        augmenters.Affine(scale=(0.75, 1.25), translate_percent=(-0.1, 0.1), rotate=(-45, 45), seed=seed),\n",
    "    ], seed=seed)\n",
    "\n",
    "    return augment\n",
    "\n",
    "    \n",
    "def show(image: np.ndarray) -> None:\n",
    "    plt.figure(figsize=(9, 6))\n",
    "    plt.imshow(image)\n",
    "    plt.axis(\"off\")\n",
    "    plt.show()"
   ]
  },
  {
   "cell_type": "code",
   "execution_count": 4,
   "id": "b1c7e0b5",
   "metadata": {
    "execution": {
     "iopub.execute_input": "2021-10-10T23:23:46.156985Z",
     "iopub.status.busy": "2021-10-10T23:23:46.156123Z",
     "iopub.status.idle": "2021-10-10T23:23:46.159588Z",
     "shell.execute_reply": "2021-10-10T23:23:46.159181Z",
     "shell.execute_reply.started": "2021-10-10T23:14:02.686327Z"
    },
    "papermill": {
     "duration": 0.062876,
     "end_time": "2021-10-10T23:23:46.159699",
     "exception": false,
     "start_time": "2021-10-10T23:23:46.096823",
     "status": "completed"
    },
    "tags": []
   },
   "outputs": [],
   "source": [
    "TRANSFORM = transforms.Compose([transforms.ToTensor(), \n",
    "                                transforms.Normalize([0.485, 0.456, 0.406],\n",
    "                                                     [0.229, 0.224, 0.225]),\n",
    "                               ])\n",
    "DEVICE = torch.device(\"cuda\" if torch.cuda.is_available() else \"cpu\")\n",
    "SEED = 0\n",
    "MODEL_NAME = \"densenet169\"\n",
    "NUM_FEATURES = 1664"
   ]
  },
  {
   "cell_type": "markdown",
   "id": "0d1bdb4a",
   "metadata": {
    "papermill": {
     "duration": 0.011358,
     "end_time": "2021-10-10T23:23:46.183002",
     "exception": false,
     "start_time": "2021-10-10T23:23:46.171644",
     "status": "completed"
    },
    "tags": []
   },
   "source": [
    "## Dataset Template"
   ]
  },
  {
   "cell_type": "code",
   "execution_count": 5,
   "id": "1bcf6f31",
   "metadata": {
    "execution": {
     "iopub.execute_input": "2021-10-10T23:23:46.211897Z",
     "iopub.status.busy": "2021-10-10T23:23:46.211115Z",
     "iopub.status.idle": "2021-10-10T23:23:46.213473Z",
     "shell.execute_reply": "2021-10-10T23:23:46.213058Z",
     "shell.execute_reply.started": "2021-10-10T23:14:02.745653Z"
    },
    "papermill": {
     "duration": 0.019284,
     "end_time": "2021-10-10T23:23:46.213582",
     "exception": false,
     "start_time": "2021-10-10T23:23:46.194298",
     "status": "completed"
    },
    "tags": []
   },
   "outputs": [],
   "source": [
    "class DS(Dataset):\n",
    "    def __init__(self, images=None, transform=None):\n",
    "        self.images    = images\n",
    "        self.transform = transform\n",
    "        \n",
    "    def __len__(self):\n",
    "        return self.images.shape[0]\n",
    "    \n",
    "    def __getitem__(self, idx):\n",
    "        return self.transform(self.images[idx])"
   ]
  },
  {
   "cell_type": "markdown",
   "id": "6c1a6899",
   "metadata": {
    "papermill": {
     "duration": 0.011059,
     "end_time": "2021-10-10T23:23:46.237283",
     "exception": false,
     "start_time": "2021-10-10T23:23:46.226224",
     "status": "completed"
    },
    "tags": []
   },
   "source": [
    "## Build DataLoader"
   ]
  },
  {
   "cell_type": "code",
   "execution_count": 6,
   "id": "62763b66",
   "metadata": {
    "execution": {
     "iopub.execute_input": "2021-10-10T23:23:46.264684Z",
     "iopub.status.busy": "2021-10-10T23:23:46.263816Z",
     "iopub.status.idle": "2021-10-10T23:23:46.265813Z",
     "shell.execute_reply": "2021-10-10T23:23:46.266242Z",
     "shell.execute_reply.started": "2021-10-10T23:14:02.760093Z"
    },
    "papermill": {
     "duration": 0.017631,
     "end_time": "2021-10-10T23:23:46.266362",
     "exception": false,
     "start_time": "2021-10-10T23:23:46.248731",
     "status": "completed"
    },
    "tags": []
   },
   "outputs": [],
   "source": [
    "def build_dataloader(images: np.ndarray, transform=None):    \n",
    "    data_setup = DS(images=images, transform=transform)\n",
    "    data = DL(data_setup, batch_size=64, shuffle=False)\n",
    "    \n",
    "    return data"
   ]
  },
  {
   "cell_type": "markdown",
   "id": "0e98dfed",
   "metadata": {
    "papermill": {
     "duration": 0.011321,
     "end_time": "2021-10-10T23:23:46.288819",
     "exception": false,
     "start_time": "2021-10-10T23:23:46.277498",
     "status": "completed"
    },
    "tags": []
   },
   "source": [
    "## Build Model"
   ]
  },
  {
   "cell_type": "code",
   "execution_count": 7,
   "id": "052d01c2",
   "metadata": {
    "execution": {
     "iopub.execute_input": "2021-10-10T23:23:46.319270Z",
     "iopub.status.busy": "2021-10-10T23:23:46.314746Z",
     "iopub.status.idle": "2021-10-10T23:23:46.321158Z",
     "shell.execute_reply": "2021-10-10T23:23:46.321564Z",
     "shell.execute_reply.started": "2021-10-10T23:14:02.772286Z"
    },
    "papermill": {
     "duration": 0.021605,
     "end_time": "2021-10-10T23:23:46.321681",
     "exception": false,
     "start_time": "2021-10-10T23:23:46.300076",
     "status": "completed"
    },
    "tags": []
   },
   "outputs": [],
   "source": [
    "def build_model(pretrained=True):\n",
    "    class ImageModel(nn.Module):\n",
    "        def __init__(self, pretrained=False):\n",
    "            super(ImageModel, self).__init__()\n",
    "\n",
    "            self.features = models.densenet169(pretrained=pretrained, progress=True)\n",
    "            if pretrained:\n",
    "                self.freeze()\n",
    "            self.features = nn.Sequential(*[*self.features.children()][:-1])\n",
    "            self.features.add_module(\"Adaptive Average Pool\", nn.AdaptiveAvgPool2d(output_size=(1, 1)))\n",
    "            self.features.add_module(\"Flatten\", nn.Flatten())\n",
    "        \n",
    "        def freeze(self):\n",
    "            for params in self.parameters():\n",
    "                params.requires_grad = False\n",
    "\n",
    "        def forward(self, x):\n",
    "            return self.features(x)\n",
    "\n",
    "    model = ImageModel(pretrained=pretrained)\n",
    "    return model"
   ]
  },
  {
   "cell_type": "markdown",
   "id": "e9ba14f4",
   "metadata": {
    "papermill": {
     "duration": 0.011429,
     "end_time": "2021-10-10T23:23:46.344679",
     "exception": false,
     "start_time": "2021-10-10T23:23:46.333250",
     "status": "completed"
    },
    "tags": []
   },
   "source": [
    "## Acquire Features Helper"
   ]
  },
  {
   "cell_type": "code",
   "execution_count": 8,
   "id": "4627c870",
   "metadata": {
    "execution": {
     "iopub.execute_input": "2021-10-10T23:23:46.373680Z",
     "iopub.status.busy": "2021-10-10T23:23:46.372914Z",
     "iopub.status.idle": "2021-10-10T23:23:46.375408Z",
     "shell.execute_reply": "2021-10-10T23:23:46.374829Z",
     "shell.execute_reply.started": "2021-10-10T23:14:02.787184Z"
    },
    "papermill": {
     "duration": 0.019584,
     "end_time": "2021-10-10T23:23:46.375547",
     "exception": false,
     "start_time": "2021-10-10T23:23:46.355963",
     "status": "completed"
    },
    "tags": []
   },
   "outputs": [],
   "source": [
    "def get_features(model=None, dataloader=None, num_features=None):\n",
    "    model.to(DEVICE)\n",
    "    model.eval()\n",
    "\n",
    "    y_pred = torch.zeros(1, num_features).to(DEVICE)\n",
    "    for X in dataloader:\n",
    "        X = X.to(DEVICE)\n",
    "        with torch.no_grad():\n",
    "            output = model(X)\n",
    "        y_pred = torch.cat((y_pred, output.view(-1, num_features)), dim=0)\n",
    "    \n",
    "    return y_pred[1:].detach().cpu().numpy()"
   ]
  },
  {
   "cell_type": "markdown",
   "id": "8b33166b",
   "metadata": {
    "papermill": {
     "duration": 0.01122,
     "end_time": "2021-10-10T23:23:46.398191",
     "exception": false,
     "start_time": "2021-10-10T23:23:46.386971",
     "status": "completed"
    },
    "tags": []
   },
   "source": [
    "## Obtain and Save Features"
   ]
  },
  {
   "cell_type": "code",
   "execution_count": 9,
   "id": "35d41259",
   "metadata": {
    "execution": {
     "iopub.execute_input": "2021-10-10T23:23:46.428370Z",
     "iopub.status.busy": "2021-10-10T23:23:46.427696Z",
     "iopub.status.idle": "2021-10-10T23:23:46.430936Z",
     "shell.execute_reply": "2021-10-10T23:23:46.430533Z",
     "shell.execute_reply.started": "2021-10-10T23:21:17.750957Z"
    },
    "papermill": {
     "duration": 0.020766,
     "end_time": "2021-10-10T23:23:46.431083",
     "exception": false,
     "start_time": "2021-10-10T23:23:46.410317",
     "status": "completed"
    },
    "tags": []
   },
   "outputs": [],
   "source": [
    "def save_features():\n",
    "    images = np.load(\"../input/petfinder-pretrained-images-ccropped/Images_224x224.npy\")\n",
    "    \n",
    "    r.seed(SEED)\n",
    "    seeds = [r.randint(0, 99) for _ in range(20)]\n",
    "    \n",
    "    breaker()\n",
    "    for seed in seeds:\n",
    "        augment = get_augment(seed)\n",
    "        images = augment(images=images)\n",
    "        dataloader = build_dataloader(images=images, transform=TRANSFORM)\n",
    "\n",
    "        start_time = time()\n",
    "        model = build_model(pretrained=True)\n",
    "        features = get_features(model, dataloader, num_features=NUM_FEATURES)\n",
    "        np.save(\"./{}_features_seed_{}.npy\".format(MODEL_NAME, seed), features)\n",
    "        print(\"Seed {} -> {:.2f} minutes\".format(seed, (time()-start_time)/60))\n",
    "\n",
    "    breaker()"
   ]
  },
  {
   "cell_type": "code",
   "execution_count": 10,
   "id": "b71fc4d0",
   "metadata": {
    "execution": {
     "iopub.execute_input": "2021-10-10T23:23:46.457845Z",
     "iopub.status.busy": "2021-10-10T23:23:46.457330Z",
     "iopub.status.idle": "2021-10-10T23:35:36.567012Z",
     "shell.execute_reply": "2021-10-10T23:35:36.567651Z",
     "shell.execute_reply.started": "2021-10-10T23:21:17.975422Z"
    },
    "papermill": {
     "duration": 710.125401,
     "end_time": "2021-10-10T23:35:36.567872",
     "exception": false,
     "start_time": "2021-10-10T23:23:46.442471",
     "status": "completed"
    },
    "tags": []
   },
   "outputs": [
    {
     "name": "stdout",
     "output_type": "stream",
     "text": [
      "\n",
      "**************************************************\n",
      "\n"
     ]
    },
    {
     "name": "stderr",
     "output_type": "stream",
     "text": [
      "Downloading: \"https://download.pytorch.org/models/densenet169-b2777c0a.pth\" to /root/.cache/torch/hub/checkpoints/densenet169-b2777c0a.pth\n"
     ]
    },
    {
     "data": {
      "application/vnd.jupyter.widget-view+json": {
       "model_id": "ed8ebc9e06214f3097621afbeea8a510",
       "version_major": 2,
       "version_minor": 0
      },
      "text/plain": [
       "  0%|          | 0.00/54.7M [00:00<?, ?B/s]"
      ]
     },
     "metadata": {},
     "output_type": "display_data"
    },
    {
     "name": "stdout",
     "output_type": "stream",
     "text": [
      "Seed 49 -> 0.49 minutes\n",
      "Seed 97 -> 0.35 minutes\n",
      "Seed 53 -> 0.35 minutes\n",
      "Seed 5 -> 0.35 minutes\n",
      "Seed 33 -> 0.35 minutes\n",
      "Seed 65 -> 0.35 minutes\n",
      "Seed 62 -> 0.34 minutes\n",
      "Seed 51 -> 0.35 minutes\n",
      "Seed 38 -> 0.35 minutes\n",
      "Seed 61 -> 0.35 minutes\n",
      "Seed 45 -> 0.35 minutes\n",
      "Seed 74 -> 0.35 minutes\n",
      "Seed 27 -> 0.34 minutes\n",
      "Seed 64 -> 0.34 minutes\n",
      "Seed 17 -> 0.35 minutes\n",
      "Seed 36 -> 0.34 minutes\n",
      "Seed 17 -> 0.34 minutes\n",
      "Seed 96 -> 0.34 minutes\n",
      "Seed 12 -> 0.35 minutes\n",
      "Seed 79 -> 0.35 minutes\n",
      "\n",
      "**************************************************\n",
      "\n"
     ]
    }
   ],
   "source": [
    "save_features()"
   ]
  },
  {
   "cell_type": "code",
   "execution_count": 11,
   "id": "f3aaf139",
   "metadata": {
    "execution": {
     "iopub.execute_input": "2021-10-10T23:35:36.636758Z",
     "iopub.status.busy": "2021-10-10T23:35:36.635899Z",
     "iopub.status.idle": "2021-10-10T23:35:36.640168Z",
     "shell.execute_reply": "2021-10-10T23:35:36.637458Z",
     "shell.execute_reply.started": "2021-10-10T23:14:02.821098Z"
    },
    "papermill": {
     "duration": 0.04437,
     "end_time": "2021-10-10T23:35:36.640474",
     "exception": false,
     "start_time": "2021-10-10T23:35:36.596104",
     "status": "completed"
    },
    "tags": []
   },
   "outputs": [
    {
     "name": "stdout",
     "output_type": "stream",
     "text": [
      "\n",
      "**************************************************\n",
      "\n",
      "Notebook Run Time : 11.94 minutes\n",
      "\n",
      "**************************************************\n",
      "\n"
     ]
    }
   ],
   "source": [
    "breaker()\n",
    "print(\"Notebook Run Time : {:.2f} minutes\".format((time()-notebook_start_time)/60))\n",
    "breaker()"
   ]
  }
 ],
 "metadata": {
  "kernelspec": {
   "display_name": "Python 3",
   "language": "python",
   "name": "python3"
  },
  "language_info": {
   "codemirror_mode": {
    "name": "ipython",
    "version": 3
   },
   "file_extension": ".py",
   "mimetype": "text/x-python",
   "name": "python",
   "nbconvert_exporter": "python",
   "pygments_lexer": "ipython3",
   "version": "3.7.10"
  },
  "papermill": {
   "default_parameters": {},
   "duration": 725.972845,
   "end_time": "2021-10-10T23:35:38.747713",
   "environment_variables": {},
   "exception": null,
   "input_path": "__notebook__.ipynb",
   "output_path": "__notebook__.ipynb",
   "parameters": {},
   "start_time": "2021-10-10T23:23:32.774868",
   "version": "2.3.3"
  },
  "widgets": {
   "application/vnd.jupyter.widget-state+json": {
    "state": {
     "20fdaef4fd064f1b9c5341024dac3eac": {
      "model_module": "@jupyter-widgets/base",
      "model_module_version": "1.2.0",
      "model_name": "LayoutModel",
      "state": {
       "_model_module": "@jupyter-widgets/base",
       "_model_module_version": "1.2.0",
       "_model_name": "LayoutModel",
       "_view_count": null,
       "_view_module": "@jupyter-widgets/base",
       "_view_module_version": "1.2.0",
       "_view_name": "LayoutView",
       "align_content": null,
       "align_items": null,
       "align_self": null,
       "border": null,
       "bottom": null,
       "display": null,
       "flex": null,
       "flex_flow": null,
       "grid_area": null,
       "grid_auto_columns": null,
       "grid_auto_flow": null,
       "grid_auto_rows": null,
       "grid_column": null,
       "grid_gap": null,
       "grid_row": null,
       "grid_template_areas": null,
       "grid_template_columns": null,
       "grid_template_rows": null,
       "height": null,
       "justify_content": null,
       "justify_items": null,
       "left": null,
       "margin": null,
       "max_height": null,
       "max_width": null,
       "min_height": null,
       "min_width": null,
       "object_fit": null,
       "object_position": null,
       "order": null,
       "overflow": null,
       "overflow_x": null,
       "overflow_y": null,
       "padding": null,
       "right": null,
       "top": null,
       "visibility": null,
       "width": null
      }
     },
     "28c2dbdc2a8e421b9993dea1a8dd430e": {
      "model_module": "@jupyter-widgets/base",
      "model_module_version": "1.2.0",
      "model_name": "LayoutModel",
      "state": {
       "_model_module": "@jupyter-widgets/base",
       "_model_module_version": "1.2.0",
       "_model_name": "LayoutModel",
       "_view_count": null,
       "_view_module": "@jupyter-widgets/base",
       "_view_module_version": "1.2.0",
       "_view_name": "LayoutView",
       "align_content": null,
       "align_items": null,
       "align_self": null,
       "border": null,
       "bottom": null,
       "display": null,
       "flex": null,
       "flex_flow": null,
       "grid_area": null,
       "grid_auto_columns": null,
       "grid_auto_flow": null,
       "grid_auto_rows": null,
       "grid_column": null,
       "grid_gap": null,
       "grid_row": null,
       "grid_template_areas": null,
       "grid_template_columns": null,
       "grid_template_rows": null,
       "height": null,
       "justify_content": null,
       "justify_items": null,
       "left": null,
       "margin": null,
       "max_height": null,
       "max_width": null,
       "min_height": null,
       "min_width": null,
       "object_fit": null,
       "object_position": null,
       "order": null,
       "overflow": null,
       "overflow_x": null,
       "overflow_y": null,
       "padding": null,
       "right": null,
       "top": null,
       "visibility": null,
       "width": null
      }
     },
     "324571c3c7c041789c2e5854a4ec5b19": {
      "model_module": "@jupyter-widgets/base",
      "model_module_version": "1.2.0",
      "model_name": "LayoutModel",
      "state": {
       "_model_module": "@jupyter-widgets/base",
       "_model_module_version": "1.2.0",
       "_model_name": "LayoutModel",
       "_view_count": null,
       "_view_module": "@jupyter-widgets/base",
       "_view_module_version": "1.2.0",
       "_view_name": "LayoutView",
       "align_content": null,
       "align_items": null,
       "align_self": null,
       "border": null,
       "bottom": null,
       "display": null,
       "flex": null,
       "flex_flow": null,
       "grid_area": null,
       "grid_auto_columns": null,
       "grid_auto_flow": null,
       "grid_auto_rows": null,
       "grid_column": null,
       "grid_gap": null,
       "grid_row": null,
       "grid_template_areas": null,
       "grid_template_columns": null,
       "grid_template_rows": null,
       "height": null,
       "justify_content": null,
       "justify_items": null,
       "left": null,
       "margin": null,
       "max_height": null,
       "max_width": null,
       "min_height": null,
       "min_width": null,
       "object_fit": null,
       "object_position": null,
       "order": null,
       "overflow": null,
       "overflow_x": null,
       "overflow_y": null,
       "padding": null,
       "right": null,
       "top": null,
       "visibility": null,
       "width": null
      }
     },
     "3d5de912e6ff4fd1866e5efa47f4dd6d": {
      "model_module": "@jupyter-widgets/controls",
      "model_module_version": "1.5.0",
      "model_name": "FloatProgressModel",
      "state": {
       "_dom_classes": [],
       "_model_module": "@jupyter-widgets/controls",
       "_model_module_version": "1.5.0",
       "_model_name": "FloatProgressModel",
       "_view_count": null,
       "_view_module": "@jupyter-widgets/controls",
       "_view_module_version": "1.5.0",
       "_view_name": "ProgressView",
       "bar_style": "success",
       "description": "",
       "description_tooltip": null,
       "layout": "IPY_MODEL_324571c3c7c041789c2e5854a4ec5b19",
       "max": 57365526.0,
       "min": 0.0,
       "orientation": "horizontal",
       "style": "IPY_MODEL_c1ca80ceb80d4cb9b47ae8bf873d4af8",
       "value": 57365526.0
      }
     },
     "666e8636e82c45fc80b9dde27f8dfb1b": {
      "model_module": "@jupyter-widgets/controls",
      "model_module_version": "1.5.0",
      "model_name": "DescriptionStyleModel",
      "state": {
       "_model_module": "@jupyter-widgets/controls",
       "_model_module_version": "1.5.0",
       "_model_name": "DescriptionStyleModel",
       "_view_count": null,
       "_view_module": "@jupyter-widgets/base",
       "_view_module_version": "1.2.0",
       "_view_name": "StyleView",
       "description_width": ""
      }
     },
     "899b097aa84144e6a3d05cbe0b729cef": {
      "model_module": "@jupyter-widgets/controls",
      "model_module_version": "1.5.0",
      "model_name": "HTMLModel",
      "state": {
       "_dom_classes": [],
       "_model_module": "@jupyter-widgets/controls",
       "_model_module_version": "1.5.0",
       "_model_name": "HTMLModel",
       "_view_count": null,
       "_view_module": "@jupyter-widgets/controls",
       "_view_module_version": "1.5.0",
       "_view_name": "HTMLView",
       "description": "",
       "description_tooltip": null,
       "layout": "IPY_MODEL_28c2dbdc2a8e421b9993dea1a8dd430e",
       "placeholder": "​",
       "style": "IPY_MODEL_666e8636e82c45fc80b9dde27f8dfb1b",
       "value": "100%"
      }
     },
     "8b5ac43c4cdc448a91b810e18baf333f": {
      "model_module": "@jupyter-widgets/controls",
      "model_module_version": "1.5.0",
      "model_name": "DescriptionStyleModel",
      "state": {
       "_model_module": "@jupyter-widgets/controls",
       "_model_module_version": "1.5.0",
       "_model_name": "DescriptionStyleModel",
       "_view_count": null,
       "_view_module": "@jupyter-widgets/base",
       "_view_module_version": "1.2.0",
       "_view_name": "StyleView",
       "description_width": ""
      }
     },
     "b567a37c0463448aa07e36e855985f07": {
      "model_module": "@jupyter-widgets/controls",
      "model_module_version": "1.5.0",
      "model_name": "HTMLModel",
      "state": {
       "_dom_classes": [],
       "_model_module": "@jupyter-widgets/controls",
       "_model_module_version": "1.5.0",
       "_model_name": "HTMLModel",
       "_view_count": null,
       "_view_module": "@jupyter-widgets/controls",
       "_view_module_version": "1.5.0",
       "_view_name": "HTMLView",
       "description": "",
       "description_tooltip": null,
       "layout": "IPY_MODEL_20fdaef4fd064f1b9c5341024dac3eac",
       "placeholder": "​",
       "style": "IPY_MODEL_8b5ac43c4cdc448a91b810e18baf333f",
       "value": " 54.7M/54.7M [00:03&lt;00:00, 22.9MB/s]"
      }
     },
     "c1ca80ceb80d4cb9b47ae8bf873d4af8": {
      "model_module": "@jupyter-widgets/controls",
      "model_module_version": "1.5.0",
      "model_name": "ProgressStyleModel",
      "state": {
       "_model_module": "@jupyter-widgets/controls",
       "_model_module_version": "1.5.0",
       "_model_name": "ProgressStyleModel",
       "_view_count": null,
       "_view_module": "@jupyter-widgets/base",
       "_view_module_version": "1.2.0",
       "_view_name": "StyleView",
       "bar_color": null,
       "description_width": ""
      }
     },
     "da45f8127d9945f399f51c08f914d3a7": {
      "model_module": "@jupyter-widgets/base",
      "model_module_version": "1.2.0",
      "model_name": "LayoutModel",
      "state": {
       "_model_module": "@jupyter-widgets/base",
       "_model_module_version": "1.2.0",
       "_model_name": "LayoutModel",
       "_view_count": null,
       "_view_module": "@jupyter-widgets/base",
       "_view_module_version": "1.2.0",
       "_view_name": "LayoutView",
       "align_content": null,
       "align_items": null,
       "align_self": null,
       "border": null,
       "bottom": null,
       "display": null,
       "flex": null,
       "flex_flow": null,
       "grid_area": null,
       "grid_auto_columns": null,
       "grid_auto_flow": null,
       "grid_auto_rows": null,
       "grid_column": null,
       "grid_gap": null,
       "grid_row": null,
       "grid_template_areas": null,
       "grid_template_columns": null,
       "grid_template_rows": null,
       "height": null,
       "justify_content": null,
       "justify_items": null,
       "left": null,
       "margin": null,
       "max_height": null,
       "max_width": null,
       "min_height": null,
       "min_width": null,
       "object_fit": null,
       "object_position": null,
       "order": null,
       "overflow": null,
       "overflow_x": null,
       "overflow_y": null,
       "padding": null,
       "right": null,
       "top": null,
       "visibility": null,
       "width": null
      }
     },
     "ed8ebc9e06214f3097621afbeea8a510": {
      "model_module": "@jupyter-widgets/controls",
      "model_module_version": "1.5.0",
      "model_name": "HBoxModel",
      "state": {
       "_dom_classes": [],
       "_model_module": "@jupyter-widgets/controls",
       "_model_module_version": "1.5.0",
       "_model_name": "HBoxModel",
       "_view_count": null,
       "_view_module": "@jupyter-widgets/controls",
       "_view_module_version": "1.5.0",
       "_view_name": "HBoxView",
       "box_style": "",
       "children": [
        "IPY_MODEL_899b097aa84144e6a3d05cbe0b729cef",
        "IPY_MODEL_3d5de912e6ff4fd1866e5efa47f4dd6d",
        "IPY_MODEL_b567a37c0463448aa07e36e855985f07"
       ],
       "layout": "IPY_MODEL_da45f8127d9945f399f51c08f914d3a7"
      }
     }
    },
    "version_major": 2,
    "version_minor": 0
   }
  }
 },
 "nbformat": 4,
 "nbformat_minor": 5
}
