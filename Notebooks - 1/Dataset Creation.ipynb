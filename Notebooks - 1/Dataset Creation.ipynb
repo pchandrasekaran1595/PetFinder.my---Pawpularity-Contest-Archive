{
 "cells": [
  {
   "cell_type": "code",
   "execution_count": 1,
   "source": [
    "import os\r\n",
    "import cv2\r\n",
    "import numpy as np\r\n",
    "import pandas as pd\r\n",
    "\r\n",
    "\r\n",
    "def get_images(names: str, size=224, path=\"../input/petfinder-pawpularity-score/train\") -> np.ndarray:\r\n",
    "    images = np.zeros((len(names), 224, 224, 3)).astype(\"uint8\")\r\n",
    "    i = 0\r\n",
    "    for name in names:\r\n",
    "        image = cv2.imread(os.path.join(path, name + \".jpg\"), cv2.IMREAD_COLOR)\r\n",
    "        image = cv2.cvtColor(src=image, code=cv2.COLOR_BGR2RGB)\r\n",
    "        image = cv2.resize(src=image, dsize=(size, size), interpolation=cv2.INTER_AREA)\r\n",
    "        images[i] = image\r\n",
    "        i += 1\r\n",
    "    return images\r\n",
    "        \r\n",
    "df = pd.read_csv(\"../input/petfinder-pawpularity-score/train.csv\")\r\n",
    "\r\n",
    "images = get_images(df[\"Id\"])\r\n",
    "np.save(\"./Images.npy\", images)"
   ],
   "outputs": [],
   "metadata": {
    "_cell_guid": "b1076dfc-b9ad-4769-8c92-a6c4dae69d19",
    "_uuid": "8f2839f25d086af736a60e9eeb907d3b93b6e0e5",
    "execution": {
     "iopub.execute_input": "2021-09-30T22:47:00.428621Z",
     "iopub.status.busy": "2021-09-30T22:47:00.427590Z",
     "iopub.status.idle": "2021-09-30T22:50:28.789212Z",
     "shell.execute_reply": "2021-09-30T22:50:28.788454Z",
     "shell.execute_reply.started": "2021-09-30T22:46:15.654280Z"
    },
    "papermill": {
     "duration": 208.368308,
     "end_time": "2021-09-30T22:50:28.789410",
     "exception": false,
     "start_time": "2021-09-30T22:47:00.421102",
     "status": "completed"
    },
    "tags": []
   }
  }
 ],
 "metadata": {
  "kernelspec": {
   "display_name": "Python 3",
   "language": "python",
   "name": "python3"
  },
  "language_info": {
   "codemirror_mode": {
    "name": "ipython",
    "version": 3
   },
   "file_extension": ".py",
   "mimetype": "text/x-python",
   "name": "python",
   "nbconvert_exporter": "python",
   "pygments_lexer": "ipython3",
   "version": "3.7.10"
  },
  "papermill": {
   "default_parameters": {},
   "duration": 215.541662,
   "end_time": "2021-09-30T22:50:29.307183",
   "environment_variables": {},
   "exception": null,
   "input_path": "__notebook__.ipynb",
   "output_path": "__notebook__.ipynb",
   "parameters": {},
   "start_time": "2021-09-30T22:46:53.765521",
   "version": "2.3.3"
  }
 },
 "nbformat": 4,
 "nbformat_minor": 5
}