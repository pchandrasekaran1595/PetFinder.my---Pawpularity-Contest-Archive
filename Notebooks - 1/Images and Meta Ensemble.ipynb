{
 "cells": [
  {
   "cell_type": "markdown",
   "id": "7f4ed2cf",
   "metadata": {
    "_cell_guid": "b1076dfc-b9ad-4769-8c92-a6c4dae69d19",
    "_uuid": "8f2839f25d086af736a60e9eeb907d3b93b6e0e5",
    "papermill": {
     "duration": 0.013465,
     "end_time": "2021-10-04T22:42:46.900858",
     "exception": false,
     "start_time": "2021-10-04T22:42:46.887393",
     "status": "completed"
    },
    "tags": []
   },
   "source": [
    "## Library Imports"
   ]
  },
  {
   "cell_type": "code",
   "execution_count": 1,
   "id": "c6502854",
   "metadata": {
    "execution": {
     "iopub.execute_input": "2021-10-04T22:42:46.931356Z",
     "iopub.status.busy": "2021-10-04T22:42:46.929795Z",
     "iopub.status.idle": "2021-10-04T22:42:47.010119Z",
     "shell.execute_reply": "2021-10-04T22:42:47.010595Z",
     "shell.execute_reply.started": "2021-10-04T22:35:22.979970Z"
    },
    "papermill": {
     "duration": 0.096558,
     "end_time": "2021-10-04T22:42:47.010957",
     "exception": false,
     "start_time": "2021-10-04T22:42:46.914399",
     "status": "completed"
    },
    "tags": []
   },
   "outputs": [],
   "source": [
    "from time import time\n",
    "notebook_start_time = time()"
   ]
  },
  {
   "cell_type": "code",
   "execution_count": 2,
   "id": "07740537",
   "metadata": {
    "execution": {
     "iopub.execute_input": "2021-10-04T22:42:47.040427Z",
     "iopub.status.busy": "2021-10-04T22:42:47.039783Z",
     "iopub.status.idle": "2021-10-04T22:42:52.589394Z",
     "shell.execute_reply": "2021-10-04T22:42:52.590111Z",
     "shell.execute_reply.started": "2021-10-04T22:41:22.175483Z"
    },
    "papermill": {
     "duration": 5.567048,
     "end_time": "2021-10-04T22:42:52.590359",
     "exception": false,
     "start_time": "2021-10-04T22:42:47.023311",
     "status": "completed"
    },
    "tags": []
   },
   "outputs": [],
   "source": [
    "import os\n",
    "import re\n",
    "import cv2\n",
    "import pickle\n",
    "import numpy as np\n",
    "import pandas as pd\n",
    "import matplotlib.pyplot as plt\n",
    "\n",
    "import torch\n",
    "from torch import nn, optim\n",
    "from torch.utils.data import Dataset\n",
    "from torch.utils.data import DataLoader as DL\n",
    "from torch.nn.utils import weight_norm as WN\n",
    "from torchvision import models, transforms\n",
    "\n",
    "from xgboost import XGBRegressor\n",
    "from sklearn.model_selection import KFold\n",
    "from sklearn.metrics import mean_squared_error\n",
    "from sklearn.preprocessing import StandardScaler"
   ]
  },
  {
   "cell_type": "markdown",
   "id": "90036d30",
   "metadata": {
    "papermill": {
     "duration": 0.018785,
     "end_time": "2021-10-04T22:42:52.629345",
     "exception": false,
     "start_time": "2021-10-04T22:42:52.610560",
     "status": "completed"
    },
    "tags": []
   },
   "source": [
    "## Constants and Utilities"
   ]
  },
  {
   "cell_type": "code",
   "execution_count": 3,
   "id": "5caa6c64",
   "metadata": {
    "execution": {
     "iopub.execute_input": "2021-10-04T22:42:52.718951Z",
     "iopub.status.busy": "2021-10-04T22:42:52.670559Z",
     "iopub.status.idle": "2021-10-04T22:42:52.723844Z",
     "shell.execute_reply": "2021-10-04T22:42:52.724444Z",
     "shell.execute_reply.started": "2021-10-04T22:35:28.610705Z"
    },
    "papermill": {
     "duration": 0.076843,
     "end_time": "2021-10-04T22:42:52.724641",
     "exception": false,
     "start_time": "2021-10-04T22:42:52.647798",
     "status": "completed"
    },
    "tags": []
   },
   "outputs": [],
   "source": [
    "SEED = 0\n",
    "DEVICE = torch.device(\"cuda\" if torch.cuda.is_available() else \"cpu\")\n",
    "PATH = \"../input/petfinder-pawpularity-score\"\n",
    "\n",
    "# Pretrained Data Transforms\n",
    "TRANSFORM_PRE = transforms.Compose([transforms.ToTensor(), \n",
    "                                    transforms.Normalize([0.485, 0.456, 0.406],\n",
    "                                                         [0.229, 0.224, 0.225]),\n",
    "                                   ])\n",
    "\n",
    "# Non-pretrained Data Transforms\n",
    "TRANSFORM_NOPRE = transforms.Compose([transforms.ToTensor(),])\n",
    "\n",
    "sc_X = StandardScaler()\n",
    "sc_y = StandardScaler()"
   ]
  },
  {
   "cell_type": "code",
   "execution_count": 4,
   "id": "6a37039b",
   "metadata": {
    "execution": {
     "iopub.execute_input": "2021-10-04T22:42:52.769278Z",
     "iopub.status.busy": "2021-10-04T22:42:52.768441Z",
     "iopub.status.idle": "2021-10-04T22:42:52.777837Z",
     "shell.execute_reply": "2021-10-04T22:42:52.778249Z",
     "shell.execute_reply.started": "2021-10-04T22:35:33.047198Z"
    },
    "papermill": {
     "duration": 0.035974,
     "end_time": "2021-10-04T22:42:52.778374",
     "exception": false,
     "start_time": "2021-10-04T22:42:52.742400",
     "status": "completed"
    },
    "tags": []
   },
   "outputs": [],
   "source": [
    "def breaker(num=50, char=\"*\") -> None:\n",
    "    print(\"\\n\" + num*char + \"\\n\")\n",
    "\n",
    "\n",
    "def head(x, no_of_ele=5) -> None:\n",
    "    print(x[:no_of_ele])\n",
    "\n",
    "\n",
    "def get_filenames_and_metadata_and_targets(path: str) -> tuple:\n",
    "    df = pd.read_csv(os.path.join(path, \"train.csv\"), engine=\"python\")\n",
    "    filenames = df.iloc[:, 0].copy().values\n",
    "    metadata  = df.iloc[:, 1:-1].copy().values\n",
    "    targets   = df.iloc[:, -1].copy().values\n",
    "    return filenames, metadata, targets\n",
    "\n",
    "\n",
    "def get_filenames_and_metadata(path: str) -> np.ndarray:\n",
    "    df = pd.read_csv(os.path.join(path, \"test.csv\"), engine=\"python\")\n",
    "    filenames  = df[\"Id\"].copy().values\n",
    "    metadata   = df.iloc[:, 1:].copy().values\n",
    "    return filenames, metadata\n",
    "\n",
    "\n",
    "def get_image(path: str, name: str, size: int) -> np.ndarray:\n",
    "    image = cv2.imread(os.path.join(path, name + \".jpg\"), cv2.IMREAD_COLOR)\n",
    "    image = cv2.cvtColor(src=image, code=cv2.COLOR_BGR2RGB)\n",
    "    image = cv2.resize(src=image, dsize=(size, size), interpolation=cv2.INTER_AREA)\n",
    "    return image\n",
    "\n",
    "\n",
    "def setup_metadata_transform(filenames: np.ndarray, metadata: np.ndarray, seed: int) -> None:\n",
    "    breaker()\n",
    "    print(\"Setting up Metadata Data Transform ...\")\n",
    "    \n",
    "    for tr_idx, va_idx in KFold(n_splits=5, shuffle=True, random_state=seed).split(filenames):\n",
    "        break\n",
    "    \n",
    "    tr_metadata = metadata[tr_idx]\n",
    "    tr_metadata = sc_X.fit_transform(tr_metadata)\n",
    "\n",
    "    \n",
    "def setup_prediction_transform(filenames: np.ndarray, targets: np.ndarray, seed: int) -> None:\n",
    "    breaker()\n",
    "    print(\"Setting up Prediction Data Transform ...\")\n",
    "    \n",
    "    for tr_idx, va_idx in KFold(n_splits=5, shuffle=True, random_state=seed).split(filenames):\n",
    "        break\n",
    "    \n",
    "    tr_targets = targets[tr_idx]\n",
    "    tr_targets = tr_targets.reshape(-1, 1)\n",
    "    tr_targets = sc_y.fit_transform(tr_targets)\n",
    "\n",
    "\n",
    "def make_submission(path: str, y_pred: np.ndarray) -> None:\n",
    "    submission = pd.read_csv(os.path.join(path, \"sample_submission.csv\"), engine=\"python\")\n",
    "    submission[\"Pawpularity\"] = y_pred\n",
    "    submission.to_csv(\"./submission.csv\", index=False)"
   ]
  },
  {
   "cell_type": "markdown",
   "id": "9fafcdbf",
   "metadata": {
    "papermill": {
     "duration": 0.011479,
     "end_time": "2021-10-04T22:42:52.801227",
     "exception": false,
     "start_time": "2021-10-04T22:42:52.789748",
     "status": "completed"
    },
    "tags": []
   },
   "source": [
    "## Dataset Template"
   ]
  },
  {
   "cell_type": "code",
   "execution_count": 5,
   "id": "fab20548",
   "metadata": {
    "execution": {
     "iopub.execute_input": "2021-10-04T22:42:52.831234Z",
     "iopub.status.busy": "2021-10-04T22:42:52.830466Z",
     "iopub.status.idle": "2021-10-04T22:42:52.832481Z",
     "shell.execute_reply": "2021-10-04T22:42:52.832886Z",
     "shell.execute_reply.started": "2021-10-04T22:35:35.785671Z"
    },
    "papermill": {
     "duration": 0.018878,
     "end_time": "2021-10-04T22:42:52.832999",
     "exception": false,
     "start_time": "2021-10-04T22:42:52.814121",
     "status": "completed"
    },
    "tags": []
   },
   "outputs": [],
   "source": [
    "class DS(Dataset):\n",
    "    def __init__(self, base_path=None, filenames=None, image_size=None, transform=None):\n",
    "        self.base_path = base_path\n",
    "        self.filenames = filenames\n",
    "        self.image_size = image_size\n",
    "        self.transform = transform\n",
    "    \n",
    "    def __len__(self):\n",
    "        return self.filenames.shape[0]\n",
    "    \n",
    "    def __getitem__(self, idx):\n",
    "        image = get_image(self.base_path, self.filenames[idx], self.image_size)\n",
    "        return self.transform(image)"
   ]
  },
  {
   "cell_type": "markdown",
   "id": "7d01983d",
   "metadata": {
    "papermill": {
     "duration": 0.011499,
     "end_time": "2021-10-04T22:42:52.855911",
     "exception": false,
     "start_time": "2021-10-04T22:42:52.844412",
     "status": "completed"
    },
    "tags": []
   },
   "source": [
    "## Build Vision Model"
   ]
  },
  {
   "cell_type": "code",
   "execution_count": 6,
   "id": "2b5baa1a",
   "metadata": {
    "execution": {
     "iopub.execute_input": "2021-10-04T22:42:52.901694Z",
     "iopub.status.busy": "2021-10-04T22:42:52.891251Z",
     "iopub.status.idle": "2021-10-04T22:42:52.912805Z",
     "shell.execute_reply": "2021-10-04T22:42:52.913167Z",
     "shell.execute_reply.started": "2021-10-04T22:36:51.300924Z"
    },
    "papermill": {
     "duration": 0.04602,
     "end_time": "2021-10-04T22:42:52.913298",
     "exception": false,
     "start_time": "2021-10-04T22:42:52.867278",
     "status": "completed"
    },
    "tags": []
   },
   "outputs": [],
   "source": [
    "def build_model(model_name: str, pretrained: bool, HL: list, seed: int):\n",
    "    class ImageModel(nn.Module):\n",
    "        def __init__(self, model_name=None, pretrained=False, HL=None):\n",
    "            super(ImageModel, self).__init__()\n",
    "\n",
    "            if re.match(r\"^resnet$\", model_name, re.IGNORECASE):\n",
    "                self.features = models.resnet50(pretrained=pretrained, progress=True)\n",
    "                if pretrained:\n",
    "                    self.freeze()\n",
    "                self.features = nn.Sequential(*[*self.features.children()][:-1])\n",
    "                self.features.add_module(\"Flatten\", nn.Flatten())\n",
    "\n",
    "                in_features = self.features[-3][2].bn3.num_features\n",
    "\n",
    "\n",
    "            elif re.match(r\"^vgg$\", model_name, re.IGNORECASE):\n",
    "                self.features = models.vgg16_bn(pretrained=pretrained, progress=True)\n",
    "                if pretrained:\n",
    "                    self.freeze()\n",
    "                self.features = nn.Sequential(*[*self.features.children()][:-2])\n",
    "                self.features.add_module(\"Adaptive Average Pool\", nn.AdaptiveAvgPool2d(output_size=(2, 2)))\n",
    "                self.features.add_module(\"Flatten\", nn.Flatten())\n",
    "\n",
    "                in_features = self.features[-3][41].num_features * 2 * 2\n",
    "\n",
    "\n",
    "            elif re.match(r\"^mobilenet$\", model_name, re.IGNORECASE):\n",
    "                self.features = models.mobilenet_v2(pretrained=pretrained, progress=True)\n",
    "                if pretrained:\n",
    "                    self.freeze()\n",
    "                self.features = nn.Sequential(*[*self.features.children()][:-1])\n",
    "                self.features.add_module(\"Adaptive Average Pool\", nn.AdaptiveAvgPool2d(output_size=(1, 1)))\n",
    "                self.features.add_module(\"Flatten\", nn.Flatten())\n",
    "\n",
    "                in_features = self.features[-3][-1][1].num_features\n",
    "\n",
    "\n",
    "            elif re.match(r\"^densenet$\", model_name, re.IGNORECASE):\n",
    "                self.features = models.densenet169(pretrained=pretrained, progress=True)\n",
    "                if pretrained:\n",
    "                    self.freeze()\n",
    "                self.features = nn.Sequential(*[*self.features.children()][:-1])\n",
    "                self.features.add_module(\"Adaptive Average Pool\", nn.AdaptiveAvgPool2d(output_size=(1, 1)))\n",
    "                self.features.add_module(\"Flatten\", nn.Flatten())\n",
    "\n",
    "                in_features = self.features[0].norm5.num_features\n",
    "\n",
    "            self.predictor = nn.Sequential()\n",
    "            if len(HL) == 0:\n",
    "                self.predictor.add_module(\"BN1\", nn.BatchNorm1d(num_features=in_features, eps=1e-5))\n",
    "                self.predictor.add_module(\"FC1\", WN(nn.Linear(in_features=in_features, out_features=1)))\n",
    "            elif len(HL) == 1:\n",
    "                self.predictor.add_module(\"BN1\", nn.BatchNorm1d(num_features=in_features, eps=1e-5))\n",
    "                self.predictor.add_module(\"FC1\", WN(nn.Linear(in_features=in_features, out_features=HL[0])))\n",
    "                self.predictor.add_module(\"AN1\", nn.ReLU())\n",
    "                self.predictor.add_module(\"BN2\", nn.BatchNorm1d(num_features=HL[0], eps=1e-5))\n",
    "                self.predictor.add_module(\"FC2\", WN(nn.Linear(in_features=HL[0], out_features=1)))\n",
    "            elif len(HL) == 2:\n",
    "                self.predictor.add_module(\"BN1\", nn.BatchNorm1d(num_features=in_features, eps=1e-5))\n",
    "                self.predictor.add_module(\"FC1\", WN(nn.Linear(in_features=in_features, out_features=HL[0])))\n",
    "                self.predictor.add_module(\"AN1\", nn.ReLU())\n",
    "                self.predictor.add_module(\"BN2\", nn.BatchNorm1d(num_features=HL[0], eps=1e-5))\n",
    "                self.predictor.add_module(\"FC2\", WN(nn.Linear(in_features=HL[0], out_features=HL[1])))\n",
    "                self.predictor.add_module(\"AN2\", nn.ReLU())\n",
    "                self.predictor.add_module(\"BN3\", nn.BatchNorm1d(num_features=HL[1], eps=1e-5))\n",
    "                self.predictor.add_module(\"FC3\", WN(nn.Linear(in_features=HL[1], out_features=1)))\n",
    "            elif len(HL) == 3:\n",
    "                self.predictor.add_module(\"BN1\", nn.BatchNorm1d(num_features=in_features, eps=1e-5))\n",
    "                self.predictor.add_module(\"FC1\", WN(nn.Linear(in_features=in_features, out_features=HL[0])))\n",
    "                self.predictor.add_module(\"AN1\", nn.ReLU())\n",
    "                self.predictor.add_module(\"BN2\", nn.BatchNorm1d(num_features=HL[0], eps=1e-5))\n",
    "                self.predictor.add_module(\"FC2\", WN(nn.Linear(in_features=HL[0], out_features=HL[1])))\n",
    "                self.predictor.add_module(\"AN2\", nn.ReLU())\n",
    "                self.predictor.add_module(\"BN3\", nn.BatchNorm1d(num_features=HL[1], eps=1e-5))\n",
    "                self.predictor.add_module(\"FC3\", WN(nn.Linear(in_features=HL[1], out_features=HL[2])))\n",
    "                self.predictor.add_module(\"AN3\", nn.ReLU())\n",
    "                self.predictor.add_module(\"BN4\", nn.BatchNorm1d(num_features=HL[2], eps=1e-5))\n",
    "                self.predictor.add_module(\"FC4\", WN(nn.Linear(in_features=HL[2], out_features=1)))\n",
    "\n",
    "        def freeze(self):\n",
    "            for params in self.parameters():\n",
    "                params.requires_grad = False\n",
    "\n",
    "        def get_optimizer(self, lr=1e-3, wd=0):\n",
    "            params = [p for p in self.parameters() if p.requires_grad]\n",
    "            return optim.Adam(params, lr=lr, weight_decay=wd)\n",
    "\n",
    "        def get_plateau_scheduler(self, optimizer=None, patience=5, eps=1e-8):\n",
    "            return optim.lr_scheduler.ReduceLROnPlateau(optimizer=optimizer, patience=patience, eps=eps, verbose=True)\n",
    "\n",
    "        def forward(self, x):\n",
    "            return self.predictor(self.features(x))\n",
    "    \n",
    "    breaker()\n",
    "    print(\"Building Model ...\")\n",
    "    print(\"\\n{} features -> {} -> 1\".format(model_name, HL))\n",
    "    torch.manual_seed(seed)\n",
    "    model = ImageModel(model_name=model_name, pretrained=pretrained, HL=HL)\n",
    "    \n",
    "    return model"
   ]
  },
  {
   "cell_type": "markdown",
   "id": "a249e069",
   "metadata": {
    "papermill": {
     "duration": 0.011644,
     "end_time": "2021-10-04T22:42:52.936405",
     "exception": false,
     "start_time": "2021-10-04T22:42:52.924761",
     "status": "completed"
    },
    "tags": []
   },
   "source": [
    "## Predict Helper"
   ]
  },
  {
   "cell_type": "code",
   "execution_count": 7,
   "id": "b807f69d",
   "metadata": {
    "execution": {
     "iopub.execute_input": "2021-10-04T22:42:52.967017Z",
     "iopub.status.busy": "2021-10-04T22:42:52.966518Z",
     "iopub.status.idle": "2021-10-04T22:42:52.969642Z",
     "shell.execute_reply": "2021-10-04T22:42:52.970048Z",
     "shell.execute_reply.started": "2021-10-04T22:36:52.160617Z"
    },
    "papermill": {
     "duration": 0.021914,
     "end_time": "2021-10-04T22:42:52.970161",
     "exception": false,
     "start_time": "2021-10-04T22:42:52.948247",
     "status": "completed"
    },
    "tags": []
   },
   "outputs": [],
   "source": [
    "def predict_batch(model=None, dataloader=None, mode=\"test\", path=None):\n",
    "    model.load_state_dict(torch.load(path, map_location=DEVICE)[\"model_state_dict\"])\n",
    "    model.to(DEVICE)\n",
    "    model.eval()\n",
    "\n",
    "    y_pred = torch.zeros(1, 1).to(DEVICE)\n",
    "    if re.match(r\"valid\", mode, re.IGNORECASE):\n",
    "        for X, _ in dataloader:\n",
    "            X = X.to(DEVICE)\n",
    "            with torch.no_grad():\n",
    "                output = model(X)\n",
    "            y_pred = torch.cat((y_pred, output.view(-1, 1)), dim=0)\n",
    "    elif re.match(r\"test\", mode, re.IGNORECASE):\n",
    "        for X in dataloader:\n",
    "            X = X.to(DEVICE)\n",
    "            with torch.no_grad():\n",
    "                output = model(X)\n",
    "            y_pred = torch.cat((y_pred, output.view(-1, 1)), dim=0)\n",
    "    \n",
    "    return y_pred[1:].detach().cpu().numpy()"
   ]
  },
  {
   "cell_type": "markdown",
   "id": "a762bf11",
   "metadata": {
    "papermill": {
     "duration": 0.011327,
     "end_time": "2021-10-04T22:42:52.992969",
     "exception": false,
     "start_time": "2021-10-04T22:42:52.981642",
     "status": "completed"
    },
    "tags": []
   },
   "source": [
    "## Image Predictions"
   ]
  },
  {
   "cell_type": "code",
   "execution_count": 8,
   "id": "75012bd3",
   "metadata": {
    "execution": {
     "iopub.execute_input": "2021-10-04T22:42:53.022621Z",
     "iopub.status.busy": "2021-10-04T22:42:53.021948Z",
     "iopub.status.idle": "2021-10-04T22:42:53.025284Z",
     "shell.execute_reply": "2021-10-04T22:42:53.024848Z",
     "shell.execute_reply.started": "2021-10-04T22:36:52.960733Z"
    },
    "papermill": {
     "duration": 0.021017,
     "end_time": "2021-10-04T22:42:53.025384",
     "exception": false,
     "start_time": "2021-10-04T22:42:53.004367",
     "status": "completed"
    },
    "tags": []
   },
   "outputs": [],
   "source": [
    "def image_predictions(filenames):\n",
    "    breaker()\n",
    "    print(\"Building Test DataLoader ...\")\n",
    "    \n",
    "    ts_data_setup = DS(base_path=os.path.join(PATH, \"test\"), \n",
    "                       filenames=filenames,\n",
    "                       image_size=224,\n",
    "                       transform=TRANSFORM_PRE)\n",
    "    ts_data = DL(ts_data_setup, batch_size=64, shuffle=False)\n",
    "    \n",
    "    model_names = [\"mobilenet\", \"densenet\", \"resnet\", \"vgg\"]\n",
    "    \n",
    "    final_y_pred = np.zeros((len(filenames), 1))\n",
    "    \n",
    "    for model_name in model_names:\n",
    "        breaker()\n",
    "        print(\"----- {} -----\".format(model_name))\n",
    "        model = build_model(model_name=model_name, pretrained=False, HL=[], seed=SEED)\n",
    "    \n",
    "        breaker()\n",
    "        print(\"Making Predictions ...\")\n",
    "\n",
    "        y_pred = predict_batch(model=model, dataloader=ts_data, mode=\"test\", \n",
    "                               path=\"../input/petfinder-images-baseline-train/{}_state.pt\".format(model_name))\n",
    "        \n",
    "        final_y_pred += y_pred\n",
    "    \n",
    "    final_y_pred = final_y_pred / len(model_names)\n",
    "    \n",
    "    return final_y_pred"
   ]
  },
  {
   "cell_type": "markdown",
   "id": "47338f9f",
   "metadata": {
    "papermill": {
     "duration": 0.01127,
     "end_time": "2021-10-04T22:42:53.048275",
     "exception": false,
     "start_time": "2021-10-04T22:42:53.037005",
     "status": "completed"
    },
    "tags": []
   },
   "source": [
    "## Metadata Predictions"
   ]
  },
  {
   "cell_type": "code",
   "execution_count": 9,
   "id": "ab16724d",
   "metadata": {
    "execution": {
     "iopub.execute_input": "2021-10-04T22:42:53.075316Z",
     "iopub.status.busy": "2021-10-04T22:42:53.074762Z",
     "iopub.status.idle": "2021-10-04T22:42:53.078053Z",
     "shell.execute_reply": "2021-10-04T22:42:53.078499Z",
     "shell.execute_reply.started": "2021-10-04T22:36:53.827182Z"
    },
    "papermill": {
     "duration": 0.018627,
     "end_time": "2021-10-04T22:42:53.078626",
     "exception": false,
     "start_time": "2021-10-04T22:42:53.059999",
     "status": "completed"
    },
    "tags": []
   },
   "outputs": [],
   "source": [
    "def metadata_predictions(metadata):\n",
    "    model = pickle.load(open(\"../input/petfinder-meta-analysis-xgb/xgb_model.pkl\", 'rb'))\n",
    "    \n",
    "    y_pred = model.predict(metadata)\n",
    "    \n",
    "    return y_pred"
   ]
  },
  {
   "cell_type": "markdown",
   "id": "42320cc2",
   "metadata": {
    "papermill": {
     "duration": 0.011291,
     "end_time": "2021-10-04T22:42:53.101722",
     "exception": false,
     "start_time": "2021-10-04T22:42:53.090431",
     "status": "completed"
    },
    "tags": []
   },
   "source": [
    "## Generate Submission"
   ]
  },
  {
   "cell_type": "code",
   "execution_count": 10,
   "id": "4a072ab5",
   "metadata": {
    "execution": {
     "iopub.execute_input": "2021-10-04T22:42:53.131691Z",
     "iopub.status.busy": "2021-10-04T22:42:53.131194Z",
     "iopub.status.idle": "2021-10-04T22:43:07.754872Z",
     "shell.execute_reply": "2021-10-04T22:43:07.755494Z",
     "shell.execute_reply.started": "2021-10-04T22:41:29.261698Z"
    },
    "papermill": {
     "duration": 14.642352,
     "end_time": "2021-10-04T22:43:07.755706",
     "exception": false,
     "start_time": "2021-10-04T22:42:53.113354",
     "status": "completed"
    },
    "tags": []
   },
   "outputs": [
    {
     "name": "stdout",
     "output_type": "stream",
     "text": [
      "\n",
      "**************************************************\n",
      "\n",
      "Reading Filenames and Metadata ...\n",
      "\n",
      "**************************************************\n",
      "\n",
      "Obtaining Predictions from Images ...\n",
      "\n",
      "**************************************************\n",
      "\n",
      "Building Test DataLoader ...\n",
      "\n",
      "**************************************************\n",
      "\n",
      "----- mobilenet -----\n",
      "\n",
      "**************************************************\n",
      "\n",
      "Building Model ...\n",
      "\n",
      "mobilenet features -> [] -> 1\n",
      "\n",
      "**************************************************\n",
      "\n",
      "Making Predictions ...\n",
      "\n",
      "**************************************************\n",
      "\n",
      "----- densenet -----\n",
      "\n",
      "**************************************************\n",
      "\n",
      "Building Model ...\n",
      "\n",
      "densenet features -> [] -> 1\n",
      "\n",
      "**************************************************\n",
      "\n",
      "Making Predictions ...\n",
      "\n",
      "**************************************************\n",
      "\n",
      "----- resnet -----\n",
      "\n",
      "**************************************************\n",
      "\n",
      "Building Model ...\n",
      "\n",
      "resnet features -> [] -> 1\n",
      "\n",
      "**************************************************\n",
      "\n",
      "Making Predictions ...\n",
      "\n",
      "**************************************************\n",
      "\n",
      "----- vgg -----\n",
      "\n",
      "**************************************************\n",
      "\n",
      "Building Model ...\n",
      "\n",
      "vgg features -> [] -> 1\n",
      "\n",
      "**************************************************\n",
      "\n",
      "Making Predictions ...\n",
      "\n",
      "**************************************************\n",
      "\n",
      "Obtaining Predictions from Metadata ...\n",
      "\n",
      "**************************************************\n",
      "\n",
      "Setting up Metadata Data Transform ...\n",
      "\n",
      "**************************************************\n",
      "\n",
      "Setting up Prediction Data Transform ...\n",
      "\n",
      "**************************************************\n",
      "\n",
      "Transforming Final Predictions ...\n",
      "\n",
      "**************************************************\n",
      "\n",
      "Generating Submission File ...\n",
      "\n",
      "**************************************************\n",
      "\n"
     ]
    }
   ],
   "source": [
    "def submit():\n",
    "    breaker()\n",
    "    print(\"Reading Filenames and Metadata ...\")\n",
    "    \n",
    "    filenames, metadata = get_filenames_and_metadata(PATH)\n",
    "    tr_filenames, tr_metadata, tr_targets = get_filenames_and_metadata_and_targets(PATH)\n",
    "    \n",
    "    breaker()\n",
    "    print(\"Obtaining Predictions from Images ...\")\n",
    "    image_y_pred = image_predictions(filenames)\n",
    "    \n",
    "    breaker()\n",
    "    print(\"Obtaining Predictions from Metadata ...\")\n",
    "    setup_metadata_transform(tr_filenames, tr_metadata, SEED)\n",
    "    metadata = sc_X.transform(metadata)\n",
    "    metadata_y_pred = metadata_predictions(metadata)\n",
    "    \n",
    "    \n",
    "    setup_prediction_transform(tr_filenames, tr_targets, SEED)\n",
    "    breaker()\n",
    "    print(\"Transforming Final Predictions ...\")\n",
    "    y_pred = (image_y_pred + metadata_y_pred) / 2\n",
    "    y_pred = sc_y.inverse_transform(y_pred)\n",
    "\n",
    "    breaker()\n",
    "    print(\"Generating Submission File ...\")\n",
    "    make_submission(PATH, y_pred)\n",
    "    breaker()\n",
    "\n",
    "submit()"
   ]
  },
  {
   "cell_type": "code",
   "execution_count": 11,
   "id": "994b1a24",
   "metadata": {
    "execution": {
     "iopub.execute_input": "2021-10-04T22:43:07.789369Z",
     "iopub.status.busy": "2021-10-04T22:43:07.788667Z",
     "iopub.status.idle": "2021-10-04T22:43:07.794161Z",
     "shell.execute_reply": "2021-10-04T22:43:07.793478Z"
    },
    "papermill": {
     "duration": 0.023506,
     "end_time": "2021-10-04T22:43:07.794318",
     "exception": false,
     "start_time": "2021-10-04T22:43:07.770812",
     "status": "completed"
    },
    "tags": []
   },
   "outputs": [
    {
     "name": "stdout",
     "output_type": "stream",
     "text": [
      "\n",
      "**************************************************\n",
      "\n",
      "Notebook Run Time : 0.35 minutes\n",
      "\n",
      "**************************************************\n",
      "\n"
     ]
    }
   ],
   "source": [
    "breaker()\n",
    "print(\"Notebook Run Time : {:.2f} minutes\".format((time()-notebook_start_time)/60))\n",
    "breaker()"
   ]
  }
 ],
 "metadata": {
  "kernelspec": {
   "display_name": "Python 3",
   "language": "python",
   "name": "python3"
  },
  "language_info": {
   "codemirror_mode": {
    "name": "ipython",
    "version": 3
   },
   "file_extension": ".py",
   "mimetype": "text/x-python",
   "name": "python",
   "nbconvert_exporter": "python",
   "pygments_lexer": "ipython3",
   "version": "3.7.10"
  },
  "papermill": {
   "default_parameters": {},
   "duration": 29.606382,
   "end_time": "2021-10-04T22:43:09.810674",
   "environment_variables": {},
   "exception": null,
   "input_path": "__notebook__.ipynb",
   "output_path": "__notebook__.ipynb",
   "parameters": {},
   "start_time": "2021-10-04T22:42:40.204292",
   "version": "2.3.3"
  }
 },
 "nbformat": 4,
 "nbformat_minor": 5
}
