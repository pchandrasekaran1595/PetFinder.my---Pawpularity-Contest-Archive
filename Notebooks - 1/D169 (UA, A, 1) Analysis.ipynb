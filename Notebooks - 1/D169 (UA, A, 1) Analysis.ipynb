{
  "nbformat": 4,
  "nbformat_minor": 0,
  "metadata": {
    "colab": {
      "name": "PetFinder - D169 (UA, A, 1) Analysis",
      "provenance": []
    },
    "kernelspec": {
      "name": "python3",
      "display_name": "Python 3"
    },
    "language_info": {
      "name": "python"
    },
    "accelerator": "GPU"
  },
  "cells": [
    {
      "cell_type": "markdown",
      "metadata": {
        "id": "B-lPe5smaPwT"
      },
      "source": [
        "## Get Data"
      ]
    },
    {
      "cell_type": "code",
      "metadata": {
        "id": "yumB_bxKaHwY"
      },
      "source": [
        "from IPython.display import clear_output\n",
        "from google.colab import files\n",
        "files.upload()\n",
        "\n",
        "!pip install -q kaggle\n",
        "!mkdir -p ~/.kaggle\n",
        "!cp kaggle.json ~/.kaggle/\n",
        "!ls ~/.kaggle\n",
        "!chmod 600 /root/.kaggle/kaggle.json\n",
        "\n",
        "!kaggle datasets download -d jackstapleton/d169-a-ua-feature-dataset\n",
        "\n",
        "!mkdir ~/.data\n",
        "!unzip -q d169-a-ua-feature-dataset.zip -d /.data\n",
        "\n",
        "clear_output()"
      ],
      "execution_count": 1,
      "outputs": []
    },
    {
      "cell_type": "markdown",
      "metadata": {
        "id": "P8fsgWP2aSTU"
      },
      "source": [
        "## Library Imports"
      ]
    },
    {
      "cell_type": "code",
      "metadata": {
        "id": "Nvgk4LfQaVbp"
      },
      "source": [
        "import os\n",
        "import re\n",
        "import pickle\n",
        "import numpy as np\n",
        "import pandas as pd\n",
        "import matplotlib.pyplot as plt\n",
        "\n",
        "import torch\n",
        "from torch import nn, optim\n",
        "from torch.utils.data import Dataset\n",
        "from torch.utils.data import DataLoader as DL\n",
        "from torch.nn.utils import weight_norm as WN\n",
        "from torchvision import models, transforms\n",
        "\n",
        "from time import time\n",
        "from sklearn.model_selection import KFold\n",
        "from sklearn.metrics import mean_squared_error\n",
        "from sklearn.preprocessing import StandardScaler"
      ],
      "execution_count": 2,
      "outputs": []
    },
    {
      "cell_type": "markdown",
      "metadata": {
        "id": "1cafa2TsaWZr"
      },
      "source": [
        "## Constants and Utilities"
      ]
    },
    {
      "cell_type": "code",
      "metadata": {
        "id": "B4gZvVrZaYby"
      },
      "source": [
        "SEED = 49\n",
        "DEVICE = torch.device(\"cuda\" if torch.cuda.is_available() else \"cpu\")\n",
        "PATH = \"/.data\"\n",
        "\n",
        "sc_y = StandardScaler()"
      ],
      "execution_count": 3,
      "outputs": []
    },
    {
      "cell_type": "code",
      "metadata": {
        "id": "InscZ-KqaYwf"
      },
      "source": [
        "def breaker(num=50, char=\"*\") -> None:\n",
        "    print(\"\\n\" + num*char + \"\\n\")"
      ],
      "execution_count": 4,
      "outputs": []
    },
    {
      "cell_type": "markdown",
      "metadata": {
        "id": "ShzRPjQLaZgt"
      },
      "source": [
        "## Dataset Template"
      ]
    },
    {
      "cell_type": "code",
      "metadata": {
        "id": "3DqLTU6dabFN"
      },
      "source": [
        "class DS(Dataset):\n",
        "    def __init__(self, features_1=None, features_2=None, targets=None):\n",
        "        self.features_1 = features_1\n",
        "        self.features_2 = features_2\n",
        "        self.targets  = targets\n",
        "        \n",
        "    def __len__(self):\n",
        "        return self.features_1.shape[0]\n",
        "    \n",
        "    def __getitem__(self, idx):\n",
        "        return torch.FloatTensor(self.features_1[idx]), torch.FloatTensor(self.features_2[idx]), torch.FloatTensor(self.targets[idx])"
      ],
      "execution_count": 5,
      "outputs": []
    },
    {
      "cell_type": "markdown",
      "metadata": {
        "id": "eC_Lb-VmabYY"
      },
      "source": [
        "## Build Dataloaders"
      ]
    },
    {
      "cell_type": "code",
      "metadata": {
        "id": "VIjFp9o5adNl"
      },
      "source": [
        "def build_dataloaders(tr_features_1: np.ndarray, va_features_1: np.ndarray,\n",
        "                      tr_features_2: np.ndarray, va_features_2: np.ndarray,\n",
        "                      tr_targets: np.ndarray, va_targets: np.ndarray,\n",
        "                      batch_size: int, seed: int):\n",
        "\n",
        "    # breaker()\n",
        "    # print(\"Building Train and Validation DataLoaders ...\")\n",
        "    \n",
        "    tr_data_setup = DS(features_1=tr_features_1, features_2=tr_features_2, targets=tr_targets)\n",
        "    va_data_setup = DS(features_1=va_features_1, features_2=va_features_2, targets=va_targets)\n",
        "    \n",
        "    dataloaders = {\n",
        "        \"train\" : DL(tr_data_setup, batch_size=batch_size, shuffle=True, generator=torch.manual_seed(seed)),\n",
        "        \"valid\" : DL(va_data_setup, batch_size=batch_size, shuffle=False)\n",
        "    }\n",
        "    \n",
        "    return dataloaders"
      ],
      "execution_count": 6,
      "outputs": []
    },
    {
      "cell_type": "markdown",
      "metadata": {
        "id": "TzSYh7Y0adfn"
      },
      "source": [
        "## Build Model"
      ]
    },
    {
      "cell_type": "code",
      "metadata": {
        "id": "ft_2z9Mcae9X"
      },
      "source": [
        "def build_model(IL: int, seed: int):\n",
        "    class ANN(nn.Module):\n",
        "        def __init__(self, IL=None):\n",
        "            super(ANN, self).__init__()\n",
        "\n",
        "            self.predictor = nn.Sequential()\n",
        "            self.predictor.add_module(\"BN\", nn.BatchNorm1d(num_features=IL, eps=1e-5))\n",
        "            self.predictor.add_module(\"FC\", WN(nn.Linear(in_features=IL, out_features=1)))\n",
        "\n",
        "        def get_optimizer(self, lr=1e-3, wd=0):\n",
        "            params = [p for p in self.parameters() if p.requires_grad]\n",
        "            return optim.Adam(params, lr=lr, weight_decay=wd)\n",
        "\n",
        "        def get_plateau_scheduler(self, optimizer=None, patience=5, eps=1e-8):\n",
        "            return optim.lr_scheduler.ReduceLROnPlateau(optimizer=optimizer, patience=patience, eps=eps, verbose=True)\n",
        "\n",
        "        def forward(self, x1, x2=None):\n",
        "            if x2 is not None:\n",
        "                return self.predictor(x1), self.predictor(x2)\n",
        "            else:\n",
        "                return self.predictor(x1)\n",
        "    \n",
        "    # breaker()\n",
        "    # print(\"Building Model ...\")\n",
        "    # print(\"\\n{} -> 1\".format(IL))\n",
        "    \n",
        "    torch.manual_seed(seed)\n",
        "    model = ANN(IL=IL)\n",
        "    \n",
        "    return model"
      ],
      "execution_count": 7,
      "outputs": []
    },
    {
      "cell_type": "markdown",
      "metadata": {
        "id": "AGBt4-m6afbB"
      },
      "source": [
        "## Fit and Predict Helpers"
      ]
    },
    {
      "cell_type": "code",
      "metadata": {
        "id": "bTQqC-zyahoN"
      },
      "source": [
        "def fit(model=None, optimizer=None, scheduler=None, \n",
        "        epochs=None, early_stopping_patience=None,\n",
        "        dataloaders=None, fold=None, verbose=False) -> tuple:\n",
        "    \n",
        "    name = \"./Fold_{}_state.pt\".format(fold)\n",
        "    \n",
        "    if verbose:\n",
        "        breaker()\n",
        "        print(\"Training Fold {}...\".format(fold))\n",
        "        breaker()\n",
        "    else:\n",
        "        print(\"Training Fold {}...\".format(fold))\n",
        "\n",
        "    Losses = []\n",
        "    bestLoss = {\"train\" : np.inf, \"valid\" : np.inf}\n",
        "\n",
        "    model.to(DEVICE)\n",
        "    start_time = time()\n",
        "    for e in range(epochs):\n",
        "        e_st = time()\n",
        "        epochLoss = {\"train\" : np.inf, \"valid\" : np.inf}\n",
        "\n",
        "        for phase in [\"train\", \"valid\"]:\n",
        "            if phase == \"train\":\n",
        "                model.train()\n",
        "            else:\n",
        "                model.eval()\n",
        "            \n",
        "            lossPerPass = []\n",
        "\n",
        "            for X1, X2, y in dataloaders[phase]:\n",
        "                X1, X2, y = X1.to(DEVICE), X2.to(DEVICE), y.to(DEVICE)\n",
        "\n",
        "                optimizer.zero_grad()\n",
        "                with torch.set_grad_enabled(phase == \"train\"):\n",
        "                    output_1, output_2 = model(X1, X2)\n",
        "                    loss = torch.nn.MSELoss()(output_1, y) + torch.nn.MSELoss()(output_2, y)\n",
        "                    if phase == \"train\":\n",
        "                        loss.backward()\n",
        "                        optimizer.step()\n",
        "                lossPerPass.append(loss.item())\n",
        "            epochLoss[phase] = np.mean(np.array(lossPerPass))\n",
        "        Losses.append(epochLoss)\n",
        "\n",
        "        if early_stopping_patience:\n",
        "            if epochLoss[\"valid\"] < bestLoss[\"valid\"]:\n",
        "                bestLoss = epochLoss\n",
        "                BLE = e + 1\n",
        "                torch.save({\"model_state_dict\": model.state_dict(),\n",
        "                            \"optim_state_dict\": optimizer.state_dict()},\n",
        "                           name)\n",
        "                early_stopping_step = 0\n",
        "            else:\n",
        "                early_stopping_step += 1\n",
        "                if early_stopping_step > early_stopping_patience:\n",
        "                    if verbose:\n",
        "                        print(\"\\nEarly Stopping at Epoch {}\".format(e))\n",
        "                    break\n",
        "        \n",
        "        if epochLoss[\"valid\"] < bestLoss[\"valid\"]:\n",
        "            bestLoss = epochLoss\n",
        "            BLE = e + 1\n",
        "            torch.save({\"model_state_dict\": model.state_dict(),\n",
        "                        \"optim_state_dict\": optimizer.state_dict()},\n",
        "                       name)\n",
        "        \n",
        "        if scheduler:\n",
        "            scheduler.step(epochLoss[\"valid\"])\n",
        "        \n",
        "        if verbose:\n",
        "            print(\"Epoch: {} | Train Loss: {:.5f} | Valid Loss: {:.5f} | Time: {:.2f} seconds\".format(e+1, epochLoss[\"train\"], epochLoss[\"valid\"], time()-e_st))\n",
        "    \n",
        "    if verbose:\n",
        "        breaker()\n",
        "        print(\"Best Validation Loss at Epoch {}\".format(BLE))\n",
        "        breaker()\n",
        "        print(\"Time Taken [{} Epochs] : {:.2f} minutes\".format(len(Losses), (time()-start_time)/60))\n",
        "        breaker()\n",
        "        print(\"Training Completed\")\n",
        "        breaker()\n",
        "\n",
        "    return Losses, BLE, name\n",
        "\n",
        "#####################################################################################################\n",
        "\n",
        "def predict_batch(model=None, dataloader=None, mode=\"test\", path=None) -> np.ndarray:\n",
        "    model.load_state_dict(torch.load(path, map_location=DEVICE)[\"model_state_dict\"])\n",
        "    model.to(DEVICE)\n",
        "    model.eval()\n",
        "\n",
        "    y_pred = torch.zeros(1, 1).to(DEVICE)\n",
        "    if re.match(r\"valid\", mode, re.IGNORECASE):\n",
        "        for X, _, _ in dataloader:\n",
        "            X = X.to(DEVICE)\n",
        "            with torch.no_grad():\n",
        "                output = model(X)\n",
        "            y_pred = torch.cat((y_pred, output.view(-1, 1)), dim=0)\n",
        "    elif re.match(r\"test\", mode, re.IGNORECASE):\n",
        "        for X in dataloader:\n",
        "            X = X.to(DEVICE)\n",
        "            with torch.no_grad():\n",
        "                output = model(X)\n",
        "            y_pred = torch.cat((y_pred, output.view(-1, 1)), dim=0)\n",
        "    \n",
        "    return y_pred[1:].detach().cpu().numpy()"
      ],
      "execution_count": 8,
      "outputs": []
    },
    {
      "cell_type": "markdown",
      "metadata": {
        "id": "9G-nqkjfaiHq"
      },
      "source": [
        "## Train"
      ]
    },
    {
      "cell_type": "code",
      "metadata": {
        "id": "OYkej1JwajTw"
      },
      "source": [
        "def train(features_1: np.ndarray, features_2: np.ndarray, targets: np.ndarray,\n",
        "          n_splits: int, batch_size: int, lr: float, wd: float, \n",
        "          epochs: int, early_stopping: int, \n",
        "          patience=None, eps=None) -> list:        \n",
        "    \n",
        "    metrics = []\n",
        "        \n",
        "    KFold_start_time = time()\n",
        "    breaker()\n",
        "    print(\"Performing {} Fold CV ...\".format(n_splits))\n",
        "    breaker()\n",
        "    fold = 1\n",
        "    for tr_idx, va_idx in KFold(n_splits=n_splits, shuffle=True, random_state=SEED).split(features_1):\n",
        "\n",
        "        tr_features_1, va_features_1 = features_1[tr_idx], features_1[va_idx]\n",
        "\n",
        "        # Using Unaugmented Features for validation\n",
        "        tr_features_2, va_features_2 = features_2[tr_idx], features_1[va_idx]\n",
        "\n",
        "        # Using Augmented Features for validation\n",
        "        # tr_features_2, va_features_2 = features_2[tr_idx], features_2[va_idx]\n",
        "\n",
        "        tr_targets, va_targets   = targets[tr_idx], targets[va_idx]\n",
        "        tr_targets = sc_y.fit_transform(tr_targets)\n",
        "        va_targets = sc_y.transform(va_targets)\n",
        "\n",
        "        dataloaders = build_dataloaders(tr_features_1, va_features_1,\n",
        "                                        tr_features_2, va_features_2,\n",
        "                                        tr_targets, va_targets, \n",
        "                                        batch_size, SEED)\n",
        "        model = build_model(IL=tr_features_1.shape[1], seed=SEED)\n",
        "        optimizer = model.get_optimizer(lr=lr, wd=wd)\n",
        "        scheduler = None\n",
        "        if isinstance(patience, int) and isinstance(eps, float):\n",
        "            scheduler = model.get_plateau_scheduler(optimizer, patience, eps)\n",
        "\n",
        "        L, _, name = fit(model=model, optimizer=optimizer, scheduler=scheduler, \n",
        "                         epochs=epochs, early_stopping_patience=early_stopping,\n",
        "                         dataloaders=dataloaders, fold=fold, verbose=False)\n",
        "        y_pred = predict_batch(model=model, dataloader=dataloaders[\"valid\"], mode=\"valid\", path=name)\n",
        "        RMSE = np.sqrt(mean_squared_error(sc_y.inverse_transform(y_pred), sc_y.inverse_transform(va_targets)))\n",
        "        # print(\"Validation RMSE [Fold {}]: {:.5f}\".format(fold, RMSE))\n",
        "        # breaker()\n",
        "        # show_graphs(L)\n",
        "        \n",
        "        metrics_dict = {\"Fold\" : fold, \"RMSE\" : RMSE}\n",
        "        metrics.append(metrics_dict)\n",
        "        \n",
        "        fold += 1\n",
        "    \n",
        "    breaker()\n",
        "    print(\"Total Time to {} Fold CV : {:.2f} minutes\".format(n_splits, (time() - KFold_start_time)/60))\n",
        "    breaker()\n",
        "    \n",
        "    return metrics"
      ],
      "execution_count": 9,
      "outputs": []
    },
    {
      "cell_type": "markdown",
      "metadata": {
        "id": "_rbBXwTcajo5"
      },
      "source": [
        "## Main"
      ]
    },
    {
      "cell_type": "code",
      "metadata": {
        "id": "bczgN6S3akl8",
        "colab": {
          "base_uri": "https://localhost:8080/"
        },
        "outputId": "83bebc3c-e63f-4f0d-c16c-23d6eadbc7ca"
      },
      "source": [
        "def main():\n",
        "    DEBUG = False\n",
        "    \n",
        "    ########### Params ###########\n",
        "    \n",
        "    if DEBUG:\n",
        "        n_splits = 3\n",
        "        batch_size = 512\n",
        "        lr, wd = 1e-3, 0\n",
        "        patience, eps = 5, 1e-8\n",
        "        epochs, early_stopping = 5, 5\n",
        "    else:\n",
        "        n_splits = 10\n",
        "        batch_size = 32\n",
        "        lr, wd = 1e-2, 0\n",
        "        patience, eps = 5, 1e-8\n",
        "        epochs, early_stopping = 100, 8\n",
        "    \n",
        "    ##############################\n",
        "\n",
        "    # breaker()\n",
        "    # print(\"Loading Data ...\")\n",
        "    \n",
        "    features_1 = np.load(os.path.join(PATH, \"UA_features.npy\"))\n",
        "    features_2 = np.load(os.path.join(PATH, \"A_features.npy\"))\n",
        "    targets    = np.load(os.path.join(PATH, \"Targets.npy\"))\n",
        "\n",
        "    # Without Scheduler\n",
        "    metrics = train(features_1, features_2, targets, n_splits, batch_size, lr, wd, epochs, early_stopping, patience=None, eps=None)\n",
        "    \n",
        "    # # With Plateau Scheduler\n",
        "    # metrics = train(features_1, features_2, targets, n_splits, batch_size, lr, wd, epochs, early_stopping, patience=patience, eps=eps)\n",
        "\n",
        "    for i in range(len(metrics)):\n",
        "        print(metrics[i])\n",
        "\n",
        "    with open(\"metrics.pkl\", \"wb\") as fp:\n",
        "        pickle.dump(metrics, fp)\n",
        "    \n",
        "    breaker()\n",
        "\n",
        "main()"
      ],
      "execution_count": 10,
      "outputs": [
        {
          "output_type": "stream",
          "name": "stdout",
          "text": [
            "\n",
            "**************************************************\n",
            "\n",
            "Performing 10 Fold CV ...\n",
            "\n",
            "**************************************************\n",
            "\n",
            "Training Fold 1...\n",
            "Training Fold 2...\n",
            "Training Fold 3...\n",
            "Training Fold 4...\n",
            "Training Fold 5...\n",
            "Training Fold 6...\n",
            "Training Fold 7...\n",
            "Training Fold 8...\n",
            "Training Fold 9...\n",
            "Training Fold 10...\n",
            "\n",
            "**************************************************\n",
            "\n",
            "Total Time to 10 Fold CV : 3.16 minutes\n",
            "\n",
            "**************************************************\n",
            "\n",
            "{'Fold': 1, 'RMSE': 18.59934685379862}\n",
            "{'Fold': 2, 'RMSE': 18.336887182025396}\n",
            "{'Fold': 3, 'RMSE': 19.000533091914274}\n",
            "{'Fold': 4, 'RMSE': 17.83382990561396}\n",
            "{'Fold': 5, 'RMSE': 19.384343996785894}\n",
            "{'Fold': 6, 'RMSE': 18.93913640364661}\n",
            "{'Fold': 7, 'RMSE': 19.294735242108626}\n",
            "{'Fold': 8, 'RMSE': 17.01836081394085}\n",
            "{'Fold': 9, 'RMSE': 18.4113506679591}\n",
            "{'Fold': 10, 'RMSE': 18.11425228199721}\n",
            "\n",
            "**************************************************\n",
            "\n"
          ]
        }
      ]
    }
  ]
}