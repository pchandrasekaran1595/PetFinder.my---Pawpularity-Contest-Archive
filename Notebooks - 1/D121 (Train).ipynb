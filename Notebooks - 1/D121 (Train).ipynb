{
 "cells": [
  {
   "cell_type": "markdown",
   "id": "a36645d7",
   "metadata": {
    "_cell_guid": "b1076dfc-b9ad-4769-8c92-a6c4dae69d19",
    "_uuid": "8f2839f25d086af736a60e9eeb907d3b93b6e0e5",
    "papermill": {
     "duration": 0.013647,
     "end_time": "2021-10-08T03:28:57.372524",
     "exception": false,
     "start_time": "2021-10-08T03:28:57.358877",
     "status": "completed"
    },
    "tags": []
   },
   "source": [
    "## Library Imports"
   ]
  },
  {
   "cell_type": "code",
   "execution_count": 1,
   "id": "866826c4",
   "metadata": {
    "execution": {
     "iopub.execute_input": "2021-10-08T03:28:57.490425Z",
     "iopub.status.busy": "2021-10-08T03:28:57.489719Z",
     "iopub.status.idle": "2021-10-08T03:28:57.492985Z",
     "shell.execute_reply": "2021-10-08T03:28:57.492324Z",
     "shell.execute_reply.started": "2021-10-08T03:24:02.164026Z"
    },
    "papermill": {
     "duration": 0.106728,
     "end_time": "2021-10-08T03:28:57.493138",
     "exception": false,
     "start_time": "2021-10-08T03:28:57.386410",
     "status": "completed"
    },
    "tags": []
   },
   "outputs": [],
   "source": [
    "from time import time\n",
    "notebook_start_time = time()"
   ]
  },
  {
   "cell_type": "code",
   "execution_count": 2,
   "id": "015ae6f1",
   "metadata": {
    "execution": {
     "iopub.execute_input": "2021-10-08T03:28:57.523547Z",
     "iopub.status.busy": "2021-10-08T03:28:57.522837Z",
     "iopub.status.idle": "2021-10-08T03:29:02.899813Z",
     "shell.execute_reply": "2021-10-08T03:29:02.898890Z",
     "shell.execute_reply.started": "2021-10-08T03:24:02.258259Z"
    },
    "papermill": {
     "duration": 5.394773,
     "end_time": "2021-10-08T03:29:02.899955",
     "exception": false,
     "start_time": "2021-10-08T03:28:57.505182",
     "status": "completed"
    },
    "tags": []
   },
   "outputs": [],
   "source": [
    "import os\n",
    "import re\n",
    "import pickle\n",
    "import numpy as np\n",
    "import pandas as pd\n",
    "import matplotlib.pyplot as plt\n",
    "\n",
    "import torch\n",
    "from torch import nn, optim\n",
    "from torch.utils.data import Dataset\n",
    "from torch.utils.data import DataLoader as DL\n",
    "from torch.nn.utils import weight_norm as WN\n",
    "from torchvision import models, transforms\n",
    "\n",
    "from sklearn.model_selection import KFold\n",
    "from sklearn.metrics import mean_squared_error\n",
    "from sklearn.preprocessing import StandardScaler"
   ]
  },
  {
   "cell_type": "markdown",
   "id": "2d06d0c4",
   "metadata": {
    "papermill": {
     "duration": 0.012706,
     "end_time": "2021-10-08T03:29:02.925104",
     "exception": false,
     "start_time": "2021-10-08T03:29:02.912398",
     "status": "completed"
    },
    "tags": []
   },
   "source": [
    "## Constants and Utilities"
   ]
  },
  {
   "cell_type": "code",
   "execution_count": 3,
   "id": "78e3f639",
   "metadata": {
    "execution": {
     "iopub.execute_input": "2021-10-08T03:29:02.999841Z",
     "iopub.status.busy": "2021-10-08T03:29:02.997088Z",
     "iopub.status.idle": "2021-10-08T03:29:03.002905Z",
     "shell.execute_reply": "2021-10-08T03:29:03.003395Z",
     "shell.execute_reply.started": "2021-10-08T03:24:07.476901Z"
    },
    "papermill": {
     "duration": 0.065994,
     "end_time": "2021-10-08T03:29:03.003606",
     "exception": false,
     "start_time": "2021-10-08T03:29:02.937612",
     "status": "completed"
    },
    "tags": []
   },
   "outputs": [],
   "source": [
    "SEED = 0\n",
    "DEVICE = torch.device(\"cuda\" if torch.cuda.is_available() else \"cpu\")\n",
    "PATH = \"../input/petfinder-pawpularity-score\"\n",
    "FEATURES_PATH = \"../input/petfinder-pretrained-features-ua-all\"\n",
    "MODEL_NAME = \"densenet121\"\n",
    "\n",
    "sc_y = StandardScaler()"
   ]
  },
  {
   "cell_type": "code",
   "execution_count": 4,
   "id": "d1dc36d0",
   "metadata": {
    "execution": {
     "iopub.execute_input": "2021-10-08T03:29:03.039881Z",
     "iopub.status.busy": "2021-10-08T03:29:03.039039Z",
     "iopub.status.idle": "2021-10-08T03:29:03.041481Z",
     "shell.execute_reply": "2021-10-08T03:29:03.041033Z",
     "shell.execute_reply.started": "2021-10-08T03:26:30.667168Z"
    },
    "papermill": {
     "duration": 0.025592,
     "end_time": "2021-10-08T03:29:03.041593",
     "exception": false,
     "start_time": "2021-10-08T03:29:03.016001",
     "status": "completed"
    },
    "tags": []
   },
   "outputs": [],
   "source": [
    "def breaker(num=50, char=\"*\") -> None:\n",
    "    print(\"\\n\" + num*char + \"\\n\")\n",
    "\n",
    "\n",
    "def head(x, no_of_ele=5) -> None:\n",
    "    print(x[:no_of_ele])\n",
    "\n",
    "\n",
    "def get_targets(path: str) -> np.ndarray:\n",
    "    df = pd.read_csv(os.path.join(path, \"train.csv\"), engine=\"python\")\n",
    "    targets  = df.iloc[:, -1].copy().values\n",
    "    return targets\n",
    "\n",
    "\n",
    "def normalize(x):\n",
    "    for i in range(x.shape[0]):\n",
    "        x[i] = (x[i] - torch.min(x[i])) / (torch.max(x[i]) - torch.min(x[i]))\n",
    "    return x\n",
    "\n",
    "\n",
    "def show_graphs(L: list, title=None) -> None:\n",
    "    TL, VL = [], []\n",
    "    for i in range(len(L)):\n",
    "        TL.append(L[i][\"train\"])\n",
    "        VL.append(L[i][\"valid\"])    \n",
    "    \n",
    "    x_Axis = np.arange(1, len(L) + 1)\n",
    "    plt.figure()\n",
    "    plt.plot(x_Axis, TL, \"r\", label=\"train\")\n",
    "    plt.plot(x_Axis, VL, \"b\", label=\"valid\")\n",
    "    plt.grid()\n",
    "    plt.legend()\n",
    "    if title:\n",
    "        plt.title(title)\n",
    "    else:\n",
    "        plt.title(\"MSE Loss\")\n",
    "    plt.show()"
   ]
  },
  {
   "cell_type": "markdown",
   "id": "2a06a81d",
   "metadata": {
    "papermill": {
     "duration": 0.011858,
     "end_time": "2021-10-08T03:29:03.065768",
     "exception": false,
     "start_time": "2021-10-08T03:29:03.053910",
     "status": "completed"
    },
    "tags": []
   },
   "source": [
    "## Dataset Template"
   ]
  },
  {
   "cell_type": "code",
   "execution_count": 5,
   "id": "008c5a46",
   "metadata": {
    "execution": {
     "iopub.execute_input": "2021-10-08T03:29:03.097722Z",
     "iopub.status.busy": "2021-10-08T03:29:03.096852Z",
     "iopub.status.idle": "2021-10-08T03:29:03.099405Z",
     "shell.execute_reply": "2021-10-08T03:29:03.098981Z",
     "shell.execute_reply.started": "2021-10-08T03:24:07.539688Z"
    },
    "papermill": {
     "duration": 0.020503,
     "end_time": "2021-10-08T03:29:03.099541",
     "exception": false,
     "start_time": "2021-10-08T03:29:03.079038",
     "status": "completed"
    },
    "tags": []
   },
   "outputs": [],
   "source": [
    "class DS(Dataset):\n",
    "    def __init__(self, features=None, targets=None):\n",
    "        self.features = features\n",
    "        self.targets  = targets\n",
    "        \n",
    "    def __len__(self):\n",
    "        return self.features.shape[0]\n",
    "    \n",
    "    def __getitem__(self, idx):\n",
    "        return torch.FloatTensor(self.features[idx]), torch.FloatTensor(self.targets[idx])"
   ]
  },
  {
   "cell_type": "markdown",
   "id": "61b92ced",
   "metadata": {
    "papermill": {
     "duration": 0.012325,
     "end_time": "2021-10-08T03:29:03.124097",
     "exception": false,
     "start_time": "2021-10-08T03:29:03.111772",
     "status": "completed"
    },
    "tags": []
   },
   "source": [
    "## Build Dataloaders"
   ]
  },
  {
   "cell_type": "code",
   "execution_count": 6,
   "id": "e51d485f",
   "metadata": {
    "execution": {
     "iopub.execute_input": "2021-10-08T03:29:03.156168Z",
     "iopub.status.busy": "2021-10-08T03:29:03.155308Z",
     "iopub.status.idle": "2021-10-08T03:29:03.157406Z",
     "shell.execute_reply": "2021-10-08T03:29:03.157871Z",
     "shell.execute_reply.started": "2021-10-08T03:24:07.552718Z"
    },
    "papermill": {
     "duration": 0.021554,
     "end_time": "2021-10-08T03:29:03.158002",
     "exception": false,
     "start_time": "2021-10-08T03:29:03.136448",
     "status": "completed"
    },
    "tags": []
   },
   "outputs": [],
   "source": [
    "def build_dataloaders(tr_features: np.ndarray, va_features: np.ndarray,\n",
    "                      tr_targets: np.ndarray, va_targets: np.ndarray,\n",
    "                      batch_size: int, seed: int):\n",
    "\n",
    "    # breaker()\n",
    "    # print(\"Building Train and Validation DataLoaders ...\")\n",
    "    \n",
    "    tr_data_setup = DS(features=tr_features, targets=tr_targets)\n",
    "    va_data_setup = DS(features=va_features, targets=va_targets)\n",
    "    \n",
    "    dataloaders = {\n",
    "        \"train\" : DL(tr_data_setup, batch_size=batch_size, shuffle=True, generator=torch.manual_seed(seed)),\n",
    "        \"valid\" : DL(va_data_setup, batch_size=batch_size, shuffle=False)\n",
    "    }\n",
    "    \n",
    "    return dataloaders"
   ]
  },
  {
   "cell_type": "markdown",
   "id": "67fef4e0",
   "metadata": {
    "papermill": {
     "duration": 0.012121,
     "end_time": "2021-10-08T03:29:03.182069",
     "exception": false,
     "start_time": "2021-10-08T03:29:03.169948",
     "status": "completed"
    },
    "tags": []
   },
   "source": [
    "## Build Model"
   ]
  },
  {
   "cell_type": "code",
   "execution_count": 7,
   "id": "62c50330",
   "metadata": {
    "execution": {
     "iopub.execute_input": "2021-10-08T03:29:03.216635Z",
     "iopub.status.busy": "2021-10-08T03:29:03.215728Z",
     "iopub.status.idle": "2021-10-08T03:29:03.217541Z",
     "shell.execute_reply": "2021-10-08T03:29:03.218286Z",
     "shell.execute_reply.started": "2021-10-08T03:24:07.560263Z"
    },
    "papermill": {
     "duration": 0.024046,
     "end_time": "2021-10-08T03:29:03.218437",
     "exception": false,
     "start_time": "2021-10-08T03:29:03.194391",
     "status": "completed"
    },
    "tags": []
   },
   "outputs": [],
   "source": [
    "def build_model(IL: int, seed: int):\n",
    "    class ANN(nn.Module):\n",
    "        def __init__(self, IL=None):\n",
    "            super(ANN, self).__init__()\n",
    "\n",
    "            self.predictor = nn.Sequential()\n",
    "            self.predictor.add_module(\"BN\", nn.BatchNorm1d(num_features=IL, eps=1e-5))\n",
    "            self.predictor.add_module(\"FC\", WN(nn.Linear(in_features=IL, out_features=1)))\n",
    "\n",
    "        def get_optimizer(self, lr=1e-3, wd=0):\n",
    "            params = [p for p in self.parameters() if p.requires_grad]\n",
    "            return optim.Adam(params, lr=lr, weight_decay=wd)\n",
    "\n",
    "        def get_plateau_scheduler(self, optimizer=None, patience=5, eps=1e-8):\n",
    "            return optim.lr_scheduler.ReduceLROnPlateau(optimizer=optimizer, patience=patience, eps=eps, verbose=True)\n",
    "\n",
    "        def forward(self, x):\n",
    "            return self.predictor(x)\n",
    "    \n",
    "    # breaker()\n",
    "    # print(\"Building Model ...\")\n",
    "    # print(\"\\n{} -> 1\".format(IL))\n",
    "    \n",
    "    torch.manual_seed(seed)\n",
    "    model = ANN(IL=IL)\n",
    "    \n",
    "    return model"
   ]
  },
  {
   "cell_type": "markdown",
   "id": "65b9ea2b",
   "metadata": {
    "papermill": {
     "duration": 0.012491,
     "end_time": "2021-10-08T03:29:03.243164",
     "exception": false,
     "start_time": "2021-10-08T03:29:03.230673",
     "status": "completed"
    },
    "tags": []
   },
   "source": [
    "## Fit and Predict Helpers"
   ]
  },
  {
   "cell_type": "code",
   "execution_count": 8,
   "id": "fc6ca550",
   "metadata": {
    "execution": {
     "iopub.execute_input": "2021-10-08T03:29:03.292534Z",
     "iopub.status.busy": "2021-10-08T03:29:03.291327Z",
     "iopub.status.idle": "2021-10-08T03:29:03.293334Z",
     "shell.execute_reply": "2021-10-08T03:29:03.293964Z",
     "shell.execute_reply.started": "2021-10-08T03:27:31.571149Z"
    },
    "papermill": {
     "duration": 0.037939,
     "end_time": "2021-10-08T03:29:03.294129",
     "exception": false,
     "start_time": "2021-10-08T03:29:03.256190",
     "status": "completed"
    },
    "tags": []
   },
   "outputs": [],
   "source": [
    "def fit(model=None, optimizer=None, scheduler=None, \n",
    "        epochs=None, early_stopping_patience=None,\n",
    "        dataloaders=None, fold=None, verbose=False) -> tuple:\n",
    "    \n",
    "    name = \"./Fold_{}_state.pt\".format(fold)\n",
    "    \n",
    "    # breaker()\n",
    "    print(\"Training Fold {}...\".format(fold))\n",
    "    # breaker()\n",
    "\n",
    "    Losses = []\n",
    "    bestLoss = {\"train\" : np.inf, \"valid\" : np.inf}\n",
    "\n",
    "    model.to(DEVICE)\n",
    "    start_time = time()\n",
    "    for e in range(epochs):\n",
    "        e_st = time()\n",
    "        epochLoss = {\"train\" : np.inf, \"valid\" : np.inf}\n",
    "\n",
    "        for phase in [\"train\", \"valid\"]:\n",
    "            if phase == \"train\":\n",
    "                model.train()\n",
    "            else:\n",
    "                model.eval()\n",
    "            \n",
    "            lossPerPass = []\n",
    "\n",
    "            for X, y in dataloaders[phase]:\n",
    "                X, y = X.to(DEVICE), y.to(DEVICE)\n",
    "\n",
    "                optimizer.zero_grad()\n",
    "                with torch.set_grad_enabled(phase == \"train\"):\n",
    "                    output = model(X)\n",
    "                    loss = torch.nn.MSELoss()(output, y)\n",
    "                    if phase == \"train\":\n",
    "                        loss.backward()\n",
    "                        optimizer.step()\n",
    "                lossPerPass.append(loss.item())\n",
    "            epochLoss[phase] = np.mean(np.array(lossPerPass))\n",
    "        Losses.append(epochLoss)\n",
    "        \n",
    "        if early_stopping_patience:\n",
    "            if epochLoss[\"valid\"] < bestLoss[\"valid\"]:\n",
    "                bestLoss = epochLoss\n",
    "                BLE = e + 1\n",
    "                torch.save({\"model_state_dict\": model.state_dict(),\n",
    "                            \"optim_state_dict\": optimizer.state_dict()},\n",
    "                           name)\n",
    "                early_stopping_step = 0\n",
    "            else:\n",
    "                early_stopping_step += 1\n",
    "                if early_stopping_step > early_stopping_patience:\n",
    "                    # print(\"\\nEarly Stopping at Epoch {}\".format(e))\n",
    "                    break\n",
    "        \n",
    "        if epochLoss[\"valid\"] < bestLoss[\"valid\"]:\n",
    "            bestLoss = epochLoss\n",
    "            BLE = e + 1\n",
    "            torch.save({\"model_state_dict\": model.state_dict(),\n",
    "                        \"optim_state_dict\": optimizer.state_dict()},\n",
    "                       name)\n",
    "        \n",
    "        if scheduler:\n",
    "            scheduler.step(epochLoss[\"valid\"])\n",
    "        \n",
    "        if verbose:\n",
    "            print(\"Epoch: {} | Train Loss: {:.5f} | Valid Loss: {:.5f} | Time: {:.2f} seconds\".format(e+1, epochLoss[\"train\"], epochLoss[\"valid\"], time()-e_st))\n",
    "    \n",
    "    # breaker()\n",
    "    # print(\"Best Validation Loss at Epoch {}\".format(BLE))\n",
    "    # breaker()\n",
    "    # print(\"Time Taken [{} Epochs] : {:.2f} minutes\".format(len(Losses), (time()-start_time)/60))\n",
    "    # breaker()\n",
    "    # print(\"Training Completed\")\n",
    "    # breaker()\n",
    "\n",
    "    return Losses, BLE, name\n",
    "\n",
    "#####################################################################################################\n",
    "\n",
    "def predict_batch(model=None, dataloader=None, mode=\"test\", path=None) -> np.ndarray:\n",
    "    model.load_state_dict(torch.load(path, map_location=DEVICE)[\"model_state_dict\"])\n",
    "    model.to(DEVICE)\n",
    "    model.eval()\n",
    "\n",
    "    y_pred = torch.zeros(1, 1).to(DEVICE)\n",
    "    if re.match(r\"valid\", mode, re.IGNORECASE):\n",
    "        for X, _ in dataloader:\n",
    "            X = X.to(DEVICE)\n",
    "            with torch.no_grad():\n",
    "                output = model(X)\n",
    "            y_pred = torch.cat((y_pred, output.view(-1, 1)), dim=0)\n",
    "    elif re.match(r\"test\", mode, re.IGNORECASE):\n",
    "        for X in dataloader:\n",
    "            X = X.to(DEVICE)\n",
    "            with torch.no_grad():\n",
    "                output = model(X)\n",
    "            y_pred = torch.cat((y_pred, output.view(-1, 1)), dim=0)\n",
    "    \n",
    "    return y_pred[1:].detach().cpu().numpy()"
   ]
  },
  {
   "cell_type": "markdown",
   "id": "27b1c38d",
   "metadata": {
    "papermill": {
     "duration": 0.012745,
     "end_time": "2021-10-08T03:29:03.320568",
     "exception": false,
     "start_time": "2021-10-08T03:29:03.307823",
     "status": "completed"
    },
    "tags": []
   },
   "source": [
    "## Train Helper"
   ]
  },
  {
   "cell_type": "code",
   "execution_count": 9,
   "id": "3790ebd2",
   "metadata": {
    "execution": {
     "iopub.execute_input": "2021-10-08T03:29:03.359972Z",
     "iopub.status.busy": "2021-10-08T03:29:03.359059Z",
     "iopub.status.idle": "2021-10-08T03:29:03.361011Z",
     "shell.execute_reply": "2021-10-08T03:29:03.361418Z",
     "shell.execute_reply.started": "2021-10-08T03:27:42.491594Z"
    },
    "papermill": {
     "duration": 0.028054,
     "end_time": "2021-10-08T03:29:03.361585",
     "exception": false,
     "start_time": "2021-10-08T03:29:03.333531",
     "status": "completed"
    },
    "tags": []
   },
   "outputs": [],
   "source": [
    "def train(features: np.ndarray, targets: np.ndarray,\n",
    "          n_splits: int, batch_size: int, lr: float, wd: float, \n",
    "          epochs: int, early_stopping: int, \n",
    "          patience=None, eps=None) -> list:        \n",
    "    \n",
    "    metrics = []\n",
    "        \n",
    "    KFold_start_time = time()\n",
    "    breaker()\n",
    "    print(\"Performing {} Fold CV ...\".format(n_splits))\n",
    "    breaker()\n",
    "    fold = 1\n",
    "    for tr_idx, va_idx in KFold(n_splits=n_splits, shuffle=True, random_state=SEED).split(features):\n",
    "\n",
    "        tr_features, va_features = features[tr_idx], features[va_idx]\n",
    "        tr_targets, va_targets   = targets[tr_idx], targets[va_idx]\n",
    "\n",
    "        tr_targets, va_targets   = tr_targets.reshape(-1, 1), va_targets.reshape(-1, 1)\n",
    "\n",
    "        tr_targets = sc_y.fit_transform(tr_targets)\n",
    "        va_targets = sc_y.transform(va_targets)\n",
    "\n",
    "        dataloaders = build_dataloaders(tr_features, va_features, \n",
    "                                         tr_targets, va_targets, \n",
    "                                         batch_size, SEED)\n",
    "        model = build_model(IL=tr_features.shape[1], seed=SEED)\n",
    "        \n",
    "        optimizer = model.get_optimizer(lr=lr, wd=wd)\n",
    "        scheduler = None\n",
    "        if isinstance(patience, int) and isinstance(eps, float):\n",
    "            scheduler = model.get_plateau_scheduler(optimizer, patience, eps)\n",
    "\n",
    "        L, _, name = fit(model=model, optimizer=optimizer, scheduler=scheduler, \n",
    "                         epochs=epochs, early_stopping_patience=early_stopping,\n",
    "                         dataloaders=dataloaders, fold=fold, verbose=False)\n",
    "        y_pred = predict_batch(model=model, dataloader=dataloaders[\"valid\"], mode=\"valid\", path=name)\n",
    "        RMSE = np.sqrt(mean_squared_error(sc_y.inverse_transform(y_pred), sc_y.inverse_transform(va_targets)))\n",
    "        # print(\"Validation RMSE [Fold {}]: {:.5f}\".format(fold, RMSE))\n",
    "        # breaker()\n",
    "        # show_graphs(L, title=\"MSE Loss Fold {}\".format(fold))\n",
    "        \n",
    "        metrics_dict = {\"Fold\" : fold, \"RMSE\" : RMSE}\n",
    "        metrics.append(metrics_dict)\n",
    "        \n",
    "        fold += 1\n",
    "    \n",
    "    breaker()\n",
    "    print(\"Total Time to {} Fold CV : {:.2f} minutes\".format(n_splits, (time() - KFold_start_time)/60))\n",
    "    breaker()\n",
    "    \n",
    "    return metrics"
   ]
  },
  {
   "cell_type": "markdown",
   "id": "2112d8b4",
   "metadata": {
    "papermill": {
     "duration": 0.012368,
     "end_time": "2021-10-08T03:29:03.386512",
     "exception": false,
     "start_time": "2021-10-08T03:29:03.374144",
     "status": "completed"
    },
    "tags": []
   },
   "source": [
    "## Main"
   ]
  },
  {
   "cell_type": "code",
   "execution_count": 10,
   "id": "40fa7db8",
   "metadata": {
    "execution": {
     "iopub.execute_input": "2021-10-08T03:29:03.420321Z",
     "iopub.status.busy": "2021-10-08T03:29:03.419508Z",
     "iopub.status.idle": "2021-10-08T03:31:00.572962Z",
     "shell.execute_reply": "2021-10-08T03:31:00.573706Z",
     "shell.execute_reply.started": "2021-10-08T03:27:43.793112Z"
    },
    "papermill": {
     "duration": 117.17514,
     "end_time": "2021-10-08T03:31:00.573960",
     "exception": false,
     "start_time": "2021-10-08T03:29:03.398820",
     "status": "completed"
    },
    "tags": []
   },
   "outputs": [
    {
     "name": "stdout",
     "output_type": "stream",
     "text": [
      "\n",
      "**************************************************\n",
      "\n",
      "Performing 10 Fold CV ...\n",
      "\n",
      "**************************************************\n",
      "\n",
      "Training Fold 1...\n",
      "Training Fold 2...\n",
      "Training Fold 3...\n",
      "Training Fold 4...\n",
      "Training Fold 5...\n",
      "Training Fold 6...\n",
      "Training Fold 7...\n",
      "Training Fold 8...\n",
      "Training Fold 9...\n",
      "Training Fold 10...\n",
      "\n",
      "**************************************************\n",
      "\n",
      "Total Time to 10 Fold CV : 1.93 minutes\n",
      "\n",
      "**************************************************\n",
      "\n",
      "{'Fold': 1, 'RMSE': 18.28643166524215}\n",
      "{'Fold': 2, 'RMSE': 18.96949667617112}\n",
      "{'Fold': 3, 'RMSE': 17.021474091225866}\n",
      "{'Fold': 4, 'RMSE': 18.465335274055747}\n",
      "{'Fold': 5, 'RMSE': 19.00991946902828}\n",
      "{'Fold': 6, 'RMSE': 18.805115389089387}\n",
      "{'Fold': 7, 'RMSE': 19.14466327505214}\n",
      "{'Fold': 8, 'RMSE': 19.004975419704422}\n",
      "{'Fold': 9, 'RMSE': 17.620628868496198}\n",
      "{'Fold': 10, 'RMSE': 18.65298839774916}\n",
      "\n",
      "**************************************************\n",
      "\n"
     ]
    }
   ],
   "source": [
    "def main():\n",
    "    DEBUG = False\n",
    "    \n",
    "    ########### Params ###########\n",
    "    \n",
    "    if DEBUG:\n",
    "        n_splits = 3\n",
    "        batch_size = 512\n",
    "        lr, wd = 1e-3, 0\n",
    "        patience, eps = 5, 1e-8\n",
    "        epochs, early_stopping = 5, 5\n",
    "    else:\n",
    "        n_splits = 10\n",
    "        batch_size = 32\n",
    "        lr, wd = 1e-2, 0\n",
    "        patience, eps = 5, 1e-8\n",
    "        epochs, early_stopping = 100, 8\n",
    "    \n",
    "    ##############################\n",
    "\n",
    "    # breaker()\n",
    "    # print(\"Loading Data ...\")\n",
    "    \n",
    "    features = np.load(os.path.join(FEATURES_PATH, \"{}_features.npy\".format(MODEL_NAME)))\n",
    "    targets = get_targets(PATH)\n",
    "\n",
    "    # Without Scheduler\n",
    "    metrics = train(features, targets, n_splits, batch_size, lr, wd, epochs, early_stopping, patience=None, eps=None)\n",
    "    \n",
    "    # # With Plateau Scheduler\n",
    "    # metrics = train(features, targets, n_splits, batch_size, lr, wd, epochs, early_stopping, patience=patience, eps=eps)    \n",
    "    \n",
    "    for i in range(len(metrics)):\n",
    "        print(metrics[i])\n",
    "\n",
    "    with open(\"metrics.pkl\", \"wb\") as fp:\n",
    "        pickle.dump(metrics, fp)\n",
    "    \n",
    "    breaker()\n",
    "\n",
    "main()"
   ]
  },
  {
   "cell_type": "code",
   "execution_count": 11,
   "id": "2426284b",
   "metadata": {
    "execution": {
     "iopub.execute_input": "2021-10-08T03:31:00.611275Z",
     "iopub.status.busy": "2021-10-08T03:31:00.609727Z",
     "iopub.status.idle": "2021-10-08T03:31:00.614224Z",
     "shell.execute_reply": "2021-10-08T03:31:00.613523Z",
     "shell.execute_reply.started": "2021-10-08T03:24:16.099868Z"
    },
    "papermill": {
     "duration": 0.024526,
     "end_time": "2021-10-08T03:31:00.614378",
     "exception": false,
     "start_time": "2021-10-08T03:31:00.589852",
     "status": "completed"
    },
    "tags": []
   },
   "outputs": [
    {
     "name": "stdout",
     "output_type": "stream",
     "text": [
      "\n",
      "**************************************************\n",
      "\n",
      "Notebook Run Time : 2.05 minutes\n",
      "\n",
      "**************************************************\n",
      "\n"
     ]
    }
   ],
   "source": [
    "breaker()\n",
    "print(\"Notebook Run Time : {:.2f} minutes\".format((time()-notebook_start_time)/60))\n",
    "breaker()"
   ]
  }
 ],
 "metadata": {
  "kernelspec": {
   "display_name": "Python 3",
   "language": "python",
   "name": "python3"
  },
  "language_info": {
   "codemirror_mode": {
    "name": "ipython",
    "version": 3
   },
   "file_extension": ".py",
   "mimetype": "text/x-python",
   "name": "python",
   "nbconvert_exporter": "python",
   "pygments_lexer": "ipython3",
   "version": "3.7.10"
  },
  "papermill": {
   "default_parameters": {},
   "duration": 131.577531,
   "end_time": "2021-10-08T03:31:02.120467",
   "environment_variables": {},
   "exception": null,
   "input_path": "__notebook__.ipynb",
   "output_path": "__notebook__.ipynb",
   "parameters": {},
   "start_time": "2021-10-08T03:28:50.542936",
   "version": "2.3.3"
  }
 },
 "nbformat": 4,
 "nbformat_minor": 5
}
