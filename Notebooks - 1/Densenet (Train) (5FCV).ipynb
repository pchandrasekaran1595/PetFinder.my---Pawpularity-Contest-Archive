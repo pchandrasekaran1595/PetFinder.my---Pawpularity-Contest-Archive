{
 "cells": [
  {
   "cell_type": "markdown",
   "id": "d7097809",
   "metadata": {
    "_cell_guid": "b1076dfc-b9ad-4769-8c92-a6c4dae69d19",
    "_uuid": "8f2839f25d086af736a60e9eeb907d3b93b6e0e5",
    "papermill": {
     "duration": 0.016185,
     "end_time": "2021-10-06T14:57:29.621137",
     "exception": false,
     "start_time": "2021-10-06T14:57:29.604952",
     "status": "completed"
    },
    "tags": []
   },
   "source": [
    "## Library Imports"
   ]
  },
  {
   "cell_type": "code",
   "execution_count": 1,
   "id": "dc0b056b",
   "metadata": {
    "execution": {
     "iopub.execute_input": "2021-10-06T14:57:29.660434Z",
     "iopub.status.busy": "2021-10-06T14:57:29.658436Z",
     "iopub.status.idle": "2021-10-06T14:57:29.753037Z",
     "shell.execute_reply": "2021-10-06T14:57:29.752406Z",
     "shell.execute_reply.started": "2021-10-06T14:55:41.742904Z"
    },
    "papermill": {
     "duration": 0.114396,
     "end_time": "2021-10-06T14:57:29.753259",
     "exception": false,
     "start_time": "2021-10-06T14:57:29.638863",
     "status": "completed"
    },
    "tags": []
   },
   "outputs": [],
   "source": [
    "from time import time\n",
    "notebook_start_time = time()"
   ]
  },
  {
   "cell_type": "code",
   "execution_count": 2,
   "id": "04706630",
   "metadata": {
    "execution": {
     "iopub.execute_input": "2021-10-06T14:57:29.791745Z",
     "iopub.status.busy": "2021-10-06T14:57:29.788428Z",
     "iopub.status.idle": "2021-10-06T14:57:35.388831Z",
     "shell.execute_reply": "2021-10-06T14:57:35.387851Z",
     "shell.execute_reply.started": "2021-10-06T14:55:41.749549Z"
    },
    "papermill": {
     "duration": 5.620193,
     "end_time": "2021-10-06T14:57:35.388981",
     "exception": false,
     "start_time": "2021-10-06T14:57:29.768788",
     "status": "completed"
    },
    "tags": []
   },
   "outputs": [],
   "source": [
    "import os\n",
    "import re\n",
    "import pickle\n",
    "import numpy as np\n",
    "import pandas as pd\n",
    "import matplotlib.pyplot as plt\n",
    "\n",
    "import torch\n",
    "from torch import nn, optim\n",
    "from torch.utils.data import Dataset\n",
    "from torch.utils.data import DataLoader as DL\n",
    "from torch.nn.utils import weight_norm as WN\n",
    "from torchvision import models, transforms\n",
    "\n",
    "from sklearn.model_selection import KFold\n",
    "from sklearn.metrics import mean_squared_error\n",
    "from sklearn.preprocessing import StandardScaler"
   ]
  },
  {
   "cell_type": "markdown",
   "id": "7177482e",
   "metadata": {
    "papermill": {
     "duration": 0.015836,
     "end_time": "2021-10-06T14:57:35.423624",
     "exception": false,
     "start_time": "2021-10-06T14:57:35.407788",
     "status": "completed"
    },
    "tags": []
   },
   "source": [
    "## Constants and Utilities"
   ]
  },
  {
   "cell_type": "code",
   "execution_count": 3,
   "id": "043c8dd0",
   "metadata": {
    "execution": {
     "iopub.execute_input": "2021-10-06T14:57:35.511461Z",
     "iopub.status.busy": "2021-10-06T14:57:35.510704Z",
     "iopub.status.idle": "2021-10-06T14:57:35.514712Z",
     "shell.execute_reply": "2021-10-06T14:57:35.513680Z",
     "shell.execute_reply.started": "2021-10-06T14:55:41.761827Z"
    },
    "papermill": {
     "duration": 0.075146,
     "end_time": "2021-10-06T14:57:35.514853",
     "exception": false,
     "start_time": "2021-10-06T14:57:35.439707",
     "status": "completed"
    },
    "tags": []
   },
   "outputs": [],
   "source": [
    "SEED = 0\n",
    "DEVICE = torch.device(\"cuda\" if torch.cuda.is_available() else \"cpu\")\n",
    "PATH = \"../input/petfinder-pawpularity-score\"\n",
    "FEATURES_PATH = \"../input/petfinder-pretrained-features-unaugmented\"\n",
    "\n",
    "sc_y = StandardScaler()"
   ]
  },
  {
   "cell_type": "code",
   "execution_count": 4,
   "id": "ae7ffb3c",
   "metadata": {
    "execution": {
     "iopub.execute_input": "2021-10-06T14:57:35.559451Z",
     "iopub.status.busy": "2021-10-06T14:57:35.557851Z",
     "iopub.status.idle": "2021-10-06T14:57:35.560604Z",
     "shell.execute_reply": "2021-10-06T14:57:35.561224Z",
     "shell.execute_reply.started": "2021-10-06T14:55:41.769854Z"
    },
    "papermill": {
     "duration": 0.031323,
     "end_time": "2021-10-06T14:57:35.561406",
     "exception": false,
     "start_time": "2021-10-06T14:57:35.530083",
     "status": "completed"
    },
    "tags": []
   },
   "outputs": [],
   "source": [
    "def breaker(num=50, char=\"*\") -> None:\n",
    "    print(\"\\n\" + num*char + \"\\n\")\n",
    "\n",
    "\n",
    "def head(x, no_of_ele=5) -> None:\n",
    "    print(x[:no_of_ele])\n",
    "\n",
    "\n",
    "def get_targets(path: str) -> np.ndarray:\n",
    "    df = pd.read_csv(os.path.join(path, \"train.csv\"), engine=\"python\")\n",
    "    targets  = df.iloc[:, -1].copy().values\n",
    "    return targets\n",
    "\n",
    "\n",
    "def normalize(x):\n",
    "    for i in range(x.shape[0]):\n",
    "        x[i] = (x[i] - torch.min(x[i])) / (torch.max(x[i]) - torch.min(x[i]))\n",
    "    return x\n",
    "\n",
    "\n",
    "def show_graphs(L: list) -> None:\n",
    "    TL, VL = [], []\n",
    "    for i in range(len(L)):\n",
    "        TL.append(L[i][\"train\"])\n",
    "        VL.append(L[i][\"valid\"])    \n",
    "    \n",
    "    x_Axis = np.arange(1, len(L) + 1)\n",
    "    plt.figure()\n",
    "    plt.plot(x_Axis, TL, \"r\", label=\"train\")\n",
    "    plt.plot(x_Axis, VL, \"b\", label=\"valid\")\n",
    "    plt.grid()\n",
    "    plt.legend()\n",
    "    plt.title(\"MSE Loss\")\n",
    "    plt.show()"
   ]
  },
  {
   "cell_type": "markdown",
   "id": "c3ab3352",
   "metadata": {
    "papermill": {
     "duration": 0.01486,
     "end_time": "2021-10-06T14:57:35.591634",
     "exception": false,
     "start_time": "2021-10-06T14:57:35.576774",
     "status": "completed"
    },
    "tags": []
   },
   "source": [
    "## Dataset Template"
   ]
  },
  {
   "cell_type": "code",
   "execution_count": 5,
   "id": "2e10500f",
   "metadata": {
    "execution": {
     "iopub.execute_input": "2021-10-06T14:57:35.631944Z",
     "iopub.status.busy": "2021-10-06T14:57:35.630974Z",
     "iopub.status.idle": "2021-10-06T14:57:35.633566Z",
     "shell.execute_reply": "2021-10-06T14:57:35.634351Z",
     "shell.execute_reply.started": "2021-10-06T14:55:41.786375Z"
    },
    "papermill": {
     "duration": 0.026308,
     "end_time": "2021-10-06T14:57:35.634560",
     "exception": false,
     "start_time": "2021-10-06T14:57:35.608252",
     "status": "completed"
    },
    "tags": []
   },
   "outputs": [],
   "source": [
    "class DS(Dataset):\n",
    "    def __init__(self, features=None, targets=None):\n",
    "        self.features = features\n",
    "        self.targets  = targets\n",
    "        \n",
    "    def __len__(self):\n",
    "        return self.features.shape[0]\n",
    "    \n",
    "    def __getitem__(self, idx):\n",
    "        return torch.FloatTensor(self.features[idx]), torch.FloatTensor(self.targets[idx])"
   ]
  },
  {
   "cell_type": "markdown",
   "id": "68726b99",
   "metadata": {
    "papermill": {
     "duration": 0.01593,
     "end_time": "2021-10-06T14:57:35.666967",
     "exception": false,
     "start_time": "2021-10-06T14:57:35.651037",
     "status": "completed"
    },
    "tags": []
   },
   "source": [
    "## Build Dataloaders"
   ]
  },
  {
   "cell_type": "code",
   "execution_count": 6,
   "id": "28644175",
   "metadata": {
    "execution": {
     "iopub.execute_input": "2021-10-06T14:57:35.708420Z",
     "iopub.status.busy": "2021-10-06T14:57:35.707292Z",
     "iopub.status.idle": "2021-10-06T14:57:35.710506Z",
     "shell.execute_reply": "2021-10-06T14:57:35.709888Z",
     "shell.execute_reply.started": "2021-10-06T14:55:41.795460Z"
    },
    "papermill": {
     "duration": 0.027222,
     "end_time": "2021-10-06T14:57:35.710666",
     "exception": false,
     "start_time": "2021-10-06T14:57:35.683444",
     "status": "completed"
    },
    "tags": []
   },
   "outputs": [],
   "source": [
    "def build_dataloaders(tr_features: np.ndarray, va_features: np.ndarray,\n",
    "                      tr_targets: np.ndarray, va_targets: np.ndarray,\n",
    "                      batch_size: int, seed: int):\n",
    "\n",
    "    breaker()\n",
    "    print(\"Building Train and Validation DataLoaders ...\")\n",
    "    \n",
    "    tr_data_setup = DS(features=tr_features, targets=tr_targets)\n",
    "    va_data_setup = DS(features=va_features, targets=va_targets)\n",
    "    \n",
    "    dataloaders = {\n",
    "        \"train\" : DL(tr_data_setup, batch_size=batch_size, shuffle=True, generator=torch.manual_seed(seed)),\n",
    "        \"valid\" : DL(va_data_setup, batch_size=batch_size, shuffle=False)\n",
    "    }\n",
    "    \n",
    "    return dataloaders"
   ]
  },
  {
   "cell_type": "markdown",
   "id": "b52d3c49",
   "metadata": {
    "papermill": {
     "duration": 0.015079,
     "end_time": "2021-10-06T14:57:35.741934",
     "exception": false,
     "start_time": "2021-10-06T14:57:35.726855",
     "status": "completed"
    },
    "tags": []
   },
   "source": [
    "## Build Model"
   ]
  },
  {
   "cell_type": "code",
   "execution_count": 7,
   "id": "b5795ba1",
   "metadata": {
    "execution": {
     "iopub.execute_input": "2021-10-06T14:57:35.778093Z",
     "iopub.status.busy": "2021-10-06T14:57:35.776952Z",
     "iopub.status.idle": "2021-10-06T14:57:35.789132Z",
     "shell.execute_reply": "2021-10-06T14:57:35.788531Z",
     "shell.execute_reply.started": "2021-10-06T14:55:41.804262Z"
    },
    "papermill": {
     "duration": 0.031285,
     "end_time": "2021-10-06T14:57:35.789303",
     "exception": false,
     "start_time": "2021-10-06T14:57:35.758018",
     "status": "completed"
    },
    "tags": []
   },
   "outputs": [],
   "source": [
    "def build_model(IL: int, seed: int):\n",
    "    class ANN(nn.Module):\n",
    "        def __init__(self, IL=None):\n",
    "            super(ANN, self).__init__()\n",
    "\n",
    "            self.predictor = nn.Sequential()\n",
    "            self.predictor.add_module(\"BN\", nn.BatchNorm1d(num_features=IL, eps=1e-5))\n",
    "            self.predictor.add_module(\"FC\", WN(nn.Linear(in_features=IL, out_features=1)))\n",
    "\n",
    "        def get_optimizer(self, lr=1e-3, wd=0):\n",
    "            params = [p for p in self.parameters() if p.requires_grad]\n",
    "            return optim.Adam(params, lr=lr, weight_decay=wd)\n",
    "\n",
    "        def get_plateau_scheduler(self, optimizer=None, patience=5, eps=1e-8):\n",
    "            return optim.lr_scheduler.ReduceLROnPlateau(optimizer=optimizer, patience=patience, eps=eps, verbose=True)\n",
    "\n",
    "        def forward(self, x):\n",
    "            return self.predictor(x)\n",
    "    \n",
    "    breaker()\n",
    "    print(\"Building Model ...\")\n",
    "    print(\"\\n{} -> 1\".format(IL))\n",
    "    \n",
    "    torch.manual_seed(seed)\n",
    "    model = ANN(IL=IL)\n",
    "    \n",
    "    return model"
   ]
  },
  {
   "cell_type": "markdown",
   "id": "4529a13e",
   "metadata": {
    "papermill": {
     "duration": 0.015135,
     "end_time": "2021-10-06T14:57:35.819038",
     "exception": false,
     "start_time": "2021-10-06T14:57:35.803903",
     "status": "completed"
    },
    "tags": []
   },
   "source": [
    "## Fit and Predict Helpers"
   ]
  },
  {
   "cell_type": "code",
   "execution_count": 8,
   "id": "41730dac",
   "metadata": {
    "execution": {
     "iopub.execute_input": "2021-10-06T14:57:35.855086Z",
     "iopub.status.busy": "2021-10-06T14:57:35.853741Z",
     "iopub.status.idle": "2021-10-06T14:57:35.880723Z",
     "shell.execute_reply": "2021-10-06T14:57:35.879980Z",
     "shell.execute_reply.started": "2021-10-06T14:55:41.816784Z"
    },
    "papermill": {
     "duration": 0.046671,
     "end_time": "2021-10-06T14:57:35.880857",
     "exception": false,
     "start_time": "2021-10-06T14:57:35.834186",
     "status": "completed"
    },
    "tags": []
   },
   "outputs": [],
   "source": [
    "def fit(model=None, optimizer=None, scheduler=None, \n",
    "        epochs=None, early_stopping_patience=None,\n",
    "        dataloaders=None, fold=None, verbose=False) -> tuple:\n",
    "    \n",
    "    name = \"./Fold_{}_state.pt\".format(fold)\n",
    "    \n",
    "    breaker()\n",
    "    print(\"Training Fold {}...\".format(fold))\n",
    "    breaker()\n",
    "\n",
    "    Losses = []\n",
    "    bestLoss = {\"train\" : np.inf, \"valid\" : np.inf}\n",
    "\n",
    "    model.to(DEVICE)\n",
    "    start_time = time()\n",
    "    for e in range(epochs):\n",
    "        e_st = time()\n",
    "        epochLoss = {\"train\" : np.inf, \"valid\" : np.inf}\n",
    "\n",
    "        for phase in [\"train\", \"valid\"]:\n",
    "            if phase == \"train\":\n",
    "                model.train()\n",
    "            else:\n",
    "                model.eval()\n",
    "            \n",
    "            lossPerPass = []\n",
    "\n",
    "            for X, y in dataloaders[phase]:\n",
    "                X, y = X.to(DEVICE), y.to(DEVICE)\n",
    "\n",
    "                optimizer.zero_grad()\n",
    "                with torch.set_grad_enabled(phase == \"train\"):\n",
    "                    output = model(X)\n",
    "                    loss = torch.nn.MSELoss()(output, y)\n",
    "                    if phase == \"train\":\n",
    "                        loss.backward()\n",
    "                        optimizer.step()\n",
    "                lossPerPass.append(loss.item())\n",
    "            epochLoss[phase] = np.mean(np.array(lossPerPass))\n",
    "        Losses.append(epochLoss)\n",
    "        \n",
    "        if early_stopping_patience:\n",
    "            if epochLoss[\"valid\"] < bestLoss[\"valid\"]:\n",
    "                bestLoss = epochLoss\n",
    "                BLE = e + 1\n",
    "                torch.save({\"model_state_dict\": model.state_dict(),\n",
    "                            \"optim_state_dict\": optimizer.state_dict()},\n",
    "                           name)\n",
    "                early_stopping_step = 0\n",
    "            else:\n",
    "                early_stopping_step += 1\n",
    "                if early_stopping_step > early_stopping_patience:\n",
    "                    print(\"\\nEarly Stopping at Epoch {}\".format(e))\n",
    "                    break\n",
    "        \n",
    "        if epochLoss[\"valid\"] < bestLoss[\"valid\"]:\n",
    "            bestLoss = epochLoss\n",
    "            BLE = e + 1\n",
    "            torch.save({\"model_state_dict\": model.state_dict(),\n",
    "                        \"optim_state_dict\": optimizer.state_dict()},\n",
    "                       name)\n",
    "        \n",
    "        if scheduler:\n",
    "            scheduler.step(epochLoss[\"valid\"])\n",
    "        \n",
    "        if verbose:\n",
    "            print(\"Epoch: {} | Train Loss: {:.5f} | Valid Loss: {:.5f} | Time: {:.2f} seconds\".format(e+1, epochLoss[\"train\"], epochLoss[\"valid\"], time()-e_st))\n",
    "    \n",
    "    breaker()\n",
    "    print(\"Best Validation Loss at Epoch {}\".format(BLE))\n",
    "    breaker()\n",
    "    print(\"Time Taken [{} Epochs] : {:.2f} minutes\".format(len(Losses), (time()-start_time)/60))\n",
    "    breaker()\n",
    "    print(\"Training Completed\")\n",
    "    breaker()\n",
    "\n",
    "    return Losses, BLE, name\n",
    "\n",
    "#####################################################################################################\n",
    "\n",
    "def predict_batch(model=None, dataloader=None, mode=\"test\", path=None) -> np.ndarray:\n",
    "    model.load_state_dict(torch.load(path, map_location=DEVICE)[\"model_state_dict\"])\n",
    "    model.to(DEVICE)\n",
    "    model.eval()\n",
    "\n",
    "    y_pred = torch.zeros(1, 1).to(DEVICE)\n",
    "    if re.match(r\"valid\", mode, re.IGNORECASE):\n",
    "        for X, _ in dataloader:\n",
    "            X = X.to(DEVICE)\n",
    "            with torch.no_grad():\n",
    "                output = model(X)\n",
    "            y_pred = torch.cat((y_pred, output.view(-1, 1)), dim=0)\n",
    "    elif re.match(r\"test\", mode, re.IGNORECASE):\n",
    "        for X in dataloader:\n",
    "            X = X.to(DEVICE)\n",
    "            with torch.no_grad():\n",
    "                output = model(X)\n",
    "            y_pred = torch.cat((y_pred, output.view(-1, 1)), dim=0)\n",
    "    \n",
    "    return y_pred[1:].detach().cpu().numpy()"
   ]
  },
  {
   "cell_type": "markdown",
   "id": "59c3bb8c",
   "metadata": {
    "papermill": {
     "duration": 0.015678,
     "end_time": "2021-10-06T14:57:35.912652",
     "exception": false,
     "start_time": "2021-10-06T14:57:35.896974",
     "status": "completed"
    },
    "tags": []
   },
   "source": [
    "## Train Helper"
   ]
  },
  {
   "cell_type": "code",
   "execution_count": 9,
   "id": "14c06475",
   "metadata": {
    "execution": {
     "iopub.execute_input": "2021-10-06T14:57:35.955530Z",
     "iopub.status.busy": "2021-10-06T14:57:35.954484Z",
     "iopub.status.idle": "2021-10-06T14:57:35.964598Z",
     "shell.execute_reply": "2021-10-06T14:57:35.963712Z",
     "shell.execute_reply.started": "2021-10-06T14:55:41.860408Z"
    },
    "papermill": {
     "duration": 0.035932,
     "end_time": "2021-10-06T14:57:35.964743",
     "exception": false,
     "start_time": "2021-10-06T14:57:35.928811",
     "status": "completed"
    },
    "tags": []
   },
   "outputs": [],
   "source": [
    "def train(features: np.ndarray, targets: np.ndarray,\n",
    "          n_splits: int, batch_size: int, lr: float, wd: float, \n",
    "          epochs: int, early_stopping: int, \n",
    "          patience=None, eps=None) -> list:        \n",
    "    \n",
    "    metrics = []\n",
    "        \n",
    "    KFold_start_time = time()\n",
    "    breaker()\n",
    "    print(\"Performing {} Fold CV ...\".format(n_splits))\n",
    "    fold = 1\n",
    "    for tr_idx, va_idx in KFold(n_splits=n_splits, shuffle=True, random_state=SEED).split(features):\n",
    "\n",
    "        tr_features, va_features = features[tr_idx], features[va_idx]\n",
    "        tr_targets, va_targets   = targets[tr_idx], targets[va_idx]\n",
    "\n",
    "        tr_targets, va_targets   = tr_targets.reshape(-1, 1), va_targets.reshape(-1, 1)\n",
    "\n",
    "        tr_targets = sc_y.fit_transform(tr_targets)\n",
    "        va_targets = sc_y.transform(va_targets)\n",
    "\n",
    "        dataloaders = build_dataloaders(tr_features, va_features, \n",
    "                                         tr_targets, va_targets, \n",
    "                                         batch_size, SEED)\n",
    "        model = build_model(IL=tr_features.shape[1], seed=SEED)\n",
    "        \n",
    "        optimizer = model.get_optimizer(lr=lr, wd=wd)\n",
    "        scheduler = None\n",
    "        if isinstance(patience, int) and isinstance(eps, float):\n",
    "            scheduler = model.get_plateau_scheduler(optimizer, patience, eps)\n",
    "\n",
    "        L, _, name = fit(model=model, optimizer=optimizer, scheduler=scheduler, \n",
    "                         epochs=epochs, early_stopping_patience=early_stopping,\n",
    "                         dataloaders=dataloaders, fold=fold, verbose=True)\n",
    "        y_pred = predict_batch(model=model, dataloader=dataloaders[\"valid\"], mode=\"valid\", path=name)\n",
    "        RMSE = np.sqrt(mean_squared_error(y_pred, va_targets))\n",
    "        print(\"Validation RMSE [Fold {}]: {:.5f}\".format(fold, RMSE))\n",
    "        breaker()\n",
    "        show_graphs(L)\n",
    "        \n",
    "        metrics_dict = {\"Fold\" : fold, \"RMSE\" : RMSE}\n",
    "        metrics.append(metrics_dict)\n",
    "        \n",
    "        fold += 1\n",
    "    \n",
    "    breaker()\n",
    "    print(\"Total Time to {} Fold CV : {:.2f} minutes\".format(n_splits, (time() - KFold_start_time)/60))\n",
    "    breaker()\n",
    "    \n",
    "    return metrics"
   ]
  },
  {
   "cell_type": "markdown",
   "id": "e5d22b87",
   "metadata": {
    "papermill": {
     "duration": 0.014959,
     "end_time": "2021-10-06T14:57:35.995151",
     "exception": false,
     "start_time": "2021-10-06T14:57:35.980192",
     "status": "completed"
    },
    "tags": []
   },
   "source": [
    "## Main"
   ]
  },
  {
   "cell_type": "code",
   "execution_count": 10,
   "id": "962b57a2",
   "metadata": {
    "execution": {
     "iopub.execute_input": "2021-10-06T14:57:36.035981Z",
     "iopub.status.busy": "2021-10-06T14:57:36.028999Z",
     "iopub.status.idle": "2021-10-06T14:58:48.620629Z",
     "shell.execute_reply": "2021-10-06T14:58:48.621627Z",
     "shell.execute_reply.started": "2021-10-06T14:55:41.874853Z"
    },
    "papermill": {
     "duration": 72.611802,
     "end_time": "2021-10-06T14:58:48.621851",
     "exception": false,
     "start_time": "2021-10-06T14:57:36.010049",
     "status": "completed"
    },
    "tags": []
   },
   "outputs": [
    {
     "name": "stdout",
     "output_type": "stream",
     "text": [
      "\n",
      "**************************************************\n",
      "\n",
      "Loading Data ...\n",
      "\n",
      "**************************************************\n",
      "\n",
      "Performing 5 Fold CV ...\n",
      "\n",
      "**************************************************\n",
      "\n",
      "Building Train and Validation DataLoaders ...\n",
      "\n",
      "**************************************************\n",
      "\n",
      "Building Model ...\n",
      "\n",
      "1664 -> 1\n",
      "\n",
      "**************************************************\n",
      "\n",
      "Training Fold 1...\n",
      "\n",
      "**************************************************\n",
      "\n",
      "Epoch: 1 | Train Loss: 0.87334 | Valid Loss: 0.84516 | Time: 1.06 seconds\n",
      "Epoch: 2 | Train Loss: 0.80366 | Valid Loss: 0.83716 | Time: 0.95 seconds\n",
      "Epoch: 3 | Train Loss: 0.78917 | Valid Loss: 0.83050 | Time: 0.95 seconds\n",
      "Epoch: 4 | Train Loss: 0.77556 | Valid Loss: 0.83180 | Time: 0.94 seconds\n",
      "Epoch: 5 | Train Loss: 0.76899 | Valid Loss: 0.83411 | Time: 0.95 seconds\n",
      "Epoch: 6 | Train Loss: 0.76206 | Valid Loss: 0.82701 | Time: 0.95 seconds\n",
      "Epoch: 7 | Train Loss: 0.75534 | Valid Loss: 0.82425 | Time: 0.94 seconds\n",
      "Epoch: 8 | Train Loss: 0.75595 | Valid Loss: 0.82702 | Time: 0.97 seconds\n",
      "Epoch: 9 | Train Loss: 0.75296 | Valid Loss: 0.82798 | Time: 0.96 seconds\n",
      "Epoch: 10 | Train Loss: 0.75470 | Valid Loss: 0.82613 | Time: 0.97 seconds\n",
      "Epoch: 11 | Train Loss: 0.75145 | Valid Loss: 0.82852 | Time: 1.19 seconds\n",
      "Epoch: 12 | Train Loss: 0.75128 | Valid Loss: 0.83079 | Time: 0.96 seconds\n",
      "Epoch: 13 | Train Loss: 0.74677 | Valid Loss: 0.82789 | Time: 0.95 seconds\n",
      "Epoch: 14 | Train Loss: 0.74578 | Valid Loss: 0.82616 | Time: 0.99 seconds\n",
      "Epoch: 15 | Train Loss: 0.74487 | Valid Loss: 0.83228 | Time: 0.98 seconds\n",
      "\n",
      "Early Stopping at Epoch 15\n",
      "\n",
      "**************************************************\n",
      "\n",
      "Best Validation Loss at Epoch 7\n",
      "\n",
      "**************************************************\n",
      "\n",
      "Time Taken [16 Epochs] : 0.26 minutes\n",
      "\n",
      "**************************************************\n",
      "\n",
      "Training Completed\n",
      "\n",
      "**************************************************\n",
      "\n",
      "Validation RMSE [Fold 1]: 0.90793\n",
      "\n",
      "**************************************************\n",
      "\n"
     ]
    },
    {
     "data": {
      "image/png": "[encoded data removed]",
      "text/plain": [
       "<Figure size 432x288 with 1 Axes>"
      ]
     },
     "metadata": {
      "needs_background": "light"
     },
     "output_type": "display_data"
    },
    {
     "name": "stdout",
     "output_type": "stream",
     "text": [
      "\n",
      "**************************************************\n",
      "\n",
      "Building Train and Validation DataLoaders ...\n",
      "\n",
      "**************************************************\n",
      "\n",
      "Building Model ...\n",
      "\n",
      "1664 -> 1\n",
      "\n",
      "**************************************************\n",
      "\n",
      "Training Fold 2...\n",
      "\n",
      "**************************************************\n",
      "\n",
      "Epoch: 1 | Train Loss: 0.86780 | Valid Loss: 0.74066 | Time: 0.95 seconds\n",
      "Epoch: 2 | Train Loss: 0.80029 | Valid Loss: 0.73799 | Time: 0.96 seconds\n",
      "Epoch: 3 | Train Loss: 0.78638 | Valid Loss: 0.72851 | Time: 0.97 seconds\n",
      "Epoch: 4 | Train Loss: 0.77052 | Valid Loss: 0.73401 | Time: 0.98 seconds\n",
      "Epoch: 5 | Train Loss: 0.76606 | Valid Loss: 0.73687 | Time: 1.10 seconds\n",
      "Epoch: 6 | Train Loss: 0.75998 | Valid Loss: 0.73911 | Time: 1.05 seconds\n",
      "Epoch: 7 | Train Loss: 0.75594 | Valid Loss: 0.74036 | Time: 1.01 seconds\n",
      "Epoch: 8 | Train Loss: 0.75338 | Valid Loss: 0.73976 | Time: 0.95 seconds\n",
      "Epoch: 9 | Train Loss: 0.74177 | Valid Loss: 0.74358 | Time: 0.94 seconds\n",
      "Epoch: 10 | Train Loss: 0.74852 | Valid Loss: 0.73991 | Time: 0.99 seconds\n",
      "Epoch: 11 | Train Loss: 0.75356 | Valid Loss: 0.73718 | Time: 1.12 seconds\n",
      "\n",
      "Early Stopping at Epoch 11\n",
      "\n",
      "**************************************************\n",
      "\n",
      "Best Validation Loss at Epoch 3\n",
      "\n",
      "**************************************************\n",
      "\n",
      "Time Taken [12 Epochs] : 0.20 minutes\n",
      "\n",
      "**************************************************\n",
      "\n",
      "Training Completed\n",
      "\n",
      "**************************************************\n",
      "\n",
      "Validation RMSE [Fold 2]: 0.85344\n",
      "\n",
      "**************************************************\n",
      "\n"
     ]
    },
    {
     "data": {
      "image/png": "[encoded data removed]",
      "text/plain": [
       "<Figure size 432x288 with 1 Axes>"
      ]
     },
     "metadata": {
      "needs_background": "light"
     },
     "output_type": "display_data"
    },
    {
     "name": "stdout",
     "output_type": "stream",
     "text": [
      "\n",
      "**************************************************\n",
      "\n",
      "Building Train and Validation DataLoaders ...\n",
      "\n",
      "**************************************************\n",
      "\n",
      "Building Model ...\n",
      "\n",
      "1664 -> 1\n",
      "\n",
      "**************************************************\n",
      "\n",
      "Training Fold 3...\n",
      "\n",
      "**************************************************\n",
      "\n",
      "Epoch: 1 | Train Loss: 0.86760 | Valid Loss: 0.85078 | Time: 0.96 seconds\n",
      "Epoch: 2 | Train Loss: 0.79373 | Valid Loss: 0.84836 | Time: 0.96 seconds\n",
      "Epoch: 3 | Train Loss: 0.77688 | Valid Loss: 0.86018 | Time: 0.97 seconds\n",
      "Epoch: 4 | Train Loss: 0.76812 | Valid Loss: 0.85512 | Time: 1.23 seconds\n",
      "Epoch: 5 | Train Loss: 0.76166 | Valid Loss: 0.85504 | Time: 0.97 seconds\n",
      "Epoch: 6 | Train Loss: 0.75390 | Valid Loss: 0.86095 | Time: 0.99 seconds\n",
      "Epoch: 7 | Train Loss: 0.74791 | Valid Loss: 0.85347 | Time: 1.00 seconds\n",
      "Epoch: 8 | Train Loss: 0.74661 | Valid Loss: 0.85316 | Time: 0.96 seconds\n",
      "Epoch: 9 | Train Loss: 0.74295 | Valid Loss: 0.85090 | Time: 0.99 seconds\n",
      "Epoch: 10 | Train Loss: 0.74204 | Valid Loss: 0.86149 | Time: 0.94 seconds\n",
      "\n",
      "Early Stopping at Epoch 10\n",
      "\n",
      "**************************************************\n",
      "\n",
      "Best Validation Loss at Epoch 2\n",
      "\n",
      "**************************************************\n",
      "\n",
      "Time Taken [11 Epochs] : 0.18 minutes\n",
      "\n",
      "**************************************************\n",
      "\n",
      "Training Completed\n",
      "\n",
      "**************************************************\n",
      "\n",
      "Validation RMSE [Fold 3]: 0.92117\n",
      "\n",
      "**************************************************\n",
      "\n"
     ]
    },
    {
     "data": {
      "image/png": "[encoded data removed]",
      "text/plain": [
       "<Figure size 432x288 with 1 Axes>"
      ]
     },
     "metadata": {
      "needs_background": "light"
     },
     "output_type": "display_data"
    },
    {
     "name": "stdout",
     "output_type": "stream",
     "text": [
      "\n",
      "**************************************************\n",
      "\n",
      "Building Train and Validation DataLoaders ...\n",
      "\n",
      "**************************************************\n",
      "\n",
      "Building Model ...\n",
      "\n",
      "1664 -> 1\n",
      "\n",
      "**************************************************\n",
      "\n",
      "Training Fold 4...\n",
      "\n",
      "**************************************************\n",
      "\n",
      "Epoch: 1 | Train Loss: 0.87268 | Valid Loss: 0.88974 | Time: 0.96 seconds\n",
      "Epoch: 2 | Train Loss: 0.80055 | Valid Loss: 0.87438 | Time: 0.97 seconds\n",
      "Epoch: 3 | Train Loss: 0.78078 | Valid Loss: 0.88700 | Time: 1.16 seconds\n",
      "Epoch: 4 | Train Loss: 0.77087 | Valid Loss: 0.89447 | Time: 1.05 seconds\n",
      "Epoch: 5 | Train Loss: 0.76514 | Valid Loss: 0.89011 | Time: 0.98 seconds\n",
      "Epoch: 6 | Train Loss: 0.75626 | Valid Loss: 0.89769 | Time: 0.98 seconds\n",
      "Epoch: 7 | Train Loss: 0.74972 | Valid Loss: 0.90096 | Time: 0.97 seconds\n",
      "Epoch: 8 | Train Loss: 0.74661 | Valid Loss: 0.89730 | Time: 0.97 seconds\n",
      "Epoch: 9 | Train Loss: 0.74454 | Valid Loss: 0.89368 | Time: 0.96 seconds\n",
      "Epoch: 10 | Train Loss: 0.74374 | Valid Loss: 0.89654 | Time: 0.97 seconds\n",
      "\n",
      "Early Stopping at Epoch 10\n",
      "\n",
      "**************************************************\n",
      "\n",
      "Best Validation Loss at Epoch 2\n",
      "\n",
      "**************************************************\n",
      "\n",
      "Time Taken [11 Epochs] : 0.18 minutes\n",
      "\n",
      "**************************************************\n",
      "\n",
      "Training Completed\n",
      "\n",
      "**************************************************\n",
      "\n",
      "Validation RMSE [Fold 4]: 0.93499\n",
      "\n",
      "**************************************************\n",
      "\n"
     ]
    },
    {
     "data": {
      "image/png": "[encoded data removed]",
      "text/plain": [
       "<Figure size 432x288 with 1 Axes>"
      ]
     },
     "metadata": {
      "needs_background": "light"
     },
     "output_type": "display_data"
    },
    {
     "name": "stdout",
     "output_type": "stream",
     "text": [
      "\n",
      "**************************************************\n",
      "\n",
      "Building Train and Validation DataLoaders ...\n",
      "\n",
      "**************************************************\n",
      "\n",
      "Building Model ...\n",
      "\n",
      "1664 -> 1\n",
      "\n",
      "**************************************************\n",
      "\n",
      "Training Fold 5...\n",
      "\n",
      "**************************************************\n",
      "\n",
      "Epoch: 1 | Train Loss: 0.86448 | Valid Loss: 0.78483 | Time: 0.96 seconds\n",
      "Epoch: 2 | Train Loss: 0.79800 | Valid Loss: 0.78792 | Time: 1.01 seconds\n",
      "Epoch: 3 | Train Loss: 0.78143 | Valid Loss: 0.77792 | Time: 1.23 seconds\n",
      "Epoch: 4 | Train Loss: 0.76672 | Valid Loss: 0.78408 | Time: 0.96 seconds\n",
      "Epoch: 5 | Train Loss: 0.76159 | Valid Loss: 0.78768 | Time: 0.97 seconds\n",
      "Epoch: 6 | Train Loss: 0.75667 | Valid Loss: 0.78644 | Time: 0.99 seconds\n",
      "Epoch: 7 | Train Loss: 0.75263 | Valid Loss: 0.79416 | Time: 0.97 seconds\n",
      "Epoch: 8 | Train Loss: 0.74770 | Valid Loss: 0.78932 | Time: 0.96 seconds\n",
      "Epoch: 9 | Train Loss: 0.74669 | Valid Loss: 0.79541 | Time: 1.43 seconds\n",
      "Epoch: 10 | Train Loss: 0.74430 | Valid Loss: 0.79286 | Time: 1.06 seconds\n",
      "Epoch: 11 | Train Loss: 0.74527 | Valid Loss: 0.79571 | Time: 0.97 seconds\n",
      "\n",
      "Early Stopping at Epoch 11\n",
      "\n",
      "**************************************************\n",
      "\n",
      "Best Validation Loss at Epoch 3\n",
      "\n",
      "**************************************************\n",
      "\n",
      "Time Taken [12 Epochs] : 0.21 minutes\n",
      "\n",
      "**************************************************\n",
      "\n",
      "Training Completed\n",
      "\n",
      "**************************************************\n",
      "\n",
      "Validation RMSE [Fold 5]: 0.88197\n",
      "\n",
      "**************************************************\n",
      "\n"
     ]
    },
    {
     "data": {
      "image/png": "[encoded data removed]",
      "text/plain": [
       "<Figure size 432x288 with 1 Axes>"
      ]
     },
     "metadata": {
      "needs_background": "light"
     },
     "output_type": "display_data"
    },
    {
     "name": "stdout",
     "output_type": "stream",
     "text": [
      "\n",
      "**************************************************\n",
      "\n",
      "Total Time to 5 Fold CV : 1.17 minutes\n",
      "\n",
      "**************************************************\n",
      "\n",
      "{'Fold': 1, 'RMSE': 0.9079298463427631}\n",
      "{'Fold': 2, 'RMSE': 0.8534393040250895}\n",
      "{'Fold': 3, 'RMSE': 0.9211683996652368}\n",
      "{'Fold': 4, 'RMSE': 0.934993094029471}\n",
      "{'Fold': 5, 'RMSE': 0.8819664601235285}\n",
      "\n",
      "**************************************************\n",
      "\n"
     ]
    }
   ],
   "source": [
    "def main():\n",
    "    DEBUG = False\n",
    "    \n",
    "    ########### Params ###########\n",
    "    \n",
    "    if DEBUG:\n",
    "        n_splits = 3\n",
    "        batch_size = 512\n",
    "        lr, wd = 1e-3, 1e-3\n",
    "        patience, eps = 5, 1e-8\n",
    "        epochs, early_stopping = 5, 5\n",
    "    else:\n",
    "        n_splits = 5\n",
    "        batch_size = 32\n",
    "        lr, wd = 1e-3, 1e-3\n",
    "        patience, eps = 5, 1e-8\n",
    "        epochs, early_stopping = 100, 8\n",
    "    \n",
    "    ##############################\n",
    "\n",
    "    breaker()\n",
    "    print(\"Loading Data ...\")\n",
    "    \n",
    "    features = np.load(os.path.join(FEATURES_PATH, \"densenet_features.npy\"))\n",
    "    targets = get_targets(PATH)\n",
    "\n",
    "    # Without Scheduler\n",
    "    metrics = train(features, targets, n_splits, batch_size, lr, wd, epochs, early_stopping, patience=None, eps=None)\n",
    "    \n",
    "    # # With Plateau Scheduler\n",
    "    # metrics = train(features, targets, n_splits, batch_size, lr, wd, epochs, early_stopping, patience=patience, eps=eps)    \n",
    "    \n",
    "    for i in range(len(metrics)):\n",
    "        print(metrics[i])\n",
    "\n",
    "    with open(\"metrics.pkl\", \"wb\") as fp:\n",
    "        pickle.dump(metrics, fp)\n",
    "    \n",
    "    breaker()\n",
    "\n",
    "main()"
   ]
  },
  {
   "cell_type": "code",
   "execution_count": 11,
   "id": "7a0b4af7",
   "metadata": {
    "execution": {
     "iopub.execute_input": "2021-10-06T14:58:48.718313Z",
     "iopub.status.busy": "2021-10-06T14:58:48.715980Z",
     "iopub.status.idle": "2021-10-06T14:58:48.721232Z",
     "shell.execute_reply": "2021-10-06T14:58:48.720587Z",
     "shell.execute_reply.started": "2021-10-06T14:55:46.659053Z"
    },
    "papermill": {
     "duration": 0.056825,
     "end_time": "2021-10-06T14:58:48.721412",
     "exception": false,
     "start_time": "2021-10-06T14:58:48.664587",
     "status": "completed"
    },
    "tags": []
   },
   "outputs": [
    {
     "name": "stdout",
     "output_type": "stream",
     "text": [
      "\n",
      "**************************************************\n",
      "\n",
      "Notebook Run Time : 1.32 minutes\n",
      "\n",
      "**************************************************\n",
      "\n"
     ]
    }
   ],
   "source": [
    "breaker()\n",
    "print(\"Notebook Run Time : {:.2f} minutes\".format((time()-notebook_start_time)/60))\n",
    "breaker()"
   ]
  }
 ],
 "metadata": {
  "kernelspec": {
   "display_name": "Python 3",
   "language": "python",
   "name": "python3"
  },
  "language_info": {
   "codemirror_mode": {
    "name": "ipython",
    "version": 3
   },
   "file_extension": ".py",
   "mimetype": "text/x-python",
   "name": "python",
   "nbconvert_exporter": "python",
   "pygments_lexer": "ipython3",
   "version": "3.7.10"
  },
  "papermill": {
   "default_parameters": {},
   "duration": 88.739788,
   "end_time": "2021-10-06T14:58:50.706673",
   "environment_variables": {},
   "exception": null,
   "input_path": "__notebook__.ipynb",
   "output_path": "__notebook__.ipynb",
   "parameters": {},
   "start_time": "2021-10-06T14:57:21.966885",
   "version": "2.3.3"
  }
 },
 "nbformat": 4,
 "nbformat_minor": 5
}
