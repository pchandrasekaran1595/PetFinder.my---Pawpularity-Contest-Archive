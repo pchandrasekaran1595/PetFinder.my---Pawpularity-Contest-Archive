{
 "cells": [
  {
   "cell_type": "markdown",
   "id": "a78b9bed",
   "metadata": {
    "_cell_guid": "b1076dfc-b9ad-4769-8c92-a6c4dae69d19",
    "_uuid": "8f2839f25d086af736a60e9eeb907d3b93b6e0e5",
    "papermill": {
     "duration": 0.010513,
     "end_time": "2021-10-06T16:27:32.436515",
     "exception": false,
     "start_time": "2021-10-06T16:27:32.426002",
     "status": "completed"
    },
    "tags": []
   },
   "source": [
    "## Library Imports"
   ]
  },
  {
   "cell_type": "code",
   "execution_count": 1,
   "id": "1d24bb60",
   "metadata": {
    "execution": {
     "iopub.execute_input": "2021-10-06T16:27:32.537846Z",
     "iopub.status.busy": "2021-10-06T16:27:32.537184Z",
     "iopub.status.idle": "2021-10-06T16:27:32.539860Z",
     "shell.execute_reply": "2021-10-06T16:27:32.540253Z",
     "shell.execute_reply.started": "2021-10-06T16:19:17.431083Z"
    },
    "papermill": {
     "duration": 0.092749,
     "end_time": "2021-10-06T16:27:32.540502",
     "exception": false,
     "start_time": "2021-10-06T16:27:32.447753",
     "status": "completed"
    },
    "tags": []
   },
   "outputs": [],
   "source": [
    "from time import time\n",
    "notebook_start_time = time()"
   ]
  },
  {
   "cell_type": "code",
   "execution_count": 2,
   "id": "95cc707b",
   "metadata": {
    "execution": {
     "iopub.execute_input": "2021-10-06T16:27:32.565269Z",
     "iopub.status.busy": "2021-10-06T16:27:32.564708Z",
     "iopub.status.idle": "2021-10-06T16:27:38.123755Z",
     "shell.execute_reply": "2021-10-06T16:27:38.123257Z",
     "shell.execute_reply.started": "2021-10-06T16:19:18.522355Z"
    },
    "papermill": {
     "duration": 5.573174,
     "end_time": "2021-10-06T16:27:38.123897",
     "exception": false,
     "start_time": "2021-10-06T16:27:32.550723",
     "status": "completed"
    },
    "tags": []
   },
   "outputs": [],
   "source": [
    "import os\n",
    "import re\n",
    "import cv2\n",
    "import numpy as np\n",
    "import pandas as pd\n",
    "import matplotlib.pyplot as plt\n",
    "\n",
    "import torch\n",
    "from torch import nn, optim\n",
    "from torch.utils.data import Dataset\n",
    "from torch.utils.data import DataLoader as DL\n",
    "from torch.nn.utils import weight_norm as WN\n",
    "from torchvision import models, transforms\n",
    "\n",
    "from sklearn.model_selection import KFold\n",
    "from sklearn.preprocessing import StandardScaler"
   ]
  },
  {
   "cell_type": "markdown",
   "id": "fa6fe530",
   "metadata": {
    "papermill": {
     "duration": 0.010028,
     "end_time": "2021-10-06T16:27:38.144179",
     "exception": false,
     "start_time": "2021-10-06T16:27:38.134151",
     "status": "completed"
    },
    "tags": []
   },
   "source": [
    "## Constants and Utilities"
   ]
  },
  {
   "cell_type": "code",
   "execution_count": 3,
   "id": "5e4a73d0",
   "metadata": {
    "execution": {
     "iopub.execute_input": "2021-10-06T16:27:38.211259Z",
     "iopub.status.busy": "2021-10-06T16:27:38.210654Z",
     "iopub.status.idle": "2021-10-06T16:27:38.220667Z",
     "shell.execute_reply": "2021-10-06T16:27:38.220159Z",
     "shell.execute_reply.started": "2021-10-06T16:24:52.296675Z"
    },
    "papermill": {
     "duration": 0.067053,
     "end_time": "2021-10-06T16:27:38.220795",
     "exception": false,
     "start_time": "2021-10-06T16:27:38.153742",
     "status": "completed"
    },
    "tags": []
   },
   "outputs": [],
   "source": [
    "SEED = 0\n",
    "DEVICE = torch.device(\"cuda\" if torch.cuda.is_available() else \"cpu\")\n",
    "PATH = \"../input/petfinder-pawpularity-score\"\n",
    "PRETRAINED_WEIGHTS_PATH = \"../input/pretrained-model-weights\"\n",
    "TRAINED_ANN_WEIGHTS_PATH = \"../input/petfinder-densenet-train-5fcv\"\n",
    "\n",
    "MODEL_NAME = \"densenet\"\n",
    "FEATURE_LENGTH = 1664\n",
    "NUM_FOLDS = len([name for name in os.listdir(TRAINED_ANN_WEIGHTS_PATH) if name[-2:] == \"pt\"])\n",
    "\n",
    "IMAGE_SIZE = 224\n",
    "TRANSFORM = transforms.Compose([transforms.ToTensor(), \n",
    "                                transforms.Normalize([0.485, 0.456, 0.406],\n",
    "                                                     [0.229, 0.224, 0.225]),\n",
    "                                ])\n",
    "\n",
    "sc_y = StandardScaler()"
   ]
  },
  {
   "cell_type": "code",
   "execution_count": 4,
   "id": "4d4669c9",
   "metadata": {
    "execution": {
     "iopub.execute_input": "2021-10-06T16:27:38.251439Z",
     "iopub.status.busy": "2021-10-06T16:27:38.250923Z",
     "iopub.status.idle": "2021-10-06T16:27:38.254490Z",
     "shell.execute_reply": "2021-10-06T16:27:38.254057Z",
     "shell.execute_reply.started": "2021-10-06T16:19:23.928558Z"
    },
    "papermill": {
     "duration": 0.023807,
     "end_time": "2021-10-06T16:27:38.254656",
     "exception": false,
     "start_time": "2021-10-06T16:27:38.230849",
     "status": "completed"
    },
    "tags": []
   },
   "outputs": [],
   "source": [
    "def breaker(num=50, char=\"*\") -> None:\n",
    "    print(\"\\n\" + num*char + \"\\n\")\n",
    "\n",
    "\n",
    "def head(x, no_of_ele=5) -> None:\n",
    "    print(x[:no_of_ele])\n",
    "\n",
    "\n",
    "def get_filenames_and_targets(path: str) -> tuple:\n",
    "    df = pd.read_csv(os.path.join(path, \"train.csv\"), engine=\"python\")\n",
    "    filenames = df.iloc[:, 0].copy().values\n",
    "    targets  = df.iloc[:, -1].copy().values\n",
    "    return filenames, targets\n",
    "\n",
    "\n",
    "def get_filenames(path: str) -> np.ndarray:\n",
    "    df = pd.read_csv(os.path.join(path, \"test.csv\"), engine=\"python\")\n",
    "    filenames  = df[\"Id\"].copy().values\n",
    "    return filenames\n",
    "\n",
    "\n",
    "def get_image(path: str, name: str, size: int) -> np.ndarray:\n",
    "    image = cv2.imread(os.path.join(path, name + \".jpg\"), cv2.IMREAD_COLOR)\n",
    "    image = cv2.cvtColor(src=image, code=cv2.COLOR_BGR2RGB)\n",
    "    image = cv2.resize(src=image, dsize=(size, size), interpolation=cv2.INTER_AREA)\n",
    "    return image\n",
    "\n",
    "\n",
    "def make_submission(path: str, y_pred: np.ndarray) -> None:\n",
    "    submission = pd.read_csv(os.path.join(path, \"sample_submission.csv\"), engine=\"python\")\n",
    "    submission[\"Pawpularity\"] = y_pred\n",
    "    submission.to_csv(\"./submission.csv\", index=False)"
   ]
  },
  {
   "cell_type": "markdown",
   "id": "2beae9fd",
   "metadata": {
    "papermill": {
     "duration": 0.00955,
     "end_time": "2021-10-06T16:27:38.273925",
     "exception": false,
     "start_time": "2021-10-06T16:27:38.264375",
     "status": "completed"
    },
    "tags": []
   },
   "source": [
    "## Dataset Templates"
   ]
  },
  {
   "cell_type": "code",
   "execution_count": 5,
   "id": "bf4a98ab",
   "metadata": {
    "execution": {
     "iopub.execute_input": "2021-10-06T16:27:38.296316Z",
     "iopub.status.busy": "2021-10-06T16:27:38.295514Z",
     "iopub.status.idle": "2021-10-06T16:27:38.303458Z",
     "shell.execute_reply": "2021-10-06T16:27:38.302981Z",
     "shell.execute_reply.started": "2021-10-06T16:19:26.621945Z"
    },
    "papermill": {
     "duration": 0.019941,
     "end_time": "2021-10-06T16:27:38.303556",
     "exception": false,
     "start_time": "2021-10-06T16:27:38.283615",
     "status": "completed"
    },
    "tags": []
   },
   "outputs": [],
   "source": [
    "class ImageDS(Dataset):\n",
    "    def __init__(self, base_path=None, filenames=None, image_size=None, transform=None):\n",
    "        self.base_path = base_path\n",
    "        self.filenames = filenames\n",
    "        self.image_size = image_size\n",
    "        self.transform = transform\n",
    "    \n",
    "    def __len__(self):\n",
    "        return self.filenames.shape[0]\n",
    "    \n",
    "    def __getitem__(self, idx):\n",
    "        image = get_image(self.base_path, self.filenames[idx], self.image_size)\n",
    "        return self.transform(image)\n",
    "\n",
    "    \n",
    "class FeatureDS(Dataset):\n",
    "    def __init__(self, features=None):\n",
    "        self.features = features\n",
    "    \n",
    "    def __len__(self):\n",
    "        return self.features.shape[0]\n",
    "    \n",
    "    def __getitem__(self, idx):\n",
    "        return torch.FloatTensor(self.features[idx])"
   ]
  },
  {
   "cell_type": "markdown",
   "id": "0db56aaf",
   "metadata": {
    "papermill": {
     "duration": 0.009494,
     "end_time": "2021-10-06T16:27:38.322690",
     "exception": false,
     "start_time": "2021-10-06T16:27:38.313196",
     "status": "completed"
    },
    "tags": []
   },
   "source": [
    "## Build Models"
   ]
  },
  {
   "cell_type": "code",
   "execution_count": 6,
   "id": "54b103f1",
   "metadata": {
    "execution": {
     "iopub.execute_input": "2021-10-06T16:27:38.365147Z",
     "iopub.status.busy": "2021-10-06T16:27:38.345829Z",
     "iopub.status.idle": "2021-10-06T16:27:38.367459Z",
     "shell.execute_reply": "2021-10-06T16:27:38.367062Z",
     "shell.execute_reply.started": "2021-10-06T16:20:01.679033Z"
    },
    "papermill": {
     "duration": 0.034036,
     "end_time": "2021-10-06T16:27:38.367560",
     "exception": false,
     "start_time": "2021-10-06T16:27:38.333524",
     "status": "completed"
    },
    "tags": []
   },
   "outputs": [],
   "source": [
    "def build_models(model_name: str, IL: int, pretrained: bool, seed: int):\n",
    "\n",
    "    class ImageModel(nn.Module):\n",
    "        def __init__(self, model_name=None, pretrained=False):\n",
    "            super(ImageModel, self).__init__()\n",
    "\n",
    "            if re.match(r\"^resnet$\", model_name, re.IGNORECASE):\n",
    "                self.features = models.resnet50(pretrained=pretrained, progress=True)\n",
    "                if pretrained:\n",
    "                    self.freeze()\n",
    "                self.features = nn.Sequential(*[*self.features.children()][:-1])\n",
    "                self.features.add_module(\"Flatten\", nn.Flatten())\n",
    "\n",
    "                self.in_features = self.features[-3][2].bn3.num_features\n",
    "\n",
    "\n",
    "            elif re.match(r\"^vgg$\", model_name, re.IGNORECASE):\n",
    "                self.features = models.vgg16_bn(pretrained=pretrained, progress=True)\n",
    "                if pretrained:\n",
    "                    self.freeze()\n",
    "                self.features = nn.Sequential(*[*self.features.children()][:-2])\n",
    "                self.features.add_module(\"Adaptive Average Pool\", nn.AdaptiveAvgPool2d(output_size=(2, 2)))\n",
    "                self.features.add_module(\"Flatten\", nn.Flatten())\n",
    "\n",
    "                self.in_features = self.features[-3][41].num_features * 2 * 2\n",
    "\n",
    "\n",
    "            elif re.match(r\"^mobilenet$\", model_name, re.IGNORECASE):\n",
    "                self.features = models.mobilenet_v2(pretrained=pretrained, progress=True)\n",
    "                if pretrained:\n",
    "                    self.freeze()\n",
    "                self.features = nn.Sequential(*[*self.features.children()][:-1])\n",
    "                self.features.add_module(\"Adaptive Average Pool\", nn.AdaptiveAvgPool2d(output_size=(1, 1)))\n",
    "                self.features.add_module(\"Flatten\", nn.Flatten())\n",
    "\n",
    "                self.in_features = self.features[-3][-1][1].num_features\n",
    "\n",
    "\n",
    "            elif re.match(r\"^densenet$\", model_name, re.IGNORECASE):\n",
    "                self.features = models.densenet169(pretrained=pretrained, progress=True)\n",
    "                if pretrained:\n",
    "                    self.freeze()\n",
    "                self.features = nn.Sequential(*[*self.features.children()][:-1])\n",
    "                self.features.add_module(\"Adaptive Average Pool\", nn.AdaptiveAvgPool2d(output_size=(1, 1)))\n",
    "                self.features.add_module(\"Flatten\", nn.Flatten())\n",
    "\n",
    "                self.in_features = self.features[0].norm5.num_features\n",
    "\n",
    "        def freeze(self):\n",
    "            for params in self.parameters():\n",
    "                    params.requires_grad = False\n",
    "\n",
    "        def forward(self, x):\n",
    "            return self.features(x)\n",
    "    \n",
    "    \n",
    "    breaker()\n",
    "    print(\"Building Vision Model ...\")\n",
    "    print(\"\\n{} Features\".format(model_name))\n",
    "    \n",
    "    torch.manual_seed(seed)\n",
    "    vision_model = ImageModel(model_name=model_name, pretrained=pretrained)\n",
    "    \n",
    "    \n",
    "    class ANN(nn.Module):\n",
    "        def __init__(self, IL=None):\n",
    "            super(ANN, self).__init__()\n",
    "\n",
    "            self.predictor = nn.Sequential()\n",
    "            self.predictor.add_module(\"BN\", nn.BatchNorm1d(num_features=IL, eps=1e-5))\n",
    "            self.predictor.add_module(\"FC\", WN(nn.Linear(in_features=IL, out_features=1)))\n",
    "\n",
    "        def get_optimizer(self, lr=1e-3, wd=0):\n",
    "            params = [p for p in self.parameters() if p.requires_grad]\n",
    "            return optim.Adam(params, lr=lr, weight_decay=wd)\n",
    "\n",
    "        def get_plateau_scheduler(self, optimizer=None, patience=5, eps=1e-8):\n",
    "            return optim.lr_scheduler.ReduceLROnPlateau(optimizer=optimizer, patience=patience, eps=eps, verbose=True)\n",
    "\n",
    "        def forward(self, x):\n",
    "            return self.predictor(x)\n",
    "    \n",
    "    breaker()\n",
    "    print(\"Building Model ...\")\n",
    "    print(\"\\n{} -> 1\".format(IL))\n",
    "    \n",
    "    torch.manual_seed(seed)\n",
    "    ann_model = ANN(IL=IL)\n",
    "    \n",
    "    return vision_model, ann_model"
   ]
  },
  {
   "cell_type": "markdown",
   "id": "213028a4",
   "metadata": {
    "papermill": {
     "duration": 0.009638,
     "end_time": "2021-10-06T16:27:38.387142",
     "exception": false,
     "start_time": "2021-10-06T16:27:38.377504",
     "status": "completed"
    },
    "tags": []
   },
   "source": [
    "## Feature Getter and Predict Helper"
   ]
  },
  {
   "cell_type": "code",
   "execution_count": 7,
   "id": "b9a64a80",
   "metadata": {
    "execution": {
     "iopub.execute_input": "2021-10-06T16:27:38.418637Z",
     "iopub.status.busy": "2021-10-06T16:27:38.417192Z",
     "iopub.status.idle": "2021-10-06T16:27:38.419391Z",
     "shell.execute_reply": "2021-10-06T16:27:38.419800Z",
     "shell.execute_reply.started": "2021-10-06T16:21:07.205378Z"
    },
    "papermill": {
     "duration": 0.023045,
     "end_time": "2021-10-06T16:27:38.419915",
     "exception": false,
     "start_time": "2021-10-06T16:27:38.396870",
     "status": "completed"
    },
    "tags": []
   },
   "outputs": [],
   "source": [
    "def get_features(model=None, dataloader=None, feature_length=None, path=None):\n",
    "    model.load_state_dict(torch.load(path, map_location=DEVICE))\n",
    "    model.to(DEVICE)\n",
    "    model.eval()\n",
    "\n",
    "    features = torch.zeros(1, feature_length).to(DEVICE)\n",
    "    for X in dataloader:\n",
    "        X = X.to(DEVICE)\n",
    "        with torch.no_grad():\n",
    "            output = model(X)\n",
    "        features = torch.cat((features, output.view(-1, feature_length)), dim=0)\n",
    "    \n",
    "    return features[1:].detach().cpu().numpy()\n",
    "\n",
    "\n",
    "def predict_batch(model=None, dataloader=None, mode=\"test\", path=None):\n",
    "    model.load_state_dict(torch.load(path, map_location=DEVICE)[\"model_state_dict\"])\n",
    "    model.to(DEVICE)\n",
    "    model.eval()\n",
    "\n",
    "    y_pred = torch.zeros(1, 1).to(DEVICE)\n",
    "    if re.match(r\"valid\", mode, re.IGNORECASE):\n",
    "        for X, _ in dataloader:\n",
    "            X = X.to(DEVICE)\n",
    "            with torch.no_grad():\n",
    "                output = model(X)\n",
    "            y_pred = torch.cat((y_pred, output.view(-1, 1)), dim=0)\n",
    "    elif re.match(r\"test\", mode, re.IGNORECASE):\n",
    "        for X in dataloader:\n",
    "            X = X.to(DEVICE)\n",
    "            with torch.no_grad():\n",
    "                output = model(X)\n",
    "            y_pred = torch.cat((y_pred, output.view(-1, 1)), dim=0)\n",
    "    \n",
    "    return y_pred[1:].detach().cpu().numpy()"
   ]
  },
  {
   "cell_type": "markdown",
   "id": "c975b309",
   "metadata": {
    "papermill": {
     "duration": 0.009515,
     "end_time": "2021-10-06T16:27:38.439160",
     "exception": false,
     "start_time": "2021-10-06T16:27:38.429645",
     "status": "completed"
    },
    "tags": []
   },
   "source": [
    "## Generate Submission"
   ]
  },
  {
   "cell_type": "code",
   "execution_count": 8,
   "id": "2a8cb9f5",
   "metadata": {
    "execution": {
     "iopub.execute_input": "2021-10-06T16:27:38.471265Z",
     "iopub.status.busy": "2021-10-06T16:27:38.470304Z",
     "iopub.status.idle": "2021-10-06T16:27:46.178088Z",
     "shell.execute_reply": "2021-10-06T16:27:46.178770Z",
     "shell.execute_reply.started": "2021-10-06T16:25:53.138758Z"
    },
    "papermill": {
     "duration": 7.730152,
     "end_time": "2021-10-06T16:27:46.178982",
     "exception": false,
     "start_time": "2021-10-06T16:27:38.448830",
     "status": "completed"
    },
    "tags": []
   },
   "outputs": [
    {
     "name": "stdout",
     "output_type": "stream",
     "text": [
      "\n",
      "**************************************************\n",
      "\n",
      "Reading Data ...\n",
      "\n",
      "**************************************************\n",
      "\n",
      "Obtaining Test Image Features ...\n",
      "\n",
      "**************************************************\n",
      "\n",
      "Building Vision Model ...\n",
      "\n",
      "densenet Features\n",
      "\n",
      "**************************************************\n",
      "\n",
      "Building Model ...\n",
      "\n",
      "1664 -> 1\n",
      "\n",
      "**************************************************\n",
      "\n",
      "Making Predictions on Test Features ...\n",
      "\n",
      "**************************************************\n",
      "\n",
      "Processing Fold 1 ...\n",
      "Processing Fold 2 ...\n",
      "Processing Fold 3 ...\n",
      "Processing Fold 4 ...\n",
      "Processing Fold 5 ...\n",
      "\n",
      "**************************************************\n",
      "\n",
      "Generating Submission File ...\n",
      "\n",
      "**************************************************\n",
      "\n"
     ]
    }
   ],
   "source": [
    "def submit():\n",
    "    breaker()\n",
    "    print(\"Reading Data ...\")\n",
    "    \n",
    "    ts_filenames = get_filenames(PATH)\n",
    "    filenames, targets = get_filenames_and_targets(PATH)\n",
    "    \n",
    "    \n",
    "    breaker()\n",
    "    print(\"Obtaining Test Image Features ...\")\n",
    "    \n",
    "    ts_image_data_setup = ImageDS(base_path=os.path.join(PATH, \"test\"), \n",
    "                                  filenames=ts_filenames, \n",
    "                                  image_size=IMAGE_SIZE, \n",
    "                                  transform=TRANSFORM)\n",
    "    ts_image_data = DL(ts_image_data_setup, batch_size=64, shuffle=False)\n",
    "    \n",
    "    VisionModel, ANNModel = build_models(model_name=MODEL_NAME, IL=FEATURE_LENGTH, pretrained=False, seed=SEED)\n",
    "    \n",
    "    ts_features = get_features(model=VisionModel, dataloader=ts_image_data, \n",
    "                               feature_length=FEATURE_LENGTH, \n",
    "                               path=os.path.join(PRETRAINED_WEIGHTS_PATH, \"{}_state.pt\".format(MODEL_NAME)))\n",
    "    \n",
    "    \n",
    "    breaker()\n",
    "    print(\"Making Predictions on Test Features ...\")\n",
    "    breaker()\n",
    "    \n",
    "    fold = 1\n",
    "    final_y_pred = np.zeros((len(ts_filenames), 1))\n",
    "    for tr_idx, va_idx in KFold(n_splits=NUM_FOLDS, shuffle=True, random_state=SEED).split(filenames):\n",
    "        print(\"Processing Fold {} ...\".format(fold))\n",
    "        \n",
    "        tr_targets = targets[tr_idx]\n",
    "        tr_targets = tr_targets.reshape(-1, 1)\n",
    "        tr_targets = sc_y.fit_transform(tr_targets)\n",
    "    \n",
    "        ts_feature_data_setup = FeatureDS(features=ts_features)\n",
    "        ts_feature_data = DL(ts_feature_data_setup, batch_size=512, shuffle=False)\n",
    "\n",
    "        y_pred = predict_batch(model=ANNModel, dataloader=ts_feature_data, mode=\"test\",\n",
    "                               path=os.path.join(TRAINED_ANN_WEIGHTS_PATH, \"Fold_{}_state.pt\".format(fold)))\n",
    "        y_pred = sc_y.inverse_transform(y_pred)\n",
    "        \n",
    "        final_y_pred += y_pred\n",
    "        fold += 1\n",
    "    \n",
    "    final_y_pred = final_y_pred / NUM_FOLDS\n",
    "    \n",
    "    \n",
    "    breaker()\n",
    "    print(\"Generating Submission File ...\")\n",
    "    make_submission(PATH, final_y_pred)\n",
    "    breaker()\n",
    "\n",
    "submit()"
   ]
  },
  {
   "cell_type": "code",
   "execution_count": 9,
   "id": "9fd95592",
   "metadata": {
    "execution": {
     "iopub.execute_input": "2021-10-06T16:27:46.207406Z",
     "iopub.status.busy": "2021-10-06T16:27:46.205560Z",
     "iopub.status.idle": "2021-10-06T16:27:46.210041Z",
     "shell.execute_reply": "2021-10-06T16:27:46.209408Z"
    },
    "papermill": {
     "duration": 0.019508,
     "end_time": "2021-10-06T16:27:46.210190",
     "exception": false,
     "start_time": "2021-10-06T16:27:46.190682",
     "status": "completed"
    },
    "tags": []
   },
   "outputs": [
    {
     "name": "stdout",
     "output_type": "stream",
     "text": [
      "\n",
      "**************************************************\n",
      "\n",
      "Notebook Run Time : 0.23 minutes\n",
      "\n",
      "**************************************************\n",
      "\n"
     ]
    }
   ],
   "source": [
    "breaker()\n",
    "print(\"Notebook Run Time : {:.2f} minutes\".format((time()-notebook_start_time)/60))\n",
    "breaker()"
   ]
  }
 ],
 "metadata": {
  "kernelspec": {
   "display_name": "Python 3",
   "language": "python",
   "name": "python3"
  },
  "language_info": {
   "codemirror_mode": {
    "name": "ipython",
    "version": 3
   },
   "file_extension": ".py",
   "mimetype": "text/x-python",
   "name": "python",
   "nbconvert_exporter": "python",
   "pygments_lexer": "ipython3",
   "version": "3.7.10"
  },
  "papermill": {
   "default_parameters": {},
   "duration": 21.678089,
   "end_time": "2021-10-06T16:27:47.554751",
   "environment_variables": {},
   "exception": null,
   "input_path": "__notebook__.ipynb",
   "output_path": "__notebook__.ipynb",
   "parameters": {},
   "start_time": "2021-10-06T16:27:25.876662",
   "version": "2.3.3"
  }
 },
 "nbformat": 4,
 "nbformat_minor": 5
}
