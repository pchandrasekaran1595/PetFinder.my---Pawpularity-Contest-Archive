{
 "cells": [
  {
   "cell_type": "markdown",
   "id": "2d310066",
   "metadata": {
    "_cell_guid": "b1076dfc-b9ad-4769-8c92-a6c4dae69d19",
    "_uuid": "8f2839f25d086af736a60e9eeb907d3b93b6e0e5",
    "papermill": {
     "duration": 0.010939,
     "end_time": "2021-10-08T22:23:42.231430",
     "exception": false,
     "start_time": "2021-10-08T22:23:42.220491",
     "status": "completed"
    },
    "tags": []
   },
   "source": [
    "## Library Imports"
   ]
  },
  {
   "cell_type": "code",
   "execution_count": 1,
   "id": "2f76ffa3",
   "metadata": {
    "execution": {
     "iopub.execute_input": "2021-10-08T22:23:42.255908Z",
     "iopub.status.busy": "2021-10-08T22:23:42.254427Z",
     "iopub.status.idle": "2021-10-08T22:23:42.332734Z",
     "shell.execute_reply": "2021-10-08T22:23:42.332149Z",
     "shell.execute_reply.started": "2021-10-08T21:01:26.170641Z"
    },
    "papermill": {
     "duration": 0.091391,
     "end_time": "2021-10-08T22:23:42.332883",
     "exception": false,
     "start_time": "2021-10-08T22:23:42.241492",
     "status": "completed"
    },
    "tags": []
   },
   "outputs": [],
   "source": [
    "from time import time\n",
    "notebook_start_time = time()"
   ]
  },
  {
   "cell_type": "code",
   "execution_count": 2,
   "id": "2f3be2cd",
   "metadata": {
    "execution": {
     "iopub.execute_input": "2021-10-08T22:23:42.357262Z",
     "iopub.status.busy": "2021-10-08T22:23:42.356635Z",
     "iopub.status.idle": "2021-10-08T22:23:47.745188Z",
     "shell.execute_reply": "2021-10-08T22:23:47.744710Z",
     "shell.execute_reply.started": "2021-10-08T21:01:26.261411Z"
    },
    "papermill": {
     "duration": 5.402867,
     "end_time": "2021-10-08T22:23:47.745323",
     "exception": false,
     "start_time": "2021-10-08T22:23:42.342456",
     "status": "completed"
    },
    "tags": []
   },
   "outputs": [],
   "source": [
    "import os\n",
    "import re\n",
    "import cv2\n",
    "import numpy as np\n",
    "import pandas as pd\n",
    "import matplotlib.pyplot as plt\n",
    "\n",
    "import torch\n",
    "from torch import nn, optim\n",
    "from torch.utils.data import Dataset\n",
    "from torch.utils.data import DataLoader as DL\n",
    "from torch.nn.utils import weight_norm as WN\n",
    "from torchvision import models, transforms\n",
    "\n",
    "from sklearn.model_selection import KFold\n",
    "from sklearn.preprocessing import StandardScaler"
   ]
  },
  {
   "cell_type": "markdown",
   "id": "2683a0ec",
   "metadata": {
    "papermill": {
     "duration": 0.009806,
     "end_time": "2021-10-08T22:23:47.764857",
     "exception": false,
     "start_time": "2021-10-08T22:23:47.755051",
     "status": "completed"
    },
    "tags": []
   },
   "source": [
    "## Constants and Utilities"
   ]
  },
  {
   "cell_type": "code",
   "execution_count": 3,
   "id": "9bc1c08c",
   "metadata": {
    "execution": {
     "iopub.execute_input": "2021-10-08T22:23:47.828449Z",
     "iopub.status.busy": "2021-10-08T22:23:47.827818Z",
     "iopub.status.idle": "2021-10-08T22:23:47.839638Z",
     "shell.execute_reply": "2021-10-08T22:23:47.839196Z",
     "shell.execute_reply.started": "2021-10-08T21:01:27.217039Z"
    },
    "papermill": {
     "duration": 0.065593,
     "end_time": "2021-10-08T22:23:47.839749",
     "exception": false,
     "start_time": "2021-10-08T22:23:47.774156",
     "status": "completed"
    },
    "tags": []
   },
   "outputs": [],
   "source": [
    "SEED = 38\n",
    "DEVICE = torch.device(\"cuda\" if torch.cuda.is_available() else \"cpu\")\n",
    "PATH = \"../input/petfinder-pawpularity-score\"\n",
    "PRETRAINED_WEIGHTS_PATH = \"../input/pretrained-model-weights-all\"\n",
    "TRAINED_ANN_WEIGHTS_PATH = \"../input/d169-train-split-seed-38\"\n",
    "\n",
    "MODEL_NAME = \"densenet169\"\n",
    "FEATURE_LENGTH = 1664\n",
    "NUM_FOLDS = len([name for name in os.listdir(TRAINED_ANN_WEIGHTS_PATH) if name[-2:] == \"pt\"])\n",
    "\n",
    "IMAGE_SIZE = 224\n",
    "TRANSFORM = transforms.Compose([transforms.ToTensor(), \n",
    "                                transforms.Normalize([0.485, 0.456, 0.406],\n",
    "                                                     [0.229, 0.224, 0.225]),\n",
    "                                ])\n",
    "\n",
    "sc_y = StandardScaler()"
   ]
  },
  {
   "cell_type": "code",
   "execution_count": 4,
   "id": "4da12115",
   "metadata": {
    "execution": {
     "iopub.execute_input": "2021-10-08T22:23:47.869361Z",
     "iopub.status.busy": "2021-10-08T22:23:47.868725Z",
     "iopub.status.idle": "2021-10-08T22:23:47.871690Z",
     "shell.execute_reply": "2021-10-08T22:23:47.872050Z",
     "shell.execute_reply.started": "2021-10-08T21:01:27.279064Z"
    },
    "papermill": {
     "duration": 0.022937,
     "end_time": "2021-10-08T22:23:47.872188",
     "exception": false,
     "start_time": "2021-10-08T22:23:47.849251",
     "status": "completed"
    },
    "tags": []
   },
   "outputs": [],
   "source": [
    "def breaker(num=50, char=\"*\") -> None:\n",
    "    print(\"\\n\" + num*char + \"\\n\")\n",
    "\n",
    "\n",
    "def head(x, no_of_ele=5) -> None:\n",
    "    print(x[:no_of_ele])\n",
    "\n",
    "\n",
    "def get_filenames_and_targets(path: str) -> tuple:\n",
    "    df = pd.read_csv(os.path.join(path, \"train.csv\"), engine=\"python\")\n",
    "    filenames = df.iloc[:, 0].copy().values\n",
    "    targets  = df.iloc[:, -1].copy().values\n",
    "    return filenames, targets\n",
    "\n",
    "\n",
    "def get_filenames(path: str) -> np.ndarray:\n",
    "    df = pd.read_csv(os.path.join(path, \"test.csv\"), engine=\"python\")\n",
    "    filenames  = df[\"Id\"].copy().values\n",
    "    return filenames\n",
    "\n",
    "\n",
    "def get_image(path: str, name: str, size: int) -> np.ndarray:\n",
    "    image = cv2.imread(os.path.join(path, name + \".jpg\"), cv2.IMREAD_COLOR)\n",
    "    image = cv2.cvtColor(src=image, code=cv2.COLOR_BGR2RGB)\n",
    "    image = cv2.resize(src=image, dsize=(size, size), interpolation=cv2.INTER_AREA)\n",
    "    return image\n",
    "\n",
    "\n",
    "def make_submission(path: str, y_pred: np.ndarray) -> None:\n",
    "    submission = pd.read_csv(os.path.join(path, \"sample_submission.csv\"), engine=\"python\")\n",
    "    submission[\"Pawpularity\"] = y_pred\n",
    "    submission.to_csv(\"./submission.csv\", index=False)"
   ]
  },
  {
   "cell_type": "markdown",
   "id": "c6b26b10",
   "metadata": {
    "papermill": {
     "duration": 0.009137,
     "end_time": "2021-10-08T22:23:47.890547",
     "exception": false,
     "start_time": "2021-10-08T22:23:47.881410",
     "status": "completed"
    },
    "tags": []
   },
   "source": [
    "## Dataset Templates"
   ]
  },
  {
   "cell_type": "code",
   "execution_count": 5,
   "id": "90e417f9",
   "metadata": {
    "execution": {
     "iopub.execute_input": "2021-10-08T22:23:47.915821Z",
     "iopub.status.busy": "2021-10-08T22:23:47.915315Z",
     "iopub.status.idle": "2021-10-08T22:23:47.918444Z",
     "shell.execute_reply": "2021-10-08T22:23:47.918846Z",
     "shell.execute_reply.started": "2021-10-08T21:01:27.292074Z"
    },
    "papermill": {
     "duration": 0.019009,
     "end_time": "2021-10-08T22:23:47.918958",
     "exception": false,
     "start_time": "2021-10-08T22:23:47.899949",
     "status": "completed"
    },
    "tags": []
   },
   "outputs": [],
   "source": [
    "class ImageDS(Dataset):\n",
    "    def __init__(self, base_path=None, filenames=None, image_size=None, transform=None):\n",
    "        self.base_path = base_path\n",
    "        self.filenames = filenames\n",
    "        self.image_size = image_size\n",
    "        self.transform = transform\n",
    "    \n",
    "    def __len__(self):\n",
    "        return self.filenames.shape[0]\n",
    "    \n",
    "    def __getitem__(self, idx):\n",
    "        image = get_image(self.base_path, self.filenames[idx], self.image_size)\n",
    "        return self.transform(image)\n",
    "\n",
    "    \n",
    "class FeatureDS(Dataset):\n",
    "    def __init__(self, features=None):\n",
    "        self.features = features\n",
    "    \n",
    "    def __len__(self):\n",
    "        return self.features.shape[0]\n",
    "    \n",
    "    def __getitem__(self, idx):\n",
    "        return torch.FloatTensor(self.features[idx])"
   ]
  },
  {
   "cell_type": "markdown",
   "id": "24ef349d",
   "metadata": {
    "papermill": {
     "duration": 0.009141,
     "end_time": "2021-10-08T22:23:47.937425",
     "exception": false,
     "start_time": "2021-10-08T22:23:47.928284",
     "status": "completed"
    },
    "tags": []
   },
   "source": [
    "## Build Models"
   ]
  },
  {
   "cell_type": "code",
   "execution_count": 6,
   "id": "f62d0518",
   "metadata": {
    "execution": {
     "iopub.execute_input": "2021-10-08T22:23:47.969461Z",
     "iopub.status.busy": "2021-10-08T22:23:47.968800Z",
     "iopub.status.idle": "2021-10-08T22:23:47.971970Z",
     "shell.execute_reply": "2021-10-08T22:23:47.971587Z",
     "shell.execute_reply.started": "2021-10-08T21:01:27.302772Z"
    },
    "papermill": {
     "duration": 0.024154,
     "end_time": "2021-10-08T22:23:47.972093",
     "exception": false,
     "start_time": "2021-10-08T22:23:47.947939",
     "status": "completed"
    },
    "tags": []
   },
   "outputs": [],
   "source": [
    "def build_models(IL: int, pretrained: bool, seed: int):\n",
    "\n",
    "    class ImageModel(nn.Module):\n",
    "        def __init__(self, pretrained=False):\n",
    "            super(ImageModel, self).__init__()\n",
    "\n",
    "            self.features = models.densenet169(pretrained=pretrained, progress=True)\n",
    "            if pretrained:\n",
    "                self.freeze()\n",
    "            self.features = nn.Sequential(*[*self.features.children()][:-1])\n",
    "            self.features.add_module(\"Adaptive Average Pool\", nn.AdaptiveAvgPool2d(output_size=(1, 1)))\n",
    "            self.features.add_module(\"Flatten\", nn.Flatten())\n",
    "\n",
    "        def freeze(self):\n",
    "            for params in self.parameters():\n",
    "                    params.requires_grad = False\n",
    "\n",
    "        def forward(self, x):\n",
    "            return self.features(x)\n",
    "    \n",
    "    torch.manual_seed(seed)\n",
    "    vision_model = ImageModel(pretrained=pretrained)\n",
    "    \n",
    "    \n",
    "    class ANN(nn.Module):\n",
    "        def __init__(self, IL=None):\n",
    "            super(ANN, self).__init__()\n",
    "\n",
    "            self.predictor = nn.Sequential()\n",
    "            self.predictor.add_module(\"BN\", nn.BatchNorm1d(num_features=IL, eps=1e-5))\n",
    "            self.predictor.add_module(\"FC\", WN(nn.Linear(in_features=IL, out_features=1)))\n",
    "\n",
    "        def get_optimizer(self, lr=1e-3, wd=0):\n",
    "            params = [p for p in self.parameters() if p.requires_grad]\n",
    "            return optim.Adam(params, lr=lr, weight_decay=wd)\n",
    "\n",
    "        def get_plateau_scheduler(self, optimizer=None, patience=5, eps=1e-8):\n",
    "            return optim.lr_scheduler.ReduceLROnPlateau(optimizer=optimizer, patience=patience, eps=eps, verbose=True)\n",
    "\n",
    "        def forward(self, x):\n",
    "            return self.predictor(x)\n",
    "    \n",
    "    torch.manual_seed(seed)\n",
    "    ann_model = ANN(IL=IL)\n",
    "    \n",
    "    return vision_model, ann_model"
   ]
  },
  {
   "cell_type": "markdown",
   "id": "e384ff8d",
   "metadata": {
    "papermill": {
     "duration": 0.009221,
     "end_time": "2021-10-08T22:23:47.990810",
     "exception": false,
     "start_time": "2021-10-08T22:23:47.981589",
     "status": "completed"
    },
    "tags": []
   },
   "source": [
    "## Feature Getter and Predict Helper"
   ]
  },
  {
   "cell_type": "code",
   "execution_count": 7,
   "id": "befb2074",
   "metadata": {
    "execution": {
     "iopub.execute_input": "2021-10-08T22:23:48.020537Z",
     "iopub.status.busy": "2021-10-08T22:23:48.019853Z",
     "iopub.status.idle": "2021-10-08T22:23:48.022019Z",
     "shell.execute_reply": "2021-10-08T22:23:48.022479Z",
     "shell.execute_reply.started": "2021-10-08T21:01:27.319659Z"
    },
    "papermill": {
     "duration": 0.021872,
     "end_time": "2021-10-08T22:23:48.022610",
     "exception": false,
     "start_time": "2021-10-08T22:23:48.000738",
     "status": "completed"
    },
    "tags": []
   },
   "outputs": [],
   "source": [
    "def get_features(model=None, dataloader=None, feature_length=None, path=None):\n",
    "    model.load_state_dict(torch.load(path, map_location=DEVICE))\n",
    "    model.to(DEVICE)\n",
    "    model.eval()\n",
    "\n",
    "    features = torch.zeros(1, feature_length).to(DEVICE)\n",
    "    for X in dataloader:\n",
    "        X = X.to(DEVICE)\n",
    "        with torch.no_grad():\n",
    "            output = model(X)\n",
    "        features = torch.cat((features, output.view(-1, feature_length)), dim=0)\n",
    "    \n",
    "    return features[1:].detach().cpu().numpy()\n",
    "\n",
    "\n",
    "def predict_batch(model=None, dataloader=None, mode=\"test\", path=None):\n",
    "    model.load_state_dict(torch.load(path, map_location=DEVICE)[\"model_state_dict\"])\n",
    "    model.to(DEVICE)\n",
    "    model.eval()\n",
    "\n",
    "    y_pred = torch.zeros(1, 1).to(DEVICE)\n",
    "    if re.match(r\"valid\", mode, re.IGNORECASE):\n",
    "        for X, _ in dataloader:\n",
    "            X = X.to(DEVICE)\n",
    "            with torch.no_grad():\n",
    "                output = model(X)\n",
    "            y_pred = torch.cat((y_pred, output.view(-1, 1)), dim=0)\n",
    "    elif re.match(r\"test\", mode, re.IGNORECASE):\n",
    "        for X in dataloader:\n",
    "            X = X.to(DEVICE)\n",
    "            with torch.no_grad():\n",
    "                output = model(X)\n",
    "            y_pred = torch.cat((y_pred, output.view(-1, 1)), dim=0)\n",
    "    \n",
    "    return y_pred[1:].detach().cpu().numpy()"
   ]
  },
  {
   "cell_type": "markdown",
   "id": "ea9ffb2a",
   "metadata": {
    "papermill": {
     "duration": 0.009132,
     "end_time": "2021-10-08T22:23:48.041035",
     "exception": false,
     "start_time": "2021-10-08T22:23:48.031903",
     "status": "completed"
    },
    "tags": []
   },
   "source": [
    "## Generate Submission"
   ]
  },
  {
   "cell_type": "code",
   "execution_count": 8,
   "id": "93ab26e2",
   "metadata": {
    "execution": {
     "iopub.execute_input": "2021-10-08T22:23:48.069957Z",
     "iopub.status.busy": "2021-10-08T22:23:48.069433Z",
     "iopub.status.idle": "2021-10-08T22:23:55.384672Z",
     "shell.execute_reply": "2021-10-08T22:23:55.383571Z",
     "shell.execute_reply.started": "2021-10-08T21:01:27.335101Z"
    },
    "papermill": {
     "duration": 7.334628,
     "end_time": "2021-10-08T22:23:55.384961",
     "exception": false,
     "start_time": "2021-10-08T22:23:48.050333",
     "status": "completed"
    },
    "tags": []
   },
   "outputs": [
    {
     "name": "stdout",
     "output_type": "stream",
     "text": [
      "\n",
      "**************************************************\n",
      "\n",
      "Making Predictions on Test Features ...\n",
      "\n",
      "**************************************************\n",
      "\n",
      "Processing Fold 1 ...\n",
      "Processing Fold 2 ...\n",
      "Processing Fold 3 ...\n",
      "Processing Fold 4 ...\n",
      "Processing Fold 5 ...\n",
      "Processing Fold 6 ...\n",
      "Processing Fold 7 ...\n",
      "Processing Fold 8 ...\n",
      "Processing Fold 9 ...\n",
      "Processing Fold 10 ...\n",
      "\n",
      "**************************************************\n",
      "\n",
      "Generating Submission File ...\n",
      "\n",
      "**************************************************\n",
      "\n"
     ]
    }
   ],
   "source": [
    "def submit():\n",
    "    ts_filenames = get_filenames(PATH)\n",
    "    filenames, targets = get_filenames_and_targets(PATH)\n",
    "    \n",
    "    ts_image_data_setup = ImageDS(base_path=os.path.join(PATH, \"test\"), \n",
    "                                  filenames=ts_filenames, \n",
    "                                  image_size=IMAGE_SIZE, \n",
    "                                  transform=TRANSFORM)\n",
    "    ts_image_data = DL(ts_image_data_setup, batch_size=64, shuffle=False)\n",
    "    \n",
    "    VisionModel, ANNModel = build_models(IL=FEATURE_LENGTH, pretrained=False, seed=SEED)\n",
    "    \n",
    "    ts_features = get_features(model=VisionModel, dataloader=ts_image_data, \n",
    "                               feature_length=FEATURE_LENGTH, \n",
    "                               path=os.path.join(PRETRAINED_WEIGHTS_PATH, \"{}_state.pt\".format(MODEL_NAME)))\n",
    "    \n",
    "    \n",
    "    breaker()\n",
    "    print(\"Making Predictions on Test Features ...\")\n",
    "    breaker()\n",
    "    \n",
    "    fold = 1\n",
    "    final_y_pred = np.zeros((len(ts_filenames), 1))\n",
    "    for tr_idx, va_idx in KFold(n_splits=NUM_FOLDS, shuffle=True, random_state=SEED).split(filenames):\n",
    "        print(\"Processing Fold {} ...\".format(fold))\n",
    "        \n",
    "        tr_targets = targets[tr_idx]\n",
    "        tr_targets = tr_targets.reshape(-1, 1)\n",
    "        tr_targets = sc_y.fit_transform(tr_targets)\n",
    "    \n",
    "        ts_feature_data_setup = FeatureDS(features=ts_features)\n",
    "        ts_feature_data = DL(ts_feature_data_setup, batch_size=512, shuffle=False)\n",
    "\n",
    "        y_pred = predict_batch(model=ANNModel, dataloader=ts_feature_data, mode=\"test\",\n",
    "                               path=os.path.join(TRAINED_ANN_WEIGHTS_PATH, \"Fold_{}_state.pt\".format(fold)))\n",
    "        y_pred = sc_y.inverse_transform(y_pred)\n",
    "        \n",
    "        final_y_pred += y_pred\n",
    "        fold += 1\n",
    "    \n",
    "    final_y_pred = final_y_pred / NUM_FOLDS\n",
    "    \n",
    "    \n",
    "    breaker()\n",
    "    print(\"Generating Submission File ...\")\n",
    "    make_submission(PATH, final_y_pred)\n",
    "    breaker()\n",
    "\n",
    "submit()"
   ]
  },
  {
   "cell_type": "code",
   "execution_count": 9,
   "id": "9a8145d9",
   "metadata": {
    "execution": {
     "iopub.execute_input": "2021-10-08T22:23:55.410311Z",
     "iopub.status.busy": "2021-10-08T22:23:55.409637Z",
     "iopub.status.idle": "2021-10-08T22:23:55.413164Z",
     "shell.execute_reply": "2021-10-08T22:23:55.413748Z",
     "shell.execute_reply.started": "2021-10-08T21:01:36.060943Z"
    },
    "papermill": {
     "duration": 0.018216,
     "end_time": "2021-10-08T22:23:55.413915",
     "exception": false,
     "start_time": "2021-10-08T22:23:55.395699",
     "status": "completed"
    },
    "tags": []
   },
   "outputs": [
    {
     "name": "stdout",
     "output_type": "stream",
     "text": [
      "\n",
      "**************************************************\n",
      "\n",
      "Notebook Run Time : 0.22 minutes\n",
      "\n",
      "**************************************************\n",
      "\n"
     ]
    }
   ],
   "source": [
    "breaker()\n",
    "print(\"Notebook Run Time : {:.2f} minutes\".format((time()-notebook_start_time)/60))\n",
    "breaker()"
   ]
  }
 ],
 "metadata": {
  "kernelspec": {
   "display_name": "Python 3",
   "language": "python",
   "name": "python3"
  },
  "language_info": {
   "codemirror_mode": {
    "name": "ipython",
    "version": 3
   },
   "file_extension": ".py",
   "mimetype": "text/x-python",
   "name": "python",
   "nbconvert_exporter": "python",
   "pygments_lexer": "ipython3",
   "version": "3.7.10"
  },
  "papermill": {
   "default_parameters": {},
   "duration": 20.633455,
   "end_time": "2021-10-08T22:23:56.433192",
   "environment_variables": {},
   "exception": null,
   "input_path": "__notebook__.ipynb",
   "output_path": "__notebook__.ipynb",
   "parameters": {},
   "start_time": "2021-10-08T22:23:35.799737",
   "version": "2.3.3"
  }
 },
 "nbformat": 4,
 "nbformat_minor": 5
}
