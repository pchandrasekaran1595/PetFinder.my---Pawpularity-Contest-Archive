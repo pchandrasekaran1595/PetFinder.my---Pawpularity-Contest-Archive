{
 "cells": [
  {
   "cell_type": "markdown",
   "id": "74afbd02",
   "metadata": {
    "_cell_guid": "b1076dfc-b9ad-4769-8c92-a6c4dae69d19",
    "_uuid": "8f2839f25d086af736a60e9eeb907d3b93b6e0e5",
    "papermill": {
     "duration": 0.015802,
     "end_time": "2021-10-06T20:08:19.530024",
     "exception": false,
     "start_time": "2021-10-06T20:08:19.514222",
     "status": "completed"
    },
    "tags": []
   },
   "source": [
    "## Library Imports"
   ]
  },
  {
   "cell_type": "code",
   "execution_count": 1,
   "id": "9e4e0ef3",
   "metadata": {
    "execution": {
     "iopub.execute_input": "2021-10-06T20:08:19.561114Z",
     "iopub.status.busy": "2021-10-06T20:08:19.559572Z",
     "iopub.status.idle": "2021-10-06T20:08:19.639900Z",
     "shell.execute_reply": "2021-10-06T20:08:19.639238Z",
     "shell.execute_reply.started": "2021-10-06T14:55:41.742904Z"
    },
    "papermill": {
     "duration": 0.09709,
     "end_time": "2021-10-06T20:08:19.640058",
     "exception": false,
     "start_time": "2021-10-06T20:08:19.542968",
     "status": "completed"
    },
    "tags": []
   },
   "outputs": [],
   "source": [
    "from time import time\n",
    "notebook_start_time = time()"
   ]
  },
  {
   "cell_type": "code",
   "execution_count": 2,
   "id": "82b6debd",
   "metadata": {
    "execution": {
     "iopub.execute_input": "2021-10-06T20:08:19.670389Z",
     "iopub.status.busy": "2021-10-06T20:08:19.669787Z",
     "iopub.status.idle": "2021-10-06T20:08:25.006911Z",
     "shell.execute_reply": "2021-10-06T20:08:25.006438Z",
     "shell.execute_reply.started": "2021-10-06T14:55:41.749549Z"
    },
    "papermill": {
     "duration": 5.354501,
     "end_time": "2021-10-06T20:08:25.007051",
     "exception": false,
     "start_time": "2021-10-06T20:08:19.652550",
     "status": "completed"
    },
    "tags": []
   },
   "outputs": [],
   "source": [
    "import os\n",
    "import re\n",
    "import pickle\n",
    "import numpy as np\n",
    "import pandas as pd\n",
    "import matplotlib.pyplot as plt\n",
    "\n",
    "import torch\n",
    "from torch import nn, optim\n",
    "from torch.utils.data import Dataset\n",
    "from torch.utils.data import DataLoader as DL\n",
    "from torch.nn.utils import weight_norm as WN\n",
    "from torchvision import models, transforms\n",
    "\n",
    "from sklearn.model_selection import KFold\n",
    "from sklearn.metrics import mean_squared_error\n",
    "from sklearn.preprocessing import StandardScaler"
   ]
  },
  {
   "cell_type": "markdown",
   "id": "3dc638f1",
   "metadata": {
    "papermill": {
     "duration": 0.011725,
     "end_time": "2021-10-06T20:08:25.030909",
     "exception": false,
     "start_time": "2021-10-06T20:08:25.019184",
     "status": "completed"
    },
    "tags": []
   },
   "source": [
    "## Constants and Utilities"
   ]
  },
  {
   "cell_type": "code",
   "execution_count": 3,
   "id": "b5567680",
   "metadata": {
    "execution": {
     "iopub.execute_input": "2021-10-06T20:08:25.102705Z",
     "iopub.status.busy": "2021-10-06T20:08:25.101907Z",
     "iopub.status.idle": "2021-10-06T20:08:25.104662Z",
     "shell.execute_reply": "2021-10-06T20:08:25.105062Z",
     "shell.execute_reply.started": "2021-10-06T14:55:41.761827Z"
    },
    "papermill": {
     "duration": 0.062095,
     "end_time": "2021-10-06T20:08:25.105201",
     "exception": false,
     "start_time": "2021-10-06T20:08:25.043106",
     "status": "completed"
    },
    "tags": []
   },
   "outputs": [],
   "source": [
    "SEED = 0\n",
    "DEVICE = torch.device(\"cuda\" if torch.cuda.is_available() else \"cpu\")\n",
    "PATH = \"../input/petfinder-pawpularity-score\"\n",
    "FEATURES_PATH = \"../input/petfinder-pretrained-features-unaugmented\"\n",
    "MODEL_NAME = \"vgg\"\n",
    "\n",
    "sc_y = StandardScaler()"
   ]
  },
  {
   "cell_type": "code",
   "execution_count": 4,
   "id": "69755818",
   "metadata": {
    "execution": {
     "iopub.execute_input": "2021-10-06T20:08:25.139234Z",
     "iopub.status.busy": "2021-10-06T20:08:25.136418Z",
     "iopub.status.idle": "2021-10-06T20:08:25.141695Z",
     "shell.execute_reply": "2021-10-06T20:08:25.141278Z",
     "shell.execute_reply.started": "2021-10-06T14:55:41.769854Z"
    },
    "papermill": {
     "duration": 0.024167,
     "end_time": "2021-10-06T20:08:25.141793",
     "exception": false,
     "start_time": "2021-10-06T20:08:25.117626",
     "status": "completed"
    },
    "tags": []
   },
   "outputs": [],
   "source": [
    "def breaker(num=50, char=\"*\") -> None:\n",
    "    print(\"\\n\" + num*char + \"\\n\")\n",
    "\n",
    "\n",
    "def head(x, no_of_ele=5) -> None:\n",
    "    print(x[:no_of_ele])\n",
    "\n",
    "\n",
    "def get_targets(path: str) -> np.ndarray:\n",
    "    df = pd.read_csv(os.path.join(path, \"train.csv\"), engine=\"python\")\n",
    "    targets  = df.iloc[:, -1].copy().values\n",
    "    return targets\n",
    "\n",
    "\n",
    "def normalize(x):\n",
    "    for i in range(x.shape[0]):\n",
    "        x[i] = (x[i] - torch.min(x[i])) / (torch.max(x[i]) - torch.min(x[i]))\n",
    "    return x\n",
    "\n",
    "\n",
    "def show_graphs(L: list) -> None:\n",
    "    TL, VL = [], []\n",
    "    for i in range(len(L)):\n",
    "        TL.append(L[i][\"train\"])\n",
    "        VL.append(L[i][\"valid\"])    \n",
    "    \n",
    "    x_Axis = np.arange(1, len(L) + 1)\n",
    "    plt.figure()\n",
    "    plt.plot(x_Axis, TL, \"r\", label=\"train\")\n",
    "    plt.plot(x_Axis, VL, \"b\", label=\"valid\")\n",
    "    plt.grid()\n",
    "    plt.legend()\n",
    "    plt.title(\"MSE Loss\")\n",
    "    plt.show()"
   ]
  },
  {
   "cell_type": "markdown",
   "id": "87078200",
   "metadata": {
    "papermill": {
     "duration": 0.011793,
     "end_time": "2021-10-06T20:08:25.165508",
     "exception": false,
     "start_time": "2021-10-06T20:08:25.153715",
     "status": "completed"
    },
    "tags": []
   },
   "source": [
    "## Dataset Template"
   ]
  },
  {
   "cell_type": "code",
   "execution_count": 5,
   "id": "d7b1e1cd",
   "metadata": {
    "execution": {
     "iopub.execute_input": "2021-10-06T20:08:25.195648Z",
     "iopub.status.busy": "2021-10-06T20:08:25.194824Z",
     "iopub.status.idle": "2021-10-06T20:08:25.196763Z",
     "shell.execute_reply": "2021-10-06T20:08:25.197237Z",
     "shell.execute_reply.started": "2021-10-06T14:55:41.786375Z"
    },
    "papermill": {
     "duration": 0.01901,
     "end_time": "2021-10-06T20:08:25.197353",
     "exception": false,
     "start_time": "2021-10-06T20:08:25.178343",
     "status": "completed"
    },
    "tags": []
   },
   "outputs": [],
   "source": [
    "class DS(Dataset):\n",
    "    def __init__(self, features=None, targets=None):\n",
    "        self.features = features\n",
    "        self.targets  = targets\n",
    "        \n",
    "    def __len__(self):\n",
    "        return self.features.shape[0]\n",
    "    \n",
    "    def __getitem__(self, idx):\n",
    "        return torch.FloatTensor(self.features[idx]), torch.FloatTensor(self.targets[idx])"
   ]
  },
  {
   "cell_type": "markdown",
   "id": "45348b03",
   "metadata": {
    "papermill": {
     "duration": 0.011529,
     "end_time": "2021-10-06T20:08:25.220657",
     "exception": false,
     "start_time": "2021-10-06T20:08:25.209128",
     "status": "completed"
    },
    "tags": []
   },
   "source": [
    "## Build Dataloaders"
   ]
  },
  {
   "cell_type": "code",
   "execution_count": 6,
   "id": "631adc2e",
   "metadata": {
    "execution": {
     "iopub.execute_input": "2021-10-06T20:08:25.250155Z",
     "iopub.status.busy": "2021-10-06T20:08:25.249359Z",
     "iopub.status.idle": "2021-10-06T20:08:25.251294Z",
     "shell.execute_reply": "2021-10-06T20:08:25.251713Z",
     "shell.execute_reply.started": "2021-10-06T14:55:41.79546Z"
    },
    "papermill": {
     "duration": 0.019574,
     "end_time": "2021-10-06T20:08:25.251825",
     "exception": false,
     "start_time": "2021-10-06T20:08:25.232251",
     "status": "completed"
    },
    "tags": []
   },
   "outputs": [],
   "source": [
    "def build_dataloaders(tr_features: np.ndarray, va_features: np.ndarray,\n",
    "                      tr_targets: np.ndarray, va_targets: np.ndarray,\n",
    "                      batch_size: int, seed: int):\n",
    "\n",
    "    breaker()\n",
    "    print(\"Building Train and Validation DataLoaders ...\")\n",
    "    \n",
    "    tr_data_setup = DS(features=tr_features, targets=tr_targets)\n",
    "    va_data_setup = DS(features=va_features, targets=va_targets)\n",
    "    \n",
    "    dataloaders = {\n",
    "        \"train\" : DL(tr_data_setup, batch_size=batch_size, shuffle=True, generator=torch.manual_seed(seed)),\n",
    "        \"valid\" : DL(va_data_setup, batch_size=batch_size, shuffle=False)\n",
    "    }\n",
    "    \n",
    "    return dataloaders"
   ]
  },
  {
   "cell_type": "markdown",
   "id": "a098a798",
   "metadata": {
    "papermill": {
     "duration": 0.011492,
     "end_time": "2021-10-06T20:08:25.275276",
     "exception": false,
     "start_time": "2021-10-06T20:08:25.263784",
     "status": "completed"
    },
    "tags": []
   },
   "source": [
    "## Build Model"
   ]
  },
  {
   "cell_type": "code",
   "execution_count": 7,
   "id": "0d26f6d2",
   "metadata": {
    "execution": {
     "iopub.execute_input": "2021-10-06T20:08:25.307480Z",
     "iopub.status.busy": "2021-10-06T20:08:25.305942Z",
     "iopub.status.idle": "2021-10-06T20:08:25.309820Z",
     "shell.execute_reply": "2021-10-06T20:08:25.309441Z",
     "shell.execute_reply.started": "2021-10-06T14:55:41.804262Z"
    },
    "papermill": {
     "duration": 0.022972,
     "end_time": "2021-10-06T20:08:25.309935",
     "exception": false,
     "start_time": "2021-10-06T20:08:25.286963",
     "status": "completed"
    },
    "tags": []
   },
   "outputs": [],
   "source": [
    "def build_model(IL: int, seed: int):\n",
    "    class ANN(nn.Module):\n",
    "        def __init__(self, IL=None):\n",
    "            super(ANN, self).__init__()\n",
    "\n",
    "            self.predictor = nn.Sequential()\n",
    "            self.predictor.add_module(\"BN\", nn.BatchNorm1d(num_features=IL, eps=1e-5))\n",
    "            self.predictor.add_module(\"FC\", WN(nn.Linear(in_features=IL, out_features=1)))\n",
    "\n",
    "        def get_optimizer(self, lr=1e-3, wd=0):\n",
    "            params = [p for p in self.parameters() if p.requires_grad]\n",
    "            return optim.Adam(params, lr=lr, weight_decay=wd)\n",
    "\n",
    "        def get_plateau_scheduler(self, optimizer=None, patience=5, eps=1e-8):\n",
    "            return optim.lr_scheduler.ReduceLROnPlateau(optimizer=optimizer, patience=patience, eps=eps, verbose=True)\n",
    "\n",
    "        def forward(self, x):\n",
    "            return self.predictor(x)\n",
    "    \n",
    "    breaker()\n",
    "    print(\"Building Model ...\")\n",
    "    print(\"\\n{} -> 1\".format(IL))\n",
    "    \n",
    "    torch.manual_seed(seed)\n",
    "    model = ANN(IL=IL)\n",
    "    \n",
    "    return model"
   ]
  },
  {
   "cell_type": "markdown",
   "id": "7d8c82bb",
   "metadata": {
    "papermill": {
     "duration": 0.01174,
     "end_time": "2021-10-06T20:08:25.333680",
     "exception": false,
     "start_time": "2021-10-06T20:08:25.321940",
     "status": "completed"
    },
    "tags": []
   },
   "source": [
    "## Fit and Predict Helpers"
   ]
  },
  {
   "cell_type": "code",
   "execution_count": 8,
   "id": "aae90a9c",
   "metadata": {
    "execution": {
     "iopub.execute_input": "2021-10-06T20:08:25.360305Z",
     "iopub.status.busy": "2021-10-06T20:08:25.359486Z",
     "iopub.status.idle": "2021-10-06T20:08:25.380164Z",
     "shell.execute_reply": "2021-10-06T20:08:25.379722Z",
     "shell.execute_reply.started": "2021-10-06T14:55:41.816784Z"
    },
    "papermill": {
     "duration": 0.034826,
     "end_time": "2021-10-06T20:08:25.380284",
     "exception": false,
     "start_time": "2021-10-06T20:08:25.345458",
     "status": "completed"
    },
    "tags": []
   },
   "outputs": [],
   "source": [
    "def fit(model=None, optimizer=None, scheduler=None, \n",
    "        epochs=None, early_stopping_patience=None,\n",
    "        dataloaders=None, fold=None, verbose=False) -> tuple:\n",
    "    \n",
    "    name = \"./Fold_{}_state.pt\".format(fold)\n",
    "    \n",
    "    breaker()\n",
    "    print(\"Training Fold {}...\".format(fold))\n",
    "    breaker()\n",
    "\n",
    "    Losses = []\n",
    "    bestLoss = {\"train\" : np.inf, \"valid\" : np.inf}\n",
    "\n",
    "    model.to(DEVICE)\n",
    "    start_time = time()\n",
    "    for e in range(epochs):\n",
    "        e_st = time()\n",
    "        epochLoss = {\"train\" : np.inf, \"valid\" : np.inf}\n",
    "\n",
    "        for phase in [\"train\", \"valid\"]:\n",
    "            if phase == \"train\":\n",
    "                model.train()\n",
    "            else:\n",
    "                model.eval()\n",
    "            \n",
    "            lossPerPass = []\n",
    "\n",
    "            for X, y in dataloaders[phase]:\n",
    "                X, y = X.to(DEVICE), y.to(DEVICE)\n",
    "\n",
    "                optimizer.zero_grad()\n",
    "                with torch.set_grad_enabled(phase == \"train\"):\n",
    "                    output = model(X)\n",
    "                    loss = torch.nn.MSELoss()(output, y)\n",
    "                    if phase == \"train\":\n",
    "                        loss.backward()\n",
    "                        optimizer.step()\n",
    "                lossPerPass.append(loss.item())\n",
    "            epochLoss[phase] = np.mean(np.array(lossPerPass))\n",
    "        Losses.append(epochLoss)\n",
    "        \n",
    "        if early_stopping_patience:\n",
    "            if epochLoss[\"valid\"] < bestLoss[\"valid\"]:\n",
    "                bestLoss = epochLoss\n",
    "                BLE = e + 1\n",
    "                torch.save({\"model_state_dict\": model.state_dict(),\n",
    "                            \"optim_state_dict\": optimizer.state_dict()},\n",
    "                           name)\n",
    "                early_stopping_step = 0\n",
    "            else:\n",
    "                early_stopping_step += 1\n",
    "                if early_stopping_step > early_stopping_patience:\n",
    "                    print(\"\\nEarly Stopping at Epoch {}\".format(e))\n",
    "                    break\n",
    "        \n",
    "        if epochLoss[\"valid\"] < bestLoss[\"valid\"]:\n",
    "            bestLoss = epochLoss\n",
    "            BLE = e + 1\n",
    "            torch.save({\"model_state_dict\": model.state_dict(),\n",
    "                        \"optim_state_dict\": optimizer.state_dict()},\n",
    "                       name)\n",
    "        \n",
    "        if scheduler:\n",
    "            scheduler.step(epochLoss[\"valid\"])\n",
    "        \n",
    "        if verbose:\n",
    "            print(\"Epoch: {} | Train Loss: {:.5f} | Valid Loss: {:.5f} | Time: {:.2f} seconds\".format(e+1, epochLoss[\"train\"], epochLoss[\"valid\"], time()-e_st))\n",
    "    \n",
    "    breaker()\n",
    "    print(\"Best Validation Loss at Epoch {}\".format(BLE))\n",
    "    breaker()\n",
    "    print(\"Time Taken [{} Epochs] : {:.2f} minutes\".format(len(Losses), (time()-start_time)/60))\n",
    "    breaker()\n",
    "    print(\"Training Completed\")\n",
    "    breaker()\n",
    "\n",
    "    return Losses, BLE, name\n",
    "\n",
    "#####################################################################################################\n",
    "\n",
    "def predict_batch(model=None, dataloader=None, mode=\"test\", path=None) -> np.ndarray:\n",
    "    model.load_state_dict(torch.load(path, map_location=DEVICE)[\"model_state_dict\"])\n",
    "    model.to(DEVICE)\n",
    "    model.eval()\n",
    "\n",
    "    y_pred = torch.zeros(1, 1).to(DEVICE)\n",
    "    if re.match(r\"valid\", mode, re.IGNORECASE):\n",
    "        for X, _ in dataloader:\n",
    "            X = X.to(DEVICE)\n",
    "            with torch.no_grad():\n",
    "                output = model(X)\n",
    "            y_pred = torch.cat((y_pred, output.view(-1, 1)), dim=0)\n",
    "    elif re.match(r\"test\", mode, re.IGNORECASE):\n",
    "        for X in dataloader:\n",
    "            X = X.to(DEVICE)\n",
    "            with torch.no_grad():\n",
    "                output = model(X)\n",
    "            y_pred = torch.cat((y_pred, output.view(-1, 1)), dim=0)\n",
    "    \n",
    "    return y_pred[1:].detach().cpu().numpy()"
   ]
  },
  {
   "cell_type": "markdown",
   "id": "d61a21e8",
   "metadata": {
    "papermill": {
     "duration": 0.011517,
     "end_time": "2021-10-06T20:08:25.403617",
     "exception": false,
     "start_time": "2021-10-06T20:08:25.392100",
     "status": "completed"
    },
    "tags": []
   },
   "source": [
    "## Train Helper"
   ]
  },
  {
   "cell_type": "code",
   "execution_count": 9,
   "id": "27856d04",
   "metadata": {
    "execution": {
     "iopub.execute_input": "2021-10-06T20:08:25.441139Z",
     "iopub.status.busy": "2021-10-06T20:08:25.440229Z",
     "iopub.status.idle": "2021-10-06T20:08:25.442214Z",
     "shell.execute_reply": "2021-10-06T20:08:25.442672Z",
     "shell.execute_reply.started": "2021-10-06T14:55:41.860408Z"
    },
    "papermill": {
     "duration": 0.02693,
     "end_time": "2021-10-06T20:08:25.442790",
     "exception": false,
     "start_time": "2021-10-06T20:08:25.415860",
     "status": "completed"
    },
    "tags": []
   },
   "outputs": [],
   "source": [
    "def train(features: np.ndarray, targets: np.ndarray,\n",
    "          n_splits: int, batch_size: int, lr: float, wd: float, \n",
    "          epochs: int, early_stopping: int, \n",
    "          patience=None, eps=None) -> list:        \n",
    "    \n",
    "    metrics = []\n",
    "        \n",
    "    KFold_start_time = time()\n",
    "    breaker()\n",
    "    print(\"Performing {} Fold CV ...\".format(n_splits))\n",
    "    fold = 1\n",
    "    for tr_idx, va_idx in KFold(n_splits=n_splits, shuffle=True, random_state=SEED).split(features):\n",
    "\n",
    "        tr_features, va_features = features[tr_idx], features[va_idx]\n",
    "        tr_targets, va_targets   = targets[tr_idx], targets[va_idx]\n",
    "\n",
    "        tr_targets, va_targets   = tr_targets.reshape(-1, 1), va_targets.reshape(-1, 1)\n",
    "\n",
    "        tr_targets = sc_y.fit_transform(tr_targets)\n",
    "        va_targets = sc_y.transform(va_targets)\n",
    "\n",
    "        dataloaders = build_dataloaders(tr_features, va_features, \n",
    "                                         tr_targets, va_targets, \n",
    "                                         batch_size, SEED)\n",
    "        model = build_model(IL=tr_features.shape[1], seed=SEED)\n",
    "        \n",
    "        optimizer = model.get_optimizer(lr=lr, wd=wd)\n",
    "        scheduler = None\n",
    "        if isinstance(patience, int) and isinstance(eps, float):\n",
    "            scheduler = model.get_plateau_scheduler(optimizer, patience, eps)\n",
    "\n",
    "        L, _, name = fit(model=model, optimizer=optimizer, scheduler=scheduler, \n",
    "                         epochs=epochs, early_stopping_patience=early_stopping,\n",
    "                         dataloaders=dataloaders, fold=fold, verbose=True)\n",
    "        y_pred = predict_batch(model=model, dataloader=dataloaders[\"valid\"], mode=\"valid\", path=name)\n",
    "        RMSE = np.sqrt(mean_squared_error(sc_y.inverse_transform(y_pred), sc_y.inverse_transform(va_targets)))\n",
    "        print(\"Validation RMSE [Fold {}]: {:.5f}\".format(fold, RMSE))\n",
    "        breaker()\n",
    "        show_graphs(L)\n",
    "        \n",
    "        metrics_dict = {\"Fold\" : fold, \"RMSE\" : RMSE}\n",
    "        metrics.append(metrics_dict)\n",
    "        \n",
    "        fold += 1\n",
    "    \n",
    "    breaker()\n",
    "    print(\"Total Time to {} Fold CV : {:.2f} minutes\".format(n_splits, (time() - KFold_start_time)/60))\n",
    "    breaker()\n",
    "    \n",
    "    return metrics"
   ]
  },
  {
   "cell_type": "markdown",
   "id": "4c9450a5",
   "metadata": {
    "papermill": {
     "duration": 0.011547,
     "end_time": "2021-10-06T20:08:25.466407",
     "exception": false,
     "start_time": "2021-10-06T20:08:25.454860",
     "status": "completed"
    },
    "tags": []
   },
   "source": [
    "## Main"
   ]
  },
  {
   "cell_type": "code",
   "execution_count": 10,
   "id": "3f5cfc7e",
   "metadata": {
    "execution": {
     "iopub.execute_input": "2021-10-06T20:08:25.497740Z",
     "iopub.status.busy": "2021-10-06T20:08:25.497251Z",
     "iopub.status.idle": "2021-10-06T20:09:58.485354Z",
     "shell.execute_reply": "2021-10-06T20:09:58.485735Z",
     "shell.execute_reply.started": "2021-10-06T14:55:41.874853Z"
    },
    "papermill": {
     "duration": 93.007595,
     "end_time": "2021-10-06T20:09:58.485917",
     "exception": false,
     "start_time": "2021-10-06T20:08:25.478322",
     "status": "completed"
    },
    "tags": []
   },
   "outputs": [
    {
     "name": "stdout",
     "output_type": "stream",
     "text": [
      "\n",
      "**************************************************\n",
      "\n",
      "Loading Data ...\n",
      "\n",
      "**************************************************\n",
      "\n",
      "Performing 10 Fold CV ...\n",
      "\n",
      "**************************************************\n",
      "\n",
      "Building Train and Validation DataLoaders ...\n",
      "\n",
      "**************************************************\n",
      "\n",
      "Building Model ...\n",
      "\n",
      "2048 -> 1\n",
      "\n",
      "**************************************************\n",
      "\n",
      "Training Fold 1...\n",
      "\n",
      "**************************************************\n",
      "\n",
      "Epoch: 1 | Train Loss: 0.92862 | Valid Loss: 0.79993 | Time: 0.87 seconds\n",
      "Epoch: 2 | Train Loss: 0.80853 | Valid Loss: 0.80956 | Time: 0.69 seconds\n",
      "Epoch: 3 | Train Loss: 0.79133 | Valid Loss: 0.80386 | Time: 0.70 seconds\n",
      "Epoch: 4 | Train Loss: 0.78533 | Valid Loss: 0.81732 | Time: 0.70 seconds\n",
      "Epoch: 5 | Train Loss: 0.77095 | Valid Loss: 0.83956 | Time: 0.70 seconds\n",
      "Epoch: 6 | Train Loss: 0.76931 | Valid Loss: 0.84560 | Time: 0.70 seconds\n",
      "Epoch: 7 | Train Loss: 0.76183 | Valid Loss: 0.82463 | Time: 0.69 seconds\n",
      "Epoch: 8 | Train Loss: 0.75411 | Valid Loss: 0.82108 | Time: 0.69 seconds\n",
      "Epoch: 9 | Train Loss: 0.75641 | Valid Loss: 0.84190 | Time: 0.70 seconds\n",
      "\n",
      "Early Stopping at Epoch 9\n",
      "\n",
      "**************************************************\n",
      "\n",
      "Best Validation Loss at Epoch 1\n",
      "\n",
      "**************************************************\n",
      "\n",
      "Time Taken [10 Epochs] : 0.12 minutes\n",
      "\n",
      "**************************************************\n",
      "\n",
      "Training Completed\n",
      "\n",
      "**************************************************\n",
      "\n",
      "Validation RMSE [Fold 1]: 18.46602\n",
      "\n",
      "**************************************************\n",
      "\n"
     ]
    },
    {
     "data": {
      "image/png": "[encoded data removed]",
      "text/plain": [
       "<Figure size 432x288 with 1 Axes>"
      ]
     },
     "metadata": {
      "needs_background": "light"
     },
     "output_type": "display_data"
    },
    {
     "name": "stdout",
     "output_type": "stream",
     "text": [
      "\n",
      "**************************************************\n",
      "\n",
      "Building Train and Validation DataLoaders ...\n",
      "\n",
      "**************************************************\n",
      "\n",
      "Building Model ...\n",
      "\n",
      "2048 -> 1\n",
      "\n",
      "**************************************************\n",
      "\n",
      "Training Fold 2...\n",
      "\n",
      "**************************************************\n",
      "\n",
      "Epoch: 1 | Train Loss: 0.91762 | Valid Loss: 0.89481 | Time: 0.71 seconds\n",
      "Epoch: 2 | Train Loss: 0.81759 | Valid Loss: 0.89346 | Time: 0.73 seconds\n",
      "Epoch: 3 | Train Loss: 0.79550 | Valid Loss: 0.93686 | Time: 0.70 seconds\n",
      "Epoch: 4 | Train Loss: 0.79000 | Valid Loss: 0.89552 | Time: 0.71 seconds\n",
      "Epoch: 5 | Train Loss: 0.78320 | Valid Loss: 0.90590 | Time: 0.77 seconds\n",
      "Epoch: 6 | Train Loss: 0.76986 | Valid Loss: 0.92884 | Time: 0.80 seconds\n",
      "Epoch: 7 | Train Loss: 0.76266 | Valid Loss: 0.91000 | Time: 0.69 seconds\n",
      "Epoch: 8 | Train Loss: 0.76559 | Valid Loss: 0.92475 | Time: 0.69 seconds\n",
      "Epoch: 9 | Train Loss: 0.75749 | Valid Loss: 0.92418 | Time: 0.71 seconds\n",
      "Epoch: 10 | Train Loss: 0.75432 | Valid Loss: 0.91853 | Time: 0.70 seconds\n",
      "\n",
      "Early Stopping at Epoch 10\n",
      "\n",
      "**************************************************\n",
      "\n",
      "Best Validation Loss at Epoch 2\n",
      "\n",
      "**************************************************\n",
      "\n",
      "Time Taken [11 Epochs] : 0.13 minutes\n",
      "\n",
      "**************************************************\n",
      "\n",
      "Training Completed\n",
      "\n",
      "**************************************************\n",
      "\n",
      "Validation RMSE [Fold 2]: 19.35998\n",
      "\n",
      "**************************************************\n",
      "\n"
     ]
    },
    {
     "data": {
      "image/png": "[encoded data removed]",
      "text/plain": [
       "<Figure size 432x288 with 1 Axes>"
      ]
     },
     "metadata": {
      "needs_background": "light"
     },
     "output_type": "display_data"
    },
    {
     "name": "stdout",
     "output_type": "stream",
     "text": [
      "\n",
      "**************************************************\n",
      "\n",
      "Building Train and Validation DataLoaders ...\n",
      "\n",
      "**************************************************\n",
      "\n",
      "Building Model ...\n",
      "\n",
      "2048 -> 1\n",
      "\n",
      "**************************************************\n",
      "\n",
      "Training Fold 3...\n",
      "\n",
      "**************************************************\n",
      "\n",
      "Epoch: 1 | Train Loss: 0.93980 | Valid Loss: 0.72027 | Time: 0.70 seconds\n",
      "Epoch: 2 | Train Loss: 0.81335 | Valid Loss: 0.72001 | Time: 0.97 seconds\n",
      "Epoch: 3 | Train Loss: 0.80218 | Valid Loss: 0.72296 | Time: 0.78 seconds\n",
      "Epoch: 4 | Train Loss: 0.78712 | Valid Loss: 0.72580 | Time: 0.70 seconds\n",
      "Epoch: 5 | Train Loss: 0.77731 | Valid Loss: 0.72880 | Time: 0.70 seconds\n",
      "Epoch: 6 | Train Loss: 0.77290 | Valid Loss: 0.72625 | Time: 0.71 seconds\n",
      "Epoch: 7 | Train Loss: 0.76764 | Valid Loss: 0.73317 | Time: 0.71 seconds\n",
      "Epoch: 8 | Train Loss: 0.75912 | Valid Loss: 0.72795 | Time: 0.71 seconds\n",
      "Epoch: 9 | Train Loss: 0.75048 | Valid Loss: 0.77780 | Time: 0.92 seconds\n",
      "Epoch: 10 | Train Loss: 0.75034 | Valid Loss: 0.75262 | Time: 0.72 seconds\n",
      "\n",
      "Early Stopping at Epoch 10\n",
      "\n",
      "**************************************************\n",
      "\n",
      "Best Validation Loss at Epoch 2\n",
      "\n",
      "**************************************************\n",
      "\n",
      "Time Taken [11 Epochs] : 0.14 minutes\n",
      "\n",
      "**************************************************\n",
      "\n",
      "Training Completed\n",
      "\n",
      "**************************************************\n",
      "\n",
      "Validation RMSE [Fold 3]: 17.58886\n",
      "\n",
      "**************************************************\n",
      "\n"
     ]
    },
    {
     "data": {
      "image/png": "[encoded data removed]",
      "text/plain": [
       "<Figure size 432x288 with 1 Axes>"
      ]
     },
     "metadata": {
      "needs_background": "light"
     },
     "output_type": "display_data"
    },
    {
     "name": "stdout",
     "output_type": "stream",
     "text": [
      "\n",
      "**************************************************\n",
      "\n",
      "Building Train and Validation DataLoaders ...\n",
      "\n",
      "**************************************************\n",
      "\n",
      "Building Model ...\n",
      "\n",
      "2048 -> 1\n",
      "\n",
      "**************************************************\n",
      "\n",
      "Training Fold 4...\n",
      "\n",
      "**************************************************\n",
      "\n",
      "Epoch: 1 | Train Loss: 0.90556 | Valid Loss: 0.82845 | Time: 0.71 seconds\n",
      "Epoch: 2 | Train Loss: 0.80974 | Valid Loss: 0.81516 | Time: 0.70 seconds\n",
      "Epoch: 3 | Train Loss: 0.79571 | Valid Loss: 0.81934 | Time: 0.70 seconds\n",
      "Epoch: 4 | Train Loss: 0.78088 | Valid Loss: 0.83528 | Time: 0.71 seconds\n",
      "Epoch: 5 | Train Loss: 0.77632 | Valid Loss: 0.82623 | Time: 0.71 seconds\n",
      "Epoch: 6 | Train Loss: 0.76156 | Valid Loss: 0.84080 | Time: 0.72 seconds\n",
      "Epoch: 7 | Train Loss: 0.75754 | Valid Loss: 0.83774 | Time: 0.71 seconds\n",
      "Epoch: 8 | Train Loss: 0.74664 | Valid Loss: 0.86257 | Time: 0.70 seconds\n",
      "Epoch: 9 | Train Loss: 0.75191 | Valid Loss: 0.86170 | Time: 0.70 seconds\n",
      "Epoch: 10 | Train Loss: 0.75149 | Valid Loss: 0.85821 | Time: 0.69 seconds\n",
      "\n",
      "Early Stopping at Epoch 10\n",
      "\n",
      "**************************************************\n",
      "\n",
      "Best Validation Loss at Epoch 2\n",
      "\n",
      "**************************************************\n",
      "\n",
      "Time Taken [11 Epochs] : 0.13 minutes\n",
      "\n",
      "**************************************************\n",
      "\n",
      "Training Completed\n",
      "\n",
      "**************************************************\n",
      "\n",
      "Validation RMSE [Fold 4]: 18.62236\n",
      "\n",
      "**************************************************\n",
      "\n"
     ]
    },
    {
     "data": {
      "image/png": "[encoded data removed]",
      "text/plain": [
       "<Figure size 432x288 with 1 Axes>"
      ]
     },
     "metadata": {
      "needs_background": "light"
     },
     "output_type": "display_data"
    },
    {
     "name": "stdout",
     "output_type": "stream",
     "text": [
      "\n",
      "**************************************************\n",
      "\n",
      "Building Train and Validation DataLoaders ...\n",
      "\n",
      "**************************************************\n",
      "\n",
      "Building Model ...\n",
      "\n",
      "2048 -> 1\n",
      "\n",
      "**************************************************\n",
      "\n",
      "Training Fold 5...\n",
      "\n",
      "**************************************************\n",
      "\n",
      "Epoch: 1 | Train Loss: 0.94032 | Valid Loss: 0.86346 | Time: 0.75 seconds\n",
      "Epoch: 2 | Train Loss: 0.81669 | Valid Loss: 0.85268 | Time: 0.85 seconds\n",
      "Epoch: 3 | Train Loss: 0.79917 | Valid Loss: 0.85368 | Time: 0.69 seconds\n",
      "Epoch: 4 | Train Loss: 0.78819 | Valid Loss: 0.85063 | Time: 0.70 seconds\n",
      "Epoch: 5 | Train Loss: 0.77288 | Valid Loss: 0.86727 | Time: 0.69 seconds\n",
      "Epoch: 6 | Train Loss: 0.76260 | Valid Loss: 0.88786 | Time: 0.69 seconds\n",
      "Epoch: 7 | Train Loss: 0.76357 | Valid Loss: 0.86261 | Time: 0.75 seconds\n",
      "Epoch: 8 | Train Loss: 0.75666 | Valid Loss: 0.86806 | Time: 0.71 seconds\n",
      "Epoch: 9 | Train Loss: 0.75620 | Valid Loss: 0.89112 | Time: 0.70 seconds\n",
      "Epoch: 10 | Train Loss: 0.74985 | Valid Loss: 0.86149 | Time: 0.70 seconds\n",
      "Epoch: 11 | Train Loss: 0.74544 | Valid Loss: 0.87493 | Time: 0.70 seconds\n",
      "Epoch: 12 | Train Loss: 0.74124 | Valid Loss: 0.87331 | Time: 0.70 seconds\n",
      "\n",
      "Early Stopping at Epoch 12\n",
      "\n",
      "**************************************************\n",
      "\n",
      "Best Validation Loss at Epoch 4\n",
      "\n",
      "**************************************************\n",
      "\n",
      "Time Taken [13 Epochs] : 0.16 minutes\n",
      "\n",
      "**************************************************\n",
      "\n",
      "Training Completed\n",
      "\n",
      "**************************************************\n",
      "\n",
      "Validation RMSE [Fold 5]: 19.00120\n",
      "\n",
      "**************************************************\n",
      "\n"
     ]
    },
    {
     "data": {
      "image/png": "[encoded data removed]",
      "text/plain": [
       "<Figure size 432x288 with 1 Axes>"
      ]
     },
     "metadata": {
      "needs_background": "light"
     },
     "output_type": "display_data"
    },
    {
     "name": "stdout",
     "output_type": "stream",
     "text": [
      "\n",
      "**************************************************\n",
      "\n",
      "Building Train and Validation DataLoaders ...\n",
      "\n",
      "**************************************************\n",
      "\n",
      "Building Model ...\n",
      "\n",
      "2048 -> 1\n",
      "\n",
      "**************************************************\n",
      "\n",
      "Training Fold 6...\n",
      "\n",
      "**************************************************\n",
      "\n",
      "Epoch: 1 | Train Loss: 0.93454 | Valid Loss: 0.87659 | Time: 0.71 seconds\n",
      "Epoch: 2 | Train Loss: 0.80929 | Valid Loss: 0.88505 | Time: 0.70 seconds\n",
      "Epoch: 3 | Train Loss: 0.79970 | Valid Loss: 0.88842 | Time: 0.77 seconds\n",
      "Epoch: 4 | Train Loss: 0.78812 | Valid Loss: 0.89331 | Time: 0.81 seconds\n",
      "Epoch: 5 | Train Loss: 0.77696 | Valid Loss: 0.87840 | Time: 0.69 seconds\n",
      "Epoch: 6 | Train Loss: 0.76727 | Valid Loss: 0.88920 | Time: 0.70 seconds\n",
      "Epoch: 7 | Train Loss: 0.76856 | Valid Loss: 0.88505 | Time: 0.72 seconds\n",
      "Epoch: 8 | Train Loss: 0.75828 | Valid Loss: 0.88691 | Time: 0.69 seconds\n",
      "Epoch: 9 | Train Loss: 0.75241 | Valid Loss: 0.92159 | Time: 0.71 seconds\n",
      "\n",
      "Early Stopping at Epoch 9\n",
      "\n",
      "**************************************************\n",
      "\n",
      "Best Validation Loss at Epoch 1\n",
      "\n",
      "**************************************************\n",
      "\n",
      "Time Taken [10 Epochs] : 0.12 minutes\n",
      "\n",
      "**************************************************\n",
      "\n",
      "Training Completed\n",
      "\n",
      "**************************************************\n",
      "\n",
      "Validation RMSE [Fold 6]: 19.23101\n",
      "\n",
      "**************************************************\n",
      "\n"
     ]
    },
    {
     "data": {
      "image/png": "[encoded data removed]",
      "text/plain": [
       "<Figure size 432x288 with 1 Axes>"
      ]
     },
     "metadata": {
      "needs_background": "light"
     },
     "output_type": "display_data"
    },
    {
     "name": "stdout",
     "output_type": "stream",
     "text": [
      "\n",
      "**************************************************\n",
      "\n",
      "Building Train and Validation DataLoaders ...\n",
      "\n",
      "**************************************************\n",
      "\n",
      "Building Model ...\n",
      "\n",
      "2048 -> 1\n",
      "\n",
      "**************************************************\n",
      "\n",
      "Training Fold 7...\n",
      "\n",
      "**************************************************\n",
      "\n",
      "Epoch: 1 | Train Loss: 0.91918 | Valid Loss: 0.92679 | Time: 0.75 seconds\n",
      "Epoch: 2 | Train Loss: 0.81030 | Valid Loss: 0.92269 | Time: 0.73 seconds\n",
      "Epoch: 3 | Train Loss: 0.79544 | Valid Loss: 0.91036 | Time: 0.73 seconds\n",
      "Epoch: 4 | Train Loss: 0.78049 | Valid Loss: 0.92946 | Time: 0.73 seconds\n",
      "Epoch: 5 | Train Loss: 0.77681 | Valid Loss: 0.91094 | Time: 0.71 seconds\n",
      "Epoch: 6 | Train Loss: 0.76764 | Valid Loss: 0.92126 | Time: 0.70 seconds\n",
      "Epoch: 7 | Train Loss: 0.76087 | Valid Loss: 0.94670 | Time: 0.69 seconds\n",
      "Epoch: 8 | Train Loss: 0.75636 | Valid Loss: 0.93444 | Time: 0.90 seconds\n",
      "Epoch: 9 | Train Loss: 0.75009 | Valid Loss: 0.92595 | Time: 0.73 seconds\n",
      "Epoch: 10 | Train Loss: 0.75088 | Valid Loss: 0.92955 | Time: 0.73 seconds\n",
      "Epoch: 11 | Train Loss: 0.74233 | Valid Loss: 0.94690 | Time: 0.72 seconds\n",
      "\n",
      "Early Stopping at Epoch 11\n",
      "\n",
      "**************************************************\n",
      "\n",
      "Best Validation Loss at Epoch 3\n",
      "\n",
      "**************************************************\n",
      "\n",
      "Time Taken [12 Epochs] : 0.15 minutes\n",
      "\n",
      "**************************************************\n",
      "\n",
      "Training Completed\n",
      "\n",
      "**************************************************\n",
      "\n",
      "Validation RMSE [Fold 7]: 19.53539\n",
      "\n",
      "**************************************************\n",
      "\n"
     ]
    },
    {
     "data": {
      "image/png": "[encoded data removed]",
      "text/plain": [
       "<Figure size 432x288 with 1 Axes>"
      ]
     },
     "metadata": {
      "needs_background": "light"
     },
     "output_type": "display_data"
    },
    {
     "name": "stdout",
     "output_type": "stream",
     "text": [
      "\n",
      "**************************************************\n",
      "\n",
      "Building Train and Validation DataLoaders ...\n",
      "\n",
      "**************************************************\n",
      "\n",
      "Building Model ...\n",
      "\n",
      "2048 -> 1\n",
      "\n",
      "**************************************************\n",
      "\n",
      "Training Fold 8...\n",
      "\n",
      "**************************************************\n",
      "\n",
      "Epoch: 1 | Train Loss: 0.92608 | Valid Loss: 0.88211 | Time: 0.73 seconds\n",
      "Epoch: 2 | Train Loss: 0.81660 | Valid Loss: 0.87792 | Time: 0.71 seconds\n",
      "Epoch: 3 | Train Loss: 0.79340 | Valid Loss: 0.88538 | Time: 0.69 seconds\n",
      "Epoch: 4 | Train Loss: 0.78966 | Valid Loss: 0.88289 | Time: 0.69 seconds\n",
      "Epoch: 5 | Train Loss: 0.78035 | Valid Loss: 0.87325 | Time: 0.71 seconds\n",
      "Epoch: 6 | Train Loss: 0.77004 | Valid Loss: 0.88707 | Time: 0.70 seconds\n",
      "Epoch: 7 | Train Loss: 0.76653 | Valid Loss: 0.87915 | Time: 0.70 seconds\n",
      "Epoch: 8 | Train Loss: 0.75650 | Valid Loss: 0.87757 | Time: 0.69 seconds\n",
      "Epoch: 9 | Train Loss: 0.74740 | Valid Loss: 0.91183 | Time: 0.69 seconds\n",
      "Epoch: 10 | Train Loss: 0.75505 | Valid Loss: 0.88643 | Time: 0.70 seconds\n",
      "Epoch: 11 | Train Loss: 0.74863 | Valid Loss: 0.90055 | Time: 0.86 seconds\n",
      "Epoch: 12 | Train Loss: 0.75259 | Valid Loss: 0.89529 | Time: 0.70 seconds\n",
      "Epoch: 13 | Train Loss: 0.73772 | Valid Loss: 0.92592 | Time: 0.69 seconds\n",
      "\n",
      "Early Stopping at Epoch 13\n",
      "\n",
      "**************************************************\n",
      "\n",
      "Best Validation Loss at Epoch 5\n",
      "\n",
      "**************************************************\n",
      "\n",
      "Time Taken [14 Epochs] : 0.17 minutes\n",
      "\n",
      "**************************************************\n",
      "\n",
      "Training Completed\n",
      "\n",
      "**************************************************\n",
      "\n",
      "Validation RMSE [Fold 8]: 19.20522\n",
      "\n",
      "**************************************************\n",
      "\n"
     ]
    },
    {
     "data": {
      "image/png": "[encoded data removed]",
      "text/plain": [
       "<Figure size 432x288 with 1 Axes>"
      ]
     },
     "metadata": {
      "needs_background": "light"
     },
     "output_type": "display_data"
    },
    {
     "name": "stdout",
     "output_type": "stream",
     "text": [
      "\n",
      "**************************************************\n",
      "\n",
      "Building Train and Validation DataLoaders ...\n",
      "\n",
      "**************************************************\n",
      "\n",
      "Building Model ...\n",
      "\n",
      "2048 -> 1\n",
      "\n",
      "**************************************************\n",
      "\n",
      "Training Fold 9...\n",
      "\n",
      "**************************************************\n",
      "\n",
      "Epoch: 1 | Train Loss: 0.91870 | Valid Loss: 0.79035 | Time: 0.70 seconds\n",
      "Epoch: 2 | Train Loss: 0.81977 | Valid Loss: 0.77955 | Time: 0.69 seconds\n",
      "Epoch: 3 | Train Loss: 0.79856 | Valid Loss: 0.78360 | Time: 0.68 seconds\n",
      "Epoch: 4 | Train Loss: 0.78417 | Valid Loss: 0.78250 | Time: 0.68 seconds\n",
      "Epoch: 5 | Train Loss: 0.77940 | Valid Loss: 0.79049 | Time: 0.69 seconds\n",
      "Epoch: 6 | Train Loss: 0.77426 | Valid Loss: 0.81262 | Time: 0.68 seconds\n",
      "Epoch: 7 | Train Loss: 0.76510 | Valid Loss: 0.80081 | Time: 0.68 seconds\n",
      "Epoch: 8 | Train Loss: 0.76462 | Valid Loss: 0.81650 | Time: 0.69 seconds\n",
      "Epoch: 9 | Train Loss: 0.75276 | Valid Loss: 0.82434 | Time: 0.69 seconds\n",
      "Epoch: 10 | Train Loss: 0.75413 | Valid Loss: 0.79730 | Time: 0.68 seconds\n",
      "\n",
      "Early Stopping at Epoch 10\n",
      "\n",
      "**************************************************\n",
      "\n",
      "Best Validation Loss at Epoch 2\n",
      "\n",
      "**************************************************\n",
      "\n",
      "Time Taken [11 Epochs] : 0.13 minutes\n",
      "\n",
      "**************************************************\n",
      "\n",
      "Training Completed\n",
      "\n",
      "**************************************************\n",
      "\n",
      "Validation RMSE [Fold 9]: 18.21640\n",
      "\n",
      "**************************************************\n",
      "\n"
     ]
    },
    {
     "data": {
      "image/png": "[encoded data removed]",
      "text/plain": [
       "<Figure size 432x288 with 1 Axes>"
      ]
     },
     "metadata": {
      "needs_background": "light"
     },
     "output_type": "display_data"
    },
    {
     "name": "stdout",
     "output_type": "stream",
     "text": [
      "\n",
      "**************************************************\n",
      "\n",
      "Building Train and Validation DataLoaders ...\n",
      "\n",
      "**************************************************\n",
      "\n",
      "Building Model ...\n",
      "\n",
      "2048 -> 1\n",
      "\n",
      "**************************************************\n",
      "\n",
      "Training Fold 10...\n",
      "\n",
      "**************************************************\n",
      "\n",
      "Epoch: 1 | Train Loss: 0.92993 | Valid Loss: 0.83451 | Time: 0.89 seconds\n",
      "Epoch: 2 | Train Loss: 0.81942 | Valid Loss: 0.83191 | Time: 0.69 seconds\n",
      "Epoch: 3 | Train Loss: 0.79326 | Valid Loss: 0.86435 | Time: 0.69 seconds\n",
      "Epoch: 4 | Train Loss: 0.78755 | Valid Loss: 0.84547 | Time: 0.70 seconds\n",
      "Epoch: 5 | Train Loss: 0.77376 | Valid Loss: 0.84272 | Time: 0.70 seconds\n",
      "Epoch: 6 | Train Loss: 0.76833 | Valid Loss: 0.84767 | Time: 0.91 seconds\n",
      "Epoch: 7 | Train Loss: 0.76059 | Valid Loss: 0.84062 | Time: 0.82 seconds\n",
      "Epoch: 8 | Train Loss: 0.74917 | Valid Loss: 0.86016 | Time: 0.70 seconds\n",
      "Epoch: 9 | Train Loss: 0.74987 | Valid Loss: 0.84660 | Time: 0.73 seconds\n",
      "Epoch: 10 | Train Loss: 0.74574 | Valid Loss: 0.88643 | Time: 0.69 seconds\n",
      "\n",
      "Early Stopping at Epoch 10\n",
      "\n",
      "**************************************************\n",
      "\n",
      "Best Validation Loss at Epoch 2\n",
      "\n",
      "**************************************************\n",
      "\n",
      "Time Taken [11 Epochs] : 0.14 minutes\n",
      "\n",
      "**************************************************\n",
      "\n",
      "Training Completed\n",
      "\n",
      "**************************************************\n",
      "\n",
      "Validation RMSE [Fold 10]: 18.81458\n",
      "\n",
      "**************************************************\n",
      "\n"
     ]
    },
    {
     "data": {
      "image/png": "[encoded data removed]",
      "text/plain": [
       "<Figure size 432x288 with 1 Axes>"
      ]
     },
     "metadata": {
      "needs_background": "light"
     },
     "output_type": "display_data"
    },
    {
     "name": "stdout",
     "output_type": "stream",
     "text": [
      "\n",
      "**************************************************\n",
      "\n",
      "Total Time to 10 Fold CV : 1.51 minutes\n",
      "\n",
      "**************************************************\n",
      "\n",
      "{'Fold': 1, 'RMSE': 18.466018161395}\n",
      "{'Fold': 2, 'RMSE': 19.359981893081862}\n",
      "{'Fold': 3, 'RMSE': 17.58885891207003}\n",
      "{'Fold': 4, 'RMSE': 18.622362825853763}\n",
      "{'Fold': 5, 'RMSE': 19.0011963636624}\n",
      "{'Fold': 6, 'RMSE': 19.231005250112577}\n",
      "{'Fold': 7, 'RMSE': 19.53539234966364}\n",
      "{'Fold': 8, 'RMSE': 19.205218313610448}\n",
      "{'Fold': 9, 'RMSE': 18.216399230286488}\n",
      "{'Fold': 10, 'RMSE': 18.814584033794514}\n",
      "\n",
      "**************************************************\n",
      "\n"
     ]
    }
   ],
   "source": [
    "def main():\n",
    "    DEBUG = False\n",
    "    \n",
    "    ########### Params ###########\n",
    "    \n",
    "    if DEBUG:\n",
    "        n_splits = 3\n",
    "        batch_size = 512\n",
    "        lr, wd = 1e-3, 0\n",
    "        patience, eps = 5, 1e-8\n",
    "        epochs, early_stopping = 5, 5\n",
    "    else:\n",
    "        n_splits = 10\n",
    "        batch_size = 32\n",
    "        lr, wd = 1e-2, 0\n",
    "        patience, eps = 5, 1e-8\n",
    "        epochs, early_stopping = 100, 8\n",
    "    \n",
    "    ##############################\n",
    "\n",
    "    breaker()\n",
    "    print(\"Loading Data ...\")\n",
    "    \n",
    "    features = np.load(os.path.join(FEATURES_PATH, \"{}_features.npy\".format(MODEL_NAME)))\n",
    "    targets = get_targets(PATH)\n",
    "\n",
    "    # Without Scheduler\n",
    "    metrics = train(features, targets, n_splits, batch_size, lr, wd, epochs, early_stopping, patience=None, eps=None)\n",
    "    \n",
    "    # # With Plateau Scheduler\n",
    "    # metrics = train(features, targets, n_splits, batch_size, lr, wd, epochs, early_stopping, patience=patience, eps=eps)    \n",
    "    \n",
    "    for i in range(len(metrics)):\n",
    "        print(metrics[i])\n",
    "\n",
    "    with open(\"metrics.pkl\", \"wb\") as fp:\n",
    "        pickle.dump(metrics, fp)\n",
    "    \n",
    "    breaker()\n",
    "\n",
    "main()"
   ]
  },
  {
   "cell_type": "code",
   "execution_count": 11,
   "id": "fc6a548b",
   "metadata": {
    "execution": {
     "iopub.execute_input": "2021-10-06T20:09:58.597859Z",
     "iopub.status.busy": "2021-10-06T20:09:58.596243Z",
     "iopub.status.idle": "2021-10-06T20:09:58.600340Z",
     "shell.execute_reply": "2021-10-06T20:09:58.599670Z",
     "shell.execute_reply.started": "2021-10-06T14:55:46.659053Z"
    },
    "papermill": {
     "duration": 0.06204,
     "end_time": "2021-10-06T20:09:58.600502",
     "exception": false,
     "start_time": "2021-10-06T20:09:58.538462",
     "status": "completed"
    },
    "tags": []
   },
   "outputs": [
    {
     "name": "stdout",
     "output_type": "stream",
     "text": [
      "\n",
      "**************************************************\n",
      "\n",
      "Notebook Run Time : 1.65 minutes\n",
      "\n",
      "**************************************************\n",
      "\n"
     ]
    }
   ],
   "source": [
    "breaker()\n",
    "print(\"Notebook Run Time : {:.2f} minutes\".format((time()-notebook_start_time)/60))\n",
    "breaker()"
   ]
  }
 ],
 "metadata": {
  "kernelspec": {
   "display_name": "Python 3",
   "language": "python",
   "name": "python3"
  },
  "language_info": {
   "codemirror_mode": {
    "name": "ipython",
    "version": 3
   },
   "file_extension": ".py",
   "mimetype": "text/x-python",
   "name": "python",
   "nbconvert_exporter": "python",
   "pygments_lexer": "ipython3",
   "version": "3.7.10"
  },
  "papermill": {
   "default_parameters": {},
   "duration": 107.698797,
   "end_time": "2021-10-06T20:10:00.127657",
   "environment_variables": {},
   "exception": null,
   "input_path": "__notebook__.ipynb",
   "output_path": "__notebook__.ipynb",
   "parameters": {},
   "start_time": "2021-10-06T20:08:12.428860",
   "version": "2.3.3"
  }
 },
 "nbformat": 4,
 "nbformat_minor": 5
}
