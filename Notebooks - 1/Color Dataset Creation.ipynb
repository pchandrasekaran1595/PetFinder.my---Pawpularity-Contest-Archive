{
 "cells": [
  {
   "cell_type": "code",
   "execution_count": 1,
   "id": "d9e018fa",
   "metadata": {
    "_cell_guid": "b1076dfc-b9ad-4769-8c92-a6c4dae69d19",
    "_uuid": "8f2839f25d086af736a60e9eeb907d3b93b6e0e5",
    "execution": {
     "iopub.execute_input": "2021-10-06T10:54:32.901181Z",
     "iopub.status.busy": "2021-10-06T10:54:32.899976Z",
     "iopub.status.idle": "2021-10-06T11:09:07.056410Z",
     "shell.execute_reply": "2021-10-06T11:09:07.055440Z",
     "shell.execute_reply.started": "2021-09-30T22:46:15.65428Z"
    },
    "papermill": {
     "duration": 874.163554,
     "end_time": "2021-10-06T11:09:07.056636",
     "exception": false,
     "start_time": "2021-10-06T10:54:32.893082",
     "status": "completed"
    },
    "tags": []
   },
   "outputs": [],
   "source": [
    "import os\n",
    "import cv2\n",
    "import numpy as np\n",
    "import pandas as pd\n",
    "\n",
    "\n",
    "def get_images(names: str, size: int, path=\"../input/petfinder-pawpularity-score/train\") -> np.ndarray:\n",
    "    images = np.zeros((len(names), size, size, 3)).astype(\"uint8\")\n",
    "    i = 0\n",
    "    for name in names:\n",
    "        image = cv2.imread(os.path.join(path, name + \".jpg\"), cv2.IMREAD_COLOR)\n",
    "        image = cv2.cvtColor(src=image, code=cv2.COLOR_BGR2RGB)\n",
    "        image = cv2.resize(src=image, dsize=(size, size), interpolation=cv2.INTER_AREA)\n",
    "        images[i] = image\n",
    "        i += 1\n",
    "    return images\n",
    "        \n",
    "df = pd.read_csv(\"../input/petfinder-pawpularity-score/train.csv\")\n",
    "\n",
    "sizes = [224, 256, 384, 512]\n",
    "\n",
    "for size in sizes:\n",
    "    images = get_images(df[\"Id\"], size)\n",
    "    np.save(\"./Images_{}x{}.npy\".format(size, size), images)"
   ]
  }
 ],
 "metadata": {
  "kernelspec": {
   "display_name": "Python 3",
   "language": "python",
   "name": "python3"
  },
  "language_info": {
   "codemirror_mode": {
    "name": "ipython",
    "version": 3
   },
   "file_extension": ".py",
   "mimetype": "text/x-python",
   "name": "python",
   "nbconvert_exporter": "python",
   "pygments_lexer": "ipython3",
   "version": "3.7.10"
  },
  "papermill": {
   "default_parameters": {},
   "duration": 883.959976,
   "end_time": "2021-10-06T11:09:08.947641",
   "environment_variables": {},
   "exception": null,
   "input_path": "__notebook__.ipynb",
   "output_path": "__notebook__.ipynb",
   "parameters": {},
   "start_time": "2021-10-06T10:54:24.987665",
   "version": "2.3.3"
  }
 },
 "nbformat": 4,
 "nbformat_minor": 5
}
