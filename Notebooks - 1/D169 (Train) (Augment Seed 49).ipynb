{
 "cells": [
  {
   "cell_type": "markdown",
   "id": "243efb05",
   "metadata": {
    "_cell_guid": "b1076dfc-b9ad-4769-8c92-a6c4dae69d19",
    "_uuid": "8f2839f25d086af736a60e9eeb907d3b93b6e0e5",
    "papermill": {
     "duration": 0.013275,
     "end_time": "2021-10-08T20:51:45.826581",
     "exception": false,
     "start_time": "2021-10-08T20:51:45.813306",
     "status": "completed"
    },
    "tags": []
   },
   "source": [
    "## Library Imports"
   ]
  },
  {
   "cell_type": "code",
   "execution_count": 1,
   "id": "abd442de",
   "metadata": {
    "execution": {
     "iopub.execute_input": "2021-10-08T20:51:45.931373Z",
     "iopub.status.busy": "2021-10-08T20:51:45.930651Z",
     "iopub.status.idle": "2021-10-08T20:51:45.933249Z",
     "shell.execute_reply": "2021-10-08T20:51:45.933684Z",
     "shell.execute_reply.started": "2021-10-08T20:50:15.198255Z"
    },
    "papermill": {
     "duration": 0.09537,
     "end_time": "2021-10-08T20:51:45.933932",
     "exception": false,
     "start_time": "2021-10-08T20:51:45.838562",
     "status": "completed"
    },
    "tags": []
   },
   "outputs": [],
   "source": [
    "from time import time\n",
    "notebook_start_time = time()"
   ]
  },
  {
   "cell_type": "code",
   "execution_count": 2,
   "id": "14c4cd6d",
   "metadata": {
    "execution": {
     "iopub.execute_input": "2021-10-08T20:51:45.962961Z",
     "iopub.status.busy": "2021-10-08T20:51:45.962395Z",
     "iopub.status.idle": "2021-10-08T20:51:51.217855Z",
     "shell.execute_reply": "2021-10-08T20:51:51.217360Z",
     "shell.execute_reply.started": "2021-10-08T20:50:17.171039Z"
    },
    "papermill": {
     "duration": 5.272016,
     "end_time": "2021-10-08T20:51:51.217984",
     "exception": false,
     "start_time": "2021-10-08T20:51:45.945968",
     "status": "completed"
    },
    "tags": []
   },
   "outputs": [],
   "source": [
    "import os\n",
    "import re\n",
    "import pickle\n",
    "import numpy as np\n",
    "import pandas as pd\n",
    "import matplotlib.pyplot as plt\n",
    "\n",
    "import torch\n",
    "from torch import nn, optim\n",
    "from torch.utils.data import Dataset\n",
    "from torch.utils.data import DataLoader as DL\n",
    "from torch.nn.utils import weight_norm as WN\n",
    "from torchvision import models, transforms\n",
    "\n",
    "from sklearn.model_selection import KFold\n",
    "from sklearn.metrics import mean_squared_error\n",
    "from sklearn.preprocessing import StandardScaler"
   ]
  },
  {
   "cell_type": "markdown",
   "id": "ef5b4866",
   "metadata": {
    "papermill": {
     "duration": 0.012124,
     "end_time": "2021-10-08T20:51:51.242210",
     "exception": false,
     "start_time": "2021-10-08T20:51:51.230086",
     "status": "completed"
    },
    "tags": []
   },
   "source": [
    "## Constants and Utilities"
   ]
  },
  {
   "cell_type": "code",
   "execution_count": 3,
   "id": "1161feef",
   "metadata": {
    "execution": {
     "iopub.execute_input": "2021-10-08T20:51:51.313902Z",
     "iopub.status.busy": "2021-10-08T20:51:51.313029Z",
     "iopub.status.idle": "2021-10-08T20:51:51.315493Z",
     "shell.execute_reply": "2021-10-08T20:51:51.315082Z",
     "shell.execute_reply.started": "2021-10-08T20:50:22.548086Z"
    },
    "papermill": {
     "duration": 0.061827,
     "end_time": "2021-10-08T20:51:51.315603",
     "exception": false,
     "start_time": "2021-10-08T20:51:51.253776",
     "status": "completed"
    },
    "tags": []
   },
   "outputs": [],
   "source": [
    "SEED = 0\n",
    "DEVICE = torch.device(\"cuda\" if torch.cuda.is_available() else \"cpu\")\n",
    "PATH = \"../input/petfinder-pawpularity-score\"\n",
    "FEATURES_PATH = \"../input/petfinder-pretrained-features-augment\"\n",
    "\n",
    "sc_y = StandardScaler()"
   ]
  },
  {
   "cell_type": "code",
   "execution_count": 4,
   "id": "3233927f",
   "metadata": {
    "execution": {
     "iopub.execute_input": "2021-10-08T20:51:51.349886Z",
     "iopub.status.busy": "2021-10-08T20:51:51.346234Z",
     "iopub.status.idle": "2021-10-08T20:51:51.351863Z",
     "shell.execute_reply": "2021-10-08T20:51:51.352261Z",
     "shell.execute_reply.started": "2021-10-08T20:50:22.599875Z"
    },
    "papermill": {
     "duration": 0.024986,
     "end_time": "2021-10-08T20:51:51.352393",
     "exception": false,
     "start_time": "2021-10-08T20:51:51.327407",
     "status": "completed"
    },
    "tags": []
   },
   "outputs": [],
   "source": [
    "def breaker(num=50, char=\"*\") -> None:\n",
    "    print(\"\\n\" + num*char + \"\\n\")\n",
    "\n",
    "\n",
    "def head(x, no_of_ele=5) -> None:\n",
    "    print(x[:no_of_ele])\n",
    "\n",
    "\n",
    "def get_targets(path: str) -> np.ndarray:\n",
    "    df = pd.read_csv(os.path.join(path, \"train.csv\"), engine=\"python\")\n",
    "    targets  = df.iloc[:, -1].copy().values\n",
    "    return targets\n",
    "\n",
    "\n",
    "def normalize(x):\n",
    "    for i in range(x.shape[0]):\n",
    "        x[i] = (x[i] - torch.min(x[i])) / (torch.max(x[i]) - torch.min(x[i]))\n",
    "    return x\n",
    "\n",
    "\n",
    "def show_graphs(L: list) -> None:\n",
    "    TL, VL = [], []\n",
    "    for i in range(len(L)):\n",
    "        TL.append(L[i][\"train\"])\n",
    "        VL.append(L[i][\"valid\"])    \n",
    "    \n",
    "    x_Axis = np.arange(1, len(L) + 1)\n",
    "    plt.figure()\n",
    "    plt.plot(x_Axis, TL, \"r\", label=\"train\")\n",
    "    plt.plot(x_Axis, VL, \"b\", label=\"valid\")\n",
    "    plt.grid()\n",
    "    plt.legend()\n",
    "    plt.title(\"MSE Loss\")\n",
    "    plt.show()"
   ]
  },
  {
   "cell_type": "markdown",
   "id": "b9fd28b4",
   "metadata": {
    "papermill": {
     "duration": 0.011549,
     "end_time": "2021-10-08T20:51:51.375755",
     "exception": false,
     "start_time": "2021-10-08T20:51:51.364206",
     "status": "completed"
    },
    "tags": []
   },
   "source": [
    "## Dataset Template"
   ]
  },
  {
   "cell_type": "code",
   "execution_count": 5,
   "id": "021c9b1b",
   "metadata": {
    "execution": {
     "iopub.execute_input": "2021-10-08T20:51:51.403730Z",
     "iopub.status.busy": "2021-10-08T20:51:51.402941Z",
     "iopub.status.idle": "2021-10-08T20:51:51.408325Z",
     "shell.execute_reply": "2021-10-08T20:51:51.408788Z",
     "shell.execute_reply.started": "2021-10-08T20:50:22.614830Z"
    },
    "papermill": {
     "duration": 0.019709,
     "end_time": "2021-10-08T20:51:51.408903",
     "exception": false,
     "start_time": "2021-10-08T20:51:51.389194",
     "status": "completed"
    },
    "tags": []
   },
   "outputs": [],
   "source": [
    "class DS(Dataset):\n",
    "    def __init__(self, features=None, targets=None):\n",
    "        self.features = features\n",
    "        self.targets  = targets\n",
    "        \n",
    "    def __len__(self):\n",
    "        return self.features.shape[0]\n",
    "    \n",
    "    def __getitem__(self, idx):\n",
    "        return torch.FloatTensor(self.features[idx]), torch.FloatTensor(self.targets[idx])"
   ]
  },
  {
   "cell_type": "markdown",
   "id": "1e26542e",
   "metadata": {
    "papermill": {
     "duration": 0.011327,
     "end_time": "2021-10-08T20:51:51.431749",
     "exception": false,
     "start_time": "2021-10-08T20:51:51.420422",
     "status": "completed"
    },
    "tags": []
   },
   "source": [
    "## Build Dataloaders"
   ]
  },
  {
   "cell_type": "code",
   "execution_count": 6,
   "id": "d770461c",
   "metadata": {
    "execution": {
     "iopub.execute_input": "2021-10-08T20:51:51.460920Z",
     "iopub.status.busy": "2021-10-08T20:51:51.460146Z",
     "iopub.status.idle": "2021-10-08T20:51:51.462102Z",
     "shell.execute_reply": "2021-10-08T20:51:51.462552Z",
     "shell.execute_reply.started": "2021-10-08T20:50:22.624576Z"
    },
    "papermill": {
     "duration": 0.019368,
     "end_time": "2021-10-08T20:51:51.462669",
     "exception": false,
     "start_time": "2021-10-08T20:51:51.443301",
     "status": "completed"
    },
    "tags": []
   },
   "outputs": [],
   "source": [
    "def build_dataloaders(tr_features: np.ndarray, va_features: np.ndarray,\n",
    "                      tr_targets: np.ndarray, va_targets: np.ndarray,\n",
    "                      batch_size: int, seed: int):\n",
    "\n",
    "    # breaker()\n",
    "    # print(\"Building Train and Validation DataLoaders ...\")\n",
    "    \n",
    "    tr_data_setup = DS(features=tr_features, targets=tr_targets)\n",
    "    va_data_setup = DS(features=va_features, targets=va_targets)\n",
    "    \n",
    "    dataloaders = {\n",
    "        \"train\" : DL(tr_data_setup, batch_size=batch_size, shuffle=True, generator=torch.manual_seed(seed)),\n",
    "        \"valid\" : DL(va_data_setup, batch_size=batch_size, shuffle=False)\n",
    "    }\n",
    "    \n",
    "    return dataloaders"
   ]
  },
  {
   "cell_type": "markdown",
   "id": "8dbd977b",
   "metadata": {
    "papermill": {
     "duration": 0.011589,
     "end_time": "2021-10-08T20:51:51.485766",
     "exception": false,
     "start_time": "2021-10-08T20:51:51.474177",
     "status": "completed"
    },
    "tags": []
   },
   "source": [
    "## Build Model"
   ]
  },
  {
   "cell_type": "code",
   "execution_count": 7,
   "id": "cda51afe",
   "metadata": {
    "execution": {
     "iopub.execute_input": "2021-10-08T20:51:51.517807Z",
     "iopub.status.busy": "2021-10-08T20:51:51.517025Z",
     "iopub.status.idle": "2021-10-08T20:51:51.519314Z",
     "shell.execute_reply": "2021-10-08T20:51:51.518933Z",
     "shell.execute_reply.started": "2021-10-08T20:50:22.634346Z"
    },
    "papermill": {
     "duration": 0.022071,
     "end_time": "2021-10-08T20:51:51.519440",
     "exception": false,
     "start_time": "2021-10-08T20:51:51.497369",
     "status": "completed"
    },
    "tags": []
   },
   "outputs": [],
   "source": [
    "def build_model(IL: int, seed: int):\n",
    "    class ANN(nn.Module):\n",
    "        def __init__(self, IL=None):\n",
    "            super(ANN, self).__init__()\n",
    "\n",
    "            self.predictor = nn.Sequential()\n",
    "            self.predictor.add_module(\"BN\", nn.BatchNorm1d(num_features=IL, eps=1e-5))\n",
    "            self.predictor.add_module(\"FC\", WN(nn.Linear(in_features=IL, out_features=1)))\n",
    "\n",
    "        def get_optimizer(self, lr=1e-3, wd=0):\n",
    "            params = [p for p in self.parameters() if p.requires_grad]\n",
    "            return optim.Adam(params, lr=lr, weight_decay=wd)\n",
    "\n",
    "        def get_plateau_scheduler(self, optimizer=None, patience=5, eps=1e-8):\n",
    "            return optim.lr_scheduler.ReduceLROnPlateau(optimizer=optimizer, patience=patience, eps=eps, verbose=True)\n",
    "\n",
    "        def forward(self, x):\n",
    "            return self.predictor(x)\n",
    "    \n",
    "    # breaker()\n",
    "    # print(\"Building Model ...\")\n",
    "    # print(\"\\n{} -> 1\".format(IL))\n",
    "    \n",
    "    torch.manual_seed(seed)\n",
    "    model = ANN(IL=IL)\n",
    "    \n",
    "    return model"
   ]
  },
  {
   "cell_type": "markdown",
   "id": "25a4e061",
   "metadata": {
    "papermill": {
     "duration": 0.011528,
     "end_time": "2021-10-08T20:51:51.543092",
     "exception": false,
     "start_time": "2021-10-08T20:51:51.531564",
     "status": "completed"
    },
    "tags": []
   },
   "source": [
    "## Fit and Predict Helpers"
   ]
  },
  {
   "cell_type": "code",
   "execution_count": 8,
   "id": "a606acfa",
   "metadata": {
    "execution": {
     "iopub.execute_input": "2021-10-08T20:51:51.569863Z",
     "iopub.status.busy": "2021-10-08T20:51:51.569046Z",
     "iopub.status.idle": "2021-10-08T20:51:51.589867Z",
     "shell.execute_reply": "2021-10-08T20:51:51.589444Z",
     "shell.execute_reply.started": "2021-10-08T20:50:22.648063Z"
    },
    "papermill": {
     "duration": 0.035228,
     "end_time": "2021-10-08T20:51:51.589974",
     "exception": false,
     "start_time": "2021-10-08T20:51:51.554746",
     "status": "completed"
    },
    "tags": []
   },
   "outputs": [],
   "source": [
    "def fit(model=None, optimizer=None, scheduler=None, \n",
    "        epochs=None, early_stopping_patience=None,\n",
    "        dataloaders=None, fold=None, verbose=False) -> tuple:\n",
    "    \n",
    "    name = \"./Fold_{}_state.pt\".format(fold)\n",
    "    \n",
    "    # breaker()\n",
    "    print(\"Training Fold {}...\".format(fold))\n",
    "    # breaker()\n",
    "\n",
    "    Losses = []\n",
    "    bestLoss = {\"train\" : np.inf, \"valid\" : np.inf}\n",
    "\n",
    "    model.to(DEVICE)\n",
    "    start_time = time()\n",
    "    for e in range(epochs):\n",
    "        e_st = time()\n",
    "        epochLoss = {\"train\" : np.inf, \"valid\" : np.inf}\n",
    "\n",
    "        for phase in [\"train\", \"valid\"]:\n",
    "            if phase == \"train\":\n",
    "                model.train()\n",
    "            else:\n",
    "                model.eval()\n",
    "            \n",
    "            lossPerPass = []\n",
    "\n",
    "            for X, y in dataloaders[phase]:\n",
    "                X, y = X.to(DEVICE), y.to(DEVICE)\n",
    "\n",
    "                optimizer.zero_grad()\n",
    "                with torch.set_grad_enabled(phase == \"train\"):\n",
    "                    output = model(X)\n",
    "                    loss = torch.nn.MSELoss()(output, y)\n",
    "                    if phase == \"train\":\n",
    "                        loss.backward()\n",
    "                        optimizer.step()\n",
    "                lossPerPass.append(loss.item())\n",
    "            epochLoss[phase] = np.mean(np.array(lossPerPass))\n",
    "        Losses.append(epochLoss)\n",
    "        \n",
    "        if early_stopping_patience:\n",
    "            if epochLoss[\"valid\"] < bestLoss[\"valid\"]:\n",
    "                bestLoss = epochLoss\n",
    "                BLE = e + 1\n",
    "                torch.save({\"model_state_dict\": model.state_dict(),\n",
    "                            \"optim_state_dict\": optimizer.state_dict()},\n",
    "                           name)\n",
    "                early_stopping_step = 0\n",
    "            else:\n",
    "                early_stopping_step += 1\n",
    "                if early_stopping_step > early_stopping_patience:\n",
    "                    # print(\"\\nEarly Stopping at Epoch {}\".format(e))\n",
    "                    break\n",
    "        \n",
    "        if epochLoss[\"valid\"] < bestLoss[\"valid\"]:\n",
    "            bestLoss = epochLoss\n",
    "            BLE = e + 1\n",
    "            torch.save({\"model_state_dict\": model.state_dict(),\n",
    "                        \"optim_state_dict\": optimizer.state_dict()},\n",
    "                       name)\n",
    "        \n",
    "        if scheduler:\n",
    "            scheduler.step(epochLoss[\"valid\"])\n",
    "        \n",
    "        if verbose:\n",
    "            print(\"Epoch: {} | Train Loss: {:.5f} | Valid Loss: {:.5f} | Time: {:.2f} seconds\".format(e+1, epochLoss[\"train\"], epochLoss[\"valid\"], time()-e_st))\n",
    "    \n",
    "    if verbose:\n",
    "        breaker()\n",
    "        print(\"Best Validation Loss at Epoch {}\".format(BLE))\n",
    "        breaker()\n",
    "        print(\"Time Taken [{} Epochs] : {:.2f} minutes\".format(len(Losses), (time()-start_time)/60))\n",
    "        breaker()\n",
    "        print(\"Training Completed\")\n",
    "        breaker()\n",
    "\n",
    "    return Losses, BLE, name\n",
    "\n",
    "#####################################################################################################\n",
    "\n",
    "def predict_batch(model=None, dataloader=None, mode=\"test\", path=None) -> np.ndarray:\n",
    "    model.load_state_dict(torch.load(path, map_location=DEVICE)[\"model_state_dict\"])\n",
    "    model.to(DEVICE)\n",
    "    model.eval()\n",
    "\n",
    "    y_pred = torch.zeros(1, 1).to(DEVICE)\n",
    "    if re.match(r\"valid\", mode, re.IGNORECASE):\n",
    "        for X, _ in dataloader:\n",
    "            X = X.to(DEVICE)\n",
    "            with torch.no_grad():\n",
    "                output = model(X)\n",
    "            y_pred = torch.cat((y_pred, output.view(-1, 1)), dim=0)\n",
    "    elif re.match(r\"test\", mode, re.IGNORECASE):\n",
    "        for X in dataloader:\n",
    "            X = X.to(DEVICE)\n",
    "            with torch.no_grad():\n",
    "                output = model(X)\n",
    "            y_pred = torch.cat((y_pred, output.view(-1, 1)), dim=0)\n",
    "    \n",
    "    return y_pred[1:].detach().cpu().numpy()"
   ]
  },
  {
   "cell_type": "markdown",
   "id": "7528924a",
   "metadata": {
    "papermill": {
     "duration": 0.011624,
     "end_time": "2021-10-08T20:51:51.613277",
     "exception": false,
     "start_time": "2021-10-08T20:51:51.601653",
     "status": "completed"
    },
    "tags": []
   },
   "source": [
    "## Train Helper"
   ]
  },
  {
   "cell_type": "code",
   "execution_count": 9,
   "id": "70c34ff1",
   "metadata": {
    "execution": {
     "iopub.execute_input": "2021-10-08T20:51:51.649636Z",
     "iopub.status.busy": "2021-10-08T20:51:51.648839Z",
     "iopub.status.idle": "2021-10-08T20:51:51.650830Z",
     "shell.execute_reply": "2021-10-08T20:51:51.651232Z",
     "shell.execute_reply.started": "2021-10-08T20:51:00.162332Z"
    },
    "papermill": {
     "duration": 0.025905,
     "end_time": "2021-10-08T20:51:51.651360",
     "exception": false,
     "start_time": "2021-10-08T20:51:51.625455",
     "status": "completed"
    },
    "tags": []
   },
   "outputs": [],
   "source": [
    "def train(features: np.ndarray, targets: np.ndarray,\n",
    "          n_splits: int, batch_size: int, lr: float, wd: float, \n",
    "          epochs: int, early_stopping: int, \n",
    "          patience=None, eps=None) -> list:        \n",
    "    \n",
    "    metrics = []\n",
    "        \n",
    "    KFold_start_time = time()\n",
    "    breaker()\n",
    "    print(\"Performing {} Fold CV ...\".format(n_splits))\n",
    "    breaker()\n",
    "    fold = 1\n",
    "    for tr_idx, va_idx in KFold(n_splits=n_splits, shuffle=True, random_state=SEED).split(features):\n",
    "\n",
    "        tr_features, va_features = features[tr_idx], features[va_idx]\n",
    "        tr_targets, va_targets   = targets[tr_idx], targets[va_idx]\n",
    "\n",
    "        tr_targets, va_targets   = tr_targets.reshape(-1, 1), va_targets.reshape(-1, 1)\n",
    "\n",
    "        tr_targets = sc_y.fit_transform(tr_targets)\n",
    "        va_targets = sc_y.transform(va_targets)\n",
    "\n",
    "        dataloaders = build_dataloaders(tr_features, va_features, \n",
    "                                         tr_targets, va_targets, \n",
    "                                         batch_size, SEED)\n",
    "        model = build_model(IL=tr_features.shape[1], seed=SEED)\n",
    "        \n",
    "        optimizer = model.get_optimizer(lr=lr, wd=wd)\n",
    "        scheduler = None\n",
    "        if isinstance(patience, int) and isinstance(eps, float):\n",
    "            scheduler = model.get_plateau_scheduler(optimizer, patience, eps)\n",
    "\n",
    "        L, _, name = fit(model=model, optimizer=optimizer, scheduler=scheduler, \n",
    "                         epochs=epochs, early_stopping_patience=early_stopping,\n",
    "                         dataloaders=dataloaders, fold=fold, verbose=False)\n",
    "        y_pred = predict_batch(model=model, dataloader=dataloaders[\"valid\"], mode=\"valid\", path=name)\n",
    "        RMSE = np.sqrt(mean_squared_error(sc_y.inverse_transform(y_pred), sc_y.inverse_transform(va_targets)))\n",
    "        # print(\"Validation RMSE [Fold {}]: {:.5f}\".format(fold, RMSE))\n",
    "        # breaker()\n",
    "        # show_graphs(L)\n",
    "        \n",
    "        metrics_dict = {\"Fold\" : fold, \"RMSE\" : RMSE}\n",
    "        metrics.append(metrics_dict)\n",
    "        \n",
    "        fold += 1\n",
    "    \n",
    "    breaker()\n",
    "    print(\"Total Time to {} Fold CV : {:.2f} minutes\".format(n_splits, (time() - KFold_start_time)/60))\n",
    "    breaker()\n",
    "    \n",
    "    return metrics"
   ]
  },
  {
   "cell_type": "markdown",
   "id": "77810556",
   "metadata": {
    "papermill": {
     "duration": 0.011384,
     "end_time": "2021-10-08T20:51:51.674541",
     "exception": false,
     "start_time": "2021-10-08T20:51:51.663157",
     "status": "completed"
    },
    "tags": []
   },
   "source": [
    "## Main"
   ]
  },
  {
   "cell_type": "code",
   "execution_count": 10,
   "id": "90ac766a",
   "metadata": {
    "execution": {
     "iopub.execute_input": "2021-10-08T20:51:51.704782Z",
     "iopub.status.busy": "2021-10-08T20:51:51.704271Z",
     "iopub.status.idle": "2021-10-08T20:53:32.019321Z",
     "shell.execute_reply": "2021-10-08T20:53:32.019916Z",
     "shell.execute_reply.started": "2021-10-08T20:51:03.050511Z"
    },
    "papermill": {
     "duration": 100.333865,
     "end_time": "2021-10-08T20:53:32.020091",
     "exception": false,
     "start_time": "2021-10-08T20:51:51.686226",
     "status": "completed"
    },
    "tags": []
   },
   "outputs": [
    {
     "name": "stdout",
     "output_type": "stream",
     "text": [
      "\n",
      "**************************************************\n",
      "\n",
      "Performing 10 Fold CV ...\n",
      "\n",
      "**************************************************\n",
      "\n",
      "Training Fold 1...\n",
      "Training Fold 2...\n",
      "Training Fold 3...\n",
      "Training Fold 4...\n",
      "Training Fold 5...\n",
      "Training Fold 6...\n",
      "Training Fold 7...\n",
      "Training Fold 8...\n",
      "Training Fold 9...\n",
      "Training Fold 10...\n",
      "\n",
      "**************************************************\n",
      "\n",
      "Total Time to 10 Fold CV : 1.63 minutes\n",
      "\n",
      "**************************************************\n",
      "\n",
      "{'Fold': 1, 'RMSE': 18.773640117660467}\n",
      "{'Fold': 2, 'RMSE': 19.745992644320552}\n",
      "{'Fold': 3, 'RMSE': 17.56233483353679}\n",
      "{'Fold': 4, 'RMSE': 19.053962200881656}\n",
      "{'Fold': 5, 'RMSE': 19.524027868666874}\n",
      "{'Fold': 6, 'RMSE': 19.47619709950055}\n",
      "{'Fold': 7, 'RMSE': 19.96599334593656}\n",
      "{'Fold': 8, 'RMSE': 19.70060168939574}\n",
      "{'Fold': 9, 'RMSE': 18.41245573053927}\n",
      "{'Fold': 10, 'RMSE': 18.546319569454507}\n",
      "\n",
      "**************************************************\n",
      "\n"
     ]
    }
   ],
   "source": [
    "def main():\n",
    "    DEBUG = False\n",
    "    \n",
    "    ########### Params ###########\n",
    "    \n",
    "    if DEBUG:\n",
    "        n_splits = 3\n",
    "        batch_size = 512\n",
    "        lr, wd = 1e-3, 0\n",
    "        patience, eps = 5, 1e-8\n",
    "        epochs, early_stopping = 5, 5\n",
    "    else:\n",
    "        n_splits = 10\n",
    "        batch_size = 32\n",
    "        lr, wd = 1e-2, 0\n",
    "        patience, eps = 5, 1e-8\n",
    "        epochs, early_stopping = 100, 8\n",
    "    \n",
    "    ##############################\n",
    "\n",
    "    # breaker()\n",
    "    # print(\"Loading Data ...\")\n",
    "    \n",
    "    features = np.load(os.path.join(FEATURES_PATH, \"densenet_features_seed_49.npy\"))\n",
    "    targets = get_targets(PATH)\n",
    "\n",
    "    # Without Scheduler\n",
    "    metrics = train(features, targets, n_splits, batch_size, lr, wd, epochs, early_stopping, patience=None, eps=None)\n",
    "    \n",
    "    # # With Plateau Scheduler\n",
    "    # metrics = train(features, targets, n_splits, batch_size, lr, wd, epochs, early_stopping, patience=patience, eps=eps)    \n",
    "    \n",
    "    for i in range(len(metrics)):\n",
    "        print(metrics[i])\n",
    "\n",
    "    with open(\"metrics.pkl\", \"wb\") as fp:\n",
    "        pickle.dump(metrics, fp)\n",
    "    \n",
    "    breaker()\n",
    "\n",
    "main()"
   ]
  },
  {
   "cell_type": "code",
   "execution_count": 11,
   "id": "0875c5a4",
   "metadata": {
    "execution": {
     "iopub.execute_input": "2021-10-08T20:53:32.057858Z",
     "iopub.status.busy": "2021-10-08T20:53:32.056439Z",
     "iopub.status.idle": "2021-10-08T20:53:32.060218Z",
     "shell.execute_reply": "2021-10-08T20:53:32.059613Z",
     "shell.execute_reply.started": "2021-10-08T20:50:35.074944Z"
    },
    "papermill": {
     "duration": 0.02395,
     "end_time": "2021-10-08T20:53:32.060374",
     "exception": false,
     "start_time": "2021-10-08T20:53:32.036424",
     "status": "completed"
    },
    "tags": []
   },
   "outputs": [
    {
     "name": "stdout",
     "output_type": "stream",
     "text": [
      "\n",
      "**************************************************\n",
      "\n",
      "Notebook Run Time : 1.77 minutes\n",
      "\n",
      "**************************************************\n",
      "\n"
     ]
    }
   ],
   "source": [
    "breaker()\n",
    "print(\"Notebook Run Time : {:.2f} minutes\".format((time()-notebook_start_time)/60))\n",
    "breaker()"
   ]
  }
 ],
 "metadata": {
  "kernelspec": {
   "display_name": "Python 3",
   "language": "python",
   "name": "python3"
  },
  "language_info": {
   "codemirror_mode": {
    "name": "ipython",
    "version": 3
   },
   "file_extension": ".py",
   "mimetype": "text/x-python",
   "name": "python",
   "nbconvert_exporter": "python",
   "pygments_lexer": "ipython3",
   "version": "3.7.10"
  },
  "papermill": {
   "default_parameters": {},
   "duration": 114.639981,
   "end_time": "2021-10-08T20:53:33.818258",
   "environment_variables": {},
   "exception": null,
   "input_path": "__notebook__.ipynb",
   "output_path": "__notebook__.ipynb",
   "parameters": {},
   "start_time": "2021-10-08T20:51:39.178277",
   "version": "2.3.3"
  }
 },
 "nbformat": 4,
 "nbformat_minor": 5
}
