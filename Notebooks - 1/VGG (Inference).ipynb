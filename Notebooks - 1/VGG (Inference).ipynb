{
 "cells": [
  {
   "cell_type": "markdown",
   "id": "f6f4eef8",
   "metadata": {
    "_cell_guid": "b1076dfc-b9ad-4769-8c92-a6c4dae69d19",
    "_uuid": "8f2839f25d086af736a60e9eeb907d3b93b6e0e5",
    "papermill": {
     "duration": 0.01077,
     "end_time": "2021-10-06T21:24:29.599796",
     "exception": false,
     "start_time": "2021-10-06T21:24:29.589026",
     "status": "completed"
    },
    "tags": []
   },
   "source": [
    "## Library Imports"
   ]
  },
  {
   "cell_type": "code",
   "execution_count": 1,
   "id": "8a6f9128",
   "metadata": {
    "execution": {
     "iopub.execute_input": "2021-10-06T21:24:29.698841Z",
     "iopub.status.busy": "2021-10-06T21:24:29.697930Z",
     "iopub.status.idle": "2021-10-06T21:24:29.701476Z",
     "shell.execute_reply": "2021-10-06T21:24:29.700976Z",
     "shell.execute_reply.started": "2021-10-06T16:19:17.431083Z"
    },
    "papermill": {
     "duration": 0.091637,
     "end_time": "2021-10-06T21:24:29.701623",
     "exception": false,
     "start_time": "2021-10-06T21:24:29.609986",
     "status": "completed"
    },
    "tags": []
   },
   "outputs": [],
   "source": [
    "from time import time\n",
    "notebook_start_time = time()"
   ]
  },
  {
   "cell_type": "code",
   "execution_count": 2,
   "id": "2e2d3a3b",
   "metadata": {
    "execution": {
     "iopub.execute_input": "2021-10-06T21:24:29.726302Z",
     "iopub.status.busy": "2021-10-06T21:24:29.725629Z",
     "iopub.status.idle": "2021-10-06T21:24:35.180305Z",
     "shell.execute_reply": "2021-10-06T21:24:35.179566Z",
     "shell.execute_reply.started": "2021-10-06T16:19:18.522355Z"
    },
    "papermill": {
     "duration": 5.468987,
     "end_time": "2021-10-06T21:24:35.180441",
     "exception": false,
     "start_time": "2021-10-06T21:24:29.711454",
     "status": "completed"
    },
    "tags": []
   },
   "outputs": [],
   "source": [
    "import os\n",
    "import re\n",
    "import cv2\n",
    "import numpy as np\n",
    "import pandas as pd\n",
    "import matplotlib.pyplot as plt\n",
    "\n",
    "import torch\n",
    "from torch import nn, optim\n",
    "from torch.utils.data import Dataset\n",
    "from torch.utils.data import DataLoader as DL\n",
    "from torch.nn.utils import weight_norm as WN\n",
    "from torchvision import models, transforms\n",
    "\n",
    "from sklearn.model_selection import KFold\n",
    "from sklearn.preprocessing import StandardScaler"
   ]
  },
  {
   "cell_type": "markdown",
   "id": "9195f613",
   "metadata": {
    "papermill": {
     "duration": 0.009964,
     "end_time": "2021-10-06T21:24:35.200393",
     "exception": false,
     "start_time": "2021-10-06T21:24:35.190429",
     "status": "completed"
    },
    "tags": []
   },
   "source": [
    "## Constants and Utilities"
   ]
  },
  {
   "cell_type": "code",
   "execution_count": 3,
   "id": "31123bf6",
   "metadata": {
    "execution": {
     "iopub.execute_input": "2021-10-06T21:24:35.267764Z",
     "iopub.status.busy": "2021-10-06T21:24:35.266966Z",
     "iopub.status.idle": "2021-10-06T21:24:35.280885Z",
     "shell.execute_reply": "2021-10-06T21:24:35.280416Z",
     "shell.execute_reply.started": "2021-10-06T16:24:52.296675Z"
    },
    "papermill": {
     "duration": 0.071197,
     "end_time": "2021-10-06T21:24:35.281000",
     "exception": false,
     "start_time": "2021-10-06T21:24:35.209803",
     "status": "completed"
    },
    "tags": []
   },
   "outputs": [],
   "source": [
    "SEED = 0\n",
    "DEVICE = torch.device(\"cuda\" if torch.cuda.is_available() else \"cpu\")\n",
    "PATH = \"../input/petfinder-pawpularity-score\"\n",
    "PRETRAINED_WEIGHTS_PATH = \"../input/pretrained-model-weights\"\n",
    "TRAINED_ANN_WEIGHTS_PATH = \"../input/petfinder-vgg-train-10fcv\"\n",
    "\n",
    "MODEL_NAME = \"vgg\"\n",
    "FEATURE_LENGTH = 2048\n",
    "NUM_FOLDS = len([name for name in os.listdir(TRAINED_ANN_WEIGHTS_PATH) if name[-2:] == \"pt\"])\n",
    "\n",
    "IMAGE_SIZE = 224\n",
    "TRANSFORM = transforms.Compose([transforms.ToTensor(), \n",
    "                                transforms.Normalize([0.485, 0.456, 0.406],\n",
    "                                                     [0.229, 0.224, 0.225]),\n",
    "                                ])\n",
    "\n",
    "sc_y = StandardScaler()"
   ]
  },
  {
   "cell_type": "code",
   "execution_count": 4,
   "id": "70525ea0",
   "metadata": {
    "execution": {
     "iopub.execute_input": "2021-10-06T21:24:35.310245Z",
     "iopub.status.busy": "2021-10-06T21:24:35.307639Z",
     "iopub.status.idle": "2021-10-06T21:24:35.313207Z",
     "shell.execute_reply": "2021-10-06T21:24:35.312773Z",
     "shell.execute_reply.started": "2021-10-06T16:19:23.928558Z"
    },
    "papermill": {
     "duration": 0.022629,
     "end_time": "2021-10-06T21:24:35.313317",
     "exception": false,
     "start_time": "2021-10-06T21:24:35.290688",
     "status": "completed"
    },
    "tags": []
   },
   "outputs": [],
   "source": [
    "def breaker(num=50, char=\"*\") -> None:\n",
    "    print(\"\\n\" + num*char + \"\\n\")\n",
    "\n",
    "\n",
    "def head(x, no_of_ele=5) -> None:\n",
    "    print(x[:no_of_ele])\n",
    "\n",
    "\n",
    "def get_filenames_and_targets(path: str) -> tuple:\n",
    "    df = pd.read_csv(os.path.join(path, \"train.csv\"), engine=\"python\")\n",
    "    filenames = df.iloc[:, 0].copy().values\n",
    "    targets  = df.iloc[:, -1].copy().values\n",
    "    return filenames, targets\n",
    "\n",
    "\n",
    "def get_filenames(path: str) -> np.ndarray:\n",
    "    df = pd.read_csv(os.path.join(path, \"test.csv\"), engine=\"python\")\n",
    "    filenames  = df[\"Id\"].copy().values\n",
    "    return filenames\n",
    "\n",
    "\n",
    "def get_image(path: str, name: str, size: int) -> np.ndarray:\n",
    "    image = cv2.imread(os.path.join(path, name + \".jpg\"), cv2.IMREAD_COLOR)\n",
    "    image = cv2.cvtColor(src=image, code=cv2.COLOR_BGR2RGB)\n",
    "    image = cv2.resize(src=image, dsize=(size, size), interpolation=cv2.INTER_AREA)\n",
    "    return image\n",
    "\n",
    "\n",
    "def make_submission(path: str, y_pred: np.ndarray) -> None:\n",
    "    submission = pd.read_csv(os.path.join(path, \"sample_submission.csv\"), engine=\"python\")\n",
    "    submission[\"Pawpularity\"] = y_pred\n",
    "    submission.to_csv(\"./submission.csv\", index=False)"
   ]
  },
  {
   "cell_type": "markdown",
   "id": "ff06698c",
   "metadata": {
    "papermill": {
     "duration": 0.00925,
     "end_time": "2021-10-06T21:24:35.332207",
     "exception": false,
     "start_time": "2021-10-06T21:24:35.322957",
     "status": "completed"
    },
    "tags": []
   },
   "source": [
    "## Dataset Templates"
   ]
  },
  {
   "cell_type": "code",
   "execution_count": 5,
   "id": "2e2bff0a",
   "metadata": {
    "execution": {
     "iopub.execute_input": "2021-10-06T21:24:35.358036Z",
     "iopub.status.busy": "2021-10-06T21:24:35.357396Z",
     "iopub.status.idle": "2021-10-06T21:24:35.359600Z",
     "shell.execute_reply": "2021-10-06T21:24:35.360016Z",
     "shell.execute_reply.started": "2021-10-06T16:19:26.621945Z"
    },
    "papermill": {
     "duration": 0.01845,
     "end_time": "2021-10-06T21:24:35.360127",
     "exception": false,
     "start_time": "2021-10-06T21:24:35.341677",
     "status": "completed"
    },
    "tags": []
   },
   "outputs": [],
   "source": [
    "class ImageDS(Dataset):\n",
    "    def __init__(self, base_path=None, filenames=None, image_size=None, transform=None):\n",
    "        self.base_path = base_path\n",
    "        self.filenames = filenames\n",
    "        self.image_size = image_size\n",
    "        self.transform = transform\n",
    "    \n",
    "    def __len__(self):\n",
    "        return self.filenames.shape[0]\n",
    "    \n",
    "    def __getitem__(self, idx):\n",
    "        image = get_image(self.base_path, self.filenames[idx], self.image_size)\n",
    "        return self.transform(image)\n",
    "\n",
    "    \n",
    "class FeatureDS(Dataset):\n",
    "    def __init__(self, features=None):\n",
    "        self.features = features\n",
    "    \n",
    "    def __len__(self):\n",
    "        return self.features.shape[0]\n",
    "    \n",
    "    def __getitem__(self, idx):\n",
    "        return torch.FloatTensor(self.features[idx])"
   ]
  },
  {
   "cell_type": "markdown",
   "id": "61712ebc",
   "metadata": {
    "papermill": {
     "duration": 0.009407,
     "end_time": "2021-10-06T21:24:35.378899",
     "exception": false,
     "start_time": "2021-10-06T21:24:35.369492",
     "status": "completed"
    },
    "tags": []
   },
   "source": [
    "## Build Models"
   ]
  },
  {
   "cell_type": "code",
   "execution_count": 6,
   "id": "17e6078b",
   "metadata": {
    "execution": {
     "iopub.execute_input": "2021-10-06T21:24:35.421177Z",
     "iopub.status.busy": "2021-10-06T21:24:35.419578Z",
     "iopub.status.idle": "2021-10-06T21:24:35.421800Z",
     "shell.execute_reply": "2021-10-06T21:24:35.422192Z",
     "shell.execute_reply.started": "2021-10-06T16:20:01.679033Z"
    },
    "papermill": {
     "duration": 0.032654,
     "end_time": "2021-10-06T21:24:35.422310",
     "exception": false,
     "start_time": "2021-10-06T21:24:35.389656",
     "status": "completed"
    },
    "tags": []
   },
   "outputs": [],
   "source": [
    "def build_models(model_name: str, IL: int, pretrained: bool, seed: int):\n",
    "\n",
    "    class ImageModel(nn.Module):\n",
    "        def __init__(self, model_name=None, pretrained=False):\n",
    "            super(ImageModel, self).__init__()\n",
    "\n",
    "            if re.match(r\"^resnet$\", model_name, re.IGNORECASE):\n",
    "                self.features = models.resnet50(pretrained=pretrained, progress=True)\n",
    "                if pretrained:\n",
    "                    self.freeze()\n",
    "                self.features = nn.Sequential(*[*self.features.children()][:-1])\n",
    "                self.features.add_module(\"Flatten\", nn.Flatten())\n",
    "\n",
    "                self.in_features = self.features[-3][2].bn3.num_features\n",
    "\n",
    "\n",
    "            elif re.match(r\"^vgg$\", model_name, re.IGNORECASE):\n",
    "                self.features = models.vgg16_bn(pretrained=pretrained, progress=True)\n",
    "                if pretrained:\n",
    "                    self.freeze()\n",
    "                self.features = nn.Sequential(*[*self.features.children()][:-2])\n",
    "                self.features.add_module(\"Adaptive Average Pool\", nn.AdaptiveAvgPool2d(output_size=(2, 2)))\n",
    "                self.features.add_module(\"Flatten\", nn.Flatten())\n",
    "\n",
    "                self.in_features = self.features[-3][41].num_features * 2 * 2\n",
    "\n",
    "\n",
    "            elif re.match(r\"^mobilenet$\", model_name, re.IGNORECASE):\n",
    "                self.features = models.mobilenet_v2(pretrained=pretrained, progress=True)\n",
    "                if pretrained:\n",
    "                    self.freeze()\n",
    "                self.features = nn.Sequential(*[*self.features.children()][:-1])\n",
    "                self.features.add_module(\"Adaptive Average Pool\", nn.AdaptiveAvgPool2d(output_size=(1, 1)))\n",
    "                self.features.add_module(\"Flatten\", nn.Flatten())\n",
    "\n",
    "                self.in_features = self.features[-3][-1][1].num_features\n",
    "\n",
    "\n",
    "            elif re.match(r\"^densenet$\", model_name, re.IGNORECASE):\n",
    "                self.features = models.densenet169(pretrained=pretrained, progress=True)\n",
    "                if pretrained:\n",
    "                    self.freeze()\n",
    "                self.features = nn.Sequential(*[*self.features.children()][:-1])\n",
    "                self.features.add_module(\"Adaptive Average Pool\", nn.AdaptiveAvgPool2d(output_size=(1, 1)))\n",
    "                self.features.add_module(\"Flatten\", nn.Flatten())\n",
    "\n",
    "                self.in_features = self.features[0].norm5.num_features\n",
    "\n",
    "        def freeze(self):\n",
    "            for params in self.parameters():\n",
    "                    params.requires_grad = False\n",
    "\n",
    "        def forward(self, x):\n",
    "            return self.features(x)\n",
    "    \n",
    "    \n",
    "    breaker()\n",
    "    print(\"Building Vision Model ...\")\n",
    "    print(\"\\n{} Features\".format(model_name))\n",
    "    \n",
    "    torch.manual_seed(seed)\n",
    "    vision_model = ImageModel(model_name=model_name, pretrained=pretrained)\n",
    "    \n",
    "    \n",
    "    class ANN(nn.Module):\n",
    "        def __init__(self, IL=None):\n",
    "            super(ANN, self).__init__()\n",
    "\n",
    "            self.predictor = nn.Sequential()\n",
    "            self.predictor.add_module(\"BN\", nn.BatchNorm1d(num_features=IL, eps=1e-5))\n",
    "            self.predictor.add_module(\"FC\", WN(nn.Linear(in_features=IL, out_features=1)))\n",
    "\n",
    "        def get_optimizer(self, lr=1e-3, wd=0):\n",
    "            params = [p for p in self.parameters() if p.requires_grad]\n",
    "            return optim.Adam(params, lr=lr, weight_decay=wd)\n",
    "\n",
    "        def get_plateau_scheduler(self, optimizer=None, patience=5, eps=1e-8):\n",
    "            return optim.lr_scheduler.ReduceLROnPlateau(optimizer=optimizer, patience=patience, eps=eps, verbose=True)\n",
    "\n",
    "        def forward(self, x):\n",
    "            return self.predictor(x)\n",
    "    \n",
    "    breaker()\n",
    "    print(\"Building Model ...\")\n",
    "    print(\"\\n{} -> 1\".format(IL))\n",
    "    \n",
    "    torch.manual_seed(seed)\n",
    "    ann_model = ANN(IL=IL)\n",
    "    \n",
    "    return vision_model, ann_model"
   ]
  },
  {
   "cell_type": "markdown",
   "id": "aea02c6e",
   "metadata": {
    "papermill": {
     "duration": 0.009834,
     "end_time": "2021-10-06T21:24:35.441751",
     "exception": false,
     "start_time": "2021-10-06T21:24:35.431917",
     "status": "completed"
    },
    "tags": []
   },
   "source": [
    "## Feature Getter and Predict Helper"
   ]
  },
  {
   "cell_type": "code",
   "execution_count": 7,
   "id": "6dfa4cde",
   "metadata": {
    "execution": {
     "iopub.execute_input": "2021-10-06T21:24:35.473176Z",
     "iopub.status.busy": "2021-10-06T21:24:35.472495Z",
     "iopub.status.idle": "2021-10-06T21:24:35.475952Z",
     "shell.execute_reply": "2021-10-06T21:24:35.475492Z",
     "shell.execute_reply.started": "2021-10-06T16:21:07.205378Z"
    },
    "papermill": {
     "duration": 0.024205,
     "end_time": "2021-10-06T21:24:35.476056",
     "exception": false,
     "start_time": "2021-10-06T21:24:35.451851",
     "status": "completed"
    },
    "tags": []
   },
   "outputs": [],
   "source": [
    "def get_features(model=None, dataloader=None, feature_length=None, path=None):\n",
    "    model.load_state_dict(torch.load(path, map_location=DEVICE))\n",
    "    model.to(DEVICE)\n",
    "    model.eval()\n",
    "\n",
    "    features = torch.zeros(1, feature_length).to(DEVICE)\n",
    "    for X in dataloader:\n",
    "        X = X.to(DEVICE)\n",
    "        with torch.no_grad():\n",
    "            output = model(X)\n",
    "        features = torch.cat((features, output.view(-1, feature_length)), dim=0)\n",
    "    \n",
    "    return features[1:].detach().cpu().numpy()\n",
    "\n",
    "\n",
    "def predict_batch(model=None, dataloader=None, mode=\"test\", path=None):\n",
    "    model.load_state_dict(torch.load(path, map_location=DEVICE)[\"model_state_dict\"])\n",
    "    model.to(DEVICE)\n",
    "    model.eval()\n",
    "\n",
    "    y_pred = torch.zeros(1, 1).to(DEVICE)\n",
    "    if re.match(r\"valid\", mode, re.IGNORECASE):\n",
    "        for X, _ in dataloader:\n",
    "            X = X.to(DEVICE)\n",
    "            with torch.no_grad():\n",
    "                output = model(X)\n",
    "            y_pred = torch.cat((y_pred, output.view(-1, 1)), dim=0)\n",
    "    elif re.match(r\"test\", mode, re.IGNORECASE):\n",
    "        for X in dataloader:\n",
    "            X = X.to(DEVICE)\n",
    "            with torch.no_grad():\n",
    "                output = model(X)\n",
    "            y_pred = torch.cat((y_pred, output.view(-1, 1)), dim=0)\n",
    "    \n",
    "    return y_pred[1:].detach().cpu().numpy()"
   ]
  },
  {
   "cell_type": "markdown",
   "id": "94cc89b8",
   "metadata": {
    "papermill": {
     "duration": 0.009408,
     "end_time": "2021-10-06T21:24:35.495114",
     "exception": false,
     "start_time": "2021-10-06T21:24:35.485706",
     "status": "completed"
    },
    "tags": []
   },
   "source": [
    "## Generate Submission"
   ]
  },
  {
   "cell_type": "code",
   "execution_count": 8,
   "id": "9674f89b",
   "metadata": {
    "execution": {
     "iopub.execute_input": "2021-10-06T21:24:35.525407Z",
     "iopub.status.busy": "2021-10-06T21:24:35.524858Z",
     "iopub.status.idle": "2021-10-06T21:24:45.495740Z",
     "shell.execute_reply": "2021-10-06T21:24:45.495245Z",
     "shell.execute_reply.started": "2021-10-06T16:25:53.138758Z"
    },
    "papermill": {
     "duration": 9.9911,
     "end_time": "2021-10-06T21:24:45.495903",
     "exception": false,
     "start_time": "2021-10-06T21:24:35.504803",
     "status": "completed"
    },
    "tags": []
   },
   "outputs": [
    {
     "name": "stdout",
     "output_type": "stream",
     "text": [
      "\n",
      "**************************************************\n",
      "\n",
      "Reading Data ...\n",
      "\n",
      "**************************************************\n",
      "\n",
      "Obtaining Test Image Features ...\n",
      "\n",
      "**************************************************\n",
      "\n",
      "Building Vision Model ...\n",
      "\n",
      "vgg Features\n",
      "\n",
      "**************************************************\n",
      "\n",
      "Building Model ...\n",
      "\n",
      "2048 -> 1\n",
      "\n",
      "**************************************************\n",
      "\n",
      "Making Predictions on Test Features ...\n",
      "\n",
      "**************************************************\n",
      "\n",
      "Processing Fold 1 ...\n",
      "Processing Fold 2 ...\n",
      "Processing Fold 3 ...\n",
      "Processing Fold 4 ...\n",
      "Processing Fold 5 ...\n",
      "Processing Fold 6 ...\n",
      "Processing Fold 7 ...\n",
      "Processing Fold 8 ...\n",
      "Processing Fold 9 ...\n",
      "Processing Fold 10 ...\n",
      "\n",
      "**************************************************\n",
      "\n",
      "Generating Submission File ...\n",
      "\n",
      "**************************************************\n",
      "\n"
     ]
    }
   ],
   "source": [
    "def submit():\n",
    "    breaker()\n",
    "    print(\"Reading Data ...\")\n",
    "    \n",
    "    ts_filenames = get_filenames(PATH)\n",
    "    filenames, targets = get_filenames_and_targets(PATH)\n",
    "    \n",
    "    \n",
    "    breaker()\n",
    "    print(\"Obtaining Test Image Features ...\")\n",
    "    \n",
    "    ts_image_data_setup = ImageDS(base_path=os.path.join(PATH, \"test\"), \n",
    "                                  filenames=ts_filenames, \n",
    "                                  image_size=IMAGE_SIZE, \n",
    "                                  transform=TRANSFORM)\n",
    "    ts_image_data = DL(ts_image_data_setup, batch_size=64, shuffle=False)\n",
    "    \n",
    "    VisionModel, ANNModel = build_models(model_name=MODEL_NAME, IL=FEATURE_LENGTH, pretrained=False, seed=SEED)\n",
    "    \n",
    "    ts_features = get_features(model=VisionModel, dataloader=ts_image_data, \n",
    "                               feature_length=FEATURE_LENGTH, \n",
    "                               path=os.path.join(PRETRAINED_WEIGHTS_PATH, \"{}_state.pt\".format(MODEL_NAME)))\n",
    "    \n",
    "    \n",
    "    breaker()\n",
    "    print(\"Making Predictions on Test Features ...\")\n",
    "    breaker()\n",
    "    \n",
    "    fold = 1\n",
    "    final_y_pred = np.zeros((len(ts_filenames), 1))\n",
    "    for tr_idx, va_idx in KFold(n_splits=NUM_FOLDS, shuffle=True, random_state=SEED).split(filenames):\n",
    "        print(\"Processing Fold {} ...\".format(fold))\n",
    "        \n",
    "        tr_targets = targets[tr_idx]\n",
    "        tr_targets = tr_targets.reshape(-1, 1)\n",
    "        tr_targets = sc_y.fit_transform(tr_targets)\n",
    "    \n",
    "        ts_feature_data_setup = FeatureDS(features=ts_features)\n",
    "        ts_feature_data = DL(ts_feature_data_setup, batch_size=512, shuffle=False)\n",
    "\n",
    "        y_pred = predict_batch(model=ANNModel, dataloader=ts_feature_data, mode=\"test\",\n",
    "                               path=os.path.join(TRAINED_ANN_WEIGHTS_PATH, \"Fold_{}_state.pt\".format(fold)))\n",
    "        y_pred = sc_y.inverse_transform(y_pred)\n",
    "        \n",
    "        final_y_pred += y_pred\n",
    "        fold += 1\n",
    "    \n",
    "    final_y_pred = final_y_pred / NUM_FOLDS\n",
    "    \n",
    "    \n",
    "    breaker()\n",
    "    print(\"Generating Submission File ...\")\n",
    "    make_submission(PATH, final_y_pred)\n",
    "    breaker()\n",
    "\n",
    "submit()"
   ]
  },
  {
   "cell_type": "code",
   "execution_count": 9,
   "id": "6ac237b2",
   "metadata": {
    "execution": {
     "iopub.execute_input": "2021-10-06T21:24:45.521755Z",
     "iopub.status.busy": "2021-10-06T21:24:45.521219Z",
     "iopub.status.idle": "2021-10-06T21:24:45.526154Z",
     "shell.execute_reply": "2021-10-06T21:24:45.525549Z"
    },
    "papermill": {
     "duration": 0.01976,
     "end_time": "2021-10-06T21:24:45.526298",
     "exception": false,
     "start_time": "2021-10-06T21:24:45.506538",
     "status": "completed"
    },
    "tags": []
   },
   "outputs": [
    {
     "name": "stdout",
     "output_type": "stream",
     "text": [
      "\n",
      "**************************************************\n",
      "\n",
      "Notebook Run Time : 0.26 minutes\n",
      "\n",
      "**************************************************\n",
      "\n"
     ]
    }
   ],
   "source": [
    "breaker()\n",
    "print(\"Notebook Run Time : {:.2f} minutes\".format((time()-notebook_start_time)/60))\n",
    "breaker()"
   ]
  }
 ],
 "metadata": {
  "kernelspec": {
   "display_name": "Python 3",
   "language": "python",
   "name": "python3"
  },
  "language_info": {
   "codemirror_mode": {
    "name": "ipython",
    "version": 3
   },
   "file_extension": ".py",
   "mimetype": "text/x-python",
   "name": "python",
   "nbconvert_exporter": "python",
   "pygments_lexer": "ipython3",
   "version": "3.7.10"
  },
  "papermill": {
   "default_parameters": {},
   "duration": 23.624274,
   "end_time": "2021-10-06T21:24:46.897675",
   "environment_variables": {},
   "exception": null,
   "input_path": "__notebook__.ipynb",
   "output_path": "__notebook__.ipynb",
   "parameters": {},
   "start_time": "2021-10-06T21:24:23.273401",
   "version": "2.3.3"
  }
 },
 "nbformat": 4,
 "nbformat_minor": 5
}
