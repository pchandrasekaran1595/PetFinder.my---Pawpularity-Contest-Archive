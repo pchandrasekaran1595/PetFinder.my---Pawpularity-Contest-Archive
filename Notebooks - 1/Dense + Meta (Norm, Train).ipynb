{
 "cells": [
  {
   "cell_type": "markdown",
   "id": "7700ec18",
   "metadata": {
    "_cell_guid": "b1076dfc-b9ad-4769-8c92-a6c4dae69d19",
    "_uuid": "8f2839f25d086af736a60e9eeb907d3b93b6e0e5",
    "papermill": {
     "duration": 0.01319,
     "end_time": "2021-10-07T01:03:22.286031",
     "exception": false,
     "start_time": "2021-10-07T01:03:22.272841",
     "status": "completed"
    },
    "tags": []
   },
   "source": [
    "## Library Imports"
   ]
  },
  {
   "cell_type": "code",
   "execution_count": 1,
   "id": "f19e9ce5",
   "metadata": {
    "execution": {
     "iopub.execute_input": "2021-10-07T01:03:22.316058Z",
     "iopub.status.busy": "2021-10-07T01:03:22.314562Z",
     "iopub.status.idle": "2021-10-07T01:03:22.395709Z",
     "shell.execute_reply": "2021-10-07T01:03:22.395107Z",
     "shell.execute_reply.started": "2021-10-07T00:51:55.250549Z"
    },
    "papermill": {
     "duration": 0.096396,
     "end_time": "2021-10-07T01:03:22.395863",
     "exception": false,
     "start_time": "2021-10-07T01:03:22.299467",
     "status": "completed"
    },
    "tags": []
   },
   "outputs": [],
   "source": [
    "from time import time\n",
    "notebook_start_time = time()"
   ]
  },
  {
   "cell_type": "code",
   "execution_count": 2,
   "id": "758db61b",
   "metadata": {
    "execution": {
     "iopub.execute_input": "2021-10-07T01:03:22.424855Z",
     "iopub.status.busy": "2021-10-07T01:03:22.424305Z",
     "iopub.status.idle": "2021-10-07T01:03:27.729156Z",
     "shell.execute_reply": "2021-10-07T01:03:27.728703Z",
     "shell.execute_reply.started": "2021-10-07T00:51:55.362034Z"
    },
    "papermill": {
     "duration": 5.321512,
     "end_time": "2021-10-07T01:03:27.729280",
     "exception": false,
     "start_time": "2021-10-07T01:03:22.407768",
     "status": "completed"
    },
    "tags": []
   },
   "outputs": [],
   "source": [
    "import os\n",
    "import re\n",
    "import pickle\n",
    "import numpy as np\n",
    "import pandas as pd\n",
    "import matplotlib.pyplot as plt\n",
    "\n",
    "import torch\n",
    "from torch import nn, optim\n",
    "from torch.utils.data import Dataset\n",
    "from torch.utils.data import DataLoader as DL\n",
    "from torch.nn.utils import weight_norm as WN\n",
    "from torchvision import models, transforms\n",
    "\n",
    "from sklearn.model_selection import KFold\n",
    "from sklearn.metrics import mean_squared_error\n",
    "from sklearn.preprocessing import StandardScaler"
   ]
  },
  {
   "cell_type": "markdown",
   "id": "544ba690",
   "metadata": {
    "papermill": {
     "duration": 0.011861,
     "end_time": "2021-10-07T01:03:27.752944",
     "exception": false,
     "start_time": "2021-10-07T01:03:27.741083",
     "status": "completed"
    },
    "tags": []
   },
   "source": [
    "## Constants and Utilities"
   ]
  },
  {
   "cell_type": "code",
   "execution_count": 3,
   "id": "3483e363",
   "metadata": {
    "execution": {
     "iopub.execute_input": "2021-10-07T01:03:27.816582Z",
     "iopub.status.busy": "2021-10-07T01:03:27.815991Z",
     "iopub.status.idle": "2021-10-07T01:03:27.824209Z",
     "shell.execute_reply": "2021-10-07T01:03:27.823776Z",
     "shell.execute_reply.started": "2021-10-07T00:52:01.035387Z"
    },
    "papermill": {
     "duration": 0.059589,
     "end_time": "2021-10-07T01:03:27.824327",
     "exception": false,
     "start_time": "2021-10-07T01:03:27.764738",
     "status": "completed"
    },
    "tags": []
   },
   "outputs": [],
   "source": [
    "SEED = 0\n",
    "DEVICE = torch.device(\"cuda\" if torch.cuda.is_available() else \"cpu\")\n",
    "PATH = \"../input/petfinder-pawpularity-score\"\n",
    "FEATURES_PATH = \"../input/petfinder-pretrained-features-unaugmented\"\n",
    "MODEL_NAME = \"densenet\"\n",
    "\n",
    "sc_y = StandardScaler()"
   ]
  },
  {
   "cell_type": "code",
   "execution_count": 4,
   "id": "b7e47885",
   "metadata": {
    "execution": {
     "iopub.execute_input": "2021-10-07T01:03:27.858432Z",
     "iopub.status.busy": "2021-10-07T01:03:27.855100Z",
     "iopub.status.idle": "2021-10-07T01:03:27.860932Z",
     "shell.execute_reply": "2021-10-07T01:03:27.861634Z",
     "shell.execute_reply.started": "2021-10-07T00:52:27.409668Z"
    },
    "papermill": {
     "duration": 0.025472,
     "end_time": "2021-10-07T01:03:27.861763",
     "exception": false,
     "start_time": "2021-10-07T01:03:27.836291",
     "status": "completed"
    },
    "tags": []
   },
   "outputs": [],
   "source": [
    "def breaker(num=50, char=\"*\") -> None:\n",
    "    print(\"\\n\" + num*char + \"\\n\")\n",
    "\n",
    "\n",
    "def head(x, no_of_ele=5) -> None:\n",
    "    print(x[:no_of_ele])\n",
    "\n",
    "\n",
    "def get_metadata_and_targets(path: str) -> tuple:\n",
    "    df = pd.read_csv(os.path.join(path, \"train.csv\"), engine=\"python\")\n",
    "    metadata = df.iloc[:, 1:-1].copy().values\n",
    "    targets  = df.iloc[:, -1].copy().values\n",
    "    return metadata, targets\n",
    "\n",
    "\n",
    "def normalize(x):\n",
    "    for i in range(x.shape[0]):\n",
    "        x[i] = (x[i] - np.min(x[i])) / (np.max(x[i]) - np.min(x[i]))\n",
    "    return x\n",
    "\n",
    "\n",
    "def show_graphs(L: list) -> None:\n",
    "    TL, VL = [], []\n",
    "    for i in range(len(L)):\n",
    "        TL.append(L[i][\"train\"])\n",
    "        VL.append(L[i][\"valid\"])    \n",
    "    \n",
    "    x_Axis = np.arange(1, len(L) + 1)\n",
    "    plt.figure()\n",
    "    plt.plot(x_Axis, TL, \"r\", label=\"train\")\n",
    "    plt.plot(x_Axis, VL, \"b\", label=\"valid\")\n",
    "    plt.grid()\n",
    "    plt.legend()\n",
    "    plt.title(\"MSE Loss\")\n",
    "    plt.show()"
   ]
  },
  {
   "cell_type": "markdown",
   "id": "5c9a418f",
   "metadata": {
    "papermill": {
     "duration": 0.011242,
     "end_time": "2021-10-07T01:03:27.884830",
     "exception": false,
     "start_time": "2021-10-07T01:03:27.873588",
     "status": "completed"
    },
    "tags": []
   },
   "source": [
    "## Dataset Template"
   ]
  },
  {
   "cell_type": "code",
   "execution_count": 5,
   "id": "de746641",
   "metadata": {
    "execution": {
     "iopub.execute_input": "2021-10-07T01:03:27.915136Z",
     "iopub.status.busy": "2021-10-07T01:03:27.914370Z",
     "iopub.status.idle": "2021-10-07T01:03:27.916797Z",
     "shell.execute_reply": "2021-10-07T01:03:27.916243Z",
     "shell.execute_reply.started": "2021-10-07T00:52:01.108729Z"
    },
    "papermill": {
     "duration": 0.01871,
     "end_time": "2021-10-07T01:03:27.916916",
     "exception": false,
     "start_time": "2021-10-07T01:03:27.898206",
     "status": "completed"
    },
    "tags": []
   },
   "outputs": [],
   "source": [
    "class DS(Dataset):\n",
    "    def __init__(self, features=None, targets=None):\n",
    "        self.features = features\n",
    "        self.targets  = targets\n",
    "        \n",
    "    def __len__(self):\n",
    "        return self.features.shape[0]\n",
    "    \n",
    "    def __getitem__(self, idx):\n",
    "        return torch.FloatTensor(self.features[idx]), torch.FloatTensor(self.targets[idx])"
   ]
  },
  {
   "cell_type": "markdown",
   "id": "71fa9234",
   "metadata": {
    "papermill": {
     "duration": 0.011489,
     "end_time": "2021-10-07T01:03:27.939951",
     "exception": false,
     "start_time": "2021-10-07T01:03:27.928462",
     "status": "completed"
    },
    "tags": []
   },
   "source": [
    "## Build Dataloaders"
   ]
  },
  {
   "cell_type": "code",
   "execution_count": 6,
   "id": "e2be194c",
   "metadata": {
    "execution": {
     "iopub.execute_input": "2021-10-07T01:03:27.969188Z",
     "iopub.status.busy": "2021-10-07T01:03:27.968533Z",
     "iopub.status.idle": "2021-10-07T01:03:27.970527Z",
     "shell.execute_reply": "2021-10-07T01:03:27.970897Z",
     "shell.execute_reply.started": "2021-10-07T00:52:01.121506Z"
    },
    "papermill": {
     "duration": 0.019363,
     "end_time": "2021-10-07T01:03:27.971015",
     "exception": false,
     "start_time": "2021-10-07T01:03:27.951652",
     "status": "completed"
    },
    "tags": []
   },
   "outputs": [],
   "source": [
    "def build_dataloaders(tr_features: np.ndarray, va_features: np.ndarray,\n",
    "                      tr_targets: np.ndarray, va_targets: np.ndarray,\n",
    "                      batch_size: int, seed: int):\n",
    "\n",
    "    breaker()\n",
    "    print(\"Building Train and Validation DataLoaders ...\")\n",
    "    \n",
    "    tr_data_setup = DS(features=tr_features, targets=tr_targets)\n",
    "    va_data_setup = DS(features=va_features, targets=va_targets)\n",
    "    \n",
    "    dataloaders = {\n",
    "        \"train\" : DL(tr_data_setup, batch_size=batch_size, shuffle=True, generator=torch.manual_seed(seed)),\n",
    "        \"valid\" : DL(va_data_setup, batch_size=batch_size, shuffle=False)\n",
    "    }\n",
    "    \n",
    "    return dataloaders"
   ]
  },
  {
   "cell_type": "markdown",
   "id": "0ce31ca8",
   "metadata": {
    "papermill": {
     "duration": 0.011259,
     "end_time": "2021-10-07T01:03:27.993513",
     "exception": false,
     "start_time": "2021-10-07T01:03:27.982254",
     "status": "completed"
    },
    "tags": []
   },
   "source": [
    "## Build Model"
   ]
  },
  {
   "cell_type": "code",
   "execution_count": 7,
   "id": "9bd5dc0e",
   "metadata": {
    "execution": {
     "iopub.execute_input": "2021-10-07T01:03:28.025665Z",
     "iopub.status.busy": "2021-10-07T01:03:28.024640Z",
     "iopub.status.idle": "2021-10-07T01:03:28.027188Z",
     "shell.execute_reply": "2021-10-07T01:03:28.026800Z",
     "shell.execute_reply.started": "2021-10-07T00:52:01.134328Z"
    },
    "papermill": {
     "duration": 0.02248,
     "end_time": "2021-10-07T01:03:28.027289",
     "exception": false,
     "start_time": "2021-10-07T01:03:28.004809",
     "status": "completed"
    },
    "tags": []
   },
   "outputs": [],
   "source": [
    "def build_model(IL: int, seed: int):\n",
    "    class ANN(nn.Module):\n",
    "        def __init__(self, IL=None):\n",
    "            super(ANN, self).__init__()\n",
    "\n",
    "            self.predictor = nn.Sequential()\n",
    "            self.predictor.add_module(\"BN\", nn.BatchNorm1d(num_features=IL, eps=1e-5))\n",
    "            self.predictor.add_module(\"FC\", WN(nn.Linear(in_features=IL, out_features=1)))\n",
    "\n",
    "        def get_optimizer(self, lr=1e-3, wd=0):\n",
    "            params = [p for p in self.parameters() if p.requires_grad]\n",
    "            return optim.Adam(params, lr=lr, weight_decay=wd)\n",
    "\n",
    "        def get_plateau_scheduler(self, optimizer=None, patience=5, eps=1e-8):\n",
    "            return optim.lr_scheduler.ReduceLROnPlateau(optimizer=optimizer, patience=patience, eps=eps, verbose=True)\n",
    "\n",
    "        def forward(self, x):\n",
    "            return self.predictor(x)\n",
    "    \n",
    "    breaker()\n",
    "    print(\"Building Model ...\")\n",
    "    print(\"\\n{} -> 1\".format(IL))\n",
    "    \n",
    "    torch.manual_seed(seed)\n",
    "    model = ANN(IL=IL)\n",
    "    \n",
    "    return model"
   ]
  },
  {
   "cell_type": "markdown",
   "id": "ec429da0",
   "metadata": {
    "papermill": {
     "duration": 0.011441,
     "end_time": "2021-10-07T01:03:28.050399",
     "exception": false,
     "start_time": "2021-10-07T01:03:28.038958",
     "status": "completed"
    },
    "tags": []
   },
   "source": [
    "## Fit and Predict Helpers"
   ]
  },
  {
   "cell_type": "code",
   "execution_count": 8,
   "id": "425ad579",
   "metadata": {
    "execution": {
     "iopub.execute_input": "2021-10-07T01:03:28.093866Z",
     "iopub.status.busy": "2021-10-07T01:03:28.086213Z",
     "iopub.status.idle": "2021-10-07T01:03:28.096214Z",
     "shell.execute_reply": "2021-10-07T01:03:28.095788Z",
     "shell.execute_reply.started": "2021-10-07T00:52:01.151174Z"
    },
    "papermill": {
     "duration": 0.034048,
     "end_time": "2021-10-07T01:03:28.096312",
     "exception": false,
     "start_time": "2021-10-07T01:03:28.062264",
     "status": "completed"
    },
    "tags": []
   },
   "outputs": [],
   "source": [
    "def fit(model=None, optimizer=None, scheduler=None, \n",
    "        epochs=None, early_stopping_patience=None,\n",
    "        dataloaders=None, fold=None, verbose=False) -> tuple:\n",
    "    \n",
    "    name = \"./Fold_{}_state.pt\".format(fold)\n",
    "    \n",
    "    breaker()\n",
    "    print(\"Training Fold {}...\".format(fold))\n",
    "    breaker()\n",
    "\n",
    "    Losses = []\n",
    "    bestLoss = {\"train\" : np.inf, \"valid\" : np.inf}\n",
    "\n",
    "    model.to(DEVICE)\n",
    "    start_time = time()\n",
    "    for e in range(epochs):\n",
    "        e_st = time()\n",
    "        epochLoss = {\"train\" : np.inf, \"valid\" : np.inf}\n",
    "\n",
    "        for phase in [\"train\", \"valid\"]:\n",
    "            if phase == \"train\":\n",
    "                model.train()\n",
    "            else:\n",
    "                model.eval()\n",
    "            \n",
    "            lossPerPass = []\n",
    "\n",
    "            for X, y in dataloaders[phase]:\n",
    "                X, y = X.to(DEVICE), y.to(DEVICE)\n",
    "\n",
    "                optimizer.zero_grad()\n",
    "                with torch.set_grad_enabled(phase == \"train\"):\n",
    "                    output = model(X)\n",
    "                    loss = torch.nn.MSELoss()(output, y)\n",
    "                    if phase == \"train\":\n",
    "                        loss.backward()\n",
    "                        optimizer.step()\n",
    "                lossPerPass.append(loss.item())\n",
    "            epochLoss[phase] = np.mean(np.array(lossPerPass))\n",
    "        Losses.append(epochLoss)\n",
    "        \n",
    "        if early_stopping_patience:\n",
    "            if epochLoss[\"valid\"] < bestLoss[\"valid\"]:\n",
    "                bestLoss = epochLoss\n",
    "                BLE = e + 1\n",
    "                torch.save({\"model_state_dict\": model.state_dict(),\n",
    "                            \"optim_state_dict\": optimizer.state_dict()},\n",
    "                           name)\n",
    "                early_stopping_step = 0\n",
    "            else:\n",
    "                early_stopping_step += 1\n",
    "                if early_stopping_step > early_stopping_patience:\n",
    "                    print(\"\\nEarly Stopping at Epoch {}\".format(e))\n",
    "                    break\n",
    "        \n",
    "        if epochLoss[\"valid\"] < bestLoss[\"valid\"]:\n",
    "            bestLoss = epochLoss\n",
    "            BLE = e + 1\n",
    "            torch.save({\"model_state_dict\": model.state_dict(),\n",
    "                        \"optim_state_dict\": optimizer.state_dict()},\n",
    "                       name)\n",
    "        \n",
    "        if scheduler:\n",
    "            scheduler.step(epochLoss[\"valid\"])\n",
    "        \n",
    "        if verbose:\n",
    "            print(\"Epoch: {} | Train Loss: {:.5f} | Valid Loss: {:.5f} | Time: {:.2f} seconds\".format(e+1, epochLoss[\"train\"], epochLoss[\"valid\"], time()-e_st))\n",
    "    \n",
    "    breaker()\n",
    "    print(\"Best Validation Loss at Epoch {}\".format(BLE))\n",
    "    breaker()\n",
    "    print(\"Time Taken [{} Epochs] : {:.2f} minutes\".format(len(Losses), (time()-start_time)/60))\n",
    "    breaker()\n",
    "    print(\"Training Completed\")\n",
    "    breaker()\n",
    "\n",
    "    return Losses, BLE, name\n",
    "\n",
    "#####################################################################################################\n",
    "\n",
    "def predict_batch(model=None, dataloader=None, mode=\"test\", path=None) -> np.ndarray:\n",
    "    model.load_state_dict(torch.load(path, map_location=DEVICE)[\"model_state_dict\"])\n",
    "    model.to(DEVICE)\n",
    "    model.eval()\n",
    "\n",
    "    y_pred = torch.zeros(1, 1).to(DEVICE)\n",
    "    if re.match(r\"valid\", mode, re.IGNORECASE):\n",
    "        for X, _ in dataloader:\n",
    "            X = X.to(DEVICE)\n",
    "            with torch.no_grad():\n",
    "                output = model(X)\n",
    "            y_pred = torch.cat((y_pred, output.view(-1, 1)), dim=0)\n",
    "    elif re.match(r\"test\", mode, re.IGNORECASE):\n",
    "        for X in dataloader:\n",
    "            X = X.to(DEVICE)\n",
    "            with torch.no_grad():\n",
    "                output = model(X)\n",
    "            y_pred = torch.cat((y_pred, output.view(-1, 1)), dim=0)\n",
    "    \n",
    "    return y_pred[1:].detach().cpu().numpy()"
   ]
  },
  {
   "cell_type": "markdown",
   "id": "e1d7ed3b",
   "metadata": {
    "papermill": {
     "duration": 0.011169,
     "end_time": "2021-10-07T01:03:28.118950",
     "exception": false,
     "start_time": "2021-10-07T01:03:28.107781",
     "status": "completed"
    },
    "tags": []
   },
   "source": [
    "## Train Helper"
   ]
  },
  {
   "cell_type": "code",
   "execution_count": 9,
   "id": "814f43cc",
   "metadata": {
    "execution": {
     "iopub.execute_input": "2021-10-07T01:03:28.154049Z",
     "iopub.status.busy": "2021-10-07T01:03:28.153257Z",
     "iopub.status.idle": "2021-10-07T01:03:28.155789Z",
     "shell.execute_reply": "2021-10-07T01:03:28.155134Z",
     "shell.execute_reply.started": "2021-10-07T00:52:01.181679Z"
    },
    "papermill": {
     "duration": 0.025596,
     "end_time": "2021-10-07T01:03:28.155899",
     "exception": false,
     "start_time": "2021-10-07T01:03:28.130303",
     "status": "completed"
    },
    "tags": []
   },
   "outputs": [],
   "source": [
    "def train(features: np.ndarray, targets: np.ndarray,\n",
    "          n_splits: int, batch_size: int, lr: float, wd: float, \n",
    "          epochs: int, early_stopping: int, \n",
    "          patience=None, eps=None) -> list:        \n",
    "    \n",
    "    metrics = []\n",
    "        \n",
    "    KFold_start_time = time()\n",
    "    breaker()\n",
    "    print(\"Performing {} Fold CV ...\".format(n_splits))\n",
    "    fold = 1\n",
    "    for tr_idx, va_idx in KFold(n_splits=n_splits, shuffle=True, random_state=SEED).split(features):\n",
    "\n",
    "        tr_features, va_features = features[tr_idx], features[va_idx]\n",
    "        tr_targets, va_targets   = targets[tr_idx], targets[va_idx]\n",
    "\n",
    "        tr_targets, va_targets   = tr_targets.reshape(-1, 1), va_targets.reshape(-1, 1)\n",
    "\n",
    "        tr_targets = sc_y.fit_transform(tr_targets)\n",
    "        va_targets = sc_y.transform(va_targets)\n",
    "\n",
    "        dataloaders = build_dataloaders(tr_features, va_features, \n",
    "                                         tr_targets, va_targets, \n",
    "                                         batch_size, SEED)\n",
    "        model = build_model(IL=tr_features.shape[1], seed=SEED)\n",
    "        \n",
    "        optimizer = model.get_optimizer(lr=lr, wd=wd)\n",
    "        scheduler = None\n",
    "        if isinstance(patience, int) and isinstance(eps, float):\n",
    "            scheduler = model.get_plateau_scheduler(optimizer, patience, eps)\n",
    "\n",
    "        L, _, name = fit(model=model, optimizer=optimizer, scheduler=scheduler, \n",
    "                         epochs=epochs, early_stopping_patience=early_stopping,\n",
    "                         dataloaders=dataloaders, fold=fold, verbose=True)\n",
    "        y_pred = predict_batch(model=model, dataloader=dataloaders[\"valid\"], mode=\"valid\", path=name)\n",
    "        RMSE = np.sqrt(mean_squared_error(sc_y.inverse_transform(y_pred), sc_y.inverse_transform(va_targets)))\n",
    "        print(\"Validation RMSE [Fold {}]: {:.5f}\".format(fold, RMSE))\n",
    "        breaker()\n",
    "        show_graphs(L)\n",
    "        \n",
    "        metrics_dict = {\"Fold\" : fold, \"RMSE\" : RMSE}\n",
    "        metrics.append(metrics_dict)\n",
    "        \n",
    "        fold += 1\n",
    "    \n",
    "    breaker()\n",
    "    print(\"Total Time to {} Fold CV : {:.2f} minutes\".format(n_splits, (time() - KFold_start_time)/60))\n",
    "    breaker()\n",
    "    \n",
    "    return metrics"
   ]
  },
  {
   "cell_type": "markdown",
   "id": "322adec4",
   "metadata": {
    "papermill": {
     "duration": 0.011307,
     "end_time": "2021-10-07T01:03:28.178989",
     "exception": false,
     "start_time": "2021-10-07T01:03:28.167682",
     "status": "completed"
    },
    "tags": []
   },
   "source": [
    "## Main"
   ]
  },
  {
   "cell_type": "code",
   "execution_count": 10,
   "id": "eada5b09",
   "metadata": {
    "execution": {
     "iopub.execute_input": "2021-10-07T01:03:28.210582Z",
     "iopub.status.busy": "2021-10-07T01:03:28.209297Z",
     "iopub.status.idle": "2021-10-07T01:06:28.105185Z",
     "shell.execute_reply": "2021-10-07T01:06:28.104583Z",
     "shell.execute_reply.started": "2021-10-07T00:53:03.286417Z"
    },
    "papermill": {
     "duration": 179.914717,
     "end_time": "2021-10-07T01:06:28.105357",
     "exception": false,
     "start_time": "2021-10-07T01:03:28.190640",
     "status": "completed"
    },
    "tags": []
   },
   "outputs": [
    {
     "name": "stdout",
     "output_type": "stream",
     "text": [
      "\n",
      "**************************************************\n",
      "\n",
      "Loading Data ...\n",
      "\n",
      "**************************************************\n",
      "\n",
      "Performing 10 Fold CV ...\n",
      "\n",
      "**************************************************\n",
      "\n",
      "Building Train and Validation DataLoaders ...\n",
      "\n",
      "**************************************************\n",
      "\n",
      "Building Model ...\n",
      "\n",
      "1676 -> 1\n",
      "\n",
      "**************************************************\n",
      "\n",
      "Training Fold 1...\n",
      "\n",
      "**************************************************\n",
      "\n",
      "Epoch: 1 | Train Loss: 1.56565 | Valid Loss: 0.87420 | Time: 1.10 seconds\n",
      "Epoch: 2 | Train Loss: 0.86765 | Valid Loss: 0.83003 | Time: 0.78 seconds\n",
      "Epoch: 3 | Train Loss: 0.83598 | Valid Loss: 0.79930 | Time: 0.76 seconds\n",
      "Epoch: 4 | Train Loss: 0.82362 | Valid Loss: 0.79767 | Time: 0.77 seconds\n",
      "Epoch: 5 | Train Loss: 0.81055 | Valid Loss: 0.78335 | Time: 0.78 seconds\n",
      "Epoch: 6 | Train Loss: 0.80225 | Valid Loss: 0.80356 | Time: 0.78 seconds\n",
      "Epoch: 7 | Train Loss: 0.79813 | Valid Loss: 0.78744 | Time: 1.13 seconds\n",
      "Epoch: 8 | Train Loss: 0.79638 | Valid Loss: 0.78324 | Time: 0.78 seconds\n",
      "Epoch: 9 | Train Loss: 0.79298 | Valid Loss: 0.77913 | Time: 0.79 seconds\n",
      "Epoch: 10 | Train Loss: 0.79004 | Valid Loss: 0.77373 | Time: 0.78 seconds\n",
      "Epoch: 11 | Train Loss: 0.78493 | Valid Loss: 0.77971 | Time: 0.81 seconds\n",
      "Epoch: 12 | Train Loss: 0.78477 | Valid Loss: 0.77675 | Time: 0.83 seconds\n",
      "Epoch: 13 | Train Loss: 0.78895 | Valid Loss: 0.78133 | Time: 0.78 seconds\n",
      "Epoch: 14 | Train Loss: 0.77885 | Valid Loss: 0.78597 | Time: 0.89 seconds\n",
      "Epoch: 15 | Train Loss: 0.78274 | Valid Loss: 0.77397 | Time: 0.88 seconds\n",
      "Epoch: 16 | Train Loss: 0.77867 | Valid Loss: 0.80431 | Time: 0.78 seconds\n",
      "Epoch: 17 | Train Loss: 0.78233 | Valid Loss: 0.78314 | Time: 0.77 seconds\n",
      "Epoch: 18 | Train Loss: 0.78048 | Valid Loss: 0.76340 | Time: 0.78 seconds\n",
      "Epoch: 19 | Train Loss: 0.78165 | Valid Loss: 0.77341 | Time: 0.77 seconds\n",
      "Epoch: 20 | Train Loss: 0.77956 | Valid Loss: 0.77539 | Time: 0.76 seconds\n",
      "Epoch: 21 | Train Loss: 0.78128 | Valid Loss: 0.79093 | Time: 0.77 seconds\n",
      "Epoch: 22 | Train Loss: 0.77075 | Valid Loss: 0.77803 | Time: 0.79 seconds\n",
      "Epoch: 23 | Train Loss: 0.76825 | Valid Loss: 0.78100 | Time: 0.76 seconds\n",
      "Epoch: 24 | Train Loss: 0.77461 | Valid Loss: 0.78477 | Time: 0.76 seconds\n",
      "Epoch: 25 | Train Loss: 0.77215 | Valid Loss: 0.78747 | Time: 0.76 seconds\n",
      "Epoch: 26 | Train Loss: 0.77561 | Valid Loss: 0.78443 | Time: 0.76 seconds\n",
      "\n",
      "Early Stopping at Epoch 26\n",
      "\n",
      "**************************************************\n",
      "\n",
      "Best Validation Loss at Epoch 18\n",
      "\n",
      "**************************************************\n",
      "\n",
      "Time Taken [27 Epochs] : 0.36 minutes\n",
      "\n",
      "**************************************************\n",
      "\n",
      "Training Completed\n",
      "\n",
      "**************************************************\n",
      "\n",
      "Validation RMSE [Fold 1]: 18.03942\n",
      "\n",
      "**************************************************\n",
      "\n"
     ]
    },
    {
     "data": {
      "image/png": "[encoded data removed]",
      "text/plain": [
       "<Figure size 432x288 with 1 Axes>"
      ]
     },
     "metadata": {
      "needs_background": "light"
     },
     "output_type": "display_data"
    },
    {
     "name": "stdout",
     "output_type": "stream",
     "text": [
      "\n",
      "**************************************************\n",
      "\n",
      "Building Train and Validation DataLoaders ...\n",
      "\n",
      "**************************************************\n",
      "\n",
      "Building Model ...\n",
      "\n",
      "1676 -> 1\n",
      "\n",
      "**************************************************\n",
      "\n",
      "Training Fold 2...\n",
      "\n",
      "**************************************************\n",
      "\n",
      "Epoch: 1 | Train Loss: 1.45254 | Valid Loss: 0.95842 | Time: 0.96 seconds\n",
      "Epoch: 2 | Train Loss: 0.86151 | Valid Loss: 0.92355 | Time: 0.76 seconds\n",
      "Epoch: 3 | Train Loss: 0.82864 | Valid Loss: 0.95579 | Time: 0.75 seconds\n",
      "Epoch: 4 | Train Loss: 0.81776 | Valid Loss: 0.92262 | Time: 0.75 seconds\n",
      "Epoch: 5 | Train Loss: 0.80420 | Valid Loss: 0.91696 | Time: 0.75 seconds\n",
      "Epoch: 6 | Train Loss: 0.80175 | Valid Loss: 0.93336 | Time: 0.74 seconds\n",
      "Epoch: 7 | Train Loss: 0.79608 | Valid Loss: 0.93360 | Time: 0.79 seconds\n",
      "Epoch: 8 | Train Loss: 0.78852 | Valid Loss: 0.92434 | Time: 0.77 seconds\n",
      "Epoch: 9 | Train Loss: 0.79461 | Valid Loss: 0.92920 | Time: 0.78 seconds\n",
      "Epoch: 10 | Train Loss: 0.78955 | Valid Loss: 0.91909 | Time: 0.78 seconds\n",
      "Epoch: 11 | Train Loss: 0.78367 | Valid Loss: 0.92084 | Time: 0.77 seconds\n",
      "Epoch: 12 | Train Loss: 0.78613 | Valid Loss: 0.92002 | Time: 0.78 seconds\n",
      "Epoch: 13 | Train Loss: 0.78549 | Valid Loss: 0.92519 | Time: 0.79 seconds\n",
      "Epoch: 14 | Train Loss: 0.78483 | Valid Loss: 0.91123 | Time: 0.79 seconds\n",
      "Epoch: 15 | Train Loss: 0.78318 | Valid Loss: 0.90628 | Time: 0.95 seconds\n",
      "Epoch: 16 | Train Loss: 0.77787 | Valid Loss: 0.90875 | Time: 0.77 seconds\n",
      "Epoch: 17 | Train Loss: 0.77691 | Valid Loss: 0.93716 | Time: 0.79 seconds\n",
      "Epoch: 18 | Train Loss: 0.78091 | Valid Loss: 0.91254 | Time: 0.78 seconds\n",
      "Epoch: 19 | Train Loss: 0.77611 | Valid Loss: 0.91252 | Time: 0.78 seconds\n",
      "Epoch: 20 | Train Loss: 0.77490 | Valid Loss: 0.92299 | Time: 1.09 seconds\n",
      "Epoch: 21 | Train Loss: 0.77769 | Valid Loss: 0.92308 | Time: 0.82 seconds\n",
      "Epoch: 22 | Train Loss: 0.76710 | Valid Loss: 0.94466 | Time: 0.77 seconds\n",
      "Epoch: 23 | Train Loss: 0.77439 | Valid Loss: 0.91813 | Time: 0.76 seconds\n",
      "\n",
      "Early Stopping at Epoch 23\n",
      "\n",
      "**************************************************\n",
      "\n",
      "Best Validation Loss at Epoch 15\n",
      "\n",
      "**************************************************\n",
      "\n",
      "Time Taken [24 Epochs] : 0.32 minutes\n",
      "\n",
      "**************************************************\n",
      "\n",
      "Training Completed\n",
      "\n",
      "**************************************************\n",
      "\n",
      "Validation RMSE [Fold 2]: 19.49837\n",
      "\n",
      "**************************************************\n",
      "\n"
     ]
    },
    {
     "data": {
      "image/png": "[encoded data removed]",
      "text/plain": [
       "<Figure size 432x288 with 1 Axes>"
      ]
     },
     "metadata": {
      "needs_background": "light"
     },
     "output_type": "display_data"
    },
    {
     "name": "stdout",
     "output_type": "stream",
     "text": [
      "\n",
      "**************************************************\n",
      "\n",
      "Building Train and Validation DataLoaders ...\n",
      "\n",
      "**************************************************\n",
      "\n",
      "Building Model ...\n",
      "\n",
      "1676 -> 1\n",
      "\n",
      "**************************************************\n",
      "\n",
      "Training Fold 3...\n",
      "\n",
      "**************************************************\n",
      "\n",
      "Epoch: 1 | Train Loss: 1.48777 | Valid Loss: 0.81563 | Time: 0.86 seconds\n",
      "Epoch: 2 | Train Loss: 0.86240 | Valid Loss: 0.72912 | Time: 0.82 seconds\n",
      "Epoch: 3 | Train Loss: 0.82919 | Valid Loss: 0.73292 | Time: 0.81 seconds\n",
      "Epoch: 4 | Train Loss: 0.81605 | Valid Loss: 0.71571 | Time: 1.03 seconds\n",
      "Epoch: 5 | Train Loss: 0.80662 | Valid Loss: 0.72004 | Time: 0.78 seconds\n",
      "Epoch: 6 | Train Loss: 0.80076 | Valid Loss: 0.73425 | Time: 0.78 seconds\n",
      "Epoch: 7 | Train Loss: 0.79801 | Valid Loss: 0.70848 | Time: 0.81 seconds\n",
      "Epoch: 8 | Train Loss: 0.79034 | Valid Loss: 0.71547 | Time: 0.80 seconds\n",
      "Epoch: 9 | Train Loss: 0.79320 | Valid Loss: 0.70185 | Time: 0.78 seconds\n",
      "Epoch: 10 | Train Loss: 0.78937 | Valid Loss: 0.69995 | Time: 0.78 seconds\n",
      "Epoch: 11 | Train Loss: 0.78333 | Valid Loss: 0.70940 | Time: 0.78 seconds\n",
      "Epoch: 12 | Train Loss: 0.78305 | Valid Loss: 0.71307 | Time: 0.78 seconds\n",
      "Epoch: 13 | Train Loss: 0.78650 | Valid Loss: 0.69707 | Time: 0.77 seconds\n",
      "Epoch: 14 | Train Loss: 0.78249 | Valid Loss: 0.71035 | Time: 0.81 seconds\n",
      "Epoch: 15 | Train Loss: 0.77674 | Valid Loss: 0.71807 | Time: 0.78 seconds\n",
      "Epoch: 16 | Train Loss: 0.78507 | Valid Loss: 0.71268 | Time: 0.79 seconds\n",
      "Epoch: 17 | Train Loss: 0.78557 | Valid Loss: 0.70678 | Time: 0.78 seconds\n",
      "Epoch: 18 | Train Loss: 0.78215 | Valid Loss: 0.71053 | Time: 1.01 seconds\n",
      "Epoch: 19 | Train Loss: 0.77830 | Valid Loss: 0.75303 | Time: 0.80 seconds\n",
      "Epoch: 20 | Train Loss: 0.78161 | Valid Loss: 0.70739 | Time: 0.83 seconds\n",
      "Epoch: 21 | Train Loss: 0.77911 | Valid Loss: 0.70958 | Time: 0.85 seconds\n",
      "\n",
      "Early Stopping at Epoch 21\n",
      "\n",
      "**************************************************\n",
      "\n",
      "Best Validation Loss at Epoch 13\n",
      "\n",
      "**************************************************\n",
      "\n",
      "Time Taken [22 Epochs] : 0.30 minutes\n",
      "\n",
      "**************************************************\n",
      "\n",
      "Training Completed\n",
      "\n",
      "**************************************************\n",
      "\n",
      "Validation RMSE [Fold 3]: 17.30660\n",
      "\n",
      "**************************************************\n",
      "\n"
     ]
    },
    {
     "data": {
      "image/png": "[encoded data removed]",
      "text/plain": [
       "<Figure size 432x288 with 1 Axes>"
      ]
     },
     "metadata": {
      "needs_background": "light"
     },
     "output_type": "display_data"
    },
    {
     "name": "stdout",
     "output_type": "stream",
     "text": [
      "\n",
      "**************************************************\n",
      "\n",
      "Building Train and Validation DataLoaders ...\n",
      "\n",
      "**************************************************\n",
      "\n",
      "Building Model ...\n",
      "\n",
      "1676 -> 1\n",
      "\n",
      "**************************************************\n",
      "\n",
      "Training Fold 4...\n",
      "\n",
      "**************************************************\n",
      "\n",
      "Epoch: 1 | Train Loss: 1.50881 | Valid Loss: 0.84280 | Time: 0.82 seconds\n",
      "Epoch: 2 | Train Loss: 0.86448 | Valid Loss: 0.81833 | Time: 0.81 seconds\n",
      "Epoch: 3 | Train Loss: 0.82485 | Valid Loss: 0.81457 | Time: 0.96 seconds\n",
      "Epoch: 4 | Train Loss: 0.81455 | Valid Loss: 0.83058 | Time: 0.83 seconds\n",
      "Epoch: 5 | Train Loss: 0.81095 | Valid Loss: 0.81554 | Time: 0.79 seconds\n",
      "Epoch: 6 | Train Loss: 0.79843 | Valid Loss: 0.80905 | Time: 0.81 seconds\n",
      "Epoch: 7 | Train Loss: 0.79263 | Valid Loss: 0.80052 | Time: 0.80 seconds\n",
      "Epoch: 8 | Train Loss: 0.79244 | Valid Loss: 0.79771 | Time: 0.93 seconds\n",
      "Epoch: 9 | Train Loss: 0.78567 | Valid Loss: 0.80439 | Time: 0.89 seconds\n",
      "Epoch: 10 | Train Loss: 0.78718 | Valid Loss: 0.81092 | Time: 0.78 seconds\n",
      "Epoch: 11 | Train Loss: 0.78947 | Valid Loss: 0.80134 | Time: 0.79 seconds\n",
      "Epoch: 12 | Train Loss: 0.77795 | Valid Loss: 0.80011 | Time: 1.03 seconds\n",
      "Epoch: 13 | Train Loss: 0.78309 | Valid Loss: 0.80740 | Time: 0.92 seconds\n",
      "Epoch: 14 | Train Loss: 0.77828 | Valid Loss: 0.80656 | Time: 0.80 seconds\n",
      "Epoch: 15 | Train Loss: 0.78035 | Valid Loss: 0.79827 | Time: 0.82 seconds\n",
      "Epoch: 16 | Train Loss: 0.77924 | Valid Loss: 0.81952 | Time: 0.81 seconds\n",
      "\n",
      "Early Stopping at Epoch 16\n",
      "\n",
      "**************************************************\n",
      "\n",
      "Best Validation Loss at Epoch 8\n",
      "\n",
      "**************************************************\n",
      "\n",
      "Time Taken [17 Epochs] : 0.24 minutes\n",
      "\n",
      "**************************************************\n",
      "\n",
      "Training Completed\n",
      "\n",
      "**************************************************\n",
      "\n",
      "Validation RMSE [Fold 4]: 18.42303\n",
      "\n",
      "**************************************************\n",
      "\n"
     ]
    },
    {
     "data": {
      "image/png": "[encoded data removed]",
      "text/plain": [
       "<Figure size 432x288 with 1 Axes>"
      ]
     },
     "metadata": {
      "needs_background": "light"
     },
     "output_type": "display_data"
    },
    {
     "name": "stdout",
     "output_type": "stream",
     "text": [
      "\n",
      "**************************************************\n",
      "\n",
      "Building Train and Validation DataLoaders ...\n",
      "\n",
      "**************************************************\n",
      "\n",
      "Building Model ...\n",
      "\n",
      "1676 -> 1\n",
      "\n",
      "**************************************************\n",
      "\n",
      "Training Fold 5...\n",
      "\n",
      "**************************************************\n",
      "\n",
      "Epoch: 1 | Train Loss: 1.52159 | Valid Loss: 0.95141 | Time: 0.85 seconds\n",
      "Epoch: 2 | Train Loss: 0.85834 | Valid Loss: 0.88286 | Time: 0.81 seconds\n",
      "Epoch: 3 | Train Loss: 0.82584 | Valid Loss: 0.86762 | Time: 0.82 seconds\n",
      "Epoch: 4 | Train Loss: 0.81010 | Valid Loss: 0.86988 | Time: 1.03 seconds\n",
      "Epoch: 5 | Train Loss: 0.79613 | Valid Loss: 0.86379 | Time: 0.81 seconds\n",
      "Epoch: 6 | Train Loss: 0.79865 | Valid Loss: 0.87479 | Time: 0.80 seconds\n",
      "Epoch: 7 | Train Loss: 0.79263 | Valid Loss: 0.88843 | Time: 0.79 seconds\n",
      "Epoch: 8 | Train Loss: 0.78813 | Valid Loss: 0.86415 | Time: 0.79 seconds\n",
      "Epoch: 9 | Train Loss: 0.78550 | Valid Loss: 0.87766 | Time: 0.81 seconds\n",
      "Epoch: 10 | Train Loss: 0.78629 | Valid Loss: 0.88946 | Time: 0.80 seconds\n",
      "Epoch: 11 | Train Loss: 0.78627 | Valid Loss: 0.85691 | Time: 0.81 seconds\n",
      "Epoch: 12 | Train Loss: 0.78144 | Valid Loss: 0.87522 | Time: 0.78 seconds\n",
      "Epoch: 13 | Train Loss: 0.77948 | Valid Loss: 0.86666 | Time: 0.80 seconds\n",
      "Epoch: 14 | Train Loss: 0.77881 | Valid Loss: 0.87358 | Time: 0.80 seconds\n",
      "Epoch: 15 | Train Loss: 0.77292 | Valid Loss: 0.87576 | Time: 0.81 seconds\n",
      "Epoch: 16 | Train Loss: 0.78024 | Valid Loss: 0.87166 | Time: 0.81 seconds\n",
      "Epoch: 17 | Train Loss: 0.77326 | Valid Loss: 0.86487 | Time: 0.97 seconds\n",
      "Epoch: 18 | Train Loss: 0.77759 | Valid Loss: 0.85824 | Time: 0.90 seconds\n",
      "Epoch: 19 | Train Loss: 0.76922 | Valid Loss: 0.86511 | Time: 0.79 seconds\n",
      "\n",
      "Early Stopping at Epoch 19\n",
      "\n",
      "**************************************************\n",
      "\n",
      "Best Validation Loss at Epoch 11\n",
      "\n",
      "**************************************************\n",
      "\n",
      "Time Taken [20 Epochs] : 0.28 minutes\n",
      "\n",
      "**************************************************\n",
      "\n",
      "Training Completed\n",
      "\n",
      "**************************************************\n",
      "\n",
      "Validation RMSE [Fold 5]: 19.07206\n",
      "\n",
      "**************************************************\n",
      "\n"
     ]
    },
    {
     "data": {
      "image/png": "[encoded data removed]",
      "text/plain": [
       "<Figure size 432x288 with 1 Axes>"
      ]
     },
     "metadata": {
      "needs_background": "light"
     },
     "output_type": "display_data"
    },
    {
     "name": "stdout",
     "output_type": "stream",
     "text": [
      "\n",
      "**************************************************\n",
      "\n",
      "Building Train and Validation DataLoaders ...\n",
      "\n",
      "**************************************************\n",
      "\n",
      "Building Model ...\n",
      "\n",
      "1676 -> 1\n",
      "\n",
      "**************************************************\n",
      "\n",
      "Training Fold 6...\n",
      "\n",
      "**************************************************\n",
      "\n",
      "Epoch: 1 | Train Loss: 1.57108 | Valid Loss: 0.91332 | Time: 0.77 seconds\n",
      "Epoch: 2 | Train Loss: 0.86876 | Valid Loss: 0.86290 | Time: 0.77 seconds\n",
      "Epoch: 3 | Train Loss: 0.83469 | Valid Loss: 0.84482 | Time: 0.77 seconds\n",
      "Epoch: 4 | Train Loss: 0.82127 | Valid Loss: 0.87433 | Time: 0.76 seconds\n",
      "Epoch: 5 | Train Loss: 0.80362 | Valid Loss: 0.83897 | Time: 0.78 seconds\n",
      "Epoch: 6 | Train Loss: 0.80108 | Valid Loss: 0.83541 | Time: 0.78 seconds\n",
      "Epoch: 7 | Train Loss: 0.80034 | Valid Loss: 0.86457 | Time: 0.77 seconds\n",
      "Epoch: 8 | Train Loss: 0.79890 | Valid Loss: 0.86157 | Time: 0.80 seconds\n",
      "Epoch: 9 | Train Loss: 0.79611 | Valid Loss: 0.83277 | Time: 0.77 seconds\n",
      "Epoch: 10 | Train Loss: 0.79254 | Valid Loss: 0.83150 | Time: 0.76 seconds\n",
      "Epoch: 11 | Train Loss: 0.78402 | Valid Loss: 0.83548 | Time: 0.98 seconds\n",
      "Epoch: 12 | Train Loss: 0.78723 | Valid Loss: 0.83899 | Time: 0.76 seconds\n",
      "Epoch: 13 | Train Loss: 0.78633 | Valid Loss: 0.85544 | Time: 1.06 seconds\n",
      "Epoch: 14 | Train Loss: 0.78351 | Valid Loss: 0.85507 | Time: 0.83 seconds\n",
      "Epoch: 15 | Train Loss: 0.78357 | Valid Loss: 0.85561 | Time: 0.77 seconds\n",
      "Epoch: 16 | Train Loss: 0.78591 | Valid Loss: 0.84067 | Time: 0.77 seconds\n",
      "Epoch: 17 | Train Loss: 0.78040 | Valid Loss: 0.83802 | Time: 0.77 seconds\n",
      "Epoch: 18 | Train Loss: 0.78615 | Valid Loss: 0.84149 | Time: 0.78 seconds\n",
      "\n",
      "Early Stopping at Epoch 18\n",
      "\n",
      "**************************************************\n",
      "\n",
      "Best Validation Loss at Epoch 10\n",
      "\n",
      "**************************************************\n",
      "\n",
      "Time Taken [19 Epochs] : 0.25 minutes\n",
      "\n",
      "**************************************************\n",
      "\n",
      "Training Completed\n",
      "\n",
      "**************************************************\n",
      "\n",
      "Validation RMSE [Fold 6]: 18.73028\n",
      "\n",
      "**************************************************\n",
      "\n"
     ]
    },
    {
     "data": {
      "image/png": "[encoded data removed]",
      "text/plain": [
       "<Figure size 432x288 with 1 Axes>"
      ]
     },
     "metadata": {
      "needs_background": "light"
     },
     "output_type": "display_data"
    },
    {
     "name": "stdout",
     "output_type": "stream",
     "text": [
      "\n",
      "**************************************************\n",
      "\n",
      "Building Train and Validation DataLoaders ...\n",
      "\n",
      "**************************************************\n",
      "\n",
      "Building Model ...\n",
      "\n",
      "1676 -> 1\n",
      "\n",
      "**************************************************\n",
      "\n",
      "Training Fold 7...\n",
      "\n",
      "**************************************************\n",
      "\n",
      "Epoch: 1 | Train Loss: 1.50188 | Valid Loss: 1.02281 | Time: 0.85 seconds\n",
      "Epoch: 2 | Train Loss: 0.85654 | Valid Loss: 0.99409 | Time: 0.87 seconds\n",
      "Epoch: 3 | Train Loss: 0.82898 | Valid Loss: 0.95673 | Time: 0.84 seconds\n",
      "Epoch: 4 | Train Loss: 0.81114 | Valid Loss: 0.91476 | Time: 0.93 seconds\n",
      "Epoch: 5 | Train Loss: 0.81015 | Valid Loss: 0.91571 | Time: 0.93 seconds\n",
      "Epoch: 6 | Train Loss: 0.79841 | Valid Loss: 0.92218 | Time: 0.80 seconds\n",
      "Epoch: 7 | Train Loss: 0.79765 | Valid Loss: 0.92078 | Time: 0.81 seconds\n",
      "Epoch: 8 | Train Loss: 0.79344 | Valid Loss: 0.90788 | Time: 0.83 seconds\n",
      "Epoch: 9 | Train Loss: 0.78392 | Valid Loss: 0.91280 | Time: 0.79 seconds\n",
      "Epoch: 10 | Train Loss: 0.78757 | Valid Loss: 0.93126 | Time: 0.78 seconds\n",
      "Epoch: 11 | Train Loss: 0.78715 | Valid Loss: 0.93072 | Time: 0.80 seconds\n",
      "Epoch: 12 | Train Loss: 0.78922 | Valid Loss: 0.90432 | Time: 0.78 seconds\n",
      "Epoch: 13 | Train Loss: 0.78881 | Valid Loss: 0.90709 | Time: 0.80 seconds\n",
      "Epoch: 14 | Train Loss: 0.77650 | Valid Loss: 0.91419 | Time: 0.79 seconds\n",
      "Epoch: 15 | Train Loss: 0.78252 | Valid Loss: 0.90508 | Time: 0.79 seconds\n",
      "Epoch: 16 | Train Loss: 0.78219 | Valid Loss: 0.91487 | Time: 0.79 seconds\n",
      "Epoch: 17 | Train Loss: 0.78218 | Valid Loss: 0.90845 | Time: 0.79 seconds\n",
      "Epoch: 18 | Train Loss: 0.78555 | Valid Loss: 0.90514 | Time: 1.02 seconds\n",
      "Epoch: 19 | Train Loss: 0.77843 | Valid Loss: 0.90929 | Time: 0.80 seconds\n",
      "Epoch: 20 | Train Loss: 0.77736 | Valid Loss: 0.91605 | Time: 0.79 seconds\n",
      "\n",
      "Early Stopping at Epoch 20\n",
      "\n",
      "**************************************************\n",
      "\n",
      "Best Validation Loss at Epoch 12\n",
      "\n",
      "**************************************************\n",
      "\n",
      "Time Taken [21 Epochs] : 0.29 minutes\n",
      "\n",
      "**************************************************\n",
      "\n",
      "Training Completed\n",
      "\n",
      "**************************************************\n",
      "\n",
      "Validation RMSE [Fold 7]: 19.47167\n",
      "\n",
      "**************************************************\n",
      "\n"
     ]
    },
    {
     "data": {
      "image/png": "[encoded data removed]",
      "text/plain": [
       "<Figure size 432x288 with 1 Axes>"
      ]
     },
     "metadata": {
      "needs_background": "light"
     },
     "output_type": "display_data"
    },
    {
     "name": "stdout",
     "output_type": "stream",
     "text": [
      "\n",
      "**************************************************\n",
      "\n",
      "Building Train and Validation DataLoaders ...\n",
      "\n",
      "**************************************************\n",
      "\n",
      "Building Model ...\n",
      "\n",
      "1676 -> 1\n",
      "\n",
      "**************************************************\n",
      "\n",
      "Training Fold 8...\n",
      "\n",
      "**************************************************\n",
      "\n",
      "Epoch: 1 | Train Loss: 1.50693 | Valid Loss: 0.91352 | Time: 0.78 seconds\n",
      "Epoch: 2 | Train Loss: 0.85080 | Valid Loss: 0.88304 | Time: 0.78 seconds\n",
      "Epoch: 3 | Train Loss: 0.82749 | Valid Loss: 0.86174 | Time: 0.77 seconds\n",
      "Epoch: 4 | Train Loss: 0.81421 | Valid Loss: 0.88001 | Time: 0.79 seconds\n",
      "Epoch: 5 | Train Loss: 0.80425 | Valid Loss: 0.87219 | Time: 0.78 seconds\n",
      "Epoch: 6 | Train Loss: 0.79869 | Valid Loss: 0.85733 | Time: 0.78 seconds\n",
      "Epoch: 7 | Train Loss: 0.79296 | Valid Loss: 0.87605 | Time: 0.78 seconds\n",
      "Epoch: 8 | Train Loss: 0.79330 | Valid Loss: 0.88365 | Time: 0.79 seconds\n",
      "Epoch: 9 | Train Loss: 0.78820 | Valid Loss: 0.86245 | Time: 0.79 seconds\n",
      "Epoch: 10 | Train Loss: 0.78571 | Valid Loss: 0.85440 | Time: 0.90 seconds\n",
      "Epoch: 11 | Train Loss: 0.78312 | Valid Loss: 0.87212 | Time: 1.06 seconds\n",
      "Epoch: 12 | Train Loss: 0.78263 | Valid Loss: 0.87411 | Time: 0.96 seconds\n",
      "Epoch: 13 | Train Loss: 0.77560 | Valid Loss: 0.86183 | Time: 0.77 seconds\n",
      "Epoch: 14 | Train Loss: 0.78221 | Valid Loss: 0.85805 | Time: 0.77 seconds\n",
      "Epoch: 15 | Train Loss: 0.78132 | Valid Loss: 0.86329 | Time: 0.77 seconds\n",
      "Epoch: 16 | Train Loss: 0.78290 | Valid Loss: 0.85710 | Time: 0.78 seconds\n",
      "Epoch: 17 | Train Loss: 0.77819 | Valid Loss: 0.86978 | Time: 0.77 seconds\n",
      "Epoch: 18 | Train Loss: 0.78079 | Valid Loss: 0.87341 | Time: 0.79 seconds\n",
      "\n",
      "Early Stopping at Epoch 18\n",
      "\n",
      "**************************************************\n",
      "\n",
      "Best Validation Loss at Epoch 10\n",
      "\n",
      "**************************************************\n",
      "\n",
      "Time Taken [19 Epochs] : 0.26 minutes\n",
      "\n",
      "**************************************************\n",
      "\n",
      "Training Completed\n",
      "\n",
      "**************************************************\n",
      "\n",
      "Validation RMSE [Fold 8]: 18.99550\n",
      "\n",
      "**************************************************\n",
      "\n"
     ]
    },
    {
     "data": {
      "image/png": "[encoded data removed]",
      "text/plain": [
       "<Figure size 432x288 with 1 Axes>"
      ]
     },
     "metadata": {
      "needs_background": "light"
     },
     "output_type": "display_data"
    },
    {
     "name": "stdout",
     "output_type": "stream",
     "text": [
      "\n",
      "**************************************************\n",
      "\n",
      "Building Train and Validation DataLoaders ...\n",
      "\n",
      "**************************************************\n",
      "\n",
      "Building Model ...\n",
      "\n",
      "1676 -> 1\n",
      "\n",
      "**************************************************\n",
      "\n",
      "Training Fold 9...\n",
      "\n",
      "**************************************************\n",
      "\n",
      "Epoch: 1 | Train Loss: 1.56780 | Valid Loss: 0.83039 | Time: 0.84 seconds\n",
      "Epoch: 2 | Train Loss: 0.86805 | Valid Loss: 0.81475 | Time: 0.82 seconds\n",
      "Epoch: 3 | Train Loss: 0.83811 | Valid Loss: 0.78371 | Time: 0.78 seconds\n",
      "Epoch: 4 | Train Loss: 0.82126 | Valid Loss: 0.77957 | Time: 0.99 seconds\n",
      "Epoch: 5 | Train Loss: 0.81165 | Valid Loss: 0.76542 | Time: 0.84 seconds\n",
      "Epoch: 6 | Train Loss: 0.80811 | Valid Loss: 0.75907 | Time: 0.80 seconds\n",
      "Epoch: 7 | Train Loss: 0.79704 | Valid Loss: 0.76967 | Time: 0.79 seconds\n",
      "Epoch: 8 | Train Loss: 0.79873 | Valid Loss: 0.77555 | Time: 0.78 seconds\n",
      "Epoch: 9 | Train Loss: 0.79372 | Valid Loss: 0.79457 | Time: 0.78 seconds\n",
      "Epoch: 10 | Train Loss: 0.79112 | Valid Loss: 0.76443 | Time: 0.76 seconds\n",
      "Epoch: 11 | Train Loss: 0.79269 | Valid Loss: 0.78779 | Time: 0.76 seconds\n",
      "Epoch: 12 | Train Loss: 0.78898 | Valid Loss: 0.76866 | Time: 0.80 seconds\n",
      "Epoch: 13 | Train Loss: 0.78158 | Valid Loss: 0.78109 | Time: 0.78 seconds\n",
      "Epoch: 14 | Train Loss: 0.78099 | Valid Loss: 0.81115 | Time: 0.80 seconds\n",
      "\n",
      "Early Stopping at Epoch 14\n",
      "\n",
      "**************************************************\n",
      "\n",
      "Best Validation Loss at Epoch 6\n",
      "\n",
      "**************************************************\n",
      "\n",
      "Time Taken [15 Epochs] : 0.20 minutes\n",
      "\n",
      "**************************************************\n",
      "\n",
      "Training Completed\n",
      "\n",
      "**************************************************\n",
      "\n",
      "Validation RMSE [Fold 9]: 17.97486\n",
      "\n",
      "**************************************************\n",
      "\n"
     ]
    },
    {
     "data": {
      "image/png": "[encoded data removed]",
      "text/plain": [
       "<Figure size 432x288 with 1 Axes>"
      ]
     },
     "metadata": {
      "needs_background": "light"
     },
     "output_type": "display_data"
    },
    {
     "name": "stdout",
     "output_type": "stream",
     "text": [
      "\n",
      "**************************************************\n",
      "\n",
      "Building Train and Validation DataLoaders ...\n",
      "\n",
      "**************************************************\n",
      "\n",
      "Building Model ...\n",
      "\n",
      "1676 -> 1\n",
      "\n",
      "**************************************************\n",
      "\n",
      "Training Fold 10...\n",
      "\n",
      "**************************************************\n",
      "\n",
      "Epoch: 1 | Train Loss: 1.50683 | Valid Loss: 0.86019 | Time: 0.79 seconds\n",
      "Epoch: 2 | Train Loss: 0.85983 | Valid Loss: 0.90128 | Time: 0.84 seconds\n",
      "Epoch: 3 | Train Loss: 0.83004 | Valid Loss: 0.83940 | Time: 0.90 seconds\n",
      "Epoch: 4 | Train Loss: 0.80765 | Valid Loss: 0.84499 | Time: 0.79 seconds\n",
      "Epoch: 5 | Train Loss: 0.80149 | Valid Loss: 0.84316 | Time: 0.79 seconds\n",
      "Epoch: 6 | Train Loss: 0.79705 | Valid Loss: 0.83585 | Time: 0.81 seconds\n",
      "Epoch: 7 | Train Loss: 0.79009 | Valid Loss: 0.83657 | Time: 0.77 seconds\n",
      "Epoch: 8 | Train Loss: 0.79114 | Valid Loss: 0.84607 | Time: 0.76 seconds\n",
      "Epoch: 9 | Train Loss: 0.78514 | Valid Loss: 0.85595 | Time: 0.75 seconds\n",
      "Epoch: 10 | Train Loss: 0.77816 | Valid Loss: 0.86180 | Time: 0.77 seconds\n",
      "Epoch: 11 | Train Loss: 0.78209 | Valid Loss: 0.85411 | Time: 0.75 seconds\n",
      "Epoch: 12 | Train Loss: 0.78034 | Valid Loss: 0.86841 | Time: 0.76 seconds\n",
      "Epoch: 13 | Train Loss: 0.78253 | Valid Loss: 0.83677 | Time: 0.77 seconds\n",
      "Epoch: 14 | Train Loss: 0.77332 | Valid Loss: 0.83412 | Time: 0.78 seconds\n",
      "Epoch: 15 | Train Loss: 0.77625 | Valid Loss: 0.84357 | Time: 0.77 seconds\n",
      "Epoch: 16 | Train Loss: 0.77358 | Valid Loss: 0.86246 | Time: 0.84 seconds\n",
      "Epoch: 17 | Train Loss: 0.76870 | Valid Loss: 0.89223 | Time: 1.34 seconds\n",
      "Epoch: 18 | Train Loss: 0.77667 | Valid Loss: 0.84002 | Time: 0.77 seconds\n",
      "Epoch: 19 | Train Loss: 0.77612 | Valid Loss: 0.85512 | Time: 0.76 seconds\n",
      "Epoch: 20 | Train Loss: 0.76925 | Valid Loss: 0.84889 | Time: 0.76 seconds\n",
      "Epoch: 21 | Train Loss: 0.76389 | Valid Loss: 0.85300 | Time: 0.76 seconds\n",
      "Epoch: 22 | Train Loss: 0.77018 | Valid Loss: 0.83595 | Time: 0.76 seconds\n",
      "\n",
      "Early Stopping at Epoch 22\n",
      "\n",
      "**************************************************\n",
      "\n",
      "Best Validation Loss at Epoch 14\n",
      "\n",
      "**************************************************\n",
      "\n",
      "Time Taken [23 Epochs] : 0.31 minutes\n",
      "\n",
      "**************************************************\n",
      "\n",
      "Training Completed\n",
      "\n",
      "**************************************************\n",
      "\n",
      "Validation RMSE [Fold 10]: 18.84018\n",
      "\n",
      "**************************************************\n",
      "\n"
     ]
    },
    {
     "data": {
      "image/png": "[encoded data removed]",
      "text/plain": [
       "<Figure size 432x288 with 1 Axes>"
      ]
     },
     "metadata": {
      "needs_background": "light"
     },
     "output_type": "display_data"
    },
    {
     "name": "stdout",
     "output_type": "stream",
     "text": [
      "\n",
      "**************************************************\n",
      "\n",
      "Total Time to 10 Fold CV : 2.95 minutes\n",
      "\n",
      "**************************************************\n",
      "\n",
      "{'Fold': 1, 'RMSE': 18.03942124469386}\n",
      "{'Fold': 2, 'RMSE': 19.498367490288718}\n",
      "{'Fold': 3, 'RMSE': 17.306601077811937}\n",
      "{'Fold': 4, 'RMSE': 18.423025342397192}\n",
      "{'Fold': 5, 'RMSE': 19.072061828421518}\n",
      "{'Fold': 6, 'RMSE': 18.73027646546086}\n",
      "{'Fold': 7, 'RMSE': 19.47167450216092}\n",
      "{'Fold': 8, 'RMSE': 18.995501600951666}\n",
      "{'Fold': 9, 'RMSE': 17.974863667610098}\n",
      "{'Fold': 10, 'RMSE': 18.840179066757013}\n",
      "\n",
      "**************************************************\n",
      "\n"
     ]
    }
   ],
   "source": [
    "def main():\n",
    "    DEBUG = False\n",
    "    \n",
    "    ########### Params ###########\n",
    "    \n",
    "    if DEBUG:\n",
    "        n_splits = 3\n",
    "        batch_size = 512\n",
    "        lr, wd = 1e-3, 0\n",
    "        patience, eps = 5, 1e-8\n",
    "        epochs, early_stopping = 5, 5\n",
    "    else:\n",
    "        n_splits = 10\n",
    "        batch_size = 32\n",
    "        lr, wd = 1e-2, 0\n",
    "        patience, eps = 5, 1e-8\n",
    "        epochs, early_stopping = 100, 8\n",
    "    \n",
    "    ##############################\n",
    "\n",
    "    breaker()\n",
    "    print(\"Loading Data ...\")\n",
    "    \n",
    "    features = np.load(os.path.join(FEATURES_PATH, \"{}_features.npy\".format(MODEL_NAME)))\n",
    "    metadata, targets = get_metadata_and_targets(PATH)\n",
    "    features = np.concatenate((features, metadata), axis=1)\n",
    "    features = normalize(features)\n",
    "\n",
    "    # Without Scheduler\n",
    "    metrics = train(features, targets, n_splits, batch_size, lr, wd, epochs, early_stopping, patience=None, eps=None)\n",
    "    \n",
    "    # # With Plateau Scheduler\n",
    "    # metrics = train(features, targets, n_splits, batch_size, lr, wd, epochs, early_stopping, patience=patience, eps=eps)    \n",
    "    \n",
    "    for i in range(len(metrics)):\n",
    "        print(metrics[i])\n",
    "\n",
    "    with open(\"metrics.pkl\", \"wb\") as fp:\n",
    "        pickle.dump(metrics, fp)\n",
    "    \n",
    "    breaker()\n",
    "\n",
    "main()"
   ]
  },
  {
   "cell_type": "code",
   "execution_count": 11,
   "id": "04368c53",
   "metadata": {
    "execution": {
     "iopub.execute_input": "2021-10-07T01:06:28.257910Z",
     "iopub.status.busy": "2021-10-07T01:06:28.257320Z",
     "iopub.status.idle": "2021-10-07T01:06:28.260328Z",
     "shell.execute_reply": "2021-10-07T01:06:28.260741Z",
     "shell.execute_reply.started": "2021-10-07T00:52:03.224972Z"
    },
    "papermill": {
     "duration": 0.080691,
     "end_time": "2021-10-07T01:06:28.260898",
     "exception": false,
     "start_time": "2021-10-07T01:06:28.180207",
     "status": "completed"
    },
    "tags": []
   },
   "outputs": [
    {
     "name": "stdout",
     "output_type": "stream",
     "text": [
      "\n",
      "**************************************************\n",
      "\n",
      "Notebook Run Time : 3.10 minutes\n",
      "\n",
      "**************************************************\n",
      "\n"
     ]
    }
   ],
   "source": [
    "breaker()\n",
    "print(\"Notebook Run Time : {:.2f} minutes\".format((time()-notebook_start_time)/60))\n",
    "breaker()"
   ]
  }
 ],
 "metadata": {
  "kernelspec": {
   "display_name": "Python 3",
   "language": "python",
   "name": "python3"
  },
  "language_info": {
   "codemirror_mode": {
    "name": "ipython",
    "version": 3
   },
   "file_extension": ".py",
   "mimetype": "text/x-python",
   "name": "python",
   "nbconvert_exporter": "python",
   "pygments_lexer": "ipython3",
   "version": "3.7.10"
  },
  "papermill": {
   "default_parameters": {},
   "duration": 193.675238,
   "end_time": "2021-10-07T01:06:29.542887",
   "environment_variables": {},
   "exception": null,
   "input_path": "__notebook__.ipynb",
   "output_path": "__notebook__.ipynb",
   "parameters": {},
   "start_time": "2021-10-07T01:03:15.867649",
   "version": "2.3.3"
  }
 },
 "nbformat": 4,
 "nbformat_minor": 5
}
