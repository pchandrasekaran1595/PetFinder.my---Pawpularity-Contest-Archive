{
 "cells": [
  {
   "cell_type": "markdown",
   "id": "ed8a17bc",
   "metadata": {
    "_cell_guid": "b1076dfc-b9ad-4769-8c92-a6c4dae69d19",
    "_uuid": "8f2839f25d086af736a60e9eeb907d3b93b6e0e5",
    "papermill": {
     "duration": 0.01176,
     "end_time": "2021-10-12T17:12:45.198320",
     "exception": false,
     "start_time": "2021-10-12T17:12:45.186560",
     "status": "completed"
    },
    "tags": []
   },
   "source": [
    "## Library Imports"
   ]
  },
  {
   "cell_type": "code",
   "execution_count": 1,
   "id": "4c82a205",
   "metadata": {
    "execution": {
     "iopub.execute_input": "2021-10-12T17:12:45.224892Z",
     "iopub.status.busy": "2021-10-12T17:12:45.223389Z",
     "iopub.status.idle": "2021-10-12T17:12:45.300787Z",
     "shell.execute_reply": "2021-10-12T17:12:45.300061Z",
     "shell.execute_reply.started": "2021-10-12T17:11:23.008890Z"
    },
    "papermill": {
     "duration": 0.091564,
     "end_time": "2021-10-12T17:12:45.300937",
     "exception": false,
     "start_time": "2021-10-12T17:12:45.209373",
     "status": "completed"
    },
    "tags": []
   },
   "outputs": [],
   "source": [
    "from time import time\n",
    "notebook_start_time = time()"
   ]
  },
  {
   "cell_type": "code",
   "execution_count": 2,
   "id": "30d5bd19",
   "metadata": {
    "execution": {
     "iopub.execute_input": "2021-10-12T17:12:45.326552Z",
     "iopub.status.busy": "2021-10-12T17:12:45.325957Z",
     "iopub.status.idle": "2021-10-12T17:12:50.672913Z",
     "shell.execute_reply": "2021-10-12T17:12:50.671948Z",
     "shell.execute_reply.started": "2021-10-12T17:11:23.108908Z"
    },
    "papermill": {
     "duration": 5.361877,
     "end_time": "2021-10-12T17:12:50.673066",
     "exception": false,
     "start_time": "2021-10-12T17:12:45.311189",
     "status": "completed"
    },
    "tags": []
   },
   "outputs": [],
   "source": [
    "import os\n",
    "import re\n",
    "import cv2\n",
    "import numpy as np\n",
    "import pandas as pd\n",
    "import matplotlib.pyplot as plt\n",
    "\n",
    "import torch\n",
    "from torch import nn, optim\n",
    "from torch.utils.data import Dataset\n",
    "from torch.utils.data import DataLoader as DL\n",
    "from torch.nn.utils import weight_norm as WN\n",
    "from torchvision import models, transforms\n",
    "\n",
    "from sklearn.model_selection import KFold\n",
    "from sklearn.preprocessing import StandardScaler"
   ]
  },
  {
   "cell_type": "markdown",
   "id": "1cad2df0",
   "metadata": {
    "papermill": {
     "duration": 0.01542,
     "end_time": "2021-10-12T17:12:50.699257",
     "exception": false,
     "start_time": "2021-10-12T17:12:50.683837",
     "status": "completed"
    },
    "tags": []
   },
   "source": [
    "## Constants and Utilities"
   ]
  },
  {
   "cell_type": "code",
   "execution_count": 3,
   "id": "ca429d23",
   "metadata": {
    "execution": {
     "iopub.execute_input": "2021-10-12T17:12:50.771945Z",
     "iopub.status.busy": "2021-10-12T17:12:50.771359Z",
     "iopub.status.idle": "2021-10-12T17:12:50.784111Z",
     "shell.execute_reply": "2021-10-12T17:12:50.783066Z",
     "shell.execute_reply.started": "2021-10-12T17:11:29.073654Z"
    },
    "papermill": {
     "duration": 0.074824,
     "end_time": "2021-10-12T17:12:50.784232",
     "exception": false,
     "start_time": "2021-10-12T17:12:50.709408",
     "status": "completed"
    },
    "tags": []
   },
   "outputs": [],
   "source": [
    "SEED = 49\n",
    "DEVICE = torch.device(\"cuda\" if torch.cuda.is_available() else \"cpu\")\n",
    "PATH = \"../input/petfinder-pawpularity-score\"\n",
    "PRETRAINED_WEIGHTS_PATH = \"../input/pretrained-model-weights-all\"\n",
    "TRAINED_ANN_WEIGHTS_PATH = \"../input/d169-baseline-nc-train\"\n",
    "\n",
    "MODEL_NAME = \"densenet169\"\n",
    "FEATURE_LENGTH = 1664\n",
    "NUM_FOLDS = len([name for name in os.listdir(TRAINED_ANN_WEIGHTS_PATH) if name[-2:] == \"pt\"])\n",
    "\n",
    "IMAGE_SIZE = 224\n",
    "TRANSFORM = transforms.Compose([transforms.ToTensor(), \n",
    "                                transforms.Normalize([0.485, 0.456, 0.406],\n",
    "                                                     [0.229, 0.224, 0.225]),\n",
    "                                ])\n",
    "\n",
    "sc_y = StandardScaler()"
   ]
  },
  {
   "cell_type": "code",
   "execution_count": 4,
   "id": "c27c4176",
   "metadata": {
    "execution": {
     "iopub.execute_input": "2021-10-12T17:12:50.815364Z",
     "iopub.status.busy": "2021-10-12T17:12:50.814853Z",
     "iopub.status.idle": "2021-10-12T17:12:50.819123Z",
     "shell.execute_reply": "2021-10-12T17:12:50.818542Z",
     "shell.execute_reply.started": "2021-10-12T17:11:29.144194Z"
    },
    "papermill": {
     "duration": 0.024704,
     "end_time": "2021-10-12T17:12:50.819240",
     "exception": false,
     "start_time": "2021-10-12T17:12:50.794536",
     "status": "completed"
    },
    "tags": []
   },
   "outputs": [],
   "source": [
    "def breaker(num=50, char=\"*\") -> None:\n",
    "    print(\"\\n\" + num*char + \"\\n\")\n",
    "\n",
    "\n",
    "def head(x, no_of_ele=5) -> None:\n",
    "    print(x[:no_of_ele])\n",
    "\n",
    "\n",
    "def get_filenames_and_targets(path: str) -> tuple:\n",
    "    df = pd.read_csv(os.path.join(path, \"train.csv\"), engine=\"python\")\n",
    "    filenames = df.iloc[:, 0].copy().values\n",
    "    targets  = df.iloc[:, -1].copy().values\n",
    "    return filenames, targets\n",
    "\n",
    "\n",
    "def get_filenames(path: str) -> np.ndarray:\n",
    "    df = pd.read_csv(os.path.join(path, \"test.csv\"), engine=\"python\")\n",
    "    filenames  = df[\"Id\"].copy().values\n",
    "    return filenames\n",
    "\n",
    "\n",
    "def get_image(path: str, name: str, size: int) -> np.ndarray:\n",
    "    image = cv2.imread(os.path.join(path, name + \".jpg\"), cv2.IMREAD_COLOR)\n",
    "    image = cv2.cvtColor(src=image, code=cv2.COLOR_BGR2RGB)\n",
    "    image = cv2.resize(src=image, dsize=(size, size), interpolation=cv2.INTER_AREA)\n",
    "    return image\n",
    "\n",
    "\n",
    "def make_submission(path: str, y_pred: np.ndarray) -> None:\n",
    "    submission = pd.read_csv(os.path.join(path, \"sample_submission.csv\"), engine=\"python\")\n",
    "    submission[\"Pawpularity\"] = y_pred\n",
    "    submission.to_csv(\"./submission.csv\", index=False)"
   ]
  },
  {
   "cell_type": "markdown",
   "id": "b8ecb5c1",
   "metadata": {
    "papermill": {
     "duration": 0.010818,
     "end_time": "2021-10-12T17:12:50.840567",
     "exception": false,
     "start_time": "2021-10-12T17:12:50.829749",
     "status": "completed"
    },
    "tags": []
   },
   "source": [
    "## Dataset Templates"
   ]
  },
  {
   "cell_type": "code",
   "execution_count": 5,
   "id": "47d67dc0",
   "metadata": {
    "execution": {
     "iopub.execute_input": "2021-10-12T17:12:50.868297Z",
     "iopub.status.busy": "2021-10-12T17:12:50.867436Z",
     "iopub.status.idle": "2021-10-12T17:12:50.869578Z",
     "shell.execute_reply": "2021-10-12T17:12:50.869982Z",
     "shell.execute_reply.started": "2021-10-12T17:11:29.159363Z"
    },
    "papermill": {
     "duration": 0.019425,
     "end_time": "2021-10-12T17:12:50.870111",
     "exception": false,
     "start_time": "2021-10-12T17:12:50.850686",
     "status": "completed"
    },
    "tags": []
   },
   "outputs": [],
   "source": [
    "class ImageDS(Dataset):\n",
    "    def __init__(self, base_path=None, filenames=None, image_size=None, transform=None):\n",
    "        self.base_path = base_path\n",
    "        self.filenames = filenames\n",
    "        self.image_size = image_size\n",
    "        self.transform = transform\n",
    "    \n",
    "    def __len__(self):\n",
    "        return self.filenames.shape[0]\n",
    "    \n",
    "    def __getitem__(self, idx):\n",
    "        image = get_image(self.base_path, self.filenames[idx], self.image_size)\n",
    "        return self.transform(image)\n",
    "\n",
    "    \n",
    "class FeatureDS(Dataset):\n",
    "    def __init__(self, features=None):\n",
    "        self.features = features\n",
    "    \n",
    "    def __len__(self):\n",
    "        return self.features.shape[0]\n",
    "    \n",
    "    def __getitem__(self, idx):\n",
    "        return torch.FloatTensor(self.features[idx])"
   ]
  },
  {
   "cell_type": "markdown",
   "id": "a2b2b52a",
   "metadata": {
    "papermill": {
     "duration": 0.009868,
     "end_time": "2021-10-12T17:12:50.891314",
     "exception": false,
     "start_time": "2021-10-12T17:12:50.881446",
     "status": "completed"
    },
    "tags": []
   },
   "source": [
    "## Build Models"
   ]
  },
  {
   "cell_type": "code",
   "execution_count": 6,
   "id": "75eb53ab",
   "metadata": {
    "execution": {
     "iopub.execute_input": "2021-10-12T17:12:50.924867Z",
     "iopub.status.busy": "2021-10-12T17:12:50.918821Z",
     "iopub.status.idle": "2021-10-12T17:12:50.927494Z",
     "shell.execute_reply": "2021-10-12T17:12:50.928310Z",
     "shell.execute_reply.started": "2021-10-12T17:11:49.810247Z"
    },
    "papermill": {
     "duration": 0.027031,
     "end_time": "2021-10-12T17:12:50.928431",
     "exception": false,
     "start_time": "2021-10-12T17:12:50.901400",
     "status": "completed"
    },
    "tags": []
   },
   "outputs": [],
   "source": [
    "def build_models(IL: int, pretrained: bool, seed: int):\n",
    "\n",
    "    class ImageModel(nn.Module):\n",
    "        def __init__(self, pretrained=False):\n",
    "            super(ImageModel, self).__init__()\n",
    "\n",
    "            self.features = models.densenet169(pretrained=pretrained, progress=True)\n",
    "            if pretrained:\n",
    "                self.freeze()\n",
    "            self.features = nn.Sequential(*[*self.features.children()][:-1])\n",
    "            self.features.add_module(\"Adaptive Average Pool\", nn.AdaptiveAvgPool2d(output_size=(1, 1)))\n",
    "            self.features.add_module(\"Flatten\", nn.Flatten())\n",
    "\n",
    "        def freeze(self):\n",
    "            for params in self.parameters():\n",
    "                    params.requires_grad = False\n",
    "\n",
    "        def forward(self, x):\n",
    "            return self.features(x)\n",
    "    \n",
    "    torch.manual_seed(seed)\n",
    "    vision_model = ImageModel(pretrained=pretrained)\n",
    "    \n",
    "    \n",
    "    class ANN(nn.Module):\n",
    "        def __init__(self, IL=None):\n",
    "            super(ANN, self).__init__()\n",
    "\n",
    "            self.predictor = nn.Sequential()\n",
    "            self.predictor.add_module(\"BN\", nn.BatchNorm1d(num_features=IL, eps=1e-5))\n",
    "            self.predictor.add_module(\"FC\", WN(nn.Linear(in_features=IL, out_features=1)))\n",
    "\n",
    "        def get_optimizer(self, lr=1e-3, wd=0):\n",
    "            params = [p for p in self.parameters() if p.requires_grad]\n",
    "            return optim.Adam(params, lr=lr, weight_decay=wd)\n",
    "\n",
    "        def get_plateau_scheduler(self, optimizer=None, patience=5, eps=1e-8):\n",
    "            return optim.lr_scheduler.ReduceLROnPlateau(optimizer=optimizer, patience=patience, eps=eps, verbose=True)\n",
    "\n",
    "        def forward(self, x1, x2=None):\n",
    "            if x2 is not None:\n",
    "                return self.predictor(x1), self.predictor(x2)\n",
    "            else:\n",
    "                return self.predictor(x1)\n",
    "    \n",
    "    torch.manual_seed(seed)\n",
    "    ann_model = ANN(IL=IL)\n",
    "    \n",
    "    return vision_model, ann_model"
   ]
  },
  {
   "cell_type": "markdown",
   "id": "99a5872f",
   "metadata": {
    "papermill": {
     "duration": 0.010106,
     "end_time": "2021-10-12T17:12:50.948730",
     "exception": false,
     "start_time": "2021-10-12T17:12:50.938624",
     "status": "completed"
    },
    "tags": []
   },
   "source": [
    "## Feature Getter and Predict Helper"
   ]
  },
  {
   "cell_type": "code",
   "execution_count": 7,
   "id": "47fc89ab",
   "metadata": {
    "execution": {
     "iopub.execute_input": "2021-10-12T17:12:50.980246Z",
     "iopub.status.busy": "2021-10-12T17:12:50.979408Z",
     "iopub.status.idle": "2021-10-12T17:12:50.981538Z",
     "shell.execute_reply": "2021-10-12T17:12:50.981946Z",
     "shell.execute_reply.started": "2021-10-12T17:11:50.130026Z"
    },
    "papermill": {
     "duration": 0.023221,
     "end_time": "2021-10-12T17:12:50.982061",
     "exception": false,
     "start_time": "2021-10-12T17:12:50.958840",
     "status": "completed"
    },
    "tags": []
   },
   "outputs": [],
   "source": [
    "def get_features(model=None, dataloader=None, feature_length=None, path=None):\n",
    "    model.load_state_dict(torch.load(path, map_location=DEVICE))\n",
    "    model.to(DEVICE)\n",
    "    model.eval()\n",
    "\n",
    "    features = torch.zeros(1, feature_length).to(DEVICE)\n",
    "    for X in dataloader:\n",
    "        X = X.to(DEVICE)\n",
    "        with torch.no_grad():\n",
    "            output = model(X)\n",
    "        features = torch.cat((features, output.view(-1, feature_length)), dim=0)\n",
    "    \n",
    "    return features[1:].detach().cpu().numpy()\n",
    "\n",
    "\n",
    "def predict_batch(model=None, dataloader=None, mode=\"test\", path=None):\n",
    "    model.load_state_dict(torch.load(path, map_location=DEVICE)[\"model_state_dict\"])\n",
    "    model.to(DEVICE)\n",
    "    model.eval()\n",
    "\n",
    "    y_pred = torch.zeros(1, 1).to(DEVICE)\n",
    "    if re.match(r\"valid\", mode, re.IGNORECASE):\n",
    "        for X, _ in dataloader:\n",
    "            X = X.to(DEVICE)\n",
    "            with torch.no_grad():\n",
    "                output = model(X)\n",
    "            y_pred = torch.cat((y_pred, output.view(-1, 1)), dim=0)\n",
    "    elif re.match(r\"test\", mode, re.IGNORECASE):\n",
    "        for X in dataloader:\n",
    "            X = X.to(DEVICE)\n",
    "            with torch.no_grad():\n",
    "                output = model(X)\n",
    "            y_pred = torch.cat((y_pred, output.view(-1, 1)), dim=0)\n",
    "    \n",
    "    return y_pred[1:].detach().cpu().numpy()"
   ]
  },
  {
   "cell_type": "markdown",
   "id": "6e962807",
   "metadata": {
    "papermill": {
     "duration": 0.009969,
     "end_time": "2021-10-12T17:12:51.002015",
     "exception": false,
     "start_time": "2021-10-12T17:12:50.992046",
     "status": "completed"
    },
    "tags": []
   },
   "source": [
    "## Generate Submission"
   ]
  },
  {
   "cell_type": "code",
   "execution_count": 8,
   "id": "e058ac17",
   "metadata": {
    "execution": {
     "iopub.execute_input": "2021-10-12T17:12:51.032713Z",
     "iopub.status.busy": "2021-10-12T17:12:51.030045Z",
     "iopub.status.idle": "2021-10-12T17:12:51.035130Z",
     "shell.execute_reply": "2021-10-12T17:12:51.034728Z",
     "shell.execute_reply.started": "2021-10-12T17:11:50.458041Z"
    },
    "papermill": {
     "duration": 0.022761,
     "end_time": "2021-10-12T17:12:51.035237",
     "exception": false,
     "start_time": "2021-10-12T17:12:51.012476",
     "status": "completed"
    },
    "tags": []
   },
   "outputs": [],
   "source": [
    "def submit():\n",
    "    ts_filenames = get_filenames(PATH)\n",
    "    filenames, targets = get_filenames_and_targets(PATH)\n",
    "    \n",
    "    VisionModel, ANNModel = build_models(IL=FEATURE_LENGTH, pretrained=False, seed=SEED)\n",
    "    \n",
    "    ts_image_data_setup = ImageDS(base_path=os.path.join(PATH, \"test\"), \n",
    "                                  filenames=ts_filenames, \n",
    "                                  image_size=IMAGE_SIZE, \n",
    "                                  transform=TRANSFORM)\n",
    "    ts_image_data = DL(ts_image_data_setup, batch_size=64, shuffle=False)\n",
    "    ts_features = get_features(model=VisionModel, dataloader=ts_image_data, \n",
    "                               feature_length=FEATURE_LENGTH, \n",
    "                               path=os.path.join(PRETRAINED_WEIGHTS_PATH, \"{}_state.pt\".format(MODEL_NAME)))\n",
    "    \n",
    "    breaker()\n",
    "    print(\"Making Predictions on Test Features ...\")\n",
    "    breaker()\n",
    "    \n",
    "    fold = 1\n",
    "    final_y_pred = np.zeros((len(ts_filenames), 1))\n",
    "    for tr_idx, va_idx in KFold(n_splits=NUM_FOLDS, shuffle=True, random_state=SEED).split(filenames):\n",
    "        print(\"Processing Fold {} ...\".format(fold))\n",
    "        \n",
    "        tr_targets = targets[tr_idx]\n",
    "        tr_targets = tr_targets.reshape(-1, 1)\n",
    "        tr_targets = sc_y.fit_transform(tr_targets)\n",
    "    \n",
    "        ts_feature_data_setup = FeatureDS(features=ts_features)\n",
    "        ts_feature_data = DL(ts_feature_data_setup, batch_size=512, shuffle=False)\n",
    "\n",
    "        y_pred = predict_batch(model=ANNModel, dataloader=ts_feature_data, mode=\"test\",\n",
    "                               path=os.path.join(TRAINED_ANN_WEIGHTS_PATH, \"Fold_{}_state.pt\".format(fold)))\n",
    "        y_pred = sc_y.inverse_transform(y_pred)\n",
    "        \n",
    "        final_y_pred += y_pred\n",
    "        fold += 1\n",
    "    \n",
    "    final_y_pred = final_y_pred / NUM_FOLDS\n",
    "    \n",
    "    breaker()\n",
    "    print(\"Generating Submission File ...\")\n",
    "    make_submission(PATH, final_y_pred)\n",
    "    breaker()"
   ]
  },
  {
   "cell_type": "code",
   "execution_count": 9,
   "id": "a9948ca0",
   "metadata": {
    "execution": {
     "iopub.execute_input": "2021-10-12T17:12:51.059058Z",
     "iopub.status.busy": "2021-10-12T17:12:51.058318Z",
     "iopub.status.idle": "2021-10-12T17:12:58.692607Z",
     "shell.execute_reply": "2021-10-12T17:12:58.693218Z",
     "shell.execute_reply.started": "2021-10-12T17:11:50.665671Z"
    },
    "papermill": {
     "duration": 7.6482,
     "end_time": "2021-10-12T17:12:58.693409",
     "exception": false,
     "start_time": "2021-10-12T17:12:51.045209",
     "status": "completed"
    },
    "tags": []
   },
   "outputs": [
    {
     "name": "stdout",
     "output_type": "stream",
     "text": [
      "\n",
      "**************************************************\n",
      "\n",
      "Making Predictions on Test Features ...\n",
      "\n",
      "**************************************************\n",
      "\n",
      "Processing Fold 1 ...\n",
      "Processing Fold 2 ...\n",
      "Processing Fold 3 ...\n",
      "Processing Fold 4 ...\n",
      "Processing Fold 5 ...\n",
      "Processing Fold 6 ...\n",
      "Processing Fold 7 ...\n",
      "Processing Fold 8 ...\n",
      "Processing Fold 9 ...\n",
      "Processing Fold 10 ...\n",
      "\n",
      "**************************************************\n",
      "\n",
      "Generating Submission File ...\n",
      "\n",
      "**************************************************\n",
      "\n"
     ]
    }
   ],
   "source": [
    "submit()"
   ]
  },
  {
   "cell_type": "code",
   "execution_count": 10,
   "id": "cd37fc74",
   "metadata": {
    "execution": {
     "iopub.execute_input": "2021-10-12T17:12:58.720170Z",
     "iopub.status.busy": "2021-10-12T17:12:58.719655Z",
     "iopub.status.idle": "2021-10-12T17:12:58.724999Z",
     "shell.execute_reply": "2021-10-12T17:12:58.724396Z",
     "shell.execute_reply.started": "2021-10-12T17:11:51.919645Z"
    },
    "papermill": {
     "duration": 0.020393,
     "end_time": "2021-10-12T17:12:58.725142",
     "exception": false,
     "start_time": "2021-10-12T17:12:58.704749",
     "status": "completed"
    },
    "tags": []
   },
   "outputs": [
    {
     "name": "stdout",
     "output_type": "stream",
     "text": [
      "\n",
      "**************************************************\n",
      "\n",
      "Notebook Run Time : 0.22 minutes\n",
      "\n",
      "**************************************************\n",
      "\n"
     ]
    }
   ],
   "source": [
    "breaker()\n",
    "print(\"Notebook Run Time : {:.2f} minutes\".format((time()-notebook_start_time)/60))\n",
    "breaker()"
   ]
  }
 ],
 "metadata": {
  "kernelspec": {
   "display_name": "Python 3",
   "language": "python",
   "name": "python3"
  },
  "language_info": {
   "codemirror_mode": {
    "name": "ipython",
    "version": 3
   },
   "file_extension": ".py",
   "mimetype": "text/x-python",
   "name": "python",
   "nbconvert_exporter": "python",
   "pygments_lexer": "ipython3",
   "version": "3.7.10"
  },
  "papermill": {
   "default_parameters": {},
   "duration": 21.623419,
   "end_time": "2021-10-12T17:13:00.064158",
   "environment_variables": {},
   "exception": null,
   "input_path": "__notebook__.ipynb",
   "output_path": "__notebook__.ipynb",
   "parameters": {},
   "start_time": "2021-10-12T17:12:38.440739",
   "version": "2.3.3"
  }
 },
 "nbformat": 4,
 "nbformat_minor": 5
}
