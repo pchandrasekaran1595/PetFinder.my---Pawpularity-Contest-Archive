{
 "cells": [
  {
   "cell_type": "markdown",
   "id": "f4104d5c",
   "metadata": {
    "_cell_guid": "b1076dfc-b9ad-4769-8c92-a6c4dae69d19",
    "_uuid": "8f2839f25d086af736a60e9eeb907d3b93b6e0e5",
    "papermill": {
     "duration": 0.012127,
     "end_time": "2021-10-14T21:42:28.297437",
     "exception": false,
     "start_time": "2021-10-14T21:42:28.285310",
     "status": "completed"
    },
    "tags": []
   },
   "source": [
    "## Library Imports"
   ]
  },
  {
   "cell_type": "code",
   "execution_count": 1,
   "id": "932fd963",
   "metadata": {
    "execution": {
     "iopub.execute_input": "2021-10-14T21:42:28.331879Z",
     "iopub.status.busy": "2021-10-14T21:42:28.331113Z",
     "iopub.status.idle": "2021-10-14T21:42:28.335173Z",
     "shell.execute_reply": "2021-10-14T21:42:28.334643Z",
     "shell.execute_reply.started": "2021-10-14T21:39:37.666816Z"
    },
    "papermill": {
     "duration": 0.024373,
     "end_time": "2021-10-14T21:42:28.335308",
     "exception": false,
     "start_time": "2021-10-14T21:42:28.310935",
     "status": "completed"
    },
    "tags": []
   },
   "outputs": [],
   "source": [
    "from time import time\n",
    "notebook_start_time = time()"
   ]
  },
  {
   "cell_type": "code",
   "execution_count": 2,
   "id": "7f79c86f",
   "metadata": {
    "execution": {
     "iopub.execute_input": "2021-10-14T21:42:28.361948Z",
     "iopub.status.busy": "2021-10-14T21:42:28.361404Z",
     "iopub.status.idle": "2021-10-14T21:42:31.015115Z",
     "shell.execute_reply": "2021-10-14T21:42:31.016332Z",
     "shell.execute_reply.started": "2021-10-14T21:40:33.062982Z"
    },
    "papermill": {
     "duration": 2.670879,
     "end_time": "2021-10-14T21:42:31.016559",
     "exception": false,
     "start_time": "2021-10-14T21:42:28.345680",
     "status": "completed"
    },
    "tags": []
   },
   "outputs": [],
   "source": [
    "import os\n",
    "import re\n",
    "import cv2\n",
    "import pickle\n",
    "import random as r\n",
    "import numpy as np\n",
    "import pandas as pd\n",
    "import matplotlib.pyplot as plt\n",
    "\n",
    "import torch\n",
    "from torch import nn, optim\n",
    "from torch.utils.data import Dataset\n",
    "from torch.utils.data import DataLoader as DL\n",
    "from torch.nn.utils import weight_norm as WN\n",
    "from torchvision import models, transforms\n",
    "\n",
    "from time import time\n",
    "from sklearn.model_selection import KFold\n",
    "from sklearn.metrics import mean_squared_error\n",
    "from sklearn.preprocessing import StandardScaler\n",
    "\n",
    "import warnings\n",
    "warnings.filterwarnings(\"ignore\")"
   ]
  },
  {
   "cell_type": "markdown",
   "id": "70f852ac",
   "metadata": {
    "papermill": {
     "duration": 0.0182,
     "end_time": "2021-10-14T21:42:31.055050",
     "exception": false,
     "start_time": "2021-10-14T21:42:31.036850",
     "status": "completed"
    },
    "tags": []
   },
   "source": [
    "## Constants and Utilities"
   ]
  },
  {
   "cell_type": "code",
   "execution_count": 3,
   "id": "4a01130e",
   "metadata": {
    "execution": {
     "iopub.execute_input": "2021-10-14T21:42:31.145814Z",
     "iopub.status.busy": "2021-10-14T21:42:31.144923Z",
     "iopub.status.idle": "2021-10-14T21:42:31.162627Z",
     "shell.execute_reply": "2021-10-14T21:42:31.161852Z",
     "shell.execute_reply.started": "2021-10-14T21:40:33.354538Z"
    },
    "papermill": {
     "duration": 0.088951,
     "end_time": "2021-10-14T21:42:31.162756",
     "exception": false,
     "start_time": "2021-10-14T21:42:31.073805",
     "status": "completed"
    },
    "tags": []
   },
   "outputs": [],
   "source": [
    "SEED = 49\n",
    "DEVICE = torch.device(\"cuda\" if torch.cuda.is_available() else \"cpu\")\n",
    "\n",
    "NUM_FEATURES = 1664\n",
    "TRANSFORM = transforms.Compose([transforms.ToTensor(),\n",
    "                                transforms.Normalize([0.485, 0.456, 0.406],\n",
    "                                                     [0.229, 0.224, 0.225]),\n",
    "                                ])\n",
    "\n",
    "IMAGE_SIZE = 224\n",
    "PATH = \"../input/petfinder-pawpularity-score\"\n",
    "STATE_PATH = \"../input/pf-d169lastblockretrain-randinit-sgd0-9-5cv\"\n",
    "NUM_FOLDS = len([name for name in os.listdir(STATE_PATH) if name[-2:] == \"pt\"])\n",
    "\n",
    "verbose = False\n",
    "DEBUG = False\n",
    "\n",
    "sc_y = StandardScaler()"
   ]
  },
  {
   "cell_type": "code",
   "execution_count": 4,
   "id": "e42a5469",
   "metadata": {
    "execution": {
     "iopub.execute_input": "2021-10-14T21:42:31.195728Z",
     "iopub.status.busy": "2021-10-14T21:42:31.192512Z",
     "iopub.status.idle": "2021-10-14T21:42:31.197573Z",
     "shell.execute_reply": "2021-10-14T21:42:31.198067Z",
     "shell.execute_reply.started": "2021-10-14T21:40:33.493305Z"
    },
    "papermill": {
     "duration": 0.024196,
     "end_time": "2021-10-14T21:42:31.198205",
     "exception": false,
     "start_time": "2021-10-14T21:42:31.174009",
     "status": "completed"
    },
    "tags": []
   },
   "outputs": [],
   "source": [
    "def breaker(num=50, char=\"*\") -> None:\n",
    "    print(\"\\n\" + num*char + \"\\n\")\n",
    "\n",
    "\n",
    "def get_filenames_and_targets(path: str) -> tuple:\n",
    "    df = pd.read_csv(os.path.join(path, \"train.csv\"), engine=\"python\")\n",
    "    filenames = df.iloc[:, 0].copy().values\n",
    "    targets  = df.iloc[:, -1].copy().values\n",
    "    return filenames, targets\n",
    "\n",
    "\n",
    "def get_filenames(path: str) -> np.ndarray:\n",
    "    df = pd.read_csv(os.path.join(path, \"test.csv\"), engine=\"python\")\n",
    "    filenames  = df[\"Id\"].copy().values\n",
    "    return filenames\n",
    "\n",
    "\n",
    "def get_image(path: str, name: str, size: int) -> np.ndarray:\n",
    "    image = cv2.imread(os.path.join(path, name + \".jpg\"), cv2.IMREAD_COLOR)\n",
    "    image = cv2.cvtColor(src=image, code=cv2.COLOR_BGR2RGB)\n",
    "    image = cv2.resize(src=image, dsize=(size, size), interpolation=cv2.INTER_AREA)\n",
    "    return image\n",
    "\n",
    "\n",
    "def make_submission(path: str, y_pred: np.ndarray) -> None:\n",
    "    submission = pd.read_csv(os.path.join(path, \"sample_submission.csv\"), engine=\"python\")\n",
    "    submission[\"Pawpularity\"] = y_pred\n",
    "    submission.to_csv(\"./submission.csv\", index=False)"
   ]
  },
  {
   "cell_type": "markdown",
   "id": "5a8c2cb0",
   "metadata": {
    "papermill": {
     "duration": 0.010744,
     "end_time": "2021-10-14T21:42:31.220044",
     "exception": false,
     "start_time": "2021-10-14T21:42:31.209300",
     "status": "completed"
    },
    "tags": []
   },
   "source": [
    "## Dataset Template"
   ]
  },
  {
   "cell_type": "code",
   "execution_count": 5,
   "id": "aff0cbe6",
   "metadata": {
    "execution": {
     "iopub.execute_input": "2021-10-14T21:42:31.247705Z",
     "iopub.status.busy": "2021-10-14T21:42:31.246886Z",
     "iopub.status.idle": "2021-10-14T21:42:31.248866Z",
     "shell.execute_reply": "2021-10-14T21:42:31.249285Z",
     "shell.execute_reply.started": "2021-10-14T21:40:33.761011Z"
    },
    "papermill": {
     "duration": 0.018883,
     "end_time": "2021-10-14T21:42:31.249416",
     "exception": false,
     "start_time": "2021-10-14T21:42:31.230533",
     "status": "completed"
    },
    "tags": []
   },
   "outputs": [],
   "source": [
    "class DS(Dataset):\n",
    "    def __init__(self, base_path=None, filenames=None, image_size=None, transform=None):\n",
    "        self.base_path = base_path\n",
    "        self.filenames = filenames\n",
    "        self.image_size = image_size\n",
    "        self.transform = transform\n",
    "    \n",
    "    def __len__(self):\n",
    "        return self.filenames.shape[0]\n",
    "    \n",
    "    def __getitem__(self, idx):\n",
    "        image = get_image(self.base_path, self.filenames[idx], self.image_size)\n",
    "        return self.transform(image)"
   ]
  },
  {
   "cell_type": "markdown",
   "id": "2fe7cd79",
   "metadata": {
    "papermill": {
     "duration": 0.010602,
     "end_time": "2021-10-14T21:42:31.271859",
     "exception": false,
     "start_time": "2021-10-14T21:42:31.261257",
     "status": "completed"
    },
    "tags": []
   },
   "source": [
    "## Build Model"
   ]
  },
  {
   "cell_type": "code",
   "execution_count": 6,
   "id": "9f98e713",
   "metadata": {
    "execution": {
     "iopub.execute_input": "2021-10-14T21:42:31.306223Z",
     "iopub.status.busy": "2021-10-14T21:42:31.305389Z",
     "iopub.status.idle": "2021-10-14T21:42:31.307281Z",
     "shell.execute_reply": "2021-10-14T21:42:31.307966Z",
     "shell.execute_reply.started": "2021-10-14T21:40:34.074215Z"
    },
    "papermill": {
     "duration": 0.025865,
     "end_time": "2021-10-14T21:42:31.308115",
     "exception": false,
     "start_time": "2021-10-14T21:42:31.282250",
     "status": "completed"
    },
    "tags": []
   },
   "outputs": [],
   "source": [
    "def build_model(IL: int, seed: int):\n",
    "    class Model(nn.Module):\n",
    "        def __init__(self, IL=None):\n",
    "            super(Model, self).__init__()\n",
    "\n",
    "            self.features = models.densenet169(pretrained=False, progress=False)\n",
    "            self.features = nn.Sequential(*[*self.features.children()][:-1])\n",
    "            self.freeze()\n",
    "            self.features.add_module(\"Adaptive Average Pool\", nn.AdaptiveAvgPool2d(output_size=(1, 1)))\n",
    "            self.features.add_module(\"Flatten\", nn.Flatten())\n",
    "\n",
    "            self.predictor = nn.Sequential()\n",
    "            self.predictor.add_module(\"BN\", nn.BatchNorm1d(num_features=IL, eps=1e-5))\n",
    "            self.predictor.add_module(\"FC\", WN(nn.Linear(in_features=IL, out_features=1)))\n",
    "        \n",
    "        def freeze(self):\n",
    "            for params in self.parameters():\n",
    "                params.requires_grad = False\n",
    "            \n",
    "            for names, params in self.named_parameters():\n",
    "                if re.match(r\"features.0.denseblock4\", names, re.IGNORECASE):\n",
    "                    params.requires_grad = True\n",
    "                if re.match(r\"features.0.norm5\", names, re.IGNORECASE):\n",
    "                    params.requires_grad = True\n",
    "        \n",
    "        def get_optimizer(self, lr=1e-3, wd=0.0):\n",
    "            params = [p for p in self.parameters() if p.requires_grad]\n",
    "            return optim.SGD(params, lr=lr, momentum=0.9, weight_decay=wd)\n",
    "        \n",
    "        def forward(self, x1, x2=None):\n",
    "            if x2 is not None:\n",
    "                x1 = self.features(x1)\n",
    "                x2 = self.features(x2)\n",
    "                return self.predictor(x1), self.predictor(x2)\n",
    "            else:\n",
    "                x1 = self.features(x1)\n",
    "                return self.predictor(x1)\n",
    "        \n",
    "    if verbose:\n",
    "        breaker()\n",
    "        print(\"Building Model ...\")\n",
    "\n",
    "    torch.manual_seed(seed)\n",
    "    model = Model(IL=IL)\n",
    "    return model"
   ]
  },
  {
   "cell_type": "markdown",
   "id": "3cd57904",
   "metadata": {
    "papermill": {
     "duration": 0.010532,
     "end_time": "2021-10-14T21:42:31.329279",
     "exception": false,
     "start_time": "2021-10-14T21:42:31.318747",
     "status": "completed"
    },
    "tags": []
   },
   "source": [
    "## Predict"
   ]
  },
  {
   "cell_type": "code",
   "execution_count": 7,
   "id": "bb4c6627",
   "metadata": {
    "execution": {
     "iopub.execute_input": "2021-10-14T21:42:31.358331Z",
     "iopub.status.busy": "2021-10-14T21:42:31.357572Z",
     "iopub.status.idle": "2021-10-14T21:42:31.359928Z",
     "shell.execute_reply": "2021-10-14T21:42:31.359543Z",
     "shell.execute_reply.started": "2021-10-14T21:40:34.375004Z"
    },
    "papermill": {
     "duration": 0.020176,
     "end_time": "2021-10-14T21:42:31.360045",
     "exception": false,
     "start_time": "2021-10-14T21:42:31.339869",
     "status": "completed"
    },
    "tags": []
   },
   "outputs": [],
   "source": [
    "def predict_batch(model=None, dataloader=None, mode=\"test\", path=None):\n",
    "    model.load_state_dict(torch.load(path, map_location=DEVICE)[\"model_state_dict\"])\n",
    "    model.to(DEVICE)\n",
    "    model.eval()\n",
    "\n",
    "    y_pred = torch.zeros(1, 1).to(DEVICE)\n",
    "    if re.match(r\"valid\", mode, re.IGNORECASE):\n",
    "        for X, _ in dataloader:\n",
    "            X = X.to(DEVICE)\n",
    "            with torch.no_grad():\n",
    "                output = model(X)\n",
    "            y_pred = torch.cat((y_pred, output.view(-1, 1)), dim=0)\n",
    "    elif re.match(r\"test\", mode, re.IGNORECASE):\n",
    "        for X in dataloader:\n",
    "            X = X.to(DEVICE)\n",
    "            with torch.no_grad():\n",
    "                output = model(X)\n",
    "            y_pred = torch.cat((y_pred, output.view(-1, 1)), dim=0)\n",
    "    \n",
    "    return y_pred[1:].detach().cpu().numpy()"
   ]
  },
  {
   "cell_type": "markdown",
   "id": "df4b51f8",
   "metadata": {
    "papermill": {
     "duration": 0.010276,
     "end_time": "2021-10-14T21:42:31.380644",
     "exception": false,
     "start_time": "2021-10-14T21:42:31.370368",
     "status": "completed"
    },
    "tags": []
   },
   "source": [
    "## Submit"
   ]
  },
  {
   "cell_type": "code",
   "execution_count": 8,
   "id": "fe1c9913",
   "metadata": {
    "execution": {
     "iopub.execute_input": "2021-10-14T21:42:31.412620Z",
     "iopub.status.busy": "2021-10-14T21:42:31.411785Z",
     "iopub.status.idle": "2021-10-14T21:42:31.413795Z",
     "shell.execute_reply": "2021-10-14T21:42:31.414258Z",
     "shell.execute_reply.started": "2021-10-14T21:40:35.153711Z"
    },
    "papermill": {
     "duration": 0.022662,
     "end_time": "2021-10-14T21:42:31.414383",
     "exception": false,
     "start_time": "2021-10-14T21:42:31.391721",
     "status": "completed"
    },
    "tags": []
   },
   "outputs": [],
   "source": [
    "def submit():\n",
    "    ts_filenames = get_filenames(PATH)\n",
    "    filenames, targets = get_filenames_and_targets(PATH)\n",
    "    \n",
    "    Model = build_model(IL=NUM_FEATURES, seed=SEED)\n",
    "    \n",
    "    breaker()\n",
    "    print(\"Making Predictions on Test Features ...\")\n",
    "    breaker()\n",
    "    \n",
    "    fold = 1\n",
    "    final_y_pred = np.zeros((len(ts_filenames), 1))\n",
    "    for tr_idx, va_idx in KFold(n_splits=NUM_FOLDS, shuffle=True, random_state=SEED).split(filenames):\n",
    "        print(\"Processing Fold {} ...\".format(fold))\n",
    "        \n",
    "        tr_targets = targets[tr_idx]\n",
    "        tr_targets = tr_targets.reshape(-1, 1)\n",
    "        tr_targets = sc_y.fit_transform(tr_targets)\n",
    "        \n",
    "        ts_data_setup = DS(base_path=os.path.join(PATH, \"test\"), \n",
    "                           filenames=ts_filenames, \n",
    "                           image_size=IMAGE_SIZE, \n",
    "                           transform=TRANSFORM)\n",
    "        ts_data = DL(ts_data_setup, batch_size=64, shuffle=False)\n",
    "        \n",
    "        y_pred = predict_batch(model=Model, dataloader=ts_data, mode=\"test\",\n",
    "                               path=os.path.join(STATE_PATH, \"Fold_{}_state.pt\".format(fold)))\n",
    "        y_pred = sc_y.inverse_transform(y_pred)\n",
    "        \n",
    "        final_y_pred += y_pred\n",
    "        fold += 1\n",
    "    \n",
    "    final_y_pred = final_y_pred / NUM_FOLDS\n",
    "    \n",
    "    breaker()\n",
    "    print(\"Generating Submission File ...\")\n",
    "    make_submission(PATH, final_y_pred)\n",
    "    breaker()"
   ]
  },
  {
   "cell_type": "code",
   "execution_count": 9,
   "id": "3f3cb37c",
   "metadata": {
    "execution": {
     "iopub.execute_input": "2021-10-14T21:42:31.439379Z",
     "iopub.status.busy": "2021-10-14T21:42:31.438794Z",
     "iopub.status.idle": "2021-10-14T21:42:49.278710Z",
     "shell.execute_reply": "2021-10-14T21:42:49.279361Z",
     "shell.execute_reply.started": "2021-10-14T21:40:35.414117Z"
    },
    "papermill": {
     "duration": 17.85463,
     "end_time": "2021-10-14T21:42:49.279570",
     "exception": false,
     "start_time": "2021-10-14T21:42:31.424940",
     "status": "completed"
    },
    "tags": []
   },
   "outputs": [
    {
     "name": "stdout",
     "output_type": "stream",
     "text": [
      "\n",
      "**************************************************\n",
      "\n",
      "Making Predictions on Test Features ...\n",
      "\n",
      "**************************************************\n",
      "\n",
      "Processing Fold 1 ...\n",
      "Processing Fold 2 ...\n",
      "Processing Fold 3 ...\n",
      "Processing Fold 4 ...\n",
      "Processing Fold 5 ...\n",
      "\n",
      "**************************************************\n",
      "\n",
      "Generating Submission File ...\n",
      "\n",
      "**************************************************\n",
      "\n"
     ]
    }
   ],
   "source": [
    "submit()"
   ]
  },
  {
   "cell_type": "markdown",
   "id": "6975eb4f",
   "metadata": {
    "papermill": {
     "duration": 0.020261,
     "end_time": "2021-10-14T21:42:49.320314",
     "exception": false,
     "start_time": "2021-10-14T21:42:49.300053",
     "status": "completed"
    },
    "tags": []
   },
   "source": [
    "## End"
   ]
  },
  {
   "cell_type": "code",
   "execution_count": 10,
   "id": "4e96edc6",
   "metadata": {
    "execution": {
     "iopub.execute_input": "2021-10-14T21:42:49.365829Z",
     "iopub.status.busy": "2021-10-14T21:42:49.365063Z",
     "iopub.status.idle": "2021-10-14T21:42:49.370057Z",
     "shell.execute_reply": "2021-10-14T21:42:49.371090Z"
    },
    "papermill": {
     "duration": 0.031297,
     "end_time": "2021-10-14T21:42:49.371340",
     "exception": false,
     "start_time": "2021-10-14T21:42:49.340043",
     "status": "completed"
    },
    "tags": []
   },
   "outputs": [
    {
     "name": "stdout",
     "output_type": "stream",
     "text": [
      "\n",
      "**************************************************\n",
      "\n",
      "Notebook Rumtime : 0.35 minutes\n",
      "\n",
      "**************************************************\n",
      "\n"
     ]
    }
   ],
   "source": [
    "breaker()\n",
    "print(\"Notebook Rumtime : {:.2f} minutes\".format((time() - notebook_start_time)/60))\n",
    "breaker()"
   ]
  }
 ],
 "metadata": {
  "kernelspec": {
   "display_name": "Python 3",
   "language": "python",
   "name": "python3"
  },
  "language_info": {
   "codemirror_mode": {
    "name": "ipython",
    "version": 3
   },
   "file_extension": ".py",
   "mimetype": "text/x-python",
   "name": "python",
   "nbconvert_exporter": "python",
   "pygments_lexer": "ipython3",
   "version": "3.7.10"
  },
  "papermill": {
   "default_parameters": {},
   "duration": 29.97146,
   "end_time": "2021-10-14T21:42:50.703627",
   "environment_variables": {},
   "exception": null,
   "input_path": "__notebook__.ipynb",
   "output_path": "__notebook__.ipynb",
   "parameters": {},
   "start_time": "2021-10-14T21:42:20.732167",
   "version": "2.3.3"
  }
 },
 "nbformat": 4,
 "nbformat_minor": 5
}
