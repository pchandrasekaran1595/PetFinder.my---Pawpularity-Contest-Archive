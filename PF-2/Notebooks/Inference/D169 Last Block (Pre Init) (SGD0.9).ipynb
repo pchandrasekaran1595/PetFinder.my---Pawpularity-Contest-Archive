{
 "cells": [
  {
   "cell_type": "markdown",
   "id": "80422d4a",
   "metadata": {
    "_cell_guid": "b1076dfc-b9ad-4769-8c92-a6c4dae69d19",
    "_uuid": "8f2839f25d086af736a60e9eeb907d3b93b6e0e5",
    "papermill": {
     "duration": 0.011448,
     "end_time": "2021-10-16T04:26:10.657305",
     "exception": false,
     "start_time": "2021-10-16T04:26:10.645857",
     "status": "completed"
    },
    "tags": []
   },
   "source": [
    "## Library Imports"
   ]
  },
  {
   "cell_type": "code",
   "execution_count": 1,
   "id": "8e42d4c5",
   "metadata": {
    "execution": {
     "iopub.execute_input": "2021-10-16T04:26:10.683506Z",
     "iopub.status.busy": "2021-10-16T04:26:10.681993Z",
     "iopub.status.idle": "2021-10-16T04:26:10.690486Z",
     "shell.execute_reply": "2021-10-16T04:26:10.690003Z",
     "shell.execute_reply.started": "2021-10-14T21:39:37.666816Z"
    },
    "papermill": {
     "duration": 0.022493,
     "end_time": "2021-10-16T04:26:10.690608",
     "exception": false,
     "start_time": "2021-10-16T04:26:10.668115",
     "status": "completed"
    },
    "tags": []
   },
   "outputs": [],
   "source": [
    "from time import time\n",
    "notebook_start_time = time()"
   ]
  },
  {
   "cell_type": "code",
   "execution_count": 2,
   "id": "40852994",
   "metadata": {
    "execution": {
     "iopub.execute_input": "2021-10-16T04:26:10.717227Z",
     "iopub.status.busy": "2021-10-16T04:26:10.716634Z",
     "iopub.status.idle": "2021-10-16T04:26:12.999687Z",
     "shell.execute_reply": "2021-10-16T04:26:12.998617Z",
     "shell.execute_reply.started": "2021-10-14T21:40:33.062982Z"
    },
    "papermill": {
     "duration": 2.298964,
     "end_time": "2021-10-16T04:26:12.999870",
     "exception": false,
     "start_time": "2021-10-16T04:26:10.700906",
     "status": "completed"
    },
    "tags": []
   },
   "outputs": [],
   "source": [
    "import os\n",
    "import re\n",
    "import cv2\n",
    "import pickle\n",
    "import random as r\n",
    "import numpy as np\n",
    "import pandas as pd\n",
    "import matplotlib.pyplot as plt\n",
    "\n",
    "import torch\n",
    "from torch import nn, optim\n",
    "from torch.utils.data import Dataset\n",
    "from torch.utils.data import DataLoader as DL\n",
    "from torch.nn.utils import weight_norm as WN\n",
    "from torchvision import models, transforms\n",
    "\n",
    "from time import time\n",
    "from sklearn.model_selection import KFold\n",
    "from sklearn.metrics import mean_squared_error\n",
    "from sklearn.preprocessing import StandardScaler\n",
    "\n",
    "import warnings\n",
    "warnings.filterwarnings(\"ignore\")"
   ]
  },
  {
   "cell_type": "markdown",
   "id": "f0a426a5",
   "metadata": {
    "papermill": {
     "duration": 0.011844,
     "end_time": "2021-10-16T04:26:13.023917",
     "exception": false,
     "start_time": "2021-10-16T04:26:13.012073",
     "status": "completed"
    },
    "tags": []
   },
   "source": [
    "## Constants and Utilities"
   ]
  },
  {
   "cell_type": "code",
   "execution_count": 3,
   "id": "57523359",
   "metadata": {
    "execution": {
     "iopub.execute_input": "2021-10-16T04:26:13.092501Z",
     "iopub.status.busy": "2021-10-16T04:26:13.091875Z",
     "iopub.status.idle": "2021-10-16T04:26:13.116981Z",
     "shell.execute_reply": "2021-10-16T04:26:13.116509Z",
     "shell.execute_reply.started": "2021-10-14T21:40:33.354538Z"
    },
    "papermill": {
     "duration": 0.081961,
     "end_time": "2021-10-16T04:26:13.117107",
     "exception": false,
     "start_time": "2021-10-16T04:26:13.035146",
     "status": "completed"
    },
    "tags": []
   },
   "outputs": [],
   "source": [
    "SEED = 49\n",
    "DEVICE = torch.device(\"cuda\" if torch.cuda.is_available() else \"cpu\")\n",
    "\n",
    "NUM_FEATURES = 1664\n",
    "TRANSFORM = transforms.Compose([transforms.ToTensor(),\n",
    "                                transforms.Normalize([0.485, 0.456, 0.406],\n",
    "                                                     [0.229, 0.224, 0.225]),\n",
    "                                ])\n",
    "\n",
    "IMAGE_SIZE = 224\n",
    "PATH = \"../input/petfinder-pawpularity-score\"\n",
    "STATE_PATH = \"../input/pf-d169lastblockretrain-preinit-sgd0-9\"\n",
    "NUM_FOLDS = len([name for name in os.listdir(STATE_PATH) if name[-2:] == \"pt\"])\n",
    "\n",
    "verbose = False\n",
    "DEBUG = False\n",
    "\n",
    "sc_y = StandardScaler()"
   ]
  },
  {
   "cell_type": "code",
   "execution_count": 4,
   "id": "18edc62e",
   "metadata": {
    "execution": {
     "iopub.execute_input": "2021-10-16T04:26:13.149694Z",
     "iopub.status.busy": "2021-10-16T04:26:13.148225Z",
     "iopub.status.idle": "2021-10-16T04:26:13.150334Z",
     "shell.execute_reply": "2021-10-16T04:26:13.150776Z",
     "shell.execute_reply.started": "2021-10-14T21:40:33.493305Z"
    },
    "papermill": {
     "duration": 0.022799,
     "end_time": "2021-10-16T04:26:13.150903",
     "exception": false,
     "start_time": "2021-10-16T04:26:13.128104",
     "status": "completed"
    },
    "tags": []
   },
   "outputs": [],
   "source": [
    "def breaker(num=50, char=\"*\") -> None:\n",
    "    print(\"\\n\" + num*char + \"\\n\")\n",
    "\n",
    "\n",
    "def get_filenames_and_targets(path: str) -> tuple:\n",
    "    df = pd.read_csv(os.path.join(path, \"train.csv\"), engine=\"python\")\n",
    "    filenames = df.iloc[:, 0].copy().values\n",
    "    targets  = df.iloc[:, -1].copy().values\n",
    "    return filenames, targets\n",
    "\n",
    "\n",
    "def get_filenames(path: str) -> np.ndarray:\n",
    "    df = pd.read_csv(os.path.join(path, \"test.csv\"), engine=\"python\")\n",
    "    filenames  = df[\"Id\"].copy().values\n",
    "    return filenames\n",
    "\n",
    "\n",
    "def get_image(path: str, name: str, size: int) -> np.ndarray:\n",
    "    image = cv2.imread(os.path.join(path, name + \".jpg\"), cv2.IMREAD_COLOR)\n",
    "    image = cv2.cvtColor(src=image, code=cv2.COLOR_BGR2RGB)\n",
    "    image = cv2.resize(src=image, dsize=(size, size), interpolation=cv2.INTER_AREA)\n",
    "    return image\n",
    "\n",
    "\n",
    "def make_submission(path: str, y_pred: np.ndarray) -> None:\n",
    "    submission = pd.read_csv(os.path.join(path, \"sample_submission.csv\"), engine=\"python\")\n",
    "    submission[\"Pawpularity\"] = y_pred\n",
    "    submission.to_csv(\"./submission.csv\", index=False)"
   ]
  },
  {
   "cell_type": "markdown",
   "id": "7e48366b",
   "metadata": {
    "papermill": {
     "duration": 0.010414,
     "end_time": "2021-10-16T04:26:13.171960",
     "exception": false,
     "start_time": "2021-10-16T04:26:13.161546",
     "status": "completed"
    },
    "tags": []
   },
   "source": [
    "## Dataset Template"
   ]
  },
  {
   "cell_type": "code",
   "execution_count": 5,
   "id": "896809b2",
   "metadata": {
    "execution": {
     "iopub.execute_input": "2021-10-16T04:26:13.198854Z",
     "iopub.status.busy": "2021-10-16T04:26:13.198009Z",
     "iopub.status.idle": "2021-10-16T04:26:13.200063Z",
     "shell.execute_reply": "2021-10-16T04:26:13.200469Z",
     "shell.execute_reply.started": "2021-10-14T21:40:33.761011Z"
    },
    "papermill": {
     "duration": 0.017805,
     "end_time": "2021-10-16T04:26:13.200591",
     "exception": false,
     "start_time": "2021-10-16T04:26:13.182786",
     "status": "completed"
    },
    "tags": []
   },
   "outputs": [],
   "source": [
    "class DS(Dataset):\n",
    "    def __init__(self, base_path=None, filenames=None, image_size=None, transform=None):\n",
    "        self.base_path = base_path\n",
    "        self.filenames = filenames\n",
    "        self.image_size = image_size\n",
    "        self.transform = transform\n",
    "    \n",
    "    def __len__(self):\n",
    "        return self.filenames.shape[0]\n",
    "    \n",
    "    def __getitem__(self, idx):\n",
    "        image = get_image(self.base_path, self.filenames[idx], self.image_size)\n",
    "        return self.transform(image)"
   ]
  },
  {
   "cell_type": "markdown",
   "id": "3f2d1934",
   "metadata": {
    "papermill": {
     "duration": 0.010672,
     "end_time": "2021-10-16T04:26:13.221700",
     "exception": false,
     "start_time": "2021-10-16T04:26:13.211028",
     "status": "completed"
    },
    "tags": []
   },
   "source": [
    "## Build Model"
   ]
  },
  {
   "cell_type": "code",
   "execution_count": 6,
   "id": "7a16734a",
   "metadata": {
    "execution": {
     "iopub.execute_input": "2021-10-16T04:26:13.257255Z",
     "iopub.status.busy": "2021-10-16T04:26:13.255591Z",
     "iopub.status.idle": "2021-10-16T04:26:13.257934Z",
     "shell.execute_reply": "2021-10-16T04:26:13.258347Z",
     "shell.execute_reply.started": "2021-10-14T21:40:34.074215Z"
    },
    "papermill": {
     "duration": 0.025884,
     "end_time": "2021-10-16T04:26:13.258475",
     "exception": false,
     "start_time": "2021-10-16T04:26:13.232591",
     "status": "completed"
    },
    "tags": []
   },
   "outputs": [],
   "source": [
    "def build_model(IL: int, seed: int):\n",
    "    class Model(nn.Module):\n",
    "        def __init__(self, IL=None):\n",
    "            super(Model, self).__init__()\n",
    "\n",
    "            self.features = models.densenet169(pretrained=False, progress=False)\n",
    "            self.features = nn.Sequential(*[*self.features.children()][:-1])\n",
    "            self.freeze()\n",
    "            self.features.add_module(\"Adaptive Average Pool\", nn.AdaptiveAvgPool2d(output_size=(1, 1)))\n",
    "            self.features.add_module(\"Flatten\", nn.Flatten())\n",
    "\n",
    "            self.predictor = nn.Sequential()\n",
    "            self.predictor.add_module(\"BN\", nn.BatchNorm1d(num_features=IL, eps=1e-5))\n",
    "            self.predictor.add_module(\"FC\", WN(nn.Linear(in_features=IL, out_features=1)))\n",
    "        \n",
    "        def freeze(self):\n",
    "            for params in self.parameters():\n",
    "                params.requires_grad = False\n",
    "            \n",
    "            for names, params in self.named_parameters():\n",
    "                if re.match(r\"features.0.denseblock4\", names, re.IGNORECASE):\n",
    "                    params.requires_grad = True\n",
    "                if re.match(r\"features.0.norm5\", names, re.IGNORECASE):\n",
    "                    params.requires_grad = True\n",
    "        \n",
    "        def get_optimizer(self, lr=1e-3, wd=0.0):\n",
    "            params = [p for p in self.parameters() if p.requires_grad]\n",
    "            return optim.SGD(params, lr=lr, momentum=0.9, weight_decay=wd)\n",
    "        \n",
    "        def forward(self, x1, x2=None):\n",
    "            if x2 is not None:\n",
    "                x1 = self.features(x1)\n",
    "                x2 = self.features(x2)\n",
    "                return self.predictor(x1), self.predictor(x2)\n",
    "            else:\n",
    "                x1 = self.features(x1)\n",
    "                return self.predictor(x1)\n",
    "        \n",
    "    if verbose:\n",
    "        breaker()\n",
    "        print(\"Building Model ...\")\n",
    "\n",
    "    torch.manual_seed(seed)\n",
    "    model = Model(IL=IL)\n",
    "    return model"
   ]
  },
  {
   "cell_type": "markdown",
   "id": "38c8f31f",
   "metadata": {
    "papermill": {
     "duration": 0.010694,
     "end_time": "2021-10-16T04:26:13.280139",
     "exception": false,
     "start_time": "2021-10-16T04:26:13.269445",
     "status": "completed"
    },
    "tags": []
   },
   "source": [
    "## Predict"
   ]
  },
  {
   "cell_type": "code",
   "execution_count": 7,
   "id": "0440c2d1",
   "metadata": {
    "execution": {
     "iopub.execute_input": "2021-10-16T04:26:13.310247Z",
     "iopub.status.busy": "2021-10-16T04:26:13.308631Z",
     "iopub.status.idle": "2021-10-16T04:26:13.310874Z",
     "shell.execute_reply": "2021-10-16T04:26:13.311263Z",
     "shell.execute_reply.started": "2021-10-14T21:40:34.375004Z"
    },
    "papermill": {
     "duration": 0.020865,
     "end_time": "2021-10-16T04:26:13.311376",
     "exception": false,
     "start_time": "2021-10-16T04:26:13.290511",
     "status": "completed"
    },
    "tags": []
   },
   "outputs": [],
   "source": [
    "def predict_batch(model=None, dataloader=None, mode=\"test\", path=None):\n",
    "    model.load_state_dict(torch.load(path, map_location=DEVICE)[\"model_state_dict\"])\n",
    "    model.to(DEVICE)\n",
    "    model.eval()\n",
    "\n",
    "    y_pred = torch.zeros(1, 1).to(DEVICE)\n",
    "    if re.match(r\"valid\", mode, re.IGNORECASE):\n",
    "        for X, _ in dataloader:\n",
    "            X = X.to(DEVICE)\n",
    "            with torch.no_grad():\n",
    "                output = model(X)\n",
    "            y_pred = torch.cat((y_pred, output.view(-1, 1)), dim=0)\n",
    "    elif re.match(r\"test\", mode, re.IGNORECASE):\n",
    "        for X in dataloader:\n",
    "            X = X.to(DEVICE)\n",
    "            with torch.no_grad():\n",
    "                output = model(X)\n",
    "            y_pred = torch.cat((y_pred, output.view(-1, 1)), dim=0)\n",
    "    \n",
    "    return y_pred[1:].detach().cpu().numpy()"
   ]
  },
  {
   "cell_type": "markdown",
   "id": "1a57cd06",
   "metadata": {
    "papermill": {
     "duration": 0.010399,
     "end_time": "2021-10-16T04:26:13.332175",
     "exception": false,
     "start_time": "2021-10-16T04:26:13.321776",
     "status": "completed"
    },
    "tags": []
   },
   "source": [
    "## Submit"
   ]
  },
  {
   "cell_type": "code",
   "execution_count": 8,
   "id": "746720bd",
   "metadata": {
    "execution": {
     "iopub.execute_input": "2021-10-16T04:26:13.362767Z",
     "iopub.status.busy": "2021-10-16T04:26:13.361193Z",
     "iopub.status.idle": "2021-10-16T04:26:13.363391Z",
     "shell.execute_reply": "2021-10-16T04:26:13.363813Z",
     "shell.execute_reply.started": "2021-10-14T21:40:35.153711Z"
    },
    "papermill": {
     "duration": 0.021468,
     "end_time": "2021-10-16T04:26:13.363931",
     "exception": false,
     "start_time": "2021-10-16T04:26:13.342463",
     "status": "completed"
    },
    "tags": []
   },
   "outputs": [],
   "source": [
    "def submit():\n",
    "    ts_filenames = get_filenames(PATH)\n",
    "    filenames, targets = get_filenames_and_targets(PATH)\n",
    "    \n",
    "    Model = build_model(IL=NUM_FEATURES, seed=SEED)\n",
    "    \n",
    "    breaker()\n",
    "    print(\"Making Predictions on Test Features ...\")\n",
    "    breaker()\n",
    "    \n",
    "    fold = 1\n",
    "    final_y_pred = np.zeros((len(ts_filenames), 1))\n",
    "    for tr_idx, va_idx in KFold(n_splits=NUM_FOLDS, shuffle=True, random_state=SEED).split(filenames):\n",
    "        print(\"Processing Fold {} ...\".format(fold))\n",
    "        \n",
    "        tr_targets = targets[tr_idx]\n",
    "        tr_targets = tr_targets.reshape(-1, 1)\n",
    "        tr_targets = sc_y.fit_transform(tr_targets)\n",
    "        \n",
    "        ts_data_setup = DS(base_path=os.path.join(PATH, \"test\"), \n",
    "                           filenames=ts_filenames, \n",
    "                           image_size=IMAGE_SIZE, \n",
    "                           transform=TRANSFORM)\n",
    "        ts_data = DL(ts_data_setup, batch_size=64, shuffle=False)\n",
    "        \n",
    "        y_pred = predict_batch(model=Model, dataloader=ts_data, mode=\"test\",\n",
    "                               path=os.path.join(STATE_PATH, \"Fold_{}_state.pt\".format(fold)))\n",
    "        y_pred = sc_y.inverse_transform(y_pred)\n",
    "        \n",
    "        final_y_pred += y_pred\n",
    "        fold += 1\n",
    "    \n",
    "    final_y_pred = final_y_pred / NUM_FOLDS\n",
    "    \n",
    "    breaker()\n",
    "    print(\"Generating Submission File ...\")\n",
    "    make_submission(PATH, final_y_pred)\n",
    "    breaker()"
   ]
  },
  {
   "cell_type": "code",
   "execution_count": 9,
   "id": "492e3072",
   "metadata": {
    "execution": {
     "iopub.execute_input": "2021-10-16T04:26:13.388293Z",
     "iopub.status.busy": "2021-10-16T04:26:13.387814Z",
     "iopub.status.idle": "2021-10-16T04:26:41.205058Z",
     "shell.execute_reply": "2021-10-16T04:26:41.204577Z",
     "shell.execute_reply.started": "2021-10-14T21:40:35.414117Z"
    },
    "papermill": {
     "duration": 27.830759,
     "end_time": "2021-10-16T04:26:41.205202",
     "exception": false,
     "start_time": "2021-10-16T04:26:13.374443",
     "status": "completed"
    },
    "tags": []
   },
   "outputs": [
    {
     "name": "stdout",
     "output_type": "stream",
     "text": [
      "\n",
      "**************************************************\n",
      "\n",
      "Making Predictions on Test Features ...\n",
      "\n",
      "**************************************************\n",
      "\n",
      "Processing Fold 1 ...\n",
      "Processing Fold 2 ...\n",
      "Processing Fold 3 ...\n",
      "Processing Fold 4 ...\n",
      "Processing Fold 5 ...\n",
      "Processing Fold 6 ...\n",
      "Processing Fold 7 ...\n",
      "Processing Fold 8 ...\n",
      "Processing Fold 9 ...\n",
      "Processing Fold 10 ...\n",
      "\n",
      "**************************************************\n",
      "\n",
      "Generating Submission File ...\n",
      "\n",
      "**************************************************\n",
      "\n"
     ]
    }
   ],
   "source": [
    "submit()"
   ]
  },
  {
   "cell_type": "markdown",
   "id": "9c80cbde",
   "metadata": {
    "papermill": {
     "duration": 0.01376,
     "end_time": "2021-10-16T04:26:41.232894",
     "exception": false,
     "start_time": "2021-10-16T04:26:41.219134",
     "status": "completed"
    },
    "tags": []
   },
   "source": [
    "## End"
   ]
  },
  {
   "cell_type": "code",
   "execution_count": 10,
   "id": "09031de4",
   "metadata": {
    "execution": {
     "iopub.execute_input": "2021-10-16T04:26:41.264953Z",
     "iopub.status.busy": "2021-10-16T04:26:41.264362Z",
     "iopub.status.idle": "2021-10-16T04:26:41.267997Z",
     "shell.execute_reply": "2021-10-16T04:26:41.268583Z"
    },
    "papermill": {
     "duration": 0.022449,
     "end_time": "2021-10-16T04:26:41.268764",
     "exception": false,
     "start_time": "2021-10-16T04:26:41.246315",
     "status": "completed"
    },
    "tags": []
   },
   "outputs": [
    {
     "name": "stdout",
     "output_type": "stream",
     "text": [
      "\n",
      "**************************************************\n",
      "\n",
      "Notebook Rumtime : 0.51 minutes\n",
      "\n",
      "**************************************************\n",
      "\n"
     ]
    }
   ],
   "source": [
    "breaker()\n",
    "print(\"Notebook Rumtime : {:.2f} minutes\".format((time() - notebook_start_time)/60))\n",
    "breaker()"
   ]
  }
 ],
 "metadata": {
  "kernelspec": {
   "display_name": "Python 3",
   "language": "python",
   "name": "python3"
  },
  "language_info": {
   "codemirror_mode": {
    "name": "ipython",
    "version": 3
   },
   "file_extension": ".py",
   "mimetype": "text/x-python",
   "name": "python",
   "nbconvert_exporter": "python",
   "pygments_lexer": "ipython3",
   "version": "3.7.10"
  },
  "papermill": {
   "default_parameters": {},
   "duration": 38.989638,
   "end_time": "2021-10-16T04:26:42.493134",
   "environment_variables": {},
   "exception": null,
   "input_path": "__notebook__.ipynb",
   "output_path": "__notebook__.ipynb",
   "parameters": {},
   "start_time": "2021-10-16T04:26:03.503496",
   "version": "2.3.3"
  }
 },
 "nbformat": 4,
 "nbformat_minor": 5
}
