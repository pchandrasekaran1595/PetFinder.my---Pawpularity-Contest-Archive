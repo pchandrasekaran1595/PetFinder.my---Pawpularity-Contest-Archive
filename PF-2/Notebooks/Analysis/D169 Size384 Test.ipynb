{
  "nbformat": 4,
  "nbformat_minor": 0,
  "metadata": {
    "colab": {
      "name": "PF - D169 Size384 Test",
      "provenance": [],
      "collapsed_sections": []
    },
    "kernelspec": {
      "name": "python3",
      "display_name": "Python 3"
    },
    "language_info": {
      "name": "python"
    },
    "accelerator": "GPU"
  },
  "cells": [
    {
      "cell_type": "markdown",
      "metadata": {
        "id": "_pV9txNxsry2"
      },
      "source": [
        "## Get Data"
      ]
    },
    {
      "cell_type": "code",
      "metadata": {
        "id": "Pi3g-8icsjyp"
      },
      "source": [
        "from IPython.display import clear_output\n",
        "from google.colab import files\n",
        "files.upload()\n",
        "\n",
        "!pip install -q kaggle\n",
        "!mkdir -p ~/.kaggle\n",
        "!cp kaggle.json ~/.kaggle/\n",
        "!ls ~/.kaggle\n",
        "!chmod 600 /root/.kaggle/kaggle.json\n",
        "\n",
        "!kaggle datasets download -d jackstapleton/petfinder-images384\n",
        "\n",
        "!mkdir ~/.data\n",
        "!unzip -q petfinder-images384.zip -d /.data\n",
        "\n",
        "clear_output()"
      ],
      "execution_count": 1,
      "outputs": []
    },
    {
      "cell_type": "code",
      "metadata": {
        "id": "nBqJfPFksuOs"
      },
      "source": [
        "from google.colab import drive\n",
        "drive.mount(\"/content/gdrive\")\n",
        "\n",
        "clear_output()"
      ],
      "execution_count": 2,
      "outputs": []
    },
    {
      "cell_type": "markdown",
      "metadata": {
        "id": "9S1AltnasySC"
      },
      "source": [
        "## Library Imports"
      ]
    },
    {
      "cell_type": "code",
      "metadata": {
        "id": "oRSittVps0Kf"
      },
      "source": [
        "import os\n",
        "import re\n",
        "import gc\n",
        "import pickle\n",
        "import random as r\n",
        "import numpy as np\n",
        "import pandas as pd\n",
        "import matplotlib.pyplot as plt\n",
        "\n",
        "import torch\n",
        "from torch import nn, optim\n",
        "from torch.utils.data import Dataset\n",
        "from torch.utils.data import DataLoader as DL\n",
        "from torch.nn.utils import weight_norm as WN\n",
        "from torchvision import models, transforms\n",
        "\n",
        "from time import time\n",
        "from sklearn.model_selection import KFold\n",
        "from sklearn.metrics import mean_squared_error\n",
        "from sklearn.preprocessing import StandardScaler\n",
        "\n",
        "import warnings\n",
        "warnings.filterwarnings(\"ignore\")"
      ],
      "execution_count": 3,
      "outputs": []
    },
    {
      "cell_type": "markdown",
      "metadata": {
        "id": "0Jbqo7uUs0e7"
      },
      "source": [
        "## Constants and Utilities"
      ]
    },
    {
      "cell_type": "code",
      "metadata": {
        "id": "Fppf0X-Hs2lT"
      },
      "source": [
        "SEED = 49\n",
        "DEVICE = torch.device(\"cuda\" if torch.cuda.is_available() else \"cpu\")\n",
        "PATH = \"/.data\"\n",
        "NUM_FEATURES = 1664\n",
        "TRANSFORM = transforms.Compose([transforms.ToTensor(),\n",
        "                                transforms.Normalize([0.485, 0.456, 0.406],\n",
        "                                                     [0.229, 0.224, 0.225]),\n",
        "                                ])\n",
        "\n",
        "verbose = False\n",
        "DEBUG = False\n",
        "\n",
        "sc_y = StandardScaler()"
      ],
      "execution_count": 4,
      "outputs": []
    },
    {
      "cell_type": "code",
      "metadata": {
        "id": "YoKISEWgs3qw"
      },
      "source": [
        "def breaker(num=50, char=\"*\") -> None:\n",
        "    print(\"\\n\" + num*char + \"\\n\")\n",
        "\n",
        "\n",
        "def get_targets() -> np.ndarray:\n",
        "    df = pd.read_csv(\"/content/gdrive/My Drive/train.csv\", engine=\"python\")\n",
        "    targets = df[\"Pawpularity\"].copy().values\n",
        "    return targets.reshape(-1, 1)\n",
        "\n",
        "\n",
        "def show_graphs(L: list, title=None) -> None:\n",
        "    TL, VL = [], []\n",
        "    for i in range(len(L)):\n",
        "        TL.append(L[i][\"train\"])\n",
        "        VL.append(L[i][\"valid\"])\n",
        "    x_Axis = np.arange(1, len(L) + 1)\n",
        "    plt.figure()\n",
        "    plt.plot(x_Axis, TL, \"r\", label=\"train\")\n",
        "    plt.plot(x_Axis, VL, \"b\", label=\"valid\")\n",
        "    plt.grid()\n",
        "    plt.legend()\n",
        "    if title:\n",
        "        plt.title(\"{} Loss\".format(title))\n",
        "    else:\n",
        "        plt.title(\"Loss\")\n",
        "    plt.show()"
      ],
      "execution_count": 5,
      "outputs": []
    },
    {
      "cell_type": "markdown",
      "metadata": {
        "id": "cRzNlfKws37l"
      },
      "source": [
        "## Dataset Templates and Build DataLoaders"
      ]
    },
    {
      "cell_type": "code",
      "metadata": {
        "id": "lJGiS3bis51R"
      },
      "source": [
        "class ImageDS(Dataset):\n",
        "    def __init__(self, images: np.ndarray, transform=None):\n",
        "        self.images = images\n",
        "        self.transform = transform\n",
        "    \n",
        "    def __len__(self):\n",
        "        return self.images.shape[0]\n",
        "    \n",
        "    def __getitem__(self, idx):\n",
        "        return self.transform(self.images[idx])\n",
        "\n",
        "\n",
        "class FeatureDS(Dataset):\n",
        "    def __init__(self, features=None, targets=None):\n",
        "        self.features = features\n",
        "        self.targets = targets\n",
        "\n",
        "    def __len__(self):\n",
        "        return self.features.shape[0]\n",
        "    \n",
        "    def __getitem__(self, idx):\n",
        "        return torch.FloatTensor(self.features[idx]), torch.FloatTensor(self.targets[idx])\n",
        "    \n",
        "##################################################################################################################################\n",
        "\n",
        "def build_image_dataloader(images: np.ndarray, transform=None):\n",
        "    \n",
        "    if verbose:\n",
        "        breaker()\n",
        "        print(\"Building Image DataLoaders ...\")\n",
        "\n",
        "    data_setup = ImageDS(images=images, transform=transform)\n",
        "    data = DL(data_setup, batch_size=128, shuffle=False)\n",
        "\n",
        "    return data\n",
        "\n",
        "\n",
        "def build_feature_dataloaders(tr_features: np.ndarray, va_features: np.ndarray,\n",
        "                              tr_targets: np.ndarray, va_targets: np.ndarray,\n",
        "                              batch_size: int, seed: int):\n",
        "\n",
        "    if verbose:\n",
        "        breaker()\n",
        "        print(\"Building Train and Validation DataLoaders ...\")\n",
        "    \n",
        "    tr_data_setup = FeatureDS(features=tr_features, targets=tr_targets)\n",
        "    va_data_setup = FeatureDS(features=va_features, targets=va_targets)\n",
        "    \n",
        "    dataloaders = {\n",
        "        \"train\" : DL(tr_data_setup, batch_size=batch_size, shuffle=True, generator=torch.manual_seed(seed)),\n",
        "        \"valid\" : DL(va_data_setup, batch_size=batch_size, shuffle=False)\n",
        "    }\n",
        "    \n",
        "    return dataloaders"
      ],
      "execution_count": 6,
      "outputs": []
    },
    {
      "cell_type": "markdown",
      "metadata": {
        "id": "QGZiPDeWv5zk"
      },
      "source": [
        "## Build Models"
      ]
    },
    {
      "cell_type": "code",
      "metadata": {
        "id": "S4xhd7z0tQRZ"
      },
      "source": [
        "def build_vision_model():\n",
        "    class Model(nn.Module):\n",
        "        def __init__(self):\n",
        "            super(Model, self).__init__()\n",
        "            self.features = models.densenet169(pretrained=True, progress=False)\n",
        "            self.freeze()\n",
        "            self.features = nn.Sequential(*[*self.features.children()][:-1])\n",
        "            self.features.add_module(\"Adaptive Average Pool\", nn.AdaptiveAvgPool2d(output_size=(1, 1)))\n",
        "            self.features.add_module(\"Flatten\", nn.Flatten())\n",
        "        \n",
        "        def freeze(self):\n",
        "            for params in self.parameters():\n",
        "                params.requires_grad = False\n",
        "        \n",
        "        def forward(self, x):\n",
        "            return self.features(x)\n",
        "        \n",
        "    model = Model()\n",
        "    return model\n",
        "\n",
        "\n",
        "def build_ann_model(IL: int, seed: int):\n",
        "    class Model(nn.Module):\n",
        "        def __init__(self, IL=None):\n",
        "            super(Model, self).__init__()\n",
        "\n",
        "            self.predictor = nn.Sequential()\n",
        "            self.predictor.add_module(\"BN\", nn.BatchNorm1d(num_features=IL, eps=1e-5))\n",
        "            self.predictor.add_module(\"FC\", nn.Linear(in_features=IL, out_features=1))\n",
        "        \n",
        "        def get_optimizer(self, lr=1e-3, wd=0):\n",
        "            params = [p for p in self.parameters() if p.requires_grad]\n",
        "            return optim.Adam(params, lr=lr, weight_decay=wd)\n",
        "\n",
        "        def get_plateau_scheduler(self, optimizer=None, patience=5, eps=1e-8):\n",
        "            return optim.lr_scheduler.ReduceLROnPlateau(optimizer=optimizer, patience=patience, eps=eps, verbose=True)\n",
        "        \n",
        "        def forward(self, x1, x2=None):\n",
        "            if x2 is not None:\n",
        "                return self.predictor(x1), self.predictor(x2)\n",
        "            else:\n",
        "                return self.predictor(x1)\n",
        "            \n",
        "    torch.manual_seed(seed)    \n",
        "    model = Model(IL=IL)\n",
        "\n",
        "    return model"
      ],
      "execution_count": 7,
      "outputs": []
    },
    {
      "cell_type": "markdown",
      "metadata": {
        "id": "EFGVpSd0xMGk"
      },
      "source": [
        "## Fit, Predict, Get Features"
      ]
    },
    {
      "cell_type": "code",
      "metadata": {
        "id": "f8FjsYLdxOk_"
      },
      "source": [
        "def fit(model=None, optimizer=None, scheduler=None, \n",
        "        epochs=None, early_stopping_patience=None,\n",
        "        dataloaders=None, fold=None, verbose=False) -> tuple:\n",
        "    \n",
        "    name = \"./Fold_{}_state.pt\".format(fold)\n",
        "    \n",
        "    if verbose:\n",
        "        breaker()\n",
        "        print(\"Training Fold {}...\".format(fold))\n",
        "        breaker()\n",
        "    else:\n",
        "        print(\"Training Fold {}...\".format(fold))\n",
        "\n",
        "    Losses = []\n",
        "    bestLoss = {\"train\" : np.inf, \"valid\" : np.inf}\n",
        "\n",
        "    start_time = time()\n",
        "    for e in range(epochs):\n",
        "        e_st = time()\n",
        "        epochLoss = {\"train\" : np.inf, \"valid\" : np.inf}\n",
        "\n",
        "        for phase in [\"train\", \"valid\"]:\n",
        "            if phase == \"train\":\n",
        "                model.train()\n",
        "            else:\n",
        "                model.eval()\n",
        "            \n",
        "            lossPerPass = []\n",
        "\n",
        "            for X, y in dataloaders[phase]:\n",
        "                X, y = X.to(DEVICE), y.to(DEVICE)\n",
        "\n",
        "                optimizer.zero_grad()\n",
        "                with torch.set_grad_enabled(phase == \"train\"):\n",
        "                    output = model(X)\n",
        "                    loss = torch.nn.MSELoss()(output, y)\n",
        "                    if phase == \"train\":\n",
        "                        loss.backward()\n",
        "                        optimizer.step()\n",
        "                lossPerPass.append(loss.item())\n",
        "            epochLoss[phase] = np.mean(np.array(lossPerPass))\n",
        "        Losses.append(epochLoss)\n",
        "\n",
        "        if early_stopping_patience:\n",
        "            if epochLoss[\"valid\"] < bestLoss[\"valid\"]:\n",
        "                bestLoss = epochLoss\n",
        "                BLE = e + 1\n",
        "                torch.save({\"model_state_dict\": model.state_dict(),\n",
        "                            \"optim_state_dict\": optimizer.state_dict()},\n",
        "                           name)\n",
        "                early_stopping_step = 0\n",
        "            else:\n",
        "                early_stopping_step += 1\n",
        "                if early_stopping_step > early_stopping_patience:\n",
        "                    if verbose:\n",
        "                        print(\"\\nEarly Stopping at Epoch {}\".format(e))\n",
        "                    break\n",
        "        \n",
        "        if epochLoss[\"valid\"] < bestLoss[\"valid\"]:\n",
        "            bestLoss = epochLoss\n",
        "            BLE = e + 1\n",
        "            torch.save({\"model_state_dict\": model.state_dict(),\n",
        "                        \"optim_state_dict\": optimizer.state_dict()},\n",
        "                       name)\n",
        "        \n",
        "        if scheduler:\n",
        "            scheduler.step(epochLoss[\"valid\"])\n",
        "        \n",
        "        if verbose:\n",
        "            print(\"Epoch: {} | Train Loss: {:.5f} | Valid Loss: {:.5f} | Time: {:.2f} seconds\".format(e+1, epochLoss[\"train\"], epochLoss[\"valid\"], time()-e_st))\n",
        "    \n",
        "    if verbose:\n",
        "        breaker()\n",
        "        print(\"Best Validation Loss at Epoch {}\".format(BLE))\n",
        "        breaker()\n",
        "        print(\"Time Taken [{} Epochs] : {:.2f} minutes\".format(len(Losses), (time()-start_time)/60))\n",
        "        breaker()\n",
        "        print(\"Training Completed\")\n",
        "        breaker()\n",
        "\n",
        "    return Losses, BLE, name\n",
        "\n",
        "#####################################################################################################\n",
        "\n",
        "def predict_batch(model=None, dataloader=None, mode=\"test\", path=None) -> np.ndarray:    \n",
        "    model.load_state_dict(torch.load(path, map_location=DEVICE)[\"model_state_dict\"])\n",
        "    model.to(DEVICE)\n",
        "    model.eval()\n",
        "\n",
        "    y_pred = torch.zeros(1, 1).to(DEVICE)\n",
        "    if re.match(r\"valid\", mode, re.IGNORECASE):\n",
        "        for X, _ in dataloader:\n",
        "            X = X.to(DEVICE)\n",
        "            with torch.no_grad():\n",
        "                output = model(X)\n",
        "            y_pred = torch.cat((y_pred, output.view(-1, 1)), dim=0)\n",
        "    elif re.match(r\"test\", mode, re.IGNORECASE):\n",
        "        for X in dataloader:\n",
        "            X = X.to(DEVICE)\n",
        "            with torch.no_grad():\n",
        "                output = model(X)\n",
        "            y_pred = torch.cat((y_pred, output.view(-1, 1)), dim=0)\n",
        "    \n",
        "    return y_pred[1:].detach().cpu().numpy()\n",
        "\n",
        "#####################################################################################################\n",
        "\n",
        "def get_features(images: np.ndarray, num_features: int):\n",
        "    dataloader = build_image_dataloader(images=images, transform=TRANSFORM)\n",
        "    model = build_vision_model()\n",
        "    model.to(DEVICE)\n",
        "    model.eval()\n",
        "\n",
        "    features = torch.zeros(1, num_features).to(DEVICE)\n",
        "    for X in dataloader:\n",
        "        X = X.to(DEVICE)\n",
        "        with torch.no_grad():\n",
        "            output = model(X)\n",
        "        features = torch.cat((features, output.view(-1, num_features)), dim=0)\n",
        "    \n",
        "    return features[1:].detach().cpu().numpy()"
      ],
      "execution_count": 8,
      "outputs": []
    },
    {
      "cell_type": "markdown",
      "metadata": {
        "id": "vFnINF34x1ZU"
      },
      "source": [
        "## Train"
      ]
    },
    {
      "cell_type": "code",
      "metadata": {
        "id": "8Nmd8hFFx0_0"
      },
      "source": [
        "def train(features: np.ndarray, targets: np.ndarray, n_splits: int, \n",
        "          batch_size: int, lr: float, wd: float, \n",
        "          epochs: int, early_stopping: int,\n",
        "          patience=None, eps=None) -> list:        \n",
        "    \n",
        "    metrics = []\n",
        "        \n",
        "    KFold_start_time = time()\n",
        "    breaker()\n",
        "    print(\"Performing {} Fold CV ...\".format(n_splits))\n",
        "    breaker()\n",
        "    fold = 1\n",
        "    for tr_idx, va_idx in KFold(n_splits=n_splits, shuffle=True, random_state=SEED).split(features):\n",
        "        tr_features, va_features = features[tr_idx], features[va_idx]\n",
        "        tr_targets, va_targets   = targets[tr_idx], targets[va_idx]\n",
        "\n",
        "        tr_targets = sc_y.fit_transform(tr_targets)\n",
        "        va_targets = sc_y.transform(va_targets)\n",
        "\n",
        "        dataloaders = build_feature_dataloaders(tr_features, va_features,\n",
        "                                                tr_targets, va_targets, \n",
        "                                                batch_size, SEED)\n",
        "        model = build_ann_model(IL=tr_features.shape[1], seed=SEED).to(DEVICE)\n",
        "        optimizer = model.get_optimizer(lr=lr, wd=wd)\n",
        "        scheduler = None\n",
        "        if isinstance(patience, int) and isinstance(eps, float):\n",
        "            scheduler = model.get_plateau_scheduler(optimizer, patience, eps)\n",
        "\n",
        "        L, _, name = fit(model=model, optimizer=optimizer, scheduler=scheduler, \n",
        "                         epochs=epochs, early_stopping_patience=early_stopping,\n",
        "                         dataloaders=dataloaders, fold=fold, verbose=verbose)\n",
        "        y_pred = predict_batch(model=model, dataloader=dataloaders[\"valid\"], mode=\"valid\", path=name)\n",
        "        RMSE = np.sqrt(mean_squared_error(sc_y.inverse_transform(y_pred), sc_y.inverse_transform(va_targets)))\n",
        "        if verbose:\n",
        "            print(\"\\nValidation RMSE [Fold {}]: {:.5f}\".format(fold, RMSE))\n",
        "            breaker()\n",
        "            show_graphs(L)\n",
        "        \n",
        "        metrics_dict = {\"Fold\" : fold, \"RMSE\" : RMSE}\n",
        "        metrics.append(metrics_dict)\n",
        "\n",
        "        fold += 1\n",
        "    \n",
        "    breaker()\n",
        "    print(\"Total Time to {} Fold CV : {:.2f} minutes\".format(n_splits, (time() - KFold_start_time)/60))\n",
        "    \n",
        "    return metrics, (time() - KFold_start_time)/60"
      ],
      "execution_count": 9,
      "outputs": []
    },
    {
      "cell_type": "markdown",
      "metadata": {
        "id": "oR2mp4HEyHeg"
      },
      "source": [
        "## Main"
      ]
    },
    {
      "cell_type": "code",
      "metadata": {
        "id": "HyL8yA1WyIh0"
      },
      "source": [
        "def main():\n",
        "    \n",
        "    breaker()\n",
        "    print(\"Clean Memory , {} Objects Collected ...\".format(gc.collect()))\n",
        "\n",
        "    ########### Params ###########\n",
        "    \n",
        "    if DEBUG:\n",
        "        n_splits = 3\n",
        "        patience, eps = 5, 1e-8\n",
        "        epochs, early_stopping = 5, 5\n",
        "\n",
        "        batch_size = 128\n",
        "        lr = 5e-4\n",
        "        wd = 1e-1\n",
        "    else:\n",
        "        n_splits = 10\n",
        "        patience, eps = 5, 1e-8\n",
        "        epochs, early_stopping = 100, 8\n",
        "\n",
        "        batch_size = 128\n",
        "        lr = 5e-4\n",
        "        wd = 1e-1\n",
        "    \n",
        "    ##############################\n",
        "\n",
        "    if verbose:\n",
        "        breaker()\n",
        "        print(\"Loading Data ...\")\n",
        "    \n",
        "    \n",
        "    feature_start_time = time()\n",
        "    images = np.load(os.path.join(PATH, \"Images_384x384.npy\"))\n",
        "\n",
        "    if verbose:\n",
        "        breaker()\n",
        "        print(\"Obtaining Densenet169 Features ...\")\n",
        "        \n",
        "    features = get_features(images, NUM_FEATURES)\n",
        "    breaker()\n",
        "    print(\"Time Taken to obtain features : {:.2f} minutes\".format((time()-feature_start_time)/60))\n",
        "    \n",
        "    targets  = get_targets()\n",
        "\n",
        "    # Without Scheduler\n",
        "    metrics, _ = train(features, targets, n_splits, batch_size, lr, wd, epochs, early_stopping, patience=None, eps=None)\n",
        "\n",
        "    # # With Plateau Scheduler\n",
        "    # metrics, _ = train(features, targets, n_splits, batch_size, lr, wd, epochs, early_stopping, patience=patience, eps=eps)\n",
        "\n",
        "    rmse = []\n",
        "    breaker()\n",
        "    for i in range(len(metrics)):\n",
        "        print(\"Fold {}, RMSE: {:.5f}\".format(metrics[i][\"Fold\"], metrics[i][\"RMSE\"]))\n",
        "        rmse.append(metrics[i][\"RMSE\"])\n",
        "    \n",
        "    best_index = rmse.index(min(rmse))\n",
        "    breaker()\n",
        "    print(\"Best RMSE : {:.5f}\".format(metrics[best_index][\"RMSE\"]))\n",
        "    print(\"Avg RMSE  : {:.5f}\".format(sum(rmse) / len(rmse)))\n",
        "    breaker()\n",
        "\n",
        "    with open(\"metrics.pkl\", \"wb\") as fp:\n",
        "        pickle.dump(metrics, fp)"
      ],
      "execution_count": 10,
      "outputs": []
    },
    {
      "cell_type": "code",
      "metadata": {
        "colab": {
          "base_uri": "https://localhost:8080/"
        },
        "id": "Af3jHaiPzZ8c",
        "outputId": "99827da5-29df-4364-b003-2e8733916753"
      },
      "source": [
        "main()"
      ],
      "execution_count": 11,
      "outputs": [
        {
          "output_type": "stream",
          "name": "stdout",
          "text": [
            "\n",
            "**************************************************\n",
            "\n",
            "Clean Memory , 150 Objects Collected ...\n"
          ]
        },
        {
          "output_type": "stream",
          "name": "stderr",
          "text": [
            "Downloading: \"https://download.pytorch.org/models/densenet169-b2777c0a.pth\" to /root/.cache/torch/hub/checkpoints/densenet169-b2777c0a.pth\n"
          ]
        },
        {
          "output_type": "stream",
          "name": "stdout",
          "text": [
            "\n",
            "**************************************************\n",
            "\n",
            "Time Taken to obtain features : 5.85 minutes\n",
            "\n",
            "**************************************************\n",
            "\n",
            "Performing 10 Fold CV ...\n",
            "\n",
            "**************************************************\n",
            "\n",
            "Training Fold 1...\n",
            "Training Fold 2...\n",
            "Training Fold 3...\n",
            "Training Fold 4...\n",
            "Training Fold 5...\n",
            "Training Fold 6...\n",
            "Training Fold 7...\n",
            "Training Fold 8...\n",
            "Training Fold 9...\n",
            "Training Fold 10...\n",
            "\n",
            "**************************************************\n",
            "\n",
            "Total Time to 10 Fold CV : 1.27 minutes\n",
            "\n",
            "**************************************************\n",
            "\n",
            "Fold 1, RMSE: 18.48345\n",
            "Fold 2, RMSE: 18.43545\n",
            "Fold 3, RMSE: 19.02981\n",
            "Fold 4, RMSE: 17.62420\n",
            "Fold 5, RMSE: 19.28119\n",
            "Fold 6, RMSE: 18.65185\n",
            "Fold 7, RMSE: 18.94550\n",
            "Fold 8, RMSE: 16.91902\n",
            "Fold 9, RMSE: 18.23608\n",
            "Fold 10, RMSE: 18.10515\n",
            "\n",
            "**************************************************\n",
            "\n",
            "Best RMSE : 16.91902\n",
            "Avg RMSE  : 18.37117\n",
            "\n",
            "**************************************************\n",
            "\n"
          ]
        }
      ]
    }
  ]
}