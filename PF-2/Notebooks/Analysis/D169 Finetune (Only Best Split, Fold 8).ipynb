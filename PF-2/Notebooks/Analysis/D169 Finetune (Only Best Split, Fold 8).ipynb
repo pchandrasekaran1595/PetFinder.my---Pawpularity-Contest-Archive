{
  "nbformat": 4,
  "nbformat_minor": 0,
  "metadata": {
    "colab": {
      "name": "PF - Finetune D169 (Only Best Split Data, Fold 8).ipynb",
      "provenance": []
    },
    "kernelspec": {
      "name": "python3",
      "display_name": "Python 3"
    },
    "language_info": {
      "name": "python"
    },
    "accelerator": "GPU"
  },
  "cells": [
    {
      "cell_type": "markdown",
      "metadata": {
        "id": "fbBRdxRO7e3S"
      },
      "source": [
        "1. **Combines a pretrained Densenet169 Model with the Final Layer trained seperately.**\n",
        "\n",
        "2. **Final Layer weights are loaded into the model and then entire model is trained.**\n"
      ]
    },
    {
      "cell_type": "markdown",
      "metadata": {
        "id": "oxBVKIs7zbAU"
      },
      "source": [
        "## Get Data"
      ]
    },
    {
      "cell_type": "code",
      "metadata": {
        "id": "wdCKIRnFzJAk"
      },
      "source": [
        "from IPython.display import clear_output\n",
        "from google.colab import files\n",
        "files.upload()\n",
        "\n",
        "!pip install -q kaggle\n",
        "!mkdir -p ~/.kaggle\n",
        "!cp kaggle.json ~/.kaggle/\n",
        "!ls ~/.kaggle\n",
        "!chmod 600 /root/.kaggle/kaggle.json\n",
        "\n",
        "!kaggle datasets download -d jackstapleton/petfinder-pretrained-images-nocrop\n",
        "\n",
        "!mkdir ~/.data\n",
        "!unzip -q petfinder-pretrained-images-nocrop.zip -d /.data\n",
        "\n",
        "clear_output()"
      ],
      "execution_count": 1,
      "outputs": []
    },
    {
      "cell_type": "code",
      "metadata": {
        "id": "vAcY29SW3mRO"
      },
      "source": [
        "from google.colab import drive\n",
        "drive.mount(\"/content/gdrive\")\n",
        "\n",
        "clear_output()"
      ],
      "execution_count": 2,
      "outputs": []
    },
    {
      "cell_type": "markdown",
      "metadata": {
        "id": "jRO1nmX73yxE"
      },
      "source": [
        "## Library Imports"
      ]
    },
    {
      "cell_type": "code",
      "metadata": {
        "id": "Ujg_cbzw30XF"
      },
      "source": [
        "import os\n",
        "import re\n",
        "import gc\n",
        "import pickle\n",
        "import random as r\n",
        "import numpy as np\n",
        "import pandas as pd\n",
        "import matplotlib.pyplot as plt\n",
        "\n",
        "import torch\n",
        "from torch import nn, optim\n",
        "from torch.utils.data import Dataset\n",
        "from torch.utils.data import DataLoader as DL\n",
        "from torch.nn.utils import weight_norm as WN\n",
        "from torchvision import models, transforms\n",
        "\n",
        "from time import time\n",
        "from sklearn.model_selection import KFold\n",
        "from sklearn.metrics import mean_squared_error\n",
        "from sklearn.preprocessing import StandardScaler\n",
        "\n",
        "import warnings\n",
        "warnings.filterwarnings(\"ignore\")"
      ],
      "execution_count": 3,
      "outputs": []
    },
    {
      "cell_type": "markdown",
      "metadata": {
        "id": "D7f3Fu1q31oH"
      },
      "source": [
        "## Constants and Utilities"
      ]
    },
    {
      "cell_type": "code",
      "metadata": {
        "id": "5CO2Y8R135S_"
      },
      "source": [
        "SEED = 49\n",
        "DEVICE = torch.device(\"cuda\" if torch.cuda.is_available() else \"cpu\")\n",
        "\n",
        "NUM_FEATURES = 1664\n",
        "TRANSFORM = transforms.Compose([transforms.ToTensor(),\n",
        "                                transforms.Normalize([0.485, 0.456, 0.406],\n",
        "                                                     [0.229, 0.224, 0.225]),\n",
        "                                ])\n",
        "\n",
        "IMAGE_PATH = \"/.data\"\n",
        "STATE_PATH = \"/content/gdrive/My Drive/Temp\"\n",
        "\n",
        "verbose = True\n",
        "DEBUG = False\n",
        "\n",
        "sc_y = StandardScaler()"
      ],
      "execution_count": 4,
      "outputs": []
    },
    {
      "cell_type": "code",
      "metadata": {
        "id": "BrpUJpuR4EHC"
      },
      "source": [
        "def breaker(num=50, char=\"*\") -> None:\n",
        "    print(\"\\n\" + num*char + \"\\n\")\n",
        "\n",
        "\n",
        "def get_targets() -> np.ndarray:\n",
        "    df = pd.read_csv(\"/content/gdrive/My Drive/train.csv\", engine=\"python\")\n",
        "    targets = df[\"Pawpularity\"].copy().values\n",
        "    return targets.reshape(-1, 1)\n",
        "\n",
        "\n",
        "def show_graphs(L: list, title=None) -> None:\n",
        "    TL, VL = [], []\n",
        "    for i in range(len(L)):\n",
        "        TL.append(L[i][\"train\"])\n",
        "        VL.append(L[i][\"valid\"])\n",
        "    x_Axis = np.arange(1, len(L) + 1)\n",
        "    plt.figure()\n",
        "    plt.plot(x_Axis, TL, \"r\", label=\"train\")\n",
        "    plt.plot(x_Axis, VL, \"b\", label=\"valid\")\n",
        "    plt.grid()\n",
        "    plt.legend()\n",
        "    if title:\n",
        "        plt.title(\"{} Loss\".format(title))\n",
        "    else:\n",
        "        plt.title(\"Loss\")\n",
        "    plt.show()"
      ],
      "execution_count": 5,
      "outputs": []
    },
    {
      "cell_type": "markdown",
      "metadata": {
        "id": "1KA-btTd4Iob"
      },
      "source": [
        "## Dataset Template and Build Dataloader"
      ]
    },
    {
      "cell_type": "code",
      "metadata": {
        "id": "raIbkq-_4KY6"
      },
      "source": [
        "class DS(Dataset):\n",
        "    def __init__(self, images=None, targets=None, transform=None):\n",
        "        self.images = images\n",
        "        self.targets = targets\n",
        "        self.transform = transform\n",
        "    \n",
        "    def __len__(self):\n",
        "        return self.images.shape[0]\n",
        "    \n",
        "    def __getitem__(self, idx):\n",
        "        return self.transform(self.images[idx]), torch.FloatTensor(self.targets[idx])\n",
        "\n",
        "\n",
        "def build_dataloaders(tr_images: np.ndarray, va_images: np.ndarray,\n",
        "                              tr_targets: np.ndarray, va_targets: np.ndarray,\n",
        "                              batch_size: int, seed: int, transform=None):\n",
        "\n",
        "    if verbose:\n",
        "        breaker()\n",
        "        print(\"Building Train and Validation DataLoaders ...\")\n",
        "    \n",
        "    tr_data_setup = DS(images=tr_images, targets=tr_targets, transform=transform)\n",
        "    va_data_setup = DS(images=va_images, targets=va_targets, transform=transform)\n",
        "    \n",
        "    dataloaders = {\n",
        "        \"train\" : DL(tr_data_setup, batch_size=batch_size, shuffle=True, generator=torch.manual_seed(seed)),\n",
        "        \"valid\" : DL(va_data_setup, batch_size=batch_size, shuffle=False)\n",
        "    }\n",
        "    \n",
        "    return dataloaders"
      ],
      "execution_count": 6,
      "outputs": []
    },
    {
      "cell_type": "markdown",
      "metadata": {
        "id": "gO-E8pae4zfA"
      },
      "source": [
        "## Build Model"
      ]
    },
    {
      "cell_type": "code",
      "metadata": {
        "id": "zJbYa-Fq41wt"
      },
      "source": [
        "def build_model(IL: int, seed: int, path: str):\n",
        "    class Model(nn.Module):\n",
        "        def __init__(self, IL=None):\n",
        "            super(Model, self).__init__()\n",
        "\n",
        "            self.features = models.densenet169(pretrained=True, progress=False)\n",
        "            self.features = nn.Sequential(*[*self.features.children()][:-1])\n",
        "            self.features.add_module(\"Adaptive Average Pool\", nn.AdaptiveAvgPool2d(output_size=(1, 1)))\n",
        "            self.features.add_module(\"Flatten\", nn.Flatten())\n",
        "\n",
        "            self.predictor = nn.Sequential()\n",
        "            self.predictor.add_module(\"BN\", nn.BatchNorm1d(num_features=IL, eps=1e-5))\n",
        "            self.predictor.add_module(\"FC\", WN(nn.Linear(in_features=IL, out_features=1)))\n",
        "        \n",
        "        def get_optimizer(self, lr=1e-3, wd=0.0):\n",
        "            params = [p for p in self.parameters() if p.requires_grad]\n",
        "            return optim.SGD(params, lr=lr, momentum=0.9, weight_decay=wd)\n",
        "        \n",
        "        def forward(self, x1, x2=None):\n",
        "            if x2 is not None:\n",
        "                x1 = self.features(x1)\n",
        "                x2 = self.features(x2)\n",
        "                return self.predictor(x1), self.predictor(x2)\n",
        "            else:\n",
        "                x1 = self.features(x1)\n",
        "                return self.predictor(x1)\n",
        "\n",
        "    \n",
        "    model = Model(IL=IL)\n",
        "    \n",
        "    pretrained_state_dict = torch.load(path, map_location=DEVICE)[\"model_state_dict\"]\n",
        "    model.predictor.BN.weight = nn.Parameter(pretrained_state_dict[\"predictor.BN.weight\"])\n",
        "    model.predictor.BN.bias = nn.Parameter(pretrained_state_dict[\"predictor.BN.bias\"]) \n",
        "    model.predictor.FC.bias = nn.Parameter(pretrained_state_dict[\"predictor.FC.bias\"])\n",
        "    model.predictor.FC.weight_g = nn.Parameter(pretrained_state_dict[\"predictor.FC.weight_g\"]) \n",
        "    model.predictor.FC.weight_v = nn.Parameter(pretrained_state_dict[\"predictor.FC.weight_v\"]) \n",
        "\n",
        "    return model"
      ],
      "execution_count": 7,
      "outputs": []
    },
    {
      "cell_type": "markdown",
      "metadata": {
        "id": "Q0niMi7JJONc"
      },
      "source": [
        "## Fit and Predict"
      ]
    },
    {
      "cell_type": "code",
      "metadata": {
        "id": "u_CBK6ytJQCm"
      },
      "source": [
        "def fit(model=None, optimizer=None, scheduler=None, \n",
        "        epochs=None, early_stopping_patience=None,\n",
        "        dataloaders=None, verbose=False) -> tuple:\n",
        "    \n",
        "    name = \"./state.pt\"\n",
        "\n",
        "    breaker()\n",
        "    print(\"Training ...\")\n",
        "    breaker()\n",
        "\n",
        "    Losses = []\n",
        "    bestLoss = {\"train\" : np.inf, \"valid\" : np.inf}\n",
        "\n",
        "    start_time = time()\n",
        "    for e in range(epochs):\n",
        "        e_st = time()\n",
        "        epochLoss = {\"train\" : np.inf, \"valid\" : np.inf}\n",
        "\n",
        "        for phase in [\"train\", \"valid\"]:\n",
        "            if phase == \"train\":\n",
        "                model.train()\n",
        "            else:\n",
        "                model.eval()\n",
        "            \n",
        "            lossPerPass = []\n",
        "\n",
        "            for X, y in dataloaders[phase]:\n",
        "                X, y = X.to(DEVICE), y.to(DEVICE)\n",
        "\n",
        "                optimizer.zero_grad()\n",
        "                with torch.set_grad_enabled(phase == \"train\"):\n",
        "                    output = model(X)\n",
        "                    loss = torch.nn.MSELoss()(output, y)\n",
        "                    if phase == \"train\":\n",
        "                        loss.backward()\n",
        "                        optimizer.step()\n",
        "                lossPerPass.append(loss.item())\n",
        "            epochLoss[phase] = np.mean(np.array(lossPerPass))\n",
        "        Losses.append(epochLoss)\n",
        "\n",
        "        if early_stopping_patience:\n",
        "            if epochLoss[\"valid\"] < bestLoss[\"valid\"]:\n",
        "                bestLoss = epochLoss\n",
        "                BLE = e + 1\n",
        "                torch.save({\"model_state_dict\": model.state_dict(),\n",
        "                            \"optim_state_dict\": optimizer.state_dict()},\n",
        "                           name)\n",
        "                early_stopping_step = 0\n",
        "            else:\n",
        "                early_stopping_step += 1\n",
        "                if early_stopping_step > early_stopping_patience:\n",
        "                    if verbose:\n",
        "                        print(\"\\nEarly Stopping at Epoch {}\".format(e))\n",
        "                    break\n",
        "        \n",
        "        if epochLoss[\"valid\"] < bestLoss[\"valid\"]:\n",
        "            bestLoss = epochLoss\n",
        "            BLE = e + 1\n",
        "            torch.save({\"model_state_dict\": model.state_dict(),\n",
        "                        \"optim_state_dict\": optimizer.state_dict()},\n",
        "                       name)\n",
        "        \n",
        "        if scheduler:\n",
        "            scheduler.step(epochLoss[\"valid\"])\n",
        "        \n",
        "        if verbose:\n",
        "            print(\"Epoch: {} | Train Loss: {:.5f} | Valid Loss: {:.5f} | Time: {:.2f} seconds\".format(e+1, epochLoss[\"train\"], epochLoss[\"valid\"], time()-e_st))\n",
        "    \n",
        "    if verbose:\n",
        "        breaker()\n",
        "        print(\"Best Validation Loss at Epoch {}\".format(BLE))\n",
        "        breaker()\n",
        "        print(\"Time Taken [{} Epochs] : {:.2f} minutes\".format(len(Losses), (time()-start_time)/60))\n",
        "        breaker()\n",
        "        print(\"Training Completed\")\n",
        "        breaker()\n",
        "\n",
        "    return Losses, BLE, name\n",
        "\n",
        "#####################################################################################################\n",
        "\n",
        "def predict_batch(model=None, dataloader=None, mode=\"test\", path=None) -> np.ndarray:    \n",
        "    model.load_state_dict(torch.load(path, map_location=DEVICE)[\"model_state_dict\"])\n",
        "    model.to(DEVICE)\n",
        "    model.eval()\n",
        "\n",
        "    y_pred = torch.zeros(1, 1).to(DEVICE)\n",
        "    if re.match(r\"valid\", mode, re.IGNORECASE):\n",
        "        for X, _ in dataloader:\n",
        "            X = X.to(DEVICE)\n",
        "            with torch.no_grad():\n",
        "                output = model(X)\n",
        "            y_pred = torch.cat((y_pred, output.view(-1, 1)), dim=0)\n",
        "    elif re.match(r\"test\", mode, re.IGNORECASE):\n",
        "        for X in dataloader:\n",
        "            X = X.to(DEVICE)\n",
        "            with torch.no_grad():\n",
        "                output = model(X)\n",
        "            y_pred = torch.cat((y_pred, output.view(-1, 1)), dim=0)\n",
        "    \n",
        "    return y_pred[1:].detach().cpu().numpy()"
      ],
      "execution_count": 8,
      "outputs": []
    },
    {
      "cell_type": "markdown",
      "metadata": {
        "id": "UdxevwnmJWKa"
      },
      "source": [
        "# Train"
      ]
    },
    {
      "cell_type": "code",
      "metadata": {
        "id": "WVPG30fTJXhv"
      },
      "source": [
        "def train(images: np.ndarray, targets: np.ndarray, n_splits: int, \n",
        "          batch_size: int, lr: float, wd: float, \n",
        "          epochs: int, early_stopping: int, path: str,\n",
        "          patience=None, eps=None) -> list:        \n",
        "        \n",
        "    fold = 1\n",
        "    for tr_idx, va_idx in KFold(n_splits=n_splits, shuffle=True, random_state=SEED).split(images):\n",
        "        fold += 1\n",
        "        if fold == 8:\n",
        "            break\n",
        "        \n",
        "    tr_images, va_images   = images[tr_idx], images[va_idx]\n",
        "    tr_targets, va_targets = targets[tr_idx], targets[va_idx]\n",
        "\n",
        "    tr_targets = sc_y.fit_transform(tr_targets)\n",
        "    va_targets = sc_y.transform(va_targets)\n",
        "\n",
        "    dataloaders = build_dataloaders(tr_images, va_images, \n",
        "                                    tr_targets, va_targets, \n",
        "                                    batch_size, SEED, \n",
        "                                    transform=TRANSFORM)\n",
        "    model = build_model(IL=NUM_FEATURES, seed=SEED, path=path).to(DEVICE)\n",
        "    optimizer = model.get_optimizer(lr=lr, wd=wd)\n",
        "    scheduler = None\n",
        "    if isinstance(patience, int) and isinstance(eps, float):\n",
        "        scheduler = model.get_plateau_scheduler(optimizer, patience, eps)\n",
        "\n",
        "    L, _, name = fit(model=model, optimizer=optimizer, scheduler=scheduler, \n",
        "                     epochs=epochs, early_stopping_patience=early_stopping,\n",
        "                     dataloaders=dataloaders, verbose=verbose)\n",
        "    y_pred = predict_batch(model=model, dataloader=dataloaders[\"valid\"], mode=\"valid\", path=name)\n",
        "    RMSE = np.sqrt(mean_squared_error(sc_y.inverse_transform(y_pred), sc_y.inverse_transform(va_targets)))\n",
        "    if verbose:\n",
        "        print(\"Validation RMSE : {:.5f}\".format(RMSE))\n",
        "        breaker()\n",
        "        show_graphs(L)"
      ],
      "execution_count": 9,
      "outputs": []
    },
    {
      "cell_type": "markdown",
      "metadata": {
        "id": "yBUy00LcKG_I"
      },
      "source": [
        "## Main"
      ]
    },
    {
      "cell_type": "code",
      "metadata": {
        "id": "WQYu9Db6KITD"
      },
      "source": [
        "def main():\n",
        "    breaker()\n",
        "    print(\"Clean Memory , {} Objects Collected ...\".format(gc.collect()))\n",
        "\n",
        "    ########### Params ###########\n",
        "    \n",
        "    if DEBUG:\n",
        "        n_splits = 3\n",
        "        patience, eps = 5, 1e-8\n",
        "        epochs, early_stopping = 5, 5\n",
        "\n",
        "        batch_size = 64\n",
        "        lr = 1e-5\n",
        "        wd = 1e-5\n",
        "    else:\n",
        "        n_splits = 10\n",
        "        patience, eps = 5, 1e-8\n",
        "        epochs, early_stopping = 25, 8\n",
        "\n",
        "        batch_size = 64\n",
        "        lr = 1e-5\n",
        "        wd = 1e-5\n",
        "    \n",
        "    ##############################\n",
        "\n",
        "    if verbose:\n",
        "        breaker()\n",
        "        print(\"Loading Data ...\")\n",
        "    \n",
        "    images = np.load(os.path.join(IMAGE_PATH, \"Images_224x224.npy\"))\n",
        "    targets  = get_targets()\n",
        "    pretrained_ann_path = os.path.join(STATE_PATH, \"Fold_8_state.pt\")\n",
        "\n",
        "    # Without Scheduler\n",
        "    train(images, targets, n_splits, batch_size, lr, wd, epochs, early_stopping, pretrained_ann_path, patience=None, eps=None)\n",
        "\n",
        "    # With Scheduler\n",
        "    # train(images, targets, n_splits, batch_size, lr, wd, epochs, early_stopping, pretrained_ann_path, patience=patience, eps=eps)\n",
        "    breaker()"
      ],
      "execution_count": 10,
      "outputs": []
    },
    {
      "cell_type": "code",
      "metadata": {
        "colab": {
          "base_uri": "https://localhost:8080/",
          "height": 1000
        },
        "id": "FZ_PwKpxMZSs",
        "outputId": "2d325d55-4ca3-4fb4-f05a-89a618bd57ab"
      },
      "source": [
        "main()"
      ],
      "execution_count": 11,
      "outputs": [
        {
          "metadata": {
            "tags": null
          },
          "name": "stdout",
          "output_type": "stream",
          "text": [
            "\n",
            "**************************************************\n",
            "\n",
            "Clean Memory , 584 Objects Collected ...\n",
            "\n",
            "**************************************************\n",
            "\n",
            "Loading Data ...\n",
            "\n",
            "**************************************************\n",
            "\n",
            "Building Train and Validation DataLoaders ...\n"
          ]
        },
        {
          "metadata": {
            "tags": null
          },
          "name": "stderr",
          "output_type": "stream",
          "text": [
            "Downloading: \"https://download.pytorch.org/models/densenet169-b2777c0a.pth\" to /root/.cache/torch/hub/checkpoints/densenet169-b2777c0a.pth\n"
          ]
        },
        {
          "output_type": "stream",
          "name": "stdout",
          "text": [
            "\n",
            "**************************************************\n",
            "\n",
            "Training ...\n",
            "\n",
            "**************************************************\n",
            "\n",
            "Epoch: 1 | Train Loss: 0.78886 | Valid Loss: 0.84806 | Time: 243.94 seconds\n",
            "Epoch: 2 | Train Loss: 0.78808 | Valid Loss: 0.84557 | Time: 243.31 seconds\n",
            "Epoch: 3 | Train Loss: 0.78363 | Valid Loss: 0.84388 | Time: 243.33 seconds\n",
            "Epoch: 4 | Train Loss: 0.77724 | Valid Loss: 0.84045 | Time: 243.12 seconds\n",
            "Epoch: 5 | Train Loss: 0.77442 | Valid Loss: 0.84198 | Time: 242.76 seconds\n",
            "Epoch: 6 | Train Loss: 0.76768 | Valid Loss: 0.83971 | Time: 243.03 seconds\n",
            "Epoch: 7 | Train Loss: 0.76894 | Valid Loss: 0.84271 | Time: 242.62 seconds\n",
            "Epoch: 8 | Train Loss: 0.76223 | Valid Loss: 0.84084 | Time: 242.63 seconds\n",
            "Epoch: 9 | Train Loss: 0.76335 | Valid Loss: 0.84085 | Time: 242.65 seconds\n",
            "Epoch: 10 | Train Loss: 0.75770 | Valid Loss: 0.83964 | Time: 243.04 seconds\n",
            "Epoch: 11 | Train Loss: 0.75382 | Valid Loss: 0.83749 | Time: 243.33 seconds\n",
            "Epoch: 12 | Train Loss: 0.75295 | Valid Loss: 0.84064 | Time: 242.75 seconds\n",
            "Epoch: 13 | Train Loss: 0.75129 | Valid Loss: 0.83918 | Time: 242.80 seconds\n",
            "Epoch: 14 | Train Loss: 0.74563 | Valid Loss: 0.83872 | Time: 243.35 seconds\n",
            "Epoch: 15 | Train Loss: 0.74333 | Valid Loss: 0.84062 | Time: 242.84 seconds\n",
            "Epoch: 16 | Train Loss: 0.74482 | Valid Loss: 0.83844 | Time: 242.77 seconds\n",
            "Epoch: 17 | Train Loss: 0.73982 | Valid Loss: 0.83658 | Time: 243.05 seconds\n",
            "Epoch: 18 | Train Loss: 0.73657 | Valid Loss: 0.83830 | Time: 242.77 seconds\n",
            "Epoch: 19 | Train Loss: 0.73494 | Valid Loss: 0.84117 | Time: 242.67 seconds\n",
            "Epoch: 20 | Train Loss: 0.73185 | Valid Loss: 0.84126 | Time: 242.95 seconds\n",
            "Epoch: 21 | Train Loss: 0.72864 | Valid Loss: 0.83931 | Time: 241.99 seconds\n",
            "Epoch: 22 | Train Loss: 0.72925 | Valid Loss: 0.83855 | Time: 242.07 seconds\n",
            "Epoch: 23 | Train Loss: 0.71985 | Valid Loss: 0.83883 | Time: 242.97 seconds\n",
            "Epoch: 24 | Train Loss: 0.72091 | Valid Loss: 0.83834 | Time: 241.77 seconds\n",
            "Epoch: 25 | Train Loss: 0.72380 | Valid Loss: 0.84029 | Time: 242.73 seconds\n",
            "\n",
            "**************************************************\n",
            "\n",
            "Best Validation Loss at Epoch 17\n",
            "\n",
            "**************************************************\n",
            "\n",
            "Time Taken [25 Epochs] : 101.19 minutes\n",
            "\n",
            "**************************************************\n",
            "\n",
            "Training Completed\n",
            "\n",
            "**************************************************\n",
            "\n",
            "\n",
            "Validation RMSE : 18.80892\n",
            "\n",
            "**************************************************\n",
            "\n"
          ]
        },
        {
          "output_type": "display_data",
          "data": {
            "image/png": "[encoded data removed]",
            "text/plain": [
              "<Figure size 432x288 with 1 Axes>"
            ]
          },
          "metadata": {
            "needs_background": "light"
          }
        },
        {
          "output_type": "stream",
          "name": "stdout",
          "text": [
            "\n",
            "**************************************************\n",
            "\n"
          ]
        }
      ]
    }
  ]
}