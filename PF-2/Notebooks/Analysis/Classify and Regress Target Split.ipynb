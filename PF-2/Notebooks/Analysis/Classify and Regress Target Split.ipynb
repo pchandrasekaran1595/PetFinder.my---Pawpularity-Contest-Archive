{
 "cells": [
  {
   "cell_type": "code",
   "execution_count": 1,
   "id": "574473a9",
   "metadata": {
    "_cell_guid": "b1076dfc-b9ad-4769-8c92-a6c4dae69d19",
    "_uuid": "8f2839f25d086af736a60e9eeb907d3b93b6e0e5",
    "execution": {
     "iopub.execute_input": "2021-10-16T04:54:23.073282Z",
     "iopub.status.busy": "2021-10-16T04:54:23.072180Z",
     "iopub.status.idle": "2021-10-16T04:54:23.081683Z",
     "shell.execute_reply": "2021-10-16T04:54:23.082165Z",
     "shell.execute_reply.started": "2021-10-16T04:52:03.000161Z"
    },
    "papermill": {
     "duration": 0.023486,
     "end_time": "2021-10-16T04:54:23.082440",
     "exception": false,
     "start_time": "2021-10-16T04:54:23.058954",
     "status": "completed"
    },
    "tags": []
   },
   "outputs": [],
   "source": [
    "import os\n",
    "import numpy as np\n",
    "import pandas as pd"
   ]
  },
  {
   "cell_type": "code",
   "execution_count": 2,
   "id": "0e3520f0",
   "metadata": {
    "execution": {
     "iopub.execute_input": "2021-10-16T04:54:23.098527Z",
     "iopub.status.busy": "2021-10-16T04:54:23.097821Z",
     "iopub.status.idle": "2021-10-16T04:54:23.102009Z",
     "shell.execute_reply": "2021-10-16T04:54:23.102603Z",
     "shell.execute_reply.started": "2021-10-16T04:52:03.024001Z"
    },
    "papermill": {
     "duration": 0.012769,
     "end_time": "2021-10-16T04:54:23.102770",
     "exception": false,
     "start_time": "2021-10-16T04:54:23.090001",
     "status": "completed"
    },
    "tags": []
   },
   "outputs": [],
   "source": [
    "def get_targets(path: str):\n",
    "    df = pd.read_csv(os.path.join(path, \"train.csv\"), engine=\"python\")\n",
    "    targets = df[\"Pawpularity\"].copy().values\n",
    "    return targets"
   ]
  },
  {
   "cell_type": "code",
   "execution_count": 3,
   "id": "f71608a2",
   "metadata": {
    "execution": {
     "iopub.execute_input": "2021-10-16T04:54:23.116903Z",
     "iopub.status.busy": "2021-10-16T04:54:23.116199Z",
     "iopub.status.idle": "2021-10-16T04:54:23.313601Z",
     "shell.execute_reply": "2021-10-16T04:54:23.314082Z",
     "shell.execute_reply.started": "2021-10-16T04:52:03.031812Z"
    },
    "papermill": {
     "duration": 0.205975,
     "end_time": "2021-10-16T04:54:23.314271",
     "exception": false,
     "start_time": "2021-10-16T04:54:23.108296",
     "status": "completed"
    },
    "tags": []
   },
   "outputs": [
    {
     "data": {
      "text/plain": [
       "array([63, 42, 28, 15, 72])"
      ]
     },
     "execution_count": 3,
     "metadata": {},
     "output_type": "execute_result"
    }
   ],
   "source": [
    "targets = get_targets(\"../input/petfinder-pawpularity-score\")\n",
    "\n",
    "targets[:5]"
   ]
  },
  {
   "cell_type": "code",
   "execution_count": 4,
   "id": "3baf4126",
   "metadata": {
    "execution": {
     "iopub.execute_input": "2021-10-16T04:54:23.335999Z",
     "iopub.status.busy": "2021-10-16T04:54:23.335359Z",
     "iopub.status.idle": "2021-10-16T04:54:23.341599Z",
     "shell.execute_reply": "2021-10-16T04:54:23.342136Z",
     "shell.execute_reply.started": "2021-10-16T04:53:08.195329Z"
    },
    "papermill": {
     "duration": 0.021917,
     "end_time": "2021-10-16T04:54:23.342306",
     "exception": false,
     "start_time": "2021-10-16T04:54:23.320389",
     "status": "completed"
    },
    "tags": []
   },
   "outputs": [
    {
     "data": {
      "text/plain": [
       "array([6, 4, 2, 1, 7])"
      ]
     },
     "execution_count": 4,
     "metadata": {},
     "output_type": "execute_result"
    }
   ],
   "source": [
    "classify_targets = targets.copy()\n",
    "\n",
    "classify_targets[np.logical_and(targets >= 1, targets < 11)] = 0\n",
    "classify_targets[np.logical_and(targets >= 11, targets < 21)] = 1\n",
    "classify_targets[np.logical_and(targets >= 21, targets < 31)] = 2\n",
    "classify_targets[np.logical_and(targets >= 31, targets < 41)] = 3\n",
    "classify_targets[np.logical_and(targets >= 41, targets < 51)] = 4\n",
    "classify_targets[np.logical_and(targets >= 51, targets < 61)] = 5\n",
    "classify_targets[np.logical_and(targets >= 61, targets < 71)] = 6\n",
    "classify_targets[np.logical_and(targets >= 71, targets < 81)] = 7\n",
    "classify_targets[np.logical_and(targets >= 81, targets < 91)] = 8\n",
    "classify_targets[np.logical_and(targets >= 91, targets < 100)] = 9\n",
    "\n",
    "classify_targets[:5]"
   ]
  },
  {
   "cell_type": "code",
   "execution_count": 5,
   "id": "95eb753a",
   "metadata": {
    "execution": {
     "iopub.execute_input": "2021-10-16T04:54:23.359455Z",
     "iopub.status.busy": "2021-10-16T04:54:23.358326Z",
     "iopub.status.idle": "2021-10-16T04:54:23.362297Z",
     "shell.execute_reply": "2021-10-16T04:54:23.362793Z",
     "shell.execute_reply.started": "2021-10-16T04:53:56.175846Z"
    },
    "papermill": {
     "duration": 0.014623,
     "end_time": "2021-10-16T04:54:23.362951",
     "exception": false,
     "start_time": "2021-10-16T04:54:23.348328",
     "status": "completed"
    },
    "tags": []
   },
   "outputs": [
    {
     "data": {
      "text/plain": [
       "array([3, 2, 8, 5, 2])"
      ]
     },
     "execution_count": 5,
     "metadata": {},
     "output_type": "execute_result"
    }
   ],
   "source": [
    "regress_targets = targets.copy()\n",
    "regress_targets = regress_targets % 10\n",
    "\n",
    "regress_targets[:5]"
   ]
  }
 ],
 "metadata": {
  "kernelspec": {
   "display_name": "Python 3",
   "language": "python",
   "name": "python3"
  },
  "language_info": {
   "codemirror_mode": {
    "name": "ipython",
    "version": 3
   },
   "file_extension": ".py",
   "mimetype": "text/x-python",
   "name": "python",
   "nbconvert_exporter": "python",
   "pygments_lexer": "ipython3",
   "version": "3.7.10"
  },
  "papermill": {
   "default_parameters": {},
   "duration": 9.965834,
   "end_time": "2021-10-16T04:54:23.979571",
   "environment_variables": {},
   "exception": null,
   "input_path": "__notebook__.ipynb",
   "output_path": "__notebook__.ipynb",
   "parameters": {},
   "start_time": "2021-10-16T04:54:14.013737",
   "version": "2.3.3"
  }
 },
 "nbformat": 4,
 "nbformat_minor": 5
}
