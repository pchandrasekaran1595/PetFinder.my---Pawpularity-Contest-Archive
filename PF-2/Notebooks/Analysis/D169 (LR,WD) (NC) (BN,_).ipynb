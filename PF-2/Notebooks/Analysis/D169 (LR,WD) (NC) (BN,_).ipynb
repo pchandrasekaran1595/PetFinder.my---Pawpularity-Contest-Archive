{
 "cells": [
  {
   "cell_type": "markdown",
   "id": "342a8c29",
   "metadata": {
    "id": "1NF27HFLxZMK",
    "papermill": {
     "duration": 0.013665,
     "end_time": "2021-10-12T15:03:59.300906",
     "exception": false,
     "start_time": "2021-10-12T15:03:59.287241",
     "status": "completed"
    },
    "tags": []
   },
   "source": [
    "## Library Imports"
   ]
  },
  {
   "cell_type": "code",
   "execution_count": 1,
   "id": "af19725e",
   "metadata": {
    "execution": {
     "iopub.execute_input": "2021-10-12T15:03:59.402928Z",
     "iopub.status.busy": "2021-10-12T15:03:59.402036Z",
     "iopub.status.idle": "2021-10-12T15:03:59.408555Z",
     "shell.execute_reply": "2021-10-12T15:03:59.407961Z",
     "shell.execute_reply.started": "2021-10-09T18:18:09.835291Z"
    },
    "id": "ZaibE8jTxTRV",
    "papermill": {
     "duration": 0.09494,
     "end_time": "2021-10-12T15:03:59.408698",
     "exception": false,
     "start_time": "2021-10-12T15:03:59.313758",
     "status": "completed"
    },
    "tags": []
   },
   "outputs": [],
   "source": [
    "from time import time\n",
    "notebook_start_time = time()"
   ]
  },
  {
   "cell_type": "code",
   "execution_count": 2,
   "id": "de77a6d1",
   "metadata": {
    "execution": {
     "iopub.execute_input": "2021-10-12T15:03:59.440329Z",
     "iopub.status.busy": "2021-10-12T15:03:59.439703Z",
     "iopub.status.idle": "2021-10-12T15:04:04.714545Z",
     "shell.execute_reply": "2021-10-12T15:04:04.714011Z",
     "shell.execute_reply.started": "2021-10-09T18:18:09.95105Z"
    },
    "id": "tCefPeQFxwtS",
    "papermill": {
     "duration": 5.293271,
     "end_time": "2021-10-12T15:04:04.714692",
     "exception": false,
     "start_time": "2021-10-12T15:03:59.421421",
     "status": "completed"
    },
    "tags": []
   },
   "outputs": [],
   "source": [
    "import os\n",
    "import re\n",
    "import pickle\n",
    "import numpy as np\n",
    "import pandas as pd\n",
    "import matplotlib.pyplot as plt\n",
    "\n",
    "import torch\n",
    "from torch import nn, optim\n",
    "from torch.utils.data import Dataset\n",
    "from torch.utils.data import DataLoader as DL\n",
    "from torch.nn.utils import weight_norm as WN\n",
    "from torchvision import models, transforms\n",
    "\n",
    "from sklearn.model_selection import KFold\n",
    "from sklearn.metrics import mean_squared_error\n",
    "from sklearn.preprocessing import StandardScaler"
   ]
  },
  {
   "cell_type": "markdown",
   "id": "8b094097",
   "metadata": {
    "id": "iWlt7AdSxxWm",
    "papermill": {
     "duration": 0.012488,
     "end_time": "2021-10-12T15:04:04.740412",
     "exception": false,
     "start_time": "2021-10-12T15:04:04.727924",
     "status": "completed"
    },
    "tags": []
   },
   "source": [
    "## Constants and Utilities"
   ]
  },
  {
   "cell_type": "code",
   "execution_count": 3,
   "id": "8eb624a0",
   "metadata": {
    "execution": {
     "iopub.execute_input": "2021-10-12T15:04:04.809876Z",
     "iopub.status.busy": "2021-10-12T15:04:04.809327Z",
     "iopub.status.idle": "2021-10-12T15:04:04.812698Z",
     "shell.execute_reply": "2021-10-12T15:04:04.813061Z",
     "shell.execute_reply.started": "2021-10-09T18:18:11.594208Z"
    },
    "id": "ZpMGLKhKx0EX",
    "papermill": {
     "duration": 0.060884,
     "end_time": "2021-10-12T15:04:04.813209",
     "exception": false,
     "start_time": "2021-10-12T15:04:04.752325",
     "status": "completed"
    },
    "tags": []
   },
   "outputs": [],
   "source": [
    "SEED = 49\n",
    "DEVICE = torch.device(\"cuda\" if torch.cuda.is_available() else \"cpu\")\n",
    "DATA_PATH = \"../input/petfinder-pawpularity-score\"\n",
    "FEATURE_PATH = \"../input/petfinder-pf-nc-ua-all-dataset\"\n",
    "MODEL_NAME = \"densenet169\"\n",
    "\n",
    "DEBUG = False\n",
    "verbose = False\n",
    "\n",
    "sc_y = StandardScaler()"
   ]
  },
  {
   "cell_type": "code",
   "execution_count": 4,
   "id": "57b38525",
   "metadata": {
    "execution": {
     "iopub.execute_input": "2021-10-12T15:04:04.845650Z",
     "iopub.status.busy": "2021-10-12T15:04:04.839932Z",
     "iopub.status.idle": "2021-10-12T15:04:04.847455Z",
     "shell.execute_reply": "2021-10-12T15:04:04.847815Z",
     "shell.execute_reply.started": "2021-10-09T18:18:11.615048Z"
    },
    "id": "yIR_gIEPyZrc",
    "papermill": {
     "duration": 0.022897,
     "end_time": "2021-10-12T15:04:04.847945",
     "exception": false,
     "start_time": "2021-10-12T15:04:04.825048",
     "status": "completed"
    },
    "tags": []
   },
   "outputs": [],
   "source": [
    "def breaker(num=50, char=\"*\") -> None:\n",
    "    print(\"\\n\" + num*char + \"\\n\")\n",
    "\n",
    "\n",
    "def get_targets(path: str) -> np.ndarray:\n",
    "    df = pd.read_csv(os.path.join(path, \"train.csv\"), engine=\"python\")\n",
    "    targets = df[\"Pawpularity\"].copy().values\n",
    "    return targets.reshape(-1, 1)\n",
    "\n",
    "\n",
    "def show_graphs(L: list, title=None) -> None:\n",
    "    TL, VL = [], []\n",
    "    for i in range(len(L)):\n",
    "        TL.append(L[i][\"train\"])\n",
    "        VL.append(L[i][\"valid\"])\n",
    "    x_Axis = np.arange(1, len(L) + 1)\n",
    "    plt.figure()\n",
    "    plt.plot(x_Axis, TL, \"r\", label=\"train\")\n",
    "    plt.plot(x_Axis, VL, \"b\", label=\"valid\")\n",
    "    plt.grid()\n",
    "    plt.legend()\n",
    "    if title:\n",
    "        plt.title(\"{} Loss\".format(title))\n",
    "    else:\n",
    "        plt.title(\"Loss\")\n",
    "    plt.show()"
   ]
  },
  {
   "cell_type": "markdown",
   "id": "fe34b879",
   "metadata": {
    "id": "7y0fd6rWy9C7",
    "papermill": {
     "duration": 0.011514,
     "end_time": "2021-10-12T15:04:04.871145",
     "exception": false,
     "start_time": "2021-10-12T15:04:04.859631",
     "status": "completed"
    },
    "tags": []
   },
   "source": [
    "## Dataset Template and Build Dataloader"
   ]
  },
  {
   "cell_type": "code",
   "execution_count": 5,
   "id": "f44c6477",
   "metadata": {
    "execution": {
     "iopub.execute_input": "2021-10-12T15:04:04.903484Z",
     "iopub.status.busy": "2021-10-12T15:04:04.902740Z",
     "iopub.status.idle": "2021-10-12T15:04:04.904628Z",
     "shell.execute_reply": "2021-10-12T15:04:04.905027Z",
     "shell.execute_reply.started": "2021-10-09T18:18:11.638867Z"
    },
    "id": "TtCaj5UAy7ar",
    "papermill": {
     "duration": 0.022331,
     "end_time": "2021-10-12T15:04:04.905157",
     "exception": false,
     "start_time": "2021-10-12T15:04:04.882826",
     "status": "completed"
    },
    "tags": []
   },
   "outputs": [],
   "source": [
    "class DS(Dataset):\n",
    "    def __init__(self, features=None, targets=None):\n",
    "        self.features = features\n",
    "        self.targets  = targets\n",
    "        \n",
    "    def __len__(self):\n",
    "        return self.features.shape[0]\n",
    "    \n",
    "    def __getitem__(self, idx):\n",
    "        return torch.FloatTensor(self.features[idx]), torch.FloatTensor(self.targets[idx])\n",
    "    \n",
    "\n",
    "def build_dataloaders(tr_features: np.ndarray, va_features: np.ndarray,\n",
    "                      tr_targets: np.ndarray, va_targets: np.ndarray,\n",
    "                      batch_size: int, seed: int):\n",
    "\n",
    "    if verbose:\n",
    "        breaker()\n",
    "        print(\"Building Train and Validation DataLoaders ...\")\n",
    "    \n",
    "    tr_data_setup = DS(features=tr_features, targets=tr_targets)\n",
    "    va_data_setup = DS(features=va_features, targets=va_targets)\n",
    "    \n",
    "    dataloaders = {\n",
    "        \"train\" : DL(tr_data_setup, batch_size=batch_size, shuffle=True, generator=torch.manual_seed(seed)),\n",
    "        \"valid\" : DL(va_data_setup, batch_size=batch_size, shuffle=False)\n",
    "    }\n",
    "    \n",
    "    return dataloaders"
   ]
  },
  {
   "cell_type": "markdown",
   "id": "657005fc",
   "metadata": {
    "id": "8wmsPRi6zjyn",
    "papermill": {
     "duration": 0.011968,
     "end_time": "2021-10-12T15:04:04.928894",
     "exception": false,
     "start_time": "2021-10-12T15:04:04.916926",
     "status": "completed"
    },
    "tags": []
   },
   "source": [
    "## Build Model"
   ]
  },
  {
   "cell_type": "code",
   "execution_count": 6,
   "id": "87af3aa3",
   "metadata": {
    "execution": {
     "iopub.execute_input": "2021-10-12T15:04:04.962125Z",
     "iopub.status.busy": "2021-10-12T15:04:04.961345Z",
     "iopub.status.idle": "2021-10-12T15:04:04.963315Z",
     "shell.execute_reply": "2021-10-12T15:04:04.963711Z",
     "shell.execute_reply.started": "2021-10-09T18:18:11.654327Z"
    },
    "id": "2GYZ4teczjIm",
    "papermill": {
     "duration": 0.023192,
     "end_time": "2021-10-12T15:04:04.963821",
     "exception": false,
     "start_time": "2021-10-12T15:04:04.940629",
     "status": "completed"
    },
    "tags": []
   },
   "outputs": [],
   "source": [
    "def build_model(IL: int, seed: int):\n",
    "    class ANN(nn.Module):\n",
    "        def __init__(self, IL=None):\n",
    "            super(ANN, self).__init__()\n",
    "\n",
    "            self.predictor = nn.Sequential()\n",
    "            self.predictor.add_module(\"BN\", nn.BatchNorm1d(num_features=IL, eps=1e-5))\n",
    "            self.predictor.add_module(\"FC\", nn.Linear(in_features=IL, out_features=1))\n",
    "\n",
    "        def get_optimizer(self, lr=1e-3, wd=0):\n",
    "            params = [p for p in self.parameters() if p.requires_grad]\n",
    "            return optim.Adam(params, lr=lr, weight_decay=wd)\n",
    "\n",
    "        def get_plateau_scheduler(self, optimizer=None, patience=5, eps=1e-8):\n",
    "            return optim.lr_scheduler.ReduceLROnPlateau(optimizer=optimizer, patience=patience, eps=eps, verbose=True)\n",
    "\n",
    "        def forward(self, x1, x2=None):\n",
    "            if x2 is not None:\n",
    "                return self.predictor(x1), self.predictor(x2)\n",
    "            else:\n",
    "                return self.predictor(x1)\n",
    "    \n",
    "    if verbose:\n",
    "        breaker()\n",
    "        print(\"Building Model ...\")\n",
    "        print(\"\\n{} -> 1\".format(IL))\n",
    "    \n",
    "    torch.manual_seed(seed)\n",
    "    model = ANN(IL=IL)\n",
    "    \n",
    "    return model"
   ]
  },
  {
   "cell_type": "markdown",
   "id": "7e5b5ca1",
   "metadata": {
    "id": "uuMvELK2zqh0",
    "papermill": {
     "duration": 0.012133,
     "end_time": "2021-10-12T15:04:04.987678",
     "exception": false,
     "start_time": "2021-10-12T15:04:04.975545",
     "status": "completed"
    },
    "tags": []
   },
   "source": [
    "## Fit and Predict Helpers"
   ]
  },
  {
   "cell_type": "code",
   "execution_count": 7,
   "id": "5134fa6d",
   "metadata": {
    "execution": {
     "iopub.execute_input": "2021-10-12T15:04:05.032242Z",
     "iopub.status.busy": "2021-10-12T15:04:05.023531Z",
     "iopub.status.idle": "2021-10-12T15:04:05.034042Z",
     "shell.execute_reply": "2021-10-12T15:04:05.034496Z",
     "shell.execute_reply.started": "2021-10-09T18:18:11.669126Z"
    },
    "id": "8DQ9EUrIzpmn",
    "papermill": {
     "duration": 0.035208,
     "end_time": "2021-10-12T15:04:05.034623",
     "exception": false,
     "start_time": "2021-10-12T15:04:04.999415",
     "status": "completed"
    },
    "tags": []
   },
   "outputs": [],
   "source": [
    "def fit(model=None, optimizer=None, scheduler=None, \n",
    "        epochs=None, early_stopping_patience=None,\n",
    "        dataloaders=None, fold=None, lr=None, wd=None, verbose=False) -> tuple:\n",
    "    \n",
    "    name = \"./LR_{}_WD_{}_Fold_{}_state.pt\".format(lr, wd, fold)\n",
    "    \n",
    "    if verbose:\n",
    "        breaker()\n",
    "        print(\"Training Fold {}...\".format(fold))\n",
    "        breaker()\n",
    "    # else:\n",
    "        # print(\"Training Fold {}...\".format(fold))\n",
    "\n",
    "    Losses = []\n",
    "    bestLoss = {\"train\" : np.inf, \"valid\" : np.inf}\n",
    "\n",
    "    start_time = time()\n",
    "    for e in range(epochs):\n",
    "        e_st = time()\n",
    "        epochLoss = {\"train\" : np.inf, \"valid\" : np.inf}\n",
    "\n",
    "        for phase in [\"train\", \"valid\"]:\n",
    "            if phase == \"train\":\n",
    "                model.train()\n",
    "            else:\n",
    "                model.eval()\n",
    "            \n",
    "            lossPerPass = []\n",
    "\n",
    "            for X, y in dataloaders[phase]:\n",
    "                X, y = X.to(DEVICE), y.to(DEVICE)\n",
    "\n",
    "                optimizer.zero_grad()\n",
    "                with torch.set_grad_enabled(phase == \"train\"):\n",
    "                    output = model(X)\n",
    "                    loss = torch.nn.MSELoss()(output, y)\n",
    "                    if phase == \"train\":\n",
    "                        loss.backward()\n",
    "                        optimizer.step()\n",
    "                lossPerPass.append(loss.item())\n",
    "            epochLoss[phase] = np.mean(np.array(lossPerPass))\n",
    "        Losses.append(epochLoss)\n",
    "\n",
    "        if early_stopping_patience:\n",
    "            if epochLoss[\"valid\"] < bestLoss[\"valid\"]:\n",
    "                bestLoss = epochLoss\n",
    "                BLE = e + 1\n",
    "                torch.save({\"model_state_dict\": model.state_dict(),\n",
    "                            \"optim_state_dict\": optimizer.state_dict()},\n",
    "                           name)\n",
    "                early_stopping_step = 0\n",
    "            else:\n",
    "                early_stopping_step += 1\n",
    "                if early_stopping_step > early_stopping_patience:\n",
    "                    if verbose:\n",
    "                        print(\"\\nEarly Stopping at Epoch {}\".format(e))\n",
    "                    break\n",
    "        \n",
    "        if epochLoss[\"valid\"] < bestLoss[\"valid\"]:\n",
    "            bestLoss = epochLoss\n",
    "            BLE = e + 1\n",
    "            torch.save({\"model_state_dict\": model.state_dict(),\n",
    "                        \"optim_state_dict\": optimizer.state_dict()},\n",
    "                       name)\n",
    "        \n",
    "        if scheduler:\n",
    "            scheduler.step(epochLoss[\"valid\"])\n",
    "        \n",
    "        if verbose:\n",
    "            print(\"Epoch: {} | Train Loss: {:.5f} | Valid Loss: {:.5f} | Time: {:.2f} seconds\".format(e+1, epochLoss[\"train\"], epochLoss[\"valid\"], time()-e_st))\n",
    "    \n",
    "    if verbose:\n",
    "        breaker()\n",
    "        print(\"Best Validation Loss at Epoch {}\".format(BLE))\n",
    "        breaker()\n",
    "        print(\"Time Taken [{} Epochs] : {:.2f} minutes\".format(len(Losses), (time()-start_time)/60))\n",
    "        breaker()\n",
    "        print(\"Training Completed\")\n",
    "        breaker()\n",
    "\n",
    "    return Losses, BLE, name\n",
    "\n",
    "#####################################################################################################\n",
    "\n",
    "def predict_batch(model=None, dataloader=None, mode=\"test\", path=None) -> np.ndarray:    \n",
    "    model.load_state_dict(torch.load(path, map_location=DEVICE)[\"model_state_dict\"])\n",
    "    model.to(DEVICE)\n",
    "    model.eval()\n",
    "\n",
    "    y_pred = torch.zeros(1, 1).to(DEVICE)\n",
    "    if re.match(r\"valid\", mode, re.IGNORECASE):\n",
    "        for X, _ in dataloader:\n",
    "            X = X.to(DEVICE)\n",
    "            with torch.no_grad():\n",
    "                output = model(X)\n",
    "            y_pred = torch.cat((y_pred, output.view(-1, 1)), dim=0)\n",
    "    elif re.match(r\"test\", mode, re.IGNORECASE):\n",
    "        for X in dataloader:\n",
    "            X = X.to(DEVICE)\n",
    "            with torch.no_grad():\n",
    "                output = model(X)\n",
    "            y_pred = torch.cat((y_pred, output.view(-1, 1)), dim=0)\n",
    "    \n",
    "    return y_pred[1:].detach().cpu().numpy()"
   ]
  },
  {
   "cell_type": "markdown",
   "id": "d13b07a9",
   "metadata": {
    "id": "YQP876MS0OrX",
    "papermill": {
     "duration": 0.011603,
     "end_time": "2021-10-12T15:04:05.057847",
     "exception": false,
     "start_time": "2021-10-12T15:04:05.046244",
     "status": "completed"
    },
    "tags": []
   },
   "source": [
    "## Train"
   ]
  },
  {
   "cell_type": "code",
   "execution_count": 8,
   "id": "e5a425f3",
   "metadata": {
    "execution": {
     "iopub.execute_input": "2021-10-12T15:04:05.094296Z",
     "iopub.status.busy": "2021-10-12T15:04:05.093518Z",
     "iopub.status.idle": "2021-10-12T15:04:05.095425Z",
     "shell.execute_reply": "2021-10-12T15:04:05.095857Z",
     "shell.execute_reply.started": "2021-10-09T18:18:11.705577Z"
    },
    "id": "OrGICYXg0QEM",
    "papermill": {
     "duration": 0.026455,
     "end_time": "2021-10-12T15:04:05.095969",
     "exception": false,
     "start_time": "2021-10-12T15:04:05.069514",
     "status": "completed"
    },
    "tags": []
   },
   "outputs": [],
   "source": [
    "def train(features: np.ndarray, targets: np.ndarray,\n",
    "          n_splits: int, batch_size: int, lr: float, wd: float, \n",
    "          epochs: int, early_stopping: int, \n",
    "          patience=None, eps=None) -> list:        \n",
    "    \n",
    "    metrics = []\n",
    "        \n",
    "    KFold_start_time = time()\n",
    "    if verbose:\n",
    "        breaker()\n",
    "        print(\"\\tLR : {}, WD: {}\".format(lr, wd))\n",
    "        breaker()\n",
    "        print(\"Performing {} Fold CV ...\".format(n_splits))\n",
    "    fold = 1\n",
    "    for tr_idx, va_idx in KFold(n_splits=n_splits, shuffle=True, random_state=SEED).split(features):\n",
    "\n",
    "        tr_features, va_features = features[tr_idx], features[va_idx]\n",
    "        tr_targets, va_targets   = targets[tr_idx], targets[va_idx]\n",
    "\n",
    "        tr_targets = sc_y.fit_transform(tr_targets)\n",
    "        va_targets = sc_y.transform(va_targets)\n",
    "\n",
    "        dataloaders = build_dataloaders(tr_features, va_features,\n",
    "                                        tr_targets, va_targets, \n",
    "                                        batch_size, SEED)\n",
    "        model = build_model(IL=tr_features.shape[1], seed=SEED).to(DEVICE)\n",
    "        optimizer = model.get_optimizer(lr=lr, wd=wd)\n",
    "        scheduler = None\n",
    "        if isinstance(patience, int) and isinstance(eps, float):\n",
    "            scheduler = model.get_plateau_scheduler(optimizer, patience, eps)\n",
    "\n",
    "        L, _, name = fit(model=model, optimizer=optimizer, scheduler=scheduler, \n",
    "                         epochs=epochs, early_stopping_patience=early_stopping,\n",
    "                         dataloaders=dataloaders, fold=fold, lr=lr, wd=wd, verbose=verbose)\n",
    "        y_pred = predict_batch(model=model, dataloader=dataloaders[\"valid\"], mode=\"valid\", path=name)\n",
    "        RMSE = np.sqrt(mean_squared_error(sc_y.inverse_transform(y_pred), sc_y.inverse_transform(va_targets)))\n",
    "        if verbose:\n",
    "            print(\"\\nValidation RMSE [Fold {}]: {:.5f}\".format(fold, RMSE))\n",
    "            breaker()\n",
    "            show_graphs(L)\n",
    "        \n",
    "        metrics_dict = {\"Fold\" : fold, \"LR\" : lr, \"WD\" : wd, \"RMSE\" : RMSE}\n",
    "        metrics.append(metrics_dict)\n",
    "        \n",
    "        fold += 1\n",
    "    \n",
    "    if verbose:\n",
    "        breaker()\n",
    "        print(\"Total Time to {} Fold CV : {:.2f} minutes\".format(n_splits, (time() - KFold_start_time)/60))\n",
    "    \n",
    "    return metrics, (time() - KFold_start_time)/60"
   ]
  },
  {
   "cell_type": "markdown",
   "id": "67d7eeae",
   "metadata": {
    "id": "UGUqaAzy1C33",
    "papermill": {
     "duration": 0.012191,
     "end_time": "2021-10-12T15:04:05.119759",
     "exception": false,
     "start_time": "2021-10-12T15:04:05.107568",
     "status": "completed"
    },
    "tags": []
   },
   "source": [
    "## Main"
   ]
  },
  {
   "cell_type": "code",
   "execution_count": 9,
   "id": "b1c3ad68",
   "metadata": {
    "execution": {
     "iopub.execute_input": "2021-10-12T15:04:05.155878Z",
     "iopub.status.busy": "2021-10-12T15:04:05.155114Z",
     "iopub.status.idle": "2021-10-12T15:04:05.157026Z",
     "shell.execute_reply": "2021-10-12T15:04:05.157441Z",
     "shell.execute_reply.started": "2021-10-09T18:21:59.180726Z"
    },
    "id": "_0yK3IwR1CEs",
    "papermill": {
     "duration": 0.02611,
     "end_time": "2021-10-12T15:04:05.157556",
     "exception": false,
     "start_time": "2021-10-12T15:04:05.131446",
     "status": "completed"
    },
    "tags": []
   },
   "outputs": [],
   "source": [
    "def main():\n",
    "    \n",
    "    ########### Params ###########\n",
    "    \n",
    "    if DEBUG:\n",
    "        n_splits = 10\n",
    "        patience, eps = 5, 1e-8\n",
    "        epochs, early_stopping = 5, 5\n",
    "\n",
    "        batch_size = 128\n",
    "        lrs = [1e-2, 1e-3]\n",
    "        wds = [0.0, 1e-1]\n",
    "    else:\n",
    "        n_splits = 10\n",
    "        patience, eps = 5, 1e-8\n",
    "        epochs, early_stopping = 100, 8\n",
    "\n",
    "        batch_size = 128\n",
    "        lrs = [1e-3, 5e-4, 1e-4]\n",
    "        wds = [0.0, 1e-1, 1e-2, 1e-3, 1e-4, 1e-5, 1e-6]\n",
    "    \n",
    "    ##############################\n",
    "\n",
    "    complete_metrics = []\n",
    "\n",
    "    if verbose:\n",
    "        breaker()\n",
    "        print(\"Loading Data ...\")\n",
    "    else:\n",
    "        breaker()\n",
    "    \n",
    "    features = np.load(os.path.join(FEATURE_PATH, \"{}_features.npy\".format(MODEL_NAME)))\n",
    "    targets  = get_targets(DATA_PATH)\n",
    "\n",
    "    for lr in lrs:\n",
    "        for wd in wds:\n",
    "\n",
    "            # Without Scheduler\n",
    "            metrics, time_taken = train(features, targets, n_splits, batch_size, lr, wd, epochs, early_stopping, patience=None, eps=None)\n",
    "\n",
    "            # # With Plateau Scheduler\n",
    "            # metrics = train(features, targets, n_splits, batch_size, lr, wd, epochs, early_stopping, patience=patience, eps=eps)\n",
    "\n",
    "            complete_metrics.append(metrics)\n",
    "\n",
    "            if not verbose:\n",
    "                print(\"LR : {}, WD: {} -> {:.2f} minutes\".format(lr, wd, time_taken))\n",
    "\n",
    "    if verbose:\n",
    "        breaker()\n",
    "        for i in range(len(complete_metrics)):\n",
    "            for j in range(len(complete_metrics[i])):\n",
    "                print(complete_metrics[i][j])\n",
    "    \n",
    "    rmse = []\n",
    "    for i in range(len(complete_metrics)):\n",
    "        for j in range(len(complete_metrics[i])):\n",
    "            rmse.append(complete_metrics[i][j][\"RMSE\"])\n",
    "    \n",
    "    best_index = rmse.index(min(rmse))\n",
    "    best_index_1 = best_index // n_splits\n",
    "    best_index_2 = best_index % n_splits\n",
    "    \n",
    "    breaker()\n",
    "    print(\"Best RMSE: {:.5f} using LR: {} and WD: {}\".format(complete_metrics[best_index_1][best_index_2][\"RMSE\"],\n",
    "                                                             complete_metrics[best_index_1][best_index_2][\"LR\"], \n",
    "                                                             complete_metrics[best_index_1][best_index_2][\"WD\"]))\n",
    "    breaker()\n",
    "\n",
    "    with open(\"complete_metrics.pkl\", \"wb\") as fp:\n",
    "        pickle.dump(complete_metrics, fp)"
   ]
  },
  {
   "cell_type": "code",
   "execution_count": 10,
   "id": "6ebd2892",
   "metadata": {
    "execution": {
     "iopub.execute_input": "2021-10-12T15:04:05.183982Z",
     "iopub.status.busy": "2021-10-12T15:04:05.183161Z",
     "iopub.status.idle": "2021-10-12T15:31:44.922589Z",
     "shell.execute_reply": "2021-10-12T15:31:44.923002Z",
     "shell.execute_reply.started": "2021-10-09T18:22:01.852789Z"
    },
    "id": "9Vf0T4VN2Z1Q",
    "outputId": "d8f15d91-6afc-482a-e8c4-ccba8ab2f221",
    "papermill": {
     "duration": 1659.754015,
     "end_time": "2021-10-12T15:31:44.923206",
     "exception": false,
     "start_time": "2021-10-12T15:04:05.169191",
     "status": "completed"
    },
    "tags": []
   },
   "outputs": [
    {
     "name": "stdout",
     "output_type": "stream",
     "text": [
      "\n",
      "**************************************************\n",
      "\n",
      "LR : 0.001, WD: 0.0 -> 0.80 minutes\n",
      "LR : 0.001, WD: 0.1 -> 1.09 minutes\n",
      "LR : 0.001, WD: 0.01 -> 1.32 minutes\n",
      "LR : 0.001, WD: 0.001 -> 0.85 minutes\n",
      "LR : 0.001, WD: 0.0001 -> 0.72 minutes\n",
      "LR : 0.001, WD: 1e-05 -> 0.71 minutes\n",
      "LR : 0.001, WD: 1e-06 -> 0.72 minutes\n",
      "LR : 0.0005, WD: 0.0 -> 0.77 minutes\n",
      "LR : 0.0005, WD: 0.1 -> 1.48 minutes\n",
      "LR : 0.0005, WD: 0.01 -> 1.82 minutes\n",
      "LR : 0.0005, WD: 0.001 -> 0.88 minutes\n",
      "LR : 0.0005, WD: 0.0001 -> 0.82 minutes\n",
      "LR : 0.0005, WD: 1e-05 -> 0.78 minutes\n",
      "LR : 0.0005, WD: 1e-06 -> 0.79 minutes\n",
      "LR : 0.0001, WD: 0.0 -> 1.66 minutes\n",
      "LR : 0.0001, WD: 0.1 -> 2.93 minutes\n",
      "LR : 0.0001, WD: 0.01 -> 2.41 minutes\n",
      "LR : 0.0001, WD: 0.001 -> 2.04 minutes\n",
      "LR : 0.0001, WD: 0.0001 -> 1.69 minutes\n",
      "LR : 0.0001, WD: 1e-05 -> 1.68 minutes\n",
      "LR : 0.0001, WD: 1e-06 -> 1.70 minutes\n",
      "\n",
      "**************************************************\n",
      "\n",
      "Best RMSE: 17.08852 using LR: 0.001 and WD: 0.1\n",
      "\n",
      "**************************************************\n",
      "\n"
     ]
    }
   ],
   "source": [
    "main()"
   ]
  },
  {
   "cell_type": "code",
   "execution_count": 11,
   "id": "f7e5f7d1",
   "metadata": {
    "execution": {
     "iopub.execute_input": "2021-10-12T15:31:44.967850Z",
     "iopub.status.busy": "2021-10-12T15:31:44.966295Z",
     "iopub.status.idle": "2021-10-12T15:31:44.969754Z",
     "shell.execute_reply": "2021-10-12T15:31:44.969332Z"
    },
    "papermill": {
     "duration": 0.028938,
     "end_time": "2021-10-12T15:31:44.969852",
     "exception": false,
     "start_time": "2021-10-12T15:31:44.940914",
     "status": "completed"
    },
    "tags": []
   },
   "outputs": [
    {
     "name": "stdout",
     "output_type": "stream",
     "text": [
      "\n",
      "**************************************************\n",
      "\n",
      "Params: {'Fold': 8, 'LR': 0.001, 'WD': 0.1, 'RMSE': 17.08852213568938}\n",
      "\n",
      "**************************************************\n",
      "\n"
     ]
    }
   ],
   "source": [
    "if not verbose:\n",
    "    with open(\"complete_metrics.pkl\", \"rb\") as fp:\n",
    "            params = pickle.load(fp)\n",
    "\n",
    "    rmse = []\n",
    "    for i in range(len(params)):\n",
    "        for j in range(len(params[i])):\n",
    "            rmse.append(params[i][j][\"RMSE\"])\n",
    "\n",
    "    best_index = rmse.index(min(rmse))\n",
    "    if DEBUG:\n",
    "        best_index_1 = best_index // 3\n",
    "        best_index_2 = best_index % 3\n",
    "    else:\n",
    "        best_index_1 = best_index // 10\n",
    "        best_index_2 = best_index % 10\n",
    "\n",
    "    breaker()\n",
    "    print(\"Params: {}\".format(params[best_index_1][best_index_2]))\n",
    "    breaker()"
   ]
  },
  {
   "cell_type": "code",
   "execution_count": 12,
   "id": "d2c7d607",
   "metadata": {
    "execution": {
     "iopub.execute_input": "2021-10-12T15:31:45.010422Z",
     "iopub.status.busy": "2021-10-12T15:31:45.009843Z",
     "iopub.status.idle": "2021-10-12T15:31:45.012886Z",
     "shell.execute_reply": "2021-10-12T15:31:45.013301Z",
     "shell.execute_reply.started": "2021-10-09T18:20:52.276263Z"
    },
    "id": "YmNqGwy98SyF",
    "papermill": {
     "duration": 0.025728,
     "end_time": "2021-10-12T15:31:45.013414",
     "exception": false,
     "start_time": "2021-10-12T15:31:44.987686",
     "status": "completed"
    },
    "tags": []
   },
   "outputs": [
    {
     "name": "stdout",
     "output_type": "stream",
     "text": [
      "\n",
      "**************************************************\n",
      "\n",
      "Notebook Rumtime : 27.76 minutes\n",
      "\n",
      "**************************************************\n",
      "\n"
     ]
    }
   ],
   "source": [
    "breaker()\n",
    "print(\"Notebook Rumtime : {:.2f} minutes\".format((time() - notebook_start_time)/60))\n",
    "breaker()"
   ]
  }
 ],
 "metadata": {
  "kernelspec": {
   "display_name": "Python 3",
   "language": "python",
   "name": "python3"
  },
  "language_info": {
   "codemirror_mode": {
    "name": "ipython",
    "version": 3
   },
   "file_extension": ".py",
   "mimetype": "text/x-python",
   "name": "python",
   "nbconvert_exporter": "python",
   "pygments_lexer": "ipython3",
   "version": "3.7.10"
  },
  "papermill": {
   "default_parameters": {},
   "duration": 1674.030043,
   "end_time": "2021-10-12T15:31:46.798227",
   "environment_variables": {},
   "exception": null,
   "input_path": "__notebook__.ipynb",
   "output_path": "__notebook__.ipynb",
   "parameters": {},
   "start_time": "2021-10-12T15:03:52.768184",
   "version": "2.3.3"
  }
 },
 "nbformat": 4,
 "nbformat_minor": 5
}
