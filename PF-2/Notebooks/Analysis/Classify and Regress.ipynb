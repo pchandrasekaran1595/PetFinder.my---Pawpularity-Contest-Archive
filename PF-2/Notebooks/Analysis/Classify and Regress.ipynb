{
  "nbformat": 4,
  "nbformat_minor": 0,
  "metadata": {
    "colab": {
      "name": "PF - Classify and Regress",
      "provenance": []
    },
    "kernelspec": {
      "name": "python3",
      "display_name": "Python 3"
    },
    "language_info": {
      "name": "python"
    },
    "accelerator": "GPU"
  },
  "cells": [
    {
      "cell_type": "markdown",
      "metadata": {
        "id": "3AzfXz1MJvgC"
      },
      "source": [
        "## Get Data"
      ]
    },
    {
      "cell_type": "code",
      "metadata": {
        "id": "6rUy6JNRJp2X"
      },
      "source": [
        "from IPython.display import clear_output\n",
        "from google.colab import files\n",
        "files.upload()\n",
        "\n",
        "!pip install -q kaggle\n",
        "!mkdir -p ~/.kaggle\n",
        "!cp kaggle.json ~/.kaggle/\n",
        "!ls ~/.kaggle\n",
        "!chmod 600 /root/.kaggle/kaggle.json\n",
        "\n",
        "!kaggle datasets download -d jackstapleton/petfinder-pf-nc-ua-all-dataset\n",
        "\n",
        "!mkdir ~/.data\n",
        "!unzip -q petfinder-pf-nc-ua-all-dataset.zip -d /.data\n",
        "\n",
        "clear_output()"
      ],
      "execution_count": 1,
      "outputs": []
    },
    {
      "cell_type": "code",
      "metadata": {
        "id": "3iArOU6tJyMy"
      },
      "source": [
        "from google.colab import drive\n",
        "drive.mount(\"/content/gdrive\")\n",
        "\n",
        "clear_output()"
      ],
      "execution_count": 2,
      "outputs": []
    },
    {
      "cell_type": "markdown",
      "metadata": {
        "id": "7NEr1Rv-Jytn"
      },
      "source": [
        "## Library Imports"
      ]
    },
    {
      "cell_type": "code",
      "metadata": {
        "id": "Fp8ZmyO4J1VR"
      },
      "source": [
        "import os\n",
        "import gc\n",
        "import re\n",
        "import pickle\n",
        "import numpy as np\n",
        "import pandas as pd\n",
        "import matplotlib.pyplot as plt\n",
        "\n",
        "import torch\n",
        "from torch import nn, optim\n",
        "from torch.utils.data import Dataset\n",
        "from torch.utils.data import DataLoader as DL\n",
        "from torch.nn.utils import weight_norm as WN\n",
        "from torchvision import models, transforms\n",
        "\n",
        "from time import time\n",
        "from sklearn.model_selection import KFold, StratifiedKFold\n",
        "from sklearn.metrics import mean_squared_error\n",
        "# from sklearn.preprocessing import StandardScaler"
      ],
      "execution_count": 1,
      "outputs": []
    },
    {
      "cell_type": "markdown",
      "metadata": {
        "id": "_rf1OwHaJ3kF"
      },
      "source": [
        "## Constants and Utilities"
      ]
    },
    {
      "cell_type": "code",
      "metadata": {
        "id": "Lm8L6g3WJ5Td"
      },
      "source": [
        "SEED = 49\n",
        "DEVICE = torch.device(\"cuda\" if torch.cuda.is_available() else \"cpu\")\n",
        "PATH = \"/.data\"\n",
        "\n",
        "verbose = False\n",
        "DEBUG = False\n",
        "\n",
        "# sc_y = StandardScaler()"
      ],
      "execution_count": 2,
      "outputs": []
    },
    {
      "cell_type": "code",
      "metadata": {
        "id": "A1x_qFtmJ77_"
      },
      "source": [
        "def breaker(num=50, char=\"*\") -> None:\n",
        "    print(\"\\n\" + num*char + \"\\n\")\n",
        "\n",
        "\n",
        "def get_targets() -> np.ndarray:\n",
        "    df = pd.read_csv(\"/content/gdrive/My Drive/train.csv\", engine=\"python\")\n",
        "    targets = df[\"Pawpularity\"].copy().values\n",
        "    classify_targets = targets.copy() \n",
        "    regress_targets  = targets.copy()\n",
        "    for i in range(10):\n",
        "        classify_targets[np.logical_and(targets >= (i*10)+1, targets <= (i+1) * 10)] = i\n",
        "    regress_targets = regress_targets % 10\n",
        "    return targets, classify_targets, regress_targets\n",
        "\n",
        "\n",
        "def show_graphs(L: list, title=None) -> None:\n",
        "    TL, VL = [], []\n",
        "    for i in range(len(L)):\n",
        "        TL.append(L[i][\"train\"])\n",
        "        VL.append(L[i][\"valid\"])\n",
        "    x_Axis = np.arange(1, len(L) + 1)\n",
        "    plt.figure()\n",
        "    plt.plot(x_Axis, TL, \"r\", label=\"train\")\n",
        "    plt.plot(x_Axis, VL, \"b\", label=\"valid\")\n",
        "    plt.grid()\n",
        "    plt.legend()\n",
        "    if title:\n",
        "        plt.title(\"{} Loss\".format(title))\n",
        "    else:\n",
        "        plt.title(\"Loss\")\n",
        "    plt.show()"
      ],
      "execution_count": 3,
      "outputs": []
    },
    {
      "cell_type": "markdown",
      "metadata": {
        "id": "zHIEDbzxJ9oF"
      },
      "source": [
        "## Dataset Template and BuildDataloader"
      ]
    },
    {
      "cell_type": "code",
      "metadata": {
        "id": "pqBx-KAYKAWv"
      },
      "source": [
        "class DS(Dataset):\n",
        "    def __init__(self, features=None, classify_targets=None, regress_targets=None):\n",
        "        self.features = features\n",
        "        self.classify_targets = classify_targets\n",
        "        self.regress_targets = regress_targets\n",
        "        \n",
        "    def __len__(self):\n",
        "        return self.features.shape[0]\n",
        "    \n",
        "    def __getitem__(self, idx):\n",
        "        return torch.FloatTensor(self.features[idx]), torch.LongTensor(self.classify_targets[idx]), torch.FloatTensor(self.regress_targets[idx])\n",
        "    \n",
        "\n",
        "def build_dataloaders(tr_features: np.ndarray, va_features: np.ndarray,\n",
        "                      tr_classify_targets: np.ndarray, va_classify_targets: np.ndarray,\n",
        "                      tr_regress_targets: np.ndarray, va_regress_targets: np.ndarray,\n",
        "                      batch_size: int, seed: int):\n",
        "\n",
        "    if verbose:\n",
        "        breaker()\n",
        "        print(\"Building Train and Validation DataLoaders ...\")\n",
        "    \n",
        "    tr_data_setup = DS(features=tr_features, classify_targets=tr_classify_targets, regress_targets=tr_regress_targets)\n",
        "    va_data_setup = DS(features=va_features, classify_targets=va_classify_targets, regress_targets=va_regress_targets)\n",
        "    \n",
        "    dataloaders = {\n",
        "        \"train\" : DL(tr_data_setup, batch_size=batch_size, shuffle=True, generator=torch.manual_seed(seed)),\n",
        "        \"valid\" : DL(va_data_setup, batch_size=batch_size, shuffle=False)\n",
        "    }\n",
        "    \n",
        "    return dataloaders"
      ],
      "execution_count": 4,
      "outputs": []
    },
    {
      "cell_type": "markdown",
      "metadata": {
        "id": "YPI2vrMBLdt2"
      },
      "source": [
        "## Build Model"
      ]
    },
    {
      "cell_type": "code",
      "metadata": {
        "id": "eUMkH6vTLc7Q"
      },
      "source": [
        "def build_model(IL: int, seed: int):\n",
        "    class ANN(nn.Module):\n",
        "        def __init__(self, IL=None):\n",
        "            super(ANN, self).__init__()\n",
        "\n",
        "            self.classifier = nn.Sequential()\n",
        "            self.classifier.add_module(\"BN\", nn.BatchNorm1d(num_features=IL, eps=1e-5))\n",
        "            self.classifier.add_module(\"FC\", WN(nn.Linear(in_features=IL, out_features=10)))\n",
        "            self.classifier.add_module(\"AN\", nn.LogSoftmax(dim=1))\n",
        "\n",
        "            self.regressor = nn.Sequential()\n",
        "            self.regressor.add_module(\"BN\", nn.BatchNorm1d(num_features=IL, eps=1e-5))\n",
        "            self.regressor.add_module(\"FC\", WN(nn.Linear(in_features=IL, out_features=1)))\n",
        "\n",
        "        def get_optimizer(self, lr=1e-3, wd=0):\n",
        "            params = [p for p in self.parameters() if p.requires_grad]\n",
        "            return optim.Adam(params, lr=lr, weight_decay=wd)\n",
        "\n",
        "        def get_plateau_scheduler(self, optimizer=None, patience=5, eps=1e-8):\n",
        "            return optim.lr_scheduler.ReduceLROnPlateau(optimizer=optimizer, patience=patience, eps=eps, verbose=True)\n",
        "\n",
        "        def forward(self, x1, x2=None):\n",
        "            if x2 is not None:\n",
        "                return self.classifier(x1), self.regressor(x1), self.classifier(x2), self.regressor(x2)\n",
        "            else:\n",
        "                return self.classifier(x1), self.regressor(x1)\n",
        "    \n",
        "    if verbose:\n",
        "        breaker()\n",
        "        print(\"Building Model ...\")\n",
        "        print(\"\\n{} -> 1\".format(IL))\n",
        "    \n",
        "    torch.manual_seed(seed)\n",
        "    model = ANN(IL=IL)\n",
        "    \n",
        "    return model"
      ],
      "execution_count": 5,
      "outputs": []
    },
    {
      "cell_type": "markdown",
      "metadata": {
        "id": "AqIDjeDFMAAU"
      },
      "source": [
        "## Fit and Predict Helpers"
      ]
    },
    {
      "cell_type": "code",
      "metadata": {
        "id": "eOYE-ehwL-xC"
      },
      "source": [
        "def fit(model=None, optimizer=None, scheduler=None, \n",
        "        epochs=None, early_stopping_patience=None,\n",
        "        dataloaders=None, fold=None, verbose=False) -> tuple:\n",
        "    \n",
        "    name = \"./Fold_{}_state.pt\".format(fold)\n",
        "    \n",
        "    if verbose:\n",
        "        breaker()\n",
        "        print(\"Training Fold {}...\".format(fold))\n",
        "        breaker()\n",
        "    else:\n",
        "        print(\"Training Fold {}...\".format(fold))\n",
        "\n",
        "    Losses = []\n",
        "    bestLoss = {\"train\" : np.inf, \"valid\" : np.inf}\n",
        "\n",
        "    start_time = time()\n",
        "    for e in range(epochs):\n",
        "        e_st = time()\n",
        "        epochLoss = {\"train\" : np.inf, \"valid\" : np.inf}\n",
        "\n",
        "        for phase in [\"train\", \"valid\"]:\n",
        "            if phase == \"train\":\n",
        "                model.train()\n",
        "            else:\n",
        "                model.eval()\n",
        "            \n",
        "            lossPerPass = []\n",
        "\n",
        "            for X, y1, y2 in dataloaders[phase]:\n",
        "                X, y1, y2 = X.to(DEVICE), y1.to(DEVICE).view(-1), y2.to(DEVICE)\n",
        "\n",
        "                optimizer.zero_grad()\n",
        "                with torch.set_grad_enabled(phase == \"train\"):\n",
        "                    classify_output, regress_output = model(X)\n",
        "                    loss = torch.nn.NLLLoss()(classify_output, y1) + torch.nn.MSELoss()(regress_output, y2)\n",
        "                    if phase == \"train\":\n",
        "                        loss.backward()\n",
        "                        optimizer.step()\n",
        "                lossPerPass.append(loss.item())\n",
        "            epochLoss[phase] = np.mean(np.array(lossPerPass))\n",
        "        Losses.append(epochLoss)\n",
        "\n",
        "        if early_stopping_patience:\n",
        "            if epochLoss[\"valid\"] < bestLoss[\"valid\"]:\n",
        "                bestLoss = epochLoss\n",
        "                BLE = e + 1\n",
        "                torch.save({\"model_state_dict\": model.state_dict(),\n",
        "                            \"optim_state_dict\": optimizer.state_dict()},\n",
        "                           name)\n",
        "                early_stopping_step = 0\n",
        "            else:\n",
        "                early_stopping_step += 1\n",
        "                if early_stopping_step > early_stopping_patience:\n",
        "                    if verbose:\n",
        "                        print(\"\\nEarly Stopping at Epoch {}\".format(e))\n",
        "                    break\n",
        "        \n",
        "        if epochLoss[\"valid\"] < bestLoss[\"valid\"]:\n",
        "            bestLoss = epochLoss\n",
        "            BLE = e + 1\n",
        "            torch.save({\"model_state_dict\": model.state_dict(),\n",
        "                        \"optim_state_dict\": optimizer.state_dict()},\n",
        "                       name)\n",
        "        \n",
        "        if scheduler:\n",
        "            scheduler.step(epochLoss[\"valid\"])\n",
        "        \n",
        "        if verbose:\n",
        "            print(\"Epoch: {} | Train Loss: {:.5f} | Valid Loss: {:.5f} | Time: {:.2f} seconds\".format(e+1, epochLoss[\"train\"], epochLoss[\"valid\"], time()-e_st))\n",
        "    \n",
        "    if verbose:\n",
        "        breaker()\n",
        "        print(\"Best Validation Loss at Epoch {}\".format(BLE))\n",
        "        breaker()\n",
        "        print(\"Time Taken [{} Epochs] : {:.2f} minutes\".format(len(Losses), (time()-start_time)/60))\n",
        "        breaker()\n",
        "        print(\"Training Completed\")\n",
        "        breaker()\n",
        "\n",
        "    return Losses, BLE, name\n",
        "\n",
        "#####################################################################################################\n",
        "\n",
        "def predict_batch(model=None, dataloader=None, mode=\"test\", path=None) -> np.ndarray:    \n",
        "    model.load_state_dict(torch.load(path, map_location=DEVICE)[\"model_state_dict\"])\n",
        "    model.to(DEVICE)\n",
        "    model.eval()\n",
        "\n",
        "    y_pred_classify = torch.zeros(1, 1).to(DEVICE)\n",
        "    y_pred_regress  = torch.zeros(1, 1).to(DEVICE)\n",
        "\n",
        "    if re.match(r\"valid\", mode, re.IGNORECASE):\n",
        "        for X, _, _ in dataloader:\n",
        "            X = X.to(DEVICE)\n",
        "            with torch.no_grad():\n",
        "                classify_output, regress_output = model(X)\n",
        "            classify_output = torch.argmax(classify_output, dim=1)\n",
        "            y_pred_classify = torch.cat((y_pred_classify, classify_output.view(-1, 1)), dim=0)\n",
        "            y_pred_regress = torch.cat((y_pred_regress, regress_output.view(-1, 1)), dim=0)\n",
        "\n",
        "    elif re.match(r\"test\", mode, re.IGNORECASE):\n",
        "        for X in dataloader:\n",
        "            X = X.to(DEVICE)\n",
        "            with torch.no_grad():\n",
        "                classify_output, regress_output = model(X)\n",
        "            classify_output = torch.argmax(classify_output, dim=1)\n",
        "            y_pred_classify = torch.cat((y_pred_classify, classify_output.view(-1, 1)), dim=0)\n",
        "            y_pred_regress = torch.cat((y_pred_regress, regress_output.view(-1, 1)), dim=0)\n",
        "    \n",
        "    y_pred_classify = y_pred_classify[1:].detach().cpu().numpy()\n",
        "    y_pred_regress = y_pred_regress[1:].detach().cpu().numpy()\n",
        "\n",
        "    y_pred_classify = y_pred_classify * 10\n",
        "    y_pred = y_pred_classify + y_pred_regress\n",
        "    \n",
        "    return y_pred"
      ],
      "execution_count": 6,
      "outputs": []
    },
    {
      "cell_type": "markdown",
      "metadata": {
        "id": "Pu2YI71ETi7T"
      },
      "source": [
        "## Train"
      ]
    },
    {
      "cell_type": "code",
      "metadata": {
        "id": "0Ga2Gv8wNcep"
      },
      "source": [
        "def train(features: np.ndarray, targets: np.ndarray,\n",
        "          classify_targets: np.ndarray, regress_targets: np.ndarray,\n",
        "          n_splits: int, batch_size: int, lr: float, wd: float, \n",
        "          epochs: int, early_stopping: int, \n",
        "          patience=None, eps=None) -> list:        \n",
        "    \n",
        "    metrics = []\n",
        "        \n",
        "    KFold_start_time = time()\n",
        "    breaker()\n",
        "    print(\"Performing {} Fold CV ...\".format(n_splits))\n",
        "    breaker()\n",
        "    fold = 1\n",
        "    for tr_idx, va_idx in StratifiedKFold(n_splits=n_splits, shuffle=True, random_state=SEED).split(features, classify_targets):\n",
        "\n",
        "        tr_features, va_features = features[tr_idx], features[va_idx]\n",
        "        tr_targets, va_targets = targets[tr_idx], targets[va_idx]\n",
        "        tr_classify_targets, va_classify_targets = classify_targets[tr_idx], classify_targets[va_idx]\n",
        "        tr_regress_targets, va_regress_targets = regress_targets[tr_idx], regress_targets[va_idx]\n",
        "\n",
        "        tr_classify_targets, va_classify_targets = tr_classify_targets.reshape(-1, 1), va_classify_targets.reshape(-1, 1)\n",
        "        tr_regress_targets, va_regress_targets = tr_regress_targets.reshape(-1, 1), va_regress_targets.reshape(-1, 1)\n",
        "\n",
        "        dataloaders = build_dataloaders(tr_features, va_features,\n",
        "                                        tr_classify_targets, va_classify_targets, \n",
        "                                        tr_regress_targets, va_regress_targets, \n",
        "                                        batch_size, SEED)\n",
        "        model = build_model(IL=tr_features.shape[1], seed=SEED).to(DEVICE)\n",
        "        optimizer = model.get_optimizer(lr=lr, wd=wd)\n",
        "        scheduler = None\n",
        "        if isinstance(patience, int) and isinstance(eps, float):\n",
        "            scheduler = model.get_plateau_scheduler(optimizer, patience, eps)\n",
        "\n",
        "        L, _, name = fit(model=model, optimizer=optimizer, scheduler=scheduler, \n",
        "                         epochs=epochs, early_stopping_patience=early_stopping,\n",
        "                         dataloaders=dataloaders, fold=fold, verbose=verbose)\n",
        "        y_pred = predict_batch(model=model, dataloader=dataloaders[\"valid\"], mode=\"valid\", path=name)\n",
        "        RMSE = np.sqrt(mean_squared_error(y_pred, va_targets))\n",
        "        if verbose:\n",
        "            print(\"Validation RMSE [Fold {}]: {:.5f}\".format(fold, RMSE))\n",
        "            breaker()\n",
        "            show_graphs(L)\n",
        "        \n",
        "        metrics_dict = {\"Fold\" : fold, \"RMSE\" : RMSE}\n",
        "        metrics.append(metrics_dict)\n",
        "        \n",
        "        fold += 1\n",
        "\n",
        "    breaker()\n",
        "    print(\"Total Time to {} Fold CV : {:.2f} minutes\".format(n_splits, (time() - KFold_start_time)/60))\n",
        "\n",
        "    return metrics, (time() - KFold_start_time)/60"
      ],
      "execution_count": 7,
      "outputs": []
    },
    {
      "cell_type": "markdown",
      "metadata": {
        "id": "RN_yv1_qThOi"
      },
      "source": [
        "## Main\n"
      ]
    },
    {
      "cell_type": "code",
      "metadata": {
        "id": "GAuRhtjZTgyr"
      },
      "source": [
        "def main():\n",
        "    breaker()\n",
        "    print(\"Clean Memory , {} Objects Collected ...\".format(gc.collect()))\n",
        "\n",
        "    ########### Params ###########\n",
        "    \n",
        "    if DEBUG:\n",
        "        n_splits = 3\n",
        "        patience, eps = 5, 1e-8\n",
        "        epochs, early_stopping = 5, 5\n",
        "\n",
        "        batch_size = 128\n",
        "        lr = 1e-3\n",
        "        wd = 1e-1\n",
        "    else:\n",
        "        n_splits = 10\n",
        "        patience, eps = 5, 1e-8\n",
        "        epochs, early_stopping = 100, 8\n",
        "\n",
        "        batch_size = 128\n",
        "        lr = 1e-3\n",
        "        wd = 1e-1\n",
        "    \n",
        "    ##############################\n",
        "\n",
        "    if verbose:\n",
        "        breaker()\n",
        "        print(\"Loading Data ...\")\n",
        "    \n",
        "    features = np.load(os.path.join(PATH, \"densenet169_features.npy\"))\n",
        "    targets, classify_targets, regress_targets = get_targets()\n",
        "\n",
        "    # Without Scheduler\n",
        "    metrics, _ = train(features, targets, classify_targets, regress_targets, n_splits, batch_size, lr, wd, epochs, early_stopping, patience=None, eps=None)\n",
        "\n",
        "    # With Scheduler\n",
        "    # train(images, targets, n_splits, batch_size, lr, wd, epochs, early_stopping, pretrained_ann_path, patience=patience, eps=eps)\n",
        "\n",
        "    if verbose:\n",
        "        pass\n",
        "    else:\n",
        "        breaker()\n",
        "    rmse = []\n",
        "    for i in range(len(metrics)):\n",
        "        print(\"Fold {}, RMSE {:.5f}\".format(metrics[i][\"Fold\"], metrics[i][\"RMSE\"]))\n",
        "        rmse.append(metrics[i][\"RMSE\"])\n",
        "    breaker()\n",
        "\n",
        "    best_index = rmse.index(min(rmse))\n",
        "\n",
        "    print(\"Best RMSE : {:.5f}\".format(metrics[best_index][\"RMSE\"]))\n",
        "    print(\"Avg RMSE  : {:.5f}\".format(sum(rmse) / len(rmse)))\n",
        "\n",
        "    with open(\"metrics.pkl\", \"wb\") as fp:\n",
        "        pickle.dump(metrics, fp)\n",
        "\n",
        "    breaker()"
      ],
      "execution_count": 8,
      "outputs": []
    },
    {
      "cell_type": "code",
      "metadata": {
        "colab": {
          "base_uri": "https://localhost:8080/"
        },
        "id": "DHU3rBEBT7yQ",
        "outputId": "5fa5af4b-17e0-447b-d3eb-8ca0844ade7c"
      },
      "source": [
        "main()"
      ],
      "execution_count": 9,
      "outputs": [
        {
          "output_type": "stream",
          "name": "stdout",
          "text": [
            "\n",
            "**************************************************\n",
            "\n",
            "Clean Memory , 255 Objects Collected ...\n",
            "\n",
            "**************************************************\n",
            "\n",
            "Performing 10 Fold CV ...\n",
            "\n",
            "**************************************************\n",
            "\n",
            "Training Fold 1...\n",
            "Training Fold 2...\n",
            "Training Fold 3...\n",
            "Training Fold 4...\n",
            "Training Fold 5...\n",
            "Training Fold 6...\n",
            "Training Fold 7...\n",
            "Training Fold 8...\n",
            "Training Fold 9...\n",
            "Training Fold 10...\n",
            "\n",
            "**************************************************\n",
            "\n",
            "Total Time to 10 Fold CV : 2.54 minutes\n",
            "\n",
            "**************************************************\n",
            "\n",
            "Fold 1, RMSE 23.69315\n",
            "Fold 2, RMSE 22.04580\n",
            "Fold 3, RMSE 23.46380\n",
            "Fold 4, RMSE 24.57623\n",
            "Fold 5, RMSE 22.85770\n",
            "Fold 6, RMSE 22.71320\n",
            "Fold 7, RMSE 24.42093\n",
            "Fold 8, RMSE 22.53111\n",
            "Fold 9, RMSE 23.82031\n",
            "Fold 10, RMSE 24.42035\n",
            "\n",
            "**************************************************\n",
            "\n",
            "Best RMSE : 22.04580\n",
            "Avg RMSE  : 23.45426\n",
            "\n",
            "**************************************************\n",
            "\n"
          ]
        }
      ]
    }
  ]
}