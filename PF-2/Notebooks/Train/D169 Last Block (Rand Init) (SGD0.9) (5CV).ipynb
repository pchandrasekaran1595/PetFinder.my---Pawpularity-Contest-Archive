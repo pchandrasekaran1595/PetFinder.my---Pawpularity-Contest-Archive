{
 "cells": [
  {
   "cell_type": "markdown",
   "id": "2669f81c",
   "metadata": {
    "_cell_guid": "b1076dfc-b9ad-4769-8c92-a6c4dae69d19",
    "_uuid": "8f2839f25d086af736a60e9eeb907d3b93b6e0e5",
    "papermill": {
     "duration": 0.012805,
     "end_time": "2021-10-14T17:38:13.317067",
     "exception": false,
     "start_time": "2021-10-14T17:38:13.304262",
     "status": "completed"
    },
    "tags": []
   },
   "source": [
    "## Library Imports"
   ]
  },
  {
   "cell_type": "code",
   "execution_count": 1,
   "id": "c9989521",
   "metadata": {
    "execution": {
     "iopub.execute_input": "2021-10-14T17:38:13.346523Z",
     "iopub.status.busy": "2021-10-14T17:38:13.344892Z",
     "iopub.status.idle": "2021-10-14T17:38:13.353661Z",
     "shell.execute_reply": "2021-10-14T17:38:13.354080Z",
     "shell.execute_reply.started": "2021-10-14T17:02:18.623800Z"
    },
    "papermill": {
     "duration": 0.024983,
     "end_time": "2021-10-14T17:38:13.354354",
     "exception": false,
     "start_time": "2021-10-14T17:38:13.329371",
     "status": "completed"
    },
    "tags": []
   },
   "outputs": [],
   "source": [
    "from time import time\n",
    "notebook_start_time = time()"
   ]
  },
  {
   "cell_type": "code",
   "execution_count": 2,
   "id": "11141ed1",
   "metadata": {
    "execution": {
     "iopub.execute_input": "2021-10-14T17:38:13.383958Z",
     "iopub.status.busy": "2021-10-14T17:38:13.383445Z",
     "iopub.status.idle": "2021-10-14T17:38:15.878442Z",
     "shell.execute_reply": "2021-10-14T17:38:15.877758Z",
     "shell.execute_reply.started": "2021-10-14T17:02:18.813291Z"
    },
    "papermill": {
     "duration": 2.512614,
     "end_time": "2021-10-14T17:38:15.878583",
     "exception": false,
     "start_time": "2021-10-14T17:38:13.365969",
     "status": "completed"
    },
    "tags": []
   },
   "outputs": [],
   "source": [
    "import os\n",
    "import re\n",
    "import gc\n",
    "import pickle\n",
    "import random as r\n",
    "import numpy as np\n",
    "import pandas as pd\n",
    "import matplotlib.pyplot as plt\n",
    "\n",
    "import torch\n",
    "from torch import nn, optim\n",
    "from torch.utils.data import Dataset\n",
    "from torch.utils.data import DataLoader as DL\n",
    "from torch.nn.utils import weight_norm as WN\n",
    "from torchvision import models, transforms\n",
    "\n",
    "from time import time\n",
    "from sklearn.model_selection import KFold\n",
    "from sklearn.metrics import mean_squared_error\n",
    "from sklearn.preprocessing import StandardScaler\n",
    "\n",
    "import warnings\n",
    "warnings.filterwarnings(\"ignore\")"
   ]
  },
  {
   "cell_type": "markdown",
   "id": "6db7f227",
   "metadata": {
    "papermill": {
     "duration": 0.019008,
     "end_time": "2021-10-14T17:38:15.916969",
     "exception": false,
     "start_time": "2021-10-14T17:38:15.897961",
     "status": "completed"
    },
    "tags": []
   },
   "source": [
    "## Constants and Utilities"
   ]
  },
  {
   "cell_type": "code",
   "execution_count": 3,
   "id": "5b5fd1b5",
   "metadata": {
    "execution": {
     "iopub.execute_input": "2021-10-14T17:38:16.008826Z",
     "iopub.status.busy": "2021-10-14T17:38:16.008072Z",
     "iopub.status.idle": "2021-10-14T17:38:16.011548Z",
     "shell.execute_reply": "2021-10-14T17:38:16.010930Z",
     "shell.execute_reply.started": "2021-10-14T17:21:40.722327Z"
    },
    "papermill": {
     "duration": 0.075783,
     "end_time": "2021-10-14T17:38:16.011671",
     "exception": false,
     "start_time": "2021-10-14T17:38:15.935888",
     "status": "completed"
    },
    "tags": []
   },
   "outputs": [],
   "source": [
    "SEED = 49\n",
    "DEVICE = torch.device(\"cuda\" if torch.cuda.is_available() else \"cpu\")\n",
    "\n",
    "NUM_FEATURES = 1664\n",
    "TRANSFORM = transforms.Compose([transforms.ToTensor(),\n",
    "                                transforms.Normalize([0.485, 0.456, 0.406],\n",
    "                                                     [0.229, 0.224, 0.225]),\n",
    "                                ])\n",
    "\n",
    "PATH = \"../input/petfinder-pawpularity-score\"\n",
    "IMAGE_PATH = \"../input/petfinder-pretrained-images-nocrop\"\n",
    "\n",
    "verbose = False\n",
    "DEBUG = False\n",
    "\n",
    "sc_y = StandardScaler()"
   ]
  },
  {
   "cell_type": "code",
   "execution_count": 4,
   "id": "e4060212",
   "metadata": {
    "execution": {
     "iopub.execute_input": "2021-10-14T17:38:16.062325Z",
     "iopub.status.busy": "2021-10-14T17:38:16.061468Z",
     "iopub.status.idle": "2021-10-14T17:38:16.066669Z",
     "shell.execute_reply": "2021-10-14T17:38:16.067237Z",
     "shell.execute_reply.started": "2021-10-14T17:21:41.130339Z"
    },
    "papermill": {
     "duration": 0.035341,
     "end_time": "2021-10-14T17:38:16.067429",
     "exception": false,
     "start_time": "2021-10-14T17:38:16.032088",
     "status": "completed"
    },
    "tags": []
   },
   "outputs": [],
   "source": [
    "def breaker(num=50, char=\"*\") -> None:\n",
    "    print(\"\\n\" + num*char + \"\\n\")\n",
    "\n",
    "\n",
    "def get_targets(path: str) -> np.ndarray:\n",
    "    df = pd.read_csv(os.path.join(path, \"train.csv\"), engine=\"python\")\n",
    "    targets = df[\"Pawpularity\"].copy().values\n",
    "    return targets.reshape(-1, 1)\n",
    "\n",
    "\n",
    "def show_graphs(L: list, title=None) -> None:\n",
    "    TL, VL = [], []\n",
    "    for i in range(len(L)):\n",
    "        TL.append(L[i][\"train\"])\n",
    "        VL.append(L[i][\"valid\"])\n",
    "    x_Axis = np.arange(1, len(L) + 1)\n",
    "    plt.figure()\n",
    "    plt.plot(x_Axis, TL, \"r\", label=\"train\")\n",
    "    plt.plot(x_Axis, VL, \"b\", label=\"valid\")\n",
    "    plt.grid()\n",
    "    plt.legend()\n",
    "    if title:\n",
    "        plt.title(\"{} Loss\".format(title))\n",
    "    else:\n",
    "        plt.title(\"Loss\")\n",
    "    plt.show()"
   ]
  },
  {
   "cell_type": "markdown",
   "id": "141b40bd",
   "metadata": {
    "papermill": {
     "duration": 0.01864,
     "end_time": "2021-10-14T17:38:16.105615",
     "exception": false,
     "start_time": "2021-10-14T17:38:16.086975",
     "status": "completed"
    },
    "tags": []
   },
   "source": [
    "## Dataset Template and Build Dataloader"
   ]
  },
  {
   "cell_type": "code",
   "execution_count": 5,
   "id": "b2ea81c1",
   "metadata": {
    "execution": {
     "iopub.execute_input": "2021-10-14T17:38:16.153418Z",
     "iopub.status.busy": "2021-10-14T17:38:16.148114Z",
     "iopub.status.idle": "2021-10-14T17:38:16.157540Z",
     "shell.execute_reply": "2021-10-14T17:38:16.158061Z",
     "shell.execute_reply.started": "2021-10-14T17:21:41.680991Z"
    },
    "papermill": {
     "duration": 0.033726,
     "end_time": "2021-10-14T17:38:16.158234",
     "exception": false,
     "start_time": "2021-10-14T17:38:16.124508",
     "status": "completed"
    },
    "tags": []
   },
   "outputs": [],
   "source": [
    "class DS(Dataset):\n",
    "    def __init__(self, images=None, targets=None, transform=None):\n",
    "        self.images = images\n",
    "        self.targets = targets\n",
    "        self.transform = transform\n",
    "    \n",
    "    def __len__(self):\n",
    "        return self.images.shape[0]\n",
    "    \n",
    "    def __getitem__(self, idx):\n",
    "        return self.transform(self.images[idx]), torch.FloatTensor(self.targets[idx])\n",
    "\n",
    "\n",
    "def build_dataloaders(tr_images: np.ndarray, va_images: np.ndarray,\n",
    "                      tr_targets: np.ndarray, va_targets: np.ndarray,\n",
    "                      batch_size: int, seed: int, transform: transforms.transforms.Compose):\n",
    "\n",
    "    if verbose:\n",
    "        breaker()\n",
    "        print(\"Building Train and Validation DataLoaders ...\")\n",
    "    \n",
    "    tr_data_setup = DS(images=tr_images, targets=tr_targets, transform=transform)\n",
    "    va_data_setup = DS(images=va_images, targets=va_targets, transform=transform)\n",
    "    \n",
    "    dataloaders = {\n",
    "        \"train\" : DL(tr_data_setup, batch_size=batch_size, shuffle=True, generator=torch.manual_seed(seed)),\n",
    "        \"valid\" : DL(va_data_setup, batch_size=batch_size, shuffle=False)\n",
    "    }\n",
    "    \n",
    "    return dataloaders"
   ]
  },
  {
   "cell_type": "markdown",
   "id": "276c0280",
   "metadata": {
    "papermill": {
     "duration": 0.018104,
     "end_time": "2021-10-14T17:38:16.195626",
     "exception": false,
     "start_time": "2021-10-14T17:38:16.177522",
     "status": "completed"
    },
    "tags": []
   },
   "source": [
    "## Build Model"
   ]
  },
  {
   "cell_type": "code",
   "execution_count": 6,
   "id": "8cd745b0",
   "metadata": {
    "execution": {
     "iopub.execute_input": "2021-10-14T17:38:16.242952Z",
     "iopub.status.busy": "2021-10-14T17:38:16.242386Z",
     "iopub.status.idle": "2021-10-14T17:38:16.246151Z",
     "shell.execute_reply": "2021-10-14T17:38:16.245719Z",
     "shell.execute_reply.started": "2021-10-14T17:21:42.202448Z"
    },
    "papermill": {
     "duration": 0.031559,
     "end_time": "2021-10-14T17:38:16.246263",
     "exception": false,
     "start_time": "2021-10-14T17:38:16.214704",
     "status": "completed"
    },
    "tags": []
   },
   "outputs": [],
   "source": [
    "def build_model(IL: int, seed: int):\n",
    "    class Model(nn.Module):\n",
    "        def __init__(self, IL=None):\n",
    "            super(Model, self).__init__()\n",
    "\n",
    "            self.features = models.densenet169(pretrained=True, progress=False)\n",
    "            self.features = nn.Sequential(*[*self.features.children()][:-1])\n",
    "            self.freeze()\n",
    "            self.features.add_module(\"Adaptive Average Pool\", nn.AdaptiveAvgPool2d(output_size=(1, 1)))\n",
    "            self.features.add_module(\"Flatten\", nn.Flatten())\n",
    "\n",
    "            self.predictor = nn.Sequential()\n",
    "            self.predictor.add_module(\"BN\", nn.BatchNorm1d(num_features=IL, eps=1e-5))\n",
    "            self.predictor.add_module(\"FC\", WN(nn.Linear(in_features=IL, out_features=1)))\n",
    "        \n",
    "        def freeze(self):\n",
    "            for params in self.parameters():\n",
    "                params.requires_grad = False\n",
    "            \n",
    "            for names, params in self.named_parameters():\n",
    "                if re.match(r\"features.0.denseblock4\", names, re.IGNORECASE):\n",
    "                    params.requires_grad = True\n",
    "                if re.match(r\"features.0.norm5\", names, re.IGNORECASE):\n",
    "                    params.requires_grad = True\n",
    "        \n",
    "        def get_optimizer(self, lr=1e-3, wd=0.0):\n",
    "            params = [p for p in self.parameters() if p.requires_grad]\n",
    "            return optim.SGD(params, lr=lr, momentum=0.9, weight_decay=wd)\n",
    "        \n",
    "        def forward(self, x1, x2=None):\n",
    "            if x2 is not None:\n",
    "                x1 = self.features(x1)\n",
    "                x2 = self.features(x2)\n",
    "                return self.predictor(x1), self.predictor(x2)\n",
    "            else:\n",
    "                x1 = self.features(x1)\n",
    "                return self.predictor(x1)\n",
    "        \n",
    "    if verbose:\n",
    "        breaker()\n",
    "        print(\"Building Model ...\")\n",
    "\n",
    "    torch.manual_seed(seed)\n",
    "    model = Model(IL=IL)\n",
    "    return model"
   ]
  },
  {
   "cell_type": "markdown",
   "id": "e7da59e6",
   "metadata": {
    "papermill": {
     "duration": 0.011267,
     "end_time": "2021-10-14T17:38:16.268701",
     "exception": false,
     "start_time": "2021-10-14T17:38:16.257434",
     "status": "completed"
    },
    "tags": []
   },
   "source": [
    "## Fit and Predict"
   ]
  },
  {
   "cell_type": "code",
   "execution_count": 7,
   "id": "179dc129",
   "metadata": {
    "execution": {
     "iopub.execute_input": "2021-10-14T17:38:16.313464Z",
     "iopub.status.busy": "2021-10-14T17:38:16.311755Z",
     "iopub.status.idle": "2021-10-14T17:38:16.314086Z",
     "shell.execute_reply": "2021-10-14T17:38:16.314532Z",
     "shell.execute_reply.started": "2021-10-14T17:21:42.603893Z"
    },
    "papermill": {
     "duration": 0.034571,
     "end_time": "2021-10-14T17:38:16.314677",
     "exception": false,
     "start_time": "2021-10-14T17:38:16.280106",
     "status": "completed"
    },
    "tags": []
   },
   "outputs": [],
   "source": [
    "def fit(model=None, optimizer=None, scheduler=None, \n",
    "        epochs=None, early_stopping_patience=None,\n",
    "        dataloaders=None, fold=None, verbose=False) -> tuple:\n",
    "    \n",
    "    name = \"./Fold_{}_state.pt\".format(fold)\n",
    "    \n",
    "    if verbose:\n",
    "        breaker()\n",
    "        print(\"Training Fold {}...\".format(fold))\n",
    "        breaker()\n",
    "    else:\n",
    "        print(\"Training Fold {}...\".format(fold))\n",
    "\n",
    "    Losses = []\n",
    "    bestLoss = {\"train\" : np.inf, \"valid\" : np.inf}\n",
    "\n",
    "    start_time = time()\n",
    "    for e in range(epochs):\n",
    "        e_st = time()\n",
    "        epochLoss = {\"train\" : np.inf, \"valid\" : np.inf}\n",
    "\n",
    "        for phase in [\"train\", \"valid\"]:\n",
    "            if phase == \"train\":\n",
    "                model.train()\n",
    "            else:\n",
    "                model.eval()\n",
    "            \n",
    "            lossPerPass = []\n",
    "\n",
    "            for X, y in dataloaders[phase]:\n",
    "                X, y = X.to(DEVICE), y.to(DEVICE)\n",
    "\n",
    "                optimizer.zero_grad()\n",
    "                with torch.set_grad_enabled(phase == \"train\"):\n",
    "                    output = model(X)\n",
    "                    loss = torch.nn.MSELoss()(output, y)\n",
    "                    if phase == \"train\":\n",
    "                        loss.backward()\n",
    "                        optimizer.step()\n",
    "                lossPerPass.append(loss.item())\n",
    "            epochLoss[phase] = np.mean(np.array(lossPerPass))\n",
    "        Losses.append(epochLoss)\n",
    "\n",
    "        if early_stopping_patience:\n",
    "            if epochLoss[\"valid\"] < bestLoss[\"valid\"]:\n",
    "                bestLoss = epochLoss\n",
    "                BLE = e + 1\n",
    "                torch.save({\"model_state_dict\": model.state_dict(),\n",
    "                            \"optim_state_dict\": optimizer.state_dict()},\n",
    "                           name)\n",
    "                early_stopping_step = 0\n",
    "            else:\n",
    "                early_stopping_step += 1\n",
    "                if early_stopping_step > early_stopping_patience:\n",
    "                    if verbose:\n",
    "                        print(\"\\nEarly Stopping at Epoch {}\".format(e))\n",
    "                    break\n",
    "        \n",
    "        if epochLoss[\"valid\"] < bestLoss[\"valid\"]:\n",
    "            bestLoss = epochLoss\n",
    "            BLE = e + 1\n",
    "            torch.save({\"model_state_dict\": model.state_dict(),\n",
    "                        \"optim_state_dict\": optimizer.state_dict()},\n",
    "                       name)\n",
    "        \n",
    "        if scheduler:\n",
    "            scheduler.step(epochLoss[\"valid\"])\n",
    "        \n",
    "        if verbose:\n",
    "            print(\"Epoch: {} | Train Loss: {:.5f} | Valid Loss: {:.5f} | Time: {:.2f} seconds\".format(e+1, epochLoss[\"train\"], epochLoss[\"valid\"], time()-e_st))\n",
    "    \n",
    "    if verbose:\n",
    "        breaker()\n",
    "        print(\"Best Validation Loss at Epoch {}\".format(BLE))\n",
    "        breaker()\n",
    "        print(\"Time Taken [{} Epochs] : {:.2f} minutes\".format(len(Losses), (time()-start_time)/60))\n",
    "        breaker()\n",
    "        print(\"Training Completed\")\n",
    "        breaker()\n",
    "\n",
    "    return Losses, BLE, name\n",
    "\n",
    "#####################################################################################################\n",
    "\n",
    "def predict_batch(model=None, dataloader=None, mode=\"test\", path=None) -> np.ndarray:    \n",
    "    model.load_state_dict(torch.load(path, map_location=DEVICE)[\"model_state_dict\"])\n",
    "    model.to(DEVICE)\n",
    "    model.eval()\n",
    "\n",
    "    y_pred = torch.zeros(1, 1).to(DEVICE)\n",
    "    if re.match(r\"valid\", mode, re.IGNORECASE):\n",
    "        for X, _ in dataloader:\n",
    "            X = X.to(DEVICE)\n",
    "            with torch.no_grad():\n",
    "                output = model(X)\n",
    "            y_pred = torch.cat((y_pred, output.view(-1, 1)), dim=0)\n",
    "    elif re.match(r\"test\", mode, re.IGNORECASE):\n",
    "        for X in dataloader:\n",
    "            X = X.to(DEVICE)\n",
    "            with torch.no_grad():\n",
    "                output = model(X)\n",
    "            y_pred = torch.cat((y_pred, output.view(-1, 1)), dim=0)\n",
    "    \n",
    "    return y_pred[1:].detach().cpu().numpy()"
   ]
  },
  {
   "cell_type": "markdown",
   "id": "8336c41d",
   "metadata": {
    "papermill": {
     "duration": 0.011206,
     "end_time": "2021-10-14T17:38:16.337901",
     "exception": false,
     "start_time": "2021-10-14T17:38:16.326695",
     "status": "completed"
    },
    "tags": []
   },
   "source": [
    "## Train"
   ]
  },
  {
   "cell_type": "code",
   "execution_count": 8,
   "id": "2db055a8",
   "metadata": {
    "execution": {
     "iopub.execute_input": "2021-10-14T17:38:16.373478Z",
     "iopub.status.busy": "2021-10-14T17:38:16.372732Z",
     "iopub.status.idle": "2021-10-14T17:38:16.374785Z",
     "shell.execute_reply": "2021-10-14T17:38:16.375184Z",
     "shell.execute_reply.started": "2021-10-14T17:21:43.520056Z"
    },
    "papermill": {
     "duration": 0.025961,
     "end_time": "2021-10-14T17:38:16.375310",
     "exception": false,
     "start_time": "2021-10-14T17:38:16.349349",
     "status": "completed"
    },
    "tags": []
   },
   "outputs": [],
   "source": [
    "def train(images: np.ndarray, targets: np.ndarray, \n",
    "          n_splits: int, batch_size: int, \n",
    "          lr: float, wd: float, \n",
    "          epochs: int, early_stopping: int,\n",
    "          patience=None, eps=None) -> list:        \n",
    "    \n",
    "    metrics = []\n",
    "        \n",
    "    KFold_start_time = time()\n",
    "    breaker()\n",
    "    print(\"Performing {} Fold CV ...\".format(n_splits))\n",
    "    if verbose:\n",
    "        pass\n",
    "    else:\n",
    "        breaker()\n",
    "    fold = 1\n",
    "    for tr_idx, va_idx in KFold(n_splits=n_splits, shuffle=True, random_state=SEED).split(images):\n",
    "        tr_images, va_images   = images[tr_idx], images[va_idx]\n",
    "        tr_targets, va_targets = targets[tr_idx], targets[va_idx]\n",
    "\n",
    "        tr_targets = sc_y.fit_transform(tr_targets)\n",
    "        va_targets = sc_y.transform(va_targets)\n",
    "\n",
    "        dataloaders = build_dataloaders(tr_images, va_images,\n",
    "                                        tr_targets, va_targets, \n",
    "                                        batch_size, SEED, TRANSFORM)\n",
    "        model = build_model(IL=NUM_FEATURES, seed=SEED).to(DEVICE)\n",
    "        optimizer = model.get_optimizer(lr=lr, wd=wd)\n",
    "        scheduler = None\n",
    "        if isinstance(patience, int) and isinstance(eps, float):\n",
    "            scheduler = model.get_plateau_scheduler(optimizer, patience, eps)\n",
    "\n",
    "        L, _, name = fit(model=model, optimizer=optimizer, scheduler=scheduler, \n",
    "                         epochs=epochs, early_stopping_patience=early_stopping,\n",
    "                         dataloaders=dataloaders, fold=fold, verbose=verbose)\n",
    "        y_pred = predict_batch(model=model, dataloader=dataloaders[\"valid\"], mode=\"valid\", path=name)\n",
    "        RMSE = np.sqrt(mean_squared_error(sc_y.inverse_transform(y_pred), sc_y.inverse_transform(va_targets)))\n",
    "        if verbose:\n",
    "            print(\"Validation RMSE [Fold {}]: {:.5f}\".format(fold, RMSE))\n",
    "            breaker()\n",
    "            show_graphs(L)\n",
    "        \n",
    "        metrics_dict = {\"Fold\" : fold, \"RMSE\" : RMSE}\n",
    "        metrics.append(metrics_dict)\n",
    "\n",
    "        fold += 1\n",
    "    \n",
    "    breaker()\n",
    "    print(\"Total Time to {} Fold CV : {:.2f} minutes\".format(n_splits, (time() - KFold_start_time)/60))\n",
    "    \n",
    "    return metrics, (time() - KFold_start_time)/60"
   ]
  },
  {
   "cell_type": "code",
   "execution_count": 9,
   "id": "8fc149c8",
   "metadata": {
    "execution": {
     "iopub.execute_input": "2021-10-14T17:38:16.409009Z",
     "iopub.status.busy": "2021-10-14T17:38:16.406914Z",
     "iopub.status.idle": "2021-10-14T17:38:16.410741Z",
     "shell.execute_reply": "2021-10-14T17:38:16.411164Z",
     "shell.execute_reply.started": "2021-10-14T17:21:44.043960Z"
    },
    "papermill": {
     "duration": 0.024335,
     "end_time": "2021-10-14T17:38:16.411284",
     "exception": false,
     "start_time": "2021-10-14T17:38:16.386949",
     "status": "completed"
    },
    "tags": []
   },
   "outputs": [],
   "source": [
    "def main():\n",
    "    \n",
    "    breaker()\n",
    "    print(\"Clean Memory, {} Objects Collected ...\".format(gc.collect()))\n",
    "\n",
    "    ########### Params ###########\n",
    "    \n",
    "    if DEBUG:\n",
    "        n_splits = 3\n",
    "        patience, eps = 5, 1e-8\n",
    "        epochs, early_stopping = 5, 5\n",
    "\n",
    "        batch_size = 64\n",
    "        lr = 1e-5\n",
    "        wd = 1e-3\n",
    "    else:\n",
    "        n_splits = 5\n",
    "        patience, eps = 5, 1e-8\n",
    "        epochs, early_stopping = 25, 5\n",
    "\n",
    "        batch_size = 64\n",
    "        lr = 1e-5\n",
    "        wd = 1e-3\n",
    "    \n",
    "    ##############################\n",
    "\n",
    "    if verbose:\n",
    "        breaker()\n",
    "        print(\"Loading Data ...\")\n",
    "    \n",
    "    \n",
    "    feature_start_time = time()\n",
    "    images = np.load(os.path.join(IMAGE_PATH, \"Images_224x224.npy\"))\n",
    "    targets  = get_targets(PATH)\n",
    "\n",
    "    # Without Scheduler\n",
    "    metrics, _ = train(images, targets, n_splits, batch_size, lr, wd, epochs, early_stopping, patience=None, eps=None)\n",
    "\n",
    "    # # With Plateau Scheduler\n",
    "    # metrics, _ = train(images, targets, n_splits, batch_size, lr, wd, epochs, early_stopping, patience=patience, eps=eps)\n",
    "\n",
    "    rmse = []\n",
    "    breaker()\n",
    "    for i in range(len(metrics)):\n",
    "        print(\"Fold {}, RMSE: {:.5f}\".format(metrics[i][\"Fold\"], metrics[i][\"RMSE\"]))\n",
    "        rmse.append(metrics[i][\"RMSE\"])\n",
    "    \n",
    "    best_index = rmse.index(min(rmse))\n",
    "    breaker()\n",
    "    print(\"Best RMSE : {:.5f}\".format(metrics[best_index][\"RMSE\"]))\n",
    "    print(\"Avg RMSE  : {:.5f}\".format(sum(rmse) / len(rmse)))\n",
    "    breaker()\n",
    "\n",
    "    with open(\"metrics.pkl\", \"wb\") as fp:\n",
    "        pickle.dump(metrics, fp)"
   ]
  },
  {
   "cell_type": "code",
   "execution_count": 10,
   "id": "b61ea5dd",
   "metadata": {
    "execution": {
     "iopub.execute_input": "2021-10-14T17:38:16.539427Z",
     "iopub.status.busy": "2021-10-14T17:38:16.538750Z",
     "iopub.status.idle": "2021-10-14T18:51:37.634071Z",
     "shell.execute_reply": "2021-10-14T18:51:37.634634Z",
     "shell.execute_reply.started": "2021-10-14T17:21:47.871928Z"
    },
    "papermill": {
     "duration": 4401.212092,
     "end_time": "2021-10-14T18:51:37.634822",
     "exception": false,
     "start_time": "2021-10-14T17:38:16.422730",
     "status": "completed"
    },
    "tags": []
   },
   "outputs": [
    {
     "name": "stdout",
     "output_type": "stream",
     "text": [
      "\n",
      "**************************************************\n",
      "\n",
      "Clean Memory, 63 Objects Collected ...\n",
      "\n",
      "**************************************************\n",
      "\n",
      "Performing 5 Fold CV ...\n",
      "\n",
      "**************************************************\n",
      "\n"
     ]
    },
    {
     "name": "stderr",
     "output_type": "stream",
     "text": [
      "Downloading: \"https://download.pytorch.org/models/densenet169-b2777c0a.pth\" to /root/.cache/torch/hub/checkpoints/densenet169-b2777c0a.pth\n"
     ]
    },
    {
     "name": "stdout",
     "output_type": "stream",
     "text": [
      "Training Fold 1...\n",
      "Training Fold 2...\n",
      "Training Fold 3...\n",
      "Training Fold 4...\n",
      "Training Fold 5...\n",
      "\n",
      "**************************************************\n",
      "\n",
      "Total Time to 5 Fold CV : 73.14 minutes\n",
      "\n",
      "**************************************************\n",
      "\n",
      "Fold 1, RMSE: 18.94938\n",
      "Fold 2, RMSE: 19.00786\n",
      "Fold 3, RMSE: 19.61455\n",
      "Fold 4, RMSE: 18.74023\n",
      "Fold 5, RMSE: 18.54372\n",
      "\n",
      "**************************************************\n",
      "\n",
      "Best RMSE : 18.54372\n",
      "Avg RMSE  : 18.97115\n",
      "\n",
      "**************************************************\n",
      "\n"
     ]
    }
   ],
   "source": [
    "main()"
   ]
  },
  {
   "cell_type": "markdown",
   "id": "7124522f",
   "metadata": {
    "papermill": {
     "duration": 0.013358,
     "end_time": "2021-10-14T18:51:37.661979",
     "exception": false,
     "start_time": "2021-10-14T18:51:37.648621",
     "status": "completed"
    },
    "tags": []
   },
   "source": [
    "## End"
   ]
  },
  {
   "cell_type": "code",
   "execution_count": 11,
   "id": "25e6d860",
   "metadata": {
    "execution": {
     "iopub.execute_input": "2021-10-14T18:51:37.694809Z",
     "iopub.status.busy": "2021-10-14T18:51:37.693995Z",
     "iopub.status.idle": "2021-10-14T18:51:37.696599Z",
     "shell.execute_reply": "2021-10-14T18:51:37.697000Z"
    },
    "papermill": {
     "duration": 0.021368,
     "end_time": "2021-10-14T18:51:37.697115",
     "exception": false,
     "start_time": "2021-10-14T18:51:37.675747",
     "status": "completed"
    },
    "tags": []
   },
   "outputs": [
    {
     "name": "stdout",
     "output_type": "stream",
     "text": [
      "\n",
      "**************************************************\n",
      "\n",
      "Notebook Rumtime : 73.41 minutes\n",
      "\n",
      "**************************************************\n",
      "\n"
     ]
    }
   ],
   "source": [
    "breaker()\n",
    "print(\"Notebook Rumtime : {:.2f} minutes\".format((time() - notebook_start_time)/60))\n",
    "breaker()"
   ]
  }
 ],
 "metadata": {
  "kernelspec": {
   "display_name": "Python 3",
   "language": "python",
   "name": "python3"
  },
  "language_info": {
   "codemirror_mode": {
    "name": "ipython",
    "version": 3
   },
   "file_extension": ".py",
   "mimetype": "text/x-python",
   "name": "python",
   "nbconvert_exporter": "python",
   "pygments_lexer": "ipython3",
   "version": "3.7.10"
  },
  "papermill": {
   "default_parameters": {},
   "duration": 4413.325598,
   "end_time": "2021-10-14T18:51:39.129521",
   "environment_variables": {},
   "exception": null,
   "input_path": "__notebook__.ipynb",
   "output_path": "__notebook__.ipynb",
   "parameters": {},
   "start_time": "2021-10-14T17:38:05.803923",
   "version": "2.3.3"
  }
 },
 "nbformat": 4,
 "nbformat_minor": 5
}
