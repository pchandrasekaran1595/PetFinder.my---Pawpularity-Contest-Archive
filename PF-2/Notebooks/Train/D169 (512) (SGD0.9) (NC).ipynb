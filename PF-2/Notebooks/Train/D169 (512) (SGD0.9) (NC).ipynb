{
 "cells": [
  {
   "cell_type": "markdown",
   "id": "3b006a1a",
   "metadata": {
    "id": "1NF27HFLxZMK",
    "papermill": {
     "duration": 0.017135,
     "end_time": "2021-10-13T03:58:44.113215",
     "exception": false,
     "start_time": "2021-10-13T03:58:44.096080",
     "status": "completed"
    },
    "tags": []
   },
   "source": [
    "## Library Imports"
   ]
  },
  {
   "cell_type": "code",
   "execution_count": 1,
   "id": "126ee7cc",
   "metadata": {
    "execution": {
     "iopub.execute_input": "2021-10-13T03:58:44.152084Z",
     "iopub.status.busy": "2021-10-13T03:58:44.150030Z",
     "iopub.status.idle": "2021-10-13T03:58:44.227722Z",
     "shell.execute_reply": "2021-10-13T03:58:44.227019Z",
     "shell.execute_reply.started": "2021-10-12T16:47:21.073063Z"
    },
    "id": "ZaibE8jTxTRV",
    "papermill": {
     "duration": 0.097502,
     "end_time": "2021-10-13T03:58:44.227882",
     "exception": false,
     "start_time": "2021-10-13T03:58:44.130380",
     "status": "completed"
    },
    "tags": []
   },
   "outputs": [],
   "source": [
    "from time import time\n",
    "notebook_start_time = time()"
   ]
  },
  {
   "cell_type": "code",
   "execution_count": 2,
   "id": "f87f0bcd",
   "metadata": {
    "execution": {
     "iopub.execute_input": "2021-10-13T03:58:44.265114Z",
     "iopub.status.busy": "2021-10-13T03:58:44.264122Z",
     "iopub.status.idle": "2021-10-13T03:58:49.873050Z",
     "shell.execute_reply": "2021-10-13T03:58:49.871991Z",
     "shell.execute_reply.started": "2021-10-12T16:47:21.362896Z"
    },
    "id": "tCefPeQFxwtS",
    "papermill": {
     "duration": 5.629978,
     "end_time": "2021-10-13T03:58:49.873198",
     "exception": false,
     "start_time": "2021-10-13T03:58:44.243220",
     "status": "completed"
    },
    "tags": []
   },
   "outputs": [],
   "source": [
    "import os\n",
    "import re\n",
    "import pickle\n",
    "import numpy as np\n",
    "import pandas as pd\n",
    "import matplotlib.pyplot as plt\n",
    "\n",
    "import torch\n",
    "from torch import nn, optim\n",
    "from torch.utils.data import Dataset\n",
    "from torch.utils.data import DataLoader as DL\n",
    "from torch.nn.utils import weight_norm as WN\n",
    "from torchvision import models, transforms\n",
    "\n",
    "from sklearn.model_selection import KFold\n",
    "from sklearn.metrics import mean_squared_error\n",
    "from sklearn.preprocessing import StandardScaler"
   ]
  },
  {
   "cell_type": "markdown",
   "id": "84cb4683",
   "metadata": {
    "id": "iWlt7AdSxxWm",
    "papermill": {
     "duration": 0.015336,
     "end_time": "2021-10-13T03:58:49.903879",
     "exception": false,
     "start_time": "2021-10-13T03:58:49.888543",
     "status": "completed"
    },
    "tags": []
   },
   "source": [
    "## Constants and Utilities"
   ]
  },
  {
   "cell_type": "code",
   "execution_count": 3,
   "id": "41947421",
   "metadata": {
    "execution": {
     "iopub.execute_input": "2021-10-13T03:58:49.990025Z",
     "iopub.status.busy": "2021-10-13T03:58:49.988823Z",
     "iopub.status.idle": "2021-10-13T03:58:49.992073Z",
     "shell.execute_reply": "2021-10-13T03:58:49.991499Z",
     "shell.execute_reply.started": "2021-10-12T16:47:26.615349Z"
    },
    "id": "ZpMGLKhKx0EX",
    "papermill": {
     "duration": 0.07387,
     "end_time": "2021-10-13T03:58:49.992275",
     "exception": false,
     "start_time": "2021-10-13T03:58:49.918405",
     "status": "completed"
    },
    "tags": []
   },
   "outputs": [],
   "source": [
    "SEED = 49\n",
    "DEVICE = torch.device(\"cuda\" if torch.cuda.is_available() else \"cpu\")\n",
    "DATA_PATH = \"../input/petfinder-pawpularity-score\"\n",
    "FEATURE_PATH = \"../input/petfinder-pf-d169-nc-ua-384-512\"\n",
    "MODEL_NAME = \"densenet169\"\n",
    "\n",
    "DEBUG = False\n",
    "verbose = False\n",
    "\n",
    "sc_y = StandardScaler()"
   ]
  },
  {
   "cell_type": "code",
   "execution_count": 4,
   "id": "da6595b7",
   "metadata": {
    "execution": {
     "iopub.execute_input": "2021-10-13T03:58:50.033304Z",
     "iopub.status.busy": "2021-10-13T03:58:50.026004Z",
     "iopub.status.idle": "2021-10-13T03:58:50.036567Z",
     "shell.execute_reply": "2021-10-13T03:58:50.036018Z",
     "shell.execute_reply.started": "2021-10-12T16:47:26.663821Z"
    },
    "id": "yIR_gIEPyZrc",
    "papermill": {
     "duration": 0.029254,
     "end_time": "2021-10-13T03:58:50.036697",
     "exception": false,
     "start_time": "2021-10-13T03:58:50.007443",
     "status": "completed"
    },
    "tags": []
   },
   "outputs": [],
   "source": [
    "def breaker(num=50, char=\"*\") -> None:\n",
    "    print(\"\\n\" + num*char + \"\\n\")\n",
    "\n",
    "\n",
    "def get_targets(path: str) -> np.ndarray:\n",
    "    df = pd.read_csv(os.path.join(path, \"train.csv\"), engine=\"python\")\n",
    "    targets = df[\"Pawpularity\"].copy().values\n",
    "    return targets.reshape(-1, 1)\n",
    "\n",
    "\n",
    "def show_graphs(L: list, title=None) -> None:\n",
    "    TL, VL = [], []\n",
    "    for i in range(len(L)):\n",
    "        TL.append(L[i][\"train\"])\n",
    "        VL.append(L[i][\"valid\"])\n",
    "    x_Axis = np.arange(1, len(L) + 1)\n",
    "    plt.figure()\n",
    "    plt.plot(x_Axis, TL, \"r\", label=\"train\")\n",
    "    plt.plot(x_Axis, VL, \"b\", label=\"valid\")\n",
    "    plt.grid()\n",
    "    plt.legend()\n",
    "    if title:\n",
    "        plt.title(\"{} Loss\".format(title))\n",
    "    else:\n",
    "        plt.title(\"Loss\")\n",
    "    plt.show()"
   ]
  },
  {
   "cell_type": "markdown",
   "id": "2d4cc1b2",
   "metadata": {
    "id": "7y0fd6rWy9C7",
    "papermill": {
     "duration": 0.014376,
     "end_time": "2021-10-13T03:58:50.065719",
     "exception": false,
     "start_time": "2021-10-13T03:58:50.051343",
     "status": "completed"
    },
    "tags": []
   },
   "source": [
    "## Dataset Template and Build Dataloader"
   ]
  },
  {
   "cell_type": "code",
   "execution_count": 5,
   "id": "e3632b61",
   "metadata": {
    "execution": {
     "iopub.execute_input": "2021-10-13T03:58:50.105007Z",
     "iopub.status.busy": "2021-10-13T03:58:50.103911Z",
     "iopub.status.idle": "2021-10-13T03:58:50.106679Z",
     "shell.execute_reply": "2021-10-13T03:58:50.107232Z",
     "shell.execute_reply.started": "2021-10-12T16:47:26.680046Z"
    },
    "id": "TtCaj5UAy7ar",
    "papermill": {
     "duration": 0.027239,
     "end_time": "2021-10-13T03:58:50.107376",
     "exception": false,
     "start_time": "2021-10-13T03:58:50.080137",
     "status": "completed"
    },
    "tags": []
   },
   "outputs": [],
   "source": [
    "class DS(Dataset):\n",
    "    def __init__(self, features=None, targets=None):\n",
    "        self.features = features\n",
    "        self.targets  = targets\n",
    "        \n",
    "    def __len__(self):\n",
    "        return self.features.shape[0]\n",
    "    \n",
    "    def __getitem__(self, idx):\n",
    "        return torch.FloatTensor(self.features[idx]), torch.FloatTensor(self.targets[idx])\n",
    "    \n",
    "\n",
    "def build_dataloaders(tr_features: np.ndarray, va_features: np.ndarray,\n",
    "                      tr_targets: np.ndarray, va_targets: np.ndarray,\n",
    "                      batch_size: int, seed: int):\n",
    "\n",
    "    if verbose:\n",
    "        breaker()\n",
    "        print(\"Building Train and Validation DataLoaders ...\")\n",
    "    \n",
    "    tr_data_setup = DS(features=tr_features, targets=tr_targets)\n",
    "    va_data_setup = DS(features=va_features, targets=va_targets)\n",
    "    \n",
    "    dataloaders = {\n",
    "        \"train\" : DL(tr_data_setup, batch_size=batch_size, shuffle=True, generator=torch.manual_seed(seed)),\n",
    "        \"valid\" : DL(va_data_setup, batch_size=batch_size, shuffle=False)\n",
    "    }\n",
    "    \n",
    "    return dataloaders"
   ]
  },
  {
   "cell_type": "markdown",
   "id": "9de45dc2",
   "metadata": {
    "id": "8wmsPRi6zjyn",
    "papermill": {
     "duration": 0.014329,
     "end_time": "2021-10-13T03:58:50.137859",
     "exception": false,
     "start_time": "2021-10-13T03:58:50.123530",
     "status": "completed"
    },
    "tags": []
   },
   "source": [
    "## Build Model"
   ]
  },
  {
   "cell_type": "code",
   "execution_count": 6,
   "id": "2afdb596",
   "metadata": {
    "execution": {
     "iopub.execute_input": "2021-10-13T03:58:50.179327Z",
     "iopub.status.busy": "2021-10-13T03:58:50.178370Z",
     "iopub.status.idle": "2021-10-13T03:58:50.181705Z",
     "shell.execute_reply": "2021-10-13T03:58:50.181185Z",
     "shell.execute_reply.started": "2021-10-12T16:47:26.693472Z"
    },
    "id": "2GYZ4teczjIm",
    "papermill": {
     "duration": 0.029383,
     "end_time": "2021-10-13T03:58:50.181857",
     "exception": false,
     "start_time": "2021-10-13T03:58:50.152474",
     "status": "completed"
    },
    "tags": []
   },
   "outputs": [],
   "source": [
    "def build_model(IL: int, seed: int):\n",
    "    class ANN(nn.Module):\n",
    "        def __init__(self, IL=None):\n",
    "            super(ANN, self).__init__()\n",
    "\n",
    "            self.predictor = nn.Sequential()\n",
    "            self.predictor.add_module(\"BN\", nn.BatchNorm1d(num_features=IL, eps=1e-5))\n",
    "            self.predictor.add_module(\"FC\", WN(nn.Linear(in_features=IL, out_features=1)))\n",
    "\n",
    "        def get_optimizer(self, lr=1e-3, wd=0):\n",
    "            params = [p for p in self.parameters() if p.requires_grad]\n",
    "            return optim.SGD(params, lr=lr, momentum=0.9, weight_decay=wd)\n",
    "\n",
    "        def get_plateau_scheduler(self, optimizer=None, patience=5, eps=1e-8):\n",
    "            return optim.lr_scheduler.ReduceLROnPlateau(optimizer=optimizer, patience=patience, eps=eps, verbose=True)\n",
    "\n",
    "        def forward(self, x1, x2=None):\n",
    "            if x2 is not None:\n",
    "                return self.predictor(x1), self.predictor(x2)\n",
    "            else:\n",
    "                return self.predictor(x1)\n",
    "    \n",
    "    if verbose:\n",
    "        breaker()\n",
    "        print(\"Building Model ...\")\n",
    "        print(\"\\n{} -> 1\".format(IL))\n",
    "    \n",
    "    torch.manual_seed(seed)\n",
    "    model = ANN(IL=IL)\n",
    "    \n",
    "    return model"
   ]
  },
  {
   "cell_type": "markdown",
   "id": "34bb1380",
   "metadata": {
    "id": "uuMvELK2zqh0",
    "papermill": {
     "duration": 0.014604,
     "end_time": "2021-10-13T03:58:50.211177",
     "exception": false,
     "start_time": "2021-10-13T03:58:50.196573",
     "status": "completed"
    },
    "tags": []
   },
   "source": [
    "## Fit and Predict Helpers"
   ]
  },
  {
   "cell_type": "code",
   "execution_count": 7,
   "id": "c5cd6f17",
   "metadata": {
    "execution": {
     "iopub.execute_input": "2021-10-13T03:58:50.265375Z",
     "iopub.status.busy": "2021-10-13T03:58:50.254872Z",
     "iopub.status.idle": "2021-10-13T03:58:50.269898Z",
     "shell.execute_reply": "2021-10-13T03:58:50.269406Z",
     "shell.execute_reply.started": "2021-10-12T16:47:26.709091Z"
    },
    "id": "8DQ9EUrIzpmn",
    "papermill": {
     "duration": 0.044127,
     "end_time": "2021-10-13T03:58:50.270103",
     "exception": false,
     "start_time": "2021-10-13T03:58:50.225976",
     "status": "completed"
    },
    "tags": []
   },
   "outputs": [],
   "source": [
    "def fit(model=None, optimizer=None, scheduler=None, \n",
    "        epochs=None, early_stopping_patience=None,\n",
    "        dataloaders=None, fold=None, verbose=False) -> tuple:\n",
    "    \n",
    "    name = \"./Fold_{}_state.pt\".format(fold)\n",
    "    \n",
    "    if verbose:\n",
    "        breaker()\n",
    "        print(\"Training Fold {}...\".format(fold))\n",
    "        breaker()\n",
    "    else:\n",
    "        print(\"Training Fold {}...\".format(fold))\n",
    "\n",
    "    Losses = []\n",
    "    bestLoss = {\"train\" : np.inf, \"valid\" : np.inf}\n",
    "\n",
    "    start_time = time()\n",
    "    for e in range(epochs):\n",
    "        e_st = time()\n",
    "        epochLoss = {\"train\" : np.inf, \"valid\" : np.inf}\n",
    "\n",
    "        for phase in [\"train\", \"valid\"]:\n",
    "            if phase == \"train\":\n",
    "                model.train()\n",
    "            else:\n",
    "                model.eval()\n",
    "            \n",
    "            lossPerPass = []\n",
    "\n",
    "            for X, y in dataloaders[phase]:\n",
    "                X, y = X.to(DEVICE), y.to(DEVICE)\n",
    "\n",
    "                optimizer.zero_grad()\n",
    "                with torch.set_grad_enabled(phase == \"train\"):\n",
    "                    output = model(X)\n",
    "                    loss = torch.nn.MSELoss()(output, y)\n",
    "                    if phase == \"train\":\n",
    "                        loss.backward()\n",
    "                        optimizer.step()\n",
    "                lossPerPass.append(loss.item())\n",
    "            epochLoss[phase] = np.mean(np.array(lossPerPass))\n",
    "        Losses.append(epochLoss)\n",
    "\n",
    "        if early_stopping_patience:\n",
    "            if epochLoss[\"valid\"] < bestLoss[\"valid\"]:\n",
    "                bestLoss = epochLoss\n",
    "                BLE = e + 1\n",
    "                torch.save({\"model_state_dict\": model.state_dict(),\n",
    "                            \"optim_state_dict\": optimizer.state_dict()},\n",
    "                           name)\n",
    "                early_stopping_step = 0\n",
    "            else:\n",
    "                early_stopping_step += 1\n",
    "                if early_stopping_step > early_stopping_patience:\n",
    "                    if verbose:\n",
    "                        print(\"\\nEarly Stopping at Epoch {}\".format(e))\n",
    "                    break\n",
    "        \n",
    "        if epochLoss[\"valid\"] < bestLoss[\"valid\"]:\n",
    "            bestLoss = epochLoss\n",
    "            BLE = e + 1\n",
    "            torch.save({\"model_state_dict\": model.state_dict(),\n",
    "                        \"optim_state_dict\": optimizer.state_dict()},\n",
    "                       name)\n",
    "        \n",
    "        if scheduler:\n",
    "            scheduler.step(epochLoss[\"valid\"])\n",
    "        \n",
    "        if verbose:\n",
    "            print(\"Epoch: {} | Train Loss: {:.5f} | Valid Loss: {:.5f} | Time: {:.2f} seconds\".format(e+1, epochLoss[\"train\"], epochLoss[\"valid\"], time()-e_st))\n",
    "    \n",
    "    if verbose:\n",
    "        breaker()\n",
    "        print(\"Best Validation Loss at Epoch {}\".format(BLE))\n",
    "        breaker()\n",
    "        print(\"Time Taken [{} Epochs] : {:.2f} minutes\".format(len(Losses), (time()-start_time)/60))\n",
    "        breaker()\n",
    "        print(\"Training Completed\")\n",
    "        breaker()\n",
    "\n",
    "    return Losses, BLE, name\n",
    "\n",
    "#####################################################################################################\n",
    "\n",
    "def predict_batch(model=None, dataloader=None, mode=\"test\", path=None) -> np.ndarray:    \n",
    "    model.load_state_dict(torch.load(path, map_location=DEVICE)[\"model_state_dict\"])\n",
    "    model.to(DEVICE)\n",
    "    model.eval()\n",
    "\n",
    "    y_pred = torch.zeros(1, 1).to(DEVICE)\n",
    "    if re.match(r\"valid\", mode, re.IGNORECASE):\n",
    "        for X, _ in dataloader:\n",
    "            X = X.to(DEVICE)\n",
    "            with torch.no_grad():\n",
    "                output = model(X)\n",
    "            y_pred = torch.cat((y_pred, output.view(-1, 1)), dim=0)\n",
    "    elif re.match(r\"test\", mode, re.IGNORECASE):\n",
    "        for X in dataloader:\n",
    "            X = X.to(DEVICE)\n",
    "            with torch.no_grad():\n",
    "                output = model(X)\n",
    "            y_pred = torch.cat((y_pred, output.view(-1, 1)), dim=0)\n",
    "    \n",
    "    return y_pred[1:].detach().cpu().numpy()"
   ]
  },
  {
   "cell_type": "markdown",
   "id": "99c96fb4",
   "metadata": {
    "id": "YQP876MS0OrX",
    "papermill": {
     "duration": 0.014426,
     "end_time": "2021-10-13T03:58:50.299318",
     "exception": false,
     "start_time": "2021-10-13T03:58:50.284892",
     "status": "completed"
    },
    "tags": []
   },
   "source": [
    "## Train"
   ]
  },
  {
   "cell_type": "code",
   "execution_count": 8,
   "id": "fc92aedd",
   "metadata": {
    "execution": {
     "iopub.execute_input": "2021-10-13T03:58:50.344961Z",
     "iopub.status.busy": "2021-10-13T03:58:50.343660Z",
     "iopub.status.idle": "2021-10-13T03:58:50.346642Z",
     "shell.execute_reply": "2021-10-13T03:58:50.347141Z",
     "shell.execute_reply.started": "2021-10-12T16:50:13.588968Z"
    },
    "id": "OrGICYXg0QEM",
    "papermill": {
     "duration": 0.033233,
     "end_time": "2021-10-13T03:58:50.347296",
     "exception": false,
     "start_time": "2021-10-13T03:58:50.314063",
     "status": "completed"
    },
    "tags": []
   },
   "outputs": [],
   "source": [
    "def train(features: np.ndarray, targets: np.ndarray,\n",
    "          n_splits: int, batch_size: int, lr: float, wd: float, \n",
    "          epochs: int, early_stopping: int, \n",
    "          patience=None, eps=None) -> list:        \n",
    "    \n",
    "    metrics = []\n",
    "        \n",
    "    KFold_start_time = time()\n",
    "    breaker()\n",
    "    print(\"Performing {} Fold CV ...\".format(n_splits))\n",
    "    breaker()\n",
    "    fold = 1\n",
    "    for tr_idx, va_idx in KFold(n_splits=n_splits, shuffle=True, random_state=SEED).split(features):\n",
    "\n",
    "        tr_features, va_features = features[tr_idx], features[va_idx]\n",
    "        tr_targets, va_targets   = targets[tr_idx], targets[va_idx]\n",
    "\n",
    "        tr_targets = sc_y.fit_transform(tr_targets)\n",
    "        va_targets = sc_y.transform(va_targets)\n",
    "\n",
    "        dataloaders = build_dataloaders(tr_features, va_features,\n",
    "                                        tr_targets, va_targets, \n",
    "                                        batch_size, SEED)\n",
    "        model = build_model(IL=tr_features.shape[1], seed=SEED).to(DEVICE)\n",
    "        optimizer = model.get_optimizer(lr=lr, wd=wd)\n",
    "        scheduler = None\n",
    "        if isinstance(patience, int) and isinstance(eps, float):\n",
    "            scheduler = model.get_plateau_scheduler(optimizer, patience, eps)\n",
    "\n",
    "        L, _, name = fit(model=model, optimizer=optimizer, scheduler=scheduler, \n",
    "                         epochs=epochs, early_stopping_patience=early_stopping,\n",
    "                         dataloaders=dataloaders, fold=fold, verbose=verbose)\n",
    "        y_pred = predict_batch(model=model, dataloader=dataloaders[\"valid\"], mode=\"valid\", path=name)\n",
    "        RMSE = np.sqrt(mean_squared_error(sc_y.inverse_transform(y_pred), sc_y.inverse_transform(va_targets)))\n",
    "        if verbose:\n",
    "            print(\"\\nValidation RMSE [Fold {}]: {:.5f}\".format(fold, RMSE))\n",
    "            breaker()\n",
    "            show_graphs(L)\n",
    "        \n",
    "        metrics_dict = {\"Fold\" : fold, \"RMSE\" : RMSE}\n",
    "        metrics.append(metrics_dict)\n",
    "        \n",
    "        fold += 1\n",
    "    \n",
    "    breaker()\n",
    "    print(\"Total Time to {} Fold CV : {:.2f} minutes\".format(n_splits, (time() - KFold_start_time)/60))\n",
    "    \n",
    "    return metrics, (time() - KFold_start_time)/60"
   ]
  },
  {
   "cell_type": "markdown",
   "id": "b8e477dd",
   "metadata": {
    "id": "UGUqaAzy1C33",
    "papermill": {
     "duration": 0.014618,
     "end_time": "2021-10-13T03:58:50.376541",
     "exception": false,
     "start_time": "2021-10-13T03:58:50.361923",
     "status": "completed"
    },
    "tags": []
   },
   "source": [
    "## Main"
   ]
  },
  {
   "cell_type": "code",
   "execution_count": 9,
   "id": "ebc30286",
   "metadata": {
    "execution": {
     "iopub.execute_input": "2021-10-13T03:58:50.418870Z",
     "iopub.status.busy": "2021-10-13T03:58:50.417851Z",
     "iopub.status.idle": "2021-10-13T03:58:50.420792Z",
     "shell.execute_reply": "2021-10-13T03:58:50.421321Z",
     "shell.execute_reply.started": "2021-10-12T16:50:14.005208Z"
    },
    "id": "_0yK3IwR1CEs",
    "papermill": {
     "duration": 0.029584,
     "end_time": "2021-10-13T03:58:50.421486",
     "exception": false,
     "start_time": "2021-10-13T03:58:50.391902",
     "status": "completed"
    },
    "tags": []
   },
   "outputs": [],
   "source": [
    "def main():\n",
    "    \n",
    "    ########### Params ###########\n",
    "    \n",
    "    if DEBUG:\n",
    "        n_splits = 10\n",
    "        patience, eps = 5, 1e-8\n",
    "        epochs, early_stopping = 5, 5\n",
    "\n",
    "        batch_size = 128\n",
    "        lr = 1e-3\n",
    "        wd = 1e-1\n",
    "    else:\n",
    "        n_splits = 10\n",
    "        patience, eps = 5, 1e-8\n",
    "        epochs, early_stopping = 100, 8\n",
    "\n",
    "        batch_size = 128\n",
    "        lr = 1e-3\n",
    "        wd = 1e-1\n",
    "    \n",
    "    ##############################\n",
    "\n",
    "    complete_metrics = []\n",
    "\n",
    "    if verbose:\n",
    "        breaker()\n",
    "        print(\"Loading Data ...\")\n",
    "    \n",
    "    features = np.load(os.path.join(FEATURE_PATH, \"densenet169_features_512.npy\"))\n",
    "    targets  = get_targets(DATA_PATH)\n",
    "\n",
    "    # Without Scheduler\n",
    "    metrics, _ = train(features, targets, n_splits, batch_size, lr, wd, epochs, early_stopping, patience=None, eps=None)\n",
    "\n",
    "    # # With Plateau Scheduler\n",
    "    # metrics, _ = train(features, targets, n_splits, batch_size, lr, wd, epochs, early_stopping, patience=patience, eps=eps)\n",
    "\n",
    "    rmse = []\n",
    "    breaker()\n",
    "    for i in range(len(metrics)):\n",
    "        print(\"Fold {}, RMSE: {:.5f}\".format(metrics[i][\"Fold\"], metrics[i][\"RMSE\"]))\n",
    "        rmse.append(metrics[i][\"RMSE\"])\n",
    "    \n",
    "    best_index = rmse.index(min(rmse))\n",
    "    breaker()\n",
    "    print(\"Best RMSE : {:.5f}\".format(metrics[best_index][\"RMSE\"]))\n",
    "    print(\"Avg RMSE  : {:.5f}\".format(sum(rmse) / len(rmse)))\n",
    "    breaker()\n",
    "\n",
    "    with open(\"metrics.pkl\", \"wb\") as fp:\n",
    "        pickle.dump(metrics, fp)"
   ]
  },
  {
   "cell_type": "code",
   "execution_count": 10,
   "id": "7714af47",
   "metadata": {
    "execution": {
     "iopub.execute_input": "2021-10-13T03:58:50.455034Z",
     "iopub.status.busy": "2021-10-13T03:58:50.454352Z",
     "iopub.status.idle": "2021-10-13T04:00:20.615392Z",
     "shell.execute_reply": "2021-10-13T04:00:20.614429Z",
     "shell.execute_reply.started": "2021-10-12T16:50:14.414968Z"
    },
    "id": "9Vf0T4VN2Z1Q",
    "outputId": "d8f15d91-6afc-482a-e8c4-ccba8ab2f221",
    "papermill": {
     "duration": 90.179835,
     "end_time": "2021-10-13T04:00:20.615556",
     "exception": false,
     "start_time": "2021-10-13T03:58:50.435721",
     "status": "completed"
    },
    "tags": []
   },
   "outputs": [
    {
     "name": "stdout",
     "output_type": "stream",
     "text": [
      "\n",
      "**************************************************\n",
      "\n",
      "Performing 10 Fold CV ...\n",
      "\n",
      "**************************************************\n",
      "\n",
      "Training Fold 1...\n",
      "Training Fold 2...\n",
      "Training Fold 3...\n",
      "Training Fold 4...\n",
      "Training Fold 5...\n",
      "Training Fold 6...\n",
      "Training Fold 7...\n",
      "Training Fold 8...\n",
      "Training Fold 9...\n",
      "Training Fold 10...\n",
      "\n",
      "**************************************************\n",
      "\n",
      "Total Time to 10 Fold CV : 1.47 minutes\n",
      "\n",
      "**************************************************\n",
      "\n",
      "Fold 1, RMSE: 18.46135\n",
      "Fold 2, RMSE: 18.43514\n",
      "Fold 3, RMSE: 18.98586\n",
      "Fold 4, RMSE: 17.78505\n",
      "Fold 5, RMSE: 19.27150\n",
      "Fold 6, RMSE: 18.71395\n",
      "Fold 7, RMSE: 19.12718\n",
      "Fold 8, RMSE: 17.07177\n",
      "Fold 9, RMSE: 18.36408\n",
      "Fold 10, RMSE: 18.27984\n",
      "\n",
      "**************************************************\n",
      "\n",
      "Best RMSE : 17.07177\n",
      "Avg RMSE  : 18.44957\n",
      "\n",
      "**************************************************\n",
      "\n"
     ]
    }
   ],
   "source": [
    "main()"
   ]
  },
  {
   "cell_type": "code",
   "execution_count": 11,
   "id": "c508361a",
   "metadata": {
    "execution": {
     "iopub.execute_input": "2021-10-13T04:00:20.660678Z",
     "iopub.status.busy": "2021-10-13T04:00:20.659112Z",
     "iopub.status.idle": "2021-10-13T04:00:20.663533Z",
     "shell.execute_reply": "2021-10-13T04:00:20.664042Z",
     "shell.execute_reply.started": "2021-10-12T16:49:10.046766Z"
    },
    "id": "YmNqGwy98SyF",
    "papermill": {
     "duration": 0.02979,
     "end_time": "2021-10-13T04:00:20.664188",
     "exception": false,
     "start_time": "2021-10-13T04:00:20.634398",
     "status": "completed"
    },
    "tags": []
   },
   "outputs": [
    {
     "name": "stdout",
     "output_type": "stream",
     "text": [
      "\n",
      "**************************************************\n",
      "\n",
      "Notebook Rumtime : 1.61 minutes\n",
      "\n",
      "**************************************************\n",
      "\n"
     ]
    }
   ],
   "source": [
    "breaker()\n",
    "print(\"Notebook Rumtime : {:.2f} minutes\".format((time() - notebook_start_time)/60))\n",
    "breaker()"
   ]
  }
 ],
 "metadata": {
  "kernelspec": {
   "display_name": "Python 3",
   "language": "python",
   "name": "python3"
  },
  "language_info": {
   "codemirror_mode": {
    "name": "ipython",
    "version": 3
   },
   "file_extension": ".py",
   "mimetype": "text/x-python",
   "name": "python",
   "nbconvert_exporter": "python",
   "pygments_lexer": "ipython3",
   "version": "3.7.10"
  },
  "papermill": {
   "default_parameters": {},
   "duration": 105.800766,
   "end_time": "2021-10-13T04:00:22.146870",
   "environment_variables": {},
   "exception": null,
   "input_path": "__notebook__.ipynb",
   "output_path": "__notebook__.ipynb",
   "parameters": {},
   "start_time": "2021-10-13T03:58:36.346104",
   "version": "2.3.3"
  }
 },
 "nbformat": 4,
 "nbformat_minor": 5
}
