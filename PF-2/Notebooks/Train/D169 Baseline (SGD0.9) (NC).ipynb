{
 "cells": [
  {
   "cell_type": "markdown",
   "id": "c5df785a",
   "metadata": {
    "id": "1NF27HFLxZMK",
    "papermill": {
     "duration": 0.019952,
     "end_time": "2021-10-12T20:33:45.898466",
     "exception": false,
     "start_time": "2021-10-12T20:33:45.878514",
     "status": "completed"
    },
    "tags": []
   },
   "source": [
    "## Library Imports"
   ]
  },
  {
   "cell_type": "code",
   "execution_count": 1,
   "id": "37a4254e",
   "metadata": {
    "execution": {
     "iopub.execute_input": "2021-10-12T20:33:45.936629Z",
     "iopub.status.busy": "2021-10-12T20:33:45.935656Z",
     "iopub.status.idle": "2021-10-12T20:33:45.943382Z",
     "shell.execute_reply": "2021-10-12T20:33:45.942520Z",
     "shell.execute_reply.started": "2021-10-12T16:47:21.073063Z"
    },
    "id": "ZaibE8jTxTRV",
    "papermill": {
     "duration": 0.0303,
     "end_time": "2021-10-12T20:33:45.943649",
     "exception": false,
     "start_time": "2021-10-12T20:33:45.913349",
     "status": "completed"
    },
    "tags": []
   },
   "outputs": [],
   "source": [
    "from time import time\n",
    "notebook_start_time = time()"
   ]
  },
  {
   "cell_type": "code",
   "execution_count": 2,
   "id": "c11082e9",
   "metadata": {
    "execution": {
     "iopub.execute_input": "2021-10-12T20:33:45.977453Z",
     "iopub.status.busy": "2021-10-12T20:33:45.976585Z",
     "iopub.status.idle": "2021-10-12T20:33:51.934102Z",
     "shell.execute_reply": "2021-10-12T20:33:51.933413Z",
     "shell.execute_reply.started": "2021-10-12T16:47:21.362896Z"
    },
    "id": "tCefPeQFxwtS",
    "papermill": {
     "duration": 5.976966,
     "end_time": "2021-10-12T20:33:51.934246",
     "exception": false,
     "start_time": "2021-10-12T20:33:45.957280",
     "status": "completed"
    },
    "tags": []
   },
   "outputs": [],
   "source": [
    "import os\n",
    "import re\n",
    "import pickle\n",
    "import numpy as np\n",
    "import pandas as pd\n",
    "import matplotlib.pyplot as plt\n",
    "\n",
    "import torch\n",
    "from torch import nn, optim\n",
    "from torch.utils.data import Dataset\n",
    "from torch.utils.data import DataLoader as DL\n",
    "from torch.nn.utils import weight_norm as WN\n",
    "from torchvision import models, transforms\n",
    "\n",
    "from sklearn.model_selection import KFold\n",
    "from sklearn.metrics import mean_squared_error\n",
    "from sklearn.preprocessing import StandardScaler"
   ]
  },
  {
   "cell_type": "markdown",
   "id": "57b1c4bd",
   "metadata": {
    "id": "iWlt7AdSxxWm",
    "papermill": {
     "duration": 0.015195,
     "end_time": "2021-10-12T20:33:51.963067",
     "exception": false,
     "start_time": "2021-10-12T20:33:51.947872",
     "status": "completed"
    },
    "tags": []
   },
   "source": [
    "## Constants and Utilities"
   ]
  },
  {
   "cell_type": "code",
   "execution_count": 3,
   "id": "215948b4",
   "metadata": {
    "execution": {
     "iopub.execute_input": "2021-10-12T20:33:52.051781Z",
     "iopub.status.busy": "2021-10-12T20:33:52.051203Z",
     "iopub.status.idle": "2021-10-12T20:33:52.056426Z",
     "shell.execute_reply": "2021-10-12T20:33:52.055713Z",
     "shell.execute_reply.started": "2021-10-12T16:47:26.615349Z"
    },
    "id": "ZpMGLKhKx0EX",
    "papermill": {
     "duration": 0.080553,
     "end_time": "2021-10-12T20:33:52.056587",
     "exception": false,
     "start_time": "2021-10-12T20:33:51.976034",
     "status": "completed"
    },
    "tags": []
   },
   "outputs": [],
   "source": [
    "SEED = 49\n",
    "DEVICE = torch.device(\"cuda\" if torch.cuda.is_available() else \"cpu\")\n",
    "DATA_PATH = \"../input/petfinder-pawpularity-score\"\n",
    "FEATURE_PATH = \"../input/petfinder-pf-nc-ua-all-dataset\"\n",
    "MODEL_NAME = \"densenet169\"\n",
    "\n",
    "DEBUG = False\n",
    "verbose = False\n",
    "\n",
    "sc_y = StandardScaler()"
   ]
  },
  {
   "cell_type": "code",
   "execution_count": 4,
   "id": "e5b001f6",
   "metadata": {
    "execution": {
     "iopub.execute_input": "2021-10-12T20:33:52.093257Z",
     "iopub.status.busy": "2021-10-12T20:33:52.092495Z",
     "iopub.status.idle": "2021-10-12T20:33:52.097460Z",
     "shell.execute_reply": "2021-10-12T20:33:52.096793Z",
     "shell.execute_reply.started": "2021-10-12T16:47:26.663821Z"
    },
    "id": "yIR_gIEPyZrc",
    "papermill": {
     "duration": 0.02739,
     "end_time": "2021-10-12T20:33:52.097568",
     "exception": false,
     "start_time": "2021-10-12T20:33:52.070178",
     "status": "completed"
    },
    "tags": []
   },
   "outputs": [],
   "source": [
    "def breaker(num=50, char=\"*\") -> None:\n",
    "    print(\"\\n\" + num*char + \"\\n\")\n",
    "\n",
    "\n",
    "def get_targets(path: str) -> np.ndarray:\n",
    "    df = pd.read_csv(os.path.join(path, \"train.csv\"), engine=\"python\")\n",
    "    targets = df[\"Pawpularity\"].copy().values\n",
    "    return targets.reshape(-1, 1)\n",
    "\n",
    "\n",
    "def show_graphs(L: list, title=None) -> None:\n",
    "    TL, VL = [], []\n",
    "    for i in range(len(L)):\n",
    "        TL.append(L[i][\"train\"])\n",
    "        VL.append(L[i][\"valid\"])\n",
    "    x_Axis = np.arange(1, len(L) + 1)\n",
    "    plt.figure()\n",
    "    plt.plot(x_Axis, TL, \"r\", label=\"train\")\n",
    "    plt.plot(x_Axis, VL, \"b\", label=\"valid\")\n",
    "    plt.grid()\n",
    "    plt.legend()\n",
    "    if title:\n",
    "        plt.title(\"{} Loss\".format(title))\n",
    "    else:\n",
    "        plt.title(\"Loss\")\n",
    "    plt.show()"
   ]
  },
  {
   "cell_type": "markdown",
   "id": "2af68959",
   "metadata": {
    "id": "7y0fd6rWy9C7",
    "papermill": {
     "duration": 0.013977,
     "end_time": "2021-10-12T20:33:52.125023",
     "exception": false,
     "start_time": "2021-10-12T20:33:52.111046",
     "status": "completed"
    },
    "tags": []
   },
   "source": [
    "## Dataset Template and Build Dataloader"
   ]
  },
  {
   "cell_type": "code",
   "execution_count": 5,
   "id": "6b42cfcc",
   "metadata": {
    "execution": {
     "iopub.execute_input": "2021-10-12T20:33:52.163209Z",
     "iopub.status.busy": "2021-10-12T20:33:52.162280Z",
     "iopub.status.idle": "2021-10-12T20:33:52.165641Z",
     "shell.execute_reply": "2021-10-12T20:33:52.165073Z",
     "shell.execute_reply.started": "2021-10-12T16:47:26.680046Z"
    },
    "id": "TtCaj5UAy7ar",
    "papermill": {
     "duration": 0.026668,
     "end_time": "2021-10-12T20:33:52.165771",
     "exception": false,
     "start_time": "2021-10-12T20:33:52.139103",
     "status": "completed"
    },
    "tags": []
   },
   "outputs": [],
   "source": [
    "class DS(Dataset):\n",
    "    def __init__(self, features=None, targets=None):\n",
    "        self.features = features\n",
    "        self.targets  = targets\n",
    "        \n",
    "    def __len__(self):\n",
    "        return self.features.shape[0]\n",
    "    \n",
    "    def __getitem__(self, idx):\n",
    "        return torch.FloatTensor(self.features[idx]), torch.FloatTensor(self.targets[idx])\n",
    "    \n",
    "\n",
    "def build_dataloaders(tr_features: np.ndarray, va_features: np.ndarray,\n",
    "                      tr_targets: np.ndarray, va_targets: np.ndarray,\n",
    "                      batch_size: int, seed: int):\n",
    "\n",
    "    if verbose:\n",
    "        breaker()\n",
    "        print(\"Building Train and Validation DataLoaders ...\")\n",
    "    \n",
    "    tr_data_setup = DS(features=tr_features, targets=tr_targets)\n",
    "    va_data_setup = DS(features=va_features, targets=va_targets)\n",
    "    \n",
    "    dataloaders = {\n",
    "        \"train\" : DL(tr_data_setup, batch_size=batch_size, shuffle=True, generator=torch.manual_seed(seed)),\n",
    "        \"valid\" : DL(va_data_setup, batch_size=batch_size, shuffle=False)\n",
    "    }\n",
    "    \n",
    "    return dataloaders"
   ]
  },
  {
   "cell_type": "markdown",
   "id": "dc2b7664",
   "metadata": {
    "id": "8wmsPRi6zjyn",
    "papermill": {
     "duration": 0.013822,
     "end_time": "2021-10-12T20:33:52.194805",
     "exception": false,
     "start_time": "2021-10-12T20:33:52.180983",
     "status": "completed"
    },
    "tags": []
   },
   "source": [
    "## Build Model"
   ]
  },
  {
   "cell_type": "code",
   "execution_count": 6,
   "id": "2d3e8ffa",
   "metadata": {
    "execution": {
     "iopub.execute_input": "2021-10-12T20:33:52.233131Z",
     "iopub.status.busy": "2021-10-12T20:33:52.232504Z",
     "iopub.status.idle": "2021-10-12T20:33:52.237611Z",
     "shell.execute_reply": "2021-10-12T20:33:52.236860Z",
     "shell.execute_reply.started": "2021-10-12T16:47:26.693472Z"
    },
    "id": "2GYZ4teczjIm",
    "papermill": {
     "duration": 0.029211,
     "end_time": "2021-10-12T20:33:52.237750",
     "exception": false,
     "start_time": "2021-10-12T20:33:52.208539",
     "status": "completed"
    },
    "tags": []
   },
   "outputs": [],
   "source": [
    "def build_model(IL: int, seed: int):\n",
    "    class ANN(nn.Module):\n",
    "        def __init__(self, IL=None):\n",
    "            super(ANN, self).__init__()\n",
    "\n",
    "            self.predictor = nn.Sequential()\n",
    "            self.predictor.add_module(\"BN\", nn.BatchNorm1d(num_features=IL, eps=1e-5))\n",
    "            self.predictor.add_module(\"FC\", WN(nn.Linear(in_features=IL, out_features=1)))\n",
    "\n",
    "        def get_optimizer(self, lr=1e-3, wd=0):\n",
    "            params = [p for p in self.parameters() if p.requires_grad]\n",
    "            return optim.SGD(params, lr=lr, momentum=0.9, weight_decay=wd)\n",
    "\n",
    "        def get_plateau_scheduler(self, optimizer=None, patience=5, eps=1e-8):\n",
    "            return optim.lr_scheduler.ReduceLROnPlateau(optimizer=optimizer, patience=patience, eps=eps, verbose=True)\n",
    "\n",
    "        def forward(self, x1, x2=None):\n",
    "            if x2 is not None:\n",
    "                return self.predictor(x1), self.predictor(x2)\n",
    "            else:\n",
    "                return self.predictor(x1)\n",
    "    \n",
    "    if verbose:\n",
    "        breaker()\n",
    "        print(\"Building Model ...\")\n",
    "        print(\"\\n{} -> 1\".format(IL))\n",
    "    \n",
    "    torch.manual_seed(seed)\n",
    "    model = ANN(IL=IL)\n",
    "    \n",
    "    return model"
   ]
  },
  {
   "cell_type": "markdown",
   "id": "6b057e82",
   "metadata": {
    "id": "uuMvELK2zqh0",
    "papermill": {
     "duration": 0.013429,
     "end_time": "2021-10-12T20:33:52.264752",
     "exception": false,
     "start_time": "2021-10-12T20:33:52.251323",
     "status": "completed"
    },
    "tags": []
   },
   "source": [
    "## Fit and Predict Helpers"
   ]
  },
  {
   "cell_type": "code",
   "execution_count": 7,
   "id": "d3536f21",
   "metadata": {
    "execution": {
     "iopub.execute_input": "2021-10-12T20:33:52.315310Z",
     "iopub.status.busy": "2021-10-12T20:33:52.310529Z",
     "iopub.status.idle": "2021-10-12T20:33:52.318422Z",
     "shell.execute_reply": "2021-10-12T20:33:52.317743Z",
     "shell.execute_reply.started": "2021-10-12T16:47:26.709091Z"
    },
    "id": "8DQ9EUrIzpmn",
    "papermill": {
     "duration": 0.040227,
     "end_time": "2021-10-12T20:33:52.318602",
     "exception": false,
     "start_time": "2021-10-12T20:33:52.278375",
     "status": "completed"
    },
    "tags": []
   },
   "outputs": [],
   "source": [
    "def fit(model=None, optimizer=None, scheduler=None, \n",
    "        epochs=None, early_stopping_patience=None,\n",
    "        dataloaders=None, fold=None, verbose=False) -> tuple:\n",
    "    \n",
    "    name = \"./Fold_{}_state.pt\".format(fold)\n",
    "    \n",
    "    if verbose:\n",
    "        breaker()\n",
    "        print(\"Training Fold {}...\".format(fold))\n",
    "        breaker()\n",
    "    else:\n",
    "        print(\"Training Fold {}...\".format(fold))\n",
    "\n",
    "    Losses = []\n",
    "    bestLoss = {\"train\" : np.inf, \"valid\" : np.inf}\n",
    "\n",
    "    start_time = time()\n",
    "    for e in range(epochs):\n",
    "        e_st = time()\n",
    "        epochLoss = {\"train\" : np.inf, \"valid\" : np.inf}\n",
    "\n",
    "        for phase in [\"train\", \"valid\"]:\n",
    "            if phase == \"train\":\n",
    "                model.train()\n",
    "            else:\n",
    "                model.eval()\n",
    "            \n",
    "            lossPerPass = []\n",
    "\n",
    "            for X, y in dataloaders[phase]:\n",
    "                X, y = X.to(DEVICE), y.to(DEVICE)\n",
    "\n",
    "                optimizer.zero_grad()\n",
    "                with torch.set_grad_enabled(phase == \"train\"):\n",
    "                    output = model(X)\n",
    "                    loss = torch.nn.MSELoss()(output, y)\n",
    "                    if phase == \"train\":\n",
    "                        loss.backward()\n",
    "                        optimizer.step()\n",
    "                lossPerPass.append(loss.item())\n",
    "            epochLoss[phase] = np.mean(np.array(lossPerPass))\n",
    "        Losses.append(epochLoss)\n",
    "\n",
    "        if early_stopping_patience:\n",
    "            if epochLoss[\"valid\"] < bestLoss[\"valid\"]:\n",
    "                bestLoss = epochLoss\n",
    "                BLE = e + 1\n",
    "                torch.save({\"model_state_dict\": model.state_dict(),\n",
    "                            \"optim_state_dict\": optimizer.state_dict()},\n",
    "                           name)\n",
    "                early_stopping_step = 0\n",
    "            else:\n",
    "                early_stopping_step += 1\n",
    "                if early_stopping_step > early_stopping_patience:\n",
    "                    if verbose:\n",
    "                        print(\"\\nEarly Stopping at Epoch {}\".format(e))\n",
    "                    break\n",
    "        \n",
    "        if epochLoss[\"valid\"] < bestLoss[\"valid\"]:\n",
    "            bestLoss = epochLoss\n",
    "            BLE = e + 1\n",
    "            torch.save({\"model_state_dict\": model.state_dict(),\n",
    "                        \"optim_state_dict\": optimizer.state_dict()},\n",
    "                       name)\n",
    "        \n",
    "        if scheduler:\n",
    "            scheduler.step(epochLoss[\"valid\"])\n",
    "        \n",
    "        if verbose:\n",
    "            print(\"Epoch: {} | Train Loss: {:.5f} | Valid Loss: {:.5f} | Time: {:.2f} seconds\".format(e+1, epochLoss[\"train\"], epochLoss[\"valid\"], time()-e_st))\n",
    "    \n",
    "    if verbose:\n",
    "        breaker()\n",
    "        print(\"Best Validation Loss at Epoch {}\".format(BLE))\n",
    "        breaker()\n",
    "        print(\"Time Taken [{} Epochs] : {:.2f} minutes\".format(len(Losses), (time()-start_time)/60))\n",
    "        breaker()\n",
    "        print(\"Training Completed\")\n",
    "        breaker()\n",
    "\n",
    "    return Losses, BLE, name\n",
    "\n",
    "#####################################################################################################\n",
    "\n",
    "def predict_batch(model=None, dataloader=None, mode=\"test\", path=None) -> np.ndarray:    \n",
    "    model.load_state_dict(torch.load(path, map_location=DEVICE)[\"model_state_dict\"])\n",
    "    model.to(DEVICE)\n",
    "    model.eval()\n",
    "\n",
    "    y_pred = torch.zeros(1, 1).to(DEVICE)\n",
    "    if re.match(r\"valid\", mode, re.IGNORECASE):\n",
    "        for X, _ in dataloader:\n",
    "            X = X.to(DEVICE)\n",
    "            with torch.no_grad():\n",
    "                output = model(X)\n",
    "            y_pred = torch.cat((y_pred, output.view(-1, 1)), dim=0)\n",
    "    elif re.match(r\"test\", mode, re.IGNORECASE):\n",
    "        for X in dataloader:\n",
    "            X = X.to(DEVICE)\n",
    "            with torch.no_grad():\n",
    "                output = model(X)\n",
    "            y_pred = torch.cat((y_pred, output.view(-1, 1)), dim=0)\n",
    "    \n",
    "    return y_pred[1:].detach().cpu().numpy()"
   ]
  },
  {
   "cell_type": "markdown",
   "id": "778a670d",
   "metadata": {
    "id": "YQP876MS0OrX",
    "papermill": {
     "duration": 0.01404,
     "end_time": "2021-10-12T20:33:52.346604",
     "exception": false,
     "start_time": "2021-10-12T20:33:52.332564",
     "status": "completed"
    },
    "tags": []
   },
   "source": [
    "## Train"
   ]
  },
  {
   "cell_type": "code",
   "execution_count": 8,
   "id": "185d6e0f",
   "metadata": {
    "execution": {
     "iopub.execute_input": "2021-10-12T20:33:52.388197Z",
     "iopub.status.busy": "2021-10-12T20:33:52.387396Z",
     "iopub.status.idle": "2021-10-12T20:33:52.390862Z",
     "shell.execute_reply": "2021-10-12T20:33:52.390251Z",
     "shell.execute_reply.started": "2021-10-12T16:50:13.588968Z"
    },
    "id": "OrGICYXg0QEM",
    "papermill": {
     "duration": 0.030932,
     "end_time": "2021-10-12T20:33:52.391025",
     "exception": false,
     "start_time": "2021-10-12T20:33:52.360093",
     "status": "completed"
    },
    "tags": []
   },
   "outputs": [],
   "source": [
    "def train(features: np.ndarray, targets: np.ndarray,\n",
    "          n_splits: int, batch_size: int, lr: float, wd: float, \n",
    "          epochs: int, early_stopping: int, \n",
    "          patience=None, eps=None) -> list:        \n",
    "    \n",
    "    metrics = []\n",
    "        \n",
    "    KFold_start_time = time()\n",
    "    breaker()\n",
    "    print(\"Performing {} Fold CV ...\".format(n_splits))\n",
    "    breaker()\n",
    "    fold = 1\n",
    "    for tr_idx, va_idx in KFold(n_splits=n_splits, shuffle=True, random_state=SEED).split(features):\n",
    "\n",
    "        tr_features, va_features = features[tr_idx], features[va_idx]\n",
    "        tr_targets, va_targets   = targets[tr_idx], targets[va_idx]\n",
    "\n",
    "        tr_targets = sc_y.fit_transform(tr_targets)\n",
    "        va_targets = sc_y.transform(va_targets)\n",
    "\n",
    "        dataloaders = build_dataloaders(tr_features, va_features,\n",
    "                                        tr_targets, va_targets, \n",
    "                                        batch_size, SEED)\n",
    "        model = build_model(IL=tr_features.shape[1], seed=SEED).to(DEVICE)\n",
    "        optimizer = model.get_optimizer(lr=lr, wd=wd)\n",
    "        scheduler = None\n",
    "        if isinstance(patience, int) and isinstance(eps, float):\n",
    "            scheduler = model.get_plateau_scheduler(optimizer, patience, eps)\n",
    "\n",
    "        L, _, name = fit(model=model, optimizer=optimizer, scheduler=scheduler, \n",
    "                         epochs=epochs, early_stopping_patience=early_stopping,\n",
    "                         dataloaders=dataloaders, fold=fold, verbose=verbose)\n",
    "        y_pred = predict_batch(model=model, dataloader=dataloaders[\"valid\"], mode=\"valid\", path=name)\n",
    "        RMSE = np.sqrt(mean_squared_error(sc_y.inverse_transform(y_pred), sc_y.inverse_transform(va_targets)))\n",
    "        if verbose:\n",
    "            print(\"\\nValidation RMSE [Fold {}]: {:.5f}\".format(fold, RMSE))\n",
    "            breaker()\n",
    "            show_graphs(L)\n",
    "        \n",
    "        metrics_dict = {\"Fold\" : fold, \"RMSE\" : RMSE}\n",
    "        metrics.append(metrics_dict)\n",
    "        \n",
    "        fold += 1\n",
    "    \n",
    "    breaker()\n",
    "    print(\"Total Time to {} Fold CV : {:.2f} minutes\".format(n_splits, (time() - KFold_start_time)/60))\n",
    "    \n",
    "    return metrics, (time() - KFold_start_time)/60"
   ]
  },
  {
   "cell_type": "markdown",
   "id": "c7235371",
   "metadata": {
    "id": "UGUqaAzy1C33",
    "papermill": {
     "duration": 0.014192,
     "end_time": "2021-10-12T20:33:52.418883",
     "exception": false,
     "start_time": "2021-10-12T20:33:52.404691",
     "status": "completed"
    },
    "tags": []
   },
   "source": [
    "## Main"
   ]
  },
  {
   "cell_type": "code",
   "execution_count": 9,
   "id": "aadbf666",
   "metadata": {
    "execution": {
     "iopub.execute_input": "2021-10-12T20:33:52.457073Z",
     "iopub.status.busy": "2021-10-12T20:33:52.456204Z",
     "iopub.status.idle": "2021-10-12T20:33:52.460254Z",
     "shell.execute_reply": "2021-10-12T20:33:52.459628Z",
     "shell.execute_reply.started": "2021-10-12T16:50:14.005208Z"
    },
    "id": "_0yK3IwR1CEs",
    "papermill": {
     "duration": 0.028116,
     "end_time": "2021-10-12T20:33:52.460476",
     "exception": false,
     "start_time": "2021-10-12T20:33:52.432360",
     "status": "completed"
    },
    "tags": []
   },
   "outputs": [],
   "source": [
    "def main():\n",
    "    \n",
    "    ########### Params ###########\n",
    "    \n",
    "    if DEBUG:\n",
    "        n_splits = 10\n",
    "        patience, eps = 5, 1e-8\n",
    "        epochs, early_stopping = 5, 5\n",
    "\n",
    "        batch_size = 128\n",
    "        lr = 1e-3\n",
    "        wd = 1e-1\n",
    "    else:\n",
    "        n_splits = 10\n",
    "        patience, eps = 5, 1e-8\n",
    "        epochs, early_stopping = 100, 8\n",
    "\n",
    "        batch_size = 128\n",
    "        lr = 1e-3\n",
    "        wd = 1e-1\n",
    "    \n",
    "    ##############################\n",
    "\n",
    "    complete_metrics = []\n",
    "\n",
    "    if verbose:\n",
    "        breaker()\n",
    "        print(\"Loading Data ...\")\n",
    "    \n",
    "    features = np.load(os.path.join(FEATURE_PATH, \"{}_features.npy\".format(MODEL_NAME)))\n",
    "    targets  = get_targets(DATA_PATH)\n",
    "\n",
    "    # Without Scheduler\n",
    "    metrics, _ = train(features, targets, n_splits, batch_size, lr, wd, epochs, early_stopping, patience=None, eps=None)\n",
    "\n",
    "    # # With Plateau Scheduler\n",
    "    # metrics, _ = train(features, targets, n_splits, batch_size, lr, wd, epochs, early_stopping, patience=patience, eps=eps)\n",
    "\n",
    "    rmse = []\n",
    "    breaker()\n",
    "    for i in range(len(metrics)):\n",
    "        print(\"Fold {}, RMSE: {:.5f}\".format(metrics[i][\"Fold\"], metrics[i][\"RMSE\"]))\n",
    "        rmse.append(metrics[i][\"RMSE\"])\n",
    "    \n",
    "    best_index = rmse.index(min(rmse))\n",
    "    breaker()\n",
    "    print(\"Best RMSE : {:.5f}\".format(metrics[best_index][\"RMSE\"]))\n",
    "    print(\"Avg RMSE  : {:.5f}\".format(sum(rmse) / len(rmse)))\n",
    "    breaker()\n",
    "\n",
    "    with open(\"metrics.pkl\", \"wb\") as fp:\n",
    "        pickle.dump(metrics, fp)"
   ]
  },
  {
   "cell_type": "code",
   "execution_count": 10,
   "id": "dd916cad",
   "metadata": {
    "execution": {
     "iopub.execute_input": "2021-10-12T20:33:52.492908Z",
     "iopub.status.busy": "2021-10-12T20:33:52.492256Z",
     "iopub.status.idle": "2021-10-12T20:35:39.816467Z",
     "shell.execute_reply": "2021-10-12T20:35:39.817010Z",
     "shell.execute_reply.started": "2021-10-12T16:50:14.414968Z"
    },
    "id": "9Vf0T4VN2Z1Q",
    "outputId": "d8f15d91-6afc-482a-e8c4-ccba8ab2f221",
    "papermill": {
     "duration": 107.343049,
     "end_time": "2021-10-12T20:35:39.817321",
     "exception": false,
     "start_time": "2021-10-12T20:33:52.474272",
     "status": "completed"
    },
    "tags": []
   },
   "outputs": [
    {
     "name": "stdout",
     "output_type": "stream",
     "text": [
      "\n",
      "**************************************************\n",
      "\n",
      "Performing 10 Fold CV ...\n",
      "\n",
      "**************************************************\n",
      "\n",
      "Training Fold 1...\n",
      "Training Fold 2...\n",
      "Training Fold 3...\n",
      "Training Fold 4...\n",
      "Training Fold 5...\n",
      "Training Fold 6...\n",
      "Training Fold 7...\n",
      "Training Fold 8...\n",
      "Training Fold 9...\n",
      "Training Fold 10...\n",
      "\n",
      "**************************************************\n",
      "\n",
      "Total Time to 10 Fold CV : 1.75 minutes\n",
      "\n",
      "**************************************************\n",
      "\n",
      "Fold 1, RMSE: 18.57413\n",
      "Fold 2, RMSE: 18.39364\n",
      "Fold 3, RMSE: 18.84148\n",
      "Fold 4, RMSE: 17.87413\n",
      "Fold 5, RMSE: 19.28789\n",
      "Fold 6, RMSE: 18.90607\n",
      "Fold 7, RMSE: 19.06794\n",
      "Fold 8, RMSE: 17.07662\n",
      "Fold 9, RMSE: 18.32586\n",
      "Fold 10, RMSE: 18.08085\n",
      "\n",
      "**************************************************\n",
      "\n",
      "Best RMSE : 17.07662\n",
      "Avg RMSE  : 18.44286\n",
      "\n",
      "**************************************************\n",
      "\n"
     ]
    }
   ],
   "source": [
    "main()"
   ]
  },
  {
   "cell_type": "code",
   "execution_count": 11,
   "id": "6c771c26",
   "metadata": {
    "execution": {
     "iopub.execute_input": "2021-10-12T20:35:39.859657Z",
     "iopub.status.busy": "2021-10-12T20:35:39.858492Z",
     "iopub.status.idle": "2021-10-12T20:35:39.863834Z",
     "shell.execute_reply": "2021-10-12T20:35:39.863357Z",
     "shell.execute_reply.started": "2021-10-12T16:49:10.046766Z"
    },
    "id": "YmNqGwy98SyF",
    "papermill": {
     "duration": 0.028841,
     "end_time": "2021-10-12T20:35:39.863967",
     "exception": false,
     "start_time": "2021-10-12T20:35:39.835126",
     "status": "completed"
    },
    "tags": []
   },
   "outputs": [
    {
     "name": "stdout",
     "output_type": "stream",
     "text": [
      "\n",
      "**************************************************\n",
      "\n",
      "Notebook Rumtime : 1.90 minutes\n",
      "\n",
      "**************************************************\n",
      "\n"
     ]
    }
   ],
   "source": [
    "breaker()\n",
    "print(\"Notebook Rumtime : {:.2f} minutes\".format((time() - notebook_start_time)/60))\n",
    "breaker()"
   ]
  }
 ],
 "metadata": {
  "kernelspec": {
   "display_name": "Python 3",
   "language": "python",
   "name": "python3"
  },
  "language_info": {
   "codemirror_mode": {
    "name": "ipython",
    "version": 3
   },
   "file_extension": ".py",
   "mimetype": "text/x-python",
   "name": "python",
   "nbconvert_exporter": "python",
   "pygments_lexer": "ipython3",
   "version": "3.7.10"
  },
  "papermill": {
   "default_parameters": {},
   "duration": 123.842517,
   "end_time": "2021-10-12T20:35:41.593483",
   "environment_variables": {},
   "exception": null,
   "input_path": "__notebook__.ipynb",
   "output_path": "__notebook__.ipynb",
   "parameters": {},
   "start_time": "2021-10-12T20:33:37.750966",
   "version": "2.3.3"
  }
 },
 "nbformat": 4,
 "nbformat_minor": 5
}
