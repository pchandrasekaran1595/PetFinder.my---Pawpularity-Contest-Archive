{
 "cells": [
  {
   "cell_type": "markdown",
   "id": "e348cb8b",
   "metadata": {
    "_cell_guid": "b1076dfc-b9ad-4769-8c92-a6c4dae69d19",
    "_uuid": "8f2839f25d086af736a60e9eeb907d3b93b6e0e5",
    "papermill": {
     "duration": 0.012976,
     "end_time": "2021-10-07T00:56:22.930902",
     "exception": false,
     "start_time": "2021-10-07T00:56:22.917926",
     "status": "completed"
    },
    "tags": []
   },
   "source": [
    "## Library Imports"
   ]
  },
  {
   "cell_type": "code",
   "execution_count": 1,
   "id": "5e09027e",
   "metadata": {
    "execution": {
     "iopub.execute_input": "2021-10-07T00:56:22.961896Z",
     "iopub.status.busy": "2021-10-07T00:56:22.960341Z",
     "iopub.status.idle": "2021-10-07T00:56:23.037924Z",
     "shell.execute_reply": "2021-10-07T00:56:23.037359Z",
     "shell.execute_reply.started": "2021-10-07T00:51:55.250549Z"
    },
    "papermill": {
     "duration": 0.093303,
     "end_time": "2021-10-07T00:56:23.038072",
     "exception": false,
     "start_time": "2021-10-07T00:56:22.944769",
     "status": "completed"
    },
    "tags": []
   },
   "outputs": [],
   "source": [
    "from time import time\n",
    "notebook_start_time = time()"
   ]
  },
  {
   "cell_type": "code",
   "execution_count": 2,
   "id": "6b0602bd",
   "metadata": {
    "execution": {
     "iopub.execute_input": "2021-10-07T00:56:23.068119Z",
     "iopub.status.busy": "2021-10-07T00:56:23.067513Z",
     "iopub.status.idle": "2021-10-07T00:56:28.432451Z",
     "shell.execute_reply": "2021-10-07T00:56:28.431578Z",
     "shell.execute_reply.started": "2021-10-07T00:51:55.362034Z"
    },
    "papermill": {
     "duration": 5.382608,
     "end_time": "2021-10-07T00:56:28.432599",
     "exception": false,
     "start_time": "2021-10-07T00:56:23.049991",
     "status": "completed"
    },
    "tags": []
   },
   "outputs": [],
   "source": [
    "import os\n",
    "import re\n",
    "import pickle\n",
    "import numpy as np\n",
    "import pandas as pd\n",
    "import matplotlib.pyplot as plt\n",
    "\n",
    "import torch\n",
    "from torch import nn, optim\n",
    "from torch.utils.data import Dataset\n",
    "from torch.utils.data import DataLoader as DL\n",
    "from torch.nn.utils import weight_norm as WN\n",
    "from torchvision import models, transforms\n",
    "\n",
    "from sklearn.model_selection import KFold\n",
    "from sklearn.metrics import mean_squared_error\n",
    "from sklearn.preprocessing import StandardScaler"
   ]
  },
  {
   "cell_type": "markdown",
   "id": "17c9ad28",
   "metadata": {
    "papermill": {
     "duration": 0.012088,
     "end_time": "2021-10-07T00:56:28.457061",
     "exception": false,
     "start_time": "2021-10-07T00:56:28.444973",
     "status": "completed"
    },
    "tags": []
   },
   "source": [
    "## Constants and Utilities"
   ]
  },
  {
   "cell_type": "code",
   "execution_count": 3,
   "id": "8ca4fd4f",
   "metadata": {
    "execution": {
     "iopub.execute_input": "2021-10-07T00:56:28.524178Z",
     "iopub.status.busy": "2021-10-07T00:56:28.523207Z",
     "iopub.status.idle": "2021-10-07T00:56:28.525126Z",
     "shell.execute_reply": "2021-10-07T00:56:28.525936Z",
     "shell.execute_reply.started": "2021-10-07T00:52:01.035387Z"
    },
    "papermill": {
     "duration": 0.057203,
     "end_time": "2021-10-07T00:56:28.526071",
     "exception": false,
     "start_time": "2021-10-07T00:56:28.468868",
     "status": "completed"
    },
    "tags": []
   },
   "outputs": [],
   "source": [
    "SEED = 0\n",
    "DEVICE = torch.device(\"cuda\" if torch.cuda.is_available() else \"cpu\")\n",
    "PATH = \"../input/petfinder-pawpularity-score\"\n",
    "FEATURES_PATH = \"../input/petfinder-pretrained-features-unaugmented\"\n",
    "MODEL_NAME = \"densenet\"\n",
    "\n",
    "sc_y = StandardScaler()"
   ]
  },
  {
   "cell_type": "code",
   "execution_count": 4,
   "id": "b243d8b9",
   "metadata": {
    "execution": {
     "iopub.execute_input": "2021-10-07T00:56:28.560555Z",
     "iopub.status.busy": "2021-10-07T00:56:28.560010Z",
     "iopub.status.idle": "2021-10-07T00:56:28.563119Z",
     "shell.execute_reply": "2021-10-07T00:56:28.563761Z",
     "shell.execute_reply.started": "2021-10-07T00:52:27.409668Z"
    },
    "papermill": {
     "duration": 0.025897,
     "end_time": "2021-10-07T00:56:28.563900",
     "exception": false,
     "start_time": "2021-10-07T00:56:28.538003",
     "status": "completed"
    },
    "tags": []
   },
   "outputs": [],
   "source": [
    "def breaker(num=50, char=\"*\") -> None:\n",
    "    print(\"\\n\" + num*char + \"\\n\")\n",
    "\n",
    "\n",
    "def head(x, no_of_ele=5) -> None:\n",
    "    print(x[:no_of_ele])\n",
    "\n",
    "\n",
    "def get_metadata_and_targets(path: str) -> tuple:\n",
    "    df = pd.read_csv(os.path.join(path, \"train.csv\"), engine=\"python\")\n",
    "    metadata = df.iloc[:, 1:-1].copy().values\n",
    "    targets  = df.iloc[:, -1].copy().values\n",
    "    return metadata, targets\n",
    "\n",
    "\n",
    "def normalize(x):\n",
    "    for i in range(x.shape[0]):\n",
    "        x[i] = (x[i] - torch.min(x[i])) / (torch.max(x[i]) - torch.min(x[i]))\n",
    "    return x\n",
    "\n",
    "\n",
    "def show_graphs(L: list) -> None:\n",
    "    TL, VL = [], []\n",
    "    for i in range(len(L)):\n",
    "        TL.append(L[i][\"train\"])\n",
    "        VL.append(L[i][\"valid\"])    \n",
    "    \n",
    "    x_Axis = np.arange(1, len(L) + 1)\n",
    "    plt.figure()\n",
    "    plt.plot(x_Axis, TL, \"r\", label=\"train\")\n",
    "    plt.plot(x_Axis, VL, \"b\", label=\"valid\")\n",
    "    plt.grid()\n",
    "    plt.legend()\n",
    "    plt.title(\"MSE Loss\")\n",
    "    plt.show()"
   ]
  },
  {
   "cell_type": "markdown",
   "id": "bef3ce50",
   "metadata": {
    "papermill": {
     "duration": 0.011639,
     "end_time": "2021-10-07T00:56:28.587378",
     "exception": false,
     "start_time": "2021-10-07T00:56:28.575739",
     "status": "completed"
    },
    "tags": []
   },
   "source": [
    "## Dataset Template"
   ]
  },
  {
   "cell_type": "code",
   "execution_count": 5,
   "id": "d544d16d",
   "metadata": {
    "execution": {
     "iopub.execute_input": "2021-10-07T00:56:28.615023Z",
     "iopub.status.busy": "2021-10-07T00:56:28.614268Z",
     "iopub.status.idle": "2021-10-07T00:56:28.619551Z",
     "shell.execute_reply": "2021-10-07T00:56:28.619969Z",
     "shell.execute_reply.started": "2021-10-07T00:52:01.108729Z"
    },
    "papermill": {
     "duration": 0.019679,
     "end_time": "2021-10-07T00:56:28.620084",
     "exception": false,
     "start_time": "2021-10-07T00:56:28.600405",
     "status": "completed"
    },
    "tags": []
   },
   "outputs": [],
   "source": [
    "class DS(Dataset):\n",
    "    def __init__(self, features=None, targets=None):\n",
    "        self.features = features\n",
    "        self.targets  = targets\n",
    "        \n",
    "    def __len__(self):\n",
    "        return self.features.shape[0]\n",
    "    \n",
    "    def __getitem__(self, idx):\n",
    "        return torch.FloatTensor(self.features[idx]), torch.FloatTensor(self.targets[idx])"
   ]
  },
  {
   "cell_type": "markdown",
   "id": "91da34e5",
   "metadata": {
    "papermill": {
     "duration": 0.011722,
     "end_time": "2021-10-07T00:56:28.643915",
     "exception": false,
     "start_time": "2021-10-07T00:56:28.632193",
     "status": "completed"
    },
    "tags": []
   },
   "source": [
    "## Build Dataloaders"
   ]
  },
  {
   "cell_type": "code",
   "execution_count": 6,
   "id": "5d810413",
   "metadata": {
    "execution": {
     "iopub.execute_input": "2021-10-07T00:56:28.674825Z",
     "iopub.status.busy": "2021-10-07T00:56:28.673210Z",
     "iopub.status.idle": "2021-10-07T00:56:28.675550Z",
     "shell.execute_reply": "2021-10-07T00:56:28.675981Z",
     "shell.execute_reply.started": "2021-10-07T00:52:01.121506Z"
    },
    "papermill": {
     "duration": 0.020373,
     "end_time": "2021-10-07T00:56:28.676096",
     "exception": false,
     "start_time": "2021-10-07T00:56:28.655723",
     "status": "completed"
    },
    "tags": []
   },
   "outputs": [],
   "source": [
    "def build_dataloaders(tr_features: np.ndarray, va_features: np.ndarray,\n",
    "                      tr_targets: np.ndarray, va_targets: np.ndarray,\n",
    "                      batch_size: int, seed: int):\n",
    "\n",
    "    breaker()\n",
    "    print(\"Building Train and Validation DataLoaders ...\")\n",
    "    \n",
    "    tr_data_setup = DS(features=tr_features, targets=tr_targets)\n",
    "    va_data_setup = DS(features=va_features, targets=va_targets)\n",
    "    \n",
    "    dataloaders = {\n",
    "        \"train\" : DL(tr_data_setup, batch_size=batch_size, shuffle=True, generator=torch.manual_seed(seed)),\n",
    "        \"valid\" : DL(va_data_setup, batch_size=batch_size, shuffle=False)\n",
    "    }\n",
    "    \n",
    "    return dataloaders"
   ]
  },
  {
   "cell_type": "markdown",
   "id": "e7b7bec8",
   "metadata": {
    "papermill": {
     "duration": 0.011755,
     "end_time": "2021-10-07T00:56:28.699729",
     "exception": false,
     "start_time": "2021-10-07T00:56:28.687974",
     "status": "completed"
    },
    "tags": []
   },
   "source": [
    "## Build Model"
   ]
  },
  {
   "cell_type": "code",
   "execution_count": 7,
   "id": "da482e26",
   "metadata": {
    "execution": {
     "iopub.execute_input": "2021-10-07T00:56:28.732594Z",
     "iopub.status.busy": "2021-10-07T00:56:28.731945Z",
     "iopub.status.idle": "2021-10-07T00:56:28.734841Z",
     "shell.execute_reply": "2021-10-07T00:56:28.735225Z",
     "shell.execute_reply.started": "2021-10-07T00:52:01.134328Z"
    },
    "papermill": {
     "duration": 0.024026,
     "end_time": "2021-10-07T00:56:28.735406",
     "exception": false,
     "start_time": "2021-10-07T00:56:28.711380",
     "status": "completed"
    },
    "tags": []
   },
   "outputs": [],
   "source": [
    "def build_model(IL: int, seed: int):\n",
    "    class ANN(nn.Module):\n",
    "        def __init__(self, IL=None):\n",
    "            super(ANN, self).__init__()\n",
    "\n",
    "            self.predictor = nn.Sequential()\n",
    "            self.predictor.add_module(\"BN\", nn.BatchNorm1d(num_features=IL, eps=1e-5))\n",
    "            self.predictor.add_module(\"FC\", WN(nn.Linear(in_features=IL, out_features=1)))\n",
    "\n",
    "        def get_optimizer(self, lr=1e-3, wd=0):\n",
    "            params = [p for p in self.parameters() if p.requires_grad]\n",
    "            return optim.Adam(params, lr=lr, weight_decay=wd)\n",
    "\n",
    "        def get_plateau_scheduler(self, optimizer=None, patience=5, eps=1e-8):\n",
    "            return optim.lr_scheduler.ReduceLROnPlateau(optimizer=optimizer, patience=patience, eps=eps, verbose=True)\n",
    "\n",
    "        def forward(self, x):\n",
    "            return self.predictor(x)\n",
    "    \n",
    "    breaker()\n",
    "    print(\"Building Model ...\")\n",
    "    print(\"\\n{} -> 1\".format(IL))\n",
    "    \n",
    "    torch.manual_seed(seed)\n",
    "    model = ANN(IL=IL)\n",
    "    \n",
    "    return model"
   ]
  },
  {
   "cell_type": "markdown",
   "id": "fec30748",
   "metadata": {
    "papermill": {
     "duration": 0.011589,
     "end_time": "2021-10-07T00:56:28.758807",
     "exception": false,
     "start_time": "2021-10-07T00:56:28.747218",
     "status": "completed"
    },
    "tags": []
   },
   "source": [
    "## Fit and Predict Helpers"
   ]
  },
  {
   "cell_type": "code",
   "execution_count": 8,
   "id": "49863db6",
   "metadata": {
    "execution": {
     "iopub.execute_input": "2021-10-07T00:56:28.801485Z",
     "iopub.status.busy": "2021-10-07T00:56:28.785119Z",
     "iopub.status.idle": "2021-10-07T00:56:28.806546Z",
     "shell.execute_reply": "2021-10-07T00:56:28.806103Z",
     "shell.execute_reply.started": "2021-10-07T00:52:01.151174Z"
    },
    "papermill": {
     "duration": 0.035733,
     "end_time": "2021-10-07T00:56:28.806647",
     "exception": false,
     "start_time": "2021-10-07T00:56:28.770914",
     "status": "completed"
    },
    "tags": []
   },
   "outputs": [],
   "source": [
    "def fit(model=None, optimizer=None, scheduler=None, \n",
    "        epochs=None, early_stopping_patience=None,\n",
    "        dataloaders=None, fold=None, verbose=False) -> tuple:\n",
    "    \n",
    "    name = \"./Fold_{}_state.pt\".format(fold)\n",
    "    \n",
    "    breaker()\n",
    "    print(\"Training Fold {}...\".format(fold))\n",
    "    breaker()\n",
    "\n",
    "    Losses = []\n",
    "    bestLoss = {\"train\" : np.inf, \"valid\" : np.inf}\n",
    "\n",
    "    model.to(DEVICE)\n",
    "    start_time = time()\n",
    "    for e in range(epochs):\n",
    "        e_st = time()\n",
    "        epochLoss = {\"train\" : np.inf, \"valid\" : np.inf}\n",
    "\n",
    "        for phase in [\"train\", \"valid\"]:\n",
    "            if phase == \"train\":\n",
    "                model.train()\n",
    "            else:\n",
    "                model.eval()\n",
    "            \n",
    "            lossPerPass = []\n",
    "\n",
    "            for X, y in dataloaders[phase]:\n",
    "                X, y = X.to(DEVICE), y.to(DEVICE)\n",
    "\n",
    "                optimizer.zero_grad()\n",
    "                with torch.set_grad_enabled(phase == \"train\"):\n",
    "                    output = model(X)\n",
    "                    loss = torch.nn.MSELoss()(output, y)\n",
    "                    if phase == \"train\":\n",
    "                        loss.backward()\n",
    "                        optimizer.step()\n",
    "                lossPerPass.append(loss.item())\n",
    "            epochLoss[phase] = np.mean(np.array(lossPerPass))\n",
    "        Losses.append(epochLoss)\n",
    "        \n",
    "        if early_stopping_patience:\n",
    "            if epochLoss[\"valid\"] < bestLoss[\"valid\"]:\n",
    "                bestLoss = epochLoss\n",
    "                BLE = e + 1\n",
    "                torch.save({\"model_state_dict\": model.state_dict(),\n",
    "                            \"optim_state_dict\": optimizer.state_dict()},\n",
    "                           name)\n",
    "                early_stopping_step = 0\n",
    "            else:\n",
    "                early_stopping_step += 1\n",
    "                if early_stopping_step > early_stopping_patience:\n",
    "                    print(\"\\nEarly Stopping at Epoch {}\".format(e))\n",
    "                    break\n",
    "        \n",
    "        if epochLoss[\"valid\"] < bestLoss[\"valid\"]:\n",
    "            bestLoss = epochLoss\n",
    "            BLE = e + 1\n",
    "            torch.save({\"model_state_dict\": model.state_dict(),\n",
    "                        \"optim_state_dict\": optimizer.state_dict()},\n",
    "                       name)\n",
    "        \n",
    "        if scheduler:\n",
    "            scheduler.step(epochLoss[\"valid\"])\n",
    "        \n",
    "        if verbose:\n",
    "            print(\"Epoch: {} | Train Loss: {:.5f} | Valid Loss: {:.5f} | Time: {:.2f} seconds\".format(e+1, epochLoss[\"train\"], epochLoss[\"valid\"], time()-e_st))\n",
    "    \n",
    "    breaker()\n",
    "    print(\"Best Validation Loss at Epoch {}\".format(BLE))\n",
    "    breaker()\n",
    "    print(\"Time Taken [{} Epochs] : {:.2f} minutes\".format(len(Losses), (time()-start_time)/60))\n",
    "    breaker()\n",
    "    print(\"Training Completed\")\n",
    "    breaker()\n",
    "\n",
    "    return Losses, BLE, name\n",
    "\n",
    "#####################################################################################################\n",
    "\n",
    "def predict_batch(model=None, dataloader=None, mode=\"test\", path=None) -> np.ndarray:\n",
    "    model.load_state_dict(torch.load(path, map_location=DEVICE)[\"model_state_dict\"])\n",
    "    model.to(DEVICE)\n",
    "    model.eval()\n",
    "\n",
    "    y_pred = torch.zeros(1, 1).to(DEVICE)\n",
    "    if re.match(r\"valid\", mode, re.IGNORECASE):\n",
    "        for X, _ in dataloader:\n",
    "            X = X.to(DEVICE)\n",
    "            with torch.no_grad():\n",
    "                output = model(X)\n",
    "            y_pred = torch.cat((y_pred, output.view(-1, 1)), dim=0)\n",
    "    elif re.match(r\"test\", mode, re.IGNORECASE):\n",
    "        for X in dataloader:\n",
    "            X = X.to(DEVICE)\n",
    "            with torch.no_grad():\n",
    "                output = model(X)\n",
    "            y_pred = torch.cat((y_pred, output.view(-1, 1)), dim=0)\n",
    "    \n",
    "    return y_pred[1:].detach().cpu().numpy()"
   ]
  },
  {
   "cell_type": "markdown",
   "id": "418cf181",
   "metadata": {
    "papermill": {
     "duration": 0.011685,
     "end_time": "2021-10-07T00:56:28.830520",
     "exception": false,
     "start_time": "2021-10-07T00:56:28.818835",
     "status": "completed"
    },
    "tags": []
   },
   "source": [
    "## Train Helper"
   ]
  },
  {
   "cell_type": "code",
   "execution_count": 9,
   "id": "8efec147",
   "metadata": {
    "execution": {
     "iopub.execute_input": "2021-10-07T00:56:28.868105Z",
     "iopub.status.busy": "2021-10-07T00:56:28.866462Z",
     "iopub.status.idle": "2021-10-07T00:56:28.868725Z",
     "shell.execute_reply": "2021-10-07T00:56:28.869130Z",
     "shell.execute_reply.started": "2021-10-07T00:52:01.181679Z"
    },
    "papermill": {
     "duration": 0.026875,
     "end_time": "2021-10-07T00:56:28.869263",
     "exception": false,
     "start_time": "2021-10-07T00:56:28.842388",
     "status": "completed"
    },
    "tags": []
   },
   "outputs": [],
   "source": [
    "def train(features: np.ndarray, targets: np.ndarray,\n",
    "          n_splits: int, batch_size: int, lr: float, wd: float, \n",
    "          epochs: int, early_stopping: int, \n",
    "          patience=None, eps=None) -> list:        \n",
    "    \n",
    "    metrics = []\n",
    "        \n",
    "    KFold_start_time = time()\n",
    "    breaker()\n",
    "    print(\"Performing {} Fold CV ...\".format(n_splits))\n",
    "    fold = 1\n",
    "    for tr_idx, va_idx in KFold(n_splits=n_splits, shuffle=True, random_state=SEED).split(features):\n",
    "\n",
    "        tr_features, va_features = features[tr_idx], features[va_idx]\n",
    "        tr_targets, va_targets   = targets[tr_idx], targets[va_idx]\n",
    "\n",
    "        tr_targets, va_targets   = tr_targets.reshape(-1, 1), va_targets.reshape(-1, 1)\n",
    "\n",
    "        tr_targets = sc_y.fit_transform(tr_targets)\n",
    "        va_targets = sc_y.transform(va_targets)\n",
    "\n",
    "        dataloaders = build_dataloaders(tr_features, va_features, \n",
    "                                         tr_targets, va_targets, \n",
    "                                         batch_size, SEED)\n",
    "        model = build_model(IL=tr_features.shape[1], seed=SEED)\n",
    "        \n",
    "        optimizer = model.get_optimizer(lr=lr, wd=wd)\n",
    "        scheduler = None\n",
    "        if isinstance(patience, int) and isinstance(eps, float):\n",
    "            scheduler = model.get_plateau_scheduler(optimizer, patience, eps)\n",
    "\n",
    "        L, _, name = fit(model=model, optimizer=optimizer, scheduler=scheduler, \n",
    "                         epochs=epochs, early_stopping_patience=early_stopping,\n",
    "                         dataloaders=dataloaders, fold=fold, verbose=True)\n",
    "        y_pred = predict_batch(model=model, dataloader=dataloaders[\"valid\"], mode=\"valid\", path=name)\n",
    "        RMSE = np.sqrt(mean_squared_error(sc_y.inverse_transform(y_pred), sc_y.inverse_transform(va_targets)))\n",
    "        print(\"Validation RMSE [Fold {}]: {:.5f}\".format(fold, RMSE))\n",
    "        breaker()\n",
    "        show_graphs(L)\n",
    "        \n",
    "        metrics_dict = {\"Fold\" : fold, \"RMSE\" : RMSE}\n",
    "        metrics.append(metrics_dict)\n",
    "        \n",
    "        fold += 1\n",
    "    \n",
    "    breaker()\n",
    "    print(\"Total Time to {} Fold CV : {:.2f} minutes\".format(n_splits, (time() - KFold_start_time)/60))\n",
    "    breaker()\n",
    "    \n",
    "    return metrics"
   ]
  },
  {
   "cell_type": "markdown",
   "id": "09138364",
   "metadata": {
    "papermill": {
     "duration": 0.011715,
     "end_time": "2021-10-07T00:56:28.892852",
     "exception": false,
     "start_time": "2021-10-07T00:56:28.881137",
     "status": "completed"
    },
    "tags": []
   },
   "source": [
    "## Main"
   ]
  },
  {
   "cell_type": "code",
   "execution_count": 10,
   "id": "7996b115",
   "metadata": {
    "execution": {
     "iopub.execute_input": "2021-10-07T00:56:28.924997Z",
     "iopub.status.busy": "2021-10-07T00:56:28.924490Z",
     "iopub.status.idle": "2021-10-07T00:58:19.820774Z",
     "shell.execute_reply": "2021-10-07T00:58:19.820284Z",
     "shell.execute_reply.started": "2021-10-07T00:53:03.286417Z"
    },
    "papermill": {
     "duration": 110.916247,
     "end_time": "2021-10-07T00:58:19.820912",
     "exception": false,
     "start_time": "2021-10-07T00:56:28.904665",
     "status": "completed"
    },
    "tags": []
   },
   "outputs": [
    {
     "name": "stdout",
     "output_type": "stream",
     "text": [
      "\n",
      "**************************************************\n",
      "\n",
      "Loading Data ...\n",
      "\n",
      "**************************************************\n",
      "\n",
      "Performing 10 Fold CV ...\n",
      "\n",
      "**************************************************\n",
      "\n",
      "Building Train and Validation DataLoaders ...\n",
      "\n",
      "**************************************************\n",
      "\n",
      "Building Model ...\n",
      "\n",
      "1676 -> 1\n",
      "\n",
      "**************************************************\n",
      "\n",
      "Training Fold 1...\n",
      "\n",
      "**************************************************\n",
      "\n",
      "Epoch: 1 | Train Loss: 0.87519 | Valid Loss: 0.79833 | Time: 0.89 seconds\n",
      "Epoch: 2 | Train Loss: 0.80917 | Valid Loss: 0.77447 | Time: 0.77 seconds\n",
      "Epoch: 3 | Train Loss: 0.78923 | Valid Loss: 0.77038 | Time: 0.92 seconds\n",
      "Epoch: 4 | Train Loss: 0.78227 | Valid Loss: 0.76330 | Time: 0.80 seconds\n",
      "Epoch: 5 | Train Loss: 0.77621 | Valid Loss: 0.75788 | Time: 0.76 seconds\n",
      "Epoch: 6 | Train Loss: 0.76570 | Valid Loss: 0.77027 | Time: 0.80 seconds\n",
      "Epoch: 7 | Train Loss: 0.76627 | Valid Loss: 0.77009 | Time: 0.74 seconds\n",
      "Epoch: 8 | Train Loss: 0.76274 | Valid Loss: 0.77570 | Time: 0.74 seconds\n",
      "Epoch: 9 | Train Loss: 0.76071 | Valid Loss: 0.76615 | Time: 0.79 seconds\n",
      "Epoch: 10 | Train Loss: 0.75816 | Valid Loss: 0.76263 | Time: 0.75 seconds\n",
      "Epoch: 11 | Train Loss: 0.75431 | Valid Loss: 0.76428 | Time: 0.75 seconds\n",
      "Epoch: 12 | Train Loss: 0.75329 | Valid Loss: 0.77682 | Time: 0.77 seconds\n",
      "Epoch: 13 | Train Loss: 0.75782 | Valid Loss: 0.77199 | Time: 0.76 seconds\n",
      "\n",
      "Early Stopping at Epoch 13\n",
      "\n",
      "**************************************************\n",
      "\n",
      "Best Validation Loss at Epoch 5\n",
      "\n",
      "**************************************************\n",
      "\n",
      "Time Taken [14 Epochs] : 0.18 minutes\n",
      "\n",
      "**************************************************\n",
      "\n",
      "Training Completed\n",
      "\n",
      "**************************************************\n",
      "\n",
      "Validation RMSE [Fold 1]: 17.97419\n",
      "\n",
      "**************************************************\n",
      "\n"
     ]
    },
    {
     "data": {
      "image/png": "[encoded data removed]",
      "text/plain": [
       "<Figure size 432x288 with 1 Axes>"
      ]
     },
     "metadata": {
      "needs_background": "light"
     },
     "output_type": "display_data"
    },
    {
     "name": "stdout",
     "output_type": "stream",
     "text": [
      "\n",
      "**************************************************\n",
      "\n",
      "Building Train and Validation DataLoaders ...\n",
      "\n",
      "**************************************************\n",
      "\n",
      "Building Model ...\n",
      "\n",
      "1676 -> 1\n",
      "\n",
      "**************************************************\n",
      "\n",
      "Training Fold 2...\n",
      "\n",
      "**************************************************\n",
      "\n",
      "Epoch: 1 | Train Loss: 0.87291 | Valid Loss: 0.89787 | Time: 0.76 seconds\n",
      "Epoch: 2 | Train Loss: 0.81188 | Valid Loss: 0.87752 | Time: 0.76 seconds\n",
      "Epoch: 3 | Train Loss: 0.79435 | Valid Loss: 0.90515 | Time: 0.92 seconds\n",
      "Epoch: 4 | Train Loss: 0.78655 | Valid Loss: 0.88719 | Time: 0.75 seconds\n",
      "Epoch: 5 | Train Loss: 0.77538 | Valid Loss: 0.90046 | Time: 0.79 seconds\n",
      "Epoch: 6 | Train Loss: 0.76806 | Valid Loss: 0.90249 | Time: 0.76 seconds\n",
      "Epoch: 7 | Train Loss: 0.76819 | Valid Loss: 0.90509 | Time: 0.77 seconds\n",
      "Epoch: 8 | Train Loss: 0.76180 | Valid Loss: 0.88841 | Time: 0.77 seconds\n",
      "Epoch: 9 | Train Loss: 0.76486 | Valid Loss: 0.89702 | Time: 0.75 seconds\n",
      "Epoch: 10 | Train Loss: 0.76438 | Valid Loss: 0.88890 | Time: 0.74 seconds\n",
      "\n",
      "Early Stopping at Epoch 10\n",
      "\n",
      "**************************************************\n",
      "\n",
      "Best Validation Loss at Epoch 2\n",
      "\n",
      "**************************************************\n",
      "\n",
      "Time Taken [11 Epochs] : 0.14 minutes\n",
      "\n",
      "**************************************************\n",
      "\n",
      "Training Completed\n",
      "\n",
      "**************************************************\n",
      "\n",
      "Validation RMSE [Fold 2]: 19.18652\n",
      "\n",
      "**************************************************\n",
      "\n"
     ]
    },
    {
     "data": {
      "image/png": "[encoded data removed]",
      "text/plain": [
       "<Figure size 432x288 with 1 Axes>"
      ]
     },
     "metadata": {
      "needs_background": "light"
     },
     "output_type": "display_data"
    },
    {
     "name": "stdout",
     "output_type": "stream",
     "text": [
      "\n",
      "**************************************************\n",
      "\n",
      "Building Train and Validation DataLoaders ...\n",
      "\n",
      "**************************************************\n",
      "\n",
      "Building Model ...\n",
      "\n",
      "1676 -> 1\n",
      "\n",
      "**************************************************\n",
      "\n",
      "Training Fold 3...\n",
      "\n",
      "**************************************************\n",
      "\n",
      "Epoch: 1 | Train Loss: 0.86263 | Valid Loss: 0.69268 | Time: 1.03 seconds\n",
      "Epoch: 2 | Train Loss: 0.81009 | Valid Loss: 0.69245 | Time: 0.74 seconds\n",
      "Epoch: 3 | Train Loss: 0.79531 | Valid Loss: 0.69060 | Time: 0.80 seconds\n",
      "Epoch: 4 | Train Loss: 0.78256 | Valid Loss: 0.69839 | Time: 0.78 seconds\n",
      "Epoch: 5 | Train Loss: 0.77690 | Valid Loss: 0.69427 | Time: 0.86 seconds\n",
      "Epoch: 6 | Train Loss: 0.77148 | Valid Loss: 0.70991 | Time: 0.82 seconds\n",
      "Epoch: 7 | Train Loss: 0.76599 | Valid Loss: 0.70062 | Time: 0.74 seconds\n",
      "Epoch: 8 | Train Loss: 0.76427 | Valid Loss: 0.72783 | Time: 0.74 seconds\n",
      "Epoch: 9 | Train Loss: 0.75957 | Valid Loss: 0.69858 | Time: 0.75 seconds\n",
      "Epoch: 10 | Train Loss: 0.75821 | Valid Loss: 0.70600 | Time: 0.74 seconds\n",
      "Epoch: 11 | Train Loss: 0.75177 | Valid Loss: 0.69202 | Time: 0.75 seconds\n",
      "\n",
      "Early Stopping at Epoch 11\n",
      "\n",
      "**************************************************\n",
      "\n",
      "Best Validation Loss at Epoch 3\n",
      "\n",
      "**************************************************\n",
      "\n",
      "Time Taken [12 Epochs] : 0.16 minutes\n",
      "\n",
      "**************************************************\n",
      "\n",
      "Training Completed\n",
      "\n",
      "**************************************************\n",
      "\n",
      "Validation RMSE [Fold 3]: 17.22557\n",
      "\n",
      "**************************************************\n",
      "\n"
     ]
    },
    {
     "data": {
      "image/png": "[encoded data removed]",
      "text/plain": [
       "<Figure size 432x288 with 1 Axes>"
      ]
     },
     "metadata": {
      "needs_background": "light"
     },
     "output_type": "display_data"
    },
    {
     "name": "stdout",
     "output_type": "stream",
     "text": [
      "\n",
      "**************************************************\n",
      "\n",
      "Building Train and Validation DataLoaders ...\n",
      "\n",
      "**************************************************\n",
      "\n",
      "Building Model ...\n",
      "\n",
      "1676 -> 1\n",
      "\n",
      "**************************************************\n",
      "\n",
      "Training Fold 4...\n",
      "\n",
      "**************************************************\n",
      "\n",
      "Epoch: 1 | Train Loss: 0.86821 | Valid Loss: 0.79921 | Time: 0.75 seconds\n",
      "Epoch: 2 | Train Loss: 0.80803 | Valid Loss: 0.79122 | Time: 0.80 seconds\n",
      "Epoch: 3 | Train Loss: 0.78590 | Valid Loss: 0.79950 | Time: 0.76 seconds\n",
      "Epoch: 4 | Train Loss: 0.78543 | Valid Loss: 0.78231 | Time: 0.78 seconds\n",
      "Epoch: 5 | Train Loss: 0.77983 | Valid Loss: 0.81714 | Time: 0.75 seconds\n",
      "Epoch: 6 | Train Loss: 0.77010 | Valid Loss: 0.80076 | Time: 0.75 seconds\n",
      "Epoch: 7 | Train Loss: 0.76640 | Valid Loss: 0.79089 | Time: 0.90 seconds\n",
      "Epoch: 8 | Train Loss: 0.76541 | Valid Loss: 0.79100 | Time: 0.82 seconds\n",
      "Epoch: 9 | Train Loss: 0.75955 | Valid Loss: 0.79148 | Time: 0.78 seconds\n",
      "Epoch: 10 | Train Loss: 0.75799 | Valid Loss: 0.79976 | Time: 0.76 seconds\n",
      "Epoch: 11 | Train Loss: 0.75787 | Valid Loss: 0.79071 | Time: 0.76 seconds\n",
      "Epoch: 12 | Train Loss: 0.74934 | Valid Loss: 0.78545 | Time: 0.80 seconds\n",
      "\n",
      "Early Stopping at Epoch 12\n",
      "\n",
      "**************************************************\n",
      "\n",
      "Best Validation Loss at Epoch 4\n",
      "\n",
      "**************************************************\n",
      "\n",
      "Time Taken [13 Epochs] : 0.17 minutes\n",
      "\n",
      "**************************************************\n",
      "\n",
      "Training Completed\n",
      "\n",
      "**************************************************\n",
      "\n",
      "Validation RMSE [Fold 4]: 18.24522\n",
      "\n",
      "**************************************************\n",
      "\n"
     ]
    },
    {
     "data": {
      "image/png": "[encoded data removed]",
      "text/plain": [
       "<Figure size 432x288 with 1 Axes>"
      ]
     },
     "metadata": {
      "needs_background": "light"
     },
     "output_type": "display_data"
    },
    {
     "name": "stdout",
     "output_type": "stream",
     "text": [
      "\n",
      "**************************************************\n",
      "\n",
      "Building Train and Validation DataLoaders ...\n",
      "\n",
      "**************************************************\n",
      "\n",
      "Building Model ...\n",
      "\n",
      "1676 -> 1\n",
      "\n",
      "**************************************************\n",
      "\n",
      "Training Fold 5...\n",
      "\n",
      "**************************************************\n",
      "\n",
      "Epoch: 1 | Train Loss: 0.86278 | Valid Loss: 0.85878 | Time: 0.77 seconds\n",
      "Epoch: 2 | Train Loss: 0.79902 | Valid Loss: 0.85423 | Time: 0.75 seconds\n",
      "Epoch: 3 | Train Loss: 0.78485 | Valid Loss: 0.85958 | Time: 0.76 seconds\n",
      "Epoch: 4 | Train Loss: 0.77226 | Valid Loss: 0.85745 | Time: 0.79 seconds\n",
      "Epoch: 5 | Train Loss: 0.76352 | Valid Loss: 0.85805 | Time: 0.74 seconds\n",
      "Epoch: 6 | Train Loss: 0.76572 | Valid Loss: 0.89040 | Time: 0.76 seconds\n",
      "Epoch: 7 | Train Loss: 0.76001 | Valid Loss: 0.85222 | Time: 0.75 seconds\n",
      "Epoch: 8 | Train Loss: 0.75685 | Valid Loss: 0.85083 | Time: 0.94 seconds\n",
      "Epoch: 9 | Train Loss: 0.75753 | Valid Loss: 0.87685 | Time: 0.74 seconds\n",
      "Epoch: 10 | Train Loss: 0.75783 | Valid Loss: 0.88397 | Time: 0.74 seconds\n",
      "Epoch: 11 | Train Loss: 0.75319 | Valid Loss: 0.85417 | Time: 0.79 seconds\n",
      "Epoch: 12 | Train Loss: 0.75015 | Valid Loss: 0.87095 | Time: 0.76 seconds\n",
      "Epoch: 13 | Train Loss: 0.74792 | Valid Loss: 0.86877 | Time: 0.75 seconds\n",
      "Epoch: 14 | Train Loss: 0.74238 | Valid Loss: 0.89274 | Time: 0.76 seconds\n",
      "Epoch: 15 | Train Loss: 0.74194 | Valid Loss: 0.88466 | Time: 0.74 seconds\n",
      "Epoch: 16 | Train Loss: 0.74722 | Valid Loss: 0.88160 | Time: 0.74 seconds\n",
      "\n",
      "Early Stopping at Epoch 16\n",
      "\n",
      "**************************************************\n",
      "\n",
      "Best Validation Loss at Epoch 8\n",
      "\n",
      "**************************************************\n",
      "\n",
      "Time Taken [17 Epochs] : 0.22 minutes\n",
      "\n",
      "**************************************************\n",
      "\n",
      "Training Completed\n",
      "\n",
      "**************************************************\n",
      "\n",
      "Validation RMSE [Fold 5]: 19.00356\n",
      "\n",
      "**************************************************\n",
      "\n"
     ]
    },
    {
     "data": {
      "image/png": "[encoded data removed]",
      "text/plain": [
       "<Figure size 432x288 with 1 Axes>"
      ]
     },
     "metadata": {
      "needs_background": "light"
     },
     "output_type": "display_data"
    },
    {
     "name": "stdout",
     "output_type": "stream",
     "text": [
      "\n",
      "**************************************************\n",
      "\n",
      "Building Train and Validation DataLoaders ...\n",
      "\n",
      "**************************************************\n",
      "\n",
      "Building Model ...\n",
      "\n",
      "1676 -> 1\n",
      "\n",
      "**************************************************\n",
      "\n",
      "Training Fold 6...\n",
      "\n",
      "**************************************************\n",
      "\n",
      "Epoch: 1 | Train Loss: 0.86657 | Valid Loss: 0.84626 | Time: 0.79 seconds\n",
      "Epoch: 2 | Train Loss: 0.81368 | Valid Loss: 0.85933 | Time: 0.79 seconds\n",
      "Epoch: 3 | Train Loss: 0.79256 | Valid Loss: 0.82342 | Time: 0.80 seconds\n",
      "Epoch: 4 | Train Loss: 0.78890 | Valid Loss: 0.83285 | Time: 0.99 seconds\n",
      "Epoch: 5 | Train Loss: 0.77501 | Valid Loss: 0.82689 | Time: 0.81 seconds\n",
      "Epoch: 6 | Train Loss: 0.76915 | Valid Loss: 0.82985 | Time: 0.83 seconds\n",
      "Epoch: 7 | Train Loss: 0.77194 | Valid Loss: 0.83724 | Time: 0.76 seconds\n",
      "Epoch: 8 | Train Loss: 0.76758 | Valid Loss: 0.83785 | Time: 0.75 seconds\n",
      "Epoch: 9 | Train Loss: 0.76928 | Valid Loss: 0.82601 | Time: 0.75 seconds\n",
      "Epoch: 10 | Train Loss: 0.76168 | Valid Loss: 0.83344 | Time: 0.77 seconds\n",
      "Epoch: 11 | Train Loss: 0.75186 | Valid Loss: 0.82753 | Time: 0.78 seconds\n",
      "\n",
      "Early Stopping at Epoch 11\n",
      "\n",
      "**************************************************\n",
      "\n",
      "Best Validation Loss at Epoch 3\n",
      "\n",
      "**************************************************\n",
      "\n",
      "Time Taken [12 Epochs] : 0.16 minutes\n",
      "\n",
      "**************************************************\n",
      "\n",
      "Training Completed\n",
      "\n",
      "**************************************************\n",
      "\n",
      "Validation RMSE [Fold 6]: 18.64001\n",
      "\n",
      "**************************************************\n",
      "\n"
     ]
    },
    {
     "data": {
      "image/png": "[encoded data removed]",
      "text/plain": [
       "<Figure size 432x288 with 1 Axes>"
      ]
     },
     "metadata": {
      "needs_background": "light"
     },
     "output_type": "display_data"
    },
    {
     "name": "stdout",
     "output_type": "stream",
     "text": [
      "\n",
      "**************************************************\n",
      "\n",
      "Building Train and Validation DataLoaders ...\n",
      "\n",
      "**************************************************\n",
      "\n",
      "Building Model ...\n",
      "\n",
      "1676 -> 1\n",
      "\n",
      "**************************************************\n",
      "\n",
      "Training Fold 7...\n",
      "\n",
      "**************************************************\n",
      "\n",
      "Epoch: 1 | Train Loss: 0.87680 | Valid Loss: 0.90996 | Time: 0.76 seconds\n",
      "Epoch: 2 | Train Loss: 0.80470 | Valid Loss: 0.91874 | Time: 0.76 seconds\n",
      "Epoch: 3 | Train Loss: 0.79197 | Valid Loss: 0.90876 | Time: 0.74 seconds\n",
      "Epoch: 4 | Train Loss: 0.77774 | Valid Loss: 0.89656 | Time: 0.78 seconds\n",
      "Epoch: 5 | Train Loss: 0.78140 | Valid Loss: 0.90750 | Time: 0.77 seconds\n",
      "Epoch: 6 | Train Loss: 0.77015 | Valid Loss: 0.90588 | Time: 0.92 seconds\n",
      "Epoch: 7 | Train Loss: 0.76832 | Valid Loss: 0.90982 | Time: 0.84 seconds\n",
      "Epoch: 8 | Train Loss: 0.76667 | Valid Loss: 0.89170 | Time: 0.75 seconds\n",
      "Epoch: 9 | Train Loss: 0.75864 | Valid Loss: 0.90220 | Time: 0.77 seconds\n",
      "Epoch: 10 | Train Loss: 0.76117 | Valid Loss: 0.90190 | Time: 0.78 seconds\n",
      "Epoch: 11 | Train Loss: 0.75836 | Valid Loss: 0.93252 | Time: 0.77 seconds\n",
      "Epoch: 12 | Train Loss: 0.75581 | Valid Loss: 0.90914 | Time: 0.80 seconds\n",
      "Epoch: 13 | Train Loss: 0.75457 | Valid Loss: 0.90595 | Time: 0.77 seconds\n",
      "Epoch: 14 | Train Loss: 0.75292 | Valid Loss: 0.91242 | Time: 0.76 seconds\n",
      "Epoch: 15 | Train Loss: 0.75321 | Valid Loss: 0.91359 | Time: 0.78 seconds\n",
      "Epoch: 16 | Train Loss: 0.75260 | Valid Loss: 0.92810 | Time: 0.79 seconds\n",
      "\n",
      "Early Stopping at Epoch 16\n",
      "\n",
      "**************************************************\n",
      "\n",
      "Best Validation Loss at Epoch 8\n",
      "\n",
      "**************************************************\n",
      "\n",
      "Time Taken [17 Epochs] : 0.22 minutes\n",
      "\n",
      "**************************************************\n",
      "\n",
      "Training Completed\n",
      "\n",
      "**************************************************\n",
      "\n",
      "Validation RMSE [Fold 7]: 19.33564\n",
      "\n",
      "**************************************************\n",
      "\n"
     ]
    },
    {
     "data": {
      "image/png": "[encoded data removed]",
      "text/plain": [
       "<Figure size 432x288 with 1 Axes>"
      ]
     },
     "metadata": {
      "needs_background": "light"
     },
     "output_type": "display_data"
    },
    {
     "name": "stdout",
     "output_type": "stream",
     "text": [
      "\n",
      "**************************************************\n",
      "\n",
      "Building Train and Validation DataLoaders ...\n",
      "\n",
      "**************************************************\n",
      "\n",
      "Building Model ...\n",
      "\n",
      "1676 -> 1\n",
      "\n",
      "**************************************************\n",
      "\n",
      "Training Fold 8...\n",
      "\n",
      "**************************************************\n",
      "\n",
      "Epoch: 1 | Train Loss: 0.87689 | Valid Loss: 0.84141 | Time: 0.78 seconds\n",
      "Epoch: 2 | Train Loss: 0.80257 | Valid Loss: 0.85053 | Time: 0.88 seconds\n",
      "Epoch: 3 | Train Loss: 0.78981 | Valid Loss: 0.86030 | Time: 0.89 seconds\n",
      "Epoch: 4 | Train Loss: 0.77865 | Valid Loss: 0.87012 | Time: 0.78 seconds\n",
      "Epoch: 5 | Train Loss: 0.77424 | Valid Loss: 0.88136 | Time: 0.75 seconds\n",
      "Epoch: 6 | Train Loss: 0.77053 | Valid Loss: 0.86186 | Time: 0.79 seconds\n",
      "Epoch: 7 | Train Loss: 0.76396 | Valid Loss: 0.88046 | Time: 0.76 seconds\n",
      "Epoch: 8 | Train Loss: 0.76068 | Valid Loss: 0.87814 | Time: 0.74 seconds\n",
      "Epoch: 9 | Train Loss: 0.75954 | Valid Loss: 0.85900 | Time: 0.80 seconds\n",
      "\n",
      "Early Stopping at Epoch 9\n",
      "\n",
      "**************************************************\n",
      "\n",
      "Best Validation Loss at Epoch 1\n",
      "\n",
      "**************************************************\n",
      "\n",
      "Time Taken [10 Epochs] : 0.13 minutes\n",
      "\n",
      "**************************************************\n",
      "\n",
      "Training Completed\n",
      "\n",
      "**************************************************\n",
      "\n",
      "Validation RMSE [Fold 8]: 18.85120\n",
      "\n",
      "**************************************************\n",
      "\n"
     ]
    },
    {
     "data": {
      "image/png": "[encoded data removed]",
      "text/plain": [
       "<Figure size 432x288 with 1 Axes>"
      ]
     },
     "metadata": {
      "needs_background": "light"
     },
     "output_type": "display_data"
    },
    {
     "name": "stdout",
     "output_type": "stream",
     "text": [
      "\n",
      "**************************************************\n",
      "\n",
      "Building Train and Validation DataLoaders ...\n",
      "\n",
      "**************************************************\n",
      "\n",
      "Building Model ...\n",
      "\n",
      "1676 -> 1\n",
      "\n",
      "**************************************************\n",
      "\n",
      "Training Fold 9...\n",
      "\n",
      "**************************************************\n",
      "\n",
      "Epoch: 1 | Train Loss: 0.87368 | Valid Loss: 0.75678 | Time: 0.94 seconds\n",
      "Epoch: 2 | Train Loss: 0.81383 | Valid Loss: 0.75164 | Time: 0.85 seconds\n",
      "Epoch: 3 | Train Loss: 0.79720 | Valid Loss: 0.74739 | Time: 0.74 seconds\n",
      "Epoch: 4 | Train Loss: 0.78608 | Valid Loss: 0.74746 | Time: 0.79 seconds\n",
      "Epoch: 5 | Train Loss: 0.78205 | Valid Loss: 0.74789 | Time: 0.75 seconds\n",
      "Epoch: 6 | Train Loss: 0.77840 | Valid Loss: 0.74897 | Time: 0.96 seconds\n",
      "Epoch: 7 | Train Loss: 0.76657 | Valid Loss: 0.75643 | Time: 0.75 seconds\n",
      "Epoch: 8 | Train Loss: 0.76770 | Valid Loss: 0.77352 | Time: 0.75 seconds\n",
      "Epoch: 9 | Train Loss: 0.76498 | Valid Loss: 0.79513 | Time: 0.75 seconds\n",
      "Epoch: 10 | Train Loss: 0.76065 | Valid Loss: 0.76032 | Time: 0.74 seconds\n",
      "Epoch: 11 | Train Loss: 0.75968 | Valid Loss: 0.77361 | Time: 0.74 seconds\n",
      "\n",
      "Early Stopping at Epoch 11\n",
      "\n",
      "**************************************************\n",
      "\n",
      "Best Validation Loss at Epoch 3\n",
      "\n",
      "**************************************************\n",
      "\n",
      "Time Taken [12 Epochs] : 0.16 minutes\n",
      "\n",
      "**************************************************\n",
      "\n",
      "Training Completed\n",
      "\n",
      "**************************************************\n",
      "\n",
      "Validation RMSE [Fold 9]: 17.83585\n",
      "\n",
      "**************************************************\n",
      "\n"
     ]
    },
    {
     "data": {
      "image/png": "[encoded data removed]",
      "text/plain": [
       "<Figure size 432x288 with 1 Axes>"
      ]
     },
     "metadata": {
      "needs_background": "light"
     },
     "output_type": "display_data"
    },
    {
     "name": "stdout",
     "output_type": "stream",
     "text": [
      "\n",
      "**************************************************\n",
      "\n",
      "Building Train and Validation DataLoaders ...\n",
      "\n",
      "**************************************************\n",
      "\n",
      "Building Model ...\n",
      "\n",
      "1676 -> 1\n",
      "\n",
      "**************************************************\n",
      "\n",
      "Training Fold 10...\n",
      "\n",
      "**************************************************\n",
      "\n",
      "Epoch: 1 | Train Loss: 0.86652 | Valid Loss: 0.80603 | Time: 0.78 seconds\n",
      "Epoch: 2 | Train Loss: 0.80088 | Valid Loss: 0.80877 | Time: 0.74 seconds\n",
      "Epoch: 3 | Train Loss: 0.78705 | Valid Loss: 0.81840 | Time: 0.76 seconds\n",
      "Epoch: 4 | Train Loss: 0.77645 | Valid Loss: 0.82411 | Time: 0.75 seconds\n",
      "Epoch: 5 | Train Loss: 0.77299 | Valid Loss: 0.82707 | Time: 0.78 seconds\n",
      "Epoch: 6 | Train Loss: 0.76335 | Valid Loss: 0.82222 | Time: 0.75 seconds\n",
      "Epoch: 7 | Train Loss: 0.76207 | Valid Loss: 0.81404 | Time: 0.74 seconds\n",
      "Epoch: 8 | Train Loss: 0.76178 | Valid Loss: 0.82330 | Time: 0.91 seconds\n",
      "Epoch: 9 | Train Loss: 0.75502 | Valid Loss: 0.83158 | Time: 0.77 seconds\n",
      "\n",
      "Early Stopping at Epoch 9\n",
      "\n",
      "**************************************************\n",
      "\n",
      "Best Validation Loss at Epoch 1\n",
      "\n",
      "**************************************************\n",
      "\n",
      "Time Taken [10 Epochs] : 0.13 minutes\n",
      "\n",
      "**************************************************\n",
      "\n",
      "Training Completed\n",
      "\n",
      "**************************************************\n",
      "\n",
      "Validation RMSE [Fold 10]: 18.51920\n",
      "\n",
      "**************************************************\n",
      "\n"
     ]
    },
    {
     "data": {
      "image/png": "[encoded data removed]",
      "text/plain": [
       "<Figure size 432x288 with 1 Axes>"
      ]
     },
     "metadata": {
      "needs_background": "light"
     },
     "output_type": "display_data"
    },
    {
     "name": "stdout",
     "output_type": "stream",
     "text": [
      "\n",
      "**************************************************\n",
      "\n",
      "Total Time to 10 Fold CV : 1.81 minutes\n",
      "\n",
      "**************************************************\n",
      "\n",
      "{'Fold': 1, 'RMSE': 17.974186124819028}\n",
      "{'Fold': 2, 'RMSE': 19.18652026337317}\n",
      "{'Fold': 3, 'RMSE': 17.225570687794686}\n",
      "{'Fold': 4, 'RMSE': 18.245223493824614}\n",
      "{'Fold': 5, 'RMSE': 19.00355821277801}\n",
      "{'Fold': 6, 'RMSE': 18.640010493520407}\n",
      "{'Fold': 7, 'RMSE': 19.3356389608441}\n",
      "{'Fold': 8, 'RMSE': 18.85120496768312}\n",
      "{'Fold': 9, 'RMSE': 17.835846618964375}\n",
      "{'Fold': 10, 'RMSE': 18.51920404423652}\n",
      "\n",
      "**************************************************\n",
      "\n"
     ]
    }
   ],
   "source": [
    "def main():\n",
    "    DEBUG = False\n",
    "    \n",
    "    ########### Params ###########\n",
    "    \n",
    "    if DEBUG:\n",
    "        n_splits = 3\n",
    "        batch_size = 512\n",
    "        lr, wd = 1e-3, 0\n",
    "        patience, eps = 5, 1e-8\n",
    "        epochs, early_stopping = 5, 5\n",
    "    else:\n",
    "        n_splits = 10\n",
    "        batch_size = 32\n",
    "        lr, wd = 1e-2, 0\n",
    "        patience, eps = 5, 1e-8\n",
    "        epochs, early_stopping = 100, 8\n",
    "    \n",
    "    ##############################\n",
    "\n",
    "    breaker()\n",
    "    print(\"Loading Data ...\")\n",
    "    \n",
    "    features = np.load(os.path.join(FEATURES_PATH, \"{}_features.npy\".format(MODEL_NAME)))\n",
    "    metadata, targets = get_metadata_and_targets(PATH)\n",
    "    features = np.concatenate((features, metadata), axis=1)\n",
    "    # features = normalize(features)\n",
    "\n",
    "    # Without Scheduler\n",
    "    metrics = train(features, targets, n_splits, batch_size, lr, wd, epochs, early_stopping, patience=None, eps=None)\n",
    "    \n",
    "    # # With Plateau Scheduler\n",
    "    # metrics = train(features, targets, n_splits, batch_size, lr, wd, epochs, early_stopping, patience=patience, eps=eps)    \n",
    "    \n",
    "    for i in range(len(metrics)):\n",
    "        print(metrics[i])\n",
    "\n",
    "    with open(\"metrics.pkl\", \"wb\") as fp:\n",
    "        pickle.dump(metrics, fp)\n",
    "    \n",
    "    breaker()\n",
    "\n",
    "main()"
   ]
  },
  {
   "cell_type": "code",
   "execution_count": 11,
   "id": "99096da0",
   "metadata": {
    "execution": {
     "iopub.execute_input": "2021-10-07T00:58:19.936373Z",
     "iopub.status.busy": "2021-10-07T00:58:19.935050Z",
     "iopub.status.idle": "2021-10-07T00:58:19.939367Z",
     "shell.execute_reply": "2021-10-07T00:58:19.938680Z",
     "shell.execute_reply.started": "2021-10-07T00:52:03.224972Z"
    },
    "papermill": {
     "duration": 0.06388,
     "end_time": "2021-10-07T00:58:19.939525",
     "exception": false,
     "start_time": "2021-10-07T00:58:19.875645",
     "status": "completed"
    },
    "tags": []
   },
   "outputs": [
    {
     "name": "stdout",
     "output_type": "stream",
     "text": [
      "\n",
      "**************************************************\n",
      "\n",
      "Notebook Run Time : 1.95 minutes\n",
      "\n",
      "**************************************************\n",
      "\n"
     ]
    }
   ],
   "source": [
    "breaker()\n",
    "print(\"Notebook Run Time : {:.2f} minutes\".format((time()-notebook_start_time)/60))\n",
    "breaker()"
   ]
  }
 ],
 "metadata": {
  "kernelspec": {
   "display_name": "Python 3",
   "language": "python",
   "name": "python3"
  },
  "language_info": {
   "codemirror_mode": {
    "name": "ipython",
    "version": 3
   },
   "file_extension": ".py",
   "mimetype": "text/x-python",
   "name": "python",
   "nbconvert_exporter": "python",
   "pygments_lexer": "ipython3",
   "version": "3.7.10"
  },
  "papermill": {
   "default_parameters": {},
   "duration": 124.692444,
   "end_time": "2021-10-07T00:58:21.172639",
   "environment_variables": {},
   "exception": null,
   "input_path": "__notebook__.ipynb",
   "output_path": "__notebook__.ipynb",
   "parameters": {},
   "start_time": "2021-10-07T00:56:16.480195",
   "version": "2.3.3"
  }
 },
 "nbformat": 4,
 "nbformat_minor": 5
}
