{
 "cells": [
  {
   "cell_type": "markdown",
   "id": "fe6aaecb",
   "metadata": {
    "_cell_guid": "b1076dfc-b9ad-4769-8c92-a6c4dae69d19",
    "_uuid": "8f2839f25d086af736a60e9eeb907d3b93b6e0e5",
    "papermill": {
     "duration": 0.019,
     "end_time": "2021-10-08T18:01:43.543804",
     "exception": false,
     "start_time": "2021-10-08T18:01:43.524804",
     "status": "completed"
    },
    "tags": []
   },
   "source": [
    "## Library Imports"
   ]
  },
  {
   "cell_type": "code",
   "execution_count": 1,
   "id": "96fef7ec",
   "metadata": {
    "execution": {
     "iopub.execute_input": "2021-10-08T18:01:43.586667Z",
     "iopub.status.busy": "2021-10-08T18:01:43.585183Z",
     "iopub.status.idle": "2021-10-08T18:01:43.684287Z",
     "shell.execute_reply": "2021-10-08T18:01:43.685379Z",
     "shell.execute_reply.started": "2021-10-08T17:54:40.020235Z"
    },
    "papermill": {
     "duration": 0.121678,
     "end_time": "2021-10-08T18:01:43.685717",
     "exception": false,
     "start_time": "2021-10-08T18:01:43.564039",
     "status": "completed"
    },
    "tags": []
   },
   "outputs": [],
   "source": [
    "from time import time\n",
    "notebook_start_time = time()"
   ]
  },
  {
   "cell_type": "code",
   "execution_count": 2,
   "id": "e3a9cf12",
   "metadata": {
    "execution": {
     "iopub.execute_input": "2021-10-08T18:01:43.728337Z",
     "iopub.status.busy": "2021-10-08T18:01:43.727571Z",
     "iopub.status.idle": "2021-10-08T18:01:49.853246Z",
     "shell.execute_reply": "2021-10-08T18:01:49.852373Z",
     "shell.execute_reply.started": "2021-10-08T17:54:40.354849Z"
    },
    "papermill": {
     "duration": 6.1496,
     "end_time": "2021-10-08T18:01:49.853388",
     "exception": false,
     "start_time": "2021-10-08T18:01:43.703788",
     "status": "completed"
    },
    "tags": []
   },
   "outputs": [],
   "source": [
    "import os\n",
    "import re\n",
    "import random as r\n",
    "import numpy as np\n",
    "import pandas as pd\n",
    "import matplotlib.pyplot as plt\n",
    "\n",
    "import torch\n",
    "from torch import nn, optim\n",
    "from torch.utils.data import Dataset\n",
    "from torch.utils.data import DataLoader as DL\n",
    "from torch.nn.utils import weight_norm as WN\n",
    "from torchvision import models, transforms\n",
    "\n",
    "import imgaug\n",
    "import random as r\n",
    "from imgaug import augmenters\n",
    "\n",
    "import warnings\n",
    "warnings.filterwarnings(\"ignore\")"
   ]
  },
  {
   "cell_type": "markdown",
   "id": "e6a4092b",
   "metadata": {
    "papermill": {
     "duration": 0.01067,
     "end_time": "2021-10-08T18:01:49.875458",
     "exception": false,
     "start_time": "2021-10-08T18:01:49.864788",
     "status": "completed"
    },
    "tags": []
   },
   "source": [
    "## Constants and Utilities"
   ]
  },
  {
   "cell_type": "code",
   "execution_count": 3,
   "id": "a1a36665",
   "metadata": {
    "execution": {
     "iopub.execute_input": "2021-10-08T18:01:49.906598Z",
     "iopub.status.busy": "2021-10-08T18:01:49.904985Z",
     "iopub.status.idle": "2021-10-08T18:01:49.907255Z",
     "shell.execute_reply": "2021-10-08T18:01:49.907660Z",
     "shell.execute_reply.started": "2021-10-08T17:54:41.474724Z"
    },
    "papermill": {
     "duration": 0.021543,
     "end_time": "2021-10-08T18:01:49.907781",
     "exception": false,
     "start_time": "2021-10-08T18:01:49.886238",
     "status": "completed"
    },
    "tags": []
   },
   "outputs": [],
   "source": [
    "def breaker(num=50, char=\"*\") -> None:\n",
    "    print(\"\\n\" + num*char + \"\\n\")\n",
    "\n",
    "\n",
    "def head(x, no_of_ele=5) -> None:\n",
    "    print(x[:no_of_ele])\n",
    "\n",
    "    \n",
    "def get_augment(seed: int):\n",
    "    imgaug.seed(seed)\n",
    "    augment = augmenters.SomeOf(None, [\n",
    "        augmenters.HorizontalFlip(p=0.5),\n",
    "        augmenters.VerticalFlip(p=0.5),\n",
    "        augmenters.Affine(scale=(0.75, 1.25), translate_percent=(-0.1, 0.1), rotate=(-45, 45), seed=seed),\n",
    "    ], seed=seed)\n",
    "\n",
    "    return augment\n",
    "\n",
    "    \n",
    "def show(image: np.ndarray) -> None:\n",
    "    plt.figure(figsize=(9, 6))\n",
    "    plt.imshow(image)\n",
    "    plt.axis(\"off\")\n",
    "    plt.show()"
   ]
  },
  {
   "cell_type": "code",
   "execution_count": 4,
   "id": "c18f82df",
   "metadata": {
    "execution": {
     "iopub.execute_input": "2021-10-08T18:01:49.979243Z",
     "iopub.status.busy": "2021-10-08T18:01:49.978673Z",
     "iopub.status.idle": "2021-10-08T18:01:49.982342Z",
     "shell.execute_reply": "2021-10-08T18:01:49.981921Z",
     "shell.execute_reply.started": "2021-10-08T17:54:42.039681Z"
    },
    "papermill": {
     "duration": 0.064016,
     "end_time": "2021-10-08T18:01:49.982452",
     "exception": false,
     "start_time": "2021-10-08T18:01:49.918436",
     "status": "completed"
    },
    "tags": []
   },
   "outputs": [],
   "source": [
    "TRANSFORM_PRE = transforms.Compose([transforms.ToTensor(), \n",
    "                                    transforms.Normalize([0.485, 0.456, 0.406],\n",
    "                                                         [0.229, 0.224, 0.225]),\n",
    "                                   ])\n",
    "DEVICE = torch.device(\"cuda\" if torch.cuda.is_available() else \"cpu\")\n",
    "SEED = 0"
   ]
  },
  {
   "cell_type": "markdown",
   "id": "6dea080c",
   "metadata": {
    "papermill": {
     "duration": 0.010605,
     "end_time": "2021-10-08T18:01:50.004009",
     "exception": false,
     "start_time": "2021-10-08T18:01:49.993404",
     "status": "completed"
    },
    "tags": []
   },
   "source": [
    "## Dataset Template"
   ]
  },
  {
   "cell_type": "code",
   "execution_count": 5,
   "id": "75c0d180",
   "metadata": {
    "execution": {
     "iopub.execute_input": "2021-10-08T18:01:50.034201Z",
     "iopub.status.busy": "2021-10-08T18:01:50.032496Z",
     "iopub.status.idle": "2021-10-08T18:01:50.034877Z",
     "shell.execute_reply": "2021-10-08T18:01:50.035295Z",
     "shell.execute_reply.started": "2021-10-08T17:54:43.274971Z"
    },
    "papermill": {
     "duration": 0.02054,
     "end_time": "2021-10-08T18:01:50.035413",
     "exception": false,
     "start_time": "2021-10-08T18:01:50.014873",
     "status": "completed"
    },
    "tags": []
   },
   "outputs": [],
   "source": [
    "class DS(Dataset):\n",
    "    def __init__(self, images=None, transform=None):\n",
    "        self.images    = images\n",
    "        self.transform = transform\n",
    "        \n",
    "    def __len__(self):\n",
    "        return self.images.shape[0]\n",
    "    \n",
    "    def __getitem__(self, idx):\n",
    "        return self.transform(self.images[idx])"
   ]
  },
  {
   "cell_type": "markdown",
   "id": "4fc2c397",
   "metadata": {
    "papermill": {
     "duration": 0.010917,
     "end_time": "2021-10-08T18:01:50.057748",
     "exception": false,
     "start_time": "2021-10-08T18:01:50.046831",
     "status": "completed"
    },
    "tags": []
   },
   "source": [
    "## Build DataLoader"
   ]
  },
  {
   "cell_type": "code",
   "execution_count": 6,
   "id": "4850d9fe",
   "metadata": {
    "execution": {
     "iopub.execute_input": "2021-10-08T18:01:50.084953Z",
     "iopub.status.busy": "2021-10-08T18:01:50.083481Z",
     "iopub.status.idle": "2021-10-08T18:01:50.085752Z",
     "shell.execute_reply": "2021-10-08T18:01:50.086148Z",
     "shell.execute_reply.started": "2021-10-08T17:54:44.184854Z"
    },
    "papermill": {
     "duration": 0.017431,
     "end_time": "2021-10-08T18:01:50.086280",
     "exception": false,
     "start_time": "2021-10-08T18:01:50.068849",
     "status": "completed"
    },
    "tags": []
   },
   "outputs": [],
   "source": [
    "def build_dataloader(images: np.ndarray, transform=None):    \n",
    "    data_setup = DS(images=images, transform=transform)\n",
    "    data = DL(data_setup, batch_size=64, shuffle=False)\n",
    "    \n",
    "    return data"
   ]
  },
  {
   "cell_type": "markdown",
   "id": "055caaeb",
   "metadata": {
    "papermill": {
     "duration": 0.010617,
     "end_time": "2021-10-08T18:01:50.107566",
     "exception": false,
     "start_time": "2021-10-08T18:01:50.096949",
     "status": "completed"
    },
    "tags": []
   },
   "source": [
    "## Build Model"
   ]
  },
  {
   "cell_type": "code",
   "execution_count": 7,
   "id": "1a2881e0",
   "metadata": {
    "execution": {
     "iopub.execute_input": "2021-10-08T18:01:50.141757Z",
     "iopub.status.busy": "2021-10-08T18:01:50.141078Z",
     "iopub.status.idle": "2021-10-08T18:01:50.143887Z",
     "shell.execute_reply": "2021-10-08T18:01:50.144292Z",
     "shell.execute_reply.started": "2021-10-08T17:54:45.004187Z"
    },
    "papermill": {
     "duration": 0.025685,
     "end_time": "2021-10-08T18:01:50.144411",
     "exception": false,
     "start_time": "2021-10-08T18:01:50.118726",
     "status": "completed"
    },
    "tags": []
   },
   "outputs": [],
   "source": [
    "def build_model(model_name: str, pretrained=True):\n",
    "    class ImageModel(nn.Module):\n",
    "        def __init__(self, model_name=None, pretrained=False):\n",
    "            super(ImageModel, self).__init__()\n",
    "\n",
    "            if re.match(r\"^resnet$\", model_name, re.IGNORECASE):\n",
    "                self.features = models.resnet50(pretrained=pretrained, progress=True)\n",
    "                if pretrained:\n",
    "                    self.freeze()\n",
    "                self.features = nn.Sequential(*[*self.features.children()][:-1])\n",
    "                self.features.add_module(\"Flatten\", nn.Flatten())\n",
    "\n",
    "            if re.match(r\"^vgg$\", model_name, re.IGNORECASE):\n",
    "                self.features = models.vgg16_bn(pretrained=pretrained, progress=True)\n",
    "                if pretrained:\n",
    "                    self.freeze()\n",
    "                self.features = nn.Sequential(*[*self.features.children()][:-2])\n",
    "                self.features.add_module(\"Adaptive Average Pool\", nn.AdaptiveAvgPool2d(output_size=(2, 2)))\n",
    "                self.features.add_module(\"Flatten\", nn.Flatten())\n",
    "\n",
    "            if re.match(r\"^densenet$\", model_name, re.IGNORECASE):\n",
    "                self.features = models.densenet169(pretrained=pretrained, progress=True)\n",
    "                if pretrained:\n",
    "                    self.freeze()\n",
    "                self.features = nn.Sequential(*[*self.features.children()][:-1])\n",
    "                self.features.add_module(\"Adaptive Average Pool\", nn.AdaptiveAvgPool2d(output_size=(1, 1)))\n",
    "                self.features.add_module(\"Flatten\", nn.Flatten())\n",
    "        \n",
    "        def freeze(self):\n",
    "            for params in self.parameters():\n",
    "                params.requires_grad = False\n",
    "\n",
    "        def forward(self, x):\n",
    "            return self.features(x)\n",
    "\n",
    "    \n",
    "    # breaker()\n",
    "    # print(\"Building Model ...\")\n",
    "    \n",
    "    model = ImageModel(model_name=model_name, pretrained=pretrained)\n",
    "    \n",
    "    return model"
   ]
  },
  {
   "cell_type": "markdown",
   "id": "f6dd5d9a",
   "metadata": {
    "papermill": {
     "duration": 0.010553,
     "end_time": "2021-10-08T18:01:50.165728",
     "exception": false,
     "start_time": "2021-10-08T18:01:50.155175",
     "status": "completed"
    },
    "tags": []
   },
   "source": [
    "## Acquire Features Helper"
   ]
  },
  {
   "cell_type": "code",
   "execution_count": 8,
   "id": "7561031d",
   "metadata": {
    "execution": {
     "iopub.execute_input": "2021-10-08T18:01:50.193977Z",
     "iopub.status.busy": "2021-10-08T18:01:50.192481Z",
     "iopub.status.idle": "2021-10-08T18:01:50.194671Z",
     "shell.execute_reply": "2021-10-08T18:01:50.195077Z",
     "shell.execute_reply.started": "2021-10-08T17:54:47.255205Z"
    },
    "papermill": {
     "duration": 0.018645,
     "end_time": "2021-10-08T18:01:50.195215",
     "exception": false,
     "start_time": "2021-10-08T18:01:50.176570",
     "status": "completed"
    },
    "tags": []
   },
   "outputs": [],
   "source": [
    "def get_features(model=None, dataloader=None, num_features=None):\n",
    "    model.to(DEVICE)\n",
    "    model.eval()\n",
    "\n",
    "    y_pred = torch.zeros(1, num_features).to(DEVICE)\n",
    "    for X in dataloader:\n",
    "        X = X.to(DEVICE)\n",
    "        with torch.no_grad():\n",
    "            output = model(X)\n",
    "        y_pred = torch.cat((y_pred, output.view(-1, num_features)), dim=0)\n",
    "    \n",
    "    return y_pred[1:].detach().cpu().numpy()"
   ]
  },
  {
   "cell_type": "markdown",
   "id": "4c92237e",
   "metadata": {
    "papermill": {
     "duration": 0.010807,
     "end_time": "2021-10-08T18:01:50.217030",
     "exception": false,
     "start_time": "2021-10-08T18:01:50.206223",
     "status": "completed"
    },
    "tags": []
   },
   "source": [
    "## Obtain and Save Features"
   ]
  },
  {
   "cell_type": "code",
   "execution_count": 9,
   "id": "b5629c22",
   "metadata": {
    "execution": {
     "iopub.execute_input": "2021-10-08T18:01:50.247970Z",
     "iopub.status.busy": "2021-10-08T18:01:50.246432Z",
     "iopub.status.idle": "2021-10-08T18:01:50.248606Z",
     "shell.execute_reply": "2021-10-08T18:01:50.248993Z",
     "shell.execute_reply.started": "2021-10-08T17:58:14.779675Z"
    },
    "papermill": {
     "duration": 0.021082,
     "end_time": "2021-10-08T18:01:50.249104",
     "exception": false,
     "start_time": "2021-10-08T18:01:50.228022",
     "status": "completed"
    },
    "tags": []
   },
   "outputs": [],
   "source": [
    "def save_features():\n",
    "    start_time = time()\n",
    "    images = np.load(\"../input/pet-finder-images/Images.npy\")\n",
    "    breaker()\n",
    "    print(\"Time Taken to Read Data : {:.2f} minutes\".format((time()-start_time)/60))\n",
    "    \n",
    "    # breaker()\n",
    "    # print(\"Building DataLoaders ...\")\n",
    "    r.seed(SEED)\n",
    "    seeds = [r.randint(0, 99) for _ in range(10)]\n",
    "    model_names  = [\"densenet\", \"resnet\", \"vgg\"]\n",
    "    num_features = [1664, 2048, 2048]\n",
    "    \n",
    "    breaker()\n",
    "    for seed in seeds:\n",
    "        augment = get_augment(seed)\n",
    "        images = augment(images=images)\n",
    "        dataloader = build_dataloader(images=images, transform=TRANSFORM_PRE)\n",
    "\n",
    "        for i in range(len(model_names)):\n",
    "            print(\"Model: {}, Seed: {}\".format(model_names[i], seed))\n",
    "\n",
    "            model = build_model(model_name=model_names[i], pretrained=True)\n",
    "\n",
    "            # breaker()\n",
    "            # print(\"Obtaining Features ...\")\n",
    "\n",
    "            features = get_features(model, dataloader, num_features=num_features[i])\n",
    "\n",
    "            # breaker()\n",
    "            # print(\"Saving Features as a .npy File ...\")\n",
    "            np.save(\"./{}_features_seed_{}.npy\".format(model_names[i], seed), features)\n",
    "    breaker()"
   ]
  },
  {
   "cell_type": "code",
   "execution_count": 10,
   "id": "1463a66a",
   "metadata": {
    "execution": {
     "iopub.execute_input": "2021-10-08T18:01:50.275153Z",
     "iopub.status.busy": "2021-10-08T18:01:50.274677Z",
     "iopub.status.idle": "2021-10-08T18:15:38.655652Z",
     "shell.execute_reply": "2021-10-08T18:15:38.656085Z",
     "shell.execute_reply.started": "2021-10-08T17:58:18.478474Z"
    },
    "papermill": {
     "duration": 828.395453,
     "end_time": "2021-10-08T18:15:38.656268",
     "exception": false,
     "start_time": "2021-10-08T18:01:50.260815",
     "status": "completed"
    },
    "tags": []
   },
   "outputs": [
    {
     "name": "stdout",
     "output_type": "stream",
     "text": [
      "\n",
      "**************************************************\n",
      "\n",
      "Time Taken to Read Data : 0.24 minutes\n",
      "\n",
      "**************************************************\n",
      "\n",
      "Model: densenet, Seed: 49\n"
     ]
    },
    {
     "name": "stderr",
     "output_type": "stream",
     "text": [
      "Downloading: \"https://download.pytorch.org/models/densenet169-b2777c0a.pth\" to /root/.cache/torch/hub/checkpoints/densenet169-b2777c0a.pth\n"
     ]
    },
    {
     "data": {
      "application/vnd.jupyter.widget-view+json": {
       "model_id": "ac7a07bd21a7486d9ce5906cbe4ef19a",
       "version_major": 2,
       "version_minor": 0
      },
      "text/plain": [
       "  0%|          | 0.00/54.7M [00:00<?, ?B/s]"
      ]
     },
     "metadata": {},
     "output_type": "display_data"
    },
    {
     "name": "stdout",
     "output_type": "stream",
     "text": [
      "Model: resnet, Seed: 49\n"
     ]
    },
    {
     "name": "stderr",
     "output_type": "stream",
     "text": [
      "Downloading: \"https://download.pytorch.org/models/resnet50-19c8e357.pth\" to /root/.cache/torch/hub/checkpoints/resnet50-19c8e357.pth\n"
     ]
    },
    {
     "data": {
      "application/vnd.jupyter.widget-view+json": {
       "model_id": "0ffbeda79a804f888cc47dd2648bc30b",
       "version_major": 2,
       "version_minor": 0
      },
      "text/plain": [
       "  0%|          | 0.00/97.8M [00:00<?, ?B/s]"
      ]
     },
     "metadata": {},
     "output_type": "display_data"
    },
    {
     "name": "stdout",
     "output_type": "stream",
     "text": [
      "Model: vgg, Seed: 49\n"
     ]
    },
    {
     "name": "stderr",
     "output_type": "stream",
     "text": [
      "Downloading: \"https://download.pytorch.org/models/vgg16_bn-6c64b313.pth\" to /root/.cache/torch/hub/checkpoints/vgg16_bn-6c64b313.pth\n"
     ]
    },
    {
     "data": {
      "application/vnd.jupyter.widget-view+json": {
       "model_id": "3cc2a49a08f142a5a228d8aac67db3b5",
       "version_major": 2,
       "version_minor": 0
      },
      "text/plain": [
       "  0%|          | 0.00/528M [00:00<?, ?B/s]"
      ]
     },
     "metadata": {},
     "output_type": "display_data"
    },
    {
     "name": "stdout",
     "output_type": "stream",
     "text": [
      "Model: densenet, Seed: 97\n",
      "Model: resnet, Seed: 97\n",
      "Model: vgg, Seed: 97\n",
      "Model: densenet, Seed: 53\n",
      "Model: resnet, Seed: 53\n",
      "Model: vgg, Seed: 53\n",
      "Model: densenet, Seed: 5\n",
      "Model: resnet, Seed: 5\n",
      "Model: vgg, Seed: 5\n",
      "Model: densenet, Seed: 33\n",
      "Model: resnet, Seed: 33\n",
      "Model: vgg, Seed: 33\n",
      "Model: densenet, Seed: 65\n",
      "Model: resnet, Seed: 65\n",
      "Model: vgg, Seed: 65\n",
      "Model: densenet, Seed: 62\n",
      "Model: resnet, Seed: 62\n",
      "Model: vgg, Seed: 62\n",
      "Model: densenet, Seed: 51\n",
      "Model: resnet, Seed: 51\n",
      "Model: vgg, Seed: 51\n",
      "Model: densenet, Seed: 38\n",
      "Model: resnet, Seed: 38\n",
      "Model: vgg, Seed: 38\n",
      "Model: densenet, Seed: 61\n",
      "Model: resnet, Seed: 61\n",
      "Model: vgg, Seed: 61\n",
      "\n",
      "**************************************************\n",
      "\n"
     ]
    }
   ],
   "source": [
    "save_features()"
   ]
  },
  {
   "cell_type": "code",
   "execution_count": 11,
   "id": "69257e7d",
   "metadata": {
    "execution": {
     "iopub.execute_input": "2021-10-08T18:15:38.702804Z",
     "iopub.status.busy": "2021-10-08T18:15:38.701889Z",
     "iopub.status.idle": "2021-10-08T18:15:38.706205Z",
     "shell.execute_reply": "2021-10-08T18:15:38.705803Z"
    },
    "papermill": {
     "duration": 0.028937,
     "end_time": "2021-10-08T18:15:38.706312",
     "exception": false,
     "start_time": "2021-10-08T18:15:38.677375",
     "status": "completed"
    },
    "tags": []
   },
   "outputs": [
    {
     "name": "stdout",
     "output_type": "stream",
     "text": [
      "\n",
      "**************************************************\n",
      "\n",
      "Notebook Run Time : 13.92 minutes\n",
      "\n",
      "**************************************************\n",
      "\n"
     ]
    }
   ],
   "source": [
    "breaker()\n",
    "print(\"Notebook Run Time : {:.2f} minutes\".format((time()-notebook_start_time)/60))\n",
    "breaker()"
   ]
  }
 ],
 "metadata": {
  "kernelspec": {
   "display_name": "Python 3",
   "language": "python",
   "name": "python3"
  },
  "language_info": {
   "codemirror_mode": {
    "name": "ipython",
    "version": 3
   },
   "file_extension": ".py",
   "mimetype": "text/x-python",
   "name": "python",
   "nbconvert_exporter": "python",
   "pygments_lexer": "ipython3",
   "version": "3.7.10"
  },
  "papermill": {
   "default_parameters": {},
   "duration": 842.828853,
   "end_time": "2021-10-08T18:15:39.843031",
   "environment_variables": {},
   "exception": null,
   "input_path": "__notebook__.ipynb",
   "output_path": "__notebook__.ipynb",
   "parameters": {},
   "start_time": "2021-10-08T18:01:37.014178",
   "version": "2.3.3"
  },
  "widgets": {
   "application/vnd.jupyter.widget-state+json": {
    "state": {
     "0ffbeda79a804f888cc47dd2648bc30b": {
      "model_module": "@jupyter-widgets/controls",
      "model_module_version": "1.5.0",
      "model_name": "HBoxModel",
      "state": {
       "_dom_classes": [],
       "_model_module": "@jupyter-widgets/controls",
       "_model_module_version": "1.5.0",
       "_model_name": "HBoxModel",
       "_view_count": null,
       "_view_module": "@jupyter-widgets/controls",
       "_view_module_version": "1.5.0",
       "_view_name": "HBoxView",
       "box_style": "",
       "children": [
        "IPY_MODEL_afc8f53e63274cffbe2691d8df173c23",
        "IPY_MODEL_61aaa8bc16e947d994d2b21988239e9f",
        "IPY_MODEL_9a9c5d7b64034e229b0700b7c58d88fd"
       ],
       "layout": "IPY_MODEL_c3c5f0836a8941de85e88a7869743fed"
      }
     },
     "1de95b2faebc4c84a5c0bc3a6e712d57": {
      "model_module": "@jupyter-widgets/controls",
      "model_module_version": "1.5.0",
      "model_name": "ProgressStyleModel",
      "state": {
       "_model_module": "@jupyter-widgets/controls",
       "_model_module_version": "1.5.0",
       "_model_name": "ProgressStyleModel",
       "_view_count": null,
       "_view_module": "@jupyter-widgets/base",
       "_view_module_version": "1.2.0",
       "_view_name": "StyleView",
       "bar_color": null,
       "description_width": ""
      }
     },
     "2cd429bac2bd424c88e6e052a486a318": {
      "model_module": "@jupyter-widgets/base",
      "model_module_version": "1.2.0",
      "model_name": "LayoutModel",
      "state": {
       "_model_module": "@jupyter-widgets/base",
       "_model_module_version": "1.2.0",
       "_model_name": "LayoutModel",
       "_view_count": null,
       "_view_module": "@jupyter-widgets/base",
       "_view_module_version": "1.2.0",
       "_view_name": "LayoutView",
       "align_content": null,
       "align_items": null,
       "align_self": null,
       "border": null,
       "bottom": null,
       "display": null,
       "flex": null,
       "flex_flow": null,
       "grid_area": null,
       "grid_auto_columns": null,
       "grid_auto_flow": null,
       "grid_auto_rows": null,
       "grid_column": null,
       "grid_gap": null,
       "grid_row": null,
       "grid_template_areas": null,
       "grid_template_columns": null,
       "grid_template_rows": null,
       "height": null,
       "justify_content": null,
       "justify_items": null,
       "left": null,
       "margin": null,
       "max_height": null,
       "max_width": null,
       "min_height": null,
       "min_width": null,
       "object_fit": null,
       "object_position": null,
       "order": null,
       "overflow": null,
       "overflow_x": null,
       "overflow_y": null,
       "padding": null,
       "right": null,
       "top": null,
       "visibility": null,
       "width": null
      }
     },
     "2e669763a5e94eeca03dd66d67a981bd": {
      "model_module": "@jupyter-widgets/controls",
      "model_module_version": "1.5.0",
      "model_name": "FloatProgressModel",
      "state": {
       "_dom_classes": [],
       "_model_module": "@jupyter-widgets/controls",
       "_model_module_version": "1.5.0",
       "_model_name": "FloatProgressModel",
       "_view_count": null,
       "_view_module": "@jupyter-widgets/controls",
       "_view_module_version": "1.5.0",
       "_view_name": "ProgressView",
       "bar_style": "success",
       "description": "",
       "description_tooltip": null,
       "layout": "IPY_MODEL_2cd429bac2bd424c88e6e052a486a318",
       "max": 57365526.0,
       "min": 0.0,
       "orientation": "horizontal",
       "style": "IPY_MODEL_1de95b2faebc4c84a5c0bc3a6e712d57",
       "value": 57365526.0
      }
     },
     "315c723dca0a4d20abd3b218b6513f4d": {
      "model_module": "@jupyter-widgets/base",
      "model_module_version": "1.2.0",
      "model_name": "LayoutModel",
      "state": {
       "_model_module": "@jupyter-widgets/base",
       "_model_module_version": "1.2.0",
       "_model_name": "LayoutModel",
       "_view_count": null,
       "_view_module": "@jupyter-widgets/base",
       "_view_module_version": "1.2.0",
       "_view_name": "LayoutView",
       "align_content": null,
       "align_items": null,
       "align_self": null,
       "border": null,
       "bottom": null,
       "display": null,
       "flex": null,
       "flex_flow": null,
       "grid_area": null,
       "grid_auto_columns": null,
       "grid_auto_flow": null,
       "grid_auto_rows": null,
       "grid_column": null,
       "grid_gap": null,
       "grid_row": null,
       "grid_template_areas": null,
       "grid_template_columns": null,
       "grid_template_rows": null,
       "height": null,
       "justify_content": null,
       "justify_items": null,
       "left": null,
       "margin": null,
       "max_height": null,
       "max_width": null,
       "min_height": null,
       "min_width": null,
       "object_fit": null,
       "object_position": null,
       "order": null,
       "overflow": null,
       "overflow_x": null,
       "overflow_y": null,
       "padding": null,
       "right": null,
       "top": null,
       "visibility": null,
       "width": null
      }
     },
     "31efed4d4baa4f7ebfa0623aa47eb4ac": {
      "model_module": "@jupyter-widgets/base",
      "model_module_version": "1.2.0",
      "model_name": "LayoutModel",
      "state": {
       "_model_module": "@jupyter-widgets/base",
       "_model_module_version": "1.2.0",
       "_model_name": "LayoutModel",
       "_view_count": null,
       "_view_module": "@jupyter-widgets/base",
       "_view_module_version": "1.2.0",
       "_view_name": "LayoutView",
       "align_content": null,
       "align_items": null,
       "align_self": null,
       "border": null,
       "bottom": null,
       "display": null,
       "flex": null,
       "flex_flow": null,
       "grid_area": null,
       "grid_auto_columns": null,
       "grid_auto_flow": null,
       "grid_auto_rows": null,
       "grid_column": null,
       "grid_gap": null,
       "grid_row": null,
       "grid_template_areas": null,
       "grid_template_columns": null,
       "grid_template_rows": null,
       "height": null,
       "justify_content": null,
       "justify_items": null,
       "left": null,
       "margin": null,
       "max_height": null,
       "max_width": null,
       "min_height": null,
       "min_width": null,
       "object_fit": null,
       "object_position": null,
       "order": null,
       "overflow": null,
       "overflow_x": null,
       "overflow_y": null,
       "padding": null,
       "right": null,
       "top": null,
       "visibility": null,
       "width": null
      }
     },
     "3cc2a49a08f142a5a228d8aac67db3b5": {
      "model_module": "@jupyter-widgets/controls",
      "model_module_version": "1.5.0",
      "model_name": "HBoxModel",
      "state": {
       "_dom_classes": [],
       "_model_module": "@jupyter-widgets/controls",
       "_model_module_version": "1.5.0",
       "_model_name": "HBoxModel",
       "_view_count": null,
       "_view_module": "@jupyter-widgets/controls",
       "_view_module_version": "1.5.0",
       "_view_name": "HBoxView",
       "box_style": "",
       "children": [
        "IPY_MODEL_ebf8d93ae01f4ef78891fda399f00159",
        "IPY_MODEL_f0ac671e25c3476bb1c0b46f54163f74",
        "IPY_MODEL_ed633e0dddbe4475b41efee752ce1fe2"
       ],
       "layout": "IPY_MODEL_403377513c06444081ba32ac395f29ea"
      }
     },
     "403377513c06444081ba32ac395f29ea": {
      "model_module": "@jupyter-widgets/base",
      "model_module_version": "1.2.0",
      "model_name": "LayoutModel",
      "state": {
       "_model_module": "@jupyter-widgets/base",
       "_model_module_version": "1.2.0",
       "_model_name": "LayoutModel",
       "_view_count": null,
       "_view_module": "@jupyter-widgets/base",
       "_view_module_version": "1.2.0",
       "_view_name": "LayoutView",
       "align_content": null,
       "align_items": null,
       "align_self": null,
       "border": null,
       "bottom": null,
       "display": null,
       "flex": null,
       "flex_flow": null,
       "grid_area": null,
       "grid_auto_columns": null,
       "grid_auto_flow": null,
       "grid_auto_rows": null,
       "grid_column": null,
       "grid_gap": null,
       "grid_row": null,
       "grid_template_areas": null,
       "grid_template_columns": null,
       "grid_template_rows": null,
       "height": null,
       "justify_content": null,
       "justify_items": null,
       "left": null,
       "margin": null,
       "max_height": null,
       "max_width": null,
       "min_height": null,
       "min_width": null,
       "object_fit": null,
       "object_position": null,
       "order": null,
       "overflow": null,
       "overflow_x": null,
       "overflow_y": null,
       "padding": null,
       "right": null,
       "top": null,
       "visibility": null,
       "width": null
      }
     },
     "4645d3d5325a41aea995fcfa0329d6f8": {
      "model_module": "@jupyter-widgets/controls",
      "model_module_version": "1.5.0",
      "model_name": "DescriptionStyleModel",
      "state": {
       "_model_module": "@jupyter-widgets/controls",
       "_model_module_version": "1.5.0",
       "_model_name": "DescriptionStyleModel",
       "_view_count": null,
       "_view_module": "@jupyter-widgets/base",
       "_view_module_version": "1.2.0",
       "_view_name": "StyleView",
       "description_width": ""
      }
     },
     "4dd303ab4e674ec28ca8e37e29372ece": {
      "model_module": "@jupyter-widgets/base",
      "model_module_version": "1.2.0",
      "model_name": "LayoutModel",
      "state": {
       "_model_module": "@jupyter-widgets/base",
       "_model_module_version": "1.2.0",
       "_model_name": "LayoutModel",
       "_view_count": null,
       "_view_module": "@jupyter-widgets/base",
       "_view_module_version": "1.2.0",
       "_view_name": "LayoutView",
       "align_content": null,
       "align_items": null,
       "align_self": null,
       "border": null,
       "bottom": null,
       "display": null,
       "flex": null,
       "flex_flow": null,
       "grid_area": null,
       "grid_auto_columns": null,
       "grid_auto_flow": null,
       "grid_auto_rows": null,
       "grid_column": null,
       "grid_gap": null,
       "grid_row": null,
       "grid_template_areas": null,
       "grid_template_columns": null,
       "grid_template_rows": null,
       "height": null,
       "justify_content": null,
       "justify_items": null,
       "left": null,
       "margin": null,
       "max_height": null,
       "max_width": null,
       "min_height": null,
       "min_width": null,
       "object_fit": null,
       "object_position": null,
       "order": null,
       "overflow": null,
       "overflow_x": null,
       "overflow_y": null,
       "padding": null,
       "right": null,
       "top": null,
       "visibility": null,
       "width": null
      }
     },
     "51553b064cc34e19b00c54355d6028f2": {
      "model_module": "@jupyter-widgets/controls",
      "model_module_version": "1.5.0",
      "model_name": "DescriptionStyleModel",
      "state": {
       "_model_module": "@jupyter-widgets/controls",
       "_model_module_version": "1.5.0",
       "_model_name": "DescriptionStyleModel",
       "_view_count": null,
       "_view_module": "@jupyter-widgets/base",
       "_view_module_version": "1.2.0",
       "_view_name": "StyleView",
       "description_width": ""
      }
     },
     "54e9b05ebc5147999931f6cb5bc1a039": {
      "model_module": "@jupyter-widgets/controls",
      "model_module_version": "1.5.0",
      "model_name": "ProgressStyleModel",
      "state": {
       "_model_module": "@jupyter-widgets/controls",
       "_model_module_version": "1.5.0",
       "_model_name": "ProgressStyleModel",
       "_view_count": null,
       "_view_module": "@jupyter-widgets/base",
       "_view_module_version": "1.2.0",
       "_view_name": "StyleView",
       "bar_color": null,
       "description_width": ""
      }
     },
     "61aaa8bc16e947d994d2b21988239e9f": {
      "model_module": "@jupyter-widgets/controls",
      "model_module_version": "1.5.0",
      "model_name": "FloatProgressModel",
      "state": {
       "_dom_classes": [],
       "_model_module": "@jupyter-widgets/controls",
       "_model_module_version": "1.5.0",
       "_model_name": "FloatProgressModel",
       "_view_count": null,
       "_view_module": "@jupyter-widgets/controls",
       "_view_module_version": "1.5.0",
       "_view_name": "ProgressView",
       "bar_style": "success",
       "description": "",
       "description_tooltip": null,
       "layout": "IPY_MODEL_831677be21144d9197dabdda69e1e000",
       "max": 102502400.0,
       "min": 0.0,
       "orientation": "horizontal",
       "style": "IPY_MODEL_54e9b05ebc5147999931f6cb5bc1a039",
       "value": 102502400.0
      }
     },
     "621b47ee351b4c66a1a472e22866b6d6": {
      "model_module": "@jupyter-widgets/base",
      "model_module_version": "1.2.0",
      "model_name": "LayoutModel",
      "state": {
       "_model_module": "@jupyter-widgets/base",
       "_model_module_version": "1.2.0",
       "_model_name": "LayoutModel",
       "_view_count": null,
       "_view_module": "@jupyter-widgets/base",
       "_view_module_version": "1.2.0",
       "_view_name": "LayoutView",
       "align_content": null,
       "align_items": null,
       "align_self": null,
       "border": null,
       "bottom": null,
       "display": null,
       "flex": null,
       "flex_flow": null,
       "grid_area": null,
       "grid_auto_columns": null,
       "grid_auto_flow": null,
       "grid_auto_rows": null,
       "grid_column": null,
       "grid_gap": null,
       "grid_row": null,
       "grid_template_areas": null,
       "grid_template_columns": null,
       "grid_template_rows": null,
       "height": null,
       "justify_content": null,
       "justify_items": null,
       "left": null,
       "margin": null,
       "max_height": null,
       "max_width": null,
       "min_height": null,
       "min_width": null,
       "object_fit": null,
       "object_position": null,
       "order": null,
       "overflow": null,
       "overflow_x": null,
       "overflow_y": null,
       "padding": null,
       "right": null,
       "top": null,
       "visibility": null,
       "width": null
      }
     },
     "69fe551cbc9247ef93d4f5a1a8e517dd": {
      "model_module": "@jupyter-widgets/controls",
      "model_module_version": "1.5.0",
      "model_name": "HTMLModel",
      "state": {
       "_dom_classes": [],
       "_model_module": "@jupyter-widgets/controls",
       "_model_module_version": "1.5.0",
       "_model_name": "HTMLModel",
       "_view_count": null,
       "_view_module": "@jupyter-widgets/controls",
       "_view_module_version": "1.5.0",
       "_view_name": "HTMLView",
       "description": "",
       "description_tooltip": null,
       "layout": "IPY_MODEL_a1e4d51f1c9440149385941e484d6585",
       "placeholder": "​",
       "style": "IPY_MODEL_a5c58d20bec54f95b94ea35d25ffecd7",
       "value": "100%"
      }
     },
     "6b4f6724df114adca8327abcd78e4ad0": {
      "model_module": "@jupyter-widgets/base",
      "model_module_version": "1.2.0",
      "model_name": "LayoutModel",
      "state": {
       "_model_module": "@jupyter-widgets/base",
       "_model_module_version": "1.2.0",
       "_model_name": "LayoutModel",
       "_view_count": null,
       "_view_module": "@jupyter-widgets/base",
       "_view_module_version": "1.2.0",
       "_view_name": "LayoutView",
       "align_content": null,
       "align_items": null,
       "align_self": null,
       "border": null,
       "bottom": null,
       "display": null,
       "flex": null,
       "flex_flow": null,
       "grid_area": null,
       "grid_auto_columns": null,
       "grid_auto_flow": null,
       "grid_auto_rows": null,
       "grid_column": null,
       "grid_gap": null,
       "grid_row": null,
       "grid_template_areas": null,
       "grid_template_columns": null,
       "grid_template_rows": null,
       "height": null,
       "justify_content": null,
       "justify_items": null,
       "left": null,
       "margin": null,
       "max_height": null,
       "max_width": null,
       "min_height": null,
       "min_width": null,
       "object_fit": null,
       "object_position": null,
       "order": null,
       "overflow": null,
       "overflow_x": null,
       "overflow_y": null,
       "padding": null,
       "right": null,
       "top": null,
       "visibility": null,
       "width": null
      }
     },
     "6f061b2cabd44c8c893c050ed7030124": {
      "model_module": "@jupyter-widgets/controls",
      "model_module_version": "1.5.0",
      "model_name": "DescriptionStyleModel",
      "state": {
       "_model_module": "@jupyter-widgets/controls",
       "_model_module_version": "1.5.0",
       "_model_name": "DescriptionStyleModel",
       "_view_count": null,
       "_view_module": "@jupyter-widgets/base",
       "_view_module_version": "1.2.0",
       "_view_name": "StyleView",
       "description_width": ""
      }
     },
     "7fadecc8cc1b4b95b7cda875ea2cf036": {
      "model_module": "@jupyter-widgets/base",
      "model_module_version": "1.2.0",
      "model_name": "LayoutModel",
      "state": {
       "_model_module": "@jupyter-widgets/base",
       "_model_module_version": "1.2.0",
       "_model_name": "LayoutModel",
       "_view_count": null,
       "_view_module": "@jupyter-widgets/base",
       "_view_module_version": "1.2.0",
       "_view_name": "LayoutView",
       "align_content": null,
       "align_items": null,
       "align_self": null,
       "border": null,
       "bottom": null,
       "display": null,
       "flex": null,
       "flex_flow": null,
       "grid_area": null,
       "grid_auto_columns": null,
       "grid_auto_flow": null,
       "grid_auto_rows": null,
       "grid_column": null,
       "grid_gap": null,
       "grid_row": null,
       "grid_template_areas": null,
       "grid_template_columns": null,
       "grid_template_rows": null,
       "height": null,
       "justify_content": null,
       "justify_items": null,
       "left": null,
       "margin": null,
       "max_height": null,
       "max_width": null,
       "min_height": null,
       "min_width": null,
       "object_fit": null,
       "object_position": null,
       "order": null,
       "overflow": null,
       "overflow_x": null,
       "overflow_y": null,
       "padding": null,
       "right": null,
       "top": null,
       "visibility": null,
       "width": null
      }
     },
     "831677be21144d9197dabdda69e1e000": {
      "model_module": "@jupyter-widgets/base",
      "model_module_version": "1.2.0",
      "model_name": "LayoutModel",
      "state": {
       "_model_module": "@jupyter-widgets/base",
       "_model_module_version": "1.2.0",
       "_model_name": "LayoutModel",
       "_view_count": null,
       "_view_module": "@jupyter-widgets/base",
       "_view_module_version": "1.2.0",
       "_view_name": "LayoutView",
       "align_content": null,
       "align_items": null,
       "align_self": null,
       "border": null,
       "bottom": null,
       "display": null,
       "flex": null,
       "flex_flow": null,
       "grid_area": null,
       "grid_auto_columns": null,
       "grid_auto_flow": null,
       "grid_auto_rows": null,
       "grid_column": null,
       "grid_gap": null,
       "grid_row": null,
       "grid_template_areas": null,
       "grid_template_columns": null,
       "grid_template_rows": null,
       "height": null,
       "justify_content": null,
       "justify_items": null,
       "left": null,
       "margin": null,
       "max_height": null,
       "max_width": null,
       "min_height": null,
       "min_width": null,
       "object_fit": null,
       "object_position": null,
       "order": null,
       "overflow": null,
       "overflow_x": null,
       "overflow_y": null,
       "padding": null,
       "right": null,
       "top": null,
       "visibility": null,
       "width": null
      }
     },
     "874d3daba0af4cfeb8f86f712c1515f5": {
      "model_module": "@jupyter-widgets/base",
      "model_module_version": "1.2.0",
      "model_name": "LayoutModel",
      "state": {
       "_model_module": "@jupyter-widgets/base",
       "_model_module_version": "1.2.0",
       "_model_name": "LayoutModel",
       "_view_count": null,
       "_view_module": "@jupyter-widgets/base",
       "_view_module_version": "1.2.0",
       "_view_name": "LayoutView",
       "align_content": null,
       "align_items": null,
       "align_self": null,
       "border": null,
       "bottom": null,
       "display": null,
       "flex": null,
       "flex_flow": null,
       "grid_area": null,
       "grid_auto_columns": null,
       "grid_auto_flow": null,
       "grid_auto_rows": null,
       "grid_column": null,
       "grid_gap": null,
       "grid_row": null,
       "grid_template_areas": null,
       "grid_template_columns": null,
       "grid_template_rows": null,
       "height": null,
       "justify_content": null,
       "justify_items": null,
       "left": null,
       "margin": null,
       "max_height": null,
       "max_width": null,
       "min_height": null,
       "min_width": null,
       "object_fit": null,
       "object_position": null,
       "order": null,
       "overflow": null,
       "overflow_x": null,
       "overflow_y": null,
       "padding": null,
       "right": null,
       "top": null,
       "visibility": null,
       "width": null
      }
     },
     "9a9c5d7b64034e229b0700b7c58d88fd": {
      "model_module": "@jupyter-widgets/controls",
      "model_module_version": "1.5.0",
      "model_name": "HTMLModel",
      "state": {
       "_dom_classes": [],
       "_model_module": "@jupyter-widgets/controls",
       "_model_module_version": "1.5.0",
       "_model_name": "HTMLModel",
       "_view_count": null,
       "_view_module": "@jupyter-widgets/controls",
       "_view_module_version": "1.5.0",
       "_view_name": "HTMLView",
       "description": "",
       "description_tooltip": null,
       "layout": "IPY_MODEL_621b47ee351b4c66a1a472e22866b6d6",
       "placeholder": "​",
       "style": "IPY_MODEL_fedd1feb41bb43efb0427f2c7a68df8f",
       "value": " 97.8M/97.8M [00:05&lt;00:00, 22.8MB/s]"
      }
     },
     "9fa80cd5077f47e081dbb252c91e653e": {
      "model_module": "@jupyter-widgets/controls",
      "model_module_version": "1.5.0",
      "model_name": "HTMLModel",
      "state": {
       "_dom_classes": [],
       "_model_module": "@jupyter-widgets/controls",
       "_model_module_version": "1.5.0",
       "_model_name": "HTMLModel",
       "_view_count": null,
       "_view_module": "@jupyter-widgets/controls",
       "_view_module_version": "1.5.0",
       "_view_name": "HTMLView",
       "description": "",
       "description_tooltip": null,
       "layout": "IPY_MODEL_31efed4d4baa4f7ebfa0623aa47eb4ac",
       "placeholder": "​",
       "style": "IPY_MODEL_6f061b2cabd44c8c893c050ed7030124",
       "value": " 54.7M/54.7M [00:03&lt;00:00, 23.1MB/s]"
      }
     },
     "a1e4d51f1c9440149385941e484d6585": {
      "model_module": "@jupyter-widgets/base",
      "model_module_version": "1.2.0",
      "model_name": "LayoutModel",
      "state": {
       "_model_module": "@jupyter-widgets/base",
       "_model_module_version": "1.2.0",
       "_model_name": "LayoutModel",
       "_view_count": null,
       "_view_module": "@jupyter-widgets/base",
       "_view_module_version": "1.2.0",
       "_view_name": "LayoutView",
       "align_content": null,
       "align_items": null,
       "align_self": null,
       "border": null,
       "bottom": null,
       "display": null,
       "flex": null,
       "flex_flow": null,
       "grid_area": null,
       "grid_auto_columns": null,
       "grid_auto_flow": null,
       "grid_auto_rows": null,
       "grid_column": null,
       "grid_gap": null,
       "grid_row": null,
       "grid_template_areas": null,
       "grid_template_columns": null,
       "grid_template_rows": null,
       "height": null,
       "justify_content": null,
       "justify_items": null,
       "left": null,
       "margin": null,
       "max_height": null,
       "max_width": null,
       "min_height": null,
       "min_width": null,
       "object_fit": null,
       "object_position": null,
       "order": null,
       "overflow": null,
       "overflow_x": null,
       "overflow_y": null,
       "padding": null,
       "right": null,
       "top": null,
       "visibility": null,
       "width": null
      }
     },
     "a5c58d20bec54f95b94ea35d25ffecd7": {
      "model_module": "@jupyter-widgets/controls",
      "model_module_version": "1.5.0",
      "model_name": "DescriptionStyleModel",
      "state": {
       "_model_module": "@jupyter-widgets/controls",
       "_model_module_version": "1.5.0",
       "_model_name": "DescriptionStyleModel",
       "_view_count": null,
       "_view_module": "@jupyter-widgets/base",
       "_view_module_version": "1.2.0",
       "_view_name": "StyleView",
       "description_width": ""
      }
     },
     "ac7a07bd21a7486d9ce5906cbe4ef19a": {
      "model_module": "@jupyter-widgets/controls",
      "model_module_version": "1.5.0",
      "model_name": "HBoxModel",
      "state": {
       "_dom_classes": [],
       "_model_module": "@jupyter-widgets/controls",
       "_model_module_version": "1.5.0",
       "_model_name": "HBoxModel",
       "_view_count": null,
       "_view_module": "@jupyter-widgets/controls",
       "_view_module_version": "1.5.0",
       "_view_name": "HBoxView",
       "box_style": "",
       "children": [
        "IPY_MODEL_69fe551cbc9247ef93d4f5a1a8e517dd",
        "IPY_MODEL_2e669763a5e94eeca03dd66d67a981bd",
        "IPY_MODEL_9fa80cd5077f47e081dbb252c91e653e"
       ],
       "layout": "IPY_MODEL_6b4f6724df114adca8327abcd78e4ad0"
      }
     },
     "ae995982275c488bb5270e6d9307806a": {
      "model_module": "@jupyter-widgets/controls",
      "model_module_version": "1.5.0",
      "model_name": "DescriptionStyleModel",
      "state": {
       "_model_module": "@jupyter-widgets/controls",
       "_model_module_version": "1.5.0",
       "_model_name": "DescriptionStyleModel",
       "_view_count": null,
       "_view_module": "@jupyter-widgets/base",
       "_view_module_version": "1.2.0",
       "_view_name": "StyleView",
       "description_width": ""
      }
     },
     "afc8f53e63274cffbe2691d8df173c23": {
      "model_module": "@jupyter-widgets/controls",
      "model_module_version": "1.5.0",
      "model_name": "HTMLModel",
      "state": {
       "_dom_classes": [],
       "_model_module": "@jupyter-widgets/controls",
       "_model_module_version": "1.5.0",
       "_model_name": "HTMLModel",
       "_view_count": null,
       "_view_module": "@jupyter-widgets/controls",
       "_view_module_version": "1.5.0",
       "_view_name": "HTMLView",
       "description": "",
       "description_tooltip": null,
       "layout": "IPY_MODEL_315c723dca0a4d20abd3b218b6513f4d",
       "placeholder": "​",
       "style": "IPY_MODEL_ae995982275c488bb5270e6d9307806a",
       "value": "100%"
      }
     },
     "c3c5f0836a8941de85e88a7869743fed": {
      "model_module": "@jupyter-widgets/base",
      "model_module_version": "1.2.0",
      "model_name": "LayoutModel",
      "state": {
       "_model_module": "@jupyter-widgets/base",
       "_model_module_version": "1.2.0",
       "_model_name": "LayoutModel",
       "_view_count": null,
       "_view_module": "@jupyter-widgets/base",
       "_view_module_version": "1.2.0",
       "_view_name": "LayoutView",
       "align_content": null,
       "align_items": null,
       "align_self": null,
       "border": null,
       "bottom": null,
       "display": null,
       "flex": null,
       "flex_flow": null,
       "grid_area": null,
       "grid_auto_columns": null,
       "grid_auto_flow": null,
       "grid_auto_rows": null,
       "grid_column": null,
       "grid_gap": null,
       "grid_row": null,
       "grid_template_areas": null,
       "grid_template_columns": null,
       "grid_template_rows": null,
       "height": null,
       "justify_content": null,
       "justify_items": null,
       "left": null,
       "margin": null,
       "max_height": null,
       "max_width": null,
       "min_height": null,
       "min_width": null,
       "object_fit": null,
       "object_position": null,
       "order": null,
       "overflow": null,
       "overflow_x": null,
       "overflow_y": null,
       "padding": null,
       "right": null,
       "top": null,
       "visibility": null,
       "width": null
      }
     },
     "ea328586cc544e2ab7693cfbb433aa4b": {
      "model_module": "@jupyter-widgets/controls",
      "model_module_version": "1.5.0",
      "model_name": "ProgressStyleModel",
      "state": {
       "_model_module": "@jupyter-widgets/controls",
       "_model_module_version": "1.5.0",
       "_model_name": "ProgressStyleModel",
       "_view_count": null,
       "_view_module": "@jupyter-widgets/base",
       "_view_module_version": "1.2.0",
       "_view_name": "StyleView",
       "bar_color": null,
       "description_width": ""
      }
     },
     "ebf8d93ae01f4ef78891fda399f00159": {
      "model_module": "@jupyter-widgets/controls",
      "model_module_version": "1.5.0",
      "model_name": "HTMLModel",
      "state": {
       "_dom_classes": [],
       "_model_module": "@jupyter-widgets/controls",
       "_model_module_version": "1.5.0",
       "_model_name": "HTMLModel",
       "_view_count": null,
       "_view_module": "@jupyter-widgets/controls",
       "_view_module_version": "1.5.0",
       "_view_name": "HTMLView",
       "description": "",
       "description_tooltip": null,
       "layout": "IPY_MODEL_7fadecc8cc1b4b95b7cda875ea2cf036",
       "placeholder": "​",
       "style": "IPY_MODEL_4645d3d5325a41aea995fcfa0329d6f8",
       "value": "100%"
      }
     },
     "ed633e0dddbe4475b41efee752ce1fe2": {
      "model_module": "@jupyter-widgets/controls",
      "model_module_version": "1.5.0",
      "model_name": "HTMLModel",
      "state": {
       "_dom_classes": [],
       "_model_module": "@jupyter-widgets/controls",
       "_model_module_version": "1.5.0",
       "_model_name": "HTMLModel",
       "_view_count": null,
       "_view_module": "@jupyter-widgets/controls",
       "_view_module_version": "1.5.0",
       "_view_name": "HTMLView",
       "description": "",
       "description_tooltip": null,
       "layout": "IPY_MODEL_874d3daba0af4cfeb8f86f712c1515f5",
       "placeholder": "​",
       "style": "IPY_MODEL_51553b064cc34e19b00c54355d6028f2",
       "value": " 528M/528M [00:25&lt;00:00, 23.1MB/s]"
      }
     },
     "f0ac671e25c3476bb1c0b46f54163f74": {
      "model_module": "@jupyter-widgets/controls",
      "model_module_version": "1.5.0",
      "model_name": "FloatProgressModel",
      "state": {
       "_dom_classes": [],
       "_model_module": "@jupyter-widgets/controls",
       "_model_module_version": "1.5.0",
       "_model_name": "FloatProgressModel",
       "_view_count": null,
       "_view_module": "@jupyter-widgets/controls",
       "_view_module_version": "1.5.0",
       "_view_name": "ProgressView",
       "bar_style": "success",
       "description": "",
       "description_tooltip": null,
       "layout": "IPY_MODEL_4dd303ab4e674ec28ca8e37e29372ece",
       "max": 553507836.0,
       "min": 0.0,
       "orientation": "horizontal",
       "style": "IPY_MODEL_ea328586cc544e2ab7693cfbb433aa4b",
       "value": 553507836.0
      }
     },
     "fedd1feb41bb43efb0427f2c7a68df8f": {
      "model_module": "@jupyter-widgets/controls",
      "model_module_version": "1.5.0",
      "model_name": "DescriptionStyleModel",
      "state": {
       "_model_module": "@jupyter-widgets/controls",
       "_model_module_version": "1.5.0",
       "_model_name": "DescriptionStyleModel",
       "_view_count": null,
       "_view_module": "@jupyter-widgets/base",
       "_view_module_version": "1.2.0",
       "_view_name": "StyleView",
       "description_width": ""
      }
     }
    },
    "version_major": 2,
    "version_minor": 0
   }
  }
 },
 "nbformat": 4,
 "nbformat_minor": 5
}
