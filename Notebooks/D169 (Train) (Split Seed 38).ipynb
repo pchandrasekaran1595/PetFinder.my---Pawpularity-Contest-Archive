{
 "cells": [
  {
   "cell_type": "markdown",
   "id": "c1c1686d",
   "metadata": {
    "_cell_guid": "b1076dfc-b9ad-4769-8c92-a6c4dae69d19",
    "_uuid": "8f2839f25d086af736a60e9eeb907d3b93b6e0e5",
    "papermill": {
     "duration": 0.013682,
     "end_time": "2021-10-08T22:11:19.039076",
     "exception": false,
     "start_time": "2021-10-08T22:11:19.025394",
     "status": "completed"
    },
    "tags": []
   },
   "source": [
    "## Library Imports"
   ]
  },
  {
   "cell_type": "code",
   "execution_count": 1,
   "id": "359cddf1",
   "metadata": {
    "execution": {
     "iopub.execute_input": "2021-10-08T22:11:19.145021Z",
     "iopub.status.busy": "2021-10-08T22:11:19.144302Z",
     "iopub.status.idle": "2021-10-08T22:11:19.147251Z",
     "shell.execute_reply": "2021-10-08T22:11:19.146718Z",
     "shell.execute_reply.started": "2021-10-08T20:50:15.198255Z"
    },
    "papermill": {
     "duration": 0.095307,
     "end_time": "2021-10-08T22:11:19.147395",
     "exception": false,
     "start_time": "2021-10-08T22:11:19.052088",
     "status": "completed"
    },
    "tags": []
   },
   "outputs": [],
   "source": [
    "from time import time\n",
    "notebook_start_time = time()"
   ]
  },
  {
   "cell_type": "code",
   "execution_count": 2,
   "id": "054c9c12",
   "metadata": {
    "execution": {
     "iopub.execute_input": "2021-10-08T22:11:19.176596Z",
     "iopub.status.busy": "2021-10-08T22:11:19.175932Z",
     "iopub.status.idle": "2021-10-08T22:11:24.583164Z",
     "shell.execute_reply": "2021-10-08T22:11:24.582699Z",
     "shell.execute_reply.started": "2021-10-08T20:50:17.171039Z"
    },
    "papermill": {
     "duration": 5.424096,
     "end_time": "2021-10-08T22:11:24.583319",
     "exception": false,
     "start_time": "2021-10-08T22:11:19.159223",
     "status": "completed"
    },
    "tags": []
   },
   "outputs": [],
   "source": [
    "import os\n",
    "import re\n",
    "import pickle\n",
    "import numpy as np\n",
    "import pandas as pd\n",
    "import matplotlib.pyplot as plt\n",
    "\n",
    "import torch\n",
    "from torch import nn, optim\n",
    "from torch.utils.data import Dataset\n",
    "from torch.utils.data import DataLoader as DL\n",
    "from torch.nn.utils import weight_norm as WN\n",
    "from torchvision import models, transforms\n",
    "\n",
    "from sklearn.model_selection import KFold\n",
    "from sklearn.metrics import mean_squared_error\n",
    "from sklearn.preprocessing import StandardScaler"
   ]
  },
  {
   "cell_type": "markdown",
   "id": "e9c40bc2",
   "metadata": {
    "papermill": {
     "duration": 0.011492,
     "end_time": "2021-10-08T22:11:24.607284",
     "exception": false,
     "start_time": "2021-10-08T22:11:24.595792",
     "status": "completed"
    },
    "tags": []
   },
   "source": [
    "## Constants and Utilities"
   ]
  },
  {
   "cell_type": "code",
   "execution_count": 3,
   "id": "39036a6f",
   "metadata": {
    "execution": {
     "iopub.execute_input": "2021-10-08T22:11:24.677632Z",
     "iopub.status.busy": "2021-10-08T22:11:24.674322Z",
     "iopub.status.idle": "2021-10-08T22:11:24.680472Z",
     "shell.execute_reply": "2021-10-08T22:11:24.680874Z",
     "shell.execute_reply.started": "2021-10-08T20:50:22.548086Z"
    },
    "papermill": {
     "duration": 0.061605,
     "end_time": "2021-10-08T22:11:24.681003",
     "exception": false,
     "start_time": "2021-10-08T22:11:24.619398",
     "status": "completed"
    },
    "tags": []
   },
   "outputs": [],
   "source": [
    "SEED = 38\n",
    "DEVICE = torch.device(\"cuda\" if torch.cuda.is_available() else \"cpu\")\n",
    "PATH = \"../input/petfinder-pawpularity-score\"\n",
    "FEATURES_PATH = \"../input/petfinder-pretrained-features-ua-all\"\n",
    "\n",
    "sc_y = StandardScaler()"
   ]
  },
  {
   "cell_type": "code",
   "execution_count": 4,
   "id": "4370a84f",
   "metadata": {
    "execution": {
     "iopub.execute_input": "2021-10-08T22:11:24.716296Z",
     "iopub.status.busy": "2021-10-08T22:11:24.715412Z",
     "iopub.status.idle": "2021-10-08T22:11:24.717852Z",
     "shell.execute_reply": "2021-10-08T22:11:24.717420Z",
     "shell.execute_reply.started": "2021-10-08T20:50:22.599875Z"
    },
    "papermill": {
     "duration": 0.024351,
     "end_time": "2021-10-08T22:11:24.717964",
     "exception": false,
     "start_time": "2021-10-08T22:11:24.693613",
     "status": "completed"
    },
    "tags": []
   },
   "outputs": [],
   "source": [
    "def breaker(num=50, char=\"*\") -> None:\n",
    "    print(\"\\n\" + num*char + \"\\n\")\n",
    "\n",
    "\n",
    "def head(x, no_of_ele=5) -> None:\n",
    "    print(x[:no_of_ele])\n",
    "\n",
    "\n",
    "def get_targets(path: str) -> np.ndarray:\n",
    "    df = pd.read_csv(os.path.join(path, \"train.csv\"), engine=\"python\")\n",
    "    targets  = df.iloc[:, -1].copy().values\n",
    "    return targets\n",
    "\n",
    "\n",
    "def normalize(x):\n",
    "    for i in range(x.shape[0]):\n",
    "        x[i] = (x[i] - torch.min(x[i])) / (torch.max(x[i]) - torch.min(x[i]))\n",
    "    return x\n",
    "\n",
    "\n",
    "def show_graphs(L: list) -> None:\n",
    "    TL, VL = [], []\n",
    "    for i in range(len(L)):\n",
    "        TL.append(L[i][\"train\"])\n",
    "        VL.append(L[i][\"valid\"])    \n",
    "    \n",
    "    x_Axis = np.arange(1, len(L) + 1)\n",
    "    plt.figure()\n",
    "    plt.plot(x_Axis, TL, \"r\", label=\"train\")\n",
    "    plt.plot(x_Axis, VL, \"b\", label=\"valid\")\n",
    "    plt.grid()\n",
    "    plt.legend()\n",
    "    plt.title(\"MSE Loss\")\n",
    "    plt.show()"
   ]
  },
  {
   "cell_type": "markdown",
   "id": "71f0cb98",
   "metadata": {
    "papermill": {
     "duration": 0.011603,
     "end_time": "2021-10-08T22:11:24.741494",
     "exception": false,
     "start_time": "2021-10-08T22:11:24.729891",
     "status": "completed"
    },
    "tags": []
   },
   "source": [
    "## Dataset Template"
   ]
  },
  {
   "cell_type": "code",
   "execution_count": 5,
   "id": "af60233a",
   "metadata": {
    "execution": {
     "iopub.execute_input": "2021-10-08T22:11:24.771772Z",
     "iopub.status.busy": "2021-10-08T22:11:24.771009Z",
     "iopub.status.idle": "2021-10-08T22:11:24.773377Z",
     "shell.execute_reply": "2021-10-08T22:11:24.772970Z",
     "shell.execute_reply.started": "2021-10-08T20:50:22.61483Z"
    },
    "papermill": {
     "duration": 0.019019,
     "end_time": "2021-10-08T22:11:24.773481",
     "exception": false,
     "start_time": "2021-10-08T22:11:24.754462",
     "status": "completed"
    },
    "tags": []
   },
   "outputs": [],
   "source": [
    "class DS(Dataset):\n",
    "    def __init__(self, features=None, targets=None):\n",
    "        self.features = features\n",
    "        self.targets  = targets\n",
    "        \n",
    "    def __len__(self):\n",
    "        return self.features.shape[0]\n",
    "    \n",
    "    def __getitem__(self, idx):\n",
    "        return torch.FloatTensor(self.features[idx]), torch.FloatTensor(self.targets[idx])"
   ]
  },
  {
   "cell_type": "markdown",
   "id": "33d35efa",
   "metadata": {
    "papermill": {
     "duration": 0.011444,
     "end_time": "2021-10-08T22:11:24.796553",
     "exception": false,
     "start_time": "2021-10-08T22:11:24.785109",
     "status": "completed"
    },
    "tags": []
   },
   "source": [
    "## Build Dataloaders"
   ]
  },
  {
   "cell_type": "code",
   "execution_count": 6,
   "id": "2ea02107",
   "metadata": {
    "execution": {
     "iopub.execute_input": "2021-10-08T22:11:24.823348Z",
     "iopub.status.busy": "2021-10-08T22:11:24.822544Z",
     "iopub.status.idle": "2021-10-08T22:11:24.828512Z",
     "shell.execute_reply": "2021-10-08T22:11:24.828914Z",
     "shell.execute_reply.started": "2021-10-08T20:50:22.624576Z"
    },
    "papermill": {
     "duration": 0.020569,
     "end_time": "2021-10-08T22:11:24.829028",
     "exception": false,
     "start_time": "2021-10-08T22:11:24.808459",
     "status": "completed"
    },
    "tags": []
   },
   "outputs": [],
   "source": [
    "def build_dataloaders(tr_features: np.ndarray, va_features: np.ndarray,\n",
    "                      tr_targets: np.ndarray, va_targets: np.ndarray,\n",
    "                      batch_size: int, seed: int):\n",
    "\n",
    "    # breaker()\n",
    "    # print(\"Building Train and Validation DataLoaders ...\")\n",
    "    \n",
    "    tr_data_setup = DS(features=tr_features, targets=tr_targets)\n",
    "    va_data_setup = DS(features=va_features, targets=va_targets)\n",
    "    \n",
    "    dataloaders = {\n",
    "        \"train\" : DL(tr_data_setup, batch_size=batch_size, shuffle=True, generator=torch.manual_seed(seed)),\n",
    "        \"valid\" : DL(va_data_setup, batch_size=batch_size, shuffle=False)\n",
    "    }\n",
    "    \n",
    "    return dataloaders"
   ]
  },
  {
   "cell_type": "markdown",
   "id": "4c835925",
   "metadata": {
    "papermill": {
     "duration": 0.011963,
     "end_time": "2021-10-08T22:11:24.852684",
     "exception": false,
     "start_time": "2021-10-08T22:11:24.840721",
     "status": "completed"
    },
    "tags": []
   },
   "source": [
    "## Build Model"
   ]
  },
  {
   "cell_type": "code",
   "execution_count": 7,
   "id": "02c7b427",
   "metadata": {
    "execution": {
     "iopub.execute_input": "2021-10-08T22:11:24.886122Z",
     "iopub.status.busy": "2021-10-08T22:11:24.880070Z",
     "iopub.status.idle": "2021-10-08T22:11:24.888004Z",
     "shell.execute_reply": "2021-10-08T22:11:24.888444Z",
     "shell.execute_reply.started": "2021-10-08T20:50:22.634346Z"
    },
    "papermill": {
     "duration": 0.023845,
     "end_time": "2021-10-08T22:11:24.888586",
     "exception": false,
     "start_time": "2021-10-08T22:11:24.864741",
     "status": "completed"
    },
    "tags": []
   },
   "outputs": [],
   "source": [
    "def build_model(IL: int, seed: int):\n",
    "    class ANN(nn.Module):\n",
    "        def __init__(self, IL=None):\n",
    "            super(ANN, self).__init__()\n",
    "\n",
    "            self.predictor = nn.Sequential()\n",
    "            self.predictor.add_module(\"BN\", nn.BatchNorm1d(num_features=IL, eps=1e-5))\n",
    "            self.predictor.add_module(\"FC\", WN(nn.Linear(in_features=IL, out_features=1)))\n",
    "\n",
    "        def get_optimizer(self, lr=1e-3, wd=0):\n",
    "            params = [p for p in self.parameters() if p.requires_grad]\n",
    "            return optim.Adam(params, lr=lr, weight_decay=wd)\n",
    "\n",
    "        def get_plateau_scheduler(self, optimizer=None, patience=5, eps=1e-8):\n",
    "            return optim.lr_scheduler.ReduceLROnPlateau(optimizer=optimizer, patience=patience, eps=eps, verbose=True)\n",
    "\n",
    "        def forward(self, x):\n",
    "            return self.predictor(x)\n",
    "    \n",
    "    # breaker()\n",
    "    # print(\"Building Model ...\")\n",
    "    # print(\"\\n{} -> 1\".format(IL))\n",
    "    \n",
    "    torch.manual_seed(seed)\n",
    "    model = ANN(IL=IL)\n",
    "    \n",
    "    return model"
   ]
  },
  {
   "cell_type": "markdown",
   "id": "dbd23599",
   "metadata": {
    "papermill": {
     "duration": 0.011827,
     "end_time": "2021-10-08T22:11:24.912730",
     "exception": false,
     "start_time": "2021-10-08T22:11:24.900903",
     "status": "completed"
    },
    "tags": []
   },
   "source": [
    "## Fit and Predict Helpers"
   ]
  },
  {
   "cell_type": "code",
   "execution_count": 8,
   "id": "dd3a25cd",
   "metadata": {
    "execution": {
     "iopub.execute_input": "2021-10-08T22:11:24.958635Z",
     "iopub.status.busy": "2021-10-08T22:11:24.955083Z",
     "iopub.status.idle": "2021-10-08T22:11:24.960968Z",
     "shell.execute_reply": "2021-10-08T22:11:24.960537Z",
     "shell.execute_reply.started": "2021-10-08T20:50:22.648063Z"
    },
    "papermill": {
     "duration": 0.036233,
     "end_time": "2021-10-08T22:11:24.961075",
     "exception": false,
     "start_time": "2021-10-08T22:11:24.924842",
     "status": "completed"
    },
    "tags": []
   },
   "outputs": [],
   "source": [
    "def fit(model=None, optimizer=None, scheduler=None, \n",
    "        epochs=None, early_stopping_patience=None,\n",
    "        dataloaders=None, fold=None, verbose=False) -> tuple:\n",
    "    \n",
    "    name = \"./Fold_{}_state.pt\".format(fold)\n",
    "    \n",
    "    if verbose:\n",
    "        breaker()\n",
    "        print(\"Training Fold {}...\".format(fold))\n",
    "        breaker()\n",
    "    else:\n",
    "        print(\"Training Fold {}...\".format(fold))\n",
    "\n",
    "    Losses = []\n",
    "    bestLoss = {\"train\" : np.inf, \"valid\" : np.inf}\n",
    "\n",
    "    model.to(DEVICE)\n",
    "    start_time = time()\n",
    "    for e in range(epochs):\n",
    "        e_st = time()\n",
    "        epochLoss = {\"train\" : np.inf, \"valid\" : np.inf}\n",
    "\n",
    "        for phase in [\"train\", \"valid\"]:\n",
    "            if phase == \"train\":\n",
    "                model.train()\n",
    "            else:\n",
    "                model.eval()\n",
    "            \n",
    "            lossPerPass = []\n",
    "\n",
    "            for X, y in dataloaders[phase]:\n",
    "                X, y = X.to(DEVICE), y.to(DEVICE)\n",
    "\n",
    "                optimizer.zero_grad()\n",
    "                with torch.set_grad_enabled(phase == \"train\"):\n",
    "                    output = model(X)\n",
    "                    loss = torch.nn.MSELoss()(output, y)\n",
    "                    if phase == \"train\":\n",
    "                        loss.backward()\n",
    "                        optimizer.step()\n",
    "                lossPerPass.append(loss.item())\n",
    "            epochLoss[phase] = np.mean(np.array(lossPerPass))\n",
    "        Losses.append(epochLoss)\n",
    "        \n",
    "        if early_stopping_patience:\n",
    "            if epochLoss[\"valid\"] < bestLoss[\"valid\"]:\n",
    "                bestLoss = epochLoss\n",
    "                BLE = e + 1\n",
    "                torch.save({\"model_state_dict\": model.state_dict(),\n",
    "                            \"optim_state_dict\": optimizer.state_dict()},\n",
    "                           name)\n",
    "                early_stopping_step = 0\n",
    "            else:\n",
    "                early_stopping_step += 1\n",
    "                if early_stopping_step > early_stopping_patience:\n",
    "                    if verbose:\n",
    "                        print(\"\\nEarly Stopping at Epoch {}\".format(e))\n",
    "                    break\n",
    "        \n",
    "        if epochLoss[\"valid\"] < bestLoss[\"valid\"]:\n",
    "            bestLoss = epochLoss\n",
    "            BLE = e + 1\n",
    "            torch.save({\"model_state_dict\": model.state_dict(),\n",
    "                        \"optim_state_dict\": optimizer.state_dict()},\n",
    "                       name)\n",
    "        \n",
    "        if scheduler:\n",
    "            scheduler.step(epochLoss[\"valid\"])\n",
    "        \n",
    "        if verbose:\n",
    "            print(\"Epoch: {} | Train Loss: {:.5f} | Valid Loss: {:.5f} | Time: {:.2f} seconds\".format(e+1, epochLoss[\"train\"], epochLoss[\"valid\"], time()-e_st))\n",
    "    \n",
    "    if verbose:\n",
    "        breaker()\n",
    "        print(\"Best Validation Loss at Epoch {}\".format(BLE))\n",
    "        breaker()\n",
    "        print(\"Time Taken [{} Epochs] : {:.2f} minutes\".format(len(Losses), (time()-start_time)/60))\n",
    "        breaker()\n",
    "        print(\"Training Completed\")\n",
    "        breaker()\n",
    "\n",
    "    return Losses, BLE, name\n",
    "\n",
    "#####################################################################################################\n",
    "\n",
    "def predict_batch(model=None, dataloader=None, mode=\"test\", path=None) -> np.ndarray:\n",
    "    model.load_state_dict(torch.load(path, map_location=DEVICE)[\"model_state_dict\"])\n",
    "    model.to(DEVICE)\n",
    "    model.eval()\n",
    "\n",
    "    y_pred = torch.zeros(1, 1).to(DEVICE)\n",
    "    if re.match(r\"valid\", mode, re.IGNORECASE):\n",
    "        for X, _ in dataloader:\n",
    "            X = X.to(DEVICE)\n",
    "            with torch.no_grad():\n",
    "                output = model(X)\n",
    "            y_pred = torch.cat((y_pred, output.view(-1, 1)), dim=0)\n",
    "    elif re.match(r\"test\", mode, re.IGNORECASE):\n",
    "        for X in dataloader:\n",
    "            X = X.to(DEVICE)\n",
    "            with torch.no_grad():\n",
    "                output = model(X)\n",
    "            y_pred = torch.cat((y_pred, output.view(-1, 1)), dim=0)\n",
    "    \n",
    "    return y_pred[1:].detach().cpu().numpy()"
   ]
  },
  {
   "cell_type": "markdown",
   "id": "7373667d",
   "metadata": {
    "papermill": {
     "duration": 0.011736,
     "end_time": "2021-10-08T22:11:24.984526",
     "exception": false,
     "start_time": "2021-10-08T22:11:24.972790",
     "status": "completed"
    },
    "tags": []
   },
   "source": [
    "## Train Helper"
   ]
  },
  {
   "cell_type": "code",
   "execution_count": 9,
   "id": "49603574",
   "metadata": {
    "execution": {
     "iopub.execute_input": "2021-10-08T22:11:25.021291Z",
     "iopub.status.busy": "2021-10-08T22:11:25.020492Z",
     "iopub.status.idle": "2021-10-08T22:11:25.022925Z",
     "shell.execute_reply": "2021-10-08T22:11:25.022494Z",
     "shell.execute_reply.started": "2021-10-08T20:51:00.162332Z"
    },
    "papermill": {
     "duration": 0.026455,
     "end_time": "2021-10-08T22:11:25.023039",
     "exception": false,
     "start_time": "2021-10-08T22:11:24.996584",
     "status": "completed"
    },
    "tags": []
   },
   "outputs": [],
   "source": [
    "def train(features: np.ndarray, targets: np.ndarray,\n",
    "          n_splits: int, batch_size: int, lr: float, wd: float, \n",
    "          epochs: int, early_stopping: int, \n",
    "          patience=None, eps=None) -> list:        \n",
    "    \n",
    "    metrics = []\n",
    "        \n",
    "    KFold_start_time = time()\n",
    "    breaker()\n",
    "    print(\"Performing {} Fold CV ...\".format(n_splits))\n",
    "    breaker()\n",
    "    fold = 1\n",
    "    for tr_idx, va_idx in KFold(n_splits=n_splits, shuffle=True, random_state=SEED).split(features):\n",
    "\n",
    "        tr_features, va_features = features[tr_idx], features[va_idx]\n",
    "        tr_targets, va_targets   = targets[tr_idx], targets[va_idx]\n",
    "\n",
    "        tr_targets, va_targets   = tr_targets.reshape(-1, 1), va_targets.reshape(-1, 1)\n",
    "\n",
    "        tr_targets = sc_y.fit_transform(tr_targets)\n",
    "        va_targets = sc_y.transform(va_targets)\n",
    "\n",
    "        dataloaders = build_dataloaders(tr_features, va_features, \n",
    "                                         tr_targets, va_targets, \n",
    "                                         batch_size, SEED)\n",
    "        model = build_model(IL=tr_features.shape[1], seed=SEED)\n",
    "        \n",
    "        optimizer = model.get_optimizer(lr=lr, wd=wd)\n",
    "        scheduler = None\n",
    "        if isinstance(patience, int) and isinstance(eps, float):\n",
    "            scheduler = model.get_plateau_scheduler(optimizer, patience, eps)\n",
    "\n",
    "        L, _, name = fit(model=model, optimizer=optimizer, scheduler=scheduler, \n",
    "                         epochs=epochs, early_stopping_patience=early_stopping,\n",
    "                         dataloaders=dataloaders, fold=fold, verbose=False)\n",
    "        y_pred = predict_batch(model=model, dataloader=dataloaders[\"valid\"], mode=\"valid\", path=name)\n",
    "        RMSE = np.sqrt(mean_squared_error(sc_y.inverse_transform(y_pred), sc_y.inverse_transform(va_targets)))\n",
    "        # print(\"Validation RMSE [Fold {}]: {:.5f}\".format(fold, RMSE))\n",
    "        # breaker()\n",
    "        # show_graphs(L)\n",
    "        \n",
    "        metrics_dict = {\"Fold\" : fold, \"RMSE\" : RMSE}\n",
    "        metrics.append(metrics_dict)\n",
    "        \n",
    "        fold += 1\n",
    "    \n",
    "    breaker()\n",
    "    print(\"Total Time to {} Fold CV : {:.2f} minutes\".format(n_splits, (time() - KFold_start_time)/60))\n",
    "    breaker()\n",
    "    \n",
    "    return metrics"
   ]
  },
  {
   "cell_type": "markdown",
   "id": "41abf5a9",
   "metadata": {
    "papermill": {
     "duration": 0.012023,
     "end_time": "2021-10-08T22:11:25.047169",
     "exception": false,
     "start_time": "2021-10-08T22:11:25.035146",
     "status": "completed"
    },
    "tags": []
   },
   "source": [
    "## Main"
   ]
  },
  {
   "cell_type": "code",
   "execution_count": 10,
   "id": "d89d275d",
   "metadata": {
    "execution": {
     "iopub.execute_input": "2021-10-08T22:11:25.074126Z",
     "iopub.status.busy": "2021-10-08T22:11:25.073262Z",
     "iopub.status.idle": "2021-10-08T22:13:21.909282Z",
     "shell.execute_reply": "2021-10-08T22:13:21.908764Z",
     "shell.execute_reply.started": "2021-10-08T20:51:03.050511Z"
    },
    "papermill": {
     "duration": 116.850171,
     "end_time": "2021-10-08T22:13:21.909430",
     "exception": false,
     "start_time": "2021-10-08T22:11:25.059259",
     "status": "completed"
    },
    "tags": []
   },
   "outputs": [
    {
     "name": "stdout",
     "output_type": "stream",
     "text": [
      "\n",
      "**************************************************\n",
      "\n",
      "Performing 10 Fold CV ...\n",
      "\n",
      "**************************************************\n",
      "\n",
      "Training Fold 1...\n",
      "Training Fold 2...\n",
      "Training Fold 3...\n",
      "Training Fold 4...\n",
      "Training Fold 5...\n",
      "Training Fold 6...\n",
      "Training Fold 7...\n",
      "Training Fold 8...\n",
      "Training Fold 9...\n",
      "Training Fold 10...\n",
      "\n",
      "**************************************************\n",
      "\n",
      "Total Time to 10 Fold CV : 1.90 minutes\n",
      "\n",
      "**************************************************\n",
      "\n",
      "{'Fold': 1, 'RMSE': 19.491077790237732}\n",
      "{'Fold': 2, 'RMSE': 18.48935791467796}\n",
      "{'Fold': 3, 'RMSE': 17.980996649168716}\n",
      "{'Fold': 4, 'RMSE': 18.916491092376397}\n",
      "{'Fold': 5, 'RMSE': 18.82586809608486}\n",
      "{'Fold': 6, 'RMSE': 17.703799372484617}\n",
      "{'Fold': 7, 'RMSE': 17.5950873464753}\n",
      "{'Fold': 8, 'RMSE': 17.980944969561286}\n",
      "{'Fold': 9, 'RMSE': 18.50709019707002}\n",
      "{'Fold': 10, 'RMSE': 19.273313565174597}\n",
      "\n",
      "**************************************************\n",
      "\n"
     ]
    }
   ],
   "source": [
    "def main():\n",
    "    DEBUG = False\n",
    "    \n",
    "    ########### Params ###########\n",
    "    \n",
    "    if DEBUG:\n",
    "        n_splits = 3\n",
    "        batch_size = 512\n",
    "        lr, wd = 1e-3, 0\n",
    "        patience, eps = 5, 1e-8\n",
    "        epochs, early_stopping = 5, 5\n",
    "    else:\n",
    "        n_splits = 10\n",
    "        batch_size = 32\n",
    "        lr, wd = 1e-2, 0\n",
    "        patience, eps = 5, 1e-8\n",
    "        epochs, early_stopping = 100, 8\n",
    "    \n",
    "    ##############################\n",
    "\n",
    "    # breaker()\n",
    "    # print(\"Loading Data ...\")\n",
    "    \n",
    "    features = np.load(os.path.join(FEATURES_PATH, \"densenet169_features.npy\"))\n",
    "    targets = get_targets(PATH)\n",
    "\n",
    "    # Without Scheduler\n",
    "    metrics = train(features, targets, n_splits, batch_size, lr, wd, epochs, early_stopping, patience=None, eps=None)\n",
    "    \n",
    "    # # With Plateau Scheduler\n",
    "    # metrics = train(features, targets, n_splits, batch_size, lr, wd, epochs, early_stopping, patience=patience, eps=eps)    \n",
    "    \n",
    "    for i in range(len(metrics)):\n",
    "        print(metrics[i])\n",
    "\n",
    "    with open(\"metrics.pkl\", \"wb\") as fp:\n",
    "        pickle.dump(metrics, fp)\n",
    "    \n",
    "    breaker()\n",
    "\n",
    "main()"
   ]
  },
  {
   "cell_type": "code",
   "execution_count": 11,
   "id": "169920c0",
   "metadata": {
    "execution": {
     "iopub.execute_input": "2021-10-08T22:13:21.945901Z",
     "iopub.status.busy": "2021-10-08T22:13:21.944355Z",
     "iopub.status.idle": "2021-10-08T22:13:21.948228Z",
     "shell.execute_reply": "2021-10-08T22:13:21.947763Z",
     "shell.execute_reply.started": "2021-10-08T20:50:35.074944Z"
    },
    "papermill": {
     "duration": 0.023636,
     "end_time": "2021-10-08T22:13:21.948332",
     "exception": false,
     "start_time": "2021-10-08T22:13:21.924696",
     "status": "completed"
    },
    "tags": []
   },
   "outputs": [
    {
     "name": "stdout",
     "output_type": "stream",
     "text": [
      "\n",
      "**************************************************\n",
      "\n",
      "Notebook Run Time : 2.05 minutes\n",
      "\n",
      "**************************************************\n",
      "\n"
     ]
    }
   ],
   "source": [
    "breaker()\n",
    "print(\"Notebook Run Time : {:.2f} minutes\".format((time()-notebook_start_time)/60))\n",
    "breaker()"
   ]
  }
 ],
 "metadata": {
  "kernelspec": {
   "display_name": "Python 3",
   "language": "python",
   "name": "python3"
  },
  "language_info": {
   "codemirror_mode": {
    "name": "ipython",
    "version": 3
   },
   "file_extension": ".py",
   "mimetype": "text/x-python",
   "name": "python",
   "nbconvert_exporter": "python",
   "pygments_lexer": "ipython3",
   "version": "3.7.10"
  },
  "papermill": {
   "default_parameters": {},
   "duration": 130.587251,
   "end_time": "2021-10-08T22:13:23.367668",
   "environment_variables": {},
   "exception": null,
   "input_path": "__notebook__.ipynb",
   "output_path": "__notebook__.ipynb",
   "parameters": {},
   "start_time": "2021-10-08T22:11:12.780417",
   "version": "2.3.3"
  }
 },
 "nbformat": 4,
 "nbformat_minor": 5
}
