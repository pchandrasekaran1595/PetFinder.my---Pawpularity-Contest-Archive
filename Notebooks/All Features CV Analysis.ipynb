{
  "nbformat": 4,
  "nbformat_minor": 0,
  "metadata": {
    "colab": {
      "name": "PetFinder - All Features CV Analysis",
      "provenance": [],
      "collapsed_sections": []
    },
    "kernelspec": {
      "name": "python3",
      "display_name": "Python 3"
    },
    "language_info": {
      "name": "python"
    },
    "accelerator": "GPU"
  },
  "cells": [
    {
      "cell_type": "markdown",
      "metadata": {
        "id": "9kTHAS5AKIR8"
      },
      "source": [
        "## Get Data"
      ]
    },
    {
      "cell_type": "code",
      "metadata": {
        "id": "n-0PMj0SJiFb"
      },
      "source": [
        "from IPython.display import clear_output\n",
        "from google.colab import files\n",
        "files.upload()\n",
        "\n",
        "!pip install -q kaggle\n",
        "!mkdir -p ~/.kaggle\n",
        "!cp kaggle.json ~/.kaggle/\n",
        "!ls ~/.kaggle\n",
        "!chmod 600 /root/.kaggle/kaggle.json\n",
        "\n",
        "!kaggle datasets download -d jackstapleton/petfinder-pretrained-features-ua-all\n",
        "\n",
        "!mkdir ~/.data\n",
        "!unzip -q petfinder-pretrained-features-ua-all.zip -d /.data\n",
        "\n",
        "clear_output()"
      ],
      "execution_count": 1,
      "outputs": []
    },
    {
      "cell_type": "code",
      "metadata": {
        "id": "RnmrH2ftKMia"
      },
      "source": [
        "from google.colab import drive\n",
        "drive.mount(\"/content/gdrive\")\n",
        "\n",
        "clear_output()"
      ],
      "execution_count": 2,
      "outputs": []
    },
    {
      "cell_type": "markdown",
      "metadata": {
        "id": "38nmyCDEKRch"
      },
      "source": [
        "## Library Imports"
      ]
    },
    {
      "cell_type": "code",
      "metadata": {
        "id": "NNHd2aujKTDg"
      },
      "source": [
        "import os\n",
        "import re\n",
        "import pickle\n",
        "import numpy as np\n",
        "import pandas as pd\n",
        "import matplotlib.pyplot as plt\n",
        "\n",
        "import torch\n",
        "from torch import nn, optim\n",
        "from torch.utils.data import Dataset\n",
        "from torch.utils.data import DataLoader as DL\n",
        "from torch.nn.utils import weight_norm as WN\n",
        "from torchvision import models, transforms\n",
        "\n",
        "from time import time\n",
        "from sklearn.model_selection import KFold\n",
        "from sklearn.metrics import mean_squared_error\n",
        "from sklearn.preprocessing import StandardScaler\n",
        "\n",
        "import warnings\n",
        "warnings.filterwarnings(\"ignore\")"
      ],
      "execution_count": 3,
      "outputs": []
    },
    {
      "cell_type": "markdown",
      "metadata": {
        "id": "zkkFhiO4KXy6"
      },
      "source": [
        "## Constants and Utilities"
      ]
    },
    {
      "cell_type": "code",
      "metadata": {
        "id": "oOtRJ-GIKYmR"
      },
      "source": [
        "SEED = 0\n",
        "DEVICE = torch.device(\"cuda\" if torch.cuda.is_available() else \"cpu\")\n",
        "\n",
        "FEATURES_PATH = \"/.data\"\n",
        "TARGETS_PATH  = \"/content/gdrive/My Drive\"\n",
        "\n",
        "sc_y = StandardScaler()"
      ],
      "execution_count": 4,
      "outputs": []
    },
    {
      "cell_type": "code",
      "metadata": {
        "id": "SgEqZ9dUKiQq"
      },
      "source": [
        "def breaker(num=50, char=\"*\") -> None:\n",
        "    print(\"\\n\" + num*char + \"\\n\")\n",
        "\n",
        "\n",
        "def head(x, no_of_ele=5) -> None:\n",
        "    print(x[:no_of_ele])\n",
        "\n",
        "\n",
        "def get_targets(path: str) -> np.ndarray:\n",
        "    df = pd.read_csv(os.path.join(path, \"train.csv\"), engine=\"python\")\n",
        "    targets  = df.iloc[:, -1].copy().values\n",
        "    return targets\n",
        "\n",
        "\n",
        "def show_graphs(L: list) -> None:\n",
        "    TL, VL = [], []\n",
        "    for i in range(len(L)):\n",
        "        TL.append(L[i][\"train\"])\n",
        "        VL.append(L[i][\"valid\"])    \n",
        "    \n",
        "    x_Axis = np.arange(1, len(L) + 1)\n",
        "    plt.figure()\n",
        "    plt.plot(x_Axis, TL, \"r\", label=\"train\")\n",
        "    plt.plot(x_Axis, VL, \"b\", label=\"valid\")\n",
        "    plt.grid()\n",
        "    plt.legend()\n",
        "    plt.title(\"MSE Loss\")\n",
        "    plt.show()"
      ],
      "execution_count": 5,
      "outputs": []
    },
    {
      "cell_type": "markdown",
      "metadata": {
        "id": "_V2zll0jKt9R"
      },
      "source": [
        "## Dataset Template"
      ]
    },
    {
      "cell_type": "code",
      "metadata": {
        "id": "I70_x-3TKtbv"
      },
      "source": [
        "class DS(Dataset):\n",
        "    def __init__(self, features=None, targets=None):\n",
        "        self.features = features\n",
        "        self.targets  = targets\n",
        "        \n",
        "    def __len__(self):\n",
        "        return self.features.shape[0]\n",
        "    \n",
        "    def __getitem__(self, idx):\n",
        "        return torch.FloatTensor(self.features[idx]), torch.FloatTensor(self.targets[idx])"
      ],
      "execution_count": 6,
      "outputs": []
    },
    {
      "cell_type": "markdown",
      "metadata": {
        "id": "aNKpPwDWKxFD"
      },
      "source": [
        "## Build Dataloaders"
      ]
    },
    {
      "cell_type": "code",
      "metadata": {
        "id": "FXxkPSWbKvR4"
      },
      "source": [
        "def build_dataloaders(tr_features: np.ndarray, va_features: np.ndarray,\n",
        "                      tr_targets: np.ndarray, va_targets: np.ndarray,\n",
        "                      batch_size: int, seed: int):\n",
        "\n",
        "    # breaker()\n",
        "    # print(\"Building Train and Validation DataLoaders ...\")\n",
        "    \n",
        "    tr_data_setup = DS(features=tr_features, targets=tr_targets)\n",
        "    va_data_setup = DS(features=va_features, targets=va_targets)\n",
        "    \n",
        "    dataloaders = {\n",
        "        \"train\" : DL(tr_data_setup, batch_size=batch_size, shuffle=True, generator=torch.manual_seed(seed)),\n",
        "        \"valid\" : DL(va_data_setup, batch_size=batch_size, shuffle=False)\n",
        "    }\n",
        "    \n",
        "    return dataloaders"
      ],
      "execution_count": 7,
      "outputs": []
    },
    {
      "cell_type": "markdown",
      "metadata": {
        "id": "MqtZJEFoK1Ct"
      },
      "source": [
        "# Build Model"
      ]
    },
    {
      "cell_type": "code",
      "metadata": {
        "id": "cS9DM0KYKyxB"
      },
      "source": [
        "def build_model(IL: int, seed: int):\n",
        "    class ANN(nn.Module):\n",
        "        def __init__(self, IL=None):\n",
        "            super(ANN, self).__init__()\n",
        "\n",
        "            self.predictor = nn.Sequential()\n",
        "            self.predictor.add_module(\"BN\", nn.BatchNorm1d(num_features=IL, eps=1e-5))\n",
        "            self.predictor.add_module(\"FC\", WN(nn.Linear(in_features=IL, out_features=1)))\n",
        "\n",
        "        def get_optimizer(self, lr=1e-3, wd=0):\n",
        "            params = [p for p in self.parameters() if p.requires_grad]\n",
        "            return optim.Adam(params, lr=lr, weight_decay=wd)\n",
        "\n",
        "        def get_plateau_scheduler(self, optimizer=None, patience=5, eps=1e-8):\n",
        "            return optim.lr_scheduler.ReduceLROnPlateau(optimizer=optimizer, patience=patience, eps=eps, verbose=True)\n",
        "\n",
        "        def forward(self, x):\n",
        "            return self.predictor(x)\n",
        "    \n",
        "    # breaker()\n",
        "    # print(\"Building Model ...\")\n",
        "    # print(\"\\n{} -> 1\".format(IL))\n",
        "    \n",
        "    torch.manual_seed(seed)\n",
        "    model = ANN(IL=IL)\n",
        "    \n",
        "    return model"
      ],
      "execution_count": 8,
      "outputs": []
    },
    {
      "cell_type": "code",
      "metadata": {
        "id": "BIExRJquK2mV"
      },
      "source": [
        "def fit(model=None, optimizer=None, scheduler=None, \n",
        "        epochs=None, early_stopping_patience=None,\n",
        "        dataloaders=None, model_name=None, fold=None, \n",
        "        verbose=False) -> tuple:\n",
        "    \n",
        "    name = \"./{}_Fold_{}_state.pt\".format(model_name, fold)\n",
        "    \n",
        "    # breaker()\n",
        "    # print(\"Training Fold {}...\".format(fold))\n",
        "    # breaker()\n",
        "\n",
        "    Losses = []\n",
        "    bestLoss = {\"train\" : np.inf, \"valid\" : np.inf}\n",
        "\n",
        "    model.to(DEVICE)\n",
        "    start_time = time()\n",
        "    for e in range(epochs):\n",
        "        e_st = time()\n",
        "        epochLoss = {\"train\" : np.inf, \"valid\" : np.inf}\n",
        "\n",
        "        for phase in [\"train\", \"valid\"]:\n",
        "            if phase == \"train\":\n",
        "                model.train()\n",
        "            else:\n",
        "                model.eval()\n",
        "            \n",
        "            lossPerPass = []\n",
        "\n",
        "            for X, y in dataloaders[phase]:\n",
        "                X, y = X.to(DEVICE), y.to(DEVICE)\n",
        "\n",
        "                optimizer.zero_grad()\n",
        "                with torch.set_grad_enabled(phase == \"train\"):\n",
        "                    output = model(X)\n",
        "                    loss = torch.nn.MSELoss()(output, y)\n",
        "                    if phase == \"train\":\n",
        "                        loss.backward()\n",
        "                        optimizer.step()\n",
        "                lossPerPass.append(loss.item())\n",
        "            epochLoss[phase] = np.mean(np.array(lossPerPass))\n",
        "        Losses.append(epochLoss)\n",
        "\n",
        "        if early_stopping_patience:\n",
        "            if epochLoss[\"valid\"] < bestLoss[\"valid\"]:\n",
        "                bestLoss = epochLoss\n",
        "                BLE = e + 1\n",
        "                torch.save({\"model_state_dict\": model.state_dict(),\n",
        "                            \"optim_state_dict\": optimizer.state_dict()},\n",
        "                           name)\n",
        "                early_stopping_step = 0\n",
        "            else:\n",
        "                early_stopping_step += 1\n",
        "                if early_stopping_step > early_stopping_patience:\n",
        "                    # print(\"\\nEarly Stopping at Epoch {}\".format(e))\n",
        "                    break\n",
        "        \n",
        "        if epochLoss[\"valid\"] < bestLoss[\"valid\"]:\n",
        "            bestLoss = epochLoss\n",
        "            BLE = e + 1\n",
        "            torch.save({\"model_state_dict\": model.state_dict(),\n",
        "                        \"optim_state_dict\": optimizer.state_dict()},\n",
        "                       name)\n",
        "        \n",
        "        if scheduler:\n",
        "            scheduler.step(epochLoss[\"valid\"])\n",
        "\n",
        "        \n",
        "        if verbose:\n",
        "            print(\"Epoch: {} | Train Loss: {:.5f} | Valid Loss: {:.5f} | Time: {:.2f} seconds\".format(e+1, epochLoss[\"train\"], epochLoss[\"valid\"], time()-e_st))\n",
        "    \n",
        "    # breaker()\n",
        "    # print(\"Best Validation Loss at Epoch {}\".format(BLE))\n",
        "    # breaker()\n",
        "    # print(\"Time Taken [{} Epochs] : {:.2f} minutes\".format(len(Losses), (time()-start_time)/60))\n",
        "    # breaker()\n",
        "    # print(\"Training Completed\")\n",
        "    # breaker()\n",
        "\n",
        "    return Losses, BLE, name\n",
        "\n",
        "#####################################################################################################\n",
        "\n",
        "def predict_batch(model=None, dataloader=None, mode=\"test\", path=None) -> np.ndarray:\n",
        "    model.load_state_dict(torch.load(path, map_location=DEVICE)[\"model_state_dict\"])\n",
        "    model.to(DEVICE)\n",
        "    model.eval()\n",
        "\n",
        "    y_pred = torch.zeros(1, 1).to(DEVICE)\n",
        "    if re.match(r\"valid\", mode, re.IGNORECASE):\n",
        "        for X, _ in dataloader:\n",
        "            X = X.to(DEVICE)\n",
        "            with torch.no_grad():\n",
        "                output = model(X)\n",
        "            y_pred = torch.cat((y_pred, output.view(-1, 1)), dim=0)\n",
        "    elif re.match(r\"test\", mode, re.IGNORECASE):\n",
        "        for X in dataloader:\n",
        "            X = X.to(DEVICE)\n",
        "            with torch.no_grad():\n",
        "                output = model(X)\n",
        "            y_pred = torch.cat((y_pred, output.view(-1, 1)), dim=0)\n",
        "    \n",
        "    return y_pred[1:].detach().cpu().numpy()"
      ],
      "execution_count": 9,
      "outputs": []
    },
    {
      "cell_type": "code",
      "metadata": {
        "id": "JoZsjzfqLRAI"
      },
      "source": [
        "def train(features: np.ndarray, targets: np.ndarray,\n",
        "          n_splits: int, batch_size: int, lr: float, wd: float, \n",
        "          epochs: int, early_stopping: int,\n",
        "          model_name: str, \n",
        "          patience=None, eps=None) -> list:        \n",
        "    \n",
        "    metrics = []\n",
        "        \n",
        "    KFold_start_time = time()\n",
        "    # breaker()\n",
        "    # print(\"Performing {} Fold CV ...\".format(n_splits))\n",
        "    fold = 1\n",
        "    for tr_idx, va_idx in KFold(n_splits=n_splits, shuffle=True, random_state=SEED).split(features):\n",
        "\n",
        "        tr_features, va_features = features[tr_idx], features[va_idx]\n",
        "        tr_targets, va_targets   = targets[tr_idx], targets[va_idx]\n",
        "\n",
        "        tr_targets, va_targets   = tr_targets.reshape(-1, 1), va_targets.reshape(-1, 1)\n",
        "\n",
        "        tr_targets = sc_y.fit_transform(tr_targets)\n",
        "        va_targets = sc_y.transform(va_targets)\n",
        "\n",
        "        dataloaders = build_dataloaders(tr_features, va_features, \n",
        "                                         tr_targets, va_targets, \n",
        "                                         batch_size, SEED)\n",
        "        model = build_model(IL=tr_features.shape[1], seed=SEED)\n",
        "        \n",
        "        optimizer = model.get_optimizer(lr=lr, wd=wd)\n",
        "        scheduler = None\n",
        "        if isinstance(patience, int) and isinstance(eps, float):\n",
        "            scheduler = model.get_plateau_scheduler(optimizer, patience, eps)\n",
        "        \n",
        "        L, _, name = fit(model=model, optimizer=optimizer, scheduler=scheduler, \n",
        "                         epochs=epochs, early_stopping_patience=early_stopping,\n",
        "                         dataloaders=dataloaders, model_name=model_name, fold=fold, verbose=False)\n",
        "        y_pred = predict_batch(model=model, dataloader=dataloaders[\"valid\"], mode=\"valid\", path=name)\n",
        "        RMSE = np.sqrt(mean_squared_error(sc_y.inverse_transform(y_pred), sc_y.inverse_transform(va_targets)))\n",
        "        # print(\"Validation RMSE [Fold {}]: {:.5f}\".format(fold, RMSE))\n",
        "        # breaker()\n",
        "        # show_graphs(L)\n",
        "        \n",
        "        metrics_dict = {\"Model\" : model_name, \"Fold\" : fold, \"RMSE\" : RMSE}\n",
        "        metrics.append(metrics_dict)\n",
        "        \n",
        "        fold += 1\n",
        "    \n",
        "    # breaker()\n",
        "    # print(\"Total Time to {} Fold CV : {:.2f} minutes\".format(n_splits, (time() - KFold_start_time)/60))\n",
        "    # breaker()\n",
        "    \n",
        "    return metrics, (time() - KFold_start_time)/60"
      ],
      "execution_count": 10,
      "outputs": []
    },
    {
      "cell_type": "markdown",
      "metadata": {
        "id": "8wuCibccLV3M"
      },
      "source": [
        "## Main"
      ]
    },
    {
      "cell_type": "code",
      "metadata": {
        "colab": {
          "base_uri": "https://localhost:8080/"
        },
        "id": "tA0v-i-3LWmi",
        "outputId": "7f5cc192-a117-4b50-8f29-bab23087590b"
      },
      "source": [
        "def main():\n",
        "    DEBUG = False\n",
        "    \n",
        "    ########### Params ###########\n",
        "    \n",
        "    if DEBUG:\n",
        "        n_splits = 3\n",
        "        batch_size = 512\n",
        "        lr, wd = 1e-3, 0\n",
        "        patience, eps = 5, 1e-8\n",
        "        epochs, early_stopping = 5, 5\n",
        "        MODEL_NAMES = [\"resnet18\", \"resnet34\"]\n",
        "    else:\n",
        "        n_splits = 10\n",
        "        batch_size = 32\n",
        "        lr, wd = 1e-2, 0\n",
        "        patience, eps = 5, 1e-8\n",
        "        epochs, early_stopping = 100, 8\n",
        "        MODEL_NAMES  = [\"resnet18\", \"resnet34\", \"resnet50\", \"resnet101\", \"resnet152\",\n",
        "                        \"resnext50\", \"resnext101\",\n",
        "                        \"wresnet50\", \"wresnet101\",\n",
        "                        \"vgg11\", \"vgg13\", \"vgg16\", \"vgg19\",\n",
        "                        \"densenet121\", \"densenet161\", \"densenet169\", \"densenet201\",\n",
        "                        \"mobilenet\"]\n",
        "    \n",
        "    ##############################\n",
        "\n",
        "    complete_metrics = []\n",
        "    # breaker()\n",
        "    # print(\"Loading Data ...\")\n",
        "    \n",
        "    breaker()\n",
        "    for model_name in MODEL_NAMES:\n",
        "\n",
        "        features = np.load(os.path.join(FEATURES_PATH, \"{}_features.npy\".format(model_name)))\n",
        "        targets = get_targets(TARGETS_PATH)\n",
        "\n",
        "        # Without Scheduler\n",
        "        metrics, time_taken = train(features, targets, n_splits, batch_size, lr, wd, epochs, early_stopping, model_name=model_name, patience=None, eps=None)\n",
        "        \n",
        "        # # With Plateau Scheduler\n",
        "        # metrics = train(features, targets, n_splits, batch_size, lr, wd, epochs, early_stopping, model_name=model_name, patience=patience, eps=eps)    \n",
        "\n",
        "        complete_metrics.append(metrics)\n",
        "\n",
        "        print(\"{} Features : {:.2f} minutes\".format(model_name.capitalize(), time_taken))\n",
        "\n",
        "    \n",
        "    # breaker()\n",
        "    # print(\"\\t\\t    --- METRICS --- \\t\\t\\n\")\n",
        "    # for i in range(len(complete_metrics)):\n",
        "    #     for j in range(len(complete_metrics[i])):\n",
        "    #         print(complete_metrics[i][j])\n",
        "\n",
        "    with open(\"/content/complete_metrics.pkl\", \"wb\") as fp:\n",
        "        pickle.dump(complete_metrics, fp)\n",
        "    \n",
        "    breaker()\n",
        "\n",
        "main()"
      ],
      "execution_count": 11,
      "outputs": [
        {
          "output_type": "stream",
          "name": "stdout",
          "text": [
            "\n",
            "**************************************************\n",
            "\n",
            "Resnet18 Features : 2.40 minutes\n",
            "Resnet34 Features : 1.97 minutes\n",
            "Resnet50 Features : 2.49 minutes\n",
            "Resnet101 Features : 2.45 minutes\n",
            "Resnet152 Features : 2.03 minutes\n",
            "Resnext50 Features : 1.95 minutes\n",
            "Resnext101 Features : 2.41 minutes\n",
            "Wresnet50 Features : 1.98 minutes\n",
            "Wresnet101 Features : 1.97 minutes\n",
            "Vgg11 Features : 1.47 minutes\n",
            "Vgg13 Features : 1.49 minutes\n",
            "Vgg16 Features : 1.42 minutes\n",
            "Vgg19 Features : 1.55 minutes\n",
            "Densenet121 Features : 1.89 minutes\n",
            "Densenet161 Features : 1.95 minutes\n",
            "Densenet169 Features : 2.13 minutes\n",
            "Densenet201 Features : 1.69 minutes\n",
            "Mobilenet Features : 2.25 minutes\n",
            "\n",
            "**************************************************\n",
            "\n"
          ]
        }
      ]
    }
  ]
}