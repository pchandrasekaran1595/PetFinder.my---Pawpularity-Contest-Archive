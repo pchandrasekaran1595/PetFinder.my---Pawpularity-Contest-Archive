{
 "cells": [
  {
   "cell_type": "markdown",
   "id": "58d9cd92",
   "metadata": {
    "_cell_guid": "b1076dfc-b9ad-4769-8c92-a6c4dae69d19",
    "_uuid": "8f2839f25d086af736a60e9eeb907d3b93b6e0e5",
    "papermill": {
     "duration": 0.012786,
     "end_time": "2021-10-06T20:46:33.970331",
     "exception": false,
     "start_time": "2021-10-06T20:46:33.957545",
     "status": "completed"
    },
    "tags": []
   },
   "source": [
    "## Library Imports"
   ]
  },
  {
   "cell_type": "code",
   "execution_count": 1,
   "id": "f8378f4e",
   "metadata": {
    "execution": {
     "iopub.execute_input": "2021-10-06T20:46:34.000450Z",
     "iopub.status.busy": "2021-10-06T20:46:33.999008Z",
     "iopub.status.idle": "2021-10-06T20:46:34.075178Z",
     "shell.execute_reply": "2021-10-06T20:46:34.074619Z",
     "shell.execute_reply.started": "2021-10-06T14:55:41.742904Z"
    },
    "papermill": {
     "duration": 0.091461,
     "end_time": "2021-10-06T20:46:34.075321",
     "exception": false,
     "start_time": "2021-10-06T20:46:33.983860",
     "status": "completed"
    },
    "tags": []
   },
   "outputs": [],
   "source": [
    "from time import time\n",
    "notebook_start_time = time()"
   ]
  },
  {
   "cell_type": "code",
   "execution_count": 2,
   "id": "7459d122",
   "metadata": {
    "execution": {
     "iopub.execute_input": "2021-10-06T20:46:34.104789Z",
     "iopub.status.busy": "2021-10-06T20:46:34.104099Z",
     "iopub.status.idle": "2021-10-06T20:46:39.442361Z",
     "shell.execute_reply": "2021-10-06T20:46:39.441281Z",
     "shell.execute_reply.started": "2021-10-06T14:55:41.749549Z"
    },
    "papermill": {
     "duration": 5.35544,
     "end_time": "2021-10-06T20:46:39.442520",
     "exception": false,
     "start_time": "2021-10-06T20:46:34.087080",
     "status": "completed"
    },
    "tags": []
   },
   "outputs": [],
   "source": [
    "import os\n",
    "import re\n",
    "import pickle\n",
    "import numpy as np\n",
    "import pandas as pd\n",
    "import matplotlib.pyplot as plt\n",
    "\n",
    "import torch\n",
    "from torch import nn, optim\n",
    "from torch.utils.data import Dataset\n",
    "from torch.utils.data import DataLoader as DL\n",
    "from torch.nn.utils import weight_norm as WN\n",
    "from torchvision import models, transforms\n",
    "\n",
    "from sklearn.model_selection import KFold\n",
    "from sklearn.metrics import mean_squared_error\n",
    "from sklearn.preprocessing import StandardScaler"
   ]
  },
  {
   "cell_type": "markdown",
   "id": "41536fb4",
   "metadata": {
    "papermill": {
     "duration": 0.011393,
     "end_time": "2021-10-06T20:46:39.465773",
     "exception": false,
     "start_time": "2021-10-06T20:46:39.454380",
     "status": "completed"
    },
    "tags": []
   },
   "source": [
    "## Constants and Utilities"
   ]
  },
  {
   "cell_type": "code",
   "execution_count": 3,
   "id": "0315eb11",
   "metadata": {
    "execution": {
     "iopub.execute_input": "2021-10-06T20:46:39.534359Z",
     "iopub.status.busy": "2021-10-06T20:46:39.533843Z",
     "iopub.status.idle": "2021-10-06T20:46:39.537540Z",
     "shell.execute_reply": "2021-10-06T20:46:39.537095Z",
     "shell.execute_reply.started": "2021-10-06T14:55:41.761827Z"
    },
    "papermill": {
     "duration": 0.06033,
     "end_time": "2021-10-06T20:46:39.537647",
     "exception": false,
     "start_time": "2021-10-06T20:46:39.477317",
     "status": "completed"
    },
    "tags": []
   },
   "outputs": [],
   "source": [
    "SEED = 0\n",
    "DEVICE = torch.device(\"cuda\" if torch.cuda.is_available() else \"cpu\")\n",
    "PATH = \"../input/petfinder-pawpularity-score\"\n",
    "FEATURES_PATH = \"../input/petfinder-pretrained-features-unaugmented\"\n",
    "MODEL_NAME = \"mobilenet\"\n",
    "\n",
    "sc_y = StandardScaler()"
   ]
  },
  {
   "cell_type": "code",
   "execution_count": 4,
   "id": "aba6f44e",
   "metadata": {
    "execution": {
     "iopub.execute_input": "2021-10-06T20:46:39.570488Z",
     "iopub.status.busy": "2021-10-06T20:46:39.569976Z",
     "iopub.status.idle": "2021-10-06T20:46:39.573057Z",
     "shell.execute_reply": "2021-10-06T20:46:39.573452Z",
     "shell.execute_reply.started": "2021-10-06T14:55:41.769854Z"
    },
    "papermill": {
     "duration": 0.024467,
     "end_time": "2021-10-06T20:46:39.573600",
     "exception": false,
     "start_time": "2021-10-06T20:46:39.549133",
     "status": "completed"
    },
    "tags": []
   },
   "outputs": [],
   "source": [
    "def breaker(num=50, char=\"*\") -> None:\n",
    "    print(\"\\n\" + num*char + \"\\n\")\n",
    "\n",
    "\n",
    "def head(x, no_of_ele=5) -> None:\n",
    "    print(x[:no_of_ele])\n",
    "\n",
    "\n",
    "def get_targets(path: str) -> np.ndarray:\n",
    "    df = pd.read_csv(os.path.join(path, \"train.csv\"), engine=\"python\")\n",
    "    targets  = df.iloc[:, -1].copy().values\n",
    "    return targets\n",
    "\n",
    "\n",
    "def normalize(x):\n",
    "    for i in range(x.shape[0]):\n",
    "        x[i] = (x[i] - torch.min(x[i])) / (torch.max(x[i]) - torch.min(x[i]))\n",
    "    return x\n",
    "\n",
    "\n",
    "def show_graphs(L: list) -> None:\n",
    "    TL, VL = [], []\n",
    "    for i in range(len(L)):\n",
    "        TL.append(L[i][\"train\"])\n",
    "        VL.append(L[i][\"valid\"])    \n",
    "    \n",
    "    x_Axis = np.arange(1, len(L) + 1)\n",
    "    plt.figure()\n",
    "    plt.plot(x_Axis, TL, \"r\", label=\"train\")\n",
    "    plt.plot(x_Axis, VL, \"b\", label=\"valid\")\n",
    "    plt.grid()\n",
    "    plt.legend()\n",
    "    plt.title(\"MSE Loss\")\n",
    "    plt.show()"
   ]
  },
  {
   "cell_type": "markdown",
   "id": "5e3c82d3",
   "metadata": {
    "papermill": {
     "duration": 0.011362,
     "end_time": "2021-10-06T20:46:39.596612",
     "exception": false,
     "start_time": "2021-10-06T20:46:39.585250",
     "status": "completed"
    },
    "tags": []
   },
   "source": [
    "## Dataset Template"
   ]
  },
  {
   "cell_type": "code",
   "execution_count": 5,
   "id": "8a6b179a",
   "metadata": {
    "execution": {
     "iopub.execute_input": "2021-10-06T20:46:39.625752Z",
     "iopub.status.busy": "2021-10-06T20:46:39.624290Z",
     "iopub.status.idle": "2021-10-06T20:46:39.627659Z",
     "shell.execute_reply": "2021-10-06T20:46:39.628064Z",
     "shell.execute_reply.started": "2021-10-06T14:55:41.786375Z"
    },
    "papermill": {
     "duration": 0.018924,
     "end_time": "2021-10-06T20:46:39.628177",
     "exception": false,
     "start_time": "2021-10-06T20:46:39.609253",
     "status": "completed"
    },
    "tags": []
   },
   "outputs": [],
   "source": [
    "class DS(Dataset):\n",
    "    def __init__(self, features=None, targets=None):\n",
    "        self.features = features\n",
    "        self.targets  = targets\n",
    "        \n",
    "    def __len__(self):\n",
    "        return self.features.shape[0]\n",
    "    \n",
    "    def __getitem__(self, idx):\n",
    "        return torch.FloatTensor(self.features[idx]), torch.FloatTensor(self.targets[idx])"
   ]
  },
  {
   "cell_type": "markdown",
   "id": "807a84fc",
   "metadata": {
    "papermill": {
     "duration": 0.01164,
     "end_time": "2021-10-06T20:46:39.651379",
     "exception": false,
     "start_time": "2021-10-06T20:46:39.639739",
     "status": "completed"
    },
    "tags": []
   },
   "source": [
    "## Build Dataloaders"
   ]
  },
  {
   "cell_type": "code",
   "execution_count": 6,
   "id": "bfd1a229",
   "metadata": {
    "execution": {
     "iopub.execute_input": "2021-10-06T20:46:39.681562Z",
     "iopub.status.busy": "2021-10-06T20:46:39.680734Z",
     "iopub.status.idle": "2021-10-06T20:46:39.683218Z",
     "shell.execute_reply": "2021-10-06T20:46:39.682770Z",
     "shell.execute_reply.started": "2021-10-06T14:55:41.79546Z"
    },
    "papermill": {
     "duration": 0.020127,
     "end_time": "2021-10-06T20:46:39.683328",
     "exception": false,
     "start_time": "2021-10-06T20:46:39.663201",
     "status": "completed"
    },
    "tags": []
   },
   "outputs": [],
   "source": [
    "def build_dataloaders(tr_features: np.ndarray, va_features: np.ndarray,\n",
    "                      tr_targets: np.ndarray, va_targets: np.ndarray,\n",
    "                      batch_size: int, seed: int):\n",
    "\n",
    "    breaker()\n",
    "    print(\"Building Train and Validation DataLoaders ...\")\n",
    "    \n",
    "    tr_data_setup = DS(features=tr_features, targets=tr_targets)\n",
    "    va_data_setup = DS(features=va_features, targets=va_targets)\n",
    "    \n",
    "    dataloaders = {\n",
    "        \"train\" : DL(tr_data_setup, batch_size=batch_size, shuffle=True, generator=torch.manual_seed(seed)),\n",
    "        \"valid\" : DL(va_data_setup, batch_size=batch_size, shuffle=False)\n",
    "    }\n",
    "    \n",
    "    return dataloaders"
   ]
  },
  {
   "cell_type": "markdown",
   "id": "9187ca7f",
   "metadata": {
    "papermill": {
     "duration": 0.011675,
     "end_time": "2021-10-06T20:46:39.707164",
     "exception": false,
     "start_time": "2021-10-06T20:46:39.695489",
     "status": "completed"
    },
    "tags": []
   },
   "source": [
    "## Build Model"
   ]
  },
  {
   "cell_type": "code",
   "execution_count": 7,
   "id": "e73311a4",
   "metadata": {
    "execution": {
     "iopub.execute_input": "2021-10-06T20:46:39.740750Z",
     "iopub.status.busy": "2021-10-06T20:46:39.738611Z",
     "iopub.status.idle": "2021-10-06T20:46:39.742657Z",
     "shell.execute_reply": "2021-10-06T20:46:39.743289Z",
     "shell.execute_reply.started": "2021-10-06T14:55:41.804262Z"
    },
    "papermill": {
     "duration": 0.023952,
     "end_time": "2021-10-06T20:46:39.743405",
     "exception": false,
     "start_time": "2021-10-06T20:46:39.719453",
     "status": "completed"
    },
    "tags": []
   },
   "outputs": [],
   "source": [
    "def build_model(IL: int, seed: int):\n",
    "    class ANN(nn.Module):\n",
    "        def __init__(self, IL=None):\n",
    "            super(ANN, self).__init__()\n",
    "\n",
    "            self.predictor = nn.Sequential()\n",
    "            self.predictor.add_module(\"BN\", nn.BatchNorm1d(num_features=IL, eps=1e-5))\n",
    "            self.predictor.add_module(\"FC\", WN(nn.Linear(in_features=IL, out_features=1)))\n",
    "\n",
    "        def get_optimizer(self, lr=1e-3, wd=0):\n",
    "            params = [p for p in self.parameters() if p.requires_grad]\n",
    "            return optim.Adam(params, lr=lr, weight_decay=wd)\n",
    "\n",
    "        def get_plateau_scheduler(self, optimizer=None, patience=5, eps=1e-8):\n",
    "            return optim.lr_scheduler.ReduceLROnPlateau(optimizer=optimizer, patience=patience, eps=eps, verbose=True)\n",
    "\n",
    "        def forward(self, x):\n",
    "            return self.predictor(x)\n",
    "    \n",
    "    breaker()\n",
    "    print(\"Building Model ...\")\n",
    "    print(\"\\n{} -> 1\".format(IL))\n",
    "    \n",
    "    torch.manual_seed(seed)\n",
    "    model = ANN(IL=IL)\n",
    "    \n",
    "    return model"
   ]
  },
  {
   "cell_type": "markdown",
   "id": "41aa500b",
   "metadata": {
    "papermill": {
     "duration": 0.012581,
     "end_time": "2021-10-06T20:46:39.767805",
     "exception": false,
     "start_time": "2021-10-06T20:46:39.755224",
     "status": "completed"
    },
    "tags": []
   },
   "source": [
    "## Fit and Predict Helpers"
   ]
  },
  {
   "cell_type": "code",
   "execution_count": 8,
   "id": "42e00522",
   "metadata": {
    "execution": {
     "iopub.execute_input": "2021-10-06T20:46:39.804882Z",
     "iopub.status.busy": "2021-10-06T20:46:39.800328Z",
     "iopub.status.idle": "2021-10-06T20:46:39.815846Z",
     "shell.execute_reply": "2021-10-06T20:46:39.815436Z",
     "shell.execute_reply.started": "2021-10-06T14:55:41.816784Z"
    },
    "papermill": {
     "duration": 0.035814,
     "end_time": "2021-10-06T20:46:39.815947",
     "exception": false,
     "start_time": "2021-10-06T20:46:39.780133",
     "status": "completed"
    },
    "tags": []
   },
   "outputs": [],
   "source": [
    "def fit(model=None, optimizer=None, scheduler=None, \n",
    "        epochs=None, early_stopping_patience=None,\n",
    "        dataloaders=None, fold=None, verbose=False) -> tuple:\n",
    "    \n",
    "    name = \"./Fold_{}_state.pt\".format(fold)\n",
    "    \n",
    "    breaker()\n",
    "    print(\"Training Fold {}...\".format(fold))\n",
    "    breaker()\n",
    "\n",
    "    Losses = []\n",
    "    bestLoss = {\"train\" : np.inf, \"valid\" : np.inf}\n",
    "\n",
    "    model.to(DEVICE)\n",
    "    start_time = time()\n",
    "    for e in range(epochs):\n",
    "        e_st = time()\n",
    "        epochLoss = {\"train\" : np.inf, \"valid\" : np.inf}\n",
    "\n",
    "        for phase in [\"train\", \"valid\"]:\n",
    "            if phase == \"train\":\n",
    "                model.train()\n",
    "            else:\n",
    "                model.eval()\n",
    "            \n",
    "            lossPerPass = []\n",
    "\n",
    "            for X, y in dataloaders[phase]:\n",
    "                X, y = X.to(DEVICE), y.to(DEVICE)\n",
    "\n",
    "                optimizer.zero_grad()\n",
    "                with torch.set_grad_enabled(phase == \"train\"):\n",
    "                    output = model(X)\n",
    "                    loss = torch.nn.MSELoss()(output, y)\n",
    "                    if phase == \"train\":\n",
    "                        loss.backward()\n",
    "                        optimizer.step()\n",
    "                lossPerPass.append(loss.item())\n",
    "            epochLoss[phase] = np.mean(np.array(lossPerPass))\n",
    "        Losses.append(epochLoss)\n",
    "        \n",
    "        if early_stopping_patience:\n",
    "            if epochLoss[\"valid\"] < bestLoss[\"valid\"]:\n",
    "                bestLoss = epochLoss\n",
    "                BLE = e + 1\n",
    "                torch.save({\"model_state_dict\": model.state_dict(),\n",
    "                            \"optim_state_dict\": optimizer.state_dict()},\n",
    "                           name)\n",
    "                early_stopping_step = 0\n",
    "            else:\n",
    "                early_stopping_step += 1\n",
    "                if early_stopping_step > early_stopping_patience:\n",
    "                    print(\"\\nEarly Stopping at Epoch {}\".format(e))\n",
    "                    break\n",
    "        \n",
    "        if epochLoss[\"valid\"] < bestLoss[\"valid\"]:\n",
    "            bestLoss = epochLoss\n",
    "            BLE = e + 1\n",
    "            torch.save({\"model_state_dict\": model.state_dict(),\n",
    "                        \"optim_state_dict\": optimizer.state_dict()},\n",
    "                       name)\n",
    "        \n",
    "        if scheduler:\n",
    "            scheduler.step(epochLoss[\"valid\"])\n",
    "        \n",
    "        if verbose:\n",
    "            print(\"Epoch: {} | Train Loss: {:.5f} | Valid Loss: {:.5f} | Time: {:.2f} seconds\".format(e+1, epochLoss[\"train\"], epochLoss[\"valid\"], time()-e_st))\n",
    "    \n",
    "    breaker()\n",
    "    print(\"Best Validation Loss at Epoch {}\".format(BLE))\n",
    "    breaker()\n",
    "    print(\"Time Taken [{} Epochs] : {:.2f} minutes\".format(len(Losses), (time()-start_time)/60))\n",
    "    breaker()\n",
    "    print(\"Training Completed\")\n",
    "    breaker()\n",
    "\n",
    "    return Losses, BLE, name\n",
    "\n",
    "#####################################################################################################\n",
    "\n",
    "def predict_batch(model=None, dataloader=None, mode=\"test\", path=None) -> np.ndarray:\n",
    "    model.load_state_dict(torch.load(path, map_location=DEVICE)[\"model_state_dict\"])\n",
    "    model.to(DEVICE)\n",
    "    model.eval()\n",
    "\n",
    "    y_pred = torch.zeros(1, 1).to(DEVICE)\n",
    "    if re.match(r\"valid\", mode, re.IGNORECASE):\n",
    "        for X, _ in dataloader:\n",
    "            X = X.to(DEVICE)\n",
    "            with torch.no_grad():\n",
    "                output = model(X)\n",
    "            y_pred = torch.cat((y_pred, output.view(-1, 1)), dim=0)\n",
    "    elif re.match(r\"test\", mode, re.IGNORECASE):\n",
    "        for X in dataloader:\n",
    "            X = X.to(DEVICE)\n",
    "            with torch.no_grad():\n",
    "                output = model(X)\n",
    "            y_pred = torch.cat((y_pred, output.view(-1, 1)), dim=0)\n",
    "    \n",
    "    return y_pred[1:].detach().cpu().numpy()"
   ]
  },
  {
   "cell_type": "markdown",
   "id": "7de6da5a",
   "metadata": {
    "papermill": {
     "duration": 0.011645,
     "end_time": "2021-10-06T20:46:39.838996",
     "exception": false,
     "start_time": "2021-10-06T20:46:39.827351",
     "status": "completed"
    },
    "tags": []
   },
   "source": [
    "## Train Helper"
   ]
  },
  {
   "cell_type": "code",
   "execution_count": 9,
   "id": "0678321a",
   "metadata": {
    "execution": {
     "iopub.execute_input": "2021-10-06T20:46:39.875999Z",
     "iopub.status.busy": "2021-10-06T20:46:39.875227Z",
     "iopub.status.idle": "2021-10-06T20:46:39.877486Z",
     "shell.execute_reply": "2021-10-06T20:46:39.877097Z",
     "shell.execute_reply.started": "2021-10-06T14:55:41.860408Z"
    },
    "papermill": {
     "duration": 0.026852,
     "end_time": "2021-10-06T20:46:39.877603",
     "exception": false,
     "start_time": "2021-10-06T20:46:39.850751",
     "status": "completed"
    },
    "tags": []
   },
   "outputs": [],
   "source": [
    "def train(features: np.ndarray, targets: np.ndarray,\n",
    "          n_splits: int, batch_size: int, lr: float, wd: float, \n",
    "          epochs: int, early_stopping: int, \n",
    "          patience=None, eps=None) -> list:        \n",
    "    \n",
    "    metrics = []\n",
    "        \n",
    "    KFold_start_time = time()\n",
    "    breaker()\n",
    "    print(\"Performing {} Fold CV ...\".format(n_splits))\n",
    "    fold = 1\n",
    "    for tr_idx, va_idx in KFold(n_splits=n_splits, shuffle=True, random_state=SEED).split(features):\n",
    "\n",
    "        tr_features, va_features = features[tr_idx], features[va_idx]\n",
    "        tr_targets, va_targets   = targets[tr_idx], targets[va_idx]\n",
    "\n",
    "        tr_targets, va_targets   = tr_targets.reshape(-1, 1), va_targets.reshape(-1, 1)\n",
    "\n",
    "        tr_targets = sc_y.fit_transform(tr_targets)\n",
    "        va_targets = sc_y.transform(va_targets)\n",
    "\n",
    "        dataloaders = build_dataloaders(tr_features, va_features, \n",
    "                                         tr_targets, va_targets, \n",
    "                                         batch_size, SEED)\n",
    "        model = build_model(IL=tr_features.shape[1], seed=SEED)\n",
    "        \n",
    "        optimizer = model.get_optimizer(lr=lr, wd=wd)\n",
    "        scheduler = None\n",
    "        if isinstance(patience, int) and isinstance(eps, float):\n",
    "            scheduler = model.get_plateau_scheduler(optimizer, patience, eps)\n",
    "\n",
    "        L, _, name = fit(model=model, optimizer=optimizer, scheduler=scheduler, \n",
    "                         epochs=epochs, early_stopping_patience=early_stopping,\n",
    "                         dataloaders=dataloaders, fold=fold, verbose=True)\n",
    "        y_pred = predict_batch(model=model, dataloader=dataloaders[\"valid\"], mode=\"valid\", path=name)\n",
    "        RMSE = np.sqrt(mean_squared_error(sc_y.inverse_transform(y_pred), sc_y.inverse_transform(va_targets)))\n",
    "        print(\"Validation RMSE [Fold {}]: {:.5f}\".format(fold, RMSE))\n",
    "        breaker()\n",
    "        show_graphs(L)\n",
    "        \n",
    "        metrics_dict = {\"Fold\" : fold, \"RMSE\" : RMSE}\n",
    "        metrics.append(metrics_dict)\n",
    "        \n",
    "        fold += 1\n",
    "    \n",
    "    breaker()\n",
    "    print(\"Total Time to {} Fold CV : {:.2f} minutes\".format(n_splits, (time() - KFold_start_time)/60))\n",
    "    breaker()\n",
    "    \n",
    "    return metrics"
   ]
  },
  {
   "cell_type": "markdown",
   "id": "b4c67380",
   "metadata": {
    "papermill": {
     "duration": 0.011883,
     "end_time": "2021-10-06T20:46:39.900857",
     "exception": false,
     "start_time": "2021-10-06T20:46:39.888974",
     "status": "completed"
    },
    "tags": []
   },
   "source": [
    "## Main"
   ]
  },
  {
   "cell_type": "code",
   "execution_count": 10,
   "id": "9db95757",
   "metadata": {
    "execution": {
     "iopub.execute_input": "2021-10-06T20:46:39.933445Z",
     "iopub.status.busy": "2021-10-06T20:46:39.932920Z",
     "iopub.status.idle": "2021-10-06T20:48:55.871320Z",
     "shell.execute_reply": "2021-10-06T20:48:55.871736Z",
     "shell.execute_reply.started": "2021-10-06T14:55:41.874853Z"
    },
    "papermill": {
     "duration": 135.95888,
     "end_time": "2021-10-06T20:48:55.871931",
     "exception": false,
     "start_time": "2021-10-06T20:46:39.913051",
     "status": "completed"
    },
    "tags": []
   },
   "outputs": [
    {
     "name": "stdout",
     "output_type": "stream",
     "text": [
      "\n",
      "**************************************************\n",
      "\n",
      "Loading Data ...\n",
      "\n",
      "**************************************************\n",
      "\n",
      "Performing 10 Fold CV ...\n",
      "\n",
      "**************************************************\n",
      "\n",
      "Building Train and Validation DataLoaders ...\n",
      "\n",
      "**************************************************\n",
      "\n",
      "Building Model ...\n",
      "\n",
      "1280 -> 1\n",
      "\n",
      "**************************************************\n",
      "\n",
      "Training Fold 1...\n",
      "\n",
      "**************************************************\n",
      "\n",
      "Epoch: 1 | Train Loss: 0.92365 | Valid Loss: 0.83549 | Time: 0.78 seconds\n",
      "Epoch: 2 | Train Loss: 0.83740 | Valid Loss: 0.84387 | Time: 0.70 seconds\n",
      "Epoch: 3 | Train Loss: 0.82541 | Valid Loss: 0.81103 | Time: 0.90 seconds\n",
      "Epoch: 4 | Train Loss: 0.81659 | Valid Loss: 0.81421 | Time: 0.70 seconds\n",
      "Epoch: 5 | Train Loss: 0.81370 | Valid Loss: 0.82742 | Time: 0.71 seconds\n",
      "Epoch: 6 | Train Loss: 0.80763 | Valid Loss: 0.85303 | Time: 0.70 seconds\n",
      "Epoch: 7 | Train Loss: 0.80306 | Valid Loss: 0.82185 | Time: 0.70 seconds\n",
      "Epoch: 8 | Train Loss: 0.80504 | Valid Loss: 0.81376 | Time: 0.70 seconds\n",
      "Epoch: 9 | Train Loss: 0.80074 | Valid Loss: 0.81456 | Time: 0.67 seconds\n",
      "Epoch: 10 | Train Loss: 0.79938 | Valid Loss: 0.81387 | Time: 0.67 seconds\n",
      "Epoch: 11 | Train Loss: 0.79200 | Valid Loss: 0.80667 | Time: 0.67 seconds\n",
      "Epoch: 12 | Train Loss: 0.78776 | Valid Loss: 0.82557 | Time: 0.67 seconds\n",
      "Epoch: 13 | Train Loss: 0.79042 | Valid Loss: 0.82816 | Time: 0.67 seconds\n",
      "Epoch: 14 | Train Loss: 0.78471 | Valid Loss: 0.82049 | Time: 0.66 seconds\n",
      "Epoch: 15 | Train Loss: 0.78706 | Valid Loss: 0.81472 | Time: 0.67 seconds\n",
      "Epoch: 16 | Train Loss: 0.78688 | Valid Loss: 0.81680 | Time: 0.67 seconds\n",
      "Epoch: 17 | Train Loss: 0.78087 | Valid Loss: 0.83142 | Time: 0.68 seconds\n",
      "Epoch: 18 | Train Loss: 0.78206 | Valid Loss: 0.81382 | Time: 0.76 seconds\n",
      "Epoch: 19 | Train Loss: 0.78147 | Valid Loss: 0.82193 | Time: 0.77 seconds\n",
      "\n",
      "Early Stopping at Epoch 19\n",
      "\n",
      "**************************************************\n",
      "\n",
      "Best Validation Loss at Epoch 11\n",
      "\n",
      "**************************************************\n",
      "\n",
      "Time Taken [20 Epochs] : 0.24 minutes\n",
      "\n",
      "**************************************************\n",
      "\n",
      "Training Completed\n",
      "\n",
      "**************************************************\n",
      "\n",
      "Validation RMSE [Fold 1]: 18.54363\n",
      "\n",
      "**************************************************\n",
      "\n"
     ]
    },
    {
     "data": {
      "image/png": "[encoded data removed]",
      "text/plain": [
       "<Figure size 432x288 with 1 Axes>"
      ]
     },
     "metadata": {
      "needs_background": "light"
     },
     "output_type": "display_data"
    },
    {
     "name": "stdout",
     "output_type": "stream",
     "text": [
      "\n",
      "**************************************************\n",
      "\n",
      "Building Train and Validation DataLoaders ...\n",
      "\n",
      "**************************************************\n",
      "\n",
      "Building Model ...\n",
      "\n",
      "1280 -> 1\n",
      "\n",
      "**************************************************\n",
      "\n",
      "Training Fold 2...\n",
      "\n",
      "**************************************************\n",
      "\n",
      "Epoch: 1 | Train Loss: 0.92480 | Valid Loss: 0.92457 | Time: 0.67 seconds\n",
      "Epoch: 2 | Train Loss: 0.84101 | Valid Loss: 0.96551 | Time: 0.67 seconds\n",
      "Epoch: 3 | Train Loss: 0.82453 | Valid Loss: 0.92407 | Time: 0.67 seconds\n",
      "Epoch: 4 | Train Loss: 0.81574 | Valid Loss: 0.92593 | Time: 0.67 seconds\n",
      "Epoch: 5 | Train Loss: 0.81435 | Valid Loss: 0.93152 | Time: 0.68 seconds\n",
      "Epoch: 6 | Train Loss: 0.81112 | Valid Loss: 0.93267 | Time: 0.67 seconds\n",
      "Epoch: 7 | Train Loss: 0.80785 | Valid Loss: 0.92614 | Time: 0.68 seconds\n",
      "Epoch: 8 | Train Loss: 0.80358 | Valid Loss: 0.93845 | Time: 0.68 seconds\n",
      "Epoch: 9 | Train Loss: 0.80256 | Valid Loss: 0.93793 | Time: 0.75 seconds\n",
      "Epoch: 10 | Train Loss: 0.80034 | Valid Loss: 0.92057 | Time: 0.91 seconds\n",
      "Epoch: 11 | Train Loss: 0.79791 | Valid Loss: 0.93675 | Time: 0.68 seconds\n",
      "Epoch: 12 | Train Loss: 0.78648 | Valid Loss: 0.94845 | Time: 0.68 seconds\n",
      "Epoch: 13 | Train Loss: 0.79286 | Valid Loss: 0.94237 | Time: 0.70 seconds\n",
      "Epoch: 14 | Train Loss: 0.78619 | Valid Loss: 0.93886 | Time: 0.86 seconds\n",
      "Epoch: 15 | Train Loss: 0.79195 | Valid Loss: 0.92662 | Time: 0.67 seconds\n",
      "Epoch: 16 | Train Loss: 0.78844 | Valid Loss: 0.93071 | Time: 0.67 seconds\n",
      "Epoch: 17 | Train Loss: 0.78343 | Valid Loss: 0.94510 | Time: 0.71 seconds\n",
      "Epoch: 18 | Train Loss: 0.78824 | Valid Loss: 0.93764 | Time: 0.67 seconds\n",
      "\n",
      "Early Stopping at Epoch 18\n",
      "\n",
      "**************************************************\n",
      "\n",
      "Best Validation Loss at Epoch 10\n",
      "\n",
      "**************************************************\n",
      "\n",
      "Time Taken [19 Epochs] : 0.22 minutes\n",
      "\n",
      "**************************************************\n",
      "\n",
      "Training Completed\n",
      "\n",
      "**************************************************\n",
      "\n",
      "Validation RMSE [Fold 2]: 19.65149\n",
      "\n",
      "**************************************************\n",
      "\n"
     ]
    },
    {
     "data": {
      "image/png": "[encoded data removed]",
      "text/plain": [
       "<Figure size 432x288 with 1 Axes>"
      ]
     },
     "metadata": {
      "needs_background": "light"
     },
     "output_type": "display_data"
    },
    {
     "name": "stdout",
     "output_type": "stream",
     "text": [
      "\n",
      "**************************************************\n",
      "\n",
      "Building Train and Validation DataLoaders ...\n",
      "\n",
      "**************************************************\n",
      "\n",
      "Building Model ...\n",
      "\n",
      "1280 -> 1\n",
      "\n",
      "**************************************************\n",
      "\n",
      "Training Fold 3...\n",
      "\n",
      "**************************************************\n",
      "\n",
      "Epoch: 1 | Train Loss: 0.94148 | Valid Loss: 0.73191 | Time: 0.68 seconds\n",
      "Epoch: 2 | Train Loss: 0.84458 | Valid Loss: 0.75156 | Time: 0.67 seconds\n",
      "Epoch: 3 | Train Loss: 0.83201 | Valid Loss: 0.73218 | Time: 0.68 seconds\n",
      "Epoch: 4 | Train Loss: 0.82096 | Valid Loss: 0.73834 | Time: 0.68 seconds\n",
      "Epoch: 5 | Train Loss: 0.81274 | Valid Loss: 0.76424 | Time: 0.67 seconds\n",
      "Epoch: 6 | Train Loss: 0.81570 | Valid Loss: 0.73166 | Time: 0.69 seconds\n",
      "Epoch: 7 | Train Loss: 0.79928 | Valid Loss: 0.73037 | Time: 0.70 seconds\n",
      "Epoch: 8 | Train Loss: 0.80651 | Valid Loss: 0.72813 | Time: 0.67 seconds\n",
      "Epoch: 9 | Train Loss: 0.79881 | Valid Loss: 0.73597 | Time: 0.68 seconds\n",
      "Epoch: 10 | Train Loss: 0.79237 | Valid Loss: 0.74557 | Time: 0.83 seconds\n",
      "Epoch: 11 | Train Loss: 0.79235 | Valid Loss: 0.73265 | Time: 0.69 seconds\n",
      "Epoch: 12 | Train Loss: 0.79195 | Valid Loss: 0.73666 | Time: 0.66 seconds\n",
      "Epoch: 13 | Train Loss: 0.79024 | Valid Loss: 0.73725 | Time: 0.66 seconds\n",
      "Epoch: 14 | Train Loss: 0.79186 | Valid Loss: 0.75292 | Time: 0.66 seconds\n",
      "Epoch: 15 | Train Loss: 0.78827 | Valid Loss: 0.75782 | Time: 0.66 seconds\n",
      "Epoch: 16 | Train Loss: 0.78238 | Valid Loss: 0.75179 | Time: 0.69 seconds\n",
      "\n",
      "Early Stopping at Epoch 16\n",
      "\n",
      "**************************************************\n",
      "\n",
      "Best Validation Loss at Epoch 8\n",
      "\n",
      "**************************************************\n",
      "\n",
      "Time Taken [17 Epochs] : 0.19 minutes\n",
      "\n",
      "**************************************************\n",
      "\n",
      "Training Completed\n",
      "\n",
      "**************************************************\n",
      "\n",
      "Validation RMSE [Fold 3]: 17.68768\n",
      "\n",
      "**************************************************\n",
      "\n"
     ]
    },
    {
     "data": {
      "image/png": "[encoded data removed]",
      "text/plain": [
       "<Figure size 432x288 with 1 Axes>"
      ]
     },
     "metadata": {
      "needs_background": "light"
     },
     "output_type": "display_data"
    },
    {
     "name": "stdout",
     "output_type": "stream",
     "text": [
      "\n",
      "**************************************************\n",
      "\n",
      "Building Train and Validation DataLoaders ...\n",
      "\n",
      "**************************************************\n",
      "\n",
      "Building Model ...\n",
      "\n",
      "1280 -> 1\n",
      "\n",
      "**************************************************\n",
      "\n",
      "Training Fold 4...\n",
      "\n",
      "**************************************************\n",
      "\n",
      "Epoch: 1 | Train Loss: 0.92708 | Valid Loss: 0.81270 | Time: 0.67 seconds\n",
      "Epoch: 2 | Train Loss: 0.83876 | Valid Loss: 0.81510 | Time: 0.67 seconds\n",
      "Epoch: 3 | Train Loss: 0.82427 | Valid Loss: 0.83998 | Time: 0.67 seconds\n",
      "Epoch: 4 | Train Loss: 0.81853 | Valid Loss: 0.83972 | Time: 0.67 seconds\n",
      "Epoch: 5 | Train Loss: 0.81463 | Valid Loss: 0.81593 | Time: 0.67 seconds\n",
      "Epoch: 6 | Train Loss: 0.81091 | Valid Loss: 0.81838 | Time: 0.67 seconds\n",
      "Epoch: 7 | Train Loss: 0.80789 | Valid Loss: 0.81772 | Time: 0.68 seconds\n",
      "Epoch: 8 | Train Loss: 0.80114 | Valid Loss: 0.81233 | Time: 0.67 seconds\n",
      "Epoch: 9 | Train Loss: 0.80450 | Valid Loss: 0.81328 | Time: 0.84 seconds\n",
      "Epoch: 10 | Train Loss: 0.79861 | Valid Loss: 0.82510 | Time: 0.67 seconds\n",
      "Epoch: 11 | Train Loss: 0.79806 | Valid Loss: 0.82214 | Time: 0.68 seconds\n",
      "Epoch: 12 | Train Loss: 0.79483 | Valid Loss: 0.82117 | Time: 0.67 seconds\n",
      "Epoch: 13 | Train Loss: 0.78947 | Valid Loss: 0.81467 | Time: 0.69 seconds\n",
      "Epoch: 14 | Train Loss: 0.78934 | Valid Loss: 0.82771 | Time: 0.67 seconds\n",
      "Epoch: 15 | Train Loss: 0.78567 | Valid Loss: 0.82663 | Time: 0.67 seconds\n",
      "Epoch: 16 | Train Loss: 0.78377 | Valid Loss: 0.84585 | Time: 0.67 seconds\n",
      "\n",
      "Early Stopping at Epoch 16\n",
      "\n",
      "**************************************************\n",
      "\n",
      "Best Validation Loss at Epoch 8\n",
      "\n",
      "**************************************************\n",
      "\n",
      "Time Taken [17 Epochs] : 0.19 minutes\n",
      "\n",
      "**************************************************\n",
      "\n",
      "Training Completed\n",
      "\n",
      "**************************************************\n",
      "\n",
      "Validation RMSE [Fold 4]: 18.59117\n",
      "\n",
      "**************************************************\n",
      "\n"
     ]
    },
    {
     "data": {
      "image/png": "[encoded data removed]",
      "text/plain": [
       "<Figure size 432x288 with 1 Axes>"
      ]
     },
     "metadata": {
      "needs_background": "light"
     },
     "output_type": "display_data"
    },
    {
     "name": "stdout",
     "output_type": "stream",
     "text": [
      "\n",
      "**************************************************\n",
      "\n",
      "Building Train and Validation DataLoaders ...\n",
      "\n",
      "**************************************************\n",
      "\n",
      "Building Model ...\n",
      "\n",
      "1280 -> 1\n",
      "\n",
      "**************************************************\n",
      "\n",
      "Training Fold 5...\n",
      "\n",
      "**************************************************\n",
      "\n",
      "Epoch: 1 | Train Loss: 0.93648 | Valid Loss: 0.87655 | Time: 0.78 seconds\n",
      "Epoch: 2 | Train Loss: 0.83390 | Valid Loss: 0.88230 | Time: 0.89 seconds\n",
      "Epoch: 3 | Train Loss: 0.82637 | Valid Loss: 0.88558 | Time: 0.69 seconds\n",
      "Epoch: 4 | Train Loss: 0.82047 | Valid Loss: 0.87166 | Time: 0.68 seconds\n",
      "Epoch: 5 | Train Loss: 0.80758 | Valid Loss: 0.87282 | Time: 0.69 seconds\n",
      "Epoch: 6 | Train Loss: 0.80704 | Valid Loss: 0.87190 | Time: 0.68 seconds\n",
      "Epoch: 7 | Train Loss: 0.79928 | Valid Loss: 0.88206 | Time: 0.89 seconds\n",
      "Epoch: 8 | Train Loss: 0.79855 | Valid Loss: 0.87167 | Time: 0.69 seconds\n",
      "Epoch: 9 | Train Loss: 0.79776 | Valid Loss: 0.86950 | Time: 0.71 seconds\n",
      "Epoch: 10 | Train Loss: 0.78882 | Valid Loss: 0.86905 | Time: 0.74 seconds\n",
      "Epoch: 11 | Train Loss: 0.79383 | Valid Loss: 0.88463 | Time: 0.67 seconds\n",
      "Epoch: 12 | Train Loss: 0.78639 | Valid Loss: 0.89214 | Time: 0.68 seconds\n",
      "Epoch: 13 | Train Loss: 0.78766 | Valid Loss: 0.87825 | Time: 0.67 seconds\n",
      "Epoch: 14 | Train Loss: 0.78307 | Valid Loss: 0.87730 | Time: 0.67 seconds\n",
      "Epoch: 15 | Train Loss: 0.78133 | Valid Loss: 0.87141 | Time: 0.71 seconds\n",
      "Epoch: 16 | Train Loss: 0.78094 | Valid Loss: 0.88697 | Time: 0.67 seconds\n",
      "Epoch: 17 | Train Loss: 0.77436 | Valid Loss: 0.89669 | Time: 0.70 seconds\n",
      "Epoch: 18 | Train Loss: 0.77411 | Valid Loss: 0.87115 | Time: 0.69 seconds\n",
      "\n",
      "Early Stopping at Epoch 18\n",
      "\n",
      "**************************************************\n",
      "\n",
      "Best Validation Loss at Epoch 10\n",
      "\n",
      "**************************************************\n",
      "\n",
      "Time Taken [19 Epochs] : 0.23 minutes\n",
      "\n",
      "**************************************************\n",
      "\n",
      "Training Completed\n",
      "\n",
      "**************************************************\n",
      "\n",
      "Validation RMSE [Fold 5]: 19.20752\n",
      "\n",
      "**************************************************\n",
      "\n"
     ]
    },
    {
     "data": {
      "image/png": "[encoded data removed]",
      "text/plain": [
       "<Figure size 432x288 with 1 Axes>"
      ]
     },
     "metadata": {
      "needs_background": "light"
     },
     "output_type": "display_data"
    },
    {
     "name": "stdout",
     "output_type": "stream",
     "text": [
      "\n",
      "**************************************************\n",
      "\n",
      "Building Train and Validation DataLoaders ...\n",
      "\n",
      "**************************************************\n",
      "\n",
      "Building Model ...\n",
      "\n",
      "1280 -> 1\n",
      "\n",
      "**************************************************\n",
      "\n",
      "Training Fold 6...\n",
      "\n",
      "**************************************************\n",
      "\n",
      "Epoch: 1 | Train Loss: 0.93709 | Valid Loss: 0.87490 | Time: 0.68 seconds\n",
      "Epoch: 2 | Train Loss: 0.84287 | Valid Loss: 0.88896 | Time: 0.68 seconds\n",
      "Epoch: 3 | Train Loss: 0.83050 | Valid Loss: 0.86863 | Time: 0.83 seconds\n",
      "Epoch: 4 | Train Loss: 0.82110 | Valid Loss: 0.87206 | Time: 0.74 seconds\n",
      "Epoch: 5 | Train Loss: 0.81644 | Valid Loss: 0.89614 | Time: 0.68 seconds\n",
      "Epoch: 6 | Train Loss: 0.80936 | Valid Loss: 0.87444 | Time: 0.68 seconds\n",
      "Epoch: 7 | Train Loss: 0.81586 | Valid Loss: 0.87562 | Time: 0.68 seconds\n",
      "Epoch: 8 | Train Loss: 0.80643 | Valid Loss: 0.86968 | Time: 0.68 seconds\n",
      "Epoch: 9 | Train Loss: 0.80616 | Valid Loss: 0.87188 | Time: 0.67 seconds\n",
      "Epoch: 10 | Train Loss: 0.79685 | Valid Loss: 0.87644 | Time: 0.67 seconds\n",
      "Epoch: 11 | Train Loss: 0.79733 | Valid Loss: 0.89505 | Time: 0.67 seconds\n",
      "\n",
      "Early Stopping at Epoch 11\n",
      "\n",
      "**************************************************\n",
      "\n",
      "Best Validation Loss at Epoch 3\n",
      "\n",
      "**************************************************\n",
      "\n",
      "Time Taken [12 Epochs] : 0.14 minutes\n",
      "\n",
      "**************************************************\n",
      "\n",
      "Training Completed\n",
      "\n",
      "**************************************************\n",
      "\n",
      "Validation RMSE [Fold 6]: 19.14403\n",
      "\n",
      "**************************************************\n",
      "\n"
     ]
    },
    {
     "data": {
      "image/png": "[encoded data removed]",
      "text/plain": [
       "<Figure size 432x288 with 1 Axes>"
      ]
     },
     "metadata": {
      "needs_background": "light"
     },
     "output_type": "display_data"
    },
    {
     "name": "stdout",
     "output_type": "stream",
     "text": [
      "\n",
      "**************************************************\n",
      "\n",
      "Building Train and Validation DataLoaders ...\n",
      "\n",
      "**************************************************\n",
      "\n",
      "Building Model ...\n",
      "\n",
      "1280 -> 1\n",
      "\n",
      "**************************************************\n",
      "\n",
      "Training Fold 7...\n",
      "\n",
      "**************************************************\n",
      "\n",
      "Epoch: 1 | Train Loss: 0.95520 | Valid Loss: 0.93250 | Time: 0.70 seconds\n",
      "Epoch: 2 | Train Loss: 0.84465 | Valid Loss: 0.92102 | Time: 0.68 seconds\n",
      "Epoch: 3 | Train Loss: 0.83755 | Valid Loss: 0.91636 | Time: 0.68 seconds\n",
      "Epoch: 4 | Train Loss: 0.82541 | Valid Loss: 0.92690 | Time: 0.68 seconds\n",
      "Epoch: 5 | Train Loss: 0.82024 | Valid Loss: 0.91895 | Time: 0.69 seconds\n",
      "Epoch: 6 | Train Loss: 0.81403 | Valid Loss: 0.92574 | Time: 0.67 seconds\n",
      "Epoch: 7 | Train Loss: 0.80723 | Valid Loss: 0.90541 | Time: 0.87 seconds\n",
      "Epoch: 8 | Train Loss: 0.80927 | Valid Loss: 0.90784 | Time: 0.68 seconds\n",
      "Epoch: 9 | Train Loss: 0.80491 | Valid Loss: 0.91270 | Time: 0.67 seconds\n",
      "Epoch: 10 | Train Loss: 0.80005 | Valid Loss: 0.90389 | Time: 0.68 seconds\n",
      "Epoch: 11 | Train Loss: 0.79823 | Valid Loss: 0.90900 | Time: 0.68 seconds\n",
      "Epoch: 12 | Train Loss: 0.79987 | Valid Loss: 0.92682 | Time: 0.68 seconds\n",
      "Epoch: 13 | Train Loss: 0.79263 | Valid Loss: 0.92492 | Time: 0.68 seconds\n",
      "Epoch: 14 | Train Loss: 0.79226 | Valid Loss: 0.90381 | Time: 0.68 seconds\n",
      "Epoch: 15 | Train Loss: 0.79169 | Valid Loss: 0.90941 | Time: 0.72 seconds\n",
      "Epoch: 16 | Train Loss: 0.79401 | Valid Loss: 0.90763 | Time: 0.81 seconds\n",
      "Epoch: 17 | Train Loss: 0.78825 | Valid Loss: 0.90708 | Time: 0.87 seconds\n",
      "Epoch: 18 | Train Loss: 0.78207 | Valid Loss: 0.91351 | Time: 0.71 seconds\n",
      "Epoch: 19 | Train Loss: 0.78498 | Valid Loss: 0.89870 | Time: 0.70 seconds\n",
      "Epoch: 20 | Train Loss: 0.78300 | Valid Loss: 0.90534 | Time: 0.71 seconds\n",
      "Epoch: 21 | Train Loss: 0.77905 | Valid Loss: 0.91707 | Time: 0.70 seconds\n",
      "Epoch: 22 | Train Loss: 0.78270 | Valid Loss: 0.91961 | Time: 0.91 seconds\n",
      "Epoch: 23 | Train Loss: 0.77899 | Valid Loss: 0.90744 | Time: 0.70 seconds\n",
      "Epoch: 24 | Train Loss: 0.78250 | Valid Loss: 0.91945 | Time: 0.70 seconds\n",
      "Epoch: 25 | Train Loss: 0.77805 | Valid Loss: 0.90392 | Time: 0.70 seconds\n",
      "Epoch: 26 | Train Loss: 0.78402 | Valid Loss: 0.90289 | Time: 0.68 seconds\n",
      "Epoch: 27 | Train Loss: 0.77507 | Valid Loss: 0.90810 | Time: 0.68 seconds\n",
      "\n",
      "Early Stopping at Epoch 27\n",
      "\n",
      "**************************************************\n",
      "\n",
      "Best Validation Loss at Epoch 19\n",
      "\n",
      "**************************************************\n",
      "\n",
      "Time Taken [28 Epochs] : 0.33 minutes\n",
      "\n",
      "**************************************************\n",
      "\n",
      "Training Completed\n",
      "\n",
      "**************************************************\n",
      "\n",
      "Validation RMSE [Fold 7]: 19.41019\n",
      "\n",
      "**************************************************\n",
      "\n"
     ]
    },
    {
     "data": {
      "image/png": "[encoded data removed]",
      "text/plain": [
       "<Figure size 432x288 with 1 Axes>"
      ]
     },
     "metadata": {
      "needs_background": "light"
     },
     "output_type": "display_data"
    },
    {
     "name": "stdout",
     "output_type": "stream",
     "text": [
      "\n",
      "**************************************************\n",
      "\n",
      "Building Train and Validation DataLoaders ...\n",
      "\n",
      "**************************************************\n",
      "\n",
      "Building Model ...\n",
      "\n",
      "1280 -> 1\n",
      "\n",
      "**************************************************\n",
      "\n",
      "Training Fold 8...\n",
      "\n",
      "**************************************************\n",
      "\n",
      "Epoch: 1 | Train Loss: 0.94626 | Valid Loss: 0.90055 | Time: 0.67 seconds\n",
      "Epoch: 2 | Train Loss: 0.84429 | Valid Loss: 0.89195 | Time: 0.67 seconds\n",
      "Epoch: 3 | Train Loss: 0.82845 | Valid Loss: 0.87810 | Time: 0.67 seconds\n",
      "Epoch: 4 | Train Loss: 0.81936 | Valid Loss: 0.89753 | Time: 0.67 seconds\n",
      "Epoch: 5 | Train Loss: 0.81649 | Valid Loss: 0.89933 | Time: 0.68 seconds\n",
      "Epoch: 6 | Train Loss: 0.81043 | Valid Loss: 0.87014 | Time: 0.71 seconds\n",
      "Epoch: 7 | Train Loss: 0.80639 | Valid Loss: 0.89594 | Time: 0.70 seconds\n",
      "Epoch: 8 | Train Loss: 0.80368 | Valid Loss: 0.87714 | Time: 0.67 seconds\n",
      "Epoch: 9 | Train Loss: 0.80298 | Valid Loss: 0.87519 | Time: 0.79 seconds\n",
      "Epoch: 10 | Train Loss: 0.79694 | Valid Loss: 0.87918 | Time: 0.75 seconds\n",
      "Epoch: 11 | Train Loss: 0.79422 | Valid Loss: 0.89254 | Time: 0.67 seconds\n",
      "Epoch: 12 | Train Loss: 0.79039 | Valid Loss: 0.88066 | Time: 0.66 seconds\n",
      "Epoch: 13 | Train Loss: 0.78767 | Valid Loss: 0.88069 | Time: 0.67 seconds\n",
      "Epoch: 14 | Train Loss: 0.78518 | Valid Loss: 0.88664 | Time: 0.67 seconds\n",
      "\n",
      "Early Stopping at Epoch 14\n",
      "\n",
      "**************************************************\n",
      "\n",
      "Best Validation Loss at Epoch 6\n",
      "\n",
      "**************************************************\n",
      "\n",
      "Time Taken [15 Epochs] : 0.17 minutes\n",
      "\n",
      "**************************************************\n",
      "\n",
      "Training Completed\n",
      "\n",
      "**************************************************\n",
      "\n",
      "Validation RMSE [Fold 8]: 19.17187\n",
      "\n",
      "**************************************************\n",
      "\n"
     ]
    },
    {
     "data": {
      "image/png": "[encoded data removed]",
      "text/plain": [
       "<Figure size 432x288 with 1 Axes>"
      ]
     },
     "metadata": {
      "needs_background": "light"
     },
     "output_type": "display_data"
    },
    {
     "name": "stdout",
     "output_type": "stream",
     "text": [
      "\n",
      "**************************************************\n",
      "\n",
      "Building Train and Validation DataLoaders ...\n",
      "\n",
      "**************************************************\n",
      "\n",
      "Building Model ...\n",
      "\n",
      "1280 -> 1\n",
      "\n",
      "**************************************************\n",
      "\n",
      "Training Fold 9...\n",
      "\n",
      "**************************************************\n",
      "\n",
      "Epoch: 1 | Train Loss: 0.94421 | Valid Loss: 0.78464 | Time: 0.67 seconds\n",
      "Epoch: 2 | Train Loss: 0.83936 | Valid Loss: 0.77694 | Time: 0.67 seconds\n",
      "Epoch: 3 | Train Loss: 0.83346 | Valid Loss: 0.78052 | Time: 0.67 seconds\n",
      "Epoch: 4 | Train Loss: 0.82294 | Valid Loss: 0.76978 | Time: 0.67 seconds\n",
      "Epoch: 5 | Train Loss: 0.81696 | Valid Loss: 0.77384 | Time: 0.67 seconds\n",
      "Epoch: 6 | Train Loss: 0.81379 | Valid Loss: 0.76712 | Time: 0.68 seconds\n",
      "Epoch: 7 | Train Loss: 0.80820 | Valid Loss: 0.78032 | Time: 0.68 seconds\n",
      "Epoch: 8 | Train Loss: 0.79895 | Valid Loss: 0.77009 | Time: 0.67 seconds\n",
      "Epoch: 9 | Train Loss: 0.80609 | Valid Loss: 0.77576 | Time: 0.68 seconds\n",
      "Epoch: 10 | Train Loss: 0.79974 | Valid Loss: 0.77026 | Time: 0.83 seconds\n",
      "Epoch: 11 | Train Loss: 0.79739 | Valid Loss: 0.78662 | Time: 0.72 seconds\n",
      "Epoch: 12 | Train Loss: 0.79054 | Valid Loss: 0.78391 | Time: 0.67 seconds\n",
      "Epoch: 13 | Train Loss: 0.79203 | Valid Loss: 0.78142 | Time: 0.68 seconds\n",
      "Epoch: 14 | Train Loss: 0.79031 | Valid Loss: 0.79261 | Time: 0.68 seconds\n",
      "\n",
      "Early Stopping at Epoch 14\n",
      "\n",
      "**************************************************\n",
      "\n",
      "Best Validation Loss at Epoch 6\n",
      "\n",
      "**************************************************\n",
      "\n",
      "Time Taken [15 Epochs] : 0.17 minutes\n",
      "\n",
      "**************************************************\n",
      "\n",
      "Training Completed\n",
      "\n",
      "**************************************************\n",
      "\n",
      "Validation RMSE [Fold 9]: 18.07178\n",
      "\n",
      "**************************************************\n",
      "\n"
     ]
    },
    {
     "data": {
      "image/png": "[encoded data removed]",
      "text/plain": [
       "<Figure size 432x288 with 1 Axes>"
      ]
     },
     "metadata": {
      "needs_background": "light"
     },
     "output_type": "display_data"
    },
    {
     "name": "stdout",
     "output_type": "stream",
     "text": [
      "\n",
      "**************************************************\n",
      "\n",
      "Building Train and Validation DataLoaders ...\n",
      "\n",
      "**************************************************\n",
      "\n",
      "Building Model ...\n",
      "\n",
      "1280 -> 1\n",
      "\n",
      "**************************************************\n",
      "\n",
      "Training Fold 10...\n",
      "\n",
      "**************************************************\n",
      "\n",
      "Epoch: 1 | Train Loss: 0.92526 | Valid Loss: 0.84626 | Time: 0.68 seconds\n",
      "Epoch: 2 | Train Loss: 0.84234 | Valid Loss: 0.81820 | Time: 0.92 seconds\n",
      "Epoch: 3 | Train Loss: 0.82506 | Valid Loss: 0.81860 | Time: 0.77 seconds\n",
      "Epoch: 4 | Train Loss: 0.81713 | Valid Loss: 0.82399 | Time: 0.69 seconds\n",
      "Epoch: 5 | Train Loss: 0.81353 | Valid Loss: 0.82855 | Time: 0.68 seconds\n",
      "Epoch: 6 | Train Loss: 0.81110 | Valid Loss: 0.82276 | Time: 0.68 seconds\n",
      "Epoch: 7 | Train Loss: 0.80089 | Valid Loss: 0.83058 | Time: 0.68 seconds\n",
      "Epoch: 8 | Train Loss: 0.80209 | Valid Loss: 0.81862 | Time: 0.70 seconds\n",
      "Epoch: 9 | Train Loss: 0.80062 | Valid Loss: 0.81184 | Time: 0.70 seconds\n",
      "Epoch: 10 | Train Loss: 0.79546 | Valid Loss: 0.81194 | Time: 0.90 seconds\n",
      "Epoch: 11 | Train Loss: 0.79240 | Valid Loss: 0.82570 | Time: 0.68 seconds\n",
      "Epoch: 12 | Train Loss: 0.79378 | Valid Loss: 0.81873 | Time: 0.68 seconds\n",
      "Epoch: 13 | Train Loss: 0.79236 | Valid Loss: 0.81526 | Time: 0.71 seconds\n",
      "Epoch: 14 | Train Loss: 0.78923 | Valid Loss: 0.81574 | Time: 0.68 seconds\n",
      "Epoch: 15 | Train Loss: 0.79107 | Valid Loss: 0.81328 | Time: 0.67 seconds\n",
      "Epoch: 16 | Train Loss: 0.78941 | Valid Loss: 0.81564 | Time: 0.67 seconds\n",
      "Epoch: 17 | Train Loss: 0.78510 | Valid Loss: 0.82294 | Time: 0.68 seconds\n",
      "\n",
      "Early Stopping at Epoch 17\n",
      "\n",
      "**************************************************\n",
      "\n",
      "Best Validation Loss at Epoch 9\n",
      "\n",
      "**************************************************\n",
      "\n",
      "Time Taken [18 Epochs] : 0.21 minutes\n",
      "\n",
      "**************************************************\n",
      "\n",
      "Training Completed\n",
      "\n",
      "**************************************************\n",
      "\n",
      "Validation RMSE [Fold 10]: 18.58401\n",
      "\n",
      "**************************************************\n",
      "\n"
     ]
    },
    {
     "data": {
      "image/png": "[encoded data removed]",
      "text/plain": [
       "<Figure size 432x288 with 1 Axes>"
      ]
     },
     "metadata": {
      "needs_background": "light"
     },
     "output_type": "display_data"
    },
    {
     "name": "stdout",
     "output_type": "stream",
     "text": [
      "\n",
      "**************************************************\n",
      "\n",
      "Total Time to 10 Fold CV : 2.23 minutes\n",
      "\n",
      "**************************************************\n",
      "\n",
      "{'Fold': 1, 'RMSE': 18.543632413171544}\n",
      "{'Fold': 2, 'RMSE': 19.651486087414945}\n",
      "{'Fold': 3, 'RMSE': 17.687681586713534}\n",
      "{'Fold': 4, 'RMSE': 18.591171244812283}\n",
      "{'Fold': 5, 'RMSE': 19.207519797314387}\n",
      "{'Fold': 6, 'RMSE': 19.144033517847284}\n",
      "{'Fold': 7, 'RMSE': 19.410189995808572}\n",
      "{'Fold': 8, 'RMSE': 19.17186552553398}\n",
      "{'Fold': 9, 'RMSE': 18.071784272751003}\n",
      "{'Fold': 10, 'RMSE': 18.584009988630445}\n",
      "\n",
      "**************************************************\n",
      "\n"
     ]
    }
   ],
   "source": [
    "def main():\n",
    "    DEBUG = False\n",
    "    \n",
    "    ########### Params ###########\n",
    "    \n",
    "    if DEBUG:\n",
    "        n_splits = 3\n",
    "        batch_size = 512\n",
    "        lr, wd = 1e-3, 0\n",
    "        patience, eps = 5, 1e-8\n",
    "        epochs, early_stopping = 5, 5\n",
    "    else:\n",
    "        n_splits = 10\n",
    "        batch_size = 32\n",
    "        lr, wd = 1e-2, 0\n",
    "        patience, eps = 5, 1e-8\n",
    "        epochs, early_stopping = 100, 8\n",
    "    \n",
    "    ##############################\n",
    "\n",
    "    breaker()\n",
    "    print(\"Loading Data ...\")\n",
    "    \n",
    "    features = np.load(os.path.join(FEATURES_PATH, \"{}_features.npy\".format(MODEL_NAME)))\n",
    "    targets = get_targets(PATH)\n",
    "\n",
    "    # Without Scheduler\n",
    "    metrics = train(features, targets, n_splits, batch_size, lr, wd, epochs, early_stopping, patience=None, eps=None)\n",
    "    \n",
    "    # # With Plateau Scheduler\n",
    "    # metrics = train(features, targets, n_splits, batch_size, lr, wd, epochs, early_stopping, patience=patience, eps=eps)    \n",
    "    \n",
    "    for i in range(len(metrics)):\n",
    "        print(metrics[i])\n",
    "\n",
    "    with open(\"metrics.pkl\", \"wb\") as fp:\n",
    "        pickle.dump(metrics, fp)\n",
    "    \n",
    "    breaker()\n",
    "\n",
    "main()"
   ]
  },
  {
   "cell_type": "code",
   "execution_count": 11,
   "id": "22238215",
   "metadata": {
    "execution": {
     "iopub.execute_input": "2021-10-06T20:48:56.014945Z",
     "iopub.status.busy": "2021-10-06T20:48:56.014389Z",
     "iopub.status.idle": "2021-10-06T20:48:56.018710Z",
     "shell.execute_reply": "2021-10-06T20:48:56.018282Z",
     "shell.execute_reply.started": "2021-10-06T14:55:46.659053Z"
    },
    "papermill": {
     "duration": 0.077478,
     "end_time": "2021-10-06T20:48:56.018823",
     "exception": false,
     "start_time": "2021-10-06T20:48:55.941345",
     "status": "completed"
    },
    "tags": []
   },
   "outputs": [
    {
     "name": "stdout",
     "output_type": "stream",
     "text": [
      "\n",
      "**************************************************\n",
      "\n",
      "Notebook Run Time : 2.37 minutes\n",
      "\n",
      "**************************************************\n",
      "\n"
     ]
    }
   ],
   "source": [
    "breaker()\n",
    "print(\"Notebook Run Time : {:.2f} minutes\".format((time()-notebook_start_time)/60))\n",
    "breaker()"
   ]
  }
 ],
 "metadata": {
  "kernelspec": {
   "display_name": "Python 3",
   "language": "python",
   "name": "python3"
  },
  "language_info": {
   "codemirror_mode": {
    "name": "ipython",
    "version": 3
   },
   "file_extension": ".py",
   "mimetype": "text/x-python",
   "name": "python",
   "nbconvert_exporter": "python",
   "pygments_lexer": "ipython3",
   "version": "3.7.10"
  },
  "papermill": {
   "default_parameters": {},
   "duration": 149.606031,
   "end_time": "2021-10-06T20:48:57.245691",
   "environment_variables": {},
   "exception": null,
   "input_path": "__notebook__.ipynb",
   "output_path": "__notebook__.ipynb",
   "parameters": {},
   "start_time": "2021-10-06T20:46:27.639660",
   "version": "2.3.3"
  }
 },
 "nbformat": 4,
 "nbformat_minor": 5
}
