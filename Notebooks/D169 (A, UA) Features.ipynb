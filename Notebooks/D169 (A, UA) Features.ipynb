{
 "cells": [
  {
   "cell_type": "markdown",
   "id": "65e7c45a",
   "metadata": {
    "_cell_guid": "b1076dfc-b9ad-4769-8c92-a6c4dae69d19",
    "_uuid": "8f2839f25d086af736a60e9eeb907d3b93b6e0e5",
    "papermill": {
     "duration": 0.011802,
     "end_time": "2021-10-09T01:07:07.008066",
     "exception": false,
     "start_time": "2021-10-09T01:07:06.996264",
     "status": "completed"
    },
    "tags": []
   },
   "source": [
    "## Library Imports"
   ]
  },
  {
   "cell_type": "code",
   "execution_count": 1,
   "id": "b1758a5f",
   "metadata": {
    "execution": {
     "iopub.execute_input": "2021-10-09T01:07:07.034921Z",
     "iopub.status.busy": "2021-10-09T01:07:07.033485Z",
     "iopub.status.idle": "2021-10-09T01:07:07.108535Z",
     "shell.execute_reply": "2021-10-09T01:07:07.107925Z",
     "shell.execute_reply.started": "2021-10-09T00:45:20.406027Z"
    },
    "papermill": {
     "duration": 0.089279,
     "end_time": "2021-10-09T01:07:07.108677",
     "exception": false,
     "start_time": "2021-10-09T01:07:07.019398",
     "status": "completed"
    },
    "tags": []
   },
   "outputs": [],
   "source": [
    "from time import time\n",
    "notebook_start_time = time()"
   ]
  },
  {
   "cell_type": "code",
   "execution_count": 2,
   "id": "1be6a5a0",
   "metadata": {
    "execution": {
     "iopub.execute_input": "2021-10-09T01:07:07.135789Z",
     "iopub.status.busy": "2021-10-09T01:07:07.135122Z",
     "iopub.status.idle": "2021-10-09T01:07:13.149192Z",
     "shell.execute_reply": "2021-10-09T01:07:13.148210Z",
     "shell.execute_reply.started": "2021-10-09T00:45:20.416796Z"
    },
    "papermill": {
     "duration": 6.029813,
     "end_time": "2021-10-09T01:07:13.149366",
     "exception": false,
     "start_time": "2021-10-09T01:07:07.119553",
     "status": "completed"
    },
    "tags": []
   },
   "outputs": [],
   "source": [
    "import os\n",
    "import re\n",
    "import random as r\n",
    "import numpy as np\n",
    "import pandas as pd\n",
    "import matplotlib.pyplot as plt\n",
    "\n",
    "import torch\n",
    "from torch import nn, optim\n",
    "from torch.utils.data import Dataset\n",
    "from torch.utils.data import DataLoader as DL\n",
    "from torch.nn.utils import weight_norm as WN\n",
    "from torchvision import models, transforms\n",
    "\n",
    "import imgaug\n",
    "from imgaug import augmenters\n",
    "\n",
    "import warnings\n",
    "warnings.filterwarnings(\"ignore\")"
   ]
  },
  {
   "cell_type": "markdown",
   "id": "2ba941ce",
   "metadata": {
    "papermill": {
     "duration": 0.010667,
     "end_time": "2021-10-09T01:07:13.171216",
     "exception": false,
     "start_time": "2021-10-09T01:07:13.160549",
     "status": "completed"
    },
    "tags": []
   },
   "source": [
    "## Constants and Utilities"
   ]
  },
  {
   "cell_type": "code",
   "execution_count": 3,
   "id": "cd1cc1bd",
   "metadata": {
    "execution": {
     "iopub.execute_input": "2021-10-09T01:07:13.203867Z",
     "iopub.status.busy": "2021-10-09T01:07:13.202181Z",
     "iopub.status.idle": "2021-10-09T01:07:13.204519Z",
     "shell.execute_reply": "2021-10-09T01:07:13.204919Z",
     "shell.execute_reply.started": "2021-10-09T00:45:20.426114Z"
    },
    "papermill": {
     "duration": 0.023015,
     "end_time": "2021-10-09T01:07:13.205042",
     "exception": false,
     "start_time": "2021-10-09T01:07:13.182027",
     "status": "completed"
    },
    "tags": []
   },
   "outputs": [],
   "source": [
    "def breaker(num=50, char=\"*\") -> None:\n",
    "    print(\"\\n\" + num*char + \"\\n\")\n",
    "\n",
    "\n",
    "def get_targets(path: str) -> np.ndarray:\n",
    "    df = pd.read_csv(os.path.join(path, \"train.csv\"), engine=\"python\")\n",
    "    targets = df[\"Pawpularity\"].copy().values\n",
    "    return targets.reshape(-1, 1)\n",
    "\n",
    "\n",
    "def head(x, no_of_ele=5) -> None:\n",
    "    print(x[:no_of_ele])\n",
    "\n",
    "    \n",
    "def show(image: np.ndarray) -> None:\n",
    "    plt.figure(figsize=(9, 6))\n",
    "    plt.imshow(image)\n",
    "    plt.axis(\"off\")\n",
    "    plt.show()\n",
    "\n",
    "    \n",
    "def get_augment(seed: int):\n",
    "    imgaug.seed(seed)\n",
    "    augment = augmenters.SomeOf(None, [\n",
    "        augmenters.HorizontalFlip(p=0.5),\n",
    "        augmenters.VerticalFlip(p=0.5),\n",
    "        augmenters.Affine(scale=(0.75, 1.25), translate_percent=(-0.1, 0.1), rotate=(-45, 45), seed=seed),\n",
    "    ], seed=seed)\n",
    "\n",
    "    return augment"
   ]
  },
  {
   "cell_type": "code",
   "execution_count": 4,
   "id": "64baaecd",
   "metadata": {
    "execution": {
     "iopub.execute_input": "2021-10-09T01:07:13.274906Z",
     "iopub.status.busy": "2021-10-09T01:07:13.274355Z",
     "iopub.status.idle": "2021-10-09T01:07:13.277629Z",
     "shell.execute_reply": "2021-10-09T01:07:13.278007Z",
     "shell.execute_reply.started": "2021-10-09T00:45:20.43753Z"
    },
    "papermill": {
     "duration": 0.062207,
     "end_time": "2021-10-09T01:07:13.278140",
     "exception": false,
     "start_time": "2021-10-09T01:07:13.215933",
     "status": "completed"
    },
    "tags": []
   },
   "outputs": [],
   "source": [
    "TRANSFORM_PRE = transforms.Compose([transforms.ToTensor(), \n",
    "                                    transforms.Normalize([0.485, 0.456, 0.406],\n",
    "                                                         [0.229, 0.224, 0.225]),\n",
    "                                   ])\n",
    "DEVICE = torch.device(\"cuda\" if torch.cuda.is_available() else \"cpu\")\n",
    "SEED = 49\n",
    "NUM_FEATURES = 1664"
   ]
  },
  {
   "cell_type": "markdown",
   "id": "496176c9",
   "metadata": {
    "papermill": {
     "duration": 0.010582,
     "end_time": "2021-10-09T01:07:13.299788",
     "exception": false,
     "start_time": "2021-10-09T01:07:13.289206",
     "status": "completed"
    },
    "tags": []
   },
   "source": [
    "## Dataset Template"
   ]
  },
  {
   "cell_type": "code",
   "execution_count": 5,
   "id": "3e873f8c",
   "metadata": {
    "execution": {
     "iopub.execute_input": "2021-10-09T01:07:13.328180Z",
     "iopub.status.busy": "2021-10-09T01:07:13.326643Z",
     "iopub.status.idle": "2021-10-09T01:07:13.328825Z",
     "shell.execute_reply": "2021-10-09T01:07:13.329218Z",
     "shell.execute_reply.started": "2021-10-09T00:45:20.45144Z"
    },
    "papermill": {
     "duration": 0.019031,
     "end_time": "2021-10-09T01:07:13.329349",
     "exception": false,
     "start_time": "2021-10-09T01:07:13.310318",
     "status": "completed"
    },
    "tags": []
   },
   "outputs": [],
   "source": [
    "class DS(Dataset):\n",
    "    def __init__(self, images=None, transform=None):\n",
    "        self.images    = images\n",
    "        self.transform = transform\n",
    "        \n",
    "    def __len__(self):\n",
    "        return self.images.shape[0]\n",
    "    \n",
    "    def __getitem__(self, idx):\n",
    "        return self.transform(self.images[idx])"
   ]
  },
  {
   "cell_type": "markdown",
   "id": "f3a9490d",
   "metadata": {
    "papermill": {
     "duration": 0.010375,
     "end_time": "2021-10-09T01:07:13.350239",
     "exception": false,
     "start_time": "2021-10-09T01:07:13.339864",
     "status": "completed"
    },
    "tags": []
   },
   "source": [
    "## Build Dataloader"
   ]
  },
  {
   "cell_type": "code",
   "execution_count": 6,
   "id": "2bfcb2ed",
   "metadata": {
    "execution": {
     "iopub.execute_input": "2021-10-09T01:07:13.376591Z",
     "iopub.status.busy": "2021-10-09T01:07:13.375162Z",
     "iopub.status.idle": "2021-10-09T01:07:13.377264Z",
     "shell.execute_reply": "2021-10-09T01:07:13.377671Z",
     "shell.execute_reply.started": "2021-10-09T00:45:20.461805Z"
    },
    "papermill": {
     "duration": 0.016954,
     "end_time": "2021-10-09T01:07:13.377782",
     "exception": false,
     "start_time": "2021-10-09T01:07:13.360828",
     "status": "completed"
    },
    "tags": []
   },
   "outputs": [],
   "source": [
    "def build_dataloader(images: np.ndarray, transform=None):    \n",
    "    data_setup = DS(images=images, transform=transform)\n",
    "    data = DL(data_setup, batch_size=64, shuffle=False)\n",
    "    \n",
    "    return data"
   ]
  },
  {
   "cell_type": "markdown",
   "id": "682e93f8",
   "metadata": {
    "papermill": {
     "duration": 0.010507,
     "end_time": "2021-10-09T01:07:13.398757",
     "exception": false,
     "start_time": "2021-10-09T01:07:13.388250",
     "status": "completed"
    },
    "tags": []
   },
   "source": [
    "## Build Model"
   ]
  },
  {
   "cell_type": "code",
   "execution_count": 7,
   "id": "ef83ee47",
   "metadata": {
    "execution": {
     "iopub.execute_input": "2021-10-09T01:07:13.426785Z",
     "iopub.status.busy": "2021-10-09T01:07:13.426123Z",
     "iopub.status.idle": "2021-10-09T01:07:13.428876Z",
     "shell.execute_reply": "2021-10-09T01:07:13.429231Z",
     "shell.execute_reply.started": "2021-10-09T00:45:20.469111Z"
    },
    "papermill": {
     "duration": 0.02005,
     "end_time": "2021-10-09T01:07:13.429363",
     "exception": false,
     "start_time": "2021-10-09T01:07:13.409313",
     "status": "completed"
    },
    "tags": []
   },
   "outputs": [],
   "source": [
    "def build_model(pretrained: bool):\n",
    "    class ImageModel(nn.Module):\n",
    "        def __init__(self, pretrained=False):\n",
    "            super(ImageModel, self).__init__()\n",
    "\n",
    "            self.features = models.densenet169(pretrained=pretrained, progress=True)\n",
    "            if pretrained:\n",
    "                self.freeze()\n",
    "            self.features = nn.Sequential(*[*self.features.children()][:-1])\n",
    "            self.features.add_module(\"Adaptive Average Pool\", nn.AdaptiveAvgPool2d(output_size=(1, 1)))\n",
    "            self.features.add_module(\"Flatten\", nn.Flatten())\n",
    "        \n",
    "        def freeze(self):\n",
    "            for params in self.parameters():\n",
    "                params.requires_grad = False\n",
    "\n",
    "        def forward(self, x):\n",
    "            return self.features(x)\n",
    "\n",
    "    # breaker()\n",
    "    # print(\"Building Model ...\")\n",
    "    \n",
    "    model = ImageModel(pretrained=pretrained)\n",
    "    \n",
    "    return model"
   ]
  },
  {
   "cell_type": "markdown",
   "id": "8f11fa1c",
   "metadata": {
    "papermill": {
     "duration": 0.010545,
     "end_time": "2021-10-09T01:07:13.450740",
     "exception": false,
     "start_time": "2021-10-09T01:07:13.440195",
     "status": "completed"
    },
    "tags": []
   },
   "source": [
    "## Acquire Features Helper"
   ]
  },
  {
   "cell_type": "code",
   "execution_count": 8,
   "id": "37afbf99",
   "metadata": {
    "execution": {
     "iopub.execute_input": "2021-10-09T01:07:13.477242Z",
     "iopub.status.busy": "2021-10-09T01:07:13.476741Z",
     "iopub.status.idle": "2021-10-09T01:07:13.480225Z",
     "shell.execute_reply": "2021-10-09T01:07:13.479853Z",
     "shell.execute_reply.started": "2021-10-09T00:45:20.479838Z"
    },
    "papermill": {
     "duration": 0.018999,
     "end_time": "2021-10-09T01:07:13.480322",
     "exception": false,
     "start_time": "2021-10-09T01:07:13.461323",
     "status": "completed"
    },
    "tags": []
   },
   "outputs": [],
   "source": [
    "def get_features(model=None, dataloader=None, num_features=None):\n",
    "    model.to(DEVICE)\n",
    "    model.eval()\n",
    "\n",
    "    y_pred = torch.zeros(1, num_features).to(DEVICE)\n",
    "    for X in dataloader:\n",
    "        X = X.to(DEVICE)\n",
    "        with torch.no_grad():\n",
    "            output = model(X)\n",
    "        y_pred = torch.cat((y_pred, output.view(-1, num_features)), dim=0)\n",
    "    \n",
    "    return y_pred[1:].detach().cpu().numpy()"
   ]
  },
  {
   "cell_type": "markdown",
   "id": "8eb1e96f",
   "metadata": {
    "papermill": {
     "duration": 0.010524,
     "end_time": "2021-10-09T01:07:13.501342",
     "exception": false,
     "start_time": "2021-10-09T01:07:13.490818",
     "status": "completed"
    },
    "tags": []
   },
   "source": [
    "## Save Features"
   ]
  },
  {
   "cell_type": "code",
   "execution_count": 9,
   "id": "90cf35db",
   "metadata": {
    "execution": {
     "iopub.execute_input": "2021-10-09T01:07:13.529752Z",
     "iopub.status.busy": "2021-10-09T01:07:13.529209Z",
     "iopub.status.idle": "2021-10-09T01:08:29.696885Z",
     "shell.execute_reply": "2021-10-09T01:08:29.696397Z",
     "shell.execute_reply.started": "2021-10-09T00:45:20.492141Z"
    },
    "papermill": {
     "duration": 76.18504,
     "end_time": "2021-10-09T01:08:29.697023",
     "exception": false,
     "start_time": "2021-10-09T01:07:13.511983",
     "status": "completed"
    },
    "tags": []
   },
   "outputs": [
    {
     "name": "stderr",
     "output_type": "stream",
     "text": [
      "Downloading: \"https://download.pytorch.org/models/densenet169-b2777c0a.pth\" to /root/.cache/torch/hub/checkpoints/densenet169-b2777c0a.pth\n"
     ]
    },
    {
     "data": {
      "application/vnd.jupyter.widget-view+json": {
       "model_id": "12ec59b19f5c4cef936cc889fa657b4e",
       "version_major": 2,
       "version_minor": 0
      },
      "text/plain": [
       "  0%|          | 0.00/54.7M [00:00<?, ?B/s]"
      ]
     },
     "metadata": {},
     "output_type": "display_data"
    }
   ],
   "source": [
    "def save_features():\n",
    "    DEBUG = False\n",
    "    \n",
    "    # start_time = time()\n",
    "    images = np.load(\"../input/pet-finder-images/Images.npy\")\n",
    "    # breaker()\n",
    "    # print(\"Time Taken to Read Data : {:.2f} minutes\".format((time()-start_time)/60))\n",
    "    \n",
    "    augment = get_augment(SEED)\n",
    "    augmented_images = augment(images=images)\n",
    "    \n",
    "    if DEBUG:\n",
    "        index = r.randint(0, images.shape[0] - 1)\n",
    "        show(images[index])\n",
    "        show(augmented_images[index])\n",
    "    \n",
    "    else:\n",
    "        # breaker()\n",
    "        # print(\"Building DataLoaders ...\")\n",
    "        dataloader = build_dataloader(images=images, transform=TRANSFORM_PRE)\n",
    "        augmented_dataloader = build_dataloader(images=augmented_images, transform=TRANSFORM_PRE)\n",
    "\n",
    "        model = build_model(pretrained=True)\n",
    "\n",
    "        # breaker()\n",
    "        # print(\"Obtaining Features ...\")\n",
    "\n",
    "        features = get_features(model, dataloader, num_features=NUM_FEATURES)\n",
    "        augmented_features = get_features(model, augmented_dataloader, num_features=NUM_FEATURES)\n",
    "\n",
    "        targets = get_targets(\"../input/petfinder-pawpularity-score\")\n",
    "\n",
    "        # breaker()\n",
    "        # print(\"Saving Features as a .npy File ...\")\n",
    "        np.save(\"./UA_features.npy\", features)\n",
    "        np.save(\"./A_features.npy\", augmented_features)\n",
    "        np.save(\"./Targets.npy\", targets)\n",
    "\n",
    "    # breaker()\n",
    "\n",
    "save_features()"
   ]
  },
  {
   "cell_type": "markdown",
   "id": "96825e7c",
   "metadata": {
    "papermill": {
     "duration": 0.01112,
     "end_time": "2021-10-09T01:08:29.719678",
     "exception": false,
     "start_time": "2021-10-09T01:08:29.708558",
     "status": "completed"
    },
    "tags": []
   },
   "source": [
    "## End"
   ]
  },
  {
   "cell_type": "code",
   "execution_count": 10,
   "id": "79a68f15",
   "metadata": {
    "execution": {
     "iopub.execute_input": "2021-10-09T01:08:29.747262Z",
     "iopub.status.busy": "2021-10-09T01:08:29.746668Z",
     "iopub.status.idle": "2021-10-09T01:08:29.749540Z",
     "shell.execute_reply": "2021-10-09T01:08:29.749928Z",
     "shell.execute_reply.started": "2021-10-09T00:46:13.857719Z"
    },
    "papermill": {
     "duration": 0.018947,
     "end_time": "2021-10-09T01:08:29.750057",
     "exception": false,
     "start_time": "2021-10-09T01:08:29.731110",
     "status": "completed"
    },
    "tags": []
   },
   "outputs": [
    {
     "name": "stdout",
     "output_type": "stream",
     "text": [
      "\n",
      "**************************************************\n",
      "\n",
      "Notebook Run Time : 1.38 minutes\n",
      "\n",
      "**************************************************\n",
      "\n"
     ]
    }
   ],
   "source": [
    "breaker()\n",
    "print(\"Notebook Run Time : {:.2f} minutes\".format((time()-notebook_start_time)/60))\n",
    "breaker()"
   ]
  }
 ],
 "metadata": {
  "kernelspec": {
   "display_name": "Python 3",
   "language": "python",
   "name": "python3"
  },
  "language_info": {
   "codemirror_mode": {
    "name": "ipython",
    "version": 3
   },
   "file_extension": ".py",
   "mimetype": "text/x-python",
   "name": "python",
   "nbconvert_exporter": "python",
   "pygments_lexer": "ipython3",
   "version": "3.7.10"
  },
  "papermill": {
   "default_parameters": {},
   "duration": 90.598968,
   "end_time": "2021-10-09T01:08:31.261651",
   "environment_variables": {},
   "exception": null,
   "input_path": "__notebook__.ipynb",
   "output_path": "__notebook__.ipynb",
   "parameters": {},
   "start_time": "2021-10-09T01:07:00.662683",
   "version": "2.3.3"
  },
  "widgets": {
   "application/vnd.jupyter.widget-state+json": {
    "state": {
     "09beec4307e344eeb91ae088c7ca2688": {
      "model_module": "@jupyter-widgets/base",
      "model_module_version": "1.2.0",
      "model_name": "LayoutModel",
      "state": {
       "_model_module": "@jupyter-widgets/base",
       "_model_module_version": "1.2.0",
       "_model_name": "LayoutModel",
       "_view_count": null,
       "_view_module": "@jupyter-widgets/base",
       "_view_module_version": "1.2.0",
       "_view_name": "LayoutView",
       "align_content": null,
       "align_items": null,
       "align_self": null,
       "border": null,
       "bottom": null,
       "display": null,
       "flex": null,
       "flex_flow": null,
       "grid_area": null,
       "grid_auto_columns": null,
       "grid_auto_flow": null,
       "grid_auto_rows": null,
       "grid_column": null,
       "grid_gap": null,
       "grid_row": null,
       "grid_template_areas": null,
       "grid_template_columns": null,
       "grid_template_rows": null,
       "height": null,
       "justify_content": null,
       "justify_items": null,
       "left": null,
       "margin": null,
       "max_height": null,
       "max_width": null,
       "min_height": null,
       "min_width": null,
       "object_fit": null,
       "object_position": null,
       "order": null,
       "overflow": null,
       "overflow_x": null,
       "overflow_y": null,
       "padding": null,
       "right": null,
       "top": null,
       "visibility": null,
       "width": null
      }
     },
     "12ec59b19f5c4cef936cc889fa657b4e": {
      "model_module": "@jupyter-widgets/controls",
      "model_module_version": "1.5.0",
      "model_name": "HBoxModel",
      "state": {
       "_dom_classes": [],
       "_model_module": "@jupyter-widgets/controls",
       "_model_module_version": "1.5.0",
       "_model_name": "HBoxModel",
       "_view_count": null,
       "_view_module": "@jupyter-widgets/controls",
       "_view_module_version": "1.5.0",
       "_view_name": "HBoxView",
       "box_style": "",
       "children": [
        "IPY_MODEL_f06c9960e0d04a698a19fffd5492dcf4",
        "IPY_MODEL_66424ff528db4c1b99ef6501974c0fae",
        "IPY_MODEL_88a522254b5b40bab98a53f0f331c621"
       ],
       "layout": "IPY_MODEL_ee77fc7faaec451d94fd2e0a09f04acf"
      }
     },
     "50a137209b1c4dfb8c082907e43240ad": {
      "model_module": "@jupyter-widgets/base",
      "model_module_version": "1.2.0",
      "model_name": "LayoutModel",
      "state": {
       "_model_module": "@jupyter-widgets/base",
       "_model_module_version": "1.2.0",
       "_model_name": "LayoutModel",
       "_view_count": null,
       "_view_module": "@jupyter-widgets/base",
       "_view_module_version": "1.2.0",
       "_view_name": "LayoutView",
       "align_content": null,
       "align_items": null,
       "align_self": null,
       "border": null,
       "bottom": null,
       "display": null,
       "flex": null,
       "flex_flow": null,
       "grid_area": null,
       "grid_auto_columns": null,
       "grid_auto_flow": null,
       "grid_auto_rows": null,
       "grid_column": null,
       "grid_gap": null,
       "grid_row": null,
       "grid_template_areas": null,
       "grid_template_columns": null,
       "grid_template_rows": null,
       "height": null,
       "justify_content": null,
       "justify_items": null,
       "left": null,
       "margin": null,
       "max_height": null,
       "max_width": null,
       "min_height": null,
       "min_width": null,
       "object_fit": null,
       "object_position": null,
       "order": null,
       "overflow": null,
       "overflow_x": null,
       "overflow_y": null,
       "padding": null,
       "right": null,
       "top": null,
       "visibility": null,
       "width": null
      }
     },
     "66424ff528db4c1b99ef6501974c0fae": {
      "model_module": "@jupyter-widgets/controls",
      "model_module_version": "1.5.0",
      "model_name": "FloatProgressModel",
      "state": {
       "_dom_classes": [],
       "_model_module": "@jupyter-widgets/controls",
       "_model_module_version": "1.5.0",
       "_model_name": "FloatProgressModel",
       "_view_count": null,
       "_view_module": "@jupyter-widgets/controls",
       "_view_module_version": "1.5.0",
       "_view_name": "ProgressView",
       "bar_style": "success",
       "description": "",
       "description_tooltip": null,
       "layout": "IPY_MODEL_6b5c762acbf34b82b73e237b305c5a29",
       "max": 57365526.0,
       "min": 0.0,
       "orientation": "horizontal",
       "style": "IPY_MODEL_e258109d73e043fdbd63f5b05df98c73",
       "value": 57365526.0
      }
     },
     "6b5c762acbf34b82b73e237b305c5a29": {
      "model_module": "@jupyter-widgets/base",
      "model_module_version": "1.2.0",
      "model_name": "LayoutModel",
      "state": {
       "_model_module": "@jupyter-widgets/base",
       "_model_module_version": "1.2.0",
       "_model_name": "LayoutModel",
       "_view_count": null,
       "_view_module": "@jupyter-widgets/base",
       "_view_module_version": "1.2.0",
       "_view_name": "LayoutView",
       "align_content": null,
       "align_items": null,
       "align_self": null,
       "border": null,
       "bottom": null,
       "display": null,
       "flex": null,
       "flex_flow": null,
       "grid_area": null,
       "grid_auto_columns": null,
       "grid_auto_flow": null,
       "grid_auto_rows": null,
       "grid_column": null,
       "grid_gap": null,
       "grid_row": null,
       "grid_template_areas": null,
       "grid_template_columns": null,
       "grid_template_rows": null,
       "height": null,
       "justify_content": null,
       "justify_items": null,
       "left": null,
       "margin": null,
       "max_height": null,
       "max_width": null,
       "min_height": null,
       "min_width": null,
       "object_fit": null,
       "object_position": null,
       "order": null,
       "overflow": null,
       "overflow_x": null,
       "overflow_y": null,
       "padding": null,
       "right": null,
       "top": null,
       "visibility": null,
       "width": null
      }
     },
     "85b7e163c6d84ec4b636504acb4705bd": {
      "model_module": "@jupyter-widgets/controls",
      "model_module_version": "1.5.0",
      "model_name": "DescriptionStyleModel",
      "state": {
       "_model_module": "@jupyter-widgets/controls",
       "_model_module_version": "1.5.0",
       "_model_name": "DescriptionStyleModel",
       "_view_count": null,
       "_view_module": "@jupyter-widgets/base",
       "_view_module_version": "1.2.0",
       "_view_name": "StyleView",
       "description_width": ""
      }
     },
     "88a522254b5b40bab98a53f0f331c621": {
      "model_module": "@jupyter-widgets/controls",
      "model_module_version": "1.5.0",
      "model_name": "HTMLModel",
      "state": {
       "_dom_classes": [],
       "_model_module": "@jupyter-widgets/controls",
       "_model_module_version": "1.5.0",
       "_model_name": "HTMLModel",
       "_view_count": null,
       "_view_module": "@jupyter-widgets/controls",
       "_view_module_version": "1.5.0",
       "_view_name": "HTMLView",
       "description": "",
       "description_tooltip": null,
       "layout": "IPY_MODEL_50a137209b1c4dfb8c082907e43240ad",
       "placeholder": "​",
       "style": "IPY_MODEL_85b7e163c6d84ec4b636504acb4705bd",
       "value": " 54.7M/54.7M [00:03&lt;00:00, 22.8MB/s]"
      }
     },
     "9db6e48b578a4288a14e24991020a477": {
      "model_module": "@jupyter-widgets/controls",
      "model_module_version": "1.5.0",
      "model_name": "DescriptionStyleModel",
      "state": {
       "_model_module": "@jupyter-widgets/controls",
       "_model_module_version": "1.5.0",
       "_model_name": "DescriptionStyleModel",
       "_view_count": null,
       "_view_module": "@jupyter-widgets/base",
       "_view_module_version": "1.2.0",
       "_view_name": "StyleView",
       "description_width": ""
      }
     },
     "e258109d73e043fdbd63f5b05df98c73": {
      "model_module": "@jupyter-widgets/controls",
      "model_module_version": "1.5.0",
      "model_name": "ProgressStyleModel",
      "state": {
       "_model_module": "@jupyter-widgets/controls",
       "_model_module_version": "1.5.0",
       "_model_name": "ProgressStyleModel",
       "_view_count": null,
       "_view_module": "@jupyter-widgets/base",
       "_view_module_version": "1.2.0",
       "_view_name": "StyleView",
       "bar_color": null,
       "description_width": ""
      }
     },
     "ee77fc7faaec451d94fd2e0a09f04acf": {
      "model_module": "@jupyter-widgets/base",
      "model_module_version": "1.2.0",
      "model_name": "LayoutModel",
      "state": {
       "_model_module": "@jupyter-widgets/base",
       "_model_module_version": "1.2.0",
       "_model_name": "LayoutModel",
       "_view_count": null,
       "_view_module": "@jupyter-widgets/base",
       "_view_module_version": "1.2.0",
       "_view_name": "LayoutView",
       "align_content": null,
       "align_items": null,
       "align_self": null,
       "border": null,
       "bottom": null,
       "display": null,
       "flex": null,
       "flex_flow": null,
       "grid_area": null,
       "grid_auto_columns": null,
       "grid_auto_flow": null,
       "grid_auto_rows": null,
       "grid_column": null,
       "grid_gap": null,
       "grid_row": null,
       "grid_template_areas": null,
       "grid_template_columns": null,
       "grid_template_rows": null,
       "height": null,
       "justify_content": null,
       "justify_items": null,
       "left": null,
       "margin": null,
       "max_height": null,
       "max_width": null,
       "min_height": null,
       "min_width": null,
       "object_fit": null,
       "object_position": null,
       "order": null,
       "overflow": null,
       "overflow_x": null,
       "overflow_y": null,
       "padding": null,
       "right": null,
       "top": null,
       "visibility": null,
       "width": null
      }
     },
     "f06c9960e0d04a698a19fffd5492dcf4": {
      "model_module": "@jupyter-widgets/controls",
      "model_module_version": "1.5.0",
      "model_name": "HTMLModel",
      "state": {
       "_dom_classes": [],
       "_model_module": "@jupyter-widgets/controls",
       "_model_module_version": "1.5.0",
       "_model_name": "HTMLModel",
       "_view_count": null,
       "_view_module": "@jupyter-widgets/controls",
       "_view_module_version": "1.5.0",
       "_view_name": "HTMLView",
       "description": "",
       "description_tooltip": null,
       "layout": "IPY_MODEL_09beec4307e344eeb91ae088c7ca2688",
       "placeholder": "​",
       "style": "IPY_MODEL_9db6e48b578a4288a14e24991020a477",
       "value": "100%"
      }
     }
    },
    "version_major": 2,
    "version_minor": 0
   }
  }
 },
 "nbformat": 4,
 "nbformat_minor": 5
}
