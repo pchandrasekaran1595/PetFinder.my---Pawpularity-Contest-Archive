{
 "cells": [
  {
   "cell_type": "code",
   "execution_count": 1,
   "id": "68057745",
   "metadata": {
    "_cell_guid": "b1076dfc-b9ad-4769-8c92-a6c4dae69d19",
    "_uuid": "8f2839f25d086af736a60e9eeb907d3b93b6e0e5",
    "execution": {
     "iopub.execute_input": "2021-10-04T20:49:18.309282Z",
     "iopub.status.busy": "2021-10-04T20:49:18.307760Z",
     "iopub.status.idle": "2021-10-04T20:49:19.225452Z",
     "shell.execute_reply": "2021-10-04T20:49:19.224377Z",
     "shell.execute_reply.started": "2021-10-03T21:56:01.604022Z"
    },
    "papermill": {
     "duration": 0.928708,
     "end_time": "2021-10-04T20:49:19.225605",
     "exception": false,
     "start_time": "2021-10-04T20:49:18.296897",
     "status": "completed"
    },
    "tags": []
   },
   "outputs": [],
   "source": [
    "import os\n",
    "import pickle\n",
    "import random as r\n",
    "import numpy as np\n",
    "import pandas as pd\n",
    "\n",
    "from xgboost import XGBRegressor\n",
    "from sklearn.metrics import mean_squared_error\n",
    "from sklearn.preprocessing import StandardScaler\n",
    "from sklearn.model_selection import KFold, GridSearchCV"
   ]
  },
  {
   "cell_type": "code",
   "execution_count": 2,
   "id": "b2376cf3",
   "metadata": {
    "execution": {
     "iopub.execute_input": "2021-10-04T20:49:19.243468Z",
     "iopub.status.busy": "2021-10-04T20:49:19.241569Z",
     "iopub.status.idle": "2021-10-04T20:49:19.244172Z",
     "shell.execute_reply": "2021-10-04T20:49:19.244721Z",
     "shell.execute_reply.started": "2021-10-03T21:27:23.733646Z"
    },
    "papermill": {
     "duration": 0.012786,
     "end_time": "2021-10-04T20:49:19.245008",
     "exception": false,
     "start_time": "2021-10-04T20:49:19.232222",
     "status": "completed"
    },
    "tags": []
   },
   "outputs": [],
   "source": [
    "SEED = 0\n",
    "PATH = \"../input/petfinder-pawpularity-score\"\n",
    "\n",
    "sc_X = StandardScaler()\n",
    "sc_y = StandardScaler()"
   ]
  },
  {
   "cell_type": "code",
   "execution_count": 3,
   "id": "393da243",
   "metadata": {
    "execution": {
     "iopub.execute_input": "2021-10-04T20:49:19.281139Z",
     "iopub.status.busy": "2021-10-04T20:49:19.280339Z",
     "iopub.status.idle": "2021-10-04T20:49:19.298056Z",
     "shell.execute_reply": "2021-10-04T20:49:19.298678Z",
     "shell.execute_reply.started": "2021-10-03T21:56:03.144372Z"
    },
    "papermill": {
     "duration": 0.037764,
     "end_time": "2021-10-04T20:49:19.298836",
     "exception": false,
     "start_time": "2021-10-04T20:49:19.261072",
     "status": "completed"
    },
    "tags": []
   },
   "outputs": [],
   "source": [
    "def breaker(num=50, char=\"*\") -> None:\n",
    "    print(\"\\n\" + num*char + \"\\n\")\n",
    "\n",
    "\n",
    "def head(x, no_of_ele=5) -> None:\n",
    "    print(x[:no_of_ele])\n",
    "    \n",
    "\n",
    "def get_data(path: str, name: str) -> tuple:\n",
    "    df = pd.read_csv(os.path.join(path, name), engine=\"python\")\n",
    "    targets = None\n",
    "    \n",
    "    if name == \"train.csv\":\n",
    "        features = df.iloc[:, 1:-1].copy().values\n",
    "        targets  = df.iloc[:, -1].copy().values\n",
    "    else:\n",
    "        features = df.iloc[:, 1:].copy().values\n",
    "    \n",
    "    return features, targets\n",
    "\n",
    "\n",
    "def split_and_transform(features: np.ndarray, targets: np.ndarray, seed: int) -> tuple:\n",
    "    for tr_idx, va_idx in KFold(n_splits=5, shuffle=True, random_state=seed).split(features):\n",
    "        break\n",
    "    \n",
    "    tr_features, va_features = features[tr_idx], features[va_idx]\n",
    "    tr_targets, va_targets   = targets[tr_idx], targets[va_idx]\n",
    "    tr_targets, va_targets   = tr_targets.reshape(-1, 1), va_targets.reshape(-1, 1)\n",
    "    \n",
    "    tr_features, tr_targets = sc_X.fit_transform(tr_features), sc_y.fit_transform(tr_targets)\n",
    "    va_features, va_targets = sc_X.transform(va_features), sc_y.transform(va_targets)\n",
    "    \n",
    "    return tr_features, va_features, tr_targets, va_targets  \n",
    "\n",
    "\n",
    "def save_model(model, filename: str) -> None:\n",
    "    pickle.dump(model, open(filename, \"wb\"))"
   ]
  },
  {
   "cell_type": "code",
   "execution_count": 4,
   "id": "e257d4d0",
   "metadata": {
    "execution": {
     "iopub.execute_input": "2021-10-04T20:49:19.319623Z",
     "iopub.status.busy": "2021-10-04T20:49:19.317797Z",
     "iopub.status.idle": "2021-10-04T20:49:19.526651Z",
     "shell.execute_reply": "2021-10-04T20:49:19.526143Z",
     "shell.execute_reply.started": "2021-10-03T21:27:24.293887Z"
    },
    "papermill": {
     "duration": 0.219682,
     "end_time": "2021-10-04T20:49:19.526776",
     "exception": false,
     "start_time": "2021-10-04T20:49:19.307094",
     "status": "completed"
    },
    "tags": []
   },
   "outputs": [],
   "source": [
    "features, targets = get_data(PATH, \"train.csv\")\n",
    "tr_features, va_features, tr_targets, va_targets = split_and_transform(features, targets, SEED)"
   ]
  },
  {
   "cell_type": "code",
   "execution_count": 5,
   "id": "b2e4729e",
   "metadata": {
    "execution": {
     "iopub.execute_input": "2021-10-04T20:49:19.544604Z",
     "iopub.status.busy": "2021-10-04T20:49:19.543797Z",
     "iopub.status.idle": "2021-10-04T20:49:21.877023Z",
     "shell.execute_reply": "2021-10-04T20:49:21.876462Z",
     "shell.execute_reply.started": "2021-10-03T21:31:05.71852Z"
    },
    "papermill": {
     "duration": 2.343983,
     "end_time": "2021-10-04T20:49:21.877186",
     "exception": false,
     "start_time": "2021-10-04T20:49:19.533203",
     "status": "completed"
    },
    "tags": []
   },
   "outputs": [
    {
     "name": "stdout",
     "output_type": "stream",
     "text": [
      "\n",
      "**************************************************\n",
      "\n",
      "RMSE : 1.02718\n",
      "\n",
      "**************************************************\n",
      "\n"
     ]
    }
   ],
   "source": [
    "xgbr = XGBRegressor(random_state=SEED, tree_method=\"gpu_hist\")\n",
    "xgbr.fit(tr_features, tr_targets)\n",
    "\n",
    "y_pred = xgbr.predict(va_features)\n",
    "\n",
    "breaker()\n",
    "print(\"RMSE : {:.5f}\".format(np.sqrt(mean_squared_error(y_pred, va_targets))))\n",
    "breaker()"
   ]
  },
  {
   "cell_type": "code",
   "execution_count": 6,
   "id": "3365b6a9",
   "metadata": {
    "execution": {
     "iopub.execute_input": "2021-10-04T20:49:21.897828Z",
     "iopub.status.busy": "2021-10-04T20:49:21.897005Z",
     "iopub.status.idle": "2021-10-04T21:24:20.188931Z",
     "shell.execute_reply": "2021-10-04T21:24:20.189369Z",
     "shell.execute_reply.started": "2021-10-03T21:41:23.490059Z"
    },
    "papermill": {
     "duration": 2098.305346,
     "end_time": "2021-10-04T21:24:20.189520",
     "exception": false,
     "start_time": "2021-10-04T20:49:21.884174",
     "status": "completed"
    },
    "tags": []
   },
   "outputs": [
    {
     "name": "stdout",
     "output_type": "stream",
     "text": [
      "{'learning_rate': 0.01, 'n_estimators': 300, 'random_state': 49}\n"
     ]
    }
   ],
   "source": [
    "r.seed(SEED)\n",
    "seeds = [r.randint(0, 99) for _ in range(5)]\n",
    "\n",
    "parameters = {\"random_state\" : seeds,\n",
    "              \"n_estimators\" : [i*100 for i in range(1, 11)], \n",
    "              \"learning_rate\" : [1e-1, 1e-2, 1e-3, 1e-4, 1e-5, 1e-6]}\n",
    "model = GridSearchCV(xgbr, parameters, cv=5)\n",
    "model.fit(tr_features, tr_targets)\n",
    "print(\"{}\".format(model.best_params_))"
   ]
  },
  {
   "cell_type": "code",
   "execution_count": 7,
   "id": "4ccaa7ff",
   "metadata": {
    "execution": {
     "iopub.execute_input": "2021-10-04T21:24:20.205555Z",
     "iopub.status.busy": "2021-10-04T21:24:20.204774Z",
     "iopub.status.idle": "2021-10-04T21:24:21.571900Z",
     "shell.execute_reply": "2021-10-04T21:24:21.572563Z",
     "shell.execute_reply.started": "2021-10-03T21:56:05.253605Z"
    },
    "papermill": {
     "duration": 1.376672,
     "end_time": "2021-10-04T21:24:21.572713",
     "exception": false,
     "start_time": "2021-10-04T21:24:20.196041",
     "status": "completed"
    },
    "tags": []
   },
   "outputs": [
    {
     "name": "stdout",
     "output_type": "stream",
     "text": [
      "\n",
      "**************************************************\n",
      "\n",
      "RMSE : 1.01290\n",
      "\n",
      "**************************************************\n",
      "\n"
     ]
    }
   ],
   "source": [
    "xgbr = XGBRegressor(random_state=model.best_params_[\"random_state\"], \n",
    "                    learning_rate=model.best_params_[\"learning_rate\"], \n",
    "                    n_estimators=model.best_params_[\"n_estimators\"])\n",
    "xgbr.fit(tr_features, tr_targets)\n",
    "\n",
    "y_pred = xgbr.predict(va_features)\n",
    "\n",
    "breaker()\n",
    "print(\"RMSE : {:.5f}\".format(np.sqrt(mean_squared_error(y_pred, va_targets))))\n",
    "breaker()\n",
    "\n",
    "save_model(xgbr, \"./xgb_model.pkl\")\n",
    "np.save(\"./xgb_predictions.npy\", sc_y.inverse_transform(y_pred))"
   ]
  }
 ],
 "metadata": {
  "kernelspec": {
   "display_name": "Python 3",
   "language": "python",
   "name": "python3"
  },
  "language_info": {
   "codemirror_mode": {
    "name": "ipython",
    "version": 3
   },
   "file_extension": ".py",
   "mimetype": "text/x-python",
   "name": "python",
   "nbconvert_exporter": "python",
   "pygments_lexer": "ipython3",
   "version": "3.7.10"
  },
  "papermill": {
   "default_parameters": {},
   "duration": 2111.155345,
   "end_time": "2021-10-04T21:24:22.844038",
   "environment_variables": {},
   "exception": null,
   "input_path": "__notebook__.ipynb",
   "output_path": "__notebook__.ipynb",
   "parameters": {},
   "start_time": "2021-10-04T20:49:11.688693",
   "version": "2.3.3"
  }
 },
 "nbformat": 4,
 "nbformat_minor": 5
}
