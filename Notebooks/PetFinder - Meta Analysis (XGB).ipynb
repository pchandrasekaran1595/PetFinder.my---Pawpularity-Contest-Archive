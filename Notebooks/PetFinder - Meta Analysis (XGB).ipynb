{
 "cells": [
  {
   "cell_type": "code",
   "execution_count": 1,
   "id": "ed0f4dc9",
   "metadata": {
    "_cell_guid": "b1076dfc-b9ad-4769-8c92-a6c4dae69d19",
    "_uuid": "8f2839f25d086af736a60e9eeb907d3b93b6e0e5",
    "execution": {
     "iopub.execute_input": "2021-10-03T21:56:35.683319Z",
     "iopub.status.busy": "2021-10-03T21:56:35.682139Z",
     "iopub.status.idle": "2021-10-03T21:56:36.779961Z",
     "shell.execute_reply": "2021-10-03T21:56:36.780537Z",
     "shell.execute_reply.started": "2021-10-03T21:56:01.604022Z"
    },
    "papermill": {
     "duration": 1.110229,
     "end_time": "2021-10-03T21:56:36.780852",
     "exception": false,
     "start_time": "2021-10-03T21:56:35.670623",
     "status": "completed"
    },
    "tags": []
   },
   "outputs": [],
   "source": [
    "import os\n",
    "import pickle\n",
    "import numpy as np\n",
    "import pandas as pd\n",
    "\n",
    "from xgboost import XGBRegressor\n",
    "from sklearn.metrics import mean_squared_error\n",
    "from sklearn.preprocessing import StandardScaler\n",
    "from sklearn.model_selection import KFold, GridSearchCV"
   ]
  },
  {
   "cell_type": "code",
   "execution_count": 2,
   "id": "db1648c5",
   "metadata": {
    "execution": {
     "iopub.execute_input": "2021-10-03T21:56:36.798242Z",
     "iopub.status.busy": "2021-10-03T21:56:36.797583Z",
     "iopub.status.idle": "2021-10-03T21:56:36.802276Z",
     "shell.execute_reply": "2021-10-03T21:56:36.801652Z",
     "shell.execute_reply.started": "2021-10-03T21:27:23.733646Z"
    },
    "papermill": {
     "duration": 0.014151,
     "end_time": "2021-10-03T21:56:36.802418",
     "exception": false,
     "start_time": "2021-10-03T21:56:36.788267",
     "status": "completed"
    },
    "tags": []
   },
   "outputs": [],
   "source": [
    "SEED = 0\n",
    "PATH = \"../input/petfinder-pawpularity-score\"\n",
    "\n",
    "sc_X = StandardScaler()\n",
    "sc_y = StandardScaler()"
   ]
  },
  {
   "cell_type": "code",
   "execution_count": 3,
   "id": "76110259",
   "metadata": {
    "execution": {
     "iopub.execute_input": "2021-10-03T21:56:36.832222Z",
     "iopub.status.busy": "2021-10-03T21:56:36.831447Z",
     "iopub.status.idle": "2021-10-03T21:56:36.834355Z",
     "shell.execute_reply": "2021-10-03T21:56:36.833826Z",
     "shell.execute_reply.started": "2021-10-03T21:56:03.144372Z"
    },
    "papermill": {
     "duration": 0.024255,
     "end_time": "2021-10-03T21:56:36.834503",
     "exception": false,
     "start_time": "2021-10-03T21:56:36.810248",
     "status": "completed"
    },
    "tags": []
   },
   "outputs": [],
   "source": [
    "def breaker(num=50, char=\"*\") -> None:\n",
    "    print(\"\\n\" + num*char + \"\\n\")\n",
    "\n",
    "\n",
    "def head(x, no_of_ele=5) -> None:\n",
    "    print(x[:no_of_ele])\n",
    "    \n",
    "\n",
    "def get_data(path: str, name: str) -> tuple:\n",
    "    df = pd.read_csv(os.path.join(path, name), engine=\"python\")\n",
    "    targets = None\n",
    "    \n",
    "    if name == \"train.csv\":\n",
    "        features = df.iloc[:, 1:-1].copy().values\n",
    "        targets  = df.iloc[:, -1].copy().values\n",
    "    else:\n",
    "        features = df.iloc[:, 1:].copy().values\n",
    "    \n",
    "    return features, targets\n",
    "\n",
    "\n",
    "def split_and_transform(features: np.ndarray, targets: np.ndarray, seed: int) -> tuple:\n",
    "    for tr_idx, va_idx in KFold(n_splits=5, shuffle=True, random_state=seed).split(features):\n",
    "        break\n",
    "    \n",
    "    tr_features, va_features = features[tr_idx], features[va_idx]\n",
    "    tr_targets, va_targets   = targets[tr_idx], targets[va_idx]\n",
    "    tr_targets, va_targets   = tr_targets.reshape(-1, 1), va_targets.reshape(-1, 1)\n",
    "    \n",
    "    tr_features, tr_targets = sc_X.fit_transform(tr_features), sc_y.fit_transform(tr_targets)\n",
    "    va_features, va_targets = sc_X.transform(va_features), sc_y.transform(va_targets)\n",
    "    \n",
    "    return tr_features, va_features, tr_targets, va_targets  \n",
    "\n",
    "\n",
    "def save_model(model, filename: str) -> None:\n",
    "    pickle.dump(model, open(filename, \"wb\"))"
   ]
  },
  {
   "cell_type": "code",
   "execution_count": 4,
   "id": "f6fa29af",
   "metadata": {
    "execution": {
     "iopub.execute_input": "2021-10-03T21:56:36.854222Z",
     "iopub.status.busy": "2021-10-03T21:56:36.853565Z",
     "iopub.status.idle": "2021-10-03T21:56:37.051458Z",
     "shell.execute_reply": "2021-10-03T21:56:37.050822Z",
     "shell.execute_reply.started": "2021-10-03T21:27:24.293887Z"
    },
    "papermill": {
     "duration": 0.209804,
     "end_time": "2021-10-03T21:56:37.051599",
     "exception": false,
     "start_time": "2021-10-03T21:56:36.841795",
     "status": "completed"
    },
    "tags": []
   },
   "outputs": [],
   "source": [
    "features, targets = get_data(PATH, \"train.csv\")\n",
    "tr_features, va_features, tr_targets, va_targets = split_and_transform(features, targets, SEED)"
   ]
  },
  {
   "cell_type": "code",
   "execution_count": 5,
   "id": "b8b11ca7",
   "metadata": {
    "execution": {
     "iopub.execute_input": "2021-10-03T21:56:37.071935Z",
     "iopub.status.busy": "2021-10-03T21:56:37.071279Z",
     "iopub.status.idle": "2021-10-03T21:56:37.415745Z",
     "shell.execute_reply": "2021-10-03T21:56:37.416315Z",
     "shell.execute_reply.started": "2021-10-03T21:31:05.718520Z"
    },
    "papermill": {
     "duration": 0.357752,
     "end_time": "2021-10-03T21:56:37.416506",
     "exception": false,
     "start_time": "2021-10-03T21:56:37.058754",
     "status": "completed"
    },
    "tags": []
   },
   "outputs": [
    {
     "name": "stdout",
     "output_type": "stream",
     "text": [
      "\n",
      "**************************************************\n",
      "\n",
      "RMSE : 1.02736\n",
      "\n",
      "**************************************************\n",
      "\n"
     ]
    }
   ],
   "source": [
    "xgbr = XGBRegressor(random_state=SEED)\n",
    "xgbr.fit(tr_features, tr_targets)\n",
    "\n",
    "y_pred = xgbr.predict(va_features)\n",
    "\n",
    "breaker()\n",
    "print(\"RMSE : {:.5f}\".format(np.sqrt(mean_squared_error(y_pred, va_targets))))\n",
    "breaker()"
   ]
  },
  {
   "cell_type": "code",
   "execution_count": 6,
   "id": "941beb4b",
   "metadata": {
    "execution": {
     "iopub.execute_input": "2021-10-03T21:56:37.441912Z",
     "iopub.status.busy": "2021-10-03T21:56:37.440518Z",
     "iopub.status.idle": "2021-10-03T22:03:55.710771Z",
     "shell.execute_reply": "2021-10-03T22:03:55.711518Z",
     "shell.execute_reply.started": "2021-10-03T21:41:23.490059Z"
    },
    "papermill": {
     "duration": 438.285822,
     "end_time": "2021-10-03T22:03:55.711773",
     "exception": false,
     "start_time": "2021-10-03T21:56:37.425951",
     "status": "completed"
    },
    "tags": []
   },
   "outputs": [
    {
     "name": "stdout",
     "output_type": "stream",
     "text": [
      "{'learning_rate': 0.01, 'n_estimators': 300}\n"
     ]
    }
   ],
   "source": [
    "parameters = {\"n_estimators\" : [i*100 for i in range(1, 11)], \n",
    "              \"learning_rate\" : [1e-1, 1e-2, 1e-3, 1e-4, 1e-5, 1e-6]}\n",
    "model = GridSearchCV(xgbr, parameters, cv=5)\n",
    "model.fit(tr_features, tr_targets)\n",
    "print(\"{}\".format(model.best_params_))"
   ]
  },
  {
   "cell_type": "code",
   "execution_count": 7,
   "id": "93b915ee",
   "metadata": {
    "execution": {
     "iopub.execute_input": "2021-10-03T22:03:55.731909Z",
     "iopub.status.busy": "2021-10-03T22:03:55.730889Z",
     "iopub.status.idle": "2021-10-03T22:03:56.830314Z",
     "shell.execute_reply": "2021-10-03T22:03:56.830830Z",
     "shell.execute_reply.started": "2021-10-03T21:56:05.253605Z"
    },
    "papermill": {
     "duration": 1.110539,
     "end_time": "2021-10-03T22:03:56.831032",
     "exception": false,
     "start_time": "2021-10-03T22:03:55.720493",
     "status": "completed"
    },
    "tags": []
   },
   "outputs": [
    {
     "name": "stdout",
     "output_type": "stream",
     "text": [
      "\n",
      "**************************************************\n",
      "\n",
      "RMSE : 1.01290\n",
      "\n",
      "**************************************************\n",
      "\n"
     ]
    }
   ],
   "source": [
    "xgbr = XGBRegressor(random_state=SEED, \n",
    "                    learning_rate=model.best_params_[\"learning_rate\"], \n",
    "                    n_estimators=model.best_params_[\"n_estimators\"])\n",
    "xgbr.fit(tr_features, tr_targets)\n",
    "\n",
    "y_pred = xgbr.predict(va_features)\n",
    "\n",
    "breaker()\n",
    "print(\"RMSE : {:.5f}\".format(np.sqrt(mean_squared_error(y_pred, va_targets))))\n",
    "breaker()\n",
    "\n",
    "save_model(xgbr, \"./xgb_model.pkl\")"
   ]
  }
 ],
 "metadata": {
  "kernelspec": {
   "display_name": "Python 3",
   "language": "python",
   "name": "python3"
  },
  "language_info": {
   "codemirror_mode": {
    "name": "ipython",
    "version": 3
   },
   "file_extension": ".py",
   "mimetype": "text/x-python",
   "name": "python",
   "nbconvert_exporter": "python",
   "pygments_lexer": "ipython3",
   "version": "3.7.10"
  },
  "papermill": {
   "default_parameters": {},
   "duration": 450.893212,
   "end_time": "2021-10-03T22:03:58.156200",
   "environment_variables": {},
   "exception": null,
   "input_path": "__notebook__.ipynb",
   "output_path": "__notebook__.ipynb",
   "parameters": {},
   "start_time": "2021-10-03T21:56:27.262988",
   "version": "2.3.3"
  }
 },
 "nbformat": 4,
 "nbformat_minor": 5
}
