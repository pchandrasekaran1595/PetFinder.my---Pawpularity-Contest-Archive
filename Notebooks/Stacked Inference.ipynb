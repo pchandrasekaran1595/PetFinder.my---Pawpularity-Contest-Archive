{
 "cells": [
  {
   "cell_type": "markdown",
   "id": "c476e41e",
   "metadata": {
    "_cell_guid": "b1076dfc-b9ad-4769-8c92-a6c4dae69d19",
    "_uuid": "8f2839f25d086af736a60e9eeb907d3b93b6e0e5",
    "papermill": {
     "duration": 0.010929,
     "end_time": "2021-10-06T21:44:06.867623",
     "exception": false,
     "start_time": "2021-10-06T21:44:06.856694",
     "status": "completed"
    },
    "tags": []
   },
   "source": [
    "## Library Imports"
   ]
  },
  {
   "cell_type": "code",
   "execution_count": 1,
   "id": "3cb32846",
   "metadata": {
    "execution": {
     "iopub.execute_input": "2021-10-06T21:44:06.966019Z",
     "iopub.status.busy": "2021-10-06T21:44:06.965343Z",
     "iopub.status.idle": "2021-10-06T21:44:06.968437Z",
     "shell.execute_reply": "2021-10-06T21:44:06.967851Z",
     "shell.execute_reply.started": "2021-10-06T21:42:23.343214Z"
    },
    "papermill": {
     "duration": 0.090556,
     "end_time": "2021-10-06T21:44:06.968573",
     "exception": false,
     "start_time": "2021-10-06T21:44:06.878017",
     "status": "completed"
    },
    "tags": []
   },
   "outputs": [],
   "source": [
    "from time import time\n",
    "notebook_start_time = time()"
   ]
  },
  {
   "cell_type": "code",
   "execution_count": 2,
   "id": "367ea707",
   "metadata": {
    "execution": {
     "iopub.execute_input": "2021-10-06T21:44:06.992963Z",
     "iopub.status.busy": "2021-10-06T21:44:06.992330Z",
     "iopub.status.idle": "2021-10-06T21:44:12.412235Z",
     "shell.execute_reply": "2021-10-06T21:44:12.411205Z",
     "shell.execute_reply.started": "2021-10-06T21:42:23.440674Z"
    },
    "papermill": {
     "duration": 5.434314,
     "end_time": "2021-10-06T21:44:12.412388",
     "exception": false,
     "start_time": "2021-10-06T21:44:06.978074",
     "status": "completed"
    },
    "tags": []
   },
   "outputs": [],
   "source": [
    "import os\n",
    "import re\n",
    "import cv2\n",
    "import numpy as np\n",
    "import pandas as pd\n",
    "import matplotlib.pyplot as plt\n",
    "\n",
    "import torch\n",
    "from torch import nn, optim\n",
    "from torch.utils.data import Dataset\n",
    "from torch.utils.data import DataLoader as DL\n",
    "from torch.nn.utils import weight_norm as WN\n",
    "from torchvision import models, transforms\n",
    "\n",
    "from sklearn.model_selection import KFold\n",
    "from sklearn.preprocessing import StandardScaler"
   ]
  },
  {
   "cell_type": "markdown",
   "id": "e46a3a89",
   "metadata": {
    "papermill": {
     "duration": 0.010041,
     "end_time": "2021-10-06T21:44:12.432470",
     "exception": false,
     "start_time": "2021-10-06T21:44:12.422429",
     "status": "completed"
    },
    "tags": []
   },
   "source": [
    "## Constants and Utilities"
   ]
  },
  {
   "cell_type": "code",
   "execution_count": 3,
   "id": "41cd0446",
   "metadata": {
    "execution": {
     "iopub.execute_input": "2021-10-06T21:44:12.571437Z",
     "iopub.status.busy": "2021-10-06T21:44:12.570742Z",
     "iopub.status.idle": "2021-10-06T21:44:12.575740Z",
     "shell.execute_reply": "2021-10-06T21:44:12.576130Z",
     "shell.execute_reply.started": "2021-10-06T21:42:28.742715Z"
    },
    "papermill": {
     "duration": 0.134449,
     "end_time": "2021-10-06T21:44:12.576272",
     "exception": false,
     "start_time": "2021-10-06T21:44:12.441823",
     "status": "completed"
    },
    "tags": []
   },
   "outputs": [],
   "source": [
    "SEED = 0\n",
    "DEVICE = torch.device(\"cuda\" if torch.cuda.is_available() else \"cpu\")\n",
    "PATH = \"../input/petfinder-pawpularity-score\"\n",
    "PRETRAINED_WEIGHTS_PATH = \"../input/pretrained-model-weights\"\n",
    "\n",
    "NUM_FOLDS = 10\n",
    "IMAGE_SIZE = 224\n",
    "TRANSFORM = transforms.Compose([transforms.ToTensor(), \n",
    "                                transforms.Normalize([0.485, 0.456, 0.406],\n",
    "                                                     [0.229, 0.224, 0.225]),\n",
    "                                ])\n",
    "sc_y = StandardScaler()\n",
    "\n",
    "model_names = [\"densenet\", \"resnet\", \"mobilenet\", \"vgg\"]\n",
    "trained_annl_weights_paths = [\"../input/petfinder-densenet-train-10fcv\",\n",
    "                              \"../input/petfinder-resnet-train-10fcv\",\n",
    "                              \"../input/petfinder-mobilenet-train-10fcv\",\n",
    "                              \"../input/petfinder-vgg-train-10fcv\"]\n",
    "feature_lengths = [1664, 2048, 1280, 2048]"
   ]
  },
  {
   "cell_type": "code",
   "execution_count": 4,
   "id": "eca0d92d",
   "metadata": {
    "execution": {
     "iopub.execute_input": "2021-10-06T21:44:12.605908Z",
     "iopub.status.busy": "2021-10-06T21:44:12.605103Z",
     "iopub.status.idle": "2021-10-06T21:44:12.606964Z",
     "shell.execute_reply": "2021-10-06T21:44:12.607639Z",
     "shell.execute_reply.started": "2021-10-06T21:42:28.794329Z"
    },
    "papermill": {
     "duration": 0.022057,
     "end_time": "2021-10-06T21:44:12.607763",
     "exception": false,
     "start_time": "2021-10-06T21:44:12.585706",
     "status": "completed"
    },
    "tags": []
   },
   "outputs": [],
   "source": [
    "def breaker(num=50, char=\"*\") -> None:\n",
    "    print(\"\\n\" + num*char + \"\\n\")\n",
    "\n",
    "\n",
    "def head(x, no_of_ele=5) -> None:\n",
    "    print(x[:no_of_ele])\n",
    "\n",
    "\n",
    "def get_filenames_and_targets(path: str) -> tuple:\n",
    "    df = pd.read_csv(os.path.join(path, \"train.csv\"), engine=\"python\")\n",
    "    filenames = df.iloc[:, 0].copy().values\n",
    "    targets  = df.iloc[:, -1].copy().values\n",
    "    return filenames, targets\n",
    "\n",
    "\n",
    "def get_filenames(path: str) -> np.ndarray:\n",
    "    df = pd.read_csv(os.path.join(path, \"test.csv\"), engine=\"python\")\n",
    "    filenames  = df[\"Id\"].copy().values\n",
    "    return filenames\n",
    "\n",
    "\n",
    "def get_image(path: str, name: str, size: int) -> np.ndarray:\n",
    "    image = cv2.imread(os.path.join(path, name + \".jpg\"), cv2.IMREAD_COLOR)\n",
    "    image = cv2.cvtColor(src=image, code=cv2.COLOR_BGR2RGB)\n",
    "    image = cv2.resize(src=image, dsize=(size, size), interpolation=cv2.INTER_AREA)\n",
    "    return image\n",
    "\n",
    "\n",
    "def make_submission(path: str, y_pred: np.ndarray) -> None:\n",
    "    submission = pd.read_csv(os.path.join(path, \"sample_submission.csv\"), engine=\"python\")\n",
    "    submission[\"Pawpularity\"] = y_pred\n",
    "    submission.to_csv(\"./submission.csv\", index=False)"
   ]
  },
  {
   "cell_type": "markdown",
   "id": "7a8a33f5",
   "metadata": {
    "papermill": {
     "duration": 0.009178,
     "end_time": "2021-10-06T21:44:12.626390",
     "exception": false,
     "start_time": "2021-10-06T21:44:12.617212",
     "status": "completed"
    },
    "tags": []
   },
   "source": [
    "## Dataset Templates"
   ]
  },
  {
   "cell_type": "code",
   "execution_count": 5,
   "id": "cd8e71e8",
   "metadata": {
    "execution": {
     "iopub.execute_input": "2021-10-06T21:44:12.652410Z",
     "iopub.status.busy": "2021-10-06T21:44:12.651668Z",
     "iopub.status.idle": "2021-10-06T21:44:12.654143Z",
     "shell.execute_reply": "2021-10-06T21:44:12.653597Z",
     "shell.execute_reply.started": "2021-10-06T21:42:28.809192Z"
    },
    "papermill": {
     "duration": 0.018504,
     "end_time": "2021-10-06T21:44:12.654242",
     "exception": false,
     "start_time": "2021-10-06T21:44:12.635738",
     "status": "completed"
    },
    "tags": []
   },
   "outputs": [],
   "source": [
    "class ImageDS(Dataset):\n",
    "    def __init__(self, base_path=None, filenames=None, image_size=None, transform=None):\n",
    "        self.base_path = base_path\n",
    "        self.filenames = filenames\n",
    "        self.image_size = image_size\n",
    "        self.transform = transform\n",
    "    \n",
    "    def __len__(self):\n",
    "        return self.filenames.shape[0]\n",
    "    \n",
    "    def __getitem__(self, idx):\n",
    "        image = get_image(self.base_path, self.filenames[idx], self.image_size)\n",
    "        return self.transform(image)\n",
    "\n",
    "    \n",
    "class FeatureDS(Dataset):\n",
    "    def __init__(self, features=None):\n",
    "        self.features = features\n",
    "    \n",
    "    def __len__(self):\n",
    "        return self.features.shape[0]\n",
    "    \n",
    "    def __getitem__(self, idx):\n",
    "        return torch.FloatTensor(self.features[idx])"
   ]
  },
  {
   "cell_type": "markdown",
   "id": "e7838884",
   "metadata": {
    "papermill": {
     "duration": 0.009197,
     "end_time": "2021-10-06T21:44:12.672705",
     "exception": false,
     "start_time": "2021-10-06T21:44:12.663508",
     "status": "completed"
    },
    "tags": []
   },
   "source": [
    "## Build Models"
   ]
  },
  {
   "cell_type": "code",
   "execution_count": 6,
   "id": "16519ec3",
   "metadata": {
    "execution": {
     "iopub.execute_input": "2021-10-06T21:44:12.713964Z",
     "iopub.status.busy": "2021-10-06T21:44:12.713109Z",
     "iopub.status.idle": "2021-10-06T21:44:12.715067Z",
     "shell.execute_reply": "2021-10-06T21:44:12.715516Z",
     "shell.execute_reply.started": "2021-10-06T21:42:28.821802Z"
    },
    "papermill": {
     "duration": 0.03241,
     "end_time": "2021-10-06T21:44:12.715636",
     "exception": false,
     "start_time": "2021-10-06T21:44:12.683226",
     "status": "completed"
    },
    "tags": []
   },
   "outputs": [],
   "source": [
    "def build_models(model_name: str, IL: int, pretrained: bool, seed: int):\n",
    "\n",
    "    class ImageModel(nn.Module):\n",
    "        def __init__(self, model_name=None, pretrained=False):\n",
    "            super(ImageModel, self).__init__()\n",
    "\n",
    "            if re.match(r\"^resnet$\", model_name, re.IGNORECASE):\n",
    "                self.features = models.resnet50(pretrained=pretrained, progress=True)\n",
    "                if pretrained:\n",
    "                    self.freeze()\n",
    "                self.features = nn.Sequential(*[*self.features.children()][:-1])\n",
    "                self.features.add_module(\"Flatten\", nn.Flatten())\n",
    "\n",
    "                self.in_features = self.features[-3][2].bn3.num_features\n",
    "\n",
    "\n",
    "            elif re.match(r\"^vgg$\", model_name, re.IGNORECASE):\n",
    "                self.features = models.vgg16_bn(pretrained=pretrained, progress=True)\n",
    "                if pretrained:\n",
    "                    self.freeze()\n",
    "                self.features = nn.Sequential(*[*self.features.children()][:-2])\n",
    "                self.features.add_module(\"Adaptive Average Pool\", nn.AdaptiveAvgPool2d(output_size=(2, 2)))\n",
    "                self.features.add_module(\"Flatten\", nn.Flatten())\n",
    "\n",
    "                self.in_features = self.features[-3][41].num_features * 2 * 2\n",
    "\n",
    "\n",
    "            elif re.match(r\"^mobilenet$\", model_name, re.IGNORECASE):\n",
    "                self.features = models.mobilenet_v2(pretrained=pretrained, progress=True)\n",
    "                if pretrained:\n",
    "                    self.freeze()\n",
    "                self.features = nn.Sequential(*[*self.features.children()][:-1])\n",
    "                self.features.add_module(\"Adaptive Average Pool\", nn.AdaptiveAvgPool2d(output_size=(1, 1)))\n",
    "                self.features.add_module(\"Flatten\", nn.Flatten())\n",
    "\n",
    "                self.in_features = self.features[-3][-1][1].num_features\n",
    "\n",
    "\n",
    "            elif re.match(r\"^densenet$\", model_name, re.IGNORECASE):\n",
    "                self.features = models.densenet169(pretrained=pretrained, progress=True)\n",
    "                if pretrained:\n",
    "                    self.freeze()\n",
    "                self.features = nn.Sequential(*[*self.features.children()][:-1])\n",
    "                self.features.add_module(\"Adaptive Average Pool\", nn.AdaptiveAvgPool2d(output_size=(1, 1)))\n",
    "                self.features.add_module(\"Flatten\", nn.Flatten())\n",
    "\n",
    "                self.in_features = self.features[0].norm5.num_features\n",
    "\n",
    "        def freeze(self):\n",
    "            for params in self.parameters():\n",
    "                    params.requires_grad = False\n",
    "\n",
    "        def forward(self, x):\n",
    "            return self.features(x)\n",
    "    \n",
    "    \n",
    "    breaker()\n",
    "    print(\"Building Vision Model ...\")\n",
    "    print(\"\\n{} Features\".format(model_name))\n",
    "    \n",
    "    torch.manual_seed(seed)\n",
    "    vision_model = ImageModel(model_name=model_name, pretrained=pretrained)\n",
    "    \n",
    "    \n",
    "    class ANN(nn.Module):\n",
    "        def __init__(self, IL=None):\n",
    "            super(ANN, self).__init__()\n",
    "\n",
    "            self.predictor = nn.Sequential()\n",
    "            self.predictor.add_module(\"BN\", nn.BatchNorm1d(num_features=IL, eps=1e-5))\n",
    "            self.predictor.add_module(\"FC\", WN(nn.Linear(in_features=IL, out_features=1)))\n",
    "\n",
    "        def get_optimizer(self, lr=1e-3, wd=0):\n",
    "            params = [p for p in self.parameters() if p.requires_grad]\n",
    "            return optim.Adam(params, lr=lr, weight_decay=wd)\n",
    "\n",
    "        def get_plateau_scheduler(self, optimizer=None, patience=5, eps=1e-8):\n",
    "            return optim.lr_scheduler.ReduceLROnPlateau(optimizer=optimizer, patience=patience, eps=eps, verbose=True)\n",
    "\n",
    "        def forward(self, x):\n",
    "            return self.predictor(x)\n",
    "    \n",
    "    breaker()\n",
    "    print(\"Building Model ...\")\n",
    "    print(\"\\n{} -> 1\".format(IL))\n",
    "    \n",
    "    torch.manual_seed(seed)\n",
    "    ann_model = ANN(IL=IL)\n",
    "    \n",
    "    return vision_model, ann_model"
   ]
  },
  {
   "cell_type": "markdown",
   "id": "09eb5fd6",
   "metadata": {
    "papermill": {
     "duration": 0.009187,
     "end_time": "2021-10-06T21:44:12.734139",
     "exception": false,
     "start_time": "2021-10-06T21:44:12.724952",
     "status": "completed"
    },
    "tags": []
   },
   "source": [
    "## Feature Getter and Predict Helper"
   ]
  },
  {
   "cell_type": "code",
   "execution_count": 7,
   "id": "9233563f",
   "metadata": {
    "execution": {
     "iopub.execute_input": "2021-10-06T21:44:12.763523Z",
     "iopub.status.busy": "2021-10-06T21:44:12.762847Z",
     "iopub.status.idle": "2021-10-06T21:44:12.765464Z",
     "shell.execute_reply": "2021-10-06T21:44:12.765915Z",
     "shell.execute_reply.started": "2021-10-06T21:42:28.846732Z"
    },
    "papermill": {
     "duration": 0.022546,
     "end_time": "2021-10-06T21:44:12.766030",
     "exception": false,
     "start_time": "2021-10-06T21:44:12.743484",
     "status": "completed"
    },
    "tags": []
   },
   "outputs": [],
   "source": [
    "def get_features(model=None, dataloader=None, feature_length=None, path=None):\n",
    "    model.load_state_dict(torch.load(path, map_location=DEVICE))\n",
    "    model.to(DEVICE)\n",
    "    model.eval()\n",
    "\n",
    "    features = torch.zeros(1, feature_length).to(DEVICE)\n",
    "    for X in dataloader:\n",
    "        X = X.to(DEVICE)\n",
    "        with torch.no_grad():\n",
    "            output = model(X)\n",
    "        features = torch.cat((features, output.view(-1, feature_length)), dim=0)\n",
    "    \n",
    "    return features[1:].detach().cpu().numpy()\n",
    "\n",
    "\n",
    "def predict_batch(model=None, dataloader=None, mode=\"test\", path=None):\n",
    "    model.load_state_dict(torch.load(path, map_location=DEVICE)[\"model_state_dict\"])\n",
    "    model.to(DEVICE)\n",
    "    model.eval()\n",
    "\n",
    "    y_pred = torch.zeros(1, 1).to(DEVICE)\n",
    "    if re.match(r\"valid\", mode, re.IGNORECASE):\n",
    "        for X, _ in dataloader:\n",
    "            X = X.to(DEVICE)\n",
    "            with torch.no_grad():\n",
    "                output = model(X)\n",
    "            y_pred = torch.cat((y_pred, output.view(-1, 1)), dim=0)\n",
    "    elif re.match(r\"test\", mode, re.IGNORECASE):\n",
    "        for X in dataloader:\n",
    "            X = X.to(DEVICE)\n",
    "            with torch.no_grad():\n",
    "                output = model(X)\n",
    "            y_pred = torch.cat((y_pred, output.view(-1, 1)), dim=0)\n",
    "    \n",
    "    return y_pred[1:].detach().cpu().numpy()"
   ]
  },
  {
   "cell_type": "markdown",
   "id": "6fcfffec",
   "metadata": {
    "papermill": {
     "duration": 0.009329,
     "end_time": "2021-10-06T21:44:12.784611",
     "exception": false,
     "start_time": "2021-10-06T21:44:12.775282",
     "status": "completed"
    },
    "tags": []
   },
   "source": [
    "## Generate Submission"
   ]
  },
  {
   "cell_type": "code",
   "execution_count": 8,
   "id": "4dff69ba",
   "metadata": {
    "execution": {
     "iopub.execute_input": "2021-10-06T21:44:12.815266Z",
     "iopub.status.busy": "2021-10-06T21:44:12.814722Z",
     "iopub.status.idle": "2021-10-06T21:44:26.080964Z",
     "shell.execute_reply": "2021-10-06T21:44:26.080471Z",
     "shell.execute_reply.started": "2021-10-06T21:42:28.861183Z"
    },
    "papermill": {
     "duration": 13.287172,
     "end_time": "2021-10-06T21:44:26.081120",
     "exception": false,
     "start_time": "2021-10-06T21:44:12.793948",
     "status": "completed"
    },
    "tags": []
   },
   "outputs": [
    {
     "name": "stdout",
     "output_type": "stream",
     "text": [
      "\n",
      "**************************************************\n",
      "\n",
      "Reading Data ...\n",
      "\n",
      "**************************************************\n",
      "\n",
      "Obtaining Test Image Features ...\n",
      "\n",
      "**************************************************\n",
      "\n",
      "Building Vision Model ...\n",
      "\n",
      "densenet Features\n",
      "\n",
      "**************************************************\n",
      "\n",
      "Building Model ...\n",
      "\n",
      "1664 -> 1\n",
      "\n",
      "**************************************************\n",
      "\n",
      "Making Predictions on Test Features ...\n",
      "\n",
      "**************************************************\n",
      "\n",
      "Processing Fold 1 ...\n",
      "Processing Fold 2 ...\n",
      "Processing Fold 3 ...\n",
      "Processing Fold 4 ...\n",
      "Processing Fold 5 ...\n",
      "Processing Fold 6 ...\n",
      "Processing Fold 7 ...\n",
      "Processing Fold 8 ...\n",
      "Processing Fold 9 ...\n",
      "Processing Fold 10 ...\n",
      "\n",
      "**************************************************\n",
      "\n",
      "Building Vision Model ...\n",
      "\n",
      "resnet Features\n",
      "\n",
      "**************************************************\n",
      "\n",
      "Building Model ...\n",
      "\n",
      "2048 -> 1\n",
      "\n",
      "**************************************************\n",
      "\n",
      "Making Predictions on Test Features ...\n",
      "\n",
      "**************************************************\n",
      "\n",
      "Processing Fold 1 ...\n",
      "Processing Fold 2 ...\n",
      "Processing Fold 3 ...\n",
      "Processing Fold 4 ...\n",
      "Processing Fold 5 ...\n",
      "Processing Fold 6 ...\n",
      "Processing Fold 7 ...\n",
      "Processing Fold 8 ...\n",
      "Processing Fold 9 ...\n",
      "Processing Fold 10 ...\n",
      "\n",
      "**************************************************\n",
      "\n",
      "Building Vision Model ...\n",
      "\n",
      "mobilenet Features\n",
      "\n",
      "**************************************************\n",
      "\n",
      "Building Model ...\n",
      "\n",
      "1280 -> 1\n",
      "\n",
      "**************************************************\n",
      "\n",
      "Making Predictions on Test Features ...\n",
      "\n",
      "**************************************************\n",
      "\n",
      "Processing Fold 1 ...\n",
      "Processing Fold 2 ...\n",
      "Processing Fold 3 ...\n",
      "Processing Fold 4 ...\n",
      "Processing Fold 5 ...\n",
      "Processing Fold 6 ...\n",
      "Processing Fold 7 ...\n",
      "Processing Fold 8 ...\n",
      "Processing Fold 9 ...\n",
      "Processing Fold 10 ...\n",
      "\n",
      "**************************************************\n",
      "\n",
      "Building Vision Model ...\n",
      "\n",
      "vgg Features\n",
      "\n",
      "**************************************************\n",
      "\n",
      "Building Model ...\n",
      "\n",
      "2048 -> 1\n",
      "\n",
      "**************************************************\n",
      "\n",
      "Making Predictions on Test Features ...\n",
      "\n",
      "**************************************************\n",
      "\n",
      "Processing Fold 1 ...\n",
      "Processing Fold 2 ...\n",
      "Processing Fold 3 ...\n",
      "Processing Fold 4 ...\n",
      "Processing Fold 5 ...\n",
      "Processing Fold 6 ...\n",
      "Processing Fold 7 ...\n",
      "Processing Fold 8 ...\n",
      "Processing Fold 9 ...\n",
      "Processing Fold 10 ...\n",
      "\n",
      "**************************************************\n",
      "\n",
      "Generating Submission File ...\n",
      "\n",
      "**************************************************\n",
      "\n"
     ]
    }
   ],
   "source": [
    "def submit():\n",
    "    breaker()\n",
    "    print(\"Reading Data ...\")\n",
    "    \n",
    "    ts_filenames = get_filenames(PATH)\n",
    "    filenames, targets = get_filenames_and_targets(PATH)\n",
    "    \n",
    "    \n",
    "    breaker()\n",
    "    print(\"Obtaining Test Image Features ...\")\n",
    "    \n",
    "    ts_image_data_setup = ImageDS(base_path=os.path.join(PATH, \"test\"), \n",
    "                                  filenames=ts_filenames, \n",
    "                                  image_size=IMAGE_SIZE, \n",
    "                                  transform=TRANSFORM)\n",
    "    ts_image_data = DL(ts_image_data_setup, batch_size=64, shuffle=False)\n",
    "    \n",
    "    final_y_pred = np.zeros((len(ts_filenames), 1))\n",
    "    for i in range(len(model_names)):\n",
    "        VisionModel, ANNModel = build_models(model_name=model_names[i], IL=feature_lengths[i], pretrained=False, seed=SEED)\n",
    "\n",
    "        ts_features = get_features(model=VisionModel, dataloader=ts_image_data, \n",
    "                                   feature_length=feature_lengths[i], \n",
    "                                   path=os.path.join(PRETRAINED_WEIGHTS_PATH, \"{}_state.pt\".format(model_names[i])))\n",
    "    \n",
    "    \n",
    "        breaker()\n",
    "        print(\"Making Predictions on Test Features ...\")\n",
    "        breaker()\n",
    "\n",
    "        fold = 1\n",
    "        for tr_idx, va_idx in KFold(n_splits=NUM_FOLDS, shuffle=True, random_state=SEED).split(filenames):\n",
    "            print(\"Processing Fold {} ...\".format(fold))\n",
    "\n",
    "            tr_targets = targets[tr_idx]\n",
    "            tr_targets = tr_targets.reshape(-1, 1)\n",
    "            tr_targets = sc_y.fit_transform(tr_targets)\n",
    "\n",
    "            ts_feature_data_setup = FeatureDS(features=ts_features)\n",
    "            ts_feature_data = DL(ts_feature_data_setup, batch_size=512, shuffle=False)\n",
    "\n",
    "            y_pred = predict_batch(model=ANNModel, dataloader=ts_feature_data, mode=\"test\",\n",
    "                                   path=os.path.join(trained_annl_weights_paths[i], \"Fold_{}_state.pt\".format(fold)))\n",
    "            y_pred = sc_y.inverse_transform(y_pred)\n",
    "\n",
    "            final_y_pred += y_pred\n",
    "            fold += 1\n",
    "\n",
    "    final_y_pred = final_y_pred / (NUM_FOLDS * len(model_names))\n",
    "    \n",
    "    \n",
    "    breaker()\n",
    "    print(\"Generating Submission File ...\")\n",
    "    make_submission(PATH, final_y_pred)\n",
    "    breaker()\n",
    "\n",
    "submit()"
   ]
  },
  {
   "cell_type": "code",
   "execution_count": 9,
   "id": "ae57d036",
   "metadata": {
    "execution": {
     "iopub.execute_input": "2021-10-06T21:44:26.111310Z",
     "iopub.status.busy": "2021-10-06T21:44:26.109816Z",
     "iopub.status.idle": "2021-10-06T21:44:26.113687Z",
     "shell.execute_reply": "2021-10-06T21:44:26.113085Z"
    },
    "papermill": {
     "duration": 0.020398,
     "end_time": "2021-10-06T21:44:26.113828",
     "exception": false,
     "start_time": "2021-10-06T21:44:26.093430",
     "status": "completed"
    },
    "tags": []
   },
   "outputs": [
    {
     "name": "stdout",
     "output_type": "stream",
     "text": [
      "\n",
      "**************************************************\n",
      "\n",
      "Notebook Run Time : 0.32 minutes\n",
      "\n",
      "**************************************************\n",
      "\n"
     ]
    }
   ],
   "source": [
    "breaker()\n",
    "print(\"Notebook Run Time : {:.2f} minutes\".format((time()-notebook_start_time)/60))\n",
    "breaker()"
   ]
  }
 ],
 "metadata": {
  "kernelspec": {
   "display_name": "Python 3",
   "language": "python",
   "name": "python3"
  },
  "language_info": {
   "codemirror_mode": {
    "name": "ipython",
    "version": 3
   },
   "file_extension": ".py",
   "mimetype": "text/x-python",
   "name": "python",
   "nbconvert_exporter": "python",
   "pygments_lexer": "ipython3",
   "version": "3.7.10"
  },
  "papermill": {
   "default_parameters": {},
   "duration": 26.600706,
   "end_time": "2021-10-06T21:44:27.035818",
   "environment_variables": {},
   "exception": null,
   "input_path": "__notebook__.ipynb",
   "output_path": "__notebook__.ipynb",
   "parameters": {},
   "start_time": "2021-10-06T21:44:00.435112",
   "version": "2.3.3"
  }
 },
 "nbformat": 4,
 "nbformat_minor": 5
}
