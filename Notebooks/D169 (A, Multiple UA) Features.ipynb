{
 "cells": [
  {
   "cell_type": "markdown",
   "id": "397a0dbd",
   "metadata": {
    "_cell_guid": "b1076dfc-b9ad-4769-8c92-a6c4dae69d19",
    "_uuid": "8f2839f25d086af736a60e9eeb907d3b93b6e0e5",
    "papermill": {
     "duration": 0.012192,
     "end_time": "2021-10-09T05:09:11.588852",
     "exception": false,
     "start_time": "2021-10-09T05:09:11.576660",
     "status": "completed"
    },
    "tags": []
   },
   "source": [
    "## Library Imports"
   ]
  },
  {
   "cell_type": "code",
   "execution_count": 1,
   "id": "280c2e23",
   "metadata": {
    "execution": {
     "iopub.execute_input": "2021-10-09T05:09:11.614981Z",
     "iopub.status.busy": "2021-10-09T05:09:11.613509Z",
     "iopub.status.idle": "2021-10-09T05:09:11.692734Z",
     "shell.execute_reply": "2021-10-09T05:09:11.693219Z",
     "shell.execute_reply.started": "2021-10-09T00:45:20.406027Z"
    },
    "papermill": {
     "duration": 0.093594,
     "end_time": "2021-10-09T05:09:11.693474",
     "exception": false,
     "start_time": "2021-10-09T05:09:11.599880",
     "status": "completed"
    },
    "tags": []
   },
   "outputs": [],
   "source": [
    "from time import time\n",
    "notebook_start_time = time()"
   ]
  },
  {
   "cell_type": "code",
   "execution_count": 2,
   "id": "72945427",
   "metadata": {
    "execution": {
     "iopub.execute_input": "2021-10-09T05:09:11.720916Z",
     "iopub.status.busy": "2021-10-09T05:09:11.720309Z",
     "iopub.status.idle": "2021-10-09T05:09:17.720993Z",
     "shell.execute_reply": "2021-10-09T05:09:17.720012Z",
     "shell.execute_reply.started": "2021-10-09T00:45:20.416796Z"
    },
    "papermill": {
     "duration": 6.016707,
     "end_time": "2021-10-09T05:09:17.721180",
     "exception": false,
     "start_time": "2021-10-09T05:09:11.704473",
     "status": "completed"
    },
    "tags": []
   },
   "outputs": [],
   "source": [
    "import os\n",
    "import re\n",
    "import random as r\n",
    "import numpy as np\n",
    "import pandas as pd\n",
    "import matplotlib.pyplot as plt\n",
    "\n",
    "import torch\n",
    "from torch import nn, optim\n",
    "from torch.utils.data import Dataset\n",
    "from torch.utils.data import DataLoader as DL\n",
    "from torch.nn.utils import weight_norm as WN\n",
    "from torchvision import models, transforms\n",
    "\n",
    "import imgaug\n",
    "from imgaug import augmenters\n",
    "\n",
    "import warnings\n",
    "warnings.filterwarnings(\"ignore\")"
   ]
  },
  {
   "cell_type": "markdown",
   "id": "1d586442",
   "metadata": {
    "papermill": {
     "duration": 0.010963,
     "end_time": "2021-10-09T05:09:17.743407",
     "exception": false,
     "start_time": "2021-10-09T05:09:17.732444",
     "status": "completed"
    },
    "tags": []
   },
   "source": [
    "## Constants and Utilities"
   ]
  },
  {
   "cell_type": "code",
   "execution_count": 3,
   "id": "84f74b33",
   "metadata": {
    "execution": {
     "iopub.execute_input": "2021-10-09T05:09:17.775024Z",
     "iopub.status.busy": "2021-10-09T05:09:17.774182Z",
     "iopub.status.idle": "2021-10-09T05:09:17.776524Z",
     "shell.execute_reply": "2021-10-09T05:09:17.776130Z",
     "shell.execute_reply.started": "2021-10-09T00:45:20.426114Z"
    },
    "papermill": {
     "duration": 0.022144,
     "end_time": "2021-10-09T05:09:17.776628",
     "exception": false,
     "start_time": "2021-10-09T05:09:17.754484",
     "status": "completed"
    },
    "tags": []
   },
   "outputs": [],
   "source": [
    "def breaker(num=50, char=\"*\") -> None:\n",
    "    print(\"\\n\" + num*char + \"\\n\")\n",
    "\n",
    "\n",
    "def get_targets(path: str) -> np.ndarray:\n",
    "    df = pd.read_csv(os.path.join(path, \"train.csv\"), engine=\"python\")\n",
    "    targets = df[\"Pawpularity\"].copy().values\n",
    "    return targets.reshape(-1, 1)\n",
    "\n",
    "\n",
    "def head(x, no_of_ele=5) -> None:\n",
    "    print(x[:no_of_ele])\n",
    "\n",
    "    \n",
    "def show(image: np.ndarray) -> None:\n",
    "    plt.figure(figsize=(9, 6))\n",
    "    plt.imshow(image)\n",
    "    plt.axis(\"off\")\n",
    "    plt.show()\n",
    "\n",
    "    \n",
    "def get_augment(seed: int):\n",
    "    imgaug.seed(seed)\n",
    "    augment = augmenters.SomeOf(None, [\n",
    "        augmenters.HorizontalFlip(p=0.5),\n",
    "        augmenters.VerticalFlip(p=0.5),\n",
    "        augmenters.Affine(scale=(0.75, 1.25), translate_percent=(-0.1, 0.1), rotate=(-45, 45), seed=seed),\n",
    "    ], seed=seed)\n",
    "\n",
    "    return augment"
   ]
  },
  {
   "cell_type": "code",
   "execution_count": 4,
   "id": "bf9b2d18",
   "metadata": {
    "execution": {
     "iopub.execute_input": "2021-10-09T05:09:17.846089Z",
     "iopub.status.busy": "2021-10-09T05:09:17.845476Z",
     "iopub.status.idle": "2021-10-09T05:09:17.848364Z",
     "shell.execute_reply": "2021-10-09T05:09:17.847908Z",
     "shell.execute_reply.started": "2021-10-09T00:45:20.43753Z"
    },
    "papermill": {
     "duration": 0.061323,
     "end_time": "2021-10-09T05:09:17.848473",
     "exception": false,
     "start_time": "2021-10-09T05:09:17.787150",
     "status": "completed"
    },
    "tags": []
   },
   "outputs": [],
   "source": [
    "TRANSFORM_PRE = transforms.Compose([transforms.ToTensor(), \n",
    "                                    transforms.Normalize([0.485, 0.456, 0.406],\n",
    "                                                         [0.229, 0.224, 0.225]),\n",
    "                                   ])\n",
    "DEVICE = torch.device(\"cuda\" if torch.cuda.is_available() else \"cpu\")\n",
    "SEED = 0\n",
    "NUM_FEATURES = 1664"
   ]
  },
  {
   "cell_type": "markdown",
   "id": "c04cc3ce",
   "metadata": {
    "papermill": {
     "duration": 0.010394,
     "end_time": "2021-10-09T05:09:17.869541",
     "exception": false,
     "start_time": "2021-10-09T05:09:17.859147",
     "status": "completed"
    },
    "tags": []
   },
   "source": [
    "## Dataset Template"
   ]
  },
  {
   "cell_type": "code",
   "execution_count": 5,
   "id": "713ddb77",
   "metadata": {
    "execution": {
     "iopub.execute_input": "2021-10-09T05:09:17.894833Z",
     "iopub.status.busy": "2021-10-09T05:09:17.894061Z",
     "iopub.status.idle": "2021-10-09T05:09:17.899192Z",
     "shell.execute_reply": "2021-10-09T05:09:17.899596Z",
     "shell.execute_reply.started": "2021-10-09T00:45:20.45144Z"
    },
    "papermill": {
     "duration": 0.019569,
     "end_time": "2021-10-09T05:09:17.899713",
     "exception": false,
     "start_time": "2021-10-09T05:09:17.880144",
     "status": "completed"
    },
    "tags": []
   },
   "outputs": [],
   "source": [
    "class DS(Dataset):\n",
    "    def __init__(self, images=None, transform=None):\n",
    "        self.images    = images\n",
    "        self.transform = transform\n",
    "        \n",
    "    def __len__(self):\n",
    "        return self.images.shape[0]\n",
    "    \n",
    "    def __getitem__(self, idx):\n",
    "        return self.transform(self.images[idx])"
   ]
  },
  {
   "cell_type": "markdown",
   "id": "62cea787",
   "metadata": {
    "papermill": {
     "duration": 0.010448,
     "end_time": "2021-10-09T05:09:17.920890",
     "exception": false,
     "start_time": "2021-10-09T05:09:17.910442",
     "status": "completed"
    },
    "tags": []
   },
   "source": [
    "## Build Dataloader"
   ]
  },
  {
   "cell_type": "code",
   "execution_count": 6,
   "id": "386ed6c4",
   "metadata": {
    "execution": {
     "iopub.execute_input": "2021-10-09T05:09:17.947271Z",
     "iopub.status.busy": "2021-10-09T05:09:17.946490Z",
     "iopub.status.idle": "2021-10-09T05:09:17.948425Z",
     "shell.execute_reply": "2021-10-09T05:09:17.948834Z",
     "shell.execute_reply.started": "2021-10-09T00:45:20.461805Z"
    },
    "papermill": {
     "duration": 0.016937,
     "end_time": "2021-10-09T05:09:17.948948",
     "exception": false,
     "start_time": "2021-10-09T05:09:17.932011",
     "status": "completed"
    },
    "tags": []
   },
   "outputs": [],
   "source": [
    "def build_dataloader(images: np.ndarray, transform=None):    \n",
    "    data_setup = DS(images=images, transform=transform)\n",
    "    data = DL(data_setup, batch_size=64, shuffle=False)\n",
    "    \n",
    "    return data"
   ]
  },
  {
   "cell_type": "markdown",
   "id": "e1308414",
   "metadata": {
    "papermill": {
     "duration": 0.01086,
     "end_time": "2021-10-09T05:09:17.970391",
     "exception": false,
     "start_time": "2021-10-09T05:09:17.959531",
     "status": "completed"
    },
    "tags": []
   },
   "source": [
    "## Build Model"
   ]
  },
  {
   "cell_type": "code",
   "execution_count": 7,
   "id": "adda74a3",
   "metadata": {
    "execution": {
     "iopub.execute_input": "2021-10-09T05:09:17.999233Z",
     "iopub.status.busy": "2021-10-09T05:09:17.998476Z",
     "iopub.status.idle": "2021-10-09T05:09:18.000846Z",
     "shell.execute_reply": "2021-10-09T05:09:18.000453Z",
     "shell.execute_reply.started": "2021-10-09T00:45:20.469111Z"
    },
    "papermill": {
     "duration": 0.019758,
     "end_time": "2021-10-09T05:09:18.000947",
     "exception": false,
     "start_time": "2021-10-09T05:09:17.981189",
     "status": "completed"
    },
    "tags": []
   },
   "outputs": [],
   "source": [
    "def build_model(pretrained: bool):\n",
    "    class ImageModel(nn.Module):\n",
    "        def __init__(self, pretrained=False):\n",
    "            super(ImageModel, self).__init__()\n",
    "\n",
    "            self.features = models.densenet169(pretrained=pretrained, progress=True)\n",
    "            if pretrained:\n",
    "                self.freeze()\n",
    "            self.features = nn.Sequential(*[*self.features.children()][:-1])\n",
    "            self.features.add_module(\"Adaptive Average Pool\", nn.AdaptiveAvgPool2d(output_size=(1, 1)))\n",
    "            self.features.add_module(\"Flatten\", nn.Flatten())\n",
    "        \n",
    "        def freeze(self):\n",
    "            for params in self.parameters():\n",
    "                params.requires_grad = False\n",
    "\n",
    "        def forward(self, x):\n",
    "            return self.features(x)\n",
    "\n",
    "    # breaker()\n",
    "    # print(\"Building Model ...\")\n",
    "    \n",
    "    model = ImageModel(pretrained=pretrained)\n",
    "    \n",
    "    return model"
   ]
  },
  {
   "cell_type": "markdown",
   "id": "bea5f43d",
   "metadata": {
    "papermill": {
     "duration": 0.01041,
     "end_time": "2021-10-09T05:09:18.022057",
     "exception": false,
     "start_time": "2021-10-09T05:09:18.011647",
     "status": "completed"
    },
    "tags": []
   },
   "source": [
    "## Acquire Features Helper"
   ]
  },
  {
   "cell_type": "code",
   "execution_count": 8,
   "id": "d3e8cb63",
   "metadata": {
    "execution": {
     "iopub.execute_input": "2021-10-09T05:09:18.046020Z",
     "iopub.status.busy": "2021-10-09T05:09:18.045283Z",
     "iopub.status.idle": "2021-10-09T05:09:18.051240Z",
     "shell.execute_reply": "2021-10-09T05:09:18.050796Z",
     "shell.execute_reply.started": "2021-10-09T00:45:20.479838Z"
    },
    "papermill": {
     "duration": 0.018744,
     "end_time": "2021-10-09T05:09:18.051341",
     "exception": false,
     "start_time": "2021-10-09T05:09:18.032597",
     "status": "completed"
    },
    "tags": []
   },
   "outputs": [],
   "source": [
    "def get_features(model=None, dataloader=None, num_features=None):\n",
    "    model.to(DEVICE)\n",
    "    model.eval()\n",
    "\n",
    "    y_pred = torch.zeros(1, num_features).to(DEVICE)\n",
    "    for X in dataloader:\n",
    "        X = X.to(DEVICE)\n",
    "        with torch.no_grad():\n",
    "            output = model(X)\n",
    "        y_pred = torch.cat((y_pred, output.view(-1, num_features)), dim=0)\n",
    "    \n",
    "    return y_pred[1:].detach().cpu().numpy()"
   ]
  },
  {
   "cell_type": "markdown",
   "id": "7a083a15",
   "metadata": {
    "papermill": {
     "duration": 0.010398,
     "end_time": "2021-10-09T05:09:18.072242",
     "exception": false,
     "start_time": "2021-10-09T05:09:18.061844",
     "status": "completed"
    },
    "tags": []
   },
   "source": [
    "## Save Features"
   ]
  },
  {
   "cell_type": "code",
   "execution_count": 9,
   "id": "1f2385e2",
   "metadata": {
    "execution": {
     "iopub.execute_input": "2021-10-09T05:09:18.101445Z",
     "iopub.status.busy": "2021-10-09T05:09:18.100927Z",
     "iopub.status.idle": "2021-10-09T05:15:31.973892Z",
     "shell.execute_reply": "2021-10-09T05:15:31.973392Z",
     "shell.execute_reply.started": "2021-10-09T00:45:20.492141Z"
    },
    "papermill": {
     "duration": 373.891271,
     "end_time": "2021-10-09T05:15:31.974037",
     "exception": false,
     "start_time": "2021-10-09T05:09:18.082766",
     "status": "completed"
    },
    "tags": []
   },
   "outputs": [
    {
     "name": "stderr",
     "output_type": "stream",
     "text": [
      "Downloading: \"https://download.pytorch.org/models/densenet169-b2777c0a.pth\" to /root/.cache/torch/hub/checkpoints/densenet169-b2777c0a.pth\n"
     ]
    },
    {
     "data": {
      "application/vnd.jupyter.widget-view+json": {
       "model_id": "12c46abbcc2041c6b320c7d2608cc0d8",
       "version_major": 2,
       "version_minor": 0
      },
      "text/plain": [
       "  0%|          | 0.00/54.7M [00:00<?, ?B/s]"
      ]
     },
     "metadata": {},
     "output_type": "display_data"
    }
   ],
   "source": [
    "def save_features():\n",
    "    DEBUG = False\n",
    "    r.seed(SEED)\n",
    "    seeds = [r.randint(0, 99) for _ in range(10)]\n",
    "    \n",
    "    images = np.load(\"../input/pet-finder-images/Images.npy\")\n",
    "    \n",
    "    if DEBUG:\n",
    "        index = r.randint(0, images.shape[0] - 1)\n",
    "        show(images[index])\n",
    "        show(augmented_images[index])\n",
    "    \n",
    "    else:\n",
    "        # breaker()\n",
    "        # print(\"Building DataLoaders ...\")\n",
    "        model = build_model(pretrained=True)\n",
    "\n",
    "        dataloader = build_dataloader(images=images, transform=TRANSFORM_PRE)\n",
    "        \n",
    "        features = get_features(model, dataloader, num_features=NUM_FEATURES)\n",
    "        targets = get_targets(\"../input/petfinder-pawpularity-score\")\n",
    "        np.save(\"./UA_features.npy\", features)\n",
    "        np.save(\"./Targets.npy\", targets)\n",
    "\n",
    "        \n",
    "        del features, targets, dataloader\n",
    "        \n",
    "        for seed in seeds:\n",
    "            augment = get_augment(SEED)\n",
    "            augmented_images = augment(images=images)\n",
    "            augmented_dataloader = build_dataloader(images=augmented_images, transform=TRANSFORM_PRE)\n",
    "            augmented_features = get_features(model, augmented_dataloader, num_features=NUM_FEATURES)\n",
    "            np.save(\"./A_{}_features.npy\".format(seed), augmented_features)\n",
    "\n",
    "save_features()"
   ]
  },
  {
   "cell_type": "markdown",
   "id": "87844931",
   "metadata": {
    "papermill": {
     "duration": 0.011507,
     "end_time": "2021-10-09T05:15:31.997932",
     "exception": false,
     "start_time": "2021-10-09T05:15:31.986425",
     "status": "completed"
    },
    "tags": []
   },
   "source": [
    "## End"
   ]
  },
  {
   "cell_type": "code",
   "execution_count": 10,
   "id": "0c288764",
   "metadata": {
    "execution": {
     "iopub.execute_input": "2021-10-09T05:15:32.027382Z",
     "iopub.status.busy": "2021-10-09T05:15:32.026702Z",
     "iopub.status.idle": "2021-10-09T05:15:32.031026Z",
     "shell.execute_reply": "2021-10-09T05:15:32.030604Z",
     "shell.execute_reply.started": "2021-10-09T00:46:13.857719Z"
    },
    "papermill": {
     "duration": 0.021549,
     "end_time": "2021-10-09T05:15:32.031172",
     "exception": false,
     "start_time": "2021-10-09T05:15:32.009623",
     "status": "completed"
    },
    "tags": []
   },
   "outputs": [
    {
     "name": "stdout",
     "output_type": "stream",
     "text": [
      "\n",
      "**************************************************\n",
      "\n",
      "Notebook Run Time : 6.34 minutes\n",
      "\n",
      "**************************************************\n",
      "\n"
     ]
    }
   ],
   "source": [
    "breaker()\n",
    "print(\"Notebook Run Time : {:.2f} minutes\".format((time()-notebook_start_time)/60))\n",
    "breaker()"
   ]
  }
 ],
 "metadata": {
  "kernelspec": {
   "display_name": "Python 3",
   "language": "python",
   "name": "python3"
  },
  "language_info": {
   "codemirror_mode": {
    "name": "ipython",
    "version": 3
   },
   "file_extension": ".py",
   "mimetype": "text/x-python",
   "name": "python",
   "nbconvert_exporter": "python",
   "pygments_lexer": "ipython3",
   "version": "3.7.10"
  },
  "papermill": {
   "default_parameters": {},
   "duration": 388.676578,
   "end_time": "2021-10-09T05:15:33.855409",
   "environment_variables": {},
   "exception": null,
   "input_path": "__notebook__.ipynb",
   "output_path": "__notebook__.ipynb",
   "parameters": {},
   "start_time": "2021-10-09T05:09:05.178831",
   "version": "2.3.3"
  },
  "widgets": {
   "application/vnd.jupyter.widget-state+json": {
    "state": {
     "0cd001a2dd5f4c6c86b06f4d65ee1b23": {
      "model_module": "@jupyter-widgets/controls",
      "model_module_version": "1.5.0",
      "model_name": "HTMLModel",
      "state": {
       "_dom_classes": [],
       "_model_module": "@jupyter-widgets/controls",
       "_model_module_version": "1.5.0",
       "_model_name": "HTMLModel",
       "_view_count": null,
       "_view_module": "@jupyter-widgets/controls",
       "_view_module_version": "1.5.0",
       "_view_name": "HTMLView",
       "description": "",
       "description_tooltip": null,
       "layout": "IPY_MODEL_a30cf1fb5a984887a6189ed89ad9b0d6",
       "placeholder": "​",
       "style": "IPY_MODEL_7fc8c654ec3c40f89f81a54e9bec7ac8",
       "value": "100%"
      }
     },
     "12c46abbcc2041c6b320c7d2608cc0d8": {
      "model_module": "@jupyter-widgets/controls",
      "model_module_version": "1.5.0",
      "model_name": "HBoxModel",
      "state": {
       "_dom_classes": [],
       "_model_module": "@jupyter-widgets/controls",
       "_model_module_version": "1.5.0",
       "_model_name": "HBoxModel",
       "_view_count": null,
       "_view_module": "@jupyter-widgets/controls",
       "_view_module_version": "1.5.0",
       "_view_name": "HBoxView",
       "box_style": "",
       "children": [
        "IPY_MODEL_0cd001a2dd5f4c6c86b06f4d65ee1b23",
        "IPY_MODEL_f63dd51bb39a4506be67c9c1b4753c16",
        "IPY_MODEL_7562aa6d5228477da15600a39f4f8569"
       ],
       "layout": "IPY_MODEL_1d515466caf34ff69a68084f1c7570c5"
      }
     },
     "1d515466caf34ff69a68084f1c7570c5": {
      "model_module": "@jupyter-widgets/base",
      "model_module_version": "1.2.0",
      "model_name": "LayoutModel",
      "state": {
       "_model_module": "@jupyter-widgets/base",
       "_model_module_version": "1.2.0",
       "_model_name": "LayoutModel",
       "_view_count": null,
       "_view_module": "@jupyter-widgets/base",
       "_view_module_version": "1.2.0",
       "_view_name": "LayoutView",
       "align_content": null,
       "align_items": null,
       "align_self": null,
       "border": null,
       "bottom": null,
       "display": null,
       "flex": null,
       "flex_flow": null,
       "grid_area": null,
       "grid_auto_columns": null,
       "grid_auto_flow": null,
       "grid_auto_rows": null,
       "grid_column": null,
       "grid_gap": null,
       "grid_row": null,
       "grid_template_areas": null,
       "grid_template_columns": null,
       "grid_template_rows": null,
       "height": null,
       "justify_content": null,
       "justify_items": null,
       "left": null,
       "margin": null,
       "max_height": null,
       "max_width": null,
       "min_height": null,
       "min_width": null,
       "object_fit": null,
       "object_position": null,
       "order": null,
       "overflow": null,
       "overflow_x": null,
       "overflow_y": null,
       "padding": null,
       "right": null,
       "top": null,
       "visibility": null,
       "width": null
      }
     },
     "4ce3f742718743fcaa7d663302c77800": {
      "model_module": "@jupyter-widgets/controls",
      "model_module_version": "1.5.0",
      "model_name": "ProgressStyleModel",
      "state": {
       "_model_module": "@jupyter-widgets/controls",
       "_model_module_version": "1.5.0",
       "_model_name": "ProgressStyleModel",
       "_view_count": null,
       "_view_module": "@jupyter-widgets/base",
       "_view_module_version": "1.2.0",
       "_view_name": "StyleView",
       "bar_color": null,
       "description_width": ""
      }
     },
     "60b00abead234f9490da84318b23bc49": {
      "model_module": "@jupyter-widgets/base",
      "model_module_version": "1.2.0",
      "model_name": "LayoutModel",
      "state": {
       "_model_module": "@jupyter-widgets/base",
       "_model_module_version": "1.2.0",
       "_model_name": "LayoutModel",
       "_view_count": null,
       "_view_module": "@jupyter-widgets/base",
       "_view_module_version": "1.2.0",
       "_view_name": "LayoutView",
       "align_content": null,
       "align_items": null,
       "align_self": null,
       "border": null,
       "bottom": null,
       "display": null,
       "flex": null,
       "flex_flow": null,
       "grid_area": null,
       "grid_auto_columns": null,
       "grid_auto_flow": null,
       "grid_auto_rows": null,
       "grid_column": null,
       "grid_gap": null,
       "grid_row": null,
       "grid_template_areas": null,
       "grid_template_columns": null,
       "grid_template_rows": null,
       "height": null,
       "justify_content": null,
       "justify_items": null,
       "left": null,
       "margin": null,
       "max_height": null,
       "max_width": null,
       "min_height": null,
       "min_width": null,
       "object_fit": null,
       "object_position": null,
       "order": null,
       "overflow": null,
       "overflow_x": null,
       "overflow_y": null,
       "padding": null,
       "right": null,
       "top": null,
       "visibility": null,
       "width": null
      }
     },
     "7562aa6d5228477da15600a39f4f8569": {
      "model_module": "@jupyter-widgets/controls",
      "model_module_version": "1.5.0",
      "model_name": "HTMLModel",
      "state": {
       "_dom_classes": [],
       "_model_module": "@jupyter-widgets/controls",
       "_model_module_version": "1.5.0",
       "_model_name": "HTMLModel",
       "_view_count": null,
       "_view_module": "@jupyter-widgets/controls",
       "_view_module_version": "1.5.0",
       "_view_name": "HTMLView",
       "description": "",
       "description_tooltip": null,
       "layout": "IPY_MODEL_60b00abead234f9490da84318b23bc49",
       "placeholder": "​",
       "style": "IPY_MODEL_7d4be082670c452abcc8b83ee48dda1e",
       "value": " 54.7M/54.7M [00:03&lt;00:00, 22.8MB/s]"
      }
     },
     "7d4be082670c452abcc8b83ee48dda1e": {
      "model_module": "@jupyter-widgets/controls",
      "model_module_version": "1.5.0",
      "model_name": "DescriptionStyleModel",
      "state": {
       "_model_module": "@jupyter-widgets/controls",
       "_model_module_version": "1.5.0",
       "_model_name": "DescriptionStyleModel",
       "_view_count": null,
       "_view_module": "@jupyter-widgets/base",
       "_view_module_version": "1.2.0",
       "_view_name": "StyleView",
       "description_width": ""
      }
     },
     "7fc8c654ec3c40f89f81a54e9bec7ac8": {
      "model_module": "@jupyter-widgets/controls",
      "model_module_version": "1.5.0",
      "model_name": "DescriptionStyleModel",
      "state": {
       "_model_module": "@jupyter-widgets/controls",
       "_model_module_version": "1.5.0",
       "_model_name": "DescriptionStyleModel",
       "_view_count": null,
       "_view_module": "@jupyter-widgets/base",
       "_view_module_version": "1.2.0",
       "_view_name": "StyleView",
       "description_width": ""
      }
     },
     "a30cf1fb5a984887a6189ed89ad9b0d6": {
      "model_module": "@jupyter-widgets/base",
      "model_module_version": "1.2.0",
      "model_name": "LayoutModel",
      "state": {
       "_model_module": "@jupyter-widgets/base",
       "_model_module_version": "1.2.0",
       "_model_name": "LayoutModel",
       "_view_count": null,
       "_view_module": "@jupyter-widgets/base",
       "_view_module_version": "1.2.0",
       "_view_name": "LayoutView",
       "align_content": null,
       "align_items": null,
       "align_self": null,
       "border": null,
       "bottom": null,
       "display": null,
       "flex": null,
       "flex_flow": null,
       "grid_area": null,
       "grid_auto_columns": null,
       "grid_auto_flow": null,
       "grid_auto_rows": null,
       "grid_column": null,
       "grid_gap": null,
       "grid_row": null,
       "grid_template_areas": null,
       "grid_template_columns": null,
       "grid_template_rows": null,
       "height": null,
       "justify_content": null,
       "justify_items": null,
       "left": null,
       "margin": null,
       "max_height": null,
       "max_width": null,
       "min_height": null,
       "min_width": null,
       "object_fit": null,
       "object_position": null,
       "order": null,
       "overflow": null,
       "overflow_x": null,
       "overflow_y": null,
       "padding": null,
       "right": null,
       "top": null,
       "visibility": null,
       "width": null
      }
     },
     "f63dd51bb39a4506be67c9c1b4753c16": {
      "model_module": "@jupyter-widgets/controls",
      "model_module_version": "1.5.0",
      "model_name": "FloatProgressModel",
      "state": {
       "_dom_classes": [],
       "_model_module": "@jupyter-widgets/controls",
       "_model_module_version": "1.5.0",
       "_model_name": "FloatProgressModel",
       "_view_count": null,
       "_view_module": "@jupyter-widgets/controls",
       "_view_module_version": "1.5.0",
       "_view_name": "ProgressView",
       "bar_style": "success",
       "description": "",
       "description_tooltip": null,
       "layout": "IPY_MODEL_ff4cb5710c1e4af0b3140fc020b33f30",
       "max": 57365526.0,
       "min": 0.0,
       "orientation": "horizontal",
       "style": "IPY_MODEL_4ce3f742718743fcaa7d663302c77800",
       "value": 57365526.0
      }
     },
     "ff4cb5710c1e4af0b3140fc020b33f30": {
      "model_module": "@jupyter-widgets/base",
      "model_module_version": "1.2.0",
      "model_name": "LayoutModel",
      "state": {
       "_model_module": "@jupyter-widgets/base",
       "_model_module_version": "1.2.0",
       "_model_name": "LayoutModel",
       "_view_count": null,
       "_view_module": "@jupyter-widgets/base",
       "_view_module_version": "1.2.0",
       "_view_name": "LayoutView",
       "align_content": null,
       "align_items": null,
       "align_self": null,
       "border": null,
       "bottom": null,
       "display": null,
       "flex": null,
       "flex_flow": null,
       "grid_area": null,
       "grid_auto_columns": null,
       "grid_auto_flow": null,
       "grid_auto_rows": null,
       "grid_column": null,
       "grid_gap": null,
       "grid_row": null,
       "grid_template_areas": null,
       "grid_template_columns": null,
       "grid_template_rows": null,
       "height": null,
       "justify_content": null,
       "justify_items": null,
       "left": null,
       "margin": null,
       "max_height": null,
       "max_width": null,
       "min_height": null,
       "min_width": null,
       "object_fit": null,
       "object_position": null,
       "order": null,
       "overflow": null,
       "overflow_x": null,
       "overflow_y": null,
       "padding": null,
       "right": null,
       "top": null,
       "visibility": null,
       "width": null
      }
     }
    },
    "version_major": 2,
    "version_minor": 0
   }
  }
 },
 "nbformat": 4,
 "nbformat_minor": 5
}
