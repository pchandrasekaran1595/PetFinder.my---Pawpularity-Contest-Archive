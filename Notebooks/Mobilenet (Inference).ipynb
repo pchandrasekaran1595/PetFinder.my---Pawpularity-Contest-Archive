{
 "cells": [
  {
   "cell_type": "markdown",
   "id": "92e54517",
   "metadata": {
    "_cell_guid": "b1076dfc-b9ad-4769-8c92-a6c4dae69d19",
    "_uuid": "8f2839f25d086af736a60e9eeb907d3b93b6e0e5",
    "papermill": {
     "duration": 0.011386,
     "end_time": "2021-10-06T21:27:41.679619",
     "exception": false,
     "start_time": "2021-10-06T21:27:41.668233",
     "status": "completed"
    },
    "tags": []
   },
   "source": [
    "## Library Imports"
   ]
  },
  {
   "cell_type": "code",
   "execution_count": 1,
   "id": "b7dee6f7",
   "metadata": {
    "execution": {
     "iopub.execute_input": "2021-10-06T21:27:41.780961Z",
     "iopub.status.busy": "2021-10-06T21:27:41.780219Z",
     "iopub.status.idle": "2021-10-06T21:27:41.783198Z",
     "shell.execute_reply": "2021-10-06T21:27:41.782652Z",
     "shell.execute_reply.started": "2021-10-06T16:19:17.431083Z"
    },
    "papermill": {
     "duration": 0.092918,
     "end_time": "2021-10-06T21:27:41.783340",
     "exception": false,
     "start_time": "2021-10-06T21:27:41.690422",
     "status": "completed"
    },
    "tags": []
   },
   "outputs": [],
   "source": [
    "from time import time\n",
    "notebook_start_time = time()"
   ]
  },
  {
   "cell_type": "code",
   "execution_count": 2,
   "id": "770e6a53",
   "metadata": {
    "execution": {
     "iopub.execute_input": "2021-10-06T21:27:41.807503Z",
     "iopub.status.busy": "2021-10-06T21:27:41.806945Z",
     "iopub.status.idle": "2021-10-06T21:27:47.245630Z",
     "shell.execute_reply": "2021-10-06T21:27:47.246104Z",
     "shell.execute_reply.started": "2021-10-06T16:19:18.522355Z"
    },
    "papermill": {
     "duration": 5.4533,
     "end_time": "2021-10-06T21:27:47.246274",
     "exception": false,
     "start_time": "2021-10-06T21:27:41.792974",
     "status": "completed"
    },
    "tags": []
   },
   "outputs": [],
   "source": [
    "import os\n",
    "import re\n",
    "import cv2\n",
    "import numpy as np\n",
    "import pandas as pd\n",
    "import matplotlib.pyplot as plt\n",
    "\n",
    "import torch\n",
    "from torch import nn, optim\n",
    "from torch.utils.data import Dataset\n",
    "from torch.utils.data import DataLoader as DL\n",
    "from torch.nn.utils import weight_norm as WN\n",
    "from torchvision import models, transforms\n",
    "\n",
    "from sklearn.model_selection import KFold\n",
    "from sklearn.preprocessing import StandardScaler"
   ]
  },
  {
   "cell_type": "markdown",
   "id": "8dbc868e",
   "metadata": {
    "papermill": {
     "duration": 0.009371,
     "end_time": "2021-10-06T21:27:47.265669",
     "exception": false,
     "start_time": "2021-10-06T21:27:47.256298",
     "status": "completed"
    },
    "tags": []
   },
   "source": [
    "## Constants and Utilities"
   ]
  },
  {
   "cell_type": "code",
   "execution_count": 3,
   "id": "305e1a47",
   "metadata": {
    "execution": {
     "iopub.execute_input": "2021-10-06T21:27:47.330375Z",
     "iopub.status.busy": "2021-10-06T21:27:47.329826Z",
     "iopub.status.idle": "2021-10-06T21:27:47.343477Z",
     "shell.execute_reply": "2021-10-06T21:27:47.343079Z",
     "shell.execute_reply.started": "2021-10-06T16:24:52.296675Z"
    },
    "papermill": {
     "duration": 0.068589,
     "end_time": "2021-10-06T21:27:47.343600",
     "exception": false,
     "start_time": "2021-10-06T21:27:47.275011",
     "status": "completed"
    },
    "tags": []
   },
   "outputs": [],
   "source": [
    "SEED = 0\n",
    "DEVICE = torch.device(\"cuda\" if torch.cuda.is_available() else \"cpu\")\n",
    "PATH = \"../input/petfinder-pawpularity-score\"\n",
    "PRETRAINED_WEIGHTS_PATH = \"../input/pretrained-model-weights\"\n",
    "TRAINED_ANN_WEIGHTS_PATH = \"../input/petfinder-mobilenet-train-10fcv\"\n",
    "\n",
    "MODEL_NAME = \"mobilenet\"\n",
    "FEATURE_LENGTH = 1280\n",
    "NUM_FOLDS = len([name for name in os.listdir(TRAINED_ANN_WEIGHTS_PATH) if name[-2:] == \"pt\"])\n",
    "\n",
    "IMAGE_SIZE = 224\n",
    "TRANSFORM = transforms.Compose([transforms.ToTensor(), \n",
    "                                transforms.Normalize([0.485, 0.456, 0.406],\n",
    "                                                     [0.229, 0.224, 0.225]),\n",
    "                                ])\n",
    "\n",
    "sc_y = StandardScaler()"
   ]
  },
  {
   "cell_type": "code",
   "execution_count": 4,
   "id": "a1fd6880",
   "metadata": {
    "execution": {
     "iopub.execute_input": "2021-10-06T21:27:47.373677Z",
     "iopub.status.busy": "2021-10-06T21:27:47.372140Z",
     "iopub.status.idle": "2021-10-06T21:27:47.374329Z",
     "shell.execute_reply": "2021-10-06T21:27:47.374748Z",
     "shell.execute_reply.started": "2021-10-06T16:19:23.928558Z"
    },
    "papermill": {
     "duration": 0.02175,
     "end_time": "2021-10-06T21:27:47.374870",
     "exception": false,
     "start_time": "2021-10-06T21:27:47.353120",
     "status": "completed"
    },
    "tags": []
   },
   "outputs": [],
   "source": [
    "def breaker(num=50, char=\"*\") -> None:\n",
    "    print(\"\\n\" + num*char + \"\\n\")\n",
    "\n",
    "\n",
    "def head(x, no_of_ele=5) -> None:\n",
    "    print(x[:no_of_ele])\n",
    "\n",
    "\n",
    "def get_filenames_and_targets(path: str) -> tuple:\n",
    "    df = pd.read_csv(os.path.join(path, \"train.csv\"), engine=\"python\")\n",
    "    filenames = df.iloc[:, 0].copy().values\n",
    "    targets  = df.iloc[:, -1].copy().values\n",
    "    return filenames, targets\n",
    "\n",
    "\n",
    "def get_filenames(path: str) -> np.ndarray:\n",
    "    df = pd.read_csv(os.path.join(path, \"test.csv\"), engine=\"python\")\n",
    "    filenames  = df[\"Id\"].copy().values\n",
    "    return filenames\n",
    "\n",
    "\n",
    "def get_image(path: str, name: str, size: int) -> np.ndarray:\n",
    "    image = cv2.imread(os.path.join(path, name + \".jpg\"), cv2.IMREAD_COLOR)\n",
    "    image = cv2.cvtColor(src=image, code=cv2.COLOR_BGR2RGB)\n",
    "    image = cv2.resize(src=image, dsize=(size, size), interpolation=cv2.INTER_AREA)\n",
    "    return image\n",
    "\n",
    "\n",
    "def make_submission(path: str, y_pred: np.ndarray) -> None:\n",
    "    submission = pd.read_csv(os.path.join(path, \"sample_submission.csv\"), engine=\"python\")\n",
    "    submission[\"Pawpularity\"] = y_pred\n",
    "    submission.to_csv(\"./submission.csv\", index=False)"
   ]
  },
  {
   "cell_type": "markdown",
   "id": "6009ffaa",
   "metadata": {
    "papermill": {
     "duration": 0.00955,
     "end_time": "2021-10-06T21:27:47.393831",
     "exception": false,
     "start_time": "2021-10-06T21:27:47.384281",
     "status": "completed"
    },
    "tags": []
   },
   "source": [
    "## Dataset Templates"
   ]
  },
  {
   "cell_type": "code",
   "execution_count": 5,
   "id": "8e3b7b11",
   "metadata": {
    "execution": {
     "iopub.execute_input": "2021-10-06T21:27:47.419386Z",
     "iopub.status.busy": "2021-10-06T21:27:47.415480Z",
     "iopub.status.idle": "2021-10-06T21:27:47.421258Z",
     "shell.execute_reply": "2021-10-06T21:27:47.421677Z",
     "shell.execute_reply.started": "2021-10-06T16:19:26.621945Z"
    },
    "papermill": {
     "duration": 0.018625,
     "end_time": "2021-10-06T21:27:47.421810",
     "exception": false,
     "start_time": "2021-10-06T21:27:47.403185",
     "status": "completed"
    },
    "tags": []
   },
   "outputs": [],
   "source": [
    "class ImageDS(Dataset):\n",
    "    def __init__(self, base_path=None, filenames=None, image_size=None, transform=None):\n",
    "        self.base_path = base_path\n",
    "        self.filenames = filenames\n",
    "        self.image_size = image_size\n",
    "        self.transform = transform\n",
    "    \n",
    "    def __len__(self):\n",
    "        return self.filenames.shape[0]\n",
    "    \n",
    "    def __getitem__(self, idx):\n",
    "        image = get_image(self.base_path, self.filenames[idx], self.image_size)\n",
    "        return self.transform(image)\n",
    "\n",
    "    \n",
    "class FeatureDS(Dataset):\n",
    "    def __init__(self, features=None):\n",
    "        self.features = features\n",
    "    \n",
    "    def __len__(self):\n",
    "        return self.features.shape[0]\n",
    "    \n",
    "    def __getitem__(self, idx):\n",
    "        return torch.FloatTensor(self.features[idx])"
   ]
  },
  {
   "cell_type": "markdown",
   "id": "236f1c7f",
   "metadata": {
    "papermill": {
     "duration": 0.009184,
     "end_time": "2021-10-06T21:27:47.440626",
     "exception": false,
     "start_time": "2021-10-06T21:27:47.431442",
     "status": "completed"
    },
    "tags": []
   },
   "source": [
    "## Build Models"
   ]
  },
  {
   "cell_type": "code",
   "execution_count": 6,
   "id": "37946d50",
   "metadata": {
    "execution": {
     "iopub.execute_input": "2021-10-06T21:27:47.463899Z",
     "iopub.status.busy": "2021-10-06T21:27:47.463057Z",
     "iopub.status.idle": "2021-10-06T21:27:47.483669Z",
     "shell.execute_reply": "2021-10-06T21:27:47.483283Z",
     "shell.execute_reply.started": "2021-10-06T16:20:01.679033Z"
    },
    "papermill": {
     "duration": 0.032432,
     "end_time": "2021-10-06T21:27:47.483788",
     "exception": false,
     "start_time": "2021-10-06T21:27:47.451356",
     "status": "completed"
    },
    "tags": []
   },
   "outputs": [],
   "source": [
    "def build_models(model_name: str, IL: int, pretrained: bool, seed: int):\n",
    "\n",
    "    class ImageModel(nn.Module):\n",
    "        def __init__(self, model_name=None, pretrained=False):\n",
    "            super(ImageModel, self).__init__()\n",
    "\n",
    "            if re.match(r\"^resnet$\", model_name, re.IGNORECASE):\n",
    "                self.features = models.resnet50(pretrained=pretrained, progress=True)\n",
    "                if pretrained:\n",
    "                    self.freeze()\n",
    "                self.features = nn.Sequential(*[*self.features.children()][:-1])\n",
    "                self.features.add_module(\"Flatten\", nn.Flatten())\n",
    "\n",
    "                self.in_features = self.features[-3][2].bn3.num_features\n",
    "\n",
    "\n",
    "            elif re.match(r\"^vgg$\", model_name, re.IGNORECASE):\n",
    "                self.features = models.vgg16_bn(pretrained=pretrained, progress=True)\n",
    "                if pretrained:\n",
    "                    self.freeze()\n",
    "                self.features = nn.Sequential(*[*self.features.children()][:-2])\n",
    "                self.features.add_module(\"Adaptive Average Pool\", nn.AdaptiveAvgPool2d(output_size=(2, 2)))\n",
    "                self.features.add_module(\"Flatten\", nn.Flatten())\n",
    "\n",
    "                self.in_features = self.features[-3][41].num_features * 2 * 2\n",
    "\n",
    "\n",
    "            elif re.match(r\"^mobilenet$\", model_name, re.IGNORECASE):\n",
    "                self.features = models.mobilenet_v2(pretrained=pretrained, progress=True)\n",
    "                if pretrained:\n",
    "                    self.freeze()\n",
    "                self.features = nn.Sequential(*[*self.features.children()][:-1])\n",
    "                self.features.add_module(\"Adaptive Average Pool\", nn.AdaptiveAvgPool2d(output_size=(1, 1)))\n",
    "                self.features.add_module(\"Flatten\", nn.Flatten())\n",
    "\n",
    "                self.in_features = self.features[-3][-1][1].num_features\n",
    "\n",
    "\n",
    "            elif re.match(r\"^densenet$\", model_name, re.IGNORECASE):\n",
    "                self.features = models.densenet169(pretrained=pretrained, progress=True)\n",
    "                if pretrained:\n",
    "                    self.freeze()\n",
    "                self.features = nn.Sequential(*[*self.features.children()][:-1])\n",
    "                self.features.add_module(\"Adaptive Average Pool\", nn.AdaptiveAvgPool2d(output_size=(1, 1)))\n",
    "                self.features.add_module(\"Flatten\", nn.Flatten())\n",
    "\n",
    "                self.in_features = self.features[0].norm5.num_features\n",
    "\n",
    "        def freeze(self):\n",
    "            for params in self.parameters():\n",
    "                    params.requires_grad = False\n",
    "\n",
    "        def forward(self, x):\n",
    "            return self.features(x)\n",
    "    \n",
    "    \n",
    "    breaker()\n",
    "    print(\"Building Vision Model ...\")\n",
    "    print(\"\\n{} Features\".format(model_name))\n",
    "    \n",
    "    torch.manual_seed(seed)\n",
    "    vision_model = ImageModel(model_name=model_name, pretrained=pretrained)\n",
    "    \n",
    "    \n",
    "    class ANN(nn.Module):\n",
    "        def __init__(self, IL=None):\n",
    "            super(ANN, self).__init__()\n",
    "\n",
    "            self.predictor = nn.Sequential()\n",
    "            self.predictor.add_module(\"BN\", nn.BatchNorm1d(num_features=IL, eps=1e-5))\n",
    "            self.predictor.add_module(\"FC\", WN(nn.Linear(in_features=IL, out_features=1)))\n",
    "\n",
    "        def get_optimizer(self, lr=1e-3, wd=0):\n",
    "            params = [p for p in self.parameters() if p.requires_grad]\n",
    "            return optim.Adam(params, lr=lr, weight_decay=wd)\n",
    "\n",
    "        def get_plateau_scheduler(self, optimizer=None, patience=5, eps=1e-8):\n",
    "            return optim.lr_scheduler.ReduceLROnPlateau(optimizer=optimizer, patience=patience, eps=eps, verbose=True)\n",
    "\n",
    "        def forward(self, x):\n",
    "            return self.predictor(x)\n",
    "    \n",
    "    breaker()\n",
    "    print(\"Building Model ...\")\n",
    "    print(\"\\n{} -> 1\".format(IL))\n",
    "    \n",
    "    torch.manual_seed(seed)\n",
    "    ann_model = ANN(IL=IL)\n",
    "    \n",
    "    return vision_model, ann_model"
   ]
  },
  {
   "cell_type": "markdown",
   "id": "c7b87406",
   "metadata": {
    "papermill": {
     "duration": 0.009226,
     "end_time": "2021-10-06T21:27:47.502346",
     "exception": false,
     "start_time": "2021-10-06T21:27:47.493120",
     "status": "completed"
    },
    "tags": []
   },
   "source": [
    "## Feature Getter and Predict Helper"
   ]
  },
  {
   "cell_type": "code",
   "execution_count": 7,
   "id": "364f147a",
   "metadata": {
    "execution": {
     "iopub.execute_input": "2021-10-06T21:27:47.531841Z",
     "iopub.status.busy": "2021-10-06T21:27:47.531068Z",
     "iopub.status.idle": "2021-10-06T21:27:47.533398Z",
     "shell.execute_reply": "2021-10-06T21:27:47.533004Z",
     "shell.execute_reply.started": "2021-10-06T16:21:07.205378Z"
    },
    "papermill": {
     "duration": 0.021606,
     "end_time": "2021-10-06T21:27:47.533499",
     "exception": false,
     "start_time": "2021-10-06T21:27:47.511893",
     "status": "completed"
    },
    "tags": []
   },
   "outputs": [],
   "source": [
    "def get_features(model=None, dataloader=None, feature_length=None, path=None):\n",
    "    model.load_state_dict(torch.load(path, map_location=DEVICE))\n",
    "    model.to(DEVICE)\n",
    "    model.eval()\n",
    "\n",
    "    features = torch.zeros(1, feature_length).to(DEVICE)\n",
    "    for X in dataloader:\n",
    "        X = X.to(DEVICE)\n",
    "        with torch.no_grad():\n",
    "            output = model(X)\n",
    "        features = torch.cat((features, output.view(-1, feature_length)), dim=0)\n",
    "    \n",
    "    return features[1:].detach().cpu().numpy()\n",
    "\n",
    "\n",
    "def predict_batch(model=None, dataloader=None, mode=\"test\", path=None):\n",
    "    model.load_state_dict(torch.load(path, map_location=DEVICE)[\"model_state_dict\"])\n",
    "    model.to(DEVICE)\n",
    "    model.eval()\n",
    "\n",
    "    y_pred = torch.zeros(1, 1).to(DEVICE)\n",
    "    if re.match(r\"valid\", mode, re.IGNORECASE):\n",
    "        for X, _ in dataloader:\n",
    "            X = X.to(DEVICE)\n",
    "            with torch.no_grad():\n",
    "                output = model(X)\n",
    "            y_pred = torch.cat((y_pred, output.view(-1, 1)), dim=0)\n",
    "    elif re.match(r\"test\", mode, re.IGNORECASE):\n",
    "        for X in dataloader:\n",
    "            X = X.to(DEVICE)\n",
    "            with torch.no_grad():\n",
    "                output = model(X)\n",
    "            y_pred = torch.cat((y_pred, output.view(-1, 1)), dim=0)\n",
    "    \n",
    "    return y_pred[1:].detach().cpu().numpy()"
   ]
  },
  {
   "cell_type": "markdown",
   "id": "563bfa16",
   "metadata": {
    "papermill": {
     "duration": 0.009212,
     "end_time": "2021-10-06T21:27:47.552028",
     "exception": false,
     "start_time": "2021-10-06T21:27:47.542816",
     "status": "completed"
    },
    "tags": []
   },
   "source": [
    "## Generate Submission"
   ]
  },
  {
   "cell_type": "code",
   "execution_count": 8,
   "id": "8d9ccb18",
   "metadata": {
    "execution": {
     "iopub.execute_input": "2021-10-06T21:27:47.582365Z",
     "iopub.status.busy": "2021-10-06T21:27:47.581742Z",
     "iopub.status.idle": "2021-10-06T21:27:53.895160Z",
     "shell.execute_reply": "2021-10-06T21:27:53.894571Z",
     "shell.execute_reply.started": "2021-10-06T16:25:53.138758Z"
    },
    "papermill": {
     "duration": 6.333811,
     "end_time": "2021-10-06T21:27:53.895309",
     "exception": false,
     "start_time": "2021-10-06T21:27:47.561498",
     "status": "completed"
    },
    "tags": []
   },
   "outputs": [
    {
     "name": "stdout",
     "output_type": "stream",
     "text": [
      "\n",
      "**************************************************\n",
      "\n",
      "Reading Data ...\n",
      "\n",
      "**************************************************\n",
      "\n",
      "Obtaining Test Image Features ...\n",
      "\n",
      "**************************************************\n",
      "\n",
      "Building Vision Model ...\n",
      "\n",
      "mobilenet Features\n",
      "\n",
      "**************************************************\n",
      "\n",
      "Building Model ...\n",
      "\n",
      "1280 -> 1\n",
      "\n",
      "**************************************************\n",
      "\n",
      "Making Predictions on Test Features ...\n",
      "\n",
      "**************************************************\n",
      "\n",
      "Processing Fold 1 ...\n",
      "Processing Fold 2 ...\n",
      "Processing Fold 3 ...\n",
      "Processing Fold 4 ...\n",
      "Processing Fold 5 ...\n",
      "Processing Fold 6 ...\n",
      "Processing Fold 7 ...\n",
      "Processing Fold 8 ...\n",
      "Processing Fold 9 ...\n",
      "Processing Fold 10 ...\n",
      "\n",
      "**************************************************\n",
      "\n",
      "Generating Submission File ...\n",
      "\n",
      "**************************************************\n",
      "\n"
     ]
    }
   ],
   "source": [
    "def submit():\n",
    "    breaker()\n",
    "    print(\"Reading Data ...\")\n",
    "    \n",
    "    ts_filenames = get_filenames(PATH)\n",
    "    filenames, targets = get_filenames_and_targets(PATH)\n",
    "    \n",
    "    \n",
    "    breaker()\n",
    "    print(\"Obtaining Test Image Features ...\")\n",
    "    \n",
    "    ts_image_data_setup = ImageDS(base_path=os.path.join(PATH, \"test\"), \n",
    "                                  filenames=ts_filenames, \n",
    "                                  image_size=IMAGE_SIZE, \n",
    "                                  transform=TRANSFORM)\n",
    "    ts_image_data = DL(ts_image_data_setup, batch_size=64, shuffle=False)\n",
    "    \n",
    "    VisionModel, ANNModel = build_models(model_name=MODEL_NAME, IL=FEATURE_LENGTH, pretrained=False, seed=SEED)\n",
    "    \n",
    "    ts_features = get_features(model=VisionModel, dataloader=ts_image_data, \n",
    "                               feature_length=FEATURE_LENGTH, \n",
    "                               path=os.path.join(PRETRAINED_WEIGHTS_PATH, \"{}_state.pt\".format(MODEL_NAME)))\n",
    "    \n",
    "    \n",
    "    breaker()\n",
    "    print(\"Making Predictions on Test Features ...\")\n",
    "    breaker()\n",
    "    \n",
    "    fold = 1\n",
    "    final_y_pred = np.zeros((len(ts_filenames), 1))\n",
    "    for tr_idx, va_idx in KFold(n_splits=NUM_FOLDS, shuffle=True, random_state=SEED).split(filenames):\n",
    "        print(\"Processing Fold {} ...\".format(fold))\n",
    "        \n",
    "        tr_targets = targets[tr_idx]\n",
    "        tr_targets = tr_targets.reshape(-1, 1)\n",
    "        tr_targets = sc_y.fit_transform(tr_targets)\n",
    "    \n",
    "        ts_feature_data_setup = FeatureDS(features=ts_features)\n",
    "        ts_feature_data = DL(ts_feature_data_setup, batch_size=512, shuffle=False)\n",
    "\n",
    "        y_pred = predict_batch(model=ANNModel, dataloader=ts_feature_data, mode=\"test\",\n",
    "                               path=os.path.join(TRAINED_ANN_WEIGHTS_PATH, \"Fold_{}_state.pt\".format(fold)))\n",
    "        y_pred = sc_y.inverse_transform(y_pred)\n",
    "        \n",
    "        final_y_pred += y_pred\n",
    "        fold += 1\n",
    "    \n",
    "    final_y_pred = final_y_pred / NUM_FOLDS\n",
    "    \n",
    "    \n",
    "    breaker()\n",
    "    print(\"Generating Submission File ...\")\n",
    "    make_submission(PATH, final_y_pred)\n",
    "    breaker()\n",
    "\n",
    "submit()"
   ]
  },
  {
   "cell_type": "code",
   "execution_count": 9,
   "id": "ccb9ff7b",
   "metadata": {
    "execution": {
     "iopub.execute_input": "2021-10-06T21:27:53.922430Z",
     "iopub.status.busy": "2021-10-06T21:27:53.921813Z",
     "iopub.status.idle": "2021-10-06T21:27:53.924961Z",
     "shell.execute_reply": "2021-10-06T21:27:53.925520Z"
    },
    "papermill": {
     "duration": 0.018907,
     "end_time": "2021-10-06T21:27:53.925659",
     "exception": false,
     "start_time": "2021-10-06T21:27:53.906752",
     "status": "completed"
    },
    "tags": []
   },
   "outputs": [
    {
     "name": "stdout",
     "output_type": "stream",
     "text": [
      "\n",
      "**************************************************\n",
      "\n",
      "Notebook Run Time : 0.20 minutes\n",
      "\n",
      "**************************************************\n",
      "\n"
     ]
    }
   ],
   "source": [
    "breaker()\n",
    "print(\"Notebook Run Time : {:.2f} minutes\".format((time()-notebook_start_time)/60))\n",
    "breaker()"
   ]
  }
 ],
 "metadata": {
  "kernelspec": {
   "display_name": "Python 3",
   "language": "python",
   "name": "python3"
  },
  "language_info": {
   "codemirror_mode": {
    "name": "ipython",
    "version": 3
   },
   "file_extension": ".py",
   "mimetype": "text/x-python",
   "name": "python",
   "nbconvert_exporter": "python",
   "pygments_lexer": "ipython3",
   "version": "3.7.10"
  },
  "papermill": {
   "default_parameters": {},
   "duration": 20.675643,
   "end_time": "2021-10-06T21:27:55.393008",
   "environment_variables": {},
   "exception": null,
   "input_path": "__notebook__.ipynb",
   "output_path": "__notebook__.ipynb",
   "parameters": {},
   "start_time": "2021-10-06T21:27:34.717365",
   "version": "2.3.3"
  }
 },
 "nbformat": 4,
 "nbformat_minor": 5
}
