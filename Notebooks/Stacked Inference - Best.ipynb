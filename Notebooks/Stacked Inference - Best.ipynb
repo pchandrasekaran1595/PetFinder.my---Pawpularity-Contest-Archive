{
 "cells": [
  {
   "cell_type": "markdown",
   "id": "75bb611b",
   "metadata": {
    "_cell_guid": "b1076dfc-b9ad-4769-8c92-a6c4dae69d19",
    "_uuid": "8f2839f25d086af736a60e9eeb907d3b93b6e0e5",
    "papermill": {
     "duration": 0.010688,
     "end_time": "2021-10-06T21:54:44.164380",
     "exception": false,
     "start_time": "2021-10-06T21:54:44.153692",
     "status": "completed"
    },
    "tags": []
   },
   "source": [
    "## Library Imports"
   ]
  },
  {
   "cell_type": "code",
   "execution_count": 1,
   "id": "466eb113",
   "metadata": {
    "execution": {
     "iopub.execute_input": "2021-10-06T21:54:44.190237Z",
     "iopub.status.busy": "2021-10-06T21:54:44.188812Z",
     "iopub.status.idle": "2021-10-06T21:54:44.264903Z",
     "shell.execute_reply": "2021-10-06T21:54:44.264311Z",
     "shell.execute_reply.started": "2021-10-06T21:50:33.864502Z"
    },
    "papermill": {
     "duration": 0.089162,
     "end_time": "2021-10-06T21:54:44.265050",
     "exception": false,
     "start_time": "2021-10-06T21:54:44.175888",
     "status": "completed"
    },
    "tags": []
   },
   "outputs": [],
   "source": [
    "from time import time\n",
    "notebook_start_time = time()"
   ]
  },
  {
   "cell_type": "code",
   "execution_count": 2,
   "id": "96ad0948",
   "metadata": {
    "execution": {
     "iopub.execute_input": "2021-10-06T21:54:44.289404Z",
     "iopub.status.busy": "2021-10-06T21:54:44.288795Z",
     "iopub.status.idle": "2021-10-06T21:54:49.724718Z",
     "shell.execute_reply": "2021-10-06T21:54:49.724217Z",
     "shell.execute_reply.started": "2021-10-06T21:50:33.957001Z"
    },
    "papermill": {
     "duration": 5.450148,
     "end_time": "2021-10-06T21:54:49.724850",
     "exception": false,
     "start_time": "2021-10-06T21:54:44.274702",
     "status": "completed"
    },
    "tags": []
   },
   "outputs": [],
   "source": [
    "import os\n",
    "import re\n",
    "import cv2\n",
    "import numpy as np\n",
    "import pandas as pd\n",
    "import matplotlib.pyplot as plt\n",
    "\n",
    "import torch\n",
    "from torch import nn, optim\n",
    "from torch.utils.data import Dataset\n",
    "from torch.utils.data import DataLoader as DL\n",
    "from torch.nn.utils import weight_norm as WN\n",
    "from torchvision import models, transforms\n",
    "\n",
    "from sklearn.model_selection import KFold\n",
    "from sklearn.preprocessing import StandardScaler"
   ]
  },
  {
   "cell_type": "markdown",
   "id": "ed0042df",
   "metadata": {
    "papermill": {
     "duration": 0.009551,
     "end_time": "2021-10-06T21:54:49.744180",
     "exception": false,
     "start_time": "2021-10-06T21:54:49.734629",
     "status": "completed"
    },
    "tags": []
   },
   "source": [
    "## Constants and Utilities"
   ]
  },
  {
   "cell_type": "code",
   "execution_count": 3,
   "id": "c120b539",
   "metadata": {
    "execution": {
     "iopub.execute_input": "2021-10-06T21:54:49.817419Z",
     "iopub.status.busy": "2021-10-06T21:54:49.816880Z",
     "iopub.status.idle": "2021-10-06T21:54:49.820070Z",
     "shell.execute_reply": "2021-10-06T21:54:49.820728Z",
     "shell.execute_reply.started": "2021-10-06T21:50:39.346458Z"
    },
    "papermill": {
     "duration": 0.06715,
     "end_time": "2021-10-06T21:54:49.820862",
     "exception": false,
     "start_time": "2021-10-06T21:54:49.753712",
     "status": "completed"
    },
    "tags": []
   },
   "outputs": [],
   "source": [
    "SEED = 0\n",
    "DEVICE = torch.device(\"cuda\" if torch.cuda.is_available() else \"cpu\")\n",
    "PATH = \"../input/petfinder-pawpularity-score\"\n",
    "PRETRAINED_WEIGHTS_PATH = \"../input/pretrained-model-weights\"\n",
    "\n",
    "NUM_FOLDS = 10\n",
    "IMAGE_SIZE = 224\n",
    "TRANSFORM = transforms.Compose([transforms.ToTensor(), \n",
    "                                transforms.Normalize([0.485, 0.456, 0.406],\n",
    "                                                     [0.229, 0.224, 0.225]),\n",
    "                                ])\n",
    "sc_y = StandardScaler()\n",
    "\n",
    "model_names = [\"densenet\", \"resnet\", \"mobilenet\", \"vgg\"]\n",
    "trained_annl_weights_paths = [\"../input/petfinder-densenet-train-10fcv\",\n",
    "                              \"../input/petfinder-resnet-train-10fcv\",\n",
    "                              \"../input/petfinder-mobilenet-train-10fcv\",\n",
    "                              \"../input/petfinder-vgg-train-10fcv\"]\n",
    "feature_lengths = [1664, 2048, 1280, 2048]"
   ]
  },
  {
   "cell_type": "code",
   "execution_count": 4,
   "id": "e817f775",
   "metadata": {
    "execution": {
     "iopub.execute_input": "2021-10-06T21:54:49.849937Z",
     "iopub.status.busy": "2021-10-06T21:54:49.849312Z",
     "iopub.status.idle": "2021-10-06T21:54:49.851894Z",
     "shell.execute_reply": "2021-10-06T21:54:49.851506Z",
     "shell.execute_reply.started": "2021-10-06T21:50:39.403568Z"
    },
    "papermill": {
     "duration": 0.021663,
     "end_time": "2021-10-06T21:54:49.851997",
     "exception": false,
     "start_time": "2021-10-06T21:54:49.830334",
     "status": "completed"
    },
    "tags": []
   },
   "outputs": [],
   "source": [
    "def breaker(num=50, char=\"*\") -> None:\n",
    "    print(\"\\n\" + num*char + \"\\n\")\n",
    "\n",
    "\n",
    "def head(x, no_of_ele=5) -> None:\n",
    "    print(x[:no_of_ele])\n",
    "\n",
    "\n",
    "def get_filenames_and_targets(path: str) -> tuple:\n",
    "    df = pd.read_csv(os.path.join(path, \"train.csv\"), engine=\"python\")\n",
    "    filenames = df.iloc[:, 0].copy().values\n",
    "    targets  = df.iloc[:, -1].copy().values\n",
    "    return filenames, targets\n",
    "\n",
    "\n",
    "def get_filenames(path: str) -> np.ndarray:\n",
    "    df = pd.read_csv(os.path.join(path, \"test.csv\"), engine=\"python\")\n",
    "    filenames  = df[\"Id\"].copy().values\n",
    "    return filenames\n",
    "\n",
    "\n",
    "def get_image(path: str, name: str, size: int) -> np.ndarray:\n",
    "    image = cv2.imread(os.path.join(path, name + \".jpg\"), cv2.IMREAD_COLOR)\n",
    "    image = cv2.cvtColor(src=image, code=cv2.COLOR_BGR2RGB)\n",
    "    image = cv2.resize(src=image, dsize=(size, size), interpolation=cv2.INTER_AREA)\n",
    "    return image\n",
    "\n",
    "\n",
    "def make_submission(path: str, y_pred: np.ndarray) -> None:\n",
    "    submission = pd.read_csv(os.path.join(path, \"sample_submission.csv\"), engine=\"python\")\n",
    "    submission[\"Pawpularity\"] = y_pred\n",
    "    submission.to_csv(\"./submission.csv\", index=False)"
   ]
  },
  {
   "cell_type": "markdown",
   "id": "de386b68",
   "metadata": {
    "papermill": {
     "duration": 0.009313,
     "end_time": "2021-10-06T21:54:49.870689",
     "exception": false,
     "start_time": "2021-10-06T21:54:49.861376",
     "status": "completed"
    },
    "tags": []
   },
   "source": [
    "## Dataset Templates"
   ]
  },
  {
   "cell_type": "code",
   "execution_count": 5,
   "id": "6be30eaf",
   "metadata": {
    "execution": {
     "iopub.execute_input": "2021-10-06T21:54:49.896299Z",
     "iopub.status.busy": "2021-10-06T21:54:49.895790Z",
     "iopub.status.idle": "2021-10-06T21:54:49.898049Z",
     "shell.execute_reply": "2021-10-06T21:54:49.898402Z",
     "shell.execute_reply.started": "2021-10-06T21:50:39.421218Z"
    },
    "papermill": {
     "duration": 0.018338,
     "end_time": "2021-10-06T21:54:49.898534",
     "exception": false,
     "start_time": "2021-10-06T21:54:49.880196",
     "status": "completed"
    },
    "tags": []
   },
   "outputs": [],
   "source": [
    "class ImageDS(Dataset):\n",
    "    def __init__(self, base_path=None, filenames=None, image_size=None, transform=None):\n",
    "        self.base_path = base_path\n",
    "        self.filenames = filenames\n",
    "        self.image_size = image_size\n",
    "        self.transform = transform\n",
    "    \n",
    "    def __len__(self):\n",
    "        return self.filenames.shape[0]\n",
    "    \n",
    "    def __getitem__(self, idx):\n",
    "        image = get_image(self.base_path, self.filenames[idx], self.image_size)\n",
    "        return self.transform(image)\n",
    "\n",
    "    \n",
    "class FeatureDS(Dataset):\n",
    "    def __init__(self, features=None):\n",
    "        self.features = features\n",
    "    \n",
    "    def __len__(self):\n",
    "        return self.features.shape[0]\n",
    "    \n",
    "    def __getitem__(self, idx):\n",
    "        return torch.FloatTensor(self.features[idx])"
   ]
  },
  {
   "cell_type": "markdown",
   "id": "3efd146a",
   "metadata": {
    "papermill": {
     "duration": 0.009271,
     "end_time": "2021-10-06T21:54:49.917175",
     "exception": false,
     "start_time": "2021-10-06T21:54:49.907904",
     "status": "completed"
    },
    "tags": []
   },
   "source": [
    "## Build Models"
   ]
  },
  {
   "cell_type": "code",
   "execution_count": 6,
   "id": "788d48ef",
   "metadata": {
    "execution": {
     "iopub.execute_input": "2021-10-06T21:54:49.958464Z",
     "iopub.status.busy": "2021-10-06T21:54:49.954926Z",
     "iopub.status.idle": "2021-10-06T21:54:49.960242Z",
     "shell.execute_reply": "2021-10-06T21:54:49.960689Z",
     "shell.execute_reply.started": "2021-10-06T21:50:39.433201Z"
    },
    "papermill": {
     "duration": 0.032879,
     "end_time": "2021-10-06T21:54:49.960805",
     "exception": false,
     "start_time": "2021-10-06T21:54:49.927926",
     "status": "completed"
    },
    "tags": []
   },
   "outputs": [],
   "source": [
    "def build_models(model_name: str, IL: int, pretrained: bool, seed: int):\n",
    "\n",
    "    class ImageModel(nn.Module):\n",
    "        def __init__(self, model_name=None, pretrained=False):\n",
    "            super(ImageModel, self).__init__()\n",
    "\n",
    "            if re.match(r\"^resnet$\", model_name, re.IGNORECASE):\n",
    "                self.features = models.resnet50(pretrained=pretrained, progress=True)\n",
    "                if pretrained:\n",
    "                    self.freeze()\n",
    "                self.features = nn.Sequential(*[*self.features.children()][:-1])\n",
    "                self.features.add_module(\"Flatten\", nn.Flatten())\n",
    "\n",
    "                self.in_features = self.features[-3][2].bn3.num_features\n",
    "\n",
    "\n",
    "            elif re.match(r\"^vgg$\", model_name, re.IGNORECASE):\n",
    "                self.features = models.vgg16_bn(pretrained=pretrained, progress=True)\n",
    "                if pretrained:\n",
    "                    self.freeze()\n",
    "                self.features = nn.Sequential(*[*self.features.children()][:-2])\n",
    "                self.features.add_module(\"Adaptive Average Pool\", nn.AdaptiveAvgPool2d(output_size=(2, 2)))\n",
    "                self.features.add_module(\"Flatten\", nn.Flatten())\n",
    "\n",
    "                self.in_features = self.features[-3][41].num_features * 2 * 2\n",
    "\n",
    "\n",
    "            elif re.match(r\"^mobilenet$\", model_name, re.IGNORECASE):\n",
    "                self.features = models.mobilenet_v2(pretrained=pretrained, progress=True)\n",
    "                if pretrained:\n",
    "                    self.freeze()\n",
    "                self.features = nn.Sequential(*[*self.features.children()][:-1])\n",
    "                self.features.add_module(\"Adaptive Average Pool\", nn.AdaptiveAvgPool2d(output_size=(1, 1)))\n",
    "                self.features.add_module(\"Flatten\", nn.Flatten())\n",
    "\n",
    "                self.in_features = self.features[-3][-1][1].num_features\n",
    "\n",
    "\n",
    "            elif re.match(r\"^densenet$\", model_name, re.IGNORECASE):\n",
    "                self.features = models.densenet169(pretrained=pretrained, progress=True)\n",
    "                if pretrained:\n",
    "                    self.freeze()\n",
    "                self.features = nn.Sequential(*[*self.features.children()][:-1])\n",
    "                self.features.add_module(\"Adaptive Average Pool\", nn.AdaptiveAvgPool2d(output_size=(1, 1)))\n",
    "                self.features.add_module(\"Flatten\", nn.Flatten())\n",
    "\n",
    "                self.in_features = self.features[0].norm5.num_features\n",
    "\n",
    "        def freeze(self):\n",
    "            for params in self.parameters():\n",
    "                    params.requires_grad = False\n",
    "\n",
    "        def forward(self, x):\n",
    "            return self.features(x)\n",
    "    \n",
    "    \n",
    "    breaker()\n",
    "    print(\"Building Vision Model ...\")\n",
    "    print(\"\\n{} Features\".format(model_name))\n",
    "    \n",
    "    torch.manual_seed(seed)\n",
    "    vision_model = ImageModel(model_name=model_name, pretrained=pretrained)\n",
    "    \n",
    "    \n",
    "    class ANN(nn.Module):\n",
    "        def __init__(self, IL=None):\n",
    "            super(ANN, self).__init__()\n",
    "\n",
    "            self.predictor = nn.Sequential()\n",
    "            self.predictor.add_module(\"BN\", nn.BatchNorm1d(num_features=IL, eps=1e-5))\n",
    "            self.predictor.add_module(\"FC\", WN(nn.Linear(in_features=IL, out_features=1)))\n",
    "\n",
    "        def get_optimizer(self, lr=1e-3, wd=0):\n",
    "            params = [p for p in self.parameters() if p.requires_grad]\n",
    "            return optim.Adam(params, lr=lr, weight_decay=wd)\n",
    "\n",
    "        def get_plateau_scheduler(self, optimizer=None, patience=5, eps=1e-8):\n",
    "            return optim.lr_scheduler.ReduceLROnPlateau(optimizer=optimizer, patience=patience, eps=eps, verbose=True)\n",
    "\n",
    "        def forward(self, x):\n",
    "            return self.predictor(x)\n",
    "    \n",
    "    breaker()\n",
    "    print(\"Building Model ...\")\n",
    "    print(\"\\n{} -> 1\".format(IL))\n",
    "    \n",
    "    torch.manual_seed(seed)\n",
    "    ann_model = ANN(IL=IL)\n",
    "    \n",
    "    return vision_model, ann_model"
   ]
  },
  {
   "cell_type": "markdown",
   "id": "20572faf",
   "metadata": {
    "papermill": {
     "duration": 0.009771,
     "end_time": "2021-10-06T21:54:49.980013",
     "exception": false,
     "start_time": "2021-10-06T21:54:49.970242",
     "status": "completed"
    },
    "tags": []
   },
   "source": [
    "## Feature Getter and Predict Helper"
   ]
  },
  {
   "cell_type": "code",
   "execution_count": 7,
   "id": "76d7615a",
   "metadata": {
    "execution": {
     "iopub.execute_input": "2021-10-06T21:54:50.009545Z",
     "iopub.status.busy": "2021-10-06T21:54:50.009008Z",
     "iopub.status.idle": "2021-10-06T21:54:50.012190Z",
     "shell.execute_reply": "2021-10-06T21:54:50.012569Z",
     "shell.execute_reply.started": "2021-10-06T21:50:39.468006Z"
    },
    "papermill": {
     "duration": 0.02301,
     "end_time": "2021-10-06T21:54:50.012686",
     "exception": false,
     "start_time": "2021-10-06T21:54:49.989676",
     "status": "completed"
    },
    "tags": []
   },
   "outputs": [],
   "source": [
    "def get_features(model=None, dataloader=None, feature_length=None, path=None):\n",
    "    model.load_state_dict(torch.load(path, map_location=DEVICE))\n",
    "    model.to(DEVICE)\n",
    "    model.eval()\n",
    "\n",
    "    features = torch.zeros(1, feature_length).to(DEVICE)\n",
    "    for X in dataloader:\n",
    "        X = X.to(DEVICE)\n",
    "        with torch.no_grad():\n",
    "            output = model(X)\n",
    "        features = torch.cat((features, output.view(-1, feature_length)), dim=0)\n",
    "    \n",
    "    return features[1:].detach().cpu().numpy()\n",
    "\n",
    "\n",
    "def predict_batch(model=None, dataloader=None, mode=\"test\", path=None):\n",
    "    model.load_state_dict(torch.load(path, map_location=DEVICE)[\"model_state_dict\"])\n",
    "    model.to(DEVICE)\n",
    "    model.eval()\n",
    "\n",
    "    y_pred = torch.zeros(1, 1).to(DEVICE)\n",
    "    if re.match(r\"valid\", mode, re.IGNORECASE):\n",
    "        for X, _ in dataloader:\n",
    "            X = X.to(DEVICE)\n",
    "            with torch.no_grad():\n",
    "                output = model(X)\n",
    "            y_pred = torch.cat((y_pred, output.view(-1, 1)), dim=0)\n",
    "    elif re.match(r\"test\", mode, re.IGNORECASE):\n",
    "        for X in dataloader:\n",
    "            X = X.to(DEVICE)\n",
    "            with torch.no_grad():\n",
    "                output = model(X)\n",
    "            y_pred = torch.cat((y_pred, output.view(-1, 1)), dim=0)\n",
    "    \n",
    "    return y_pred[1:].detach().cpu().numpy()"
   ]
  },
  {
   "cell_type": "markdown",
   "id": "38cfe2f9",
   "metadata": {
    "papermill": {
     "duration": 0.009284,
     "end_time": "2021-10-06T21:54:50.031407",
     "exception": false,
     "start_time": "2021-10-06T21:54:50.022123",
     "status": "completed"
    },
    "tags": []
   },
   "source": [
    "## Generate Submission"
   ]
  },
  {
   "cell_type": "code",
   "execution_count": 8,
   "id": "68c23527",
   "metadata": {
    "execution": {
     "iopub.execute_input": "2021-10-06T21:54:50.058480Z",
     "iopub.status.busy": "2021-10-06T21:54:50.057724Z",
     "iopub.status.idle": "2021-10-06T21:55:03.192368Z",
     "shell.execute_reply": "2021-10-06T21:55:03.193297Z",
     "shell.execute_reply.started": "2021-10-06T21:53:32.621211Z"
    },
    "papermill": {
     "duration": 13.152595,
     "end_time": "2021-10-06T21:55:03.193503",
     "exception": false,
     "start_time": "2021-10-06T21:54:50.040908",
     "status": "completed"
    },
    "tags": []
   },
   "outputs": [
    {
     "name": "stdout",
     "output_type": "stream",
     "text": [
      "\n",
      "**************************************************\n",
      "\n",
      "Reading Data ...\n",
      "\n",
      "**************************************************\n",
      "\n",
      "Obtaining Test Image Features ...\n",
      "\n",
      "**************************************************\n",
      "\n",
      "Building Vision Model ...\n",
      "\n",
      "densenet Features\n",
      "\n",
      "**************************************************\n",
      "\n",
      "Building Model ...\n",
      "\n",
      "1664 -> 1\n",
      "\n",
      "**************************************************\n",
      "\n",
      "Making Predictions on Test Features ...\n",
      "\n",
      "**************************************************\n",
      "\n",
      "Building Vision Model ...\n",
      "\n",
      "resnet Features\n",
      "\n",
      "**************************************************\n",
      "\n",
      "Building Model ...\n",
      "\n",
      "2048 -> 1\n",
      "\n",
      "**************************************************\n",
      "\n",
      "Making Predictions on Test Features ...\n",
      "\n",
      "**************************************************\n",
      "\n",
      "Building Vision Model ...\n",
      "\n",
      "mobilenet Features\n",
      "\n",
      "**************************************************\n",
      "\n",
      "Building Model ...\n",
      "\n",
      "1280 -> 1\n",
      "\n",
      "**************************************************\n",
      "\n",
      "Making Predictions on Test Features ...\n",
      "\n",
      "**************************************************\n",
      "\n",
      "Building Vision Model ...\n",
      "\n",
      "vgg Features\n",
      "\n",
      "**************************************************\n",
      "\n",
      "Building Model ...\n",
      "\n",
      "2048 -> 1\n",
      "\n",
      "**************************************************\n",
      "\n",
      "Making Predictions on Test Features ...\n",
      "\n",
      "**************************************************\n",
      "\n",
      "Generating Submission File ...\n",
      "\n",
      "**************************************************\n",
      "\n"
     ]
    }
   ],
   "source": [
    "def submit():\n",
    "    breaker()\n",
    "    print(\"Reading Data ...\")\n",
    "    \n",
    "    ts_filenames = get_filenames(PATH)\n",
    "    filenames, targets = get_filenames_and_targets(PATH)\n",
    "    \n",
    "    \n",
    "    breaker()\n",
    "    print(\"Obtaining Test Image Features ...\")\n",
    "    \n",
    "    ts_image_data_setup = ImageDS(base_path=os.path.join(PATH, \"test\"), \n",
    "                                  filenames=ts_filenames, \n",
    "                                  image_size=IMAGE_SIZE, \n",
    "                                  transform=TRANSFORM)\n",
    "    ts_image_data = DL(ts_image_data_setup, batch_size=64, shuffle=False)\n",
    "    \n",
    "    final_y_pred = np.zeros((len(ts_filenames), 1))\n",
    "    for i in range(len(model_names)):\n",
    "        VisionModel, ANNModel = build_models(model_name=model_names[i], IL=feature_lengths[i], pretrained=False, seed=SEED)\n",
    "\n",
    "        ts_features = get_features(model=VisionModel, dataloader=ts_image_data, \n",
    "                                   feature_length=feature_lengths[i], \n",
    "                                   path=os.path.join(PRETRAINED_WEIGHTS_PATH, \"{}_state.pt\".format(model_names[i])))\n",
    "    \n",
    "    \n",
    "        breaker()\n",
    "        print(\"Making Predictions on Test Features ...\")\n",
    "\n",
    "        fold = 1\n",
    "        for tr_idx, va_idx in KFold(n_splits=NUM_FOLDS, shuffle=True, random_state=SEED).split(filenames):\n",
    "            fold += 1\n",
    "            if fold == 3:\n",
    "                break\n",
    "\n",
    "        tr_targets = targets[tr_idx]\n",
    "        tr_targets = tr_targets.reshape(-1, 1)\n",
    "        tr_targets = sc_y.fit_transform(tr_targets)\n",
    "\n",
    "        ts_feature_data_setup = FeatureDS(features=ts_features)\n",
    "        ts_feature_data = DL(ts_feature_data_setup, batch_size=512, shuffle=False)\n",
    "\n",
    "        y_pred = predict_batch(model=ANNModel, dataloader=ts_feature_data, mode=\"test\",\n",
    "                               path=os.path.join(trained_annl_weights_paths[i], \"Fold_{}_state.pt\".format(fold)))\n",
    "        y_pred = sc_y.inverse_transform(y_pred)\n",
    "\n",
    "        final_y_pred += y_pred\n",
    "\n",
    "    final_y_pred = final_y_pred / len(model_names)\n",
    "    \n",
    "    \n",
    "    breaker()\n",
    "    print(\"Generating Submission File ...\")\n",
    "    make_submission(PATH, final_y_pred)\n",
    "    breaker()\n",
    "\n",
    "submit()"
   ]
  },
  {
   "cell_type": "code",
   "execution_count": 9,
   "id": "935cdb8e",
   "metadata": {
    "execution": {
     "iopub.execute_input": "2021-10-06T21:55:03.222453Z",
     "iopub.status.busy": "2021-10-06T21:55:03.221586Z",
     "iopub.status.idle": "2021-10-06T21:55:03.225437Z",
     "shell.execute_reply": "2021-10-06T21:55:03.225824Z",
     "shell.execute_reply.started": "2021-10-06T21:52:17.499174Z"
    },
    "papermill": {
     "duration": 0.019526,
     "end_time": "2021-10-06T21:55:03.225942",
     "exception": false,
     "start_time": "2021-10-06T21:55:03.206416",
     "status": "completed"
    },
    "tags": []
   },
   "outputs": [
    {
     "name": "stdout",
     "output_type": "stream",
     "text": [
      "\n",
      "**************************************************\n",
      "\n",
      "Notebook Run Time : 0.32 minutes\n",
      "\n",
      "**************************************************\n",
      "\n"
     ]
    }
   ],
   "source": [
    "breaker()\n",
    "print(\"Notebook Run Time : {:.2f} minutes\".format((time()-notebook_start_time)/60))\n",
    "breaker()"
   ]
  }
 ],
 "metadata": {
  "kernelspec": {
   "display_name": "Python 3",
   "language": "python",
   "name": "python3"
  },
  "language_info": {
   "codemirror_mode": {
    "name": "ipython",
    "version": 3
   },
   "file_extension": ".py",
   "mimetype": "text/x-python",
   "name": "python",
   "nbconvert_exporter": "python",
   "pygments_lexer": "ipython3",
   "version": "3.7.10"
  },
  "papermill": {
   "default_parameters": {},
   "duration": 26.649698,
   "end_time": "2021-10-06T21:55:04.408590",
   "environment_variables": {},
   "exception": null,
   "input_path": "__notebook__.ipynb",
   "output_path": "__notebook__.ipynb",
   "parameters": {},
   "start_time": "2021-10-06T21:54:37.758892",
   "version": "2.3.3"
  }
 },
 "nbformat": 4,
 "nbformat_minor": 5
}
