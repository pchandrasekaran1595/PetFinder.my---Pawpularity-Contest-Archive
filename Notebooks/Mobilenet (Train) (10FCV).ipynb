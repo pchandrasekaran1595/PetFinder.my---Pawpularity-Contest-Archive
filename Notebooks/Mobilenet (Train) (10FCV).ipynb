{
 "cells": [
  {
   "cell_type": "markdown",
   "id": "92fa067d",
   "metadata": {
    "_cell_guid": "b1076dfc-b9ad-4769-8c92-a6c4dae69d19",
    "_uuid": "8f2839f25d086af736a60e9eeb907d3b93b6e0e5",
    "papermill": {
     "duration": 0.013507,
     "end_time": "2021-10-06T19:52:18.258530",
     "exception": false,
     "start_time": "2021-10-06T19:52:18.245023",
     "status": "completed"
    },
    "tags": []
   },
   "source": [
    "## Library Imports"
   ]
  },
  {
   "cell_type": "code",
   "execution_count": 1,
   "id": "e0818d2f",
   "metadata": {
    "execution": {
     "iopub.execute_input": "2021-10-06T19:52:18.366619Z",
     "iopub.status.busy": "2021-10-06T19:52:18.365702Z",
     "iopub.status.idle": "2021-10-06T19:52:18.370201Z",
     "shell.execute_reply": "2021-10-06T19:52:18.369357Z",
     "shell.execute_reply.started": "2021-10-06T14:55:41.742904Z"
    },
    "papermill": {
     "duration": 0.097946,
     "end_time": "2021-10-06T19:52:18.370340",
     "exception": false,
     "start_time": "2021-10-06T19:52:18.272394",
     "status": "completed"
    },
    "tags": []
   },
   "outputs": [],
   "source": [
    "from time import time\n",
    "notebook_start_time = time()"
   ]
  },
  {
   "cell_type": "code",
   "execution_count": 2,
   "id": "7d73cebc",
   "metadata": {
    "execution": {
     "iopub.execute_input": "2021-10-06T19:52:18.400071Z",
     "iopub.status.busy": "2021-10-06T19:52:18.399556Z",
     "iopub.status.idle": "2021-10-06T19:52:23.555853Z",
     "shell.execute_reply": "2021-10-06T19:52:23.555281Z",
     "shell.execute_reply.started": "2021-10-06T14:55:41.749549Z"
    },
    "papermill": {
     "duration": 5.173724,
     "end_time": "2021-10-06T19:52:23.555990",
     "exception": false,
     "start_time": "2021-10-06T19:52:18.382266",
     "status": "completed"
    },
    "tags": []
   },
   "outputs": [],
   "source": [
    "import os\n",
    "import re\n",
    "import pickle\n",
    "import numpy as np\n",
    "import pandas as pd\n",
    "import matplotlib.pyplot as plt\n",
    "\n",
    "import torch\n",
    "from torch import nn, optim\n",
    "from torch.utils.data import Dataset\n",
    "from torch.utils.data import DataLoader as DL\n",
    "from torch.nn.utils import weight_norm as WN\n",
    "from torchvision import models, transforms\n",
    "\n",
    "from sklearn.model_selection import KFold\n",
    "from sklearn.metrics import mean_squared_error\n",
    "from sklearn.preprocessing import StandardScaler"
   ]
  },
  {
   "cell_type": "markdown",
   "id": "a53e1b70",
   "metadata": {
    "papermill": {
     "duration": 0.011527,
     "end_time": "2021-10-06T19:52:23.580211",
     "exception": false,
     "start_time": "2021-10-06T19:52:23.568684",
     "status": "completed"
    },
    "tags": []
   },
   "source": [
    "## Constants and Utilities"
   ]
  },
  {
   "cell_type": "code",
   "execution_count": 3,
   "id": "9882d863",
   "metadata": {
    "execution": {
     "iopub.execute_input": "2021-10-06T19:52:23.642597Z",
     "iopub.status.busy": "2021-10-06T19:52:23.641661Z",
     "iopub.status.idle": "2021-10-06T19:52:23.646507Z",
     "shell.execute_reply": "2021-10-06T19:52:23.645717Z",
     "shell.execute_reply.started": "2021-10-06T14:55:41.761827Z"
    },
    "papermill": {
     "duration": 0.054674,
     "end_time": "2021-10-06T19:52:23.646632",
     "exception": false,
     "start_time": "2021-10-06T19:52:23.591958",
     "status": "completed"
    },
    "tags": []
   },
   "outputs": [],
   "source": [
    "SEED = 0\n",
    "DEVICE = torch.device(\"cuda\" if torch.cuda.is_available() else \"cpu\")\n",
    "PATH = \"../input/petfinder-pawpularity-score\"\n",
    "FEATURES_PATH = \"../input/petfinder-pretrained-features-unaugmented\"\n",
    "MODEL_NAME = \"resnet\"\n",
    "\n",
    "sc_y = StandardScaler()"
   ]
  },
  {
   "cell_type": "code",
   "execution_count": 4,
   "id": "50d08988",
   "metadata": {
    "execution": {
     "iopub.execute_input": "2021-10-06T19:52:23.681221Z",
     "iopub.status.busy": "2021-10-06T19:52:23.679735Z",
     "iopub.status.idle": "2021-10-06T19:52:23.681804Z",
     "shell.execute_reply": "2021-10-06T19:52:23.682194Z",
     "shell.execute_reply.started": "2021-10-06T14:55:41.769854Z"
    },
    "papermill": {
     "duration": 0.02366,
     "end_time": "2021-10-06T19:52:23.682311",
     "exception": false,
     "start_time": "2021-10-06T19:52:23.658651",
     "status": "completed"
    },
    "tags": []
   },
   "outputs": [],
   "source": [
    "def breaker(num=50, char=\"*\") -> None:\n",
    "    print(\"\\n\" + num*char + \"\\n\")\n",
    "\n",
    "\n",
    "def head(x, no_of_ele=5) -> None:\n",
    "    print(x[:no_of_ele])\n",
    "\n",
    "\n",
    "def get_targets(path: str) -> np.ndarray:\n",
    "    df = pd.read_csv(os.path.join(path, \"train.csv\"), engine=\"python\")\n",
    "    targets  = df.iloc[:, -1].copy().values\n",
    "    return targets\n",
    "\n",
    "\n",
    "def normalize(x):\n",
    "    for i in range(x.shape[0]):\n",
    "        x[i] = (x[i] - torch.min(x[i])) / (torch.max(x[i]) - torch.min(x[i]))\n",
    "    return x\n",
    "\n",
    "\n",
    "def show_graphs(L: list) -> None:\n",
    "    TL, VL = [], []\n",
    "    for i in range(len(L)):\n",
    "        TL.append(L[i][\"train\"])\n",
    "        VL.append(L[i][\"valid\"])    \n",
    "    \n",
    "    x_Axis = np.arange(1, len(L) + 1)\n",
    "    plt.figure()\n",
    "    plt.plot(x_Axis, TL, \"r\", label=\"train\")\n",
    "    plt.plot(x_Axis, VL, \"b\", label=\"valid\")\n",
    "    plt.grid()\n",
    "    plt.legend()\n",
    "    plt.title(\"MSE Loss\")\n",
    "    plt.show()"
   ]
  },
  {
   "cell_type": "markdown",
   "id": "45272cfb",
   "metadata": {
    "papermill": {
     "duration": 0.011313,
     "end_time": "2021-10-06T19:52:23.705044",
     "exception": false,
     "start_time": "2021-10-06T19:52:23.693731",
     "status": "completed"
    },
    "tags": []
   },
   "source": [
    "## Dataset Template"
   ]
  },
  {
   "cell_type": "code",
   "execution_count": 5,
   "id": "2de89fec",
   "metadata": {
    "execution": {
     "iopub.execute_input": "2021-10-06T19:52:23.735148Z",
     "iopub.status.busy": "2021-10-06T19:52:23.733657Z",
     "iopub.status.idle": "2021-10-06T19:52:23.735815Z",
     "shell.execute_reply": "2021-10-06T19:52:23.736212Z",
     "shell.execute_reply.started": "2021-10-06T14:55:41.786375Z"
    },
    "papermill": {
     "duration": 0.018709,
     "end_time": "2021-10-06T19:52:23.736324",
     "exception": false,
     "start_time": "2021-10-06T19:52:23.717615",
     "status": "completed"
    },
    "tags": []
   },
   "outputs": [],
   "source": [
    "class DS(Dataset):\n",
    "    def __init__(self, features=None, targets=None):\n",
    "        self.features = features\n",
    "        self.targets  = targets\n",
    "        \n",
    "    def __len__(self):\n",
    "        return self.features.shape[0]\n",
    "    \n",
    "    def __getitem__(self, idx):\n",
    "        return torch.FloatTensor(self.features[idx]), torch.FloatTensor(self.targets[idx])"
   ]
  },
  {
   "cell_type": "markdown",
   "id": "e36195f9",
   "metadata": {
    "papermill": {
     "duration": 0.011581,
     "end_time": "2021-10-06T19:52:23.759288",
     "exception": false,
     "start_time": "2021-10-06T19:52:23.747707",
     "status": "completed"
    },
    "tags": []
   },
   "source": [
    "## Build Dataloaders"
   ]
  },
  {
   "cell_type": "code",
   "execution_count": 6,
   "id": "fb36792f",
   "metadata": {
    "execution": {
     "iopub.execute_input": "2021-10-06T19:52:23.788150Z",
     "iopub.status.busy": "2021-10-06T19:52:23.787608Z",
     "iopub.status.idle": "2021-10-06T19:52:23.789984Z",
     "shell.execute_reply": "2021-10-06T19:52:23.790353Z",
     "shell.execute_reply.started": "2021-10-06T14:55:41.79546Z"
    },
    "papermill": {
     "duration": 0.019392,
     "end_time": "2021-10-06T19:52:23.790483",
     "exception": false,
     "start_time": "2021-10-06T19:52:23.771091",
     "status": "completed"
    },
    "tags": []
   },
   "outputs": [],
   "source": [
    "def build_dataloaders(tr_features: np.ndarray, va_features: np.ndarray,\n",
    "                      tr_targets: np.ndarray, va_targets: np.ndarray,\n",
    "                      batch_size: int, seed: int):\n",
    "\n",
    "    breaker()\n",
    "    print(\"Building Train and Validation DataLoaders ...\")\n",
    "    \n",
    "    tr_data_setup = DS(features=tr_features, targets=tr_targets)\n",
    "    va_data_setup = DS(features=va_features, targets=va_targets)\n",
    "    \n",
    "    dataloaders = {\n",
    "        \"train\" : DL(tr_data_setup, batch_size=batch_size, shuffle=True, generator=torch.manual_seed(seed)),\n",
    "        \"valid\" : DL(va_data_setup, batch_size=batch_size, shuffle=False)\n",
    "    }\n",
    "    \n",
    "    return dataloaders"
   ]
  },
  {
   "cell_type": "markdown",
   "id": "f68b1929",
   "metadata": {
    "papermill": {
     "duration": 0.011328,
     "end_time": "2021-10-06T19:52:23.813230",
     "exception": false,
     "start_time": "2021-10-06T19:52:23.801902",
     "status": "completed"
    },
    "tags": []
   },
   "source": [
    "## Build Model"
   ]
  },
  {
   "cell_type": "code",
   "execution_count": 7,
   "id": "04dc19a6",
   "metadata": {
    "execution": {
     "iopub.execute_input": "2021-10-06T19:52:23.846358Z",
     "iopub.status.busy": "2021-10-06T19:52:23.844852Z",
     "iopub.status.idle": "2021-10-06T19:52:23.847069Z",
     "shell.execute_reply": "2021-10-06T19:52:23.847502Z",
     "shell.execute_reply.started": "2021-10-06T14:55:41.804262Z"
    },
    "papermill": {
     "duration": 0.022505,
     "end_time": "2021-10-06T19:52:23.847633",
     "exception": false,
     "start_time": "2021-10-06T19:52:23.825128",
     "status": "completed"
    },
    "tags": []
   },
   "outputs": [],
   "source": [
    "def build_model(IL: int, seed: int):\n",
    "    class ANN(nn.Module):\n",
    "        def __init__(self, IL=None):\n",
    "            super(ANN, self).__init__()\n",
    "\n",
    "            self.predictor = nn.Sequential()\n",
    "            self.predictor.add_module(\"BN\", nn.BatchNorm1d(num_features=IL, eps=1e-5))\n",
    "            self.predictor.add_module(\"FC\", WN(nn.Linear(in_features=IL, out_features=1)))\n",
    "\n",
    "        def get_optimizer(self, lr=1e-3, wd=0):\n",
    "            params = [p for p in self.parameters() if p.requires_grad]\n",
    "            return optim.Adam(params, lr=lr, weight_decay=wd)\n",
    "\n",
    "        def get_plateau_scheduler(self, optimizer=None, patience=5, eps=1e-8):\n",
    "            return optim.lr_scheduler.ReduceLROnPlateau(optimizer=optimizer, patience=patience, eps=eps, verbose=True)\n",
    "\n",
    "        def forward(self, x):\n",
    "            return self.predictor(x)\n",
    "    \n",
    "    breaker()\n",
    "    print(\"Building Model ...\")\n",
    "    print(\"\\n{} -> 1\".format(IL))\n",
    "    \n",
    "    torch.manual_seed(seed)\n",
    "    model = ANN(IL=IL)\n",
    "    \n",
    "    return model"
   ]
  },
  {
   "cell_type": "markdown",
   "id": "716ab1b3",
   "metadata": {
    "papermill": {
     "duration": 0.011331,
     "end_time": "2021-10-06T19:52:23.870534",
     "exception": false,
     "start_time": "2021-10-06T19:52:23.859203",
     "status": "completed"
    },
    "tags": []
   },
   "source": [
    "## Fit and Predict Helpers"
   ]
  },
  {
   "cell_type": "code",
   "execution_count": 8,
   "id": "f64a065b",
   "metadata": {
    "execution": {
     "iopub.execute_input": "2021-10-06T19:52:23.914612Z",
     "iopub.status.busy": "2021-10-06T19:52:23.906782Z",
     "iopub.status.idle": "2021-10-06T19:52:23.916460Z",
     "shell.execute_reply": "2021-10-06T19:52:23.916863Z",
     "shell.execute_reply.started": "2021-10-06T14:55:41.816784Z"
    },
    "papermill": {
     "duration": 0.034506,
     "end_time": "2021-10-06T19:52:23.916976",
     "exception": false,
     "start_time": "2021-10-06T19:52:23.882470",
     "status": "completed"
    },
    "tags": []
   },
   "outputs": [],
   "source": [
    "def fit(model=None, optimizer=None, scheduler=None, \n",
    "        epochs=None, early_stopping_patience=None,\n",
    "        dataloaders=None, fold=None, verbose=False) -> tuple:\n",
    "    \n",
    "    name = \"./Fold_{}_state.pt\".format(fold)\n",
    "    \n",
    "    breaker()\n",
    "    print(\"Training Fold {}...\".format(fold))\n",
    "    breaker()\n",
    "\n",
    "    Losses = []\n",
    "    bestLoss = {\"train\" : np.inf, \"valid\" : np.inf}\n",
    "\n",
    "    model.to(DEVICE)\n",
    "    start_time = time()\n",
    "    for e in range(epochs):\n",
    "        e_st = time()\n",
    "        epochLoss = {\"train\" : np.inf, \"valid\" : np.inf}\n",
    "\n",
    "        for phase in [\"train\", \"valid\"]:\n",
    "            if phase == \"train\":\n",
    "                model.train()\n",
    "            else:\n",
    "                model.eval()\n",
    "            \n",
    "            lossPerPass = []\n",
    "\n",
    "            for X, y in dataloaders[phase]:\n",
    "                X, y = X.to(DEVICE), y.to(DEVICE)\n",
    "\n",
    "                optimizer.zero_grad()\n",
    "                with torch.set_grad_enabled(phase == \"train\"):\n",
    "                    output = model(X)\n",
    "                    loss = torch.nn.MSELoss()(output, y)\n",
    "                    if phase == \"train\":\n",
    "                        loss.backward()\n",
    "                        optimizer.step()\n",
    "                lossPerPass.append(loss.item())\n",
    "            epochLoss[phase] = np.mean(np.array(lossPerPass))\n",
    "        Losses.append(epochLoss)\n",
    "        \n",
    "        if early_stopping_patience:\n",
    "            if epochLoss[\"valid\"] < bestLoss[\"valid\"]:\n",
    "                bestLoss = epochLoss\n",
    "                BLE = e + 1\n",
    "                torch.save({\"model_state_dict\": model.state_dict(),\n",
    "                            \"optim_state_dict\": optimizer.state_dict()},\n",
    "                           name)\n",
    "                early_stopping_step = 0\n",
    "            else:\n",
    "                early_stopping_step += 1\n",
    "                if early_stopping_step > early_stopping_patience:\n",
    "                    print(\"\\nEarly Stopping at Epoch {}\".format(e))\n",
    "                    break\n",
    "        \n",
    "        if epochLoss[\"valid\"] < bestLoss[\"valid\"]:\n",
    "            bestLoss = epochLoss\n",
    "            BLE = e + 1\n",
    "            torch.save({\"model_state_dict\": model.state_dict(),\n",
    "                        \"optim_state_dict\": optimizer.state_dict()},\n",
    "                       name)\n",
    "        \n",
    "        if scheduler:\n",
    "            scheduler.step(epochLoss[\"valid\"])\n",
    "        \n",
    "        if verbose:\n",
    "            print(\"Epoch: {} | Train Loss: {:.5f} | Valid Loss: {:.5f} | Time: {:.2f} seconds\".format(e+1, epochLoss[\"train\"], epochLoss[\"valid\"], time()-e_st))\n",
    "    \n",
    "    breaker()\n",
    "    print(\"Best Validation Loss at Epoch {}\".format(BLE))\n",
    "    breaker()\n",
    "    print(\"Time Taken [{} Epochs] : {:.2f} minutes\".format(len(Losses), (time()-start_time)/60))\n",
    "    breaker()\n",
    "    print(\"Training Completed\")\n",
    "    breaker()\n",
    "\n",
    "    return Losses, BLE, name\n",
    "\n",
    "#####################################################################################################\n",
    "\n",
    "def predict_batch(model=None, dataloader=None, mode=\"test\", path=None) -> np.ndarray:\n",
    "    model.load_state_dict(torch.load(path, map_location=DEVICE)[\"model_state_dict\"])\n",
    "    model.to(DEVICE)\n",
    "    model.eval()\n",
    "\n",
    "    y_pred = torch.zeros(1, 1).to(DEVICE)\n",
    "    if re.match(r\"valid\", mode, re.IGNORECASE):\n",
    "        for X, _ in dataloader:\n",
    "            X = X.to(DEVICE)\n",
    "            with torch.no_grad():\n",
    "                output = model(X)\n",
    "            y_pred = torch.cat((y_pred, output.view(-1, 1)), dim=0)\n",
    "    elif re.match(r\"test\", mode, re.IGNORECASE):\n",
    "        for X in dataloader:\n",
    "            X = X.to(DEVICE)\n",
    "            with torch.no_grad():\n",
    "                output = model(X)\n",
    "            y_pred = torch.cat((y_pred, output.view(-1, 1)), dim=0)\n",
    "    \n",
    "    return y_pred[1:].detach().cpu().numpy()"
   ]
  },
  {
   "cell_type": "markdown",
   "id": "cf0508d1",
   "metadata": {
    "papermill": {
     "duration": 0.011307,
     "end_time": "2021-10-06T19:52:23.939811",
     "exception": false,
     "start_time": "2021-10-06T19:52:23.928504",
     "status": "completed"
    },
    "tags": []
   },
   "source": [
    "## Train Helper"
   ]
  },
  {
   "cell_type": "code",
   "execution_count": 9,
   "id": "0facf142",
   "metadata": {
    "execution": {
     "iopub.execute_input": "2021-10-06T19:52:23.975208Z",
     "iopub.status.busy": "2021-10-06T19:52:23.974451Z",
     "iopub.status.idle": "2021-10-06T19:52:23.976320Z",
     "shell.execute_reply": "2021-10-06T19:52:23.976739Z",
     "shell.execute_reply.started": "2021-10-06T14:55:41.860408Z"
    },
    "papermill": {
     "duration": 0.025266,
     "end_time": "2021-10-06T19:52:23.976853",
     "exception": false,
     "start_time": "2021-10-06T19:52:23.951587",
     "status": "completed"
    },
    "tags": []
   },
   "outputs": [],
   "source": [
    "def train(features: np.ndarray, targets: np.ndarray,\n",
    "          n_splits: int, batch_size: int, lr: float, wd: float, \n",
    "          epochs: int, early_stopping: int, \n",
    "          patience=None, eps=None) -> list:        \n",
    "    \n",
    "    metrics = []\n",
    "        \n",
    "    KFold_start_time = time()\n",
    "    breaker()\n",
    "    print(\"Performing {} Fold CV ...\".format(n_splits))\n",
    "    fold = 1\n",
    "    for tr_idx, va_idx in KFold(n_splits=n_splits, shuffle=True, random_state=SEED).split(features):\n",
    "\n",
    "        tr_features, va_features = features[tr_idx], features[va_idx]\n",
    "        tr_targets, va_targets   = targets[tr_idx], targets[va_idx]\n",
    "\n",
    "        tr_targets, va_targets   = tr_targets.reshape(-1, 1), va_targets.reshape(-1, 1)\n",
    "\n",
    "        tr_targets = sc_y.fit_transform(tr_targets)\n",
    "        va_targets = sc_y.transform(va_targets)\n",
    "\n",
    "        dataloaders = build_dataloaders(tr_features, va_features, \n",
    "                                         tr_targets, va_targets, \n",
    "                                         batch_size, SEED)\n",
    "        model = build_model(IL=tr_features.shape[1], seed=SEED)\n",
    "        \n",
    "        optimizer = model.get_optimizer(lr=lr, wd=wd)\n",
    "        scheduler = None\n",
    "        if isinstance(patience, int) and isinstance(eps, float):\n",
    "            scheduler = model.get_plateau_scheduler(optimizer, patience, eps)\n",
    "\n",
    "        L, _, name = fit(model=model, optimizer=optimizer, scheduler=scheduler, \n",
    "                         epochs=epochs, early_stopping_patience=early_stopping,\n",
    "                         dataloaders=dataloaders, fold=fold, verbose=True)\n",
    "        y_pred = predict_batch(model=model, dataloader=dataloaders[\"valid\"], mode=\"valid\", path=name)\n",
    "        RMSE = np.sqrt(mean_squared_error(sc_y.inverse_transform(y_pred), sc_y.inverse_transform(va_targets)))\n",
    "        print(\"Validation RMSE [Fold {}]: {:.5f}\".format(fold, RMSE))\n",
    "        breaker()\n",
    "        show_graphs(L)\n",
    "        \n",
    "        metrics_dict = {\"Fold\" : fold, \"RMSE\" : RMSE}\n",
    "        metrics.append(metrics_dict)\n",
    "        \n",
    "        fold += 1\n",
    "    \n",
    "    breaker()\n",
    "    print(\"Total Time to {} Fold CV : {:.2f} minutes\".format(n_splits, (time() - KFold_start_time)/60))\n",
    "    breaker()\n",
    "    \n",
    "    return metrics"
   ]
  },
  {
   "cell_type": "markdown",
   "id": "db3b7e66",
   "metadata": {
    "papermill": {
     "duration": 0.011402,
     "end_time": "2021-10-06T19:52:23.999583",
     "exception": false,
     "start_time": "2021-10-06T19:52:23.988181",
     "status": "completed"
    },
    "tags": []
   },
   "source": [
    "## Main"
   ]
  },
  {
   "cell_type": "code",
   "execution_count": 10,
   "id": "8f7d52f9",
   "metadata": {
    "execution": {
     "iopub.execute_input": "2021-10-06T19:52:24.031038Z",
     "iopub.status.busy": "2021-10-06T19:52:24.030552Z",
     "iopub.status.idle": "2021-10-06T19:54:57.533569Z",
     "shell.execute_reply": "2021-10-06T19:54:57.534165Z",
     "shell.execute_reply.started": "2021-10-06T14:55:41.874853Z"
    },
    "papermill": {
     "duration": 153.522326,
     "end_time": "2021-10-06T19:54:57.534383",
     "exception": false,
     "start_time": "2021-10-06T19:52:24.012057",
     "status": "completed"
    },
    "tags": []
   },
   "outputs": [
    {
     "name": "stdout",
     "output_type": "stream",
     "text": [
      "\n",
      "**************************************************\n",
      "\n",
      "Loading Data ...\n",
      "\n",
      "**************************************************\n",
      "\n",
      "Performing 10 Fold CV ...\n",
      "\n",
      "**************************************************\n",
      "\n",
      "Building Train and Validation DataLoaders ...\n",
      "\n",
      "**************************************************\n",
      "\n",
      "Building Model ...\n",
      "\n",
      "2048 -> 1\n",
      "\n",
      "**************************************************\n",
      "\n",
      "Training Fold 1...\n",
      "\n",
      "**************************************************\n",
      "\n",
      "Epoch: 1 | Train Loss: 1.01860 | Valid Loss: 0.80887 | Time: 0.80 seconds\n",
      "Epoch: 2 | Train Loss: 0.82163 | Valid Loss: 0.80626 | Time: 0.74 seconds\n",
      "Epoch: 3 | Train Loss: 0.81147 | Valid Loss: 0.79604 | Time: 0.75 seconds\n",
      "Epoch: 4 | Train Loss: 0.80983 | Valid Loss: 0.80203 | Time: 0.93 seconds\n",
      "Epoch: 5 | Train Loss: 0.79995 | Valid Loss: 0.80373 | Time: 0.73 seconds\n",
      "Epoch: 6 | Train Loss: 0.80198 | Valid Loss: 0.80798 | Time: 0.73 seconds\n",
      "Epoch: 7 | Train Loss: 0.79543 | Valid Loss: 0.79964 | Time: 0.74 seconds\n",
      "Epoch: 8 | Train Loss: 0.78752 | Valid Loss: 0.79392 | Time: 0.72 seconds\n",
      "Epoch: 9 | Train Loss: 0.78770 | Valid Loss: 0.80659 | Time: 0.72 seconds\n",
      "Epoch: 10 | Train Loss: 0.78343 | Valid Loss: 0.80092 | Time: 0.73 seconds\n",
      "Epoch: 11 | Train Loss: 0.77839 | Valid Loss: 0.80442 | Time: 0.74 seconds\n",
      "Epoch: 12 | Train Loss: 0.77998 | Valid Loss: 0.80641 | Time: 0.73 seconds\n",
      "Epoch: 13 | Train Loss: 0.77586 | Valid Loss: 0.79963 | Time: 0.74 seconds\n",
      "Epoch: 14 | Train Loss: 0.77332 | Valid Loss: 0.80651 | Time: 0.72 seconds\n",
      "Epoch: 15 | Train Loss: 0.77207 | Valid Loss: 0.81487 | Time: 0.72 seconds\n",
      "Epoch: 16 | Train Loss: 0.76272 | Valid Loss: 0.79682 | Time: 0.72 seconds\n",
      "\n",
      "Early Stopping at Epoch 16\n",
      "\n",
      "**************************************************\n",
      "\n",
      "Best Validation Loss at Epoch 8\n",
      "\n",
      "**************************************************\n",
      "\n",
      "Time Taken [17 Epochs] : 0.21 minutes\n",
      "\n",
      "**************************************************\n",
      "\n",
      "Training Completed\n",
      "\n",
      "**************************************************\n",
      "\n",
      "Validation RMSE [Fold 1]: 18.39649\n",
      "\n",
      "**************************************************\n",
      "\n"
     ]
    },
    {
     "data": {
      "image/png": "[encoded data removed]",
      "text/plain": [
       "<Figure size 432x288 with 1 Axes>"
      ]
     },
     "metadata": {
      "needs_background": "light"
     },
     "output_type": "display_data"
    },
    {
     "name": "stdout",
     "output_type": "stream",
     "text": [
      "\n",
      "**************************************************\n",
      "\n",
      "Building Train and Validation DataLoaders ...\n",
      "\n",
      "**************************************************\n",
      "\n",
      "Building Model ...\n",
      "\n",
      "2048 -> 1\n",
      "\n",
      "**************************************************\n",
      "\n",
      "Training Fold 2...\n",
      "\n",
      "**************************************************\n",
      "\n",
      "Epoch: 1 | Train Loss: 0.96369 | Valid Loss: 0.90261 | Time: 0.84 seconds\n",
      "Epoch: 2 | Train Loss: 0.82451 | Valid Loss: 0.89053 | Time: 0.79 seconds\n",
      "Epoch: 3 | Train Loss: 0.81420 | Valid Loss: 0.91858 | Time: 0.73 seconds\n",
      "Epoch: 4 | Train Loss: 0.81161 | Valid Loss: 0.88501 | Time: 0.73 seconds\n",
      "Epoch: 5 | Train Loss: 0.80949 | Valid Loss: 0.88565 | Time: 0.73 seconds\n",
      "Epoch: 6 | Train Loss: 0.80177 | Valid Loss: 0.88403 | Time: 0.72 seconds\n",
      "Epoch: 7 | Train Loss: 0.79550 | Valid Loss: 0.88189 | Time: 0.73 seconds\n",
      "Epoch: 8 | Train Loss: 0.79790 | Valid Loss: 0.88345 | Time: 0.72 seconds\n",
      "Epoch: 9 | Train Loss: 0.79027 | Valid Loss: 0.87517 | Time: 0.72 seconds\n",
      "Epoch: 10 | Train Loss: 0.79074 | Valid Loss: 0.88588 | Time: 0.72 seconds\n",
      "Epoch: 11 | Train Loss: 0.78925 | Valid Loss: 0.87969 | Time: 0.74 seconds\n",
      "Epoch: 12 | Train Loss: 0.78644 | Valid Loss: 0.87911 | Time: 0.75 seconds\n",
      "Epoch: 13 | Train Loss: 0.78179 | Valid Loss: 0.88312 | Time: 0.73 seconds\n",
      "Epoch: 14 | Train Loss: 0.77892 | Valid Loss: 0.87228 | Time: 0.74 seconds\n",
      "Epoch: 15 | Train Loss: 0.77686 | Valid Loss: 0.88836 | Time: 0.75 seconds\n",
      "Epoch: 16 | Train Loss: 0.77386 | Valid Loss: 0.90358 | Time: 0.87 seconds\n",
      "Epoch: 17 | Train Loss: 0.77378 | Valid Loss: 0.88896 | Time: 0.75 seconds\n",
      "Epoch: 18 | Train Loss: 0.77113 | Valid Loss: 0.88378 | Time: 0.72 seconds\n",
      "Epoch: 19 | Train Loss: 0.76765 | Valid Loss: 0.88749 | Time: 0.98 seconds\n",
      "Epoch: 20 | Train Loss: 0.76823 | Valid Loss: 0.88704 | Time: 0.79 seconds\n",
      "Epoch: 21 | Train Loss: 0.77091 | Valid Loss: 0.89663 | Time: 0.73 seconds\n",
      "Epoch: 22 | Train Loss: 0.76512 | Valid Loss: 0.88287 | Time: 0.73 seconds\n",
      "\n",
      "Early Stopping at Epoch 22\n",
      "\n",
      "**************************************************\n",
      "\n",
      "Best Validation Loss at Epoch 14\n",
      "\n",
      "**************************************************\n",
      "\n",
      "Time Taken [23 Epochs] : 0.29 minutes\n",
      "\n",
      "**************************************************\n",
      "\n",
      "Training Completed\n",
      "\n",
      "**************************************************\n",
      "\n",
      "Validation RMSE [Fold 2]: 19.12915\n",
      "\n",
      "**************************************************\n",
      "\n"
     ]
    },
    {
     "data": {
      "image/png": "[encoded data removed]",
      "text/plain": [
       "<Figure size 432x288 with 1 Axes>"
      ]
     },
     "metadata": {
      "needs_background": "light"
     },
     "output_type": "display_data"
    },
    {
     "name": "stdout",
     "output_type": "stream",
     "text": [
      "\n",
      "**************************************************\n",
      "\n",
      "Building Train and Validation DataLoaders ...\n",
      "\n",
      "**************************************************\n",
      "\n",
      "Building Model ...\n",
      "\n",
      "2048 -> 1\n",
      "\n",
      "**************************************************\n",
      "\n",
      "Training Fold 3...\n",
      "\n",
      "**************************************************\n",
      "\n",
      "Epoch: 1 | Train Loss: 0.95216 | Valid Loss: 0.70535 | Time: 0.73 seconds\n",
      "Epoch: 2 | Train Loss: 0.82373 | Valid Loss: 0.69755 | Time: 0.73 seconds\n",
      "Epoch: 3 | Train Loss: 0.81999 | Valid Loss: 0.69494 | Time: 0.73 seconds\n",
      "Epoch: 4 | Train Loss: 0.80808 | Valid Loss: 0.69490 | Time: 0.73 seconds\n",
      "Epoch: 5 | Train Loss: 0.80184 | Valid Loss: 0.70967 | Time: 0.73 seconds\n",
      "Epoch: 6 | Train Loss: 0.79950 | Valid Loss: 0.70517 | Time: 0.75 seconds\n",
      "Epoch: 7 | Train Loss: 0.79729 | Valid Loss: 0.70376 | Time: 0.85 seconds\n",
      "Epoch: 8 | Train Loss: 0.79054 | Valid Loss: 0.69530 | Time: 0.78 seconds\n",
      "Epoch: 9 | Train Loss: 0.78429 | Valid Loss: 0.71000 | Time: 0.73 seconds\n",
      "Epoch: 10 | Train Loss: 0.78371 | Valid Loss: 0.70200 | Time: 0.73 seconds\n",
      "Epoch: 11 | Train Loss: 0.78332 | Valid Loss: 0.70190 | Time: 0.73 seconds\n",
      "Epoch: 12 | Train Loss: 0.78715 | Valid Loss: 0.69896 | Time: 0.75 seconds\n",
      "Epoch: 13 | Train Loss: 0.77727 | Valid Loss: 0.69474 | Time: 0.73 seconds\n",
      "Epoch: 14 | Train Loss: 0.77526 | Valid Loss: 0.68809 | Time: 0.73 seconds\n",
      "Epoch: 15 | Train Loss: 0.77258 | Valid Loss: 0.69574 | Time: 0.73 seconds\n",
      "Epoch: 16 | Train Loss: 0.77363 | Valid Loss: 0.69667 | Time: 0.73 seconds\n",
      "Epoch: 17 | Train Loss: 0.76950 | Valid Loss: 0.70250 | Time: 0.72 seconds\n",
      "Epoch: 18 | Train Loss: 0.76746 | Valid Loss: 0.71264 | Time: 0.72 seconds\n",
      "Epoch: 19 | Train Loss: 0.76328 | Valid Loss: 0.69552 | Time: 0.72 seconds\n",
      "Epoch: 20 | Train Loss: 0.76458 | Valid Loss: 0.71338 | Time: 0.72 seconds\n",
      "Epoch: 21 | Train Loss: 0.76445 | Valid Loss: 0.69973 | Time: 0.72 seconds\n",
      "Epoch: 22 | Train Loss: 0.76689 | Valid Loss: 0.71367 | Time: 0.88 seconds\n",
      "\n",
      "Early Stopping at Epoch 22\n",
      "\n",
      "**************************************************\n",
      "\n",
      "Best Validation Loss at Epoch 14\n",
      "\n",
      "**************************************************\n",
      "\n",
      "Time Taken [23 Epochs] : 0.29 minutes\n",
      "\n",
      "**************************************************\n",
      "\n",
      "Training Completed\n",
      "\n",
      "**************************************************\n",
      "\n",
      "Validation RMSE [Fold 3]: 17.19296\n",
      "\n",
      "**************************************************\n",
      "\n"
     ]
    },
    {
     "data": {
      "image/png": "[encoded data removed]",
      "text/plain": [
       "<Figure size 432x288 with 1 Axes>"
      ]
     },
     "metadata": {
      "needs_background": "light"
     },
     "output_type": "display_data"
    },
    {
     "name": "stdout",
     "output_type": "stream",
     "text": [
      "\n",
      "**************************************************\n",
      "\n",
      "Building Train and Validation DataLoaders ...\n",
      "\n",
      "**************************************************\n",
      "\n",
      "Building Model ...\n",
      "\n",
      "2048 -> 1\n",
      "\n",
      "**************************************************\n",
      "\n",
      "Training Fold 4...\n",
      "\n",
      "**************************************************\n",
      "\n",
      "Epoch: 1 | Train Loss: 0.94134 | Valid Loss: 0.83039 | Time: 0.73 seconds\n",
      "Epoch: 2 | Train Loss: 0.81934 | Valid Loss: 0.81335 | Time: 0.74 seconds\n",
      "Epoch: 3 | Train Loss: 0.81121 | Valid Loss: 0.82907 | Time: 0.74 seconds\n",
      "Epoch: 4 | Train Loss: 0.80650 | Valid Loss: 0.82863 | Time: 0.72 seconds\n",
      "Epoch: 5 | Train Loss: 0.80216 | Valid Loss: 0.83108 | Time: 0.72 seconds\n",
      "Epoch: 6 | Train Loss: 0.78978 | Valid Loss: 0.83503 | Time: 0.73 seconds\n",
      "Epoch: 7 | Train Loss: 0.78357 | Valid Loss: 0.82707 | Time: 0.73 seconds\n",
      "Epoch: 8 | Train Loss: 0.78194 | Valid Loss: 0.84160 | Time: 0.76 seconds\n",
      "Epoch: 9 | Train Loss: 0.78165 | Valid Loss: 0.85333 | Time: 0.77 seconds\n",
      "Epoch: 10 | Train Loss: 0.78195 | Valid Loss: 0.83099 | Time: 0.74 seconds\n",
      "\n",
      "Early Stopping at Epoch 10\n",
      "\n",
      "**************************************************\n",
      "\n",
      "Best Validation Loss at Epoch 2\n",
      "\n",
      "**************************************************\n",
      "\n",
      "Time Taken [11 Epochs] : 0.14 minutes\n",
      "\n",
      "**************************************************\n",
      "\n",
      "Training Completed\n",
      "\n",
      "**************************************************\n",
      "\n",
      "Validation RMSE [Fold 4]: 18.60253\n",
      "\n",
      "**************************************************\n",
      "\n"
     ]
    },
    {
     "data": {
      "image/png": "[encoded data removed]",
      "text/plain": [
       "<Figure size 432x288 with 1 Axes>"
      ]
     },
     "metadata": {
      "needs_background": "light"
     },
     "output_type": "display_data"
    },
    {
     "name": "stdout",
     "output_type": "stream",
     "text": [
      "\n",
      "**************************************************\n",
      "\n",
      "Building Train and Validation DataLoaders ...\n",
      "\n",
      "**************************************************\n",
      "\n",
      "Building Model ...\n",
      "\n",
      "2048 -> 1\n",
      "\n",
      "**************************************************\n",
      "\n",
      "Training Fold 5...\n",
      "\n",
      "**************************************************\n",
      "\n",
      "Epoch: 1 | Train Loss: 0.96955 | Valid Loss: 0.86573 | Time: 0.74 seconds\n",
      "Epoch: 2 | Train Loss: 0.81930 | Valid Loss: 0.86488 | Time: 0.89 seconds\n",
      "Epoch: 3 | Train Loss: 0.80739 | Valid Loss: 0.86218 | Time: 0.76 seconds\n",
      "Epoch: 4 | Train Loss: 0.80720 | Valid Loss: 0.85020 | Time: 0.96 seconds\n",
      "Epoch: 5 | Train Loss: 0.79440 | Valid Loss: 0.85004 | Time: 0.85 seconds\n",
      "Epoch: 6 | Train Loss: 0.78718 | Valid Loss: 0.89473 | Time: 0.74 seconds\n",
      "Epoch: 7 | Train Loss: 0.79285 | Valid Loss: 0.84732 | Time: 0.74 seconds\n",
      "Epoch: 8 | Train Loss: 0.78795 | Valid Loss: 0.84619 | Time: 0.74 seconds\n",
      "Epoch: 9 | Train Loss: 0.78732 | Valid Loss: 0.84929 | Time: 0.74 seconds\n",
      "Epoch: 10 | Train Loss: 0.78037 | Valid Loss: 0.84154 | Time: 0.75 seconds\n",
      "Epoch: 11 | Train Loss: 0.77873 | Valid Loss: 0.84040 | Time: 0.75 seconds\n",
      "Epoch: 12 | Train Loss: 0.77479 | Valid Loss: 0.85083 | Time: 0.77 seconds\n",
      "Epoch: 13 | Train Loss: 0.77664 | Valid Loss: 0.85121 | Time: 0.74 seconds\n",
      "Epoch: 14 | Train Loss: 0.77476 | Valid Loss: 0.84759 | Time: 0.75 seconds\n",
      "Epoch: 15 | Train Loss: 0.76576 | Valid Loss: 0.84802 | Time: 0.74 seconds\n",
      "Epoch: 16 | Train Loss: 0.75935 | Valid Loss: 0.84098 | Time: 0.88 seconds\n",
      "Epoch: 17 | Train Loss: 0.76591 | Valid Loss: 0.84236 | Time: 0.79 seconds\n",
      "Epoch: 18 | Train Loss: 0.77076 | Valid Loss: 0.84999 | Time: 0.74 seconds\n",
      "Epoch: 19 | Train Loss: 0.76473 | Valid Loss: 0.84926 | Time: 0.75 seconds\n",
      "\n",
      "Early Stopping at Epoch 19\n",
      "\n",
      "**************************************************\n",
      "\n",
      "Best Validation Loss at Epoch 11\n",
      "\n",
      "**************************************************\n",
      "\n",
      "Time Taken [20 Epochs] : 0.26 minutes\n",
      "\n",
      "**************************************************\n",
      "\n",
      "Training Completed\n",
      "\n",
      "**************************************************\n",
      "\n",
      "Validation RMSE [Fold 5]: 18.88703\n",
      "\n",
      "**************************************************\n",
      "\n"
     ]
    },
    {
     "data": {
      "image/png": "[encoded data removed]",
      "text/plain": [
       "<Figure size 432x288 with 1 Axes>"
      ]
     },
     "metadata": {
      "needs_background": "light"
     },
     "output_type": "display_data"
    },
    {
     "name": "stdout",
     "output_type": "stream",
     "text": [
      "\n",
      "**************************************************\n",
      "\n",
      "Building Train and Validation DataLoaders ...\n",
      "\n",
      "**************************************************\n",
      "\n",
      "Building Model ...\n",
      "\n",
      "2048 -> 1\n",
      "\n",
      "**************************************************\n",
      "\n",
      "Training Fold 6...\n",
      "\n",
      "**************************************************\n",
      "\n",
      "Epoch: 1 | Train Loss: 0.95451 | Valid Loss: 0.86427 | Time: 0.73 seconds\n",
      "Epoch: 2 | Train Loss: 0.82190 | Valid Loss: 0.86171 | Time: 0.72 seconds\n",
      "Epoch: 3 | Train Loss: 0.81645 | Valid Loss: 0.86097 | Time: 0.74 seconds\n",
      "Epoch: 4 | Train Loss: 0.81023 | Valid Loss: 0.86163 | Time: 0.72 seconds\n",
      "Epoch: 5 | Train Loss: 0.80413 | Valid Loss: 0.84061 | Time: 0.73 seconds\n",
      "Epoch: 6 | Train Loss: 0.79510 | Valid Loss: 0.86695 | Time: 0.73 seconds\n",
      "Epoch: 7 | Train Loss: 0.79823 | Valid Loss: 0.85471 | Time: 0.73 seconds\n",
      "Epoch: 8 | Train Loss: 0.79409 | Valid Loss: 0.84393 | Time: 0.73 seconds\n",
      "Epoch: 9 | Train Loss: 0.78846 | Valid Loss: 0.86191 | Time: 0.74 seconds\n",
      "Epoch: 10 | Train Loss: 0.78985 | Valid Loss: 0.84820 | Time: 0.73 seconds\n",
      "Epoch: 11 | Train Loss: 0.78228 | Valid Loss: 0.84809 | Time: 0.92 seconds\n",
      "Epoch: 12 | Train Loss: 0.78035 | Valid Loss: 0.85735 | Time: 0.73 seconds\n",
      "Epoch: 13 | Train Loss: 0.77393 | Valid Loss: 0.88049 | Time: 0.73 seconds\n",
      "\n",
      "Early Stopping at Epoch 13\n",
      "\n",
      "**************************************************\n",
      "\n",
      "Best Validation Loss at Epoch 5\n",
      "\n",
      "**************************************************\n",
      "\n",
      "Time Taken [14 Epochs] : 0.17 minutes\n",
      "\n",
      "**************************************************\n",
      "\n",
      "Training Completed\n",
      "\n",
      "**************************************************\n",
      "\n",
      "Validation RMSE [Fold 6]: 18.83285\n",
      "\n",
      "**************************************************\n",
      "\n"
     ]
    },
    {
     "data": {
      "image/png": "[encoded data removed]",
      "text/plain": [
       "<Figure size 432x288 with 1 Axes>"
      ]
     },
     "metadata": {
      "needs_background": "light"
     },
     "output_type": "display_data"
    },
    {
     "name": "stdout",
     "output_type": "stream",
     "text": [
      "\n",
      "**************************************************\n",
      "\n",
      "Building Train and Validation DataLoaders ...\n",
      "\n",
      "**************************************************\n",
      "\n",
      "Building Model ...\n",
      "\n",
      "2048 -> 1\n",
      "\n",
      "**************************************************\n",
      "\n",
      "Training Fold 7...\n",
      "\n",
      "**************************************************\n",
      "\n",
      "Epoch: 1 | Train Loss: 0.95759 | Valid Loss: 0.90552 | Time: 0.74 seconds\n",
      "Epoch: 2 | Train Loss: 0.82463 | Valid Loss: 0.88540 | Time: 0.76 seconds\n",
      "Epoch: 3 | Train Loss: 0.81891 | Valid Loss: 0.88499 | Time: 0.74 seconds\n",
      "Epoch: 4 | Train Loss: 0.80672 | Valid Loss: 0.89619 | Time: 0.74 seconds\n",
      "Epoch: 5 | Train Loss: 0.80624 | Valid Loss: 0.88555 | Time: 0.72 seconds\n",
      "Epoch: 6 | Train Loss: 0.80211 | Valid Loss: 0.89045 | Time: 0.76 seconds\n",
      "Epoch: 7 | Train Loss: 0.79513 | Valid Loss: 0.89624 | Time: 0.74 seconds\n",
      "Epoch: 8 | Train Loss: 0.79302 | Valid Loss: 0.87441 | Time: 0.73 seconds\n",
      "Epoch: 9 | Train Loss: 0.78540 | Valid Loss: 0.88403 | Time: 0.74 seconds\n",
      "Epoch: 10 | Train Loss: 0.78602 | Valid Loss: 0.88358 | Time: 0.73 seconds\n",
      "Epoch: 11 | Train Loss: 0.77902 | Valid Loss: 0.89021 | Time: 0.91 seconds\n",
      "Epoch: 12 | Train Loss: 0.78366 | Valid Loss: 0.91485 | Time: 0.88 seconds\n",
      "Epoch: 13 | Train Loss: 0.77763 | Valid Loss: 0.88496 | Time: 0.95 seconds\n",
      "Epoch: 14 | Train Loss: 0.77975 | Valid Loss: 0.87306 | Time: 0.76 seconds\n",
      "Epoch: 15 | Train Loss: 0.77094 | Valid Loss: 0.88809 | Time: 0.76 seconds\n",
      "Epoch: 16 | Train Loss: 0.77280 | Valid Loss: 0.90699 | Time: 0.76 seconds\n",
      "Epoch: 17 | Train Loss: 0.77134 | Valid Loss: 0.94526 | Time: 0.77 seconds\n",
      "Epoch: 18 | Train Loss: 0.76978 | Valid Loss: 0.89118 | Time: 0.76 seconds\n",
      "Epoch: 19 | Train Loss: 0.76977 | Valid Loss: 0.89037 | Time: 0.76 seconds\n",
      "Epoch: 20 | Train Loss: 0.76688 | Valid Loss: 0.88620 | Time: 0.77 seconds\n",
      "Epoch: 21 | Train Loss: 0.76178 | Valid Loss: 0.88639 | Time: 0.75 seconds\n",
      "Epoch: 22 | Train Loss: 0.76645 | Valid Loss: 0.88780 | Time: 0.75 seconds\n",
      "\n",
      "Early Stopping at Epoch 22\n",
      "\n",
      "**************************************************\n",
      "\n",
      "Best Validation Loss at Epoch 14\n",
      "\n",
      "**************************************************\n",
      "\n",
      "Time Taken [23 Epochs] : 0.30 minutes\n",
      "\n",
      "**************************************************\n",
      "\n",
      "Training Completed\n",
      "\n",
      "**************************************************\n",
      "\n",
      "Validation RMSE [Fold 7]: 19.13235\n",
      "\n",
      "**************************************************\n",
      "\n"
     ]
    },
    {
     "data": {
      "image/png": "[encoded data removed]",
      "text/plain": [
       "<Figure size 432x288 with 1 Axes>"
      ]
     },
     "metadata": {
      "needs_background": "light"
     },
     "output_type": "display_data"
    },
    {
     "name": "stdout",
     "output_type": "stream",
     "text": [
      "\n",
      "**************************************************\n",
      "\n",
      "Building Train and Validation DataLoaders ...\n",
      "\n",
      "**************************************************\n",
      "\n",
      "Building Model ...\n",
      "\n",
      "2048 -> 1\n",
      "\n",
      "**************************************************\n",
      "\n",
      "Training Fold 8...\n",
      "\n",
      "**************************************************\n",
      "\n",
      "Epoch: 1 | Train Loss: 0.93724 | Valid Loss: 0.85942 | Time: 0.79 seconds\n",
      "Epoch: 2 | Train Loss: 0.82564 | Valid Loss: 0.84824 | Time: 0.83 seconds\n",
      "Epoch: 3 | Train Loss: 0.80804 | Valid Loss: 0.86687 | Time: 0.72 seconds\n",
      "Epoch: 4 | Train Loss: 0.80731 | Valid Loss: 0.85088 | Time: 0.72 seconds\n",
      "Epoch: 5 | Train Loss: 0.80467 | Valid Loss: 0.84768 | Time: 0.72 seconds\n",
      "Epoch: 6 | Train Loss: 0.79325 | Valid Loss: 0.85932 | Time: 0.73 seconds\n",
      "Epoch: 7 | Train Loss: 0.79493 | Valid Loss: 0.84681 | Time: 0.73 seconds\n",
      "Epoch: 8 | Train Loss: 0.78619 | Valid Loss: 0.84932 | Time: 0.73 seconds\n",
      "Epoch: 9 | Train Loss: 0.78506 | Valid Loss: 0.86673 | Time: 0.73 seconds\n",
      "Epoch: 10 | Train Loss: 0.78555 | Valid Loss: 0.84291 | Time: 0.73 seconds\n",
      "Epoch: 11 | Train Loss: 0.78230 | Valid Loss: 0.85250 | Time: 0.73 seconds\n",
      "Epoch: 12 | Train Loss: 0.78054 | Valid Loss: 0.83844 | Time: 0.74 seconds\n",
      "Epoch: 13 | Train Loss: 0.77364 | Valid Loss: 0.86430 | Time: 0.73 seconds\n",
      "Epoch: 14 | Train Loss: 0.77475 | Valid Loss: 0.83407 | Time: 0.74 seconds\n",
      "Epoch: 15 | Train Loss: 0.77000 | Valid Loss: 0.85924 | Time: 0.73 seconds\n",
      "Epoch: 16 | Train Loss: 0.76945 | Valid Loss: 0.85378 | Time: 0.84 seconds\n",
      "Epoch: 17 | Train Loss: 0.76634 | Valid Loss: 0.85272 | Time: 0.79 seconds\n",
      "Epoch: 18 | Train Loss: 0.76884 | Valid Loss: 0.85268 | Time: 0.73 seconds\n",
      "Epoch: 19 | Train Loss: 0.76727 | Valid Loss: 0.84667 | Time: 0.77 seconds\n",
      "Epoch: 20 | Train Loss: 0.76141 | Valid Loss: 0.83287 | Time: 0.73 seconds\n",
      "Epoch: 21 | Train Loss: 0.75885 | Valid Loss: 0.84938 | Time: 0.73 seconds\n",
      "Epoch: 22 | Train Loss: 0.75177 | Valid Loss: 0.86794 | Time: 0.72 seconds\n",
      "Epoch: 23 | Train Loss: 0.75595 | Valid Loss: 0.88042 | Time: 0.72 seconds\n",
      "Epoch: 24 | Train Loss: 0.76064 | Valid Loss: 0.84952 | Time: 0.72 seconds\n",
      "Epoch: 25 | Train Loss: 0.75264 | Valid Loss: 0.84611 | Time: 0.73 seconds\n",
      "Epoch: 26 | Train Loss: 0.75484 | Valid Loss: 0.86567 | Time: 0.77 seconds\n",
      "Epoch: 27 | Train Loss: 0.74728 | Valid Loss: 0.84696 | Time: 0.75 seconds\n",
      "Epoch: 28 | Train Loss: 0.75812 | Valid Loss: 0.84405 | Time: 0.76 seconds\n",
      "\n",
      "Early Stopping at Epoch 28\n",
      "\n",
      "**************************************************\n",
      "\n",
      "Best Validation Loss at Epoch 20\n",
      "\n",
      "**************************************************\n",
      "\n",
      "Time Taken [29 Epochs] : 0.36 minutes\n",
      "\n",
      "**************************************************\n",
      "\n",
      "Training Completed\n",
      "\n",
      "**************************************************\n",
      "\n",
      "Validation RMSE [Fold 8]: 18.75642\n",
      "\n",
      "**************************************************\n",
      "\n"
     ]
    },
    {
     "data": {
      "image/png": "[encoded data removed]",
      "text/plain": [
       "<Figure size 432x288 with 1 Axes>"
      ]
     },
     "metadata": {
      "needs_background": "light"
     },
     "output_type": "display_data"
    },
    {
     "name": "stdout",
     "output_type": "stream",
     "text": [
      "\n",
      "**************************************************\n",
      "\n",
      "Building Train and Validation DataLoaders ...\n",
      "\n",
      "**************************************************\n",
      "\n",
      "Building Model ...\n",
      "\n",
      "2048 -> 1\n",
      "\n",
      "**************************************************\n",
      "\n",
      "Training Fold 9...\n",
      "\n",
      "**************************************************\n",
      "\n",
      "Epoch: 1 | Train Loss: 0.93618 | Valid Loss: 0.77253 | Time: 0.73 seconds\n",
      "Epoch: 2 | Train Loss: 0.83013 | Valid Loss: 0.77104 | Time: 1.34 seconds\n",
      "Epoch: 3 | Train Loss: 0.81512 | Valid Loss: 0.76157 | Time: 0.74 seconds\n",
      "Epoch: 4 | Train Loss: 0.80667 | Valid Loss: 0.76298 | Time: 0.73 seconds\n",
      "Epoch: 5 | Train Loss: 0.80462 | Valid Loss: 0.77731 | Time: 0.73 seconds\n",
      "Epoch: 6 | Train Loss: 0.79980 | Valid Loss: 0.77313 | Time: 0.73 seconds\n",
      "Epoch: 7 | Train Loss: 0.79387 | Valid Loss: 0.78963 | Time: 0.76 seconds\n",
      "Epoch: 8 | Train Loss: 0.79308 | Valid Loss: 0.79929 | Time: 0.72 seconds\n",
      "Epoch: 9 | Train Loss: 0.78450 | Valid Loss: 0.77963 | Time: 0.74 seconds\n",
      "Epoch: 10 | Train Loss: 0.78735 | Valid Loss: 0.78209 | Time: 0.73 seconds\n",
      "Epoch: 11 | Train Loss: 0.77952 | Valid Loss: 0.79259 | Time: 0.73 seconds\n",
      "\n",
      "Early Stopping at Epoch 11\n",
      "\n",
      "**************************************************\n",
      "\n",
      "Best Validation Loss at Epoch 3\n",
      "\n",
      "**************************************************\n",
      "\n",
      "Time Taken [12 Epochs] : 0.16 minutes\n",
      "\n",
      "**************************************************\n",
      "\n",
      "Training Completed\n",
      "\n",
      "**************************************************\n",
      "\n",
      "Validation RMSE [Fold 9]: 18.00502\n",
      "\n",
      "**************************************************\n",
      "\n"
     ]
    },
    {
     "data": {
      "image/png": "[encoded data removed]",
      "text/plain": [
       "<Figure size 432x288 with 1 Axes>"
      ]
     },
     "metadata": {
      "needs_background": "light"
     },
     "output_type": "display_data"
    },
    {
     "name": "stdout",
     "output_type": "stream",
     "text": [
      "\n",
      "**************************************************\n",
      "\n",
      "Building Train and Validation DataLoaders ...\n",
      "\n",
      "**************************************************\n",
      "\n",
      "Building Model ...\n",
      "\n",
      "2048 -> 1\n",
      "\n",
      "**************************************************\n",
      "\n",
      "Training Fold 10...\n",
      "\n",
      "**************************************************\n",
      "\n",
      "Epoch: 1 | Train Loss: 0.95974 | Valid Loss: 0.83430 | Time: 0.73 seconds\n",
      "Epoch: 2 | Train Loss: 0.82347 | Valid Loss: 0.83161 | Time: 0.72 seconds\n",
      "Epoch: 3 | Train Loss: 0.80718 | Valid Loss: 0.83508 | Time: 0.79 seconds\n",
      "Epoch: 4 | Train Loss: 0.80879 | Valid Loss: 0.83242 | Time: 0.84 seconds\n",
      "Epoch: 5 | Train Loss: 0.79467 | Valid Loss: 0.83902 | Time: 0.73 seconds\n",
      "Epoch: 6 | Train Loss: 0.79539 | Valid Loss: 0.82844 | Time: 0.73 seconds\n",
      "Epoch: 7 | Train Loss: 0.78918 | Valid Loss: 0.82638 | Time: 0.73 seconds\n",
      "Epoch: 8 | Train Loss: 0.78340 | Valid Loss: 0.84583 | Time: 0.72 seconds\n",
      "Epoch: 9 | Train Loss: 0.78187 | Valid Loss: 0.82628 | Time: 0.73 seconds\n",
      "Epoch: 10 | Train Loss: 0.77627 | Valid Loss: 0.83900 | Time: 0.73 seconds\n",
      "Epoch: 11 | Train Loss: 0.77912 | Valid Loss: 0.82865 | Time: 0.73 seconds\n",
      "Epoch: 12 | Train Loss: 0.77185 | Valid Loss: 0.85123 | Time: 0.72 seconds\n",
      "Epoch: 13 | Train Loss: 0.77204 | Valid Loss: 0.84079 | Time: 0.72 seconds\n",
      "Epoch: 14 | Train Loss: 0.77160 | Valid Loss: 0.84988 | Time: 0.72 seconds\n",
      "Epoch: 15 | Train Loss: 0.77320 | Valid Loss: 0.85122 | Time: 0.71 seconds\n",
      "Epoch: 16 | Train Loss: 0.77218 | Valid Loss: 0.83067 | Time: 0.72 seconds\n",
      "Epoch: 17 | Train Loss: 0.76125 | Valid Loss: 0.82753 | Time: 0.73 seconds\n",
      "\n",
      "Early Stopping at Epoch 17\n",
      "\n",
      "**************************************************\n",
      "\n",
      "Best Validation Loss at Epoch 9\n",
      "\n",
      "**************************************************\n",
      "\n",
      "Time Taken [18 Epochs] : 0.22 minutes\n",
      "\n",
      "**************************************************\n",
      "\n",
      "Training Completed\n",
      "\n",
      "**************************************************\n",
      "\n",
      "Validation RMSE [Fold 10]: 18.75005\n",
      "\n",
      "**************************************************\n",
      "\n"
     ]
    },
    {
     "data": {
      "image/png": "[encoded data removed]",
      "text/plain": [
       "<Figure size 432x288 with 1 Axes>"
      ]
     },
     "metadata": {
      "needs_background": "light"
     },
     "output_type": "display_data"
    },
    {
     "name": "stdout",
     "output_type": "stream",
     "text": [
      "\n",
      "**************************************************\n",
      "\n",
      "Total Time to 10 Fold CV : 2.52 minutes\n",
      "\n",
      "**************************************************\n",
      "\n",
      "{'Fold': 1, 'RMSE': 18.396494132423992}\n",
      "{'Fold': 2, 'RMSE': 19.129146592899257}\n",
      "{'Fold': 3, 'RMSE': 17.19295742261089}\n",
      "{'Fold': 4, 'RMSE': 18.602527727854827}\n",
      "{'Fold': 5, 'RMSE': 18.887026230698226}\n",
      "{'Fold': 6, 'RMSE': 18.832853773358515}\n",
      "{'Fold': 7, 'RMSE': 19.132354871148124}\n",
      "{'Fold': 8, 'RMSE': 18.756417600707913}\n",
      "{'Fold': 9, 'RMSE': 18.00501797435925}\n",
      "{'Fold': 10, 'RMSE': 18.75005079403802}\n",
      "\n",
      "**************************************************\n",
      "\n"
     ]
    }
   ],
   "source": [
    "def main():\n",
    "    DEBUG = False\n",
    "    \n",
    "    ########### Params ###########\n",
    "    \n",
    "    if DEBUG:\n",
    "        n_splits = 3\n",
    "        batch_size = 512\n",
    "        lr, wd = 1e-3, 0\n",
    "        patience, eps = 5, 1e-8\n",
    "        epochs, early_stopping = 5, 5\n",
    "    else:\n",
    "        n_splits = 10\n",
    "        batch_size = 32\n",
    "        lr, wd = 1e-2, 0\n",
    "        patience, eps = 5, 1e-8\n",
    "        epochs, early_stopping = 100, 8\n",
    "    \n",
    "    ##############################\n",
    "\n",
    "    breaker()\n",
    "    print(\"Loading Data ...\")\n",
    "    \n",
    "    features = np.load(os.path.join(FEATURES_PATH, \"{}_features.npy\".format(MODEL_NAME)))\n",
    "    targets = get_targets(PATH)\n",
    "\n",
    "    # Without Scheduler\n",
    "    metrics = train(features, targets, n_splits, batch_size, lr, wd, epochs, early_stopping, patience=None, eps=None)\n",
    "    \n",
    "    # # With Plateau Scheduler\n",
    "    # metrics = train(features, targets, n_splits, batch_size, lr, wd, epochs, early_stopping, patience=patience, eps=eps)    \n",
    "    \n",
    "    for i in range(len(metrics)):\n",
    "        print(metrics[i])\n",
    "\n",
    "    with open(\"metrics.pkl\", \"wb\") as fp:\n",
    "        pickle.dump(metrics, fp)\n",
    "    \n",
    "    breaker()\n",
    "\n",
    "main()"
   ]
  },
  {
   "cell_type": "code",
   "execution_count": 11,
   "id": "5313749b",
   "metadata": {
    "execution": {
     "iopub.execute_input": "2021-10-06T19:54:57.687965Z",
     "iopub.status.busy": "2021-10-06T19:54:57.686395Z",
     "iopub.status.idle": "2021-10-06T19:54:57.690216Z",
     "shell.execute_reply": "2021-10-06T19:54:57.689590Z",
     "shell.execute_reply.started": "2021-10-06T14:55:46.659053Z"
    },
    "papermill": {
     "duration": 0.079786,
     "end_time": "2021-10-06T19:54:57.690361",
     "exception": false,
     "start_time": "2021-10-06T19:54:57.610575",
     "status": "completed"
    },
    "tags": []
   },
   "outputs": [
    {
     "name": "stdout",
     "output_type": "stream",
     "text": [
      "\n",
      "**************************************************\n",
      "\n",
      "Notebook Run Time : 2.66 minutes\n",
      "\n",
      "**************************************************\n",
      "\n"
     ]
    }
   ],
   "source": [
    "breaker()\n",
    "print(\"Notebook Run Time : {:.2f} minutes\".format((time()-notebook_start_time)/60))\n",
    "breaker()"
   ]
  }
 ],
 "metadata": {
  "kernelspec": {
   "display_name": "Python 3",
   "language": "python",
   "name": "python3"
  },
  "language_info": {
   "codemirror_mode": {
    "name": "ipython",
    "version": 3
   },
   "file_extension": ".py",
   "mimetype": "text/x-python",
   "name": "python",
   "nbconvert_exporter": "python",
   "pygments_lexer": "ipython3",
   "version": "3.7.10"
  },
  "papermill": {
   "default_parameters": {},
   "duration": 167.73619,
   "end_time": "2021-10-06T19:54:59.504459",
   "environment_variables": {},
   "exception": null,
   "input_path": "__notebook__.ipynb",
   "output_path": "__notebook__.ipynb",
   "parameters": {},
   "start_time": "2021-10-06T19:52:11.768269",
   "version": "2.3.3"
  }
 },
 "nbformat": 4,
 "nbformat_minor": 5
}
