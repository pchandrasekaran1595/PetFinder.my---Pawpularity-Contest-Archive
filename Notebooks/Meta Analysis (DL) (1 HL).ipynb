{
 "cells": [
  {
   "cell_type": "markdown",
   "id": "45fb6390",
   "metadata": {
    "_cell_guid": "b1076dfc-b9ad-4769-8c92-a6c4dae69d19",
    "_uuid": "8f2839f25d086af736a60e9eeb907d3b93b6e0e5",
    "papermill": {
     "duration": 0.015838,
     "end_time": "2021-10-04T21:46:47.828978",
     "exception": false,
     "start_time": "2021-10-04T21:46:47.813140",
     "status": "completed"
    },
    "tags": []
   },
   "source": [
    "## Library Imports"
   ]
  },
  {
   "cell_type": "code",
   "execution_count": 1,
   "id": "704de48b",
   "metadata": {
    "execution": {
     "iopub.execute_input": "2021-10-04T21:46:47.864154Z",
     "iopub.status.busy": "2021-10-04T21:46:47.862845Z",
     "iopub.status.idle": "2021-10-04T21:46:47.873506Z",
     "shell.execute_reply": "2021-10-04T21:46:47.874008Z",
     "shell.execute_reply.started": "2021-10-04T21:38:55.498090Z"
    },
    "papermill": {
     "duration": 0.029822,
     "end_time": "2021-10-04T21:46:47.874317",
     "exception": false,
     "start_time": "2021-10-04T21:46:47.844495",
     "status": "completed"
    },
    "tags": []
   },
   "outputs": [],
   "source": [
    "from time import time\n",
    "notebook_start_time = time()"
   ]
  },
  {
   "cell_type": "code",
   "execution_count": 2,
   "id": "187bea71",
   "metadata": {
    "execution": {
     "iopub.execute_input": "2021-10-04T21:46:47.911977Z",
     "iopub.status.busy": "2021-10-04T21:46:47.911168Z",
     "iopub.status.idle": "2021-10-04T21:46:50.059975Z",
     "shell.execute_reply": "2021-10-04T21:46:50.059370Z",
     "shell.execute_reply.started": "2021-10-04T21:40:18.497785Z"
    },
    "papermill": {
     "duration": 2.169064,
     "end_time": "2021-10-04T21:46:50.060114",
     "exception": false,
     "start_time": "2021-10-04T21:46:47.891050",
     "status": "completed"
    },
    "tags": []
   },
   "outputs": [],
   "source": [
    "import os\n",
    "import re\n",
    "import pickle\n",
    "import random as r\n",
    "import numpy as np\n",
    "import pandas as pd\n",
    "import matplotlib.pyplot as plt\n",
    "\n",
    "import torch\n",
    "from torch import nn, optim\n",
    "from torch.utils.data import Dataset\n",
    "from torch.utils.data import DataLoader as DL\n",
    "from torch.nn.utils import weight_norm as WN\n",
    "\n",
    "from sklearn.metrics import mean_squared_error\n",
    "from sklearn.preprocessing import StandardScaler\n",
    "from sklearn.model_selection import KFold"
   ]
  },
  {
   "cell_type": "markdown",
   "id": "5d81ff0d",
   "metadata": {
    "papermill": {
     "duration": 0.014279,
     "end_time": "2021-10-04T21:46:50.089168",
     "exception": false,
     "start_time": "2021-10-04T21:46:50.074889",
     "status": "completed"
    },
    "tags": []
   },
   "source": [
    "# Constants and Utilities"
   ]
  },
  {
   "cell_type": "code",
   "execution_count": 3,
   "id": "48a25b7d",
   "metadata": {
    "execution": {
     "iopub.execute_input": "2021-10-04T21:46:50.123990Z",
     "iopub.status.busy": "2021-10-04T21:46:50.123321Z",
     "iopub.status.idle": "2021-10-04T21:46:50.126258Z",
     "shell.execute_reply": "2021-10-04T21:46:50.125743Z",
     "shell.execute_reply.started": "2021-10-04T21:38:55.515805Z"
    },
    "papermill": {
     "duration": 0.022785,
     "end_time": "2021-10-04T21:46:50.126390",
     "exception": false,
     "start_time": "2021-10-04T21:46:50.103605",
     "status": "completed"
    },
    "tags": []
   },
   "outputs": [],
   "source": [
    "SEED = 0\n",
    "DEVICE = torch.device(\"cuda\" if torch.cuda.is_available() else \"cpu\")\n",
    "PATH = \"../input/petfinder-pawpularity-score\"\n",
    "\n",
    "sc_X = StandardScaler()\n",
    "sc_y = StandardScaler()"
   ]
  },
  {
   "cell_type": "code",
   "execution_count": 4,
   "id": "340f1be7",
   "metadata": {
    "execution": {
     "iopub.execute_input": "2021-10-04T21:46:50.168467Z",
     "iopub.status.busy": "2021-10-04T21:46:50.167758Z",
     "iopub.status.idle": "2021-10-04T21:46:50.170934Z",
     "shell.execute_reply": "2021-10-04T21:46:50.170306Z",
     "shell.execute_reply.started": "2021-10-04T21:38:55.529606Z"
    },
    "papermill": {
     "duration": 0.030013,
     "end_time": "2021-10-04T21:46:50.171079",
     "exception": false,
     "start_time": "2021-10-04T21:46:50.141066",
     "status": "completed"
    },
    "tags": []
   },
   "outputs": [],
   "source": [
    "def breaker(num=50, char=\"*\") -> None:\n",
    "    print(\"\\n\" + num*char + \"\\n\")\n",
    "\n",
    "\n",
    "def head(x, no_of_ele=5) -> None:\n",
    "    print(x[:no_of_ele])\n",
    "\n",
    "\n",
    "def get_data(path: str, name: str) -> tuple:\n",
    "    df = pd.read_csv(os.path.join(path, name), engine=\"python\")\n",
    "    targets = None\n",
    "    \n",
    "    if name == \"train.csv\":\n",
    "        features = df.iloc[:, 1:-1].copy().values\n",
    "        targets  = df.iloc[:, -1].copy().values\n",
    "    else:\n",
    "        features = df.iloc[:, 1:].copy().values\n",
    "    \n",
    "    return features, targets\n",
    "\n",
    "\n",
    "def show_graphs(L: list) -> None:\n",
    "    TL, VL = [], []\n",
    "    for i in range(len(L)):\n",
    "        TL.append(L[i][\"train\"])\n",
    "        VL.append(L[i][\"valid\"])    \n",
    "    \n",
    "    x_Axis = np.arange(1, len(L) + 1)\n",
    "    plt.figure()\n",
    "    plt.plot(x_Axis, TL, \"r\", label=\"train\")\n",
    "    plt.plot(x_Axis, VL, \"b\", label=\"valid\")\n",
    "    plt.grid()\n",
    "    plt.legend()\n",
    "    plt.title(\"MSE Loss\")\n",
    "    plt.show()\n"
   ]
  },
  {
   "cell_type": "markdown",
   "id": "18d619a0",
   "metadata": {
    "papermill": {
     "duration": 0.014339,
     "end_time": "2021-10-04T21:46:50.200148",
     "exception": false,
     "start_time": "2021-10-04T21:46:50.185809",
     "status": "completed"
    },
    "tags": []
   },
   "source": [
    "## Dataset Template"
   ]
  },
  {
   "cell_type": "code",
   "execution_count": 5,
   "id": "c9d7c395",
   "metadata": {
    "execution": {
     "iopub.execute_input": "2021-10-04T21:46:50.239243Z",
     "iopub.status.busy": "2021-10-04T21:46:50.238543Z",
     "iopub.status.idle": "2021-10-04T21:46:50.241762Z",
     "shell.execute_reply": "2021-10-04T21:46:50.241280Z",
     "shell.execute_reply.started": "2021-10-04T21:38:55.552975Z"
    },
    "papermill": {
     "duration": 0.026909,
     "end_time": "2021-10-04T21:46:50.241924",
     "exception": false,
     "start_time": "2021-10-04T21:46:50.215015",
     "status": "completed"
    },
    "tags": []
   },
   "outputs": [],
   "source": [
    "class MetaDataDS(Dataset):\n",
    "    def __init__(self, X=None, y=None, mode=\"train\"):\n",
    "        self.mode = mode\n",
    "        assert(re.match(r\"train\", self.mode, re.IGNORECASE) or re.match(r\"valid\", self.mode, re.IGNORECASE) or re.match(r\"test\", self.mode, re.IGNORECASE))\n",
    "\n",
    "        self.X = X\n",
    "        if re.match(r\"train\", self.mode, re.IGNORECASE) or re.match(r\"valid\", self.mode, re.IGNORECASE):\n",
    "            self.y = y\n",
    "    \n",
    "    def __len__(self):\n",
    "        return self.X.shape[0]\n",
    "    \n",
    "    def __getitem__(self, idx):\n",
    "        if re.match(r\"train\", self.mode, re.IGNORECASE) or re.match(r\"valid\", self.mode, re.IGNORECASE):\n",
    "            return torch.FloatTensor(self.X[idx]), torch.FloatTensor(self.y[idx])\n",
    "        else:\n",
    "            return torch.FloatTensor(self.X[idx])"
   ]
  },
  {
   "cell_type": "markdown",
   "id": "cdab9551",
   "metadata": {
    "papermill": {
     "duration": 0.014415,
     "end_time": "2021-10-04T21:46:50.271415",
     "exception": false,
     "start_time": "2021-10-04T21:46:50.257000",
     "status": "completed"
    },
    "tags": []
   },
   "source": [
    "## Build Dataloaders"
   ]
  },
  {
   "cell_type": "code",
   "execution_count": 6,
   "id": "f46f9850",
   "metadata": {
    "execution": {
     "iopub.execute_input": "2021-10-04T21:46:50.310527Z",
     "iopub.status.busy": "2021-10-04T21:46:50.305096Z",
     "iopub.status.idle": "2021-10-04T21:46:50.313559Z",
     "shell.execute_reply": "2021-10-04T21:46:50.313015Z",
     "shell.execute_reply.started": "2021-10-04T21:38:55.563456Z"
    },
    "papermill": {
     "duration": 0.027606,
     "end_time": "2021-10-04T21:46:50.313692",
     "exception": false,
     "start_time": "2021-10-04T21:46:50.286086",
     "status": "completed"
    },
    "tags": []
   },
   "outputs": [],
   "source": [
    "def build_loaders(features_1: np.ndarray, \n",
    "                  targets_1: np.ndarray,\n",
    "                  batch_size: int,\n",
    "                  features_2=None, \n",
    "                  targets_2=None, \n",
    "                  seed=None):\n",
    "    \n",
    "    if features_2 is None or targets_2 is None:\n",
    "        ts_data_setup = MetaDataDS(X=features_1, y=targets_1, mode=\"valid\")\n",
    "        dataloaders = DL(ts_data_setup, batch_size=batch_size, shuffle=False)\n",
    "    \n",
    "    else:\n",
    "        tr_data_setup = MetaDataDS(X=features_1, y=targets_1, mode=\"train\")\n",
    "        va_data_setup = MetaDataDS(X=features_2, y=targets_2, mode=\"valid\")\n",
    "\n",
    "        dataloaders = {\n",
    "            \"train\" : DL(tr_data_setup, batch_size=batch_size, shuffle=True, generator=torch.manual_seed(seed)),\n",
    "            \"valid\" : DL(va_data_setup, batch_size=batch_size, shuffle=False)\n",
    "        }\n",
    "\n",
    "    return dataloaders"
   ]
  },
  {
   "cell_type": "markdown",
   "id": "69404c76",
   "metadata": {
    "papermill": {
     "duration": 0.014306,
     "end_time": "2021-10-04T21:46:50.342725",
     "exception": false,
     "start_time": "2021-10-04T21:46:50.328419",
     "status": "completed"
    },
    "tags": []
   },
   "source": [
    "## Build Model"
   ]
  },
  {
   "cell_type": "code",
   "execution_count": 7,
   "id": "98858a71",
   "metadata": {
    "execution": {
     "iopub.execute_input": "2021-10-04T21:46:50.397939Z",
     "iopub.status.busy": "2021-10-04T21:46:50.397214Z",
     "iopub.status.idle": "2021-10-04T21:46:50.399703Z",
     "shell.execute_reply": "2021-10-04T21:46:50.399113Z",
     "shell.execute_reply.started": "2021-10-04T21:38:55.646380Z"
    },
    "papermill": {
     "duration": 0.042563,
     "end_time": "2021-10-04T21:46:50.399847",
     "exception": false,
     "start_time": "2021-10-04T21:46:50.357284",
     "status": "completed"
    },
    "tags": []
   },
   "outputs": [],
   "source": [
    "def build_model(IL, HL, seed: int):\n",
    "    class MetaDataModel(nn.Module):\n",
    "        def __init__(self, IL=None, HL=None):\n",
    "            super(MetaDataModel, self).__init__()\n",
    "            self.model = nn.Sequential()\n",
    "\n",
    "            if len(HL) == 0:\n",
    "                self.model.add_module(\"BN1\", nn.BatchNorm1d(num_features=IL, eps=1e-5))\n",
    "                self.model.add_module(\"FC1\", WN(nn.Linear(in_features=IL, out_features=1)))\n",
    "\n",
    "            elif len(HL) == 1:\n",
    "                self.model.add_module(\"BN1\", nn.BatchNorm1d(num_features=IL, eps=1e-5))\n",
    "                self.model.add_module(\"FC1\", WN(nn.Linear(in_features=IL, out_features=HL[0])))\n",
    "                self.model.add_module(\"AN1\", nn.ReLU())\n",
    "                self.model.add_module(\"BN2\", nn.BatchNorm1d(num_features=HL[0], eps=1e-5))\n",
    "                self.model.add_module(\"FC2\", WN(nn.Linear(in_features=HL[0], out_features=1)))\n",
    "\n",
    "            elif len(HL) == 2:\n",
    "                self.model.add_module(\"BN1\", nn.BatchNorm1d(num_features=IL, eps=1e-5))\n",
    "                self.model.add_module(\"FC1\", WN(nn.Linear(in_features=IL, out_features=HL[0])))\n",
    "                self.model.add_module(\"AN1\", nn.ReLU())\n",
    "                self.model.add_module(\"BN2\", nn.BatchNorm1d(num_features=HL[0], eps=1e-5))\n",
    "                self.model.add_module(\"FC2\", WN(nn.Linear(in_features=HL[0], out_features=HL[1])))\n",
    "                self.model.add_module(\"AN2\", nn.ReLU())\n",
    "                self.model.add_module(\"BN3\", nn.BatchNorm1d(num_features=HL[1], eps=1e-5))\n",
    "                self.model.add_module(\"FC3\", WN(nn.Linear(in_features=HL[1], out_features=1)))\n",
    "\n",
    "            elif len(HL) == 3:\n",
    "                self.model.add_module(\"BN1\", nn.BatchNorm1d(num_features=IL, eps=1e-5))\n",
    "                self.model.add_module(\"FC1\", WN(nn.Linear(in_features=IL, out_features=HL[0])))\n",
    "                self.model.add_module(\"AN1\", nn.ReLU())\n",
    "                self.model.add_module(\"BN2\", nn.BatchNorm1d(num_features=HL[0], eps=1e-5))\n",
    "                self.model.add_module(\"FC2\", WN(nn.Linear(in_features=HL[0], out_features=HL[1])))\n",
    "                self.model.add_module(\"AN2\", nn.ReLU())\n",
    "                self.model.add_module(\"BN3\", nn.BatchNorm1d(num_features=HL[1], eps=1e-5))\n",
    "                self.model.add_module(\"FC3\", WN(nn.Linear(in_features=HL[1], out_features=HL[2])))\n",
    "                self.model.add_module(\"AN3\", nn.ReLU())\n",
    "                self.model.add_module(\"BN4\", nn.BatchNorm1d(num_features=HL[2], eps=1e-5))\n",
    "                self.model.add_module(\"FC4\", WN(nn.Linear(in_features=HL[2], out_features=1)))\n",
    "\n",
    "            else:\n",
    "                raise ValueError(\"Incorrect Value supplied to 'HL' Argument\")\n",
    "\n",
    "        def get_optimizer(self, lr=1e-3, wd=0.0):\n",
    "            return optim.Adam(self.parameters(), lr=lr, weight_decay=wd)\n",
    "\n",
    "        def get_plateau_scheduler(self, optimizer=None, patience=5, eps=1e-8):\n",
    "            return optim.lr_scheduler.ReduceLROnPlateau(optimizer=optimizer, patience=patience, eps=eps)\n",
    "\n",
    "        def forward(self, x):\n",
    "            return self.model(x)\n",
    "    \n",
    "    \n",
    "    breaker()\n",
    "    print(\"Building MetaData Model ...\")\n",
    "    print(\"\\n {} -> {} -> {}\".format(IL, HL, 1))\n",
    "\n",
    "    torch.manual_seed(seed)\n",
    "    model = MetaDataModel(IL=IL, HL=HL)\n",
    "    return model"
   ]
  },
  {
   "cell_type": "markdown",
   "id": "ae6ef8be",
   "metadata": {
    "papermill": {
     "duration": 0.014335,
     "end_time": "2021-10-04T21:46:50.428947",
     "exception": false,
     "start_time": "2021-10-04T21:46:50.414612",
     "status": "completed"
    },
    "tags": []
   },
   "source": [
    "## Fit and Predict Helpers"
   ]
  },
  {
   "cell_type": "code",
   "execution_count": 8,
   "id": "b0302338",
   "metadata": {
    "execution": {
     "iopub.execute_input": "2021-10-04T21:46:50.471212Z",
     "iopub.status.busy": "2021-10-04T21:46:50.470441Z",
     "iopub.status.idle": "2021-10-04T21:46:50.484692Z",
     "shell.execute_reply": "2021-10-04T21:46:50.485244Z",
     "shell.execute_reply.started": "2021-10-04T21:38:55.687633Z"
    },
    "papermill": {
     "duration": 0.041731,
     "end_time": "2021-10-04T21:46:50.485416",
     "exception": false,
     "start_time": "2021-10-04T21:46:50.443685",
     "status": "completed"
    },
    "tags": []
   },
   "outputs": [],
   "source": [
    "def fit(model=None, optimizer=None, scheduler=None, \n",
    "        epochs=None,early_stopping_patience=None,\n",
    "        dataloaders=None,\n",
    "        seed=None, fold=None, batch_size=None, lr=None, wd=None, HL=None,\n",
    "        verbose=False):\n",
    "    \n",
    "    name = \"./Seed_{}_Fold_{}_Batch_{}_LR_{}_WD_{}_HL_{}_state.pt\".format(seed, fold, batch_size, lr, wd, HL)\n",
    "    \n",
    "    breaker()\n",
    "    print(\"Training ...\")\n",
    "    breaker()\n",
    "\n",
    "    Losses = []\n",
    "    bestLoss = {\"train\" : np.inf, \"valid\" : np.inf}\n",
    "\n",
    "    model.to(DEVICE)\n",
    "    start_time = time()\n",
    "    for e in range(epochs):\n",
    "        e_st = time()\n",
    "        epochLoss = {\"train\" : np.inf, \"valid\" : np.inf}\n",
    "\n",
    "        for phase in [\"train\", \"valid\"]:\n",
    "            if phase == \"train\":\n",
    "                model.train()\n",
    "            else:\n",
    "                model.eval()\n",
    "            \n",
    "            lossPerPass = []\n",
    "\n",
    "            for X, y in dataloaders[phase]:\n",
    "                X, y = X.to(DEVICE), y.to(DEVICE)\n",
    "\n",
    "                optimizer.zero_grad()\n",
    "                with torch.set_grad_enabled(phase == \"train\"):\n",
    "                    output = model(X)\n",
    "                    loss = torch.nn.MSELoss()(output, y)\n",
    "                    if phase == \"train\":\n",
    "                        loss.backward()\n",
    "                        optimizer.step()\n",
    "                lossPerPass.append(loss.item())\n",
    "            epochLoss[phase] = np.mean(np.array(lossPerPass))\n",
    "        Losses.append(epochLoss)\n",
    "\n",
    "        if early_stopping_patience:\n",
    "            if epochLoss[\"valid\"] < bestLoss[\"valid\"]:\n",
    "                bestLoss = epochLoss\n",
    "                BLE = e + 1\n",
    "                torch.save({\"model_state_dict\": model.state_dict(),\n",
    "                            \"optim_state_dict\": optimizer.state_dict()},\n",
    "                           name)\n",
    "                early_stopping_step = 0\n",
    "            else:\n",
    "                early_stopping_step += 1\n",
    "                if early_stopping_step > early_stopping_patience:\n",
    "                    print(\"\\nEarly Stopping at Epoch {}\".format(e))\n",
    "                    break\n",
    "        \n",
    "        if epochLoss[\"valid\"] < bestLoss[\"valid\"]:\n",
    "            bestLoss = epochLoss\n",
    "            BLE = e + 1\n",
    "            torch.save({\"model_state_dict\": model.state_dict(),\n",
    "                        \"optim_state_dict\": optimizer.state_dict()},\n",
    "                       name)\n",
    "        \n",
    "        if scheduler:\n",
    "            scheduler.step(epochLoss[\"valid\"])\n",
    "        \n",
    "        if verbose:\n",
    "            print(\"Epoch: {} | Train Loss: {:.5f} | Valid Loss: {:.5f} | Time: {:.2f} seconds\".format(e+1, epochLoss[\"train\"], epochLoss[\"valid\"], time()-e_st))\n",
    "    \n",
    "    breaker()\n",
    "    print(\"Best Validation Loss at Epoch {}\".format(BLE))\n",
    "    breaker()\n",
    "    print(\"Time Taken [{} Epochs] : {:.2f} minutes\".format(len(Losses), (time()-start_time)/60))\n",
    "    breaker()\n",
    "    print(\"Training Completed\")\n",
    "    breaker()\n",
    "\n",
    "    return Losses, BLE, name\n",
    "\n",
    "#####################################################################################################\n",
    "\n",
    "def predict_batch(model=None, dataloader=None, mode=\"test\", path=None):\n",
    "    model.load_state_dict(torch.load(path, map_location=DEVICE)[\"model_state_dict\"])\n",
    "    model.to(DEVICE)\n",
    "    model.eval()\n",
    "\n",
    "    y_pred = torch.zeros(1, 1).to(DEVICE)\n",
    "    if re.match(r\"valid\", mode, re.IGNORECASE):\n",
    "        for X, _ in dataloader:\n",
    "            X = X.to(DEVICE)\n",
    "            with torch.no_grad():\n",
    "                output = model(X)\n",
    "            y_pred = torch.cat((y_pred, output.view(-1, 1)), dim=0)\n",
    "    elif re.match(r\"test\", mode, re.IGNORECASE):\n",
    "        for X in dataloader:\n",
    "            X = X.to(DEVICE)\n",
    "            with torch.no_grad():\n",
    "                output = model(X)\n",
    "            y_pred = torch.cat((y_pred, output.view(-1, 1)), dim=0)\n",
    "    \n",
    "    return y_pred[1:].detach().cpu().numpy()"
   ]
  },
  {
   "cell_type": "markdown",
   "id": "91a0b9bd",
   "metadata": {
    "papermill": {
     "duration": 0.014722,
     "end_time": "2021-10-04T21:46:50.514950",
     "exception": false,
     "start_time": "2021-10-04T21:46:50.500228",
     "status": "completed"
    },
    "tags": []
   },
   "source": [
    "## Search"
   ]
  },
  {
   "cell_type": "code",
   "execution_count": 9,
   "id": "d6b4907b",
   "metadata": {
    "execution": {
     "iopub.execute_input": "2021-10-04T21:46:50.547071Z",
     "iopub.status.busy": "2021-10-04T21:46:50.546389Z",
     "iopub.status.idle": "2021-10-04T21:46:50.566746Z",
     "shell.execute_reply": "2021-10-04T21:46:50.566198Z",
     "shell.execute_reply.started": "2021-10-04T21:38:55.750654Z"
    },
    "papermill": {
     "duration": 0.037441,
     "end_time": "2021-10-04T21:46:50.566893",
     "exception": false,
     "start_time": "2021-10-04T21:46:50.529452",
     "status": "completed"
    },
    "tags": []
   },
   "outputs": [],
   "source": [
    "def search():\n",
    "    DEBUG = True\n",
    "    \n",
    "    epochs, early_stopping = 100, 10\n",
    "    \n",
    "    features, targets = get_data(PATH, \"train.csv\")\n",
    "    ts_features, _ = get_data(PATH, \"test.csv\")\n",
    "    \n",
    "    if DEBUG:\n",
    "        n_splits = 3\n",
    "        seeds = [0]\n",
    "        fold = 1\n",
    "        batch_sizes = [512]\n",
    "        lrs = [1e-3]\n",
    "        wds = [0]\n",
    "        HLs = [[4]]\n",
    "        params = []\n",
    "    else:\n",
    "        r.seed(SEED)\n",
    "        n_splits = 5\n",
    "        seeds = [r.randint(0, 99) for _ in range(5)]\n",
    "        fold = 1\n",
    "        # batch_sizes = [64, 128, 256, 512]\n",
    "        batch_sizes = [512]\n",
    "        # lrs = [1e-2, 1e-3, 1e-4, 1e-5]\n",
    "        lrs = [1e-3, 5e-4, 1e-4]\n",
    "        wds = [0, 1e-1, 1e-2, 1e-3, 1e-4, 1e-5]\n",
    "        HLs = [[32], [64], [128], [256], [512]]\n",
    "        params = []\n",
    "\n",
    "    \n",
    "    search_optimal_start_time = time()\n",
    "    for seed in seeds:\n",
    "        fold = 1\n",
    "        for tr_idx, va_idx in KFold(n_splits=n_splits, shuffle=True, random_state=seed).split(features):\n",
    "            tr_features, va_features = features[tr_idx], features[va_idx]\n",
    "            tr_targets, va_targets   = targets[tr_idx], targets[va_idx]\n",
    "            tr_targets, va_targets   = tr_targets.reshape(-1, 1), va_targets.reshape(-1, 1)\n",
    "            \n",
    "            tr_features, tr_targets = sc_X.fit_transform(tr_features), sc_y.fit_transform(tr_targets)\n",
    "            va_features, va_targets = sc_X.transform(va_features), sc_y.transform(va_targets)\n",
    "            \n",
    "            ts_features = sc_X.transform(ts_features)\n",
    "            \n",
    "            for batch_size in batch_sizes:\n",
    "                dataloaders = build_loaders(tr_features, tr_targets, batch_size, va_features, va_targets, seed)\n",
    "                \n",
    "                for lr in lrs:\n",
    "                    for wd in wds:\n",
    "                        for HL in HLs:\n",
    "                            breaker()\n",
    "                            print(\"Seed: {}, Fold: {}, Batch Size: {}, LR: {}, WD: {}, HL: {}\".format(seed, fold, batch_size, lr, wd, HL))\n",
    "                                    \n",
    "                            model = build_model(tr_features.shape[1], HL, seed=seed)\n",
    "                            optimizer = model.get_optimizer(lr=lr, wd=wd)\n",
    "                            \n",
    "                            L, _, name = fit(model=model, optimizer=optimizer, scheduler=None, epochs=epochs, early_stopping_patience=early_stopping,\n",
    "                                             dataloaders=dataloaders, seed=seed, fold=fold, batch_size=batch_size, lr=lr, wd=wd, HL=HL, verbose=True)\n",
    "                            \n",
    "                            y_pred = predict_batch(model=model, dataloader=dataloaders[\"valid\"], mode=\"valid\", path=name)\n",
    "                            RMSE = np.sqrt(mean_squared_error(y_pred, va_targets))\n",
    "                            print(\"Validation RMSE : {:.5f}\".format(RMSE))\n",
    "                            breaker()\n",
    "                            show_graphs(L)\n",
    "                            \n",
    "                            param_dict = {\"seed\" : seed, \"fold\" : fold, \"batch_size\" : batch_size, \"lr\" : lr, \"wd\" : wd, \"HL\" : HL, \"RMSE\" : RMSE}\n",
    "                            params.append(param_dict)\n",
    "            fold += 1\n",
    "        \n",
    "    breaker()\n",
    "    print(\"Total Time to search for optimal hyperparameters : {:.2f} minutes\".format((time() - search_optimal_start_time)/60))\n",
    "    breaker()\n",
    "    \n",
    "    return params"
   ]
  },
  {
   "cell_type": "code",
   "execution_count": 10,
   "id": "776dcc1c",
   "metadata": {
    "execution": {
     "iopub.execute_input": "2021-10-04T21:46:50.601787Z",
     "iopub.status.busy": "2021-10-04T21:46:50.601069Z",
     "iopub.status.idle": "2021-10-04T21:48:01.037354Z",
     "shell.execute_reply": "2021-10-04T21:48:01.036791Z",
     "shell.execute_reply.started": "2021-10-04T21:38:55.773712Z"
    },
    "papermill": {
     "duration": 70.455302,
     "end_time": "2021-10-04T21:48:01.037496",
     "exception": false,
     "start_time": "2021-10-04T21:46:50.582194",
     "status": "completed"
    },
    "tags": []
   },
   "outputs": [
    {
     "name": "stdout",
     "output_type": "stream",
     "text": [
      "\n",
      "**************************************************\n",
      "\n",
      "Seed: 0, Fold: 1, Batch Size: 512, LR: 0.001, WD: 0, HL: [4]\n",
      "\n",
      "**************************************************\n",
      "\n",
      "Building MetaData Model ...\n",
      "\n",
      " 12 -> [4] -> 1\n",
      "\n",
      "**************************************************\n",
      "\n",
      "Training ...\n",
      "\n",
      "**************************************************\n",
      "\n",
      "Epoch: 1 | Train Loss: 1.29295 | Valid Loss: 1.05223 | Time: 0.41 seconds\n",
      "Epoch: 2 | Train Loss: 1.22010 | Valid Loss: 1.09442 | Time: 0.34 seconds\n",
      "Epoch: 3 | Train Loss: 1.16524 | Valid Loss: 1.10051 | Time: 0.33 seconds\n",
      "Epoch: 4 | Train Loss: 1.12190 | Valid Loss: 1.07548 | Time: 0.34 seconds\n",
      "Epoch: 5 | Train Loss: 1.09293 | Valid Loss: 1.04932 | Time: 0.33 seconds\n",
      "Epoch: 6 | Train Loss: 1.06803 | Valid Loss: 1.03136 | Time: 0.33 seconds\n",
      "Epoch: 7 | Train Loss: 1.05530 | Valid Loss: 1.01725 | Time: 0.34 seconds\n",
      "Epoch: 8 | Train Loss: 1.04515 | Valid Loss: 1.00713 | Time: 0.33 seconds\n",
      "Epoch: 9 | Train Loss: 1.03805 | Valid Loss: 1.00054 | Time: 0.33 seconds\n",
      "Epoch: 10 | Train Loss: 1.03150 | Valid Loss: 0.99282 | Time: 0.34 seconds\n",
      "Epoch: 11 | Train Loss: 1.02508 | Valid Loss: 0.98655 | Time: 0.44 seconds\n",
      "Epoch: 12 | Train Loss: 1.02219 | Valid Loss: 0.98188 | Time: 0.33 seconds\n",
      "Epoch: 13 | Train Loss: 1.01666 | Valid Loss: 0.97760 | Time: 0.33 seconds\n",
      "Epoch: 14 | Train Loss: 1.01507 | Valid Loss: 0.97421 | Time: 0.33 seconds\n",
      "Epoch: 15 | Train Loss: 1.01308 | Valid Loss: 0.97173 | Time: 0.33 seconds\n",
      "Epoch: 16 | Train Loss: 1.01096 | Valid Loss: 0.96930 | Time: 0.34 seconds\n",
      "Epoch: 17 | Train Loss: 1.00867 | Valid Loss: 0.96719 | Time: 0.33 seconds\n",
      "Epoch: 18 | Train Loss: 1.00612 | Valid Loss: 0.96579 | Time: 0.34 seconds\n",
      "Epoch: 19 | Train Loss: 1.00699 | Valid Loss: 0.96409 | Time: 0.35 seconds\n",
      "Epoch: 20 | Train Loss: 1.00287 | Valid Loss: 0.96268 | Time: 0.34 seconds\n",
      "Epoch: 21 | Train Loss: 1.00323 | Valid Loss: 0.96122 | Time: 0.34 seconds\n",
      "Epoch: 22 | Train Loss: 1.00186 | Valid Loss: 0.96009 | Time: 0.34 seconds\n",
      "Epoch: 23 | Train Loss: 1.00197 | Valid Loss: 0.95928 | Time: 0.33 seconds\n",
      "Epoch: 24 | Train Loss: 0.99994 | Valid Loss: 0.95850 | Time: 0.34 seconds\n",
      "Epoch: 25 | Train Loss: 0.99956 | Valid Loss: 0.95772 | Time: 0.44 seconds\n",
      "Epoch: 26 | Train Loss: 0.99901 | Valid Loss: 0.95726 | Time: 0.33 seconds\n",
      "Epoch: 27 | Train Loss: 1.00017 | Valid Loss: 0.95657 | Time: 0.35 seconds\n",
      "Epoch: 28 | Train Loss: 0.99876 | Valid Loss: 0.95601 | Time: 0.35 seconds\n",
      "Epoch: 29 | Train Loss: 0.99807 | Valid Loss: 0.95533 | Time: 0.33 seconds\n",
      "Epoch: 30 | Train Loss: 0.99839 | Valid Loss: 0.95475 | Time: 0.34 seconds\n",
      "Epoch: 31 | Train Loss: 0.99832 | Valid Loss: 0.95453 | Time: 0.34 seconds\n",
      "Epoch: 32 | Train Loss: 0.99672 | Valid Loss: 0.95404 | Time: 0.33 seconds\n",
      "Epoch: 33 | Train Loss: 0.99750 | Valid Loss: 0.95388 | Time: 0.33 seconds\n",
      "Epoch: 34 | Train Loss: 0.99564 | Valid Loss: 0.95344 | Time: 0.33 seconds\n",
      "Epoch: 35 | Train Loss: 0.99698 | Valid Loss: 0.95337 | Time: 0.33 seconds\n",
      "Epoch: 36 | Train Loss: 0.99667 | Valid Loss: 0.95287 | Time: 0.34 seconds\n",
      "Epoch: 37 | Train Loss: 0.99498 | Valid Loss: 0.95262 | Time: 0.34 seconds\n",
      "Epoch: 38 | Train Loss: 0.99621 | Valid Loss: 0.95265 | Time: 0.33 seconds\n",
      "Epoch: 39 | Train Loss: 0.99556 | Valid Loss: 0.95266 | Time: 0.33 seconds\n",
      "Epoch: 40 | Train Loss: 0.99437 | Valid Loss: 0.95241 | Time: 0.44 seconds\n",
      "Epoch: 41 | Train Loss: 0.99563 | Valid Loss: 0.95255 | Time: 0.33 seconds\n",
      "Epoch: 42 | Train Loss: 0.99407 | Valid Loss: 0.95219 | Time: 0.34 seconds\n",
      "Epoch: 43 | Train Loss: 0.99385 | Valid Loss: 0.95225 | Time: 0.33 seconds\n",
      "Epoch: 44 | Train Loss: 0.99458 | Valid Loss: 0.95209 | Time: 0.34 seconds\n",
      "Epoch: 45 | Train Loss: 0.99355 | Valid Loss: 0.95213 | Time: 0.34 seconds\n",
      "Epoch: 46 | Train Loss: 0.99404 | Valid Loss: 0.95226 | Time: 0.33 seconds\n",
      "Epoch: 47 | Train Loss: 0.99382 | Valid Loss: 0.95243 | Time: 0.33 seconds\n",
      "Epoch: 48 | Train Loss: 0.99338 | Valid Loss: 0.95195 | Time: 0.34 seconds\n",
      "Epoch: 49 | Train Loss: 0.99289 | Valid Loss: 0.95206 | Time: 0.33 seconds\n",
      "Epoch: 50 | Train Loss: 0.99489 | Valid Loss: 0.95226 | Time: 0.34 seconds\n",
      "Epoch: 51 | Train Loss: 0.99421 | Valid Loss: 0.95208 | Time: 0.34 seconds\n",
      "Epoch: 52 | Train Loss: 0.99246 | Valid Loss: 0.95213 | Time: 0.34 seconds\n",
      "Epoch: 53 | Train Loss: 0.99300 | Valid Loss: 0.95207 | Time: 0.46 seconds\n",
      "Epoch: 54 | Train Loss: 0.99388 | Valid Loss: 0.95230 | Time: 0.34 seconds\n",
      "Epoch: 55 | Train Loss: 0.99435 | Valid Loss: 0.95211 | Time: 0.33 seconds\n",
      "Epoch: 56 | Train Loss: 0.99326 | Valid Loss: 0.95219 | Time: 0.34 seconds\n",
      "Epoch: 57 | Train Loss: 0.99268 | Valid Loss: 0.95214 | Time: 0.34 seconds\n",
      "Epoch: 58 | Train Loss: 0.99325 | Valid Loss: 0.95219 | Time: 0.34 seconds\n",
      "\n",
      "Early Stopping at Epoch 58\n",
      "\n",
      "**************************************************\n",
      "\n",
      "Best Validation Loss at Epoch 48\n",
      "\n",
      "**************************************************\n",
      "\n",
      "Time Taken [59 Epochs] : 0.34 minutes\n",
      "\n",
      "**************************************************\n",
      "\n",
      "Training Completed\n",
      "\n",
      "**************************************************\n",
      "\n",
      "Validation RMSE : 0.97631\n",
      "\n",
      "**************************************************\n",
      "\n"
     ]
    },
    {
     "data": {
      "image/png": "[encoded data removed]",
      "text/plain": [
       "<Figure size 432x288 with 1 Axes>"
      ]
     },
     "metadata": {
      "needs_background": "light"
     },
     "output_type": "display_data"
    },
    {
     "name": "stdout",
     "output_type": "stream",
     "text": [
      "\n",
      "**************************************************\n",
      "\n",
      "Seed: 0, Fold: 2, Batch Size: 512, LR: 0.001, WD: 0, HL: [4]\n",
      "\n",
      "**************************************************\n",
      "\n",
      "Building MetaData Model ...\n",
      "\n",
      " 12 -> [4] -> 1\n",
      "\n",
      "**************************************************\n",
      "\n",
      "Training ...\n",
      "\n",
      "**************************************************\n",
      "\n",
      "Epoch: 1 | Train Loss: 1.29515 | Valid Loss: 1.11085 | Time: 0.34 seconds\n",
      "Epoch: 2 | Train Loss: 1.22694 | Valid Loss: 1.14535 | Time: 0.33 seconds\n",
      "Epoch: 3 | Train Loss: 1.16880 | Valid Loss: 1.14372 | Time: 0.33 seconds\n",
      "Epoch: 4 | Train Loss: 1.12684 | Valid Loss: 1.12450 | Time: 0.33 seconds\n",
      "Epoch: 5 | Train Loss: 1.09860 | Valid Loss: 1.10319 | Time: 0.34 seconds\n",
      "Epoch: 6 | Train Loss: 1.07413 | Valid Loss: 1.08745 | Time: 0.34 seconds\n",
      "Epoch: 7 | Train Loss: 1.06053 | Valid Loss: 1.07687 | Time: 0.45 seconds\n",
      "Epoch: 8 | Train Loss: 1.04991 | Valid Loss: 1.06806 | Time: 0.34 seconds\n",
      "Epoch: 9 | Train Loss: 1.03919 | Valid Loss: 1.06223 | Time: 0.34 seconds\n",
      "Epoch: 10 | Train Loss: 1.03333 | Valid Loss: 1.05681 | Time: 0.33 seconds\n",
      "Epoch: 11 | Train Loss: 1.03006 | Valid Loss: 1.05233 | Time: 0.34 seconds\n",
      "Epoch: 12 | Train Loss: 1.02305 | Valid Loss: 1.04821 | Time: 0.34 seconds\n",
      "Epoch: 13 | Train Loss: 1.02066 | Valid Loss: 1.04508 | Time: 0.34 seconds\n",
      "Epoch: 14 | Train Loss: 1.01718 | Valid Loss: 1.04273 | Time: 0.34 seconds\n",
      "Epoch: 15 | Train Loss: 1.01538 | Valid Loss: 1.04056 | Time: 0.42 seconds\n",
      "Epoch: 16 | Train Loss: 1.01220 | Valid Loss: 1.03876 | Time: 0.41 seconds\n",
      "Epoch: 17 | Train Loss: 1.00982 | Valid Loss: 1.03721 | Time: 0.34 seconds\n",
      "Epoch: 18 | Train Loss: 1.00852 | Valid Loss: 1.03612 | Time: 0.35 seconds\n",
      "Epoch: 19 | Train Loss: 1.00662 | Valid Loss: 1.03508 | Time: 0.35 seconds\n",
      "Epoch: 20 | Train Loss: 1.00526 | Valid Loss: 1.03445 | Time: 0.35 seconds\n",
      "Epoch: 21 | Train Loss: 1.00494 | Valid Loss: 1.03356 | Time: 0.45 seconds\n",
      "Epoch: 22 | Train Loss: 1.00307 | Valid Loss: 1.03278 | Time: 0.34 seconds\n",
      "Epoch: 23 | Train Loss: 1.00278 | Valid Loss: 1.03211 | Time: 0.34 seconds\n",
      "Epoch: 24 | Train Loss: 1.00339 | Valid Loss: 1.03160 | Time: 0.34 seconds\n",
      "Epoch: 25 | Train Loss: 1.00187 | Valid Loss: 1.03097 | Time: 0.34 seconds\n",
      "Epoch: 26 | Train Loss: 1.00213 | Valid Loss: 1.03067 | Time: 0.34 seconds\n",
      "Epoch: 27 | Train Loss: 1.00164 | Valid Loss: 1.03025 | Time: 0.35 seconds\n",
      "Epoch: 28 | Train Loss: 1.00002 | Valid Loss: 1.02998 | Time: 0.35 seconds\n",
      "Epoch: 29 | Train Loss: 1.00043 | Valid Loss: 1.02950 | Time: 0.34 seconds\n",
      "Epoch: 30 | Train Loss: 1.00075 | Valid Loss: 1.02936 | Time: 0.34 seconds\n",
      "Epoch: 31 | Train Loss: 0.99907 | Valid Loss: 1.02909 | Time: 0.37 seconds\n",
      "Epoch: 32 | Train Loss: 1.00098 | Valid Loss: 1.02902 | Time: 0.34 seconds\n",
      "Epoch: 33 | Train Loss: 0.99792 | Valid Loss: 1.02892 | Time: 0.34 seconds\n",
      "Epoch: 34 | Train Loss: 0.99913 | Valid Loss: 1.02876 | Time: 0.34 seconds\n",
      "Epoch: 35 | Train Loss: 1.00014 | Valid Loss: 1.02863 | Time: 0.45 seconds\n",
      "Epoch: 36 | Train Loss: 0.99888 | Valid Loss: 1.02814 | Time: 0.34 seconds\n",
      "Epoch: 37 | Train Loss: 0.99841 | Valid Loss: 1.02790 | Time: 0.34 seconds\n",
      "Epoch: 38 | Train Loss: 0.99783 | Valid Loss: 1.02782 | Time: 0.34 seconds\n",
      "Epoch: 39 | Train Loss: 0.99890 | Valid Loss: 1.02767 | Time: 0.34 seconds\n",
      "Epoch: 40 | Train Loss: 0.99705 | Valid Loss: 1.02757 | Time: 0.34 seconds\n",
      "Epoch: 41 | Train Loss: 0.99641 | Valid Loss: 1.02739 | Time: 0.34 seconds\n",
      "Epoch: 42 | Train Loss: 0.99721 | Valid Loss: 1.02734 | Time: 0.34 seconds\n",
      "Epoch: 43 | Train Loss: 0.99637 | Valid Loss: 1.02727 | Time: 0.34 seconds\n",
      "Epoch: 44 | Train Loss: 0.99640 | Valid Loss: 1.02712 | Time: 0.34 seconds\n",
      "Epoch: 45 | Train Loss: 0.99772 | Valid Loss: 1.02711 | Time: 0.34 seconds\n",
      "Epoch: 46 | Train Loss: 0.99707 | Valid Loss: 1.02700 | Time: 0.34 seconds\n",
      "Epoch: 47 | Train Loss: 0.99565 | Valid Loss: 1.02701 | Time: 0.33 seconds\n",
      "Epoch: 48 | Train Loss: 0.99670 | Valid Loss: 1.02696 | Time: 0.34 seconds\n",
      "Epoch: 49 | Train Loss: 0.99648 | Valid Loss: 1.02708 | Time: 0.33 seconds\n",
      "Epoch: 50 | Train Loss: 0.99676 | Valid Loss: 1.02701 | Time: 0.44 seconds\n",
      "Epoch: 51 | Train Loss: 0.99482 | Valid Loss: 1.02696 | Time: 0.33 seconds\n",
      "Epoch: 52 | Train Loss: 0.99500 | Valid Loss: 1.02685 | Time: 0.34 seconds\n",
      "Epoch: 53 | Train Loss: 0.99595 | Valid Loss: 1.02696 | Time: 0.34 seconds\n",
      "Epoch: 54 | Train Loss: 0.99636 | Valid Loss: 1.02709 | Time: 0.34 seconds\n",
      "Epoch: 55 | Train Loss: 0.99635 | Valid Loss: 1.02689 | Time: 0.34 seconds\n",
      "Epoch: 56 | Train Loss: 0.99594 | Valid Loss: 1.02706 | Time: 0.34 seconds\n",
      "Epoch: 57 | Train Loss: 0.99694 | Valid Loss: 1.02691 | Time: 0.34 seconds\n",
      "Epoch: 58 | Train Loss: 0.99587 | Valid Loss: 1.02676 | Time: 0.34 seconds\n",
      "Epoch: 59 | Train Loss: 0.99606 | Valid Loss: 1.02701 | Time: 0.34 seconds\n",
      "Epoch: 60 | Train Loss: 0.99586 | Valid Loss: 1.02718 | Time: 0.34 seconds\n",
      "Epoch: 61 | Train Loss: 0.99615 | Valid Loss: 1.02708 | Time: 0.34 seconds\n",
      "Epoch: 62 | Train Loss: 0.99575 | Valid Loss: 1.02696 | Time: 0.36 seconds\n",
      "Epoch: 63 | Train Loss: 0.99548 | Valid Loss: 1.02710 | Time: 0.35 seconds\n",
      "Epoch: 64 | Train Loss: 0.99565 | Valid Loss: 1.02717 | Time: 0.45 seconds\n",
      "Epoch: 65 | Train Loss: 0.99540 | Valid Loss: 1.02702 | Time: 0.34 seconds\n",
      "Epoch: 66 | Train Loss: 0.99521 | Valid Loss: 1.02690 | Time: 0.34 seconds\n",
      "Epoch: 67 | Train Loss: 0.99500 | Valid Loss: 1.02705 | Time: 0.34 seconds\n",
      "Epoch: 68 | Train Loss: 0.99536 | Valid Loss: 1.02701 | Time: 0.34 seconds\n",
      "\n",
      "Early Stopping at Epoch 68\n",
      "\n",
      "**************************************************\n",
      "\n",
      "Best Validation Loss at Epoch 58\n",
      "\n",
      "**************************************************\n",
      "\n",
      "Time Taken [69 Epochs] : 0.40 minutes\n",
      "\n",
      "**************************************************\n",
      "\n",
      "Training Completed\n",
      "\n",
      "**************************************************\n",
      "\n",
      "Validation RMSE : 1.01644\n",
      "\n",
      "**************************************************\n",
      "\n"
     ]
    },
    {
     "data": {
      "image/png": "[encoded data removed]",
      "text/plain": [
       "<Figure size 432x288 with 1 Axes>"
      ]
     },
     "metadata": {
      "needs_background": "light"
     },
     "output_type": "display_data"
    },
    {
     "name": "stdout",
     "output_type": "stream",
     "text": [
      "\n",
      "**************************************************\n",
      "\n",
      "Seed: 0, Fold: 3, Batch Size: 512, LR: 0.001, WD: 0, HL: [4]\n",
      "\n",
      "**************************************************\n",
      "\n",
      "Building MetaData Model ...\n",
      "\n",
      " 12 -> [4] -> 1\n",
      "\n",
      "**************************************************\n",
      "\n",
      "Training ...\n",
      "\n",
      "**************************************************\n",
      "\n",
      "Epoch: 1 | Train Loss: 1.29719 | Valid Loss: 1.09372 | Time: 0.34 seconds\n",
      "Epoch: 2 | Train Loss: 1.22219 | Valid Loss: 1.13138 | Time: 0.33 seconds\n",
      "Epoch: 3 | Train Loss: 1.16795 | Valid Loss: 1.12967 | Time: 0.34 seconds\n",
      "Epoch: 4 | Train Loss: 1.12911 | Valid Loss: 1.11273 | Time: 0.34 seconds\n",
      "Epoch: 5 | Train Loss: 1.09823 | Valid Loss: 1.09173 | Time: 0.35 seconds\n",
      "Epoch: 6 | Train Loss: 1.07797 | Valid Loss: 1.07526 | Time: 0.34 seconds\n",
      "Epoch: 7 | Train Loss: 1.06260 | Valid Loss: 1.06395 | Time: 0.34 seconds\n",
      "Epoch: 8 | Train Loss: 1.05205 | Valid Loss: 1.05629 | Time: 0.45 seconds\n",
      "Epoch: 9 | Train Loss: 1.04306 | Valid Loss: 1.04983 | Time: 0.34 seconds\n",
      "Epoch: 10 | Train Loss: 1.03726 | Valid Loss: 1.04424 | Time: 0.34 seconds\n",
      "Epoch: 11 | Train Loss: 1.03204 | Valid Loss: 1.03941 | Time: 0.34 seconds\n",
      "Epoch: 12 | Train Loss: 1.02744 | Valid Loss: 1.03574 | Time: 0.34 seconds\n",
      "Epoch: 13 | Train Loss: 1.02276 | Valid Loss: 1.03195 | Time: 0.34 seconds\n",
      "Epoch: 14 | Train Loss: 1.01871 | Valid Loss: 1.02929 | Time: 0.34 seconds\n",
      "Epoch: 15 | Train Loss: 1.01803 | Valid Loss: 1.02649 | Time: 0.34 seconds\n",
      "Epoch: 16 | Train Loss: 1.01443 | Valid Loss: 1.02418 | Time: 0.34 seconds\n",
      "Epoch: 17 | Train Loss: 1.01164 | Valid Loss: 1.02215 | Time: 0.34 seconds\n",
      "Epoch: 18 | Train Loss: 1.00814 | Valid Loss: 1.02056 | Time: 0.34 seconds\n",
      "Epoch: 19 | Train Loss: 1.00732 | Valid Loss: 1.01908 | Time: 0.34 seconds\n",
      "Epoch: 20 | Train Loss: 1.00689 | Valid Loss: 1.01784 | Time: 0.34 seconds\n",
      "Epoch: 21 | Train Loss: 1.00467 | Valid Loss: 1.01696 | Time: 0.34 seconds\n",
      "Epoch: 22 | Train Loss: 1.00402 | Valid Loss: 1.01608 | Time: 0.45 seconds\n",
      "Epoch: 23 | Train Loss: 1.00199 | Valid Loss: 1.01524 | Time: 0.34 seconds\n",
      "Epoch: 24 | Train Loss: 1.00197 | Valid Loss: 1.01445 | Time: 0.37 seconds\n",
      "Epoch: 25 | Train Loss: 1.00215 | Valid Loss: 1.01393 | Time: 0.34 seconds\n",
      "Epoch: 26 | Train Loss: 1.00014 | Valid Loss: 1.01353 | Time: 0.34 seconds\n",
      "Epoch: 27 | Train Loss: 1.00121 | Valid Loss: 1.01302 | Time: 0.34 seconds\n",
      "Epoch: 28 | Train Loss: 1.00064 | Valid Loss: 1.01234 | Time: 0.34 seconds\n",
      "Epoch: 29 | Train Loss: 1.00041 | Valid Loss: 1.01212 | Time: 0.34 seconds\n",
      "Epoch: 30 | Train Loss: 1.00039 | Valid Loss: 1.01178 | Time: 0.34 seconds\n",
      "Epoch: 31 | Train Loss: 0.99945 | Valid Loss: 1.01138 | Time: 0.34 seconds\n",
      "Epoch: 32 | Train Loss: 0.99873 | Valid Loss: 1.01111 | Time: 0.35 seconds\n",
      "Epoch: 33 | Train Loss: 0.99754 | Valid Loss: 1.01095 | Time: 0.34 seconds\n",
      "Epoch: 34 | Train Loss: 0.99823 | Valid Loss: 1.01080 | Time: 0.35 seconds\n",
      "Epoch: 35 | Train Loss: 0.99913 | Valid Loss: 1.01063 | Time: 0.35 seconds\n",
      "Epoch: 36 | Train Loss: 0.99687 | Valid Loss: 1.01050 | Time: 0.46 seconds\n",
      "Epoch: 37 | Train Loss: 0.99788 | Valid Loss: 1.01024 | Time: 0.40 seconds\n",
      "Epoch: 38 | Train Loss: 0.99747 | Valid Loss: 1.01004 | Time: 0.39 seconds\n",
      "Epoch: 39 | Train Loss: 0.99721 | Valid Loss: 1.00994 | Time: 0.35 seconds\n",
      "Epoch: 40 | Train Loss: 0.99746 | Valid Loss: 1.00973 | Time: 0.34 seconds\n",
      "Epoch: 41 | Train Loss: 0.99676 | Valid Loss: 1.00970 | Time: 0.35 seconds\n",
      "Epoch: 42 | Train Loss: 0.99695 | Valid Loss: 1.00943 | Time: 0.35 seconds\n",
      "Epoch: 43 | Train Loss: 0.99667 | Valid Loss: 1.00936 | Time: 0.34 seconds\n",
      "Epoch: 44 | Train Loss: 0.99597 | Valid Loss: 1.00928 | Time: 0.34 seconds\n",
      "Epoch: 45 | Train Loss: 0.99677 | Valid Loss: 1.00936 | Time: 0.33 seconds\n",
      "Epoch: 46 | Train Loss: 0.99676 | Valid Loss: 1.00923 | Time: 0.34 seconds\n",
      "Epoch: 47 | Train Loss: 0.99536 | Valid Loss: 1.00933 | Time: 0.34 seconds\n",
      "Epoch: 48 | Train Loss: 0.99583 | Valid Loss: 1.00916 | Time: 0.34 seconds\n",
      "Epoch: 49 | Train Loss: 0.99557 | Valid Loss: 1.00905 | Time: 0.34 seconds\n",
      "Epoch: 50 | Train Loss: 0.99563 | Valid Loss: 1.00900 | Time: 0.44 seconds\n",
      "Epoch: 51 | Train Loss: 0.99503 | Valid Loss: 1.00915 | Time: 0.34 seconds\n",
      "Epoch: 52 | Train Loss: 0.99510 | Valid Loss: 1.00901 | Time: 0.34 seconds\n",
      "Epoch: 53 | Train Loss: 0.99565 | Valid Loss: 1.00900 | Time: 0.34 seconds\n",
      "Epoch: 54 | Train Loss: 0.99384 | Valid Loss: 1.00899 | Time: 0.34 seconds\n",
      "Epoch: 55 | Train Loss: 0.99655 | Valid Loss: 1.00897 | Time: 0.37 seconds\n",
      "Epoch: 56 | Train Loss: 0.99477 | Valid Loss: 1.00902 | Time: 0.34 seconds\n",
      "Epoch: 57 | Train Loss: 0.99482 | Valid Loss: 1.00911 | Time: 0.34 seconds\n",
      "Epoch: 58 | Train Loss: 0.99528 | Valid Loss: 1.00897 | Time: 0.34 seconds\n",
      "Epoch: 59 | Train Loss: 0.99529 | Valid Loss: 1.00886 | Time: 0.34 seconds\n",
      "Epoch: 60 | Train Loss: 0.99509 | Valid Loss: 1.00899 | Time: 0.34 seconds\n",
      "Epoch: 61 | Train Loss: 0.99607 | Valid Loss: 1.00906 | Time: 0.34 seconds\n",
      "Epoch: 62 | Train Loss: 0.99666 | Valid Loss: 1.00892 | Time: 0.34 seconds\n",
      "Epoch: 63 | Train Loss: 0.99375 | Valid Loss: 1.00898 | Time: 0.34 seconds\n",
      "Epoch: 64 | Train Loss: 0.99380 | Valid Loss: 1.00908 | Time: 0.45 seconds\n",
      "Epoch: 65 | Train Loss: 0.99457 | Valid Loss: 1.00890 | Time: 0.34 seconds\n",
      "Epoch: 66 | Train Loss: 0.99358 | Valid Loss: 1.00889 | Time: 0.34 seconds\n",
      "Epoch: 67 | Train Loss: 0.99428 | Valid Loss: 1.00904 | Time: 0.33 seconds\n",
      "Epoch: 68 | Train Loss: 0.99440 | Valid Loss: 1.00909 | Time: 0.33 seconds\n",
      "Epoch: 69 | Train Loss: 0.99460 | Valid Loss: 1.00903 | Time: 0.34 seconds\n",
      "\n",
      "Early Stopping at Epoch 69\n",
      "\n",
      "**************************************************\n",
      "\n",
      "Best Validation Loss at Epoch 59\n",
      "\n",
      "**************************************************\n",
      "\n",
      "Time Taken [70 Epochs] : 0.41 minutes\n",
      "\n",
      "**************************************************\n",
      "\n",
      "Training Completed\n",
      "\n",
      "**************************************************\n",
      "\n",
      "Validation RMSE : 1.00753\n",
      "\n",
      "**************************************************\n",
      "\n"
     ]
    },
    {
     "data": {
      "image/png": "[encoded data removed]",
      "text/plain": [
       "<Figure size 432x288 with 1 Axes>"
      ]
     },
     "metadata": {
      "needs_background": "light"
     },
     "output_type": "display_data"
    },
    {
     "name": "stdout",
     "output_type": "stream",
     "text": [
      "\n",
      "**************************************************\n",
      "\n",
      "Total Time to search for optimal hyperparameters : 1.17 minutes\n",
      "\n",
      "**************************************************\n",
      "\n"
     ]
    }
   ],
   "source": [
    "params = search()"
   ]
  },
  {
   "cell_type": "code",
   "execution_count": 11,
   "id": "95c99073",
   "metadata": {
    "execution": {
     "iopub.execute_input": "2021-10-04T21:48:01.198329Z",
     "iopub.status.busy": "2021-10-04T21:48:01.197680Z",
     "iopub.status.idle": "2021-10-04T21:48:01.202086Z",
     "shell.execute_reply": "2021-10-04T21:48:01.201570Z",
     "shell.execute_reply.started": "2021-10-04T21:40:21.877567Z"
    },
    "papermill": {
     "duration": 0.0867,
     "end_time": "2021-10-04T21:48:01.202228",
     "exception": false,
     "start_time": "2021-10-04T21:48:01.115528",
     "status": "completed"
    },
    "tags": []
   },
   "outputs": [
    {
     "name": "stdout",
     "output_type": "stream",
     "text": [
      "{'seed': 0, 'fold': 1, 'batch_size': 512, 'lr': 0.001, 'wd': 0, 'HL': [4], 'RMSE': 0.9763111014115237}\n",
      "{'seed': 0, 'fold': 2, 'batch_size': 512, 'lr': 0.001, 'wd': 0, 'HL': [4], 'RMSE': 1.0164408242431435}\n",
      "{'seed': 0, 'fold': 3, 'batch_size': 512, 'lr': 0.001, 'wd': 0, 'HL': [4], 'RMSE': 1.0075258732528847}\n"
     ]
    }
   ],
   "source": [
    "for i in range(len(params)):\n",
    "    print(params[i])\n",
    "\n",
    "with open(\"params.pkl\", \"wb\") as fp:\n",
    "    pickle.dump(params, fp)"
   ]
  },
  {
   "cell_type": "code",
   "execution_count": 12,
   "id": "5b89b3f5",
   "metadata": {
    "execution": {
     "iopub.execute_input": "2021-10-04T21:48:01.364747Z",
     "iopub.status.busy": "2021-10-04T21:48:01.364106Z",
     "iopub.status.idle": "2021-10-04T21:48:01.367323Z",
     "shell.execute_reply": "2021-10-04T21:48:01.367807Z",
     "shell.execute_reply.started": "2021-10-04T21:40:05.650709Z"
    },
    "papermill": {
     "duration": 0.087532,
     "end_time": "2021-10-04T21:48:01.368008",
     "exception": false,
     "start_time": "2021-10-04T21:48:01.280476",
     "status": "completed"
    },
    "tags": []
   },
   "outputs": [
    {
     "name": "stdout",
     "output_type": "stream",
     "text": [
      "\n",
      "**************************************************\n",
      "\n",
      "Notebook Run Time : 1.22 minutes\n",
      "\n",
      "**************************************************\n",
      "\n"
     ]
    }
   ],
   "source": [
    "breaker()\n",
    "print(\"Notebook Run Time : {:.2f} minutes\".format((time()-notebook_start_time)/60))\n",
    "breaker()"
   ]
  }
 ],
 "metadata": {
  "kernelspec": {
   "display_name": "Python 3",
   "language": "python",
   "name": "python3"
  },
  "language_info": {
   "codemirror_mode": {
    "name": "ipython",
    "version": 3
   },
   "file_extension": ".py",
   "mimetype": "text/x-python",
   "name": "python",
   "nbconvert_exporter": "python",
   "pygments_lexer": "ipython3",
   "version": "3.7.10"
  },
  "papermill": {
   "default_parameters": {},
   "duration": 82.620484,
   "end_time": "2021-10-04T21:48:02.157875",
   "environment_variables": {},
   "exception": null,
   "input_path": "__notebook__.ipynb",
   "output_path": "__notebook__.ipynb",
   "parameters": {},
   "start_time": "2021-10-04T21:46:39.537391",
   "version": "2.3.3"
  }
 },
 "nbformat": 4,
 "nbformat_minor": 5
}
