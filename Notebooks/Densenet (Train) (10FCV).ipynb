{
 "cells": [
  {
   "cell_type": "markdown",
   "id": "e4f50eb4",
   "metadata": {
    "_cell_guid": "b1076dfc-b9ad-4769-8c92-a6c4dae69d19",
    "_uuid": "8f2839f25d086af736a60e9eeb907d3b93b6e0e5",
    "papermill": {
     "duration": 0.013904,
     "end_time": "2021-10-06T15:38:33.654244",
     "exception": false,
     "start_time": "2021-10-06T15:38:33.640340",
     "status": "completed"
    },
    "tags": []
   },
   "source": [
    "## Library Imports"
   ]
  },
  {
   "cell_type": "code",
   "execution_count": 1,
   "id": "bccc38bb",
   "metadata": {
    "execution": {
     "iopub.execute_input": "2021-10-06T15:38:33.684298Z",
     "iopub.status.busy": "2021-10-06T15:38:33.682811Z",
     "iopub.status.idle": "2021-10-06T15:38:33.761607Z",
     "shell.execute_reply": "2021-10-06T15:38:33.761064Z",
     "shell.execute_reply.started": "2021-10-06T14:55:41.742904Z"
    },
    "papermill": {
     "duration": 0.094224,
     "end_time": "2021-10-06T15:38:33.761745",
     "exception": false,
     "start_time": "2021-10-06T15:38:33.667521",
     "status": "completed"
    },
    "tags": []
   },
   "outputs": [],
   "source": [
    "from time import time\n",
    "notebook_start_time = time()"
   ]
  },
  {
   "cell_type": "code",
   "execution_count": 2,
   "id": "cbfa22d3",
   "metadata": {
    "execution": {
     "iopub.execute_input": "2021-10-06T15:38:33.791550Z",
     "iopub.status.busy": "2021-10-06T15:38:33.790937Z",
     "iopub.status.idle": "2021-10-06T15:38:39.124587Z",
     "shell.execute_reply": "2021-10-06T15:38:39.124059Z",
     "shell.execute_reply.started": "2021-10-06T14:55:41.749549Z"
    },
    "papermill": {
     "duration": 5.350597,
     "end_time": "2021-10-06T15:38:39.124722",
     "exception": false,
     "start_time": "2021-10-06T15:38:33.774125",
     "status": "completed"
    },
    "tags": []
   },
   "outputs": [],
   "source": [
    "import os\n",
    "import re\n",
    "import pickle\n",
    "import numpy as np\n",
    "import pandas as pd\n",
    "import matplotlib.pyplot as plt\n",
    "\n",
    "import torch\n",
    "from torch import nn, optim\n",
    "from torch.utils.data import Dataset\n",
    "from torch.utils.data import DataLoader as DL\n",
    "from torch.nn.utils import weight_norm as WN\n",
    "from torchvision import models, transforms\n",
    "\n",
    "from sklearn.model_selection import KFold\n",
    "from sklearn.metrics import mean_squared_error\n",
    "from sklearn.preprocessing import StandardScaler"
   ]
  },
  {
   "cell_type": "markdown",
   "id": "ba62b2f5",
   "metadata": {
    "papermill": {
     "duration": 0.011424,
     "end_time": "2021-10-06T15:38:39.148337",
     "exception": false,
     "start_time": "2021-10-06T15:38:39.136913",
     "status": "completed"
    },
    "tags": []
   },
   "source": [
    "## Constants and Utilities"
   ]
  },
  {
   "cell_type": "code",
   "execution_count": 3,
   "id": "74c4da1a",
   "metadata": {
    "execution": {
     "iopub.execute_input": "2021-10-06T15:38:39.216596Z",
     "iopub.status.busy": "2021-10-06T15:38:39.216046Z",
     "iopub.status.idle": "2021-10-06T15:38:39.219284Z",
     "shell.execute_reply": "2021-10-06T15:38:39.219921Z",
     "shell.execute_reply.started": "2021-10-06T14:55:41.761827Z"
    },
    "papermill": {
     "duration": 0.060162,
     "end_time": "2021-10-06T15:38:39.220061",
     "exception": false,
     "start_time": "2021-10-06T15:38:39.159899",
     "status": "completed"
    },
    "tags": []
   },
   "outputs": [],
   "source": [
    "SEED = 0\n",
    "DEVICE = torch.device(\"cuda\" if torch.cuda.is_available() else \"cpu\")\n",
    "PATH = \"../input/petfinder-pawpularity-score\"\n",
    "FEATURES_PATH = \"../input/petfinder-pretrained-features-unaugmented\"\n",
    "\n",
    "sc_y = StandardScaler()"
   ]
  },
  {
   "cell_type": "code",
   "execution_count": 4,
   "id": "c3c1e9e7",
   "metadata": {
    "execution": {
     "iopub.execute_input": "2021-10-06T15:38:39.255625Z",
     "iopub.status.busy": "2021-10-06T15:38:39.253956Z",
     "iopub.status.idle": "2021-10-06T15:38:39.256257Z",
     "shell.execute_reply": "2021-10-06T15:38:39.256647Z",
     "shell.execute_reply.started": "2021-10-06T14:55:41.769854Z"
    },
    "papermill": {
     "duration": 0.024986,
     "end_time": "2021-10-06T15:38:39.256767",
     "exception": false,
     "start_time": "2021-10-06T15:38:39.231781",
     "status": "completed"
    },
    "tags": []
   },
   "outputs": [],
   "source": [
    "def breaker(num=50, char=\"*\") -> None:\n",
    "    print(\"\\n\" + num*char + \"\\n\")\n",
    "\n",
    "\n",
    "def head(x, no_of_ele=5) -> None:\n",
    "    print(x[:no_of_ele])\n",
    "\n",
    "\n",
    "def get_targets(path: str) -> np.ndarray:\n",
    "    df = pd.read_csv(os.path.join(path, \"train.csv\"), engine=\"python\")\n",
    "    targets  = df.iloc[:, -1].copy().values\n",
    "    return targets\n",
    "\n",
    "\n",
    "def normalize(x):\n",
    "    for i in range(x.shape[0]):\n",
    "        x[i] = (x[i] - torch.min(x[i])) / (torch.max(x[i]) - torch.min(x[i]))\n",
    "    return x\n",
    "\n",
    "\n",
    "def show_graphs(L: list) -> None:\n",
    "    TL, VL = [], []\n",
    "    for i in range(len(L)):\n",
    "        TL.append(L[i][\"train\"])\n",
    "        VL.append(L[i][\"valid\"])    \n",
    "    \n",
    "    x_Axis = np.arange(1, len(L) + 1)\n",
    "    plt.figure()\n",
    "    plt.plot(x_Axis, TL, \"r\", label=\"train\")\n",
    "    plt.plot(x_Axis, VL, \"b\", label=\"valid\")\n",
    "    plt.grid()\n",
    "    plt.legend()\n",
    "    plt.title(\"MSE Loss\")\n",
    "    plt.show()"
   ]
  },
  {
   "cell_type": "markdown",
   "id": "d2dda484",
   "metadata": {
    "papermill": {
     "duration": 0.011976,
     "end_time": "2021-10-06T15:38:39.280564",
     "exception": false,
     "start_time": "2021-10-06T15:38:39.268588",
     "status": "completed"
    },
    "tags": []
   },
   "source": [
    "## Dataset Template"
   ]
  },
  {
   "cell_type": "code",
   "execution_count": 5,
   "id": "dc11fb2e",
   "metadata": {
    "execution": {
     "iopub.execute_input": "2021-10-06T15:38:39.310320Z",
     "iopub.status.busy": "2021-10-06T15:38:39.309652Z",
     "iopub.status.idle": "2021-10-06T15:38:39.312820Z",
     "shell.execute_reply": "2021-10-06T15:38:39.312422Z",
     "shell.execute_reply.started": "2021-10-06T14:55:41.786375Z"
    },
    "papermill": {
     "duration": 0.019312,
     "end_time": "2021-10-06T15:38:39.312939",
     "exception": false,
     "start_time": "2021-10-06T15:38:39.293627",
     "status": "completed"
    },
    "tags": []
   },
   "outputs": [],
   "source": [
    "class DS(Dataset):\n",
    "    def __init__(self, features=None, targets=None):\n",
    "        self.features = features\n",
    "        self.targets  = targets\n",
    "        \n",
    "    def __len__(self):\n",
    "        return self.features.shape[0]\n",
    "    \n",
    "    def __getitem__(self, idx):\n",
    "        return torch.FloatTensor(self.features[idx]), torch.FloatTensor(self.targets[idx])"
   ]
  },
  {
   "cell_type": "markdown",
   "id": "294b7d70",
   "metadata": {
    "papermill": {
     "duration": 0.011321,
     "end_time": "2021-10-06T15:38:39.335688",
     "exception": false,
     "start_time": "2021-10-06T15:38:39.324367",
     "status": "completed"
    },
    "tags": []
   },
   "source": [
    "## Build Dataloaders"
   ]
  },
  {
   "cell_type": "code",
   "execution_count": 6,
   "id": "2d11e60b",
   "metadata": {
    "execution": {
     "iopub.execute_input": "2021-10-06T15:38:39.365846Z",
     "iopub.status.busy": "2021-10-06T15:38:39.364341Z",
     "iopub.status.idle": "2021-10-06T15:38:39.366489Z",
     "shell.execute_reply": "2021-10-06T15:38:39.366900Z",
     "shell.execute_reply.started": "2021-10-06T14:55:41.79546Z"
    },
    "papermill": {
     "duration": 0.0197,
     "end_time": "2021-10-06T15:38:39.367019",
     "exception": false,
     "start_time": "2021-10-06T15:38:39.347319",
     "status": "completed"
    },
    "tags": []
   },
   "outputs": [],
   "source": [
    "def build_dataloaders(tr_features: np.ndarray, va_features: np.ndarray,\n",
    "                      tr_targets: np.ndarray, va_targets: np.ndarray,\n",
    "                      batch_size: int, seed: int):\n",
    "\n",
    "    breaker()\n",
    "    print(\"Building Train and Validation DataLoaders ...\")\n",
    "    \n",
    "    tr_data_setup = DS(features=tr_features, targets=tr_targets)\n",
    "    va_data_setup = DS(features=va_features, targets=va_targets)\n",
    "    \n",
    "    dataloaders = {\n",
    "        \"train\" : DL(tr_data_setup, batch_size=batch_size, shuffle=True, generator=torch.manual_seed(seed)),\n",
    "        \"valid\" : DL(va_data_setup, batch_size=batch_size, shuffle=False)\n",
    "    }\n",
    "    \n",
    "    return dataloaders"
   ]
  },
  {
   "cell_type": "markdown",
   "id": "883d9cb0",
   "metadata": {
    "papermill": {
     "duration": 0.011503,
     "end_time": "2021-10-06T15:38:39.390031",
     "exception": false,
     "start_time": "2021-10-06T15:38:39.378528",
     "status": "completed"
    },
    "tags": []
   },
   "source": [
    "## Build Model"
   ]
  },
  {
   "cell_type": "code",
   "execution_count": 7,
   "id": "25033495",
   "metadata": {
    "execution": {
     "iopub.execute_input": "2021-10-06T15:38:39.426091Z",
     "iopub.status.busy": "2021-10-06T15:38:39.423455Z",
     "iopub.status.idle": "2021-10-06T15:38:39.428727Z",
     "shell.execute_reply": "2021-10-06T15:38:39.429170Z",
     "shell.execute_reply.started": "2021-10-06T14:55:41.804262Z"
    },
    "papermill": {
     "duration": 0.027326,
     "end_time": "2021-10-06T15:38:39.429305",
     "exception": false,
     "start_time": "2021-10-06T15:38:39.401979",
     "status": "completed"
    },
    "tags": []
   },
   "outputs": [],
   "source": [
    "def build_model(IL: int, seed: int):\n",
    "    class ANN(nn.Module):\n",
    "        def __init__(self, IL=None):\n",
    "            super(ANN, self).__init__()\n",
    "\n",
    "            self.predictor = nn.Sequential()\n",
    "            self.predictor.add_module(\"BN\", nn.BatchNorm1d(num_features=IL, eps=1e-5))\n",
    "            self.predictor.add_module(\"FC\", WN(nn.Linear(in_features=IL, out_features=1)))\n",
    "\n",
    "        def get_optimizer(self, lr=1e-3, wd=0):\n",
    "            params = [p for p in self.parameters() if p.requires_grad]\n",
    "            return optim.Adam(params, lr=lr, weight_decay=wd)\n",
    "\n",
    "        def get_plateau_scheduler(self, optimizer=None, patience=5, eps=1e-8):\n",
    "            return optim.lr_scheduler.ReduceLROnPlateau(optimizer=optimizer, patience=patience, eps=eps, verbose=True)\n",
    "\n",
    "        def forward(self, x):\n",
    "            return self.predictor(x)\n",
    "    \n",
    "    breaker()\n",
    "    print(\"Building Model ...\")\n",
    "    print(\"\\n{} -> 1\".format(IL))\n",
    "    \n",
    "    torch.manual_seed(seed)\n",
    "    model = ANN(IL=IL)\n",
    "    \n",
    "    return model"
   ]
  },
  {
   "cell_type": "markdown",
   "id": "5f7ca5f8",
   "metadata": {
    "papermill": {
     "duration": 0.013026,
     "end_time": "2021-10-06T15:38:39.455973",
     "exception": false,
     "start_time": "2021-10-06T15:38:39.442947",
     "status": "completed"
    },
    "tags": []
   },
   "source": [
    "## Fit and Predict Helpers"
   ]
  },
  {
   "cell_type": "code",
   "execution_count": 8,
   "id": "fb3409ae",
   "metadata": {
    "execution": {
     "iopub.execute_input": "2021-10-06T15:38:39.484568Z",
     "iopub.status.busy": "2021-10-06T15:38:39.483698Z",
     "iopub.status.idle": "2021-10-06T15:38:39.504939Z",
     "shell.execute_reply": "2021-10-06T15:38:39.505364Z",
     "shell.execute_reply.started": "2021-10-06T14:55:41.816784Z"
    },
    "papermill": {
     "duration": 0.036594,
     "end_time": "2021-10-06T15:38:39.505488",
     "exception": false,
     "start_time": "2021-10-06T15:38:39.468894",
     "status": "completed"
    },
    "tags": []
   },
   "outputs": [],
   "source": [
    "def fit(model=None, optimizer=None, scheduler=None, \n",
    "        epochs=None, early_stopping_patience=None,\n",
    "        dataloaders=None, fold=None, verbose=False) -> tuple:\n",
    "    \n",
    "    name = \"./Fold_{}_state.pt\".format(fold)\n",
    "    \n",
    "    breaker()\n",
    "    print(\"Training Fold {}...\".format(fold))\n",
    "    breaker()\n",
    "\n",
    "    Losses = []\n",
    "    bestLoss = {\"train\" : np.inf, \"valid\" : np.inf}\n",
    "\n",
    "    model.to(DEVICE)\n",
    "    start_time = time()\n",
    "    for e in range(epochs):\n",
    "        e_st = time()\n",
    "        epochLoss = {\"train\" : np.inf, \"valid\" : np.inf}\n",
    "\n",
    "        for phase in [\"train\", \"valid\"]:\n",
    "            if phase == \"train\":\n",
    "                model.train()\n",
    "            else:\n",
    "                model.eval()\n",
    "            \n",
    "            lossPerPass = []\n",
    "\n",
    "            for X, y in dataloaders[phase]:\n",
    "                X, y = X.to(DEVICE), y.to(DEVICE)\n",
    "\n",
    "                optimizer.zero_grad()\n",
    "                with torch.set_grad_enabled(phase == \"train\"):\n",
    "                    output = model(X)\n",
    "                    loss = torch.nn.MSELoss()(output, y)\n",
    "                    if phase == \"train\":\n",
    "                        loss.backward()\n",
    "                        optimizer.step()\n",
    "                lossPerPass.append(loss.item())\n",
    "            epochLoss[phase] = np.mean(np.array(lossPerPass))\n",
    "        Losses.append(epochLoss)\n",
    "        \n",
    "        if early_stopping_patience:\n",
    "            if epochLoss[\"valid\"] < bestLoss[\"valid\"]:\n",
    "                bestLoss = epochLoss\n",
    "                BLE = e + 1\n",
    "                torch.save({\"model_state_dict\": model.state_dict(),\n",
    "                            \"optim_state_dict\": optimizer.state_dict()},\n",
    "                           name)\n",
    "                early_stopping_step = 0\n",
    "            else:\n",
    "                early_stopping_step += 1\n",
    "                if early_stopping_step > early_stopping_patience:\n",
    "                    print(\"\\nEarly Stopping at Epoch {}\".format(e))\n",
    "                    break\n",
    "        \n",
    "        if epochLoss[\"valid\"] < bestLoss[\"valid\"]:\n",
    "            bestLoss = epochLoss\n",
    "            BLE = e + 1\n",
    "            torch.save({\"model_state_dict\": model.state_dict(),\n",
    "                        \"optim_state_dict\": optimizer.state_dict()},\n",
    "                       name)\n",
    "        \n",
    "        if scheduler:\n",
    "            scheduler.step(epochLoss[\"valid\"])\n",
    "        \n",
    "        if verbose:\n",
    "            print(\"Epoch: {} | Train Loss: {:.5f} | Valid Loss: {:.5f} | Time: {:.2f} seconds\".format(e+1, epochLoss[\"train\"], epochLoss[\"valid\"], time()-e_st))\n",
    "    \n",
    "    breaker()\n",
    "    print(\"Best Validation Loss at Epoch {}\".format(BLE))\n",
    "    breaker()\n",
    "    print(\"Time Taken [{} Epochs] : {:.2f} minutes\".format(len(Losses), (time()-start_time)/60))\n",
    "    breaker()\n",
    "    print(\"Training Completed\")\n",
    "    breaker()\n",
    "\n",
    "    return Losses, BLE, name\n",
    "\n",
    "#####################################################################################################\n",
    "\n",
    "def predict_batch(model=None, dataloader=None, mode=\"test\", path=None) -> np.ndarray:\n",
    "    model.load_state_dict(torch.load(path, map_location=DEVICE)[\"model_state_dict\"])\n",
    "    model.to(DEVICE)\n",
    "    model.eval()\n",
    "\n",
    "    y_pred = torch.zeros(1, 1).to(DEVICE)\n",
    "    if re.match(r\"valid\", mode, re.IGNORECASE):\n",
    "        for X, _ in dataloader:\n",
    "            X = X.to(DEVICE)\n",
    "            with torch.no_grad():\n",
    "                output = model(X)\n",
    "            y_pred = torch.cat((y_pred, output.view(-1, 1)), dim=0)\n",
    "    elif re.match(r\"test\", mode, re.IGNORECASE):\n",
    "        for X in dataloader:\n",
    "            X = X.to(DEVICE)\n",
    "            with torch.no_grad():\n",
    "                output = model(X)\n",
    "            y_pred = torch.cat((y_pred, output.view(-1, 1)), dim=0)\n",
    "    \n",
    "    return y_pred[1:].detach().cpu().numpy()"
   ]
  },
  {
   "cell_type": "markdown",
   "id": "148d73d5",
   "metadata": {
    "papermill": {
     "duration": 0.011872,
     "end_time": "2021-10-06T15:38:39.529414",
     "exception": false,
     "start_time": "2021-10-06T15:38:39.517542",
     "status": "completed"
    },
    "tags": []
   },
   "source": [
    "## Train Helper"
   ]
  },
  {
   "cell_type": "code",
   "execution_count": 9,
   "id": "e70bdc51",
   "metadata": {
    "execution": {
     "iopub.execute_input": "2021-10-06T15:38:39.565430Z",
     "iopub.status.busy": "2021-10-06T15:38:39.564613Z",
     "iopub.status.idle": "2021-10-06T15:38:39.567251Z",
     "shell.execute_reply": "2021-10-06T15:38:39.566580Z",
     "shell.execute_reply.started": "2021-10-06T14:55:41.860408Z"
    },
    "papermill": {
     "duration": 0.025841,
     "end_time": "2021-10-06T15:38:39.567353",
     "exception": false,
     "start_time": "2021-10-06T15:38:39.541512",
     "status": "completed"
    },
    "tags": []
   },
   "outputs": [],
   "source": [
    "def train(features: np.ndarray, targets: np.ndarray,\n",
    "          n_splits: int, batch_size: int, lr: float, wd: float, \n",
    "          epochs: int, early_stopping: int, \n",
    "          patience=None, eps=None) -> list:        \n",
    "    \n",
    "    metrics = []\n",
    "        \n",
    "    KFold_start_time = time()\n",
    "    breaker()\n",
    "    print(\"Performing {} Fold CV ...\".format(n_splits))\n",
    "    fold = 1\n",
    "    for tr_idx, va_idx in KFold(n_splits=n_splits, shuffle=True, random_state=SEED).split(features):\n",
    "\n",
    "        tr_features, va_features = features[tr_idx], features[va_idx]\n",
    "        tr_targets, va_targets   = targets[tr_idx], targets[va_idx]\n",
    "\n",
    "        tr_targets, va_targets   = tr_targets.reshape(-1, 1), va_targets.reshape(-1, 1)\n",
    "\n",
    "        tr_targets = sc_y.fit_transform(tr_targets)\n",
    "        va_targets = sc_y.transform(va_targets)\n",
    "\n",
    "        dataloaders = build_dataloaders(tr_features, va_features, \n",
    "                                         tr_targets, va_targets, \n",
    "                                         batch_size, SEED)\n",
    "        model = build_model(IL=tr_features.shape[1], seed=SEED)\n",
    "        \n",
    "        optimizer = model.get_optimizer(lr=lr, wd=wd)\n",
    "        scheduler = None\n",
    "        if isinstance(patience, int) and isinstance(eps, float):\n",
    "            scheduler = model.get_plateau_scheduler(optimizer, patience, eps)\n",
    "\n",
    "        L, _, name = fit(model=model, optimizer=optimizer, scheduler=scheduler, \n",
    "                         epochs=epochs, early_stopping_patience=early_stopping,\n",
    "                         dataloaders=dataloaders, fold=fold, verbose=True)\n",
    "        y_pred = predict_batch(model=model, dataloader=dataloaders[\"valid\"], mode=\"valid\", path=name)\n",
    "        RMSE = np.sqrt(mean_squared_error(y_pred, va_targets))\n",
    "        print(\"Validation RMSE [Fold {}]: {:.5f}\".format(fold, RMSE))\n",
    "        breaker()\n",
    "        show_graphs(L)\n",
    "        \n",
    "        metrics_dict = {\"Fold\" : fold, \"RMSE\" : RMSE}\n",
    "        metrics.append(metrics_dict)\n",
    "        \n",
    "        fold += 1\n",
    "    \n",
    "    breaker()\n",
    "    print(\"Total Time to {} Fold CV : {:.2f} minutes\".format(n_splits, (time() - KFold_start_time)/60))\n",
    "    breaker()\n",
    "    \n",
    "    return metrics"
   ]
  },
  {
   "cell_type": "markdown",
   "id": "2c351043",
   "metadata": {
    "papermill": {
     "duration": 0.011536,
     "end_time": "2021-10-06T15:38:39.590295",
     "exception": false,
     "start_time": "2021-10-06T15:38:39.578759",
     "status": "completed"
    },
    "tags": []
   },
   "source": [
    "## Main"
   ]
  },
  {
   "cell_type": "code",
   "execution_count": 10,
   "id": "32efc725",
   "metadata": {
    "execution": {
     "iopub.execute_input": "2021-10-06T15:38:39.621216Z",
     "iopub.status.busy": "2021-10-06T15:38:39.617660Z",
     "iopub.status.idle": "2021-10-06T15:40:47.552768Z",
     "shell.execute_reply": "2021-10-06T15:40:47.552328Z",
     "shell.execute_reply.started": "2021-10-06T14:55:41.874853Z"
    },
    "papermill": {
     "duration": 127.950847,
     "end_time": "2021-10-06T15:40:47.552922",
     "exception": false,
     "start_time": "2021-10-06T15:38:39.602075",
     "status": "completed"
    },
    "tags": []
   },
   "outputs": [
    {
     "name": "stdout",
     "output_type": "stream",
     "text": [
      "\n",
      "**************************************************\n",
      "\n",
      "Loading Data ...\n",
      "\n",
      "**************************************************\n",
      "\n",
      "Performing 10 Fold CV ...\n",
      "\n",
      "**************************************************\n",
      "\n",
      "Building Train and Validation DataLoaders ...\n",
      "\n",
      "**************************************************\n",
      "\n",
      "Building Model ...\n",
      "\n",
      "1664 -> 1\n",
      "\n",
      "**************************************************\n",
      "\n",
      "Training Fold 1...\n",
      "\n",
      "**************************************************\n",
      "\n",
      "Epoch: 1 | Train Loss: 0.86662 | Valid Loss: 0.79630 | Time: 0.77 seconds\n",
      "Epoch: 2 | Train Loss: 0.80496 | Valid Loss: 0.78204 | Time: 0.69 seconds\n",
      "Epoch: 3 | Train Loss: 0.79146 | Valid Loss: 0.78545 | Time: 0.84 seconds\n",
      "Epoch: 4 | Train Loss: 0.78548 | Valid Loss: 0.77091 | Time: 0.70 seconds\n",
      "Epoch: 5 | Train Loss: 0.77215 | Valid Loss: 0.78958 | Time: 0.68 seconds\n",
      "Epoch: 6 | Train Loss: 0.76853 | Valid Loss: 0.78263 | Time: 0.68 seconds\n",
      "Epoch: 7 | Train Loss: 0.76724 | Valid Loss: 0.77632 | Time: 0.68 seconds\n",
      "Epoch: 8 | Train Loss: 0.76487 | Valid Loss: 0.76775 | Time: 0.69 seconds\n",
      "Epoch: 9 | Train Loss: 0.76393 | Valid Loss: 0.78325 | Time: 0.68 seconds\n",
      "Epoch: 10 | Train Loss: 0.76161 | Valid Loss: 0.77087 | Time: 0.70 seconds\n",
      "Epoch: 11 | Train Loss: 0.75975 | Valid Loss: 0.76492 | Time: 0.72 seconds\n",
      "Epoch: 12 | Train Loss: 0.75959 | Valid Loss: 0.77839 | Time: 0.70 seconds\n",
      "Epoch: 13 | Train Loss: 0.75709 | Valid Loss: 0.76817 | Time: 0.70 seconds\n",
      "Epoch: 14 | Train Loss: 0.75566 | Valid Loss: 0.77616 | Time: 0.69 seconds\n",
      "Epoch: 15 | Train Loss: 0.74647 | Valid Loss: 0.76724 | Time: 0.69 seconds\n",
      "Epoch: 16 | Train Loss: 0.75369 | Valid Loss: 0.77030 | Time: 0.68 seconds\n",
      "Epoch: 17 | Train Loss: 0.74943 | Valid Loss: 0.77881 | Time: 0.68 seconds\n",
      "Epoch: 18 | Train Loss: 0.75165 | Valid Loss: 0.78709 | Time: 0.69 seconds\n",
      "Epoch: 19 | Train Loss: 0.74734 | Valid Loss: 0.77620 | Time: 0.86 seconds\n",
      "\n",
      "Early Stopping at Epoch 19\n",
      "\n",
      "**************************************************\n",
      "\n",
      "Best Validation Loss at Epoch 11\n",
      "\n",
      "**************************************************\n",
      "\n",
      "Time Taken [20 Epochs] : 0.24 minutes\n",
      "\n",
      "**************************************************\n",
      "\n",
      "Training Completed\n",
      "\n",
      "**************************************************\n",
      "\n",
      "Validation RMSE [Fold 1]: 0.87460\n",
      "\n",
      "**************************************************\n",
      "\n"
     ]
    },
    {
     "data": {
      "image/png": "[encoded data removed]",
      "text/plain": [
       "<Figure size 432x288 with 1 Axes>"
      ]
     },
     "metadata": {
      "needs_background": "light"
     },
     "output_type": "display_data"
    },
    {
     "name": "stdout",
     "output_type": "stream",
     "text": [
      "\n",
      "**************************************************\n",
      "\n",
      "Building Train and Validation DataLoaders ...\n",
      "\n",
      "**************************************************\n",
      "\n",
      "Building Model ...\n",
      "\n",
      "1664 -> 1\n",
      "\n",
      "**************************************************\n",
      "\n",
      "Training Fold 2...\n",
      "\n",
      "**************************************************\n",
      "\n",
      "Epoch: 1 | Train Loss: 0.87126 | Valid Loss: 0.92526 | Time: 0.99 seconds\n",
      "Epoch: 2 | Train Loss: 0.81541 | Valid Loss: 0.89263 | Time: 0.72 seconds\n",
      "Epoch: 3 | Train Loss: 0.79516 | Valid Loss: 0.88230 | Time: 0.69 seconds\n",
      "Epoch: 4 | Train Loss: 0.78779 | Valid Loss: 0.88774 | Time: 0.68 seconds\n",
      "Epoch: 5 | Train Loss: 0.77959 | Valid Loss: 0.88439 | Time: 0.68 seconds\n",
      "Epoch: 6 | Train Loss: 0.77479 | Valid Loss: 0.89560 | Time: 0.70 seconds\n",
      "Epoch: 7 | Train Loss: 0.77191 | Valid Loss: 0.88808 | Time: 0.68 seconds\n",
      "Epoch: 8 | Train Loss: 0.76795 | Valid Loss: 0.88448 | Time: 0.68 seconds\n",
      "Epoch: 9 | Train Loss: 0.76331 | Valid Loss: 0.88459 | Time: 0.68 seconds\n",
      "Epoch: 10 | Train Loss: 0.76009 | Valid Loss: 0.88646 | Time: 0.68 seconds\n",
      "Epoch: 11 | Train Loss: 0.76000 | Valid Loss: 0.87953 | Time: 0.68 seconds\n",
      "Epoch: 12 | Train Loss: 0.75556 | Valid Loss: 0.88614 | Time: 0.68 seconds\n",
      "Epoch: 13 | Train Loss: 0.75413 | Valid Loss: 0.90379 | Time: 0.69 seconds\n",
      "Epoch: 14 | Train Loss: 0.75511 | Valid Loss: 0.88968 | Time: 0.90 seconds\n",
      "Epoch: 15 | Train Loss: 0.75807 | Valid Loss: 0.88787 | Time: 0.69 seconds\n",
      "Epoch: 16 | Train Loss: 0.75339 | Valid Loss: 0.89339 | Time: 0.68 seconds\n",
      "Epoch: 17 | Train Loss: 0.75362 | Valid Loss: 0.89384 | Time: 0.68 seconds\n",
      "Epoch: 18 | Train Loss: 0.74990 | Valid Loss: 0.88542 | Time: 0.68 seconds\n",
      "Epoch: 19 | Train Loss: 0.75073 | Valid Loss: 0.89244 | Time: 0.68 seconds\n",
      "\n",
      "Early Stopping at Epoch 19\n",
      "\n",
      "**************************************************\n",
      "\n",
      "Best Validation Loss at Epoch 11\n",
      "\n",
      "**************************************************\n",
      "\n",
      "Time Taken [20 Epochs] : 0.24 minutes\n",
      "\n",
      "**************************************************\n",
      "\n",
      "Training Completed\n",
      "\n",
      "**************************************************\n",
      "\n",
      "Validation RMSE [Fold 2]: 0.93783\n",
      "\n",
      "**************************************************\n",
      "\n"
     ]
    },
    {
     "data": {
      "image/png": "[encoded data removed]",
      "text/plain": [
       "<Figure size 432x288 with 1 Axes>"
      ]
     },
     "metadata": {
      "needs_background": "light"
     },
     "output_type": "display_data"
    },
    {
     "name": "stdout",
     "output_type": "stream",
     "text": [
      "\n",
      "**************************************************\n",
      "\n",
      "Building Train and Validation DataLoaders ...\n",
      "\n",
      "**************************************************\n",
      "\n",
      "Building Model ...\n",
      "\n",
      "1664 -> 1\n",
      "\n",
      "**************************************************\n",
      "\n",
      "Training Fold 3...\n",
      "\n",
      "**************************************************\n",
      "\n",
      "Epoch: 1 | Train Loss: 0.86345 | Valid Loss: 0.69403 | Time: 0.70 seconds\n",
      "Epoch: 2 | Train Loss: 0.81083 | Valid Loss: 0.69815 | Time: 0.69 seconds\n",
      "Epoch: 3 | Train Loss: 0.79648 | Valid Loss: 0.69330 | Time: 0.69 seconds\n",
      "Epoch: 4 | Train Loss: 0.78760 | Valid Loss: 0.69905 | Time: 0.68 seconds\n",
      "Epoch: 5 | Train Loss: 0.78206 | Valid Loss: 0.70076 | Time: 0.68 seconds\n",
      "Epoch: 6 | Train Loss: 0.77263 | Valid Loss: 0.68880 | Time: 0.68 seconds\n",
      "Epoch: 7 | Train Loss: 0.76784 | Valid Loss: 0.69229 | Time: 0.69 seconds\n",
      "Epoch: 8 | Train Loss: 0.76624 | Valid Loss: 0.71288 | Time: 0.69 seconds\n",
      "Epoch: 9 | Train Loss: 0.76221 | Valid Loss: 0.69212 | Time: 0.85 seconds\n",
      "Epoch: 10 | Train Loss: 0.76044 | Valid Loss: 0.70013 | Time: 0.68 seconds\n",
      "Epoch: 11 | Train Loss: 0.75430 | Valid Loss: 0.70725 | Time: 0.69 seconds\n",
      "Epoch: 12 | Train Loss: 0.76020 | Valid Loss: 0.70001 | Time: 0.70 seconds\n",
      "Epoch: 13 | Train Loss: 0.75536 | Valid Loss: 0.70685 | Time: 0.68 seconds\n",
      "Epoch: 14 | Train Loss: 0.75197 | Valid Loss: 0.70515 | Time: 0.71 seconds\n",
      "\n",
      "Early Stopping at Epoch 14\n",
      "\n",
      "**************************************************\n",
      "\n",
      "Best Validation Loss at Epoch 6\n",
      "\n",
      "**************************************************\n",
      "\n",
      "Time Taken [15 Epochs] : 0.18 minutes\n",
      "\n",
      "**************************************************\n",
      "\n",
      "Training Completed\n",
      "\n",
      "**************************************************\n",
      "\n",
      "Validation RMSE [Fold 3]: 0.82993\n",
      "\n",
      "**************************************************\n",
      "\n"
     ]
    },
    {
     "data": {
      "image/png": "[encoded data removed]",
      "text/plain": [
       "<Figure size 432x288 with 1 Axes>"
      ]
     },
     "metadata": {
      "needs_background": "light"
     },
     "output_type": "display_data"
    },
    {
     "name": "stdout",
     "output_type": "stream",
     "text": [
      "\n",
      "**************************************************\n",
      "\n",
      "Building Train and Validation DataLoaders ...\n",
      "\n",
      "**************************************************\n",
      "\n",
      "Building Model ...\n",
      "\n",
      "1664 -> 1\n",
      "\n",
      "**************************************************\n",
      "\n",
      "Training Fold 4...\n",
      "\n",
      "**************************************************\n",
      "\n",
      "Epoch: 1 | Train Loss: 0.86383 | Valid Loss: 0.79408 | Time: 0.73 seconds\n",
      "Epoch: 2 | Train Loss: 0.80576 | Valid Loss: 0.79719 | Time: 0.69 seconds\n",
      "Epoch: 3 | Train Loss: 0.78587 | Valid Loss: 0.79484 | Time: 0.68 seconds\n",
      "Epoch: 4 | Train Loss: 0.78316 | Valid Loss: 0.79503 | Time: 0.69 seconds\n",
      "Epoch: 5 | Train Loss: 0.77888 | Valid Loss: 0.79342 | Time: 0.71 seconds\n",
      "Epoch: 6 | Train Loss: 0.77563 | Valid Loss: 0.79114 | Time: 0.69 seconds\n",
      "Epoch: 7 | Train Loss: 0.76762 | Valid Loss: 0.79399 | Time: 0.69 seconds\n",
      "Epoch: 8 | Train Loss: 0.76487 | Valid Loss: 0.78951 | Time: 0.69 seconds\n",
      "Epoch: 9 | Train Loss: 0.75807 | Valid Loss: 0.79953 | Time: 0.84 seconds\n",
      "Epoch: 10 | Train Loss: 0.76038 | Valid Loss: 0.78879 | Time: 0.85 seconds\n",
      "Epoch: 11 | Train Loss: 0.75641 | Valid Loss: 0.78954 | Time: 0.87 seconds\n",
      "Epoch: 12 | Train Loss: 0.75634 | Valid Loss: 0.80890 | Time: 0.68 seconds\n",
      "Epoch: 13 | Train Loss: 0.75535 | Valid Loss: 0.80745 | Time: 0.71 seconds\n",
      "Epoch: 14 | Train Loss: 0.75079 | Valid Loss: 0.80791 | Time: 0.69 seconds\n",
      "Epoch: 15 | Train Loss: 0.74579 | Valid Loss: 0.78808 | Time: 0.70 seconds\n",
      "Epoch: 16 | Train Loss: 0.75099 | Valid Loss: 0.82524 | Time: 0.69 seconds\n",
      "Epoch: 17 | Train Loss: 0.75244 | Valid Loss: 0.79744 | Time: 0.68 seconds\n",
      "Epoch: 18 | Train Loss: 0.74744 | Valid Loss: 0.79163 | Time: 0.69 seconds\n",
      "Epoch: 19 | Train Loss: 0.74898 | Valid Loss: 0.80217 | Time: 0.68 seconds\n",
      "Epoch: 20 | Train Loss: 0.74463 | Valid Loss: 0.79967 | Time: 0.70 seconds\n",
      "Epoch: 21 | Train Loss: 0.74701 | Valid Loss: 0.78598 | Time: 0.68 seconds\n",
      "Epoch: 22 | Train Loss: 0.74425 | Valid Loss: 0.80243 | Time: 0.68 seconds\n",
      "Epoch: 23 | Train Loss: 0.74383 | Valid Loss: 0.79016 | Time: 0.69 seconds\n",
      "Epoch: 24 | Train Loss: 0.74160 | Valid Loss: 0.79306 | Time: 0.77 seconds\n",
      "Epoch: 25 | Train Loss: 0.74110 | Valid Loss: 0.78848 | Time: 0.78 seconds\n",
      "Epoch: 26 | Train Loss: 0.74664 | Valid Loss: 0.82932 | Time: 0.70 seconds\n",
      "Epoch: 27 | Train Loss: 0.74155 | Valid Loss: 0.80687 | Time: 0.72 seconds\n",
      "Epoch: 28 | Train Loss: 0.74815 | Valid Loss: 0.80677 | Time: 0.69 seconds\n",
      "Epoch: 29 | Train Loss: 0.74108 | Valid Loss: 0.79844 | Time: 0.70 seconds\n",
      "\n",
      "Early Stopping at Epoch 29\n",
      "\n",
      "**************************************************\n",
      "\n",
      "Best Validation Loss at Epoch 21\n",
      "\n",
      "**************************************************\n",
      "\n",
      "Time Taken [30 Epochs] : 0.36 minutes\n",
      "\n",
      "**************************************************\n",
      "\n",
      "Training Completed\n",
      "\n",
      "**************************************************\n",
      "\n",
      "Validation RMSE [Fold 4]: 0.88648\n",
      "\n",
      "**************************************************\n",
      "\n"
     ]
    },
    {
     "data": {
      "image/png": "[encoded data removed]",
      "text/plain": [
       "<Figure size 432x288 with 1 Axes>"
      ]
     },
     "metadata": {
      "needs_background": "light"
     },
     "output_type": "display_data"
    },
    {
     "name": "stdout",
     "output_type": "stream",
     "text": [
      "\n",
      "**************************************************\n",
      "\n",
      "Building Train and Validation DataLoaders ...\n",
      "\n",
      "**************************************************\n",
      "\n",
      "Building Model ...\n",
      "\n",
      "1664 -> 1\n",
      "\n",
      "**************************************************\n",
      "\n",
      "Training Fold 5...\n",
      "\n",
      "**************************************************\n",
      "\n",
      "Epoch: 1 | Train Loss: 0.86489 | Valid Loss: 0.86851 | Time: 0.70 seconds\n",
      "Epoch: 2 | Train Loss: 0.80832 | Valid Loss: 0.85288 | Time: 0.70 seconds\n",
      "Epoch: 3 | Train Loss: 0.79086 | Valid Loss: 0.85825 | Time: 0.70 seconds\n",
      "Epoch: 4 | Train Loss: 0.77684 | Valid Loss: 0.84539 | Time: 0.70 seconds\n",
      "Epoch: 5 | Train Loss: 0.77265 | Valid Loss: 0.86486 | Time: 0.69 seconds\n",
      "Epoch: 6 | Train Loss: 0.76397 | Valid Loss: 0.88415 | Time: 0.69 seconds\n",
      "Epoch: 7 | Train Loss: 0.76461 | Valid Loss: 0.86364 | Time: 0.69 seconds\n",
      "Epoch: 8 | Train Loss: 0.75471 | Valid Loss: 0.87375 | Time: 0.70 seconds\n",
      "Epoch: 9 | Train Loss: 0.75208 | Valid Loss: 0.86750 | Time: 0.71 seconds\n",
      "Epoch: 10 | Train Loss: 0.75590 | Valid Loss: 0.88538 | Time: 0.85 seconds\n",
      "Epoch: 11 | Train Loss: 0.75435 | Valid Loss: 0.88874 | Time: 0.72 seconds\n",
      "Epoch: 12 | Train Loss: 0.75217 | Valid Loss: 0.89708 | Time: 0.69 seconds\n",
      "\n",
      "Early Stopping at Epoch 12\n",
      "\n",
      "**************************************************\n",
      "\n",
      "Best Validation Loss at Epoch 4\n",
      "\n",
      "**************************************************\n",
      "\n",
      "Time Taken [13 Epochs] : 0.15 minutes\n",
      "\n",
      "**************************************************\n",
      "\n",
      "Training Completed\n",
      "\n",
      "**************************************************\n",
      "\n",
      "Validation RMSE [Fold 5]: 0.91956\n",
      "\n",
      "**************************************************\n",
      "\n"
     ]
    },
    {
     "data": {
      "image/png": "[encoded data removed]",
      "text/plain": [
       "<Figure size 432x288 with 1 Axes>"
      ]
     },
     "metadata": {
      "needs_background": "light"
     },
     "output_type": "display_data"
    },
    {
     "name": "stdout",
     "output_type": "stream",
     "text": [
      "\n",
      "**************************************************\n",
      "\n",
      "Building Train and Validation DataLoaders ...\n",
      "\n",
      "**************************************************\n",
      "\n",
      "Building Model ...\n",
      "\n",
      "1664 -> 1\n",
      "\n",
      "**************************************************\n",
      "\n",
      "Training Fold 6...\n",
      "\n",
      "**************************************************\n",
      "\n",
      "Epoch: 1 | Train Loss: 0.86498 | Valid Loss: 0.84574 | Time: 0.68 seconds\n",
      "Epoch: 2 | Train Loss: 0.80309 | Valid Loss: 0.84179 | Time: 0.68 seconds\n",
      "Epoch: 3 | Train Loss: 0.79646 | Valid Loss: 0.86215 | Time: 0.70 seconds\n",
      "Epoch: 4 | Train Loss: 0.78465 | Valid Loss: 0.83659 | Time: 0.71 seconds\n",
      "Epoch: 5 | Train Loss: 0.77381 | Valid Loss: 0.83019 | Time: 0.69 seconds\n",
      "Epoch: 6 | Train Loss: 0.77379 | Valid Loss: 0.83417 | Time: 0.69 seconds\n",
      "Epoch: 7 | Train Loss: 0.77089 | Valid Loss: 0.82721 | Time: 0.69 seconds\n",
      "Epoch: 8 | Train Loss: 0.76472 | Valid Loss: 0.82982 | Time: 0.68 seconds\n",
      "Epoch: 9 | Train Loss: 0.76983 | Valid Loss: 0.83291 | Time: 0.69 seconds\n",
      "Epoch: 10 | Train Loss: 0.75876 | Valid Loss: 0.82558 | Time: 0.70 seconds\n",
      "Epoch: 11 | Train Loss: 0.75886 | Valid Loss: 0.83358 | Time: 0.69 seconds\n",
      "Epoch: 12 | Train Loss: 0.76087 | Valid Loss: 0.83705 | Time: 1.00 seconds\n",
      "Epoch: 13 | Train Loss: 0.76064 | Valid Loss: 0.83779 | Time: 0.89 seconds\n",
      "Epoch: 14 | Train Loss: 0.75414 | Valid Loss: 0.83216 | Time: 0.70 seconds\n",
      "Epoch: 15 | Train Loss: 0.75612 | Valid Loss: 0.83781 | Time: 0.68 seconds\n",
      "Epoch: 16 | Train Loss: 0.75919 | Valid Loss: 0.83480 | Time: 0.68 seconds\n",
      "Epoch: 17 | Train Loss: 0.74854 | Valid Loss: 0.83728 | Time: 0.69 seconds\n",
      "Epoch: 18 | Train Loss: 0.75597 | Valid Loss: 0.83101 | Time: 0.70 seconds\n",
      "\n",
      "Early Stopping at Epoch 18\n",
      "\n",
      "**************************************************\n",
      "\n",
      "Best Validation Loss at Epoch 10\n",
      "\n",
      "**************************************************\n",
      "\n",
      "Time Taken [19 Epochs] : 0.23 minutes\n",
      "\n",
      "**************************************************\n",
      "\n",
      "Training Completed\n",
      "\n",
      "**************************************************\n",
      "\n",
      "Validation RMSE [Fold 6]: 0.90887\n",
      "\n",
      "**************************************************\n",
      "\n"
     ]
    },
    {
     "data": {
      "image/png": "[encoded data removed]",
      "text/plain": [
       "<Figure size 432x288 with 1 Axes>"
      ]
     },
     "metadata": {
      "needs_background": "light"
     },
     "output_type": "display_data"
    },
    {
     "name": "stdout",
     "output_type": "stream",
     "text": [
      "\n",
      "**************************************************\n",
      "\n",
      "Building Train and Validation DataLoaders ...\n",
      "\n",
      "**************************************************\n",
      "\n",
      "Building Model ...\n",
      "\n",
      "1664 -> 1\n",
      "\n",
      "**************************************************\n",
      "\n",
      "Training Fold 7...\n",
      "\n",
      "**************************************************\n",
      "\n",
      "Epoch: 1 | Train Loss: 0.87145 | Valid Loss: 0.89615 | Time: 0.69 seconds\n",
      "Epoch: 2 | Train Loss: 0.81242 | Valid Loss: 0.88350 | Time: 0.69 seconds\n",
      "Epoch: 3 | Train Loss: 0.79723 | Valid Loss: 0.90333 | Time: 0.69 seconds\n",
      "Epoch: 4 | Train Loss: 0.78527 | Valid Loss: 0.91922 | Time: 0.67 seconds\n",
      "Epoch: 5 | Train Loss: 0.77883 | Valid Loss: 0.89513 | Time: 0.68 seconds\n",
      "Epoch: 6 | Train Loss: 0.77187 | Valid Loss: 0.89944 | Time: 0.71 seconds\n",
      "Epoch: 7 | Train Loss: 0.76467 | Valid Loss: 0.91546 | Time: 0.69 seconds\n",
      "Epoch: 8 | Train Loss: 0.76745 | Valid Loss: 0.92445 | Time: 0.86 seconds\n",
      "Epoch: 9 | Train Loss: 0.76565 | Valid Loss: 0.90370 | Time: 0.68 seconds\n",
      "Epoch: 10 | Train Loss: 0.76327 | Valid Loss: 0.90620 | Time: 0.68 seconds\n",
      "\n",
      "Early Stopping at Epoch 10\n",
      "\n",
      "**************************************************\n",
      "\n",
      "Best Validation Loss at Epoch 2\n",
      "\n",
      "**************************************************\n",
      "\n",
      "Time Taken [11 Epochs] : 0.13 minutes\n",
      "\n",
      "**************************************************\n",
      "\n",
      "Training Completed\n",
      "\n",
      "**************************************************\n",
      "\n",
      "Validation RMSE [Fold 7]: 0.94001\n",
      "\n",
      "**************************************************\n",
      "\n"
     ]
    },
    {
     "data": {
      "image/png": "[encoded data removed]",
      "text/plain": [
       "<Figure size 432x288 with 1 Axes>"
      ]
     },
     "metadata": {
      "needs_background": "light"
     },
     "output_type": "display_data"
    },
    {
     "name": "stdout",
     "output_type": "stream",
     "text": [
      "\n",
      "**************************************************\n",
      "\n",
      "Building Train and Validation DataLoaders ...\n",
      "\n",
      "**************************************************\n",
      "\n",
      "Building Model ...\n",
      "\n",
      "1664 -> 1\n",
      "\n",
      "**************************************************\n",
      "\n",
      "Training Fold 8...\n",
      "\n",
      "**************************************************\n",
      "\n",
      "Epoch: 1 | Train Loss: 0.86516 | Valid Loss: 0.85970 | Time: 0.68 seconds\n",
      "Epoch: 2 | Train Loss: 0.80611 | Valid Loss: 0.87331 | Time: 0.68 seconds\n",
      "Epoch: 3 | Train Loss: 0.79297 | Valid Loss: 0.85877 | Time: 0.68 seconds\n",
      "Epoch: 4 | Train Loss: 0.78435 | Valid Loss: 0.85324 | Time: 0.68 seconds\n",
      "Epoch: 5 | Train Loss: 0.77113 | Valid Loss: 0.88067 | Time: 0.68 seconds\n",
      "Epoch: 6 | Train Loss: 0.77245 | Valid Loss: 0.86409 | Time: 0.69 seconds\n",
      "Epoch: 7 | Train Loss: 0.76250 | Valid Loss: 0.87911 | Time: 0.68 seconds\n",
      "Epoch: 8 | Train Loss: 0.76234 | Valid Loss: 0.87925 | Time: 0.68 seconds\n",
      "Epoch: 9 | Train Loss: 0.76401 | Valid Loss: 0.87137 | Time: 0.72 seconds\n",
      "Epoch: 10 | Train Loss: 0.75856 | Valid Loss: 0.87592 | Time: 0.69 seconds\n",
      "Epoch: 11 | Train Loss: 0.75446 | Valid Loss: 0.88750 | Time: 0.68 seconds\n",
      "Epoch: 12 | Train Loss: 0.75663 | Valid Loss: 0.87390 | Time: 0.84 seconds\n",
      "\n",
      "Early Stopping at Epoch 12\n",
      "\n",
      "**************************************************\n",
      "\n",
      "Best Validation Loss at Epoch 4\n",
      "\n",
      "**************************************************\n",
      "\n",
      "Time Taken [13 Epochs] : 0.15 minutes\n",
      "\n",
      "**************************************************\n",
      "\n",
      "Training Completed\n",
      "\n",
      "**************************************************\n",
      "\n",
      "Validation RMSE [Fold 8]: 0.92358\n",
      "\n",
      "**************************************************\n",
      "\n"
     ]
    },
    {
     "data": {
      "image/png": "[encoded data removed]",
      "text/plain": [
       "<Figure size 432x288 with 1 Axes>"
      ]
     },
     "metadata": {
      "needs_background": "light"
     },
     "output_type": "display_data"
    },
    {
     "name": "stdout",
     "output_type": "stream",
     "text": [
      "\n",
      "**************************************************\n",
      "\n",
      "Building Train and Validation DataLoaders ...\n",
      "\n",
      "**************************************************\n",
      "\n",
      "Building Model ...\n",
      "\n",
      "1664 -> 1\n",
      "\n",
      "**************************************************\n",
      "\n",
      "Training Fold 9...\n",
      "\n",
      "**************************************************\n",
      "\n",
      "Epoch: 1 | Train Loss: 0.87733 | Valid Loss: 0.76603 | Time: 0.69 seconds\n",
      "Epoch: 2 | Train Loss: 0.81691 | Valid Loss: 0.75839 | Time: 0.69 seconds\n",
      "Epoch: 3 | Train Loss: 0.79645 | Valid Loss: 0.75929 | Time: 0.68 seconds\n",
      "Epoch: 4 | Train Loss: 0.79260 | Valid Loss: 0.74392 | Time: 0.68 seconds\n",
      "Epoch: 5 | Train Loss: 0.78080 | Valid Loss: 0.76633 | Time: 0.68 seconds\n",
      "Epoch: 6 | Train Loss: 0.77419 | Valid Loss: 0.76170 | Time: 0.70 seconds\n",
      "Epoch: 7 | Train Loss: 0.76712 | Valid Loss: 0.77394 | Time: 0.69 seconds\n",
      "Epoch: 8 | Train Loss: 0.76373 | Valid Loss: 0.76407 | Time: 0.70 seconds\n",
      "Epoch: 9 | Train Loss: 0.76748 | Valid Loss: 0.76812 | Time: 0.69 seconds\n",
      "Epoch: 10 | Train Loss: 0.76874 | Valid Loss: 0.77469 | Time: 0.71 seconds\n",
      "Epoch: 11 | Train Loss: 0.76189 | Valid Loss: 0.75951 | Time: 0.69 seconds\n",
      "Epoch: 12 | Train Loss: 0.76018 | Valid Loss: 0.78331 | Time: 0.70 seconds\n",
      "\n",
      "Early Stopping at Epoch 12\n",
      "\n",
      "**************************************************\n",
      "\n",
      "Best Validation Loss at Epoch 4\n",
      "\n",
      "**************************************************\n",
      "\n",
      "Time Taken [13 Epochs] : 0.15 minutes\n",
      "\n",
      "**************************************************\n",
      "\n",
      "Training Completed\n",
      "\n",
      "**************************************************\n",
      "\n",
      "Validation RMSE [Fold 9]: 0.86246\n",
      "\n",
      "**************************************************\n",
      "\n"
     ]
    },
    {
     "data": {
      "image/png": "[encoded data removed]",
      "text/plain": [
       "<Figure size 432x288 with 1 Axes>"
      ]
     },
     "metadata": {
      "needs_background": "light"
     },
     "output_type": "display_data"
    },
    {
     "name": "stdout",
     "output_type": "stream",
     "text": [
      "\n",
      "**************************************************\n",
      "\n",
      "Building Train and Validation DataLoaders ...\n",
      "\n",
      "**************************************************\n",
      "\n",
      "Building Model ...\n",
      "\n",
      "1664 -> 1\n",
      "\n",
      "**************************************************\n",
      "\n",
      "Training Fold 10...\n",
      "\n",
      "**************************************************\n",
      "\n",
      "Epoch: 1 | Train Loss: 0.85872 | Valid Loss: 0.81950 | Time: 0.94 seconds\n",
      "Epoch: 2 | Train Loss: 0.80726 | Valid Loss: 0.81350 | Time: 0.96 seconds\n",
      "Epoch: 3 | Train Loss: 0.78930 | Valid Loss: 0.80018 | Time: 0.70 seconds\n",
      "Epoch: 4 | Train Loss: 0.78406 | Valid Loss: 0.83237 | Time: 0.72 seconds\n",
      "Epoch: 5 | Train Loss: 0.77435 | Valid Loss: 0.83834 | Time: 0.68 seconds\n",
      "Epoch: 6 | Train Loss: 0.76846 | Valid Loss: 0.81741 | Time: 0.68 seconds\n",
      "Epoch: 7 | Train Loss: 0.76410 | Valid Loss: 0.81970 | Time: 0.68 seconds\n",
      "Epoch: 8 | Train Loss: 0.76124 | Valid Loss: 0.81755 | Time: 0.68 seconds\n",
      "Epoch: 9 | Train Loss: 0.76175 | Valid Loss: 0.82840 | Time: 0.68 seconds\n",
      "Epoch: 10 | Train Loss: 0.75254 | Valid Loss: 0.85903 | Time: 0.69 seconds\n",
      "Epoch: 11 | Train Loss: 0.75600 | Valid Loss: 0.85068 | Time: 0.68 seconds\n",
      "\n",
      "Early Stopping at Epoch 11\n",
      "\n",
      "**************************************************\n",
      "\n",
      "Best Validation Loss at Epoch 3\n",
      "\n",
      "**************************************************\n",
      "\n",
      "Time Taken [12 Epochs] : 0.15 minutes\n",
      "\n",
      "**************************************************\n",
      "\n",
      "Training Completed\n",
      "\n",
      "**************************************************\n",
      "\n",
      "Validation RMSE [Fold 10]: 0.89471\n",
      "\n",
      "**************************************************\n",
      "\n"
     ]
    },
    {
     "data": {
      "image/png": "[encoded data removed]",
      "text/plain": [
       "<Figure size 432x288 with 1 Axes>"
      ]
     },
     "metadata": {
      "needs_background": "light"
     },
     "output_type": "display_data"
    },
    {
     "name": "stdout",
     "output_type": "stream",
     "text": [
      "\n",
      "**************************************************\n",
      "\n",
      "Total Time to 10 Fold CV : 2.10 minutes\n",
      "\n",
      "**************************************************\n",
      "\n",
      "{'Fold': 1, 'RMSE': 0.8745979219732662}\n",
      "{'Fold': 2, 'RMSE': 0.9378327228297468}\n",
      "{'Fold': 3, 'RMSE': 0.8299325180556442}\n",
      "{'Fold': 4, 'RMSE': 0.8864756141563374}\n",
      "{'Fold': 5, 'RMSE': 0.9195620044678784}\n",
      "{'Fold': 6, 'RMSE': 0.9088654946681906}\n",
      "{'Fold': 7, 'RMSE': 0.9400073912404386}\n",
      "{'Fold': 8, 'RMSE': 0.9235800671185909}\n",
      "{'Fold': 9, 'RMSE': 0.8624583472384899}\n",
      "{'Fold': 10, 'RMSE': 0.8947128286274605}\n",
      "\n",
      "**************************************************\n",
      "\n"
     ]
    }
   ],
   "source": [
    "def main():\n",
    "    DEBUG = False\n",
    "    \n",
    "    ########### Params ###########\n",
    "    \n",
    "    if DEBUG:\n",
    "        n_splits = 3\n",
    "        batch_size = 512\n",
    "        lr, wd = 1e-3, 0\n",
    "        patience, eps = 5, 1e-8\n",
    "        epochs, early_stopping = 5, 5\n",
    "    else:\n",
    "        n_splits = 10\n",
    "        batch_size = 32\n",
    "        lr, wd = 1e-2, 0\n",
    "        patience, eps = 5, 1e-8\n",
    "        epochs, early_stopping = 100, 8\n",
    "    \n",
    "    ##############################\n",
    "\n",
    "    breaker()\n",
    "    print(\"Loading Data ...\")\n",
    "    \n",
    "    features = np.load(os.path.join(FEATURES_PATH, \"densenet_features.npy\"))\n",
    "    targets = get_targets(PATH)\n",
    "\n",
    "    # Without Scheduler\n",
    "    metrics = train(features, targets, n_splits, batch_size, lr, wd, epochs, early_stopping, patience=None, eps=None)\n",
    "    \n",
    "    # # With Plateau Scheduler\n",
    "    # metrics = train(features, targets, n_splits, batch_size, lr, wd, epochs, early_stopping, patience=patience, eps=eps)    \n",
    "    \n",
    "    for i in range(len(metrics)):\n",
    "        print(metrics[i])\n",
    "\n",
    "    with open(\"metrics.pkl\", \"wb\") as fp:\n",
    "        pickle.dump(metrics, fp)\n",
    "    \n",
    "    breaker()\n",
    "\n",
    "main()"
   ]
  },
  {
   "cell_type": "code",
   "execution_count": 11,
   "id": "d0bad7d8",
   "metadata": {
    "execution": {
     "iopub.execute_input": "2021-10-06T15:40:47.690845Z",
     "iopub.status.busy": "2021-10-06T15:40:47.689069Z",
     "iopub.status.idle": "2021-10-06T15:40:47.693190Z",
     "shell.execute_reply": "2021-10-06T15:40:47.692683Z",
     "shell.execute_reply.started": "2021-10-06T14:55:46.659053Z"
    },
    "papermill": {
     "duration": 0.074833,
     "end_time": "2021-10-06T15:40:47.693331",
     "exception": false,
     "start_time": "2021-10-06T15:40:47.618498",
     "status": "completed"
    },
    "tags": []
   },
   "outputs": [
    {
     "name": "stdout",
     "output_type": "stream",
     "text": [
      "\n",
      "**************************************************\n",
      "\n",
      "Notebook Run Time : 2.23 minutes\n",
      "\n",
      "**************************************************\n",
      "\n"
     ]
    }
   ],
   "source": [
    "breaker()\n",
    "print(\"Notebook Run Time : {:.2f} minutes\".format((time()-notebook_start_time)/60))\n",
    "breaker()"
   ]
  }
 ],
 "metadata": {
  "kernelspec": {
   "display_name": "Python 3",
   "language": "python",
   "name": "python3"
  },
  "language_info": {
   "codemirror_mode": {
    "name": "ipython",
    "version": 3
   },
   "file_extension": ".py",
   "mimetype": "text/x-python",
   "name": "python",
   "nbconvert_exporter": "python",
   "pygments_lexer": "ipython3",
   "version": "3.7.10"
  },
  "papermill": {
   "default_parameters": {},
   "duration": 142.768326,
   "end_time": "2021-10-06T15:40:49.450386",
   "environment_variables": {},
   "exception": null,
   "input_path": "__notebook__.ipynb",
   "output_path": "__notebook__.ipynb",
   "parameters": {},
   "start_time": "2021-10-06T15:38:26.682060",
   "version": "2.3.3"
  }
 },
 "nbformat": 4,
 "nbformat_minor": 5
}
