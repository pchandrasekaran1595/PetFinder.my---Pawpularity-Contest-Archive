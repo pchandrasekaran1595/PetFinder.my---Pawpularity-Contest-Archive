{
 "cells": [
  {
   "cell_type": "markdown",
   "id": "8fd95eb7",
   "metadata": {
    "_cell_guid": "b1076dfc-b9ad-4769-8c92-a6c4dae69d19",
    "_uuid": "8f2839f25d086af736a60e9eeb907d3b93b6e0e5",
    "papermill": {
     "duration": 0.010239,
     "end_time": "2021-10-04T19:51:46.143419",
     "exception": false,
     "start_time": "2021-10-04T19:51:46.133180",
     "status": "completed"
    },
    "tags": []
   },
   "source": [
    "## Library Imports"
   ]
  },
  {
   "cell_type": "code",
   "execution_count": 1,
   "id": "0f6b2f9e",
   "metadata": {
    "execution": {
     "iopub.execute_input": "2021-10-04T19:51:46.241420Z",
     "iopub.status.busy": "2021-10-04T19:51:46.236551Z",
     "iopub.status.idle": "2021-10-04T19:51:46.244987Z",
     "shell.execute_reply": "2021-10-04T19:51:46.244469Z",
     "shell.execute_reply.started": "2021-10-04T19:39:26.238150Z"
    },
    "papermill": {
     "duration": 0.09235,
     "end_time": "2021-10-04T19:51:46.245154",
     "exception": false,
     "start_time": "2021-10-04T19:51:46.152804",
     "status": "completed"
    },
    "tags": []
   },
   "outputs": [],
   "source": [
    "from time import time\n",
    "notebook_start_time = time()"
   ]
  },
  {
   "cell_type": "code",
   "execution_count": 2,
   "id": "d63ab0ca",
   "metadata": {
    "execution": {
     "iopub.execute_input": "2021-10-04T19:51:46.269269Z",
     "iopub.status.busy": "2021-10-04T19:51:46.268691Z",
     "iopub.status.idle": "2021-10-04T19:51:51.623442Z",
     "shell.execute_reply": "2021-10-04T19:51:51.622558Z",
     "shell.execute_reply.started": "2021-10-04T19:40:47.143353Z"
    },
    "papermill": {
     "duration": 5.369084,
     "end_time": "2021-10-04T19:51:51.623586",
     "exception": false,
     "start_time": "2021-10-04T19:51:46.254502",
     "status": "completed"
    },
    "tags": []
   },
   "outputs": [],
   "source": [
    "import os\n",
    "import re\n",
    "import cv2\n",
    "import numpy as np\n",
    "import pandas as pd\n",
    "import matplotlib.pyplot as plt\n",
    "\n",
    "import torch\n",
    "from torch import nn, optim\n",
    "from torch.utils.data import Dataset\n",
    "from torch.utils.data import DataLoader as DL\n",
    "from torch.nn.utils import weight_norm as WN\n",
    "from torchvision import models, transforms\n",
    "\n",
    "from sklearn.model_selection import KFold\n",
    "from sklearn.metrics import mean_squared_error\n",
    "from sklearn.preprocessing import StandardScaler"
   ]
  },
  {
   "cell_type": "code",
   "execution_count": 3,
   "id": "5e3ffda1",
   "metadata": {
    "execution": {
     "iopub.execute_input": "2021-10-04T19:51:51.690145Z",
     "iopub.status.busy": "2021-10-04T19:51:51.689577Z",
     "iopub.status.idle": "2021-10-04T19:51:51.693227Z",
     "shell.execute_reply": "2021-10-04T19:51:51.692816Z",
     "shell.execute_reply.started": "2021-10-04T19:39:28.417207Z"
    },
    "papermill": {
     "duration": 0.060225,
     "end_time": "2021-10-04T19:51:51.693349",
     "exception": false,
     "start_time": "2021-10-04T19:51:51.633124",
     "status": "completed"
    },
    "tags": []
   },
   "outputs": [],
   "source": [
    "SEED = 0\n",
    "DEVICE = torch.device(\"cuda\" if torch.cuda.is_available() else \"cpu\")\n",
    "PATH = \"../input/petfinder-pawpularity-score\"\n",
    "\n",
    "# Pretrained Data Transforms\n",
    "TRANSFORM_PRE = transforms.Compose([transforms.ToTensor(), \n",
    "                                    transforms.Normalize([0.485, 0.456, 0.406],\n",
    "                                                         [0.229, 0.224, 0.225]),\n",
    "                                   ])\n",
    "\n",
    "# Non-pretrained Data Transforms\n",
    "TRANSFORM_NOPRE = transforms.Compose([transforms.ToTensor(),])\n",
    "\n",
    "sc_y = StandardScaler()"
   ]
  },
  {
   "cell_type": "code",
   "execution_count": 4,
   "id": "226ca3bb",
   "metadata": {
    "execution": {
     "iopub.execute_input": "2021-10-04T19:51:51.723188Z",
     "iopub.status.busy": "2021-10-04T19:51:51.718668Z",
     "iopub.status.idle": "2021-10-04T19:51:51.725054Z",
     "shell.execute_reply": "2021-10-04T19:51:51.725447Z",
     "shell.execute_reply.started": "2021-10-04T19:43:33.788269Z"
    },
    "papermill": {
     "duration": 0.023016,
     "end_time": "2021-10-04T19:51:51.725563",
     "exception": false,
     "start_time": "2021-10-04T19:51:51.702547",
     "status": "completed"
    },
    "tags": []
   },
   "outputs": [],
   "source": [
    "def breaker(num=50, char=\"*\") -> None:\n",
    "    print(\"\\n\" + num*char + \"\\n\")\n",
    "\n",
    "\n",
    "def head(x, no_of_ele=5) -> None:\n",
    "    print(x[:no_of_ele])\n",
    "\n",
    "\n",
    "def get_filenames_and_targets(path: str) -> tuple:\n",
    "    df = pd.read_csv(os.path.join(path, \"train.csv\"), engine=\"python\")\n",
    "    filenames = df.iloc[:, 0].copy().values\n",
    "    targets  = df.iloc[:, -1].copy().values\n",
    "    return filenames, targets\n",
    "\n",
    "\n",
    "def get_filenames(path: str) -> np.ndarray:\n",
    "    df = pd.read_csv(os.path.join(path, \"test.csv\"), engine=\"python\")\n",
    "    filenames  = df[\"Id\"].copy().values\n",
    "    return filenames\n",
    "\n",
    "\n",
    "def get_image(path: str, name: str, size: int) -> np.ndarray:\n",
    "    image = cv2.imread(os.path.join(path, name + \".jpg\"), cv2.IMREAD_COLOR)\n",
    "    image = cv2.cvtColor(src=image, code=cv2.COLOR_BGR2RGB)\n",
    "    image = cv2.resize(src=image, dsize=(size, size), interpolation=cv2.INTER_AREA)\n",
    "    return image\n",
    "\n",
    "\n",
    "def setup_transform(filenames: np.ndarray, targets: np.ndarray, seed: int) -> None:\n",
    "    breaker()\n",
    "    print(\"Setting up Data Transform ...\")\n",
    "    \n",
    "    for tr_idx, va_idx in KFold(n_splits=5, shuffle=True, random_state=seed).split(filenames):\n",
    "        break\n",
    "    \n",
    "    tr_targets = targets[tr_idx]\n",
    "    tr_targets = tr_targets.reshape(-1, 1)\n",
    "    tr_targets = sc_y.fit_transform(tr_targets)\n",
    "\n",
    "\n",
    "def make_submission(path: str, y_pred: np.ndarray) -> None:\n",
    "    submission = pd.read_csv(os.path.join(path, \"sample_submission.csv\"), engine=\"python\")\n",
    "    submission[\"Pawpularity\"] = y_pred\n",
    "    submission.to_csv(\"./submission.csv\", index=False)"
   ]
  },
  {
   "cell_type": "markdown",
   "id": "59a610af",
   "metadata": {
    "papermill": {
     "duration": 0.008865,
     "end_time": "2021-10-04T19:51:51.743411",
     "exception": false,
     "start_time": "2021-10-04T19:51:51.734546",
     "status": "completed"
    },
    "tags": []
   },
   "source": [
    "## Dataset Template"
   ]
  },
  {
   "cell_type": "code",
   "execution_count": 5,
   "id": "778d16ab",
   "metadata": {
    "execution": {
     "iopub.execute_input": "2021-10-04T19:51:51.767302Z",
     "iopub.status.busy": "2021-10-04T19:51:51.763962Z",
     "iopub.status.idle": "2021-10-04T19:51:51.769233Z",
     "shell.execute_reply": "2021-10-04T19:51:51.769660Z",
     "shell.execute_reply.started": "2021-10-04T19:43:34.092122Z"
    },
    "papermill": {
     "duration": 0.017349,
     "end_time": "2021-10-04T19:51:51.769770",
     "exception": false,
     "start_time": "2021-10-04T19:51:51.752421",
     "status": "completed"
    },
    "tags": []
   },
   "outputs": [],
   "source": [
    "class DS(Dataset):\n",
    "    def __init__(self, base_path=None, filenames=None, image_size=None, transform=None):\n",
    "        self.base_path = base_path\n",
    "        self.filenames = filenames\n",
    "        self.image_size = image_size\n",
    "        self.transform = transform\n",
    "    \n",
    "    def __len__(self):\n",
    "        return self.filenames.shape[0]\n",
    "    \n",
    "    def __getitem__(self, idx):\n",
    "        image = get_image(self.base_path, self.filenames[idx], self.image_size)\n",
    "        return self.transform(image)"
   ]
  },
  {
   "cell_type": "markdown",
   "id": "208951ab",
   "metadata": {
    "papermill": {
     "duration": 0.008864,
     "end_time": "2021-10-04T19:51:51.787621",
     "exception": false,
     "start_time": "2021-10-04T19:51:51.778757",
     "status": "completed"
    },
    "tags": []
   },
   "source": [
    "## Build Model"
   ]
  },
  {
   "cell_type": "code",
   "execution_count": 6,
   "id": "80dc85dc",
   "metadata": {
    "execution": {
     "iopub.execute_input": "2021-10-04T19:51:51.808756Z",
     "iopub.status.busy": "2021-10-04T19:51:51.807918Z",
     "iopub.status.idle": "2021-10-04T19:51:51.838286Z",
     "shell.execute_reply": "2021-10-04T19:51:51.838676Z",
     "shell.execute_reply.started": "2021-10-04T19:43:34.428289Z"
    },
    "papermill": {
     "duration": 0.042149,
     "end_time": "2021-10-04T19:51:51.838797",
     "exception": false,
     "start_time": "2021-10-04T19:51:51.796648",
     "status": "completed"
    },
    "tags": []
   },
   "outputs": [],
   "source": [
    "def build_model(model_name: str, pretrained: bool, HL: list, seed: int):\n",
    "    class ImageModel(nn.Module):\n",
    "        def __init__(self, model_name=None, pretrained=False, HL=None):\n",
    "            super(ImageModel, self).__init__()\n",
    "\n",
    "            if re.match(r\"^resnet$\", model_name, re.IGNORECASE):\n",
    "                self.features = models.resnet50(pretrained=pretrained, progress=True)\n",
    "                if pretrained:\n",
    "                    self.freeze()\n",
    "                self.features = nn.Sequential(*[*self.features.children()][:-1])\n",
    "                self.features.add_module(\"Flatten\", nn.Flatten())\n",
    "\n",
    "                in_features = self.features[-3][2].bn3.num_features\n",
    "\n",
    "\n",
    "            elif re.match(r\"^vgg$\", model_name, re.IGNORECASE):\n",
    "                self.features = models.vgg16_bn(pretrained=pretrained, progress=True)\n",
    "                if pretrained:\n",
    "                    self.freeze()\n",
    "                self.features = nn.Sequential(*[*self.features.children()][:-2])\n",
    "                self.features.add_module(\"Adaptive Average Pool\", nn.AdaptiveAvgPool2d(output_size=(2, 2)))\n",
    "                self.features.add_module(\"Flatten\", nn.Flatten())\n",
    "\n",
    "                in_features = self.features[-3][41].num_features * 2 * 2\n",
    "\n",
    "\n",
    "            elif re.match(r\"^mobilenet$\", model_name, re.IGNORECASE):\n",
    "                self.features = models.mobilenet_v2(pretrained=pretrained, progress=True)\n",
    "                if pretrained:\n",
    "                    self.freeze()\n",
    "                self.features = nn.Sequential(*[*self.features.children()][:-1])\n",
    "                self.features.add_module(\"Adaptive Average Pool\", nn.AdaptiveAvgPool2d(output_size=(1, 1)))\n",
    "                self.features.add_module(\"Flatten\", nn.Flatten())\n",
    "\n",
    "                in_features = self.features[-3][-1][1].num_features\n",
    "\n",
    "\n",
    "            elif re.match(r\"^densenet$\", model_name, re.IGNORECASE):\n",
    "                self.features = models.densenet169(pretrained=pretrained, progress=True)\n",
    "                if pretrained:\n",
    "                    self.freeze()\n",
    "                self.features = nn.Sequential(*[*self.features.children()][:-1])\n",
    "                self.features.add_module(\"Adaptive Average Pool\", nn.AdaptiveAvgPool2d(output_size=(1, 1)))\n",
    "                self.features.add_module(\"Flatten\", nn.Flatten())\n",
    "\n",
    "                in_features = self.features[0].norm5.num_features\n",
    "\n",
    "            self.predictor = nn.Sequential()\n",
    "            if len(HL) == 0:\n",
    "                self.predictor.add_module(\"BN1\", nn.BatchNorm1d(num_features=in_features, eps=1e-5))\n",
    "                self.predictor.add_module(\"FC1\", WN(nn.Linear(in_features=in_features, out_features=1)))\n",
    "            elif len(HL) == 1:\n",
    "                self.predictor.add_module(\"BN1\", nn.BatchNorm1d(num_features=in_features, eps=1e-5))\n",
    "                self.predictor.add_module(\"FC1\", WN(nn.Linear(in_features=in_features, out_features=HL[0])))\n",
    "                self.predictor.add_module(\"AN1\", nn.ReLU())\n",
    "                self.predictor.add_module(\"BN2\", nn.BatchNorm1d(num_features=HL[0], eps=1e-5))\n",
    "                self.predictor.add_module(\"FC2\", WN(nn.Linear(in_features=HL[0], out_features=1)))\n",
    "            elif len(HL) == 2:\n",
    "                self.predictor.add_module(\"BN1\", nn.BatchNorm1d(num_features=in_features, eps=1e-5))\n",
    "                self.predictor.add_module(\"FC1\", WN(nn.Linear(in_features=in_features, out_features=HL[0])))\n",
    "                self.predictor.add_module(\"AN1\", nn.ReLU())\n",
    "                self.predictor.add_module(\"BN2\", nn.BatchNorm1d(num_features=HL[0], eps=1e-5))\n",
    "                self.predictor.add_module(\"FC2\", WN(nn.Linear(in_features=HL[0], out_features=HL[1])))\n",
    "                self.predictor.add_module(\"AN2\", nn.ReLU())\n",
    "                self.predictor.add_module(\"BN3\", nn.BatchNorm1d(num_features=HL[1], eps=1e-5))\n",
    "                self.predictor.add_module(\"FC3\", WN(nn.Linear(in_features=HL[1], out_features=1)))\n",
    "            elif len(HL) == 3:\n",
    "                self.predictor.add_module(\"BN1\", nn.BatchNorm1d(num_features=in_features, eps=1e-5))\n",
    "                self.predictor.add_module(\"FC1\", WN(nn.Linear(in_features=in_features, out_features=HL[0])))\n",
    "                self.predictor.add_module(\"AN1\", nn.ReLU())\n",
    "                self.predictor.add_module(\"BN2\", nn.BatchNorm1d(num_features=HL[0], eps=1e-5))\n",
    "                self.predictor.add_module(\"FC2\", WN(nn.Linear(in_features=HL[0], out_features=HL[1])))\n",
    "                self.predictor.add_module(\"AN2\", nn.ReLU())\n",
    "                self.predictor.add_module(\"BN3\", nn.BatchNorm1d(num_features=HL[1], eps=1e-5))\n",
    "                self.predictor.add_module(\"FC3\", WN(nn.Linear(in_features=HL[1], out_features=HL[2])))\n",
    "                self.predictor.add_module(\"AN3\", nn.ReLU())\n",
    "                self.predictor.add_module(\"BN4\", nn.BatchNorm1d(num_features=HL[2], eps=1e-5))\n",
    "                self.predictor.add_module(\"FC4\", WN(nn.Linear(in_features=HL[2], out_features=1)))\n",
    "\n",
    "        def freeze(self):\n",
    "            for params in self.parameters():\n",
    "                params.requires_grad = False\n",
    "\n",
    "        def get_optimizer(self, lr=1e-3, wd=0):\n",
    "            params = [p for p in self.parameters() if p.requires_grad]\n",
    "            return optim.Adam(params, lr=lr, weight_decay=wd)\n",
    "\n",
    "        def get_plateau_scheduler(self, optimizer=None, patience=5, eps=1e-8):\n",
    "            return optim.lr_scheduler.ReduceLROnPlateau(optimizer=optimizer, patience=patience, eps=eps, verbose=True)\n",
    "\n",
    "        def forward(self, x):\n",
    "            return self.predictor(self.features(x))\n",
    "    \n",
    "    breaker()\n",
    "    print(\"Building Model ...\")\n",
    "    print(\"\\n{} features -> {} -> 1\".format(model_name, HL))\n",
    "    torch.manual_seed(seed)\n",
    "    model = ImageModel(model_name=model_name, pretrained=pretrained, HL=HL)\n",
    "    \n",
    "    return model"
   ]
  },
  {
   "cell_type": "markdown",
   "id": "4bc7854b",
   "metadata": {
    "papermill": {
     "duration": 0.009351,
     "end_time": "2021-10-04T19:51:51.857358",
     "exception": false,
     "start_time": "2021-10-04T19:51:51.848007",
     "status": "completed"
    },
    "tags": []
   },
   "source": [
    "## Predict Helper"
   ]
  },
  {
   "cell_type": "code",
   "execution_count": 7,
   "id": "4facab18",
   "metadata": {
    "execution": {
     "iopub.execute_input": "2021-10-04T19:51:51.884774Z",
     "iopub.status.busy": "2021-10-04T19:51:51.884018Z",
     "iopub.status.idle": "2021-10-04T19:51:51.885987Z",
     "shell.execute_reply": "2021-10-04T19:51:51.886404Z",
     "shell.execute_reply.started": "2021-10-04T19:43:34.683001Z"
    },
    "papermill": {
     "duration": 0.019022,
     "end_time": "2021-10-04T19:51:51.886516",
     "exception": false,
     "start_time": "2021-10-04T19:51:51.867494",
     "status": "completed"
    },
    "tags": []
   },
   "outputs": [],
   "source": [
    "def predict_batch(model=None, dataloader=None, mode=\"test\", path=None):\n",
    "    model.load_state_dict(torch.load(path, map_location=DEVICE)[\"model_state_dict\"])\n",
    "    model.to(DEVICE)\n",
    "    model.eval()\n",
    "\n",
    "    y_pred = torch.zeros(1, 1).to(DEVICE)\n",
    "    if re.match(r\"valid\", mode, re.IGNORECASE):\n",
    "        for X, _ in dataloader:\n",
    "            X = X.to(DEVICE)\n",
    "            with torch.no_grad():\n",
    "                output = model(X)\n",
    "            y_pred = torch.cat((y_pred, output.view(-1, 1)), dim=0)\n",
    "    elif re.match(r\"test\", mode, re.IGNORECASE):\n",
    "        for X in dataloader:\n",
    "            X = X.to(DEVICE)\n",
    "            with torch.no_grad():\n",
    "                output = model(X)\n",
    "            y_pred = torch.cat((y_pred, output.view(-1, 1)), dim=0)\n",
    "    \n",
    "    return y_pred[1:].detach().cpu().numpy()"
   ]
  },
  {
   "cell_type": "markdown",
   "id": "67c718a7",
   "metadata": {
    "papermill": {
     "duration": 0.00889,
     "end_time": "2021-10-04T19:51:51.904583",
     "exception": false,
     "start_time": "2021-10-04T19:51:51.895693",
     "status": "completed"
    },
    "tags": []
   },
   "source": [
    "## Generate Submission"
   ]
  },
  {
   "cell_type": "code",
   "execution_count": 8,
   "id": "08da7a29",
   "metadata": {
    "execution": {
     "iopub.execute_input": "2021-10-04T19:51:51.925633Z",
     "iopub.status.busy": "2021-10-04T19:51:51.924830Z",
     "iopub.status.idle": "2021-10-04T19:51:59.824687Z",
     "shell.execute_reply": "2021-10-04T19:51:59.824026Z",
     "shell.execute_reply.started": "2021-10-04T19:44:37.083002Z"
    },
    "papermill": {
     "duration": 7.911147,
     "end_time": "2021-10-04T19:51:59.824855",
     "exception": false,
     "start_time": "2021-10-04T19:51:51.913708",
     "status": "completed"
    },
    "tags": []
   },
   "outputs": [
    {
     "name": "stdout",
     "output_type": "stream",
     "text": [
      "\n",
      "**************************************************\n",
      "\n",
      "Reading Filenames ...\n",
      "\n",
      "**************************************************\n",
      "\n",
      "Building Test DataLoader ...\n",
      "\n",
      "**************************************************\n",
      "\n",
      "Building Model ...\n",
      "\n",
      "densenet features -> [] -> 1\n",
      "\n",
      "**************************************************\n",
      "\n",
      "Making Predictions ...\n",
      "\n",
      "**************************************************\n",
      "\n",
      "Setting up Data Transform ...\n",
      "\n",
      "**************************************************\n",
      "\n",
      "Transforming Final Predictions ...\n",
      "\n",
      "**************************************************\n",
      "\n",
      "Saving Predictions to a .npy File ...\n",
      "\n",
      "**************************************************\n",
      "\n",
      "Generating Submission File ...\n",
      "\n",
      "**************************************************\n",
      "\n"
     ]
    }
   ],
   "source": [
    "def submit():\n",
    "    breaker()\n",
    "    print(\"Reading Filenames ...\")\n",
    "    \n",
    "    filenames = get_filenames(PATH)\n",
    "    tr_filenames, tr_targets = get_filenames_and_targets(PATH)\n",
    "    \n",
    "    breaker()\n",
    "    print(\"Building Test DataLoader ...\")\n",
    "    \n",
    "    ts_data_setup = DS(base_path=os.path.join(PATH, \"test\"), \n",
    "                       filenames=filenames,\n",
    "                       image_size=224,\n",
    "                       transform=TRANSFORM_PRE)\n",
    "    ts_data = DL(ts_data_setup, batch_size=64, shuffle=False)\n",
    "    \n",
    "    model = build_model(model_name=\"densenet\", pretrained=False, HL=[], seed=SEED)\n",
    "    \n",
    "    breaker()\n",
    "    print(\"Making Predictions ...\")\n",
    "    \n",
    "    y_pred = predict_batch(model=model, dataloader=ts_data, mode=\"test\", \n",
    "                           path=\"../input/petfinder-images-baseline-train/densenet_state.pt\")\n",
    "    setup_transform(tr_filenames, tr_targets, SEED)\n",
    "    \n",
    "    breaker()\n",
    "    print(\"Transforming Final Predictions ...\")\n",
    "    y_pred = sc_y.inverse_transform(y_pred)\n",
    "    \n",
    "    breaker()\n",
    "    print(\"Saving Predictions to a .npy File ...\")\n",
    "    np.save(\"./densenet_model_predictions.npy\", y_pred)\n",
    "    \n",
    "    breaker()\n",
    "    print(\"Generating Submission File ...\")\n",
    "    make_submission(PATH, y_pred)\n",
    "    breaker()\n",
    "\n",
    "submit()"
   ]
  },
  {
   "cell_type": "code",
   "execution_count": 9,
   "id": "aacb416f",
   "metadata": {
    "execution": {
     "iopub.execute_input": "2021-10-04T19:51:59.850166Z",
     "iopub.status.busy": "2021-10-04T19:51:59.849582Z",
     "iopub.status.idle": "2021-10-04T19:51:59.853469Z",
     "shell.execute_reply": "2021-10-04T19:51:59.853830Z",
     "shell.execute_reply.started": "2021-10-04T19:43:36.444096Z"
    },
    "papermill": {
     "duration": 0.018505,
     "end_time": "2021-10-04T19:51:59.853952",
     "exception": false,
     "start_time": "2021-10-04T19:51:59.835447",
     "status": "completed"
    },
    "tags": []
   },
   "outputs": [
    {
     "name": "stdout",
     "output_type": "stream",
     "text": [
      "\n",
      "**************************************************\n",
      "\n",
      "Notebook Run Time : 0.23 minutes\n",
      "\n",
      "**************************************************\n",
      "\n"
     ]
    }
   ],
   "source": [
    "breaker()\n",
    "print(\"Notebook Run Time : {:.2f} minutes\".format((time()-notebook_start_time)/60))\n",
    "breaker()"
   ]
  }
 ],
 "metadata": {
  "kernelspec": {
   "display_name": "Python 3",
   "language": "python",
   "name": "python3"
  },
  "language_info": {
   "codemirror_mode": {
    "name": "ipython",
    "version": 3
   },
   "file_extension": ".py",
   "mimetype": "text/x-python",
   "name": "python",
   "nbconvert_exporter": "python",
   "pygments_lexer": "ipython3",
   "version": "3.7.10"
  },
  "papermill": {
   "default_parameters": {},
   "duration": 21.615437,
   "end_time": "2021-10-04T19:52:01.321446",
   "environment_variables": {},
   "exception": null,
   "input_path": "__notebook__.ipynb",
   "output_path": "__notebook__.ipynb",
   "parameters": {},
   "start_time": "2021-10-04T19:51:39.706009",
   "version": "2.3.3"
  }
 },
 "nbformat": 4,
 "nbformat_minor": 5
}
