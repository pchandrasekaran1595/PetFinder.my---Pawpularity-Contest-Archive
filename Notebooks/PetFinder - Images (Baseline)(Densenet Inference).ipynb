{
 "cells": [
  {
   "cell_type": "markdown",
   "id": "0544bcb4",
   "metadata": {
    "_cell_guid": "b1076dfc-b9ad-4769-8c92-a6c4dae69d19",
    "_uuid": "8f2839f25d086af736a60e9eeb907d3b93b6e0e5",
    "papermill": {
     "duration": 0.013456,
     "end_time": "2021-10-04T19:45:19.997024",
     "exception": false,
     "start_time": "2021-10-04T19:45:19.983568",
     "status": "completed"
    },
    "tags": []
   },
   "source": [
    "## Library Imports"
   ]
  },
  {
   "cell_type": "code",
   "execution_count": 1,
   "id": "fb6c3797",
   "metadata": {
    "execution": {
     "iopub.execute_input": "2021-10-04T19:45:20.036726Z",
     "iopub.status.busy": "2021-10-04T19:45:20.035875Z",
     "iopub.status.idle": "2021-10-04T19:45:20.040706Z",
     "shell.execute_reply": "2021-10-04T19:45:20.040001Z",
     "shell.execute_reply.started": "2021-10-04T19:39:26.238150Z"
    },
    "papermill": {
     "duration": 0.027698,
     "end_time": "2021-10-04T19:45:20.040870",
     "exception": false,
     "start_time": "2021-10-04T19:45:20.013172",
     "status": "completed"
    },
    "tags": []
   },
   "outputs": [],
   "source": [
    "from time import time\n",
    "notebook_start_time = time()"
   ]
  },
  {
   "cell_type": "code",
   "execution_count": 2,
   "id": "88ecbc34",
   "metadata": {
    "execution": {
     "iopub.execute_input": "2021-10-04T19:45:20.063826Z",
     "iopub.status.busy": "2021-10-04T19:45:20.061170Z",
     "iopub.status.idle": "2021-10-04T19:45:22.309330Z",
     "shell.execute_reply": "2021-10-04T19:45:22.309745Z",
     "shell.execute_reply.started": "2021-10-04T19:40:47.143353Z"
    },
    "papermill": {
     "duration": 2.260435,
     "end_time": "2021-10-04T19:45:22.309924",
     "exception": false,
     "start_time": "2021-10-04T19:45:20.049489",
     "status": "completed"
    },
    "tags": []
   },
   "outputs": [],
   "source": [
    "import os\n",
    "import re\n",
    "import cv2\n",
    "import numpy as np\n",
    "import pandas as pd\n",
    "import matplotlib.pyplot as plt\n",
    "\n",
    "import torch\n",
    "from torch import nn, optim\n",
    "from torch.utils.data import Dataset\n",
    "from torch.utils.data import DataLoader as DL\n",
    "from torch.nn.utils import weight_norm as WN\n",
    "from torchvision import models, transforms\n",
    "\n",
    "from sklearn.model_selection import KFold\n",
    "from sklearn.metrics import mean_squared_error\n",
    "from sklearn.preprocessing import StandardScaler"
   ]
  },
  {
   "cell_type": "code",
   "execution_count": 3,
   "id": "9179532e",
   "metadata": {
    "execution": {
     "iopub.execute_input": "2021-10-04T19:45:22.330036Z",
     "iopub.status.busy": "2021-10-04T19:45:22.329192Z",
     "iopub.status.idle": "2021-10-04T19:45:22.334534Z",
     "shell.execute_reply": "2021-10-04T19:45:22.334898Z",
     "shell.execute_reply.started": "2021-10-04T19:39:28.417207Z"
    },
    "papermill": {
     "duration": 0.016812,
     "end_time": "2021-10-04T19:45:22.335091",
     "exception": false,
     "start_time": "2021-10-04T19:45:22.318279",
     "status": "completed"
    },
    "tags": []
   },
   "outputs": [],
   "source": [
    "SEED = 0\n",
    "DEVICE = torch.device(\"cuda\" if torch.cuda.is_available() else \"cpu\")\n",
    "PATH = \"../input/petfinder-pawpularity-score\"\n",
    "\n",
    "# Pretrained Data Transforms\n",
    "TRANSFORM_PRE = transforms.Compose([transforms.ToTensor(), \n",
    "                                    transforms.Normalize([0.485, 0.456, 0.406],\n",
    "                                                         [0.229, 0.224, 0.225]),\n",
    "                                   ])\n",
    "\n",
    "# Non-pretrained Data Transforms\n",
    "TRANSFORM_NOPRE = transforms.Compose([transforms.ToTensor(),])\n",
    "\n",
    "sc_y = StandardScaler()"
   ]
  },
  {
   "cell_type": "code",
   "execution_count": 4,
   "id": "6b7b033a",
   "metadata": {
    "execution": {
     "iopub.execute_input": "2021-10-04T19:45:22.354845Z",
     "iopub.status.busy": "2021-10-04T19:45:22.354003Z",
     "iopub.status.idle": "2021-10-04T19:45:22.365797Z",
     "shell.execute_reply": "2021-10-04T19:45:22.366288Z",
     "shell.execute_reply.started": "2021-10-04T19:43:33.788269Z"
    },
    "papermill": {
     "duration": 0.023228,
     "end_time": "2021-10-04T19:45:22.366449",
     "exception": false,
     "start_time": "2021-10-04T19:45:22.343221",
     "status": "completed"
    },
    "tags": []
   },
   "outputs": [],
   "source": [
    "def breaker(num=50, char=\"*\") -> None:\n",
    "    print(\"\\n\" + num*char + \"\\n\")\n",
    "\n",
    "\n",
    "def head(x, no_of_ele=5) -> None:\n",
    "    print(x[:no_of_ele])\n",
    "\n",
    "\n",
    "def get_filenames_and_targets(path: str) -> tuple:\n",
    "    df = pd.read_csv(os.path.join(path, \"train.csv\"), engine=\"python\")\n",
    "    filenames = df.iloc[:, 0].copy().values\n",
    "    targets  = df.iloc[:, -1].copy().values\n",
    "    return filenames, targets\n",
    "\n",
    "\n",
    "def get_filenames(path: str) -> np.ndarray:\n",
    "    df = pd.read_csv(os.path.join(path, \"test.csv\"), engine=\"python\")\n",
    "    filenames  = df[\"Id\"].copy().values\n",
    "    return filenames\n",
    "\n",
    "\n",
    "def get_image(path: str, name: str, size: int) -> np.ndarray:\n",
    "    image = cv2.imread(os.path.join(path, name + \".jpg\"), cv2.IMREAD_COLOR)\n",
    "    image = cv2.cvtColor(src=image, code=cv2.COLOR_BGR2RGB)\n",
    "    image = cv2.resize(src=image, dsize=(size, size), interpolation=cv2.INTER_AREA)\n",
    "    return image\n",
    "\n",
    "\n",
    "def setup_transform(filenames: np.ndarray, targets: np.ndarray, seed: int) -> None:\n",
    "    breaker()\n",
    "    print(\"Setting up Data Transform ...\")\n",
    "    \n",
    "    for tr_idx, va_idx in KFold(n_splits=5, shuffle=True, random_state=seed).split(filenames):\n",
    "        break\n",
    "    \n",
    "    tr_targets = targets[tr_idx]\n",
    "    tr_targets = tr_targets.reshape(-1, 1)\n",
    "    tr_targets = sc_y.fit_transform(tr_targets)\n",
    "\n",
    "\n",
    "def make_submission(path: str, y_pred: np.ndarray) -> None:\n",
    "    submission = pd.read_csv(os.path.join(path, \"sample_submission.csv\"), engine=\"python\")\n",
    "    submission[\"Pawpularity\"] = y_pred\n",
    "    submission.to_csv(\"./submission.csv\", index=False)"
   ]
  },
  {
   "cell_type": "markdown",
   "id": "dd24f65b",
   "metadata": {
    "papermill": {
     "duration": 0.008296,
     "end_time": "2021-10-04T19:45:22.382932",
     "exception": false,
     "start_time": "2021-10-04T19:45:22.374636",
     "status": "completed"
    },
    "tags": []
   },
   "source": [
    "## Dataset Template"
   ]
  },
  {
   "cell_type": "code",
   "execution_count": 5,
   "id": "daf0daf4",
   "metadata": {
    "execution": {
     "iopub.execute_input": "2021-10-04T19:45:22.407861Z",
     "iopub.status.busy": "2021-10-04T19:45:22.407003Z",
     "iopub.status.idle": "2021-10-04T19:45:22.415875Z",
     "shell.execute_reply": "2021-10-04T19:45:22.415119Z",
     "shell.execute_reply.started": "2021-10-04T19:43:34.092122Z"
    },
    "papermill": {
     "duration": 0.021045,
     "end_time": "2021-10-04T19:45:22.416122",
     "exception": false,
     "start_time": "2021-10-04T19:45:22.395077",
     "status": "completed"
    },
    "tags": []
   },
   "outputs": [],
   "source": [
    "class DS(Dataset):\n",
    "    def __init__(self, base_path=None, filenames=None, image_size=None, transform=None):\n",
    "        self.base_path = base_path\n",
    "        self.filenames = filenames\n",
    "        self.image_size = image_size\n",
    "        self.transform = transform\n",
    "    \n",
    "    def __len__(self):\n",
    "        return self.filenames.shape[0]\n",
    "    \n",
    "    def __getitem__(self, idx):\n",
    "        image = get_image(self.base_path, self.filenames[idx], self.image_size)\n",
    "        return self.transform(image)"
   ]
  },
  {
   "cell_type": "markdown",
   "id": "26d20fa0",
   "metadata": {
    "papermill": {
     "duration": 0.013855,
     "end_time": "2021-10-04T19:45:22.441559",
     "exception": false,
     "start_time": "2021-10-04T19:45:22.427704",
     "status": "completed"
    },
    "tags": []
   },
   "source": [
    "## Build Model"
   ]
  },
  {
   "cell_type": "code",
   "execution_count": 6,
   "id": "602f4d28",
   "metadata": {
    "execution": {
     "iopub.execute_input": "2021-10-04T19:45:22.489905Z",
     "iopub.status.busy": "2021-10-04T19:45:22.479126Z",
     "iopub.status.idle": "2021-10-04T19:45:22.511344Z",
     "shell.execute_reply": "2021-10-04T19:45:22.511821Z",
     "shell.execute_reply.started": "2021-10-04T19:43:34.428289Z"
    },
    "papermill": {
     "duration": 0.058856,
     "end_time": "2021-10-04T19:45:22.512009",
     "exception": false,
     "start_time": "2021-10-04T19:45:22.453153",
     "status": "completed"
    },
    "tags": []
   },
   "outputs": [],
   "source": [
    "def build_model(model_name: str, pretrained: bool, HL: list, seed: int):\n",
    "    class ImageModel(nn.Module):\n",
    "        def __init__(self, model_name=None, pretrained=False, HL=None):\n",
    "            super(ImageModel, self).__init__()\n",
    "\n",
    "            if re.match(r\"^resnet$\", model_name, re.IGNORECASE):\n",
    "                self.features = models.resnet50(pretrained=pretrained, progress=True)\n",
    "                if pretrained:\n",
    "                    self.freeze()\n",
    "                self.features = nn.Sequential(*[*self.features.children()][:-1])\n",
    "                self.features.add_module(\"Flatten\", nn.Flatten())\n",
    "\n",
    "                in_features = self.features[-3][2].bn3.num_features\n",
    "\n",
    "\n",
    "            elif re.match(r\"^vgg$\", model_name, re.IGNORECASE):\n",
    "                self.features = models.vgg16_bn(pretrained=pretrained, progress=True)\n",
    "                if pretrained:\n",
    "                    self.freeze()\n",
    "                self.features = nn.Sequential(*[*self.features.children()][:-2])\n",
    "                self.features.add_module(\"Adaptive Average Pool\", nn.AdaptiveAvgPool2d(output_size=(2, 2)))\n",
    "                self.features.add_module(\"Flatten\", nn.Flatten())\n",
    "\n",
    "                in_features = self.features[-3][41].num_features * 2 * 2\n",
    "\n",
    "\n",
    "            elif re.match(r\"^mobilenet$\", model_name, re.IGNORECASE):\n",
    "                self.features = models.mobilenet_v2(pretrained=pretrained, progress=True)\n",
    "                if pretrained:\n",
    "                    self.freeze()\n",
    "                self.features = nn.Sequential(*[*self.features.children()][:-1])\n",
    "                self.features.add_module(\"Adaptive Average Pool\", nn.AdaptiveAvgPool2d(output_size=(1, 1)))\n",
    "                self.features.add_module(\"Flatten\", nn.Flatten())\n",
    "\n",
    "                in_features = self.features[-3][-1][1].num_features\n",
    "\n",
    "\n",
    "            elif re.match(r\"^densenet$\", model_name, re.IGNORECASE):\n",
    "                self.features = models.densenet169(pretrained=pretrained, progress=True)\n",
    "                if pretrained:\n",
    "                    self.freeze()\n",
    "                self.features = nn.Sequential(*[*self.features.children()][:-1])\n",
    "                self.features.add_module(\"Adaptive Average Pool\", nn.AdaptiveAvgPool2d(output_size=(1, 1)))\n",
    "                self.features.add_module(\"Flatten\", nn.Flatten())\n",
    "\n",
    "                in_features = self.features[0].norm5.num_features\n",
    "\n",
    "            self.predictor = nn.Sequential()\n",
    "            if len(HL) == 0:\n",
    "                self.predictor.add_module(\"BN1\", nn.BatchNorm1d(num_features=in_features, eps=1e-5))\n",
    "                self.predictor.add_module(\"FC1\", WN(nn.Linear(in_features=in_features, out_features=1)))\n",
    "            elif len(HL) == 1:\n",
    "                self.predictor.add_module(\"BN1\", nn.BatchNorm1d(num_features=in_features, eps=1e-5))\n",
    "                self.predictor.add_module(\"FC1\", WN(nn.Linear(in_features=in_features, out_features=HL[0])))\n",
    "                self.predictor.add_module(\"AN1\", nn.ReLU())\n",
    "                self.predictor.add_module(\"BN2\", nn.BatchNorm1d(num_features=HL[0], eps=1e-5))\n",
    "                self.predictor.add_module(\"FC2\", WN(nn.Linear(in_features=HL[0], out_features=1)))\n",
    "            elif len(HL) == 2:\n",
    "                self.predictor.add_module(\"BN1\", nn.BatchNorm1d(num_features=in_features, eps=1e-5))\n",
    "                self.predictor.add_module(\"FC1\", WN(nn.Linear(in_features=in_features, out_features=HL[0])))\n",
    "                self.predictor.add_module(\"AN1\", nn.ReLU())\n",
    "                self.predictor.add_module(\"BN2\", nn.BatchNorm1d(num_features=HL[0], eps=1e-5))\n",
    "                self.predictor.add_module(\"FC2\", WN(nn.Linear(in_features=HL[0], out_features=HL[1])))\n",
    "                self.predictor.add_module(\"AN2\", nn.ReLU())\n",
    "                self.predictor.add_module(\"BN3\", nn.BatchNorm1d(num_features=HL[1], eps=1e-5))\n",
    "                self.predictor.add_module(\"FC3\", WN(nn.Linear(in_features=HL[1], out_features=1)))\n",
    "            elif len(HL) == 3:\n",
    "                self.predictor.add_module(\"BN1\", nn.BatchNorm1d(num_features=in_features, eps=1e-5))\n",
    "                self.predictor.add_module(\"FC1\", WN(nn.Linear(in_features=in_features, out_features=HL[0])))\n",
    "                self.predictor.add_module(\"AN1\", nn.ReLU())\n",
    "                self.predictor.add_module(\"BN2\", nn.BatchNorm1d(num_features=HL[0], eps=1e-5))\n",
    "                self.predictor.add_module(\"FC2\", WN(nn.Linear(in_features=HL[0], out_features=HL[1])))\n",
    "                self.predictor.add_module(\"AN2\", nn.ReLU())\n",
    "                self.predictor.add_module(\"BN3\", nn.BatchNorm1d(num_features=HL[1], eps=1e-5))\n",
    "                self.predictor.add_module(\"FC3\", WN(nn.Linear(in_features=HL[1], out_features=HL[2])))\n",
    "                self.predictor.add_module(\"AN3\", nn.ReLU())\n",
    "                self.predictor.add_module(\"BN4\", nn.BatchNorm1d(num_features=HL[2], eps=1e-5))\n",
    "                self.predictor.add_module(\"FC4\", WN(nn.Linear(in_features=HL[2], out_features=1)))\n",
    "\n",
    "        def freeze(self):\n",
    "            for params in self.parameters():\n",
    "                params.requires_grad = False\n",
    "\n",
    "        def get_optimizer(self, lr=1e-3, wd=0):\n",
    "            params = [p for p in self.parameters() if p.requires_grad]\n",
    "            return optim.Adam(params, lr=lr, weight_decay=wd)\n",
    "\n",
    "        def get_plateau_scheduler(self, optimizer=None, patience=5, eps=1e-8):\n",
    "            return optim.lr_scheduler.ReduceLROnPlateau(optimizer=optimizer, patience=patience, eps=eps, verbose=True)\n",
    "\n",
    "        def forward(self, x):\n",
    "            return self.predictor(self.features(x))\n",
    "    \n",
    "    breaker()\n",
    "    print(\"Building Model ...\")\n",
    "    print(\"\\n{} features -> {} -> 1\".format(model_name, HL))\n",
    "    torch.manual_seed(seed)\n",
    "    model = ImageModel(model_name=model_name, pretrained=pretrained, HL=HL)\n",
    "    \n",
    "    return model"
   ]
  },
  {
   "cell_type": "markdown",
   "id": "255dc584",
   "metadata": {
    "papermill": {
     "duration": 0.0081,
     "end_time": "2021-10-04T19:45:22.530961",
     "exception": false,
     "start_time": "2021-10-04T19:45:22.522861",
     "status": "completed"
    },
    "tags": []
   },
   "source": [
    "## Predict Helper"
   ]
  },
  {
   "cell_type": "code",
   "execution_count": 7,
   "id": "dc44dbeb",
   "metadata": {
    "execution": {
     "iopub.execute_input": "2021-10-04T19:45:22.550600Z",
     "iopub.status.busy": "2021-10-04T19:45:22.550037Z",
     "iopub.status.idle": "2021-10-04T19:45:22.557311Z",
     "shell.execute_reply": "2021-10-04T19:45:22.557782Z",
     "shell.execute_reply.started": "2021-10-04T19:43:34.683001Z"
    },
    "papermill": {
     "duration": 0.018945,
     "end_time": "2021-10-04T19:45:22.557939",
     "exception": false,
     "start_time": "2021-10-04T19:45:22.538994",
     "status": "completed"
    },
    "tags": []
   },
   "outputs": [],
   "source": [
    "def predict_batch(model=None, dataloader=None, mode=\"test\", path=None):\n",
    "    model.load_state_dict(torch.load(path, map_location=DEVICE)[\"model_state_dict\"])\n",
    "    model.to(DEVICE)\n",
    "    model.eval()\n",
    "\n",
    "    y_pred = torch.zeros(1, 1).to(DEVICE)\n",
    "    if re.match(r\"valid\", mode, re.IGNORECASE):\n",
    "        for X, _ in dataloader:\n",
    "            X = X.to(DEVICE)\n",
    "            with torch.no_grad():\n",
    "                output = model(X)\n",
    "            y_pred = torch.cat((y_pred, output.view(-1, 1)), dim=0)\n",
    "    elif re.match(r\"test\", mode, re.IGNORECASE):\n",
    "        for X in dataloader:\n",
    "            X = X.to(DEVICE)\n",
    "            with torch.no_grad():\n",
    "                output = model(X)\n",
    "            y_pred = torch.cat((y_pred, output.view(-1, 1)), dim=0)\n",
    "    \n",
    "    return y_pred[1:].detach().cpu().numpy()"
   ]
  },
  {
   "cell_type": "markdown",
   "id": "1d65fa33",
   "metadata": {
    "papermill": {
     "duration": 0.007917,
     "end_time": "2021-10-04T19:45:22.573972",
     "exception": false,
     "start_time": "2021-10-04T19:45:22.566055",
     "status": "completed"
    },
    "tags": []
   },
   "source": [
    "## Generate Submission"
   ]
  },
  {
   "cell_type": "code",
   "execution_count": 8,
   "id": "983d32f9",
   "metadata": {
    "execution": {
     "iopub.execute_input": "2021-10-04T19:45:22.593779Z",
     "iopub.status.busy": "2021-10-04T19:45:22.593259Z",
     "iopub.status.idle": "2021-10-04T19:45:25.956551Z",
     "shell.execute_reply": "2021-10-04T19:45:25.957050Z",
     "shell.execute_reply.started": "2021-10-04T19:44:37.083002Z"
    },
    "papermill": {
     "duration": 3.375078,
     "end_time": "2021-10-04T19:45:25.957219",
     "exception": false,
     "start_time": "2021-10-04T19:45:22.582141",
     "status": "completed"
    },
    "tags": []
   },
   "outputs": [
    {
     "name": "stdout",
     "output_type": "stream",
     "text": [
      "\n",
      "**************************************************\n",
      "\n",
      "Reading Filenames ...\n",
      "\n",
      "**************************************************\n",
      "\n",
      "Building Test DataLoader ...\n",
      "\n",
      "**************************************************\n",
      "\n",
      "Building Model ...\n",
      "\n",
      "densenet features -> [] -> 1\n",
      "\n",
      "**************************************************\n",
      "\n",
      "Making Predictions ...\n",
      "\n",
      "**************************************************\n",
      "\n",
      "Setting up Data Transform ...\n",
      "\n",
      "**************************************************\n",
      "\n",
      "Transforming Final Predictions ...\n",
      "\n",
      "**************************************************\n",
      "\n",
      "Generating Submission File ...\n",
      "\n",
      "**************************************************\n",
      "\n"
     ]
    }
   ],
   "source": [
    "def submit():\n",
    "    breaker()\n",
    "    print(\"Reading Filenames ...\")\n",
    "    \n",
    "    filenames = get_filenames(PATH)\n",
    "    tr_filenames, tr_targets = get_filenames_and_targets(PATH)\n",
    "    \n",
    "    breaker()\n",
    "    print(\"Building Test DataLoader ...\")\n",
    "    \n",
    "    ts_data_setup = DS(base_path=os.path.join(PATH, \"test\"), \n",
    "                       filenames=filenames,\n",
    "                       image_size=224,\n",
    "                       transform=TRANSFORM_PRE)\n",
    "    ts_data = DL(ts_data_setup, batch_size=64, shuffle=False)\n",
    "    \n",
    "    model = build_model(model_name=\"densenet\", pretrained=False, HL=[], seed=SEED)\n",
    "    \n",
    "    breaker()\n",
    "    print(\"Making Predictions ...\")\n",
    "    \n",
    "    y_pred = predict_batch(model=model, dataloader=ts_data, mode=\"test\", \n",
    "                           path=\"../input/petfinder-images-baseline-train/densenet_state.pt\")\n",
    "    setup_transform(tr_filenames, tr_targets, SEED)\n",
    "    \n",
    "    breaker()\n",
    "    print(\"Transforming Final Predictions ...\")\n",
    "    y_pred = sc_y.inverse_transform(y_pred)\n",
    "    \n",
    "    breaker()\n",
    "    print(\"Generating Submission File ...\")\n",
    "    make_submission(PATH, y_pred)\n",
    "    breaker()\n",
    "\n",
    "submit()"
   ]
  },
  {
   "cell_type": "code",
   "execution_count": 9,
   "id": "55e45c7f",
   "metadata": {
    "execution": {
     "iopub.execute_input": "2021-10-04T19:45:25.980373Z",
     "iopub.status.busy": "2021-10-04T19:45:25.979813Z",
     "iopub.status.idle": "2021-10-04T19:45:25.986578Z",
     "shell.execute_reply": "2021-10-04T19:45:25.985934Z",
     "shell.execute_reply.started": "2021-10-04T19:43:36.444096Z"
    },
    "papermill": {
     "duration": 0.019075,
     "end_time": "2021-10-04T19:45:25.986752",
     "exception": false,
     "start_time": "2021-10-04T19:45:25.967677",
     "status": "completed"
    },
    "tags": []
   },
   "outputs": [
    {
     "name": "stdout",
     "output_type": "stream",
     "text": [
      "\n",
      "**************************************************\n",
      "\n",
      "Notebook Run Time : 0.10 minutes\n",
      "\n",
      "**************************************************\n",
      "\n"
     ]
    }
   ],
   "source": [
    "breaker()\n",
    "print(\"Notebook Run Time : {:.2f} minutes\".format((time()-notebook_start_time)/60))\n",
    "breaker()"
   ]
  }
 ],
 "metadata": {
  "kernelspec": {
   "display_name": "Python 3",
   "language": "python",
   "name": "python3"
  },
  "language_info": {
   "codemirror_mode": {
    "name": "ipython",
    "version": 3
   },
   "file_extension": ".py",
   "mimetype": "text/x-python",
   "name": "python",
   "nbconvert_exporter": "python",
   "pygments_lexer": "ipython3",
   "version": "3.7.10"
  },
  "papermill": {
   "default_parameters": {},
   "duration": 13.616614,
   "end_time": "2021-10-04T19:45:26.805991",
   "environment_variables": {},
   "exception": null,
   "input_path": "__notebook__.ipynb",
   "output_path": "__notebook__.ipynb",
   "parameters": {},
   "start_time": "2021-10-04T19:45:13.189377",
   "version": "2.3.3"
  }
 },
 "nbformat": 4,
 "nbformat_minor": 5
}
